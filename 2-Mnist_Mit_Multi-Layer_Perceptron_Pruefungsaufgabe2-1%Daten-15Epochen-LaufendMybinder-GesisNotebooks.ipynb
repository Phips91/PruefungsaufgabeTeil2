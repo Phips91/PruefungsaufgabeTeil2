{
 "cells": [
  {
   "cell_type": "markdown",
   "metadata": {},
   "source": [
    "<a href=\"https://akademie.datamics.com/kursliste/\">![title](bg_datamics_top.png)</a>\n",
    "\n",
    "<center><em>© Datamics</em></center><br><center><em>Besuche uns für mehr Informationen auf <a href='https://akademie.datamics.com/kursliste/'>www.akademie.datamics.com</a></em></center>\n",
    "\n",
    "# MNIST mit Multi-Layer Perceptron\n",
    "\n",
    "In dieser Lektion werden wir ein Multi Layer Perceptron Modell erstellen und versuchen damit handgeschriebenen Zahlen zu klassifizieren. Das ist ein sehr verbreitetes Einsteigerproblem für Tensorflow.\n",
    "\n",
    "Denkt daran, dass eine einzige Lektion niemals ausreichen wird, um Deep Learning und/oder Tensorflow in seiner Komlexität abzudecken!\n",
    "\n",
    "## Die Daten laden\n",
    "\n",
    "Wir werden die berühmten MNIST Daten über [handgeschriebenen Zahlen](http://yann.lecun.com/exdb/mnist/) verwenden.\n",
    "\n",
    "Die Bilder die wir verwenden werden sind schwarz-weiß Bilder der größe 28 x 28, d.h. 784 Pixel insgesamt. Unsere Features werden die Pixelwerte für jeden Pixel sein. Entweder ist der Pixel \"weiß\" (also eine 0 in den Daten) oder er hat einen Pixelwert.\n",
    "\n",
    "Wir werden versuchen korrekt vorherzusagen, welche Nummer geschrieben steht. Dazu verwenden wir lediglich die Bilddaten in Form unseres Arrays. Diese Art von Problem (Image Recognition oder auf Deutsch: Bilderkennung) ist ein tolle Use Case für Deep Learning Methoden!\n",
    "\n",
    "Die Daten sind für Deep Learning das, was der Iris Datensatz für typische Machine Learning Algorithmen ist."
   ]
  },
  {
   "cell_type": "markdown",
   "metadata": {},
   "source": [
    "# Import von Bibliotheken in Python.\n",
    "\n",
    "In diesem Code werden die Python-Bibliotheken TensorFlow, NumPy, Logging, Time, Matplotlib und Unittest importiert."
   ]
  },
  {
   "cell_type": "code",
   "execution_count": null,
   "metadata": {},
   "outputs": [],
   "source": [
    "pip install zipfile"
   ]
  },
  {
   "cell_type": "code",
   "execution_count": 1,
   "metadata": {},
   "outputs": [
    {
     "name": "stderr",
     "output_type": "stream",
     "text": [
      "2023-10-31 15:46:14.099791: I tensorflow/tsl/cuda/cudart_stub.cc:28] Could not find cuda drivers on your machine, GPU will not be used.\n",
      "2023-10-31 15:46:14.250226: I tensorflow/tsl/cuda/cudart_stub.cc:28] Could not find cuda drivers on your machine, GPU will not be used.\n",
      "2023-10-31 15:46:14.252375: I tensorflow/core/platform/cpu_feature_guard.cc:182] This TensorFlow binary is optimized to use available CPU instructions in performance-critical operations.\n",
      "To enable the following instructions: AVX2 AVX512F FMA, in other operations, rebuild TensorFlow with the appropriate compiler flags.\n",
      "2023-10-31 15:46:16.507255: W tensorflow/compiler/tf2tensorrt/utils/py_utils.cc:38] TF-TRT Warning: Could not find TensorRT\n"
     ]
    }
   ],
   "source": [
    "import tensorflow as tf\n",
    "import numpy as np\n",
    "import logging\n",
    "import time\n",
    "import matplotlib.pyplot as plt\n",
    "import struct\n",
    "import unittest\n",
    "import psutil\n",
    "import zipfile"
   ]
  },
  {
   "cell_type": "code",
   "execution_count": 2,
   "metadata": {},
   "outputs": [],
   "source": [
    "# Anzahl der Teildateien\n",
    "num_parts = 3\n",
    "\n",
    "# Wiederherstellen der ursprünglichen Datei\n",
    "output_file = \"train-images.idx3-ubyte\"\n",
    "with open(output_file, 'wb') as restored_file:\n",
    "    for i in range(num_parts):\n",
    "        part_file = f\"part_{i+1}.zip\"\n",
    "        with zipfile.ZipFile(part_file, 'r') as part_zip:\n",
    "            data = part_zip.read(\"data\")\n",
    "            restored_file.write(data)"
   ]
  },
  {
   "cell_type": "code",
   "execution_count": 3,
   "metadata": {},
   "outputs": [],
   "source": [
    "# Warte 15 Sekunden, bevor der nächste Codeabschnitt ausgeführt wird\n",
    "time.sleep(15)"
   ]
  },
  {
   "cell_type": "code",
   "execution_count": 4,
   "metadata": {},
   "outputs": [],
   "source": [
    "import psutil\n",
    "import time\n",
    "\n",
    "def max_ram_usage():\n",
    "    max_memory = 0\n",
    "\n",
    "    for interval in range(1, 11):\n",
    "        memory_info = psutil.virtual_memory()\n",
    "        max_memory = max(max_memory, memory_info.used)\n",
    "        time.sleep(1)\n",
    "\n",
    "    return max_memory / (1024 * 1024)  # In MB umrechnen\n",
    "\n"
   ]
  },
  {
   "cell_type": "markdown",
   "metadata": {},
   "source": [
    "Dieser Code importiert verschiedene Python-Bibliotheken, lädt den MNIST-Datensatz, normalisiert die Daten, teilt sie in Trainings- und Testdaten auf und konvertiert die Trainingsdaten in das gewünschte Datenformat für spätere Verwendung."
   ]
  },
  {
   "cell_type": "code",
   "execution_count": 5,
   "metadata": {},
   "outputs": [],
   "source": [
    "from functools import wraps\n",
    "from sklearn.metrics import confusion_matrix, classification_report\n",
    "from tensorflow.keras.datasets import mnist\n",
    "from sklearn.preprocessing import MinMaxScaler\n",
    "from sklearn.model_selection import train_test_split\n",
    "from sklearn.linear_model import LogisticRegression\n",
    "\n",
    "# Pfad zu den heruntergeladenen MNIST-Daten\n",
    "train_data_path = 'train-images.idx3-ubyte'\n",
    "test_data_path = 't10k-images.idx3-ubyte'\n",
    "train_labels_path = 'train-labels.idx1-ubyte'  # Hinzugefügt\n",
    "test_labels_path = 't10k-labels.idx1-ubyte'  # Hinzugefügt\n",
    "\n",
    "# Laden der MNIST-Daten aus den lokal gespeicherten Dateien\n",
    "def load_mnist_data(data_path):\n",
    "    with open(data_path, 'rb') as f:\n",
    "        magic, num_images, num_rows, num_cols = struct.unpack('>IIII', f.read(16))\n",
    "        images = np.fromfile(f, dtype=np.uint8).reshape(num_images, num_rows, num_cols)\n",
    "    return images\n",
    "\n",
    "# Laden der MNIST-Label aus den lokal gespeicherten Dateien (Hinzugefügt)\n",
    "def load_mnist_labels(labels_path):\n",
    "    with open(labels_path, 'rb') as f:\n",
    "        magic, num_labels = struct.unpack('>II', f.read(8))\n",
    "        labels = np.fromfile(f, dtype=np.uint8)\n",
    "    return labels\n",
    "\n",
    "# Laden Sie die MNIST-Trainings- und Testdaten\n",
    "x_train_mnist = load_mnist_data(train_data_path)\n",
    "x_test_mnist = load_mnist_data(test_data_path)\n",
    "# Laden Sie die MNIST-Label\n",
    "train_labels = load_mnist_labels(train_labels_path)\n",
    "test_labels = load_mnist_labels(test_labels_path)\n",
    "\n",
    "# Normalisieren der Daten\n",
    "class Normalize(object):\n",
    "    def normalize(self, X_train, X_test):\n",
    "        self.scaler = MinMaxScaler()\n",
    "        # Umformen in 2D-Arrays (Flatten)\n",
    "        X_train = X_train.reshape(X_train.shape[0], -1)\n",
    "        X_test = X_test.reshape(X_test.shape[0], -1)\n",
    "        X_train = self.scaler.fit_transform(X_train)\n",
    "        X_test = self.scaler.transform(X_test)\n",
    "        return (X_train, X_test)\n",
    "\n",
    "    def inverse(self, X_train, X_test):\n",
    "        X_train = self.scaler.inverse_transform(X_train)\n",
    "        X_test = self.scaler.inverse_transform(X_test)\n",
    "        return (X_train, X_test)\n",
    "\n",
    "# Aufteilen der Daten\n",
    "def split(X, y, splitRatio):\n",
    "    X_train, X_test, y_train, y_test = train_test_split(X, y, test_size=1 - splitRatio, random_state=42)\n",
    "    return (X_train, y_train, X_test, y_test)\n",
    "\n",
    "# Annahme: Sie haben bereits die MNIST-Trainings- und Testdaten geladen und in x_train_mnist und x_test_mnist gespeichert.\n",
    "\n",
    "# Normalisieren der Daten\n",
    "normalizer = Normalize()\n",
    "x_train, x_test = normalizer.normalize(x_train_mnist, x_test_mnist)\n",
    "\n",
    "# Aufteilen der Daten\n",
    "splitRatio = 0.8  # Ändern Sie den Split-Verhältnis nach Bedarf\n",
    "x_train, y_train, x_test, y_test = split(x_train, train_labels, splitRatio)\n",
    "\n",
    "# Stellen Sie sicher, dass die Daten korrekt geladen wurden (ersetzen Sie y durch die entsprechenden Label-Daten)\n",
    "assert x_train.shape == (int(0.8 * len(x_train_mnist)), x_train_mnist.shape[1] * x_train_mnist.shape[2])\n",
    "assert x_test.shape == (int(0.2 * len(x_train_mnist)), x_train_mnist.shape[1] * x_train_mnist.shape[2])\n",
    "assert y_train.shape == (int(0.8 * len(x_train_mnist)),)\n",
    "assert y_test.shape == (int(0.2 * len(x_train_mnist)),)"
   ]
  },
  {
   "cell_type": "markdown",
   "metadata": {},
   "source": [
    "## Definieren der my_logger und my_timer Funktion"
   ]
  },
  {
   "cell_type": "code",
   "execution_count": 6,
   "metadata": {},
   "outputs": [],
   "source": [
    "def my_logger(orig_func):\n",
    "    logging.basicConfig(filename='{}.log'.format(orig_func.__name__), level=logging.INFO)\n",
    "\n",
    "    @wraps(orig_func)\n",
    "    def wrapper(*args, **kwargs):\n",
    "        logging.info(\n",
    "            'Ran with args: {}, and kwargs: {}'.format(args, kwargs))\n",
    "        return orig_func(*args, **kwargs)\n",
    "\n",
    "    return wrapper"
   ]
  },
  {
   "cell_type": "code",
   "execution_count": 7,
   "metadata": {},
   "outputs": [],
   "source": [
    "def my_timer(orig_func):\n",
    "    import time\n",
    "\n",
    "    @wraps(orig_func)\n",
    "    def wrapper(*args, **kwargs):\n",
    "        t1 = time.time()\n",
    "        result = orig_func(*args, **kwargs)\n",
    "        t2 = time.time() - t1\n",
    "        print('{} ran in: {} sec'.format(orig_func.__name__, t2))\n",
    "        return result\n",
    "\n",
    "    return wrapper"
   ]
  },
  {
   "cell_type": "markdown",
   "metadata": {},
   "source": [
    "In diesem Code wird eine Python-Klasse mit dem Namen \"TheAlgorithm\" definiert, die verschiedene Methoden wie den Konstruktor __init__, die Methode fit und die Methode predict enthält, wobei die Dekoratoren @my_logger und @my_timer verwendet werden, um die Ausführung dieser Methoden zu protokollieren und die Zeitmessung durchzuführen."
   ]
  },
  {
   "cell_type": "code",
   "execution_count": 8,
   "metadata": {},
   "outputs": [],
   "source": [
    "class TheAlgorithm(object):\n",
    "    @my_logger\n",
    "    @my_timer\n",
    "    def __init__(self, X_train, y_train, X_test, y_test):\n",
    "        self.X_train, self.y_train, self.X_test, self.y_test = X_train, y_train, X_test, y_test\n",
    "\n",
    "    @my_logger\n",
    "    @my_timer\n",
    "    def fit(self):\n",
    "        x_train, y_train, x_test, y_test = self.X_train, self.y_train, self.X_test, self.y_test\n",
    "\n",
    "        normalizer = Normalize()  # Use the correct class name here\n",
    "        x_train, x_test = normalizer.normalize(x_train, x_test)\n",
    "\n",
    "        train_samples = x_train.shape[0]\n",
    "\n",
    "        self.classifier = LogisticRegression(\n",
    "            C=50. / train_samples,\n",
    "            multi_class='multinomial',\n",
    "            penalty='l1',\n",
    "            solver='saga',\n",
    "            tol=0.1,\n",
    "            class_weight='balanced',\n",
    "        )\n",
    "\n",
    "        self.classifier.fit(x_train, y_train)\n",
    "        self.train_predictions = self.classifier.predict(x_train)\n",
    "        self.train_accuracy = np.mean(self.train_predictions.ravel() == y_train.ravel()) * 100\n",
    "        self.train_confusion_matrix = confusion_matrix(y_train, self.train_predictions)\n",
    "        return self.train_accuracy\n",
    "\n",
    "    @my_logger\n",
    "    @my_timer\n",
    "    def predict(self):\n",
    "        x_test = self.X_test  # Test data doesn't need to be normalized again\n",
    "\n",
    "        self.test_predictions = self.classifier.predict(x_test)\n",
    "        self.test_accuracy = np.mean(self.test_predictions.ravel() == self.y_test.ravel()) * 100\n",
    "        self.test_confusion_matrix = confusion_matrix(self.y_test, self.test_predictions)\n",
    "        self.report = classification_report(self.y_test, self.test_predictions)\n",
    "        print(\"Classification Report for the classifier:\\n%s\\n\" % (self.report))\n",
    "\n",
    "        return self.test_accuracy\n"
   ]
  },
  {
   "cell_type": "markdown",
   "metadata": {},
   "source": [
    "## Daten Format\n",
    "\n",
    "Die Daten sind im Vektor Format gespeichert, obwohl die Originaldaten eine 2-dimensionale Matrix waren, die angab, wie viele Pigmente sich an welcher Position befinden. Untersuchen wir das genauer:"
   ]
  },
  {
   "cell_type": "code",
   "execution_count": 9,
   "metadata": {},
   "outputs": [
    {
     "data": {
      "text/plain": [
       "module"
      ]
     },
     "execution_count": 9,
     "metadata": {},
     "output_type": "execute_result"
    }
   ],
   "source": [
    "type(mnist)"
   ]
  },
  {
   "cell_type": "code",
   "execution_count": 10,
   "metadata": {},
   "outputs": [
    {
     "data": {
      "text/plain": [
       "numpy.ndarray"
      ]
     },
     "execution_count": 10,
     "metadata": {},
     "output_type": "execute_result"
    }
   ],
   "source": [
    "type(x_train)\n",
    "type(y_train)"
   ]
  },
  {
   "cell_type": "code",
   "execution_count": 11,
   "metadata": {},
   "outputs": [
    {
     "data": {
      "text/plain": [
       "(784,)"
      ]
     },
     "execution_count": 11,
     "metadata": {},
     "output_type": "execute_result"
    }
   ],
   "source": [
    "x_train[2].shape"
   ]
  },
  {
   "cell_type": "code",
   "execution_count": 12,
   "metadata": {},
   "outputs": [],
   "source": [
    "sample = x_train[2].reshape(28, 28)"
   ]
  },
  {
   "cell_type": "code",
   "execution_count": 13,
   "metadata": {},
   "outputs": [],
   "source": [
    "%matplotlib inline"
   ]
  },
  {
   "cell_type": "code",
   "execution_count": 14,
   "metadata": {},
   "outputs": [
    {
     "data": {
      "text/plain": [
       "<matplotlib.image.AxesImage at 0x7fa501828100>"
      ]
     },
     "execution_count": 14,
     "metadata": {},
     "output_type": "execute_result"
    },
    {
     "data": {
      "image/png": "[encoded data removed]",
      "text/plain": [
       "<Figure size 640x480 with 1 Axes>"
      ]
     },
     "metadata": {},
     "output_type": "display_data"
    }
   ],
   "source": [
    "plt.imshow(sample)"
   ]
  },
  {
   "cell_type": "markdown",
   "metadata": {},
   "source": [
    "## Parameter\n",
    "\n",
    "Wir werden 4 Parameter definieren müssen. Es ist wirklich (wirklich) schwer gute Parameterwerte für einen Datensatz zu bestimmen, mit dem man keine Erfahrung hat. Da dieser MNIST Datensatz allerdings so berühmt ist haben wir schon einige Ausgangswerte. Die Parameter sind:\n",
    "\n",
    "* Learning Rate - Wie schnell die Kostenfunktion angepasst wird\n",
    "* Traing Epochs - Wie viele Trainingszyklen durchlaufen werden sollen\n",
    "* Batch Size - Größe der \"Batches\" an Traingsdaten"
   ]
  },
  {
   "cell_type": "code",
   "execution_count": 15,
   "metadata": {},
   "outputs": [],
   "source": [
    "# Parameter\n",
    "learning_rate = 0.001\n",
    "training_epochs = 1\n",
    "batch_size = 100"
   ]
  },
  {
   "cell_type": "markdown",
   "metadata": {},
   "source": [
    "### Netzwerk Parameter\n",
    "\n",
    "Hier haben wir Parameter welche unser Neuronales Netz direkt definieren. Diese werden entsprechend der betrachteten Daten angepasst und hängen auch davon ab, welche Art von Netz man nutzt. Es sind bis zu diesem Punkt erst einmal nur Zahlen, die wir später verwenden, um unser Netz zu definieren:"
   ]
  },
  {
   "cell_type": "code",
   "execution_count": 16,
   "metadata": {},
   "outputs": [],
   "source": [
    "# Netzwerk Parameter\n",
    "n_hidden_1 = 256  # 1. Layer: Anzahl an Features\n",
    "n_hidden_2 = 256  # 2. Layer: Anzahl an Features\n",
    "n_input = 784     # MNIST Daten Input (img shape: 28*28)\n",
    "n_classes = 10    # MNIST Klassen (0-9 Zahlen)\n",
    "n_samples = len(x_train)  # Anzahl der Trainingsbeispiele"
   ]
  },
  {
   "cell_type": "markdown",
   "metadata": {},
   "source": [
    "### Tensorflow Graph Input"
   ]
  },
  {
   "cell_type": "code",
   "execution_count": 17,
   "metadata": {},
   "outputs": [],
   "source": [
    "x = tf.keras.Input(shape=(n_input,), dtype=tf.float32)\n",
    "y = tf.keras.Input(shape=(n_classes,), dtype=tf.float32)"
   ]
  },
  {
   "cell_type": "markdown",
   "metadata": {},
   "source": [
    "## MultiLayer Modell\n",
    "\n",
    "Es ist Zeit unser Modell zu erstellen. Wiederholen wir deshalb kurz, was wir erstellen wollen:\n",
    "\n",
    "Zuerst erhalten wir einen *Input* in Form eines Datenarrays und schicken diesen an die erste *Hidden Layer*. Dann wird den Daten ein  *Weight* zwischen den Schichten zugewiesen (welches zuerst ein zufälliger Wert ist). Anschließend wird es an einen *Node* geschicht und unterläuft eine *Activation Function* (zusammen mit einem Bias, wie in der Neural Network Lektion erwähnt). Dann geht es weiter zur nächsten *Layer* und immer so weiter, bis zur finalen *Output Layer*. In unserem Fall werden wir nur 2 *Hidden Layers* verwenden. Je mehr wir davon verwenden, desto länger braucht das Modell (aber er hat mehr Möglichkeiten um die Genauigkeit zu erhöhen).\n",
    "\n",
    "Sobald die transformierte Daten die *Output Layer* erreicht haben müssen wir sie auswerten. Hier verwenden wir eine *Loss Function* (auch Cost Function genannt). Diese berechnet, wie sehr wir vom gewünschten Ergebnis entfernt sind. In diesem Fall: Wie viele der Klassen wir richtig zugeteilt haben.\n",
    "\n",
    "Dann wenden wir eine Optimierungsfunktion an, um die *Costs* (bzw. den Error) zu minimieren. Dies geschiet durch die Anpassung der *Weights* entlang des Netzes. Wir verwenden in unserem Beispiel den [Adam Optimizer](https://arxiv.org/pdf/1412.6980v8.pdf), welcher eine (im Vergleich zu anderen) sehr neue Entwicklung ist.\n",
    "\n",
    "Wir können anpassen, wie schnell diese Optimierung angewendet wird, indem wir unseren *Learning Rate* Parameter anpassen. Je geringer die Rate, desto höher die Möglichkeiten für Anpassungen. Dies erzeugt allerdings die Kosten einer erhöhten Wartezeit. Ab einem bestimmten Punkt lohnt es sich nicht mehr, die Learning Rate weiter zu senken.\n",
    "\n",
    "Jetzt können wir unser Modell erstellen. Wir beginnen mit 2 Hidden Layers, welche die []() Activation Function verwenden. Dies ist eine einfache Umformungsfunktion, die entweder x oder 0 zurückgibt. Für unsere finale Output Layer verwenden wir eine lineare Activation mit Matrixmultiplikation:"
   ]
  },
  {
   "cell_type": "markdown",
   "metadata": {},
   "source": [
    "In diesem Code wird eine Funktion namens \"multilayer_perceptron\" definiert, die ein mehrschichtiges neuronales Netzwerk mit ReLU-Aktivierungsfunktionen für die Hidden Layers und linearer Aktivierungsfunktion für die Output Layer erstellt und die Ausgabe des Netzwerks zurückgibt, wobei die Funktionen `my_logger` und `my_timer` als Dekoratoren verwendet werden, um die Ausführung der Funktion zu protokollieren und die Zeitmessung durchzuführen."
   ]
  },
  {
   "cell_type": "code",
   "execution_count": 18,
   "metadata": {},
   "outputs": [],
   "source": [
    "@my_logger\n",
    "@my_timer\n",
    "def multilayer_perceptron(x, weights, biases):\n",
    "    '''\n",
    "    x : Platzhalter für den Dateninput\n",
    "    weights: Dictionary der Weights\n",
    "    biases: Dictionary Der Biases\n",
    "    '''\n",
    "    \n",
    "    # Erste Hidden layer mit RELU Activation\n",
    "    layer_1 = tf.add(tf.matmul(x, weights['h1']), biases['b1'])\n",
    "    layer_1 = tf.nn.relu(layer_1)\n",
    "    \n",
    "    # Zweite Hidden layer mit RELU Activation\n",
    "    layer_2 = tf.add(tf.matmul(layer_1, weights['h2']), biases['b2'])\n",
    "    layer_2 = tf.nn.relu(layer_2)\n",
    "    \n",
    "    # Letzte Output layer mit linearer Activation\n",
    "    out_layer = tf.matmul(layer_2, weights['out']) + biases['out']\n",
    "    return out_layer"
   ]
  },
  {
   "cell_type": "markdown",
   "metadata": {},
   "source": [
    "## Weights und Bias\n",
    "\n",
    "Damit unser Tensorflow Modell funktioniert müssen wir zwei Dictionaries anlegen, die unsere Weights und Biases enthalten. Wir können das `tf.variable` Objekt verwenden. Dies ist anders als eine Konstante, da Tensorflow's Graph Objekt alle Zustände der Variablen wahrnimmt. Eine Variable ist ein anpassbares Tensor, der zwischen Tensorflow's Graph von interagierenden Operationen lebt. Er kann durch die Berechnung verwendet und verändert werden. Wir werden die Modell Parameter generell als Variablen verwenden. Aus der Dokumentation können wir entnehmen:\n",
    "\n",
    "    A variable maintains state in the graph across calls to `run()`. You add a variable to the graph by constructing an instance of the class `Variable`.\n",
    "\n",
    "    The `Variable()` constructor requires an initial value for the variable, which can be a `Tensor` of any type and shape. The initial value defines the type and shape of the variable. After construction, the type and shape of the variable are fixed. The value can be changed using one of the assign methods.\n",
    "    \n",
    "Wir werden Tensorflow's eingebaute `random_normal` Methode verwenden, um zufällige Werte für unsere Weights und Biases zu erstellen."
   ]
  },
  {
   "cell_type": "code",
   "execution_count": 19,
   "metadata": {},
   "outputs": [],
   "source": [
    "# Gewichtsinitialisierung\n",
    "weights = {\n",
    "    'h1': tf.Variable(tf.initializers.RandomNormal()(shape=[n_input, n_hidden_1])),\n",
    "    'h2': tf.Variable(tf.initializers.RandomNormal()(shape=[n_hidden_1, n_hidden_2])),\n",
    "    'out': tf.Variable(tf.initializers.RandomNormal()(shape=[n_hidden_2, n_classes]))\n",
    "}"
   ]
  },
  {
   "cell_type": "code",
   "execution_count": 20,
   "metadata": {},
   "outputs": [],
   "source": [
    "# Bias-Initialisierung\n",
    "biases = {\n",
    "    'b1': tf.Variable(tf.random.normal([n_hidden_1])),\n",
    "    'b2': tf.Variable(tf.random.normal([n_hidden_2])),\n",
    "    'out': tf.Variable(tf.random.normal([n_classes]))\n",
    "}"
   ]
  },
  {
   "cell_type": "code",
   "execution_count": 21,
   "metadata": {},
   "outputs": [
    {
     "name": "stdout",
     "output_type": "stream",
     "text": [
      "WARNING:tensorflow:The following Variables were used in a Lambda layer's call (tf.linalg.matmul), but are not present in its tracked objects:   <tf.Variable 'Variable:0' shape=(784, 256) dtype=float32>. This is a strong indication that the Lambda layer should be rewritten as a subclassed Layer.\n",
      "WARNING:tensorflow:The following Variables were used in a Lambda layer's call (tf.math.add), but are not present in its tracked objects:   <tf.Variable 'Variable:0' shape=(256,) dtype=float32>. This is a strong indication that the Lambda layer should be rewritten as a subclassed Layer.\n",
      "WARNING:tensorflow:The following Variables were used in a Lambda layer's call (tf.linalg.matmul_1), but are not present in its tracked objects:   <tf.Variable 'Variable:0' shape=(256, 256) dtype=float32>. This is a strong indication that the Lambda layer should be rewritten as a subclassed Layer.\n",
      "WARNING:tensorflow:The following Variables were used in a Lambda layer's call (tf.math.add_1), but are not present in its tracked objects:   <tf.Variable 'Variable:0' shape=(256,) dtype=float32>. This is a strong indication that the Lambda layer should be rewritten as a subclassed Layer.\n",
      "WARNING:tensorflow:The following Variables were used in a Lambda layer's call (tf.linalg.matmul_2), but are not present in its tracked objects:   <tf.Variable 'Variable:0' shape=(256, 10) dtype=float32>. This is a strong indication that the Lambda layer should be rewritten as a subclassed Layer.\n",
      "WARNING:tensorflow:The following Variables were used in a Lambda layer's call (tf.__operators__.add), but are not present in its tracked objects:   <tf.Variable 'Variable:0' shape=(10,) dtype=float32>. This is a strong indication that the Lambda layer should be rewritten as a subclassed Layer.\n",
      "multilayer_perceptron ran in: 0.10695409774780273 sec\n"
     ]
    }
   ],
   "source": [
    "# Model erstellen\n",
    "pred = multilayer_perceptron(x, weights, biases)"
   ]
  },
  {
   "cell_type": "markdown",
   "metadata": {},
   "source": [
    "## Cost und Optimierungs-Funktion\n",
    "\n",
    "Wir verwenden Tensorflow's eingebaute Funktionen für diesesn Teil. Weitere Details bietet die Dokumentation:"
   ]
  },
  {
   "cell_type": "code",
   "execution_count": 22,
   "metadata": {},
   "outputs": [],
   "source": [
    "# Cost und Optimierungsfunktion definieren\n",
    "cost = tf.reduce_mean(tf.nn.softmax_cross_entropy_with_logits(labels = y, logits=pred))"
   ]
  },
  {
   "cell_type": "code",
   "execution_count": 23,
   "metadata": {},
   "outputs": [],
   "source": [
    "optimizer = tf.keras.optimizers.Adam(learning_rate=learning_rate)"
   ]
  },
  {
   "cell_type": "markdown",
   "metadata": {},
   "source": [
    "### Initialisierung der Variablen\n",
    "\n",
    "Wir initialisieren nun alle tf.Variable Objekte die wir zuvor erstellt haben. Das wird das erste sein, dass wir ausführen, wenn wir unser Modell trainieren."
   ]
  },
  {
   "cell_type": "markdown",
   "metadata": {},
   "source": [
    "## Das Modell trainieren\n",
    "\n",
    "### next_batch()\n",
    "\n",
    "Bevor wir beginnen möchte ich eine weitere nützliche Funktion in unserem MNIST Datenobjekt abdecken, die `next_batch` heißt. Diese gibt ein Tupel in der Form (X,y) mit einem X Array der Daten und einem y Array der Klasse. Zum Beispiel:"
   ]
  },
  {
   "cell_type": "code",
   "execution_count": 24,
   "metadata": {},
   "outputs": [
    {
     "name": "stderr",
     "output_type": "stream",
     "text": [
      "2023-10-31 15:46:41.612248: I tensorflow/core/common_runtime/executor.cc:1197] [/device:CPU:0] (DEBUG INFO) Executor start aborting (this does not indicate an error and you can ignore this message): INVALID_ARGUMENT: You must feed a value for placeholder tensor 'Placeholder/_1' with dtype uint8 and shape [48000]\n",
      "\t [[{{node Placeholder/_1}}]]\n",
      "2023-10-31 15:46:41.612881: I tensorflow/core/common_runtime/executor.cc:1197] [/device:CPU:0] (DEBUG INFO) Executor start aborting (this does not indicate an error and you can ignore this message): INVALID_ARGUMENT: You must feed a value for placeholder tensor 'Placeholder/_1' with dtype uint8 and shape [48000]\n",
      "\t [[{{node Placeholder/_1}}]]\n"
     ]
    }
   ],
   "source": [
    "# Erstelle ein TensorFlow-Dataset aus den Trainingsdaten\n",
    "train_dataset = tf.data.Dataset.from_tensor_slices((x_train, y_train))\n",
    "\n",
    "# Mische die Daten und teile sie in Batches auf\n",
    "batch_size = 1\n",
    "train_dataset = train_dataset.shuffle(buffer_size=len(x_train)).batch(batch_size)\n",
    "\n",
    "# Erstelle einen Iterator für das Dataset\n",
    "train_iterator = iter(train_dataset)\n",
    "\n",
    "# Greife auf ein Batch von Daten zu\n",
    "Xsamp, ysamp = next(train_iterator)"
   ]
  },
  {
   "cell_type": "code",
   "execution_count": 25,
   "metadata": {},
   "outputs": [
    {
     "data": {
      "text/plain": [
       "<matplotlib.image.AxesImage at 0x7fa4f85fc430>"
      ]
     },
     "execution_count": 25,
     "metadata": {},
     "output_type": "execute_result"
    },
    {
     "data": {
      "image/png": "[encoded data removed]",
      "text/plain": [
       "<Figure size 640x480 with 1 Axes>"
      ]
     },
     "metadata": {},
     "output_type": "display_data"
    }
   ],
   "source": [
    "# Wandele Xsamp in ein Numpy-Array um\n",
    "Xsamp_numpy = Xsamp.numpy()\n",
    "\n",
    "# Zeige das Bild mit imshow\n",
    "plt.imshow(Xsamp_numpy.reshape(28, 28))"
   ]
  },
  {
   "cell_type": "code",
   "execution_count": 26,
   "metadata": {},
   "outputs": [
    {
     "name": "stdout",
     "output_type": "stream",
     "text": [
      "tf.Tensor([1], shape=(1,), dtype=uint8)\n"
     ]
    }
   ],
   "source": [
    "print(ysamp)"
   ]
  },
  {
   "cell_type": "code",
   "execution_count": 27,
   "metadata": {},
   "outputs": [],
   "source": [
    "def my_logger(orig_func):\n",
    "    logging.basicConfig(filename='{}.log'.format(orig_func.__name__), level=logging.INFO)\n",
    "\n",
    "    @wraps(orig_func)\n",
    "    def wrapper(*args, **kwargs):\n",
    "        logging.info(\n",
    "            'Ran with args: {}, and kwargs: {}'.format(args, kwargs))\n",
    "        return orig_func(*args, **kwargs)\n",
    "\n",
    "    return wrapper\n",
    "def my_timer(orig_func):\n",
    "\n",
    "    @wraps(orig_func)\n",
    "    def wrapper(*args, **kwargs):\n",
    "        t1 = time.time()\n",
    "        result = orig_func(*args, **kwargs)\n",
    "        t2 = time.time() - t1\n",
    "        print('{} ran in: {} sec'.format(orig_func.__name__, t2))\n",
    "        return result\n",
    "\n",
    "    return wrapper"
   ]
  },
  {
   "cell_type": "markdown",
   "metadata": {},
   "source": [
    "## Die Session ausführen\n",
    "\n",
    "Jetzt ist es Zeit unsere Session auszuführen! Achte darauf wie wir zwei Schleifen verwenden. Die äußere, die die Epochs durchläuft, und die innere, die die Batches für jede Epoch des Trainings ausführt.\n",
    "\n",
    "## Wichtig, hier wurden aus zeitlichen Gründen mit 1% der Daten gearbeitet. Der Code ist mit jeder Prozentzahl reproduzierbar.\n",
    "\n",
    "Es wurde aus zeitlicher und übersichtlicher Sicht eine View sowie eine Abfrage des gewünschten Prozentsatzes eingebaut."
   ]
  },
  {
   "cell_type": "code",
   "execution_count": 28,
   "metadata": {},
   "outputs": [
    {
     "name": "stdin",
     "output_type": "stream",
     "text": [
      "Geben Sie den Prozentsatz der Daten ein, der verarbeitet werden soll (0-100):  1\n"
     ]
    },
    {
     "name": "stdout",
     "output_type": "stream",
     "text": [
      "multilayer_perceptron ran in: 0.005301713943481445 sec\n",
      "multilayer_perceptron ran in: 0.0016682147979736328 sec\n",
      "multilayer_perceptron ran in: 0.0016384124755859375 sec\n",
      "multilayer_perceptron ran in: 0.0016994476318359375 sec\n",
      "multilayer_perceptron ran in: 0.0030298233032226562 sec\n",
      "multilayer_perceptron ran in: 0.0016460418701171875 sec\n",
      "multilayer_perceptron ran in: 0.0016505718231201172 sec\n",
      "multilayer_perceptron ran in: 0.001615762710571289 sec\n",
      "multilayer_perceptron ran in: 0.0016710758209228516 sec\n",
      "multilayer_perceptron ran in: 0.0019681453704833984 sec\n",
      "multilayer_perceptron ran in: 0.0016293525695800781 sec\n",
      "multilayer_perceptron ran in: 0.001615285873413086 sec\n",
      "multilayer_perceptron ran in: 0.006432294845581055 sec\n",
      "multilayer_perceptron ran in: 0.0016121864318847656 sec\n",
      "multilayer_perceptron ran in: 0.0016164779663085938 sec\n",
      "multilayer_perceptron ran in: 0.0019981861114501953 sec\n",
      "multilayer_perceptron ran in: 0.0015866756439208984 sec\n",
      "multilayer_perceptron ran in: 0.0015785694122314453 sec\n",
      "multilayer_perceptron ran in: 0.0016274452209472656 sec\n",
      "multilayer_perceptron ran in: 0.0016388893127441406 sec\n",
      "multilayer_perceptron ran in: 0.0022134780883789062 sec\n",
      "multilayer_perceptron ran in: 0.0015785694122314453 sec\n",
      "multilayer_perceptron ran in: 0.0015795230865478516 sec\n",
      "multilayer_perceptron ran in: 0.0017554759979248047 sec\n",
      "multilayer_perceptron ran in: 0.0016236305236816406 sec\n",
      "multilayer_perceptron ran in: 0.0016329288482666016 sec\n",
      "multilayer_perceptron ran in: 0.0015821456909179688 sec\n",
      "multilayer_perceptron ran in: 0.001605987548828125 sec\n",
      "multilayer_perceptron ran in: 0.002032756805419922 sec\n",
      "multilayer_perceptron ran in: 0.0015957355499267578 sec\n",
      "multilayer_perceptron ran in: 0.0016634464263916016 sec\n",
      "multilayer_perceptron ran in: 0.0016326904296875 sec\n",
      "multilayer_perceptron ran in: 0.002781391143798828 sec\n",
      "multilayer_perceptron ran in: 0.001622915267944336 sec\n",
      "multilayer_perceptron ran in: 0.001645803451538086 sec\n",
      "multilayer_perceptron ran in: 0.013961315155029297 sec\n",
      "multilayer_perceptron ran in: 0.0016031265258789062 sec\n",
      "multilayer_perceptron ran in: 0.0017113685607910156 sec\n",
      "multilayer_perceptron ran in: 0.0020029544830322266 sec\n",
      "multilayer_perceptron ran in: 0.002064943313598633 sec\n",
      "multilayer_perceptron ran in: 0.002069711685180664 sec\n",
      "multilayer_perceptron ran in: 0.002058267593383789 sec\n",
      "multilayer_perceptron ran in: 0.002065420150756836 sec\n",
      "multilayer_perceptron ran in: 0.0017948150634765625 sec\n",
      "multilayer_perceptron ran in: 0.0019316673278808594 sec\n",
      "multilayer_perceptron ran in: 0.0018041133880615234 sec\n",
      "multilayer_perceptron ran in: 0.0018658638000488281 sec\n",
      "multilayer_perceptron ran in: 0.0018200874328613281 sec\n",
      "multilayer_perceptron ran in: 0.0017685890197753906 sec\n",
      "multilayer_perceptron ran in: 0.0020608901977539062 sec\n",
      "multilayer_perceptron ran in: 0.0017728805541992188 sec\n",
      "multilayer_perceptron ran in: 0.0016109943389892578 sec\n",
      "multilayer_perceptron ran in: 0.0016245841979980469 sec\n",
      "multilayer_perceptron ran in: 0.0019116401672363281 sec\n",
      "multilayer_perceptron ran in: 0.0016269683837890625 sec\n",
      "multilayer_perceptron ran in: 0.0016448497772216797 sec\n",
      "multilayer_perceptron ran in: 0.0016214847564697266 sec\n",
      "multilayer_perceptron ran in: 0.0015876293182373047 sec\n",
      "multilayer_perceptron ran in: 0.0016829967498779297 sec\n",
      "multilayer_perceptron ran in: 0.0015709400177001953 sec\n",
      "multilayer_perceptron ran in: 0.001583099365234375 sec\n",
      "multilayer_perceptron ran in: 0.0015997886657714844 sec\n",
      "multilayer_perceptron ran in: 0.026288747787475586 sec\n",
      "multilayer_perceptron ran in: 0.0017578601837158203 sec\n",
      "multilayer_perceptron ran in: 0.0017991065979003906 sec\n",
      "multilayer_perceptron ran in: 0.0023849010467529297 sec\n",
      "multilayer_perceptron ran in: 0.0017533302307128906 sec\n",
      "multilayer_perceptron ran in: 0.001814126968383789 sec\n",
      "multilayer_perceptron ran in: 0.0017290115356445312 sec\n",
      "multilayer_perceptron ran in: 0.0017392635345458984 sec\n",
      "multilayer_perceptron ran in: 0.0017542839050292969 sec\n",
      "multilayer_perceptron ran in: 0.001748800277709961 sec\n",
      "multilayer_perceptron ran in: 0.0017590522766113281 sec\n",
      "multilayer_perceptron ran in: 0.0017812252044677734 sec\n",
      "multilayer_perceptron ran in: 0.0019519329071044922 sec\n",
      "multilayer_perceptron ran in: 0.0017514228820800781 sec\n",
      "multilayer_perceptron ran in: 0.0018420219421386719 sec\n",
      "multilayer_perceptron ran in: 0.002300262451171875 sec\n",
      "multilayer_perceptron ran in: 0.0017969608306884766 sec\n",
      "multilayer_perceptron ran in: 0.0018122196197509766 sec\n",
      "multilayer_perceptron ran in: 0.0017545223236083984 sec\n",
      "multilayer_perceptron ran in: 0.0017650127410888672 sec\n",
      "multilayer_perceptron ran in: 0.001971006393432617 sec\n",
      "multilayer_perceptron ran in: 0.0017676353454589844 sec\n",
      "multilayer_perceptron ran in: 0.001741170883178711 sec\n",
      "multilayer_perceptron ran in: 0.001737833023071289 sec\n",
      "multilayer_perceptron ran in: 0.0017197132110595703 sec\n",
      "multilayer_perceptron ran in: 0.0018649101257324219 sec\n",
      "multilayer_perceptron ran in: 0.0017189979553222656 sec\n",
      "multilayer_perceptron ran in: 0.0018177032470703125 sec\n",
      "multilayer_perceptron ran in: 0.0017919540405273438 sec\n",
      "multilayer_perceptron ran in: 0.0017714500427246094 sec\n",
      "multilayer_perceptron ran in: 0.058838605880737305 sec\n",
      "multilayer_perceptron ran in: 0.0018877983093261719 sec\n",
      "multilayer_perceptron ran in: 0.0020873546600341797 sec\n",
      "multilayer_perceptron ran in: 0.0017294883728027344 sec\n",
      "multilayer_perceptron ran in: 0.0017657279968261719 sec\n",
      "multilayer_perceptron ran in: 0.0017757415771484375 sec\n",
      "multilayer_perceptron ran in: 0.0018467903137207031 sec\n",
      "multilayer_perceptron ran in: 0.0017361640930175781 sec\n",
      "multilayer_perceptron ran in: 0.001772165298461914 sec\n",
      "multilayer_perceptron ran in: 0.0017955303192138672 sec\n",
      "multilayer_perceptron ran in: 0.0018229484558105469 sec\n",
      "multilayer_perceptron ran in: 0.001766204833984375 sec\n",
      "multilayer_perceptron ran in: 0.001603841781616211 sec\n",
      "multilayer_perceptron ran in: 0.0020062923431396484 sec\n",
      "multilayer_perceptron ran in: 0.0015609264373779297 sec\n",
      "multilayer_perceptron ran in: 0.0016324520111083984 sec\n",
      "multilayer_perceptron ran in: 0.0015816688537597656 sec\n",
      "multilayer_perceptron ran in: 0.0016150474548339844 sec\n",
      "multilayer_perceptron ran in: 0.0016360282897949219 sec\n",
      "multilayer_perceptron ran in: 0.001577138900756836 sec\n",
      "multilayer_perceptron ran in: 0.0015616416931152344 sec\n",
      "multilayer_perceptron ran in: 0.0019588470458984375 sec\n",
      "multilayer_perceptron ran in: 0.0015881061553955078 sec\n",
      "multilayer_perceptron ran in: 0.0015940666198730469 sec\n",
      "multilayer_perceptron ran in: 0.0015559196472167969 sec\n",
      "multilayer_perceptron ran in: 0.001524209976196289 sec\n",
      "multilayer_perceptron ran in: 0.0026671886444091797 sec\n",
      "multilayer_perceptron ran in: 0.0015485286712646484 sec\n",
      "multilayer_perceptron ran in: 0.0015516281127929688 sec\n",
      "multilayer_perceptron ran in: 0.0015690326690673828 sec\n",
      "multilayer_perceptron ran in: 0.001528024673461914 sec\n",
      "multilayer_perceptron ran in: 0.0020492076873779297 sec\n",
      "multilayer_perceptron ran in: 0.0015497207641601562 sec\n",
      "multilayer_perceptron ran in: 0.0015869140625 sec\n",
      "multilayer_perceptron ran in: 0.0015518665313720703 sec\n",
      "multilayer_perceptron ran in: 0.001585245132446289 sec\n",
      "multilayer_perceptron ran in: 0.0016293525695800781 sec\n",
      "multilayer_perceptron ran in: 0.0016450881958007812 sec\n",
      "multilayer_perceptron ran in: 0.0016062259674072266 sec\n",
      "multilayer_perceptron ran in: 0.0015575885772705078 sec\n",
      "multilayer_perceptron ran in: 0.0015947818756103516 sec\n",
      "multilayer_perceptron ran in: 0.0015940666198730469 sec\n",
      "multilayer_perceptron ran in: 0.0015869140625 sec\n",
      "multilayer_perceptron ran in: 0.0015950202941894531 sec\n",
      "multilayer_perceptron ran in: 0.0015459060668945312 sec\n",
      "multilayer_perceptron ran in: 0.0015461444854736328 sec\n",
      "multilayer_perceptron ran in: 0.00274658203125 sec\n",
      "multilayer_perceptron ran in: 0.0015382766723632812 sec\n",
      "multilayer_perceptron ran in: 0.0015397071838378906 sec\n",
      "multilayer_perceptron ran in: 0.0015647411346435547 sec\n",
      "multilayer_perceptron ran in: 0.0019388198852539062 sec\n",
      "multilayer_perceptron ran in: 0.0023336410522460938 sec\n",
      "multilayer_perceptron ran in: 0.0015788078308105469 sec\n",
      "multilayer_perceptron ran in: 0.0016658306121826172 sec\n",
      "multilayer_perceptron ran in: 0.0015988349914550781 sec\n",
      "multilayer_perceptron ran in: 0.0015838146209716797 sec\n",
      "multilayer_perceptron ran in: 0.0020418167114257812 sec\n",
      "multilayer_perceptron ran in: 0.0015523433685302734 sec\n",
      "multilayer_perceptron ran in: 0.001605987548828125 sec\n",
      "multilayer_perceptron ran in: 0.0015532970428466797 sec\n",
      "multilayer_perceptron ran in: 0.001577138900756836 sec\n",
      "multilayer_perceptron ran in: 0.0019028186798095703 sec\n",
      "multilayer_perceptron ran in: 0.0015339851379394531 sec\n",
      "multilayer_perceptron ran in: 0.0015816688537597656 sec\n",
      "multilayer_perceptron ran in: 0.001544952392578125 sec\n",
      "multilayer_perceptron ran in: 0.0015749931335449219 sec\n",
      "multilayer_perceptron ran in: 0.0019872188568115234 sec\n",
      "multilayer_perceptron ran in: 0.002275705337524414 sec\n",
      "multilayer_perceptron ran in: 0.0017201900482177734 sec\n",
      "multilayer_perceptron ran in: 0.0017511844635009766 sec\n",
      "multilayer_perceptron ran in: 0.001798391342163086 sec\n",
      "multilayer_perceptron ran in: 0.0018084049224853516 sec\n",
      "multilayer_perceptron ran in: 0.0017170906066894531 sec\n",
      "multilayer_perceptron ran in: 0.0017557144165039062 sec\n",
      "multilayer_perceptron ran in: 0.0017287731170654297 sec\n",
      "multilayer_perceptron ran in: 0.001712799072265625 sec\n",
      "multilayer_perceptron ran in: 0.00170135498046875 sec\n",
      "multilayer_perceptron ran in: 0.0017991065979003906 sec\n",
      "multilayer_perceptron ran in: 0.0017321109771728516 sec\n",
      "multilayer_perceptron ran in: 0.0020682811737060547 sec\n",
      "multilayer_perceptron ran in: 0.0017032623291015625 sec\n",
      "multilayer_perceptron ran in: 0.0017082691192626953 sec\n",
      "multilayer_perceptron ran in: 0.0025954246520996094 sec\n",
      "multilayer_perceptron ran in: 0.0016906261444091797 sec\n",
      "multilayer_perceptron ran in: 0.0016682147979736328 sec\n",
      "multilayer_perceptron ran in: 0.0016846656799316406 sec\n",
      "multilayer_perceptron ran in: 0.001695394515991211 sec\n",
      "multilayer_perceptron ran in: 0.001800537109375 sec\n",
      "multilayer_perceptron ran in: 0.0017025470733642578 sec\n",
      "multilayer_perceptron ran in: 0.0016689300537109375 sec\n",
      "multilayer_perceptron ran in: 0.002639293670654297 sec\n",
      "multilayer_perceptron ran in: 0.0016748905181884766 sec\n",
      "multilayer_perceptron ran in: 0.001653432846069336 sec\n",
      "multilayer_perceptron ran in: 0.0018911361694335938 sec\n",
      "multilayer_perceptron ran in: 0.0017333030700683594 sec\n",
      "multilayer_perceptron ran in: 0.0024726390838623047 sec\n",
      "multilayer_perceptron ran in: 0.001707315444946289 sec\n",
      "multilayer_perceptron ran in: 0.0016818046569824219 sec\n",
      "multilayer_perceptron ran in: 0.0018036365509033203 sec\n",
      "multilayer_perceptron ran in: 0.0018074512481689453 sec\n",
      "multilayer_perceptron ran in: 0.0015523433685302734 sec\n",
      "multilayer_perceptron ran in: 0.001527547836303711 sec\n",
      "multilayer_perceptron ran in: 0.0015301704406738281 sec\n",
      "multilayer_perceptron ran in: 0.001873016357421875 sec\n",
      "multilayer_perceptron ran in: 0.0015168190002441406 sec\n",
      "multilayer_perceptron ran in: 0.0014994144439697266 sec\n",
      "multilayer_perceptron ran in: 0.0015282630920410156 sec\n",
      "multilayer_perceptron ran in: 0.0015311241149902344 sec\n",
      "multilayer_perceptron ran in: 0.0019576549530029297 sec\n",
      "multilayer_perceptron ran in: 0.0015175342559814453 sec\n",
      "multilayer_perceptron ran in: 0.0015294551849365234 sec\n",
      "multilayer_perceptron ran in: 0.0015320777893066406 sec\n",
      "multilayer_perceptron ran in: 0.0015361309051513672 sec\n",
      "multilayer_perceptron ran in: 0.0015187263488769531 sec\n",
      "multilayer_perceptron ran in: 0.0015277862548828125 sec\n",
      "multilayer_perceptron ran in: 0.0018029212951660156 sec\n",
      "multilayer_perceptron ran in: 0.0015451908111572266 sec\n",
      "multilayer_perceptron ran in: 0.0015499591827392578 sec\n",
      "multilayer_perceptron ran in: 0.001544952392578125 sec\n",
      "multilayer_perceptron ran in: 0.0024170875549316406 sec\n",
      "multilayer_perceptron ran in: 0.0015683174133300781 sec\n",
      "multilayer_perceptron ran in: 0.0015330314636230469 sec\n",
      "multilayer_perceptron ran in: 0.0015721321105957031 sec\n",
      "multilayer_perceptron ran in: 0.002002239227294922 sec\n",
      "multilayer_perceptron ran in: 0.0015208721160888672 sec\n",
      "multilayer_perceptron ran in: 0.00152587890625 sec\n",
      "multilayer_perceptron ran in: 0.0015096664428710938 sec\n",
      "multilayer_perceptron ran in: 0.001531839370727539 sec\n",
      "multilayer_perceptron ran in: 0.0015096664428710938 sec\n",
      "multilayer_perceptron ran in: 0.0015468597412109375 sec\n",
      "multilayer_perceptron ran in: 0.0018913745880126953 sec\n",
      "multilayer_perceptron ran in: 0.0015635490417480469 sec\n",
      "multilayer_perceptron ran in: 0.0015671253204345703 sec\n",
      "multilayer_perceptron ran in: 0.0015320777893066406 sec\n",
      "multilayer_perceptron ran in: 0.0015859603881835938 sec\n",
      "multilayer_perceptron ran in: 0.0016326904296875 sec\n",
      "multilayer_perceptron ran in: 0.0015492439270019531 sec\n",
      "multilayer_perceptron ran in: 0.0015950202941894531 sec\n",
      "multilayer_perceptron ran in: 0.0015769004821777344 sec\n",
      "multilayer_perceptron ran in: 0.0016503334045410156 sec\n",
      "multilayer_perceptron ran in: 0.0015785694122314453 sec\n",
      "multilayer_perceptron ran in: 0.001577615737915039 sec\n",
      "multilayer_perceptron ran in: 0.001566171646118164 sec\n",
      "multilayer_perceptron ran in: 0.0015740394592285156 sec\n",
      "multilayer_perceptron ran in: 0.0022492408752441406 sec\n",
      "multilayer_perceptron ran in: 0.0015437602996826172 sec\n",
      "multilayer_perceptron ran in: 0.0015811920166015625 sec\n",
      "multilayer_perceptron ran in: 0.0015730857849121094 sec\n",
      "multilayer_perceptron ran in: 0.0015692710876464844 sec\n",
      "multilayer_perceptron ran in: 0.0015926361083984375 sec\n",
      "multilayer_perceptron ran in: 0.0015647411346435547 sec\n",
      "multilayer_perceptron ran in: 0.0015947818756103516 sec\n",
      "multilayer_perceptron ran in: 0.0015399456024169922 sec\n",
      "multilayer_perceptron ran in: 0.001585245132446289 sec\n",
      "multilayer_perceptron ran in: 0.0017635822296142578 sec\n",
      "multilayer_perceptron ran in: 0.0015909671783447266 sec\n",
      "multilayer_perceptron ran in: 0.0015692710876464844 sec\n",
      "multilayer_perceptron ran in: 0.0015478134155273438 sec\n",
      "multilayer_perceptron ran in: 0.001689910888671875 sec\n",
      "multilayer_perceptron ran in: 0.0015773773193359375 sec\n",
      "multilayer_perceptron ran in: 0.0015683174133300781 sec\n",
      "multilayer_perceptron ran in: 0.00156402587890625 sec\n",
      "multilayer_perceptron ran in: 0.0022687911987304688 sec\n",
      "multilayer_perceptron ran in: 0.0015413761138916016 sec\n",
      "multilayer_perceptron ran in: 0.0015835762023925781 sec\n",
      "multilayer_perceptron ran in: 0.0015327930450439453 sec\n",
      "multilayer_perceptron ran in: 0.0015408992767333984 sec\n",
      "multilayer_perceptron ran in: 0.0019369125366210938 sec\n",
      "multilayer_perceptron ran in: 0.001567840576171875 sec\n",
      "multilayer_perceptron ran in: 0.0015783309936523438 sec\n",
      "multilayer_perceptron ran in: 0.0015540122985839844 sec\n",
      "multilayer_perceptron ran in: 0.0015859603881835938 sec\n",
      "multilayer_perceptron ran in: 0.0020074844360351562 sec\n",
      "multilayer_perceptron ran in: 0.0016016960144042969 sec\n",
      "multilayer_perceptron ran in: 0.001636505126953125 sec\n",
      "multilayer_perceptron ran in: 0.001577615737915039 sec\n",
      "multilayer_perceptron ran in: 0.0016176700592041016 sec\n",
      "multilayer_perceptron ran in: 0.0015571117401123047 sec\n",
      "multilayer_perceptron ran in: 0.0015778541564941406 sec\n",
      "multilayer_perceptron ran in: 0.0016503334045410156 sec\n",
      "multilayer_perceptron ran in: 0.0015211105346679688 sec\n",
      "multilayer_perceptron ran in: 0.0015516281127929688 sec\n",
      "multilayer_perceptron ran in: 0.002081155776977539 sec\n",
      "multilayer_perceptron ran in: 0.0015544891357421875 sec\n",
      "multilayer_perceptron ran in: 0.0016388893127441406 sec\n",
      "multilayer_perceptron ran in: 0.001527547836303711 sec\n",
      "multilayer_perceptron ran in: 0.0015501976013183594 sec\n",
      "multilayer_perceptron ran in: 0.0020189285278320312 sec\n",
      "multilayer_perceptron ran in: 0.001560211181640625 sec\n",
      "multilayer_perceptron ran in: 0.0015387535095214844 sec\n",
      "multilayer_perceptron ran in: 0.001543283462524414 sec\n",
      "multilayer_perceptron ran in: 0.0015974044799804688 sec\n",
      "multilayer_perceptron ran in: 0.0015459060668945312 sec\n",
      "multilayer_perceptron ran in: 0.0015285015106201172 sec\n",
      "multilayer_perceptron ran in: 0.0026314258575439453 sec\n",
      "multilayer_perceptron ran in: 0.001558065414428711 sec\n",
      "multilayer_perceptron ran in: 0.0015740394592285156 sec\n",
      "multilayer_perceptron ran in: 0.00153350830078125 sec\n",
      "multilayer_perceptron ran in: 0.0015797615051269531 sec\n",
      "multilayer_perceptron ran in: 0.0020656585693359375 sec\n",
      "multilayer_perceptron ran in: 0.0015482902526855469 sec\n",
      "multilayer_perceptron ran in: 0.0015828609466552734 sec\n",
      "multilayer_perceptron ran in: 0.0015697479248046875 sec\n",
      "multilayer_perceptron ran in: 0.0015366077423095703 sec\n",
      "multilayer_perceptron ran in: 0.0020024776458740234 sec\n",
      "multilayer_perceptron ran in: 0.0015916824340820312 sec\n",
      "multilayer_perceptron ran in: 0.001596212387084961 sec\n",
      "multilayer_perceptron ran in: 0.0015439987182617188 sec\n",
      "multilayer_perceptron ran in: 0.001596689224243164 sec\n",
      "multilayer_perceptron ran in: 0.001590728759765625 sec\n",
      "multilayer_perceptron ran in: 0.0016093254089355469 sec\n",
      "multilayer_perceptron ran in: 0.0019676685333251953 sec\n",
      "multilayer_perceptron ran in: 0.0017361640930175781 sec\n",
      "multilayer_perceptron ran in: 0.0016334056854248047 sec\n",
      "multilayer_perceptron ran in: 0.0024542808532714844 sec\n",
      "multilayer_perceptron ran in: 0.0016100406646728516 sec\n",
      "multilayer_perceptron ran in: 0.0016107559204101562 sec\n",
      "multilayer_perceptron ran in: 0.0015687942504882812 sec\n",
      "multilayer_perceptron ran in: 0.0015845298767089844 sec\n",
      "multilayer_perceptron ran in: 0.0020532608032226562 sec\n",
      "multilayer_perceptron ran in: 0.0015590190887451172 sec\n",
      "multilayer_perceptron ran in: 0.0016105175018310547 sec\n",
      "multilayer_perceptron ran in: 0.0015757083892822266 sec\n",
      "multilayer_perceptron ran in: 0.0016033649444580078 sec\n",
      "multilayer_perceptron ran in: 0.0021364688873291016 sec\n",
      "multilayer_perceptron ran in: 0.0015995502471923828 sec\n",
      "multilayer_perceptron ran in: 0.001573324203491211 sec\n",
      "multilayer_perceptron ran in: 0.001547098159790039 sec\n",
      "multilayer_perceptron ran in: 0.0015878677368164062 sec\n",
      "multilayer_perceptron ran in: 0.001552581787109375 sec\n",
      "multilayer_perceptron ran in: 0.0015301704406738281 sec\n",
      "multilayer_perceptron ran in: 0.001580953598022461 sec\n",
      "multilayer_perceptron ran in: 0.0016772747039794922 sec\n",
      "multilayer_perceptron ran in: 0.0015401840209960938 sec\n",
      "multilayer_perceptron ran in: 0.01370382308959961 sec\n",
      "multilayer_perceptron ran in: 0.0015461444854736328 sec\n",
      "multilayer_perceptron ran in: 0.001611948013305664 sec\n",
      "multilayer_perceptron ran in: 0.0015208721160888672 sec\n",
      "multilayer_perceptron ran in: 0.0015437602996826172 sec\n",
      "multilayer_perceptron ran in: 0.0015666484832763672 sec\n",
      "multilayer_perceptron ran in: 0.0015211105346679688 sec\n",
      "multilayer_perceptron ran in: 0.002015352249145508 sec\n",
      "multilayer_perceptron ran in: 0.0015940666198730469 sec\n",
      "multilayer_perceptron ran in: 0.0015468597412109375 sec\n",
      "multilayer_perceptron ran in: 0.0015423297882080078 sec\n",
      "multilayer_perceptron ran in: 0.0016319751739501953 sec\n",
      "multilayer_perceptron ran in: 0.0019800662994384766 sec\n",
      "multilayer_perceptron ran in: 0.0015304088592529297 sec\n",
      "multilayer_perceptron ran in: 0.00153350830078125 sec\n",
      "multilayer_perceptron ran in: 0.002688169479370117 sec\n",
      "multilayer_perceptron ran in: 0.0015282630920410156 sec\n",
      "multilayer_perceptron ran in: 0.001560211181640625 sec\n",
      "multilayer_perceptron ran in: 0.0015473365783691406 sec\n",
      "multilayer_perceptron ran in: 0.0015063285827636719 sec\n",
      "multilayer_perceptron ran in: 0.001538991928100586 sec\n",
      "multilayer_perceptron ran in: 0.0015285015106201172 sec\n",
      "multilayer_perceptron ran in: 0.0015196800231933594 sec\n",
      "multilayer_perceptron ran in: 0.0015184879302978516 sec\n",
      "multilayer_perceptron ran in: 0.0015485286712646484 sec\n",
      "multilayer_perceptron ran in: 0.009627103805541992 sec\n",
      "multilayer_perceptron ran in: 0.0015523433685302734 sec\n",
      "multilayer_perceptron ran in: 0.001592874526977539 sec\n",
      "multilayer_perceptron ran in: 0.0015645027160644531 sec\n",
      "multilayer_perceptron ran in: 0.0015850067138671875 sec\n",
      "multilayer_perceptron ran in: 0.001481771469116211 sec\n",
      "multilayer_perceptron ran in: 0.0014529228210449219 sec\n",
      "multilayer_perceptron ran in: 0.0015501976013183594 sec\n",
      "multilayer_perceptron ran in: 0.0015838146209716797 sec\n",
      "multilayer_perceptron ran in: 0.0015637874603271484 sec\n",
      "multilayer_perceptron ran in: 0.0019545555114746094 sec\n",
      "multilayer_perceptron ran in: 0.001550912857055664 sec\n",
      "multilayer_perceptron ran in: 0.001567840576171875 sec\n",
      "multilayer_perceptron ran in: 0.0015435218811035156 sec\n",
      "multilayer_perceptron ran in: 0.0015583038330078125 sec\n",
      "multilayer_perceptron ran in: 0.013841629028320312 sec\n",
      "multilayer_perceptron ran in: 0.002210378646850586 sec\n",
      "multilayer_perceptron ran in: 0.0032880306243896484 sec\n",
      "multilayer_perceptron ran in: 0.009634256362915039 sec\n",
      "multilayer_perceptron ran in: 0.0016942024230957031 sec\n",
      "multilayer_perceptron ran in: 0.00186920166015625 sec\n",
      "multilayer_perceptron ran in: 0.001583099365234375 sec\n",
      "multilayer_perceptron ran in: 0.0015578269958496094 sec\n",
      "multilayer_perceptron ran in: 0.0019845962524414062 sec\n",
      "multilayer_perceptron ran in: 0.0015614032745361328 sec\n",
      "multilayer_perceptron ran in: 0.0015671253204345703 sec\n",
      "multilayer_perceptron ran in: 0.0015625953674316406 sec\n",
      "multilayer_perceptron ran in: 0.001538991928100586 sec\n",
      "multilayer_perceptron ran in: 0.00201416015625 sec\n",
      "multilayer_perceptron ran in: 0.0015625953674316406 sec\n",
      "multilayer_perceptron ran in: 0.0015316009521484375 sec\n",
      "multilayer_perceptron ran in: 0.0015196800231933594 sec\n",
      "multilayer_perceptron ran in: 0.0015499591827392578 sec\n",
      "multilayer_perceptron ran in: 0.0015227794647216797 sec\n",
      "multilayer_perceptron ran in: 0.0015642642974853516 sec\n",
      "multilayer_perceptron ran in: 0.0019669532775878906 sec\n",
      "multilayer_perceptron ran in: 0.0015261173248291016 sec\n",
      "multilayer_perceptron ran in: 0.00153350830078125 sec\n",
      "multilayer_perceptron ran in: 0.01793837547302246 sec\n",
      "multilayer_perceptron ran in: 0.0015554428100585938 sec\n",
      "multilayer_perceptron ran in: 0.0015902519226074219 sec\n",
      "multilayer_perceptron ran in: 0.0015850067138671875 sec\n",
      "multilayer_perceptron ran in: 0.0015566349029541016 sec\n",
      "multilayer_perceptron ran in: 0.0015265941619873047 sec\n",
      "multilayer_perceptron ran in: 0.0015354156494140625 sec\n",
      "multilayer_perceptron ran in: 0.0016052722930908203 sec\n",
      "multilayer_perceptron ran in: 0.0015790462493896484 sec\n",
      "multilayer_perceptron ran in: 0.0015971660614013672 sec\n",
      "multilayer_perceptron ran in: 0.0015897750854492188 sec\n",
      "multilayer_perceptron ran in: 0.0015835762023925781 sec\n",
      "multilayer_perceptron ran in: 0.0018584728240966797 sec\n",
      "multilayer_perceptron ran in: 0.0015625953674316406 sec\n",
      "multilayer_perceptron ran in: 0.0015828609466552734 sec\n",
      "multilayer_perceptron ran in: 0.0015709400177001953 sec\n",
      "multilayer_perceptron ran in: 0.0015993118286132812 sec\n",
      "multilayer_perceptron ran in: 0.0022628307342529297 sec\n",
      "multilayer_perceptron ran in: 0.0015888214111328125 sec\n",
      "multilayer_perceptron ran in: 0.0015811920166015625 sec\n",
      "multilayer_perceptron ran in: 0.0019237995147705078 sec\n",
      "multilayer_perceptron ran in: 0.0020530223846435547 sec\n",
      "multilayer_perceptron ran in: 0.0015795230865478516 sec\n",
      "multilayer_perceptron ran in: 0.0015265941619873047 sec\n",
      "multilayer_perceptron ran in: 0.001567840576171875 sec\n",
      "multilayer_perceptron ran in: 0.0015723705291748047 sec\n",
      "multilayer_perceptron ran in: 0.0016241073608398438 sec\n",
      "multilayer_perceptron ran in: 0.0022504329681396484 sec\n",
      "multilayer_perceptron ran in: 0.0024650096893310547 sec\n",
      "multilayer_perceptron ran in: 0.0015621185302734375 sec\n",
      "multilayer_perceptron ran in: 0.001589059829711914 sec\n",
      "multilayer_perceptron ran in: 0.0023190975189208984 sec\n",
      "multilayer_perceptron ran in: 0.0015578269958496094 sec\n",
      "multilayer_perceptron ran in: 0.0016567707061767578 sec\n",
      "multilayer_perceptron ran in: 0.014076471328735352 sec\n",
      "multilayer_perceptron ran in: 0.0015680789947509766 sec\n",
      "multilayer_perceptron ran in: 0.0015575885772705078 sec\n",
      "multilayer_perceptron ran in: 0.001542806625366211 sec\n",
      "multilayer_perceptron ran in: 0.0016298294067382812 sec\n",
      "multilayer_perceptron ran in: 0.0015532970428466797 sec\n",
      "multilayer_perceptron ran in: 0.001584768295288086 sec\n",
      "multilayer_perceptron ran in: 0.001569509506225586 sec\n",
      "multilayer_perceptron ran in: 0.0015377998352050781 sec\n",
      "multilayer_perceptron ran in: 0.0016341209411621094 sec\n",
      "multilayer_perceptron ran in: 0.0016222000122070312 sec\n",
      "multilayer_perceptron ran in: 0.001552581787109375 sec\n",
      "multilayer_perceptron ran in: 0.0015628337860107422 sec\n",
      "multilayer_perceptron ran in: 0.0015635490417480469 sec\n",
      "multilayer_perceptron ran in: 0.0019328594207763672 sec\n",
      "multilayer_perceptron ran in: 0.0015599727630615234 sec\n",
      "multilayer_perceptron ran in: 0.004975557327270508 sec\n",
      "multilayer_perceptron ran in: 0.0015285015106201172 sec\n",
      "multilayer_perceptron ran in: 0.0016057491302490234 sec\n",
      "multilayer_perceptron ran in: 0.0015535354614257812 sec\n",
      "multilayer_perceptron ran in: 0.0015876293182373047 sec\n",
      "multilayer_perceptron ran in: 0.0015952587127685547 sec\n",
      "multilayer_perceptron ran in: 0.0016036033630371094 sec\n",
      "multilayer_perceptron ran in: 0.0016474723815917969 sec\n",
      "multilayer_perceptron ran in: 0.0015900135040283203 sec\n",
      "multilayer_perceptron ran in: 0.0020627975463867188 sec\n",
      "multilayer_perceptron ran in: 0.0015988349914550781 sec\n",
      "multilayer_perceptron ran in: 0.0016210079193115234 sec\n",
      "multilayer_perceptron ran in: 0.01398777961730957 sec\n",
      "multilayer_perceptron ran in: 0.0015599727630615234 sec\n",
      "multilayer_perceptron ran in: 0.0017693042755126953 sec\n",
      "multilayer_perceptron ran in: 0.0015850067138671875 sec\n",
      "multilayer_perceptron ran in: 0.0016398429870605469 sec\n",
      "multilayer_perceptron ran in: 0.0016007423400878906 sec\n",
      "multilayer_perceptron ran in: 0.0015957355499267578 sec\n",
      "multilayer_perceptron ran in: 0.00200653076171875 sec\n",
      "multilayer_perceptron ran in: 0.0015788078308105469 sec\n",
      "multilayer_perceptron ran in: 0.0016021728515625 sec\n",
      "multilayer_perceptron ran in: 0.001558542251586914 sec\n",
      "multilayer_perceptron ran in: 0.001598358154296875 sec\n",
      "multilayer_perceptron ran in: 0.0016052722930908203 sec\n",
      "multilayer_perceptron ran in: 0.0015718936920166016 sec\n",
      "multilayer_perceptron ran in: 0.0015687942504882812 sec\n",
      "multilayer_perceptron ran in: 0.0021064281463623047 sec\n",
      "multilayer_perceptron ran in: 0.001585245132446289 sec\n",
      "multilayer_perceptron ran in: 0.0015811920166015625 sec\n",
      "multilayer_perceptron ran in: 0.0016105175018310547 sec\n",
      "multilayer_perceptron ran in: 0.001544952392578125 sec\n",
      "multilayer_perceptron ran in: 0.0019855499267578125 sec\n",
      "multilayer_perceptron ran in: 0.0015413761138916016 sec\n",
      "multilayer_perceptron ran in: 0.0015151500701904297 sec\n",
      "multilayer_perceptron ran in: 0.0015604496002197266 sec\n",
      "multilayer_perceptron ran in: 0.0015006065368652344 sec\n",
      "multilayer_perceptron ran in: 0.0015196800231933594 sec\n",
      "multilayer_perceptron ran in: 0.0015163421630859375 sec\n",
      "multilayer_perceptron ran in: 0.0019850730895996094 sec\n",
      "multilayer_perceptron ran in: 0.0015141963958740234 sec\n",
      "Epoch: 1 Cost=10954.5908\n",
      "Modellierung ist beendet: 1 Epochs of Training\n"
     ]
    }
   ],
   "source": [
    "# from tensorflow import keras\n",
    "\n",
    "# Eingabe vom Benutzer: Prozentsatz der Daten, die verarbeitet werden sollen\n",
    "percentage_to_process = float(input(\"Geben Sie den Prozentsatz der Daten ein, der verarbeitet werden soll (0-100): \"))\n",
    "\n",
    "# Berechnen Sie die Anzahl der Datensätze, die verarbeitet werden sollen\n",
    "n_samples_to_process = int(n_samples * (percentage_to_process / 100))\n",
    "\n",
    "# Training Epochs\n",
    "for epoch in range(training_epochs):\n",
    "    avg_cost = 0.0\n",
    "\n",
    "    total_batch = int(n_samples_to_process / batch_size)\n",
    "\n",
    "    for i in range(total_batch):\n",
    "\n",
    "        # Den nächsten Batch an Trainingsdaten und -labels nehmen\n",
    "\n",
    "        batch_x = tf.cast(x_train[i * batch_size: (i + 1) * batch_size], tf.float32)\n",
    "        batch_y = tf.cast(y_train[i * batch_size: (i + 1) * batch_size], tf.float32)\n",
    "\n",
    "        # Führen Sie die Optimierung und Cost-Berechnung durch\n",
    "\n",
    "        with tf.GradientTape() as tape:\n",
    "\n",
    "            pred = multilayer_perceptron(batch_x, weights, biases)\n",
    "\n",
    "            loss = tf.reduce_mean(tf.nn.softmax_cross_entropy_with_logits(labels=batch_y, logits=pred))\n",
    "\n",
    "        gradients = tape.gradient(loss, list(weights.values()) + list(biases.values()))\n",
    "        optimizer.apply_gradients(zip(gradients, list(weights.values()) + list(biases.values())))\n",
    "\n",
    "        avg_cost += loss / total_batch\n",
    "\n",
    "    print(\"Epoch: {} Cost={:.4f}\".format(epoch + 1, avg_cost))\n",
    "\n",
    "print(\"Modellierung ist beendet: {} Epochs of Training\".format(training_epochs))"
   ]
  },
  {
   "cell_type": "markdown",
   "metadata": {},
   "source": [
    "## Modell Auswertung\n",
    "\n",
    "Tensorflow bietet einige eingebaute Funktionen, die uns bei der Auswertung helfen. Dazu gehören `tf.equal` und `tf.reduce_mean`.\n",
    "\n",
    "\n",
    "### tf.equal\n",
    "\n",
    "Dies ist im Grunde genommen nur eine Kontrolle, ob die Vorhersagen mit den Labels übereinstimmen. Da wir in unserem Fall wissen, dass die Labels eine 1 in einem Array von Nullen sind, können wir `argmax()` verwenden, um die Position zu vergleichen. Denke daran, dass y immer noch der Platzhalter ist, den wir anfangs erstellt haben. Wir werden eine Reihe an Operationen durchführen, um einen Tensor zu erhalten, in den wir die Testdaten einlesen können, um es auszuwerten."
   ]
  },
  {
   "cell_type": "code",
   "execution_count": 29,
   "metadata": {},
   "outputs": [],
   "source": [
    "# Teste das Modell\n",
    "correct_predictions = tf.math.reduce_all(tf.equal(tf.argmax(pred, 1), tf.argmax(y, 1)))"
   ]
  },
  {
   "cell_type": "code",
   "execution_count": 30,
   "metadata": {},
   "outputs": [
    {
     "name": "stdout",
     "output_type": "stream",
     "text": [
      "KerasTensor(type_spec=TensorSpec(shape=(), dtype=tf.bool, name=None), name='tf.math.reduce_all/All:0', description=\"created by layer 'tf.math.reduce_all'\")\n"
     ]
    }
   ],
   "source": [
    "print(correct_predictions)"
   ]
  },
  {
   "cell_type": "markdown",
   "metadata": {},
   "source": [
    "Um numerische Werte für unsere Vorhersagen zu erhalten müssen wir `tf.cast` verwenden, um den Tensor mit Booleans zurückzuführen in einen Tensor mit Floats. Dann können wir den Durchschnitt nehmen."
   ]
  },
  {
   "cell_type": "code",
   "execution_count": 31,
   "metadata": {},
   "outputs": [],
   "source": [
    "correct_predictions = tf.cast(correct_predictions, \"float\")"
   ]
  },
  {
   "cell_type": "code",
   "execution_count": 32,
   "metadata": {},
   "outputs": [
    {
     "name": "stdout",
     "output_type": "stream",
     "text": [
      "KerasTensor(type_spec=TensorSpec(shape=(), dtype=tf.float32, name=None), name='tf.cast/Cast:0', description=\"created by layer 'tf.cast'\")\n"
     ]
    }
   ],
   "source": [
    "print(correct_predictions)"
   ]
  },
  {
   "cell_type": "markdown",
   "metadata": {},
   "source": [
    "Jetzt können wir `tf.reduce_mean` verwenden, um den Durchschnitt der Elemente im Tensor zu erhalten:"
   ]
  },
  {
   "cell_type": "code",
   "execution_count": 33,
   "metadata": {},
   "outputs": [],
   "source": [
    "accuracy = tf.reduce_mean(correct_predictions)"
   ]
  },
  {
   "cell_type": "code",
   "execution_count": 34,
   "metadata": {},
   "outputs": [
    {
     "data": {
      "text/plain": [
       "keras.engine.keras_tensor.KerasTensor"
      ]
     },
     "execution_count": 34,
     "metadata": {},
     "output_type": "execute_result"
    }
   ],
   "source": [
    "type(accuracy)"
   ]
  },
  {
   "cell_type": "markdown",
   "metadata": {},
   "source": [
    "Das wirkt evtl. etwas merkwürdig, aber diese Genauigkeit ist immer noch ein Tensor Objekt. Denke daran, dass wir immer noch die tatsächlichen Testdaten übergeben müssen. Jetzt können wir die MNIST Testlabels und Bilder aufrufen und die Genauigkeit auswerten!"
   ]
  },
  {
   "cell_type": "code",
   "execution_count": 35,
   "metadata": {},
   "outputs": [
    {
     "data": {
      "text/plain": [
       "array([7, 3, 8, ..., 9, 7, 2], dtype=uint8)"
      ]
     },
     "execution_count": 35,
     "metadata": {},
     "output_type": "execute_result"
    }
   ],
   "source": [
    "y_test"
   ]
  },
  {
   "cell_type": "code",
   "execution_count": 36,
   "metadata": {},
   "outputs": [
    {
     "data": {
      "text/plain": [
       "array([[0., 0., 0., ..., 0., 0., 0.],\n",
       "       [0., 0., 0., ..., 0., 0., 0.],\n",
       "       [0., 0., 0., ..., 0., 0., 0.],\n",
       "       ...,\n",
       "       [0., 0., 0., ..., 0., 0., 0.],\n",
       "       [0., 0., 0., ..., 0., 0., 0.],\n",
       "       [0., 0., 0., ..., 0., 0., 0.]])"
      ]
     },
     "execution_count": 36,
     "metadata": {},
     "output_type": "execute_result"
    }
   ],
   "source": [
    "x_test"
   ]
  },
  {
   "cell_type": "markdown",
   "metadata": {},
   "source": [
    "Die `eval()` Methode erlaubt es uns direkt in der Session den Tensor auszuwerten ohne `tf.sess():mm` aufrufen zu müssen"
   ]
  },
  {
   "cell_type": "code",
   "execution_count": 37,
   "metadata": {},
   "outputs": [
    {
     "name": "stdout",
     "output_type": "stream",
     "text": [
      "Keine GPU gefunden. Verwende die CPU.\n",
      "375/375 [==============================] - 23s 58ms/step - loss: 0.2899 - sparse_categorical_accuracy: 0.9176\n",
      "375/375 [==============================] - 3s 6ms/step - loss: 0.1556 - sparse_categorical_accuracy: 0.9520\n",
      "Test Loss: 0.15559233725070953\n",
      "Test Accuracy: 0.9520000219345093\n"
     ]
    }
   ],
   "source": [
    "# Überprüfen, ob eine GPU verfügbar ist\n",
    "physical_devices = tf.config.experimental.list_physical_devices('GPU')\n",
    "if len(physical_devices) > 0:\n",
    "    print(\"GPU gefunden. Aktiviere GPU-Unterstützung.\")\n",
    "    tf.config.experimental.set_memory_growth(physical_devices[0], True)\n",
    "else:\n",
    "    print(\"Keine GPU gefunden. Verwende die CPU.\")\n",
    "\n",
    "# Erstellen des Modells\n",
    "model = tf.keras.models.Sequential([\n",
    "    tf.keras.layers.Flatten(input_shape=(n_input,)),  \n",
    "    tf.keras.layers.Dense(n_hidden_1, activation=tf.nn.relu),\n",
    "    tf.keras.layers.Dense(n_hidden_2, activation=tf.nn.relu),\n",
    "    tf.keras.layers.Dense(n_classes, activation=None)\n",
    "])\n",
    "\n",
    "# Kompilieren des Modells mit der Genauigkeitsmetrik\n",
    "model.compile(\n",
    "    optimizer=tf.keras.optimizers.Adam(learning_rate=learning_rate),\n",
    "    loss=tf.keras.losses.SparseCategoricalCrossentropy(from_logits=True),\n",
    "    metrics=[tf.keras.metrics.SparseCategoricalAccuracy()]\n",
    ")\n",
    "\n",
    "# Trainieren des Modells auf den Trainingsdaten in Batches mit einer erhöhten Batch-Größe\n",
    "x_train_flattened = x_train.reshape(-1, n_input)\n",
    "batch_size = 128  # Erhöhen Sie die Batch-Größe, um die GPU besser auszulasten\n",
    "model.fit(x_train_flattened, y_train, batch_size=batch_size, epochs=training_epochs)\n",
    "\n",
    "# Evaluieren der Genauigkeit auf den Testdaten (nur am Ende)\n",
    "x_test_flattened = x_test.reshape(-1, n_input)\n",
    "test_loss, test_accuracy = model.evaluate(x_test_flattened, y_test)\n",
    "\n",
    "print(\"Test Loss:\", test_loss)\n",
    "print(\"Test Accuracy:\", test_accuracy)"
   ]
  },
  {
   "cell_type": "markdown",
   "metadata": {},
   "source": [
    "# Initialisieren des Unittest"
   ]
  },
  {
   "cell_type": "markdown",
   "metadata": {},
   "source": [
    "Hier startet der Unittest, zu anfang werden die Datenausgelesen und anschließend die Train Accuracy und Test Accurracy ausgegeben."
   ]
  },
  {
   "cell_type": "markdown",
   "metadata": {},
   "source": [
    "Aus Kommentiertet Test für Optimierung\n",
    "\n",
    "if __name__ == '__main__':\n",
    "    X = x_train  # Hier die x_train-Matrix verwenden\n",
    "    y = y_train  # Hier die y_train-Matrix verwenden\n",
    "    print('MNIST:', X.shape, y.shape)\n",
    "    X_train, X_test, y_train, y_test = train_test_split(X, y, test_size=1 - splitRatio, random_state=42)\n",
    "    np.random.seed(31337)\n",
    "    ta = TheAlgorithm(X_train, y_train, X_test, y_test)\n",
    "    train_accuracy = ta.fit()\n",
    "    print()\n",
    "    print('Train Accuracy:', train_accuracy, '\\n')\n",
    "    print(\"Train confusion matrix:\\n%s\\n\" % ta.train_confusion_matrix)\n",
    "    test_accuracy = ta.predict()\n",
    "    print()\n",
    "    print('Test Accuracy:', test_accuracy, '\\n')\n",
    "    print(\"Test confusion matrix:\\n%s\\n\" % ta.test_confusion_matrix)"
   ]
  },
  {
   "cell_type": "code",
   "execution_count": 38,
   "metadata": {
    "tags": []
   },
   "outputs": [
    {
     "name": "stdout",
     "output_type": "stream",
     "text": [
      "MNIST: (48000, 784) (48000,)\n",
      "__init__ ran in: 1.0251998901367188e-05 sec\n",
      "fit ran in: 17.03990077972412 sec\n",
      "Train Accuracy: 72.53645833333333\n",
      "Classification Report for the classifier:\n",
      "              precision    recall  f1-score   support\n",
      "\n",
      "           0       0.73      0.93      0.81       963\n",
      "           1       0.75      0.95      0.84      1099\n",
      "           2       0.77      0.61      0.68       923\n",
      "           3       0.67      0.76      0.71      1022\n",
      "           4       0.72      0.78      0.75       961\n",
      "           5       0.62      0.44      0.51       844\n",
      "           6       0.73      0.85      0.79       948\n",
      "           7       0.75      0.79      0.77       978\n",
      "           8       0.80      0.54      0.65       922\n",
      "           9       0.77      0.59      0.67       940\n",
      "\n",
      "    accuracy                           0.73      9600\n",
      "   macro avg       0.73      0.72      0.72      9600\n",
      "weighted avg       0.73      0.73      0.72      9600\n",
      "\n",
      "\n",
      "predict ran in: 0.9231042861938477 sec\n",
      "Test Accuracy: 73.19791666666666\n"
     ]
    }
   ],
   "source": [
    "if __name__ == '__main__':\n",
    "    X = x_train  # Hier die x_train-Matrix verwenden\n",
    "    y = y_train  # Hier die y_train-Matrix verwenden\n",
    "    print('MNIST:', X.shape, y.shape)\n",
    "    \n",
    "    # Überprüfe, ob X und y die gleiche Anzahl von Zeilen haben\n",
    "    if X.shape[0] != y.shape[0]:\n",
    "        raise ValueError(\"X und y haben unterschiedliche Anzahlen von Zeilen.\")\n",
    "    \n",
    "    # Split und Modell initialisieren\n",
    "    X_train, X_test, y_train, y_test = train_test_split(X, y, test_size=1 - splitRatio, random_state=42)\n",
    "    np.random.seed(31337)\n",
    "    ta = TheAlgorithm(X_train, y_train, X_test, y_test)\n",
    "    \n",
    "    # Modell trainieren\n",
    "    train_accuracy = ta.fit()\n",
    "    print('Train Accuracy:', train_accuracy)\n",
    "    \n",
    "    # Modellvorhersage auf Testdaten\n",
    "    test_accuracy = ta.predict()\n",
    "    print('Test Accuracy:', test_accuracy)"
   ]
  },
  {
   "cell_type": "markdown",
   "metadata": {},
   "source": [
    "# Durchführung der Unittests ausgeführt"
   ]
  },
  {
   "cell_type": "markdown",
   "metadata": {},
   "source": [
    "Test des Ausfalls der Laufzeit von test_fit mit 0,01% der representativen Zeit"
   ]
  },
  {
   "cell_type": "code",
   "execution_count": 39,
   "metadata": {},
   "outputs": [
    {
     "name": "stdout",
     "output_type": "stream",
     "text": [
      "setUp\n",
      "__init__ ran in: 2.7418136596679688e-05 sec\n"
     ]
    },
    {
     "name": "stderr",
     "output_type": "stream",
     "text": [
      "."
     ]
    },
    {
     "name": "stdout",
     "output_type": "stream",
     "text": [
      "fit ran in: 15.488598585128784 sec\n",
      "setUp\n",
      "__init__ ran in: 1.7404556274414062e-05 sec\n",
      "fit ran in: 15.766567468643188 sec\n"
     ]
    },
    {
     "name": "stderr",
     "output_type": "stream",
     "text": [
      "."
     ]
    },
    {
     "name": "stdout",
     "output_type": "stream",
     "text": [
      "Classification Report for the classifier:\n",
      "              precision    recall  f1-score   support\n",
      "\n",
      "           0       0.73      0.93      0.81       963\n",
      "           1       0.75      0.95      0.84      1099\n",
      "           2       0.77      0.61      0.68       923\n",
      "           3       0.67      0.76      0.71      1022\n",
      "           4       0.72      0.78      0.75       961\n",
      "           5       0.62      0.44      0.51       844\n",
      "           6       0.73      0.85      0.79       948\n",
      "           7       0.75      0.79      0.77       978\n",
      "           8       0.80      0.54      0.65       922\n",
      "           9       0.77      0.59      0.67       940\n",
      "\n",
      "    accuracy                           0.73      9600\n",
      "   macro avg       0.73      0.72      0.72      9600\n",
      "weighted avg       0.73      0.73      0.72      9600\n",
      "\n",
      "\n",
      "predict ran in: 0.9788899421691895 sec\n",
      "setUp\n",
      "__init__ ran in: 6.9141387939453125e-06 sec\n"
     ]
    },
    {
     "name": "stderr",
     "output_type": "stream",
     "text": [
      "F\n",
      "======================================================================\n",
      "FAIL: test_runtime_fit (__main__.TestInput)\n",
      "----------------------------------------------------------------------\n",
      "Traceback (most recent call last):\n",
      "  File \"/tmp/ipykernel_3851/1620406533.py\", line 56, in test_runtime_fit\n",
      "    self.assertLessEqual(elapsed_time, max_allowed_runtime)\n",
      "AssertionError: 15.414827585220337 not less than or equal to 0.0015414827585220339\n",
      "\n",
      "----------------------------------------------------------------------\n",
      "Ran 3 tests in 48.291s\n",
      "\n",
      "FAILED (failures=1)\n"
     ]
    },
    {
     "name": "stdout",
     "output_type": "stream",
     "text": [
      "fit ran in: 15.414130926132202 sec\n"
     ]
    }
   ],
   "source": [
    "class TestInput(unittest.TestCase):\n",
    "    @classmethod\n",
    "    def setUpClass(cls):\n",
    "        pass\n",
    "\n",
    "    @classmethod\n",
    "    def tearDownClass(cls):\n",
    "        pass\n",
    "\n",
    "    def setUp(self):\n",
    "        print('setUp')\n",
    "        # Verwende die Werte und Objekte aus Code 34\n",
    "        X_train, X_test, y_train, y_test = train_test_split(X, y, test_size=1 - splitRatio, random_state=42)\n",
    "        self.X_train = X_train\n",
    "        self.y_train = y_train\n",
    "        self.X_test = X_test\n",
    "        self.y_test = y_test\n",
    "        # Setzen Sie die erwarteten Genauigkeiten basierend auf Ihren tatsächlichen Daten und Modellparametern\n",
    "        self.train_accuracy = train_accuracy  # Beispielwert, aktualisieren mit tatsächlichen Trainingsgenauigkeitswert\n",
    "        self.test_accuracy = test_accuracy  # Beispielwert, aktualisieren mit tatsächlichen Testgenauigkeitswert\n",
    "        # Ersetzen der ta_train_accuracy und ta_test_accuracy durch die tatsächlichen Genauigkeitswerte\n",
    "        self.train_confusion_matrix = ta.train_confusion_matrix\n",
    "        self.test_confusion_matrix = ta.test_confusion_matrix\n",
    "\n",
    "    def tearDown(self):\n",
    "        pass\n",
    "\n",
    "    def test_fit(self):\n",
    "        np.random.seed(31337)\n",
    "        self.ta = TheAlgorithm(self.X_train, self.y_train, self.X_test, self.y_test)\n",
    "        self.assertEqual(self.ta.fit(), self.train_accuracy)\n",
    "        self.assertTrue(np.array_equal(self.ta.train_confusion_matrix, self.train_confusion_matrix))\n",
    "\n",
    "    def test_predict(self):\n",
    "        np.random.seed(31337)\n",
    "        self.ta = TheAlgorithm(self.X_train, self.y_train, self.X_test, self.y_test)\n",
    "        self.ta.fit()\n",
    "        self.assertEqual(self.ta.predict(), self.test_accuracy)\n",
    "        self.assertTrue(np.array_equal(self.ta.test_confusion_matrix, self.test_confusion_matrix))\n",
    "        \n",
    "    def test_runtime_fit(self):\n",
    "        np.random.seed(31337)\n",
    "        self.ta = TheAlgorithm(self.X_train, self.y_train, self.X_test, self.y_test)\n",
    "\n",
    "        # Messen der Laufzeit der fit-Funktion\n",
    "        start_time = time.time()\n",
    "        self.ta.fit()\n",
    "        end_time = time.time()\n",
    "        elapsed_time = end_time - start_time\n",
    "\n",
    "        # Legen Sie den Grenzwert fest, z.B. 120% der repräsentativen Laufzeit\n",
    "        representative_runtime = elapsed_time  # Aktualisieren Sie diesen Wert entsprechend\n",
    "        max_allowed_runtime = 0.0001 * representative_runtime\n",
    "\n",
    "        # Überprüfen, ob die Laufzeit innerhalb des zulässigen Bereichs liegt\n",
    "        self.assertLessEqual(elapsed_time, max_allowed_runtime)\n",
    "\n",
    "if __name__ == '__main__':\n",
    "    unittest.main(argv=['first-arg-is-ignored'], exit=False)"
   ]
  },
  {
   "cell_type": "markdown",
   "metadata": {},
   "source": [
    "Test des Durchlaufs der Laufzeit von test_fit mit 120% der representativen Zeit"
   ]
  },
  {
   "cell_type": "code",
   "execution_count": 40,
   "metadata": {},
   "outputs": [
    {
     "name": "stdout",
     "output_type": "stream",
     "text": [
      "setUp\n",
      "__init__ ran in: 1.7404556274414062e-05 sec\n"
     ]
    },
    {
     "name": "stderr",
     "output_type": "stream",
     "text": [
      "."
     ]
    },
    {
     "name": "stdout",
     "output_type": "stream",
     "text": [
      "fit ran in: 15.302992343902588 sec\n",
      "setUp\n",
      "__init__ ran in: 1.5974044799804688e-05 sec\n",
      "fit ran in: 15.319247961044312 sec\n"
     ]
    },
    {
     "name": "stderr",
     "output_type": "stream",
     "text": [
      "."
     ]
    },
    {
     "name": "stdout",
     "output_type": "stream",
     "text": [
      "Classification Report for the classifier:\n",
      "              precision    recall  f1-score   support\n",
      "\n",
      "           0       0.73      0.93      0.81       963\n",
      "           1       0.75      0.95      0.84      1099\n",
      "           2       0.77      0.61      0.68       923\n",
      "           3       0.67      0.76      0.71      1022\n",
      "           4       0.72      0.78      0.75       961\n",
      "           5       0.62      0.44      0.51       844\n",
      "           6       0.73      0.85      0.79       948\n",
      "           7       0.75      0.79      0.77       978\n",
      "           8       0.80      0.54      0.65       922\n",
      "           9       0.77      0.59      0.67       940\n",
      "\n",
      "    accuracy                           0.73      9600\n",
      "   macro avg       0.73      0.72      0.72      9600\n",
      "weighted avg       0.73      0.73      0.72      9600\n",
      "\n",
      "\n",
      "predict ran in: 0.9180817604064941 sec\n",
      "setUp\n",
      "__init__ ran in: 9.5367431640625e-06 sec\n"
     ]
    },
    {
     "name": "stderr",
     "output_type": "stream",
     "text": [
      ".\n",
      "----------------------------------------------------------------------\n",
      "Ran 3 tests in 47.588s\n",
      "\n",
      "OK\n"
     ]
    },
    {
     "name": "stdout",
     "output_type": "stream",
     "text": [
      "fit ran in: 15.199236631393433 sec\n"
     ]
    }
   ],
   "source": [
    "class TestInput(unittest.TestCase):\n",
    "    @classmethod\n",
    "    def setUpClass(cls):\n",
    "        pass\n",
    "\n",
    "    @classmethod\n",
    "    def tearDownClass(cls):\n",
    "        pass\n",
    "\n",
    "    def setUp(self):\n",
    "        print('setUp')\n",
    "        # Verwende die Werte und Objekte aus Code 34\n",
    "        X_train, X_test, y_train, y_test = train_test_split(X, y, test_size=1 - splitRatio, random_state=42)\n",
    "        self.X_train = X_train\n",
    "        self.y_train = y_train\n",
    "        self.X_test = X_test\n",
    "        self.y_test = y_test\n",
    "        # Setzen Sie die erwarteten Genauigkeiten basierend auf Ihren tatsächlichen Daten und Modellparametern\n",
    "        self.train_accuracy = train_accuracy  # Beispielwert, aktualisieren mit tatsächlichen Trainingsgenauigkeitswert\n",
    "        self.test_accuracy = test_accuracy  # Beispielwert, aktualisieren mit tatsächlichen Testgenauigkeitswert\n",
    "        # Ersetzen der ta_train_accuracy und ta_test_accuracy durch die tatsächlichen Genauigkeitswerte\n",
    "        self.train_confusion_matrix = ta.train_confusion_matrix\n",
    "        self.test_confusion_matrix = ta.test_confusion_matrix\n",
    "\n",
    "    def tearDown(self):\n",
    "        pass\n",
    "\n",
    "    def test_fit(self):\n",
    "        np.random.seed(31337)\n",
    "        self.ta = TheAlgorithm(self.X_train, self.y_train, self.X_test, self.y_test)\n",
    "        self.assertEqual(self.ta.fit(), self.train_accuracy)\n",
    "        self.assertTrue(np.array_equal(self.ta.train_confusion_matrix, self.train_confusion_matrix))\n",
    "\n",
    "    def test_predict(self):\n",
    "        np.random.seed(31337)\n",
    "        self.ta = TheAlgorithm(self.X_train, self.y_train, self.X_test, self.y_test)\n",
    "        self.ta.fit()\n",
    "        self.assertEqual(self.ta.predict(), self.test_accuracy)\n",
    "        self.assertTrue(np.array_equal(self.ta.test_confusion_matrix, self.test_confusion_matrix))\n",
    "        \n",
    "    def test_runtime_fit(self):\n",
    "        np.random.seed(31337)\n",
    "        self.ta = TheAlgorithm(self.X_train, self.y_train, self.X_test, self.y_test)\n",
    "\n",
    "        # Messen der Laufzeit der fit-Funktion\n",
    "        start_time = time.time()\n",
    "        self.ta.fit()\n",
    "        end_time = time.time()\n",
    "        elapsed_time = end_time - start_time\n",
    "\n",
    "        # Legen Sie den Grenzwert fest, z.B. 120% der repräsentativen Laufzeit\n",
    "        representative_runtime = elapsed_time  # Aktualisieren Sie diesen Wert entsprechend\n",
    "        max_allowed_runtime = 1.2 * representative_runtime\n",
    "\n",
    "        # Überprüfen, ob die Laufzeit innerhalb des zulässigen Bereichs liegt\n",
    "        self.assertLessEqual(elapsed_time, max_allowed_runtime)\n",
    "\n",
    "if __name__ == '__main__':\n",
    "    unittest.main(argv=['first-arg-is-ignored'], exit=False)"
   ]
  },
  {
   "cell_type": "code",
   "execution_count": 41,
   "metadata": {},
   "outputs": [
    {
     "name": "stdout",
     "output_type": "stream",
     "text": [
      "Maximale benötigte RAM-Menge: 38485.74 MB\n"
     ]
    }
   ],
   "source": [
    "if __name__ == \"__main__\":\n",
    "\n",
    "    # Ihr Code hier\n",
    "\n",
    "    max_ram = max_ram_usage()\n",
    "\n",
    "    print(f\"Maximale benötigte RAM-Menge: {max_ram:.2f} MB\")"
   ]
  },
  {
   "cell_type": "markdown",
   "metadata": {},
   "source": [
    "\n",
    "# Gut gemacht!"
   ]
  }
 ],
 "metadata": {
  "kernelspec": {
   "display_name": "Python 3 (ipykernel)",
   "language": "python",
   "name": "python3"
  },
  "language_info": {
   "codemirror_mode": {
    "name": "ipython",
    "version": 3
   },
   "file_extension": ".py",
   "mimetype": "text/x-python",
   "name": "python",
   "nbconvert_exporter": "python",
   "pygments_lexer": "ipython3",
   "version": "3.11.5"
  }
 },
 "nbformat": 4,
 "nbformat_minor": 4
}
