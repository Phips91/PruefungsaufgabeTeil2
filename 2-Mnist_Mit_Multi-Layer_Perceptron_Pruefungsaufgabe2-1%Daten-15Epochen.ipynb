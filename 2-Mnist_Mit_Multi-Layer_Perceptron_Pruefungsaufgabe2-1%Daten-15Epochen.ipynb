{
 "cells": [
  {
   "cell_type": "markdown",
   "metadata": {},
   "source": [
    "<a href=\"https://akademie.datamics.com/kursliste/\">![title](bg_datamics_top.png)</a>\n",
    "\n",
    "<center><em>© Datamics</em></center><br><center><em>Besuche uns für mehr Informationen auf <a href='https://akademie.datamics.com/kursliste/'>www.akademie.datamics.com</a></em></center>\n",
    "\n",
    "# MNIST mit Multi-Layer Perceptron\n",
    "\n",
    "In dieser Lektion werden wir ein Multi Layer Perceptron Modell erstellen und versuchen damit handgeschriebenen Zahlen zu klassifizieren. Das ist ein sehr verbreitetes Einsteigerproblem für Tensorflow.\n",
    "\n",
    "Denkt daran, dass eine einzige Lektion niemals ausreichen wird, um Deep Learning und/oder Tensorflow in seiner Komlexität abzudecken!\n",
    "\n",
    "## Die Daten laden\n",
    "\n",
    "Wir werden die berühmten MNIST Daten über [handgeschriebenen Zahlen](http://yann.lecun.com/exdb/mnist/) verwenden.\n",
    "\n",
    "Die Bilder die wir verwenden werden sind schwarz-weiß Bilder der größe 28 x 28, d.h. 784 Pixel insgesamt. Unsere Features werden die Pixelwerte für jeden Pixel sein. Entweder ist der Pixel \"weiß\" (also eine 0 in den Daten) oder er hat einen Pixelwert.\n",
    "\n",
    "Wir werden versuchen korrekt vorherzusagen, welche Nummer geschrieben steht. Dazu verwenden wir lediglich die Bilddaten in Form unseres Arrays. Diese Art von Problem (Image Recognition oder auf Deutsch: Bilderkennung) ist ein tolle Use Case für Deep Learning Methoden!\n",
    "\n",
    "Die Daten sind für Deep Learning das, was der Iris Datensatz für typische Machine Learning Algorithmen ist."
   ]
  },
  {
   "cell_type": "markdown",
   "metadata": {},
   "source": [
    "# Import von Bibliotheken in Python.\n",
    "\n",
    "In diesem Code werden die Python-Bibliotheken TensorFlow, NumPy, Logging, Time, Matplotlib und Unittest importiert."
   ]
  },
  {
   "cell_type": "code",
   "execution_count": 1,
   "metadata": {},
   "outputs": [],
   "source": [
    "import tensorflow as tf\n",
    "import numpy as np\n",
    "import logging\n",
    "import time\n",
    "import matplotlib.pyplot as plt\n",
    "import unittest\n",
    "import numpy as np"
   ]
  },
  {
   "cell_type": "markdown",
   "metadata": {},
   "source": [
    "Dieser Code importiert verschiedene Python-Bibliotheken, lädt den MNIST-Datensatz, normalisiert die Daten, teilt sie in Trainings- und Testdaten auf und konvertiert die Trainingsdaten in das gewünschte Datenformat für spätere Verwendung."
   ]
  },
  {
   "cell_type": "code",
   "execution_count": 2,
   "metadata": {},
   "outputs": [
    {
     "name": "stderr",
     "output_type": "stream",
     "text": [
      "C:\\Users\\Phili\\anaconda3\\Lib\\site-packages\\sklearn\\datasets\\_openml.py:1002: FutureWarning: The default value of `parser` will change from `'liac-arff'` to `'auto'` in 1.4. You can set `parser='auto'` to silence this warning. Therefore, an `ImportError` will be raised from 1.4 if the dataset is dense and pandas is not installed. Note that the pandas parser may return different data types. See the Notes Section in fetch_openml's API doc for details.\n",
      "  warn(\n"
     ]
    }
   ],
   "source": [
    "from functools import wraps\n",
    "from sklearn.metrics import confusion_matrix, classification_report\n",
    "from tensorflow.keras.datasets import mnist\n",
    "from sklearn.datasets import fetch_openml\n",
    "from sklearn.preprocessing import MinMaxScaler\n",
    "from sklearn.model_selection import train_test_split\n",
    "from sklearn.linear_model import LogisticRegression\n",
    "\n",
    "# Laden Sie die Daten herunter\n",
    "def download():\n",
    "    mnist = fetch_openml('mnist_784', version=1)\n",
    "    X = mnist.data.astype('float64')\n",
    "    y = mnist.target.astype('int')  # Konvertiere die Labels in Ganzzahlen\n",
    "    return (X, y)\n",
    "\n",
    "# Normalisieren der Daten\n",
    "class Normalize(object):\n",
    "    def normalize(self, X_train, X_test):\n",
    "        self.scaler = MinMaxScaler()\n",
    "        X_train = self.scaler.fit_transform(X_train)\n",
    "        X_test = self.scaler.transform(X_test)\n",
    "        return (X_train, X_test)\n",
    "    \n",
    "    def inverse(self, X_train, X_test):\n",
    "        X_train = self.scaler.inverse_transform(X_train)\n",
    "        X_test = self.scaler.inverse_transform(X_test)\n",
    "        return (X_train, X_test)\n",
    "\n",
    "# Aufteilen der Daten\n",
    "def split(X, y, splitVerhältnis):\n",
    "    X_train, X_test, y_train, y_test = train_test_split(X, y, test_size=1 - splitRatio, random_state=42)\n",
    "    return (X_train, y_train, X_test, y_test)\n",
    "\n",
    "# Importieren Sie MNIST-Daten\n",
    "(x_train_mnist, y_train_mnist), (x_test_mnist, y_test_mnist) = tf.keras.datasets.mnist.load_data()\n",
    "(X, y) = download()\n",
    "\n",
    "normalizer = Normalize()\n",
    "X_train, X_test = normalizer.normalize(X, X)\n",
    "\n",
    "splitRatio = 0.8  # Ändern Sie den Split-Verhältnis nach Bedarf\n",
    "x_train, y_train, x_test, y_test = split(X_train, y, splitRatio)\n",
    "\n",
    "# Stelle sicher, dass die Daten korrekt geladen wurden\n",
    "assert x_train.shape == (int(0.8 * len(X)), X.shape[1])\n",
    "assert x_test.shape == (int(0.2 * len(X)), X.shape[1])\n",
    "assert y_train.shape == (int(0.8 * len(X)),)\n",
    "assert y_test.shape == (int(0.2 * len(X)),)  # Überprüfung der Form der Labels\n",
    "\n",
    "# Konvertiere die Trainingsdaten in float32\n",
    "x_train = x_train.astype('float32')\n",
    "y_train = y_train.astype('int')"
   ]
  },
  {
   "cell_type": "markdown",
   "metadata": {},
   "source": [
    "## Definieren der my_logger und my_timer Funktion"
   ]
  },
  {
   "cell_type": "code",
   "execution_count": 3,
   "metadata": {},
   "outputs": [],
   "source": [
    "def my_logger(orig_func):\n",
    "    logging.basicConfig(filename='{}.log'.format(orig_func.__name__), level=logging.INFO)\n",
    "\n",
    "    @wraps(orig_func)\n",
    "    def wrapper(*args, **kwargs):\n",
    "        logging.info(\n",
    "            'Ran with args: {}, and kwargs: {}'.format(args, kwargs))\n",
    "        return orig_func(*args, **kwargs)\n",
    "\n",
    "    return wrapper"
   ]
  },
  {
   "cell_type": "code",
   "execution_count": 4,
   "metadata": {},
   "outputs": [],
   "source": [
    "def my_timer(orig_func):\n",
    "    import time\n",
    "\n",
    "    @wraps(orig_func)\n",
    "    def wrapper(*args, **kwargs):\n",
    "        t1 = time.time()\n",
    "        result = orig_func(*args, **kwargs)\n",
    "        t2 = time.time() - t1\n",
    "        print('{} ran in: {} sec'.format(orig_func.__name__, t2))\n",
    "        return result\n",
    "\n",
    "    return wrapper"
   ]
  },
  {
   "cell_type": "markdown",
   "metadata": {},
   "source": [
    "In diesem Code wird eine Python-Klasse mit dem Namen \"TheAlgorithm\" definiert, die verschiedene Methoden wie den Konstruktor __init__, die Methode fit und die Methode predict enthält, wobei die Dekoratoren @my_logger und @my_timer verwendet werden, um die Ausführung dieser Methoden zu protokollieren und die Zeitmessung durchzuführen."
   ]
  },
  {
   "cell_type": "code",
   "execution_count": 5,
   "metadata": {},
   "outputs": [],
   "source": [
    "class TheAlgorithm(object):\n",
    "    @my_logger\n",
    "    @my_timer\n",
    "    def __init__(self, X_train, y_train, X_test, y_test):\n",
    "        self.X_train, self.y_train, self.X_test, self.y_test = X_train, y_train, X_test, y_test\n",
    "\n",
    "    @my_logger\n",
    "    @my_timer\n",
    "    def fit(self):\n",
    "        x_train, y_train, x_test, y_test = self.X_train, self.y_train, self.X_test, self.y_test\n",
    "\n",
    "        normalizer = Normalize()  # Use the correct class name here\n",
    "        x_train, x_test = normalizer.normalize(x_train, x_test)\n",
    "\n",
    "        train_samples = x_train.shape[0]\n",
    "\n",
    "        self.classifier = LogisticRegression(\n",
    "            C=50. / train_samples,\n",
    "            multi_class='multinomial',\n",
    "            penalty='l1',\n",
    "            solver='saga',\n",
    "            tol=0.1,\n",
    "            class_weight='balanced',\n",
    "        )\n",
    "\n",
    "        self.classifier.fit(x_train, y_train)\n",
    "        self.train_predictions = self.classifier.predict(x_train)\n",
    "        self.train_accuracy = np.mean(self.train_predictions.ravel() == y_train.ravel()) * 100\n",
    "        self.train_confusion_matrix = confusion_matrix(y_train, self.train_predictions)\n",
    "        return self.train_accuracy\n",
    "\n",
    "    @my_logger\n",
    "    @my_timer\n",
    "    def predict(self):\n",
    "        x_test = self.X_test  # Test data doesn't need to be normalized again\n",
    "\n",
    "        self.test_predictions = self.classifier.predict(x_test)\n",
    "        self.test_accuracy = np.mean(self.test_predictions.ravel() == self.y_test.ravel()) * 100\n",
    "        self.test_confusion_matrix = confusion_matrix(self.y_test, self.test_predictions)\n",
    "        self.report = classification_report(self.y_test, self.test_predictions)\n",
    "        print(\"Classification Report for the classifier:\\n%s\\n\" % (self.report))\n",
    "\n",
    "        return self.test_accuracy\n"
   ]
  },
  {
   "cell_type": "markdown",
   "metadata": {},
   "source": [
    "## Daten Format\n",
    "\n",
    "Die Daten sind im Vektor Format gespeichert, obwohl die Originaldaten eine 2-dimensionale Matrix waren, die angab, wie viele Pigmente sich an welcher Position befinden. Untersuchen wir das genauer:"
   ]
  },
  {
   "cell_type": "code",
   "execution_count": 6,
   "metadata": {},
   "outputs": [
    {
     "data": {
      "text/plain": [
       "module"
      ]
     },
     "execution_count": 6,
     "metadata": {},
     "output_type": "execute_result"
    }
   ],
   "source": [
    "type(mnist)"
   ]
  },
  {
   "cell_type": "code",
   "execution_count": 7,
   "metadata": {},
   "outputs": [
    {
     "data": {
      "text/plain": [
       "pandas.core.series.Series"
      ]
     },
     "execution_count": 7,
     "metadata": {},
     "output_type": "execute_result"
    }
   ],
   "source": [
    "type(x_train)\n",
    "type(y_train)"
   ]
  },
  {
   "cell_type": "code",
   "execution_count": 8,
   "metadata": {},
   "outputs": [
    {
     "data": {
      "text/plain": [
       "(784,)"
      ]
     },
     "execution_count": 8,
     "metadata": {},
     "output_type": "execute_result"
    }
   ],
   "source": [
    "x_train[2].shape"
   ]
  },
  {
   "cell_type": "code",
   "execution_count": 9,
   "metadata": {},
   "outputs": [],
   "source": [
    "sample = x_train[2].reshape(28, 28)"
   ]
  },
  {
   "cell_type": "code",
   "execution_count": 10,
   "metadata": {},
   "outputs": [],
   "source": [
    "%matplotlib inline"
   ]
  },
  {
   "cell_type": "code",
   "execution_count": 11,
   "metadata": {},
   "outputs": [
    {
     "data": {
      "text/plain": [
       "<matplotlib.image.AxesImage at 0x27b428af590>"
      ]
     },
     "execution_count": 11,
     "metadata": {},
     "output_type": "execute_result"
    },
    {
     "data": {
      "image/png": "[encoded data removed]",
      "text/plain": [
       "<Figure size 640x480 with 1 Axes>"
      ]
     },
     "metadata": {},
     "output_type": "display_data"
    }
   ],
   "source": [
    "plt.imshow(sample)"
   ]
  },
  {
   "cell_type": "markdown",
   "metadata": {},
   "source": [
    "## Parameter\n",
    "\n",
    "Wir werden 4 Parameter definieren müssen. Es ist wirklich (wirklich) schwer gute Parameterwerte für einen Datensatz zu bestimmen, mit dem man keine Erfahrung hat. Da dieser MNIST Datensatz allerdings so berühmt ist haben wir schon einige Ausgangswerte. Die Parameter sind:\n",
    "\n",
    "* Learning Rate - Wie schnell die Kostenfunktion angepasst wird\n",
    "* Traing Epochs - Wie viele Trainingszyklen durchlaufen werden sollen\n",
    "* Batch Size - Größe der \"Batches\" an Traingsdaten"
   ]
  },
  {
   "cell_type": "code",
   "execution_count": 12,
   "metadata": {},
   "outputs": [],
   "source": [
    "# Parameter\n",
    "learning_rate = 0.001\n",
    "training_epochs = 15\n",
    "batch_size = 100"
   ]
  },
  {
   "cell_type": "markdown",
   "metadata": {},
   "source": [
    "### Netzwerk Parameter\n",
    "\n",
    "Hier haben wir Parameter welche unser Neuronales Netz direkt definieren. Diese werden entsprechend der betrachteten Daten angepasst und hängen auch davon ab, welche Art von Netz man nutzt. Es sind bis zu diesem Punkt erst einmal nur Zahlen, die wir später verwenden, um unser Netz zu definieren:"
   ]
  },
  {
   "cell_type": "code",
   "execution_count": 13,
   "metadata": {},
   "outputs": [],
   "source": [
    "# Netzwerk Parameter\n",
    "n_hidden_1 = 256  # 1. Layer: Anzahl an Features\n",
    "n_hidden_2 = 256  # 2. Layer: Anzahl an Features\n",
    "n_input = 784     # MNIST Daten Input (img shape: 28*28)\n",
    "n_classes = 10    # MNIST Klassen (0-9 Zahlen)\n",
    "n_samples = len(x_train)  # Anzahl der Trainingsbeispiele"
   ]
  },
  {
   "cell_type": "markdown",
   "metadata": {},
   "source": [
    "### Tensorflow Graph Input"
   ]
  },
  {
   "cell_type": "code",
   "execution_count": 14,
   "metadata": {},
   "outputs": [],
   "source": [
    "x = tf.keras.Input(shape=(n_input,), dtype=tf.float32)\n",
    "y = tf.keras.Input(shape=(n_classes,), dtype=tf.float32)"
   ]
  },
  {
   "cell_type": "markdown",
   "metadata": {},
   "source": [
    "## MultiLayer Modell\n",
    "\n",
    "Es ist Zeit unser Modell zu erstellen. Wiederholen wir deshalb kurz, was wir erstellen wollen:\n",
    "\n",
    "Zuerst erhalten wir einen *Input* in Form eines Datenarrays und schicken diesen an die erste *Hidden Layer*. Dann wird den Daten ein  *Weight* zwischen den Schichten zugewiesen (welches zuerst ein zufälliger Wert ist). Anschließend wird es an einen *Node* geschicht und unterläuft eine *Activation Function* (zusammen mit einem Bias, wie in der Neural Network Lektion erwähnt). Dann geht es weiter zur nächsten *Layer* und immer so weiter, bis zur finalen *Output Layer*. In unserem Fall werden wir nur 2 *Hidden Layers* verwenden. Je mehr wir davon verwenden, desto länger braucht das Modell (aber er hat mehr Möglichkeiten um die Genauigkeit zu erhöhen).\n",
    "\n",
    "Sobald die transformierte Daten die *Output Layer* erreicht haben müssen wir sie auswerten. Hier verwenden wir eine *Loss Function* (auch Cost Function genannt). Diese berechnet, wie sehr wir vom gewünschten Ergebnis entfernt sind. In diesem Fall: Wie viele der Klassen wir richtig zugeteilt haben.\n",
    "\n",
    "Dann wenden wir eine Optimierungsfunktion an, um die *Costs* (bzw. den Error) zu minimieren. Dies geschiet durch die Anpassung der *Weights* entlang des Netzes. Wir verwenden in unserem Beispiel den [Adam Optimizer](https://arxiv.org/pdf/1412.6980v8.pdf), welcher eine (im Vergleich zu anderen) sehr neue Entwicklung ist.\n",
    "\n",
    "Wir können anpassen, wie schnell diese Optimierung angewendet wird, indem wir unseren *Learning Rate* Parameter anpassen. Je geringer die Rate, desto höher die Möglichkeiten für Anpassungen. Dies erzeugt allerdings die Kosten einer erhöhten Wartezeit. Ab einem bestimmten Punkt lohnt es sich nicht mehr, die Learning Rate weiter zu senken.\n",
    "\n",
    "Jetzt können wir unser Modell erstellen. Wir beginnen mit 2 Hidden Layers, welche die []() Activation Function verwenden. Dies ist eine einfache Umformungsfunktion, die entweder x oder 0 zurückgibt. Für unsere finale Output Layer verwenden wir eine lineare Activation mit Matrixmultiplikation:"
   ]
  },
  {
   "cell_type": "markdown",
   "metadata": {},
   "source": [
    "In diesem Code wird eine Funktion namens \"multilayer_perceptron\" definiert, die ein mehrschichtiges neuronales Netzwerk mit ReLU-Aktivierungsfunktionen für die Hidden Layers und linearer Aktivierungsfunktion für die Output Layer erstellt und die Ausgabe des Netzwerks zurückgibt, wobei die Funktionen `my_logger` und `my_timer` als Dekoratoren verwendet werden, um die Ausführung der Funktion zu protokollieren und die Zeitmessung durchzuführen."
   ]
  },
  {
   "cell_type": "code",
   "execution_count": 15,
   "metadata": {},
   "outputs": [],
   "source": [
    "@my_logger\n",
    "@my_timer\n",
    "def multilayer_perceptron(x, weights, biases):\n",
    "    '''\n",
    "    x : Platzhalter für den Dateninput\n",
    "    weights: Dictionary der Weights\n",
    "    biases: Dictionary Der Biases\n",
    "    '''\n",
    "    \n",
    "    # Erste Hidden layer mit RELU Activation\n",
    "    layer_1 = tf.add(tf.matmul(x, weights['h1']), biases['b1'])\n",
    "    layer_1 = tf.nn.relu(layer_1)\n",
    "    \n",
    "    # Zweite Hidden layer mit RELU Activation\n",
    "    layer_2 = tf.add(tf.matmul(layer_1, weights['h2']), biases['b2'])\n",
    "    layer_2 = tf.nn.relu(layer_2)\n",
    "    \n",
    "    # Letzte Output layer mit linearer Activation\n",
    "    out_layer = tf.matmul(layer_2, weights['out']) + biases['out']\n",
    "    return out_layer"
   ]
  },
  {
   "cell_type": "markdown",
   "metadata": {},
   "source": [
    "## Weights und Bias\n",
    "\n",
    "Damit unser Tensorflow Modell funktioniert müssen wir zwei Dictionaries anlegen, die unsere Weights und Biases enthalten. Wir können das `tf.variable` Objekt verwenden. Dies ist anders als eine Konstante, da Tensorflow's Graph Objekt alle Zustände der Variablen wahrnimmt. Eine Variable ist ein anpassbares Tensor, der zwischen Tensorflow's Graph von interagierenden Operationen lebt. Er kann durch die Berechnung verwendet und verändert werden. Wir werden die Modell Parameter generell als Variablen verwenden. Aus der Dokumentation können wir entnehmen:\n",
    "\n",
    "    A variable maintains state in the graph across calls to `run()`. You add a variable to the graph by constructing an instance of the class `Variable`.\n",
    "\n",
    "    The `Variable()` constructor requires an initial value for the variable, which can be a `Tensor` of any type and shape. The initial value defines the type and shape of the variable. After construction, the type and shape of the variable are fixed. The value can be changed using one of the assign methods.\n",
    "    \n",
    "Wir werden Tensorflow's eingebaute `random_normal` Methode verwenden, um zufällige Werte für unsere Weights und Biases zu erstellen."
   ]
  },
  {
   "cell_type": "code",
   "execution_count": 16,
   "metadata": {},
   "outputs": [],
   "source": [
    "# Gewichtsinitialisierung\n",
    "weights = {\n",
    "    'h1': tf.Variable(tf.initializers.RandomNormal()(shape=[n_input, n_hidden_1])),\n",
    "    'h2': tf.Variable(tf.initializers.RandomNormal()(shape=[n_hidden_1, n_hidden_2])),\n",
    "    'out': tf.Variable(tf.initializers.RandomNormal()(shape=[n_hidden_2, n_classes]))\n",
    "}"
   ]
  },
  {
   "cell_type": "code",
   "execution_count": 17,
   "metadata": {},
   "outputs": [],
   "source": [
    "# Bias-Initialisierung\n",
    "biases = {\n",
    "    'b1': tf.Variable(tf.random.normal([n_hidden_1])),\n",
    "    'b2': tf.Variable(tf.random.normal([n_hidden_2])),\n",
    "    'out': tf.Variable(tf.random.normal([n_classes]))\n",
    "}"
   ]
  },
  {
   "cell_type": "code",
   "execution_count": 18,
   "metadata": {},
   "outputs": [
    {
     "name": "stdout",
     "output_type": "stream",
     "text": [
      "WARNING:tensorflow:The following Variables were used in a Lambda layer's call (tf.linalg.matmul), but are not present in its tracked objects:   <tf.Variable 'Variable:0' shape=(784, 256) dtype=float32>. This is a strong indication that the Lambda layer should be rewritten as a subclassed Layer.\n",
      "WARNING:tensorflow:The following Variables were used in a Lambda layer's call (tf.math.add), but are not present in its tracked objects:   <tf.Variable 'Variable:0' shape=(256,) dtype=float32>. This is a strong indication that the Lambda layer should be rewritten as a subclassed Layer.\n",
      "WARNING:tensorflow:The following Variables were used in a Lambda layer's call (tf.linalg.matmul_1), but are not present in its tracked objects:   <tf.Variable 'Variable:0' shape=(256, 256) dtype=float32>. This is a strong indication that the Lambda layer should be rewritten as a subclassed Layer.\n",
      "WARNING:tensorflow:The following Variables were used in a Lambda layer's call (tf.math.add_1), but are not present in its tracked objects:   <tf.Variable 'Variable:0' shape=(256,) dtype=float32>. This is a strong indication that the Lambda layer should be rewritten as a subclassed Layer.\n",
      "WARNING:tensorflow:The following Variables were used in a Lambda layer's call (tf.linalg.matmul_2), but are not present in its tracked objects:   <tf.Variable 'Variable:0' shape=(256, 10) dtype=float32>. This is a strong indication that the Lambda layer should be rewritten as a subclassed Layer.\n",
      "WARNING:tensorflow:The following Variables were used in a Lambda layer's call (tf.__operators__.add), but are not present in its tracked objects:   <tf.Variable 'Variable:0' shape=(10,) dtype=float32>. This is a strong indication that the Lambda layer should be rewritten as a subclassed Layer.\n",
      "multilayer_perceptron ran in: 0.015626907348632812 sec\n"
     ]
    }
   ],
   "source": [
    "# Model erstellen\n",
    "pred = multilayer_perceptron(x, weights, biases)"
   ]
  },
  {
   "cell_type": "markdown",
   "metadata": {},
   "source": [
    "## Cost und Optimierungs-Funktion\n",
    "\n",
    "Wir verwenden Tensorflow's eingebaute Funktionen für diesesn Teil. Weitere Details bietet die Dokumentation:"
   ]
  },
  {
   "cell_type": "code",
   "execution_count": 19,
   "metadata": {},
   "outputs": [],
   "source": [
    "# Cost und Optimierungsfunktion definieren\n",
    "cost = tf.reduce_mean(tf.nn.softmax_cross_entropy_with_logits(labels = y, logits=pred))"
   ]
  },
  {
   "cell_type": "code",
   "execution_count": 20,
   "metadata": {},
   "outputs": [],
   "source": [
    "optimizer = tf.keras.optimizers.Adam(learning_rate=learning_rate)"
   ]
  },
  {
   "cell_type": "markdown",
   "metadata": {},
   "source": [
    "### Initialisierung der Variablen\n",
    "\n",
    "Wir initialisieren nun alle tf.Variable Objekte die wir zuvor erstellt haben. Das wird das erste sein, dass wir ausführen, wenn wir unser Modell trainieren."
   ]
  },
  {
   "cell_type": "markdown",
   "metadata": {},
   "source": [
    "## Das Modell trainieren\n",
    "\n",
    "### next_batch()\n",
    "\n",
    "Bevor wir beginnen möchte ich eine weitere nützliche Funktion in unserem MNIST Datenobjekt abdecken, die `next_batch` heißt. Diese gibt ein Tupel in der Form (X,y) mit einem X Array der Daten und einem y Array der Klasse. Zum Beispiel:"
   ]
  },
  {
   "cell_type": "code",
   "execution_count": 21,
   "metadata": {},
   "outputs": [],
   "source": [
    "# Erstelle ein TensorFlow-Dataset aus den Trainingsdaten\n",
    "train_dataset = tf.data.Dataset.from_tensor_slices((x_train, y_train))\n",
    "\n",
    "# Mische die Daten und teile sie in Batches auf\n",
    "batch_size = 1\n",
    "train_dataset = train_dataset.shuffle(buffer_size=len(x_train)).batch(batch_size)\n",
    "\n",
    "# Erstelle einen Iterator für das Dataset\n",
    "train_iterator = iter(train_dataset)\n",
    "\n",
    "# Greife auf ein Batch von Daten zu\n",
    "Xsamp, ysamp = next(train_iterator)"
   ]
  },
  {
   "cell_type": "code",
   "execution_count": 22,
   "metadata": {},
   "outputs": [
    {
     "data": {
      "text/plain": [
       "<matplotlib.image.AxesImage at 0x27bc1c77150>"
      ]
     },
     "execution_count": 22,
     "metadata": {},
     "output_type": "execute_result"
    },
    {
     "data": {
      "image/png": "[encoded data removed]",
      "text/plain": [
       "<Figure size 640x480 with 1 Axes>"
      ]
     },
     "metadata": {},
     "output_type": "display_data"
    }
   ],
   "source": [
    "# Wandele Xsamp in ein Numpy-Array um\n",
    "Xsamp_numpy = Xsamp.numpy()\n",
    "\n",
    "# Zeige das Bild mit imshow\n",
    "plt.imshow(Xsamp_numpy.reshape(28, 28))"
   ]
  },
  {
   "cell_type": "code",
   "execution_count": 23,
   "metadata": {},
   "outputs": [
    {
     "name": "stdout",
     "output_type": "stream",
     "text": [
      "tf.Tensor([3], shape=(1,), dtype=int32)\n"
     ]
    }
   ],
   "source": [
    "print(ysamp)"
   ]
  },
  {
   "cell_type": "code",
   "execution_count": 24,
   "metadata": {},
   "outputs": [],
   "source": [
    "# Ihre Decorators\n",
    "\n",
    "def my_logger(orig_func):\n",
    "    logging.basicConfig(filename='{}.log'.format(orig_func.__name__), level=logging.INFO)\n",
    "\n",
    "    @wraps(orig_func)\n",
    "    def wrapper(*args, **kwargs):\n",
    "        logging.info(\n",
    "            'Ran with args: {}, and kwargs: {}'.format(args, kwargs))\n",
    "        return orig_func(*args, **kwargs)\n",
    "\n",
    "    return wrapper\n",
    "def my_timer(orig_func):\n",
    "\n",
    "    @wraps(orig_func)\n",
    "    def wrapper(*args, **kwargs):\n",
    "        t1 = time.time()\n",
    "        result = orig_func(*args, **kwargs)\n",
    "        t2 = time.time() - t1\n",
    "        print('{} ran in: {} sec'.format(orig_func.__name__, t2))\n",
    "        return result\n",
    "\n",
    "    return wrapper"
   ]
  },
  {
   "cell_type": "markdown",
   "metadata": {},
   "source": [
    "## Die Session ausführen\n",
    "\n",
    "Jetzt ist es Zeit unsere Session auszuführen! Achte darauf wie wir zwei Schleifen verwenden. Die äußere, die die Epochs durchläuft, und die innere, die die Batches für jede Epoch des Trainings ausführt.\n",
    "\n",
    "## Wichtig, hier wurden aus zeitlichen Gründen mit 1% der Daten gearbeitet. Der Code ist mit jeder Prozentzahl reproduzierbar.\n",
    "\n",
    "Es wurde aus zeitlicher und übersichtlicher Sicht eine View sowie eine Abfrage des gewünschten Prozentsatzes eingebaut."
   ]
  },
  {
   "cell_type": "code",
   "execution_count": 25,
   "metadata": {},
   "outputs": [
    {
     "name": "stdout",
     "output_type": "stream",
     "text": [
      "Geben Sie den Prozentsatz der Daten ein, der verarbeitet werden soll (0-100): 1\n"
     ]
    },
    {
     "name": "stderr",
     "output_type": "stream",
     "text": [
      "  0%|          | 2/560 [00:00<00:27, 19.94it/s]"
     ]
    },
    {
     "name": "stdout",
     "output_type": "stream",
     "text": [
      "multilayer_perceptron ran in: 0.0 sec\n",
      "multilayer_perceptron ran in: 0.0 sec\n",
      "multilayer_perceptron ran in: 0.0 sec\n",
      "multilayer_perceptron ran in: 0.01562809944152832 sec\n",
      "multilayer_perceptron ran in: 0.0 sec\n"
     ]
    },
    {
     "name": "stderr",
     "output_type": "stream",
     "text": [
      "  2%|▏         | 10/560 [00:00<00:17, 31.60it/s]"
     ]
    },
    {
     "name": "stdout",
     "output_type": "stream",
     "text": [
      "multilayer_perceptron ran in: 0.0 sec\n",
      "multilayer_perceptron ran in: 0.0 sec\n",
      "multilayer_perceptron ran in: 0.0 sec\n",
      "multilayer_perceptron ran in: 0.0 sec\n",
      "multilayer_perceptron ran in: 0.0 sec\n",
      "multilayer_perceptron ran in: 0.0 sec\n",
      "multilayer_perceptron ran in: 0.0 sec\n"
     ]
    },
    {
     "name": "stderr",
     "output_type": "stream",
     "text": [
      "  3%|▎         | 18/560 [00:00<00:16, 32.29it/s]"
     ]
    },
    {
     "name": "stdout",
     "output_type": "stream",
     "text": [
      "multilayer_perceptron ran in: 0.0 sec\n",
      "multilayer_perceptron ran in: 0.0 sec\n",
      "multilayer_perceptron ran in: 0.0 sec\n",
      "multilayer_perceptron ran in: 0.0 sec\n",
      "multilayer_perceptron ran in: 0.0 sec\n",
      "multilayer_perceptron ran in: 0.0 sec\n",
      "multilayer_perceptron ran in: 0.0 sec\n"
     ]
    },
    {
     "name": "stderr",
     "output_type": "stream",
     "text": [
      "  5%|▍         | 26/560 [00:00<00:16, 32.67it/s]"
     ]
    },
    {
     "name": "stdout",
     "output_type": "stream",
     "text": [
      "multilayer_perceptron ran in: 0.0 sec\n",
      "multilayer_perceptron ran in: 0.0 sec\n",
      "multilayer_perceptron ran in: 0.0 sec\n",
      "multilayer_perceptron ran in: 0.0 sec\n",
      "multilayer_perceptron ran in: 0.0 sec\n",
      "multilayer_perceptron ran in: 0.0 sec\n",
      "multilayer_perceptron ran in: 0.0 sec\n"
     ]
    },
    {
     "name": "stderr",
     "output_type": "stream",
     "text": [
      "\r",
      "  5%|▌         | 30/560 [00:00<00:15, 33.24it/s]"
     ]
    },
    {
     "name": "stdout",
     "output_type": "stream",
     "text": [
      "multilayer_perceptron ran in: 0.0 sec\n",
      "multilayer_perceptron ran in: 0.0 sec\n",
      "multilayer_perceptron ran in: 0.0 sec\n",
      "multilayer_perceptron ran in: 0.015613079071044922 sec\n",
      "multilayer_perceptron ran in: 0.0 sec\n",
      "multilayer_perceptron ran in: 0.0 sec\n",
      "multilayer_perceptron ran in: 0.0 sec\n"
     ]
    },
    {
     "name": "stderr",
     "output_type": "stream",
     "text": [
      "  7%|▋         | 38/560 [00:01<00:15, 33.90it/s]"
     ]
    },
    {
     "name": "stdout",
     "output_type": "stream",
     "text": [
      "multilayer_perceptron ran in: 0.01562666893005371 sec\n",
      "multilayer_perceptron ran in: 0.0 sec\n",
      "multilayer_perceptron ran in: 0.0 sec\n",
      "multilayer_perceptron ran in: 0.0 sec\n",
      "multilayer_perceptron ran in: 0.0 sec\n",
      "multilayer_perceptron ran in: 0.0 sec\n",
      "multilayer_perceptron ran in: 0.0 sec\n"
     ]
    },
    {
     "name": "stderr",
     "output_type": "stream",
     "text": [
      "  8%|▊         | 46/560 [00:01<00:15, 33.43it/s]"
     ]
    },
    {
     "name": "stdout",
     "output_type": "stream",
     "text": [
      "multilayer_perceptron ran in: 0.0 sec\n",
      "multilayer_perceptron ran in: 0.0 sec\n",
      "multilayer_perceptron ran in: 0.0 sec\n",
      "multilayer_perceptron ran in: 0.0 sec\n",
      "multilayer_perceptron ran in: 0.0 sec\n",
      "multilayer_perceptron ran in: 0.0 sec\n",
      "multilayer_perceptron ran in: 0.0 sec\n"
     ]
    },
    {
     "name": "stderr",
     "output_type": "stream",
     "text": [
      "\r",
      "  9%|▉         | 50/560 [00:01<00:15, 32.82it/s]"
     ]
    },
    {
     "name": "stdout",
     "output_type": "stream",
     "text": [
      "multilayer_perceptron ran in: 0.0 sec\n",
      "multilayer_perceptron ran in: 0.0020079612731933594 sec\n",
      "multilayer_perceptron ran in: 0.0 sec\n",
      "multilayer_perceptron ran in: 0.0 sec\n",
      "multilayer_perceptron ran in: 0.0 sec\n",
      "multilayer_perceptron ran in: 0.015651464462280273 sec\n",
      "multilayer_perceptron ran in: 0.0 sec\n"
     ]
    },
    {
     "name": "stderr",
     "output_type": "stream",
     "text": [
      " 10%|█         | 58/560 [00:01<00:15, 32.38it/s]"
     ]
    },
    {
     "name": "stdout",
     "output_type": "stream",
     "text": [
      "multilayer_perceptron ran in: 0.0 sec\n",
      "multilayer_perceptron ran in: 0.0 sec\n",
      "multilayer_perceptron ran in: 0.0 sec\n",
      "multilayer_perceptron ran in: 0.0 sec\n",
      "multilayer_perceptron ran in: 0.0 sec\n",
      "multilayer_perceptron ran in: 0.0 sec\n",
      "multilayer_perceptron ran in: 0.015642404556274414 sec\n"
     ]
    },
    {
     "name": "stderr",
     "output_type": "stream",
     "text": [
      " 12%|█▏        | 66/560 [00:02<00:15, 32.67it/s]"
     ]
    },
    {
     "name": "stdout",
     "output_type": "stream",
     "text": [
      "multilayer_perceptron ran in: 0.0 sec\n",
      "multilayer_perceptron ran in: 0.0 sec\n",
      "multilayer_perceptron ran in: 0.0 sec\n",
      "multilayer_perceptron ran in: 0.0 sec\n",
      "multilayer_perceptron ran in: 0.0 sec\n",
      "multilayer_perceptron ran in: 0.0 sec\n",
      "multilayer_perceptron ran in: 0.0 sec\n"
     ]
    },
    {
     "name": "stderr",
     "output_type": "stream",
     "text": [
      " 13%|█▎        | 74/560 [00:02<00:14, 33.58it/s]"
     ]
    },
    {
     "name": "stdout",
     "output_type": "stream",
     "text": [
      "multilayer_perceptron ran in: 0.006524801254272461 sec\n",
      "multilayer_perceptron ran in: 0.0 sec\n",
      "multilayer_perceptron ran in: 0.0 sec\n",
      "multilayer_perceptron ran in: 0.0 sec\n",
      "multilayer_perceptron ran in: 0.0 sec\n",
      "multilayer_perceptron ran in: 0.0 sec\n",
      "multilayer_perceptron ran in: 0.0 sec\n"
     ]
    },
    {
     "name": "stderr",
     "output_type": "stream",
     "text": [
      " 15%|█▍        | 82/560 [00:02<00:14, 33.49it/s]"
     ]
    },
    {
     "name": "stdout",
     "output_type": "stream",
     "text": [
      "multilayer_perceptron ran in: 0.0 sec\n",
      "multilayer_perceptron ran in: 0.0 sec\n",
      "multilayer_perceptron ran in: 0.015625476837158203 sec\n",
      "multilayer_perceptron ran in: 0.0156252384185791 sec\n",
      "multilayer_perceptron ran in: 0.0 sec\n",
      "multilayer_perceptron ran in: 0.0 sec\n",
      "multilayer_perceptron ran in: 0.0 sec\n"
     ]
    },
    {
     "name": "stderr",
     "output_type": "stream",
     "text": [
      "\r",
      " 15%|█▌        | 86/560 [00:02<00:14, 33.79it/s]"
     ]
    },
    {
     "name": "stdout",
     "output_type": "stream",
     "text": [
      "multilayer_perceptron ran in: 0.0 sec\n",
      "multilayer_perceptron ran in: 0.0 sec\n",
      "multilayer_perceptron ran in: 0.0 sec\n",
      "multilayer_perceptron ran in: 0.0 sec\n",
      "multilayer_perceptron ran in: 0.0 sec\n",
      "multilayer_perceptron ran in: 0.0 sec\n",
      "multilayer_perceptron ran in: 0.0 sec\n"
     ]
    },
    {
     "name": "stderr",
     "output_type": "stream",
     "text": [
      " 17%|█▋        | 94/560 [00:02<00:14, 33.22it/s]"
     ]
    },
    {
     "name": "stdout",
     "output_type": "stream",
     "text": [
      "multilayer_perceptron ran in: 0.0 sec\n",
      "multilayer_perceptron ran in: 0.0 sec\n",
      "multilayer_perceptron ran in: 0.0 sec\n",
      "multilayer_perceptron ran in: 0.015635013580322266 sec\n",
      "multilayer_perceptron ran in: 0.0 sec\n",
      "multilayer_perceptron ran in: 0.0 sec\n",
      "multilayer_perceptron ran in: 0.0 sec\n"
     ]
    },
    {
     "name": "stderr",
     "output_type": "stream",
     "text": [
      " 18%|█▊        | 102/560 [00:03<00:13, 33.87it/s]"
     ]
    },
    {
     "name": "stdout",
     "output_type": "stream",
     "text": [
      "multilayer_perceptron ran in: 0.0 sec\n",
      "multilayer_perceptron ran in: 0.0 sec\n",
      "multilayer_perceptron ran in: 0.0 sec\n",
      "multilayer_perceptron ran in: 0.0 sec\n",
      "multilayer_perceptron ran in: 0.0 sec\n",
      "multilayer_perceptron ran in: 0.0 sec\n",
      "multilayer_perceptron ran in: 0.0 sec\n"
     ]
    },
    {
     "name": "stderr",
     "output_type": "stream",
     "text": [
      "\r",
      " 19%|█▉        | 106/560 [00:03<00:13, 33.50it/s]"
     ]
    },
    {
     "name": "stdout",
     "output_type": "stream",
     "text": [
      "multilayer_perceptron ran in: 0.0 sec\n",
      "multilayer_perceptron ran in: 0.0 sec\n",
      "multilayer_perceptron ran in: 0.006525278091430664 sec\n",
      "multilayer_perceptron ran in: 0.015611648559570312 sec\n",
      "multilayer_perceptron ran in: 0.01561427116394043 sec\n",
      "multilayer_perceptron ran in: 0.0 sec\n",
      "multilayer_perceptron ran in: 0.0 sec\n"
     ]
    },
    {
     "name": "stderr",
     "output_type": "stream",
     "text": [
      " 20%|██        | 114/560 [00:03<00:13, 33.93it/s]"
     ]
    },
    {
     "name": "stdout",
     "output_type": "stream",
     "text": [
      "multilayer_perceptron ran in: 0.0 sec\n",
      "multilayer_perceptron ran in: 0.0 sec\n",
      "multilayer_perceptron ran in: 0.0 sec\n",
      "multilayer_perceptron ran in: 0.0 sec\n",
      "multilayer_perceptron ran in: 0.0 sec\n",
      "multilayer_perceptron ran in: 0.0 sec\n"
     ]
    },
    {
     "name": "stderr",
     "output_type": "stream",
     "text": [
      " 22%|██▏       | 122/560 [00:03<00:13, 32.81it/s]"
     ]
    },
    {
     "name": "stdout",
     "output_type": "stream",
     "text": [
      "multilayer_perceptron ran in: 0.015624761581420898 sec\n",
      "multilayer_perceptron ran in: 0.0 sec\n",
      "multilayer_perceptron ran in: 0.0 sec\n",
      "multilayer_perceptron ran in: 0.0 sec\n",
      "multilayer_perceptron ran in: 0.0 sec\n",
      "multilayer_perceptron ran in: 0.0 sec\n",
      "multilayer_perceptron ran in: 0.01565384864807129 sec\n"
     ]
    },
    {
     "name": "stderr",
     "output_type": "stream",
     "text": [
      "\r",
      " 22%|██▎       | 126/560 [00:03<00:13, 33.30it/s]"
     ]
    },
    {
     "name": "stdout",
     "output_type": "stream",
     "text": [
      "multilayer_perceptron ran in: 0.01562643051147461 sec\n",
      "multilayer_perceptron ran in: 0.0 sec\n",
      "multilayer_perceptron ran in: 0.0 sec\n",
      "multilayer_perceptron ran in: 0.0 sec\n",
      "multilayer_perceptron ran in: 0.0 sec\n",
      "multilayer_perceptron ran in: 0.0065076351165771484 sec\n",
      "multilayer_perceptron ran in: 0.0 sec\n"
     ]
    },
    {
     "name": "stderr",
     "output_type": "stream",
     "text": [
      " 24%|██▍       | 134/560 [00:04<00:12, 32.99it/s]"
     ]
    },
    {
     "name": "stdout",
     "output_type": "stream",
     "text": [
      "multilayer_perceptron ran in: 0.0 sec\n",
      "multilayer_perceptron ran in: 0.0 sec\n",
      "multilayer_perceptron ran in: 0.0 sec\n",
      "multilayer_perceptron ran in: 0.015614032745361328 sec\n",
      "multilayer_perceptron ran in: 0.0 sec\n",
      "multilayer_perceptron ran in: 0.0 sec\n",
      "multilayer_perceptron ran in: 0.0 sec\n",
      "multilayer_perceptron ran in: 0.0 sec\n"
     ]
    },
    {
     "name": "stderr",
     "output_type": "stream",
     "text": [
      " 25%|██▌       | 142/560 [00:04<00:12, 33.75it/s]"
     ]
    },
    {
     "name": "stdout",
     "output_type": "stream",
     "text": [
      "multilayer_perceptron ran in: 0.0 sec\n",
      "multilayer_perceptron ran in: 0.0 sec\n",
      "multilayer_perceptron ran in: 0.0 sec\n",
      "multilayer_perceptron ran in: 0.015624284744262695 sec\n",
      "multilayer_perceptron ran in: 0.0 sec\n",
      "multilayer_perceptron ran in: 0.0 sec\n",
      "multilayer_perceptron ran in: 0.0 sec\n"
     ]
    },
    {
     "name": "stderr",
     "output_type": "stream",
     "text": [
      " 27%|██▋       | 150/560 [00:04<00:12, 33.74it/s]"
     ]
    },
    {
     "name": "stdout",
     "output_type": "stream",
     "text": [
      "multilayer_perceptron ran in: 0.0 sec\n",
      "multilayer_perceptron ran in: 0.0 sec\n",
      "multilayer_perceptron ran in: 0.0 sec\n",
      "multilayer_perceptron ran in: 0.0 sec\n",
      "multilayer_perceptron ran in: 0.0 sec\n",
      "multilayer_perceptron ran in: 0.0 sec\n",
      "multilayer_perceptron ran in: 0.0 sec\n"
     ]
    },
    {
     "name": "stderr",
     "output_type": "stream",
     "text": [
      " 28%|██▊       | 158/560 [00:04<00:11, 34.13it/s]"
     ]
    },
    {
     "name": "stdout",
     "output_type": "stream",
     "text": [
      "multilayer_perceptron ran in: 0.0 sec\n",
      "multilayer_perceptron ran in: 0.015628337860107422 sec\n",
      "multilayer_perceptron ran in: 0.0 sec\n",
      "multilayer_perceptron ran in: 0.0 sec\n",
      "multilayer_perceptron ran in: 0.0 sec\n",
      "multilayer_perceptron ran in: 0.01562666893005371 sec\n",
      "multilayer_perceptron ran in: 0.0 sec\n",
      "multilayer_perceptron ran in: 0.0 sec\n"
     ]
    },
    {
     "name": "stderr",
     "output_type": "stream",
     "text": [
      " 30%|██▉       | 166/560 [00:04<00:11, 33.76it/s]"
     ]
    },
    {
     "name": "stdout",
     "output_type": "stream",
     "text": [
      "multilayer_perceptron ran in: 0.0 sec\n",
      "multilayer_perceptron ran in: 0.0 sec\n",
      "multilayer_perceptron ran in: 0.0 sec\n",
      "multilayer_perceptron ran in: 0.0 sec\n",
      "multilayer_perceptron ran in: 0.0 sec\n",
      "multilayer_perceptron ran in: 0.0 sec\n",
      "multilayer_perceptron ran in: 0.0 sec\n"
     ]
    },
    {
     "name": "stderr",
     "output_type": "stream",
     "text": [
      "\r",
      " 30%|███       | 170/560 [00:05<00:11, 33.97it/s]"
     ]
    },
    {
     "name": "stdout",
     "output_type": "stream",
     "text": [
      "multilayer_perceptron ran in: 0.0 sec\n",
      "multilayer_perceptron ran in: 0.0 sec\n",
      "multilayer_perceptron ran in: 0.0 sec\n",
      "multilayer_perceptron ran in: 0.0 sec\n",
      "multilayer_perceptron ran in: 0.0 sec\n",
      "multilayer_perceptron ran in: 0.0 sec\n",
      "multilayer_perceptron ran in: 0.0 sec\n"
     ]
    },
    {
     "name": "stderr",
     "output_type": "stream",
     "text": [
      " 32%|███▏      | 178/560 [00:05<00:11, 34.24it/s]"
     ]
    },
    {
     "name": "stdout",
     "output_type": "stream",
     "text": [
      "multilayer_perceptron ran in: 0.0 sec\n",
      "multilayer_perceptron ran in: 0.01563262939453125 sec\n",
      "multilayer_perceptron ran in: 0.0 sec\n",
      "multilayer_perceptron ran in: 0.0 sec\n",
      "multilayer_perceptron ran in: 0.0 sec\n",
      "multilayer_perceptron ran in: 0.01581883430480957 sec\n",
      "multilayer_perceptron ran in: 0.0 sec\n"
     ]
    },
    {
     "name": "stderr",
     "output_type": "stream",
     "text": [
      " 33%|███▎      | 186/560 [00:05<00:10, 34.39it/s]"
     ]
    },
    {
     "name": "stdout",
     "output_type": "stream",
     "text": [
      "multilayer_perceptron ran in: 0.0 sec\n",
      "multilayer_perceptron ran in: 0.0 sec\n",
      "multilayer_perceptron ran in: 0.0 sec\n",
      "multilayer_perceptron ran in: 0.0 sec\n",
      "multilayer_perceptron ran in: 0.0 sec\n",
      "multilayer_perceptron ran in: 0.0 sec\n",
      "multilayer_perceptron ran in: 0.0 sec\n",
      "multilayer_perceptron ran in: 0.0 sec\n"
     ]
    },
    {
     "name": "stderr",
     "output_type": "stream",
     "text": [
      " 35%|███▍      | 194/560 [00:05<00:10, 34.05it/s]"
     ]
    },
    {
     "name": "stdout",
     "output_type": "stream",
     "text": [
      "multilayer_perceptron ran in: 0.0 sec\n",
      "multilayer_perceptron ran in: 0.0 sec\n",
      "multilayer_perceptron ran in: 0.0 sec\n",
      "multilayer_perceptron ran in: 0.0 sec\n",
      "multilayer_perceptron ran in: 0.0 sec\n",
      "multilayer_perceptron ran in: 0.0 sec\n",
      "multilayer_perceptron ran in: 0.0 sec\n"
     ]
    },
    {
     "name": "stderr",
     "output_type": "stream",
     "text": [
      " 36%|███▌      | 202/560 [00:06<00:10, 34.28it/s]"
     ]
    },
    {
     "name": "stdout",
     "output_type": "stream",
     "text": [
      "multilayer_perceptron ran in: 0.0 sec\n",
      "multilayer_perceptron ran in: 0.0 sec\n",
      "multilayer_perceptron ran in: 0.0 sec\n",
      "multilayer_perceptron ran in: 0.0 sec\n",
      "multilayer_perceptron ran in: 0.0 sec\n",
      "multilayer_perceptron ran in: 0.0 sec\n",
      "multilayer_perceptron ran in: 0.0 sec\n"
     ]
    },
    {
     "name": "stderr",
     "output_type": "stream",
     "text": [
      " 38%|███▊      | 210/560 [00:06<00:10, 34.40it/s]"
     ]
    },
    {
     "name": "stdout",
     "output_type": "stream",
     "text": [
      "multilayer_perceptron ran in: 0.0 sec\n",
      "multilayer_perceptron ran in: 0.0 sec\n",
      "multilayer_perceptron ran in: 0.0 sec\n",
      "multilayer_perceptron ran in: 0.0 sec\n",
      "multilayer_perceptron ran in: 0.0 sec\n",
      "multilayer_perceptron ran in: 0.0 sec\n",
      "multilayer_perceptron ran in: 0.0 sec\n"
     ]
    },
    {
     "name": "stderr",
     "output_type": "stream",
     "text": [
      "\r",
      " 38%|███▊      | 214/560 [00:06<00:10, 33.86it/s]"
     ]
    },
    {
     "name": "stdout",
     "output_type": "stream",
     "text": [
      "multilayer_perceptron ran in: 0.006509304046630859 sec\n",
      "multilayer_perceptron ran in: 0.0 sec\n",
      "multilayer_perceptron ran in: 0.0 sec\n",
      "multilayer_perceptron ran in: 0.0 sec\n",
      "multilayer_perceptron ran in: 0.0 sec\n",
      "multilayer_perceptron ran in: 0.0156402587890625 sec\n",
      "multilayer_perceptron ran in: 0.0 sec\n",
      "multilayer_perceptron ran in: 0.0 sec\n"
     ]
    },
    {
     "name": "stderr",
     "output_type": "stream",
     "text": [
      " 40%|███▉      | 222/560 [00:06<00:09, 34.19it/s]"
     ]
    },
    {
     "name": "stdout",
     "output_type": "stream",
     "text": [
      "multilayer_perceptron ran in: 0.0 sec\n",
      "multilayer_perceptron ran in: 0.0 sec\n",
      "multilayer_perceptron ran in: 0.015626192092895508 sec\n",
      "multilayer_perceptron ran in: 0.0 sec\n",
      "multilayer_perceptron ran in: 0.0 sec\n",
      "multilayer_perceptron ran in: 0.0 sec\n",
      "multilayer_perceptron ran in: 0.0 sec\n"
     ]
    },
    {
     "name": "stderr",
     "output_type": "stream",
     "text": [
      " 41%|████      | 230/560 [00:06<00:09, 34.35it/s]"
     ]
    },
    {
     "name": "stdout",
     "output_type": "stream",
     "text": [
      "multilayer_perceptron ran in: 0.0 sec\n",
      "multilayer_perceptron ran in: 0.0 sec\n",
      "multilayer_perceptron ran in: 0.006540536880493164 sec\n",
      "multilayer_perceptron ran in: 0.0 sec\n",
      "multilayer_perceptron ran in: 0.0 sec\n",
      "multilayer_perceptron ran in: 0.0 sec\n",
      "multilayer_perceptron ran in: 0.01565265655517578 sec\n"
     ]
    },
    {
     "name": "stderr",
     "output_type": "stream",
     "text": [
      " 42%|████▎     | 238/560 [00:07<00:09, 34.27it/s]"
     ]
    },
    {
     "name": "stdout",
     "output_type": "stream",
     "text": [
      "multilayer_perceptron ran in: 0.0 sec\n",
      "multilayer_perceptron ran in: 0.0 sec\n",
      "multilayer_perceptron ran in: 0.0 sec\n",
      "multilayer_perceptron ran in: 0.0 sec\n",
      "multilayer_perceptron ran in: 0.0 sec\n",
      "multilayer_perceptron ran in: 0.0 sec\n",
      "multilayer_perceptron ran in: 0.0 sec\n"
     ]
    },
    {
     "name": "stderr",
     "output_type": "stream",
     "text": [
      " 44%|████▍     | 246/560 [00:07<00:09, 34.39it/s]"
     ]
    },
    {
     "name": "stdout",
     "output_type": "stream",
     "text": [
      "multilayer_perceptron ran in: 0.0 sec\n",
      "multilayer_perceptron ran in: 0.0 sec\n",
      "multilayer_perceptron ran in: 0.0 sec\n",
      "multilayer_perceptron ran in: 0.0 sec\n",
      "multilayer_perceptron ran in: 0.0 sec\n",
      "multilayer_perceptron ran in: 0.0 sec\n",
      "multilayer_perceptron ran in: 0.0 sec\n"
     ]
    },
    {
     "name": "stderr",
     "output_type": "stream",
     "text": [
      "\r",
      " 45%|████▍     | 250/560 [00:07<00:09, 33.11it/s]"
     ]
    },
    {
     "name": "stdout",
     "output_type": "stream",
     "text": [
      "multilayer_perceptron ran in: 0.0 sec\n",
      "multilayer_perceptron ran in: 0.0 sec\n",
      "multilayer_perceptron ran in: 0.0 sec\n",
      "multilayer_perceptron ran in: 0.0 sec\n",
      "multilayer_perceptron ran in: 0.0 sec\n",
      "multilayer_perceptron ran in: 0.0 sec\n",
      "multilayer_perceptron ran in: 0.0 sec\n"
     ]
    },
    {
     "name": "stderr",
     "output_type": "stream",
     "text": [
      " 46%|████▌     | 258/560 [00:07<00:08, 33.81it/s]"
     ]
    },
    {
     "name": "stdout",
     "output_type": "stream",
     "text": [
      "multilayer_perceptron ran in: 0.0 sec\n",
      "multilayer_perceptron ran in: 0.0 sec\n",
      "multilayer_perceptron ran in: 0.0 sec\n",
      "multilayer_perceptron ran in: 0.015643596649169922 sec\n",
      "multilayer_perceptron ran in: 0.0 sec\n",
      "multilayer_perceptron ran in: 0.0 sec\n",
      "multilayer_perceptron ran in: 0.0 sec\n",
      "multilayer_perceptron ran in: 0.0 sec\n"
     ]
    },
    {
     "name": "stderr",
     "output_type": "stream",
     "text": [
      " 48%|████▊     | 266/560 [00:07<00:08, 34.72it/s]"
     ]
    },
    {
     "name": "stdout",
     "output_type": "stream",
     "text": [
      "multilayer_perceptron ran in: 0.0 sec\n",
      "multilayer_perceptron ran in: 0.0 sec\n",
      "multilayer_perceptron ran in: 0.0 sec\n",
      "multilayer_perceptron ran in: 0.0 sec\n",
      "multilayer_perceptron ran in: 0.0 sec\n",
      "multilayer_perceptron ran in: 0.0 sec\n",
      "multilayer_perceptron ran in: 0.0 sec\n"
     ]
    },
    {
     "name": "stderr",
     "output_type": "stream",
     "text": [
      " 49%|████▉     | 274/560 [00:08<00:08, 33.27it/s]"
     ]
    },
    {
     "name": "stdout",
     "output_type": "stream",
     "text": [
      "multilayer_perceptron ran in: 0.0 sec\n",
      "multilayer_perceptron ran in: 0.0 sec\n",
      "multilayer_perceptron ran in: 0.0 sec\n",
      "multilayer_perceptron ran in: 0.0 sec\n",
      "multilayer_perceptron ran in: 0.0 sec\n",
      "multilayer_perceptron ran in: 0.0 sec\n",
      "multilayer_perceptron ran in: 0.0 sec\n"
     ]
    },
    {
     "name": "stderr",
     "output_type": "stream",
     "text": [
      " 50%|█████     | 282/560 [00:08<00:08, 33.89it/s]"
     ]
    },
    {
     "name": "stdout",
     "output_type": "stream",
     "text": [
      "multilayer_perceptron ran in: 0.0 sec\n",
      "multilayer_perceptron ran in: 0.015639781951904297 sec\n",
      "multilayer_perceptron ran in: 0.0 sec\n",
      "multilayer_perceptron ran in: 0.0 sec\n",
      "multilayer_perceptron ran in: 0.0 sec\n",
      "multilayer_perceptron ran in: 0.0 sec\n",
      "multilayer_perceptron ran in: 0.0 sec\n"
     ]
    },
    {
     "name": "stderr",
     "output_type": "stream",
     "text": [
      "\r",
      " 51%|█████     | 286/560 [00:08<00:08, 33.51it/s]"
     ]
    },
    {
     "name": "stdout",
     "output_type": "stream",
     "text": [
      "multilayer_perceptron ran in: 0.0 sec\n",
      "multilayer_perceptron ran in: 0.0 sec\n",
      "multilayer_perceptron ran in: 0.0 sec\n",
      "multilayer_perceptron ran in: 0.0 sec\n",
      "multilayer_perceptron ran in: 0.0 sec\n",
      "multilayer_perceptron ran in: 0.0 sec\n",
      "multilayer_perceptron ran in: 0.0 sec\n"
     ]
    },
    {
     "name": "stderr",
     "output_type": "stream",
     "text": [
      " 52%|█████▎    | 294/560 [00:08<00:07, 34.01it/s]"
     ]
    },
    {
     "name": "stdout",
     "output_type": "stream",
     "text": [
      "multilayer_perceptron ran in: 0.01563549041748047 sec\n",
      "multilayer_perceptron ran in: 0.0 sec\n",
      "multilayer_perceptron ran in: 0.0 sec\n",
      "multilayer_perceptron ran in: 0.0 sec\n",
      "multilayer_perceptron ran in: 0.0 sec\n",
      "multilayer_perceptron ran in: 0.0 sec\n",
      "multilayer_perceptron ran in: 0.0 sec\n"
     ]
    },
    {
     "name": "stderr",
     "output_type": "stream",
     "text": [
      " 54%|█████▍    | 302/560 [00:08<00:07, 34.26it/s]"
     ]
    },
    {
     "name": "stdout",
     "output_type": "stream",
     "text": [
      "multilayer_perceptron ran in: 0.0 sec\n",
      "multilayer_perceptron ran in: 0.0 sec\n",
      "multilayer_perceptron ran in: 0.0 sec\n",
      "multilayer_perceptron ran in: 0.0 sec\n",
      "multilayer_perceptron ran in: 0.0 sec\n",
      "multilayer_perceptron ran in: 0.0 sec\n"
     ]
    },
    {
     "name": "stderr",
     "output_type": "stream",
     "text": [
      "\r",
      " 55%|█████▍    | 306/560 [00:09<00:07, 33.77it/s]"
     ]
    },
    {
     "name": "stdout",
     "output_type": "stream",
     "text": [
      "multilayer_perceptron ran in: 0.0 sec\n",
      "multilayer_perceptron ran in: 0.0 sec\n",
      "multilayer_perceptron ran in: 0.0 sec\n",
      "multilayer_perceptron ran in: 0.0 sec\n",
      "multilayer_perceptron ran in: 0.0 sec\n",
      "multilayer_perceptron ran in: 0.0 sec\n",
      "multilayer_perceptron ran in: 0.0 sec\n"
     ]
    },
    {
     "name": "stderr",
     "output_type": "stream",
     "text": [
      " 56%|█████▌    | 314/560 [00:09<00:07, 34.14it/s]"
     ]
    },
    {
     "name": "stdout",
     "output_type": "stream",
     "text": [
      "multilayer_perceptron ran in: 0.0 sec\n",
      "multilayer_perceptron ran in: 0.0 sec\n",
      "multilayer_perceptron ran in: 0.0 sec\n",
      "multilayer_perceptron ran in: 0.0 sec\n",
      "multilayer_perceptron ran in: 0.0 sec\n",
      "multilayer_perceptron ran in: 0.0 sec\n",
      "multilayer_perceptron ran in: 0.0010001659393310547 sec\n",
      "multilayer_perceptron ran in: 0.0 sec\n"
     ]
    },
    {
     "name": "stderr",
     "output_type": "stream",
     "text": [
      " 57%|█████▊    | 322/560 [00:09<00:06, 34.35it/s]"
     ]
    },
    {
     "name": "stdout",
     "output_type": "stream",
     "text": [
      "multilayer_perceptron ran in: 0.0 sec\n",
      "multilayer_perceptron ran in: 0.0 sec\n",
      "multilayer_perceptron ran in: 0.0 sec\n",
      "multilayer_perceptron ran in: 0.0 sec\n",
      "multilayer_perceptron ran in: 0.0 sec\n",
      "multilayer_perceptron ran in: 0.0 sec\n",
      "multilayer_perceptron ran in: 0.0 sec\n",
      "multilayer_perceptron ran in: 0.0 sec\n"
     ]
    },
    {
     "name": "stderr",
     "output_type": "stream",
     "text": [
      " 59%|█████▉    | 330/560 [00:09<00:06, 34.26it/s]"
     ]
    },
    {
     "name": "stdout",
     "output_type": "stream",
     "text": [
      "multilayer_perceptron ran in: 0.0 sec\n",
      "multilayer_perceptron ran in: 0.0 sec\n",
      "multilayer_perceptron ran in: 0.0 sec\n",
      "multilayer_perceptron ran in: 0.0 sec\n",
      "multilayer_perceptron ran in: 0.0 sec\n",
      "multilayer_perceptron ran in: 0.0 sec\n",
      "multilayer_perceptron ran in: 0.0 sec\n"
     ]
    },
    {
     "name": "stderr",
     "output_type": "stream",
     "text": [
      " 60%|██████    | 338/560 [00:10<00:06, 34.81it/s]"
     ]
    },
    {
     "name": "stdout",
     "output_type": "stream",
     "text": [
      "multilayer_perceptron ran in: 0.0 sec\n",
      "multilayer_perceptron ran in: 0.0 sec\n",
      "multilayer_perceptron ran in: 0.0 sec\n",
      "multilayer_perceptron ran in: 0.0 sec\n",
      "multilayer_perceptron ran in: 0.0 sec\n",
      "multilayer_perceptron ran in: 0.0 sec\n",
      "multilayer_perceptron ran in: 0.0 sec\n"
     ]
    },
    {
     "name": "stderr",
     "output_type": "stream",
     "text": [
      "\r",
      " 61%|██████    | 342/560 [00:10<00:06, 33.36it/s]"
     ]
    },
    {
     "name": "stdout",
     "output_type": "stream",
     "text": [
      "multilayer_perceptron ran in: 0.0 sec\n",
      "multilayer_perceptron ran in: 0.015649795532226562 sec\n",
      "multilayer_perceptron ran in: 0.0 sec\n",
      "multilayer_perceptron ran in: 0.0 sec\n",
      "multilayer_perceptron ran in: 0.0 sec\n",
      "multilayer_perceptron ran in: 0.015638113021850586 sec\n",
      "multilayer_perceptron ran in: 0.0 sec\n"
     ]
    },
    {
     "name": "stderr",
     "output_type": "stream",
     "text": [
      " 62%|██████▎   | 350/560 [00:10<00:06, 33.38it/s]"
     ]
    },
    {
     "name": "stdout",
     "output_type": "stream",
     "text": [
      "multilayer_perceptron ran in: 0.0 sec\n",
      "multilayer_perceptron ran in: 0.0 sec\n",
      "multilayer_perceptron ran in: 0.0 sec\n",
      "multilayer_perceptron ran in: 0.0 sec\n",
      "multilayer_perceptron ran in: 0.0 sec\n",
      "multilayer_perceptron ran in: 0.0 sec\n",
      "multilayer_perceptron ran in: 0.0 sec\n"
     ]
    },
    {
     "name": "stderr",
     "output_type": "stream",
     "text": [
      " 64%|██████▍   | 358/560 [00:10<00:05, 33.95it/s]"
     ]
    },
    {
     "name": "stdout",
     "output_type": "stream",
     "text": [
      "multilayer_perceptron ran in: 0.0009989738464355469 sec\n",
      "multilayer_perceptron ran in: 0.0 sec\n",
      "multilayer_perceptron ran in: 0.0 sec\n",
      "multilayer_perceptron ran in: 0.0 sec\n",
      "multilayer_perceptron ran in: 0.0 sec\n",
      "multilayer_perceptron ran in: 0.0 sec\n",
      "multilayer_perceptron ran in: 0.0 sec\n"
     ]
    },
    {
     "name": "stderr",
     "output_type": "stream",
     "text": [
      " 65%|██████▌   | 366/560 [00:10<00:05, 34.23it/s]"
     ]
    },
    {
     "name": "stdout",
     "output_type": "stream",
     "text": [
      "multilayer_perceptron ran in: 0.006510734558105469 sec\n",
      "multilayer_perceptron ran in: 0.0 sec\n",
      "multilayer_perceptron ran in: 0.0 sec\n",
      "multilayer_perceptron ran in: 0.0 sec\n",
      "multilayer_perceptron ran in: 0.0 sec\n",
      "multilayer_perceptron ran in: 0.0 sec\n",
      "multilayer_perceptron ran in: 0.0 sec\n",
      "multilayer_perceptron ran in: 0.0 sec\n"
     ]
    },
    {
     "name": "stderr",
     "output_type": "stream",
     "text": [
      " 67%|██████▋   | 374/560 [00:11<00:05, 33.80it/s]"
     ]
    },
    {
     "name": "stdout",
     "output_type": "stream",
     "text": [
      "multilayer_perceptron ran in: 0.0 sec\n",
      "multilayer_perceptron ran in: 0.0 sec\n",
      "multilayer_perceptron ran in: 0.0 sec\n",
      "multilayer_perceptron ran in: 0.015611886978149414 sec\n",
      "multilayer_perceptron ran in: 0.0 sec\n",
      "multilayer_perceptron ran in: 0.0 sec\n",
      "multilayer_perceptron ran in: 0.0 sec\n"
     ]
    },
    {
     "name": "stderr",
     "output_type": "stream",
     "text": [
      " 68%|██████▊   | 382/560 [00:11<00:05, 34.16it/s]"
     ]
    },
    {
     "name": "stdout",
     "output_type": "stream",
     "text": [
      "multilayer_perceptron ran in: 0.0 sec\n",
      "multilayer_perceptron ran in: 0.0 sec\n",
      "multilayer_perceptron ran in: 0.0 sec\n",
      "multilayer_perceptron ran in: 0.0 sec\n",
      "multilayer_perceptron ran in: 0.0 sec\n",
      "multilayer_perceptron ran in: 0.0 sec\n",
      "multilayer_perceptron ran in: 0.0 sec\n"
     ]
    },
    {
     "name": "stderr",
     "output_type": "stream",
     "text": [
      "\r",
      " 69%|██████▉   | 386/560 [00:11<00:05, 34.28it/s]"
     ]
    },
    {
     "name": "stdout",
     "output_type": "stream",
     "text": [
      "multilayer_perceptron ran in: 0.0 sec\n",
      "multilayer_perceptron ran in: 0.0009996891021728516 sec\n",
      "multilayer_perceptron ran in: 0.0 sec\n",
      "multilayer_perceptron ran in: 0.0 sec\n",
      "multilayer_perceptron ran in: 0.0 sec\n",
      "multilayer_perceptron ran in: 0.0 sec\n",
      "multilayer_perceptron ran in: 0.0 sec\n"
     ]
    },
    {
     "name": "stderr",
     "output_type": "stream",
     "text": [
      " 70%|███████   | 394/560 [00:11<00:04, 34.40it/s]"
     ]
    },
    {
     "name": "stdout",
     "output_type": "stream",
     "text": [
      "multilayer_perceptron ran in: 0.0 sec\n",
      "multilayer_perceptron ran in: 0.0 sec\n",
      "multilayer_perceptron ran in: 0.0 sec\n",
      "multilayer_perceptron ran in: 0.0 sec\n",
      "multilayer_perceptron ran in: 0.0 sec\n",
      "multilayer_perceptron ran in: 0.0 sec\n",
      "multilayer_perceptron ran in: 0.0 sec\n"
     ]
    },
    {
     "name": "stderr",
     "output_type": "stream",
     "text": [
      " 72%|███████▏  | 402/560 [00:11<00:04, 33.13it/s]"
     ]
    },
    {
     "name": "stdout",
     "output_type": "stream",
     "text": [
      "multilayer_perceptron ran in: 0.0 sec\n",
      "multilayer_perceptron ran in: 0.0 sec\n",
      "multilayer_perceptron ran in: 0.0 sec\n",
      "multilayer_perceptron ran in: 0.0 sec\n",
      "multilayer_perceptron ran in: 0.0 sec\n",
      "multilayer_perceptron ran in: 0.0 sec\n",
      "multilayer_perceptron ran in: 0.0 sec\n"
     ]
    },
    {
     "name": "stderr",
     "output_type": "stream",
     "text": [
      "\r",
      " 72%|███████▎  | 406/560 [00:12<00:04, 32.26it/s]"
     ]
    },
    {
     "name": "stdout",
     "output_type": "stream",
     "text": [
      "multilayer_perceptron ran in: 0.0 sec\n",
      "multilayer_perceptron ran in: 0.0 sec\n",
      "multilayer_perceptron ran in: 0.0 sec\n",
      "multilayer_perceptron ran in: 0.0 sec\n",
      "multilayer_perceptron ran in: 0.0 sec\n",
      "multilayer_perceptron ran in: 0.0 sec\n",
      "multilayer_perceptron ran in: 0.0 sec\n"
     ]
    },
    {
     "name": "stderr",
     "output_type": "stream",
     "text": [
      " 74%|███████▍  | 414/560 [00:12<00:04, 32.84it/s]"
     ]
    },
    {
     "name": "stdout",
     "output_type": "stream",
     "text": [
      "multilayer_perceptron ran in: 0.0 sec\n",
      "multilayer_perceptron ran in: 0.0 sec\n",
      "multilayer_perceptron ran in: 0.0 sec\n",
      "multilayer_perceptron ran in: 0.0 sec\n",
      "multilayer_perceptron ran in: 0.0 sec\n",
      "multilayer_perceptron ran in: 0.0 sec\n",
      "multilayer_perceptron ran in: 0.0 sec\n"
     ]
    },
    {
     "name": "stderr",
     "output_type": "stream",
     "text": [
      " 75%|███████▌  | 422/560 [00:12<00:04, 33.67it/s]"
     ]
    },
    {
     "name": "stdout",
     "output_type": "stream",
     "text": [
      "multilayer_perceptron ran in: 0.0 sec\n",
      "multilayer_perceptron ran in: 0.0 sec\n",
      "multilayer_perceptron ran in: 0.015626907348632812 sec\n",
      "multilayer_perceptron ran in: 0.0 sec\n",
      "multilayer_perceptron ran in: 0.0 sec\n",
      "multilayer_perceptron ran in: 0.0 sec\n",
      "multilayer_perceptron ran in: 0.0 sec\n"
     ]
    },
    {
     "name": "stderr",
     "output_type": "stream",
     "text": [
      " 77%|███████▋  | 430/560 [00:12<00:03, 33.17it/s]"
     ]
    },
    {
     "name": "stdout",
     "output_type": "stream",
     "text": [
      "multilayer_perceptron ran in: 0.0 sec\n",
      "multilayer_perceptron ran in: 0.0 sec\n",
      "multilayer_perceptron ran in: 0.0 sec\n",
      "multilayer_perceptron ran in: 0.0 sec\n",
      "multilayer_perceptron ran in: 0.0 sec\n",
      "multilayer_perceptron ran in: 0.0 sec\n",
      "multilayer_perceptron ran in: 0.0 sec\n"
     ]
    },
    {
     "name": "stderr",
     "output_type": "stream",
     "text": [
      "\r",
      " 78%|███████▊  | 434/560 [00:12<00:03, 33.02it/s]"
     ]
    },
    {
     "name": "stdout",
     "output_type": "stream",
     "text": [
      "multilayer_perceptron ran in: 0.0 sec\n",
      "multilayer_perceptron ran in: 0.0 sec\n",
      "multilayer_perceptron ran in: 0.0 sec\n",
      "multilayer_perceptron ran in: 0.0 sec\n",
      "multilayer_perceptron ran in: 0.0 sec\n",
      "multilayer_perceptron ran in: 0.0 sec\n",
      "multilayer_perceptron ran in: 0.0 sec\n"
     ]
    },
    {
     "name": "stderr",
     "output_type": "stream",
     "text": [
      " 79%|███████▉  | 442/560 [00:13<00:03, 32.85it/s]"
     ]
    },
    {
     "name": "stdout",
     "output_type": "stream",
     "text": [
      "multilayer_perceptron ran in: 0.0 sec\n",
      "multilayer_perceptron ran in: 0.0 sec\n",
      "multilayer_perceptron ran in: 0.0 sec\n",
      "multilayer_perceptron ran in: 0.0 sec\n",
      "multilayer_perceptron ran in: 0.0 sec\n",
      "multilayer_perceptron ran in: 0.0 sec\n",
      "multilayer_perceptron ran in: 0.0 sec\n"
     ]
    },
    {
     "name": "stderr",
     "output_type": "stream",
     "text": [
      " 80%|████████  | 450/560 [00:13<00:03, 33.63it/s]"
     ]
    },
    {
     "name": "stdout",
     "output_type": "stream",
     "text": [
      "multilayer_perceptron ran in: 0.0 sec\n",
      "multilayer_perceptron ran in: 0.0 sec\n",
      "multilayer_perceptron ran in: 0.0 sec\n",
      "multilayer_perceptron ran in: 0.0 sec\n",
      "multilayer_perceptron ran in: 0.0 sec\n",
      "multilayer_perceptron ran in: 0.0 sec\n",
      "multilayer_perceptron ran in: 0.0 sec\n"
     ]
    },
    {
     "name": "stderr",
     "output_type": "stream",
     "text": [
      " 82%|████████▏ | 458/560 [00:13<00:03, 33.09it/s]"
     ]
    },
    {
     "name": "stdout",
     "output_type": "stream",
     "text": [
      "multilayer_perceptron ran in: 0.0 sec\n",
      "multilayer_perceptron ran in: 0.0 sec\n",
      "multilayer_perceptron ran in: 0.0 sec\n",
      "multilayer_perceptron ran in: 0.0 sec\n",
      "multilayer_perceptron ran in: 0.0 sec\n",
      "multilayer_perceptron ran in: 0.015638113021850586 sec\n",
      "multilayer_perceptron ran in: 0.0 sec\n"
     ]
    },
    {
     "name": "stderr",
     "output_type": "stream",
     "text": [
      "\r",
      " 82%|████████▎ | 462/560 [00:13<00:02, 33.50it/s]"
     ]
    },
    {
     "name": "stdout",
     "output_type": "stream",
     "text": [
      "multilayer_perceptron ran in: 0.015624046325683594 sec\n",
      "multilayer_perceptron ran in: 0.0 sec\n",
      "multilayer_perceptron ran in: 0.0 sec\n",
      "multilayer_perceptron ran in: 0.0 sec\n",
      "multilayer_perceptron ran in: 0.0 sec\n",
      "multilayer_perceptron ran in: 0.0 sec\n",
      "multilayer_perceptron ran in: 0.0 sec\n"
     ]
    },
    {
     "name": "stderr",
     "output_type": "stream",
     "text": [
      " 84%|████████▍ | 470/560 [00:14<00:02, 32.56it/s]"
     ]
    },
    {
     "name": "stdout",
     "output_type": "stream",
     "text": [
      "multilayer_perceptron ran in: 0.0 sec\n",
      "multilayer_perceptron ran in: 0.0 sec\n",
      "multilayer_perceptron ran in: 0.0 sec\n",
      "multilayer_perceptron ran in: 0.0 sec\n",
      "multilayer_perceptron ran in: 0.0156400203704834 sec\n",
      "multilayer_perceptron ran in: 0.0 sec\n",
      "multilayer_perceptron ran in: 0.0 sec\n"
     ]
    },
    {
     "name": "stderr",
     "output_type": "stream",
     "text": [
      " 85%|████████▌ | 478/560 [00:14<00:02, 33.53it/s]"
     ]
    },
    {
     "name": "stdout",
     "output_type": "stream",
     "text": [
      "multilayer_perceptron ran in: 0.0 sec\n",
      "multilayer_perceptron ran in: 0.0 sec\n",
      "multilayer_perceptron ran in: 0.0 sec\n",
      "multilayer_perceptron ran in: 0.0 sec\n",
      "multilayer_perceptron ran in: 0.0 sec\n",
      "multilayer_perceptron ran in: 0.0 sec\n",
      "multilayer_perceptron ran in: 0.0 sec\n"
     ]
    },
    {
     "name": "stderr",
     "output_type": "stream",
     "text": [
      " 87%|████████▋ | 486/560 [00:14<00:02, 34.02it/s]"
     ]
    },
    {
     "name": "stdout",
     "output_type": "stream",
     "text": [
      "multilayer_perceptron ran in: 0.0 sec\n",
      "multilayer_perceptron ran in: 0.0 sec\n",
      "multilayer_perceptron ran in: 0.0 sec\n",
      "multilayer_perceptron ran in: 0.0 sec\n",
      "multilayer_perceptron ran in: 0.0 sec\n",
      "multilayer_perceptron ran in: 0.0 sec\n",
      "multilayer_perceptron ran in: 0.0 sec\n",
      "multilayer_perceptron ran in: 0.0 sec\n"
     ]
    },
    {
     "name": "stderr",
     "output_type": "stream",
     "text": [
      " 88%|████████▊ | 494/560 [00:14<00:01, 33.70it/s]"
     ]
    },
    {
     "name": "stdout",
     "output_type": "stream",
     "text": [
      "multilayer_perceptron ran in: 0.0 sec\n",
      "multilayer_perceptron ran in: 0.0 sec\n",
      "multilayer_perceptron ran in: 0.0 sec\n",
      "multilayer_perceptron ran in: 0.0 sec\n",
      "multilayer_perceptron ran in: 0.0 sec\n",
      "multilayer_perceptron ran in: 0.0 sec\n",
      "multilayer_perceptron ran in: 0.0 sec\n"
     ]
    },
    {
     "name": "stderr",
     "output_type": "stream",
     "text": [
      " 90%|████████▉ | 502/560 [00:14<00:01, 34.11it/s]"
     ]
    },
    {
     "name": "stdout",
     "output_type": "stream",
     "text": [
      "multilayer_perceptron ran in: 0.015626192092895508 sec\n",
      "multilayer_perceptron ran in: 0.0 sec\n",
      "multilayer_perceptron ran in: 0.0 sec\n",
      "multilayer_perceptron ran in: 0.0 sec\n",
      "multilayer_perceptron ran in: 0.0 sec\n",
      "multilayer_perceptron ran in: 0.015644550323486328 sec\n",
      "multilayer_perceptron ran in: 0.0 sec\n"
     ]
    },
    {
     "name": "stderr",
     "output_type": "stream",
     "text": [
      "\r",
      " 90%|█████████ | 506/560 [00:15<00:01, 34.23it/s]"
     ]
    },
    {
     "name": "stdout",
     "output_type": "stream",
     "text": [
      "multilayer_perceptron ran in: 0.0 sec\n",
      "multilayer_perceptron ran in: 0.0 sec\n",
      "multilayer_perceptron ran in: 0.0 sec\n",
      "multilayer_perceptron ran in: 0.0 sec\n",
      "multilayer_perceptron ran in: 0.0 sec\n",
      "multilayer_perceptron ran in: 0.0 sec\n",
      "multilayer_perceptron ran in: 0.0 sec\n"
     ]
    },
    {
     "name": "stderr",
     "output_type": "stream",
     "text": [
      " 92%|█████████▏| 514/560 [00:15<00:01, 34.37it/s]"
     ]
    },
    {
     "name": "stdout",
     "output_type": "stream",
     "text": [
      "multilayer_perceptron ran in: 0.0 sec\n",
      "multilayer_perceptron ran in: 0.0 sec\n",
      "multilayer_perceptron ran in: 0.0 sec\n",
      "multilayer_perceptron ran in: 0.0 sec\n",
      "multilayer_perceptron ran in: 0.0 sec\n",
      "multilayer_perceptron ran in: 0.006523609161376953 sec\n",
      "multilayer_perceptron ran in: 0.0 sec\n"
     ]
    },
    {
     "name": "stderr",
     "output_type": "stream",
     "text": [
      " 93%|█████████▎| 522/560 [00:15<00:01, 34.05it/s]"
     ]
    },
    {
     "name": "stdout",
     "output_type": "stream",
     "text": [
      "multilayer_perceptron ran in: 0.0 sec\n",
      "multilayer_perceptron ran in: 0.0 sec\n",
      "multilayer_perceptron ran in: 0.0 sec\n",
      "multilayer_perceptron ran in: 0.0 sec\n",
      "multilayer_perceptron ran in: 0.0 sec\n",
      "multilayer_perceptron ran in: 0.0 sec\n",
      "multilayer_perceptron ran in: 0.0 sec\n"
     ]
    },
    {
     "name": "stderr",
     "output_type": "stream",
     "text": [
      " 95%|█████████▍| 530/560 [00:15<00:00, 34.28it/s]"
     ]
    },
    {
     "name": "stdout",
     "output_type": "stream",
     "text": [
      "multilayer_perceptron ran in: 0.0 sec\n",
      "multilayer_perceptron ran in: 0.015624284744262695 sec\n",
      "multilayer_perceptron ran in: 0.0 sec\n",
      "multilayer_perceptron ran in: 0.0 sec\n",
      "multilayer_perceptron ran in: 0.0 sec\n",
      "multilayer_perceptron ran in: 0.0 sec\n",
      "multilayer_perceptron ran in: 0.0 sec\n"
     ]
    },
    {
     "name": "stderr",
     "output_type": "stream",
     "text": [
      "\r",
      " 95%|█████████▌| 534/560 [00:15<00:00, 33.02it/s]"
     ]
    },
    {
     "name": "stdout",
     "output_type": "stream",
     "text": [
      "multilayer_perceptron ran in: 0.0 sec\n",
      "multilayer_perceptron ran in: 0.0 sec\n",
      "multilayer_perceptron ran in: 0.0 sec\n",
      "multilayer_perceptron ran in: 0.0 sec\n",
      "multilayer_perceptron ran in: 0.0 sec\n",
      "multilayer_perceptron ran in: 0.0 sec\n",
      "multilayer_perceptron ran in: 0.0 sec\n"
     ]
    },
    {
     "name": "stderr",
     "output_type": "stream",
     "text": [
      " 97%|█████████▋| 542/560 [00:16<00:00, 34.56it/s]"
     ]
    },
    {
     "name": "stdout",
     "output_type": "stream",
     "text": [
      "multilayer_perceptron ran in: 0.0 sec\n",
      "multilayer_perceptron ran in: 0.0 sec\n",
      "multilayer_perceptron ran in: 0.0 sec\n",
      "multilayer_perceptron ran in: 0.015642881393432617 sec\n",
      "multilayer_perceptron ran in: 0.0 sec\n",
      "multilayer_perceptron ran in: 0.0 sec\n",
      "multilayer_perceptron ran in: 0.0 sec\n"
     ]
    },
    {
     "name": "stderr",
     "output_type": "stream",
     "text": [
      " 98%|█████████▊| 550/560 [00:16<00:00, 34.53it/s]"
     ]
    },
    {
     "name": "stdout",
     "output_type": "stream",
     "text": [
      "multilayer_perceptron ran in: 0.015628337860107422 sec\n",
      "multilayer_perceptron ran in: 0.0 sec\n",
      "multilayer_perceptron ran in: 0.0 sec\n",
      "multilayer_perceptron ran in: 0.0 sec\n",
      "multilayer_perceptron ran in: 0.0 sec\n",
      "multilayer_perceptron ran in: 0.0 sec\n",
      "multilayer_perceptron ran in: 0.0 sec\n",
      "multilayer_perceptron ran in: 0.0 sec\n"
     ]
    },
    {
     "name": "stderr",
     "output_type": "stream",
     "text": [
      "100%|█████████▉| 558/560 [00:16<00:00, 34.52it/s]"
     ]
    },
    {
     "name": "stdout",
     "output_type": "stream",
     "text": [
      "multilayer_perceptron ran in: 0.0 sec\n",
      "multilayer_perceptron ran in: 0.0 sec\n",
      "multilayer_perceptron ran in: 0.0 sec\n",
      "multilayer_perceptron ran in: 0.0 sec\n",
      "multilayer_perceptron ran in: 0.0 sec\n",
      "multilayer_perceptron ran in: 0.0 sec\n",
      "multilayer_perceptron ran in: 0.0 sec\n",
      "multilayer_perceptron ran in: 0.0 sec\n"
     ]
    },
    {
     "name": "stderr",
     "output_type": "stream",
     "text": [
      "100%|██████████| 560/560 [00:16<00:00, 33.61it/s]\n"
     ]
    },
    {
     "name": "stdout",
     "output_type": "stream",
     "text": [
      "Epoch: 1 Cost=4935.2681\n"
     ]
    },
    {
     "name": "stderr",
     "output_type": "stream",
     "text": [
      "  1%|          | 4/560 [00:00<00:16, 34.51it/s]"
     ]
    },
    {
     "name": "stdout",
     "output_type": "stream",
     "text": [
      "multilayer_perceptron ran in: 0.0 sec\n",
      "multilayer_perceptron ran in: 0.0 sec\n",
      "multilayer_perceptron ran in: 0.0 sec\n",
      "multilayer_perceptron ran in: 0.0 sec\n",
      "multilayer_perceptron ran in: 0.015623331069946289 sec\n",
      "multilayer_perceptron ran in: 0.0 sec\n",
      "multilayer_perceptron ran in: 0.0 sec\n"
     ]
    },
    {
     "name": "stderr",
     "output_type": "stream",
     "text": [
      "  2%|▏         | 12/560 [00:00<00:15, 34.50it/s]"
     ]
    },
    {
     "name": "stdout",
     "output_type": "stream",
     "text": [
      "multilayer_perceptron ran in: 0.0 sec\n",
      "multilayer_perceptron ran in: 0.0 sec\n",
      "multilayer_perceptron ran in: 0.0 sec\n",
      "multilayer_perceptron ran in: 0.0 sec\n",
      "multilayer_perceptron ran in: 0.0 sec\n",
      "multilayer_perceptron ran in: 0.0 sec\n",
      "multilayer_perceptron ran in: 0.0 sec\n"
     ]
    },
    {
     "name": "stderr",
     "output_type": "stream",
     "text": [
      "  4%|▎         | 20/560 [00:00<00:15, 34.02it/s]"
     ]
    },
    {
     "name": "stdout",
     "output_type": "stream",
     "text": [
      "multilayer_perceptron ran in: 0.0 sec\n",
      "multilayer_perceptron ran in: 0.0 sec\n",
      "multilayer_perceptron ran in: 0.0 sec\n",
      "multilayer_perceptron ran in: 0.0 sec\n",
      "multilayer_perceptron ran in: 0.0 sec\n",
      "multilayer_perceptron ran in: 0.006510496139526367 sec\n",
      "multilayer_perceptron ran in: 0.0 sec\n"
     ]
    },
    {
     "name": "stderr",
     "output_type": "stream",
     "text": [
      "\r",
      "  4%|▍         | 24/560 [00:00<00:15, 34.19it/s]"
     ]
    },
    {
     "name": "stdout",
     "output_type": "stream",
     "text": [
      "multilayer_perceptron ran in: 0.0 sec\n",
      "multilayer_perceptron ran in: 0.0 sec\n",
      "multilayer_perceptron ran in: 0.0 sec\n",
      "multilayer_perceptron ran in: 0.0 sec\n",
      "multilayer_perceptron ran in: 0.0 sec\n",
      "multilayer_perceptron ran in: 0.0 sec\n",
      "multilayer_perceptron ran in: 0.0 sec\n"
     ]
    },
    {
     "name": "stderr",
     "output_type": "stream",
     "text": [
      "  6%|▌         | 32/560 [00:00<00:15, 34.37it/s]"
     ]
    },
    {
     "name": "stdout",
     "output_type": "stream",
     "text": [
      "multilayer_perceptron ran in: 0.0 sec\n",
      "multilayer_perceptron ran in: 0.0 sec\n",
      "multilayer_perceptron ran in: 0.0 sec\n",
      "multilayer_perceptron ran in: 0.0 sec\n",
      "multilayer_perceptron ran in: 0.0 sec\n",
      "multilayer_perceptron ran in: 0.0 sec\n",
      "multilayer_perceptron ran in: 0.0 sec\n"
     ]
    },
    {
     "name": "stderr",
     "output_type": "stream",
     "text": [
      "  7%|▋         | 40/560 [00:01<00:15, 33.86it/s]"
     ]
    },
    {
     "name": "stdout",
     "output_type": "stream",
     "text": [
      "multilayer_perceptron ran in: 0.0 sec\n",
      "multilayer_perceptron ran in: 0.0 sec\n",
      "multilayer_perceptron ran in: 0.0 sec\n",
      "multilayer_perceptron ran in: 0.0 sec\n",
      "multilayer_perceptron ran in: 0.0 sec\n",
      "multilayer_perceptron ran in: 0.0 sec\n",
      "multilayer_perceptron ran in: 0.0 sec\n"
     ]
    },
    {
     "name": "stderr",
     "output_type": "stream",
     "text": [
      "  9%|▊         | 48/560 [00:01<00:14, 34.19it/s]"
     ]
    },
    {
     "name": "stdout",
     "output_type": "stream",
     "text": [
      "multilayer_perceptron ran in: 0.0 sec\n",
      "multilayer_perceptron ran in: 0.0 sec\n",
      "multilayer_perceptron ran in: 0.0 sec\n",
      "multilayer_perceptron ran in: 0.0 sec\n",
      "multilayer_perceptron ran in: 0.0 sec\n",
      "multilayer_perceptron ran in: 0.0 sec\n",
      "multilayer_perceptron ran in: 0.0 sec\n"
     ]
    },
    {
     "name": "stderr",
     "output_type": "stream",
     "text": [
      " 10%|█         | 56/560 [00:01<00:14, 34.35it/s]"
     ]
    },
    {
     "name": "stdout",
     "output_type": "stream",
     "text": [
      "multilayer_perceptron ran in: 0.0 sec\n",
      "multilayer_perceptron ran in: 0.0 sec\n",
      "multilayer_perceptron ran in: 0.0 sec\n",
      "multilayer_perceptron ran in: 0.0 sec\n",
      "multilayer_perceptron ran in: 0.0 sec\n",
      "multilayer_perceptron ran in: 0.0 sec\n",
      "multilayer_perceptron ran in: 0.0 sec\n"
     ]
    },
    {
     "name": "stderr",
     "output_type": "stream",
     "text": [
      "\r",
      " 11%|█         | 60/560 [00:01<00:14, 34.40it/s]"
     ]
    },
    {
     "name": "stdout",
     "output_type": "stream",
     "text": [
      "multilayer_perceptron ran in: 0.0 sec\n",
      "multilayer_perceptron ran in: 0.0 sec\n",
      "multilayer_perceptron ran in: 0.0 sec\n",
      "multilayer_perceptron ran in: 0.0 sec\n",
      "multilayer_perceptron ran in: 0.0 sec\n",
      "multilayer_perceptron ran in: 0.015644550323486328 sec\n",
      "multilayer_perceptron ran in: 0.0 sec\n"
     ]
    },
    {
     "name": "stderr",
     "output_type": "stream",
     "text": [
      " 12%|█▏        | 68/560 [00:01<00:14, 34.05it/s]"
     ]
    },
    {
     "name": "stdout",
     "output_type": "stream",
     "text": [
      "multilayer_perceptron ran in: 0.0 sec\n",
      "multilayer_perceptron ran in: 0.0 sec\n",
      "multilayer_perceptron ran in: 0.0 sec\n",
      "multilayer_perceptron ran in: 0.0 sec\n",
      "multilayer_perceptron ran in: 0.0 sec\n",
      "multilayer_perceptron ran in: 0.0 sec\n",
      "multilayer_perceptron ran in: 0.0 sec\n"
     ]
    },
    {
     "name": "stderr",
     "output_type": "stream",
     "text": [
      " 14%|█▎        | 76/560 [00:02<00:14, 34.28it/s]"
     ]
    },
    {
     "name": "stdout",
     "output_type": "stream",
     "text": [
      "multilayer_perceptron ran in: 0.0 sec\n",
      "multilayer_perceptron ran in: 0.0 sec\n",
      "multilayer_perceptron ran in: 0.0 sec\n",
      "multilayer_perceptron ran in: 0.0 sec\n",
      "multilayer_perceptron ran in: 0.0 sec\n",
      "multilayer_perceptron ran in: 0.0 sec\n",
      "multilayer_perceptron ran in: 0.0 sec\n"
     ]
    },
    {
     "name": "stderr",
     "output_type": "stream",
     "text": [
      "\r",
      " 14%|█▍        | 80/560 [00:02<00:14, 33.02it/s]"
     ]
    },
    {
     "name": "stdout",
     "output_type": "stream",
     "text": [
      "multilayer_perceptron ran in: 0.0 sec\n",
      "multilayer_perceptron ran in: 0.0 sec\n",
      "multilayer_perceptron ran in: 0.0 sec\n",
      "multilayer_perceptron ran in: 0.0 sec\n",
      "multilayer_perceptron ran in: 0.0 sec\n",
      "multilayer_perceptron ran in: 0.0 sec\n",
      "multilayer_perceptron ran in: 0.0 sec\n"
     ]
    },
    {
     "name": "stderr",
     "output_type": "stream",
     "text": [
      " 16%|█▌        | 88/560 [00:02<00:13, 34.56it/s]"
     ]
    },
    {
     "name": "stdout",
     "output_type": "stream",
     "text": [
      "multilayer_perceptron ran in: 0.0 sec\n",
      "multilayer_perceptron ran in: 0.0 sec\n",
      "multilayer_perceptron ran in: 0.0 sec\n",
      "multilayer_perceptron ran in: 0.0 sec\n",
      "multilayer_perceptron ran in: 0.0 sec\n",
      "multilayer_perceptron ran in: 0.0 sec\n",
      "multilayer_perceptron ran in: 0.0 sec\n"
     ]
    },
    {
     "name": "stderr",
     "output_type": "stream",
     "text": [
      "\r",
      " 16%|█▋        | 92/560 [00:02<00:13, 34.54it/s]"
     ]
    },
    {
     "name": "stdout",
     "output_type": "stream",
     "text": [
      "multilayer_perceptron ran in: 0.0 sec\n",
      "multilayer_perceptron ran in: 0.0 sec\n",
      "multilayer_perceptron ran in: 0.0 sec\n"
     ]
    },
    {
     "name": "stderr",
     "output_type": "stream",
     "text": [
      " 18%|█▊        | 100/560 [00:03<00:16, 27.89it/s]"
     ]
    },
    {
     "name": "stdout",
     "output_type": "stream",
     "text": [
      "multilayer_perceptron ran in: 0.0 sec\n",
      "multilayer_perceptron ran in: 0.015625953674316406 sec\n",
      "multilayer_perceptron ran in: 0.0 sec\n",
      "multilayer_perceptron ran in: 0.0 sec\n",
      "multilayer_perceptron ran in: 0.0 sec\n",
      "multilayer_perceptron ran in: 0.0 sec\n",
      "multilayer_perceptron ran in: 0.0 sec\n",
      "multilayer_perceptron ran in: 0.0 sec\n"
     ]
    },
    {
     "name": "stderr",
     "output_type": "stream",
     "text": [
      " 19%|█▉        | 108/560 [00:03<00:14, 30.45it/s]"
     ]
    },
    {
     "name": "stdout",
     "output_type": "stream",
     "text": [
      "multilayer_perceptron ran in: 0.0 sec\n",
      "multilayer_perceptron ran in: 0.0 sec\n",
      "multilayer_perceptron ran in: 0.0 sec\n",
      "multilayer_perceptron ran in: 0.0 sec\n",
      "multilayer_perceptron ran in: 0.0 sec\n",
      "multilayer_perceptron ran in: 0.0 sec\n",
      "multilayer_perceptron ran in: 0.0 sec\n",
      "multilayer_perceptron ran in: 0.0 sec\n"
     ]
    },
    {
     "name": "stderr",
     "output_type": "stream",
     "text": [
      " 21%|██        | 116/560 [00:03<00:13, 32.39it/s]"
     ]
    },
    {
     "name": "stdout",
     "output_type": "stream",
     "text": [
      "multilayer_perceptron ran in: 0.0 sec\n",
      "multilayer_perceptron ran in: 0.0 sec\n",
      "multilayer_perceptron ran in: 0.0 sec\n",
      "multilayer_perceptron ran in: 0.0 sec\n",
      "multilayer_perceptron ran in: 0.0 sec\n",
      "multilayer_perceptron ran in: 0.0 sec\n"
     ]
    },
    {
     "name": "stderr",
     "output_type": "stream",
     "text": [
      "\r",
      " 21%|██▏       | 120/560 [00:03<00:13, 33.00it/s]"
     ]
    },
    {
     "name": "stdout",
     "output_type": "stream",
     "text": [
      "multilayer_perceptron ran in: 0.0 sec\n",
      "multilayer_perceptron ran in: 0.0 sec\n",
      "multilayer_perceptron ran in: 0.0 sec\n",
      "multilayer_perceptron ran in: 0.0 sec\n",
      "multilayer_perceptron ran in: 0.0 sec\n",
      "multilayer_perceptron ran in: 0.0 sec\n",
      "multilayer_perceptron ran in: 0.0 sec\n"
     ]
    },
    {
     "name": "stderr",
     "output_type": "stream",
     "text": [
      " 23%|██▎       | 128/560 [00:03<00:12, 33.60it/s]"
     ]
    },
    {
     "name": "stdout",
     "output_type": "stream",
     "text": [
      "multilayer_perceptron ran in: 0.0 sec\n",
      "multilayer_perceptron ran in: 0.0 sec\n",
      "multilayer_perceptron ran in: 0.0 sec\n",
      "multilayer_perceptron ran in: 0.0 sec\n",
      "multilayer_perceptron ran in: 0.015625715255737305 sec\n",
      "multilayer_perceptron ran in: 0.0 sec\n",
      "multilayer_perceptron ran in: 0.0 sec\n"
     ]
    },
    {
     "name": "stderr",
     "output_type": "stream",
     "text": [
      " 24%|██▍       | 136/560 [00:04<00:12, 32.75it/s]"
     ]
    },
    {
     "name": "stdout",
     "output_type": "stream",
     "text": [
      "multilayer_perceptron ran in: 0.0 sec\n",
      "multilayer_perceptron ran in: 0.0 sec\n",
      "multilayer_perceptron ran in: 0.0 sec\n",
      "multilayer_perceptron ran in: 0.0 sec\n",
      "multilayer_perceptron ran in: 0.0 sec\n",
      "multilayer_perceptron ran in: 0.0 sec\n",
      "multilayer_perceptron ran in: 0.0 sec\n"
     ]
    },
    {
     "name": "stderr",
     "output_type": "stream",
     "text": [
      "\r",
      " 25%|██▌       | 140/560 [00:04<00:13, 32.01it/s]"
     ]
    },
    {
     "name": "stdout",
     "output_type": "stream",
     "text": [
      "multilayer_perceptron ran in: 0.0 sec\n",
      "multilayer_perceptron ran in: 0.0 sec\n",
      "multilayer_perceptron ran in: 0.0 sec\n",
      "multilayer_perceptron ran in: 0.0 sec\n",
      "multilayer_perceptron ran in: 0.0 sec\n",
      "multilayer_perceptron ran in: 0.0 sec\n"
     ]
    },
    {
     "name": "stderr",
     "output_type": "stream",
     "text": [
      " 26%|██▋       | 148/560 [00:04<00:12, 32.86it/s]"
     ]
    },
    {
     "name": "stdout",
     "output_type": "stream",
     "text": [
      "multilayer_perceptron ran in: 0.0 sec\n",
      "multilayer_perceptron ran in: 0.0 sec\n",
      "multilayer_perceptron ran in: 0.0 sec\n",
      "multilayer_perceptron ran in: 0.0 sec\n",
      "multilayer_perceptron ran in: 0.0 sec\n",
      "multilayer_perceptron ran in: 0.0 sec\n",
      "multilayer_perceptron ran in: 0.0 sec\n"
     ]
    },
    {
     "name": "stderr",
     "output_type": "stream",
     "text": [
      " 28%|██▊       | 156/560 [00:04<00:12, 32.25it/s]"
     ]
    },
    {
     "name": "stdout",
     "output_type": "stream",
     "text": [
      "multilayer_perceptron ran in: 0.0 sec\n",
      "multilayer_perceptron ran in: 0.0 sec\n",
      "multilayer_perceptron ran in: 0.0 sec\n",
      "multilayer_perceptron ran in: 0.0 sec\n",
      "multilayer_perceptron ran in: 0.0 sec\n",
      "multilayer_perceptron ran in: 0.00101470947265625 sec\n"
     ]
    },
    {
     "name": "stderr",
     "output_type": "stream",
     "text": [
      "\r",
      " 29%|██▊       | 160/560 [00:04<00:12, 32.22it/s]"
     ]
    },
    {
     "name": "stdout",
     "output_type": "stream",
     "text": [
      "multilayer_perceptron ran in: 0.0 sec\n",
      "multilayer_perceptron ran in: 0.0 sec\n",
      "multilayer_perceptron ran in: 0.0 sec\n",
      "multilayer_perceptron ran in: 0.0 sec\n",
      "multilayer_perceptron ran in: 0.0 sec\n",
      "multilayer_perceptron ran in: 0.0 sec\n",
      "multilayer_perceptron ran in: 0.0156400203704834 sec\n"
     ]
    },
    {
     "name": "stderr",
     "output_type": "stream",
     "text": [
      " 30%|███       | 168/560 [00:05<00:11, 33.89it/s]"
     ]
    },
    {
     "name": "stdout",
     "output_type": "stream",
     "text": [
      "multilayer_perceptron ran in: 0.0 sec\n",
      "multilayer_perceptron ran in: 0.0 sec\n",
      "multilayer_perceptron ran in: 0.0 sec\n",
      "multilayer_perceptron ran in: 0.015610933303833008 sec\n",
      "multilayer_perceptron ran in: 0.0 sec\n",
      "multilayer_perceptron ran in: 0.0 sec\n",
      "multilayer_perceptron ran in: 0.0 sec\n"
     ]
    },
    {
     "name": "stderr",
     "output_type": "stream",
     "text": [
      " 31%|███▏      | 176/560 [00:05<00:11, 33.27it/s]"
     ]
    },
    {
     "name": "stdout",
     "output_type": "stream",
     "text": [
      "multilayer_perceptron ran in: 0.0 sec\n",
      "multilayer_perceptron ran in: 0.015624523162841797 sec\n",
      "multilayer_perceptron ran in: 0.015636682510375977 sec\n",
      "multilayer_perceptron ran in: 0.0 sec\n",
      "multilayer_perceptron ran in: 0.0 sec\n",
      "multilayer_perceptron ran in: 0.0 sec\n",
      "multilayer_perceptron ran in: 0.0 sec\n"
     ]
    },
    {
     "name": "stderr",
     "output_type": "stream",
     "text": [
      "\r",
      " 32%|███▏      | 180/560 [00:05<00:11, 32.36it/s]"
     ]
    },
    {
     "name": "stdout",
     "output_type": "stream",
     "text": [
      "multilayer_perceptron ran in: 0.0 sec\n",
      "multilayer_perceptron ran in: 0.0156252384185791 sec\n",
      "multilayer_perceptron ran in: 0.0 sec\n",
      "multilayer_perceptron ran in: 0.0 sec\n",
      "multilayer_perceptron ran in: 0.0 sec\n",
      "multilayer_perceptron ran in: 0.0 sec\n",
      "multilayer_perceptron ran in: 0.0 sec\n"
     ]
    },
    {
     "name": "stderr",
     "output_type": "stream",
     "text": [
      " 34%|███▎      | 188/560 [00:05<00:11, 33.04it/s]"
     ]
    },
    {
     "name": "stdout",
     "output_type": "stream",
     "text": [
      "multilayer_perceptron ran in: 0.0 sec\n",
      "multilayer_perceptron ran in: 0.0 sec\n",
      "multilayer_perceptron ran in: 0.0 sec\n",
      "multilayer_perceptron ran in: 0.0 sec\n",
      "multilayer_perceptron ran in: 0.0 sec\n",
      "multilayer_perceptron ran in: 0.0 sec\n",
      "multilayer_perceptron ran in: 0.0 sec\n"
     ]
    },
    {
     "name": "stderr",
     "output_type": "stream",
     "text": [
      " 35%|███▌      | 196/560 [00:05<00:11, 32.99it/s]"
     ]
    },
    {
     "name": "stdout",
     "output_type": "stream",
     "text": [
      "multilayer_perceptron ran in: 0.0 sec\n",
      "multilayer_perceptron ran in: 0.0 sec\n",
      "multilayer_perceptron ran in: 0.0 sec\n",
      "multilayer_perceptron ran in: 0.0 sec\n",
      "multilayer_perceptron ran in: 0.0 sec\n",
      "multilayer_perceptron ran in: 0.0 sec\n",
      "multilayer_perceptron ran in: 0.0 sec\n"
     ]
    },
    {
     "name": "stderr",
     "output_type": "stream",
     "text": [
      " 36%|███▋      | 204/560 [00:06<00:10, 33.36it/s]"
     ]
    },
    {
     "name": "stdout",
     "output_type": "stream",
     "text": [
      "multilayer_perceptron ran in: 0.0 sec\n",
      "multilayer_perceptron ran in: 0.0 sec\n",
      "multilayer_perceptron ran in: 0.01564955711364746 sec\n",
      "multilayer_perceptron ran in: 0.0 sec\n",
      "multilayer_perceptron ran in: 0.0 sec\n",
      "multilayer_perceptron ran in: 0.0 sec\n",
      "multilayer_perceptron ran in: 0.0 sec\n"
     ]
    },
    {
     "name": "stderr",
     "output_type": "stream",
     "text": [
      " 38%|███▊      | 212/560 [00:06<00:10, 32.64it/s]"
     ]
    },
    {
     "name": "stdout",
     "output_type": "stream",
     "text": [
      "multilayer_perceptron ran in: 0.0 sec\n",
      "multilayer_perceptron ran in: 0.0 sec\n",
      "multilayer_perceptron ran in: 0.0 sec\n",
      "multilayer_perceptron ran in: 0.0 sec\n",
      "multilayer_perceptron ran in: 0.0 sec\n",
      "multilayer_perceptron ran in: 0.0 sec\n",
      "multilayer_perceptron ran in: 0.0 sec\n"
     ]
    },
    {
     "name": "stderr",
     "output_type": "stream",
     "text": [
      "\r",
      " 39%|███▊      | 216/560 [00:06<00:10, 33.18it/s]"
     ]
    },
    {
     "name": "stdout",
     "output_type": "stream",
     "text": [
      "multilayer_perceptron ran in: 0.0 sec\n",
      "multilayer_perceptron ran in: 0.0 sec\n",
      "multilayer_perceptron ran in: 0.015625715255737305 sec\n",
      "multilayer_perceptron ran in: 0.0 sec\n",
      "multilayer_perceptron ran in: 0.0 sec\n",
      "multilayer_perceptron ran in: 0.0 sec\n",
      "multilayer_perceptron ran in: 0.015639066696166992 sec\n"
     ]
    },
    {
     "name": "stderr",
     "output_type": "stream",
     "text": [
      " 40%|████      | 224/560 [00:06<00:10, 33.32it/s]"
     ]
    },
    {
     "name": "stdout",
     "output_type": "stream",
     "text": [
      "multilayer_perceptron ran in: 0.0 sec\n",
      "multilayer_perceptron ran in: 0.0 sec\n",
      "multilayer_perceptron ran in: 0.0 sec\n",
      "multilayer_perceptron ran in: 0.0 sec\n",
      "multilayer_perceptron ran in: 0.0 sec\n",
      "multilayer_perceptron ran in: 0.0 sec\n",
      "multilayer_perceptron ran in: 0.0 sec\n"
     ]
    },
    {
     "name": "stderr",
     "output_type": "stream",
     "text": [
      " 41%|████▏     | 232/560 [00:07<00:09, 33.92it/s]"
     ]
    },
    {
     "name": "stdout",
     "output_type": "stream",
     "text": [
      "multilayer_perceptron ran in: 0.0 sec\n",
      "multilayer_perceptron ran in: 0.01563715934753418 sec\n",
      "multilayer_perceptron ran in: 0.0 sec\n",
      "multilayer_perceptron ran in: 0.0 sec\n",
      "multilayer_perceptron ran in: 0.0 sec\n",
      "multilayer_perceptron ran in: 0.0 sec\n",
      "multilayer_perceptron ran in: 0.0 sec\n"
     ]
    },
    {
     "name": "stderr",
     "output_type": "stream",
     "text": [
      "\r",
      " 42%|████▏     | 236/560 [00:07<00:09, 34.09it/s]"
     ]
    },
    {
     "name": "stdout",
     "output_type": "stream",
     "text": [
      "multilayer_perceptron ran in: 0.0 sec\n",
      "multilayer_perceptron ran in: 0.0 sec\n",
      "multilayer_perceptron ran in: 0.0 sec\n",
      "multilayer_perceptron ran in: 0.0 sec\n",
      "multilayer_perceptron ran in: 0.0 sec\n",
      "multilayer_perceptron ran in: 0.0 sec\n",
      "multilayer_perceptron ran in: 0.0 sec\n"
     ]
    },
    {
     "name": "stderr",
     "output_type": "stream",
     "text": [
      " 44%|████▎     | 244/560 [00:07<00:09, 32.83it/s]"
     ]
    },
    {
     "name": "stdout",
     "output_type": "stream",
     "text": [
      "multilayer_perceptron ran in: 0.0 sec\n",
      "multilayer_perceptron ran in: 0.0 sec\n",
      "multilayer_perceptron ran in: 0.0 sec\n",
      "multilayer_perceptron ran in: 0.0 sec\n",
      "multilayer_perceptron ran in: 0.0 sec\n",
      "multilayer_perceptron ran in: 0.0 sec\n",
      "multilayer_perceptron ran in: 0.0 sec\n"
     ]
    },
    {
     "name": "stderr",
     "output_type": "stream",
     "text": [
      " 45%|████▌     | 252/560 [00:07<00:09, 33.66it/s]"
     ]
    },
    {
     "name": "stdout",
     "output_type": "stream",
     "text": [
      "multilayer_perceptron ran in: 0.0 sec\n",
      "multilayer_perceptron ran in: 0.0 sec\n",
      "multilayer_perceptron ran in: 0.0 sec\n",
      "multilayer_perceptron ran in: 0.0 sec\n",
      "multilayer_perceptron ran in: 0.0 sec\n",
      "multilayer_perceptron ran in: 0.01562952995300293 sec\n",
      "multilayer_perceptron ran in: 0.0 sec\n"
     ]
    },
    {
     "name": "stderr",
     "output_type": "stream",
     "text": [
      " 46%|████▋     | 260/560 [00:07<00:09, 32.78it/s]"
     ]
    },
    {
     "name": "stdout",
     "output_type": "stream",
     "text": [
      "multilayer_perceptron ran in: 0.0 sec\n",
      "multilayer_perceptron ran in: 0.0 sec\n",
      "multilayer_perceptron ran in: 0.0 sec\n",
      "multilayer_perceptron ran in: 0.0 sec\n",
      "multilayer_perceptron ran in: 0.0 sec\n",
      "multilayer_perceptron ran in: 0.0 sec\n"
     ]
    },
    {
     "name": "stderr",
     "output_type": "stream",
     "text": [
      "\r",
      " 47%|████▋     | 264/560 [00:08<00:09, 32.75it/s]"
     ]
    },
    {
     "name": "stdout",
     "output_type": "stream",
     "text": [
      "multilayer_perceptron ran in: 0.0 sec\n",
      "multilayer_perceptron ran in: 0.0 sec\n",
      "multilayer_perceptron ran in: 0.0 sec\n",
      "multilayer_perceptron ran in: 0.0 sec\n",
      "multilayer_perceptron ran in: 0.0 sec\n",
      "multilayer_perceptron ran in: 0.0 sec\n",
      "multilayer_perceptron ran in: 0.0 sec\n"
     ]
    },
    {
     "name": "stderr",
     "output_type": "stream",
     "text": [
      " 49%|████▊     | 272/560 [00:08<00:08, 33.63it/s]"
     ]
    },
    {
     "name": "stdout",
     "output_type": "stream",
     "text": [
      "multilayer_perceptron ran in: 0.0 sec\n",
      "multilayer_perceptron ran in: 0.0 sec\n",
      "multilayer_perceptron ran in: 0.0 sec\n",
      "multilayer_perceptron ran in: 0.0 sec\n",
      "multilayer_perceptron ran in: 0.0 sec\n",
      "multilayer_perceptron ran in: 0.0 sec\n"
     ]
    },
    {
     "name": "stderr",
     "output_type": "stream",
     "text": [
      " 50%|█████     | 280/560 [00:08<00:08, 34.07it/s]"
     ]
    },
    {
     "name": "stdout",
     "output_type": "stream",
     "text": [
      "multilayer_perceptron ran in: 0.0 sec\n",
      "multilayer_perceptron ran in: 0.0 sec\n",
      "multilayer_perceptron ran in: 0.0 sec\n",
      "multilayer_perceptron ran in: 0.0 sec\n",
      "multilayer_perceptron ran in: 0.01565074920654297 sec\n",
      "multilayer_perceptron ran in: 0.0 sec\n",
      "multilayer_perceptron ran in: 0.0 sec\n"
     ]
    },
    {
     "name": "stderr",
     "output_type": "stream",
     "text": [
      "\r",
      " 51%|█████     | 284/560 [00:08<00:08, 33.64it/s]"
     ]
    },
    {
     "name": "stdout",
     "output_type": "stream",
     "text": [
      "multilayer_perceptron ran in: 0.0 sec\n",
      "multilayer_perceptron ran in: 0.015624523162841797 sec\n",
      "multilayer_perceptron ran in: 0.0 sec\n",
      "multilayer_perceptron ran in: 0.0 sec\n",
      "multilayer_perceptron ran in: 0.0 sec\n",
      "multilayer_perceptron ran in: 0.0 sec\n"
     ]
    },
    {
     "name": "stderr",
     "output_type": "stream",
     "text": [
      " 52%|█████▏    | 292/560 [00:08<00:08, 32.77it/s]"
     ]
    },
    {
     "name": "stdout",
     "output_type": "stream",
     "text": [
      "multilayer_perceptron ran in: 0.015624046325683594 sec\n",
      "multilayer_perceptron ran in: 0.0 sec\n",
      "multilayer_perceptron ran in: 0.0 sec\n",
      "multilayer_perceptron ran in: 0.0 sec\n",
      "multilayer_perceptron ran in: 0.0 sec\n",
      "multilayer_perceptron ran in: 0.0 sec\n",
      "multilayer_perceptron ran in: 0.0 sec\n",
      "multilayer_perceptron ran in: 0.0 sec\n"
     ]
    },
    {
     "name": "stderr",
     "output_type": "stream",
     "text": [
      " 54%|█████▎    | 300/560 [00:09<00:07, 33.63it/s]"
     ]
    },
    {
     "name": "stdout",
     "output_type": "stream",
     "text": [
      "multilayer_perceptron ran in: 0.0 sec\n",
      "multilayer_perceptron ran in: 0.0 sec\n",
      "multilayer_perceptron ran in: 0.0 sec\n",
      "multilayer_perceptron ran in: 0.0 sec\n",
      "multilayer_perceptron ran in: 0.0 sec\n",
      "multilayer_perceptron ran in: 0.0 sec\n",
      "multilayer_perceptron ran in: 0.0 sec\n",
      "multilayer_perceptron ran in: 0.0 sec\n"
     ]
    },
    {
     "name": "stderr",
     "output_type": "stream",
     "text": [
      " 55%|█████▌    | 308/560 [00:09<00:07, 32.40it/s]"
     ]
    },
    {
     "name": "stdout",
     "output_type": "stream",
     "text": [
      "multilayer_perceptron ran in: 0.0 sec\n",
      "multilayer_perceptron ran in: 0.0 sec\n",
      "multilayer_perceptron ran in: 0.0 sec\n",
      "multilayer_perceptron ran in: 0.0 sec\n",
      "multilayer_perceptron ran in: 0.0 sec\n",
      "multilayer_perceptron ran in: 0.0 sec\n",
      "multilayer_perceptron ran in: 0.0 sec\n"
     ]
    },
    {
     "name": "stderr",
     "output_type": "stream",
     "text": [
      "\r",
      " 56%|█████▌    | 312/560 [00:09<00:07, 33.00it/s]"
     ]
    },
    {
     "name": "stdout",
     "output_type": "stream",
     "text": [
      "multilayer_perceptron ran in: 0.0 sec\n",
      "multilayer_perceptron ran in: 0.0 sec\n",
      "multilayer_perceptron ran in: 0.0 sec\n",
      "multilayer_perceptron ran in: 0.0 sec\n",
      "multilayer_perceptron ran in: 0.0 sec\n",
      "multilayer_perceptron ran in: 0.0 sec\n",
      "multilayer_perceptron ran in: 0.0 sec\n"
     ]
    },
    {
     "name": "stderr",
     "output_type": "stream",
     "text": [
      " 57%|█████▋    | 320/560 [00:09<00:07, 33.75it/s]"
     ]
    },
    {
     "name": "stdout",
     "output_type": "stream",
     "text": [
      "multilayer_perceptron ran in: 0.0 sec\n",
      "multilayer_perceptron ran in: 0.0 sec\n",
      "multilayer_perceptron ran in: 0.0 sec\n",
      "multilayer_perceptron ran in: 0.0 sec\n",
      "multilayer_perceptron ran in: 0.0 sec\n",
      "multilayer_perceptron ran in: 0.015639305114746094 sec\n",
      "multilayer_perceptron ran in: 0.0 sec\n"
     ]
    },
    {
     "name": "stderr",
     "output_type": "stream",
     "text": [
      " 59%|█████▊    | 328/560 [00:09<00:07, 32.45it/s]"
     ]
    },
    {
     "name": "stdout",
     "output_type": "stream",
     "text": [
      "multilayer_perceptron ran in: 0.0 sec\n",
      "multilayer_perceptron ran in: 0.0 sec\n",
      "multilayer_perceptron ran in: 0.0 sec\n",
      "multilayer_perceptron ran in: 0.0 sec\n",
      "multilayer_perceptron ran in: 0.0 sec\n",
      "multilayer_perceptron ran in: 0.0 sec\n",
      "multilayer_perceptron ran in: 0.0 sec\n"
     ]
    },
    {
     "name": "stderr",
     "output_type": "stream",
     "text": [
      " 60%|██████    | 336/560 [00:10<00:06, 33.63it/s]"
     ]
    },
    {
     "name": "stdout",
     "output_type": "stream",
     "text": [
      "multilayer_perceptron ran in: 0.0 sec\n",
      "multilayer_perceptron ran in: 0.0016021728515625 sec\n",
      "multilayer_perceptron ran in: 0.0 sec\n",
      "multilayer_perceptron ran in: 0.0 sec\n",
      "multilayer_perceptron ran in: 0.0 sec\n",
      "multilayer_perceptron ran in: 0.0 sec\n",
      "multilayer_perceptron ran in: 0.0 sec\n"
     ]
    },
    {
     "name": "stderr",
     "output_type": "stream",
     "text": [
      "\r",
      " 61%|██████    | 340/560 [00:10<00:06, 32.09it/s]"
     ]
    },
    {
     "name": "stdout",
     "output_type": "stream",
     "text": [
      "multilayer_perceptron ran in: 0.0 sec\n",
      "multilayer_perceptron ran in: 0.0 sec\n",
      "multilayer_perceptron ran in: 0.0 sec\n",
      "multilayer_perceptron ran in: 0.0 sec\n",
      "multilayer_perceptron ran in: 0.0 sec\n",
      "multilayer_perceptron ran in: 0.0 sec\n"
     ]
    },
    {
     "name": "stderr",
     "output_type": "stream",
     "text": [
      " 62%|██████▏   | 348/560 [00:10<00:06, 33.27it/s]"
     ]
    },
    {
     "name": "stdout",
     "output_type": "stream",
     "text": [
      "multilayer_perceptron ran in: 0.0 sec\n",
      "multilayer_perceptron ran in: 0.0 sec\n",
      "multilayer_perceptron ran in: 0.0 sec\n",
      "multilayer_perceptron ran in: 0.015643835067749023 sec\n",
      "multilayer_perceptron ran in: 0.0 sec\n",
      "multilayer_perceptron ran in: 0.0 sec\n",
      "multilayer_perceptron ran in: 0.0 sec\n",
      "multilayer_perceptron ran in: 0.0 sec\n"
     ]
    },
    {
     "name": "stderr",
     "output_type": "stream",
     "text": [
      " 64%|██████▎   | 356/560 [00:10<00:06, 32.53it/s]"
     ]
    },
    {
     "name": "stdout",
     "output_type": "stream",
     "text": [
      "multilayer_perceptron ran in: 0.0 sec\n",
      "multilayer_perceptron ran in: 0.0 sec\n",
      "multilayer_perceptron ran in: 0.0 sec\n",
      "multilayer_perceptron ran in: 0.0010001659393310547 sec\n",
      "multilayer_perceptron ran in: 0.0 sec\n",
      "multilayer_perceptron ran in: 0.0 sec\n",
      "multilayer_perceptron ran in: 0.0 sec\n"
     ]
    },
    {
     "name": "stderr",
     "output_type": "stream",
     "text": [
      " 65%|██████▌   | 364/560 [00:11<00:05, 33.48it/s]"
     ]
    },
    {
     "name": "stdout",
     "output_type": "stream",
     "text": [
      "multilayer_perceptron ran in: 0.0 sec\n",
      "multilayer_perceptron ran in: 0.0 sec\n",
      "multilayer_perceptron ran in: 0.0 sec\n",
      "multilayer_perceptron ran in: 0.0 sec\n",
      "multilayer_perceptron ran in: 0.015627145767211914 sec\n",
      "multilayer_perceptron ran in: 0.0 sec\n"
     ]
    },
    {
     "name": "stderr",
     "output_type": "stream",
     "text": [
      "\r",
      " 66%|██████▌   | 368/560 [00:11<00:05, 32.49it/s]"
     ]
    },
    {
     "name": "stdout",
     "output_type": "stream",
     "text": [
      "multilayer_perceptron ran in: 0.0 sec\n",
      "multilayer_perceptron ran in: 0.0 sec\n",
      "multilayer_perceptron ran in: 0.0 sec\n",
      "multilayer_perceptron ran in: 0.0 sec\n",
      "multilayer_perceptron ran in: 0.0 sec\n",
      "multilayer_perceptron ran in: 0.0 sec\n",
      "multilayer_perceptron ran in: 0.0 sec\n"
     ]
    },
    {
     "name": "stderr",
     "output_type": "stream",
     "text": [
      " 67%|██████▋   | 376/560 [00:11<00:05, 32.09it/s]"
     ]
    },
    {
     "name": "stdout",
     "output_type": "stream",
     "text": [
      "multilayer_perceptron ran in: 0.0 sec\n",
      "multilayer_perceptron ran in: 0.006508588790893555 sec\n",
      "multilayer_perceptron ran in: 0.015631437301635742 sec\n",
      "multilayer_perceptron ran in: 0.0 sec\n",
      "multilayer_perceptron ran in: 0.0 sec\n",
      "multilayer_perceptron ran in: 0.0 sec\n",
      "multilayer_perceptron ran in: 0.0 sec\n"
     ]
    },
    {
     "name": "stderr",
     "output_type": "stream",
     "text": [
      " 69%|██████▊   | 384/560 [00:11<00:05, 32.39it/s]"
     ]
    },
    {
     "name": "stdout",
     "output_type": "stream",
     "text": [
      "multilayer_perceptron ran in: 0.0 sec\n",
      "multilayer_perceptron ran in: 0.0 sec\n",
      "multilayer_perceptron ran in: 0.0 sec\n",
      "multilayer_perceptron ran in: 0.0 sec\n",
      "multilayer_perceptron ran in: 0.0 sec\n",
      "multilayer_perceptron ran in: 0.0 sec\n",
      "multilayer_perceptron ran in: 0.0 sec\n"
     ]
    },
    {
     "name": "stderr",
     "output_type": "stream",
     "text": [
      "\r",
      " 69%|██████▉   | 388/560 [00:11<00:05, 33.00it/s]"
     ]
    },
    {
     "name": "stdout",
     "output_type": "stream",
     "text": [
      "multilayer_perceptron ran in: 0.0 sec\n",
      "multilayer_perceptron ran in: 0.0 sec\n",
      "multilayer_perceptron ran in: 0.0 sec\n",
      "multilayer_perceptron ran in: 0.0 sec\n",
      "multilayer_perceptron ran in: 0.0 sec\n",
      "multilayer_perceptron ran in: 0.015639305114746094 sec\n",
      "multilayer_perceptron ran in: 0.0 sec\n"
     ]
    },
    {
     "name": "stderr",
     "output_type": "stream",
     "text": [
      " 71%|███████   | 396/560 [00:12<00:05, 32.32it/s]"
     ]
    },
    {
     "name": "stdout",
     "output_type": "stream",
     "text": [
      "multilayer_perceptron ran in: 0.0 sec\n",
      "multilayer_perceptron ran in: 0.0 sec\n",
      "multilayer_perceptron ran in: 0.0 sec\n",
      "multilayer_perceptron ran in: 0.0065119266510009766 sec\n",
      "multilayer_perceptron ran in: 0.01561427116394043 sec\n",
      "multilayer_perceptron ran in: 0.01561427116394043 sec\n",
      "multilayer_perceptron ran in: 0.0 sec\n"
     ]
    },
    {
     "name": "stderr",
     "output_type": "stream",
     "text": [
      " 72%|███████▏  | 404/560 [00:12<00:04, 32.51it/s]"
     ]
    },
    {
     "name": "stdout",
     "output_type": "stream",
     "text": [
      "multilayer_perceptron ran in: 0.0 sec\n",
      "multilayer_perceptron ran in: 0.0 sec\n",
      "multilayer_perceptron ran in: 0.0 sec\n",
      "multilayer_perceptron ran in: 0.0 sec\n",
      "multilayer_perceptron ran in: 0.0 sec\n",
      "multilayer_perceptron ran in: 0.0 sec\n"
     ]
    },
    {
     "name": "stderr",
     "output_type": "stream",
     "text": [
      " 74%|███████▎  | 412/560 [00:12<00:04, 32.25it/s]"
     ]
    },
    {
     "name": "stdout",
     "output_type": "stream",
     "text": [
      "multilayer_perceptron ran in: 0.0 sec\n",
      "multilayer_perceptron ran in: 0.0 sec\n",
      "multilayer_perceptron ran in: 0.015626907348632812 sec\n",
      "multilayer_perceptron ran in: 0.0 sec\n",
      "multilayer_perceptron ran in: 0.0 sec\n",
      "multilayer_perceptron ran in: 0.0 sec\n",
      "multilayer_perceptron ran in: 0.0065119266510009766 sec\n"
     ]
    },
    {
     "name": "stderr",
     "output_type": "stream",
     "text": [
      "\r",
      " 74%|███████▍  | 416/560 [00:12<00:04, 32.89it/s]"
     ]
    },
    {
     "name": "stdout",
     "output_type": "stream",
     "text": [
      "multilayer_perceptron ran in: 0.015631675720214844 sec\n",
      "multilayer_perceptron ran in: 0.0 sec\n",
      "multilayer_perceptron ran in: 0.015629053115844727 sec\n",
      "multilayer_perceptron ran in: 0.0 sec\n",
      "multilayer_perceptron ran in: 0.0 sec\n",
      "multilayer_perceptron ran in: 0.0 sec\n",
      "multilayer_perceptron ran in: 0.0 sec\n"
     ]
    },
    {
     "name": "stderr",
     "output_type": "stream",
     "text": [
      " 76%|███████▌  | 424/560 [00:12<00:04, 32.91it/s]"
     ]
    },
    {
     "name": "stdout",
     "output_type": "stream",
     "text": [
      "multilayer_perceptron ran in: 0.0 sec\n",
      "multilayer_perceptron ran in: 0.0 sec\n",
      "multilayer_perceptron ran in: 0.0 sec\n",
      "multilayer_perceptron ran in: 0.0 sec\n",
      "multilayer_perceptron ran in: 0.0 sec\n",
      "multilayer_perceptron ran in: 0.0 sec\n",
      "multilayer_perceptron ran in: 0.0 sec\n"
     ]
    },
    {
     "name": "stderr",
     "output_type": "stream",
     "text": [
      " 77%|███████▋  | 432/560 [00:13<00:03, 32.07it/s]"
     ]
    },
    {
     "name": "stdout",
     "output_type": "stream",
     "text": [
      "multilayer_perceptron ran in: 0.01562666893005371 sec\n",
      "multilayer_perceptron ran in: 0.0 sec\n",
      "multilayer_perceptron ran in: 0.0 sec\n",
      "multilayer_perceptron ran in: 0.0 sec\n",
      "multilayer_perceptron ran in: 0.0 sec\n",
      "multilayer_perceptron ran in: 0.0 sec\n",
      "multilayer_perceptron ran in: 0.015611886978149414 sec\n"
     ]
    },
    {
     "name": "stderr",
     "output_type": "stream",
     "text": [
      "\r",
      " 78%|███████▊  | 436/560 [00:13<00:03, 31.55it/s]"
     ]
    },
    {
     "name": "stdout",
     "output_type": "stream",
     "text": [
      "multilayer_perceptron ran in: 0.015627145767211914 sec\n",
      "multilayer_perceptron ran in: 0.0 sec\n",
      "multilayer_perceptron ran in: 0.0 sec\n",
      "multilayer_perceptron ran in: 0.0 sec\n",
      "multilayer_perceptron ran in: 0.0 sec\n",
      "multilayer_perceptron ran in: 0.0 sec\n",
      "multilayer_perceptron ran in: 0.0 sec\n"
     ]
    },
    {
     "name": "stderr",
     "output_type": "stream",
     "text": [
      " 79%|███████▉  | 444/560 [00:13<00:03, 32.85it/s]"
     ]
    },
    {
     "name": "stdout",
     "output_type": "stream",
     "text": [
      "multilayer_perceptron ran in: 0.0 sec\n",
      "multilayer_perceptron ran in: 0.0 sec\n",
      "multilayer_perceptron ran in: 0.0 sec\n",
      "multilayer_perceptron ran in: 0.0 sec\n",
      "multilayer_perceptron ran in: 0.0 sec\n",
      "multilayer_perceptron ran in: 0.0 sec\n",
      "multilayer_perceptron ran in: 0.0 sec\n"
     ]
    },
    {
     "name": "stderr",
     "output_type": "stream",
     "text": [
      " 81%|████████  | 452/560 [00:13<00:03, 32.39it/s]"
     ]
    },
    {
     "name": "stdout",
     "output_type": "stream",
     "text": [
      "multilayer_perceptron ran in: 0.0 sec\n",
      "multilayer_perceptron ran in: 0.0 sec\n",
      "multilayer_perceptron ran in: 0.0 sec\n",
      "multilayer_perceptron ran in: 0.0 sec\n",
      "multilayer_perceptron ran in: 0.0 sec\n",
      "multilayer_perceptron ran in: 0.0 sec\n",
      "multilayer_perceptron ran in: 0.0 sec\n"
     ]
    },
    {
     "name": "stderr",
     "output_type": "stream",
     "text": [
      " 82%|████████▏ | 460/560 [00:13<00:02, 33.44it/s]"
     ]
    },
    {
     "name": "stdout",
     "output_type": "stream",
     "text": [
      "multilayer_perceptron ran in: 0.0 sec\n",
      "multilayer_perceptron ran in: 0.015625476837158203 sec\n",
      "multilayer_perceptron ran in: 0.0 sec\n",
      "multilayer_perceptron ran in: 0.0 sec\n",
      "multilayer_perceptron ran in: 0.0 sec\n",
      "multilayer_perceptron ran in: 0.0 sec\n",
      "multilayer_perceptron ran in: 0.0 sec\n"
     ]
    },
    {
     "name": "stderr",
     "output_type": "stream",
     "text": [
      "\r",
      " 83%|████████▎ | 464/560 [00:14<00:02, 33.20it/s]"
     ]
    },
    {
     "name": "stdout",
     "output_type": "stream",
     "text": [
      "multilayer_perceptron ran in: 0.0 sec\n",
      "multilayer_perceptron ran in: 0.0 sec\n",
      "multilayer_perceptron ran in: 0.0 sec\n",
      "multilayer_perceptron ran in: 0.0 sec\n",
      "multilayer_perceptron ran in: 0.0 sec\n",
      "multilayer_perceptron ran in: 0.0 sec\n",
      "multilayer_perceptron ran in: 0.006524085998535156 sec\n"
     ]
    },
    {
     "name": "stderr",
     "output_type": "stream",
     "text": [
      " 84%|████████▍ | 472/560 [00:14<00:02, 33.86it/s]"
     ]
    },
    {
     "name": "stdout",
     "output_type": "stream",
     "text": [
      "multilayer_perceptron ran in: 0.015626192092895508 sec\n",
      "multilayer_perceptron ran in: 0.0 sec\n",
      "multilayer_perceptron ran in: 0.015621185302734375 sec\n",
      "multilayer_perceptron ran in: 0.0 sec\n",
      "multilayer_perceptron ran in: 0.0 sec\n",
      "multilayer_perceptron ran in: 0.0 sec\n",
      "multilayer_perceptron ran in: 0.0 sec\n"
     ]
    },
    {
     "name": "stderr",
     "output_type": "stream",
     "text": [
      " 86%|████████▌ | 480/560 [00:14<00:02, 33.25it/s]"
     ]
    },
    {
     "name": "stdout",
     "output_type": "stream",
     "text": [
      "multilayer_perceptron ran in: 0.0 sec\n",
      "multilayer_perceptron ran in: 0.0 sec\n",
      "multilayer_perceptron ran in: 0.0 sec\n",
      "multilayer_perceptron ran in: 0.01562356948852539 sec\n",
      "multilayer_perceptron ran in: 0.0 sec\n",
      "multilayer_perceptron ran in: 0.0 sec\n",
      "multilayer_perceptron ran in: 0.0 sec\n"
     ]
    },
    {
     "name": "stderr",
     "output_type": "stream",
     "text": [
      " 87%|████████▋ | 488/560 [00:14<00:02, 33.34it/s]"
     ]
    },
    {
     "name": "stdout",
     "output_type": "stream",
     "text": [
      "multilayer_perceptron ran in: 0.0 sec\n",
      "multilayer_perceptron ran in: 0.0 sec\n",
      "multilayer_perceptron ran in: 0.0 sec\n",
      "multilayer_perceptron ran in: 0.0 sec\n",
      "multilayer_perceptron ran in: 0.015627145767211914 sec\n",
      "multilayer_perceptron ran in: 0.0 sec\n",
      "multilayer_perceptron ran in: 0.0 sec\n",
      "multilayer_perceptron ran in: 0.0 sec\n"
     ]
    },
    {
     "name": "stderr",
     "output_type": "stream",
     "text": [
      " 89%|████████▊ | 496/560 [00:15<00:01, 33.92it/s]"
     ]
    },
    {
     "name": "stdout",
     "output_type": "stream",
     "text": [
      "multilayer_perceptron ran in: 0.0 sec\n",
      "multilayer_perceptron ran in: 0.0 sec\n",
      "multilayer_perceptron ran in: 0.0 sec\n",
      "multilayer_perceptron ran in: 0.0 sec\n",
      "multilayer_perceptron ran in: 0.0 sec\n",
      "multilayer_perceptron ran in: 0.0 sec\n"
     ]
    },
    {
     "name": "stderr",
     "output_type": "stream",
     "text": [
      "\r",
      " 89%|████████▉ | 500/560 [00:15<00:01, 32.79it/s]"
     ]
    },
    {
     "name": "stdout",
     "output_type": "stream",
     "text": [
      "multilayer_perceptron ran in: 0.0 sec\n",
      "multilayer_perceptron ran in: 0.0 sec\n",
      "multilayer_perceptron ran in: 0.015638113021850586 sec\n",
      "multilayer_perceptron ran in: 0.0 sec\n",
      "multilayer_perceptron ran in: 0.0 sec\n",
      "multilayer_perceptron ran in: 0.0 sec\n"
     ]
    },
    {
     "name": "stderr",
     "output_type": "stream",
     "text": [
      " 91%|█████████ | 508/560 [00:15<00:01, 33.26it/s]"
     ]
    },
    {
     "name": "stdout",
     "output_type": "stream",
     "text": [
      "multilayer_perceptron ran in: 0.0 sec\n",
      "multilayer_perceptron ran in: 0.0 sec\n",
      "multilayer_perceptron ran in: 0.015636444091796875 sec\n",
      "multilayer_perceptron ran in: 0.0 sec\n",
      "multilayer_perceptron ran in: 0.0 sec\n",
      "multilayer_perceptron ran in: 0.0 sec\n",
      "multilayer_perceptron ran in: 0.0 sec\n"
     ]
    },
    {
     "name": "stderr",
     "output_type": "stream",
     "text": [
      "\r",
      " 91%|█████████▏| 512/560 [00:15<00:01, 33.62it/s]"
     ]
    },
    {
     "name": "stdout",
     "output_type": "stream",
     "text": [
      "multilayer_perceptron ran in: 0.0 sec\n",
      "multilayer_perceptron ran in: 0.015629291534423828 sec\n",
      "multilayer_perceptron ran in: 0.0 sec\n",
      "multilayer_perceptron ran in: 0.0 sec\n",
      "multilayer_perceptron ran in: 0.0 sec\n",
      "multilayer_perceptron ran in: 0.0 sec\n",
      "multilayer_perceptron ran in: 0.0 sec\n"
     ]
    },
    {
     "name": "stderr",
     "output_type": "stream",
     "text": [
      " 93%|█████████▎| 520/560 [00:15<00:01, 33.14it/s]"
     ]
    },
    {
     "name": "stdout",
     "output_type": "stream",
     "text": [
      "multilayer_perceptron ran in: 0.0 sec\n",
      "multilayer_perceptron ran in: 0.0 sec\n",
      "multilayer_perceptron ran in: 0.0 sec\n",
      "multilayer_perceptron ran in: 0.015613079071044922 sec\n",
      "multilayer_perceptron ran in: 0.0 sec\n",
      "multilayer_perceptron ran in: 0.0 sec\n",
      "multilayer_perceptron ran in: 0.0 sec\n"
     ]
    },
    {
     "name": "stderr",
     "output_type": "stream",
     "text": [
      " 94%|█████████▍| 528/560 [00:16<00:00, 33.44it/s]"
     ]
    },
    {
     "name": "stdout",
     "output_type": "stream",
     "text": [
      "multilayer_perceptron ran in: 0.015625953674316406 sec\n",
      "multilayer_perceptron ran in: 0.0 sec\n",
      "multilayer_perceptron ran in: 0.0 sec\n",
      "multilayer_perceptron ran in: 0.0 sec\n",
      "multilayer_perceptron ran in: 0.0 sec\n",
      "multilayer_perceptron ran in: 0.0 sec\n",
      "multilayer_perceptron ran in: 0.0 sec\n",
      "multilayer_perceptron ran in: 0.0 sec\n"
     ]
    },
    {
     "name": "stderr",
     "output_type": "stream",
     "text": [
      " 96%|█████████▌| 536/560 [00:16<00:00, 33.97it/s]"
     ]
    },
    {
     "name": "stdout",
     "output_type": "stream",
     "text": [
      "multilayer_perceptron ran in: 0.0 sec\n",
      "multilayer_perceptron ran in: 0.0 sec\n",
      "multilayer_perceptron ran in: 0.0 sec\n",
      "multilayer_perceptron ran in: 0.0 sec\n",
      "multilayer_perceptron ran in: 0.015627622604370117 sec\n",
      "multilayer_perceptron ran in: 0.0 sec\n",
      "multilayer_perceptron ran in: 0.0 sec\n"
     ]
    },
    {
     "name": "stderr",
     "output_type": "stream",
     "text": [
      " 97%|█████████▋| 544/560 [00:16<00:00, 34.25it/s]"
     ]
    },
    {
     "name": "stdout",
     "output_type": "stream",
     "text": [
      "multilayer_perceptron ran in: 0.0 sec\n",
      "multilayer_perceptron ran in: 0.0 sec\n",
      "multilayer_perceptron ran in: 0.0 sec\n",
      "multilayer_perceptron ran in: 0.0 sec\n",
      "multilayer_perceptron ran in: 0.0 sec\n",
      "multilayer_perceptron ran in: 0.0 sec\n",
      "multilayer_perceptron ran in: 0.0 sec\n",
      "multilayer_perceptron ran in: 0.0 sec\n"
     ]
    },
    {
     "name": "stderr",
     "output_type": "stream",
     "text": [
      " 99%|█████████▊| 552/560 [00:16<00:00, 33.48it/s]"
     ]
    },
    {
     "name": "stdout",
     "output_type": "stream",
     "text": [
      "multilayer_perceptron ran in: 0.0 sec\n",
      "multilayer_perceptron ran in: 0.0 sec\n",
      "multilayer_perceptron ran in: 0.015653610229492188 sec\n",
      "multilayer_perceptron ran in: 0.0 sec\n",
      "multilayer_perceptron ran in: 0.0 sec\n",
      "multilayer_perceptron ran in: 0.0 sec\n",
      "multilayer_perceptron ran in: 0.0 sec\n"
     ]
    },
    {
     "name": "stderr",
     "output_type": "stream",
     "text": [
      "100%|██████████| 560/560 [00:16<00:00, 34.37it/s]"
     ]
    },
    {
     "name": "stdout",
     "output_type": "stream",
     "text": [
      "multilayer_perceptron ran in: 0.0 sec\n",
      "multilayer_perceptron ran in: 0.0 sec\n",
      "multilayer_perceptron ran in: 0.0 sec\n",
      "multilayer_perceptron ran in: 0.0 sec\n",
      "multilayer_perceptron ran in: 0.015624046325683594 sec\n",
      "multilayer_perceptron ran in: 0.0 sec\n",
      "multilayer_perceptron ran in: 0.0 sec\n"
     ]
    },
    {
     "name": "stderr",
     "output_type": "stream",
     "text": [
      "100%|██████████| 560/560 [00:16<00:00, 33.02it/s]\n"
     ]
    },
    {
     "name": "stdout",
     "output_type": "stream",
     "text": [
      "Epoch: 2 Cost=7151.7749\n"
     ]
    },
    {
     "name": "stderr",
     "output_type": "stream",
     "text": [
      "  1%|          | 3/560 [00:00<00:18, 29.92it/s]"
     ]
    },
    {
     "name": "stdout",
     "output_type": "stream",
     "text": [
      "multilayer_perceptron ran in: 0.0 sec\n",
      "multilayer_perceptron ran in: 0.0 sec\n",
      "multilayer_perceptron ran in: 0.0 sec\n",
      "multilayer_perceptron ran in: 0.0 sec\n",
      "multilayer_perceptron ran in: 0.0 sec\n",
      "multilayer_perceptron ran in: 0.0 sec\n",
      "multilayer_perceptron ran in: 0.0 sec\n"
     ]
    },
    {
     "name": "stderr",
     "output_type": "stream",
     "text": [
      "  2%|▏         | 11/560 [00:00<00:16, 33.59it/s]"
     ]
    },
    {
     "name": "stdout",
     "output_type": "stream",
     "text": [
      "multilayer_perceptron ran in: 0.0 sec\n",
      "multilayer_perceptron ran in: 0.0 sec\n",
      "multilayer_perceptron ran in: 0.0 sec\n",
      "multilayer_perceptron ran in: 0.0 sec\n",
      "multilayer_perceptron ran in: 0.0 sec\n",
      "multilayer_perceptron ran in: 0.0 sec\n",
      "multilayer_perceptron ran in: 0.0 sec\n"
     ]
    },
    {
     "name": "stderr",
     "output_type": "stream",
     "text": [
      "  3%|▎         | 19/560 [00:00<00:16, 33.67it/s]"
     ]
    },
    {
     "name": "stdout",
     "output_type": "stream",
     "text": [
      "multilayer_perceptron ran in: 0.0 sec\n",
      "multilayer_perceptron ran in: 0.0 sec\n",
      "multilayer_perceptron ran in: 0.0 sec\n",
      "multilayer_perceptron ran in: 0.0 sec\n",
      "multilayer_perceptron ran in: 0.0 sec\n",
      "multilayer_perceptron ran in: 0.0 sec\n",
      "multilayer_perceptron ran in: 0.0 sec\n"
     ]
    },
    {
     "name": "stderr",
     "output_type": "stream",
     "text": [
      "  5%|▍         | 27/560 [00:00<00:15, 34.14it/s]"
     ]
    },
    {
     "name": "stdout",
     "output_type": "stream",
     "text": [
      "multilayer_perceptron ran in: 0.0 sec\n",
      "multilayer_perceptron ran in: 0.0 sec\n",
      "multilayer_perceptron ran in: 0.0 sec\n",
      "multilayer_perceptron ran in: 0.0 sec\n",
      "multilayer_perceptron ran in: 0.0 sec\n",
      "multilayer_perceptron ran in: 0.0 sec\n",
      "multilayer_perceptron ran in: 0.0156252384185791 sec\n"
     ]
    },
    {
     "name": "stderr",
     "output_type": "stream",
     "text": [
      "  6%|▋         | 35/560 [00:01<00:15, 34.46it/s]"
     ]
    },
    {
     "name": "stdout",
     "output_type": "stream",
     "text": [
      "multilayer_perceptron ran in: 0.0 sec\n",
      "multilayer_perceptron ran in: 0.0 sec\n",
      "multilayer_perceptron ran in: 0.0 sec\n",
      "multilayer_perceptron ran in: 0.0 sec\n",
      "multilayer_perceptron ran in: 0.0 sec\n",
      "multilayer_perceptron ran in: 0.0 sec\n",
      "multilayer_perceptron ran in: 0.0 sec\n"
     ]
    },
    {
     "name": "stderr",
     "output_type": "stream",
     "text": [
      "\r",
      "  7%|▋         | 39/560 [00:01<00:15, 33.89it/s]"
     ]
    },
    {
     "name": "stdout",
     "output_type": "stream",
     "text": [
      "multilayer_perceptron ran in: 0.0 sec\n",
      "multilayer_perceptron ran in: 0.0 sec\n",
      "multilayer_perceptron ran in: 0.0 sec\n",
      "multilayer_perceptron ran in: 0.0 sec\n",
      "multilayer_perceptron ran in: 0.0 sec\n",
      "multilayer_perceptron ran in: 0.0 sec\n",
      "multilayer_perceptron ran in: 0.0 sec\n"
     ]
    },
    {
     "name": "stderr",
     "output_type": "stream",
     "text": [
      "  8%|▊         | 47/560 [00:01<00:14, 34.20it/s]"
     ]
    },
    {
     "name": "stdout",
     "output_type": "stream",
     "text": [
      "multilayer_perceptron ran in: 0.0 sec\n",
      "multilayer_perceptron ran in: 0.0 sec\n",
      "multilayer_perceptron ran in: 0.0 sec\n",
      "multilayer_perceptron ran in: 0.0 sec\n",
      "multilayer_perceptron ran in: 0.0 sec\n",
      "multilayer_perceptron ran in: 0.0 sec\n",
      "multilayer_perceptron ran in: 0.0 sec\n"
     ]
    },
    {
     "name": "stderr",
     "output_type": "stream",
     "text": [
      " 10%|▉         | 55/560 [00:01<00:14, 34.36it/s]"
     ]
    },
    {
     "name": "stdout",
     "output_type": "stream",
     "text": [
      "multilayer_perceptron ran in: 0.0 sec\n",
      "multilayer_perceptron ran in: 0.0 sec\n",
      "multilayer_perceptron ran in: 0.0 sec\n",
      "multilayer_perceptron ran in: 0.015611648559570312 sec\n",
      "multilayer_perceptron ran in: 0.0 sec\n",
      "multilayer_perceptron ran in: 0.0 sec\n",
      "multilayer_perceptron ran in: 0.0 sec\n"
     ]
    },
    {
     "name": "stderr",
     "output_type": "stream",
     "text": [
      "\r",
      " 11%|█         | 59/560 [00:01<00:14, 34.40it/s]"
     ]
    },
    {
     "name": "stdout",
     "output_type": "stream",
     "text": [
      "multilayer_perceptron ran in: 0.0 sec\n",
      "multilayer_perceptron ran in: 0.0 sec\n",
      "multilayer_perceptron ran in: 0.0 sec\n",
      "multilayer_perceptron ran in: 0.0 sec\n",
      "multilayer_perceptron ran in: 0.0 sec\n",
      "multilayer_perceptron ran in: 0.0 sec\n"
     ]
    },
    {
     "name": "stderr",
     "output_type": "stream",
     "text": [
      " 12%|█▏        | 67/560 [00:01<00:14, 34.06it/s]"
     ]
    },
    {
     "name": "stdout",
     "output_type": "stream",
     "text": [
      "multilayer_perceptron ran in: 0.01562643051147461 sec\n",
      "multilayer_perceptron ran in: 0.0 sec\n",
      "multilayer_perceptron ran in: 0.0 sec\n",
      "multilayer_perceptron ran in: 0.0 sec\n",
      "multilayer_perceptron ran in: 0.0065114498138427734 sec\n",
      "multilayer_perceptron ran in: 0.01562643051147461 sec\n",
      "multilayer_perceptron ran in: 0.0 sec\n"
     ]
    },
    {
     "name": "stderr",
     "output_type": "stream",
     "text": [
      " 13%|█▎        | 75/560 [00:02<00:14, 34.29it/s]"
     ]
    },
    {
     "name": "stdout",
     "output_type": "stream",
     "text": [
      "multilayer_perceptron ran in: 0.0 sec\n",
      "multilayer_perceptron ran in: 0.0 sec\n",
      "multilayer_perceptron ran in: 0.0 sec\n",
      "multilayer_perceptron ran in: 0.015623331069946289 sec\n",
      "multilayer_perceptron ran in: 0.0 sec\n",
      "multilayer_perceptron ran in: 0.0 sec\n",
      "multilayer_perceptron ran in: 0.0 sec\n"
     ]
    },
    {
     "name": "stderr",
     "output_type": "stream",
     "text": [
      " 15%|█▍        | 83/560 [00:02<00:13, 34.40it/s]"
     ]
    },
    {
     "name": "stdout",
     "output_type": "stream",
     "text": [
      "multilayer_perceptron ran in: 0.015641450881958008 sec\n",
      "multilayer_perceptron ran in: 0.0 sec\n",
      "multilayer_perceptron ran in: 0.0 sec\n",
      "multilayer_perceptron ran in: 0.0 sec\n",
      "multilayer_perceptron ran in: 0.0 sec\n",
      "multilayer_perceptron ran in: 0.0 sec\n",
      "multilayer_perceptron ran in: 0.0 sec\n"
     ]
    },
    {
     "name": "stderr",
     "output_type": "stream",
     "text": [
      "\r",
      " 16%|█▌        | 87/560 [00:02<00:13, 33.86it/s]"
     ]
    },
    {
     "name": "stdout",
     "output_type": "stream",
     "text": [
      "multilayer_perceptron ran in: 0.0 sec\n",
      "multilayer_perceptron ran in: 0.015626907348632812 sec\n",
      "multilayer_perceptron ran in: 0.0 sec\n",
      "multilayer_perceptron ran in: 0.0 sec\n",
      "multilayer_perceptron ran in: 0.0 sec\n",
      "multilayer_perceptron ran in: 0.01563858985900879 sec\n",
      "multilayer_perceptron ran in: 0.0 sec\n",
      "multilayer_perceptron ran in: 0.0 sec\n"
     ]
    },
    {
     "name": "stderr",
     "output_type": "stream",
     "text": [
      " 17%|█▋        | 95/560 [00:02<00:13, 34.19it/s]"
     ]
    },
    {
     "name": "stdout",
     "output_type": "stream",
     "text": [
      "multilayer_perceptron ran in: 0.0 sec\n",
      "multilayer_perceptron ran in: 0.0 sec\n",
      "multilayer_perceptron ran in: 0.0 sec\n",
      "multilayer_perceptron ran in: 0.0 sec\n",
      "multilayer_perceptron ran in: 0.0 sec\n",
      "multilayer_perceptron ran in: 0.015625476837158203 sec\n",
      "multilayer_perceptron ran in: 0.0 sec\n"
     ]
    },
    {
     "name": "stderr",
     "output_type": "stream",
     "text": [
      " 18%|█▊        | 103/560 [00:03<00:13, 34.35it/s]"
     ]
    },
    {
     "name": "stdout",
     "output_type": "stream",
     "text": [
      "multilayer_perceptron ran in: 0.0 sec\n",
      "multilayer_perceptron ran in: 0.0 sec\n",
      "multilayer_perceptron ran in: 0.0 sec\n",
      "multilayer_perceptron ran in: 0.0 sec\n",
      "multilayer_perceptron ran in: 0.0 sec\n",
      "multilayer_perceptron ran in: 0.0 sec\n",
      "multilayer_perceptron ran in: 0.0 sec\n"
     ]
    },
    {
     "name": "stderr",
     "output_type": "stream",
     "text": [
      " 20%|█▉        | 111/560 [00:03<00:13, 33.86it/s]"
     ]
    },
    {
     "name": "stdout",
     "output_type": "stream",
     "text": [
      "multilayer_perceptron ran in: 0.0 sec\n",
      "multilayer_perceptron ran in: 0.0 sec\n",
      "multilayer_perceptron ran in: 0.0065081119537353516 sec\n",
      "multilayer_perceptron ran in: 0.0 sec\n",
      "multilayer_perceptron ran in: 0.0 sec\n",
      "multilayer_perceptron ran in: 0.0 sec\n",
      "multilayer_perceptron ran in: 0.015662193298339844 sec\n"
     ]
    },
    {
     "name": "stderr",
     "output_type": "stream",
     "text": [
      " 21%|██▏       | 119/560 [00:03<00:12, 34.18it/s]"
     ]
    },
    {
     "name": "stdout",
     "output_type": "stream",
     "text": [
      "multilayer_perceptron ran in: 0.015629053115844727 sec\n",
      "multilayer_perceptron ran in: 0.015627622604370117 sec\n",
      "multilayer_perceptron ran in: 0.0 sec\n",
      "multilayer_perceptron ran in: 0.0 sec\n",
      "multilayer_perceptron ran in: 0.0 sec\n",
      "multilayer_perceptron ran in: 0.015630722045898438 sec\n",
      "multilayer_perceptron ran in: 0.0 sec\n"
     ]
    },
    {
     "name": "stderr",
     "output_type": "stream",
     "text": [
      "\r",
      " 22%|██▏       | 123/560 [00:03<00:12, 34.28it/s]"
     ]
    },
    {
     "name": "stdout",
     "output_type": "stream",
     "text": [
      "multilayer_perceptron ran in: 0.0 sec\n",
      "multilayer_perceptron ran in: 0.0 sec\n",
      "multilayer_perceptron ran in: 0.0 sec\n",
      "multilayer_perceptron ran in: 0.0 sec\n",
      "multilayer_perceptron ran in: 0.0 sec\n",
      "multilayer_perceptron ran in: 0.0 sec\n",
      "multilayer_perceptron ran in: 0.0 sec\n"
     ]
    },
    {
     "name": "stderr",
     "output_type": "stream",
     "text": [
      " 23%|██▎       | 131/560 [00:03<00:12, 34.01it/s]"
     ]
    },
    {
     "name": "stdout",
     "output_type": "stream",
     "text": [
      "multilayer_perceptron ran in: 0.0 sec\n",
      "multilayer_perceptron ran in: 0.0 sec\n",
      "multilayer_perceptron ran in: 0.0011904239654541016 sec\n",
      "multilayer_perceptron ran in: 0.0 sec\n",
      "multilayer_perceptron ran in: 0.0 sec\n",
      "multilayer_perceptron ran in: 0.0 sec\n",
      "multilayer_perceptron ran in: 0.0 sec\n"
     ]
    },
    {
     "name": "stderr",
     "output_type": "stream",
     "text": [
      " 25%|██▍       | 139/560 [00:04<00:12, 34.14it/s]"
     ]
    },
    {
     "name": "stdout",
     "output_type": "stream",
     "text": [
      "multilayer_perceptron ran in: 0.015624523162841797 sec\n",
      "multilayer_perceptron ran in: 0.0 sec\n",
      "multilayer_perceptron ran in: 0.0 sec\n",
      "multilayer_perceptron ran in: 0.0 sec\n",
      "multilayer_perceptron ran in: 0.0 sec\n",
      "multilayer_perceptron ran in: 0.0 sec\n",
      "multilayer_perceptron ran in: 0.0 sec\n",
      "multilayer_perceptron ran in: 0.0 sec\n"
     ]
    },
    {
     "name": "stderr",
     "output_type": "stream",
     "text": [
      " 26%|██▋       | 147/560 [00:04<00:12, 33.39it/s]"
     ]
    },
    {
     "name": "stdout",
     "output_type": "stream",
     "text": [
      "multilayer_perceptron ran in: 0.0 sec\n",
      "multilayer_perceptron ran in: 0.0 sec\n",
      "multilayer_perceptron ran in: 0.0 sec\n",
      "multilayer_perceptron ran in: 0.0 sec\n",
      "multilayer_perceptron ran in: 0.0 sec\n",
      "multilayer_perceptron ran in: 0.0 sec\n",
      "multilayer_perceptron ran in: 0.0 sec\n"
     ]
    },
    {
     "name": "stderr",
     "output_type": "stream",
     "text": [
      " 28%|██▊       | 155/560 [00:04<00:12, 33.39it/s]"
     ]
    },
    {
     "name": "stdout",
     "output_type": "stream",
     "text": [
      "multilayer_perceptron ran in: 0.0 sec\n",
      "multilayer_perceptron ran in: 0.0 sec\n",
      "multilayer_perceptron ran in: 0.0 sec\n",
      "multilayer_perceptron ran in: 0.0 sec\n",
      "multilayer_perceptron ran in: 0.0 sec\n",
      "multilayer_perceptron ran in: 0.0 sec\n",
      "multilayer_perceptron ran in: 0.0 sec\n"
     ]
    },
    {
     "name": "stderr",
     "output_type": "stream",
     "text": [
      "\r",
      " 28%|██▊       | 159/560 [00:04<00:11, 33.72it/s]"
     ]
    },
    {
     "name": "stdout",
     "output_type": "stream",
     "text": [
      "multilayer_perceptron ran in: 0.0 sec\n",
      "multilayer_perceptron ran in: 0.0 sec\n",
      "multilayer_perceptron ran in: 0.0 sec\n",
      "multilayer_perceptron ran in: 0.0 sec\n",
      "multilayer_perceptron ran in: 0.0 sec\n",
      "multilayer_perceptron ran in: 0.0 sec\n",
      "multilayer_perceptron ran in: 0.0 sec\n"
     ]
    },
    {
     "name": "stderr",
     "output_type": "stream",
     "text": [
      " 30%|██▉       | 167/560 [00:04<00:11, 34.12it/s]"
     ]
    },
    {
     "name": "stdout",
     "output_type": "stream",
     "text": [
      "multilayer_perceptron ran in: 0.0 sec\n",
      "multilayer_perceptron ran in: 0.0 sec\n",
      "multilayer_perceptron ran in: 0.0 sec\n",
      "multilayer_perceptron ran in: 0.0 sec\n",
      "multilayer_perceptron ran in: 0.01564168930053711 sec\n",
      "multilayer_perceptron ran in: 0.015625 sec\n",
      "multilayer_perceptron ran in: 0.0 sec\n"
     ]
    },
    {
     "name": "stderr",
     "output_type": "stream",
     "text": [
      " 31%|███▏      | 175/560 [00:05<00:11, 34.32it/s]"
     ]
    },
    {
     "name": "stdout",
     "output_type": "stream",
     "text": [
      "multilayer_perceptron ran in: 0.0 sec\n",
      "multilayer_perceptron ran in: 0.0 sec\n",
      "multilayer_perceptron ran in: 0.0 sec\n",
      "multilayer_perceptron ran in: 0.0 sec\n",
      "multilayer_perceptron ran in: 0.0 sec\n",
      "multilayer_perceptron ran in: 0.0 sec\n"
     ]
    },
    {
     "name": "stderr",
     "output_type": "stream",
     "text": [
      "\r",
      " 32%|███▏      | 179/560 [00:05<00:11, 33.81it/s]"
     ]
    },
    {
     "name": "stdout",
     "output_type": "stream",
     "text": [
      "multilayer_perceptron ran in: 0.0065097808837890625 sec\n",
      "multilayer_perceptron ran in: 0.0 sec\n",
      "multilayer_perceptron ran in: 0.0 sec\n",
      "multilayer_perceptron ran in: 0.0 sec\n",
      "multilayer_perceptron ran in: 0.0 sec\n",
      "multilayer_perceptron ran in: 0.0 sec\n",
      "multilayer_perceptron ran in: 0.0 sec\n"
     ]
    },
    {
     "name": "stderr",
     "output_type": "stream",
     "text": [
      " 33%|███▎      | 187/560 [00:05<00:11, 33.23it/s]"
     ]
    },
    {
     "name": "stdout",
     "output_type": "stream",
     "text": [
      "multilayer_perceptron ran in: 0.015650272369384766 sec\n",
      "multilayer_perceptron ran in: 0.0 sec\n",
      "multilayer_perceptron ran in: 0.0 sec\n",
      "multilayer_perceptron ran in: 0.0 sec\n",
      "multilayer_perceptron ran in: 0.01564192771911621 sec\n",
      "multilayer_perceptron ran in: 0.0 sec\n",
      "multilayer_perceptron ran in: 0.0 sec\n",
      "multilayer_perceptron ran in: 0.0 sec\n"
     ]
    },
    {
     "name": "stderr",
     "output_type": "stream",
     "text": [
      " 35%|███▍      | 195/560 [00:05<00:10, 33.87it/s]"
     ]
    },
    {
     "name": "stdout",
     "output_type": "stream",
     "text": [
      "multilayer_perceptron ran in: 0.0 sec\n",
      "multilayer_perceptron ran in: 0.0 sec\n",
      "multilayer_perceptron ran in: 0.0 sec\n",
      "multilayer_perceptron ran in: 0.0 sec\n",
      "multilayer_perceptron ran in: 0.0 sec\n",
      "multilayer_perceptron ran in: 0.0 sec\n",
      "multilayer_perceptron ran in: 0.01564502716064453 sec\n",
      "multilayer_perceptron ran in: 0.0 sec\n"
     ]
    },
    {
     "name": "stderr",
     "output_type": "stream",
     "text": [
      " 36%|███▋      | 203/560 [00:05<00:10, 33.81it/s]"
     ]
    },
    {
     "name": "stdout",
     "output_type": "stream",
     "text": [
      "multilayer_perceptron ran in: 0.0 sec\n",
      "multilayer_perceptron ran in: 0.0 sec\n",
      "multilayer_perceptron ran in: 0.0 sec\n",
      "multilayer_perceptron ran in: 0.015622377395629883 sec\n",
      "multilayer_perceptron ran in: 0.0 sec\n",
      "multilayer_perceptron ran in: 0.0 sec\n",
      "multilayer_perceptron ran in: 0.0 sec\n"
     ]
    },
    {
     "name": "stderr",
     "output_type": "stream",
     "text": [
      " 38%|███▊      | 211/560 [00:06<00:10, 33.23it/s]"
     ]
    },
    {
     "name": "stdout",
     "output_type": "stream",
     "text": [
      "multilayer_perceptron ran in: 0.0 sec\n",
      "multilayer_perceptron ran in: 0.0 sec\n",
      "multilayer_perceptron ran in: 0.0 sec\n",
      "multilayer_perceptron ran in: 0.0 sec\n",
      "multilayer_perceptron ran in: 0.0 sec\n",
      "multilayer_perceptron ran in: 0.0 sec\n",
      "multilayer_perceptron ran in: 0.0 sec\n"
     ]
    },
    {
     "name": "stderr",
     "output_type": "stream",
     "text": [
      " 39%|███▉      | 219/560 [00:06<00:10, 33.32it/s]"
     ]
    },
    {
     "name": "stdout",
     "output_type": "stream",
     "text": [
      "multilayer_perceptron ran in: 0.0 sec\n",
      "multilayer_perceptron ran in: 0.01562643051147461 sec\n",
      "multilayer_perceptron ran in: 0.0 sec\n",
      "multilayer_perceptron ran in: 0.015639543533325195 sec\n",
      "multilayer_perceptron ran in: 0.0 sec\n",
      "multilayer_perceptron ran in: 0.0 sec\n",
      "multilayer_perceptron ran in: 0.0 sec\n"
     ]
    },
    {
     "name": "stderr",
     "output_type": "stream",
     "text": [
      "\r",
      " 40%|███▉      | 223/560 [00:06<00:10, 33.66it/s]"
     ]
    },
    {
     "name": "stdout",
     "output_type": "stream",
     "text": [
      "multilayer_perceptron ran in: 0.0 sec\n",
      "multilayer_perceptron ran in: 0.0 sec\n",
      "multilayer_perceptron ran in: 0.0 sec\n",
      "multilayer_perceptron ran in: 0.0 sec\n",
      "multilayer_perceptron ran in: 0.0 sec\n",
      "multilayer_perceptron ran in: 0.0 sec\n"
     ]
    },
    {
     "name": "stderr",
     "output_type": "stream",
     "text": [
      " 41%|████▏     | 231/560 [00:06<00:09, 34.08it/s]"
     ]
    },
    {
     "name": "stdout",
     "output_type": "stream",
     "text": [
      "multilayer_perceptron ran in: 0.015625 sec\n",
      "multilayer_perceptron ran in: 0.0 sec\n",
      "multilayer_perceptron ran in: 0.0 sec\n",
      "multilayer_perceptron ran in: 0.0 sec\n",
      "multilayer_perceptron ran in: 0.0 sec\n",
      "multilayer_perceptron ran in: 0.0 sec\n",
      "multilayer_perceptron ran in: 0.0 sec\n"
     ]
    },
    {
     "name": "stderr",
     "output_type": "stream",
     "text": [
      " 43%|████▎     | 239/560 [00:07<00:09, 33.36it/s]"
     ]
    },
    {
     "name": "stdout",
     "output_type": "stream",
     "text": [
      "multilayer_perceptron ran in: 0.006516218185424805 sec\n",
      "multilayer_perceptron ran in: 0.0 sec\n",
      "multilayer_perceptron ran in: 0.0 sec\n",
      "multilayer_perceptron ran in: 0.0 sec\n",
      "multilayer_perceptron ran in: 0.0 sec\n",
      "multilayer_perceptron ran in: 0.015624046325683594 sec\n",
      "multilayer_perceptron ran in: 0.0 sec\n"
     ]
    },
    {
     "name": "stderr",
     "output_type": "stream",
     "text": [
      "\r",
      " 43%|████▎     | 243/560 [00:07<00:09, 33.15it/s]"
     ]
    },
    {
     "name": "stdout",
     "output_type": "stream",
     "text": [
      "multilayer_perceptron ran in: 0.0 sec\n",
      "multilayer_perceptron ran in: 0.0 sec\n",
      "multilayer_perceptron ran in: 0.0 sec\n",
      "multilayer_perceptron ran in: 0.0 sec\n",
      "multilayer_perceptron ran in: 0.0 sec\n",
      "multilayer_perceptron ran in: 0.0 sec\n"
     ]
    },
    {
     "name": "stderr",
     "output_type": "stream",
     "text": [
      " 45%|████▍     | 251/560 [00:07<00:09, 31.70it/s]"
     ]
    },
    {
     "name": "stdout",
     "output_type": "stream",
     "text": [
      "multilayer_perceptron ran in: 0.0 sec\n",
      "multilayer_perceptron ran in: 0.0 sec\n",
      "multilayer_perceptron ran in: 0.0 sec\n",
      "multilayer_perceptron ran in: 0.0 sec\n",
      "multilayer_perceptron ran in: 0.0 sec\n",
      "multilayer_perceptron ran in: 0.0 sec\n",
      "multilayer_perceptron ran in: 0.015628337860107422 sec\n"
     ]
    },
    {
     "name": "stderr",
     "output_type": "stream",
     "text": [
      " 46%|████▋     | 259/560 [00:07<00:09, 32.70it/s]"
     ]
    },
    {
     "name": "stdout",
     "output_type": "stream",
     "text": [
      "multilayer_perceptron ran in: 0.0 sec\n",
      "multilayer_perceptron ran in: 0.0 sec\n",
      "multilayer_perceptron ran in: 0.0 sec\n",
      "multilayer_perceptron ran in: 0.0 sec\n",
      "multilayer_perceptron ran in: 0.0 sec\n",
      "multilayer_perceptron ran in: 0.0 sec\n",
      "multilayer_perceptron ran in: 0.0 sec\n"
     ]
    },
    {
     "name": "stderr",
     "output_type": "stream",
     "text": [
      "\r",
      " 47%|████▋     | 263/560 [00:07<00:08, 33.22it/s]"
     ]
    },
    {
     "name": "stdout",
     "output_type": "stream",
     "text": [
      "multilayer_perceptron ran in: 0.0 sec\n",
      "multilayer_perceptron ran in: 0.0 sec\n",
      "multilayer_perceptron ran in: 0.0 sec\n",
      "multilayer_perceptron ran in: 0.0 sec\n",
      "multilayer_perceptron ran in: 0.0 sec\n",
      "multilayer_perceptron ran in: 0.0 sec\n"
     ]
    },
    {
     "name": "stderr",
     "output_type": "stream",
     "text": [
      " 48%|████▊     | 271/560 [00:08<00:08, 32.95it/s]"
     ]
    },
    {
     "name": "stdout",
     "output_type": "stream",
     "text": [
      "multilayer_perceptron ran in: 0.0 sec\n",
      "multilayer_perceptron ran in: 0.0 sec\n",
      "multilayer_perceptron ran in: 0.0 sec\n",
      "multilayer_perceptron ran in: 0.0 sec\n",
      "multilayer_perceptron ran in: 0.0 sec\n",
      "multilayer_perceptron ran in: 0.0 sec\n",
      "multilayer_perceptron ran in: 0.0 sec\n",
      "multilayer_perceptron ran in: 0.0 sec\n"
     ]
    },
    {
     "name": "stderr",
     "output_type": "stream",
     "text": [
      " 50%|████▉     | 279/560 [00:08<00:08, 33.34it/s]"
     ]
    },
    {
     "name": "stdout",
     "output_type": "stream",
     "text": [
      "multilayer_perceptron ran in: 0.0 sec\n",
      "multilayer_perceptron ran in: 0.0 sec\n",
      "multilayer_perceptron ran in: 0.015652179718017578 sec\n",
      "multilayer_perceptron ran in: 0.0 sec\n",
      "multilayer_perceptron ran in: 0.0 sec\n",
      "multilayer_perceptron ran in: 0.0 sec\n",
      "multilayer_perceptron ran in: 0.0 sec\n",
      "multilayer_perceptron ran in: 0.0 sec\n",
      "multilayer_perceptron ran in: 0.0 sec\n",
      "multilayer_perceptron ran in: 0.0 sec\n"
     ]
    },
    {
     "name": "stderr",
     "output_type": "stream",
     "text": [
      " 51%|█████     | 286/560 [00:08<00:10, 26.27it/s]"
     ]
    },
    {
     "name": "stdout",
     "output_type": "stream",
     "text": [
      "multilayer_perceptron ran in: 0.0 sec\n",
      "multilayer_perceptron ran in: 0.01563572883605957 sec\n",
      "multilayer_perceptron ran in: 0.0 sec\n",
      "multilayer_perceptron ran in: 0.0 sec\n",
      "multilayer_perceptron ran in: 0.0 sec\n",
      "multilayer_perceptron ran in: 0.0 sec\n",
      "multilayer_perceptron ran in: 0.0 sec\n"
     ]
    },
    {
     "name": "stderr",
     "output_type": "stream",
     "text": [
      " 52%|█████▎    | 294/560 [00:08<00:09, 28.59it/s]"
     ]
    },
    {
     "name": "stdout",
     "output_type": "stream",
     "text": [
      "multilayer_perceptron ran in: 0.0 sec\n",
      "multilayer_perceptron ran in: 0.0 sec\n",
      "multilayer_perceptron ran in: 0.0 sec\n",
      "multilayer_perceptron ran in: 0.0 sec\n",
      "multilayer_perceptron ran in: 0.0 sec\n",
      "multilayer_perceptron ran in: 0.0 sec\n",
      "multilayer_perceptron ran in: 0.0 sec\n"
     ]
    },
    {
     "name": "stderr",
     "output_type": "stream",
     "text": [
      " 54%|█████▍    | 302/560 [00:09<00:08, 31.38it/s]"
     ]
    },
    {
     "name": "stdout",
     "output_type": "stream",
     "text": [
      "multilayer_perceptron ran in: 0.0 sec\n",
      "multilayer_perceptron ran in: 0.0 sec\n",
      "multilayer_perceptron ran in: 0.0 sec\n",
      "multilayer_perceptron ran in: 0.0 sec\n",
      "multilayer_perceptron ran in: 0.0 sec\n",
      "multilayer_perceptron ran in: 0.0 sec\n",
      "multilayer_perceptron ran in: 0.0065114498138427734 sec\n"
     ]
    },
    {
     "name": "stderr",
     "output_type": "stream",
     "text": [
      " 55%|█████▌    | 310/560 [00:09<00:07, 31.55it/s]"
     ]
    },
    {
     "name": "stdout",
     "output_type": "stream",
     "text": [
      "multilayer_perceptron ran in: 0.0 sec\n",
      "multilayer_perceptron ran in: 0.0 sec\n",
      "multilayer_perceptron ran in: 0.0 sec\n",
      "multilayer_perceptron ran in: 0.0 sec\n",
      "multilayer_perceptron ran in: 0.0 sec\n",
      "multilayer_perceptron ran in: 0.0 sec\n",
      "multilayer_perceptron ran in: 0.0 sec\n"
     ]
    },
    {
     "name": "stderr",
     "output_type": "stream",
     "text": [
      " 57%|█████▋    | 318/560 [00:09<00:07, 31.76it/s]"
     ]
    },
    {
     "name": "stdout",
     "output_type": "stream",
     "text": [
      "multilayer_perceptron ran in: 0.0 sec\n",
      "multilayer_perceptron ran in: 0.0 sec\n",
      "multilayer_perceptron ran in: 0.0 sec\n",
      "multilayer_perceptron ran in: 0.0 sec\n",
      "multilayer_perceptron ran in: 0.0 sec\n",
      "multilayer_perceptron ran in: 0.0 sec\n",
      "multilayer_perceptron ran in: 0.0 sec\n"
     ]
    },
    {
     "name": "stderr",
     "output_type": "stream",
     "text": [
      "\r",
      " 57%|█████▊    | 322/560 [00:09<00:07, 32.54it/s]"
     ]
    },
    {
     "name": "stdout",
     "output_type": "stream",
     "text": [
      "multilayer_perceptron ran in: 0.0 sec\n",
      "multilayer_perceptron ran in: 0.0 sec\n",
      "multilayer_perceptron ran in: 0.0 sec\n",
      "multilayer_perceptron ran in: 0.0 sec\n",
      "multilayer_perceptron ran in: 0.0 sec\n",
      "multilayer_perceptron ran in: 0.0 sec\n",
      "multilayer_perceptron ran in: 0.0 sec\n"
     ]
    },
    {
     "name": "stderr",
     "output_type": "stream",
     "text": [
      " 59%|█████▉    | 330/560 [00:09<00:06, 32.98it/s]"
     ]
    },
    {
     "name": "stdout",
     "output_type": "stream",
     "text": [
      "multilayer_perceptron ran in: 0.0 sec\n",
      "multilayer_perceptron ran in: 0.0 sec\n",
      "multilayer_perceptron ran in: 0.0 sec\n",
      "multilayer_perceptron ran in: 0.0 sec\n",
      "multilayer_perceptron ran in: 0.0 sec\n",
      "multilayer_perceptron ran in: 0.0 sec\n",
      "multilayer_perceptron ran in: 0.0 sec\n"
     ]
    },
    {
     "name": "stderr",
     "output_type": "stream",
     "text": [
      "\r",
      " 60%|█████▉    | 334/560 [00:10<00:06, 33.43it/s]"
     ]
    },
    {
     "name": "stdout",
     "output_type": "stream",
     "text": [
      "multilayer_perceptron ran in: 0.0 sec\n",
      "multilayer_perceptron ran in: 0.0 sec\n",
      "multilayer_perceptron ran in: 0.0 sec\n",
      "multilayer_perceptron ran in: 0.0 sec\n",
      "multilayer_perceptron ran in: 0.015630245208740234 sec\n",
      "multilayer_perceptron ran in: 0.0 sec\n"
     ]
    },
    {
     "name": "stderr",
     "output_type": "stream",
     "text": [
      " 61%|██████    | 342/560 [00:10<00:06, 31.82it/s]"
     ]
    },
    {
     "name": "stdout",
     "output_type": "stream",
     "text": [
      "multilayer_perceptron ran in: 0.0 sec\n",
      "multilayer_perceptron ran in: 0.0 sec\n",
      "multilayer_perceptron ran in: 0.0 sec\n",
      "multilayer_perceptron ran in: 0.0 sec\n",
      "multilayer_perceptron ran in: 0.0 sec\n",
      "multilayer_perceptron ran in: 0.0 sec\n",
      "multilayer_perceptron ran in: 0.0 sec\n"
     ]
    },
    {
     "name": "stderr",
     "output_type": "stream",
     "text": [
      " 62%|██████▎   | 350/560 [00:10<00:06, 31.55it/s]"
     ]
    },
    {
     "name": "stdout",
     "output_type": "stream",
     "text": [
      "multilayer_perceptron ran in: 0.0 sec\n",
      "multilayer_perceptron ran in: 0.0 sec\n",
      "multilayer_perceptron ran in: 0.0 sec\n",
      "multilayer_perceptron ran in: 0.0 sec\n",
      "multilayer_perceptron ran in: 0.0 sec\n",
      "multilayer_perceptron ran in: 0.0 sec\n",
      "multilayer_perceptron ran in: 0.0 sec\n"
     ]
    },
    {
     "name": "stderr",
     "output_type": "stream",
     "text": [
      " 64%|██████▍   | 358/560 [00:10<00:06, 31.77it/s]"
     ]
    },
    {
     "name": "stdout",
     "output_type": "stream",
     "text": [
      "multilayer_perceptron ran in: 0.0 sec\n",
      "multilayer_perceptron ran in: 0.0 sec\n",
      "multilayer_perceptron ran in: 0.0 sec\n",
      "multilayer_perceptron ran in: 0.0 sec\n",
      "multilayer_perceptron ran in: 0.0 sec\n",
      "multilayer_perceptron ran in: 0.0 sec\n",
      "multilayer_perceptron ran in: 0.0 sec\n"
     ]
    },
    {
     "name": "stderr",
     "output_type": "stream",
     "text": [
      " 65%|██████▌   | 366/560 [00:11<00:05, 32.74it/s]"
     ]
    },
    {
     "name": "stdout",
     "output_type": "stream",
     "text": [
      "multilayer_perceptron ran in: 0.0 sec\n",
      "multilayer_perceptron ran in: 0.0 sec\n",
      "multilayer_perceptron ran in: 0.0 sec\n",
      "multilayer_perceptron ran in: 0.015635251998901367 sec\n",
      "multilayer_perceptron ran in: 0.0 sec\n",
      "multilayer_perceptron ran in: 0.0 sec\n",
      "multilayer_perceptron ran in: 0.0 sec\n"
     ]
    },
    {
     "name": "stderr",
     "output_type": "stream",
     "text": [
      "\r",
      " 66%|██████▌   | 370/560 [00:11<00:05, 32.00it/s]"
     ]
    },
    {
     "name": "stdout",
     "output_type": "stream",
     "text": [
      "multilayer_perceptron ran in: 0.0 sec\n",
      "multilayer_perceptron ran in: 0.0 sec\n",
      "multilayer_perceptron ran in: 0.0 sec\n",
      "multilayer_perceptron ran in: 0.0 sec\n",
      "multilayer_perceptron ran in: 0.0 sec\n",
      "multilayer_perceptron ran in: 0.0 sec\n",
      "multilayer_perceptron ran in: 0.0 sec\n"
     ]
    },
    {
     "name": "stderr",
     "output_type": "stream",
     "text": [
      " 68%|██████▊   | 378/560 [00:11<00:05, 31.85it/s]"
     ]
    },
    {
     "name": "stdout",
     "output_type": "stream",
     "text": [
      "multilayer_perceptron ran in: 0.0 sec\n",
      "multilayer_perceptron ran in: 0.0 sec\n",
      "multilayer_perceptron ran in: 0.0 sec\n",
      "multilayer_perceptron ran in: 0.0 sec\n",
      "multilayer_perceptron ran in: 0.0 sec\n",
      "multilayer_perceptron ran in: 0.015635251998901367 sec\n",
      "multilayer_perceptron ran in: 0.0 sec\n"
     ]
    },
    {
     "name": "stderr",
     "output_type": "stream",
     "text": [
      " 69%|██████▉   | 386/560 [00:11<00:05, 33.15it/s]"
     ]
    },
    {
     "name": "stdout",
     "output_type": "stream",
     "text": [
      "multilayer_perceptron ran in: 0.0 sec\n",
      "multilayer_perceptron ran in: 0.0 sec\n",
      "multilayer_perceptron ran in: 0.0 sec\n",
      "multilayer_perceptron ran in: 0.0 sec\n",
      "multilayer_perceptron ran in: 0.0 sec\n",
      "multilayer_perceptron ran in: 0.0 sec\n"
     ]
    },
    {
     "name": "stderr",
     "output_type": "stream",
     "text": [
      "\r",
      " 70%|██████▉   | 390/560 [00:11<00:05, 32.31it/s]"
     ]
    },
    {
     "name": "stdout",
     "output_type": "stream",
     "text": [
      "multilayer_perceptron ran in: 0.0 sec\n",
      "multilayer_perceptron ran in: 0.0 sec\n",
      "multilayer_perceptron ran in: 0.0 sec\n",
      "multilayer_perceptron ran in: 0.0 sec\n",
      "multilayer_perceptron ran in: 0.0 sec\n",
      "multilayer_perceptron ran in: 0.0 sec\n",
      "multilayer_perceptron ran in: 0.0 sec\n"
     ]
    },
    {
     "name": "stderr",
     "output_type": "stream",
     "text": [
      " 71%|███████   | 398/560 [00:12<00:04, 32.86it/s]"
     ]
    },
    {
     "name": "stdout",
     "output_type": "stream",
     "text": [
      "multilayer_perceptron ran in: 0.0 sec\n",
      "multilayer_perceptron ran in: 0.006508588790893555 sec\n",
      "multilayer_perceptron ran in: 0.0 sec\n",
      "multilayer_perceptron ran in: 0.0 sec\n",
      "multilayer_perceptron ran in: 0.0 sec\n",
      "multilayer_perceptron ran in: 0.0 sec\n",
      "multilayer_perceptron ran in: 0.0 sec\n"
     ]
    },
    {
     "name": "stderr",
     "output_type": "stream",
     "text": [
      " 72%|███████▎  | 406/560 [00:12<00:04, 32.40it/s]"
     ]
    },
    {
     "name": "stdout",
     "output_type": "stream",
     "text": [
      "multilayer_perceptron ran in: 0.0 sec\n",
      "multilayer_perceptron ran in: 0.0 sec\n",
      "multilayer_perceptron ran in: 0.0 sec\n",
      "multilayer_perceptron ran in: 0.0 sec\n",
      "multilayer_perceptron ran in: 0.0 sec\n",
      "multilayer_perceptron ran in: 0.015629291534423828 sec\n",
      "multilayer_perceptron ran in: 0.0 sec\n"
     ]
    },
    {
     "name": "stderr",
     "output_type": "stream",
     "text": [
      " 74%|███████▍  | 414/560 [00:12<00:04, 33.44it/s]"
     ]
    },
    {
     "name": "stdout",
     "output_type": "stream",
     "text": [
      "multilayer_perceptron ran in: 0.0 sec\n",
      "multilayer_perceptron ran in: 0.0 sec\n",
      "multilayer_perceptron ran in: 0.0 sec\n",
      "multilayer_perceptron ran in: 0.0 sec\n",
      "multilayer_perceptron ran in: 0.0 sec\n",
      "multilayer_perceptron ran in: 0.0 sec\n",
      "multilayer_perceptron ran in: 0.0 sec\n"
     ]
    },
    {
     "name": "stderr",
     "output_type": "stream",
     "text": [
      "\r",
      " 75%|███████▍  | 418/560 [00:12<00:04, 33.21it/s]"
     ]
    },
    {
     "name": "stdout",
     "output_type": "stream",
     "text": [
      "multilayer_perceptron ran in: 0.0 sec\n",
      "multilayer_perceptron ran in: 0.015626907348632812 sec\n",
      "multilayer_perceptron ran in: 0.0 sec\n",
      "multilayer_perceptron ran in: 0.0 sec\n",
      "multilayer_perceptron ran in: 0.0 sec\n",
      "multilayer_perceptron ran in: 0.0 sec\n",
      "multilayer_perceptron ran in: 0.0 sec\n",
      "multilayer_perceptron ran in: 0.0 sec\n"
     ]
    },
    {
     "name": "stderr",
     "output_type": "stream",
     "text": [
      " 76%|███████▌  | 426/560 [00:12<00:03, 33.79it/s]"
     ]
    },
    {
     "name": "stdout",
     "output_type": "stream",
     "text": [
      "multilayer_perceptron ran in: 0.0 sec\n",
      "multilayer_perceptron ran in: 0.015564203262329102 sec\n",
      "multilayer_perceptron ran in: 0.0 sec\n",
      "multilayer_perceptron ran in: 0.0 sec\n",
      "multilayer_perceptron ran in: 0.0 sec\n",
      "multilayer_perceptron ran in: 0.015627622604370117 sec\n",
      "multilayer_perceptron ran in: 0.0 sec\n"
     ]
    },
    {
     "name": "stderr",
     "output_type": "stream",
     "text": [
      " 78%|███████▊  | 434/560 [00:13<00:03, 34.18it/s]"
     ]
    },
    {
     "name": "stdout",
     "output_type": "stream",
     "text": [
      "multilayer_perceptron ran in: 0.0 sec\n",
      "multilayer_perceptron ran in: 0.0 sec\n",
      "multilayer_perceptron ran in: 0.0 sec\n",
      "multilayer_perceptron ran in: 0.0 sec\n",
      "multilayer_perceptron ran in: 0.0 sec\n",
      "multilayer_perceptron ran in: 0.0 sec\n",
      "multilayer_perceptron ran in: 0.0 sec\n",
      "multilayer_perceptron ran in: 0.0 sec\n"
     ]
    },
    {
     "name": "stderr",
     "output_type": "stream",
     "text": [
      " 79%|███████▉  | 442/560 [00:13<00:03, 33.78it/s]"
     ]
    },
    {
     "name": "stdout",
     "output_type": "stream",
     "text": [
      "multilayer_perceptron ran in: 0.0 sec\n",
      "multilayer_perceptron ran in: 0.0 sec\n",
      "multilayer_perceptron ran in: 0.0 sec\n",
      "multilayer_perceptron ran in: 0.0 sec\n",
      "multilayer_perceptron ran in: 0.0 sec\n",
      "multilayer_perceptron ran in: 0.0 sec\n",
      "multilayer_perceptron ran in: 0.015624761581420898 sec\n"
     ]
    },
    {
     "name": "stderr",
     "output_type": "stream",
     "text": [
      " 80%|████████  | 450/560 [00:13<00:03, 34.15it/s]"
     ]
    },
    {
     "name": "stdout",
     "output_type": "stream",
     "text": [
      "multilayer_perceptron ran in: 0.0 sec\n",
      "multilayer_perceptron ran in: 0.0 sec\n",
      "multilayer_perceptron ran in: 0.0 sec\n",
      "multilayer_perceptron ran in: 0.015645265579223633 sec\n",
      "multilayer_perceptron ran in: 0.0 sec\n",
      "multilayer_perceptron ran in: 0.0 sec\n",
      "multilayer_perceptron ran in: 0.0 sec\n"
     ]
    },
    {
     "name": "stderr",
     "output_type": "stream",
     "text": [
      " 82%|████████▏ | 458/560 [00:13<00:02, 34.33it/s]"
     ]
    },
    {
     "name": "stdout",
     "output_type": "stream",
     "text": [
      "multilayer_perceptron ran in: 0.0 sec\n",
      "multilayer_perceptron ran in: 0.0 sec\n",
      "multilayer_perceptron ran in: 0.0 sec\n",
      "multilayer_perceptron ran in: 0.0 sec\n",
      "multilayer_perceptron ran in: 0.0 sec\n",
      "multilayer_perceptron ran in: 0.0 sec\n",
      "multilayer_perceptron ran in: 0.0 sec\n"
     ]
    },
    {
     "name": "stderr",
     "output_type": "stream",
     "text": [
      "\r",
      " 82%|████████▎ | 462/560 [00:13<00:02, 34.38it/s]"
     ]
    },
    {
     "name": "stdout",
     "output_type": "stream",
     "text": [
      "multilayer_perceptron ran in: 0.0 sec\n",
      "multilayer_perceptron ran in: 0.0 sec\n",
      "multilayer_perceptron ran in: 0.0 sec\n",
      "multilayer_perceptron ran in: 0.0 sec\n",
      "multilayer_perceptron ran in: 0.0 sec\n",
      "multilayer_perceptron ran in: 0.015625715255737305 sec\n",
      "multilayer_perceptron ran in: 0.0 sec\n"
     ]
    },
    {
     "name": "stderr",
     "output_type": "stream",
     "text": [
      " 84%|████████▍ | 470/560 [00:14<00:02, 34.04it/s]"
     ]
    },
    {
     "name": "stdout",
     "output_type": "stream",
     "text": [
      "multilayer_perceptron ran in: 0.0 sec\n",
      "multilayer_perceptron ran in: 0.0 sec\n",
      "multilayer_perceptron ran in: 0.0 sec\n",
      "multilayer_perceptron ran in: 0.015639543533325195 sec\n",
      "multilayer_perceptron ran in: 0.0 sec\n",
      "multilayer_perceptron ran in: 0.0 sec\n",
      "multilayer_perceptron ran in: 0.0 sec\n"
     ]
    },
    {
     "name": "stderr",
     "output_type": "stream",
     "text": [
      " 85%|████████▌ | 478/560 [00:14<00:02, 34.28it/s]"
     ]
    },
    {
     "name": "stdout",
     "output_type": "stream",
     "text": [
      "multilayer_perceptron ran in: 0.015625953674316406 sec\n",
      "multilayer_perceptron ran in: 0.0 sec\n",
      "multilayer_perceptron ran in: 0.0 sec\n",
      "multilayer_perceptron ran in: 0.0 sec\n",
      "multilayer_perceptron ran in: 0.0 sec\n",
      "multilayer_perceptron ran in: 0.0 sec\n",
      "multilayer_perceptron ran in: 0.0 sec\n",
      "multilayer_perceptron ran in: 0.0 sec\n"
     ]
    },
    {
     "name": "stderr",
     "output_type": "stream",
     "text": [
      " 87%|████████▋ | 486/560 [00:14<00:02, 33.45it/s]"
     ]
    },
    {
     "name": "stdout",
     "output_type": "stream",
     "text": [
      "multilayer_perceptron ran in: 0.0 sec\n",
      "multilayer_perceptron ran in: 0.0 sec\n",
      "multilayer_perceptron ran in: 0.0 sec\n",
      "multilayer_perceptron ran in: 0.0 sec\n",
      "multilayer_perceptron ran in: 0.0 sec\n",
      "multilayer_perceptron ran in: 0.0 sec\n",
      "multilayer_perceptron ran in: 0.0 sec\n"
     ]
    },
    {
     "name": "stderr",
     "output_type": "stream",
     "text": [
      " 88%|████████▊ | 494/560 [00:14<00:01, 34.54it/s]"
     ]
    },
    {
     "name": "stdout",
     "output_type": "stream",
     "text": [
      "multilayer_perceptron ran in: 0.0 sec\n",
      "multilayer_perceptron ran in: 0.0 sec\n",
      "multilayer_perceptron ran in: 0.0 sec\n",
      "multilayer_perceptron ran in: 0.0 sec\n",
      "multilayer_perceptron ran in: 0.0 sec\n",
      "multilayer_perceptron ran in: 0.0 sec\n",
      "multilayer_perceptron ran in: 0.0 sec\n"
     ]
    },
    {
     "name": "stderr",
     "output_type": "stream",
     "text": [
      "\r",
      " 89%|████████▉ | 498/560 [00:15<00:01, 33.19it/s]"
     ]
    },
    {
     "name": "stdout",
     "output_type": "stream",
     "text": [
      "multilayer_perceptron ran in: 0.0 sec\n",
      "multilayer_perceptron ran in: 0.0 sec\n",
      "multilayer_perceptron ran in: 0.0 sec\n",
      "multilayer_perceptron ran in: 0.0 sec\n",
      "multilayer_perceptron ran in: 0.0 sec\n",
      "multilayer_perceptron ran in: 0.0 sec\n",
      "multilayer_perceptron ran in: 0.0 sec\n"
     ]
    },
    {
     "name": "stderr",
     "output_type": "stream",
     "text": [
      " 90%|█████████ | 506/560 [00:15<00:01, 35.25it/s]"
     ]
    },
    {
     "name": "stdout",
     "output_type": "stream",
     "text": [
      "multilayer_perceptron ran in: 0.0 sec\n",
      "multilayer_perceptron ran in: 0.0 sec\n",
      "multilayer_perceptron ran in: 0.0 sec\n",
      "multilayer_perceptron ran in: 0.0 sec\n",
      "multilayer_perceptron ran in: 0.0 sec\n",
      "multilayer_perceptron ran in: 0.0 sec\n",
      "multilayer_perceptron ran in: 0.0 sec\n"
     ]
    },
    {
     "name": "stderr",
     "output_type": "stream",
     "text": [
      " 92%|█████████▏| 514/560 [00:15<00:01, 34.73it/s]"
     ]
    },
    {
     "name": "stdout",
     "output_type": "stream",
     "text": [
      "multilayer_perceptron ran in: 0.0 sec\n",
      "multilayer_perceptron ran in: 0.0 sec\n",
      "multilayer_perceptron ran in: 0.0 sec\n",
      "multilayer_perceptron ran in: 0.0 sec\n",
      "multilayer_perceptron ran in: 0.0 sec\n",
      "multilayer_perceptron ran in: 0.0 sec\n",
      "multilayer_perceptron ran in: 0.0 sec\n"
     ]
    },
    {
     "name": "stderr",
     "output_type": "stream",
     "text": [
      " 93%|█████████▎| 522/560 [00:15<00:01, 34.61it/s]"
     ]
    },
    {
     "name": "stdout",
     "output_type": "stream",
     "text": [
      "multilayer_perceptron ran in: 0.0 sec\n",
      "multilayer_perceptron ran in: 0.0 sec\n",
      "multilayer_perceptron ran in: 0.0 sec\n",
      "multilayer_perceptron ran in: 0.0 sec\n",
      "multilayer_perceptron ran in: 0.0 sec\n",
      "multilayer_perceptron ran in: 0.015642881393432617 sec\n",
      "multilayer_perceptron ran in: 0.0 sec\n"
     ]
    },
    {
     "name": "stderr",
     "output_type": "stream",
     "text": [
      "\r",
      " 94%|█████████▍| 526/560 [00:15<00:00, 34.59it/s]"
     ]
    },
    {
     "name": "stdout",
     "output_type": "stream",
     "text": [
      "multilayer_perceptron ran in: 0.0 sec\n",
      "multilayer_perceptron ran in: 0.0 sec\n",
      "multilayer_perceptron ran in: 0.0 sec\n",
      "multilayer_perceptron ran in: 0.0 sec\n",
      "multilayer_perceptron ran in: 0.0 sec\n",
      "multilayer_perceptron ran in: 0.0 sec\n",
      "multilayer_perceptron ran in: 0.0 sec\n"
     ]
    },
    {
     "name": "stderr",
     "output_type": "stream",
     "text": [
      " 95%|█████████▌| 534/560 [00:16<00:00, 33.20it/s]"
     ]
    },
    {
     "name": "stdout",
     "output_type": "stream",
     "text": [
      "multilayer_perceptron ran in: 0.0 sec\n",
      "multilayer_perceptron ran in: 0.0 sec\n",
      "multilayer_perceptron ran in: 0.0 sec\n",
      "multilayer_perceptron ran in: 0.0 sec\n",
      "multilayer_perceptron ran in: 0.0 sec\n",
      "multilayer_perceptron ran in: 0.0 sec\n",
      "multilayer_perceptron ran in: 0.0 sec\n",
      "multilayer_perceptron ran in: 0.0 sec\n"
     ]
    },
    {
     "name": "stderr",
     "output_type": "stream",
     "text": [
      " 97%|█████████▋| 542/560 [00:16<00:00, 34.41it/s]"
     ]
    },
    {
     "name": "stdout",
     "output_type": "stream",
     "text": [
      "multilayer_perceptron ran in: 0.0 sec\n",
      "multilayer_perceptron ran in: 0.0 sec\n",
      "multilayer_perceptron ran in: 0.0 sec\n",
      "multilayer_perceptron ran in: 0.0 sec\n",
      "multilayer_perceptron ran in: 0.0 sec\n",
      "multilayer_perceptron ran in: 0.0 sec\n",
      "multilayer_perceptron ran in: 0.0 sec\n"
     ]
    },
    {
     "name": "stderr",
     "output_type": "stream",
     "text": [
      " 98%|█████████▊| 550/560 [00:16<00:00, 34.88it/s]"
     ]
    },
    {
     "name": "stdout",
     "output_type": "stream",
     "text": [
      "multilayer_perceptron ran in: 0.0 sec\n",
      "multilayer_perceptron ran in: 0.0 sec\n",
      "multilayer_perceptron ran in: 0.0 sec\n",
      "multilayer_perceptron ran in: 0.0 sec\n",
      "multilayer_perceptron ran in: 0.0 sec\n",
      "multilayer_perceptron ran in: 0.0 sec\n",
      "multilayer_perceptron ran in: 0.0 sec\n"
     ]
    },
    {
     "name": "stderr",
     "output_type": "stream",
     "text": [
      "100%|█████████▉| 558/560 [00:16<00:00, 33.73it/s]"
     ]
    },
    {
     "name": "stdout",
     "output_type": "stream",
     "text": [
      "multilayer_perceptron ran in: 0.0 sec\n",
      "multilayer_perceptron ran in: 0.0 sec\n",
      "multilayer_perceptron ran in: 0.0 sec\n",
      "multilayer_perceptron ran in: 0.0 sec\n",
      "multilayer_perceptron ran in: 0.0 sec\n",
      "multilayer_perceptron ran in: 0.0 sec\n",
      "multilayer_perceptron ran in: 0.0 sec\n"
     ]
    },
    {
     "name": "stderr",
     "output_type": "stream",
     "text": [
      "100%|██████████| 560/560 [00:16<00:00, 33.24it/s]\n"
     ]
    },
    {
     "name": "stdout",
     "output_type": "stream",
     "text": [
      "multilayer_perceptron ran in: 0.0 sec\n",
      "multilayer_perceptron ran in: 0.0 sec\n",
      "Epoch: 3 Cost=17805.2637\n"
     ]
    },
    {
     "name": "stderr",
     "output_type": "stream",
     "text": [
      "  1%|          | 4/560 [00:00<00:16, 34.51it/s]"
     ]
    },
    {
     "name": "stdout",
     "output_type": "stream",
     "text": [
      "multilayer_perceptron ran in: 0.0 sec\n",
      "multilayer_perceptron ran in: 0.0 sec\n",
      "multilayer_perceptron ran in: 0.0 sec\n",
      "multilayer_perceptron ran in: 0.0 sec\n",
      "multilayer_perceptron ran in: 0.0 sec\n",
      "multilayer_perceptron ran in: 0.0 sec\n",
      "multilayer_perceptron ran in: 0.0 sec\n"
     ]
    },
    {
     "name": "stderr",
     "output_type": "stream",
     "text": [
      "\r",
      "  1%|▏         | 8/560 [00:00<00:17, 31.97it/s]"
     ]
    },
    {
     "name": "stdout",
     "output_type": "stream",
     "text": [
      "multilayer_perceptron ran in: 0.0 sec\n",
      "multilayer_perceptron ran in: 0.0 sec\n",
      "multilayer_perceptron ran in: 0.0 sec\n",
      "multilayer_perceptron ran in: 0.0 sec\n"
     ]
    },
    {
     "name": "stderr",
     "output_type": "stream",
     "text": [
      "\r",
      "  2%|▏         | 12/560 [00:00<00:15, 34.26it/s]"
     ]
    },
    {
     "name": "stdout",
     "output_type": "stream",
     "text": [
      "multilayer_perceptron ran in: 0.0 sec\n",
      "multilayer_perceptron ran in: 0.0 sec\n",
      "multilayer_perceptron ran in: 0.0 sec\n"
     ]
    },
    {
     "name": "stderr",
     "output_type": "stream",
     "text": [
      "\r",
      "  3%|▎         | 16/560 [00:00<00:15, 34.35it/s]"
     ]
    },
    {
     "name": "stdout",
     "output_type": "stream",
     "text": [
      "multilayer_perceptron ran in: 0.0 sec\n",
      "multilayer_perceptron ran in: 0.0 sec\n",
      "multilayer_perceptron ran in: 0.0 sec\n",
      "multilayer_perceptron ran in: 0.0 sec\n"
     ]
    },
    {
     "name": "stderr",
     "output_type": "stream",
     "text": [
      "\r",
      "  4%|▎         | 20/560 [00:00<00:16, 32.82it/s]"
     ]
    },
    {
     "name": "stdout",
     "output_type": "stream",
     "text": [
      "multilayer_perceptron ran in: 0.0 sec\n",
      "multilayer_perceptron ran in: 0.0 sec\n",
      "multilayer_perceptron ran in: 0.0 sec\n"
     ]
    },
    {
     "name": "stderr",
     "output_type": "stream",
     "text": [
      "\r",
      "  4%|▍         | 24/560 [00:00<00:16, 33.37it/s]"
     ]
    },
    {
     "name": "stdout",
     "output_type": "stream",
     "text": [
      "multilayer_perceptron ran in: 0.0 sec\n",
      "multilayer_perceptron ran in: 0.015633821487426758 sec\n",
      "multilayer_perceptron ran in: 0.0 sec\n",
      "multilayer_perceptron ran in: 0.0 sec\n",
      "multilayer_perceptron ran in: 0.0 sec\n",
      "multilayer_perceptron ran in: 0.0 sec\n",
      "multilayer_perceptron ran in: 0.0 sec\n"
     ]
    },
    {
     "name": "stderr",
     "output_type": "stream",
     "text": [
      "  6%|▌         | 32/560 [00:00<00:15, 34.86it/s]"
     ]
    },
    {
     "name": "stdout",
     "output_type": "stream",
     "text": [
      "multilayer_perceptron ran in: 0.0 sec\n",
      "multilayer_perceptron ran in: 0.0 sec\n",
      "multilayer_perceptron ran in: 0.0 sec\n",
      "multilayer_perceptron ran in: 0.0 sec\n",
      "multilayer_perceptron ran in: 0.0 sec\n",
      "multilayer_perceptron ran in: 0.0 sec\n",
      "multilayer_perceptron ran in: 0.0 sec\n"
     ]
    },
    {
     "name": "stderr",
     "output_type": "stream",
     "text": [
      "  7%|▋         | 40/560 [00:01<00:15, 33.70it/s]"
     ]
    },
    {
     "name": "stdout",
     "output_type": "stream",
     "text": [
      "multilayer_perceptron ran in: 0.0 sec\n",
      "multilayer_perceptron ran in: 0.0 sec\n",
      "multilayer_perceptron ran in: 0.0 sec\n",
      "multilayer_perceptron ran in: 0.0 sec\n",
      "multilayer_perceptron ran in: 0.0 sec\n",
      "multilayer_perceptron ran in: 0.0 sec\n",
      "multilayer_perceptron ran in: 0.0 sec\n",
      "multilayer_perceptron ran in: 0.0 sec\n"
     ]
    },
    {
     "name": "stderr",
     "output_type": "stream",
     "text": [
      "\r",
      "  8%|▊         | 44/560 [00:01<00:15, 33.94it/s]"
     ]
    },
    {
     "name": "stdout",
     "output_type": "stream",
     "text": [
      "multilayer_perceptron ran in: 0.0 sec\n",
      "multilayer_perceptron ran in: 0.01563262939453125 sec\n",
      "multilayer_perceptron ran in: 0.0 sec\n",
      "multilayer_perceptron ran in: 0.0 sec\n"
     ]
    },
    {
     "name": "stderr",
     "output_type": "stream",
     "text": [
      "\r",
      "  9%|▊         | 48/560 [00:01<00:15, 34.11it/s]"
     ]
    },
    {
     "name": "stdout",
     "output_type": "stream",
     "text": [
      "multilayer_perceptron ran in: 0.0 sec\n",
      "multilayer_perceptron ran in: 0.015651702880859375 sec\n",
      "multilayer_perceptron ran in: 0.0 sec\n",
      "multilayer_perceptron ran in: 0.0 sec\n"
     ]
    },
    {
     "name": "stderr",
     "output_type": "stream",
     "text": [
      "\r",
      "  9%|▉         | 52/560 [00:01<00:14, 34.23it/s]"
     ]
    },
    {
     "name": "stdout",
     "output_type": "stream",
     "text": [
      "multilayer_perceptron ran in: 0.0 sec\n",
      "multilayer_perceptron ran in: 0.0 sec\n",
      "multilayer_perceptron ran in: 0.0 sec\n"
     ]
    },
    {
     "name": "stderr",
     "output_type": "stream",
     "text": [
      "\r",
      " 10%|█         | 56/560 [00:01<00:14, 33.74it/s]"
     ]
    },
    {
     "name": "stdout",
     "output_type": "stream",
     "text": [
      "multilayer_perceptron ran in: 0.0 sec\n",
      "multilayer_perceptron ran in: 0.0 sec\n",
      "multilayer_perceptron ran in: 0.0 sec\n",
      "multilayer_perceptron ran in: 0.0 sec\n"
     ]
    },
    {
     "name": "stderr",
     "output_type": "stream",
     "text": [
      "\r",
      " 11%|█         | 60/560 [00:01<00:14, 33.97it/s]"
     ]
    },
    {
     "name": "stdout",
     "output_type": "stream",
     "text": [
      "multilayer_perceptron ran in: 0.0 sec\n",
      "multilayer_perceptron ran in: 0.0 sec\n",
      "multilayer_perceptron ran in: 0.015625715255737305 sec\n"
     ]
    },
    {
     "name": "stderr",
     "output_type": "stream",
     "text": [
      "\r",
      " 11%|█▏        | 64/560 [00:01<00:14, 34.13it/s]"
     ]
    },
    {
     "name": "stdout",
     "output_type": "stream",
     "text": [
      "multilayer_perceptron ran in: 0.0 sec\n",
      "multilayer_perceptron ran in: 0.0 sec\n",
      "multilayer_perceptron ran in: 0.0 sec\n",
      "multilayer_perceptron ran in: 0.0 sec\n",
      "multilayer_perceptron ran in: 0.0 sec\n",
      "multilayer_perceptron ran in: 0.0 sec\n",
      "multilayer_perceptron ran in: 0.0 sec\n"
     ]
    },
    {
     "name": "stderr",
     "output_type": "stream",
     "text": [
      " 13%|█▎        | 72/560 [00:02<00:14, 34.32it/s]"
     ]
    },
    {
     "name": "stdout",
     "output_type": "stream",
     "text": [
      "multilayer_perceptron ran in: 0.0 sec\n",
      "multilayer_perceptron ran in: 0.0 sec\n",
      "multilayer_perceptron ran in: 0.0 sec\n",
      "multilayer_perceptron ran in: 0.0 sec\n",
      "multilayer_perceptron ran in: 0.0 sec\n",
      "multilayer_perceptron ran in: 0.0 sec\n",
      "multilayer_perceptron ran in: 0.0 sec\n"
     ]
    },
    {
     "name": "stderr",
     "output_type": "stream",
     "text": [
      " 14%|█▍        | 80/560 [00:02<00:14, 33.85it/s]"
     ]
    },
    {
     "name": "stdout",
     "output_type": "stream",
     "text": [
      "multilayer_perceptron ran in: 0.0 sec\n",
      "multilayer_perceptron ran in: 0.0 sec\n",
      "multilayer_perceptron ran in: 0.015630722045898438 sec\n",
      "multilayer_perceptron ran in: 0.0 sec\n",
      "multilayer_perceptron ran in: 0.0 sec\n",
      "multilayer_perceptron ran in: 0.0 sec\n",
      "multilayer_perceptron ran in: 0.0 sec\n"
     ]
    },
    {
     "name": "stderr",
     "output_type": "stream",
     "text": [
      "\r",
      " 15%|█▌        | 84/560 [00:02<00:13, 34.05it/s]"
     ]
    },
    {
     "name": "stdout",
     "output_type": "stream",
     "text": [
      "multilayer_perceptron ran in: 0.0 sec\n",
      "multilayer_perceptron ran in: 0.0 sec\n",
      "multilayer_perceptron ran in: 0.0 sec\n",
      "multilayer_perceptron ran in: 0.0 sec\n",
      "multilayer_perceptron ran in: 0.0 sec\n",
      "multilayer_perceptron ran in: 0.0 sec\n"
     ]
    },
    {
     "name": "stderr",
     "output_type": "stream",
     "text": [
      "\r",
      " 16%|█▌        | 88/560 [00:02<00:14, 32.87it/s]"
     ]
    },
    {
     "name": "stdout",
     "output_type": "stream",
     "text": [
      "multilayer_perceptron ran in: 0.0 sec\n"
     ]
    },
    {
     "name": "stderr",
     "output_type": "stream",
     "text": [
      "\r",
      " 16%|█▋        | 92/560 [00:02<00:14, 33.34it/s]"
     ]
    },
    {
     "name": "stdout",
     "output_type": "stream",
     "text": [
      "multilayer_perceptron ran in: 0.0 sec\n",
      "multilayer_perceptron ran in: 0.015636444091796875 sec\n",
      "multilayer_perceptron ran in: 0.0 sec\n",
      "multilayer_perceptron ran in: 0.0 sec\n",
      "multilayer_perceptron ran in: 0.0 sec\n",
      "multilayer_perceptron ran in: 0.015624046325683594 sec\n",
      "multilayer_perceptron ran in: 0.0 sec\n"
     ]
    },
    {
     "name": "stderr",
     "output_type": "stream",
     "text": [
      " 18%|█▊        | 100/560 [00:02<00:13, 33.38it/s]"
     ]
    },
    {
     "name": "stdout",
     "output_type": "stream",
     "text": [
      "multilayer_perceptron ran in: 0.0 sec\n",
      "multilayer_perceptron ran in: 0.0 sec\n",
      "multilayer_perceptron ran in: 0.0 sec\n",
      "multilayer_perceptron ran in: 0.0 sec\n",
      "multilayer_perceptron ran in: 0.0 sec\n",
      "multilayer_perceptron ran in: 0.0 sec\n",
      "multilayer_perceptron ran in: 0.0 sec\n"
     ]
    },
    {
     "name": "stderr",
     "output_type": "stream",
     "text": [
      " 19%|█▉        | 108/560 [00:03<00:13, 33.94it/s]"
     ]
    },
    {
     "name": "stdout",
     "output_type": "stream",
     "text": [
      "multilayer_perceptron ran in: 0.0 sec\n",
      "multilayer_perceptron ran in: 0.0 sec\n",
      "multilayer_perceptron ran in: 0.0 sec\n",
      "multilayer_perceptron ran in: 0.0 sec\n",
      "multilayer_perceptron ran in: 0.0 sec\n",
      "multilayer_perceptron ran in: 0.0 sec\n",
      "multilayer_perceptron ran in: 0.0 sec\n"
     ]
    },
    {
     "name": "stderr",
     "output_type": "stream",
     "text": [
      " 21%|██        | 116/560 [00:03<00:12, 34.23it/s]"
     ]
    },
    {
     "name": "stdout",
     "output_type": "stream",
     "text": [
      "multilayer_perceptron ran in: 0.0 sec\n",
      "multilayer_perceptron ran in: 0.0 sec\n",
      "multilayer_perceptron ran in: 0.0 sec\n",
      "multilayer_perceptron ran in: 0.0 sec\n",
      "multilayer_perceptron ran in: 0.0 sec\n",
      "multilayer_perceptron ran in: 0.0 sec\n"
     ]
    },
    {
     "name": "stderr",
     "output_type": "stream",
     "text": [
      "\r",
      " 21%|██▏       | 120/560 [00:03<00:12, 34.31it/s]"
     ]
    },
    {
     "name": "stdout",
     "output_type": "stream",
     "text": [
      "multilayer_perceptron ran in: 0.0 sec\n",
      "multilayer_perceptron ran in: 0.0 sec\n",
      "multilayer_perceptron ran in: 0.0 sec\n",
      "multilayer_perceptron ran in: 0.0 sec\n",
      "multilayer_perceptron ran in: 0.0 sec\n",
      "multilayer_perceptron ran in: 0.0 sec\n",
      "multilayer_perceptron ran in: 0.0 sec\n"
     ]
    },
    {
     "name": "stderr",
     "output_type": "stream",
     "text": [
      " 23%|██▎       | 128/560 [00:03<00:12, 34.01it/s]"
     ]
    },
    {
     "name": "stdout",
     "output_type": "stream",
     "text": [
      "multilayer_perceptron ran in: 0.0 sec\n",
      "multilayer_perceptron ran in: 0.0 sec\n",
      "multilayer_perceptron ran in: 0.0 sec\n",
      "multilayer_perceptron ran in: 0.0156252384185791 sec\n",
      "multilayer_perceptron ran in: 0.0 sec\n",
      "multilayer_perceptron ran in: 0.0 sec\n",
      "multilayer_perceptron ran in: 0.0 sec\n"
     ]
    },
    {
     "name": "stderr",
     "output_type": "stream",
     "text": [
      " 24%|██▍       | 136/560 [00:04<00:12, 34.26it/s]"
     ]
    },
    {
     "name": "stdout",
     "output_type": "stream",
     "text": [
      "multilayer_perceptron ran in: 0.0 sec\n",
      "multilayer_perceptron ran in: 0.0 sec\n",
      "multilayer_perceptron ran in: 0.0 sec\n",
      "multilayer_perceptron ran in: 0.0 sec\n",
      "multilayer_perceptron ran in: 0.0 sec\n",
      "multilayer_perceptron ran in: 0.0 sec\n",
      "multilayer_perceptron ran in: 0.0 sec\n"
     ]
    },
    {
     "name": "stderr",
     "output_type": "stream",
     "text": [
      "\r",
      " 25%|██▌       | 140/560 [00:04<00:12, 33.01it/s]"
     ]
    },
    {
     "name": "stdout",
     "output_type": "stream",
     "text": [
      "multilayer_perceptron ran in: 0.0 sec\n",
      "multilayer_perceptron ran in: 0.0 sec\n",
      "multilayer_perceptron ran in: 0.0 sec\n",
      "multilayer_perceptron ran in: 0.0 sec\n",
      "multilayer_perceptron ran in: 0.0 sec\n",
      "multilayer_perceptron ran in: 0.0 sec\n",
      "multilayer_perceptron ran in: 0.0 sec\n"
     ]
    },
    {
     "name": "stderr",
     "output_type": "stream",
     "text": [
      " 26%|██▋       | 148/560 [00:04<00:11, 34.55it/s]"
     ]
    },
    {
     "name": "stdout",
     "output_type": "stream",
     "text": [
      "multilayer_perceptron ran in: 0.0 sec\n",
      "multilayer_perceptron ran in: 0.0 sec\n",
      "multilayer_perceptron ran in: 0.0 sec\n",
      "multilayer_perceptron ran in: 0.0 sec\n",
      "multilayer_perceptron ran in: 0.0 sec\n",
      "multilayer_perceptron ran in: 0.0 sec\n",
      "multilayer_perceptron ran in: 0.0 sec\n"
     ]
    },
    {
     "name": "stderr",
     "output_type": "stream",
     "text": [
      " 28%|██▊       | 156/560 [00:04<00:11, 34.53it/s]"
     ]
    },
    {
     "name": "stdout",
     "output_type": "stream",
     "text": [
      "multilayer_perceptron ran in: 0.0 sec\n",
      "multilayer_perceptron ran in: 0.0 sec\n",
      "multilayer_perceptron ran in: 0.0 sec\n",
      "multilayer_perceptron ran in: 0.0 sec\n",
      "multilayer_perceptron ran in: 0.0 sec\n",
      "multilayer_perceptron ran in: 0.0 sec\n",
      "multilayer_perceptron ran in: 0.0 sec\n"
     ]
    },
    {
     "name": "stderr",
     "output_type": "stream",
     "text": [
      " 29%|██▉       | 164/560 [00:04<00:11, 33.57it/s]"
     ]
    },
    {
     "name": "stdout",
     "output_type": "stream",
     "text": [
      "multilayer_perceptron ran in: 0.0 sec\n",
      "multilayer_perceptron ran in: 0.0 sec\n",
      "multilayer_perceptron ran in: 0.0 sec\n",
      "multilayer_perceptron ran in: 0.0 sec\n",
      "multilayer_perceptron ran in: 0.0 sec\n",
      "multilayer_perceptron ran in: 0.0 sec\n",
      "multilayer_perceptron ran in: 0.0 sec\n"
     ]
    },
    {
     "name": "stderr",
     "output_type": "stream",
     "text": [
      " 31%|███       | 172/560 [00:05<00:11, 34.59it/s]"
     ]
    },
    {
     "name": "stdout",
     "output_type": "stream",
     "text": [
      "multilayer_perceptron ran in: 0.0 sec\n",
      "multilayer_perceptron ran in: 0.015621185302734375 sec\n",
      "multilayer_perceptron ran in: 0.0 sec\n",
      "multilayer_perceptron ran in: 0.0 sec\n",
      "multilayer_perceptron ran in: 0.0 sec\n",
      "multilayer_perceptron ran in: 0.015624046325683594 sec\n",
      "multilayer_perceptron ran in: 0.0 sec\n"
     ]
    },
    {
     "name": "stderr",
     "output_type": "stream",
     "text": [
      "\r",
      " 31%|███▏      | 176/560 [00:05<00:11, 34.57it/s]"
     ]
    },
    {
     "name": "stdout",
     "output_type": "stream",
     "text": [
      "multilayer_perceptron ran in: 0.0 sec\n",
      "multilayer_perceptron ran in: 0.0 sec\n",
      "multilayer_perceptron ran in: 0.0 sec\n",
      "multilayer_perceptron ran in: 0.0 sec\n",
      "multilayer_perceptron ran in: 0.0 sec\n",
      "multilayer_perceptron ran in: 0.0 sec\n",
      "multilayer_perceptron ran in: 0.0 sec\n"
     ]
    },
    {
     "name": "stderr",
     "output_type": "stream",
     "text": [
      " 33%|███▎      | 184/560 [00:05<00:11, 33.35it/s]"
     ]
    },
    {
     "name": "stdout",
     "output_type": "stream",
     "text": [
      "multilayer_perceptron ran in: 0.0 sec\n",
      "multilayer_perceptron ran in: 0.0 sec\n",
      "multilayer_perceptron ran in: 0.0 sec\n",
      "multilayer_perceptron ran in: 0.0 sec\n",
      "multilayer_perceptron ran in: 0.0 sec\n",
      "multilayer_perceptron ran in: 0.0 sec\n",
      "multilayer_perceptron ran in: 0.0 sec\n",
      "multilayer_perceptron ran in: 0.0 sec\n"
     ]
    },
    {
     "name": "stderr",
     "output_type": "stream",
     "text": [
      " 34%|███▍      | 192/560 [00:05<00:10, 33.93it/s]"
     ]
    },
    {
     "name": "stdout",
     "output_type": "stream",
     "text": [
      "multilayer_perceptron ran in: 0.0 sec\n",
      "multilayer_perceptron ran in: 0.0 sec\n",
      "multilayer_perceptron ran in: 0.0 sec\n",
      "multilayer_perceptron ran in: 0.0 sec\n",
      "multilayer_perceptron ran in: 0.0 sec\n",
      "multilayer_perceptron ran in: 0.0 sec\n",
      "multilayer_perceptron ran in: 0.0 sec\n"
     ]
    },
    {
     "name": "stderr",
     "output_type": "stream",
     "text": [
      " 36%|███▌      | 200/560 [00:05<00:10, 33.43it/s]"
     ]
    },
    {
     "name": "stdout",
     "output_type": "stream",
     "text": [
      "multilayer_perceptron ran in: 0.0 sec\n",
      "multilayer_perceptron ran in: 0.0 sec\n",
      "multilayer_perceptron ran in: 0.0 sec\n",
      "multilayer_perceptron ran in: 0.0 sec\n",
      "multilayer_perceptron ran in: 0.0 sec\n",
      "multilayer_perceptron ran in: 0.0 sec\n",
      "multilayer_perceptron ran in: 0.0 sec\n"
     ]
    },
    {
     "name": "stderr",
     "output_type": "stream",
     "text": [
      "\r",
      " 36%|███▋      | 204/560 [00:06<00:10, 33.74it/s]"
     ]
    },
    {
     "name": "stdout",
     "output_type": "stream",
     "text": [
      "multilayer_perceptron ran in: 0.0 sec\n",
      "multilayer_perceptron ran in: 0.006527423858642578 sec\n",
      "multilayer_perceptron ran in: 0.0 sec\n",
      "multilayer_perceptron ran in: 0.0 sec\n",
      "multilayer_perceptron ran in: 0.0 sec\n",
      "multilayer_perceptron ran in: 0.0 sec\n",
      "multilayer_perceptron ran in: 0.0 sec\n"
     ]
    },
    {
     "name": "stderr",
     "output_type": "stream",
     "text": [
      " 38%|███▊      | 212/560 [00:06<00:09, 35.01it/s]"
     ]
    },
    {
     "name": "stdout",
     "output_type": "stream",
     "text": [
      "multilayer_perceptron ran in: 0.0 sec\n",
      "multilayer_perceptron ran in: 0.0 sec\n",
      "multilayer_perceptron ran in: 0.015627145767211914 sec\n",
      "multilayer_perceptron ran in: 0.0 sec\n",
      "multilayer_perceptron ran in: 0.0 sec\n",
      "multilayer_perceptron ran in: 0.0 sec\n",
      "multilayer_perceptron ran in: 0.0 sec\n"
     ]
    },
    {
     "name": "stderr",
     "output_type": "stream",
     "text": [
      " 39%|███▉      | 220/560 [00:06<00:10, 33.59it/s]"
     ]
    },
    {
     "name": "stdout",
     "output_type": "stream",
     "text": [
      "multilayer_perceptron ran in: 0.015627384185791016 sec\n",
      "multilayer_perceptron ran in: 0.0 sec\n",
      "multilayer_perceptron ran in: 0.0 sec\n",
      "multilayer_perceptron ran in: 0.0 sec\n",
      "multilayer_perceptron ran in: 0.0 sec\n",
      "multilayer_perceptron ran in: 0.0 sec\n",
      "multilayer_perceptron ran in: 0.0 sec\n"
     ]
    },
    {
     "name": "stderr",
     "output_type": "stream",
     "text": [
      " 41%|████      | 228/560 [00:06<00:09, 34.05it/s]"
     ]
    },
    {
     "name": "stdout",
     "output_type": "stream",
     "text": [
      "multilayer_perceptron ran in: 0.0 sec\n",
      "multilayer_perceptron ran in: 0.0 sec\n",
      "multilayer_perceptron ran in: 0.0 sec\n",
      "multilayer_perceptron ran in: 0.015625 sec\n",
      "multilayer_perceptron ran in: 0.0 sec\n",
      "multilayer_perceptron ran in: 0.0 sec\n",
      "multilayer_perceptron ran in: 0.0 sec\n"
     ]
    },
    {
     "name": "stderr",
     "output_type": "stream",
     "text": [
      " 42%|████▏     | 236/560 [00:06<00:09, 33.84it/s]"
     ]
    },
    {
     "name": "stdout",
     "output_type": "stream",
     "text": [
      "multilayer_perceptron ran in: 0.015625476837158203 sec\n",
      "multilayer_perceptron ran in: 0.0 sec\n",
      "multilayer_perceptron ran in: 0.0 sec\n",
      "multilayer_perceptron ran in: 0.0 sec\n",
      "multilayer_perceptron ran in: 0.0 sec\n",
      "multilayer_perceptron ran in: 0.0 sec\n",
      "multilayer_perceptron ran in: 0.015639066696166992 sec\n"
     ]
    },
    {
     "name": "stderr",
     "output_type": "stream",
     "text": [
      "\r",
      " 43%|████▎     | 240/560 [00:07<00:09, 33.91it/s]"
     ]
    },
    {
     "name": "stdout",
     "output_type": "stream",
     "text": [
      "multilayer_perceptron ran in: 0.0 sec\n",
      "multilayer_perceptron ran in: 0.0 sec\n",
      "multilayer_perceptron ran in: 0.0 sec\n",
      "multilayer_perceptron ran in: 0.0 sec\n",
      "multilayer_perceptron ran in: 0.0 sec\n",
      "multilayer_perceptron ran in: 0.0 sec\n",
      "multilayer_perceptron ran in: 0.0 sec\n"
     ]
    },
    {
     "name": "stderr",
     "output_type": "stream",
     "text": [
      " 44%|████▍     | 248/560 [00:07<00:09, 34.21it/s]"
     ]
    },
    {
     "name": "stdout",
     "output_type": "stream",
     "text": [
      "multilayer_perceptron ran in: 0.0 sec\n",
      "multilayer_perceptron ran in: 0.015626907348632812 sec\n",
      "multilayer_perceptron ran in: 0.0 sec\n",
      "multilayer_perceptron ran in: 0.0 sec\n",
      "multilayer_perceptron ran in: 0.015649080276489258 sec\n",
      "multilayer_perceptron ran in: 0.0 sec\n",
      "multilayer_perceptron ran in: 0.0 sec\n"
     ]
    },
    {
     "name": "stderr",
     "output_type": "stream",
     "text": [
      " 46%|████▌     | 256/560 [00:07<00:08, 34.36it/s]"
     ]
    },
    {
     "name": "stdout",
     "output_type": "stream",
     "text": [
      "multilayer_perceptron ran in: 0.0 sec\n",
      "multilayer_perceptron ran in: 0.0 sec\n",
      "multilayer_perceptron ran in: 0.0 sec\n",
      "multilayer_perceptron ran in: 0.0 sec\n",
      "multilayer_perceptron ran in: 0.0 sec\n",
      "multilayer_perceptron ran in: 0.0 sec\n",
      "multilayer_perceptron ran in: 0.0 sec\n"
     ]
    },
    {
     "name": "stderr",
     "output_type": "stream",
     "text": [
      "\r",
      " 46%|████▋     | 260/560 [00:07<00:08, 34.40it/s]"
     ]
    },
    {
     "name": "stdout",
     "output_type": "stream",
     "text": [
      "multilayer_perceptron ran in: 0.0 sec\n",
      "multilayer_perceptron ran in: 0.0 sec\n",
      "multilayer_perceptron ran in: 0.0 sec\n",
      "multilayer_perceptron ran in: 0.006525754928588867 sec\n",
      "multilayer_perceptron ran in: 0.0 sec\n",
      "multilayer_perceptron ran in: 0.0 sec\n"
     ]
    },
    {
     "name": "stderr",
     "output_type": "stream",
     "text": [
      " 48%|████▊     | 268/560 [00:07<00:08, 34.05it/s]"
     ]
    },
    {
     "name": "stdout",
     "output_type": "stream",
     "text": [
      "multilayer_perceptron ran in: 0.0 sec\n",
      "multilayer_perceptron ran in: 0.0 sec\n",
      "multilayer_perceptron ran in: 0.015639066696166992 sec\n",
      "multilayer_perceptron ran in: 0.0 sec\n",
      "multilayer_perceptron ran in: 0.0 sec\n",
      "multilayer_perceptron ran in: 0.0 sec\n",
      "multilayer_perceptron ran in: 0.0 sec\n",
      "multilayer_perceptron ran in: 0.0 sec\n"
     ]
    },
    {
     "name": "stderr",
     "output_type": "stream",
     "text": [
      " 49%|████▉     | 276/560 [00:08<00:08, 34.28it/s]"
     ]
    },
    {
     "name": "stdout",
     "output_type": "stream",
     "text": [
      "multilayer_perceptron ran in: 0.0 sec\n",
      "multilayer_perceptron ran in: 0.0 sec\n",
      "multilayer_perceptron ran in: 0.015628337860107422 sec\n",
      "multilayer_perceptron ran in: 0.0 sec\n",
      "multilayer_perceptron ran in: 0.0 sec\n",
      "multilayer_perceptron ran in: 0.0 sec\n",
      "multilayer_perceptron ran in: 0.0 sec\n",
      "multilayer_perceptron ran in: 0.0 sec\n"
     ]
    },
    {
     "name": "stderr",
     "output_type": "stream",
     "text": [
      " 51%|█████     | 284/560 [00:08<00:08, 33.45it/s]"
     ]
    },
    {
     "name": "stdout",
     "output_type": "stream",
     "text": [
      "multilayer_perceptron ran in: 0.0 sec\n",
      "multilayer_perceptron ran in: 0.0 sec\n",
      "multilayer_perceptron ran in: 0.0 sec\n",
      "multilayer_perceptron ran in: 0.0 sec\n",
      "multilayer_perceptron ran in: 0.0156400203704834 sec\n",
      "multilayer_perceptron ran in: 0.0 sec\n",
      "multilayer_perceptron ran in: 0.0 sec\n"
     ]
    },
    {
     "name": "stderr",
     "output_type": "stream",
     "text": [
      " 52%|█████▏    | 292/560 [00:08<00:07, 33.59it/s]"
     ]
    },
    {
     "name": "stdout",
     "output_type": "stream",
     "text": [
      "multilayer_perceptron ran in: 0.0 sec\n",
      "multilayer_perceptron ran in: 0.0 sec\n",
      "multilayer_perceptron ran in: 0.0 sec\n",
      "multilayer_perceptron ran in: 0.0 sec\n",
      "multilayer_perceptron ran in: 0.0 sec\n",
      "multilayer_perceptron ran in: 0.0 sec\n",
      "multilayer_perceptron ran in: 0.01562666893005371 sec\n",
      "multilayer_perceptron ran in: 0.0 sec\n"
     ]
    },
    {
     "name": "stderr",
     "output_type": "stream",
     "text": [
      " 54%|█████▎    | 300/560 [00:08<00:07, 34.05it/s]"
     ]
    },
    {
     "name": "stdout",
     "output_type": "stream",
     "text": [
      "multilayer_perceptron ran in: 0.0 sec\n",
      "multilayer_perceptron ran in: 0.0 sec\n",
      "multilayer_perceptron ran in: 0.0 sec\n",
      "multilayer_perceptron ran in: 0.0 sec\n",
      "multilayer_perceptron ran in: 0.0 sec\n",
      "multilayer_perceptron ran in: 0.0 sec\n",
      "multilayer_perceptron ran in: 0.0 sec\n",
      "multilayer_perceptron ran in: 0.0 sec\n"
     ]
    },
    {
     "name": "stderr",
     "output_type": "stream",
     "text": [
      " 55%|█████▌    | 308/560 [00:09<00:07, 33.84it/s]"
     ]
    },
    {
     "name": "stdout",
     "output_type": "stream",
     "text": [
      "multilayer_perceptron ran in: 0.0 sec\n",
      "multilayer_perceptron ran in: 0.01564168930053711 sec\n",
      "multilayer_perceptron ran in: 0.0 sec\n",
      "multilayer_perceptron ran in: 0.0 sec\n",
      "multilayer_perceptron ran in: 0.0 sec\n",
      "multilayer_perceptron ran in: 0.0 sec\n",
      "multilayer_perceptron ran in: 0.0 sec\n",
      "multilayer_perceptron ran in: 0.0 sec\n"
     ]
    },
    {
     "name": "stderr",
     "output_type": "stream",
     "text": [
      " 56%|█████▋    | 316/560 [00:09<00:07, 34.18it/s]"
     ]
    },
    {
     "name": "stdout",
     "output_type": "stream",
     "text": [
      "multilayer_perceptron ran in: 0.0 sec\n",
      "multilayer_perceptron ran in: 0.006506681442260742 sec\n",
      "multilayer_perceptron ran in: 0.015639543533325195 sec\n",
      "multilayer_perceptron ran in: 0.015639305114746094 sec\n",
      "multilayer_perceptron ran in: 0.0 sec\n",
      "multilayer_perceptron ran in: 0.0 sec\n"
     ]
    },
    {
     "name": "stderr",
     "output_type": "stream",
     "text": [
      "\r",
      " 57%|█████▋    | 320/560 [00:09<00:07, 34.28it/s]"
     ]
    },
    {
     "name": "stdout",
     "output_type": "stream",
     "text": [
      "multilayer_perceptron ran in: 0.0 sec\n",
      "multilayer_perceptron ran in: 0.0 sec\n",
      "multilayer_perceptron ran in: 0.0 sec\n",
      "multilayer_perceptron ran in: 0.0 sec\n",
      "multilayer_perceptron ran in: 0.0 sec\n",
      "multilayer_perceptron ran in: 0.0 sec\n"
     ]
    },
    {
     "name": "stderr",
     "output_type": "stream",
     "text": [
      " 59%|█████▊    | 328/560 [00:09<00:07, 32.92it/s]"
     ]
    },
    {
     "name": "stdout",
     "output_type": "stream",
     "text": [
      "multilayer_perceptron ran in: 0.015624284744262695 sec\n",
      "multilayer_perceptron ran in: 0.015624523162841797 sec\n",
      "multilayer_perceptron ran in: 0.0 sec\n",
      "multilayer_perceptron ran in: 0.0 sec\n",
      "multilayer_perceptron ran in: 0.0 sec\n",
      "multilayer_perceptron ran in: 0.0 sec\n",
      "multilayer_perceptron ran in: 0.0 sec\n"
     ]
    },
    {
     "name": "stderr",
     "output_type": "stream",
     "text": [
      "\r",
      " 59%|█████▉    | 332/560 [00:09<00:06, 33.38it/s]"
     ]
    },
    {
     "name": "stdout",
     "output_type": "stream",
     "text": [
      "multilayer_perceptron ran in: 0.0 sec\n",
      "multilayer_perceptron ran in: 0.0 sec\n",
      "multilayer_perceptron ran in: 0.0 sec\n",
      "multilayer_perceptron ran in: 0.0 sec\n",
      "multilayer_perceptron ran in: 0.0 sec\n",
      "multilayer_perceptron ran in: 0.015623807907104492 sec\n"
     ]
    },
    {
     "name": "stderr",
     "output_type": "stream",
     "text": [
      " 61%|██████    | 340/560 [00:10<00:06, 32.65it/s]"
     ]
    },
    {
     "name": "stdout",
     "output_type": "stream",
     "text": [
      "multilayer_perceptron ran in: 0.0 sec\n",
      "multilayer_perceptron ran in: 0.0 sec\n",
      "multilayer_perceptron ran in: 0.0 sec\n",
      "multilayer_perceptron ran in: 0.0 sec\n",
      "multilayer_perceptron ran in: 0.0 sec\n",
      "multilayer_perceptron ran in: 0.0 sec\n",
      "multilayer_perceptron ran in: 0.0 sec\n"
     ]
    },
    {
     "name": "stderr",
     "output_type": "stream",
     "text": [
      " 62%|██████▏   | 348/560 [00:10<00:06, 33.03it/s]"
     ]
    },
    {
     "name": "stdout",
     "output_type": "stream",
     "text": [
      "multilayer_perceptron ran in: 0.01562786102294922 sec\n",
      "multilayer_perceptron ran in: 0.015626192092895508 sec\n",
      "multilayer_perceptron ran in: 0.015624046325683594 sec\n",
      "multilayer_perceptron ran in: 0.0 sec\n",
      "multilayer_perceptron ran in: 0.0 sec\n",
      "multilayer_perceptron ran in: 0.0 sec\n",
      "multilayer_perceptron ran in: 0.015636920928955078 sec\n",
      "multilayer_perceptron ran in: 0.0 sec\n"
     ]
    },
    {
     "name": "stderr",
     "output_type": "stream",
     "text": [
      " 64%|██████▎   | 356/560 [00:10<00:06, 32.48it/s]"
     ]
    },
    {
     "name": "stdout",
     "output_type": "stream",
     "text": [
      "multilayer_perceptron ran in: 0.0 sec\n",
      "multilayer_perceptron ran in: 0.0 sec\n",
      "multilayer_perceptron ran in: 0.0 sec\n",
      "multilayer_perceptron ran in: 0.0 sec\n",
      "multilayer_perceptron ran in: 0.0 sec\n",
      "multilayer_perceptron ran in: 0.0 sec\n"
     ]
    },
    {
     "name": "stderr",
     "output_type": "stream",
     "text": [
      "\r",
      " 64%|██████▍   | 360/560 [00:10<00:06, 33.07it/s]"
     ]
    },
    {
     "name": "stdout",
     "output_type": "stream",
     "text": [
      "multilayer_perceptron ran in: 0.0 sec\n",
      "multilayer_perceptron ran in: 0.0 sec\n",
      "multilayer_perceptron ran in: 0.0 sec\n",
      "multilayer_perceptron ran in: 0.0 sec\n",
      "multilayer_perceptron ran in: 0.0 sec\n",
      "multilayer_perceptron ran in: 0.0 sec\n",
      "multilayer_perceptron ran in: 0.0 sec\n"
     ]
    },
    {
     "name": "stderr",
     "output_type": "stream",
     "text": [
      " 66%|██████▌   | 368/560 [00:10<00:05, 32.36it/s]"
     ]
    },
    {
     "name": "stdout",
     "output_type": "stream",
     "text": [
      "multilayer_perceptron ran in: 0.015627384185791016 sec\n",
      "multilayer_perceptron ran in: 0.0 sec\n",
      "multilayer_perceptron ran in: 0.0 sec\n",
      "multilayer_perceptron ran in: 0.0 sec\n",
      "multilayer_perceptron ran in: 0.0 sec\n",
      "multilayer_perceptron ran in: 0.0029993057250976562 sec\n",
      "multilayer_perceptron ran in: 0.0 sec\n"
     ]
    },
    {
     "name": "stderr",
     "output_type": "stream",
     "text": [
      " 67%|██████▋   | 376/560 [00:11<00:05, 32.16it/s]"
     ]
    },
    {
     "name": "stdout",
     "output_type": "stream",
     "text": [
      "multilayer_perceptron ran in: 0.0 sec\n",
      "multilayer_perceptron ran in: 0.0 sec\n",
      "multilayer_perceptron ran in: 0.0 sec\n",
      "multilayer_perceptron ran in: 0.0 sec\n",
      "multilayer_perceptron ran in: 0.0 sec\n",
      "multilayer_perceptron ran in: 0.0 sec\n"
     ]
    },
    {
     "name": "stderr",
     "output_type": "stream",
     "text": [
      "\r",
      " 68%|██████▊   | 380/560 [00:11<00:05, 32.83it/s]"
     ]
    },
    {
     "name": "stdout",
     "output_type": "stream",
     "text": [
      "multilayer_perceptron ran in: 0.0 sec\n",
      "multilayer_perceptron ran in: 0.0 sec\n",
      "multilayer_perceptron ran in: 0.0 sec\n",
      "multilayer_perceptron ran in: 0.0 sec\n",
      "multilayer_perceptron ran in: 0.0 sec\n",
      "multilayer_perceptron ran in: 0.0 sec\n",
      "multilayer_perceptron ran in: 0.0 sec\n"
     ]
    },
    {
     "name": "stderr",
     "output_type": "stream",
     "text": [
      " 69%|██████▉   | 388/560 [00:11<00:05, 32.03it/s]"
     ]
    },
    {
     "name": "stdout",
     "output_type": "stream",
     "text": [
      "multilayer_perceptron ran in: 0.0 sec\n",
      "multilayer_perceptron ran in: 0.0 sec\n",
      "multilayer_perceptron ran in: 0.0 sec\n",
      "multilayer_perceptron ran in: 0.0 sec\n",
      "multilayer_perceptron ran in: 0.015640735626220703 sec\n",
      "multilayer_perceptron ran in: 0.015623807907104492 sec\n",
      "multilayer_perceptron ran in: 0.0 sec\n"
     ]
    },
    {
     "name": "stderr",
     "output_type": "stream",
     "text": [
      " 71%|███████   | 396/560 [00:11<00:04, 33.25it/s]"
     ]
    },
    {
     "name": "stdout",
     "output_type": "stream",
     "text": [
      "multilayer_perceptron ran in: 0.0 sec\n",
      "multilayer_perceptron ran in: 0.0 sec\n",
      "multilayer_perceptron ran in: 0.0 sec\n",
      "multilayer_perceptron ran in: 0.0 sec\n",
      "multilayer_perceptron ran in: 0.0 sec\n",
      "multilayer_perceptron ran in: 0.0 sec\n",
      "multilayer_perceptron ran in: 0.0 sec\n",
      "multilayer_perceptron ran in: 0.0 sec\n"
     ]
    },
    {
     "name": "stderr",
     "output_type": "stream",
     "text": [
      " 72%|███████▏  | 404/560 [00:11<00:04, 33.33it/s]"
     ]
    },
    {
     "name": "stdout",
     "output_type": "stream",
     "text": [
      "multilayer_perceptron ran in: 0.0 sec\n",
      "multilayer_perceptron ran in: 0.0 sec\n",
      "multilayer_perceptron ran in: 0.0 sec\n",
      "multilayer_perceptron ran in: 0.0 sec\n",
      "multilayer_perceptron ran in: 0.0 sec\n",
      "multilayer_perceptron ran in: 0.0 sec\n",
      "multilayer_perceptron ran in: 0.0 sec\n"
     ]
    },
    {
     "name": "stderr",
     "output_type": "stream",
     "text": [
      " 74%|███████▎  | 412/560 [00:12<00:04, 33.92it/s]"
     ]
    },
    {
     "name": "stdout",
     "output_type": "stream",
     "text": [
      "multilayer_perceptron ran in: 0.0 sec\n",
      "multilayer_perceptron ran in: 0.0 sec\n",
      "multilayer_perceptron ran in: 0.0 sec\n",
      "multilayer_perceptron ran in: 0.0 sec\n",
      "multilayer_perceptron ran in: 0.0 sec\n",
      "multilayer_perceptron ran in: 0.0 sec\n",
      "multilayer_perceptron ran in: 0.0 sec\n"
     ]
    },
    {
     "name": "stderr",
     "output_type": "stream",
     "text": [
      "\r",
      " 74%|███████▍  | 416/560 [00:12<00:04, 34.09it/s]"
     ]
    },
    {
     "name": "stdout",
     "output_type": "stream",
     "text": [
      "multilayer_perceptron ran in: 0.0 sec\n",
      "multilayer_perceptron ran in: 0.0 sec\n",
      "multilayer_perceptron ran in: 0.0 sec\n",
      "multilayer_perceptron ran in: 0.01564192771911621 sec\n",
      "multilayer_perceptron ran in: 0.0 sec\n",
      "multilayer_perceptron ran in: 0.0 sec\n",
      "multilayer_perceptron ran in: 0.0 sec\n"
     ]
    },
    {
     "name": "stderr",
     "output_type": "stream",
     "text": [
      " 76%|███████▌  | 424/560 [00:12<00:03, 34.30it/s]"
     ]
    },
    {
     "name": "stdout",
     "output_type": "stream",
     "text": [
      "multilayer_perceptron ran in: 0.0 sec\n",
      "multilayer_perceptron ran in: 0.0 sec\n",
      "multilayer_perceptron ran in: 0.0 sec\n",
      "multilayer_perceptron ran in: 0.0 sec\n",
      "multilayer_perceptron ran in: 0.0 sec\n",
      "multilayer_perceptron ran in: 0.0 sec\n",
      "multilayer_perceptron ran in: 0.0 sec\n"
     ]
    },
    {
     "name": "stderr",
     "output_type": "stream",
     "text": [
      " 77%|███████▋  | 432/560 [00:12<00:03, 34.01it/s]"
     ]
    },
    {
     "name": "stdout",
     "output_type": "stream",
     "text": [
      "multilayer_perceptron ran in: 0.0 sec\n",
      "multilayer_perceptron ran in: 0.0 sec\n",
      "multilayer_perceptron ran in: 0.0 sec\n",
      "multilayer_perceptron ran in: 0.0 sec\n",
      "multilayer_perceptron ran in: 0.0 sec\n",
      "multilayer_perceptron ran in: 0.0 sec\n",
      "multilayer_perceptron ran in: 0.0 sec\n"
     ]
    },
    {
     "name": "stderr",
     "output_type": "stream",
     "text": [
      " 79%|███████▊  | 440/560 [00:13<00:03, 34.41it/s]"
     ]
    },
    {
     "name": "stdout",
     "output_type": "stream",
     "text": [
      "multilayer_perceptron ran in: 0.0156252384185791 sec\n",
      "multilayer_perceptron ran in: 0.0 sec\n",
      "multilayer_perceptron ran in: 0.0 sec\n",
      "multilayer_perceptron ran in: 0.0 sec\n",
      "multilayer_perceptron ran in: 0.0 sec\n",
      "multilayer_perceptron ran in: 0.0 sec\n",
      "multilayer_perceptron ran in: 0.0 sec\n"
     ]
    },
    {
     "name": "stderr",
     "output_type": "stream",
     "text": [
      "\r",
      " 79%|███████▉  | 444/560 [00:13<00:03, 34.44it/s]"
     ]
    },
    {
     "name": "stdout",
     "output_type": "stream",
     "text": [
      "multilayer_perceptron ran in: 0.0 sec\n",
      "multilayer_perceptron ran in: 0.0 sec\n",
      "multilayer_perceptron ran in: 0.0 sec\n",
      "multilayer_perceptron ran in: 0.0 sec\n",
      "multilayer_perceptron ran in: 0.0 sec\n",
      "multilayer_perceptron ran in: 0.0 sec\n",
      "multilayer_perceptron ran in: 0.0 sec\n"
     ]
    },
    {
     "name": "stderr",
     "output_type": "stream",
     "text": [
      " 81%|████████  | 452/560 [00:13<00:03, 33.90it/s]"
     ]
    },
    {
     "name": "stdout",
     "output_type": "stream",
     "text": [
      "multilayer_perceptron ran in: 0.0 sec\n",
      "multilayer_perceptron ran in: 0.0 sec\n",
      "multilayer_perceptron ran in: 0.0 sec\n",
      "multilayer_perceptron ran in: 0.0 sec\n",
      "multilayer_perceptron ran in: 0.0 sec\n",
      "multilayer_perceptron ran in: 0.0 sec\n",
      "multilayer_perceptron ran in: 0.0 sec\n",
      "multilayer_perceptron ran in: 0.0 sec\n"
     ]
    },
    {
     "name": "stderr",
     "output_type": "stream",
     "text": [
      " 82%|████████▏ | 460/560 [00:13<00:02, 34.21it/s]"
     ]
    },
    {
     "name": "stdout",
     "output_type": "stream",
     "text": [
      "multilayer_perceptron ran in: 0.006523609161376953 sec\n",
      "multilayer_perceptron ran in: 0.0 sec\n",
      "multilayer_perceptron ran in: 0.0 sec\n",
      "multilayer_perceptron ran in: 0.0 sec\n",
      "multilayer_perceptron ran in: 0.0 sec\n",
      "multilayer_perceptron ran in: 0.015610933303833008 sec\n",
      "multilayer_perceptron ran in: 0.0156404972076416 sec\n",
      "multilayer_perceptron ran in: 0.0 sec\n"
     ]
    },
    {
     "name": "stderr",
     "output_type": "stream",
     "text": [
      " 84%|████████▎ | 468/560 [00:13<00:02, 34.36it/s]"
     ]
    },
    {
     "name": "stdout",
     "output_type": "stream",
     "text": [
      "multilayer_perceptron ran in: 0.0 sec\n",
      "multilayer_perceptron ran in: 0.0 sec\n",
      "multilayer_perceptron ran in: 0.0156252384185791 sec\n",
      "multilayer_perceptron ran in: 0.0 sec\n",
      "multilayer_perceptron ran in: 0.0 sec\n",
      "multilayer_perceptron ran in: 0.0 sec\n",
      "multilayer_perceptron ran in: 0.0 sec\n",
      "multilayer_perceptron ran in: 0.0 sec\n"
     ]
    },
    {
     "name": "stderr",
     "output_type": "stream",
     "text": [
      " 85%|████████▌ | 476/560 [00:14<00:02, 33.86it/s]"
     ]
    },
    {
     "name": "stdout",
     "output_type": "stream",
     "text": [
      "multilayer_perceptron ran in: 0.0 sec\n",
      "multilayer_perceptron ran in: 0.0 sec\n",
      "multilayer_perceptron ran in: 0.0 sec\n",
      "multilayer_perceptron ran in: 0.0 sec\n",
      "multilayer_perceptron ran in: 0.0 sec\n",
      "multilayer_perceptron ran in: 0.0 sec\n",
      "multilayer_perceptron ran in: 0.0 sec\n"
     ]
    },
    {
     "name": "stderr",
     "output_type": "stream",
     "text": [
      " 86%|████████▋ | 484/560 [00:14<00:02, 28.30it/s]"
     ]
    },
    {
     "name": "stdout",
     "output_type": "stream",
     "text": [
      "multilayer_perceptron ran in: 0.0 sec\n",
      "multilayer_perceptron ran in: 0.0 sec\n",
      "multilayer_perceptron ran in: 0.01563858985900879 sec\n",
      "multilayer_perceptron ran in: 0.0 sec\n",
      "multilayer_perceptron ran in: 0.0 sec\n",
      "multilayer_perceptron ran in: 0.0 sec\n",
      "multilayer_perceptron ran in: 0.0 sec\n"
     ]
    },
    {
     "name": "stderr",
     "output_type": "stream",
     "text": [
      " 88%|████████▊ | 492/560 [00:14<00:02, 31.16it/s]"
     ]
    },
    {
     "name": "stdout",
     "output_type": "stream",
     "text": [
      "multilayer_perceptron ran in: 0.0 sec\n",
      "multilayer_perceptron ran in: 0.0 sec\n",
      "multilayer_perceptron ran in: 0.0 sec\n",
      "multilayer_perceptron ran in: 0.0 sec\n",
      "multilayer_perceptron ran in: 0.0 sec\n",
      "multilayer_perceptron ran in: 0.0 sec\n",
      "multilayer_perceptron ran in: 0.0 sec\n"
     ]
    },
    {
     "name": "stderr",
     "output_type": "stream",
     "text": [
      "\r",
      " 89%|████████▊ | 496/560 [00:14<00:02, 31.59it/s]"
     ]
    },
    {
     "name": "stdout",
     "output_type": "stream",
     "text": [
      "multilayer_perceptron ran in: 0.0065152645111083984 sec\n",
      "multilayer_perceptron ran in: 0.0 sec\n",
      "multilayer_perceptron ran in: 0.0 sec\n",
      "multilayer_perceptron ran in: 0.0 sec\n",
      "multilayer_perceptron ran in: 0.0156402587890625 sec\n",
      "multilayer_perceptron ran in: 0.0 sec\n",
      "multilayer_perceptron ran in: 0.0 sec\n",
      "multilayer_perceptron ran in: 0.006528377532958984 sec\n"
     ]
    },
    {
     "name": "stderr",
     "output_type": "stream",
     "text": [
      " 90%|█████████ | 504/560 [00:15<00:01, 33.03it/s]"
     ]
    },
    {
     "name": "stdout",
     "output_type": "stream",
     "text": [
      "multilayer_perceptron ran in: 0.01563262939453125 sec\n",
      "multilayer_perceptron ran in: 0.0 sec\n",
      "multilayer_perceptron ran in: 0.0 sec\n",
      "multilayer_perceptron ran in: 0.0 sec\n",
      "multilayer_perceptron ran in: 0.015629291534423828 sec\n",
      "multilayer_perceptron ran in: 0.0 sec\n",
      "multilayer_perceptron ran in: 0.0 sec\n"
     ]
    },
    {
     "name": "stderr",
     "output_type": "stream",
     "text": [
      " 91%|█████████▏| 512/560 [00:15<00:01, 33.77it/s]"
     ]
    },
    {
     "name": "stdout",
     "output_type": "stream",
     "text": [
      "multilayer_perceptron ran in: 0.0 sec\n",
      "multilayer_perceptron ran in: 0.0 sec\n",
      "multilayer_perceptron ran in: 0.0 sec\n",
      "multilayer_perceptron ran in: 0.0 sec\n",
      "multilayer_perceptron ran in: 0.0 sec\n",
      "multilayer_perceptron ran in: 0.0 sec\n",
      "multilayer_perceptron ran in: 0.0 sec\n",
      "multilayer_perceptron ran in: 0.0 sec\n"
     ]
    },
    {
     "name": "stderr",
     "output_type": "stream",
     "text": [
      " 93%|█████████▎| 520/560 [00:15<00:01, 33.58it/s]"
     ]
    },
    {
     "name": "stdout",
     "output_type": "stream",
     "text": [
      "multilayer_perceptron ran in: 0.0 sec\n",
      "multilayer_perceptron ran in: 0.0 sec\n",
      "multilayer_perceptron ran in: 0.0 sec\n",
      "multilayer_perceptron ran in: 0.0 sec\n",
      "multilayer_perceptron ran in: 0.0 sec\n",
      "multilayer_perceptron ran in: 0.0 sec\n",
      "multilayer_perceptron ran in: 0.0 sec\n"
     ]
    },
    {
     "name": "stderr",
     "output_type": "stream",
     "text": [
      " 94%|█████████▍| 528/560 [00:15<00:00, 34.05it/s]"
     ]
    },
    {
     "name": "stdout",
     "output_type": "stream",
     "text": [
      "multilayer_perceptron ran in: 0.0 sec\n",
      "multilayer_perceptron ran in: 0.0065228939056396484 sec\n",
      "multilayer_perceptron ran in: 0.0 sec\n",
      "multilayer_perceptron ran in: 0.0 sec\n",
      "multilayer_perceptron ran in: 0.0 sec\n",
      "multilayer_perceptron ran in: 0.0 sec\n",
      "multilayer_perceptron ran in: 0.0 sec\n"
     ]
    },
    {
     "name": "stderr",
     "output_type": "stream",
     "text": [
      " 96%|█████████▌| 536/560 [00:15<00:00, 34.28it/s]"
     ]
    },
    {
     "name": "stdout",
     "output_type": "stream",
     "text": [
      "multilayer_perceptron ran in: 0.015624523162841797 sec\n",
      "multilayer_perceptron ran in: 0.0 sec\n",
      "multilayer_perceptron ran in: 0.0 sec\n",
      "multilayer_perceptron ran in: 0.0 sec\n",
      "multilayer_perceptron ran in: 0.0 sec\n",
      "multilayer_perceptron ran in: 0.0 sec\n",
      "multilayer_perceptron ran in: 0.0 sec\n"
     ]
    },
    {
     "name": "stderr",
     "output_type": "stream",
     "text": [
      "\r",
      " 96%|█████████▋| 540/560 [00:16<00:00, 34.35it/s]"
     ]
    },
    {
     "name": "stdout",
     "output_type": "stream",
     "text": [
      "multilayer_perceptron ran in: 0.0 sec\n",
      "multilayer_perceptron ran in: 0.0 sec\n",
      "multilayer_perceptron ran in: 0.0 sec\n",
      "multilayer_perceptron ran in: 0.0 sec\n",
      "multilayer_perceptron ran in: 0.006510257720947266 sec\n",
      "multilayer_perceptron ran in: 0.0 sec\n",
      "multilayer_perceptron ran in: 0.0 sec\n"
     ]
    },
    {
     "name": "stderr",
     "output_type": "stream",
     "text": [
      " 98%|█████████▊| 548/560 [00:16<00:00, 34.03it/s]"
     ]
    },
    {
     "name": "stdout",
     "output_type": "stream",
     "text": [
      "multilayer_perceptron ran in: 0.0 sec\n",
      "multilayer_perceptron ran in: 0.0 sec\n",
      "multilayer_perceptron ran in: 0.01564311981201172 sec\n",
      "multilayer_perceptron ran in: 0.0 sec\n",
      "multilayer_perceptron ran in: 0.0 sec\n",
      "multilayer_perceptron ran in: 0.0 sec\n",
      "multilayer_perceptron ran in: 0.015637636184692383 sec\n"
     ]
    },
    {
     "name": "stderr",
     "output_type": "stream",
     "text": [
      " 99%|█████████▉| 556/560 [00:16<00:00, 34.27it/s]"
     ]
    },
    {
     "name": "stdout",
     "output_type": "stream",
     "text": [
      "multilayer_perceptron ran in: 0.0 sec\n",
      "multilayer_perceptron ran in: 0.0 sec\n",
      "multilayer_perceptron ran in: 0.0 sec\n",
      "multilayer_perceptron ran in: 0.0 sec\n",
      "multilayer_perceptron ran in: 0.0 sec\n",
      "multilayer_perceptron ran in: 0.0 sec\n",
      "multilayer_perceptron ran in: 0.0 sec\n"
     ]
    },
    {
     "name": "stderr",
     "output_type": "stream",
     "text": [
      "100%|██████████| 560/560 [00:16<00:00, 33.61it/s]\n"
     ]
    },
    {
     "name": "stdout",
     "output_type": "stream",
     "text": [
      "multilayer_perceptron ran in: 0.0 sec\n",
      "multilayer_perceptron ran in: 0.0 sec\n",
      "multilayer_perceptron ran in: 0.0 sec\n",
      "Epoch: 4 Cost=33077.7695\n"
     ]
    },
    {
     "name": "stderr",
     "output_type": "stream",
     "text": [
      "\r",
      "  0%|          | 0/560 [00:00<?, ?it/s]"
     ]
    },
    {
     "name": "stdout",
     "output_type": "stream",
     "text": [
      "multilayer_perceptron ran in: 0.0 sec\n",
      "multilayer_perceptron ran in: 0.0 sec\n",
      "multilayer_perceptron ran in: 0.0156252384185791 sec\n",
      "multilayer_perceptron ran in: 0.0 sec\n"
     ]
    },
    {
     "name": "stderr",
     "output_type": "stream",
     "text": [
      "\r",
      "  1%|          | 4/560 [00:00<00:16, 34.50it/s]"
     ]
    },
    {
     "name": "stdout",
     "output_type": "stream",
     "text": [
      "multilayer_perceptron ran in: 0.0 sec\n",
      "multilayer_perceptron ran in: 0.0 sec\n"
     ]
    },
    {
     "name": "stderr",
     "output_type": "stream",
     "text": [
      "\r",
      "  1%|▏         | 8/560 [00:00<00:15, 36.18it/s]"
     ]
    },
    {
     "name": "stdout",
     "output_type": "stream",
     "text": [
      "multilayer_perceptron ran in: 0.015638113021850586 sec\n",
      "multilayer_perceptron ran in: 0.0 sec\n",
      "multilayer_perceptron ran in: 0.0019834041595458984 sec\n",
      "multilayer_perceptron ran in: 0.0 sec\n",
      "multilayer_perceptron ran in: 0.0 sec\n",
      "multilayer_perceptron ran in: 0.0 sec\n"
     ]
    },
    {
     "name": "stderr",
     "output_type": "stream",
     "text": [
      "\r",
      "  2%|▏         | 12/560 [00:00<00:15, 35.44it/s]"
     ]
    },
    {
     "name": "stdout",
     "output_type": "stream",
     "text": [
      "multilayer_perceptron ran in: 0.0 sec\n",
      "multilayer_perceptron ran in: 0.0 sec\n"
     ]
    },
    {
     "name": "stderr",
     "output_type": "stream",
     "text": [
      "\r",
      "  3%|▎         | 16/560 [00:00<00:15, 35.07it/s]"
     ]
    },
    {
     "name": "stdout",
     "output_type": "stream",
     "text": [
      "multilayer_perceptron ran in: 0.0 sec\n",
      "multilayer_perceptron ran in: 0.0 sec\n",
      "multilayer_perceptron ran in: 0.0 sec\n",
      "multilayer_perceptron ran in: 0.0 sec\n",
      "multilayer_perceptron ran in: 0.0 sec\n"
     ]
    },
    {
     "name": "stderr",
     "output_type": "stream",
     "text": [
      "\r",
      "  4%|▎         | 20/560 [00:00<00:16, 33.23it/s]"
     ]
    },
    {
     "name": "stdout",
     "output_type": "stream",
     "text": [
      "multilayer_perceptron ran in: 0.0 sec\n",
      "multilayer_perceptron ran in: 0.0 sec\n"
     ]
    },
    {
     "name": "stderr",
     "output_type": "stream",
     "text": [
      "\r",
      "  4%|▍         | 24/560 [00:00<00:15, 33.65it/s]"
     ]
    },
    {
     "name": "stdout",
     "output_type": "stream",
     "text": [
      "multilayer_perceptron ran in: 0.0 sec\n",
      "multilayer_perceptron ran in: 0.0 sec\n",
      "multilayer_perceptron ran in: 0.0 sec\n",
      "multilayer_perceptron ran in: 0.0 sec\n",
      "multilayer_perceptron ran in: 0.0 sec\n"
     ]
    },
    {
     "name": "stderr",
     "output_type": "stream",
     "text": [
      "\r",
      "  5%|▌         | 28/560 [00:00<00:15, 33.93it/s]"
     ]
    },
    {
     "name": "stdout",
     "output_type": "stream",
     "text": [
      "multilayer_perceptron ran in: 0.0 sec\n",
      "multilayer_perceptron ran in: 0.0 sec\n"
     ]
    },
    {
     "name": "stderr",
     "output_type": "stream",
     "text": [
      "\r",
      "  6%|▌         | 32/560 [00:00<00:15, 34.98it/s]"
     ]
    },
    {
     "name": "stdout",
     "output_type": "stream",
     "text": [
      "multilayer_perceptron ran in: 0.0 sec\n",
      "multilayer_perceptron ran in: 0.0 sec\n",
      "multilayer_perceptron ran in: 0.0 sec\n",
      "multilayer_perceptron ran in: 0.015619516372680664 sec\n",
      "multilayer_perceptron ran in: 0.0 sec\n",
      "multilayer_perceptron ran in: 0.0 sec\n",
      "multilayer_perceptron ran in: 0.0 sec\n"
     ]
    },
    {
     "name": "stderr",
     "output_type": "stream",
     "text": [
      "\r",
      "  6%|▋         | 36/560 [00:01<00:15, 33.41it/s]"
     ]
    },
    {
     "name": "stdout",
     "output_type": "stream",
     "text": [
      "multilayer_perceptron ran in: 0.01565241813659668 sec\n",
      "multilayer_perceptron ran in: 0.0 sec\n",
      "multilayer_perceptron ran in: 0.0 sec\n",
      "multilayer_perceptron ran in: 0.0 sec\n",
      "multilayer_perceptron ran in: 0.0 sec\n"
     ]
    },
    {
     "name": "stderr",
     "output_type": "stream",
     "text": [
      "\r",
      "  7%|▋         | 40/560 [00:01<00:15, 33.74it/s]"
     ]
    },
    {
     "name": "stdout",
     "output_type": "stream",
     "text": [
      "multilayer_perceptron ran in: 0.0 sec\n",
      "multilayer_perceptron ran in: 0.0 sec\n"
     ]
    },
    {
     "name": "stderr",
     "output_type": "stream",
     "text": [
      "\r",
      "  8%|▊         | 44/560 [00:01<00:15, 33.97it/s]"
     ]
    },
    {
     "name": "stdout",
     "output_type": "stream",
     "text": [
      "multilayer_perceptron ran in: 0.0 sec\n",
      "multilayer_perceptron ran in: 0.0 sec\n",
      "multilayer_perceptron ran in: 0.0 sec\n",
      "multilayer_perceptron ran in: 0.0 sec\n",
      "multilayer_perceptron ran in: 0.0 sec\n",
      "multilayer_perceptron ran in: 0.0 sec\n"
     ]
    },
    {
     "name": "stderr",
     "output_type": "stream",
     "text": [
      "\r",
      "  9%|▊         | 48/560 [00:01<00:15, 34.13it/s]"
     ]
    },
    {
     "name": "stdout",
     "output_type": "stream",
     "text": [
      "multilayer_perceptron ran in: 0.0 sec\n"
     ]
    },
    {
     "name": "stderr",
     "output_type": "stream",
     "text": [
      "\r",
      "  9%|▉         | 52/560 [00:01<00:14, 34.24it/s]"
     ]
    },
    {
     "name": "stdout",
     "output_type": "stream",
     "text": [
      "multilayer_perceptron ran in: 0.0 sec\n",
      "multilayer_perceptron ran in: 0.0 sec\n",
      "multilayer_perceptron ran in: 0.015603780746459961 sec\n",
      "multilayer_perceptron ran in: 0.0 sec\n",
      "multilayer_perceptron ran in: 0.0 sec\n",
      "multilayer_perceptron ran in: 0.0 sec\n",
      "multilayer_perceptron ran in: 0.0 sec\n"
     ]
    },
    {
     "name": "stderr",
     "output_type": "stream",
     "text": [
      " 11%|█         | 60/560 [00:01<00:14, 33.97it/s]"
     ]
    },
    {
     "name": "stdout",
     "output_type": "stream",
     "text": [
      "multilayer_perceptron ran in: 0.0 sec\n",
      "multilayer_perceptron ran in: 0.0 sec\n",
      "multilayer_perceptron ran in: 0.0 sec\n",
      "multilayer_perceptron ran in: 0.0 sec\n",
      "multilayer_perceptron ran in: 0.0 sec\n",
      "multilayer_perceptron ran in: 0.0 sec\n",
      "multilayer_perceptron ran in: 0.0065114498138427734 sec\n"
     ]
    },
    {
     "name": "stderr",
     "output_type": "stream",
     "text": [
      " 12%|█▏        | 68/560 [00:01<00:14, 34.25it/s]"
     ]
    },
    {
     "name": "stdout",
     "output_type": "stream",
     "text": [
      "multilayer_perceptron ran in: 0.01564788818359375 sec\n",
      "multilayer_perceptron ran in: 0.015624523162841797 sec\n",
      "multilayer_perceptron ran in: 0.0 sec\n",
      "multilayer_perceptron ran in: 0.0 sec\n",
      "multilayer_perceptron ran in: 0.0 sec\n",
      "multilayer_perceptron ran in: 0.0 sec\n",
      "multilayer_perceptron ran in: 0.0 sec\n",
      "multilayer_perceptron ran in: 0.0 sec\n"
     ]
    },
    {
     "name": "stderr",
     "output_type": "stream",
     "text": [
      " 14%|█▎        | 76/560 [00:02<00:14, 33.81it/s]"
     ]
    },
    {
     "name": "stdout",
     "output_type": "stream",
     "text": [
      "multilayer_perceptron ran in: 0.0 sec\n",
      "multilayer_perceptron ran in: 0.0 sec\n",
      "multilayer_perceptron ran in: 0.0 sec\n",
      "multilayer_perceptron ran in: 0.0 sec\n",
      "multilayer_perceptron ran in: 0.0 sec\n",
      "multilayer_perceptron ran in: 0.0011363029479980469 sec\n",
      "multilayer_perceptron ran in: 0.0 sec\n",
      "multilayer_perceptron ran in: 0.0 sec\n"
     ]
    },
    {
     "name": "stderr",
     "output_type": "stream",
     "text": [
      " 15%|█▌        | 84/560 [00:02<00:13, 34.17it/s]"
     ]
    },
    {
     "name": "stdout",
     "output_type": "stream",
     "text": [
      "multilayer_perceptron ran in: 0.0 sec\n",
      "multilayer_perceptron ran in: 0.0 sec\n",
      "multilayer_perceptron ran in: 0.0 sec\n",
      "multilayer_perceptron ran in: 0.0 sec\n",
      "multilayer_perceptron ran in: 0.0 sec\n",
      "multilayer_perceptron ran in: 0.0 sec\n",
      "multilayer_perceptron ran in: 0.0 sec\n",
      "multilayer_perceptron ran in: 0.0 sec\n"
     ]
    },
    {
     "name": "stderr",
     "output_type": "stream",
     "text": [
      " 16%|█▋        | 92/560 [00:02<00:13, 34.76it/s]"
     ]
    },
    {
     "name": "stdout",
     "output_type": "stream",
     "text": [
      "multilayer_perceptron ran in: 0.0 sec\n",
      "multilayer_perceptron ran in: 0.0 sec\n",
      "multilayer_perceptron ran in: 0.0 sec\n",
      "multilayer_perceptron ran in: 0.0 sec\n",
      "multilayer_perceptron ran in: 0.0 sec\n",
      "multilayer_perceptron ran in: 0.0 sec\n",
      "multilayer_perceptron ran in: 0.015636444091796875 sec\n",
      "multilayer_perceptron ran in: 0.0 sec\n"
     ]
    },
    {
     "name": "stderr",
     "output_type": "stream",
     "text": [
      " 18%|█▊        | 100/560 [00:02<00:13, 34.47it/s]"
     ]
    },
    {
     "name": "stdout",
     "output_type": "stream",
     "text": [
      "multilayer_perceptron ran in: 0.0 sec\n",
      "multilayer_perceptron ran in: 0.0 sec\n",
      "multilayer_perceptron ran in: 0.0 sec\n",
      "multilayer_perceptron ran in: 0.015624284744262695 sec\n",
      "multilayer_perceptron ran in: 0.0 sec\n",
      "multilayer_perceptron ran in: 0.0 sec\n",
      "multilayer_perceptron ran in: 0.0 sec\n"
     ]
    },
    {
     "name": "stderr",
     "output_type": "stream",
     "text": [
      " 19%|█▉        | 108/560 [00:03<00:13, 34.48it/s]"
     ]
    },
    {
     "name": "stdout",
     "output_type": "stream",
     "text": [
      "multilayer_perceptron ran in: 0.015621423721313477 sec\n",
      "multilayer_perceptron ran in: 0.0 sec\n",
      "multilayer_perceptron ran in: 0.0 sec\n",
      "multilayer_perceptron ran in: 0.0 sec\n",
      "multilayer_perceptron ran in: 0.0 sec\n",
      "multilayer_perceptron ran in: 0.0 sec\n",
      "multilayer_perceptron ran in: 0.0 sec\n"
     ]
    },
    {
     "name": "stderr",
     "output_type": "stream",
     "text": [
      " 21%|██        | 116/560 [00:03<00:13, 34.03it/s]"
     ]
    },
    {
     "name": "stdout",
     "output_type": "stream",
     "text": [
      "multilayer_perceptron ran in: 0.0 sec\n",
      "multilayer_perceptron ran in: 0.0 sec\n",
      "multilayer_perceptron ran in: 0.0 sec\n",
      "multilayer_perceptron ran in: 0.0 sec\n",
      "multilayer_perceptron ran in: 0.0 sec\n",
      "multilayer_perceptron ran in: 0.0 sec\n",
      "multilayer_perceptron ran in: 0.0 sec\n"
     ]
    },
    {
     "name": "stderr",
     "output_type": "stream",
     "text": [
      "\r",
      " 21%|██▏       | 120/560 [00:03<00:12, 34.66it/s]"
     ]
    },
    {
     "name": "stdout",
     "output_type": "stream",
     "text": [
      "multilayer_perceptron ran in: 0.0 sec\n",
      "multilayer_perceptron ran in: 0.015650510787963867 sec\n",
      "multilayer_perceptron ran in: 0.0 sec\n",
      "multilayer_perceptron ran in: 0.0 sec\n",
      "multilayer_perceptron ran in: 0.0 sec\n",
      "multilayer_perceptron ran in: 0.0 sec\n",
      "multilayer_perceptron ran in: 0.0 sec\n"
     ]
    },
    {
     "name": "stderr",
     "output_type": "stream",
     "text": [
      " 23%|██▎       | 128/560 [00:03<00:12, 34.18it/s]"
     ]
    },
    {
     "name": "stdout",
     "output_type": "stream",
     "text": [
      "multilayer_perceptron ran in: 0.0 sec\n",
      "multilayer_perceptron ran in: 0.0 sec\n",
      "multilayer_perceptron ran in: 0.0 sec\n",
      "multilayer_perceptron ran in: 0.0 sec\n",
      "multilayer_perceptron ran in: 0.0 sec\n",
      "multilayer_perceptron ran in: 0.0 sec\n",
      "multilayer_perceptron ran in: 0.0 sec\n"
     ]
    },
    {
     "name": "stderr",
     "output_type": "stream",
     "text": [
      " 24%|██▍       | 136/560 [00:03<00:12, 34.34it/s]"
     ]
    },
    {
     "name": "stdout",
     "output_type": "stream",
     "text": [
      "multilayer_perceptron ran in: 0.015644311904907227 sec\n",
      "multilayer_perceptron ran in: 0.0 sec\n",
      "multilayer_perceptron ran in: 0.0 sec\n",
      "multilayer_perceptron ran in: 0.0 sec\n",
      "multilayer_perceptron ran in: 0.0 sec\n",
      "multilayer_perceptron ran in: 0.0 sec\n",
      "multilayer_perceptron ran in: 0.0 sec\n"
     ]
    },
    {
     "name": "stderr",
     "output_type": "stream",
     "text": [
      " 26%|██▌       | 144/560 [00:04<00:12, 33.09it/s]"
     ]
    },
    {
     "name": "stdout",
     "output_type": "stream",
     "text": [
      "multilayer_perceptron ran in: 0.006515026092529297 sec\n",
      "multilayer_perceptron ran in: 0.0 sec\n",
      "multilayer_perceptron ran in: 0.0 sec\n",
      "multilayer_perceptron ran in: 0.0 sec\n",
      "multilayer_perceptron ran in: 0.0 sec\n",
      "multilayer_perceptron ran in: 0.0 sec\n",
      "multilayer_perceptron ran in: 0.0 sec\n"
     ]
    },
    {
     "name": "stderr",
     "output_type": "stream",
     "text": [
      "\r",
      " 26%|██▋       | 148/560 [00:04<00:12, 34.31it/s]"
     ]
    },
    {
     "name": "stdout",
     "output_type": "stream",
     "text": [
      "multilayer_perceptron ran in: 0.0 sec\n",
      "multilayer_perceptron ran in: 0.0 sec\n",
      "multilayer_perceptron ran in: 0.0 sec\n",
      "multilayer_perceptron ran in: 0.0 sec\n",
      "multilayer_perceptron ran in: 0.0 sec\n",
      "multilayer_perceptron ran in: 0.0 sec\n",
      "multilayer_perceptron ran in: 0.015626907348632812 sec\n"
     ]
    },
    {
     "name": "stderr",
     "output_type": "stream",
     "text": [
      " 28%|██▊       | 156/560 [00:04<00:11, 34.41it/s]"
     ]
    },
    {
     "name": "stdout",
     "output_type": "stream",
     "text": [
      "multilayer_perceptron ran in: 0.0 sec\n",
      "multilayer_perceptron ran in: 0.0 sec\n",
      "multilayer_perceptron ran in: 0.0 sec\n",
      "multilayer_perceptron ran in: 0.015627145767211914 sec\n",
      "multilayer_perceptron ran in: 0.0 sec\n",
      "multilayer_perceptron ran in: 0.0 sec\n",
      "multilayer_perceptron ran in: 0.0 sec\n",
      "multilayer_perceptron ran in: 0.0 sec\n"
     ]
    },
    {
     "name": "stderr",
     "output_type": "stream",
     "text": [
      " 29%|██▉       | 164/560 [00:04<00:11, 34.46it/s]"
     ]
    },
    {
     "name": "stdout",
     "output_type": "stream",
     "text": [
      "multilayer_perceptron ran in: 0.0 sec\n",
      "multilayer_perceptron ran in: 0.0 sec\n",
      "multilayer_perceptron ran in: 0.0 sec\n",
      "multilayer_perceptron ran in: 0.0 sec\n",
      "multilayer_perceptron ran in: 0.0 sec\n",
      "multilayer_perceptron ran in: 0.0 sec\n",
      "multilayer_perceptron ran in: 0.0 sec\n"
     ]
    },
    {
     "name": "stderr",
     "output_type": "stream",
     "text": [
      " 31%|███       | 172/560 [00:05<00:11, 33.91it/s]"
     ]
    },
    {
     "name": "stdout",
     "output_type": "stream",
     "text": [
      "multilayer_perceptron ran in: 0.0 sec\n",
      "multilayer_perceptron ran in: 0.0 sec\n",
      "multilayer_perceptron ran in: 0.006510734558105469 sec\n",
      "multilayer_perceptron ran in: 0.0 sec\n",
      "multilayer_perceptron ran in: 0.0 sec\n",
      "multilayer_perceptron ran in: 0.0 sec\n",
      "multilayer_perceptron ran in: 0.0 sec\n"
     ]
    },
    {
     "name": "stderr",
     "output_type": "stream",
     "text": [
      " 32%|███▏      | 180/560 [00:05<00:11, 34.21it/s]"
     ]
    },
    {
     "name": "stdout",
     "output_type": "stream",
     "text": [
      "multilayer_perceptron ran in: 0.015630245208740234 sec\n",
      "multilayer_perceptron ran in: 0.0 sec\n",
      "multilayer_perceptron ran in: 0.0 sec\n",
      "multilayer_perceptron ran in: 0.0 sec\n",
      "multilayer_perceptron ran in: 0.0 sec\n",
      "multilayer_perceptron ran in: 0.0 sec\n",
      "multilayer_perceptron ran in: 0.0 sec\n"
     ]
    },
    {
     "name": "stderr",
     "output_type": "stream",
     "text": [
      "\r",
      " 33%|███▎      | 184/560 [00:05<00:10, 34.30it/s]"
     ]
    },
    {
     "name": "stdout",
     "output_type": "stream",
     "text": [
      "multilayer_perceptron ran in: 0.0 sec\n",
      "multilayer_perceptron ran in: 0.0 sec\n",
      "multilayer_perceptron ran in: 0.0 sec\n",
      "multilayer_perceptron ran in: 0.0 sec\n",
      "multilayer_perceptron ran in: 0.0 sec\n",
      "multilayer_perceptron ran in: 0.0 sec\n",
      "multilayer_perceptron ran in: 0.0 sec\n"
     ]
    },
    {
     "name": "stderr",
     "output_type": "stream",
     "text": [
      " 34%|███▍      | 192/560 [00:05<00:10, 34.41it/s]"
     ]
    },
    {
     "name": "stdout",
     "output_type": "stream",
     "text": [
      "multilayer_perceptron ran in: 0.0 sec\n",
      "multilayer_perceptron ran in: 0.0 sec\n",
      "multilayer_perceptron ran in: 0.0 sec\n",
      "multilayer_perceptron ran in: 0.0 sec\n",
      "multilayer_perceptron ran in: 0.0 sec\n",
      "multilayer_perceptron ran in: 0.0 sec\n",
      "multilayer_perceptron ran in: 0.0 sec\n",
      "multilayer_perceptron ran in: 0.0 sec\n"
     ]
    },
    {
     "name": "stderr",
     "output_type": "stream",
     "text": [
      " 36%|███▌      | 200/560 [00:05<00:10, 34.06it/s]"
     ]
    },
    {
     "name": "stdout",
     "output_type": "stream",
     "text": [
      "multilayer_perceptron ran in: 0.0 sec\n",
      "multilayer_perceptron ran in: 0.0 sec\n",
      "multilayer_perceptron ran in: 0.0 sec\n",
      "multilayer_perceptron ran in: 0.0 sec\n",
      "multilayer_perceptron ran in: 0.0 sec\n",
      "multilayer_perceptron ran in: 0.0 sec\n",
      "multilayer_perceptron ran in: 0.0 sec\n",
      "multilayer_perceptron ran in: 0.0 sec\n"
     ]
    },
    {
     "name": "stderr",
     "output_type": "stream",
     "text": [
      " 37%|███▋      | 208/560 [00:06<00:10, 34.29it/s]"
     ]
    },
    {
     "name": "stdout",
     "output_type": "stream",
     "text": [
      "multilayer_perceptron ran in: 0.0 sec\n",
      "multilayer_perceptron ran in: 0.015638351440429688 sec\n",
      "multilayer_perceptron ran in: 0.0 sec\n",
      "multilayer_perceptron ran in: 0.0 sec\n",
      "multilayer_perceptron ran in: 0.0 sec\n",
      "multilayer_perceptron ran in: 0.0 sec\n",
      "multilayer_perceptron ran in: 0.015629053115844727 sec\n",
      "multilayer_perceptron ran in: 0.0 sec\n"
     ]
    },
    {
     "name": "stderr",
     "output_type": "stream",
     "text": [
      " 39%|███▊      | 216/560 [00:06<00:10, 33.82it/s]"
     ]
    },
    {
     "name": "stdout",
     "output_type": "stream",
     "text": [
      "multilayer_perceptron ran in: 0.0 sec\n",
      "multilayer_perceptron ran in: 0.0 sec\n",
      "multilayer_perceptron ran in: 0.0 sec\n",
      "multilayer_perceptron ran in: 0.0 sec\n",
      "multilayer_perceptron ran in: 0.0 sec\n",
      "multilayer_perceptron ran in: 0.0 sec\n",
      "multilayer_perceptron ran in: 0.0 sec\n"
     ]
    },
    {
     "name": "stderr",
     "output_type": "stream",
     "text": [
      " 40%|████      | 224/560 [00:06<00:09, 34.17it/s]"
     ]
    },
    {
     "name": "stdout",
     "output_type": "stream",
     "text": [
      "multilayer_perceptron ran in: 0.0 sec\n",
      "multilayer_perceptron ran in: 0.0 sec\n",
      "multilayer_perceptron ran in: 0.0 sec\n",
      "multilayer_perceptron ran in: 0.0 sec\n",
      "multilayer_perceptron ran in: 0.0 sec\n",
      "multilayer_perceptron ran in: 0.0 sec\n",
      "multilayer_perceptron ran in: 0.0 sec\n",
      "multilayer_perceptron ran in: 0.0 sec\n"
     ]
    },
    {
     "name": "stderr",
     "output_type": "stream",
     "text": [
      " 41%|████▏     | 232/560 [00:06<00:09, 34.34it/s]"
     ]
    },
    {
     "name": "stdout",
     "output_type": "stream",
     "text": [
      "multilayer_perceptron ran in: 0.0 sec\n",
      "multilayer_perceptron ran in: 0.0 sec\n",
      "multilayer_perceptron ran in: 0.0 sec\n",
      "multilayer_perceptron ran in: 0.0 sec\n",
      "multilayer_perceptron ran in: 0.0 sec\n",
      "multilayer_perceptron ran in: 0.0 sec\n",
      "multilayer_perceptron ran in: 0.0 sec\n"
     ]
    },
    {
     "name": "stderr",
     "output_type": "stream",
     "text": [
      " 43%|████▎     | 240/560 [00:07<00:09, 34.43it/s]"
     ]
    },
    {
     "name": "stdout",
     "output_type": "stream",
     "text": [
      "multilayer_perceptron ran in: 0.0 sec\n",
      "multilayer_perceptron ran in: 0.0 sec\n",
      "multilayer_perceptron ran in: 0.0 sec\n",
      "multilayer_perceptron ran in: 0.0 sec\n",
      "multilayer_perceptron ran in: 0.0 sec\n",
      "multilayer_perceptron ran in: 0.0 sec\n",
      "multilayer_perceptron ran in: 0.0 sec\n"
     ]
    },
    {
     "name": "stderr",
     "output_type": "stream",
     "text": [
      "\r",
      " 44%|████▎     | 244/560 [00:07<00:09, 33.88it/s]"
     ]
    },
    {
     "name": "stdout",
     "output_type": "stream",
     "text": [
      "multilayer_perceptron ran in: 0.0 sec\n",
      "multilayer_perceptron ran in: 0.0 sec\n",
      "multilayer_perceptron ran in: 0.0 sec\n",
      "multilayer_perceptron ran in: 0.0 sec\n",
      "multilayer_perceptron ran in: 0.0 sec\n",
      "multilayer_perceptron ran in: 0.0 sec\n",
      "multilayer_perceptron ran in: 0.0 sec\n"
     ]
    },
    {
     "name": "stderr",
     "output_type": "stream",
     "text": [
      " 45%|████▌     | 252/560 [00:07<00:09, 34.20it/s]"
     ]
    },
    {
     "name": "stdout",
     "output_type": "stream",
     "text": [
      "multilayer_perceptron ran in: 0.0 sec\n",
      "multilayer_perceptron ran in: 0.0 sec\n",
      "multilayer_perceptron ran in: 0.0 sec\n",
      "multilayer_perceptron ran in: 0.0 sec\n",
      "multilayer_perceptron ran in: 0.0 sec\n",
      "multilayer_perceptron ran in: 0.0 sec\n",
      "multilayer_perceptron ran in: 0.0 sec\n"
     ]
    },
    {
     "name": "stderr",
     "output_type": "stream",
     "text": [
      " 46%|████▋     | 260/560 [00:07<00:08, 34.36it/s]"
     ]
    },
    {
     "name": "stdout",
     "output_type": "stream",
     "text": [
      "multilayer_perceptron ran in: 0.0 sec\n",
      "multilayer_perceptron ran in: 0.0 sec\n",
      "multilayer_perceptron ran in: 0.0 sec\n",
      "multilayer_perceptron ran in: 0.0 sec\n",
      "multilayer_perceptron ran in: 0.0 sec\n",
      "multilayer_perceptron ran in: 0.0 sec\n",
      "multilayer_perceptron ran in: 0.0 sec\n"
     ]
    },
    {
     "name": "stderr",
     "output_type": "stream",
     "text": [
      " 48%|████▊     | 268/560 [00:07<00:08, 33.86it/s]"
     ]
    },
    {
     "name": "stdout",
     "output_type": "stream",
     "text": [
      "multilayer_perceptron ran in: 0.0 sec\n",
      "multilayer_perceptron ran in: 0.0 sec\n",
      "multilayer_perceptron ran in: 0.0 sec\n",
      "multilayer_perceptron ran in: 0.0 sec\n",
      "multilayer_perceptron ran in: 0.0 sec\n",
      "multilayer_perceptron ran in: 0.0 sec\n",
      "multilayer_perceptron ran in: 0.0 sec\n"
     ]
    },
    {
     "name": "stderr",
     "output_type": "stream",
     "text": [
      "\r",
      " 49%|████▊     | 272/560 [00:07<00:08, 34.05it/s]"
     ]
    },
    {
     "name": "stdout",
     "output_type": "stream",
     "text": [
      "multilayer_perceptron ran in: 0.0 sec\n",
      "multilayer_perceptron ran in: 0.0 sec\n",
      "multilayer_perceptron ran in: 0.0 sec\n",
      "multilayer_perceptron ran in: 0.0 sec\n",
      "multilayer_perceptron ran in: 0.0 sec\n",
      "multilayer_perceptron ran in: 0.0 sec\n",
      "multilayer_perceptron ran in: 0.0 sec\n"
     ]
    },
    {
     "name": "stderr",
     "output_type": "stream",
     "text": [
      " 50%|█████     | 280/560 [00:08<00:08, 34.28it/s]"
     ]
    },
    {
     "name": "stdout",
     "output_type": "stream",
     "text": [
      "multilayer_perceptron ran in: 0.0 sec\n",
      "multilayer_perceptron ran in: 0.0 sec\n",
      "multilayer_perceptron ran in: 0.0 sec\n",
      "multilayer_perceptron ran in: 0.0 sec\n",
      "multilayer_perceptron ran in: 0.0 sec\n",
      "multilayer_perceptron ran in: 0.0 sec\n",
      "multilayer_perceptron ran in: 0.0010151863098144531 sec\n",
      "multilayer_perceptron ran in: 0.0 sec\n"
     ]
    },
    {
     "name": "stderr",
     "output_type": "stream",
     "text": [
      " 51%|█████▏    | 288/560 [00:08<00:07, 34.41it/s]"
     ]
    },
    {
     "name": "stdout",
     "output_type": "stream",
     "text": [
      "multilayer_perceptron ran in: 0.0 sec\n",
      "multilayer_perceptron ran in: 0.0 sec\n",
      "multilayer_perceptron ran in: 0.0 sec\n",
      "multilayer_perceptron ran in: 0.0 sec\n",
      "multilayer_perceptron ran in: 0.0 sec\n",
      "multilayer_perceptron ran in: 0.006514072418212891 sec\n",
      "multilayer_perceptron ran in: 0.0 sec\n"
     ]
    },
    {
     "name": "stderr",
     "output_type": "stream",
     "text": [
      " 53%|█████▎    | 296/560 [00:08<00:07, 34.06it/s]"
     ]
    },
    {
     "name": "stdout",
     "output_type": "stream",
     "text": [
      "multilayer_perceptron ran in: 0.0 sec\n",
      "multilayer_perceptron ran in: 0.0 sec\n",
      "multilayer_perceptron ran in: 0.0 sec\n",
      "multilayer_perceptron ran in: 0.0 sec\n",
      "multilayer_perceptron ran in: 0.0 sec\n",
      "multilayer_perceptron ran in: 0.0 sec\n"
     ]
    },
    {
     "name": "stderr",
     "output_type": "stream",
     "text": [
      "\r",
      " 54%|█████▎    | 300/560 [00:08<00:07, 32.87it/s]"
     ]
    },
    {
     "name": "stdout",
     "output_type": "stream",
     "text": [
      "multilayer_perceptron ran in: 0.0 sec\n",
      "multilayer_perceptron ran in: 0.0 sec\n",
      "multilayer_perceptron ran in: 0.0 sec\n",
      "multilayer_perceptron ran in: 0.0156404972076416 sec\n",
      "multilayer_perceptron ran in: 0.015623331069946289 sec\n",
      "multilayer_perceptron ran in: 0.0 sec\n"
     ]
    },
    {
     "name": "stderr",
     "output_type": "stream",
     "text": [
      " 55%|█████▌    | 308/560 [00:09<00:07, 32.41it/s]"
     ]
    },
    {
     "name": "stdout",
     "output_type": "stream",
     "text": [
      "multilayer_perceptron ran in: 0.0 sec\n",
      "multilayer_perceptron ran in: 0.0 sec\n",
      "multilayer_perceptron ran in: 0.0 sec\n",
      "multilayer_perceptron ran in: 0.0 sec\n",
      "multilayer_perceptron ran in: 0.0 sec\n",
      "multilayer_perceptron ran in: 0.0 sec\n"
     ]
    },
    {
     "name": "stderr",
     "output_type": "stream",
     "text": [
      "\r",
      " 56%|█████▌    | 312/560 [00:09<00:07, 32.49it/s]"
     ]
    },
    {
     "name": "stdout",
     "output_type": "stream",
     "text": [
      "multilayer_perceptron ran in: 0.0 sec\n",
      "multilayer_perceptron ran in: 0.0 sec\n",
      "multilayer_perceptron ran in: 0.0 sec\n",
      "multilayer_perceptron ran in: 0.0 sec\n",
      "multilayer_perceptron ran in: 0.0 sec\n",
      "multilayer_perceptron ran in: 0.0 sec\n",
      "multilayer_perceptron ran in: 0.0 sec\n"
     ]
    },
    {
     "name": "stderr",
     "output_type": "stream",
     "text": [
      " 57%|█████▋    | 320/560 [00:09<00:07, 33.49it/s]"
     ]
    },
    {
     "name": "stdout",
     "output_type": "stream",
     "text": [
      "multilayer_perceptron ran in: 0.0 sec\n",
      "multilayer_perceptron ran in: 0.0 sec\n",
      "multilayer_perceptron ran in: 0.0 sec\n",
      "multilayer_perceptron ran in: 0.0 sec\n",
      "multilayer_perceptron ran in: 0.0 sec\n",
      "multilayer_perceptron ran in: 0.0 sec\n",
      "multilayer_perceptron ran in: 0.0 sec\n",
      "multilayer_perceptron ran in: 0.0 sec\n"
     ]
    },
    {
     "name": "stderr",
     "output_type": "stream",
     "text": [
      " 59%|█████▊    | 328/560 [00:09<00:07, 32.55it/s]"
     ]
    },
    {
     "name": "stdout",
     "output_type": "stream",
     "text": [
      "multilayer_perceptron ran in: 0.0 sec\n",
      "multilayer_perceptron ran in: 0.0 sec\n",
      "multilayer_perceptron ran in: 0.0 sec\n",
      "multilayer_perceptron ran in: 0.0 sec\n",
      "multilayer_perceptron ran in: 0.0 sec\n",
      "multilayer_perceptron ran in: 0.0 sec\n",
      "multilayer_perceptron ran in: 0.0 sec\n"
     ]
    },
    {
     "name": "stderr",
     "output_type": "stream",
     "text": [
      " 60%|██████    | 336/560 [00:09<00:06, 33.52it/s]"
     ]
    },
    {
     "name": "stdout",
     "output_type": "stream",
     "text": [
      "multilayer_perceptron ran in: 0.0 sec\n",
      "multilayer_perceptron ran in: 0.0 sec\n",
      "multilayer_perceptron ran in: 0.0 sec\n",
      "multilayer_perceptron ran in: 0.01562356948852539 sec\n",
      "multilayer_perceptron ran in: 0.0 sec\n",
      "multilayer_perceptron ran in: 0.0 sec\n"
     ]
    },
    {
     "name": "stderr",
     "output_type": "stream",
     "text": [
      "\r",
      " 61%|██████    | 340/560 [00:10<00:06, 32.53it/s]"
     ]
    },
    {
     "name": "stdout",
     "output_type": "stream",
     "text": [
      "multilayer_perceptron ran in: 0.0 sec\n",
      "multilayer_perceptron ran in: 0.0 sec\n",
      "multilayer_perceptron ran in: 0.0 sec\n",
      "multilayer_perceptron ran in: 0.0 sec\n",
      "multilayer_perceptron ran in: 0.0 sec\n",
      "multilayer_perceptron ran in: 0.0 sec\n"
     ]
    },
    {
     "name": "stderr",
     "output_type": "stream",
     "text": [
      " 62%|██████▏   | 348/560 [00:10<00:06, 32.92it/s]"
     ]
    },
    {
     "name": "stdout",
     "output_type": "stream",
     "text": [
      "multilayer_perceptron ran in: 0.0 sec\n",
      "multilayer_perceptron ran in: 0.0 sec\n",
      "multilayer_perceptron ran in: 0.0 sec\n",
      "multilayer_perceptron ran in: 0.0 sec\n",
      "multilayer_perceptron ran in: 0.0 sec\n",
      "multilayer_perceptron ran in: 0.0 sec\n",
      "multilayer_perceptron ran in: 0.0 sec\n"
     ]
    },
    {
     "name": "stderr",
     "output_type": "stream",
     "text": [
      "\r",
      " 63%|██████▎   | 352/560 [00:10<00:06, 33.46it/s]"
     ]
    },
    {
     "name": "stdout",
     "output_type": "stream",
     "text": [
      "multilayer_perceptron ran in: 0.0 sec\n",
      "multilayer_perceptron ran in: 0.0 sec\n",
      "multilayer_perceptron ran in: 0.0 sec\n",
      "multilayer_perceptron ran in: 0.0 sec\n",
      "multilayer_perceptron ran in: 0.0 sec\n",
      "multilayer_perceptron ran in: 0.0 sec\n",
      "multilayer_perceptron ran in: 0.0 sec\n"
     ]
    },
    {
     "name": "stderr",
     "output_type": "stream",
     "text": [
      " 64%|██████▍   | 360/560 [00:10<00:06, 32.69it/s]"
     ]
    },
    {
     "name": "stdout",
     "output_type": "stream",
     "text": [
      "multilayer_perceptron ran in: 0.0 sec\n",
      "multilayer_perceptron ran in: 0.0 sec\n",
      "multilayer_perceptron ran in: 0.0 sec\n",
      "multilayer_perceptron ran in: 0.015623331069946289 sec\n",
      "multilayer_perceptron ran in: 0.015629291534423828 sec\n",
      "multilayer_perceptron ran in: 0.0 sec\n",
      "multilayer_perceptron ran in: 0.0 sec\n"
     ]
    },
    {
     "name": "stderr",
     "output_type": "stream",
     "text": [
      " 66%|██████▌   | 368/560 [00:10<00:05, 33.05it/s]"
     ]
    },
    {
     "name": "stdout",
     "output_type": "stream",
     "text": [
      "multilayer_perceptron ran in: 0.0 sec\n",
      "multilayer_perceptron ran in: 0.0 sec\n",
      "multilayer_perceptron ran in: 0.0 sec\n",
      "multilayer_perceptron ran in: 0.015631437301635742 sec\n",
      "multilayer_perceptron ran in: 0.0 sec\n",
      "multilayer_perceptron ran in: 0.0 sec\n",
      "multilayer_perceptron ran in: 0.0 sec\n"
     ]
    },
    {
     "name": "stderr",
     "output_type": "stream",
     "text": [
      " 67%|██████▋   | 376/560 [00:11<00:05, 33.77it/s]"
     ]
    },
    {
     "name": "stdout",
     "output_type": "stream",
     "text": [
      "multilayer_perceptron ran in: 0.0 sec\n",
      "multilayer_perceptron ran in: 0.0 sec\n",
      "multilayer_perceptron ran in: 0.0 sec\n",
      "multilayer_perceptron ran in: 0.0 sec\n",
      "multilayer_perceptron ran in: 0.0 sec\n",
      "multilayer_perceptron ran in: 0.0 sec\n",
      "multilayer_perceptron ran in: 0.0 sec\n"
     ]
    },
    {
     "name": "stderr",
     "output_type": "stream",
     "text": [
      " 69%|██████▊   | 384/560 [00:11<00:05, 34.15it/s]"
     ]
    },
    {
     "name": "stdout",
     "output_type": "stream",
     "text": [
      "multilayer_perceptron ran in: 0.0 sec\n",
      "multilayer_perceptron ran in: 0.0 sec\n",
      "multilayer_perceptron ran in: 0.0 sec\n",
      "multilayer_perceptron ran in: 0.0 sec\n",
      "multilayer_perceptron ran in: 0.006527900695800781 sec\n",
      "multilayer_perceptron ran in: 0.0 sec\n",
      "multilayer_perceptron ran in: 0.0 sec\n"
     ]
    },
    {
     "name": "stderr",
     "output_type": "stream",
     "text": [
      "\r",
      " 69%|██████▉   | 388/560 [00:11<00:05, 34.25it/s]"
     ]
    },
    {
     "name": "stdout",
     "output_type": "stream",
     "text": [
      "multilayer_perceptron ran in: 0.0 sec\n",
      "multilayer_perceptron ran in: 0.015653371810913086 sec\n",
      "multilayer_perceptron ran in: 0.0 sec\n",
      "multilayer_perceptron ran in: 0.0 sec\n",
      "multilayer_perceptron ran in: 0.0 sec\n",
      "multilayer_perceptron ran in: 0.015627622604370117 sec\n",
      "multilayer_perceptron ran in: 0.0 sec\n"
     ]
    },
    {
     "name": "stderr",
     "output_type": "stream",
     "text": [
      " 71%|███████   | 396/560 [00:11<00:04, 33.98it/s]"
     ]
    },
    {
     "name": "stdout",
     "output_type": "stream",
     "text": [
      "multilayer_perceptron ran in: 0.0 sec\n",
      "multilayer_perceptron ran in: 0.0 sec\n",
      "multilayer_perceptron ran in: 0.0 sec\n",
      "multilayer_perceptron ran in: 0.0 sec\n",
      "multilayer_perceptron ran in: 0.0 sec\n",
      "multilayer_perceptron ran in: 0.0 sec\n",
      "multilayer_perceptron ran in: 0.0 sec\n"
     ]
    },
    {
     "name": "stderr",
     "output_type": "stream",
     "text": [
      " 72%|███████▏  | 404/560 [00:11<00:04, 34.25it/s]"
     ]
    },
    {
     "name": "stdout",
     "output_type": "stream",
     "text": [
      "multilayer_perceptron ran in: 0.01562952995300293 sec\n",
      "multilayer_perceptron ran in: 0.0 sec\n",
      "multilayer_perceptron ran in: 0.0 sec\n",
      "multilayer_perceptron ran in: 0.0 sec\n",
      "multilayer_perceptron ran in: 0.0 sec\n",
      "multilayer_perceptron ran in: 0.0 sec\n",
      "multilayer_perceptron ran in: 0.0 sec\n"
     ]
    },
    {
     "name": "stderr",
     "output_type": "stream",
     "text": [
      " 74%|███████▎  | 412/560 [00:12<00:04, 34.38it/s]"
     ]
    },
    {
     "name": "stdout",
     "output_type": "stream",
     "text": [
      "multilayer_perceptron ran in: 0.0 sec\n",
      "multilayer_perceptron ran in: 0.0 sec\n",
      "multilayer_perceptron ran in: 0.0 sec\n",
      "multilayer_perceptron ran in: 0.0 sec\n",
      "multilayer_perceptron ran in: 0.0 sec\n",
      "multilayer_perceptron ran in: 0.0 sec\n",
      "multilayer_perceptron ran in: 0.0 sec\n"
     ]
    },
    {
     "name": "stderr",
     "output_type": "stream",
     "text": [
      "\r",
      " 74%|███████▍  | 416/560 [00:12<00:04, 33.88it/s]"
     ]
    },
    {
     "name": "stdout",
     "output_type": "stream",
     "text": [
      "multilayer_perceptron ran in: 0.0 sec\n",
      "multilayer_perceptron ran in: 0.01562786102294922 sec\n",
      "multilayer_perceptron ran in: 0.0 sec\n",
      "multilayer_perceptron ran in: 0.0 sec\n",
      "multilayer_perceptron ran in: 0.0 sec\n",
      "multilayer_perceptron ran in: 0.015625 sec\n",
      "multilayer_perceptron ran in: 0.0 sec\n",
      "multilayer_perceptron ran in: 0.0 sec\n"
     ]
    },
    {
     "name": "stderr",
     "output_type": "stream",
     "text": [
      " 76%|███████▌  | 424/560 [00:12<00:03, 34.20it/s]"
     ]
    },
    {
     "name": "stdout",
     "output_type": "stream",
     "text": [
      "multilayer_perceptron ran in: 0.0 sec\n",
      "multilayer_perceptron ran in: 0.0 sec\n",
      "multilayer_perceptron ran in: 0.0 sec\n",
      "multilayer_perceptron ran in: 0.0 sec\n",
      "multilayer_perceptron ran in: 0.0 sec\n",
      "multilayer_perceptron ran in: 0.0 sec\n",
      "multilayer_perceptron ran in: 0.0 sec\n"
     ]
    },
    {
     "name": "stderr",
     "output_type": "stream",
     "text": [
      " 77%|███████▋  | 432/560 [00:12<00:03, 34.35it/s]"
     ]
    },
    {
     "name": "stdout",
     "output_type": "stream",
     "text": [
      "multilayer_perceptron ran in: 0.0 sec\n",
      "multilayer_perceptron ran in: 0.0 sec\n",
      "multilayer_perceptron ran in: 0.0 sec\n",
      "multilayer_perceptron ran in: 0.0 sec\n",
      "multilayer_perceptron ran in: 0.0 sec\n",
      "multilayer_perceptron ran in: 0.0 sec\n",
      "multilayer_perceptron ran in: 0.0 sec\n"
     ]
    },
    {
     "name": "stderr",
     "output_type": "stream",
     "text": [
      " 79%|███████▊  | 440/560 [00:12<00:03, 33.86it/s]"
     ]
    },
    {
     "name": "stdout",
     "output_type": "stream",
     "text": [
      "multilayer_perceptron ran in: 0.0 sec\n",
      "multilayer_perceptron ran in: 0.0 sec\n",
      "multilayer_perceptron ran in: 0.006508827209472656 sec\n",
      "multilayer_perceptron ran in: 0.0 sec\n",
      "multilayer_perceptron ran in: 0.0 sec\n",
      "multilayer_perceptron ran in: 0.0 sec\n",
      "multilayer_perceptron ran in: 0.0 sec\n"
     ]
    },
    {
     "name": "stderr",
     "output_type": "stream",
     "text": [
      "\r",
      " 79%|███████▉  | 444/560 [00:13<00:03, 34.05it/s]"
     ]
    },
    {
     "name": "stdout",
     "output_type": "stream",
     "text": [
      "multilayer_perceptron ran in: 0.0 sec\n",
      "multilayer_perceptron ran in: 0.0 sec\n",
      "multilayer_perceptron ran in: 0.0 sec\n",
      "multilayer_perceptron ran in: 0.0 sec\n",
      "multilayer_perceptron ran in: 0.01562952995300293 sec\n",
      "multilayer_perceptron ran in: 0.0 sec\n",
      "multilayer_perceptron ran in: 0.0 sec\n"
     ]
    },
    {
     "name": "stderr",
     "output_type": "stream",
     "text": [
      " 81%|████████  | 452/560 [00:13<00:03, 34.28it/s]"
     ]
    },
    {
     "name": "stdout",
     "output_type": "stream",
     "text": [
      "multilayer_perceptron ran in: 0.0 sec\n",
      "multilayer_perceptron ran in: 0.0 sec\n",
      "multilayer_perceptron ran in: 0.0 sec\n",
      "multilayer_perceptron ran in: 0.0 sec\n",
      "multilayer_perceptron ran in: 0.0 sec\n",
      "multilayer_perceptron ran in: 0.015626192092895508 sec\n",
      "multilayer_perceptron ran in: 0.0 sec\n"
     ]
    },
    {
     "name": "stderr",
     "output_type": "stream",
     "text": [
      " 82%|████████▏ | 460/560 [00:13<00:02, 34.40it/s]"
     ]
    },
    {
     "name": "stdout",
     "output_type": "stream",
     "text": [
      "multilayer_perceptron ran in: 0.0 sec\n",
      "multilayer_perceptron ran in: 0.0 sec\n",
      "multilayer_perceptron ran in: 0.0 sec\n",
      "multilayer_perceptron ran in: 0.0 sec\n",
      "multilayer_perceptron ran in: 0.0 sec\n",
      "multilayer_perceptron ran in: 0.0 sec\n",
      "multilayer_perceptron ran in: 0.0 sec\n",
      "multilayer_perceptron ran in: 0.0 sec\n"
     ]
    },
    {
     "name": "stderr",
     "output_type": "stream",
     "text": [
      " 84%|████████▎ | 468/560 [00:13<00:02, 34.05it/s]"
     ]
    },
    {
     "name": "stdout",
     "output_type": "stream",
     "text": [
      "multilayer_perceptron ran in: 0.0 sec\n",
      "multilayer_perceptron ran in: 0.0 sec\n",
      "multilayer_perceptron ran in: 0.0 sec\n",
      "multilayer_perceptron ran in: 0.0 sec\n",
      "multilayer_perceptron ran in: 0.0 sec\n",
      "multilayer_perceptron ran in: 0.0 sec\n",
      "multilayer_perceptron ran in: 0.0 sec\n",
      "multilayer_perceptron ran in: 0.0 sec\n"
     ]
    },
    {
     "name": "stderr",
     "output_type": "stream",
     "text": [
      " 85%|████████▌ | 476/560 [00:14<00:02, 34.28it/s]"
     ]
    },
    {
     "name": "stdout",
     "output_type": "stream",
     "text": [
      "multilayer_perceptron ran in: 0.0 sec\n",
      "multilayer_perceptron ran in: 0.01564335823059082 sec\n",
      "multilayer_perceptron ran in: 0.0 sec\n",
      "multilayer_perceptron ran in: 0.0 sec\n",
      "multilayer_perceptron ran in: 0.0 sec\n",
      "multilayer_perceptron ran in: 0.0156252384185791 sec\n",
      "multilayer_perceptron ran in: 0.0 sec\n",
      "multilayer_perceptron ran in: 0.0 sec\n"
     ]
    },
    {
     "name": "stderr",
     "output_type": "stream",
     "text": [
      " 86%|████████▋ | 484/560 [00:14<00:02, 33.92it/s]"
     ]
    },
    {
     "name": "stdout",
     "output_type": "stream",
     "text": [
      "multilayer_perceptron ran in: 0.0 sec\n",
      "multilayer_perceptron ran in: 0.004015922546386719 sec\n",
      "multilayer_perceptron ran in: 0.0 sec\n",
      "multilayer_perceptron ran in: 0.0 sec\n",
      "multilayer_perceptron ran in: 0.0 sec\n",
      "multilayer_perceptron ran in: 0.0 sec\n",
      "multilayer_perceptron ran in: 0.0 sec\n",
      "multilayer_perceptron ran in: 0.0 sec\n"
     ]
    },
    {
     "name": "stderr",
     "output_type": "stream",
     "text": [
      " 88%|████████▊ | 492/560 [00:14<00:01, 34.18it/s]"
     ]
    },
    {
     "name": "stdout",
     "output_type": "stream",
     "text": [
      "multilayer_perceptron ran in: 0.0 sec\n",
      "multilayer_perceptron ran in: 0.0 sec\n",
      "multilayer_perceptron ran in: 0.0 sec\n",
      "multilayer_perceptron ran in: 0.0 sec\n",
      "multilayer_perceptron ran in: 0.0 sec\n",
      "multilayer_perceptron ran in: 0.0156252384185791 sec\n",
      "multilayer_perceptron ran in: 0.0 sec\n",
      "multilayer_perceptron ran in: 0.0 sec\n"
     ]
    },
    {
     "name": "stderr",
     "output_type": "stream",
     "text": [
      " 89%|████████▉ | 500/560 [00:14<00:01, 34.35it/s]"
     ]
    },
    {
     "name": "stdout",
     "output_type": "stream",
     "text": [
      "multilayer_perceptron ran in: 0.0 sec\n",
      "multilayer_perceptron ran in: 0.01561284065246582 sec\n",
      "multilayer_perceptron ran in: 0.0 sec\n",
      "multilayer_perceptron ran in: 0.0 sec\n",
      "multilayer_perceptron ran in: 0.0 sec\n",
      "multilayer_perceptron ran in: 0.015610694885253906 sec\n",
      "multilayer_perceptron ran in: 0.0 sec\n",
      "multilayer_perceptron ran in: 0.0 sec\n"
     ]
    },
    {
     "name": "stderr",
     "output_type": "stream",
     "text": [
      " 91%|█████████ | 508/560 [00:14<00:01, 34.43it/s]"
     ]
    },
    {
     "name": "stdout",
     "output_type": "stream",
     "text": [
      "multilayer_perceptron ran in: 0.0 sec\n",
      "multilayer_perceptron ran in: 0.0 sec\n",
      "multilayer_perceptron ran in: 0.0 sec\n",
      "multilayer_perceptron ran in: 0.0 sec\n",
      "multilayer_perceptron ran in: 0.0 sec\n",
      "multilayer_perceptron ran in: 0.0 sec\n",
      "multilayer_perceptron ran in: 0.0 sec\n",
      "multilayer_perceptron ran in: 0.0 sec\n"
     ]
    },
    {
     "name": "stderr",
     "output_type": "stream",
     "text": [
      " 92%|█████████▏| 516/560 [00:15<00:01, 34.06it/s]"
     ]
    },
    {
     "name": "stdout",
     "output_type": "stream",
     "text": [
      "multilayer_perceptron ran in: 0.0 sec\n",
      "multilayer_perceptron ran in: 0.0 sec\n",
      "multilayer_perceptron ran in: 0.0 sec\n",
      "multilayer_perceptron ran in: 0.0 sec\n",
      "multilayer_perceptron ran in: 0.0 sec\n",
      "multilayer_perceptron ran in: 0.0 sec\n",
      "multilayer_perceptron ran in: 0.0 sec\n"
     ]
    },
    {
     "name": "stderr",
     "output_type": "stream",
     "text": [
      " 94%|█████████▎| 524/560 [00:15<00:01, 34.31it/s]"
     ]
    },
    {
     "name": "stdout",
     "output_type": "stream",
     "text": [
      "multilayer_perceptron ran in: 0.0 sec\n",
      "multilayer_perceptron ran in: 0.015653133392333984 sec\n",
      "multilayer_perceptron ran in: 0.0 sec\n",
      "multilayer_perceptron ran in: 0.0 sec\n",
      "multilayer_perceptron ran in: 0.0 sec\n",
      "multilayer_perceptron ran in: 0.015621423721313477 sec\n",
      "multilayer_perceptron ran in: 0.0 sec\n"
     ]
    },
    {
     "name": "stderr",
     "output_type": "stream",
     "text": [
      "\r",
      " 94%|█████████▍| 528/560 [00:15<00:00, 34.37it/s]"
     ]
    },
    {
     "name": "stdout",
     "output_type": "stream",
     "text": [
      "multilayer_perceptron ran in: 0.0 sec\n",
      "multilayer_perceptron ran in: 0.0 sec\n",
      "multilayer_perceptron ran in: 0.015627622604370117 sec\n",
      "multilayer_perceptron ran in: 0.0 sec\n",
      "multilayer_perceptron ran in: 0.0 sec\n",
      "multilayer_perceptron ran in: 0.0 sec\n",
      "multilayer_perceptron ran in: 0.0 sec\n"
     ]
    },
    {
     "name": "stderr",
     "output_type": "stream",
     "text": [
      " 96%|█████████▌| 536/560 [00:15<00:00, 34.44it/s]"
     ]
    },
    {
     "name": "stdout",
     "output_type": "stream",
     "text": [
      "multilayer_perceptron ran in: 0.0 sec\n",
      "multilayer_perceptron ran in: 0.0 sec\n",
      "multilayer_perceptron ran in: 0.0 sec\n",
      "multilayer_perceptron ran in: 0.0 sec\n",
      "multilayer_perceptron ran in: 0.0 sec\n",
      "multilayer_perceptron ran in: 0.0 sec\n",
      "multilayer_perceptron ran in: 0.0 sec\n"
     ]
    },
    {
     "name": "stderr",
     "output_type": "stream",
     "text": [
      " 97%|█████████▋| 544/560 [00:15<00:00, 35.05it/s]"
     ]
    },
    {
     "name": "stdout",
     "output_type": "stream",
     "text": [
      "multilayer_perceptron ran in: 0.01561284065246582 sec\n",
      "multilayer_perceptron ran in: 0.0 sec\n",
      "multilayer_perceptron ran in: 0.0 sec\n",
      "multilayer_perceptron ran in: 0.0 sec\n",
      "multilayer_perceptron ran in: 0.0 sec\n",
      "multilayer_perceptron ran in: 0.0 sec\n",
      "multilayer_perceptron ran in: 0.0 sec\n"
     ]
    },
    {
     "name": "stderr",
     "output_type": "stream",
     "text": [
      " 99%|█████████▊| 552/560 [00:16<00:00, 35.20it/s]"
     ]
    },
    {
     "name": "stdout",
     "output_type": "stream",
     "text": [
      "multilayer_perceptron ran in: 0.0 sec\n",
      "multilayer_perceptron ran in: 0.0 sec\n",
      "multilayer_perceptron ran in: 0.0 sec\n",
      "multilayer_perceptron ran in: 0.0 sec\n",
      "multilayer_perceptron ran in: 0.0 sec\n",
      "multilayer_perceptron ran in: 0.0 sec\n",
      "multilayer_perceptron ran in: 0.0 sec\n",
      "multilayer_perceptron ran in: 0.0 sec\n"
     ]
    },
    {
     "name": "stderr",
     "output_type": "stream",
     "text": [
      "100%|██████████| 560/560 [00:16<00:00, 34.02it/s]\n"
     ]
    },
    {
     "name": "stdout",
     "output_type": "stream",
     "text": [
      "multilayer_perceptron ran in: 0.0 sec\n",
      "multilayer_perceptron ran in: 0.0 sec\n",
      "multilayer_perceptron ran in: 0.0 sec\n",
      "multilayer_perceptron ran in: 0.0 sec\n",
      "multilayer_perceptron ran in: 0.0 sec\n",
      "multilayer_perceptron ran in: 0.0 sec\n",
      "Epoch: 5 Cost=45906.8438\n"
     ]
    },
    {
     "name": "stderr",
     "output_type": "stream",
     "text": [
      "  1%|          | 4/560 [00:00<00:17, 32.67it/s]"
     ]
    },
    {
     "name": "stdout",
     "output_type": "stream",
     "text": [
      "multilayer_perceptron ran in: 0.0 sec\n",
      "multilayer_perceptron ran in: 0.0 sec\n",
      "multilayer_perceptron ran in: 0.0 sec\n",
      "multilayer_perceptron ran in: 0.0 sec\n",
      "multilayer_perceptron ran in: 0.0 sec\n",
      "multilayer_perceptron ran in: 0.0 sec\n",
      "multilayer_perceptron ran in: 0.0 sec\n"
     ]
    },
    {
     "name": "stderr",
     "output_type": "stream",
     "text": [
      "  2%|▏         | 12/560 [00:00<00:16, 34.08it/s]"
     ]
    },
    {
     "name": "stdout",
     "output_type": "stream",
     "text": [
      "multilayer_perceptron ran in: 0.0 sec\n",
      "multilayer_perceptron ran in: 0.0 sec\n",
      "multilayer_perceptron ran in: 0.0 sec\n",
      "multilayer_perceptron ran in: 0.00652313232421875 sec\n",
      "multilayer_perceptron ran in: 0.0 sec\n",
      "multilayer_perceptron ran in: 0.0 sec\n",
      "multilayer_perceptron ran in: 0.0 sec\n"
     ]
    },
    {
     "name": "stderr",
     "output_type": "stream",
     "text": [
      "  4%|▎         | 20/560 [00:00<00:15, 34.34it/s]"
     ]
    },
    {
     "name": "stdout",
     "output_type": "stream",
     "text": [
      "multilayer_perceptron ran in: 0.015634775161743164 sec\n",
      "multilayer_perceptron ran in: 0.0 sec\n",
      "multilayer_perceptron ran in: 0.0 sec\n",
      "multilayer_perceptron ran in: 0.0 sec\n",
      "multilayer_perceptron ran in: 0.0 sec\n",
      "multilayer_perceptron ran in: 0.01562643051147461 sec\n",
      "multilayer_perceptron ran in: 0.0 sec\n"
     ]
    },
    {
     "name": "stderr",
     "output_type": "stream",
     "text": [
      "\r",
      "  4%|▍         | 24/560 [00:00<00:15, 33.76it/s]"
     ]
    },
    {
     "name": "stdout",
     "output_type": "stream",
     "text": [
      "multilayer_perceptron ran in: 0.0 sec\n",
      "multilayer_perceptron ran in: 0.0 sec\n",
      "multilayer_perceptron ran in: 0.0 sec\n",
      "multilayer_perceptron ran in: 0.0 sec\n",
      "multilayer_perceptron ran in: 0.0 sec\n",
      "multilayer_perceptron ran in: 0.0 sec\n",
      "multilayer_perceptron ran in: 0.0 sec\n"
     ]
    },
    {
     "name": "stderr",
     "output_type": "stream",
     "text": [
      "  6%|▌         | 32/560 [00:00<00:15, 34.16it/s]"
     ]
    },
    {
     "name": "stdout",
     "output_type": "stream",
     "text": [
      "multilayer_perceptron ran in: 0.0 sec\n",
      "multilayer_perceptron ran in: 0.0 sec\n",
      "multilayer_perceptron ran in: 0.0 sec\n",
      "multilayer_perceptron ran in: 0.0 sec\n",
      "multilayer_perceptron ran in: 0.0 sec\n",
      "multilayer_perceptron ran in: 0.0 sec\n",
      "multilayer_perceptron ran in: 0.0 sec\n",
      "multilayer_perceptron ran in: 0.0 sec\n"
     ]
    },
    {
     "name": "stderr",
     "output_type": "stream",
     "text": [
      "  7%|▋         | 40/560 [00:01<00:15, 34.34it/s]"
     ]
    },
    {
     "name": "stdout",
     "output_type": "stream",
     "text": [
      "multilayer_perceptron ran in: 0.0 sec\n",
      "multilayer_perceptron ran in: 0.0 sec\n",
      "multilayer_perceptron ran in: 0.0 sec\n",
      "multilayer_perceptron ran in: 0.0 sec\n",
      "multilayer_perceptron ran in: 0.0 sec\n",
      "multilayer_perceptron ran in: 0.0 sec\n",
      "multilayer_perceptron ran in: 0.0 sec\n"
     ]
    },
    {
     "name": "stderr",
     "output_type": "stream",
     "text": [
      "  9%|▊         | 48/560 [00:01<00:14, 34.43it/s]"
     ]
    },
    {
     "name": "stdout",
     "output_type": "stream",
     "text": [
      "multilayer_perceptron ran in: 0.01563239097595215 sec\n",
      "multilayer_perceptron ran in: 0.0 sec\n",
      "multilayer_perceptron ran in: 0.0 sec\n",
      "multilayer_perceptron ran in: 0.0 sec\n",
      "multilayer_perceptron ran in: 0.0 sec\n",
      "multilayer_perceptron ran in: 0.0 sec\n",
      "multilayer_perceptron ran in: 0.0 sec\n"
     ]
    },
    {
     "name": "stderr",
     "output_type": "stream",
     "text": [
      " 10%|█         | 56/560 [00:01<00:14, 34.07it/s]"
     ]
    },
    {
     "name": "stdout",
     "output_type": "stream",
     "text": [
      "multilayer_perceptron ran in: 0.0 sec\n",
      "multilayer_perceptron ran in: 0.0 sec\n",
      "multilayer_perceptron ran in: 0.0 sec\n",
      "multilayer_perceptron ran in: 0.0 sec\n",
      "multilayer_perceptron ran in: 0.0 sec\n",
      "multilayer_perceptron ran in: 0.0 sec\n",
      "multilayer_perceptron ran in: 0.0 sec\n",
      "multilayer_perceptron ran in: 0.0 sec\n"
     ]
    },
    {
     "name": "stderr",
     "output_type": "stream",
     "text": [
      " 11%|█▏        | 64/560 [00:01<00:14, 34.31it/s]"
     ]
    },
    {
     "name": "stdout",
     "output_type": "stream",
     "text": [
      "multilayer_perceptron ran in: 0.0 sec\n",
      "multilayer_perceptron ran in: 0.015622854232788086 sec\n",
      "multilayer_perceptron ran in: 0.0 sec\n",
      "multilayer_perceptron ran in: 0.0 sec\n",
      "multilayer_perceptron ran in: 0.0 sec\n",
      "multilayer_perceptron ran in: 0.01562666893005371 sec\n",
      "multilayer_perceptron ran in: 0.0 sec\n",
      "multilayer_perceptron ran in: 0.0 sec\n"
     ]
    },
    {
     "name": "stderr",
     "output_type": "stream",
     "text": [
      " 13%|█▎        | 72/560 [00:02<00:14, 33.84it/s]"
     ]
    },
    {
     "name": "stdout",
     "output_type": "stream",
     "text": [
      "multilayer_perceptron ran in: 0.0 sec\n",
      "multilayer_perceptron ran in: 0.0 sec\n",
      "multilayer_perceptron ran in: 0.0 sec\n",
      "multilayer_perceptron ran in: 0.0 sec\n",
      "multilayer_perceptron ran in: 0.0 sec\n",
      "multilayer_perceptron ran in: 0.0 sec\n",
      "multilayer_perceptron ran in: 0.0 sec\n",
      "multilayer_perceptron ran in: 0.0 sec\n"
     ]
    },
    {
     "name": "stderr",
     "output_type": "stream",
     "text": [
      " 14%|█▍        | 80/560 [00:02<00:14, 34.18it/s]"
     ]
    },
    {
     "name": "stdout",
     "output_type": "stream",
     "text": [
      "multilayer_perceptron ran in: 0.0 sec\n",
      "multilayer_perceptron ran in: 0.0 sec\n",
      "multilayer_perceptron ran in: 0.0 sec\n",
      "multilayer_perceptron ran in: 0.0 sec\n",
      "multilayer_perceptron ran in: 0.0 sec\n",
      "multilayer_perceptron ran in: 0.0 sec\n",
      "multilayer_perceptron ran in: 0.0 sec\n"
     ]
    },
    {
     "name": "stderr",
     "output_type": "stream",
     "text": [
      " 16%|█▌        | 88/560 [00:02<00:13, 34.35it/s]"
     ]
    },
    {
     "name": "stdout",
     "output_type": "stream",
     "text": [
      "multilayer_perceptron ran in: 0.0 sec\n",
      "multilayer_perceptron ran in: 0.0 sec\n",
      "multilayer_perceptron ran in: 0.0 sec\n",
      "multilayer_perceptron ran in: 0.0 sec\n",
      "multilayer_perceptron ran in: 0.0 sec\n",
      "multilayer_perceptron ran in: 0.0 sec\n",
      "multilayer_perceptron ran in: 0.0 sec\n"
     ]
    },
    {
     "name": "stderr",
     "output_type": "stream",
     "text": [
      "\r",
      " 16%|█▋        | 92/560 [00:02<00:13, 34.40it/s]"
     ]
    },
    {
     "name": "stdout",
     "output_type": "stream",
     "text": [
      "multilayer_perceptron ran in: 0.0 sec\n",
      "multilayer_perceptron ran in: 0.0 sec\n",
      "multilayer_perceptron ran in: 0.0 sec\n",
      "multilayer_perceptron ran in: 0.0 sec\n",
      "multilayer_perceptron ran in: 0.0 sec\n",
      "multilayer_perceptron ran in: 0.0 sec\n",
      "multilayer_perceptron ran in: 0.0 sec\n"
     ]
    },
    {
     "name": "stderr",
     "output_type": "stream",
     "text": [
      " 18%|█▊        | 100/560 [00:02<00:13, 34.05it/s]"
     ]
    },
    {
     "name": "stdout",
     "output_type": "stream",
     "text": [
      "multilayer_perceptron ran in: 0.0 sec\n",
      "multilayer_perceptron ran in: 0.0 sec\n",
      "multilayer_perceptron ran in: 0.0 sec\n",
      "multilayer_perceptron ran in: 0.0 sec\n",
      "multilayer_perceptron ran in: 0.0 sec\n",
      "multilayer_perceptron ran in: 0.0 sec\n",
      "multilayer_perceptron ran in: 0.0 sec\n"
     ]
    },
    {
     "name": "stderr",
     "output_type": "stream",
     "text": [
      " 19%|█▉        | 108/560 [00:03<00:13, 34.29it/s]"
     ]
    },
    {
     "name": "stdout",
     "output_type": "stream",
     "text": [
      "multilayer_perceptron ran in: 0.0 sec\n",
      "multilayer_perceptron ran in: 0.0 sec\n",
      "multilayer_perceptron ran in: 0.0 sec\n",
      "multilayer_perceptron ran in: 0.001994609832763672 sec\n",
      "multilayer_perceptron ran in: 0.0 sec\n",
      "multilayer_perceptron ran in: 0.0 sec\n",
      "multilayer_perceptron ran in: 0.0 sec\n"
     ]
    },
    {
     "name": "stderr",
     "output_type": "stream",
     "text": [
      "\r",
      " 20%|██        | 112/560 [00:03<00:13, 34.36it/s]"
     ]
    },
    {
     "name": "stdout",
     "output_type": "stream",
     "text": [
      "multilayer_perceptron ran in: 0.0 sec\n",
      "multilayer_perceptron ran in: 0.0 sec\n",
      "multilayer_perceptron ran in: 0.0 sec\n",
      "multilayer_perceptron ran in: 0.0 sec\n",
      "multilayer_perceptron ran in: 0.01564645767211914 sec\n"
     ]
    },
    {
     "name": "stderr",
     "output_type": "stream",
     "text": [
      " 21%|██▏       | 120/560 [00:03<00:15, 27.56it/s]"
     ]
    },
    {
     "name": "stdout",
     "output_type": "stream",
     "text": [
      "multilayer_perceptron ran in: 0.0 sec\n",
      "multilayer_perceptron ran in: 0.0 sec\n",
      "multilayer_perceptron ran in: 0.0 sec\n",
      "multilayer_perceptron ran in: 0.0 sec\n",
      "multilayer_perceptron ran in: 0.0 sec\n",
      "multilayer_perceptron ran in: 0.0 sec\n",
      "multilayer_perceptron ran in: 0.0 sec\n"
     ]
    },
    {
     "name": "stderr",
     "output_type": "stream",
     "text": [
      " 23%|██▎       | 128/560 [00:03<00:14, 30.73it/s]"
     ]
    },
    {
     "name": "stdout",
     "output_type": "stream",
     "text": [
      "multilayer_perceptron ran in: 0.0 sec\n",
      "multilayer_perceptron ran in: 0.0 sec\n",
      "multilayer_perceptron ran in: 0.0 sec\n",
      "multilayer_perceptron ran in: 0.0019986629486083984 sec\n",
      "multilayer_perceptron ran in: 0.0 sec\n",
      "multilayer_perceptron ran in: 0.0 sec\n",
      "multilayer_perceptron ran in: 0.0 sec\n"
     ]
    },
    {
     "name": "stderr",
     "output_type": "stream",
     "text": [
      "\r",
      " 24%|██▎       | 132/560 [00:03<00:13, 31.77it/s]"
     ]
    },
    {
     "name": "stdout",
     "output_type": "stream",
     "text": [
      "multilayer_perceptron ran in: 0.0 sec\n",
      "multilayer_perceptron ran in: 0.0 sec\n",
      "multilayer_perceptron ran in: 0.0 sec\n",
      "multilayer_perceptron ran in: 0.0 sec\n",
      "multilayer_perceptron ran in: 0.0 sec\n",
      "multilayer_perceptron ran in: 0.0 sec\n",
      "multilayer_perceptron ran in: 0.0 sec\n"
     ]
    },
    {
     "name": "stderr",
     "output_type": "stream",
     "text": [
      " 25%|██▌       | 140/560 [00:04<00:12, 32.73it/s]"
     ]
    },
    {
     "name": "stdout",
     "output_type": "stream",
     "text": [
      "multilayer_perceptron ran in: 0.0 sec\n",
      "multilayer_perceptron ran in: 0.0 sec\n",
      "multilayer_perceptron ran in: 0.0 sec\n",
      "multilayer_perceptron ran in: 0.0 sec\n",
      "multilayer_perceptron ran in: 0.0 sec\n",
      "multilayer_perceptron ran in: 0.0 sec\n",
      "multilayer_perceptron ran in: 0.0 sec\n"
     ]
    },
    {
     "name": "stderr",
     "output_type": "stream",
     "text": [
      " 26%|██▋       | 148/560 [00:04<00:12, 33.62it/s]"
     ]
    },
    {
     "name": "stdout",
     "output_type": "stream",
     "text": [
      "multilayer_perceptron ran in: 0.0 sec\n",
      "multilayer_perceptron ran in: 0.0 sec\n",
      "multilayer_perceptron ran in: 0.015639305114746094 sec\n",
      "multilayer_perceptron ran in: 0.0 sec\n",
      "multilayer_perceptron ran in: 0.0 sec\n",
      "multilayer_perceptron ran in: 0.0 sec\n",
      "multilayer_perceptron ran in: 0.01562786102294922 sec\n"
     ]
    },
    {
     "name": "stderr",
     "output_type": "stream",
     "text": [
      "\r",
      " 27%|██▋       | 152/560 [00:04<00:12, 33.88it/s]"
     ]
    },
    {
     "name": "stdout",
     "output_type": "stream",
     "text": [
      "multilayer_perceptron ran in: 0.0 sec\n",
      "multilayer_perceptron ran in: 0.0 sec\n",
      "multilayer_perceptron ran in: 0.0 sec\n",
      "multilayer_perceptron ran in: 0.0 sec\n",
      "multilayer_perceptron ran in: 0.0 sec\n",
      "multilayer_perceptron ran in: 0.0 sec\n"
     ]
    },
    {
     "name": "stderr",
     "output_type": "stream",
     "text": [
      " 29%|██▊       | 160/560 [00:04<00:11, 33.64it/s]"
     ]
    },
    {
     "name": "stdout",
     "output_type": "stream",
     "text": [
      "multilayer_perceptron ran in: 0.0 sec\n",
      "multilayer_perceptron ran in: 0.006509542465209961 sec\n",
      "multilayer_perceptron ran in: 0.0 sec\n",
      "multilayer_perceptron ran in: 0.0 sec\n",
      "multilayer_perceptron ran in: 0.0 sec\n",
      "multilayer_perceptron ran in: 0.0 sec\n",
      "multilayer_perceptron ran in: 0.0 sec\n"
     ]
    },
    {
     "name": "stderr",
     "output_type": "stream",
     "text": [
      " 30%|███       | 168/560 [00:05<00:11, 34.07it/s]"
     ]
    },
    {
     "name": "stdout",
     "output_type": "stream",
     "text": [
      "multilayer_perceptron ran in: 0.0 sec\n",
      "multilayer_perceptron ran in: 0.0 sec\n",
      "multilayer_perceptron ran in: 0.0 sec\n",
      "multilayer_perceptron ran in: 0.015626192092895508 sec\n",
      "multilayer_perceptron ran in: 0.0 sec\n",
      "multilayer_perceptron ran in: 0.0 sec\n",
      "multilayer_perceptron ran in: 0.0 sec\n"
     ]
    },
    {
     "name": "stderr",
     "output_type": "stream",
     "text": [
      " 31%|███▏      | 176/560 [00:05<00:11, 34.29it/s]"
     ]
    },
    {
     "name": "stdout",
     "output_type": "stream",
     "text": [
      "multilayer_perceptron ran in: 0.0 sec\n",
      "multilayer_perceptron ran in: 0.0 sec\n",
      "multilayer_perceptron ran in: 0.0 sec\n",
      "multilayer_perceptron ran in: 0.0 sec\n",
      "multilayer_perceptron ran in: 0.0 sec\n",
      "multilayer_perceptron ran in: 0.0 sec\n",
      "multilayer_perceptron ran in: 0.0 sec\n"
     ]
    },
    {
     "name": "stderr",
     "output_type": "stream",
     "text": [
      "\r",
      " 32%|███▏      | 180/560 [00:05<00:11, 33.03it/s]"
     ]
    },
    {
     "name": "stdout",
     "output_type": "stream",
     "text": [
      "multilayer_perceptron ran in: 0.0 sec\n",
      "multilayer_perceptron ran in: 0.0 sec\n",
      "multilayer_perceptron ran in: 0.015622377395629883 sec\n",
      "multilayer_perceptron ran in: 0.0 sec\n",
      "multilayer_perceptron ran in: 0.0 sec\n",
      "multilayer_perceptron ran in: 0.0 sec\n",
      "multilayer_perceptron ran in: 0.0 sec\n"
     ]
    },
    {
     "name": "stderr",
     "output_type": "stream",
     "text": [
      " 34%|███▎      | 188/560 [00:05<00:10, 34.32it/s]"
     ]
    },
    {
     "name": "stdout",
     "output_type": "stream",
     "text": [
      "multilayer_perceptron ran in: 0.0 sec\n",
      "multilayer_perceptron ran in: 0.0 sec\n",
      "multilayer_perceptron ran in: 0.0 sec\n",
      "multilayer_perceptron ran in: 0.0 sec\n",
      "multilayer_perceptron ran in: 0.0 sec\n",
      "multilayer_perceptron ran in: 0.0 sec\n",
      "multilayer_perceptron ran in: 0.0 sec\n"
     ]
    },
    {
     "name": "stderr",
     "output_type": "stream",
     "text": [
      " 35%|███▌      | 196/560 [00:05<00:11, 33.09it/s]"
     ]
    },
    {
     "name": "stdout",
     "output_type": "stream",
     "text": [
      "multilayer_perceptron ran in: 0.0 sec\n",
      "multilayer_perceptron ran in: 0.0 sec\n",
      "multilayer_perceptron ran in: 0.0 sec\n",
      "multilayer_perceptron ran in: 0.0 sec\n",
      "multilayer_perceptron ran in: 0.0 sec\n",
      "multilayer_perceptron ran in: 0.0 sec\n",
      "multilayer_perceptron ran in: 0.0 sec\n"
     ]
    },
    {
     "name": "stderr",
     "output_type": "stream",
     "text": [
      "\r",
      " 36%|███▌      | 200/560 [00:06<00:10, 33.50it/s]"
     ]
    },
    {
     "name": "stdout",
     "output_type": "stream",
     "text": [
      "multilayer_perceptron ran in: 0.0 sec\n",
      "multilayer_perceptron ran in: 0.015624523162841797 sec\n",
      "multilayer_perceptron ran in: 0.0 sec\n",
      "multilayer_perceptron ran in: 0.0 sec\n",
      "multilayer_perceptron ran in: 0.0 sec\n",
      "multilayer_perceptron ran in: 0.0 sec\n",
      "multilayer_perceptron ran in: 0.0 sec\n"
     ]
    },
    {
     "name": "stderr",
     "output_type": "stream",
     "text": [
      " 37%|███▋      | 208/560 [00:06<00:10, 34.82it/s]"
     ]
    },
    {
     "name": "stdout",
     "output_type": "stream",
     "text": [
      "multilayer_perceptron ran in: 0.0 sec\n",
      "multilayer_perceptron ran in: 0.0 sec\n",
      "multilayer_perceptron ran in: 0.0 sec\n",
      "multilayer_perceptron ran in: 0.0 sec\n",
      "multilayer_perceptron ran in: 0.0 sec\n",
      "multilayer_perceptron ran in: 0.0 sec\n",
      "multilayer_perceptron ran in: 0.0 sec\n"
     ]
    },
    {
     "name": "stderr",
     "output_type": "stream",
     "text": [
      " 39%|███▊      | 216/560 [00:06<00:10, 33.70it/s]"
     ]
    },
    {
     "name": "stdout",
     "output_type": "stream",
     "text": [
      "multilayer_perceptron ran in: 0.0 sec\n",
      "multilayer_perceptron ran in: 0.0 sec\n",
      "multilayer_perceptron ran in: 0.0 sec\n",
      "multilayer_perceptron ran in: 0.0 sec\n",
      "multilayer_perceptron ran in: 0.01562666893005371 sec\n",
      "multilayer_perceptron ran in: 0.0 sec\n",
      "multilayer_perceptron ran in: 0.0 sec\n"
     ]
    },
    {
     "name": "stderr",
     "output_type": "stream",
     "text": [
      " 40%|████      | 224/560 [00:06<00:09, 34.11it/s]"
     ]
    },
    {
     "name": "stdout",
     "output_type": "stream",
     "text": [
      "multilayer_perceptron ran in: 0.0 sec\n",
      "multilayer_perceptron ran in: 0.0 sec\n",
      "multilayer_perceptron ran in: 0.0 sec\n",
      "multilayer_perceptron ran in: 0.0 sec\n",
      "multilayer_perceptron ran in: 0.0 sec\n",
      "multilayer_perceptron ran in: 0.0 sec\n",
      "multilayer_perceptron ran in: 0.0 sec\n",
      "multilayer_perceptron ran in: 0.0 sec\n"
     ]
    },
    {
     "name": "stderr",
     "output_type": "stream",
     "text": [
      " 41%|████▏     | 232/560 [00:06<00:09, 33.91it/s]"
     ]
    },
    {
     "name": "stdout",
     "output_type": "stream",
     "text": [
      "multilayer_perceptron ran in: 0.0 sec\n",
      "multilayer_perceptron ran in: 0.0 sec\n",
      "multilayer_perceptron ran in: 0.0 sec\n",
      "multilayer_perceptron ran in: 0.0 sec\n",
      "multilayer_perceptron ran in: 0.0 sec\n",
      "multilayer_perceptron ran in: 0.0 sec\n",
      "multilayer_perceptron ran in: 0.0 sec\n"
     ]
    },
    {
     "name": "stderr",
     "output_type": "stream",
     "text": [
      " 43%|████▎     | 240/560 [00:07<00:09, 34.21it/s]"
     ]
    },
    {
     "name": "stdout",
     "output_type": "stream",
     "text": [
      "multilayer_perceptron ran in: 0.0 sec\n",
      "multilayer_perceptron ran in: 0.0 sec\n",
      "multilayer_perceptron ran in: 0.0 sec\n",
      "multilayer_perceptron ran in: 0.0 sec\n",
      "multilayer_perceptron ran in: 0.0 sec\n",
      "multilayer_perceptron ran in: 0.0 sec\n",
      "multilayer_perceptron ran in: 0.0 sec\n"
     ]
    },
    {
     "name": "stderr",
     "output_type": "stream",
     "text": [
      "\r",
      " 44%|████▎     | 244/560 [00:07<00:09, 34.30it/s]"
     ]
    },
    {
     "name": "stdout",
     "output_type": "stream",
     "text": [
      "multilayer_perceptron ran in: 0.0 sec\n",
      "multilayer_perceptron ran in: 0.0 sec\n",
      "multilayer_perceptron ran in: 0.0 sec\n",
      "multilayer_perceptron ran in: 0.0 sec\n",
      "multilayer_perceptron ran in: 0.0 sec\n",
      "multilayer_perceptron ran in: 0.0 sec\n",
      "multilayer_perceptron ran in: 0.0 sec\n"
     ]
    },
    {
     "name": "stderr",
     "output_type": "stream",
     "text": [
      " 45%|████▌     | 252/560 [00:07<00:08, 34.25it/s]"
     ]
    },
    {
     "name": "stdout",
     "output_type": "stream",
     "text": [
      "multilayer_perceptron ran in: 0.0 sec\n",
      "multilayer_perceptron ran in: 0.0 sec\n",
      "multilayer_perceptron ran in: 0.0 sec\n",
      "multilayer_perceptron ran in: 0.0 sec\n",
      "multilayer_perceptron ran in: 0.015626907348632812 sec\n",
      "multilayer_perceptron ran in: 0.0 sec\n",
      "multilayer_perceptron ran in: 0.0 sec\n"
     ]
    },
    {
     "name": "stderr",
     "output_type": "stream",
     "text": [
      " 46%|████▋     | 260/560 [00:07<00:09, 33.09it/s]"
     ]
    },
    {
     "name": "stdout",
     "output_type": "stream",
     "text": [
      "multilayer_perceptron ran in: 0.0 sec\n",
      "multilayer_perceptron ran in: 0.0 sec\n",
      "multilayer_perceptron ran in: 0.0 sec\n",
      "multilayer_perceptron ran in: 0.0 sec\n",
      "multilayer_perceptron ran in: 0.0 sec\n",
      "multilayer_perceptron ran in: 0.0 sec\n",
      "multilayer_perceptron ran in: 0.0 sec\n"
     ]
    },
    {
     "name": "stderr",
     "output_type": "stream",
     "text": [
      "\r",
      " 47%|████▋     | 264/560 [00:07<00:08, 33.88it/s]"
     ]
    },
    {
     "name": "stdout",
     "output_type": "stream",
     "text": [
      "multilayer_perceptron ran in: 0.0 sec\n",
      "multilayer_perceptron ran in: 0.0 sec\n",
      "multilayer_perceptron ran in: 0.0 sec\n",
      "multilayer_perceptron ran in: 0.0 sec\n",
      "multilayer_perceptron ran in: 0.0 sec\n",
      "multilayer_perceptron ran in: 0.0 sec\n"
     ]
    },
    {
     "name": "stderr",
     "output_type": "stream",
     "text": [
      " 49%|████▊     | 272/560 [00:08<00:08, 33.63it/s]"
     ]
    },
    {
     "name": "stdout",
     "output_type": "stream",
     "text": [
      "multilayer_perceptron ran in: 0.0 sec\n",
      "multilayer_perceptron ran in: 0.0 sec\n",
      "multilayer_perceptron ran in: 0.0 sec\n",
      "multilayer_perceptron ran in: 0.0 sec\n",
      "multilayer_perceptron ran in: 0.0 sec\n",
      "multilayer_perceptron ran in: 0.0 sec\n",
      "multilayer_perceptron ran in: 0.015628576278686523 sec\n"
     ]
    },
    {
     "name": "stderr",
     "output_type": "stream",
     "text": [
      " 50%|█████     | 280/560 [00:08<00:08, 32.77it/s]"
     ]
    },
    {
     "name": "stdout",
     "output_type": "stream",
     "text": [
      "multilayer_perceptron ran in: 0.0 sec\n",
      "multilayer_perceptron ran in: 0.0 sec\n",
      "multilayer_perceptron ran in: 0.0 sec\n",
      "multilayer_perceptron ran in: 0.0 sec\n",
      "multilayer_perceptron ran in: 0.006509542465209961 sec\n",
      "multilayer_perceptron ran in: 0.0 sec\n",
      "multilayer_perceptron ran in: 0.0 sec\n",
      "multilayer_perceptron ran in: 0.0 sec\n"
     ]
    },
    {
     "name": "stderr",
     "output_type": "stream",
     "text": [
      " 51%|█████▏    | 288/560 [00:08<00:08, 33.63it/s]"
     ]
    },
    {
     "name": "stdout",
     "output_type": "stream",
     "text": [
      "multilayer_perceptron ran in: 0.0 sec\n",
      "multilayer_perceptron ran in: 0.0 sec\n",
      "multilayer_perceptron ran in: 0.0 sec\n",
      "multilayer_perceptron ran in: 0.0 sec\n",
      "multilayer_perceptron ran in: 0.0 sec\n",
      "multilayer_perceptron ran in: 0.0 sec\n",
      "multilayer_perceptron ran in: 0.0 sec\n"
     ]
    },
    {
     "name": "stderr",
     "output_type": "stream",
     "text": [
      " 53%|█████▎    | 296/560 [00:08<00:08, 32.78it/s]"
     ]
    },
    {
     "name": "stdout",
     "output_type": "stream",
     "text": [
      "multilayer_perceptron ran in: 0.015611648559570312 sec\n",
      "multilayer_perceptron ran in: 0.0 sec\n",
      "multilayer_perceptron ran in: 0.0 sec\n",
      "multilayer_perceptron ran in: 0.0 sec\n",
      "multilayer_perceptron ran in: 0.0 sec\n",
      "multilayer_perceptron ran in: 0.0 sec\n",
      "multilayer_perceptron ran in: 0.0 sec\n"
     ]
    },
    {
     "name": "stderr",
     "output_type": "stream",
     "text": [
      "\r",
      " 54%|█████▎    | 300/560 [00:08<00:07, 33.28it/s]"
     ]
    },
    {
     "name": "stdout",
     "output_type": "stream",
     "text": [
      "multilayer_perceptron ran in: 0.0 sec\n",
      "multilayer_perceptron ran in: 0.0 sec\n",
      "multilayer_perceptron ran in: 0.0 sec\n",
      "multilayer_perceptron ran in: 0.0 sec\n",
      "multilayer_perceptron ran in: 0.015615224838256836 sec\n",
      "multilayer_perceptron ran in: 0.01560831069946289 sec\n",
      "multilayer_perceptron ran in: 0.0 sec\n"
     ]
    },
    {
     "name": "stderr",
     "output_type": "stream",
     "text": [
      " 55%|█████▌    | 308/560 [00:09<00:07, 33.90it/s]"
     ]
    },
    {
     "name": "stdout",
     "output_type": "stream",
     "text": [
      "multilayer_perceptron ran in: 0.0 sec\n",
      "multilayer_perceptron ran in: 0.0 sec\n",
      "multilayer_perceptron ran in: 0.0 sec\n",
      "multilayer_perceptron ran in: 0.0 sec\n",
      "multilayer_perceptron ran in: 0.0 sec\n",
      "multilayer_perceptron ran in: 0.0 sec\n",
      "multilayer_perceptron ran in: 0.0 sec\n"
     ]
    },
    {
     "name": "stderr",
     "output_type": "stream",
     "text": [
      " 56%|█████▋    | 316/560 [00:09<00:07, 32.52it/s]"
     ]
    },
    {
     "name": "stdout",
     "output_type": "stream",
     "text": [
      "multilayer_perceptron ran in: 0.015623807907104492 sec\n",
      "multilayer_perceptron ran in: 0.01562666893005371 sec\n",
      "multilayer_perceptron ran in: 0.0 sec\n",
      "multilayer_perceptron ran in: 0.0 sec\n",
      "multilayer_perceptron ran in: 0.0 sec\n",
      "multilayer_perceptron ran in: 0.0 sec\n",
      "multilayer_perceptron ran in: 0.0 sec\n"
     ]
    },
    {
     "name": "stderr",
     "output_type": "stream",
     "text": [
      "\r",
      " 57%|█████▋    | 320/560 [00:09<00:07, 33.10it/s]"
     ]
    },
    {
     "name": "stdout",
     "output_type": "stream",
     "text": [
      "multilayer_perceptron ran in: 0.0 sec\n",
      "multilayer_perceptron ran in: 0.0 sec\n",
      "multilayer_perceptron ran in: 0.0 sec\n",
      "multilayer_perceptron ran in: 0.0 sec\n",
      "multilayer_perceptron ran in: 0.0 sec\n",
      "multilayer_perceptron ran in: 0.0 sec\n"
     ]
    },
    {
     "name": "stderr",
     "output_type": "stream",
     "text": [
      " 59%|█████▊    | 328/560 [00:09<00:07, 32.39it/s]"
     ]
    },
    {
     "name": "stdout",
     "output_type": "stream",
     "text": [
      "multilayer_perceptron ran in: 0.015610933303833008 sec\n",
      "multilayer_perceptron ran in: 0.0 sec\n",
      "multilayer_perceptron ran in: 0.0 sec\n",
      "multilayer_perceptron ran in: 0.0 sec\n",
      "multilayer_perceptron ran in: 0.01562643051147461 sec\n",
      "multilayer_perceptron ran in: 0.0 sec\n",
      "multilayer_perceptron ran in: 0.0 sec\n"
     ]
    },
    {
     "name": "stderr",
     "output_type": "stream",
     "text": [
      " 60%|██████    | 336/560 [00:10<00:06, 33.44it/s]"
     ]
    },
    {
     "name": "stdout",
     "output_type": "stream",
     "text": [
      "multilayer_perceptron ran in: 0.0 sec\n",
      "multilayer_perceptron ran in: 0.0 sec\n",
      "multilayer_perceptron ran in: 0.0 sec\n",
      "multilayer_perceptron ran in: 0.0 sec\n",
      "multilayer_perceptron ran in: 0.0 sec\n",
      "multilayer_perceptron ran in: 0.0 sec\n",
      "multilayer_perceptron ran in: 0.0 sec\n"
     ]
    },
    {
     "name": "stderr",
     "output_type": "stream",
     "text": [
      "\r",
      " 61%|██████    | 340/560 [00:10<00:06, 33.75it/s]"
     ]
    },
    {
     "name": "stdout",
     "output_type": "stream",
     "text": [
      "multilayer_perceptron ran in: 0.015627145767211914 sec\n",
      "multilayer_perceptron ran in: 0.0 sec\n",
      "multilayer_perceptron ran in: 0.0 sec\n",
      "multilayer_perceptron ran in: 0.0 sec\n",
      "multilayer_perceptron ran in: 0.0 sec\n",
      "multilayer_perceptron ran in: 0.01562809944152832 sec\n",
      "multilayer_perceptron ran in: 0.0 sec\n"
     ]
    },
    {
     "name": "stderr",
     "output_type": "stream",
     "text": [
      " 62%|██████▏   | 348/560 [00:10<00:06, 32.68it/s]"
     ]
    },
    {
     "name": "stdout",
     "output_type": "stream",
     "text": [
      "multilayer_perceptron ran in: 0.015631675720214844 sec\n",
      "multilayer_perceptron ran in: 0.0 sec\n",
      "multilayer_perceptron ran in: 0.0 sec\n",
      "multilayer_perceptron ran in: 0.0 sec\n",
      "multilayer_perceptron ran in: 0.0 sec\n",
      "multilayer_perceptron ran in: 0.0 sec\n",
      "multilayer_perceptron ran in: 0.0 sec\n"
     ]
    },
    {
     "name": "stderr",
     "output_type": "stream",
     "text": [
      " 64%|██████▎   | 356/560 [00:10<00:06, 33.59it/s]"
     ]
    },
    {
     "name": "stdout",
     "output_type": "stream",
     "text": [
      "multilayer_perceptron ran in: 0.0 sec\n",
      "multilayer_perceptron ran in: 0.01563096046447754 sec\n",
      "multilayer_perceptron ran in: 0.0 sec\n",
      "multilayer_perceptron ran in: 0.0 sec\n",
      "multilayer_perceptron ran in: 0.0 sec\n",
      "multilayer_perceptron ran in: 0.0 sec\n",
      "multilayer_perceptron ran in: 0.0 sec\n",
      "multilayer_perceptron ran in: 0.0 sec\n"
     ]
    },
    {
     "name": "stderr",
     "output_type": "stream",
     "text": [
      " 65%|██████▌   | 364/560 [00:10<00:05, 33.62it/s]"
     ]
    },
    {
     "name": "stdout",
     "output_type": "stream",
     "text": [
      "multilayer_perceptron ran in: 0.0 sec\n",
      "multilayer_perceptron ran in: 0.0 sec\n",
      "multilayer_perceptron ran in: 0.0 sec\n",
      "multilayer_perceptron ran in: 0.0 sec\n",
      "multilayer_perceptron ran in: 0.0 sec\n",
      "multilayer_perceptron ran in: 0.015633344650268555 sec\n",
      "multilayer_perceptron ran in: 0.0 sec\n"
     ]
    },
    {
     "name": "stderr",
     "output_type": "stream",
     "text": [
      " 66%|██████▋   | 372/560 [00:11<00:05, 33.81it/s]"
     ]
    },
    {
     "name": "stdout",
     "output_type": "stream",
     "text": [
      "multilayer_perceptron ran in: 0.0 sec\n",
      "multilayer_perceptron ran in: 0.0 sec\n",
      "multilayer_perceptron ran in: 0.0 sec\n",
      "multilayer_perceptron ran in: 0.0 sec\n",
      "multilayer_perceptron ran in: 0.0 sec\n",
      "multilayer_perceptron ran in: 0.0 sec\n",
      "multilayer_perceptron ran in: 0.0 sec\n"
     ]
    },
    {
     "name": "stderr",
     "output_type": "stream",
     "text": [
      "\r",
      " 67%|██████▋   | 376/560 [00:11<00:05, 34.01it/s]"
     ]
    },
    {
     "name": "stdout",
     "output_type": "stream",
     "text": [
      "multilayer_perceptron ran in: 0.0 sec\n",
      "multilayer_perceptron ran in: 0.0 sec\n",
      "multilayer_perceptron ran in: 0.0 sec\n",
      "multilayer_perceptron ran in: 0.0 sec\n",
      "multilayer_perceptron ran in: 0.0 sec\n",
      "multilayer_perceptron ran in: 0.0 sec\n"
     ]
    },
    {
     "name": "stderr",
     "output_type": "stream",
     "text": [
      " 69%|██████▊   | 384/560 [00:11<00:05, 33.33it/s]"
     ]
    },
    {
     "name": "stdout",
     "output_type": "stream",
     "text": [
      "multilayer_perceptron ran in: 0.0 sec\n",
      "multilayer_perceptron ran in: 0.0 sec\n",
      "multilayer_perceptron ran in: 0.0 sec\n",
      "multilayer_perceptron ran in: 0.0 sec\n",
      "multilayer_perceptron ran in: 0.0 sec\n",
      "multilayer_perceptron ran in: 0.0 sec\n",
      "multilayer_perceptron ran in: 0.0 sec\n",
      "multilayer_perceptron ran in: 0.0 sec\n"
     ]
    },
    {
     "name": "stderr",
     "output_type": "stream",
     "text": [
      " 70%|███████   | 392/560 [00:11<00:04, 33.92it/s]"
     ]
    },
    {
     "name": "stdout",
     "output_type": "stream",
     "text": [
      "multilayer_perceptron ran in: 0.0 sec\n",
      "multilayer_perceptron ran in: 0.0 sec\n",
      "multilayer_perceptron ran in: 0.0 sec\n",
      "multilayer_perceptron ran in: 0.015625 sec\n",
      "multilayer_perceptron ran in: 0.0 sec\n",
      "multilayer_perceptron ran in: 0.0 sec\n",
      "multilayer_perceptron ran in: 0.0 sec\n"
     ]
    },
    {
     "name": "stderr",
     "output_type": "stream",
     "text": [
      " 71%|███████▏  | 400/560 [00:11<00:04, 34.80it/s]"
     ]
    },
    {
     "name": "stdout",
     "output_type": "stream",
     "text": [
      "multilayer_perceptron ran in: 0.0 sec\n",
      "multilayer_perceptron ran in: 0.0 sec\n",
      "multilayer_perceptron ran in: 0.0 sec\n",
      "multilayer_perceptron ran in: 0.0 sec\n",
      "multilayer_perceptron ran in: 0.015625953674316406 sec\n",
      "multilayer_perceptron ran in: 0.0 sec\n",
      "multilayer_perceptron ran in: 0.0 sec\n"
     ]
    },
    {
     "name": "stderr",
     "output_type": "stream",
     "text": [
      " 73%|███████▎  | 408/560 [00:12<00:04, 34.65it/s]"
     ]
    },
    {
     "name": "stdout",
     "output_type": "stream",
     "text": [
      "multilayer_perceptron ran in: 0.0 sec\n",
      "multilayer_perceptron ran in: 0.0 sec\n",
      "multilayer_perceptron ran in: 0.0 sec\n",
      "multilayer_perceptron ran in: 0.0 sec\n",
      "multilayer_perceptron ran in: 0.0 sec\n",
      "multilayer_perceptron ran in: 0.0 sec\n",
      "multilayer_perceptron ran in: 0.0 sec\n"
     ]
    },
    {
     "name": "stderr",
     "output_type": "stream",
     "text": [
      "\r",
      " 74%|███████▎  | 412/560 [00:12<00:04, 33.26it/s]"
     ]
    },
    {
     "name": "stdout",
     "output_type": "stream",
     "text": [
      "multilayer_perceptron ran in: 0.0 sec\n",
      "multilayer_perceptron ran in: 0.006523847579956055 sec\n",
      "multilayer_perceptron ran in: 0.0 sec\n",
      "multilayer_perceptron ran in: 0.0 sec\n",
      "multilayer_perceptron ran in: 0.0 sec\n",
      "multilayer_perceptron ran in: 0.0 sec\n",
      "multilayer_perceptron ran in: 0.0 sec\n"
     ]
    },
    {
     "name": "stderr",
     "output_type": "stream",
     "text": [
      " 75%|███████▌  | 420/560 [00:12<00:04, 34.69it/s]"
     ]
    },
    {
     "name": "stdout",
     "output_type": "stream",
     "text": [
      "multilayer_perceptron ran in: 0.0 sec\n",
      "multilayer_perceptron ran in: 0.0 sec\n",
      "multilayer_perceptron ran in: 0.0 sec\n",
      "multilayer_perceptron ran in: 0.0 sec\n",
      "multilayer_perceptron ran in: 0.0 sec\n",
      "multilayer_perceptron ran in: 0.0 sec\n",
      "multilayer_perceptron ran in: 0.0 sec\n"
     ]
    },
    {
     "name": "stderr",
     "output_type": "stream",
     "text": [
      " 76%|███████▋  | 428/560 [00:12<00:03, 33.24it/s]"
     ]
    },
    {
     "name": "stdout",
     "output_type": "stream",
     "text": [
      "multilayer_perceptron ran in: 0.0 sec\n",
      "multilayer_perceptron ran in: 0.0 sec\n",
      "multilayer_perceptron ran in: 0.0 sec\n",
      "multilayer_perceptron ran in: 0.0 sec\n",
      "multilayer_perceptron ran in: 0.0 sec\n",
      "multilayer_perceptron ran in: 0.0 sec\n",
      "multilayer_perceptron ran in: 0.0 sec\n"
     ]
    },
    {
     "name": "stderr",
     "output_type": "stream",
     "text": [
      "\r",
      " 77%|███████▋  | 432/560 [00:12<00:03, 33.61it/s]"
     ]
    },
    {
     "name": "stdout",
     "output_type": "stream",
     "text": [
      "multilayer_perceptron ran in: 0.0 sec\n",
      "multilayer_perceptron ran in: 0.015650272369384766 sec\n",
      "multilayer_perceptron ran in: 0.0 sec\n",
      "multilayer_perceptron ran in: 0.0 sec\n",
      "multilayer_perceptron ran in: 0.0 sec\n",
      "multilayer_perceptron ran in: 0.01562976837158203 sec\n",
      "multilayer_perceptron ran in: 0.0 sec\n"
     ]
    },
    {
     "name": "stderr",
     "output_type": "stream",
     "text": [
      " 79%|███████▊  | 440/560 [00:13<00:03, 34.06it/s]"
     ]
    },
    {
     "name": "stdout",
     "output_type": "stream",
     "text": [
      "multilayer_perceptron ran in: 0.0 sec\n",
      "multilayer_perceptron ran in: 0.0 sec\n",
      "multilayer_perceptron ran in: 0.0 sec\n",
      "multilayer_perceptron ran in: 0.0 sec\n",
      "multilayer_perceptron ran in: 0.0 sec\n",
      "multilayer_perceptron ran in: 0.0 sec\n",
      "multilayer_perceptron ran in: 0.0 sec\n",
      "multilayer_perceptron ran in: 0.0 sec\n"
     ]
    },
    {
     "name": "stderr",
     "output_type": "stream",
     "text": [
      " 80%|████████  | 448/560 [00:13<00:03, 33.49it/s]"
     ]
    },
    {
     "name": "stdout",
     "output_type": "stream",
     "text": [
      "multilayer_perceptron ran in: 0.0 sec\n",
      "multilayer_perceptron ran in: 0.0 sec\n",
      "multilayer_perceptron ran in: 0.0 sec\n",
      "multilayer_perceptron ran in: 0.0 sec\n",
      "multilayer_perceptron ran in: 0.0 sec\n",
      "multilayer_perceptron ran in: 0.0 sec\n",
      "multilayer_perceptron ran in: 0.0 sec\n"
     ]
    },
    {
     "name": "stderr",
     "output_type": "stream",
     "text": [
      " 81%|████████▏ | 456/560 [00:13<00:03, 34.00it/s]"
     ]
    },
    {
     "name": "stdout",
     "output_type": "stream",
     "text": [
      "multilayer_perceptron ran in: 0.0 sec\n",
      "multilayer_perceptron ran in: 0.0 sec\n",
      "multilayer_perceptron ran in: 0.0 sec\n",
      "multilayer_perceptron ran in: 0.0 sec\n",
      "multilayer_perceptron ran in: 0.0 sec\n",
      "multilayer_perceptron ran in: 0.0 sec\n",
      "multilayer_perceptron ran in: 0.0 sec\n",
      "multilayer_perceptron ran in: 0.0 sec\n"
     ]
    },
    {
     "name": "stderr",
     "output_type": "stream",
     "text": [
      " 83%|████████▎ | 464/560 [00:13<00:02, 35.16it/s]"
     ]
    },
    {
     "name": "stdout",
     "output_type": "stream",
     "text": [
      "multilayer_perceptron ran in: 0.0 sec\n",
      "multilayer_perceptron ran in: 0.0 sec\n",
      "multilayer_perceptron ran in: 0.0 sec\n",
      "multilayer_perceptron ran in: 0.0 sec\n",
      "multilayer_perceptron ran in: 0.0 sec\n",
      "multilayer_perceptron ran in: 0.0 sec\n",
      "multilayer_perceptron ran in: 0.0 sec\n"
     ]
    },
    {
     "name": "stderr",
     "output_type": "stream",
     "text": [
      " 84%|████████▍ | 472/560 [00:14<00:02, 34.79it/s]"
     ]
    },
    {
     "name": "stdout",
     "output_type": "stream",
     "text": [
      "multilayer_perceptron ran in: 0.0 sec\n",
      "multilayer_perceptron ran in: 0.01562643051147461 sec\n",
      "multilayer_perceptron ran in: 0.0 sec\n",
      "multilayer_perceptron ran in: 0.0 sec\n",
      "multilayer_perceptron ran in: 0.0 sec\n",
      "multilayer_perceptron ran in: 0.0 sec\n",
      "multilayer_perceptron ran in: 0.0 sec\n"
     ]
    },
    {
     "name": "stderr",
     "output_type": "stream",
     "text": [
      "\r",
      " 85%|████████▌ | 476/560 [00:14<00:02, 33.35it/s]"
     ]
    },
    {
     "name": "stdout",
     "output_type": "stream",
     "text": [
      "multilayer_perceptron ran in: 0.0 sec\n",
      "multilayer_perceptron ran in: 0.0 sec\n",
      "multilayer_perceptron ran in: 0.0 sec\n",
      "multilayer_perceptron ran in: 0.0 sec\n",
      "multilayer_perceptron ran in: 0.0 sec\n",
      "multilayer_perceptron ran in: 0.015651464462280273 sec\n",
      "multilayer_perceptron ran in: 0.0 sec\n"
     ]
    },
    {
     "name": "stderr",
     "output_type": "stream",
     "text": [
      " 86%|████████▋ | 484/560 [00:14<00:02, 33.93it/s]"
     ]
    },
    {
     "name": "stdout",
     "output_type": "stream",
     "text": [
      "multilayer_perceptron ran in: 0.0 sec\n",
      "multilayer_perceptron ran in: 0.0 sec\n",
      "multilayer_perceptron ran in: 0.0 sec\n",
      "multilayer_perceptron ran in: 0.0 sec\n",
      "multilayer_perceptron ran in: 0.0 sec\n",
      "multilayer_perceptron ran in: 0.0 sec\n",
      "multilayer_perceptron ran in: 0.0 sec\n",
      "multilayer_perceptron ran in: 0.0 sec\n"
     ]
    },
    {
     "name": "stderr",
     "output_type": "stream",
     "text": [
      " 88%|████████▊ | 492/560 [00:14<00:01, 35.04it/s]"
     ]
    },
    {
     "name": "stdout",
     "output_type": "stream",
     "text": [
      "multilayer_perceptron ran in: 0.0 sec\n",
      "multilayer_perceptron ran in: 0.0 sec\n",
      "multilayer_perceptron ran in: 0.0 sec\n",
      "multilayer_perceptron ran in: 0.0 sec\n",
      "multilayer_perceptron ran in: 0.0 sec\n",
      "multilayer_perceptron ran in: 0.0 sec\n",
      "multilayer_perceptron ran in: 0.0 sec\n"
     ]
    },
    {
     "name": "stderr",
     "output_type": "stream",
     "text": [
      " 89%|████████▉ | 500/560 [00:14<00:01, 33.80it/s]"
     ]
    },
    {
     "name": "stdout",
     "output_type": "stream",
     "text": [
      "multilayer_perceptron ran in: 0.0 sec\n",
      "multilayer_perceptron ran in: 0.0 sec\n",
      "multilayer_perceptron ran in: 0.0 sec\n",
      "multilayer_perceptron ran in: 0.0 sec\n",
      "multilayer_perceptron ran in: 0.0 sec\n",
      "multilayer_perceptron ran in: 0.0 sec\n",
      "multilayer_perceptron ran in: 0.0 sec\n"
     ]
    },
    {
     "name": "stderr",
     "output_type": "stream",
     "text": [
      " 91%|█████████ | 508/560 [00:15<00:01, 34.16it/s]"
     ]
    },
    {
     "name": "stdout",
     "output_type": "stream",
     "text": [
      "multilayer_perceptron ran in: 0.01565074920654297 sec\n",
      "multilayer_perceptron ran in: 0.0 sec\n",
      "multilayer_perceptron ran in: 0.0 sec\n",
      "multilayer_perceptron ran in: 0.0 sec\n",
      "multilayer_perceptron ran in: 0.015633344650268555 sec\n",
      "multilayer_perceptron ran in: 0.0 sec\n",
      "multilayer_perceptron ran in: 0.0 sec\n",
      "multilayer_perceptron ran in: 0.0 sec\n"
     ]
    },
    {
     "name": "stderr",
     "output_type": "stream",
     "text": [
      " 92%|█████████▏| 516/560 [00:15<00:01, 35.16it/s]"
     ]
    },
    {
     "name": "stdout",
     "output_type": "stream",
     "text": [
      "multilayer_perceptron ran in: 0.0 sec\n",
      "multilayer_perceptron ran in: 0.015624523162841797 sec\n",
      "multilayer_perceptron ran in: 0.0 sec\n",
      "multilayer_perceptron ran in: 0.0 sec\n",
      "multilayer_perceptron ran in: 0.0 sec\n",
      "multilayer_perceptron ran in: 0.0 sec\n",
      "multilayer_perceptron ran in: 0.0 sec\n"
     ]
    },
    {
     "name": "stderr",
     "output_type": "stream",
     "text": [
      " 94%|█████████▎| 524/560 [00:15<00:01, 34.82it/s]"
     ]
    },
    {
     "name": "stdout",
     "output_type": "stream",
     "text": [
      "multilayer_perceptron ran in: 0.0 sec\n",
      "multilayer_perceptron ran in: 0.0 sec\n",
      "multilayer_perceptron ran in: 0.0 sec\n",
      "multilayer_perceptron ran in: 0.0 sec\n",
      "multilayer_perceptron ran in: 0.0 sec\n",
      "multilayer_perceptron ran in: 0.0 sec\n",
      "multilayer_perceptron ran in: 0.0 sec\n",
      "multilayer_perceptron ran in: 0.0 sec\n"
     ]
    },
    {
     "name": "stderr",
     "output_type": "stream",
     "text": [
      " 95%|█████████▌| 532/560 [00:15<00:00, 34.27it/s]"
     ]
    },
    {
     "name": "stdout",
     "output_type": "stream",
     "text": [
      "multilayer_perceptron ran in: 0.0 sec\n",
      "multilayer_perceptron ran in: 0.0 sec\n",
      "multilayer_perceptron ran in: 0.0 sec\n",
      "multilayer_perceptron ran in: 0.0 sec\n",
      "multilayer_perceptron ran in: 0.0 sec\n",
      "multilayer_perceptron ran in: 0.0 sec\n",
      "multilayer_perceptron ran in: 0.0 sec\n"
     ]
    },
    {
     "name": "stderr",
     "output_type": "stream",
     "text": [
      "\r",
      " 96%|█████████▌| 536/560 [00:15<00:00, 33.38it/s]"
     ]
    },
    {
     "name": "stdout",
     "output_type": "stream",
     "text": [
      "multilayer_perceptron ran in: 0.0 sec\n",
      "multilayer_perceptron ran in: 0.0 sec\n",
      "multilayer_perceptron ran in: 0.0 sec\n",
      "multilayer_perceptron ran in: 0.0 sec\n",
      "multilayer_perceptron ran in: 0.0 sec\n",
      "multilayer_perceptron ran in: 0.0 sec\n",
      "multilayer_perceptron ran in: 0.0 sec\n"
     ]
    },
    {
     "name": "stderr",
     "output_type": "stream",
     "text": [
      " 97%|█████████▋| 544/560 [00:16<00:00, 34.51it/s]"
     ]
    },
    {
     "name": "stdout",
     "output_type": "stream",
     "text": [
      "multilayer_perceptron ran in: 0.0 sec\n",
      "multilayer_perceptron ran in: 0.0 sec\n",
      "multilayer_perceptron ran in: 0.0 sec\n",
      "multilayer_perceptron ran in: 0.0 sec\n",
      "multilayer_perceptron ran in: 0.0 sec\n",
      "multilayer_perceptron ran in: 0.0 sec\n",
      "multilayer_perceptron ran in: 0.0 sec\n"
     ]
    },
    {
     "name": "stderr",
     "output_type": "stream",
     "text": [
      " 99%|█████████▊| 552/560 [00:16<00:00, 34.51it/s]"
     ]
    },
    {
     "name": "stdout",
     "output_type": "stream",
     "text": [
      "multilayer_perceptron ran in: 0.0 sec\n",
      "multilayer_perceptron ran in: 0.0 sec\n",
      "multilayer_perceptron ran in: 0.0 sec\n",
      "multilayer_perceptron ran in: 0.0 sec\n",
      "multilayer_perceptron ran in: 0.0 sec\n",
      "multilayer_perceptron ran in: 0.0 sec\n",
      "multilayer_perceptron ran in: 0.0 sec\n"
     ]
    },
    {
     "name": "stderr",
     "output_type": "stream",
     "text": [
      "100%|██████████| 560/560 [00:16<00:00, 34.51it/s]"
     ]
    },
    {
     "name": "stdout",
     "output_type": "stream",
     "text": [
      "multilayer_perceptron ran in: 0.006516933441162109 sec\n",
      "multilayer_perceptron ran in: 0.0 sec\n",
      "multilayer_perceptron ran in: 0.0 sec\n",
      "multilayer_perceptron ran in: 0.0 sec\n",
      "multilayer_perceptron ran in: 0.01565265655517578 sec\n",
      "multilayer_perceptron ran in: 0.0 sec\n",
      "multilayer_perceptron ran in: 0.0 sec\n"
     ]
    },
    {
     "name": "stderr",
     "output_type": "stream",
     "text": [
      "100%|██████████| 560/560 [00:16<00:00, 33.64it/s]\n"
     ]
    },
    {
     "name": "stdout",
     "output_type": "stream",
     "text": [
      "Epoch: 6 Cost=62908.8359\n"
     ]
    },
    {
     "name": "stderr",
     "output_type": "stream",
     "text": [
      "  1%|          | 4/560 [00:00<00:14, 37.44it/s]"
     ]
    },
    {
     "name": "stdout",
     "output_type": "stream",
     "text": [
      "multilayer_perceptron ran in: 0.0 sec\n",
      "multilayer_perceptron ran in: 0.0 sec\n",
      "multilayer_perceptron ran in: 0.0 sec\n",
      "multilayer_perceptron ran in: 0.015644550323486328 sec\n",
      "multilayer_perceptron ran in: 0.0 sec\n",
      "multilayer_perceptron ran in: 0.0 sec\n",
      "multilayer_perceptron ran in: 0.0 sec\n",
      "multilayer_perceptron ran in: 0.0 sec\n"
     ]
    },
    {
     "name": "stderr",
     "output_type": "stream",
     "text": [
      "  2%|▏         | 12/560 [00:00<00:16, 33.65it/s]"
     ]
    },
    {
     "name": "stdout",
     "output_type": "stream",
     "text": [
      "multilayer_perceptron ran in: 0.0 sec\n",
      "multilayer_perceptron ran in: 0.0 sec\n",
      "multilayer_perceptron ran in: 0.006509304046630859 sec\n",
      "multilayer_perceptron ran in: 0.0 sec\n",
      "multilayer_perceptron ran in: 0.0 sec\n",
      "multilayer_perceptron ran in: 0.0 sec\n",
      "multilayer_perceptron ran in: 0.015650033950805664 sec\n",
      "multilayer_perceptron ran in: 0.0 sec\n"
     ]
    },
    {
     "name": "stderr",
     "output_type": "stream",
     "text": [
      "  4%|▎         | 20/560 [00:00<00:15, 34.17it/s]"
     ]
    },
    {
     "name": "stdout",
     "output_type": "stream",
     "text": [
      "multilayer_perceptron ran in: 0.0 sec\n",
      "multilayer_perceptron ran in: 0.0 sec\n",
      "multilayer_perceptron ran in: 0.0 sec\n",
      "multilayer_perceptron ran in: 0.0 sec\n",
      "multilayer_perceptron ran in: 0.0 sec\n",
      "multilayer_perceptron ran in: 0.0 sec\n",
      "multilayer_perceptron ran in: 0.0 sec\n"
     ]
    },
    {
     "name": "stderr",
     "output_type": "stream",
     "text": [
      "  5%|▌         | 28/560 [00:00<00:15, 33.92it/s]"
     ]
    },
    {
     "name": "stdout",
     "output_type": "stream",
     "text": [
      "multilayer_perceptron ran in: 0.0 sec\n",
      "multilayer_perceptron ran in: 0.0 sec\n",
      "multilayer_perceptron ran in: 0.0 sec\n",
      "multilayer_perceptron ran in: 0.0 sec\n",
      "multilayer_perceptron ran in: 0.0 sec\n",
      "multilayer_perceptron ran in: 0.0 sec\n",
      "multilayer_perceptron ran in: 0.0 sec\n",
      "multilayer_perceptron ran in: 0.0 sec\n"
     ]
    },
    {
     "name": "stderr",
     "output_type": "stream",
     "text": [
      "  6%|▋         | 36/560 [00:01<00:15, 34.23it/s]"
     ]
    },
    {
     "name": "stdout",
     "output_type": "stream",
     "text": [
      "multilayer_perceptron ran in: 0.0 sec\n",
      "multilayer_perceptron ran in: 0.0 sec\n",
      "multilayer_perceptron ran in: 0.0 sec\n",
      "multilayer_perceptron ran in: 0.0 sec\n",
      "multilayer_perceptron ran in: 0.01563858985900879 sec\n",
      "multilayer_perceptron ran in: 0.0 sec\n",
      "multilayer_perceptron ran in: 0.0 sec\n"
     ]
    },
    {
     "name": "stderr",
     "output_type": "stream",
     "text": [
      "  8%|▊         | 44/560 [00:01<00:14, 34.53it/s]"
     ]
    },
    {
     "name": "stdout",
     "output_type": "stream",
     "text": [
      "multilayer_perceptron ran in: 0.0 sec\n",
      "multilayer_perceptron ran in: 0.0 sec\n",
      "multilayer_perceptron ran in: 0.0 sec\n",
      "multilayer_perceptron ran in: 0.0 sec\n",
      "multilayer_perceptron ran in: 0.0 sec\n",
      "multilayer_perceptron ran in: 0.0 sec\n",
      "multilayer_perceptron ran in: 0.0 sec\n",
      "multilayer_perceptron ran in: 0.0 sec\n"
     ]
    },
    {
     "name": "stderr",
     "output_type": "stream",
     "text": [
      "  9%|▉         | 52/560 [00:01<00:14, 34.11it/s]"
     ]
    },
    {
     "name": "stdout",
     "output_type": "stream",
     "text": [
      "multilayer_perceptron ran in: 0.0 sec\n",
      "multilayer_perceptron ran in: 0.0 sec\n",
      "multilayer_perceptron ran in: 0.0 sec\n",
      "multilayer_perceptron ran in: 0.0 sec\n",
      "multilayer_perceptron ran in: 0.0 sec\n",
      "multilayer_perceptron ran in: 0.0 sec\n",
      "multilayer_perceptron ran in: 0.015651702880859375 sec\n"
     ]
    },
    {
     "name": "stderr",
     "output_type": "stream",
     "text": [
      "\r",
      " 10%|█         | 56/560 [00:01<00:14, 34.23it/s]"
     ]
    },
    {
     "name": "stdout",
     "output_type": "stream",
     "text": [
      "multilayer_perceptron ran in: 0.0 sec\n",
      "multilayer_perceptron ran in: 0.0 sec\n",
      "multilayer_perceptron ran in: 0.0 sec\n",
      "multilayer_perceptron ran in: 0.0 sec\n",
      "multilayer_perceptron ran in: 0.0 sec\n",
      "multilayer_perceptron ran in: 0.0 sec\n",
      "multilayer_perceptron ran in: 0.0 sec\n"
     ]
    },
    {
     "name": "stderr",
     "output_type": "stream",
     "text": [
      " 11%|█▏        | 64/560 [00:01<00:14, 34.37it/s]"
     ]
    },
    {
     "name": "stdout",
     "output_type": "stream",
     "text": [
      "multilayer_perceptron ran in: 0.0 sec\n",
      "multilayer_perceptron ran in: 0.0 sec\n",
      "multilayer_perceptron ran in: 0.0 sec\n",
      "multilayer_perceptron ran in: 0.0 sec\n",
      "multilayer_perceptron ran in: 0.0 sec\n",
      "multilayer_perceptron ran in: 0.0 sec\n",
      "multilayer_perceptron ran in: 0.0 sec\n"
     ]
    },
    {
     "name": "stderr",
     "output_type": "stream",
     "text": [
      " 13%|█▎        | 72/560 [00:02<00:14, 33.87it/s]"
     ]
    },
    {
     "name": "stdout",
     "output_type": "stream",
     "text": [
      "multilayer_perceptron ran in: 0.0 sec\n",
      "multilayer_perceptron ran in: 0.0 sec\n",
      "multilayer_perceptron ran in: 0.015639543533325195 sec\n",
      "multilayer_perceptron ran in: 0.0 sec\n",
      "multilayer_perceptron ran in: 0.0 sec\n",
      "multilayer_perceptron ran in: 0.0 sec\n",
      "multilayer_perceptron ran in: 0.0 sec\n"
     ]
    },
    {
     "name": "stderr",
     "output_type": "stream",
     "text": [
      " 14%|█▍        | 80/560 [00:02<00:14, 34.19it/s]"
     ]
    },
    {
     "name": "stdout",
     "output_type": "stream",
     "text": [
      "multilayer_perceptron ran in: 0.015631914138793945 sec\n",
      "multilayer_perceptron ran in: 0.0 sec\n",
      "multilayer_perceptron ran in: 0.0 sec\n",
      "multilayer_perceptron ran in: 0.0 sec\n",
      "multilayer_perceptron ran in: 0.015624761581420898 sec\n",
      "multilayer_perceptron ran in: 0.0 sec\n",
      "multilayer_perceptron ran in: 0.0 sec\n"
     ]
    },
    {
     "name": "stderr",
     "output_type": "stream",
     "text": [
      " 16%|█▌        | 88/560 [00:02<00:13, 34.35it/s]"
     ]
    },
    {
     "name": "stdout",
     "output_type": "stream",
     "text": [
      "multilayer_perceptron ran in: 0.0 sec\n",
      "multilayer_perceptron ran in: 0.0 sec\n",
      "multilayer_perceptron ran in: 0.0 sec\n",
      "multilayer_perceptron ran in: 0.0 sec\n",
      "multilayer_perceptron ran in: 0.0 sec\n",
      "multilayer_perceptron ran in: 0.0 sec\n",
      "multilayer_perceptron ran in: 0.0 sec\n"
     ]
    },
    {
     "name": "stderr",
     "output_type": "stream",
     "text": [
      "\r",
      " 16%|█▋        | 92/560 [00:02<00:14, 33.07it/s]"
     ]
    },
    {
     "name": "stdout",
     "output_type": "stream",
     "text": [
      "multilayer_perceptron ran in: 0.0 sec\n",
      "multilayer_perceptron ran in: 0.0 sec\n",
      "multilayer_perceptron ran in: 0.0 sec\n",
      "multilayer_perceptron ran in: 0.0 sec\n",
      "multilayer_perceptron ran in: 0.0 sec\n",
      "multilayer_perceptron ran in: 0.01562666893005371 sec\n",
      "multilayer_perceptron ran in: 0.0 sec\n"
     ]
    },
    {
     "name": "stderr",
     "output_type": "stream",
     "text": [
      " 18%|█▊        | 100/560 [00:02<00:13, 34.34it/s]"
     ]
    },
    {
     "name": "stdout",
     "output_type": "stream",
     "text": [
      "multilayer_perceptron ran in: 0.0 sec\n",
      "multilayer_perceptron ran in: 0.0 sec\n",
      "multilayer_perceptron ran in: 0.0 sec\n",
      "multilayer_perceptron ran in: 0.015625715255737305 sec\n",
      "multilayer_perceptron ran in: 0.0 sec\n",
      "multilayer_perceptron ran in: 0.0 sec\n",
      "multilayer_perceptron ran in: 0.0 sec\n"
     ]
    },
    {
     "name": "stderr",
     "output_type": "stream",
     "text": [
      " 19%|█▉        | 108/560 [00:03<00:13, 33.67it/s]"
     ]
    },
    {
     "name": "stdout",
     "output_type": "stream",
     "text": [
      "multilayer_perceptron ran in: 0.015631914138793945 sec\n",
      "multilayer_perceptron ran in: 0.0 sec\n",
      "multilayer_perceptron ran in: 0.0 sec\n",
      "multilayer_perceptron ran in: 0.0 sec\n",
      "multilayer_perceptron ran in: 0.0 sec\n",
      "multilayer_perceptron ran in: 0.0 sec\n",
      "multilayer_perceptron ran in: 0.015630245208740234 sec\n"
     ]
    },
    {
     "name": "stderr",
     "output_type": "stream",
     "text": [
      "\r",
      " 20%|██        | 112/560 [00:03<00:13, 33.37it/s]"
     ]
    },
    {
     "name": "stdout",
     "output_type": "stream",
     "text": [
      "multilayer_perceptron ran in: 0.0 sec\n",
      "multilayer_perceptron ran in: 0.0 sec\n",
      "multilayer_perceptron ran in: 0.0 sec\n",
      "multilayer_perceptron ran in: 0.0 sec\n",
      "multilayer_perceptron ran in: 0.0 sec\n",
      "multilayer_perceptron ran in: 0.01562976837158203 sec\n",
      "multilayer_perceptron ran in: 0.0 sec\n"
     ]
    },
    {
     "name": "stderr",
     "output_type": "stream",
     "text": [
      " 21%|██▏       | 120/560 [00:03<00:12, 34.74it/s]"
     ]
    },
    {
     "name": "stdout",
     "output_type": "stream",
     "text": [
      "multilayer_perceptron ran in: 0.0 sec\n",
      "multilayer_perceptron ran in: 0.0 sec\n",
      "multilayer_perceptron ran in: 0.0 sec\n",
      "multilayer_perceptron ran in: 0.01562643051147461 sec\n",
      "multilayer_perceptron ran in: 0.0 sec\n",
      "multilayer_perceptron ran in: 0.0 sec\n",
      "multilayer_perceptron ran in: 0.0 sec\n"
     ]
    },
    {
     "name": "stderr",
     "output_type": "stream",
     "text": [
      " 23%|██▎       | 128/560 [00:03<00:12, 33.67it/s]"
     ]
    },
    {
     "name": "stdout",
     "output_type": "stream",
     "text": [
      "multilayer_perceptron ran in: 0.0 sec\n",
      "multilayer_perceptron ran in: 0.0 sec\n",
      "multilayer_perceptron ran in: 0.0 sec\n",
      "multilayer_perceptron ran in: 0.0 sec\n",
      "multilayer_perceptron ran in: 0.0 sec\n",
      "multilayer_perceptron ran in: 0.0 sec\n",
      "multilayer_perceptron ran in: 0.0 sec\n"
     ]
    },
    {
     "name": "stderr",
     "output_type": "stream",
     "text": [
      " 24%|██▍       | 136/560 [00:03<00:12, 34.09it/s]"
     ]
    },
    {
     "name": "stdout",
     "output_type": "stream",
     "text": [
      "multilayer_perceptron ran in: 0.01563858985900879 sec\n",
      "multilayer_perceptron ran in: 0.0 sec\n",
      "multilayer_perceptron ran in: 0.0 sec\n",
      "multilayer_perceptron ran in: 0.0 sec\n",
      "multilayer_perceptron ran in: 0.0 sec\n",
      "multilayer_perceptron ran in: 0.0 sec\n",
      "multilayer_perceptron ran in: 0.0 sec\n",
      "multilayer_perceptron ran in: 0.0 sec\n"
     ]
    },
    {
     "name": "stderr",
     "output_type": "stream",
     "text": [
      " 26%|██▌       | 144/560 [00:04<00:11, 35.12it/s]"
     ]
    },
    {
     "name": "stdout",
     "output_type": "stream",
     "text": [
      "multilayer_perceptron ran in: 0.0 sec\n",
      "multilayer_perceptron ran in: 0.0 sec\n",
      "multilayer_perceptron ran in: 0.0 sec\n",
      "multilayer_perceptron ran in: 0.0 sec\n",
      "multilayer_perceptron ran in: 0.0 sec\n",
      "multilayer_perceptron ran in: 0.0 sec\n",
      "multilayer_perceptron ran in: 0.0 sec\n"
     ]
    },
    {
     "name": "stderr",
     "output_type": "stream",
     "text": [
      " 27%|██▋       | 152/560 [00:04<00:12, 33.84it/s]"
     ]
    },
    {
     "name": "stdout",
     "output_type": "stream",
     "text": [
      "multilayer_perceptron ran in: 0.0 sec\n",
      "multilayer_perceptron ran in: 0.0 sec\n",
      "multilayer_perceptron ran in: 0.0 sec\n",
      "multilayer_perceptron ran in: 0.0 sec\n",
      "multilayer_perceptron ran in: 0.0 sec\n",
      "multilayer_perceptron ran in: 0.0 sec\n",
      "multilayer_perceptron ran in: 0.0 sec\n"
     ]
    },
    {
     "name": "stderr",
     "output_type": "stream",
     "text": [
      "\r",
      " 28%|██▊       | 156/560 [00:04<00:11, 34.04it/s]"
     ]
    },
    {
     "name": "stdout",
     "output_type": "stream",
     "text": [
      "multilayer_perceptron ran in: 0.0 sec\n",
      "multilayer_perceptron ran in: 0.0 sec\n",
      "multilayer_perceptron ran in: 0.0 sec\n",
      "multilayer_perceptron ran in: 0.0 sec\n",
      "multilayer_perceptron ran in: 0.0 sec\n",
      "multilayer_perceptron ran in: 0.0 sec\n",
      "multilayer_perceptron ran in: 0.0 sec\n"
     ]
    },
    {
     "name": "stderr",
     "output_type": "stream",
     "text": [
      " 29%|██▉       | 164/560 [00:04<00:11, 34.28it/s]"
     ]
    },
    {
     "name": "stdout",
     "output_type": "stream",
     "text": [
      "multilayer_perceptron ran in: 0.0 sec\n",
      "multilayer_perceptron ran in: 0.0 sec\n",
      "multilayer_perceptron ran in: 0.0 sec\n",
      "multilayer_perceptron ran in: 0.0 sec\n",
      "multilayer_perceptron ran in: 0.0 sec\n",
      "multilayer_perceptron ran in: 0.0 sec\n",
      "multilayer_perceptron ran in: 0.0 sec\n"
     ]
    },
    {
     "name": "stderr",
     "output_type": "stream",
     "text": [
      " 31%|███       | 172/560 [00:05<00:11, 34.97it/s]"
     ]
    },
    {
     "name": "stdout",
     "output_type": "stream",
     "text": [
      "multilayer_perceptron ran in: 0.0 sec\n",
      "multilayer_perceptron ran in: 0.0 sec\n",
      "multilayer_perceptron ran in: 0.0 sec\n",
      "multilayer_perceptron ran in: 0.0 sec\n",
      "multilayer_perceptron ran in: 0.0 sec\n",
      "multilayer_perceptron ran in: 0.0 sec\n",
      "multilayer_perceptron ran in: 0.0 sec\n"
     ]
    },
    {
     "name": "stderr",
     "output_type": "stream",
     "text": [
      "\r",
      " 31%|███▏      | 176/560 [00:05<00:11, 34.23it/s]"
     ]
    },
    {
     "name": "stdout",
     "output_type": "stream",
     "text": [
      "multilayer_perceptron ran in: 0.0 sec\n",
      "multilayer_perceptron ran in: 0.00652313232421875 sec\n",
      "multilayer_perceptron ran in: 0.0 sec\n",
      "multilayer_perceptron ran in: 0.0 sec\n",
      "multilayer_perceptron ran in: 0.0 sec\n",
      "multilayer_perceptron ran in: 0.0 sec\n",
      "multilayer_perceptron ran in: 0.015622138977050781 sec\n"
     ]
    },
    {
     "name": "stderr",
     "output_type": "stream",
     "text": [
      " 33%|███▎      | 184/560 [00:05<00:11, 33.82it/s]"
     ]
    },
    {
     "name": "stdout",
     "output_type": "stream",
     "text": [
      "multilayer_perceptron ran in: 0.01563286781311035 sec\n",
      "multilayer_perceptron ran in: 0.0 sec\n",
      "multilayer_perceptron ran in: 0.0 sec\n",
      "multilayer_perceptron ran in: 0.0 sec\n",
      "multilayer_perceptron ran in: 0.0 sec\n",
      "multilayer_perceptron ran in: 0.0 sec\n",
      "multilayer_perceptron ran in: 0.0 sec\n"
     ]
    },
    {
     "name": "stderr",
     "output_type": "stream",
     "text": [
      " 34%|███▍      | 192/560 [00:05<00:10, 33.77it/s]"
     ]
    },
    {
     "name": "stdout",
     "output_type": "stream",
     "text": [
      "multilayer_perceptron ran in: 0.0 sec\n",
      "multilayer_perceptron ran in: 0.0 sec\n",
      "multilayer_perceptron ran in: 0.0 sec\n",
      "multilayer_perceptron ran in: 0.0 sec\n",
      "multilayer_perceptron ran in: 0.0 sec\n",
      "multilayer_perceptron ran in: 0.0 sec\n",
      "multilayer_perceptron ran in: 0.0 sec\n",
      "multilayer_perceptron ran in: 0.0 sec\n"
     ]
    },
    {
     "name": "stderr",
     "output_type": "stream",
     "text": [
      " 36%|███▌      | 200/560 [00:05<00:10, 34.14it/s]"
     ]
    },
    {
     "name": "stdout",
     "output_type": "stream",
     "text": [
      "multilayer_perceptron ran in: 0.0 sec\n",
      "multilayer_perceptron ran in: 0.0 sec\n",
      "multilayer_perceptron ran in: 0.0 sec\n",
      "multilayer_perceptron ran in: 0.0 sec\n",
      "multilayer_perceptron ran in: 0.0 sec\n",
      "multilayer_perceptron ran in: 0.0 sec\n",
      "multilayer_perceptron ran in: 0.0 sec\n"
     ]
    },
    {
     "name": "stderr",
     "output_type": "stream",
     "text": [
      " 37%|███▋      | 208/560 [00:06<00:10, 34.33it/s]"
     ]
    },
    {
     "name": "stdout",
     "output_type": "stream",
     "text": [
      "multilayer_perceptron ran in: 0.0 sec\n",
      "multilayer_perceptron ran in: 0.0 sec\n",
      "multilayer_perceptron ran in: 0.0 sec\n",
      "multilayer_perceptron ran in: 0.0 sec\n",
      "multilayer_perceptron ran in: 0.0 sec\n",
      "multilayer_perceptron ran in: 0.0 sec\n",
      "multilayer_perceptron ran in: 0.0 sec\n",
      "multilayer_perceptron ran in: 0.0 sec\n"
     ]
    },
    {
     "name": "stderr",
     "output_type": "stream",
     "text": [
      " 39%|███▊      | 216/560 [00:06<00:10, 34.04it/s]"
     ]
    },
    {
     "name": "stdout",
     "output_type": "stream",
     "text": [
      "multilayer_perceptron ran in: 0.0 sec\n",
      "multilayer_perceptron ran in: 0.0 sec\n",
      "multilayer_perceptron ran in: 0.0 sec\n",
      "multilayer_perceptron ran in: 0.0 sec\n",
      "multilayer_perceptron ran in: 0.0 sec\n",
      "multilayer_perceptron ran in: 0.0 sec\n",
      "multilayer_perceptron ran in: 0.0 sec\n"
     ]
    },
    {
     "name": "stderr",
     "output_type": "stream",
     "text": [
      " 40%|████      | 224/560 [00:06<00:09, 34.28it/s]"
     ]
    },
    {
     "name": "stdout",
     "output_type": "stream",
     "text": [
      "multilayer_perceptron ran in: 0.0 sec\n",
      "multilayer_perceptron ran in: 0.0 sec\n",
      "multilayer_perceptron ran in: 0.0 sec\n",
      "multilayer_perceptron ran in: 0.0 sec\n",
      "multilayer_perceptron ran in: 0.0 sec\n",
      "multilayer_perceptron ran in: 0.0 sec\n",
      "multilayer_perceptron ran in: 0.0 sec\n"
     ]
    },
    {
     "name": "stderr",
     "output_type": "stream",
     "text": [
      "\r",
      " 41%|████      | 228/560 [00:06<00:10, 33.02it/s]"
     ]
    },
    {
     "name": "stdout",
     "output_type": "stream",
     "text": [
      "multilayer_perceptron ran in: 0.0 sec\n",
      "multilayer_perceptron ran in: 0.0 sec\n",
      "multilayer_perceptron ran in: 0.0 sec\n",
      "multilayer_perceptron ran in: 0.0 sec\n",
      "multilayer_perceptron ran in: 0.0 sec\n",
      "multilayer_perceptron ran in: 0.0 sec\n",
      "multilayer_perceptron ran in: 0.0 sec\n"
     ]
    },
    {
     "name": "stderr",
     "output_type": "stream",
     "text": [
      " 42%|████▏     | 236/560 [00:06<00:09, 34.56it/s]"
     ]
    },
    {
     "name": "stdout",
     "output_type": "stream",
     "text": [
      "multilayer_perceptron ran in: 0.0 sec\n",
      "multilayer_perceptron ran in: 0.0 sec\n",
      "multilayer_perceptron ran in: 0.0 sec\n",
      "multilayer_perceptron ran in: 0.01564192771911621 sec\n",
      "multilayer_perceptron ran in: 0.0 sec\n",
      "multilayer_perceptron ran in: 0.0 sec\n",
      "multilayer_perceptron ran in: 0.0 sec\n"
     ]
    },
    {
     "name": "stderr",
     "output_type": "stream",
     "text": [
      " 44%|████▎     | 244/560 [00:07<00:09, 33.87it/s]"
     ]
    },
    {
     "name": "stdout",
     "output_type": "stream",
     "text": [
      "multilayer_perceptron ran in: 0.0 sec\n",
      "multilayer_perceptron ran in: 0.0 sec\n",
      "multilayer_perceptron ran in: 0.0 sec\n",
      "multilayer_perceptron ran in: 0.0 sec\n",
      "multilayer_perceptron ran in: 0.0 sec\n",
      "multilayer_perceptron ran in: 0.0 sec\n",
      "multilayer_perceptron ran in: 0.0 sec\n"
     ]
    },
    {
     "name": "stderr",
     "output_type": "stream",
     "text": [
      "\r",
      " 44%|████▍     | 248/560 [00:07<00:09, 33.38it/s]"
     ]
    },
    {
     "name": "stdout",
     "output_type": "stream",
     "text": [
      "multilayer_perceptron ran in: 0.015628576278686523 sec\n",
      "multilayer_perceptron ran in: 0.0 sec\n",
      "multilayer_perceptron ran in: 0.0 sec\n",
      "multilayer_perceptron ran in: 0.0 sec\n",
      "multilayer_perceptron ran in: 0.0 sec\n",
      "multilayer_perceptron ran in: 0.01562786102294922 sec\n",
      "multilayer_perceptron ran in: 0.0 sec\n"
     ]
    },
    {
     "name": "stderr",
     "output_type": "stream",
     "text": [
      " 46%|████▌     | 256/560 [00:07<00:09, 33.39it/s]"
     ]
    },
    {
     "name": "stdout",
     "output_type": "stream",
     "text": [
      "multilayer_perceptron ran in: 0.0 sec\n",
      "multilayer_perceptron ran in: 0.0 sec\n",
      "multilayer_perceptron ran in: 0.0 sec\n",
      "multilayer_perceptron ran in: 0.0 sec\n",
      "multilayer_perceptron ran in: 0.0 sec\n",
      "multilayer_perceptron ran in: 0.0 sec\n",
      "multilayer_perceptron ran in: 0.0 sec\n"
     ]
    },
    {
     "name": "stderr",
     "output_type": "stream",
     "text": [
      " 47%|████▋     | 264/560 [00:07<00:08, 33.95it/s]"
     ]
    },
    {
     "name": "stdout",
     "output_type": "stream",
     "text": [
      "multilayer_perceptron ran in: 0.006510257720947266 sec\n",
      "multilayer_perceptron ran in: 0.0 sec\n",
      "multilayer_perceptron ran in: 0.015614748001098633 sec\n",
      "multilayer_perceptron ran in: 0.0 sec\n",
      "multilayer_perceptron ran in: 0.0 sec\n",
      "multilayer_perceptron ran in: 0.0 sec\n",
      "multilayer_perceptron ran in: 0.0 sec\n",
      "multilayer_perceptron ran in: 0.0 sec\n"
     ]
    },
    {
     "name": "stderr",
     "output_type": "stream",
     "text": [
      " 49%|████▊     | 272/560 [00:08<00:08, 32.92it/s]"
     ]
    },
    {
     "name": "stdout",
     "output_type": "stream",
     "text": [
      "multilayer_perceptron ran in: 0.0 sec\n",
      "multilayer_perceptron ran in: 0.0 sec\n",
      "multilayer_perceptron ran in: 0.0 sec\n",
      "multilayer_perceptron ran in: 0.0 sec\n",
      "multilayer_perceptron ran in: 0.0 sec\n",
      "multilayer_perceptron ran in: 0.0 sec\n",
      "multilayer_perceptron ran in: 0.0 sec\n"
     ]
    },
    {
     "name": "stderr",
     "output_type": "stream",
     "text": [
      " 50%|█████     | 280/560 [00:08<00:08, 33.33it/s]"
     ]
    },
    {
     "name": "stdout",
     "output_type": "stream",
     "text": [
      "multilayer_perceptron ran in: 0.0 sec\n",
      "multilayer_perceptron ran in: 0.0 sec\n",
      "multilayer_perceptron ran in: 0.0 sec\n",
      "multilayer_perceptron ran in: 0.0 sec\n",
      "multilayer_perceptron ran in: 0.0 sec\n",
      "multilayer_perceptron ran in: 0.0065114498138427734 sec\n",
      "multilayer_perceptron ran in: 0.0 sec\n"
     ]
    },
    {
     "name": "stderr",
     "output_type": "stream",
     "text": [
      "\r",
      " 51%|█████     | 284/560 [00:08<00:08, 33.67it/s]"
     ]
    },
    {
     "name": "stdout",
     "output_type": "stream",
     "text": [
      "multilayer_perceptron ran in: 0.0 sec\n",
      "multilayer_perceptron ran in: 0.0 sec\n",
      "multilayer_perceptron ran in: 0.0 sec\n",
      "multilayer_perceptron ran in: 0.0 sec\n",
      "multilayer_perceptron ran in: 0.0 sec\n",
      "multilayer_perceptron ran in: 0.0 sec\n",
      "multilayer_perceptron ran in: 0.0 sec\n"
     ]
    },
    {
     "name": "stderr",
     "output_type": "stream",
     "text": [
      " 52%|█████▏    | 292/560 [00:08<00:08, 33.17it/s]"
     ]
    },
    {
     "name": "stdout",
     "output_type": "stream",
     "text": [
      "multilayer_perceptron ran in: 0.0 sec\n",
      "multilayer_perceptron ran in: 0.0 sec\n",
      "multilayer_perceptron ran in: 0.0 sec\n",
      "multilayer_perceptron ran in: 0.0 sec\n",
      "multilayer_perceptron ran in: 0.015624761581420898 sec\n",
      "multilayer_perceptron ran in: 0.0 sec\n",
      "multilayer_perceptron ran in: 0.0 sec\n"
     ]
    },
    {
     "name": "stderr",
     "output_type": "stream",
     "text": [
      " 54%|█████▎    | 300/560 [00:08<00:07, 33.45it/s]"
     ]
    },
    {
     "name": "stdout",
     "output_type": "stream",
     "text": [
      "multilayer_perceptron ran in: 0.0 sec\n",
      "multilayer_perceptron ran in: 0.0 sec\n",
      "multilayer_perceptron ran in: 0.015627384185791016 sec\n",
      "multilayer_perceptron ran in: 0.0 sec\n",
      "multilayer_perceptron ran in: 0.0 sec\n",
      "multilayer_perceptron ran in: 0.0 sec\n",
      "multilayer_perceptron ran in: 0.0 sec\n"
     ]
    },
    {
     "name": "stderr",
     "output_type": "stream",
     "text": [
      " 55%|█████▌    | 308/560 [00:09<00:07, 33.06it/s]"
     ]
    },
    {
     "name": "stdout",
     "output_type": "stream",
     "text": [
      "multilayer_perceptron ran in: 0.0 sec\n",
      "multilayer_perceptron ran in: 0.0 sec\n",
      "multilayer_perceptron ran in: 0.0 sec\n",
      "multilayer_perceptron ran in: 0.0 sec\n",
      "multilayer_perceptron ran in: 0.0 sec\n",
      "multilayer_perceptron ran in: 0.0 sec\n",
      "multilayer_perceptron ran in: 0.0 sec\n"
     ]
    },
    {
     "name": "stderr",
     "output_type": "stream",
     "text": [
      " 56%|█████▋    | 316/560 [00:09<00:07, 33.31it/s]"
     ]
    },
    {
     "name": "stdout",
     "output_type": "stream",
     "text": [
      "multilayer_perceptron ran in: 0.0 sec\n",
      "multilayer_perceptron ran in: 0.0 sec\n",
      "multilayer_perceptron ran in: 0.0 sec\n",
      "multilayer_perceptron ran in: 0.0 sec\n",
      "multilayer_perceptron ran in: 0.0 sec\n",
      "multilayer_perceptron ran in: 0.0 sec\n",
      "multilayer_perceptron ran in: 0.0 sec\n"
     ]
    },
    {
     "name": "stderr",
     "output_type": "stream",
     "text": [
      "\r",
      " 57%|█████▋    | 320/560 [00:09<00:09, 25.27it/s]"
     ]
    },
    {
     "name": "stdout",
     "output_type": "stream",
     "text": [
      "multilayer_perceptron ran in: 0.0 sec\n",
      "multilayer_perceptron ran in: 0.0 sec\n",
      "multilayer_perceptron ran in: 0.006513357162475586 sec\n",
      "multilayer_perceptron ran in: 0.0 sec\n",
      "multilayer_perceptron ran in: 0.0 sec\n",
      "multilayer_perceptron ran in: 0.0 sec\n",
      "multilayer_perceptron ran in: 0.0 sec\n"
     ]
    },
    {
     "name": "stderr",
     "output_type": "stream",
     "text": [
      " 59%|█████▊    | 328/560 [00:09<00:07, 29.27it/s]"
     ]
    },
    {
     "name": "stdout",
     "output_type": "stream",
     "text": [
      "multilayer_perceptron ran in: 0.0 sec\n",
      "multilayer_perceptron ran in: 0.0 sec\n",
      "multilayer_perceptron ran in: 0.01564192771911621 sec\n",
      "multilayer_perceptron ran in: 0.0 sec\n",
      "multilayer_perceptron ran in: 0.0 sec\n",
      "multilayer_perceptron ran in: 0.0 sec\n",
      "multilayer_perceptron ran in: 0.015627384185791016 sec\n"
     ]
    },
    {
     "name": "stderr",
     "output_type": "stream",
     "text": [
      " 60%|██████    | 336/560 [00:10<00:07, 31.38it/s]"
     ]
    },
    {
     "name": "stdout",
     "output_type": "stream",
     "text": [
      "multilayer_perceptron ran in: 0.0 sec\n",
      "multilayer_perceptron ran in: 0.0 sec\n",
      "multilayer_perceptron ran in: 0.0 sec\n",
      "multilayer_perceptron ran in: 0.0 sec\n",
      "multilayer_perceptron ran in: 0.0 sec\n",
      "multilayer_perceptron ran in: 0.0 sec\n",
      "multilayer_perceptron ran in: 0.0 sec\n"
     ]
    },
    {
     "name": "stderr",
     "output_type": "stream",
     "text": [
      " 61%|██████▏   | 344/560 [00:10<00:06, 32.90it/s]"
     ]
    },
    {
     "name": "stdout",
     "output_type": "stream",
     "text": [
      "multilayer_perceptron ran in: 0.0 sec\n",
      "multilayer_perceptron ran in: 0.01561284065246582 sec\n",
      "multilayer_perceptron ran in: 0.0 sec\n",
      "multilayer_perceptron ran in: 0.0 sec\n",
      "multilayer_perceptron ran in: 0.0 sec\n",
      "multilayer_perceptron ran in: 0.0 sec\n",
      "multilayer_perceptron ran in: 0.0 sec\n"
     ]
    },
    {
     "name": "stderr",
     "output_type": "stream",
     "text": [
      "\r",
      " 62%|██████▏   | 348/560 [00:10<00:06, 33.37it/s]"
     ]
    },
    {
     "name": "stdout",
     "output_type": "stream",
     "text": [
      "multilayer_perceptron ran in: 0.0 sec\n",
      "multilayer_perceptron ran in: 0.006510496139526367 sec\n",
      "multilayer_perceptron ran in: 0.0 sec\n",
      "multilayer_perceptron ran in: 0.0 sec\n",
      "multilayer_perceptron ran in: 0.0 sec\n",
      "multilayer_perceptron ran in: 0.015639066696166992 sec\n",
      "multilayer_perceptron ran in: 0.0 sec\n"
     ]
    },
    {
     "name": "stderr",
     "output_type": "stream",
     "text": [
      " 64%|██████▎   | 356/560 [00:10<00:06, 33.78it/s]"
     ]
    },
    {
     "name": "stdout",
     "output_type": "stream",
     "text": [
      "multilayer_perceptron ran in: 0.0 sec\n",
      "multilayer_perceptron ran in: 0.0 sec\n",
      "multilayer_perceptron ran in: 0.0 sec\n",
      "multilayer_perceptron ran in: 0.015612125396728516 sec\n",
      "multilayer_perceptron ran in: 0.0 sec\n",
      "multilayer_perceptron ran in: 0.0 sec\n",
      "multilayer_perceptron ran in: 0.0 sec\n"
     ]
    },
    {
     "name": "stderr",
     "output_type": "stream",
     "text": [
      " 65%|██████▌   | 364/560 [00:10<00:05, 34.15it/s]"
     ]
    },
    {
     "name": "stdout",
     "output_type": "stream",
     "text": [
      "multilayer_perceptron ran in: 0.0 sec\n",
      "multilayer_perceptron ran in: 0.0 sec\n",
      "multilayer_perceptron ran in: 0.0 sec\n",
      "multilayer_perceptron ran in: 0.0 sec\n",
      "multilayer_perceptron ran in: 0.0 sec\n",
      "multilayer_perceptron ran in: 0.0 sec\n",
      "multilayer_perceptron ran in: 0.0 sec\n"
     ]
    },
    {
     "name": "stderr",
     "output_type": "stream",
     "text": [
      " 66%|██████▋   | 372/560 [00:11<00:05, 34.33it/s]"
     ]
    },
    {
     "name": "stdout",
     "output_type": "stream",
     "text": [
      "multilayer_perceptron ran in: 0.0 sec\n",
      "multilayer_perceptron ran in: 0.0 sec\n",
      "multilayer_perceptron ran in: 0.0 sec\n",
      "multilayer_perceptron ran in: 0.0 sec\n",
      "multilayer_perceptron ran in: 0.0 sec\n",
      "multilayer_perceptron ran in: 0.0 sec\n",
      "multilayer_perceptron ran in: 0.0 sec\n"
     ]
    },
    {
     "name": "stderr",
     "output_type": "stream",
     "text": [
      "\r",
      " 67%|██████▋   | 376/560 [00:11<00:05, 34.29it/s]"
     ]
    },
    {
     "name": "stdout",
     "output_type": "stream",
     "text": [
      "multilayer_perceptron ran in: 0.0 sec\n",
      "multilayer_perceptron ran in: 0.0 sec\n",
      "multilayer_perceptron ran in: 0.0 sec\n",
      "multilayer_perceptron ran in: 0.0 sec\n",
      "multilayer_perceptron ran in: 0.0 sec\n",
      "multilayer_perceptron ran in: 0.015625476837158203 sec\n",
      "multilayer_perceptron ran in: 0.0 sec\n"
     ]
    },
    {
     "name": "stderr",
     "output_type": "stream",
     "text": [
      " 69%|██████▊   | 384/560 [00:11<00:05, 34.09it/s]"
     ]
    },
    {
     "name": "stdout",
     "output_type": "stream",
     "text": [
      "multilayer_perceptron ran in: 0.0 sec\n",
      "multilayer_perceptron ran in: 0.0 sec\n",
      "multilayer_perceptron ran in: 0.0 sec\n",
      "multilayer_perceptron ran in: 0.01562786102294922 sec\n",
      "multilayer_perceptron ran in: 0.0 sec\n",
      "multilayer_perceptron ran in: 0.0 sec\n",
      "multilayer_perceptron ran in: 0.0 sec\n"
     ]
    },
    {
     "name": "stderr",
     "output_type": "stream",
     "text": [
      " 70%|███████   | 392/560 [00:11<00:05, 32.98it/s]"
     ]
    },
    {
     "name": "stdout",
     "output_type": "stream",
     "text": [
      "multilayer_perceptron ran in: 0.0 sec\n",
      "multilayer_perceptron ran in: 0.0 sec\n",
      "multilayer_perceptron ran in: 0.0 sec\n",
      "multilayer_perceptron ran in: 0.0 sec\n",
      "multilayer_perceptron ran in: 0.0 sec\n",
      "multilayer_perceptron ran in: 0.0 sec\n",
      "multilayer_perceptron ran in: 0.0 sec\n",
      "multilayer_perceptron ran in: 0.0 sec\n"
     ]
    },
    {
     "name": "stderr",
     "output_type": "stream",
     "text": [
      " 71%|███████▏  | 400/560 [00:11<00:04, 33.74it/s]"
     ]
    },
    {
     "name": "stdout",
     "output_type": "stream",
     "text": [
      "multilayer_perceptron ran in: 0.0 sec\n",
      "multilayer_perceptron ran in: 0.0 sec\n",
      "multilayer_perceptron ran in: 0.0 sec\n",
      "multilayer_perceptron ran in: 0.0 sec\n",
      "multilayer_perceptron ran in: 0.0 sec\n",
      "multilayer_perceptron ran in: 0.0 sec\n",
      "multilayer_perceptron ran in: 0.0 sec\n"
     ]
    },
    {
     "name": "stderr",
     "output_type": "stream",
     "text": [
      "\r",
      " 72%|███████▏  | 404/560 [00:12<00:04, 33.41it/s]"
     ]
    },
    {
     "name": "stdout",
     "output_type": "stream",
     "text": [
      "multilayer_perceptron ran in: 0.0 sec\n",
      "multilayer_perceptron ran in: 0.0 sec\n",
      "multilayer_perceptron ran in: 0.0 sec\n",
      "multilayer_perceptron ran in: 0.0 sec\n",
      "multilayer_perceptron ran in: 0.0 sec\n",
      "multilayer_perceptron ran in: 0.0 sec\n",
      "multilayer_perceptron ran in: 0.0 sec\n"
     ]
    },
    {
     "name": "stderr",
     "output_type": "stream",
     "text": [
      " 74%|███████▎  | 412/560 [00:12<00:04, 33.96it/s]"
     ]
    },
    {
     "name": "stdout",
     "output_type": "stream",
     "text": [
      "multilayer_perceptron ran in: 0.0 sec\n",
      "multilayer_perceptron ran in: 0.0 sec\n",
      "multilayer_perceptron ran in: 0.0 sec\n",
      "multilayer_perceptron ran in: 0.0 sec\n",
      "multilayer_perceptron ran in: 0.0 sec\n",
      "multilayer_perceptron ran in: 0.0 sec\n",
      "multilayer_perceptron ran in: 0.0 sec\n",
      "multilayer_perceptron ran in: 0.0 sec\n"
     ]
    },
    {
     "name": "stderr",
     "output_type": "stream",
     "text": [
      " 75%|███████▌  | 420/560 [00:12<00:04, 34.24it/s]"
     ]
    },
    {
     "name": "stdout",
     "output_type": "stream",
     "text": [
      "multilayer_perceptron ran in: 0.0 sec\n",
      "multilayer_perceptron ran in: 0.0 sec\n",
      "multilayer_perceptron ran in: 0.015626907348632812 sec\n",
      "multilayer_perceptron ran in: 0.0 sec\n",
      "multilayer_perceptron ran in: 0.0 sec\n",
      "multilayer_perceptron ran in: 0.0 sec\n",
      "multilayer_perceptron ran in: 0.0 sec\n"
     ]
    },
    {
     "name": "stderr",
     "output_type": "stream",
     "text": [
      " 76%|███████▋  | 428/560 [00:12<00:03, 35.20it/s]"
     ]
    },
    {
     "name": "stdout",
     "output_type": "stream",
     "text": [
      "multilayer_perceptron ran in: 0.0 sec\n",
      "multilayer_perceptron ran in: 0.0 sec\n",
      "multilayer_perceptron ran in: 0.0 sec\n",
      "multilayer_perceptron ran in: 0.015624761581420898 sec\n",
      "multilayer_perceptron ran in: 0.0 sec\n",
      "multilayer_perceptron ran in: 0.0 sec\n",
      "multilayer_perceptron ran in: 0.0 sec\n"
     ]
    },
    {
     "name": "stderr",
     "output_type": "stream",
     "text": [
      " 78%|███████▊  | 436/560 [00:12<00:03, 34.85it/s]"
     ]
    },
    {
     "name": "stdout",
     "output_type": "stream",
     "text": [
      "multilayer_perceptron ran in: 0.015643835067749023 sec\n",
      "multilayer_perceptron ran in: 0.0 sec\n",
      "multilayer_perceptron ran in: 0.0 sec\n",
      "multilayer_perceptron ran in: 0.0 sec\n",
      "multilayer_perceptron ran in: 0.015613079071044922 sec\n",
      "multilayer_perceptron ran in: 0.0 sec\n",
      "multilayer_perceptron ran in: 0.0 sec\n"
     ]
    },
    {
     "name": "stderr",
     "output_type": "stream",
     "text": [
      "\r",
      " 79%|███████▊  | 440/560 [00:13<00:03, 34.74it/s]"
     ]
    },
    {
     "name": "stdout",
     "output_type": "stream",
     "text": [
      "multilayer_perceptron ran in: 0.0 sec\n",
      "multilayer_perceptron ran in: 0.0 sec\n",
      "multilayer_perceptron ran in: 0.0 sec\n",
      "multilayer_perceptron ran in: 0.0 sec\n",
      "multilayer_perceptron ran in: 0.0020186901092529297 sec\n",
      "multilayer_perceptron ran in: 0.0 sec\n",
      "multilayer_perceptron ran in: 0.0 sec\n"
     ]
    },
    {
     "name": "stderr",
     "output_type": "stream",
     "text": [
      " 80%|████████  | 448/560 [00:13<00:03, 33.68it/s]"
     ]
    },
    {
     "name": "stdout",
     "output_type": "stream",
     "text": [
      "multilayer_perceptron ran in: 0.0 sec\n",
      "multilayer_perceptron ran in: 0.0 sec\n",
      "multilayer_perceptron ran in: 0.015630006790161133 sec\n",
      "multilayer_perceptron ran in: 0.0 sec\n",
      "multilayer_perceptron ran in: 0.0 sec\n",
      "multilayer_perceptron ran in: 0.0 sec\n",
      "multilayer_perceptron ran in: 0.0 sec\n",
      "multilayer_perceptron ran in: 0.0 sec\n"
     ]
    },
    {
     "name": "stderr",
     "output_type": "stream",
     "text": [
      " 81%|████████▏ | 456/560 [00:13<00:03, 34.66it/s]"
     ]
    },
    {
     "name": "stdout",
     "output_type": "stream",
     "text": [
      "multilayer_perceptron ran in: 0.0 sec\n",
      "multilayer_perceptron ran in: 0.0 sec\n",
      "multilayer_perceptron ran in: 0.015626192092895508 sec\n",
      "multilayer_perceptron ran in: 0.0 sec\n",
      "multilayer_perceptron ran in: 0.0 sec\n",
      "multilayer_perceptron ran in: 0.0 sec\n",
      "multilayer_perceptron ran in: 0.01562809944152832 sec\n"
     ]
    },
    {
     "name": "stderr",
     "output_type": "stream",
     "text": [
      " 83%|████████▎ | 464/560 [00:13<00:02, 33.23it/s]"
     ]
    },
    {
     "name": "stdout",
     "output_type": "stream",
     "text": [
      "multilayer_perceptron ran in: 0.0 sec\n",
      "multilayer_perceptron ran in: 0.0 sec\n",
      "multilayer_perceptron ran in: 0.0 sec\n",
      "multilayer_perceptron ran in: 0.0 sec\n",
      "multilayer_perceptron ran in: 0.0 sec\n",
      "multilayer_perceptron ran in: 0.0 sec\n",
      "multilayer_perceptron ran in: 0.0 sec\n"
     ]
    },
    {
     "name": "stderr",
     "output_type": "stream",
     "text": [
      " 84%|████████▍ | 472/560 [00:14<00:02, 33.87it/s]"
     ]
    },
    {
     "name": "stdout",
     "output_type": "stream",
     "text": [
      "multilayer_perceptron ran in: 0.0 sec\n",
      "multilayer_perceptron ran in: 0.015627384185791016 sec\n",
      "multilayer_perceptron ran in: 0.0 sec\n",
      "multilayer_perceptron ran in: 0.0 sec\n",
      "multilayer_perceptron ran in: 0.0 sec\n",
      "multilayer_perceptron ran in: 0.0 sec\n",
      "multilayer_perceptron ran in: 0.0 sec\n"
     ]
    },
    {
     "name": "stderr",
     "output_type": "stream",
     "text": [
      " 86%|████████▌ | 480/560 [00:14<00:02, 33.80it/s]"
     ]
    },
    {
     "name": "stdout",
     "output_type": "stream",
     "text": [
      "multilayer_perceptron ran in: 0.0 sec\n",
      "multilayer_perceptron ran in: 0.0 sec\n",
      "multilayer_perceptron ran in: 0.0 sec\n",
      "multilayer_perceptron ran in: 0.0 sec\n",
      "multilayer_perceptron ran in: 0.0 sec\n",
      "multilayer_perceptron ran in: 0.0 sec\n",
      "multilayer_perceptron ran in: 0.0 sec\n"
     ]
    },
    {
     "name": "stderr",
     "output_type": "stream",
     "text": [
      "\r",
      " 86%|████████▋ | 484/560 [00:14<00:02, 34.01it/s]"
     ]
    },
    {
     "name": "stdout",
     "output_type": "stream",
     "text": [
      "multilayer_perceptron ran in: 0.0 sec\n",
      "multilayer_perceptron ran in: 0.0 sec\n",
      "multilayer_perceptron ran in: 0.0 sec\n",
      "multilayer_perceptron ran in: 0.015622377395629883 sec\n",
      "multilayer_perceptron ran in: 0.0 sec\n",
      "multilayer_perceptron ran in: 0.0 sec\n",
      "multilayer_perceptron ran in: 0.0 sec\n"
     ]
    },
    {
     "name": "stderr",
     "output_type": "stream",
     "text": [
      " 88%|████████▊ | 492/560 [00:14<00:01, 34.26it/s]"
     ]
    },
    {
     "name": "stdout",
     "output_type": "stream",
     "text": [
      "multilayer_perceptron ran in: 0.0 sec\n",
      "multilayer_perceptron ran in: 0.0 sec\n",
      "multilayer_perceptron ran in: 0.0 sec\n",
      "multilayer_perceptron ran in: 0.0 sec\n",
      "multilayer_perceptron ran in: 0.0 sec\n",
      "multilayer_perceptron ran in: 0.0 sec\n",
      "multilayer_perceptron ran in: 0.0 sec\n"
     ]
    },
    {
     "name": "stderr",
     "output_type": "stream",
     "text": [
      " 89%|████████▉ | 500/560 [00:14<00:01, 33.98it/s]"
     ]
    },
    {
     "name": "stdout",
     "output_type": "stream",
     "text": [
      "multilayer_perceptron ran in: 0.0 sec\n",
      "multilayer_perceptron ran in: 0.0 sec\n",
      "multilayer_perceptron ran in: 0.0 sec\n",
      "multilayer_perceptron ran in: 0.0 sec\n",
      "multilayer_perceptron ran in: 0.0 sec\n",
      "multilayer_perceptron ran in: 0.0 sec\n",
      "multilayer_perceptron ran in: 0.0 sec\n"
     ]
    },
    {
     "name": "stderr",
     "output_type": "stream",
     "text": [
      "\r",
      " 90%|█████████ | 504/560 [00:14<00:01, 34.14it/s]"
     ]
    },
    {
     "name": "stdout",
     "output_type": "stream",
     "text": [
      "multilayer_perceptron ran in: 0.0 sec\n",
      "multilayer_perceptron ran in: 0.0 sec\n",
      "multilayer_perceptron ran in: 0.01565074920654297 sec\n",
      "multilayer_perceptron ran in: 0.0 sec\n",
      "multilayer_perceptron ran in: 0.0 sec\n",
      "multilayer_perceptron ran in: 0.0 sec\n"
     ]
    },
    {
     "name": "stderr",
     "output_type": "stream",
     "text": [
      " 91%|█████████▏| 512/560 [00:15<00:01, 34.36it/s]"
     ]
    },
    {
     "name": "stdout",
     "output_type": "stream",
     "text": [
      "multilayer_perceptron ran in: 0.01562643051147461 sec\n",
      "multilayer_perceptron ran in: 0.015634775161743164 sec\n",
      "multilayer_perceptron ran in: 0.015642881393432617 sec\n",
      "multilayer_perceptron ran in: 0.0 sec\n",
      "multilayer_perceptron ran in: 0.0 sec\n",
      "multilayer_perceptron ran in: 0.0 sec\n",
      "multilayer_perceptron ran in: 0.0 sec\n",
      "multilayer_perceptron ran in: 0.0 sec\n"
     ]
    },
    {
     "name": "stderr",
     "output_type": "stream",
     "text": [
      " 93%|█████████▎| 520/560 [00:15<00:01, 34.27it/s]"
     ]
    },
    {
     "name": "stdout",
     "output_type": "stream",
     "text": [
      "multilayer_perceptron ran in: 0.0 sec\n",
      "multilayer_perceptron ran in: 0.0 sec\n",
      "multilayer_perceptron ran in: 0.0 sec\n",
      "multilayer_perceptron ran in: 0.0 sec\n",
      "multilayer_perceptron ran in: 0.0 sec\n",
      "multilayer_perceptron ran in: 0.0 sec\n",
      "multilayer_perceptron ran in: 0.0 sec\n"
     ]
    },
    {
     "name": "stderr",
     "output_type": "stream",
     "text": [
      " 94%|█████████▍| 528/560 [00:15<00:00, 34.40it/s]"
     ]
    },
    {
     "name": "stdout",
     "output_type": "stream",
     "text": [
      "multilayer_perceptron ran in: 0.015624761581420898 sec\n",
      "multilayer_perceptron ran in: 0.0 sec\n",
      "multilayer_perceptron ran in: 0.0 sec\n",
      "multilayer_perceptron ran in: 0.0 sec\n",
      "multilayer_perceptron ran in: 0.0 sec\n",
      "multilayer_perceptron ran in: 0.0 sec\n",
      "multilayer_perceptron ran in: 0.0 sec\n"
     ]
    },
    {
     "name": "stderr",
     "output_type": "stream",
     "text": [
      "\r",
      " 95%|█████████▌| 532/560 [00:15<00:00, 33.09it/s]"
     ]
    },
    {
     "name": "stdout",
     "output_type": "stream",
     "text": [
      "multilayer_perceptron ran in: 0.0 sec\n",
      "multilayer_perceptron ran in: 0.015653610229492188 sec\n",
      "multilayer_perceptron ran in: 0.0 sec\n",
      "multilayer_perceptron ran in: 0.0 sec\n",
      "multilayer_perceptron ran in: 0.0 sec\n",
      "multilayer_perceptron ran in: 0.01562786102294922 sec\n",
      "multilayer_perceptron ran in: 0.0 sec\n"
     ]
    },
    {
     "name": "stderr",
     "output_type": "stream",
     "text": [
      " 96%|█████████▋| 540/560 [00:16<00:00, 33.80it/s]"
     ]
    },
    {
     "name": "stdout",
     "output_type": "stream",
     "text": [
      "multilayer_perceptron ran in: 0.0 sec\n",
      "multilayer_perceptron ran in: 0.0 sec\n",
      "multilayer_perceptron ran in: 0.0 sec\n",
      "multilayer_perceptron ran in: 0.015644311904907227 sec\n",
      "multilayer_perceptron ran in: 0.0 sec\n",
      "multilayer_perceptron ran in: 0.0 sec\n",
      "multilayer_perceptron ran in: 0.0 sec\n"
     ]
    },
    {
     "name": "stderr",
     "output_type": "stream",
     "text": [
      " 98%|█████████▊| 548/560 [00:16<00:00, 33.76it/s]"
     ]
    },
    {
     "name": "stdout",
     "output_type": "stream",
     "text": [
      "multilayer_perceptron ran in: 0.0 sec\n",
      "multilayer_perceptron ran in: 0.0 sec\n",
      "multilayer_perceptron ran in: 0.0 sec\n",
      "multilayer_perceptron ran in: 0.0 sec\n",
      "multilayer_perceptron ran in: 0.0 sec\n",
      "multilayer_perceptron ran in: 0.0 sec\n",
      "multilayer_perceptron ran in: 0.0 sec\n"
     ]
    },
    {
     "name": "stderr",
     "output_type": "stream",
     "text": [
      " 99%|█████████▉| 556/560 [00:16<00:00, 34.14it/s]"
     ]
    },
    {
     "name": "stdout",
     "output_type": "stream",
     "text": [
      "multilayer_perceptron ran in: 0.006514787673950195 sec\n",
      "multilayer_perceptron ran in: 0.0 sec\n",
      "multilayer_perceptron ran in: 0.0 sec\n",
      "multilayer_perceptron ran in: 0.0 sec\n",
      "multilayer_perceptron ran in: 0.0 sec\n",
      "multilayer_perceptron ran in: 0.0 sec\n",
      "multilayer_perceptron ran in: 0.0 sec\n"
     ]
    },
    {
     "name": "stderr",
     "output_type": "stream",
     "text": [
      "100%|██████████| 560/560 [00:16<00:00, 33.67it/s]\n"
     ]
    },
    {
     "name": "stdout",
     "output_type": "stream",
     "text": [
      "multilayer_perceptron ran in: 0.0 sec\n",
      "multilayer_perceptron ran in: 0.0 sec\n",
      "multilayer_perceptron ran in: 0.0 sec\n",
      "Epoch: 7 Cost=79337.9453\n"
     ]
    },
    {
     "name": "stderr",
     "output_type": "stream",
     "text": [
      "  1%|          | 4/560 [00:00<00:17, 32.66it/s]"
     ]
    },
    {
     "name": "stdout",
     "output_type": "stream",
     "text": [
      "multilayer_perceptron ran in: 0.0 sec\n",
      "multilayer_perceptron ran in: 0.0 sec\n",
      "multilayer_perceptron ran in: 0.0 sec\n",
      "multilayer_perceptron ran in: 0.0 sec\n",
      "multilayer_perceptron ran in: 0.01565408706665039 sec\n",
      "multilayer_perceptron ran in: 0.0 sec\n",
      "multilayer_perceptron ran in: 0.0 sec\n"
     ]
    },
    {
     "name": "stderr",
     "output_type": "stream",
     "text": [
      "\r",
      "  1%|▏         | 8/560 [00:00<00:16, 33.72it/s]"
     ]
    },
    {
     "name": "stdout",
     "output_type": "stream",
     "text": [
      "multilayer_perceptron ran in: 0.0 sec\n",
      "multilayer_perceptron ran in: 0.0 sec\n",
      "multilayer_perceptron ran in: 0.015624523162841797 sec\n",
      "multilayer_perceptron ran in: 0.0 sec\n"
     ]
    },
    {
     "name": "stderr",
     "output_type": "stream",
     "text": [
      "\r",
      "  2%|▏         | 12/560 [00:00<00:16, 34.07it/s]"
     ]
    },
    {
     "name": "stdout",
     "output_type": "stream",
     "text": [
      "multilayer_perceptron ran in: 0.0 sec\n",
      "multilayer_perceptron ran in: 0.0 sec\n",
      "multilayer_perceptron ran in: 0.0 sec\n"
     ]
    },
    {
     "name": "stderr",
     "output_type": "stream",
     "text": [
      "\r",
      "  3%|▎         | 16/560 [00:00<00:15, 34.24it/s]"
     ]
    },
    {
     "name": "stdout",
     "output_type": "stream",
     "text": [
      "multilayer_perceptron ran in: 0.0 sec\n",
      "multilayer_perceptron ran in: 0.0 sec\n",
      "multilayer_perceptron ran in: 0.0 sec\n",
      "multilayer_perceptron ran in: 0.015639305114746094 sec\n",
      "multilayer_perceptron ran in: 0.0 sec\n"
     ]
    },
    {
     "name": "stderr",
     "output_type": "stream",
     "text": [
      "\r",
      "  4%|▎         | 20/560 [00:00<00:16, 32.78it/s]"
     ]
    },
    {
     "name": "stdout",
     "output_type": "stream",
     "text": [
      "multilayer_perceptron ran in: 0.0 sec\n",
      "multilayer_perceptron ran in: 0.0 sec\n"
     ]
    },
    {
     "name": "stderr",
     "output_type": "stream",
     "text": [
      "\r",
      "  4%|▍         | 24/560 [00:00<00:16, 33.35it/s]"
     ]
    },
    {
     "name": "stdout",
     "output_type": "stream",
     "text": [
      "multilayer_perceptron ran in: 0.0 sec\n",
      "multilayer_perceptron ran in: 0.0 sec\n",
      "multilayer_perceptron ran in: 0.0 sec\n",
      "multilayer_perceptron ran in: 0.0 sec\n",
      "multilayer_perceptron ran in: 0.0 sec\n"
     ]
    },
    {
     "name": "stderr",
     "output_type": "stream",
     "text": [
      "\r",
      "  5%|▌         | 28/560 [00:00<00:15, 34.59it/s]"
     ]
    },
    {
     "name": "stdout",
     "output_type": "stream",
     "text": [
      "multilayer_perceptron ran in: 0.0 sec\n",
      "multilayer_perceptron ran in: 0.015622138977050781 sec\n"
     ]
    },
    {
     "name": "stderr",
     "output_type": "stream",
     "text": [
      "\r",
      "  6%|▌         | 32/560 [00:00<00:15, 33.15it/s]"
     ]
    },
    {
     "name": "stdout",
     "output_type": "stream",
     "text": [
      "multilayer_perceptron ran in: 0.0 sec\n",
      "multilayer_perceptron ran in: 0.0 sec\n",
      "multilayer_perceptron ran in: 0.0 sec\n",
      "multilayer_perceptron ran in: 0.0 sec\n",
      "multilayer_perceptron ran in: 0.0 sec\n",
      "multilayer_perceptron ran in: 0.0 sec\n",
      "multilayer_perceptron ran in: 0.0 sec\n"
     ]
    },
    {
     "name": "stderr",
     "output_type": "stream",
     "text": [
      "\r",
      "  6%|▋         | 36/560 [00:01<00:15, 33.57it/s]"
     ]
    },
    {
     "name": "stdout",
     "output_type": "stream",
     "text": [
      "multilayer_perceptron ran in: 0.0 sec\n",
      "multilayer_perceptron ran in: 0.01562643051147461 sec\n",
      "multilayer_perceptron ran in: 0.0 sec\n",
      "multilayer_perceptron ran in: 0.0 sec\n",
      "multilayer_perceptron ran in: 0.0 sec\n"
     ]
    },
    {
     "name": "stderr",
     "output_type": "stream",
     "text": [
      "\r",
      "  7%|▋         | 40/560 [00:01<00:15, 33.85it/s]"
     ]
    },
    {
     "name": "stdout",
     "output_type": "stream",
     "text": [
      "multilayer_perceptron ran in: 0.0 sec\n",
      "multilayer_perceptron ran in: 0.0 sec\n",
      "multilayer_perceptron ran in: 0.0 sec\n"
     ]
    },
    {
     "name": "stderr",
     "output_type": "stream",
     "text": [
      "\r",
      "  8%|▊         | 44/560 [00:01<00:15, 34.05it/s]"
     ]
    },
    {
     "name": "stdout",
     "output_type": "stream",
     "text": [
      "multilayer_perceptron ran in: 0.0 sec\n",
      "multilayer_perceptron ran in: 0.0 sec\n",
      "multilayer_perceptron ran in: 0.0 sec\n",
      "multilayer_perceptron ran in: 0.0 sec\n"
     ]
    },
    {
     "name": "stderr",
     "output_type": "stream",
     "text": [
      "\r",
      "  9%|▊         | 48/560 [00:01<00:15, 33.62it/s]"
     ]
    },
    {
     "name": "stdout",
     "output_type": "stream",
     "text": [
      "multilayer_perceptron ran in: 0.0 sec\n",
      "multilayer_perceptron ran in: 0.0 sec\n",
      "multilayer_perceptron ran in: 0.0 sec\n"
     ]
    },
    {
     "name": "stderr",
     "output_type": "stream",
     "text": [
      "\r",
      "  9%|▉         | 52/560 [00:01<00:14, 33.88it/s]"
     ]
    },
    {
     "name": "stdout",
     "output_type": "stream",
     "text": [
      "multilayer_perceptron ran in: 0.0 sec\n",
      "multilayer_perceptron ran in: 0.0 sec\n",
      "multilayer_perceptron ran in: 0.0 sec\n",
      "multilayer_perceptron ran in: 0.0156400203704834 sec\n"
     ]
    },
    {
     "name": "stderr",
     "output_type": "stream",
     "text": [
      "\r",
      " 10%|█         | 56/560 [00:01<00:14, 34.08it/s]"
     ]
    },
    {
     "name": "stdout",
     "output_type": "stream",
     "text": [
      "multilayer_perceptron ran in: 0.0 sec\n",
      "multilayer_perceptron ran in: 0.0 sec\n",
      "multilayer_perceptron ran in: 0.0 sec\n"
     ]
    },
    {
     "name": "stderr",
     "output_type": "stream",
     "text": [
      "\r",
      " 11%|█         | 60/560 [00:01<00:14, 34.20it/s]"
     ]
    },
    {
     "name": "stdout",
     "output_type": "stream",
     "text": [
      "multilayer_perceptron ran in: 0.0 sec\n",
      "multilayer_perceptron ran in: 0.0 sec\n",
      "multilayer_perceptron ran in: 0.0 sec\n",
      "multilayer_perceptron ran in: 0.0 sec\n"
     ]
    },
    {
     "name": "stderr",
     "output_type": "stream",
     "text": [
      "\r",
      " 11%|█▏        | 64/560 [00:01<00:14, 34.30it/s]"
     ]
    },
    {
     "name": "stdout",
     "output_type": "stream",
     "text": [
      "multilayer_perceptron ran in: 0.0 sec\n",
      "multilayer_perceptron ran in: 0.0 sec\n",
      "multilayer_perceptron ran in: 0.0 sec\n"
     ]
    },
    {
     "name": "stderr",
     "output_type": "stream",
     "text": [
      "\r",
      " 12%|█▏        | 68/560 [00:02<00:14, 34.36it/s]"
     ]
    },
    {
     "name": "stdout",
     "output_type": "stream",
     "text": [
      "multilayer_perceptron ran in: 0.0 sec\n",
      "multilayer_perceptron ran in: 0.0 sec\n",
      "multilayer_perceptron ran in: 0.0 sec\n",
      "multilayer_perceptron ran in: 0.0 sec\n",
      "multilayer_perceptron ran in: 0.0 sec\n",
      "multilayer_perceptron ran in: 0.0 sec\n",
      "multilayer_perceptron ran in: 0.0 sec\n"
     ]
    },
    {
     "name": "stderr",
     "output_type": "stream",
     "text": [
      "\r",
      " 13%|█▎        | 72/560 [00:02<00:14, 33.83it/s]"
     ]
    },
    {
     "name": "stdout",
     "output_type": "stream",
     "text": [
      "multilayer_perceptron ran in: 0.0 sec\n",
      "multilayer_perceptron ran in: 0.0 sec\n",
      "multilayer_perceptron ran in: 0.0 sec\n",
      "multilayer_perceptron ran in: 0.01562666893005371 sec\n",
      "multilayer_perceptron ran in: 0.0 sec\n"
     ]
    },
    {
     "name": "stderr",
     "output_type": "stream",
     "text": [
      "\r",
      " 14%|█▎        | 76/560 [00:02<00:14, 34.03it/s]"
     ]
    },
    {
     "name": "stdout",
     "output_type": "stream",
     "text": [
      "multilayer_perceptron ran in: 0.0 sec\n",
      "multilayer_perceptron ran in: 0.0 sec\n"
     ]
    },
    {
     "name": "stderr",
     "output_type": "stream",
     "text": [
      "\r",
      " 14%|█▍        | 80/560 [00:02<00:14, 34.17it/s]"
     ]
    },
    {
     "name": "stdout",
     "output_type": "stream",
     "text": [
      "multilayer_perceptron ran in: 0.0 sec\n",
      "multilayer_perceptron ran in: 0.0 sec\n",
      "multilayer_perceptron ran in: 0.0 sec\n",
      "multilayer_perceptron ran in: 0.0 sec\n",
      "multilayer_perceptron ran in: 0.0 sec\n"
     ]
    },
    {
     "name": "stderr",
     "output_type": "stream",
     "text": [
      "\r",
      " 15%|█▌        | 84/560 [00:02<00:14, 32.95it/s]"
     ]
    },
    {
     "name": "stdout",
     "output_type": "stream",
     "text": [
      "multilayer_perceptron ran in: 0.0 sec\n",
      "multilayer_perceptron ran in: 0.0 sec\n",
      "multilayer_perceptron ran in: 0.0 sec\n"
     ]
    },
    {
     "name": "stderr",
     "output_type": "stream",
     "text": [
      "\r",
      " 16%|█▌        | 88/560 [00:02<00:14, 33.41it/s]"
     ]
    },
    {
     "name": "stdout",
     "output_type": "stream",
     "text": [
      "multilayer_perceptron ran in: 0.0 sec\n",
      "multilayer_perceptron ran in: 0.015637874603271484 sec\n",
      "multilayer_perceptron ran in: 0.015625953674316406 sec\n",
      "multilayer_perceptron ran in: 0.0 sec\n"
     ]
    },
    {
     "name": "stderr",
     "output_type": "stream",
     "text": [
      "\r",
      " 16%|█▋        | 92/560 [00:02<00:13, 33.73it/s]"
     ]
    },
    {
     "name": "stdout",
     "output_type": "stream",
     "text": [
      "multilayer_perceptron ran in: 0.0 sec\n",
      "multilayer_perceptron ran in: 0.0 sec\n",
      "multilayer_perceptron ran in: 0.0 sec\n"
     ]
    },
    {
     "name": "stderr",
     "output_type": "stream",
     "text": [
      "\r",
      " 17%|█▋        | 96/560 [00:02<00:13, 33.40it/s]"
     ]
    },
    {
     "name": "stdout",
     "output_type": "stream",
     "text": [
      "multilayer_perceptron ran in: 0.0 sec\n",
      "multilayer_perceptron ran in: 0.0 sec\n",
      "multilayer_perceptron ran in: 0.0 sec\n",
      "multilayer_perceptron ran in: 0.0 sec\n"
     ]
    },
    {
     "name": "stderr",
     "output_type": "stream",
     "text": [
      "\r",
      " 18%|█▊        | 100/560 [00:02<00:13, 33.73it/s]"
     ]
    },
    {
     "name": "stdout",
     "output_type": "stream",
     "text": [
      "multilayer_perceptron ran in: 0.0 sec\n",
      "multilayer_perceptron ran in: 0.0 sec\n",
      "multilayer_perceptron ran in: 0.0 sec\n",
      "multilayer_perceptron ran in: 0.0 sec\n",
      "multilayer_perceptron ran in: 0.0 sec\n",
      "multilayer_perceptron ran in: 0.0 sec\n"
     ]
    },
    {
     "name": "stderr",
     "output_type": "stream",
     "text": [
      "\r",
      " 19%|█▊        | 104/560 [00:03<00:13, 33.96it/s]"
     ]
    },
    {
     "name": "stdout",
     "output_type": "stream",
     "text": [
      "multilayer_perceptron ran in: 0.0 sec\n",
      "multilayer_perceptron ran in: 0.0 sec\n",
      "multilayer_perceptron ran in: 0.0 sec\n",
      "multilayer_perceptron ran in: 0.0 sec\n"
     ]
    },
    {
     "name": "stderr",
     "output_type": "stream",
     "text": [
      "\r",
      " 19%|█▉        | 108/560 [00:03<00:13, 34.12it/s]"
     ]
    },
    {
     "name": "stdout",
     "output_type": "stream",
     "text": [
      "multilayer_perceptron ran in: 0.0 sec\n",
      "multilayer_perceptron ran in: 0.0 sec\n",
      "multilayer_perceptron ran in: 0.0 sec\n",
      "multilayer_perceptron ran in: 0.0 sec\n"
     ]
    },
    {
     "name": "stderr",
     "output_type": "stream",
     "text": [
      "\r",
      " 20%|██        | 112/560 [00:03<00:13, 34.24it/s]"
     ]
    },
    {
     "name": "stdout",
     "output_type": "stream",
     "text": [
      "multilayer_perceptron ran in: 0.0 sec\n",
      "multilayer_perceptron ran in: 0.0 sec\n",
      "multilayer_perceptron ran in: 0.0 sec\n"
     ]
    },
    {
     "name": "stderr",
     "output_type": "stream",
     "text": [
      "\r",
      " 21%|██        | 116/560 [00:03<00:13, 33.75it/s]"
     ]
    },
    {
     "name": "stdout",
     "output_type": "stream",
     "text": [
      "multilayer_perceptron ran in: 0.0 sec\n",
      "multilayer_perceptron ran in: 0.0 sec\n",
      "multilayer_perceptron ran in: 0.0 sec\n",
      "multilayer_perceptron ran in: 0.0 sec\n"
     ]
    },
    {
     "name": "stderr",
     "output_type": "stream",
     "text": [
      "\r",
      " 21%|██▏       | 120/560 [00:03<00:12, 33.97it/s]"
     ]
    },
    {
     "name": "stdout",
     "output_type": "stream",
     "text": [
      "multilayer_perceptron ran in: 0.0 sec\n",
      "multilayer_perceptron ran in: 0.0 sec\n",
      "multilayer_perceptron ran in: 0.0 sec\n"
     ]
    },
    {
     "name": "stderr",
     "output_type": "stream",
     "text": [
      "\r",
      " 22%|██▏       | 124/560 [00:03<00:12, 34.13it/s]"
     ]
    },
    {
     "name": "stdout",
     "output_type": "stream",
     "text": [
      "multilayer_perceptron ran in: 0.0 sec\n",
      "multilayer_perceptron ran in: 0.0 sec\n",
      "multilayer_perceptron ran in: 0.0 sec\n",
      "multilayer_perceptron ran in: 0.0 sec\n",
      "multilayer_perceptron ran in: 0.0 sec\n",
      "multilayer_perceptron ran in: 0.0 sec\n",
      "multilayer_perceptron ran in: 0.0 sec\n"
     ]
    },
    {
     "name": "stderr",
     "output_type": "stream",
     "text": [
      "\r",
      " 23%|██▎       | 128/560 [00:03<00:13, 32.92it/s]"
     ]
    },
    {
     "name": "stdout",
     "output_type": "stream",
     "text": [
      "multilayer_perceptron ran in: 0.0 sec\n",
      "multilayer_perceptron ran in: 0.0 sec\n",
      "multilayer_perceptron ran in: 0.0 sec\n",
      "multilayer_perceptron ran in: 0.0 sec\n"
     ]
    },
    {
     "name": "stderr",
     "output_type": "stream",
     "text": [
      "\r",
      " 24%|██▎       | 132/560 [00:03<00:12, 33.38it/s]"
     ]
    },
    {
     "name": "stdout",
     "output_type": "stream",
     "text": [
      "multilayer_perceptron ran in: 0.0 sec\n",
      "multilayer_perceptron ran in: 0.0 sec\n",
      "multilayer_perceptron ran in: 0.0 sec\n"
     ]
    },
    {
     "name": "stderr",
     "output_type": "stream",
     "text": [
      "\r",
      " 24%|██▍       | 136/560 [00:04<00:12, 33.16it/s]"
     ]
    },
    {
     "name": "stdout",
     "output_type": "stream",
     "text": [
      "multilayer_perceptron ran in: 0.0 sec\n",
      "multilayer_perceptron ran in: 0.0 sec\n",
      "multilayer_perceptron ran in: 0.0 sec\n",
      "multilayer_perceptron ran in: 0.0 sec\n"
     ]
    },
    {
     "name": "stderr",
     "output_type": "stream",
     "text": [
      "\r",
      " 25%|██▌       | 140/560 [00:04<00:12, 33.55it/s]"
     ]
    },
    {
     "name": "stdout",
     "output_type": "stream",
     "text": [
      "multilayer_perceptron ran in: 0.006524562835693359 sec\n",
      "multilayer_perceptron ran in: 0.0 sec\n",
      "multilayer_perceptron ran in: 0.0 sec\n",
      "multilayer_perceptron ran in: 0.0 sec\n"
     ]
    },
    {
     "name": "stderr",
     "output_type": "stream",
     "text": [
      "\r",
      " 26%|██▌       | 144/560 [00:04<00:12, 33.83it/s]"
     ]
    },
    {
     "name": "stdout",
     "output_type": "stream",
     "text": [
      "multilayer_perceptron ran in: 0.0 sec\n",
      "multilayer_perceptron ran in: 0.0 sec\n",
      "multilayer_perceptron ran in: 0.0 sec\n"
     ]
    },
    {
     "name": "stderr",
     "output_type": "stream",
     "text": [
      "\r",
      " 26%|██▋       | 148/560 [00:04<00:12, 34.03it/s]"
     ]
    },
    {
     "name": "stdout",
     "output_type": "stream",
     "text": [
      "multilayer_perceptron ran in: 0.0 sec\n",
      "multilayer_perceptron ran in: 0.0 sec\n",
      "multilayer_perceptron ran in: 0.0 sec\n",
      "multilayer_perceptron ran in: 0.0 sec\n",
      "multilayer_perceptron ran in: 0.0 sec\n"
     ]
    },
    {
     "name": "stderr",
     "output_type": "stream",
     "text": [
      "\r",
      " 27%|██▋       | 152/560 [00:04<00:11, 34.17it/s]"
     ]
    },
    {
     "name": "stdout",
     "output_type": "stream",
     "text": [
      "multilayer_perceptron ran in: 0.0 sec\n",
      "multilayer_perceptron ran in: 0.0001285076141357422 sec\n"
     ]
    },
    {
     "name": "stderr",
     "output_type": "stream",
     "text": [
      "\r",
      " 28%|██▊       | 156/560 [00:04<00:12, 32.99it/s]"
     ]
    },
    {
     "name": "stdout",
     "output_type": "stream",
     "text": [
      "multilayer_perceptron ran in: 0.01564931869506836 sec\n",
      "multilayer_perceptron ran in: 0.0 sec\n",
      "multilayer_perceptron ran in: 0.0 sec\n",
      "multilayer_perceptron ran in: 0.0 sec\n",
      "multilayer_perceptron ran in: 0.0 sec\n",
      "multilayer_perceptron ran in: 0.0 sec\n"
     ]
    },
    {
     "name": "stderr",
     "output_type": "stream",
     "text": [
      "\r",
      " 29%|██▊       | 160/560 [00:04<00:11, 34.21it/s]"
     ]
    },
    {
     "name": "stdout",
     "output_type": "stream",
     "text": [
      "multilayer_perceptron ran in: 0.0 sec\n"
     ]
    },
    {
     "name": "stderr",
     "output_type": "stream",
     "text": [
      "\r",
      " 29%|██▉       | 164/560 [00:04<00:11, 34.30it/s]"
     ]
    },
    {
     "name": "stdout",
     "output_type": "stream",
     "text": [
      "multilayer_perceptron ran in: 0.0 sec\n",
      "multilayer_perceptron ran in: 0.0 sec\n",
      "multilayer_perceptron ran in: 0.0 sec\n",
      "multilayer_perceptron ran in: 0.0 sec\n",
      "multilayer_perceptron ran in: 0.0 sec\n",
      "multilayer_perceptron ran in: 0.0 sec\n",
      "multilayer_perceptron ran in: 0.0 sec\n",
      "multilayer_perceptron ran in: 0.0 sec\n"
     ]
    },
    {
     "name": "stderr",
     "output_type": "stream",
     "text": [
      " 31%|███       | 172/560 [00:05<00:11, 33.46it/s]"
     ]
    },
    {
     "name": "stdout",
     "output_type": "stream",
     "text": [
      "multilayer_perceptron ran in: 0.0 sec\n",
      "multilayer_perceptron ran in: 0.0 sec\n",
      "multilayer_perceptron ran in: 0.0 sec\n",
      "multilayer_perceptron ran in: 0.015624523162841797 sec\n",
      "multilayer_perceptron ran in: 0.0 sec\n",
      "multilayer_perceptron ran in: 0.0 sec\n",
      "multilayer_perceptron ran in: 0.0 sec\n"
     ]
    },
    {
     "name": "stderr",
     "output_type": "stream",
     "text": [
      " 32%|███▏      | 180/560 [00:05<00:11, 33.43it/s]"
     ]
    },
    {
     "name": "stdout",
     "output_type": "stream",
     "text": [
      "multilayer_perceptron ran in: 0.0 sec\n",
      "multilayer_perceptron ran in: 0.0 sec\n",
      "multilayer_perceptron ran in: 0.0 sec\n",
      "multilayer_perceptron ran in: 0.0 sec\n",
      "multilayer_perceptron ran in: 0.0 sec\n",
      "multilayer_perceptron ran in: 0.0 sec\n",
      "multilayer_perceptron ran in: 0.0 sec\n",
      "multilayer_perceptron ran in: 0.0 sec\n"
     ]
    },
    {
     "name": "stderr",
     "output_type": "stream",
     "text": [
      "\r",
      " 33%|███▎      | 184/560 [00:05<00:11, 33.75it/s]"
     ]
    },
    {
     "name": "stdout",
     "output_type": "stream",
     "text": [
      "multilayer_perceptron ran in: 0.0 sec\n",
      "multilayer_perceptron ran in: 0.0 sec\n",
      "multilayer_perceptron ran in: 0.0 sec\n",
      "multilayer_perceptron ran in: 0.0 sec\n"
     ]
    },
    {
     "name": "stderr",
     "output_type": "stream",
     "text": [
      "\r",
      " 34%|███▎      | 188/560 [00:05<00:10, 33.97it/s]"
     ]
    },
    {
     "name": "stdout",
     "output_type": "stream",
     "text": [
      "multilayer_perceptron ran in: 0.0 sec\n",
      "multilayer_perceptron ran in: 0.0 sec\n",
      "multilayer_perceptron ran in: 0.015624284744262695 sec\n",
      "multilayer_perceptron ran in: 0.0 sec\n"
     ]
    },
    {
     "name": "stderr",
     "output_type": "stream",
     "text": [
      "\r",
      " 34%|███▍      | 192/560 [00:05<00:10, 34.13it/s]"
     ]
    },
    {
     "name": "stdout",
     "output_type": "stream",
     "text": [
      "multilayer_perceptron ran in: 0.0 sec\n",
      "multilayer_perceptron ran in: 0.0 sec\n",
      "multilayer_perceptron ran in: 0.0 sec\n"
     ]
    },
    {
     "name": "stderr",
     "output_type": "stream",
     "text": [
      "\r",
      " 35%|███▌      | 196/560 [00:05<00:10, 34.24it/s]"
     ]
    },
    {
     "name": "stdout",
     "output_type": "stream",
     "text": [
      "multilayer_perceptron ran in: 0.0 sec\n",
      "multilayer_perceptron ran in: 0.0 sec\n",
      "multilayer_perceptron ran in: 0.0 sec\n",
      "multilayer_perceptron ran in: 0.0 sec\n",
      "multilayer_perceptron ran in: 0.0 sec\n"
     ]
    },
    {
     "name": "stderr",
     "output_type": "stream",
     "text": [
      "\r",
      " 36%|███▌      | 200/560 [00:05<00:10, 34.32it/s]"
     ]
    },
    {
     "name": "stdout",
     "output_type": "stream",
     "text": [
      "multilayer_perceptron ran in: 0.0 sec\n",
      "multilayer_perceptron ran in: 0.0 sec\n"
     ]
    },
    {
     "name": "stderr",
     "output_type": "stream",
     "text": [
      "\r",
      " 36%|███▋      | 204/560 [00:06<00:10, 33.81it/s]"
     ]
    },
    {
     "name": "stdout",
     "output_type": "stream",
     "text": [
      "multilayer_perceptron ran in: 0.0 sec\n",
      "multilayer_perceptron ran in: 0.0 sec\n",
      "multilayer_perceptron ran in: 0.0 sec\n",
      "multilayer_perceptron ran in: 0.0 sec\n",
      "multilayer_perceptron ran in: 0.0 sec\n",
      "multilayer_perceptron ran in: 0.0 sec\n",
      "multilayer_perceptron ran in: 0.0 sec\n"
     ]
    },
    {
     "name": "stderr",
     "output_type": "stream",
     "text": [
      " 38%|███▊      | 212/560 [00:06<00:10, 34.16it/s]"
     ]
    },
    {
     "name": "stdout",
     "output_type": "stream",
     "text": [
      "multilayer_perceptron ran in: 0.0 sec\n",
      "multilayer_perceptron ran in: 0.015606403350830078 sec\n",
      "multilayer_perceptron ran in: 0.0 sec\n",
      "multilayer_perceptron ran in: 0.0 sec\n",
      "multilayer_perceptron ran in: 0.0 sec\n",
      "multilayer_perceptron ran in: 0.0 sec\n",
      "multilayer_perceptron ran in: 0.0 sec\n"
     ]
    },
    {
     "name": "stderr",
     "output_type": "stream",
     "text": [
      " 39%|███▉      | 220/560 [00:06<00:10, 33.87it/s]"
     ]
    },
    {
     "name": "stdout",
     "output_type": "stream",
     "text": [
      "multilayer_perceptron ran in: 0.0 sec\n",
      "multilayer_perceptron ran in: 0.0 sec\n",
      "multilayer_perceptron ran in: 0.0 sec\n",
      "multilayer_perceptron ran in: 0.0 sec\n",
      "multilayer_perceptron ran in: 0.0 sec\n",
      "multilayer_perceptron ran in: 0.0 sec\n",
      "multilayer_perceptron ran in: 0.0 sec\n",
      "multilayer_perceptron ran in: 0.0 sec\n"
     ]
    },
    {
     "name": "stderr",
     "output_type": "stream",
     "text": [
      " 41%|████      | 228/560 [00:06<00:09, 33.96it/s]"
     ]
    },
    {
     "name": "stdout",
     "output_type": "stream",
     "text": [
      "multilayer_perceptron ran in: 0.0 sec\n",
      "multilayer_perceptron ran in: 0.0 sec\n",
      "multilayer_perceptron ran in: 0.015625 sec\n",
      "multilayer_perceptron ran in: 0.0 sec\n",
      "multilayer_perceptron ran in: 0.0 sec\n",
      "multilayer_perceptron ran in: 0.0 sec\n",
      "multilayer_perceptron ran in: 0.0 sec\n"
     ]
    },
    {
     "name": "stderr",
     "output_type": "stream",
     "text": [
      " 42%|████▏     | 236/560 [00:06<00:09, 32.92it/s]"
     ]
    },
    {
     "name": "stdout",
     "output_type": "stream",
     "text": [
      "multilayer_perceptron ran in: 0.015629291534423828 sec\n",
      "multilayer_perceptron ran in: 0.0 sec\n",
      "multilayer_perceptron ran in: 0.0 sec\n",
      "multilayer_perceptron ran in: 0.0 sec\n",
      "multilayer_perceptron ran in: 0.0 sec\n",
      "multilayer_perceptron ran in: 0.0 sec\n",
      "multilayer_perceptron ran in: 0.0 sec\n"
     ]
    },
    {
     "name": "stderr",
     "output_type": "stream",
     "text": [
      "\r",
      " 43%|████▎     | 240/560 [00:07<00:09, 33.38it/s]"
     ]
    },
    {
     "name": "stdout",
     "output_type": "stream",
     "text": [
      "multilayer_perceptron ran in: 0.0 sec\n",
      "multilayer_perceptron ran in: 0.0 sec\n",
      "multilayer_perceptron ran in: 0.0 sec\n",
      "multilayer_perceptron ran in: 0.0 sec\n",
      "multilayer_perceptron ran in: 0.0 sec\n",
      "multilayer_perceptron ran in: 0.0 sec\n",
      "multilayer_perceptron ran in: 0.0 sec\n"
     ]
    },
    {
     "name": "stderr",
     "output_type": "stream",
     "text": [
      " 44%|████▍     | 248/560 [00:07<00:09, 33.39it/s]"
     ]
    },
    {
     "name": "stdout",
     "output_type": "stream",
     "text": [
      "multilayer_perceptron ran in: 0.0 sec\n",
      "multilayer_perceptron ran in: 0.0 sec\n",
      "multilayer_perceptron ran in: 0.0 sec\n",
      "multilayer_perceptron ran in: 0.0 sec\n",
      "multilayer_perceptron ran in: 0.0 sec\n",
      "multilayer_perceptron ran in: 0.0 sec\n"
     ]
    },
    {
     "name": "stderr",
     "output_type": "stream",
     "text": [
      " 46%|████▌     | 256/560 [00:07<00:09, 33.04it/s]"
     ]
    },
    {
     "name": "stdout",
     "output_type": "stream",
     "text": [
      "multilayer_perceptron ran in: 0.0 sec\n",
      "multilayer_perceptron ran in: 0.0 sec\n",
      "multilayer_perceptron ran in: 0.0 sec\n",
      "multilayer_perceptron ran in: 0.0 sec\n",
      "multilayer_perceptron ran in: 0.0 sec\n",
      "multilayer_perceptron ran in: 0.015627622604370117 sec\n",
      "multilayer_perceptron ran in: 0.0 sec\n"
     ]
    },
    {
     "name": "stderr",
     "output_type": "stream",
     "text": [
      "\r",
      " 46%|████▋     | 260/560 [00:07<00:08, 33.47it/s]"
     ]
    },
    {
     "name": "stdout",
     "output_type": "stream",
     "text": [
      "multilayer_perceptron ran in: 0.0 sec\n",
      "multilayer_perceptron ran in: 0.0 sec\n",
      "multilayer_perceptron ran in: 0.0 sec\n",
      "multilayer_perceptron ran in: 0.0 sec\n",
      "multilayer_perceptron ran in: 0.0 sec\n",
      "multilayer_perceptron ran in: 0.0 sec\n"
     ]
    },
    {
     "name": "stderr",
     "output_type": "stream",
     "text": [
      " 48%|████▊     | 268/560 [00:07<00:08, 32.54it/s]"
     ]
    },
    {
     "name": "stdout",
     "output_type": "stream",
     "text": [
      "multilayer_perceptron ran in: 0.0 sec\n",
      "multilayer_perceptron ran in: 0.0 sec\n",
      "multilayer_perceptron ran in: 0.0 sec\n",
      "multilayer_perceptron ran in: 0.0 sec\n",
      "multilayer_perceptron ran in: 0.0156404972076416 sec\n",
      "multilayer_perceptron ran in: 0.0 sec\n",
      "multilayer_perceptron ran in: 0.0 sec\n"
     ]
    },
    {
     "name": "stderr",
     "output_type": "stream",
     "text": [
      " 49%|████▉     | 276/560 [00:08<00:08, 33.52it/s]"
     ]
    },
    {
     "name": "stdout",
     "output_type": "stream",
     "text": [
      "multilayer_perceptron ran in: 0.0 sec\n",
      "multilayer_perceptron ran in: 0.0 sec\n",
      "multilayer_perceptron ran in: 0.0 sec\n",
      "multilayer_perceptron ran in: 0.0 sec\n",
      "multilayer_perceptron ran in: 0.0 sec\n",
      "multilayer_perceptron ran in: 0.0 sec\n"
     ]
    },
    {
     "name": "stderr",
     "output_type": "stream",
     "text": [
      "\r",
      " 50%|█████     | 280/560 [00:08<00:08, 32.52it/s]"
     ]
    },
    {
     "name": "stdout",
     "output_type": "stream",
     "text": [
      "multilayer_perceptron ran in: 0.0 sec\n",
      "multilayer_perceptron ran in: 0.0 sec\n",
      "multilayer_perceptron ran in: 0.0 sec\n",
      "multilayer_perceptron ran in: 0.01562786102294922 sec\n",
      "multilayer_perceptron ran in: 0.0156252384185791 sec\n",
      "multilayer_perceptron ran in: 0.0 sec\n"
     ]
    },
    {
     "name": "stderr",
     "output_type": "stream",
     "text": [
      " 51%|█████▏    | 288/560 [00:08<00:08, 33.15it/s]"
     ]
    },
    {
     "name": "stdout",
     "output_type": "stream",
     "text": [
      "multilayer_perceptron ran in: 0.0 sec\n",
      "multilayer_perceptron ran in: 0.0 sec\n",
      "multilayer_perceptron ran in: 0.0 sec\n",
      "multilayer_perceptron ran in: 0.0 sec\n",
      "multilayer_perceptron ran in: 0.0 sec\n",
      "multilayer_perceptron ran in: 0.0 sec\n",
      "multilayer_perceptron ran in: 0.01562666893005371 sec\n"
     ]
    },
    {
     "name": "stderr",
     "output_type": "stream",
     "text": [
      " 53%|█████▎    | 296/560 [00:08<00:07, 33.83it/s]"
     ]
    },
    {
     "name": "stdout",
     "output_type": "stream",
     "text": [
      "multilayer_perceptron ran in: 0.015623807907104492 sec\n",
      "multilayer_perceptron ran in: 0.0 sec\n",
      "multilayer_perceptron ran in: 0.0 sec\n",
      "multilayer_perceptron ran in: 0.0 sec\n",
      "multilayer_perceptron ran in: 0.0 sec\n",
      "multilayer_perceptron ran in: 0.0 sec\n",
      "multilayer_perceptron ran in: 0.0 sec\n"
     ]
    },
    {
     "name": "stderr",
     "output_type": "stream",
     "text": [
      "\r",
      " 54%|█████▎    | 300/560 [00:08<00:07, 32.73it/s]"
     ]
    },
    {
     "name": "stdout",
     "output_type": "stream",
     "text": [
      "multilayer_perceptron ran in: 0.0 sec\n",
      "multilayer_perceptron ran in: 0.0 sec\n",
      "multilayer_perceptron ran in: 0.015625 sec\n",
      "multilayer_perceptron ran in: 0.0 sec\n",
      "multilayer_perceptron ran in: 0.0 sec\n",
      "multilayer_perceptron ran in: 0.0 sec\n",
      "multilayer_perceptron ran in: 0.0 sec\n"
     ]
    },
    {
     "name": "stderr",
     "output_type": "stream",
     "text": [
      " 55%|█████▌    | 308/560 [00:09<00:07, 33.23it/s]"
     ]
    },
    {
     "name": "stdout",
     "output_type": "stream",
     "text": [
      "multilayer_perceptron ran in: 0.0 sec\n",
      "multilayer_perceptron ran in: 0.0 sec\n",
      "multilayer_perceptron ran in: 0.015630006790161133 sec\n",
      "multilayer_perceptron ran in: 0.0 sec\n",
      "multilayer_perceptron ran in: 0.0 sec\n",
      "multilayer_perceptron ran in: 0.0 sec\n",
      "multilayer_perceptron ran in: 0.0 sec\n",
      "multilayer_perceptron ran in: 0.0 sec\n"
     ]
    },
    {
     "name": "stderr",
     "output_type": "stream",
     "text": [
      " 56%|█████▋    | 316/560 [00:09<00:07, 33.87it/s]"
     ]
    },
    {
     "name": "stdout",
     "output_type": "stream",
     "text": [
      "multilayer_perceptron ran in: 0.0 sec\n",
      "multilayer_perceptron ran in: 0.0 sec\n",
      "multilayer_perceptron ran in: 0.0 sec\n",
      "multilayer_perceptron ran in: 0.0 sec\n",
      "multilayer_perceptron ran in: 0.0 sec\n",
      "multilayer_perceptron ran in: 0.0 sec\n",
      "multilayer_perceptron ran in: 0.0 sec\n",
      "multilayer_perceptron ran in: 0.0 sec\n"
     ]
    },
    {
     "name": "stderr",
     "output_type": "stream",
     "text": [
      " 58%|█████▊    | 324/560 [00:09<00:06, 34.19it/s]"
     ]
    },
    {
     "name": "stdout",
     "output_type": "stream",
     "text": [
      "multilayer_perceptron ran in: 0.0 sec\n",
      "multilayer_perceptron ran in: 0.0 sec\n",
      "multilayer_perceptron ran in: 0.0 sec\n",
      "multilayer_perceptron ran in: 0.0 sec\n",
      "multilayer_perceptron ran in: 0.0 sec\n",
      "multilayer_perceptron ran in: 0.006531953811645508 sec\n",
      "multilayer_perceptron ran in: 0.0 sec\n",
      "multilayer_perceptron ran in: 0.0 sec\n"
     ]
    },
    {
     "name": "stderr",
     "output_type": "stream",
     "text": [
      " 59%|█████▉    | 332/560 [00:09<00:06, 33.95it/s]"
     ]
    },
    {
     "name": "stdout",
     "output_type": "stream",
     "text": [
      "multilayer_perceptron ran in: 0.0 sec\n",
      "multilayer_perceptron ran in: 0.015653371810913086 sec\n",
      "multilayer_perceptron ran in: 0.0 sec\n",
      "multilayer_perceptron ran in: 0.0 sec\n",
      "multilayer_perceptron ran in: 0.0 sec\n",
      "multilayer_perceptron ran in: 0.015651226043701172 sec\n",
      "multilayer_perceptron ran in: 0.0 sec\n"
     ]
    },
    {
     "name": "stderr",
     "output_type": "stream",
     "text": [
      " 61%|██████    | 340/560 [00:10<00:06, 34.23it/s]"
     ]
    },
    {
     "name": "stdout",
     "output_type": "stream",
     "text": [
      "multilayer_perceptron ran in: 0.0 sec\n",
      "multilayer_perceptron ran in: 0.0 sec\n",
      "multilayer_perceptron ran in: 0.015635013580322266 sec\n",
      "multilayer_perceptron ran in: 0.0 sec\n",
      "multilayer_perceptron ran in: 0.0 sec\n",
      "multilayer_perceptron ran in: 0.0 sec\n",
      "multilayer_perceptron ran in: 0.015613794326782227 sec\n"
     ]
    },
    {
     "name": "stderr",
     "output_type": "stream",
     "text": [
      " 62%|██████▏   | 348/560 [00:10<00:06, 34.37it/s]"
     ]
    },
    {
     "name": "stdout",
     "output_type": "stream",
     "text": [
      "multilayer_perceptron ran in: 0.0 sec\n",
      "multilayer_perceptron ran in: 0.0 sec\n",
      "multilayer_perceptron ran in: 0.0 sec\n",
      "multilayer_perceptron ran in: 0.0 sec\n",
      "multilayer_perceptron ran in: 0.0 sec\n",
      "multilayer_perceptron ran in: 0.0 sec\n",
      "multilayer_perceptron ran in: 0.0 sec\n"
     ]
    },
    {
     "name": "stderr",
     "output_type": "stream",
     "text": [
      "\r",
      " 63%|██████▎   | 352/560 [00:10<00:06, 33.84it/s]"
     ]
    },
    {
     "name": "stdout",
     "output_type": "stream",
     "text": [
      "multilayer_perceptron ran in: 0.0 sec\n",
      "multilayer_perceptron ran in: 0.0 sec\n",
      "multilayer_perceptron ran in: 0.0 sec\n",
      "multilayer_perceptron ran in: 0.0 sec\n",
      "multilayer_perceptron ran in: 0.0 sec\n",
      "multilayer_perceptron ran in: 0.0 sec\n",
      "multilayer_perceptron ran in: 0.0 sec\n"
     ]
    },
    {
     "name": "stderr",
     "output_type": "stream",
     "text": [
      " 64%|██████▍   | 360/560 [00:10<00:05, 34.19it/s]"
     ]
    },
    {
     "name": "stdout",
     "output_type": "stream",
     "text": [
      "multilayer_perceptron ran in: 0.015639305114746094 sec\n",
      "multilayer_perceptron ran in: 0.0 sec\n",
      "multilayer_perceptron ran in: 0.0 sec\n",
      "multilayer_perceptron ran in: 0.0 sec\n",
      "multilayer_perceptron ran in: 0.0 sec\n",
      "multilayer_perceptron ran in: 0.0 sec\n",
      "multilayer_perceptron ran in: 0.0 sec\n"
     ]
    },
    {
     "name": "stderr",
     "output_type": "stream",
     "text": [
      " 66%|██████▌   | 368/560 [00:10<00:05, 34.35it/s]"
     ]
    },
    {
     "name": "stdout",
     "output_type": "stream",
     "text": [
      "multilayer_perceptron ran in: 0.0 sec\n",
      "multilayer_perceptron ran in: 0.0 sec\n",
      "multilayer_perceptron ran in: 0.0 sec\n",
      "multilayer_perceptron ran in: 0.0 sec\n",
      "multilayer_perceptron ran in: 0.0 sec\n",
      "multilayer_perceptron ran in: 0.0 sec\n",
      "multilayer_perceptron ran in: 0.0 sec\n",
      "multilayer_perceptron ran in: 0.0 sec\n"
     ]
    },
    {
     "name": "stderr",
     "output_type": "stream",
     "text": [
      " 67%|██████▋   | 376/560 [00:11<00:05, 33.86it/s]"
     ]
    },
    {
     "name": "stdout",
     "output_type": "stream",
     "text": [
      "multilayer_perceptron ran in: 0.0 sec\n",
      "multilayer_perceptron ran in: 0.0 sec\n",
      "multilayer_perceptron ran in: 0.0 sec\n",
      "multilayer_perceptron ran in: 0.0 sec\n",
      "multilayer_perceptron ran in: 0.0 sec\n",
      "multilayer_perceptron ran in: 0.0 sec\n",
      "multilayer_perceptron ran in: 0.0 sec\n"
     ]
    },
    {
     "name": "stderr",
     "output_type": "stream",
     "text": [
      "\r",
      " 68%|██████▊   | 380/560 [00:11<00:05, 34.05it/s]"
     ]
    },
    {
     "name": "stdout",
     "output_type": "stream",
     "text": [
      "multilayer_perceptron ran in: 0.0 sec\n",
      "multilayer_perceptron ran in: 0.0 sec\n",
      "multilayer_perceptron ran in: 0.0 sec\n",
      "multilayer_perceptron ran in: 0.015614032745361328 sec\n",
      "multilayer_perceptron ran in: 0.0 sec\n",
      "multilayer_perceptron ran in: 0.0 sec\n"
     ]
    },
    {
     "name": "stderr",
     "output_type": "stream",
     "text": [
      " 69%|██████▉   | 388/560 [00:11<00:05, 34.28it/s]"
     ]
    },
    {
     "name": "stdout",
     "output_type": "stream",
     "text": [
      "multilayer_perceptron ran in: 0.015651941299438477 sec\n",
      "multilayer_perceptron ran in: 0.015634775161743164 sec\n",
      "multilayer_perceptron ran in: 0.0 sec\n",
      "multilayer_perceptron ran in: 0.0 sec\n",
      "multilayer_perceptron ran in: 0.0 sec\n",
      "multilayer_perceptron ran in: 0.0 sec\n",
      "multilayer_perceptron ran in: 0.0 sec\n",
      "multilayer_perceptron ran in: 0.0 sec\n"
     ]
    },
    {
     "name": "stderr",
     "output_type": "stream",
     "text": [
      " 71%|███████   | 396/560 [00:11<00:04, 34.39it/s]"
     ]
    },
    {
     "name": "stdout",
     "output_type": "stream",
     "text": [
      "multilayer_perceptron ran in: 0.0 sec\n",
      "multilayer_perceptron ran in: 0.0 sec\n",
      "multilayer_perceptron ran in: 0.0 sec\n",
      "multilayer_perceptron ran in: 0.0 sec\n",
      "multilayer_perceptron ran in: 0.0 sec\n",
      "multilayer_perceptron ran in: 0.0 sec\n",
      "multilayer_perceptron ran in: 0.0 sec\n"
     ]
    },
    {
     "name": "stderr",
     "output_type": "stream",
     "text": [
      " 72%|███████▏  | 404/560 [00:11<00:04, 35.28it/s]"
     ]
    },
    {
     "name": "stdout",
     "output_type": "stream",
     "text": [
      "multilayer_perceptron ran in: 0.0 sec\n",
      "multilayer_perceptron ran in: 0.0 sec\n",
      "multilayer_perceptron ran in: 0.0 sec\n",
      "multilayer_perceptron ran in: 0.0 sec\n",
      "multilayer_perceptron ran in: 0.0 sec\n",
      "multilayer_perceptron ran in: 0.0 sec\n",
      "multilayer_perceptron ran in: 0.0 sec\n"
     ]
    },
    {
     "name": "stderr",
     "output_type": "stream",
     "text": [
      " 74%|███████▎  | 412/560 [00:12<00:04, 34.88it/s]"
     ]
    },
    {
     "name": "stdout",
     "output_type": "stream",
     "text": [
      "multilayer_perceptron ran in: 0.0 sec\n",
      "multilayer_perceptron ran in: 0.0 sec\n",
      "multilayer_perceptron ran in: 0.0 sec\n",
      "multilayer_perceptron ran in: 0.0 sec\n",
      "multilayer_perceptron ran in: 0.0 sec\n",
      "multilayer_perceptron ran in: 0.0 sec\n",
      "multilayer_perceptron ran in: 0.0 sec\n"
     ]
    },
    {
     "name": "stderr",
     "output_type": "stream",
     "text": [
      "\r",
      " 74%|███████▍  | 416/560 [00:12<00:04, 33.41it/s]"
     ]
    },
    {
     "name": "stdout",
     "output_type": "stream",
     "text": [
      "multilayer_perceptron ran in: 0.0 sec\n",
      "multilayer_perceptron ran in: 0.0 sec\n",
      "multilayer_perceptron ran in: 0.0 sec\n",
      "multilayer_perceptron ran in: 0.0 sec\n",
      "multilayer_perceptron ran in: 0.0 sec\n",
      "multilayer_perceptron ran in: 0.0 sec\n",
      "multilayer_perceptron ran in: 0.0 sec\n"
     ]
    },
    {
     "name": "stderr",
     "output_type": "stream",
     "text": [
      " 76%|███████▌  | 424/560 [00:12<00:03, 34.97it/s]"
     ]
    },
    {
     "name": "stdout",
     "output_type": "stream",
     "text": [
      "multilayer_perceptron ran in: 0.0 sec\n",
      "multilayer_perceptron ran in: 0.0 sec\n",
      "multilayer_perceptron ran in: 0.0 sec\n",
      "multilayer_perceptron ran in: 0.0157926082611084 sec\n",
      "multilayer_perceptron ran in: 0.0 sec\n",
      "multilayer_perceptron ran in: 0.0 sec\n",
      "multilayer_perceptron ran in: 0.0 sec\n"
     ]
    },
    {
     "name": "stderr",
     "output_type": "stream",
     "text": [
      " 77%|███████▋  | 432/560 [00:12<00:03, 33.65it/s]"
     ]
    },
    {
     "name": "stdout",
     "output_type": "stream",
     "text": [
      "multilayer_perceptron ran in: 0.0 sec\n",
      "multilayer_perceptron ran in: 0.0 sec\n",
      "multilayer_perceptron ran in: 0.0 sec\n",
      "multilayer_perceptron ran in: 0.0 sec\n",
      "multilayer_perceptron ran in: 0.0 sec\n",
      "multilayer_perceptron ran in: 0.0 sec\n",
      "multilayer_perceptron ran in: 0.0 sec\n",
      "multilayer_perceptron ran in: 0.0 sec\n"
     ]
    },
    {
     "name": "stderr",
     "output_type": "stream",
     "text": [
      " 79%|███████▊  | 440/560 [00:13<00:03, 34.09it/s]"
     ]
    },
    {
     "name": "stdout",
     "output_type": "stream",
     "text": [
      "multilayer_perceptron ran in: 0.0 sec\n",
      "multilayer_perceptron ran in: 0.0 sec\n",
      "multilayer_perceptron ran in: 0.015629053115844727 sec\n",
      "multilayer_perceptron ran in: 0.0 sec\n",
      "multilayer_perceptron ran in: 0.0 sec\n",
      "multilayer_perceptron ran in: 0.0 sec\n",
      "multilayer_perceptron ran in: 0.015630245208740234 sec\n",
      "multilayer_perceptron ran in: 0.0 sec\n"
     ]
    },
    {
     "name": "stderr",
     "output_type": "stream",
     "text": [
      " 80%|████████  | 448/560 [00:13<00:03, 33.73it/s]"
     ]
    },
    {
     "name": "stdout",
     "output_type": "stream",
     "text": [
      "multilayer_perceptron ran in: 0.0 sec\n",
      "multilayer_perceptron ran in: 0.0 sec\n",
      "multilayer_perceptron ran in: 0.0 sec\n",
      "multilayer_perceptron ran in: 0.0 sec\n",
      "multilayer_perceptron ran in: 0.0 sec\n",
      "multilayer_perceptron ran in: 0.0 sec\n",
      "multilayer_perceptron ran in: 0.0 sec\n",
      "multilayer_perceptron ran in: 0.0 sec\n"
     ]
    },
    {
     "name": "stderr",
     "output_type": "stream",
     "text": [
      " 81%|████████▏ | 456/560 [00:13<00:03, 34.12it/s]"
     ]
    },
    {
     "name": "stdout",
     "output_type": "stream",
     "text": [
      "multilayer_perceptron ran in: 0.0 sec\n",
      "multilayer_perceptron ran in: 0.006529808044433594 sec\n",
      "multilayer_perceptron ran in: 0.0 sec\n",
      "multilayer_perceptron ran in: 0.0 sec\n",
      "multilayer_perceptron ran in: 0.0 sec\n",
      "multilayer_perceptron ran in: 0.015648365020751953 sec\n",
      "multilayer_perceptron ran in: 0.0 sec\n"
     ]
    },
    {
     "name": "stderr",
     "output_type": "stream",
     "text": [
      "\r",
      " 82%|████████▏ | 460/560 [00:13<00:02, 34.24it/s]"
     ]
    },
    {
     "name": "stdout",
     "output_type": "stream",
     "text": [
      "multilayer_perceptron ran in: 0.0 sec\n",
      "multilayer_perceptron ran in: 0.0 sec\n",
      "multilayer_perceptron ran in: 0.0 sec\n",
      "multilayer_perceptron ran in: 0.0 sec\n",
      "multilayer_perceptron ran in: 0.0 sec\n",
      "multilayer_perceptron ran in: 0.0 sec\n",
      "multilayer_perceptron ran in: 0.0 sec\n"
     ]
    },
    {
     "name": "stderr",
     "output_type": "stream",
     "text": [
      " 84%|████████▎ | 468/560 [00:13<00:02, 34.40it/s]"
     ]
    },
    {
     "name": "stdout",
     "output_type": "stream",
     "text": [
      "multilayer_perceptron ran in: 0.0 sec\n",
      "multilayer_perceptron ran in: 0.0 sec\n",
      "multilayer_perceptron ran in: 0.0 sec\n",
      "multilayer_perceptron ran in: 0.0 sec\n",
      "multilayer_perceptron ran in: 0.0 sec\n",
      "multilayer_perceptron ran in: 0.0 sec\n",
      "multilayer_perceptron ran in: 0.0 sec\n"
     ]
    },
    {
     "name": "stderr",
     "output_type": "stream",
     "text": [
      " 85%|████████▌ | 476/560 [00:14<00:02, 34.05it/s]"
     ]
    },
    {
     "name": "stdout",
     "output_type": "stream",
     "text": [
      "multilayer_perceptron ran in: 0.0 sec\n",
      "multilayer_perceptron ran in: 0.0 sec\n",
      "multilayer_perceptron ran in: 0.0 sec\n",
      "multilayer_perceptron ran in: 0.0 sec\n",
      "multilayer_perceptron ran in: 0.0 sec\n",
      "multilayer_perceptron ran in: 0.01563429832458496 sec\n",
      "multilayer_perceptron ran in: 0.0 sec\n"
     ]
    },
    {
     "name": "stderr",
     "output_type": "stream",
     "text": [
      " 86%|████████▋ | 484/560 [00:14<00:02, 34.28it/s]"
     ]
    },
    {
     "name": "stdout",
     "output_type": "stream",
     "text": [
      "multilayer_perceptron ran in: 0.0 sec\n",
      "multilayer_perceptron ran in: 0.0 sec\n",
      "multilayer_perceptron ran in: 0.015637636184692383 sec\n",
      "multilayer_perceptron ran in: 0.0 sec\n",
      "multilayer_perceptron ran in: 0.0 sec\n",
      "multilayer_perceptron ran in: 0.0 sec\n",
      "multilayer_perceptron ran in: 0.0 sec\n"
     ]
    },
    {
     "name": "stderr",
     "output_type": "stream",
     "text": [
      " 88%|████████▊ | 492/560 [00:14<00:01, 34.02it/s]"
     ]
    },
    {
     "name": "stdout",
     "output_type": "stream",
     "text": [
      "multilayer_perceptron ran in: 0.0 sec\n",
      "multilayer_perceptron ran in: 0.0 sec\n",
      "multilayer_perceptron ran in: 0.0 sec\n",
      "multilayer_perceptron ran in: 0.0 sec\n",
      "multilayer_perceptron ran in: 0.0 sec\n",
      "multilayer_perceptron ran in: 0.0 sec\n",
      "multilayer_perceptron ran in: 0.0 sec\n"
     ]
    },
    {
     "name": "stderr",
     "output_type": "stream",
     "text": [
      "\r",
      " 89%|████████▊ | 496/560 [00:14<00:01, 33.98it/s]"
     ]
    },
    {
     "name": "stdout",
     "output_type": "stream",
     "text": [
      "multilayer_perceptron ran in: 0.0 sec\n",
      "multilayer_perceptron ran in: 0.0 sec\n",
      "multilayer_perceptron ran in: 0.0 sec\n",
      "multilayer_perceptron ran in: 0.0 sec\n",
      "multilayer_perceptron ran in: 0.0 sec\n",
      "multilayer_perceptron ran in: 0.0 sec\n",
      "multilayer_perceptron ran in: 0.0 sec\n"
     ]
    },
    {
     "name": "stderr",
     "output_type": "stream",
     "text": [
      " 90%|█████████ | 504/560 [00:14<00:01, 34.25it/s]"
     ]
    },
    {
     "name": "stdout",
     "output_type": "stream",
     "text": [
      "multilayer_perceptron ran in: 0.0 sec\n",
      "multilayer_perceptron ran in: 0.0 sec\n",
      "multilayer_perceptron ran in: 0.0 sec\n",
      "multilayer_perceptron ran in: 0.0 sec\n",
      "multilayer_perceptron ran in: 0.0 sec\n",
      "multilayer_perceptron ran in: 0.0 sec\n",
      "multilayer_perceptron ran in: 0.0 sec\n"
     ]
    },
    {
     "name": "stderr",
     "output_type": "stream",
     "text": [
      " 91%|█████████▏| 512/560 [00:15<00:01, 34.38it/s]"
     ]
    },
    {
     "name": "stdout",
     "output_type": "stream",
     "text": [
      "multilayer_perceptron ran in: 0.0 sec\n",
      "multilayer_perceptron ran in: 0.015620708465576172 sec\n",
      "multilayer_perceptron ran in: 0.0 sec\n",
      "multilayer_perceptron ran in: 0.0 sec\n",
      "multilayer_perceptron ran in: 0.0 sec\n",
      "multilayer_perceptron ran in: 0.015640735626220703 sec\n",
      "multilayer_perceptron ran in: 0.0 sec\n",
      "multilayer_perceptron ran in: 0.0 sec\n"
     ]
    },
    {
     "name": "stderr",
     "output_type": "stream",
     "text": [
      "\r",
      " 92%|█████████▏| 516/560 [00:15<00:01, 34.42it/s]"
     ]
    },
    {
     "name": "stdout",
     "output_type": "stream",
     "text": [
      "multilayer_perceptron ran in: 0.0 sec\n",
      "multilayer_perceptron ran in: 0.0 sec\n",
      "multilayer_perceptron ran in: 0.015637636184692383 sec\n",
      "multilayer_perceptron ran in: 0.0 sec\n"
     ]
    },
    {
     "name": "stderr",
     "output_type": "stream",
     "text": [
      " 94%|█████████▎| 524/560 [00:15<00:01, 28.21it/s]"
     ]
    },
    {
     "name": "stdout",
     "output_type": "stream",
     "text": [
      "multilayer_perceptron ran in: 0.0 sec\n",
      "multilayer_perceptron ran in: 0.0 sec\n",
      "multilayer_perceptron ran in: 0.0 sec\n",
      "multilayer_perceptron ran in: 0.0 sec\n",
      "multilayer_perceptron ran in: 0.0 sec\n",
      "multilayer_perceptron ran in: 0.0 sec\n",
      "multilayer_perceptron ran in: 0.015630245208740234 sec\n"
     ]
    },
    {
     "name": "stderr",
     "output_type": "stream",
     "text": [
      " 95%|█████████▌| 532/560 [00:15<00:00, 31.11it/s]"
     ]
    },
    {
     "name": "stdout",
     "output_type": "stream",
     "text": [
      "multilayer_perceptron ran in: 0.015631437301635742 sec\n",
      "multilayer_perceptron ran in: 0.0 sec\n",
      "multilayer_perceptron ran in: 0.0 sec\n",
      "multilayer_perceptron ran in: 0.0 sec\n",
      "multilayer_perceptron ran in: 0.015621423721313477 sec\n",
      "multilayer_perceptron ran in: 0.0 sec\n",
      "multilayer_perceptron ran in: 0.0 sec\n"
     ]
    },
    {
     "name": "stderr",
     "output_type": "stream",
     "text": [
      "\r",
      " 96%|█████████▌| 536/560 [00:15<00:00, 32.06it/s]"
     ]
    },
    {
     "name": "stdout",
     "output_type": "stream",
     "text": [
      "multilayer_perceptron ran in: 0.0 sec\n",
      "multilayer_perceptron ran in: 0.0 sec\n",
      "multilayer_perceptron ran in: 0.0 sec\n",
      "multilayer_perceptron ran in: 0.0 sec\n",
      "multilayer_perceptron ran in: 0.0 sec\n",
      "multilayer_perceptron ran in: 0.0 sec\n",
      "multilayer_perceptron ran in: 0.0 sec\n"
     ]
    },
    {
     "name": "stderr",
     "output_type": "stream",
     "text": [
      " 97%|█████████▋| 544/560 [00:16<00:00, 32.89it/s]"
     ]
    },
    {
     "name": "stdout",
     "output_type": "stream",
     "text": [
      "multilayer_perceptron ran in: 0.0 sec\n",
      "multilayer_perceptron ran in: 0.0 sec\n",
      "multilayer_perceptron ran in: 0.0 sec\n",
      "multilayer_perceptron ran in: 0.0 sec\n",
      "multilayer_perceptron ran in: 0.0 sec\n",
      "multilayer_perceptron ran in: 0.0 sec\n",
      "multilayer_perceptron ran in: 0.0 sec\n"
     ]
    },
    {
     "name": "stderr",
     "output_type": "stream",
     "text": [
      " 99%|█████████▊| 552/560 [00:16<00:00, 33.69it/s]"
     ]
    },
    {
     "name": "stdout",
     "output_type": "stream",
     "text": [
      "multilayer_perceptron ran in: 0.0 sec\n",
      "multilayer_perceptron ran in: 0.0 sec\n",
      "multilayer_perceptron ran in: 0.0 sec\n",
      "multilayer_perceptron ran in: 0.01561427116394043 sec\n",
      "multilayer_perceptron ran in: 0.0 sec\n",
      "multilayer_perceptron ran in: 0.0 sec\n",
      "multilayer_perceptron ran in: 0.0 sec\n"
     ]
    },
    {
     "name": "stderr",
     "output_type": "stream",
     "text": [
      "100%|██████████| 560/560 [00:16<00:00, 34.23it/s]"
     ]
    },
    {
     "name": "stdout",
     "output_type": "stream",
     "text": [
      "multilayer_perceptron ran in: 0.01564192771911621 sec\n",
      "multilayer_perceptron ran in: 0.0 sec\n",
      "multilayer_perceptron ran in: 0.0 sec\n",
      "multilayer_perceptron ran in: 0.01562643051147461 sec\n",
      "multilayer_perceptron ran in: 0.0 sec\n",
      "multilayer_perceptron ran in: 0.0 sec\n",
      "multilayer_perceptron ran in: 0.0 sec\n"
     ]
    },
    {
     "name": "stderr",
     "output_type": "stream",
     "text": [
      "100%|██████████| 560/560 [00:16<00:00, 33.64it/s]\n"
     ]
    },
    {
     "name": "stdout",
     "output_type": "stream",
     "text": [
      "Epoch: 8 Cost=104083.4297\n"
     ]
    },
    {
     "name": "stderr",
     "output_type": "stream",
     "text": [
      "  1%|          | 4/560 [00:00<00:14, 37.45it/s]"
     ]
    },
    {
     "name": "stdout",
     "output_type": "stream",
     "text": [
      "multilayer_perceptron ran in: 0.0 sec\n",
      "multilayer_perceptron ran in: 0.0 sec\n",
      "multilayer_perceptron ran in: 0.0 sec\n",
      "multilayer_perceptron ran in: 0.0 sec\n",
      "multilayer_perceptron ran in: 0.0 sec\n",
      "multilayer_perceptron ran in: 0.0 sec\n",
      "multilayer_perceptron ran in: 0.0 sec\n",
      "multilayer_perceptron ran in: 0.0 sec\n"
     ]
    },
    {
     "name": "stderr",
     "output_type": "stream",
     "text": [
      "  2%|▏         | 12/560 [00:00<00:15, 35.12it/s]"
     ]
    },
    {
     "name": "stdout",
     "output_type": "stream",
     "text": [
      "multilayer_perceptron ran in: 0.0 sec\n",
      "multilayer_perceptron ran in: 0.0 sec\n",
      "multilayer_perceptron ran in: 0.0 sec\n",
      "multilayer_perceptron ran in: 0.0 sec\n",
      "multilayer_perceptron ran in: 0.0 sec\n",
      "multilayer_perceptron ran in: 0.0 sec\n",
      "multilayer_perceptron ran in: 0.0 sec\n"
     ]
    },
    {
     "name": "stderr",
     "output_type": "stream",
     "text": [
      "\r",
      "  3%|▎         | 16/560 [00:00<00:16, 33.10it/s]"
     ]
    },
    {
     "name": "stdout",
     "output_type": "stream",
     "text": [
      "multilayer_perceptron ran in: 0.0 sec\n",
      "multilayer_perceptron ran in: 0.0 sec\n",
      "multilayer_perceptron ran in: 0.0 sec\n",
      "multilayer_perceptron ran in: 0.0 sec\n",
      "multilayer_perceptron ran in: 0.0 sec\n"
     ]
    },
    {
     "name": "stderr",
     "output_type": "stream",
     "text": [
      "\r",
      "  4%|▎         | 20/560 [00:00<00:16, 33.60it/s]"
     ]
    },
    {
     "name": "stdout",
     "output_type": "stream",
     "text": [
      "multilayer_perceptron ran in: 0.0 sec\n",
      "multilayer_perceptron ran in: 0.0 sec\n"
     ]
    },
    {
     "name": "stderr",
     "output_type": "stream",
     "text": [
      "\r",
      "  4%|▍         | 24/560 [00:00<00:15, 33.90it/s]"
     ]
    },
    {
     "name": "stdout",
     "output_type": "stream",
     "text": [
      "multilayer_perceptron ran in: 0.0 sec\n",
      "multilayer_perceptron ran in: 0.0 sec\n",
      "multilayer_perceptron ran in: 0.0 sec\n",
      "multilayer_perceptron ran in: 0.0 sec\n",
      "multilayer_perceptron ran in: 0.0 sec\n"
     ]
    },
    {
     "name": "stderr",
     "output_type": "stream",
     "text": [
      "\r",
      "  5%|▌         | 28/560 [00:00<00:15, 33.48it/s]"
     ]
    },
    {
     "name": "stdout",
     "output_type": "stream",
     "text": [
      "multilayer_perceptron ran in: 0.0 sec\n",
      "multilayer_perceptron ran in: 0.0 sec\n"
     ]
    },
    {
     "name": "stderr",
     "output_type": "stream",
     "text": [
      "\r",
      "  6%|▌         | 32/560 [00:00<00:15, 33.80it/s]"
     ]
    },
    {
     "name": "stdout",
     "output_type": "stream",
     "text": [
      "multilayer_perceptron ran in: 0.0 sec\n",
      "multilayer_perceptron ran in: 0.0 sec\n",
      "multilayer_perceptron ran in: 0.0 sec\n",
      "multilayer_perceptron ran in: 0.0 sec\n",
      "multilayer_perceptron ran in: 0.0 sec\n",
      "multilayer_perceptron ran in: 0.0 sec\n",
      "multilayer_perceptron ran in: 0.0 sec\n"
     ]
    },
    {
     "name": "stderr",
     "output_type": "stream",
     "text": [
      "  7%|▋         | 40/560 [00:01<00:15, 34.17it/s]"
     ]
    },
    {
     "name": "stdout",
     "output_type": "stream",
     "text": [
      "multilayer_perceptron ran in: 0.0 sec\n",
      "multilayer_perceptron ran in: 0.01563286781311035 sec\n",
      "multilayer_perceptron ran in: 0.0 sec\n",
      "multilayer_perceptron ran in: 0.0 sec\n",
      "multilayer_perceptron ran in: 0.0 sec\n",
      "multilayer_perceptron ran in: 0.0 sec\n",
      "multilayer_perceptron ran in: 0.0 sec\n"
     ]
    },
    {
     "name": "stderr",
     "output_type": "stream",
     "text": [
      "  9%|▊         | 48/560 [00:01<00:15, 33.77it/s]"
     ]
    },
    {
     "name": "stdout",
     "output_type": "stream",
     "text": [
      "multilayer_perceptron ran in: 0.0 sec\n",
      "multilayer_perceptron ran in: 0.0 sec\n",
      "multilayer_perceptron ran in: 0.0 sec\n",
      "multilayer_perceptron ran in: 0.0 sec\n",
      "multilayer_perceptron ran in: 0.0 sec\n",
      "multilayer_perceptron ran in: 0.0 sec\n",
      "multilayer_perceptron ran in: 0.0 sec\n"
     ]
    },
    {
     "name": "stderr",
     "output_type": "stream",
     "text": [
      " 10%|█         | 56/560 [00:01<00:14, 34.14it/s]"
     ]
    },
    {
     "name": "stdout",
     "output_type": "stream",
     "text": [
      "multilayer_perceptron ran in: 0.0 sec\n",
      "multilayer_perceptron ran in: 0.0 sec\n",
      "multilayer_perceptron ran in: 0.015639305114746094 sec\n",
      "multilayer_perceptron ran in: 0.0 sec\n",
      "multilayer_perceptron ran in: 0.0 sec\n",
      "multilayer_perceptron ran in: 0.0 sec\n",
      "multilayer_perceptron ran in: 0.015636920928955078 sec\n",
      "multilayer_perceptron ran in: 0.0 sec\n"
     ]
    },
    {
     "name": "stderr",
     "output_type": "stream",
     "text": [
      " 11%|█▏        | 64/560 [00:01<00:14, 33.95it/s]"
     ]
    },
    {
     "name": "stdout",
     "output_type": "stream",
     "text": [
      "multilayer_perceptron ran in: 0.0 sec\n",
      "multilayer_perceptron ran in: 0.0 sec\n",
      "multilayer_perceptron ran in: 0.0 sec\n",
      "multilayer_perceptron ran in: 0.0 sec\n",
      "multilayer_perceptron ran in: 0.0 sec\n",
      "multilayer_perceptron ran in: 0.0 sec\n",
      "multilayer_perceptron ran in: 0.0 sec\n",
      "multilayer_perceptron ran in: 0.0 sec\n"
     ]
    },
    {
     "name": "stderr",
     "output_type": "stream",
     "text": [
      " 13%|█▎        | 72/560 [00:02<00:14, 33.94it/s]"
     ]
    },
    {
     "name": "stdout",
     "output_type": "stream",
     "text": [
      "multilayer_perceptron ran in: 0.0 sec\n",
      "multilayer_perceptron ran in: 0.0 sec\n",
      "multilayer_perceptron ran in: 0.0 sec\n",
      "multilayer_perceptron ran in: 0.0 sec\n",
      "multilayer_perceptron ran in: 0.0 sec\n",
      "multilayer_perceptron ran in: 0.0 sec\n",
      "multilayer_perceptron ran in: 0.015639066696166992 sec\n",
      "multilayer_perceptron ran in: 0.0 sec\n"
     ]
    },
    {
     "name": "stderr",
     "output_type": "stream",
     "text": [
      " 14%|█▍        | 80/560 [00:02<00:14, 34.22it/s]"
     ]
    },
    {
     "name": "stdout",
     "output_type": "stream",
     "text": [
      "multilayer_perceptron ran in: 0.0 sec\n",
      "multilayer_perceptron ran in: 0.0 sec\n",
      "multilayer_perceptron ran in: 0.0 sec\n",
      "multilayer_perceptron ran in: 0.01562356948852539 sec\n",
      "multilayer_perceptron ran in: 0.0 sec\n",
      "multilayer_perceptron ran in: 0.0 sec\n",
      "multilayer_perceptron ran in: 0.0 sec\n"
     ]
    },
    {
     "name": "stderr",
     "output_type": "stream",
     "text": [
      " 16%|█▌        | 88/560 [00:02<00:13, 34.37it/s]"
     ]
    },
    {
     "name": "stdout",
     "output_type": "stream",
     "text": [
      "multilayer_perceptron ran in: 0.0 sec\n",
      "multilayer_perceptron ran in: 0.0 sec\n",
      "multilayer_perceptron ran in: 0.0 sec\n",
      "multilayer_perceptron ran in: 0.0 sec\n",
      "multilayer_perceptron ran in: 0.0 sec\n",
      "multilayer_perceptron ran in: 0.0 sec\n",
      "multilayer_perceptron ran in: 0.0 sec\n"
     ]
    },
    {
     "name": "stderr",
     "output_type": "stream",
     "text": [
      "\r",
      " 16%|█▋        | 92/560 [00:02<00:13, 34.41it/s]"
     ]
    },
    {
     "name": "stdout",
     "output_type": "stream",
     "text": [
      "multilayer_perceptron ran in: 0.0 sec\n",
      "multilayer_perceptron ran in: 0.0 sec\n",
      "multilayer_perceptron ran in: 0.0 sec\n",
      "multilayer_perceptron ran in: 0.0 sec\n",
      "multilayer_perceptron ran in: 0.0 sec\n",
      "multilayer_perceptron ran in: 0.0 sec\n",
      "multilayer_perceptron ran in: 0.0 sec\n"
     ]
    },
    {
     "name": "stderr",
     "output_type": "stream",
     "text": [
      " 18%|█▊        | 100/560 [00:02<00:13, 34.06it/s]"
     ]
    },
    {
     "name": "stdout",
     "output_type": "stream",
     "text": [
      "multilayer_perceptron ran in: 0.0 sec\n",
      "multilayer_perceptron ran in: 0.0 sec\n",
      "multilayer_perceptron ran in: 0.0 sec\n",
      "multilayer_perceptron ran in: 0.0 sec\n",
      "multilayer_perceptron ran in: 0.0 sec\n",
      "multilayer_perceptron ran in: 0.0 sec\n",
      "multilayer_perceptron ran in: 0.0 sec\n"
     ]
    },
    {
     "name": "stderr",
     "output_type": "stream",
     "text": [
      " 19%|█▉        | 108/560 [00:03<00:13, 34.28it/s]"
     ]
    },
    {
     "name": "stdout",
     "output_type": "stream",
     "text": [
      "multilayer_perceptron ran in: 0.0 sec\n",
      "multilayer_perceptron ran in: 0.0 sec\n",
      "multilayer_perceptron ran in: 0.0 sec\n",
      "multilayer_perceptron ran in: 0.0 sec\n",
      "multilayer_perceptron ran in: 0.0 sec\n",
      "multilayer_perceptron ran in: 0.0 sec\n",
      "multilayer_perceptron ran in: 0.0 sec\n"
     ]
    },
    {
     "name": "stderr",
     "output_type": "stream",
     "text": [
      " 21%|██        | 116/560 [00:03<00:13, 33.45it/s]"
     ]
    },
    {
     "name": "stdout",
     "output_type": "stream",
     "text": [
      "multilayer_perceptron ran in: 0.00653529167175293 sec\n",
      "multilayer_perceptron ran in: 0.0 sec\n",
      "multilayer_perceptron ran in: 0.0 sec\n",
      "multilayer_perceptron ran in: 0.0 sec\n",
      "multilayer_perceptron ran in: 0.0 sec\n",
      "multilayer_perceptron ran in: 0.0 sec\n",
      "multilayer_perceptron ran in: 0.0 sec\n"
     ]
    },
    {
     "name": "stderr",
     "output_type": "stream",
     "text": [
      "\r",
      " 21%|██▏       | 120/560 [00:03<00:12, 34.56it/s]"
     ]
    },
    {
     "name": "stdout",
     "output_type": "stream",
     "text": [
      "multilayer_perceptron ran in: 0.0 sec\n",
      "multilayer_perceptron ran in: 0.0 sec\n",
      "multilayer_perceptron ran in: 0.0 sec\n",
      "multilayer_perceptron ran in: 0.0 sec\n",
      "multilayer_perceptron ran in: 0.0 sec\n",
      "multilayer_perceptron ran in: 0.0 sec\n",
      "multilayer_perceptron ran in: 0.0 sec\n"
     ]
    },
    {
     "name": "stderr",
     "output_type": "stream",
     "text": [
      " 23%|██▎       | 128/560 [00:03<00:12, 34.53it/s]"
     ]
    },
    {
     "name": "stdout",
     "output_type": "stream",
     "text": [
      "multilayer_perceptron ran in: 0.0 sec\n",
      "multilayer_perceptron ran in: 0.0 sec\n",
      "multilayer_perceptron ran in: 0.0 sec\n",
      "multilayer_perceptron ran in: 0.0 sec\n",
      "multilayer_perceptron ran in: 0.0 sec\n",
      "multilayer_perceptron ran in: 0.0 sec\n",
      "multilayer_perceptron ran in: 0.0 sec\n",
      "multilayer_perceptron ran in: 0.0 sec\n"
     ]
    },
    {
     "name": "stderr",
     "output_type": "stream",
     "text": [
      " 24%|██▍       | 136/560 [00:03<00:12, 34.65it/s]"
     ]
    },
    {
     "name": "stdout",
     "output_type": "stream",
     "text": [
      "multilayer_perceptron ran in: 0.0 sec\n",
      "multilayer_perceptron ran in: 0.0 sec\n",
      "multilayer_perceptron ran in: 0.0020263195037841797 sec\n",
      "multilayer_perceptron ran in: 0.0 sec\n",
      "multilayer_perceptron ran in: 0.0 sec\n",
      "multilayer_perceptron ran in: 0.0 sec\n",
      "multilayer_perceptron ran in: 0.0 sec\n",
      "multilayer_perceptron ran in: 0.0 sec\n"
     ]
    },
    {
     "name": "stderr",
     "output_type": "stream",
     "text": [
      " 26%|██▌       | 144/560 [00:04<00:12, 34.41it/s]"
     ]
    },
    {
     "name": "stdout",
     "output_type": "stream",
     "text": [
      "multilayer_perceptron ran in: 0.0 sec\n",
      "multilayer_perceptron ran in: 0.0 sec\n",
      "multilayer_perceptron ran in: 0.0 sec\n",
      "multilayer_perceptron ran in: 0.0 sec\n",
      "multilayer_perceptron ran in: 0.0 sec\n",
      "multilayer_perceptron ran in: 0.0 sec\n",
      "multilayer_perceptron ran in: 0.0 sec\n"
     ]
    },
    {
     "name": "stderr",
     "output_type": "stream",
     "text": [
      " 27%|██▋       | 152/560 [00:04<00:11, 34.46it/s]"
     ]
    },
    {
     "name": "stdout",
     "output_type": "stream",
     "text": [
      "multilayer_perceptron ran in: 0.0 sec\n",
      "multilayer_perceptron ran in: 0.0 sec\n",
      "multilayer_perceptron ran in: 0.0 sec\n",
      "multilayer_perceptron ran in: 0.0 sec\n",
      "multilayer_perceptron ran in: 0.015624523162841797 sec\n",
      "multilayer_perceptron ran in: 0.0 sec\n",
      "multilayer_perceptron ran in: 0.0 sec\n"
     ]
    },
    {
     "name": "stderr",
     "output_type": "stream",
     "text": [
      " 29%|██▊       | 160/560 [00:04<00:11, 34.48it/s]"
     ]
    },
    {
     "name": "stdout",
     "output_type": "stream",
     "text": [
      "multilayer_perceptron ran in: 0.0 sec\n",
      "multilayer_perceptron ran in: 0.0 sec\n",
      "multilayer_perceptron ran in: 0.0 sec\n",
      "multilayer_perceptron ran in: 0.0 sec\n",
      "multilayer_perceptron ran in: 0.0 sec\n",
      "multilayer_perceptron ran in: 0.0 sec\n",
      "multilayer_perceptron ran in: 0.0 sec\n"
     ]
    },
    {
     "name": "stderr",
     "output_type": "stream",
     "text": [
      "\r",
      " 29%|██▉       | 164/560 [00:04<00:11, 34.49it/s]"
     ]
    },
    {
     "name": "stdout",
     "output_type": "stream",
     "text": [
      "multilayer_perceptron ran in: 0.0 sec\n",
      "multilayer_perceptron ran in: 0.01564645767211914 sec\n",
      "multilayer_perceptron ran in: 0.0 sec\n",
      "multilayer_perceptron ran in: 0.0 sec\n",
      "multilayer_perceptron ran in: 0.0 sec\n",
      "multilayer_perceptron ran in: 0.0 sec\n",
      "multilayer_perceptron ran in: 0.0 sec\n"
     ]
    },
    {
     "name": "stderr",
     "output_type": "stream",
     "text": [
      " 31%|███       | 172/560 [00:05<00:11, 34.09it/s]"
     ]
    },
    {
     "name": "stdout",
     "output_type": "stream",
     "text": [
      "multilayer_perceptron ran in: 0.0 sec\n",
      "multilayer_perceptron ran in: 0.0 sec\n",
      "multilayer_perceptron ran in: 0.0 sec\n",
      "multilayer_perceptron ran in: 0.0 sec\n",
      "multilayer_perceptron ran in: 0.0 sec\n",
      "multilayer_perceptron ran in: 0.0 sec\n",
      "multilayer_perceptron ran in: 0.0 sec\n"
     ]
    },
    {
     "name": "stderr",
     "output_type": "stream",
     "text": [
      " 32%|███▏      | 180/560 [00:05<00:11, 34.30it/s]"
     ]
    },
    {
     "name": "stdout",
     "output_type": "stream",
     "text": [
      "multilayer_perceptron ran in: 0.0 sec\n",
      "multilayer_perceptron ran in: 0.0 sec\n",
      "multilayer_perceptron ran in: 0.0 sec\n",
      "multilayer_perceptron ran in: 0.0 sec\n",
      "multilayer_perceptron ran in: 0.0 sec\n",
      "multilayer_perceptron ran in: 0.0 sec\n",
      "multilayer_perceptron ran in: 0.0 sec\n"
     ]
    },
    {
     "name": "stderr",
     "output_type": "stream",
     "text": [
      " 34%|███▎      | 188/560 [00:05<00:10, 34.41it/s]"
     ]
    },
    {
     "name": "stdout",
     "output_type": "stream",
     "text": [
      "multilayer_perceptron ran in: 0.0 sec\n",
      "multilayer_perceptron ran in: 0.0 sec\n",
      "multilayer_perceptron ran in: 0.0 sec\n",
      "multilayer_perceptron ran in: 0.0 sec\n",
      "multilayer_perceptron ran in: 0.0156552791595459 sec\n",
      "multilayer_perceptron ran in: 0.0 sec\n",
      "multilayer_perceptron ran in: 0.0 sec\n"
     ]
    },
    {
     "name": "stderr",
     "output_type": "stream",
     "text": [
      "\r",
      " 34%|███▍      | 192/560 [00:05<00:10, 33.87it/s]"
     ]
    },
    {
     "name": "stdout",
     "output_type": "stream",
     "text": [
      "multilayer_perceptron ran in: 0.0 sec\n",
      "multilayer_perceptron ran in: 0.0 sec\n",
      "multilayer_perceptron ran in: 0.0 sec\n",
      "multilayer_perceptron ran in: 0.0 sec\n",
      "multilayer_perceptron ran in: 0.0 sec\n",
      "multilayer_perceptron ran in: 0.0 sec\n",
      "multilayer_perceptron ran in: 0.015625953674316406 sec\n",
      "multilayer_perceptron ran in: 0.0 sec\n"
     ]
    },
    {
     "name": "stderr",
     "output_type": "stream",
     "text": [
      " 36%|███▌      | 200/560 [00:05<00:10, 33.71it/s]"
     ]
    },
    {
     "name": "stdout",
     "output_type": "stream",
     "text": [
      "multilayer_perceptron ran in: 0.0 sec\n",
      "multilayer_perceptron ran in: 0.0 sec\n",
      "multilayer_perceptron ran in: 0.015626192092895508 sec\n",
      "multilayer_perceptron ran in: 0.00104522705078125 sec\n",
      "multilayer_perceptron ran in: 0.0 sec\n",
      "multilayer_perceptron ran in: 0.0 sec\n",
      "multilayer_perceptron ran in: 0.0 sec\n"
     ]
    },
    {
     "name": "stderr",
     "output_type": "stream",
     "text": [
      " 37%|███▋      | 208/560 [00:06<00:10, 33.14it/s]"
     ]
    },
    {
     "name": "stdout",
     "output_type": "stream",
     "text": [
      "multilayer_perceptron ran in: 0.0 sec\n",
      "multilayer_perceptron ran in: 0.0 sec\n",
      "multilayer_perceptron ran in: 0.0 sec\n",
      "multilayer_perceptron ran in: 0.0 sec\n",
      "multilayer_perceptron ran in: 0.0 sec\n",
      "multilayer_perceptron ran in: 0.0 sec\n",
      "multilayer_perceptron ran in: 0.0 sec\n"
     ]
    },
    {
     "name": "stderr",
     "output_type": "stream",
     "text": [
      " 39%|███▊      | 216/560 [00:06<00:10, 33.27it/s]"
     ]
    },
    {
     "name": "stdout",
     "output_type": "stream",
     "text": [
      "multilayer_perceptron ran in: 0.015610218048095703 sec\n",
      "multilayer_perceptron ran in: 0.0 sec\n",
      "multilayer_perceptron ran in: 0.0 sec\n",
      "multilayer_perceptron ran in: 0.0 sec\n",
      "multilayer_perceptron ran in: 0.0 sec\n",
      "multilayer_perceptron ran in: 0.0 sec\n",
      "multilayer_perceptron ran in: 0.0 sec\n"
     ]
    },
    {
     "name": "stderr",
     "output_type": "stream",
     "text": [
      "\r",
      " 39%|███▉      | 220/560 [00:06<00:10, 33.64it/s]"
     ]
    },
    {
     "name": "stdout",
     "output_type": "stream",
     "text": [
      "multilayer_perceptron ran in: 0.0 sec\n",
      "multilayer_perceptron ran in: 0.0 sec\n",
      "multilayer_perceptron ran in: 0.0 sec\n",
      "multilayer_perceptron ran in: 0.0 sec\n",
      "multilayer_perceptron ran in: 0.0 sec\n",
      "multilayer_perceptron ran in: 0.0 sec\n"
     ]
    },
    {
     "name": "stderr",
     "output_type": "stream",
     "text": [
      " 41%|████      | 228/560 [00:06<00:09, 34.08it/s]"
     ]
    },
    {
     "name": "stdout",
     "output_type": "stream",
     "text": [
      "multilayer_perceptron ran in: 0.0 sec\n",
      "multilayer_perceptron ran in: 0.0 sec\n",
      "multilayer_perceptron ran in: 0.0065119266510009766 sec\n",
      "multilayer_perceptron ran in: 0.0 sec\n",
      "multilayer_perceptron ran in: 0.0 sec\n",
      "multilayer_perceptron ran in: 0.0 sec\n",
      "multilayer_perceptron ran in: 0.0 sec\n",
      "multilayer_perceptron ran in: 0.0 sec\n"
     ]
    },
    {
     "name": "stderr",
     "output_type": "stream",
     "text": [
      " 42%|████▏     | 236/560 [00:06<00:09, 34.14it/s]"
     ]
    },
    {
     "name": "stdout",
     "output_type": "stream",
     "text": [
      "multilayer_perceptron ran in: 0.0 sec\n",
      "multilayer_perceptron ran in: 0.0 sec\n",
      "multilayer_perceptron ran in: 0.0 sec\n",
      "multilayer_perceptron ran in: 0.0 sec\n",
      "multilayer_perceptron ran in: 0.0 sec\n",
      "multilayer_perceptron ran in: 0.0 sec\n",
      "multilayer_perceptron ran in: 0.0 sec\n"
     ]
    },
    {
     "name": "stderr",
     "output_type": "stream",
     "text": [
      " 44%|████▎     | 244/560 [00:07<00:09, 33.00it/s]"
     ]
    },
    {
     "name": "stdout",
     "output_type": "stream",
     "text": [
      "multilayer_perceptron ran in: 0.0 sec\n",
      "multilayer_perceptron ran in: 0.0 sec\n",
      "multilayer_perceptron ran in: 0.0 sec\n",
      "multilayer_perceptron ran in: 0.0 sec\n",
      "multilayer_perceptron ran in: 0.006508350372314453 sec\n",
      "multilayer_perceptron ran in: 0.0 sec\n",
      "multilayer_perceptron ran in: 0.0 sec\n"
     ]
    },
    {
     "name": "stderr",
     "output_type": "stream",
     "text": [
      "\r",
      " 44%|████▍     | 248/560 [00:07<00:09, 33.44it/s]"
     ]
    },
    {
     "name": "stdout",
     "output_type": "stream",
     "text": [
      "multilayer_perceptron ran in: 0.0 sec\n",
      "multilayer_perceptron ran in: 0.0 sec\n",
      "multilayer_perceptron ran in: 0.0 sec\n",
      "multilayer_perceptron ran in: 0.015625715255737305 sec\n",
      "multilayer_perceptron ran in: 0.0 sec\n",
      "multilayer_perceptron ran in: 0.0 sec\n",
      "multilayer_perceptron ran in: 0.0 sec\n"
     ]
    },
    {
     "name": "stderr",
     "output_type": "stream",
     "text": [
      " 46%|████▌     | 256/560 [00:07<00:09, 33.42it/s]"
     ]
    },
    {
     "name": "stdout",
     "output_type": "stream",
     "text": [
      "multilayer_perceptron ran in: 0.006511211395263672 sec\n",
      "multilayer_perceptron ran in: 0.0 sec\n",
      "multilayer_perceptron ran in: 0.0 sec\n",
      "multilayer_perceptron ran in: 0.0 sec\n",
      "multilayer_perceptron ran in: 0.0 sec\n",
      "multilayer_perceptron ran in: 0.0 sec\n",
      "multilayer_perceptron ran in: 0.0 sec\n",
      "multilayer_perceptron ran in: 0.0 sec\n"
     ]
    },
    {
     "name": "stderr",
     "output_type": "stream",
     "text": [
      " 47%|████▋     | 264/560 [00:07<00:08, 33.05it/s]"
     ]
    },
    {
     "name": "stdout",
     "output_type": "stream",
     "text": [
      "multilayer_perceptron ran in: 0.0 sec\n",
      "multilayer_perceptron ran in: 0.0 sec\n",
      "multilayer_perceptron ran in: 0.0 sec\n",
      "multilayer_perceptron ran in: 0.015628814697265625 sec\n",
      "multilayer_perceptron ran in: 0.0 sec\n",
      "multilayer_perceptron ran in: 0.0 sec\n",
      "multilayer_perceptron ran in: 0.0010933876037597656 sec\n"
     ]
    },
    {
     "name": "stderr",
     "output_type": "stream",
     "text": [
      " 49%|████▊     | 272/560 [00:08<00:08, 33.92it/s]"
     ]
    },
    {
     "name": "stdout",
     "output_type": "stream",
     "text": [
      "multilayer_perceptron ran in: 0.015623331069946289 sec\n",
      "multilayer_perceptron ran in: 0.0 sec\n",
      "multilayer_perceptron ran in: 0.0 sec\n",
      "multilayer_perceptron ran in: 0.0 sec\n",
      "multilayer_perceptron ran in: 0.0 sec\n",
      "multilayer_perceptron ran in: 0.0 sec\n",
      "multilayer_perceptron ran in: 0.015626907348632812 sec\n"
     ]
    },
    {
     "name": "stderr",
     "output_type": "stream",
     "text": [
      " 50%|█████     | 280/560 [00:08<00:08, 32.53it/s]"
     ]
    },
    {
     "name": "stdout",
     "output_type": "stream",
     "text": [
      "multilayer_perceptron ran in: 0.0 sec\n",
      "multilayer_perceptron ran in: 0.0 sec\n",
      "multilayer_perceptron ran in: 0.0 sec\n",
      "multilayer_perceptron ran in: 0.0 sec\n",
      "multilayer_perceptron ran in: 0.0 sec\n",
      "multilayer_perceptron ran in: 0.0 sec\n",
      "multilayer_perceptron ran in: 0.0 sec\n"
     ]
    },
    {
     "name": "stderr",
     "output_type": "stream",
     "text": [
      "\r",
      " 51%|█████     | 284/560 [00:08<00:08, 33.10it/s]"
     ]
    },
    {
     "name": "stdout",
     "output_type": "stream",
     "text": [
      "multilayer_perceptron ran in: 0.0 sec\n",
      "multilayer_perceptron ran in: 0.0 sec\n",
      "multilayer_perceptron ran in: 0.0 sec\n",
      "multilayer_perceptron ran in: 0.0 sec\n",
      "multilayer_perceptron ran in: 0.006515026092529297 sec\n",
      "multilayer_perceptron ran in: 0.01562976837158203 sec\n"
     ]
    },
    {
     "name": "stderr",
     "output_type": "stream",
     "text": [
      " 52%|█████▏    | 292/560 [00:08<00:08, 32.89it/s]"
     ]
    },
    {
     "name": "stdout",
     "output_type": "stream",
     "text": [
      "multilayer_perceptron ran in: 0.01562190055847168 sec\n",
      "multilayer_perceptron ran in: 0.0 sec\n",
      "multilayer_perceptron ran in: 0.0 sec\n",
      "multilayer_perceptron ran in: 0.0 sec\n",
      "multilayer_perceptron ran in: 0.0 sec\n",
      "multilayer_perceptron ran in: 0.0 sec\n",
      "multilayer_perceptron ran in: 0.0 sec\n"
     ]
    },
    {
     "name": "stderr",
     "output_type": "stream",
     "text": [
      " 54%|█████▎    | 300/560 [00:08<00:07, 33.31it/s]"
     ]
    },
    {
     "name": "stdout",
     "output_type": "stream",
     "text": [
      "multilayer_perceptron ran in: 0.0 sec\n",
      "multilayer_perceptron ran in: 0.0 sec\n",
      "multilayer_perceptron ran in: 0.0 sec\n",
      "multilayer_perceptron ran in: 0.0 sec\n",
      "multilayer_perceptron ran in: 0.0 sec\n",
      "multilayer_perceptron ran in: 0.0 sec\n",
      "multilayer_perceptron ran in: 0.0 sec\n",
      "multilayer_perceptron ran in: 0.0 sec\n"
     ]
    },
    {
     "name": "stderr",
     "output_type": "stream",
     "text": [
      " 55%|█████▌    | 308/560 [00:09<00:07, 33.64it/s]"
     ]
    },
    {
     "name": "stdout",
     "output_type": "stream",
     "text": [
      "multilayer_perceptron ran in: 0.006515979766845703 sec\n",
      "multilayer_perceptron ran in: 0.0 sec\n",
      "multilayer_perceptron ran in: 0.0 sec\n",
      "multilayer_perceptron ran in: 0.0 sec\n",
      "multilayer_perceptron ran in: 0.0 sec\n",
      "multilayer_perceptron ran in: 0.0 sec\n",
      "multilayer_perceptron ran in: 0.01563239097595215 sec\n",
      "multilayer_perceptron ran in: 0.0 sec\n"
     ]
    },
    {
     "name": "stderr",
     "output_type": "stream",
     "text": [
      " 56%|█████▋    | 316/560 [00:09<00:07, 34.08it/s]"
     ]
    },
    {
     "name": "stdout",
     "output_type": "stream",
     "text": [
      "multilayer_perceptron ran in: 0.0 sec\n",
      "multilayer_perceptron ran in: 0.0 sec\n",
      "multilayer_perceptron ran in: 0.0 sec\n",
      "multilayer_perceptron ran in: 0.0 sec\n",
      "multilayer_perceptron ran in: 0.0 sec\n",
      "multilayer_perceptron ran in: 0.0 sec\n",
      "multilayer_perceptron ran in: 0.0 sec\n"
     ]
    },
    {
     "name": "stderr",
     "output_type": "stream",
     "text": [
      " 58%|█████▊    | 324/560 [00:09<00:06, 33.90it/s]"
     ]
    },
    {
     "name": "stdout",
     "output_type": "stream",
     "text": [
      "multilayer_perceptron ran in: 0.0 sec\n",
      "multilayer_perceptron ran in: 0.0 sec\n",
      "multilayer_perceptron ran in: 0.0 sec\n",
      "multilayer_perceptron ran in: 0.0 sec\n",
      "multilayer_perceptron ran in: 0.0 sec\n",
      "multilayer_perceptron ran in: 0.0 sec\n",
      "multilayer_perceptron ran in: 0.0 sec\n"
     ]
    },
    {
     "name": "stderr",
     "output_type": "stream",
     "text": [
      "\r",
      " 59%|█████▊    | 328/560 [00:09<00:06, 34.08it/s]"
     ]
    },
    {
     "name": "stdout",
     "output_type": "stream",
     "text": [
      "multilayer_perceptron ran in: 0.0 sec\n",
      "multilayer_perceptron ran in: 0.0 sec\n",
      "multilayer_perceptron ran in: 0.0065288543701171875 sec\n",
      "multilayer_perceptron ran in: 0.0 sec\n",
      "multilayer_perceptron ran in: 0.0 sec\n",
      "multilayer_perceptron ran in: 0.0 sec\n",
      "multilayer_perceptron ran in: 0.0 sec\n"
     ]
    },
    {
     "name": "stderr",
     "output_type": "stream",
     "text": [
      " 60%|██████    | 336/560 [00:09<00:06, 35.32it/s]"
     ]
    },
    {
     "name": "stdout",
     "output_type": "stream",
     "text": [
      "multilayer_perceptron ran in: 0.0 sec\n",
      "multilayer_perceptron ran in: 0.0 sec\n",
      "multilayer_perceptron ran in: 0.0 sec\n",
      "multilayer_perceptron ran in: 0.0 sec\n",
      "multilayer_perceptron ran in: 0.0 sec\n",
      "multilayer_perceptron ran in: 0.0 sec\n",
      "multilayer_perceptron ran in: 0.0 sec\n"
     ]
    },
    {
     "name": "stderr",
     "output_type": "stream",
     "text": [
      " 61%|██████▏   | 344/560 [00:10<00:06, 35.02it/s]"
     ]
    },
    {
     "name": "stdout",
     "output_type": "stream",
     "text": [
      "multilayer_perceptron ran in: 0.0 sec\n",
      "multilayer_perceptron ran in: 0.0 sec\n",
      "multilayer_perceptron ran in: 0.0 sec\n",
      "multilayer_perceptron ran in: 0.0 sec\n",
      "multilayer_perceptron ran in: 0.0 sec\n",
      "multilayer_perceptron ran in: 0.0 sec\n",
      "multilayer_perceptron ran in: 0.0 sec\n"
     ]
    },
    {
     "name": "stderr",
     "output_type": "stream",
     "text": [
      " 63%|██████▎   | 352/560 [00:10<00:05, 34.75it/s]"
     ]
    },
    {
     "name": "stdout",
     "output_type": "stream",
     "text": [
      "multilayer_perceptron ran in: 0.0 sec\n",
      "multilayer_perceptron ran in: 0.0 sec\n",
      "multilayer_perceptron ran in: 0.0 sec\n",
      "multilayer_perceptron ran in: 0.0 sec\n",
      "multilayer_perceptron ran in: 0.0 sec\n",
      "multilayer_perceptron ran in: 0.0 sec\n",
      "multilayer_perceptron ran in: 0.0 sec\n"
     ]
    },
    {
     "name": "stderr",
     "output_type": "stream",
     "text": [
      "\r",
      " 64%|██████▎   | 356/560 [00:10<00:05, 34.68it/s]"
     ]
    },
    {
     "name": "stdout",
     "output_type": "stream",
     "text": [
      "multilayer_perceptron ran in: 0.0 sec\n",
      "multilayer_perceptron ran in: 0.0 sec\n",
      "multilayer_perceptron ran in: 0.0 sec\n",
      "multilayer_perceptron ran in: 0.0 sec\n",
      "multilayer_perceptron ran in: 0.0 sec\n",
      "multilayer_perceptron ran in: 0.0 sec\n",
      "multilayer_perceptron ran in: 0.0 sec\n"
     ]
    },
    {
     "name": "stderr",
     "output_type": "stream",
     "text": [
      " 65%|██████▌   | 364/560 [00:10<00:05, 33.64it/s]"
     ]
    },
    {
     "name": "stdout",
     "output_type": "stream",
     "text": [
      "multilayer_perceptron ran in: 0.0 sec\n",
      "multilayer_perceptron ran in: 0.0 sec\n",
      "multilayer_perceptron ran in: 0.0 sec\n",
      "multilayer_perceptron ran in: 0.0 sec\n",
      "multilayer_perceptron ran in: 0.0 sec\n",
      "multilayer_perceptron ran in: 0.0 sec\n",
      "multilayer_perceptron ran in: 0.0 sec\n",
      "multilayer_perceptron ran in: 0.015629291534423828 sec\n"
     ]
    },
    {
     "name": "stderr",
     "output_type": "stream",
     "text": [
      " 66%|██████▋   | 372/560 [00:10<00:05, 34.64it/s]"
     ]
    },
    {
     "name": "stdout",
     "output_type": "stream",
     "text": [
      "multilayer_perceptron ran in: 0.0 sec\n",
      "multilayer_perceptron ran in: 0.0 sec\n",
      "multilayer_perceptron ran in: 0.0 sec\n",
      "multilayer_perceptron ran in: 0.0 sec\n",
      "multilayer_perceptron ran in: 0.0 sec\n",
      "multilayer_perceptron ran in: 0.0 sec\n",
      "multilayer_perceptron ran in: 0.0 sec\n"
     ]
    },
    {
     "name": "stderr",
     "output_type": "stream",
     "text": [
      " 68%|██████▊   | 380/560 [00:11<00:05, 33.22it/s]"
     ]
    },
    {
     "name": "stdout",
     "output_type": "stream",
     "text": [
      "multilayer_perceptron ran in: 0.0 sec\n",
      "multilayer_perceptron ran in: 0.0 sec\n",
      "multilayer_perceptron ran in: 0.0 sec\n",
      "multilayer_perceptron ran in: 0.0 sec\n",
      "multilayer_perceptron ran in: 0.015654563903808594 sec\n",
      "multilayer_perceptron ran in: 0.0 sec\n",
      "multilayer_perceptron ran in: 0.0 sec\n"
     ]
    },
    {
     "name": "stderr",
     "output_type": "stream",
     "text": [
      "\r",
      " 69%|██████▊   | 384/560 [00:11<00:05, 33.60it/s]"
     ]
    },
    {
     "name": "stdout",
     "output_type": "stream",
     "text": [
      "multilayer_perceptron ran in: 0.0 sec\n",
      "multilayer_perceptron ran in: 0.0 sec\n",
      "multilayer_perceptron ran in: 0.015626192092895508 sec\n",
      "multilayer_perceptron ran in: 0.0 sec\n",
      "multilayer_perceptron ran in: 0.0 sec\n",
      "multilayer_perceptron ran in: 0.0 sec\n"
     ]
    },
    {
     "name": "stderr",
     "output_type": "stream",
     "text": [
      " 70%|███████   | 392/560 [00:11<00:04, 35.05it/s]"
     ]
    },
    {
     "name": "stdout",
     "output_type": "stream",
     "text": [
      "multilayer_perceptron ran in: 0.015599727630615234 sec\n",
      "multilayer_perceptron ran in: 0.0 sec\n",
      "multilayer_perceptron ran in: 0.0 sec\n",
      "multilayer_perceptron ran in: 0.0 sec\n",
      "multilayer_perceptron ran in: 0.0 sec\n",
      "multilayer_perceptron ran in: 0.0 sec\n",
      "multilayer_perceptron ran in: 0.0 sec\n"
     ]
    },
    {
     "name": "stderr",
     "output_type": "stream",
     "text": [
      " 71%|███████▏  | 400/560 [00:11<00:04, 33.81it/s]"
     ]
    },
    {
     "name": "stdout",
     "output_type": "stream",
     "text": [
      "multilayer_perceptron ran in: 0.0 sec\n",
      "multilayer_perceptron ran in: 0.0 sec\n",
      "multilayer_perceptron ran in: 0.0 sec\n",
      "multilayer_perceptron ran in: 0.0 sec\n",
      "multilayer_perceptron ran in: 0.0 sec\n",
      "multilayer_perceptron ran in: 0.0 sec\n",
      "multilayer_perceptron ran in: 0.0 sec\n"
     ]
    },
    {
     "name": "stderr",
     "output_type": "stream",
     "text": [
      " 73%|███████▎  | 408/560 [00:12<00:04, 33.90it/s]"
     ]
    },
    {
     "name": "stdout",
     "output_type": "stream",
     "text": [
      "multilayer_perceptron ran in: 0.0 sec\n",
      "multilayer_perceptron ran in: 0.001516580581665039 sec\n",
      "multilayer_perceptron ran in: 0.0 sec\n",
      "multilayer_perceptron ran in: 0.0 sec\n",
      "multilayer_perceptron ran in: 0.0 sec\n",
      "multilayer_perceptron ran in: 0.0 sec\n",
      "multilayer_perceptron ran in: 0.0 sec\n"
     ]
    },
    {
     "name": "stderr",
     "output_type": "stream",
     "text": [
      "\r",
      " 74%|███████▎  | 412/560 [00:12<00:04, 33.52it/s]"
     ]
    },
    {
     "name": "stdout",
     "output_type": "stream",
     "text": [
      "multilayer_perceptron ran in: 0.0 sec\n",
      "multilayer_perceptron ran in: 0.0 sec\n",
      "multilayer_perceptron ran in: 0.0 sec\n",
      "multilayer_perceptron ran in: 0.0 sec\n",
      "multilayer_perceptron ran in: 0.0 sec\n",
      "multilayer_perceptron ran in: 0.0 sec\n",
      "multilayer_perceptron ran in: 0.0 sec\n"
     ]
    },
    {
     "name": "stderr",
     "output_type": "stream",
     "text": [
      " 75%|███████▌  | 420/560 [00:12<00:04, 34.02it/s]"
     ]
    },
    {
     "name": "stdout",
     "output_type": "stream",
     "text": [
      "multilayer_perceptron ran in: 0.0 sec\n",
      "multilayer_perceptron ran in: 0.0 sec\n",
      "multilayer_perceptron ran in: 0.0 sec\n",
      "multilayer_perceptron ran in: 0.0 sec\n",
      "multilayer_perceptron ran in: 0.0 sec\n",
      "multilayer_perceptron ran in: 0.0 sec\n",
      "multilayer_perceptron ran in: 0.0 sec\n"
     ]
    },
    {
     "name": "stderr",
     "output_type": "stream",
     "text": [
      " 76%|███████▋  | 428/560 [00:12<00:03, 34.27it/s]"
     ]
    },
    {
     "name": "stdout",
     "output_type": "stream",
     "text": [
      "multilayer_perceptron ran in: 0.0 sec\n",
      "multilayer_perceptron ran in: 0.015626907348632812 sec\n",
      "multilayer_perceptron ran in: 0.0 sec\n",
      "multilayer_perceptron ran in: 0.0 sec\n",
      "multilayer_perceptron ran in: 0.0 sec\n",
      "multilayer_perceptron ran in: 0.0 sec\n",
      "multilayer_perceptron ran in: 0.0156252384185791 sec\n"
     ]
    },
    {
     "name": "stderr",
     "output_type": "stream",
     "text": [
      "\r",
      " 77%|███████▋  | 432/560 [00:12<00:03, 34.34it/s]"
     ]
    },
    {
     "name": "stdout",
     "output_type": "stream",
     "text": [
      "multilayer_perceptron ran in: 0.0 sec\n",
      "multilayer_perceptron ran in: 0.0 sec\n",
      "multilayer_perceptron ran in: 0.0 sec\n",
      "multilayer_perceptron ran in: 0.0 sec\n",
      "multilayer_perceptron ran in: 0.0 sec\n",
      "multilayer_perceptron ran in: 0.0 sec\n"
     ]
    },
    {
     "name": "stderr",
     "output_type": "stream",
     "text": [
      " 79%|███████▊  | 440/560 [00:12<00:03, 34.02it/s]"
     ]
    },
    {
     "name": "stdout",
     "output_type": "stream",
     "text": [
      "multilayer_perceptron ran in: 0.0 sec\n",
      "multilayer_perceptron ran in: 0.0 sec\n",
      "multilayer_perceptron ran in: 0.0 sec\n",
      "multilayer_perceptron ran in: 0.0 sec\n",
      "multilayer_perceptron ran in: 0.0 sec\n",
      "multilayer_perceptron ran in: 0.0 sec\n",
      "multilayer_perceptron ran in: 0.0 sec\n"
     ]
    },
    {
     "name": "stderr",
     "output_type": "stream",
     "text": [
      " 80%|████████  | 448/560 [00:13<00:03, 35.28it/s]"
     ]
    },
    {
     "name": "stdout",
     "output_type": "stream",
     "text": [
      "multilayer_perceptron ran in: 0.0 sec\n",
      "multilayer_perceptron ran in: 0.0 sec\n",
      "multilayer_perceptron ran in: 0.0 sec\n",
      "multilayer_perceptron ran in: 0.0 sec\n",
      "multilayer_perceptron ran in: 0.0 sec\n",
      "multilayer_perceptron ran in: 0.0 sec\n",
      "multilayer_perceptron ran in: 0.0 sec\n"
     ]
    },
    {
     "name": "stderr",
     "output_type": "stream",
     "text": [
      " 81%|████████▏ | 456/560 [00:13<00:03, 34.19it/s]"
     ]
    },
    {
     "name": "stdout",
     "output_type": "stream",
     "text": [
      "multilayer_perceptron ran in: 0.0 sec\n",
      "multilayer_perceptron ran in: 0.0 sec\n",
      "multilayer_perceptron ran in: 0.0 sec\n",
      "multilayer_perceptron ran in: 0.0 sec\n",
      "multilayer_perceptron ran in: 0.0 sec\n",
      "multilayer_perceptron ran in: 0.0 sec\n",
      "multilayer_perceptron ran in: 0.015626192092895508 sec\n"
     ]
    },
    {
     "name": "stderr",
     "output_type": "stream",
     "text": [
      "\r",
      " 82%|████████▏ | 460/560 [00:13<00:02, 33.72it/s]"
     ]
    },
    {
     "name": "stdout",
     "output_type": "stream",
     "text": [
      "multilayer_perceptron ran in: 0.01562976837158203 sec\n",
      "multilayer_perceptron ran in: 0.0 sec\n",
      "multilayer_perceptron ran in: 0.0 sec\n",
      "multilayer_perceptron ran in: 0.0 sec\n",
      "multilayer_perceptron ran in: 0.0 sec\n",
      "multilayer_perceptron ran in: 0.0 sec\n",
      "multilayer_perceptron ran in: 0.0 sec\n"
     ]
    },
    {
     "name": "stderr",
     "output_type": "stream",
     "text": [
      " 84%|████████▎ | 468/560 [00:13<00:02, 35.53it/s]"
     ]
    },
    {
     "name": "stdout",
     "output_type": "stream",
     "text": [
      "multilayer_perceptron ran in: 0.0 sec\n",
      "multilayer_perceptron ran in: 0.0 sec\n",
      "multilayer_perceptron ran in: 0.0 sec\n",
      "multilayer_perceptron ran in: 0.0 sec\n",
      "multilayer_perceptron ran in: 0.0 sec\n",
      "multilayer_perceptron ran in: 0.0 sec\n",
      "multilayer_perceptron ran in: 0.0 sec\n"
     ]
    },
    {
     "name": "stderr",
     "output_type": "stream",
     "text": [
      " 85%|████████▌ | 476/560 [00:14<00:02, 34.04it/s]"
     ]
    },
    {
     "name": "stdout",
     "output_type": "stream",
     "text": [
      "multilayer_perceptron ran in: 0.0011184215545654297 sec\n",
      "multilayer_perceptron ran in: 0.0 sec\n",
      "multilayer_perceptron ran in: 0.0 sec\n",
      "multilayer_perceptron ran in: 0.0 sec\n",
      "multilayer_perceptron ran in: 0.0 sec\n",
      "multilayer_perceptron ran in: 0.0 sec\n",
      "multilayer_perceptron ran in: 0.0 sec\n"
     ]
    },
    {
     "name": "stderr",
     "output_type": "stream",
     "text": [
      "\r",
      " 86%|████████▌ | 480/560 [00:14<00:02, 34.18it/s]"
     ]
    },
    {
     "name": "stdout",
     "output_type": "stream",
     "text": [
      "multilayer_perceptron ran in: 0.0 sec\n",
      "multilayer_perceptron ran in: 0.0 sec\n",
      "multilayer_perceptron ran in: 0.015628576278686523 sec\n",
      "multilayer_perceptron ran in: 0.0 sec\n",
      "multilayer_perceptron ran in: 0.0 sec\n",
      "multilayer_perceptron ran in: 0.0 sec\n"
     ]
    },
    {
     "name": "stderr",
     "output_type": "stream",
     "text": [
      " 87%|████████▋ | 488/560 [00:14<00:02, 35.35it/s]"
     ]
    },
    {
     "name": "stdout",
     "output_type": "stream",
     "text": [
      "multilayer_perceptron ran in: 0.015627622604370117 sec\n",
      "multilayer_perceptron ran in: 0.0 sec\n",
      "multilayer_perceptron ran in: 0.0 sec\n",
      "multilayer_perceptron ran in: 0.0 sec\n",
      "multilayer_perceptron ran in: 0.0 sec\n",
      "multilayer_perceptron ran in: 0.0 sec\n",
      "multilayer_perceptron ran in: 0.0 sec\n",
      "multilayer_perceptron ran in: 0.0 sec\n"
     ]
    },
    {
     "name": "stderr",
     "output_type": "stream",
     "text": [
      " 89%|████████▊ | 496/560 [00:14<00:01, 35.35it/s]"
     ]
    },
    {
     "name": "stdout",
     "output_type": "stream",
     "text": [
      "multilayer_perceptron ran in: 0.0 sec\n",
      "multilayer_perceptron ran in: 0.0 sec\n",
      "multilayer_perceptron ran in: 0.0 sec\n",
      "multilayer_perceptron ran in: 0.0 sec\n",
      "multilayer_perceptron ran in: 0.0 sec\n",
      "multilayer_perceptron ran in: 0.0 sec\n",
      "multilayer_perceptron ran in: 0.0 sec\n",
      "multilayer_perceptron ran in: 0.0 sec\n"
     ]
    },
    {
     "name": "stderr",
     "output_type": "stream",
     "text": [
      " 90%|█████████ | 504/560 [00:14<00:01, 34.91it/s]"
     ]
    },
    {
     "name": "stdout",
     "output_type": "stream",
     "text": [
      "multilayer_perceptron ran in: 0.0 sec\n",
      "multilayer_perceptron ran in: 0.0 sec\n",
      "multilayer_perceptron ran in: 0.006524801254272461 sec\n",
      "multilayer_perceptron ran in: 0.0 sec\n",
      "multilayer_perceptron ran in: 0.0 sec\n",
      "multilayer_perceptron ran in: 0.0 sec\n",
      "multilayer_perceptron ran in: 0.0 sec\n",
      "multilayer_perceptron ran in: 0.0 sec\n"
     ]
    },
    {
     "name": "stderr",
     "output_type": "stream",
     "text": [
      " 91%|█████████▏| 512/560 [00:15<00:01, 34.54it/s]"
     ]
    },
    {
     "name": "stdout",
     "output_type": "stream",
     "text": [
      "multilayer_perceptron ran in: 0.0 sec\n",
      "multilayer_perceptron ran in: 0.0 sec\n",
      "multilayer_perceptron ran in: 0.0 sec\n",
      "multilayer_perceptron ran in: 0.0 sec\n",
      "multilayer_perceptron ran in: 0.0 sec\n",
      "multilayer_perceptron ran in: 0.0 sec\n",
      "multilayer_perceptron ran in: 0.0 sec\n"
     ]
    },
    {
     "name": "stderr",
     "output_type": "stream",
     "text": [
      " 93%|█████████▎| 520/560 [00:15<00:01, 33.60it/s]"
     ]
    },
    {
     "name": "stdout",
     "output_type": "stream",
     "text": [
      "multilayer_perceptron ran in: 0.0 sec\n",
      "multilayer_perceptron ran in: 0.0 sec\n",
      "multilayer_perceptron ran in: 0.0 sec\n",
      "multilayer_perceptron ran in: 0.0 sec\n",
      "multilayer_perceptron ran in: 0.0 sec\n",
      "multilayer_perceptron ran in: 0.0 sec\n",
      "multilayer_perceptron ran in: 0.0 sec\n"
     ]
    },
    {
     "name": "stderr",
     "output_type": "stream",
     "text": [
      "\r",
      " 94%|█████████▎| 524/560 [00:15<00:01, 33.87it/s]"
     ]
    },
    {
     "name": "stdout",
     "output_type": "stream",
     "text": [
      "multilayer_perceptron ran in: 0.0 sec\n",
      "multilayer_perceptron ran in: 0.0 sec\n",
      "multilayer_perceptron ran in: 0.0 sec\n",
      "multilayer_perceptron ran in: 0.0 sec\n",
      "multilayer_perceptron ran in: 0.0 sec\n",
      "multilayer_perceptron ran in: 0.0 sec\n",
      "multilayer_perceptron ran in: 0.0 sec\n"
     ]
    },
    {
     "name": "stderr",
     "output_type": "stream",
     "text": [
      " 95%|█████████▌| 532/560 [00:15<00:00, 33.63it/s]"
     ]
    },
    {
     "name": "stdout",
     "output_type": "stream",
     "text": [
      "multilayer_perceptron ran in: 0.0 sec\n",
      "multilayer_perceptron ran in: 0.0 sec\n",
      "multilayer_perceptron ran in: 0.0 sec\n",
      "multilayer_perceptron ran in: 0.0 sec\n",
      "multilayer_perceptron ran in: 0.0 sec\n",
      "multilayer_perceptron ran in: 0.0 sec\n",
      "multilayer_perceptron ran in: 0.0 sec\n"
     ]
    },
    {
     "name": "stderr",
     "output_type": "stream",
     "text": [
      " 96%|█████████▋| 540/560 [00:15<00:00, 33.96it/s]"
     ]
    },
    {
     "name": "stdout",
     "output_type": "stream",
     "text": [
      "multilayer_perceptron ran in: 0.00099945068359375 sec\n",
      "multilayer_perceptron ran in: 0.0 sec\n",
      "multilayer_perceptron ran in: 0.0 sec\n",
      "multilayer_perceptron ran in: 0.0009999275207519531 sec\n",
      "multilayer_perceptron ran in: 0.0 sec\n",
      "multilayer_perceptron ran in: 0.0 sec\n",
      "multilayer_perceptron ran in: 0.0009827613830566406 sec\n"
     ]
    },
    {
     "name": "stderr",
     "output_type": "stream",
     "text": [
      " 98%|█████████▊| 548/560 [00:16<00:00, 34.24it/s]"
     ]
    },
    {
     "name": "stdout",
     "output_type": "stream",
     "text": [
      "multilayer_perceptron ran in: 0.0 sec\n",
      "multilayer_perceptron ran in: 0.0 sec\n",
      "multilayer_perceptron ran in: 0.0 sec\n",
      "multilayer_perceptron ran in: 0.0 sec\n",
      "multilayer_perceptron ran in: 0.0 sec\n",
      "multilayer_perceptron ran in: 0.0 sec\n",
      "multilayer_perceptron ran in: 0.0 sec\n"
     ]
    },
    {
     "name": "stderr",
     "output_type": "stream",
     "text": [
      " 99%|█████████▉| 556/560 [00:16<00:00, 33.81it/s]"
     ]
    },
    {
     "name": "stdout",
     "output_type": "stream",
     "text": [
      "multilayer_perceptron ran in: 0.0 sec\n",
      "multilayer_perceptron ran in: 0.0 sec\n",
      "multilayer_perceptron ran in: 0.0 sec\n",
      "multilayer_perceptron ran in: 0.006511211395263672 sec\n",
      "multilayer_perceptron ran in: 0.0 sec\n",
      "multilayer_perceptron ran in: 0.0 sec\n",
      "multilayer_perceptron ran in: 0.0 sec\n"
     ]
    },
    {
     "name": "stderr",
     "output_type": "stream",
     "text": [
      "100%|██████████| 560/560 [00:16<00:00, 34.01it/s]\n"
     ]
    },
    {
     "name": "stdout",
     "output_type": "stream",
     "text": [
      "multilayer_perceptron ran in: 0.015661954879760742 sec\n",
      "multilayer_perceptron ran in: 0.0 sec\n",
      "multilayer_perceptron ran in: 0.0 sec\n",
      "multilayer_perceptron ran in: 0.0 sec\n",
      "Epoch: 9 Cost=117157.2656\n"
     ]
    },
    {
     "name": "stderr",
     "output_type": "stream",
     "text": [
      "\r",
      "  0%|          | 0/560 [00:00<?, ?it/s]"
     ]
    },
    {
     "name": "stdout",
     "output_type": "stream",
     "text": [
      "multilayer_perceptron ran in: 0.0 sec\n",
      "multilayer_perceptron ran in: 0.0 sec\n",
      "multilayer_perceptron ran in: 0.0 sec\n"
     ]
    },
    {
     "name": "stderr",
     "output_type": "stream",
     "text": [
      "\r",
      "  1%|          | 3/560 [00:00<00:18, 29.91it/s]"
     ]
    },
    {
     "name": "stdout",
     "output_type": "stream",
     "text": [
      "multilayer_perceptron ran in: 0.0 sec\n",
      "multilayer_perceptron ran in: 0.0 sec\n",
      "multilayer_perceptron ran in: 0.0 sec\n",
      "multilayer_perceptron ran in: 0.0 sec\n"
     ]
    },
    {
     "name": "stderr",
     "output_type": "stream",
     "text": [
      "\r",
      "  1%|▏         | 7/560 [00:00<00:16, 32.78it/s]"
     ]
    },
    {
     "name": "stdout",
     "output_type": "stream",
     "text": [
      "multilayer_perceptron ran in: 0.0 sec\n",
      "multilayer_perceptron ran in: 0.0 sec\n",
      "multilayer_perceptron ran in: 0.0 sec\n"
     ]
    },
    {
     "name": "stderr",
     "output_type": "stream",
     "text": [
      "\r",
      "  2%|▏         | 11/560 [00:00<00:16, 33.59it/s]"
     ]
    },
    {
     "name": "stdout",
     "output_type": "stream",
     "text": [
      "multilayer_perceptron ran in: 0.015630722045898438 sec\n",
      "multilayer_perceptron ran in: 0.015633821487426758 sec\n",
      "multilayer_perceptron ran in: 0.0 sec\n",
      "multilayer_perceptron ran in: 0.0 sec\n"
     ]
    },
    {
     "name": "stderr",
     "output_type": "stream",
     "text": [
      "\r",
      "  3%|▎         | 15/560 [00:00<00:16, 33.96it/s]"
     ]
    },
    {
     "name": "stdout",
     "output_type": "stream",
     "text": [
      "multilayer_perceptron ran in: 0.015637874603271484 sec\n",
      "multilayer_perceptron ran in: 0.0 sec\n",
      "multilayer_perceptron ran in: 0.0 sec\n"
     ]
    },
    {
     "name": "stderr",
     "output_type": "stream",
     "text": [
      "\r",
      "  3%|▎         | 19/560 [00:00<00:15, 34.16it/s]"
     ]
    },
    {
     "name": "stdout",
     "output_type": "stream",
     "text": [
      "multilayer_perceptron ran in: 0.0 sec\n",
      "multilayer_perceptron ran in: 0.0 sec\n",
      "multilayer_perceptron ran in: 0.0 sec\n",
      "multilayer_perceptron ran in: 0.0 sec\n",
      "multilayer_perceptron ran in: 0.0 sec\n"
     ]
    },
    {
     "name": "stderr",
     "output_type": "stream",
     "text": [
      "\r",
      "  4%|▍         | 23/560 [00:00<00:15, 33.63it/s]"
     ]
    },
    {
     "name": "stdout",
     "output_type": "stream",
     "text": [
      "multilayer_perceptron ran in: 0.0 sec\n",
      "multilayer_perceptron ran in: 0.0 sec\n"
     ]
    },
    {
     "name": "stderr",
     "output_type": "stream",
     "text": [
      "\r",
      "  5%|▍         | 27/560 [00:00<00:15, 33.91it/s]"
     ]
    },
    {
     "name": "stdout",
     "output_type": "stream",
     "text": [
      "multilayer_perceptron ran in: 0.0 sec\n",
      "multilayer_perceptron ran in: 0.0 sec\n",
      "multilayer_perceptron ran in: 0.0065271854400634766 sec\n",
      "multilayer_perceptron ran in: 0.0 sec\n",
      "multilayer_perceptron ran in: 0.0 sec\n",
      "multilayer_perceptron ran in: 0.0 sec\n",
      "multilayer_perceptron ran in: 0.0 sec\n"
     ]
    },
    {
     "name": "stderr",
     "output_type": "stream",
     "text": [
      "  6%|▋         | 35/560 [00:01<00:15, 34.23it/s]"
     ]
    },
    {
     "name": "stdout",
     "output_type": "stream",
     "text": [
      "multilayer_perceptron ran in: 0.0 sec\n",
      "multilayer_perceptron ran in: 0.0 sec\n",
      "multilayer_perceptron ran in: 0.0 sec\n",
      "multilayer_perceptron ran in: 0.0 sec\n",
      "multilayer_perceptron ran in: 0.0 sec\n",
      "multilayer_perceptron ran in: 0.0 sec\n",
      "multilayer_perceptron ran in: 0.0 sec\n"
     ]
    },
    {
     "name": "stderr",
     "output_type": "stream",
     "text": [
      "\r",
      "  7%|▋         | 39/560 [00:01<00:15, 32.95it/s]"
     ]
    },
    {
     "name": "stdout",
     "output_type": "stream",
     "text": [
      "multilayer_perceptron ran in: 0.0 sec\n",
      "multilayer_perceptron ran in: 0.0 sec\n",
      "multilayer_perceptron ran in: 0.0 sec\n",
      "multilayer_perceptron ran in: 0.0 sec\n",
      "multilayer_perceptron ran in: 0.0 sec\n"
     ]
    },
    {
     "name": "stderr",
     "output_type": "stream",
     "text": [
      "\r",
      "  8%|▊         | 43/560 [00:01<00:15, 33.41it/s]"
     ]
    },
    {
     "name": "stdout",
     "output_type": "stream",
     "text": [
      "multilayer_perceptron ran in: 0.0 sec\n",
      "multilayer_perceptron ran in: 0.0 sec\n"
     ]
    },
    {
     "name": "stderr",
     "output_type": "stream",
     "text": [
      "\r",
      "  8%|▊         | 47/560 [00:01<00:14, 34.56it/s]"
     ]
    },
    {
     "name": "stdout",
     "output_type": "stream",
     "text": [
      "multilayer_perceptron ran in: 0.0 sec\n",
      "multilayer_perceptron ran in: 0.015622138977050781 sec\n",
      "multilayer_perceptron ran in: 0.0 sec\n",
      "multilayer_perceptron ran in: 0.0 sec\n",
      "multilayer_perceptron ran in: 0.0 sec\n"
     ]
    },
    {
     "name": "stderr",
     "output_type": "stream",
     "text": [
      "\r",
      "  9%|▉         | 51/560 [00:01<00:14, 34.54it/s]"
     ]
    },
    {
     "name": "stdout",
     "output_type": "stream",
     "text": [
      "multilayer_perceptron ran in: 0.0 sec\n",
      "multilayer_perceptron ran in: 0.0 sec\n",
      "multilayer_perceptron ran in: 0.0 sec\n"
     ]
    },
    {
     "name": "stderr",
     "output_type": "stream",
     "text": [
      "\r",
      " 10%|▉         | 55/560 [00:01<00:15, 33.18it/s]"
     ]
    },
    {
     "name": "stdout",
     "output_type": "stream",
     "text": [
      "multilayer_perceptron ran in: 0.0 sec\n",
      "multilayer_perceptron ran in: 0.0 sec\n",
      "multilayer_perceptron ran in: 0.0 sec\n",
      "multilayer_perceptron ran in: 0.0 sec\n"
     ]
    },
    {
     "name": "stderr",
     "output_type": "stream",
     "text": [
      "\r",
      " 11%|█         | 59/560 [00:01<00:14, 33.57it/s]"
     ]
    },
    {
     "name": "stdout",
     "output_type": "stream",
     "text": [
      "multilayer_perceptron ran in: 0.0 sec\n",
      "multilayer_perceptron ran in: 0.0 sec\n",
      "multilayer_perceptron ran in: 0.01561284065246582 sec\n",
      "multilayer_perceptron ran in: 0.0 sec\n"
     ]
    },
    {
     "name": "stderr",
     "output_type": "stream",
     "text": [
      "\r",
      " 11%|█▏        | 63/560 [00:01<00:14, 33.85it/s]"
     ]
    },
    {
     "name": "stdout",
     "output_type": "stream",
     "text": [
      "multilayer_perceptron ran in: 0.0 sec\n",
      "multilayer_perceptron ran in: 0.0 sec\n",
      "multilayer_perceptron ran in: 0.0 sec\n"
     ]
    },
    {
     "name": "stderr",
     "output_type": "stream",
     "text": [
      "\r",
      " 12%|█▏        | 67/560 [00:01<00:14, 33.49it/s]"
     ]
    },
    {
     "name": "stdout",
     "output_type": "stream",
     "text": [
      "multilayer_perceptron ran in: 0.0 sec\n",
      "multilayer_perceptron ran in: 0.0 sec\n",
      "multilayer_perceptron ran in: 0.0 sec\n",
      "multilayer_perceptron ran in: 0.0 sec\n",
      "multilayer_perceptron ran in: 0.0 sec\n",
      "multilayer_perceptron ran in: 0.0 sec\n",
      "multilayer_perceptron ran in: 0.0065250396728515625 sec\n"
     ]
    },
    {
     "name": "stderr",
     "output_type": "stream",
     "text": [
      " 13%|█▎        | 75/560 [00:02<00:14, 34.00it/s]"
     ]
    },
    {
     "name": "stdout",
     "output_type": "stream",
     "text": [
      "multilayer_perceptron ran in: 0.01563119888305664 sec\n",
      "multilayer_perceptron ran in: 0.0 sec\n",
      "multilayer_perceptron ran in: 0.0 sec\n",
      "multilayer_perceptron ran in: 0.0 sec\n",
      "multilayer_perceptron ran in: 0.0 sec\n",
      "multilayer_perceptron ran in: 0.0 sec\n",
      "multilayer_perceptron ran in: 0.0 sec\n"
     ]
    },
    {
     "name": "stderr",
     "output_type": "stream",
     "text": [
      "\r",
      " 14%|█▍        | 79/560 [00:02<00:14, 34.15it/s]"
     ]
    },
    {
     "name": "stdout",
     "output_type": "stream",
     "text": [
      "multilayer_perceptron ran in: 0.0 sec\n",
      "multilayer_perceptron ran in: 0.0 sec\n",
      "multilayer_perceptron ran in: 0.0 sec\n",
      "multilayer_perceptron ran in: 0.0 sec\n"
     ]
    },
    {
     "name": "stderr",
     "output_type": "stream",
     "text": [
      "\r",
      " 15%|█▍        | 83/560 [00:02<00:13, 34.26it/s]"
     ]
    },
    {
     "name": "stdout",
     "output_type": "stream",
     "text": [
      "multilayer_perceptron ran in: 0.0 sec\n",
      "multilayer_perceptron ran in: 0.0 sec\n",
      "multilayer_perceptron ran in: 0.0 sec\n",
      "multilayer_perceptron ran in: 0.0 sec\n"
     ]
    },
    {
     "name": "stderr",
     "output_type": "stream",
     "text": [
      "\r",
      " 16%|█▌        | 87/560 [00:02<00:13, 34.33it/s]"
     ]
    },
    {
     "name": "stdout",
     "output_type": "stream",
     "text": [
      "multilayer_perceptron ran in: 0.0 sec\n",
      "multilayer_perceptron ran in: 0.0 sec\n",
      "multilayer_perceptron ran in: 0.015626907348632812 sec\n"
     ]
    },
    {
     "name": "stderr",
     "output_type": "stream",
     "text": [
      "\r",
      " 16%|█▋        | 91/560 [00:02<00:13, 33.82it/s]"
     ]
    },
    {
     "name": "stdout",
     "output_type": "stream",
     "text": [
      "multilayer_perceptron ran in: 0.0 sec\n",
      "multilayer_perceptron ran in: 0.0 sec\n",
      "multilayer_perceptron ran in: 0.0 sec\n",
      "multilayer_perceptron ran in: 0.0 sec\n"
     ]
    },
    {
     "name": "stderr",
     "output_type": "stream",
     "text": [
      "\r",
      " 17%|█▋        | 95/560 [00:02<00:14, 32.72it/s]"
     ]
    },
    {
     "name": "stdout",
     "output_type": "stream",
     "text": [
      "multilayer_perceptron ran in: 0.0 sec\n",
      "multilayer_perceptron ran in: 0.0 sec\n"
     ]
    },
    {
     "name": "stderr",
     "output_type": "stream",
     "text": [
      "\r",
      " 18%|█▊        | 99/560 [00:02<00:13, 33.24it/s]"
     ]
    },
    {
     "name": "stdout",
     "output_type": "stream",
     "text": [
      "multilayer_perceptron ran in: 0.0 sec\n",
      "multilayer_perceptron ran in: 0.0 sec\n",
      "multilayer_perceptron ran in: 0.0 sec\n",
      "multilayer_perceptron ran in: 0.0 sec\n",
      "multilayer_perceptron ran in: 0.0 sec\n",
      "multilayer_perceptron ran in: 0.0 sec\n",
      "multilayer_perceptron ran in: 0.0 sec\n",
      "multilayer_perceptron ran in: 0.0 sec\n"
     ]
    },
    {
     "name": "stderr",
     "output_type": "stream",
     "text": [
      "\r",
      " 18%|█▊        | 103/560 [00:03<00:13, 33.61it/s]"
     ]
    },
    {
     "name": "stdout",
     "output_type": "stream",
     "text": [
      "multilayer_perceptron ran in: 0.0 sec\n",
      "multilayer_perceptron ran in: 0.0 sec\n",
      "multilayer_perceptron ran in: 0.0 sec\n",
      "multilayer_perceptron ran in: 0.01564311981201172 sec\n"
     ]
    },
    {
     "name": "stderr",
     "output_type": "stream",
     "text": [
      "\r",
      " 19%|█▉        | 107/560 [00:03<00:13, 33.87it/s]"
     ]
    },
    {
     "name": "stdout",
     "output_type": "stream",
     "text": [
      "multilayer_perceptron ran in: 0.0 sec\n",
      "multilayer_perceptron ran in: 0.0 sec\n",
      "multilayer_perceptron ran in: 0.0 sec\n"
     ]
    },
    {
     "name": "stderr",
     "output_type": "stream",
     "text": [
      "\r",
      " 20%|█▉        | 111/560 [00:03<00:13, 33.50it/s]"
     ]
    },
    {
     "name": "stdout",
     "output_type": "stream",
     "text": [
      "multilayer_perceptron ran in: 0.015621423721313477 sec\n",
      "multilayer_perceptron ran in: 0.0 sec\n",
      "multilayer_perceptron ran in: 0.0 sec\n",
      "multilayer_perceptron ran in: 0.0 sec\n"
     ]
    },
    {
     "name": "stderr",
     "output_type": "stream",
     "text": [
      "\r",
      " 21%|██        | 115/560 [00:03<00:13, 33.82it/s]"
     ]
    },
    {
     "name": "stdout",
     "output_type": "stream",
     "text": [
      "multilayer_perceptron ran in: 0.0 sec\n",
      "multilayer_perceptron ran in: 0.0 sec\n",
      "multilayer_perceptron ran in: 0.0 sec\n",
      "multilayer_perceptron ran in: 0.0 sec\n"
     ]
    },
    {
     "name": "stderr",
     "output_type": "stream",
     "text": [
      "\r",
      " 21%|██▏       | 119/560 [00:03<00:12, 34.02it/s]"
     ]
    },
    {
     "name": "stdout",
     "output_type": "stream",
     "text": [
      "multilayer_perceptron ran in: 0.0 sec\n",
      "multilayer_perceptron ran in: 0.0 sec\n",
      "multilayer_perceptron ran in: 0.0 sec\n"
     ]
    },
    {
     "name": "stderr",
     "output_type": "stream",
     "text": [
      "\r",
      " 22%|██▏       | 123/560 [00:03<00:12, 34.16it/s]"
     ]
    },
    {
     "name": "stdout",
     "output_type": "stream",
     "text": [
      "multilayer_perceptron ran in: 0.0 sec\n",
      "multilayer_perceptron ran in: 0.0 sec\n",
      "multilayer_perceptron ran in: 0.0 sec\n",
      "multilayer_perceptron ran in: 0.0 sec\n"
     ]
    },
    {
     "name": "stderr",
     "output_type": "stream",
     "text": [
      "\r",
      " 23%|██▎       | 127/560 [00:03<00:12, 34.27it/s]"
     ]
    },
    {
     "name": "stdout",
     "output_type": "stream",
     "text": [
      "multilayer_perceptron ran in: 0.0 sec\n",
      "multilayer_perceptron ran in: 0.015608549118041992 sec\n",
      "multilayer_perceptron ran in: 0.0 sec\n"
     ]
    },
    {
     "name": "stderr",
     "output_type": "stream",
     "text": [
      "\r",
      " 23%|██▎       | 131/560 [00:03<00:12, 34.34it/s]"
     ]
    },
    {
     "name": "stdout",
     "output_type": "stream",
     "text": [
      "multilayer_perceptron ran in: 0.0 sec\n",
      "multilayer_perceptron ran in: 0.0 sec\n",
      "multilayer_perceptron ran in: 0.0 sec\n",
      "multilayer_perceptron ran in: 0.0 sec\n",
      "multilayer_perceptron ran in: 0.0 sec\n"
     ]
    },
    {
     "name": "stderr",
     "output_type": "stream",
     "text": [
      "\r",
      " 24%|██▍       | 135/560 [00:03<00:12, 33.82it/s]"
     ]
    },
    {
     "name": "stdout",
     "output_type": "stream",
     "text": [
      "multilayer_perceptron ran in: 0.0 sec\n",
      "multilayer_perceptron ran in: 0.0 sec\n"
     ]
    },
    {
     "name": "stderr",
     "output_type": "stream",
     "text": [
      "\r",
      " 25%|██▍       | 139/560 [00:04<00:12, 34.02it/s]"
     ]
    },
    {
     "name": "stdout",
     "output_type": "stream",
     "text": [
      "multilayer_perceptron ran in: 0.0 sec\n",
      "multilayer_perceptron ran in: 0.0 sec\n",
      "multilayer_perceptron ran in: 0.0 sec\n",
      "multilayer_perceptron ran in: 0.006523847579956055 sec\n",
      "multilayer_perceptron ran in: 0.0 sec\n",
      "multilayer_perceptron ran in: 0.0 sec\n",
      "multilayer_perceptron ran in: 0.0 sec\n"
     ]
    },
    {
     "name": "stderr",
     "output_type": "stream",
     "text": [
      " 26%|██▋       | 147/560 [00:04<00:12, 34.27it/s]"
     ]
    },
    {
     "name": "stdout",
     "output_type": "stream",
     "text": [
      "multilayer_perceptron ran in: 0.0 sec\n",
      "multilayer_perceptron ran in: 0.0 sec\n",
      "multilayer_perceptron ran in: 0.0 sec\n",
      "multilayer_perceptron ran in: 0.0 sec\n",
      "multilayer_perceptron ran in: 0.0 sec\n",
      "multilayer_perceptron ran in: 0.0 sec\n",
      "multilayer_perceptron ran in: 0.0 sec\n",
      "multilayer_perceptron ran in: 0.0 sec\n"
     ]
    },
    {
     "name": "stderr",
     "output_type": "stream",
     "text": [
      "\r",
      " 27%|██▋       | 151/560 [00:04<00:11, 34.34it/s]"
     ]
    },
    {
     "name": "stdout",
     "output_type": "stream",
     "text": [
      "multilayer_perceptron ran in: 0.0 sec\n",
      "multilayer_perceptron ran in: 0.0 sec\n",
      "multilayer_perceptron ran in: 0.0 sec\n",
      "multilayer_perceptron ran in: 0.0 sec\n"
     ]
    },
    {
     "name": "stderr",
     "output_type": "stream",
     "text": [
      "\r",
      " 28%|██▊       | 155/560 [00:04<00:12, 33.01it/s]"
     ]
    },
    {
     "name": "stdout",
     "output_type": "stream",
     "text": [
      "multilayer_perceptron ran in: 0.0 sec\n",
      "multilayer_perceptron ran in: 0.0 sec\n",
      "multilayer_perceptron ran in: 0.0 sec\n",
      "multilayer_perceptron ran in: 0.0 sec\n"
     ]
    },
    {
     "name": "stderr",
     "output_type": "stream",
     "text": [
      "\r",
      " 28%|██▊       | 159/560 [00:04<00:11, 34.27it/s]"
     ]
    },
    {
     "name": "stdout",
     "output_type": "stream",
     "text": [
      "multilayer_perceptron ran in: 0.0 sec\n",
      "multilayer_perceptron ran in: 0.0 sec\n"
     ]
    },
    {
     "name": "stderr",
     "output_type": "stream",
     "text": [
      "\r",
      " 29%|██▉       | 163/560 [00:04<00:15, 25.65it/s]"
     ]
    },
    {
     "name": "stdout",
     "output_type": "stream",
     "text": [
      "multilayer_perceptron ran in: 0.0 sec\n",
      "multilayer_perceptron ran in: 0.0 sec\n",
      "multilayer_perceptron ran in: 0.015639543533325195 sec\n",
      "multilayer_perceptron ran in: 0.0 sec\n",
      "multilayer_perceptron ran in: 0.0 sec\n",
      "multilayer_perceptron ran in: 0.0 sec\n",
      "multilayer_perceptron ran in: 0.0 sec\n"
     ]
    },
    {
     "name": "stderr",
     "output_type": "stream",
     "text": [
      " 31%|███       | 171/560 [00:05<00:13, 29.51it/s]"
     ]
    },
    {
     "name": "stdout",
     "output_type": "stream",
     "text": [
      "multilayer_perceptron ran in: 0.0 sec\n",
      "multilayer_perceptron ran in: 0.0 sec\n",
      "multilayer_perceptron ran in: 0.0 sec\n",
      "multilayer_perceptron ran in: 0.0 sec\n",
      "multilayer_perceptron ran in: 0.0 sec\n",
      "multilayer_perceptron ran in: 0.0 sec\n",
      "multilayer_perceptron ran in: 0.0 sec\n"
     ]
    },
    {
     "name": "stderr",
     "output_type": "stream",
     "text": [
      " 32%|███▏      | 179/560 [00:05<00:12, 31.53it/s]"
     ]
    },
    {
     "name": "stdout",
     "output_type": "stream",
     "text": [
      "multilayer_perceptron ran in: 0.0 sec\n",
      "multilayer_perceptron ran in: 0.0 sec\n",
      "multilayer_perceptron ran in: 0.0 sec\n",
      "multilayer_perceptron ran in: 0.0 sec\n",
      "multilayer_perceptron ran in: 0.002020597457885742 sec\n",
      "multilayer_perceptron ran in: 0.0 sec\n",
      "multilayer_perceptron ran in: 0.0 sec\n"
     ]
    },
    {
     "name": "stderr",
     "output_type": "stream",
     "text": [
      " 33%|███▎      | 187/560 [00:05<00:11, 32.98it/s]"
     ]
    },
    {
     "name": "stdout",
     "output_type": "stream",
     "text": [
      "multilayer_perceptron ran in: 0.0 sec\n",
      "multilayer_perceptron ran in: 0.0 sec\n",
      "multilayer_perceptron ran in: 0.0 sec\n",
      "multilayer_perceptron ran in: 0.0 sec\n",
      "multilayer_perceptron ran in: 0.0 sec\n",
      "multilayer_perceptron ran in: 0.0 sec\n",
      "multilayer_perceptron ran in: 0.0 sec\n"
     ]
    },
    {
     "name": "stderr",
     "output_type": "stream",
     "text": [
      " 35%|███▍      | 195/560 [00:05<00:11, 32.83it/s]"
     ]
    },
    {
     "name": "stdout",
     "output_type": "stream",
     "text": [
      "multilayer_perceptron ran in: 0.006525278091430664 sec\n",
      "multilayer_perceptron ran in: 0.0 sec\n",
      "multilayer_perceptron ran in: 0.0 sec\n",
      "multilayer_perceptron ran in: 0.0 sec\n",
      "multilayer_perceptron ran in: 0.0 sec\n",
      "multilayer_perceptron ran in: 0.0 sec\n",
      "multilayer_perceptron ran in: 0.0 sec\n"
     ]
    },
    {
     "name": "stderr",
     "output_type": "stream",
     "text": [
      "\r",
      " 36%|███▌      | 199/560 [00:06<00:11, 32.78it/s]"
     ]
    },
    {
     "name": "stdout",
     "output_type": "stream",
     "text": [
      "multilayer_perceptron ran in: 0.0 sec\n",
      "multilayer_perceptron ran in: 0.0 sec\n",
      "multilayer_perceptron ran in: 0.0 sec\n",
      "multilayer_perceptron ran in: 0.0 sec\n",
      "multilayer_perceptron ran in: 0.0 sec\n",
      "multilayer_perceptron ran in: 0.015626192092895508 sec\n",
      "multilayer_perceptron ran in: 0.0 sec\n"
     ]
    },
    {
     "name": "stderr",
     "output_type": "stream",
     "text": [
      " 37%|███▋      | 207/560 [00:06<00:10, 33.64it/s]"
     ]
    },
    {
     "name": "stdout",
     "output_type": "stream",
     "text": [
      "multilayer_perceptron ran in: 0.0 sec\n",
      "multilayer_perceptron ran in: 0.0 sec\n",
      "multilayer_perceptron ran in: 0.0 sec\n",
      "multilayer_perceptron ran in: 0.0 sec\n",
      "multilayer_perceptron ran in: 0.0 sec\n",
      "multilayer_perceptron ran in: 0.0 sec\n",
      "multilayer_perceptron ran in: 0.0 sec\n",
      "multilayer_perceptron ran in: 0.0 sec\n"
     ]
    },
    {
     "name": "stderr",
     "output_type": "stream",
     "text": [
      " 38%|███▊      | 215/560 [00:06<00:10, 33.15it/s]"
     ]
    },
    {
     "name": "stdout",
     "output_type": "stream",
     "text": [
      "multilayer_perceptron ran in: 0.0 sec\n",
      "multilayer_perceptron ran in: 0.0 sec\n",
      "multilayer_perceptron ran in: 0.0 sec\n",
      "multilayer_perceptron ran in: 0.0 sec\n",
      "multilayer_perceptron ran in: 0.015627145767211914 sec\n",
      "multilayer_perceptron ran in: 0.0 sec\n",
      "multilayer_perceptron ran in: 0.0 sec\n",
      "multilayer_perceptron ran in: 0.0 sec\n"
     ]
    },
    {
     "name": "stderr",
     "output_type": "stream",
     "text": [
      " 40%|███▉      | 223/560 [00:06<00:10, 33.45it/s]"
     ]
    },
    {
     "name": "stdout",
     "output_type": "stream",
     "text": [
      "multilayer_perceptron ran in: 0.0 sec\n",
      "multilayer_perceptron ran in: 0.0 sec\n",
      "multilayer_perceptron ran in: 0.0 sec\n",
      "multilayer_perceptron ran in: 0.0156252384185791 sec\n",
      "multilayer_perceptron ran in: 0.0 sec\n",
      "multilayer_perceptron ran in: 0.0 sec\n",
      "multilayer_perceptron ran in: 0.0 sec\n"
     ]
    },
    {
     "name": "stderr",
     "output_type": "stream",
     "text": [
      " 41%|████▏     | 231/560 [00:06<00:09, 33.06it/s]"
     ]
    },
    {
     "name": "stdout",
     "output_type": "stream",
     "text": [
      "multilayer_perceptron ran in: 0.0 sec\n",
      "multilayer_perceptron ran in: 0.0 sec\n",
      "multilayer_perceptron ran in: 0.0 sec\n",
      "multilayer_perceptron ran in: 0.0 sec\n",
      "multilayer_perceptron ran in: 0.0 sec\n",
      "multilayer_perceptron ran in: 0.0 sec\n",
      "multilayer_perceptron ran in: 0.0 sec\n",
      "multilayer_perceptron ran in: 0.0 sec\n"
     ]
    },
    {
     "name": "stderr",
     "output_type": "stream",
     "text": [
      " 43%|████▎     | 239/560 [00:07<00:09, 33.40it/s]"
     ]
    },
    {
     "name": "stdout",
     "output_type": "stream",
     "text": [
      "multilayer_perceptron ran in: 0.0 sec\n",
      "multilayer_perceptron ran in: 0.0 sec\n",
      "multilayer_perceptron ran in: 0.0 sec\n",
      "multilayer_perceptron ran in: 0.0 sec\n",
      "multilayer_perceptron ran in: 0.0 sec\n",
      "multilayer_perceptron ran in: 0.0 sec\n"
     ]
    },
    {
     "name": "stderr",
     "output_type": "stream",
     "text": [
      "\r",
      " 43%|████▎     | 243/560 [00:07<00:09, 32.44it/s]"
     ]
    },
    {
     "name": "stdout",
     "output_type": "stream",
     "text": [
      "multilayer_perceptron ran in: 0.0 sec\n",
      "multilayer_perceptron ran in: 0.0 sec\n",
      "multilayer_perceptron ran in: 0.0 sec\n",
      "multilayer_perceptron ran in: 0.01562809944152832 sec\n",
      "multilayer_perceptron ran in: 0.015627384185791016 sec\n",
      "multilayer_perceptron ran in: 0.0 sec\n"
     ]
    },
    {
     "name": "stderr",
     "output_type": "stream",
     "text": [
      " 45%|████▍     | 251/560 [00:07<00:09, 32.21it/s]"
     ]
    },
    {
     "name": "stdout",
     "output_type": "stream",
     "text": [
      "multilayer_perceptron ran in: 0.0 sec\n",
      "multilayer_perceptron ran in: 0.0 sec\n",
      "multilayer_perceptron ran in: 0.0 sec\n",
      "multilayer_perceptron ran in: 0.015638113021850586 sec\n",
      "multilayer_perceptron ran in: 0.0 sec\n",
      "multilayer_perceptron ran in: 0.0 sec\n"
     ]
    },
    {
     "name": "stderr",
     "output_type": "stream",
     "text": [
      "\r",
      " 46%|████▌     | 255/560 [00:07<00:09, 32.35it/s]"
     ]
    },
    {
     "name": "stdout",
     "output_type": "stream",
     "text": [
      "multilayer_perceptron ran in: 0.0 sec\n",
      "multilayer_perceptron ran in: 0.0 sec\n",
      "multilayer_perceptron ran in: 0.0 sec\n",
      "multilayer_perceptron ran in: 0.0 sec\n",
      "multilayer_perceptron ran in: 0.0 sec\n",
      "multilayer_perceptron ran in: 0.0 sec\n",
      "multilayer_perceptron ran in: 0.0 sec\n"
     ]
    },
    {
     "name": "stderr",
     "output_type": "stream",
     "text": [
      " 47%|████▋     | 263/560 [00:07<00:09, 32.16it/s]"
     ]
    },
    {
     "name": "stdout",
     "output_type": "stream",
     "text": [
      "multilayer_perceptron ran in: 0.015638351440429688 sec\n",
      "multilayer_perceptron ran in: 0.0 sec\n",
      "multilayer_perceptron ran in: 0.0 sec\n",
      "multilayer_perceptron ran in: 0.0 sec\n",
      "multilayer_perceptron ran in: 0.01562666893005371 sec\n",
      "multilayer_perceptron ran in: 0.015625953674316406 sec\n",
      "multilayer_perceptron ran in: 0.0 sec\n"
     ]
    },
    {
     "name": "stderr",
     "output_type": "stream",
     "text": [
      " 48%|████▊     | 271/560 [00:08<00:08, 32.78it/s]"
     ]
    },
    {
     "name": "stdout",
     "output_type": "stream",
     "text": [
      "multilayer_perceptron ran in: 0.0 sec\n",
      "multilayer_perceptron ran in: 0.0 sec\n",
      "multilayer_perceptron ran in: 0.0 sec\n",
      "multilayer_perceptron ran in: 0.0 sec\n",
      "multilayer_perceptron ran in: 0.0 sec\n",
      "multilayer_perceptron ran in: 0.0 sec\n",
      "multilayer_perceptron ran in: 0.0 sec\n",
      "multilayer_perceptron ran in: 0.0 sec\n"
     ]
    },
    {
     "name": "stderr",
     "output_type": "stream",
     "text": [
      " 50%|████▉     | 279/560 [00:08<00:08, 33.64it/s]"
     ]
    },
    {
     "name": "stdout",
     "output_type": "stream",
     "text": [
      "multilayer_perceptron ran in: 0.0 sec\n",
      "multilayer_perceptron ran in: 0.0 sec\n",
      "multilayer_perceptron ran in: 0.0 sec\n",
      "multilayer_perceptron ran in: 0.0 sec\n",
      "multilayer_perceptron ran in: 0.0 sec\n",
      "multilayer_perceptron ran in: 0.0 sec\n",
      "multilayer_perceptron ran in: 0.0 sec\n"
     ]
    },
    {
     "name": "stderr",
     "output_type": "stream",
     "text": [
      "\r",
      " 51%|█████     | 283/560 [00:08<00:08, 33.89it/s]"
     ]
    },
    {
     "name": "stdout",
     "output_type": "stream",
     "text": [
      "multilayer_perceptron ran in: 0.0 sec\n",
      "multilayer_perceptron ran in: 0.0 sec\n",
      "multilayer_perceptron ran in: 0.0 sec\n",
      "multilayer_perceptron ran in: 0.0 sec\n",
      "multilayer_perceptron ran in: 0.0 sec\n",
      "multilayer_perceptron ran in: 0.0 sec\n",
      "multilayer_perceptron ran in: 0.01562976837158203 sec\n"
     ]
    },
    {
     "name": "stderr",
     "output_type": "stream",
     "text": [
      " 52%|█████▏    | 291/560 [00:08<00:07, 34.20it/s]"
     ]
    },
    {
     "name": "stdout",
     "output_type": "stream",
     "text": [
      "multilayer_perceptron ran in: 0.0 sec\n",
      "multilayer_perceptron ran in: 0.0 sec\n",
      "multilayer_perceptron ran in: 0.0 sec\n",
      "multilayer_perceptron ran in: 0.0 sec\n",
      "multilayer_perceptron ran in: 0.01563429832458496 sec\n",
      "multilayer_perceptron ran in: 0.0 sec\n",
      "multilayer_perceptron ran in: 0.0 sec\n"
     ]
    },
    {
     "name": "stderr",
     "output_type": "stream",
     "text": [
      " 53%|█████▎    | 299/560 [00:09<00:07, 33.95it/s]"
     ]
    },
    {
     "name": "stdout",
     "output_type": "stream",
     "text": [
      "multilayer_perceptron ran in: 0.0 sec\n",
      "multilayer_perceptron ran in: 0.0 sec\n",
      "multilayer_perceptron ran in: 0.0 sec\n",
      "multilayer_perceptron ran in: 0.0 sec\n",
      "multilayer_perceptron ran in: 0.0 sec\n",
      "multilayer_perceptron ran in: 0.0 sec\n",
      "multilayer_perceptron ran in: 0.0 sec\n"
     ]
    },
    {
     "name": "stderr",
     "output_type": "stream",
     "text": [
      " 55%|█████▍    | 307/560 [00:09<00:07, 33.30it/s]"
     ]
    },
    {
     "name": "stdout",
     "output_type": "stream",
     "text": [
      "multilayer_perceptron ran in: 0.0 sec\n",
      "multilayer_perceptron ran in: 0.0 sec\n",
      "multilayer_perceptron ran in: 0.0 sec\n",
      "multilayer_perceptron ran in: 0.0 sec\n",
      "multilayer_perceptron ran in: 0.0 sec\n",
      "multilayer_perceptron ran in: 0.0 sec\n"
     ]
    },
    {
     "name": "stderr",
     "output_type": "stream",
     "text": [
      "\r",
      " 56%|█████▌    | 311/560 [00:09<00:07, 31.88it/s]"
     ]
    },
    {
     "name": "stdout",
     "output_type": "stream",
     "text": [
      "multilayer_perceptron ran in: 0.0 sec\n",
      "multilayer_perceptron ran in: 0.0 sec\n",
      "multilayer_perceptron ran in: 0.0 sec\n",
      "multilayer_perceptron ran in: 0.015647172927856445 sec\n",
      "multilayer_perceptron ran in: 0.0 sec\n",
      "multilayer_perceptron ran in: 0.0 sec\n",
      "multilayer_perceptron ran in: 0.0 sec\n"
     ]
    },
    {
     "name": "stderr",
     "output_type": "stream",
     "text": [
      " 57%|█████▋    | 319/560 [00:09<00:07, 33.17it/s]"
     ]
    },
    {
     "name": "stdout",
     "output_type": "stream",
     "text": [
      "multilayer_perceptron ran in: 0.0 sec\n",
      "multilayer_perceptron ran in: 0.0 sec\n",
      "multilayer_perceptron ran in: 0.015626192092895508 sec\n",
      "multilayer_perceptron ran in: 0.0 sec\n",
      "multilayer_perceptron ran in: 0.0 sec\n",
      "multilayer_perceptron ran in: 0.0 sec\n",
      "multilayer_perceptron ran in: 0.015625476837158203 sec\n",
      "multilayer_perceptron ran in: 0.0 sec\n"
     ]
    },
    {
     "name": "stderr",
     "output_type": "stream",
     "text": [
      " 58%|█████▊    | 327/560 [00:09<00:07, 32.55it/s]"
     ]
    },
    {
     "name": "stdout",
     "output_type": "stream",
     "text": [
      "multilayer_perceptron ran in: 0.0 sec\n",
      "multilayer_perceptron ran in: 0.0 sec\n",
      "multilayer_perceptron ran in: 0.006512165069580078 sec\n",
      "multilayer_perceptron ran in: 0.0 sec\n",
      "multilayer_perceptron ran in: 0.0 sec\n",
      "multilayer_perceptron ran in: 0.0 sec\n",
      "multilayer_perceptron ran in: 0.0 sec\n"
     ]
    },
    {
     "name": "stderr",
     "output_type": "stream",
     "text": [
      " 60%|█████▉    | 335/560 [00:10<00:06, 33.14it/s]"
     ]
    },
    {
     "name": "stdout",
     "output_type": "stream",
     "text": [
      "multilayer_perceptron ran in: 0.0 sec\n",
      "multilayer_perceptron ran in: 0.0 sec\n",
      "multilayer_perceptron ran in: 0.0 sec\n",
      "multilayer_perceptron ran in: 0.015624761581420898 sec\n",
      "multilayer_perceptron ran in: 0.0 sec\n",
      "multilayer_perceptron ran in: 0.0 sec\n",
      "multilayer_perceptron ran in: 0.0 sec\n",
      "multilayer_perceptron ran in: 0.0 sec\n"
     ]
    },
    {
     "name": "stderr",
     "output_type": "stream",
     "text": [
      " 61%|██████▏   | 343/560 [00:10<00:06, 33.82it/s]"
     ]
    },
    {
     "name": "stdout",
     "output_type": "stream",
     "text": [
      "multilayer_perceptron ran in: 0.0 sec\n",
      "multilayer_perceptron ran in: 0.0 sec\n",
      "multilayer_perceptron ran in: 0.0 sec\n",
      "multilayer_perceptron ran in: 0.0 sec\n",
      "multilayer_perceptron ran in: 0.0 sec\n",
      "multilayer_perceptron ran in: 0.0 sec\n",
      "multilayer_perceptron ran in: 0.0 sec\n"
     ]
    },
    {
     "name": "stderr",
     "output_type": "stream",
     "text": [
      "\r",
      " 62%|██████▏   | 347/560 [00:10<00:06, 32.72it/s]"
     ]
    },
    {
     "name": "stdout",
     "output_type": "stream",
     "text": [
      "multilayer_perceptron ran in: 0.0 sec\n",
      "multilayer_perceptron ran in: 0.0 sec\n",
      "multilayer_perceptron ran in: 0.0 sec\n",
      "multilayer_perceptron ran in: 0.0 sec\n",
      "multilayer_perceptron ran in: 0.0 sec\n",
      "multilayer_perceptron ran in: 0.0 sec\n",
      "multilayer_perceptron ran in: 0.0 sec\n"
     ]
    },
    {
     "name": "stderr",
     "output_type": "stream",
     "text": [
      " 63%|██████▎   | 355/560 [00:10<00:06, 33.23it/s]"
     ]
    },
    {
     "name": "stdout",
     "output_type": "stream",
     "text": [
      "multilayer_perceptron ran in: 0.0 sec\n",
      "multilayer_perceptron ran in: 0.0 sec\n",
      "multilayer_perceptron ran in: 0.0 sec\n",
      "multilayer_perceptron ran in: 0.0 sec\n",
      "multilayer_perceptron ran in: 0.0 sec\n",
      "multilayer_perceptron ran in: 0.0 sec\n"
     ]
    },
    {
     "name": "stderr",
     "output_type": "stream",
     "text": [
      " 65%|██████▍   | 363/560 [00:10<00:05, 32.95it/s]"
     ]
    },
    {
     "name": "stdout",
     "output_type": "stream",
     "text": [
      "multilayer_perceptron ran in: 0.0 sec\n",
      "multilayer_perceptron ran in: 0.0 sec\n",
      "multilayer_perceptron ran in: 0.0 sec\n",
      "multilayer_perceptron ran in: 0.0 sec\n",
      "multilayer_perceptron ran in: 0.0 sec\n",
      "multilayer_perceptron ran in: 0.0 sec\n",
      "multilayer_perceptron ran in: 0.0 sec\n"
     ]
    },
    {
     "name": "stderr",
     "output_type": "stream",
     "text": [
      "\r",
      " 66%|██████▌   | 367/560 [00:11<00:06, 32.15it/s]"
     ]
    },
    {
     "name": "stdout",
     "output_type": "stream",
     "text": [
      "multilayer_perceptron ran in: 0.0 sec\n",
      "multilayer_perceptron ran in: 0.0 sec\n",
      "multilayer_perceptron ran in: 0.0 sec\n",
      "multilayer_perceptron ran in: 0.0 sec\n",
      "multilayer_perceptron ran in: 0.0 sec\n",
      "multilayer_perceptron ran in: 0.015627622604370117 sec\n"
     ]
    },
    {
     "name": "stderr",
     "output_type": "stream",
     "text": [
      " 67%|██████▋   | 375/560 [00:11<00:05, 32.93it/s]"
     ]
    },
    {
     "name": "stdout",
     "output_type": "stream",
     "text": [
      "multilayer_perceptron ran in: 0.0 sec\n",
      "multilayer_perceptron ran in: 0.0 sec\n",
      "multilayer_perceptron ran in: 0.0 sec\n",
      "multilayer_perceptron ran in: 0.0 sec\n",
      "multilayer_perceptron ran in: 0.0 sec\n",
      "multilayer_perceptron ran in: 0.0 sec\n",
      "multilayer_perceptron ran in: 0.015640974044799805 sec\n",
      "multilayer_perceptron ran in: 0.0 sec\n"
     ]
    },
    {
     "name": "stderr",
     "output_type": "stream",
     "text": [
      " 68%|██████▊   | 383/560 [00:11<00:05, 32.82it/s]"
     ]
    },
    {
     "name": "stdout",
     "output_type": "stream",
     "text": [
      "multilayer_perceptron ran in: 0.0 sec\n",
      "multilayer_perceptron ran in: 0.0 sec\n",
      "multilayer_perceptron ran in: 0.0 sec\n",
      "multilayer_perceptron ran in: 0.015642404556274414 sec\n",
      "multilayer_perceptron ran in: 0.0 sec\n",
      "multilayer_perceptron ran in: 0.0 sec\n",
      "multilayer_perceptron ran in: 0.0 sec\n"
     ]
    },
    {
     "name": "stderr",
     "output_type": "stream",
     "text": [
      " 70%|██████▉   | 391/560 [00:11<00:05, 33.28it/s]"
     ]
    },
    {
     "name": "stdout",
     "output_type": "stream",
     "text": [
      "multilayer_perceptron ran in: 0.0 sec\n",
      "multilayer_perceptron ran in: 0.0 sec\n",
      "multilayer_perceptron ran in: 0.0 sec\n",
      "multilayer_perceptron ran in: 0.0 sec\n",
      "multilayer_perceptron ran in: 0.0 sec\n",
      "multilayer_perceptron ran in: 0.0 sec\n",
      "multilayer_perceptron ran in: 0.0 sec\n"
     ]
    },
    {
     "name": "stderr",
     "output_type": "stream",
     "text": [
      "\r",
      " 71%|███████   | 395/560 [00:11<00:05, 32.36it/s]"
     ]
    },
    {
     "name": "stdout",
     "output_type": "stream",
     "text": [
      "multilayer_perceptron ran in: 0.015613794326782227 sec\n",
      "multilayer_perceptron ran in: 0.0 sec\n",
      "multilayer_perceptron ran in: 0.0 sec\n",
      "multilayer_perceptron ran in: 0.0 sec\n",
      "multilayer_perceptron ran in: 0.0 sec\n",
      "multilayer_perceptron ran in: 0.015635013580322266 sec\n",
      "multilayer_perceptron ran in: 0.0 sec\n"
     ]
    },
    {
     "name": "stderr",
     "output_type": "stream",
     "text": [
      " 72%|███████▏  | 403/560 [00:12<00:04, 33.42it/s]"
     ]
    },
    {
     "name": "stdout",
     "output_type": "stream",
     "text": [
      "multilayer_perceptron ran in: 0.0 sec\n",
      "multilayer_perceptron ran in: 0.0 sec\n",
      "multilayer_perceptron ran in: 0.0 sec\n",
      "multilayer_perceptron ran in: 0.0 sec\n",
      "multilayer_perceptron ran in: 0.0 sec\n",
      "multilayer_perceptron ran in: 0.0 sec\n",
      "multilayer_perceptron ran in: 0.015625953674316406 sec\n"
     ]
    },
    {
     "name": "stderr",
     "output_type": "stream",
     "text": [
      " 73%|███████▎  | 411/560 [00:12<00:04, 34.77it/s]"
     ]
    },
    {
     "name": "stdout",
     "output_type": "stream",
     "text": [
      "multilayer_perceptron ran in: 0.0 sec\n",
      "multilayer_perceptron ran in: 0.0 sec\n",
      "multilayer_perceptron ran in: 0.0 sec\n",
      "multilayer_perceptron ran in: 0.0 sec\n",
      "multilayer_perceptron ran in: 0.0 sec\n",
      "multilayer_perceptron ran in: 0.0 sec\n",
      "multilayer_perceptron ran in: 0.0 sec\n"
     ]
    },
    {
     "name": "stderr",
     "output_type": "stream",
     "text": [
      " 75%|███████▍  | 419/560 [00:12<00:04, 34.64it/s]"
     ]
    },
    {
     "name": "stdout",
     "output_type": "stream",
     "text": [
      "multilayer_perceptron ran in: 0.0 sec\n",
      "multilayer_perceptron ran in: 0.0 sec\n",
      "multilayer_perceptron ran in: 0.0 sec\n",
      "multilayer_perceptron ran in: 0.0 sec\n",
      "multilayer_perceptron ran in: 0.0 sec\n",
      "multilayer_perceptron ran in: 0.0 sec\n",
      "multilayer_perceptron ran in: 0.0 sec\n"
     ]
    },
    {
     "name": "stderr",
     "output_type": "stream",
     "text": [
      "\r",
      " 76%|███████▌  | 423/560 [00:12<00:03, 34.60it/s]"
     ]
    },
    {
     "name": "stdout",
     "output_type": "stream",
     "text": [
      "multilayer_perceptron ran in: 0.0 sec\n",
      "multilayer_perceptron ran in: 0.0 sec\n",
      "multilayer_perceptron ran in: 0.0 sec\n",
      "multilayer_perceptron ran in: 0.0 sec\n",
      "multilayer_perceptron ran in: 0.0 sec\n",
      "multilayer_perceptron ran in: 0.0 sec\n",
      "multilayer_perceptron ran in: 0.0 sec\n"
     ]
    },
    {
     "name": "stderr",
     "output_type": "stream",
     "text": [
      " 77%|███████▋  | 431/560 [00:13<00:04, 31.83it/s]"
     ]
    },
    {
     "name": "stdout",
     "output_type": "stream",
     "text": [
      "multilayer_perceptron ran in: 0.0 sec\n",
      "multilayer_perceptron ran in: 0.0 sec\n",
      "multilayer_perceptron ran in: 0.0 sec\n",
      "multilayer_perceptron ran in: 0.015620231628417969 sec\n",
      "multilayer_perceptron ran in: 0.0 sec\n",
      "multilayer_perceptron ran in: 0.01562643051147461 sec\n"
     ]
    },
    {
     "name": "stderr",
     "output_type": "stream",
     "text": [
      " 78%|███████▊  | 439/560 [00:13<00:03, 31.90it/s]"
     ]
    },
    {
     "name": "stdout",
     "output_type": "stream",
     "text": [
      "multilayer_perceptron ran in: 0.0 sec\n",
      "multilayer_perceptron ran in: 0.0 sec\n",
      "multilayer_perceptron ran in: 0.0 sec\n",
      "multilayer_perceptron ran in: 0.0 sec\n",
      "multilayer_perceptron ran in: 0.015633583068847656 sec\n",
      "multilayer_perceptron ran in: 0.0 sec\n",
      "multilayer_perceptron ran in: 0.0 sec\n",
      "multilayer_perceptron ran in: 0.0 sec\n"
     ]
    },
    {
     "name": "stderr",
     "output_type": "stream",
     "text": [
      " 80%|███████▉  | 447/560 [00:13<00:03, 31.55it/s]"
     ]
    },
    {
     "name": "stdout",
     "output_type": "stream",
     "text": [
      "multilayer_perceptron ran in: 0.0 sec\n",
      "multilayer_perceptron ran in: 0.0 sec\n",
      "multilayer_perceptron ran in: 0.0 sec\n",
      "multilayer_perceptron ran in: 0.0 sec\n",
      "multilayer_perceptron ran in: 0.0 sec\n",
      "multilayer_perceptron ran in: 0.0 sec\n"
     ]
    },
    {
     "name": "stderr",
     "output_type": "stream",
     "text": [
      "\r",
      " 81%|████████  | 451/560 [00:13<00:03, 32.39it/s]"
     ]
    },
    {
     "name": "stdout",
     "output_type": "stream",
     "text": [
      "multilayer_perceptron ran in: 0.0 sec\n",
      "multilayer_perceptron ran in: 0.0 sec\n",
      "multilayer_perceptron ran in: 0.0 sec\n",
      "multilayer_perceptron ran in: 0.0 sec\n",
      "multilayer_perceptron ran in: 0.0 sec\n",
      "multilayer_perceptron ran in: 0.0 sec\n",
      "multilayer_perceptron ran in: 0.0 sec\n",
      "multilayer_perceptron ran in: 0.0 sec\n"
     ]
    },
    {
     "name": "stderr",
     "output_type": "stream",
     "text": [
      " 82%|████████▏ | 459/560 [00:13<00:03, 33.43it/s]"
     ]
    },
    {
     "name": "stdout",
     "output_type": "stream",
     "text": [
      "multilayer_perceptron ran in: 0.0 sec\n",
      "multilayer_perceptron ran in: 0.0 sec\n",
      "multilayer_perceptron ran in: 0.0 sec\n",
      "multilayer_perceptron ran in: 0.0 sec\n",
      "multilayer_perceptron ran in: 0.0 sec\n",
      "multilayer_perceptron ran in: 0.0 sec\n",
      "multilayer_perceptron ran in: 0.0 sec\n"
     ]
    },
    {
     "name": "stderr",
     "output_type": "stream",
     "text": [
      " 83%|████████▎ | 467/560 [00:14<00:02, 33.42it/s]"
     ]
    },
    {
     "name": "stdout",
     "output_type": "stream",
     "text": [
      "multilayer_perceptron ran in: 0.0 sec\n",
      "multilayer_perceptron ran in: 0.006528615951538086 sec\n",
      "multilayer_perceptron ran in: 0.0 sec\n",
      "multilayer_perceptron ran in: 0.0 sec\n",
      "multilayer_perceptron ran in: 0.0 sec\n",
      "multilayer_perceptron ran in: 0.015637636184692383 sec\n",
      "multilayer_perceptron ran in: 0.0 sec\n"
     ]
    },
    {
     "name": "stderr",
     "output_type": "stream",
     "text": [
      " 85%|████████▍ | 475/560 [00:14<00:02, 32.66it/s]"
     ]
    },
    {
     "name": "stdout",
     "output_type": "stream",
     "text": [
      "multilayer_perceptron ran in: 0.0 sec\n",
      "multilayer_perceptron ran in: 0.0 sec\n",
      "multilayer_perceptron ran in: 0.0 sec\n",
      "multilayer_perceptron ran in: 0.0 sec\n",
      "multilayer_perceptron ran in: 0.006524324417114258 sec\n",
      "multilayer_perceptron ran in: 0.0 sec\n"
     ]
    },
    {
     "name": "stderr",
     "output_type": "stream",
     "text": [
      "\r",
      " 86%|████████▌ | 479/560 [00:14<00:02, 33.20it/s]"
     ]
    },
    {
     "name": "stdout",
     "output_type": "stream",
     "text": [
      "multilayer_perceptron ran in: 0.015627384185791016 sec\n",
      "multilayer_perceptron ran in: 0.0 sec\n",
      "multilayer_perceptron ran in: 0.0 sec\n",
      "multilayer_perceptron ran in: 0.0 sec\n",
      "multilayer_perceptron ran in: 0.0 sec\n",
      "multilayer_perceptron ran in: 0.0 sec\n",
      "multilayer_perceptron ran in: 0.0 sec\n"
     ]
    },
    {
     "name": "stderr",
     "output_type": "stream",
     "text": [
      " 87%|████████▋ | 487/560 [00:14<00:02, 32.41it/s]"
     ]
    },
    {
     "name": "stdout",
     "output_type": "stream",
     "text": [
      "multilayer_perceptron ran in: 0.0 sec\n",
      "multilayer_perceptron ran in: 0.0 sec\n",
      "multilayer_perceptron ran in: 0.0 sec\n",
      "multilayer_perceptron ran in: 0.0 sec\n",
      "multilayer_perceptron ran in: 0.0 sec\n",
      "multilayer_perceptron ran in: 0.0 sec\n",
      "multilayer_perceptron ran in: 0.0 sec\n"
     ]
    },
    {
     "name": "stderr",
     "output_type": "stream",
     "text": [
      " 88%|████████▊ | 495/560 [00:14<00:02, 32.18it/s]"
     ]
    },
    {
     "name": "stdout",
     "output_type": "stream",
     "text": [
      "multilayer_perceptron ran in: 0.0 sec\n",
      "multilayer_perceptron ran in: 0.0 sec\n",
      "multilayer_perceptron ran in: 0.0 sec\n",
      "multilayer_perceptron ran in: 0.0 sec\n",
      "multilayer_perceptron ran in: 0.0 sec\n",
      "multilayer_perceptron ran in: 0.0 sec\n",
      "multilayer_perceptron ran in: 0.0 sec\n"
     ]
    },
    {
     "name": "stderr",
     "output_type": "stream",
     "text": [
      " 90%|████████▉ | 503/560 [00:15<00:01, 32.79it/s]"
     ]
    },
    {
     "name": "stdout",
     "output_type": "stream",
     "text": [
      "multilayer_perceptron ran in: 0.0 sec\n",
      "multilayer_perceptron ran in: 0.0 sec\n",
      "multilayer_perceptron ran in: 0.0 sec\n",
      "multilayer_perceptron ran in: 0.006532907485961914 sec\n",
      "multilayer_perceptron ran in: 0.0 sec\n",
      "multilayer_perceptron ran in: 0.0 sec\n",
      "multilayer_perceptron ran in: 0.0 sec\n"
     ]
    },
    {
     "name": "stderr",
     "output_type": "stream",
     "text": [
      "\r",
      " 91%|█████████ | 507/560 [00:15<00:01, 33.29it/s]"
     ]
    },
    {
     "name": "stdout",
     "output_type": "stream",
     "text": [
      "multilayer_perceptron ran in: 0.0 sec\n",
      "multilayer_perceptron ran in: 0.0 sec\n",
      "multilayer_perceptron ran in: 0.0 sec\n",
      "multilayer_perceptron ran in: 0.0 sec\n",
      "multilayer_perceptron ran in: 0.0 sec\n",
      "multilayer_perceptron ran in: 0.0 sec\n",
      "multilayer_perceptron ran in: 0.0 sec\n"
     ]
    },
    {
     "name": "stderr",
     "output_type": "stream",
     "text": [
      " 92%|█████████▏| 515/560 [00:15<00:01, 32.99it/s]"
     ]
    },
    {
     "name": "stdout",
     "output_type": "stream",
     "text": [
      "multilayer_perceptron ran in: 0.0 sec\n",
      "multilayer_perceptron ran in: 0.0 sec\n",
      "multilayer_perceptron ran in: 0.0 sec\n",
      "multilayer_perceptron ran in: 0.0 sec\n",
      "multilayer_perceptron ran in: 0.0 sec\n",
      "multilayer_perceptron ran in: 0.0 sec\n",
      "multilayer_perceptron ran in: 0.0 sec\n",
      "multilayer_perceptron ran in: 0.0 sec\n"
     ]
    },
    {
     "name": "stderr",
     "output_type": "stream",
     "text": [
      " 93%|█████████▎| 523/560 [00:15<00:01, 33.74it/s]"
     ]
    },
    {
     "name": "stdout",
     "output_type": "stream",
     "text": [
      "multilayer_perceptron ran in: 0.0 sec\n",
      "multilayer_perceptron ran in: 0.0 sec\n",
      "multilayer_perceptron ran in: 0.0 sec\n",
      "multilayer_perceptron ran in: 0.0 sec\n",
      "multilayer_perceptron ran in: 0.0 sec\n",
      "multilayer_perceptron ran in: 0.0 sec\n",
      "multilayer_perceptron ran in: 0.0 sec\n"
     ]
    },
    {
     "name": "stderr",
     "output_type": "stream",
     "text": [
      " 95%|█████████▍| 531/560 [00:16<00:00, 33.73it/s]"
     ]
    },
    {
     "name": "stdout",
     "output_type": "stream",
     "text": [
      "multilayer_perceptron ran in: 0.0 sec\n",
      "multilayer_perceptron ran in: 0.0 sec\n",
      "multilayer_perceptron ran in: 0.0 sec\n",
      "multilayer_perceptron ran in: 0.0 sec\n",
      "multilayer_perceptron ran in: 0.0 sec\n",
      "multilayer_perceptron ran in: 0.0 sec\n"
     ]
    },
    {
     "name": "stderr",
     "output_type": "stream",
     "text": [
      "\r",
      " 96%|█████████▌| 535/560 [00:16<00:00, 33.96it/s]"
     ]
    },
    {
     "name": "stdout",
     "output_type": "stream",
     "text": [
      "multilayer_perceptron ran in: 0.0 sec\n",
      "multilayer_perceptron ran in: 0.0 sec\n",
      "multilayer_perceptron ran in: 0.0 sec\n",
      "multilayer_perceptron ran in: 0.0 sec\n",
      "multilayer_perceptron ran in: 0.0 sec\n",
      "multilayer_perceptron ran in: 0.0 sec\n",
      "multilayer_perceptron ran in: 0.0 sec\n"
     ]
    },
    {
     "name": "stderr",
     "output_type": "stream",
     "text": [
      " 97%|█████████▋| 543/560 [00:16<00:00, 32.92it/s]"
     ]
    },
    {
     "name": "stdout",
     "output_type": "stream",
     "text": [
      "multilayer_perceptron ran in: 0.0 sec\n",
      "multilayer_perceptron ran in: 0.0 sec\n",
      "multilayer_perceptron ran in: 0.015649080276489258 sec\n",
      "multilayer_perceptron ran in: 0.015613079071044922 sec\n",
      "multilayer_perceptron ran in: 0.0 sec\n",
      "multilayer_perceptron ran in: 0.0 sec\n",
      "multilayer_perceptron ran in: 0.0 sec\n"
     ]
    },
    {
     "name": "stderr",
     "output_type": "stream",
     "text": [
      " 98%|█████████▊| 551/560 [00:16<00:00, 32.07it/s]"
     ]
    },
    {
     "name": "stdout",
     "output_type": "stream",
     "text": [
      "multilayer_perceptron ran in: 0.0 sec\n",
      "multilayer_perceptron ran in: 0.0 sec\n",
      "multilayer_perceptron ran in: 0.0 sec\n",
      "multilayer_perceptron ran in: 0.0 sec\n",
      "multilayer_perceptron ran in: 0.006529331207275391 sec\n",
      "multilayer_perceptron ran in: 0.0 sec\n"
     ]
    },
    {
     "name": "stderr",
     "output_type": "stream",
     "text": [
      "\r",
      " 99%|█████████▉| 555/560 [00:16<00:00, 32.77it/s]"
     ]
    },
    {
     "name": "stdout",
     "output_type": "stream",
     "text": [
      "multilayer_perceptron ran in: 0.0 sec\n",
      "multilayer_perceptron ran in: 0.0 sec\n",
      "multilayer_perceptron ran in: 0.01563429832458496 sec\n",
      "multilayer_perceptron ran in: 0.0 sec\n",
      "multilayer_perceptron ran in: 0.0 sec\n",
      "multilayer_perceptron ran in: 0.0 sec\n",
      "multilayer_perceptron ran in: 0.0 sec\n"
     ]
    },
    {
     "name": "stderr",
     "output_type": "stream",
     "text": [
      "100%|██████████| 560/560 [00:16<00:00, 33.01it/s]\n"
     ]
    },
    {
     "name": "stdout",
     "output_type": "stream",
     "text": [
      "multilayer_perceptron ran in: 0.0 sec\n",
      "multilayer_perceptron ran in: 0.0 sec\n",
      "Epoch: 10 Cost=134092.7031\n"
     ]
    },
    {
     "name": "stderr",
     "output_type": "stream",
     "text": [
      "  1%|          | 4/560 [00:00<00:16, 34.51it/s]"
     ]
    },
    {
     "name": "stdout",
     "output_type": "stream",
     "text": [
      "multilayer_perceptron ran in: 0.0 sec\n",
      "multilayer_perceptron ran in: 0.0 sec\n",
      "multilayer_perceptron ran in: 0.0 sec\n",
      "multilayer_perceptron ran in: 0.0 sec\n",
      "multilayer_perceptron ran in: 0.0 sec\n",
      "multilayer_perceptron ran in: 0.0 sec\n",
      "multilayer_perceptron ran in: 0.0 sec\n"
     ]
    },
    {
     "name": "stderr",
     "output_type": "stream",
     "text": [
      "\r",
      "  1%|▏         | 8/560 [00:00<00:17, 31.98it/s]"
     ]
    },
    {
     "name": "stdout",
     "output_type": "stream",
     "text": [
      "multilayer_perceptron ran in: 0.0 sec\n",
      "multilayer_perceptron ran in: 0.0 sec\n",
      "multilayer_perceptron ran in: 0.0 sec\n"
     ]
    },
    {
     "name": "stderr",
     "output_type": "stream",
     "text": [
      "\r",
      "  2%|▏         | 12/560 [00:00<00:16, 32.29it/s]"
     ]
    },
    {
     "name": "stdout",
     "output_type": "stream",
     "text": [
      "multilayer_perceptron ran in: 0.0 sec\n",
      "multilayer_perceptron ran in: 0.0 sec\n",
      "multilayer_perceptron ran in: 0.0 sec\n",
      "multilayer_perceptron ran in: 0.0157930850982666 sec\n"
     ]
    },
    {
     "name": "stderr",
     "output_type": "stream",
     "text": [
      "\r",
      "  3%|▎         | 16/560 [00:00<00:16, 33.14it/s]"
     ]
    },
    {
     "name": "stdout",
     "output_type": "stream",
     "text": [
      "multilayer_perceptron ran in: 0.0 sec\n",
      "multilayer_perceptron ran in: 0.0 sec\n"
     ]
    },
    {
     "name": "stderr",
     "output_type": "stream",
     "text": [
      "\r",
      "  4%|▎         | 20/560 [00:00<00:16, 33.62it/s]"
     ]
    },
    {
     "name": "stdout",
     "output_type": "stream",
     "text": [
      "multilayer_perceptron ran in: 0.0 sec\n",
      "multilayer_perceptron ran in: 0.0 sec\n",
      "multilayer_perceptron ran in: 0.0 sec\n",
      "multilayer_perceptron ran in: 0.0 sec\n",
      "multilayer_perceptron ran in: 0.0 sec\n",
      "multilayer_perceptron ran in: 0.0 sec\n",
      "multilayer_perceptron ran in: 0.015636682510375977 sec\n"
     ]
    },
    {
     "name": "stderr",
     "output_type": "stream",
     "text": [
      "\r",
      "  4%|▍         | 24/560 [00:00<00:16, 32.45it/s]"
     ]
    },
    {
     "name": "stdout",
     "output_type": "stream",
     "text": [
      "multilayer_perceptron ran in: 0.0 sec\n",
      "multilayer_perceptron ran in: 0.0 sec\n",
      "multilayer_perceptron ran in: 0.015650510787963867 sec\n",
      "multilayer_perceptron ran in: 0.0 sec\n"
     ]
    },
    {
     "name": "stderr",
     "output_type": "stream",
     "text": [
      "\r",
      "  5%|▌         | 28/560 [00:00<00:17, 31.23it/s]"
     ]
    },
    {
     "name": "stdout",
     "output_type": "stream",
     "text": [
      "multilayer_perceptron ran in: 0.0 sec\n",
      "multilayer_perceptron ran in: 0.0 sec\n",
      "multilayer_perceptron ran in: 0.0 sec\n"
     ]
    },
    {
     "name": "stderr",
     "output_type": "stream",
     "text": [
      "\r",
      "  6%|▌         | 32/560 [00:00<00:16, 32.20it/s]"
     ]
    },
    {
     "name": "stdout",
     "output_type": "stream",
     "text": [
      "multilayer_perceptron ran in: 0.0 sec\n",
      "multilayer_perceptron ran in: 0.0 sec\n",
      "multilayer_perceptron ran in: 0.0 sec\n",
      "multilayer_perceptron ran in: 0.0 sec\n"
     ]
    },
    {
     "name": "stderr",
     "output_type": "stream",
     "text": [
      "\r",
      "  6%|▋         | 36/560 [00:01<00:15, 32.89it/s]"
     ]
    },
    {
     "name": "stdout",
     "output_type": "stream",
     "text": [
      "multilayer_perceptron ran in: 0.0 sec\n",
      "multilayer_perceptron ran in: 0.015634775161743164 sec\n",
      "multilayer_perceptron ran in: 0.0 sec\n",
      "multilayer_perceptron ran in: 0.0 sec\n"
     ]
    },
    {
     "name": "stderr",
     "output_type": "stream",
     "text": [
      "\r",
      "  7%|▋         | 40/560 [00:01<00:15, 33.37it/s]"
     ]
    },
    {
     "name": "stdout",
     "output_type": "stream",
     "text": [
      "multilayer_perceptron ran in: 0.0 sec\n",
      "multilayer_perceptron ran in: 0.0 sec\n"
     ]
    },
    {
     "name": "stderr",
     "output_type": "stream",
     "text": [
      "\r",
      "  8%|▊         | 44/560 [00:01<00:15, 32.41it/s]"
     ]
    },
    {
     "name": "stdout",
     "output_type": "stream",
     "text": [
      "multilayer_perceptron ran in: 0.0 sec\n",
      "multilayer_perceptron ran in: 0.0 sec\n",
      "multilayer_perceptron ran in: 0.015630006790161133 sec\n",
      "multilayer_perceptron ran in: 0.0 sec\n",
      "multilayer_perceptron ran in: 0.0 sec\n",
      "multilayer_perceptron ran in: 0.0 sec\n"
     ]
    },
    {
     "name": "stderr",
     "output_type": "stream",
     "text": [
      "  9%|▉         | 52/560 [00:01<00:15, 33.07it/s]"
     ]
    },
    {
     "name": "stdout",
     "output_type": "stream",
     "text": [
      "multilayer_perceptron ran in: 0.0 sec\n",
      "multilayer_perceptron ran in: 0.0 sec\n",
      "multilayer_perceptron ran in: 0.0 sec\n",
      "multilayer_perceptron ran in: 0.0 sec\n",
      "multilayer_perceptron ran in: 0.0 sec\n",
      "multilayer_perceptron ran in: 0.006523847579956055 sec\n",
      "multilayer_perceptron ran in: 0.0 sec\n"
     ]
    },
    {
     "name": "stderr",
     "output_type": "stream",
     "text": [
      "\r",
      " 10%|█         | 56/560 [00:01<00:15, 32.22it/s]"
     ]
    },
    {
     "name": "stdout",
     "output_type": "stream",
     "text": [
      "multilayer_perceptron ran in: 0.0 sec\n",
      "multilayer_perceptron ran in: 0.0 sec\n",
      "multilayer_perceptron ran in: 0.0 sec\n",
      "multilayer_perceptron ran in: 0.0 sec\n",
      "multilayer_perceptron ran in: 0.0 sec\n",
      "multilayer_perceptron ran in: 0.0 sec\n"
     ]
    },
    {
     "name": "stderr",
     "output_type": "stream",
     "text": [
      "\r",
      " 11%|█         | 60/560 [00:01<00:15, 32.88it/s]"
     ]
    },
    {
     "name": "stdout",
     "output_type": "stream",
     "text": [
      "multilayer_perceptron ran in: 0.0 sec\n"
     ]
    },
    {
     "name": "stderr",
     "output_type": "stream",
     "text": [
      "\r",
      " 11%|█▏        | 64/560 [00:01<00:14, 33.35it/s]"
     ]
    },
    {
     "name": "stdout",
     "output_type": "stream",
     "text": [
      "multilayer_perceptron ran in: 0.015639305114746094 sec\n",
      "multilayer_perceptron ran in: 0.0 sec\n",
      "multilayer_perceptron ran in: 0.0 sec\n",
      "multilayer_perceptron ran in: 0.0 sec\n",
      "multilayer_perceptron ran in: 0.0 sec\n",
      "multilayer_perceptron ran in: 0.0 sec\n",
      "multilayer_perceptron ran in: 0.015622854232788086 sec\n"
     ]
    },
    {
     "name": "stderr",
     "output_type": "stream",
     "text": [
      " 13%|█▎        | 72/560 [00:02<00:14, 32.64it/s]"
     ]
    },
    {
     "name": "stdout",
     "output_type": "stream",
     "text": [
      "multilayer_perceptron ran in: 0.0 sec\n",
      "multilayer_perceptron ran in: 0.0 sec\n",
      "multilayer_perceptron ran in: 0.0 sec\n",
      "multilayer_perceptron ran in: 0.0 sec\n",
      "multilayer_perceptron ran in: 0.0 sec\n",
      "multilayer_perceptron ran in: 0.0 sec\n",
      "multilayer_perceptron ran in: 0.015613317489624023 sec\n"
     ]
    },
    {
     "name": "stderr",
     "output_type": "stream",
     "text": [
      " 14%|█▍        | 80/560 [00:02<00:14, 33.20it/s]"
     ]
    },
    {
     "name": "stdout",
     "output_type": "stream",
     "text": [
      "multilayer_perceptron ran in: 0.0 sec\n",
      "multilayer_perceptron ran in: 0.0 sec\n",
      "multilayer_perceptron ran in: 0.0 sec\n",
      "multilayer_perceptron ran in: 0.0 sec\n",
      "multilayer_perceptron ran in: 0.0 sec\n",
      "multilayer_perceptron ran in: 0.0 sec\n",
      "multilayer_perceptron ran in: 0.0 sec\n"
     ]
    },
    {
     "name": "stderr",
     "output_type": "stream",
     "text": [
      "\r",
      " 15%|█▌        | 84/560 [00:02<00:14, 32.16it/s]"
     ]
    },
    {
     "name": "stdout",
     "output_type": "stream",
     "text": [
      "multilayer_perceptron ran in: 0.0 sec\n",
      "multilayer_perceptron ran in: 0.0 sec\n",
      "multilayer_perceptron ran in: 0.0 sec\n",
      "multilayer_perceptron ran in: 0.0 sec\n",
      "multilayer_perceptron ran in: 0.0 sec\n",
      "multilayer_perceptron ran in: 0.0 sec\n",
      "multilayer_perceptron ran in: 0.0 sec\n"
     ]
    },
    {
     "name": "stderr",
     "output_type": "stream",
     "text": [
      " 16%|█▋        | 92/560 [00:02<00:14, 33.32it/s]"
     ]
    },
    {
     "name": "stdout",
     "output_type": "stream",
     "text": [
      "multilayer_perceptron ran in: 0.0 sec\n",
      "multilayer_perceptron ran in: 0.0 sec\n",
      "multilayer_perceptron ran in: 0.0 sec\n",
      "multilayer_perceptron ran in: 0.0 sec\n",
      "multilayer_perceptron ran in: 0.0 sec\n",
      "multilayer_perceptron ran in: 0.0 sec\n",
      "multilayer_perceptron ran in: 0.0 sec\n"
     ]
    },
    {
     "name": "stderr",
     "output_type": "stream",
     "text": [
      "\r",
      " 17%|█▋        | 96/560 [00:02<00:14, 32.39it/s]"
     ]
    },
    {
     "name": "stdout",
     "output_type": "stream",
     "text": [
      "multilayer_perceptron ran in: 0.0 sec\n",
      "multilayer_perceptron ran in: 0.0 sec\n",
      "multilayer_perceptron ran in: 0.0 sec\n",
      "multilayer_perceptron ran in: 0.0 sec\n"
     ]
    },
    {
     "name": "stderr",
     "output_type": "stream",
     "text": [
      "\r",
      " 18%|█▊        | 100/560 [00:03<00:13, 32.99it/s]"
     ]
    },
    {
     "name": "stdout",
     "output_type": "stream",
     "text": [
      "multilayer_perceptron ran in: 0.0 sec\n",
      "multilayer_perceptron ran in: 0.0 sec\n",
      "multilayer_perceptron ran in: 0.0 sec\n"
     ]
    },
    {
     "name": "stderr",
     "output_type": "stream",
     "text": [
      "\r",
      " 19%|█▊        | 104/560 [00:03<00:13, 32.89it/s]"
     ]
    },
    {
     "name": "stdout",
     "output_type": "stream",
     "text": [
      "multilayer_perceptron ran in: 0.0 sec\n",
      "multilayer_perceptron ran in: 0.0 sec\n",
      "multilayer_perceptron ran in: 0.0 sec\n",
      "multilayer_perceptron ran in: 0.0 sec\n"
     ]
    },
    {
     "name": "stderr",
     "output_type": "stream",
     "text": [
      "\r",
      " 19%|█▉        | 108/560 [00:03<00:13, 33.36it/s]"
     ]
    },
    {
     "name": "stdout",
     "output_type": "stream",
     "text": [
      "multilayer_perceptron ran in: 0.015614509582519531 sec\n",
      "multilayer_perceptron ran in: 0.0 sec\n",
      "multilayer_perceptron ran in: 0.0 sec\n"
     ]
    },
    {
     "name": "stderr",
     "output_type": "stream",
     "text": [
      "\r",
      " 20%|██        | 112/560 [00:03<00:13, 33.70it/s]"
     ]
    },
    {
     "name": "stdout",
     "output_type": "stream",
     "text": [
      "multilayer_perceptron ran in: 0.0 sec\n",
      "multilayer_perceptron ran in: 0.0 sec\n",
      "multilayer_perceptron ran in: 0.0 sec\n",
      "multilayer_perceptron ran in: 0.0 sec\n"
     ]
    },
    {
     "name": "stderr",
     "output_type": "stream",
     "text": [
      "\r",
      " 21%|██        | 116/560 [00:03<00:13, 32.64it/s]"
     ]
    },
    {
     "name": "stdout",
     "output_type": "stream",
     "text": [
      "multilayer_perceptron ran in: 0.0 sec\n",
      "multilayer_perceptron ran in: 0.0 sec\n",
      "multilayer_perceptron ran in: 0.0 sec\n",
      "multilayer_perceptron ran in: 0.0 sec\n",
      "multilayer_perceptron ran in: 0.0 sec\n",
      "multilayer_perceptron ran in: 0.01562666893005371 sec\n",
      "multilayer_perceptron ran in: 0.0 sec\n"
     ]
    },
    {
     "name": "stderr",
     "output_type": "stream",
     "text": [
      "\r",
      " 21%|██▏       | 120/560 [00:03<00:13, 33.18it/s]"
     ]
    },
    {
     "name": "stdout",
     "output_type": "stream",
     "text": [
      "multilayer_perceptron ran in: 0.0 sec\n",
      "multilayer_perceptron ran in: 0.0 sec\n",
      "multilayer_perceptron ran in: 0.0 sec\n"
     ]
    },
    {
     "name": "stderr",
     "output_type": "stream",
     "text": [
      "\r",
      " 22%|██▏       | 124/560 [00:03<00:13, 33.02it/s]"
     ]
    },
    {
     "name": "stdout",
     "output_type": "stream",
     "text": [
      "multilayer_perceptron ran in: 0.0 sec\n",
      "multilayer_perceptron ran in: 0.0 sec\n",
      "multilayer_perceptron ran in: 0.0 sec\n",
      "multilayer_perceptron ran in: 0.0 sec\n"
     ]
    },
    {
     "name": "stderr",
     "output_type": "stream",
     "text": [
      "\r",
      " 23%|██▎       | 128/560 [00:03<00:12, 33.46it/s]"
     ]
    },
    {
     "name": "stdout",
     "output_type": "stream",
     "text": [
      "multilayer_perceptron ran in: 0.0 sec\n",
      "multilayer_perceptron ran in: 0.0 sec\n",
      "multilayer_perceptron ran in: 0.0 sec\n"
     ]
    },
    {
     "name": "stderr",
     "output_type": "stream",
     "text": [
      "\r",
      " 24%|██▎       | 132/560 [00:04<00:13, 32.48it/s]"
     ]
    },
    {
     "name": "stdout",
     "output_type": "stream",
     "text": [
      "multilayer_perceptron ran in: 0.0 sec\n",
      "multilayer_perceptron ran in: 0.0 sec\n",
      "multilayer_perceptron ran in: 0.0 sec\n",
      "multilayer_perceptron ran in: 0.0 sec\n"
     ]
    },
    {
     "name": "stderr",
     "output_type": "stream",
     "text": [
      "\r",
      " 24%|██▍       | 136/560 [00:04<00:12, 33.06it/s]"
     ]
    },
    {
     "name": "stdout",
     "output_type": "stream",
     "text": [
      "multilayer_perceptron ran in: 0.0 sec\n",
      "multilayer_perceptron ran in: 0.0 sec\n",
      "multilayer_perceptron ran in: 0.0 sec\n"
     ]
    },
    {
     "name": "stderr",
     "output_type": "stream",
     "text": [
      "\r",
      " 25%|██▌       | 140/560 [00:04<00:12, 33.48it/s]"
     ]
    },
    {
     "name": "stdout",
     "output_type": "stream",
     "text": [
      "multilayer_perceptron ran in: 0.0 sec\n",
      "multilayer_perceptron ran in: 0.0 sec\n",
      "multilayer_perceptron ran in: 0.015628814697265625 sec\n",
      "multilayer_perceptron ran in: 0.0 sec\n",
      "multilayer_perceptron ran in: 0.0 sec\n",
      "multilayer_perceptron ran in: 0.0 sec\n",
      "multilayer_perceptron ran in: 0.0 sec\n"
     ]
    },
    {
     "name": "stderr",
     "output_type": "stream",
     "text": [
      "\r",
      " 26%|██▌       | 144/560 [00:04<00:12, 33.24it/s]"
     ]
    },
    {
     "name": "stdout",
     "output_type": "stream",
     "text": [
      "multilayer_perceptron ran in: 0.0 sec\n",
      "multilayer_perceptron ran in: 0.0 sec\n",
      "multilayer_perceptron ran in: 0.0 sec\n",
      "multilayer_perceptron ran in: 0.0 sec\n"
     ]
    },
    {
     "name": "stderr",
     "output_type": "stream",
     "text": [
      "\r",
      " 26%|██▋       | 148/560 [00:04<00:12, 33.63it/s]"
     ]
    },
    {
     "name": "stdout",
     "output_type": "stream",
     "text": [
      "multilayer_perceptron ran in: 0.0 sec\n",
      "multilayer_perceptron ran in: 0.0 sec\n"
     ]
    },
    {
     "name": "stderr",
     "output_type": "stream",
     "text": [
      "\r",
      " 27%|██▋       | 152/560 [00:04<00:12, 33.89it/s]"
     ]
    },
    {
     "name": "stdout",
     "output_type": "stream",
     "text": [
      "multilayer_perceptron ran in: 0.0 sec\n",
      "multilayer_perceptron ran in: 0.0 sec\n",
      "multilayer_perceptron ran in: 0.0 sec\n",
      "multilayer_perceptron ran in: 0.0 sec\n",
      "multilayer_perceptron ran in: 0.0 sec\n"
     ]
    },
    {
     "name": "stderr",
     "output_type": "stream",
     "text": [
      "\r",
      " 28%|██▊       | 156/560 [00:04<00:12, 32.76it/s]"
     ]
    },
    {
     "name": "stdout",
     "output_type": "stream",
     "text": [
      "multilayer_perceptron ran in: 0.0 sec\n",
      "multilayer_perceptron ran in: 0.0 sec\n",
      "multilayer_perceptron ran in: 0.0 sec\n"
     ]
    },
    {
     "name": "stderr",
     "output_type": "stream",
     "text": [
      "\r",
      " 29%|██▊       | 160/560 [00:04<00:12, 32.02it/s]"
     ]
    },
    {
     "name": "stdout",
     "output_type": "stream",
     "text": [
      "multilayer_perceptron ran in: 0.0 sec\n",
      "multilayer_perceptron ran in: 0.0 sec\n",
      "multilayer_perceptron ran in: 0.0 sec\n"
     ]
    },
    {
     "name": "stderr",
     "output_type": "stream",
     "text": [
      "\r",
      " 29%|██▉       | 164/560 [00:04<00:12, 32.21it/s]"
     ]
    },
    {
     "name": "stdout",
     "output_type": "stream",
     "text": [
      "multilayer_perceptron ran in: 0.0 sec\n",
      "multilayer_perceptron ran in: 0.0 sec\n",
      "multilayer_perceptron ran in: 0.0 sec\n",
      "multilayer_perceptron ran in: 0.0 sec\n",
      "multilayer_perceptron ran in: 0.0 sec\n",
      "multilayer_perceptron ran in: 0.0 sec\n",
      "multilayer_perceptron ran in: 0.0 sec\n"
     ]
    },
    {
     "name": "stderr",
     "output_type": "stream",
     "text": [
      "\r",
      " 30%|███       | 168/560 [00:05<00:11, 32.87it/s]"
     ]
    },
    {
     "name": "stdout",
     "output_type": "stream",
     "text": [
      "multilayer_perceptron ran in: 0.0 sec\n",
      "multilayer_perceptron ran in: 0.0 sec\n",
      "multilayer_perceptron ran in: 0.0 sec\n"
     ]
    },
    {
     "name": "stderr",
     "output_type": "stream",
     "text": [
      "\r",
      " 31%|███       | 172/560 [00:05<00:12, 32.09it/s]"
     ]
    },
    {
     "name": "stdout",
     "output_type": "stream",
     "text": [
      "multilayer_perceptron ran in: 0.0 sec\n",
      "multilayer_perceptron ran in: 0.0 sec\n",
      "multilayer_perceptron ran in: 0.0 sec\n"
     ]
    },
    {
     "name": "stderr",
     "output_type": "stream",
     "text": [
      "\r",
      " 31%|███▏      | 176/560 [00:05<00:11, 32.78it/s]"
     ]
    },
    {
     "name": "stdout",
     "output_type": "stream",
     "text": [
      "multilayer_perceptron ran in: 0.0 sec\n",
      "multilayer_perceptron ran in: 0.0 sec\n",
      "multilayer_perceptron ran in: 0.0 sec\n",
      "multilayer_perceptron ran in: 0.0 sec\n"
     ]
    },
    {
     "name": "stderr",
     "output_type": "stream",
     "text": [
      "\r",
      " 32%|███▏      | 180/560 [00:05<00:11, 32.75it/s]"
     ]
    },
    {
     "name": "stdout",
     "output_type": "stream",
     "text": [
      "multilayer_perceptron ran in: 0.0 sec\n",
      "multilayer_perceptron ran in: 0.0 sec\n",
      "multilayer_perceptron ran in: 0.0156400203704834 sec\n"
     ]
    },
    {
     "name": "stderr",
     "output_type": "stream",
     "text": [
      "\r",
      " 33%|███▎      | 184/560 [00:05<00:11, 33.26it/s]"
     ]
    },
    {
     "name": "stdout",
     "output_type": "stream",
     "text": [
      "multilayer_perceptron ran in: 0.015624761581420898 sec\n",
      "multilayer_perceptron ran in: 0.0 sec\n",
      "multilayer_perceptron ran in: 0.0 sec\n",
      "multilayer_perceptron ran in: 0.0 sec\n",
      "multilayer_perceptron ran in: 0.0 sec\n",
      "multilayer_perceptron ran in: 0.0 sec\n",
      "multilayer_perceptron ran in: 0.0 sec\n"
     ]
    },
    {
     "name": "stderr",
     "output_type": "stream",
     "text": [
      "\r",
      " 34%|███▎      | 188/560 [00:05<00:11, 32.35it/s]"
     ]
    },
    {
     "name": "stdout",
     "output_type": "stream",
     "text": [
      "multilayer_perceptron ran in: 0.0 sec\n",
      "multilayer_perceptron ran in: 0.0 sec\n",
      "multilayer_perceptron ran in: 0.0 sec\n",
      "multilayer_perceptron ran in: 0.0 sec\n"
     ]
    },
    {
     "name": "stderr",
     "output_type": "stream",
     "text": [
      "\r",
      " 34%|███▍      | 192/560 [00:05<00:11, 32.97it/s]"
     ]
    },
    {
     "name": "stdout",
     "output_type": "stream",
     "text": [
      "multilayer_perceptron ran in: 0.0 sec\n",
      "multilayer_perceptron ran in: 0.015636205673217773 sec\n",
      "multilayer_perceptron ran in: 0.0 sec\n"
     ]
    },
    {
     "name": "stderr",
     "output_type": "stream",
     "text": [
      "\r",
      " 35%|███▌      | 196/560 [00:05<00:11, 32.16it/s]"
     ]
    },
    {
     "name": "stdout",
     "output_type": "stream",
     "text": [
      "multilayer_perceptron ran in: 0.0 sec\n",
      "multilayer_perceptron ran in: 0.0 sec\n",
      "multilayer_perceptron ran in: 0.0 sec\n"
     ]
    },
    {
     "name": "stderr",
     "output_type": "stream",
     "text": [
      "\r",
      " 36%|███▌      | 200/560 [00:06<00:11, 32.31it/s]"
     ]
    },
    {
     "name": "stdout",
     "output_type": "stream",
     "text": [
      "multilayer_perceptron ran in: 0.0 sec\n",
      "multilayer_perceptron ran in: 0.0 sec\n",
      "multilayer_perceptron ran in: 0.0 sec\n",
      "multilayer_perceptron ran in: 0.0 sec\n"
     ]
    },
    {
     "name": "stderr",
     "output_type": "stream",
     "text": [
      "\r",
      " 36%|███▋      | 204/560 [00:06<00:10, 32.94it/s]"
     ]
    },
    {
     "name": "stdout",
     "output_type": "stream",
     "text": [
      "multilayer_perceptron ran in: 0.0 sec\n",
      "multilayer_perceptron ran in: 0.0 sec\n"
     ]
    },
    {
     "name": "stderr",
     "output_type": "stream",
     "text": [
      "\r",
      " 37%|███▋      | 208/560 [00:06<00:10, 32.14it/s]"
     ]
    },
    {
     "name": "stdout",
     "output_type": "stream",
     "text": [
      "multilayer_perceptron ran in: 0.0 sec\n",
      "multilayer_perceptron ran in: 0.0 sec\n",
      "multilayer_perceptron ran in: 0.0 sec\n",
      "multilayer_perceptron ran in: 0.0 sec\n",
      "multilayer_perceptron ran in: 0.0 sec\n",
      "multilayer_perceptron ran in: 0.0 sec\n",
      "multilayer_perceptron ran in: 0.0 sec\n"
     ]
    },
    {
     "name": "stderr",
     "output_type": "stream",
     "text": [
      "\r",
      " 38%|███▊      | 212/560 [00:06<00:10, 32.37it/s]"
     ]
    },
    {
     "name": "stdout",
     "output_type": "stream",
     "text": [
      "multilayer_perceptron ran in: 0.0 sec\n",
      "multilayer_perceptron ran in: 0.0 sec\n",
      "multilayer_perceptron ran in: 0.0 sec\n"
     ]
    },
    {
     "name": "stderr",
     "output_type": "stream",
     "text": [
      "\r",
      " 39%|███▊      | 216/560 [00:06<00:10, 32.91it/s]"
     ]
    },
    {
     "name": "stdout",
     "output_type": "stream",
     "text": [
      "multilayer_perceptron ran in: 0.0 sec\n",
      "multilayer_perceptron ran in: 0.0 sec\n",
      "multilayer_perceptron ran in: 0.0 sec\n",
      "multilayer_perceptron ran in: 0.0 sec\n"
     ]
    },
    {
     "name": "stderr",
     "output_type": "stream",
     "text": [
      "\r",
      " 39%|███▉      | 220/560 [00:06<00:10, 32.11it/s]"
     ]
    },
    {
     "name": "stdout",
     "output_type": "stream",
     "text": [
      "multilayer_perceptron ran in: 0.0 sec\n",
      "multilayer_perceptron ran in: 0.0 sec\n",
      "multilayer_perceptron ran in: 0.0 sec\n"
     ]
    },
    {
     "name": "stderr",
     "output_type": "stream",
     "text": [
      "\r",
      " 40%|████      | 224/560 [00:06<00:10, 32.80it/s]"
     ]
    },
    {
     "name": "stdout",
     "output_type": "stream",
     "text": [
      "multilayer_perceptron ran in: 0.0 sec\n",
      "multilayer_perceptron ran in: 0.0 sec\n",
      "multilayer_perceptron ran in: 0.0 sec\n",
      "multilayer_perceptron ran in: 0.0 sec\n",
      "multilayer_perceptron ran in: 0.0 sec\n",
      "multilayer_perceptron ran in: 0.0 sec\n"
     ]
    },
    {
     "name": "stderr",
     "output_type": "stream",
     "text": [
      "\r",
      " 41%|████      | 228/560 [00:06<00:10, 32.04it/s]"
     ]
    },
    {
     "name": "stdout",
     "output_type": "stream",
     "text": [
      "multilayer_perceptron ran in: 0.0 sec\n",
      "multilayer_perceptron ran in: 0.0 sec\n",
      "multilayer_perceptron ran in: 0.0 sec\n",
      "multilayer_perceptron ran in: 0.0 sec\n",
      "multilayer_perceptron ran in: 0.0 sec\n"
     ]
    },
    {
     "name": "stderr",
     "output_type": "stream",
     "text": [
      "\r",
      " 41%|████▏     | 232/560 [00:07<00:10, 32.23it/s]"
     ]
    },
    {
     "name": "stdout",
     "output_type": "stream",
     "text": [
      "multilayer_perceptron ran in: 0.0 sec\n",
      "multilayer_perceptron ran in: 0.0 sec\n"
     ]
    },
    {
     "name": "stderr",
     "output_type": "stream",
     "text": [
      "\r",
      " 42%|████▏     | 236/560 [00:07<00:09, 32.88it/s]"
     ]
    },
    {
     "name": "stdout",
     "output_type": "stream",
     "text": [
      "multilayer_perceptron ran in: 0.0 sec\n",
      "multilayer_perceptron ran in: 0.0 sec\n",
      "multilayer_perceptron ran in: 0.0 sec\n",
      "multilayer_perceptron ran in: 0.0 sec\n"
     ]
    },
    {
     "name": "stderr",
     "output_type": "stream",
     "text": [
      "\r",
      " 43%|████▎     | 240/560 [00:07<00:09, 32.10it/s]"
     ]
    },
    {
     "name": "stdout",
     "output_type": "stream",
     "text": [
      "multilayer_perceptron ran in: 0.0 sec\n",
      "multilayer_perceptron ran in: 0.0 sec\n",
      "multilayer_perceptron ran in: 0.0 sec\n"
     ]
    },
    {
     "name": "stderr",
     "output_type": "stream",
     "text": [
      "\r",
      " 44%|████▎     | 244/560 [00:07<00:09, 32.79it/s]"
     ]
    },
    {
     "name": "stdout",
     "output_type": "stream",
     "text": [
      "multilayer_perceptron ran in: 0.0 sec\n",
      "multilayer_perceptron ran in: 0.015653371810913086 sec\n",
      "multilayer_perceptron ran in: 0.0 sec\n",
      "multilayer_perceptron ran in: 0.0 sec\n",
      "multilayer_perceptron ran in: 0.0 sec\n",
      "multilayer_perceptron ran in: 0.0 sec\n",
      "multilayer_perceptron ran in: 0.0 sec\n"
     ]
    },
    {
     "name": "stderr",
     "output_type": "stream",
     "text": [
      "\r",
      " 44%|████▍     | 248/560 [00:07<00:09, 33.28it/s]"
     ]
    },
    {
     "name": "stdout",
     "output_type": "stream",
     "text": [
      "multilayer_perceptron ran in: 0.0 sec\n",
      "multilayer_perceptron ran in: 0.0 sec\n",
      "multilayer_perceptron ran in: 0.0 sec\n"
     ]
    },
    {
     "name": "stderr",
     "output_type": "stream",
     "text": [
      "\r",
      " 45%|████▌     | 252/560 [00:07<00:09, 33.10it/s]"
     ]
    },
    {
     "name": "stdout",
     "output_type": "stream",
     "text": [
      "multilayer_perceptron ran in: 0.0 sec\n",
      "multilayer_perceptron ran in: 0.0 sec\n",
      "multilayer_perceptron ran in: 0.0 sec\n",
      "multilayer_perceptron ran in: 0.0 sec\n"
     ]
    },
    {
     "name": "stderr",
     "output_type": "stream",
     "text": [
      "\r",
      " 46%|████▌     | 256/560 [00:07<00:09, 33.51it/s]"
     ]
    },
    {
     "name": "stdout",
     "output_type": "stream",
     "text": [
      "multilayer_perceptron ran in: 0.0 sec\n",
      "multilayer_perceptron ran in: 0.015608072280883789 sec\n",
      "multilayer_perceptron ran in: 0.0 sec\n",
      "multilayer_perceptron ran in: 0.0 sec\n"
     ]
    },
    {
     "name": "stderr",
     "output_type": "stream",
     "text": [
      "\r",
      " 46%|████▋     | 260/560 [00:07<00:08, 33.80it/s]"
     ]
    },
    {
     "name": "stdout",
     "output_type": "stream",
     "text": [
      "multilayer_perceptron ran in: 0.0 sec\n",
      "multilayer_perceptron ran in: 0.0 sec\n",
      "multilayer_perceptron ran in: 0.015624284744262695 sec\n"
     ]
    },
    {
     "name": "stderr",
     "output_type": "stream",
     "text": [
      "\r",
      " 47%|████▋     | 264/560 [00:08<00:08, 34.01it/s]"
     ]
    },
    {
     "name": "stdout",
     "output_type": "stream",
     "text": [
      "multilayer_perceptron ran in: 0.0 sec\n",
      "multilayer_perceptron ran in: 0.0 sec\n",
      "multilayer_perceptron ran in: 0.0 sec\n",
      "multilayer_perceptron ran in: 0.0 sec\n",
      "multilayer_perceptron ran in: 0.0 sec\n"
     ]
    },
    {
     "name": "stderr",
     "output_type": "stream",
     "text": [
      "\r",
      " 48%|████▊     | 268/560 [00:08<00:08, 34.16it/s]"
     ]
    },
    {
     "name": "stdout",
     "output_type": "stream",
     "text": [
      "multilayer_perceptron ran in: 0.0 sec\n"
     ]
    },
    {
     "name": "stderr",
     "output_type": "stream",
     "text": [
      "\r",
      " 49%|████▊     | 272/560 [00:08<00:08, 34.26it/s]"
     ]
    },
    {
     "name": "stdout",
     "output_type": "stream",
     "text": [
      "multilayer_perceptron ran in: 0.0 sec\n",
      "multilayer_perceptron ran in: 0.015654563903808594 sec\n",
      "multilayer_perceptron ran in: 0.0 sec\n",
      "multilayer_perceptron ran in: 0.0 sec\n",
      "multilayer_perceptron ran in: 0.0 sec\n",
      "multilayer_perceptron ran in: 0.0 sec\n",
      "multilayer_perceptron ran in: 0.0 sec\n"
     ]
    },
    {
     "name": "stderr",
     "output_type": "stream",
     "text": [
      " 50%|█████     | 280/560 [00:08<00:08, 34.01it/s]"
     ]
    },
    {
     "name": "stdout",
     "output_type": "stream",
     "text": [
      "multilayer_perceptron ran in: 0.0 sec\n",
      "multilayer_perceptron ran in: 0.001001596450805664 sec\n",
      "multilayer_perceptron ran in: 0.0 sec\n",
      "multilayer_perceptron ran in: 0.0 sec\n",
      "multilayer_perceptron ran in: 0.0 sec\n",
      "multilayer_perceptron ran in: 0.0 sec\n",
      "multilayer_perceptron ran in: 0.015617847442626953 sec\n",
      "multilayer_perceptron ran in: 0.0 sec\n"
     ]
    },
    {
     "name": "stderr",
     "output_type": "stream",
     "text": [
      " 51%|█████▏    | 288/560 [00:08<00:07, 34.26it/s]"
     ]
    },
    {
     "name": "stdout",
     "output_type": "stream",
     "text": [
      "multilayer_perceptron ran in: 0.0 sec\n",
      "multilayer_perceptron ran in: 0.0 sec\n",
      "multilayer_perceptron ran in: 0.0 sec\n",
      "multilayer_perceptron ran in: 0.0 sec\n",
      "multilayer_perceptron ran in: 0.0 sec\n",
      "multilayer_perceptron ran in: 0.0 sec\n",
      "multilayer_perceptron ran in: 0.0010006427764892578 sec\n",
      "multilayer_perceptron ran in: 0.0 sec\n"
     ]
    },
    {
     "name": "stderr",
     "output_type": "stream",
     "text": [
      " 53%|█████▎    | 296/560 [00:08<00:07, 34.45it/s]"
     ]
    },
    {
     "name": "stdout",
     "output_type": "stream",
     "text": [
      "multilayer_perceptron ran in: 0.0 sec\n",
      "multilayer_perceptron ran in: 0.0 sec\n",
      "multilayer_perceptron ran in: 0.015653371810913086 sec\n",
      "multilayer_perceptron ran in: 0.0 sec\n",
      "multilayer_perceptron ran in: 0.0 sec\n",
      "multilayer_perceptron ran in: 0.0 sec\n",
      "multilayer_perceptron ran in: 0.0 sec\n",
      "multilayer_perceptron ran in: 0.0 sec\n"
     ]
    },
    {
     "name": "stderr",
     "output_type": "stream",
     "text": [
      " 54%|█████▍    | 304/560 [00:09<00:07, 34.08it/s]"
     ]
    },
    {
     "name": "stdout",
     "output_type": "stream",
     "text": [
      "multilayer_perceptron ran in: 0.0 sec\n",
      "multilayer_perceptron ran in: 0.0 sec\n",
      "multilayer_perceptron ran in: 0.0 sec\n",
      "multilayer_perceptron ran in: 0.015626192092895508 sec\n",
      "multilayer_perceptron ran in: 0.0 sec\n",
      "multilayer_perceptron ran in: 0.0 sec\n",
      "multilayer_perceptron ran in: 0.0 sec\n"
     ]
    },
    {
     "name": "stderr",
     "output_type": "stream",
     "text": [
      " 56%|█████▌    | 312/560 [00:09<00:07, 34.30it/s]"
     ]
    },
    {
     "name": "stdout",
     "output_type": "stream",
     "text": [
      "multilayer_perceptron ran in: 0.015610694885253906 sec\n",
      "multilayer_perceptron ran in: 0.0 sec\n",
      "multilayer_perceptron ran in: 0.0 sec\n",
      "multilayer_perceptron ran in: 0.0 sec\n",
      "multilayer_perceptron ran in: 0.0 sec\n",
      "multilayer_perceptron ran in: 0.0 sec\n",
      "multilayer_perceptron ran in: 0.0 sec\n"
     ]
    },
    {
     "name": "stderr",
     "output_type": "stream",
     "text": [
      " 57%|█████▋    | 320/560 [00:09<00:06, 34.40it/s]"
     ]
    },
    {
     "name": "stdout",
     "output_type": "stream",
     "text": [
      "multilayer_perceptron ran in: 0.0 sec\n",
      "multilayer_perceptron ran in: 0.0 sec\n",
      "multilayer_perceptron ran in: 0.0 sec\n",
      "multilayer_perceptron ran in: 0.0 sec\n",
      "multilayer_perceptron ran in: 0.0 sec\n",
      "multilayer_perceptron ran in: 0.0 sec\n",
      "multilayer_perceptron ran in: 0.0 sec\n"
     ]
    },
    {
     "name": "stderr",
     "output_type": "stream",
     "text": [
      "\r",
      " 58%|█████▊    | 324/560 [00:09<00:06, 33.87it/s]"
     ]
    },
    {
     "name": "stdout",
     "output_type": "stream",
     "text": [
      "multilayer_perceptron ran in: 0.0 sec\n",
      "multilayer_perceptron ran in: 0.0 sec\n",
      "multilayer_perceptron ran in: 0.0 sec\n",
      "multilayer_perceptron ran in: 0.0 sec\n",
      "multilayer_perceptron ran in: 0.0 sec\n",
      "multilayer_perceptron ran in: 0.0 sec\n"
     ]
    },
    {
     "name": "stderr",
     "output_type": "stream",
     "text": [
      " 59%|█████▉    | 332/560 [00:10<00:06, 32.91it/s]"
     ]
    },
    {
     "name": "stdout",
     "output_type": "stream",
     "text": [
      "multilayer_perceptron ran in: 0.015624761581420898 sec\n",
      "multilayer_perceptron ran in: 0.0 sec\n",
      "multilayer_perceptron ran in: 0.0 sec\n",
      "multilayer_perceptron ran in: 0.0 sec\n",
      "multilayer_perceptron ran in: 0.0 sec\n",
      "multilayer_perceptron ran in: 0.0 sec\n",
      "multilayer_perceptron ran in: 0.0 sec\n"
     ]
    },
    {
     "name": "stderr",
     "output_type": "stream",
     "text": [
      " 61%|██████    | 340/560 [00:10<00:06, 33.70it/s]"
     ]
    },
    {
     "name": "stdout",
     "output_type": "stream",
     "text": [
      "multilayer_perceptron ran in: 0.0 sec\n",
      "multilayer_perceptron ran in: 0.015651941299438477 sec\n",
      "multilayer_perceptron ran in: 0.0 sec\n",
      "multilayer_perceptron ran in: 0.0 sec\n",
      "multilayer_perceptron ran in: 0.0 sec\n",
      "multilayer_perceptron ran in: 0.015624761581420898 sec\n",
      "multilayer_perceptron ran in: 0.0 sec\n"
     ]
    },
    {
     "name": "stderr",
     "output_type": "stream",
     "text": [
      "\r",
      " 61%|██████▏   | 344/560 [00:10<00:06, 33.94it/s]"
     ]
    },
    {
     "name": "stdout",
     "output_type": "stream",
     "text": [
      "multilayer_perceptron ran in: 0.0 sec\n",
      "multilayer_perceptron ran in: 0.0 sec\n",
      "multilayer_perceptron ran in: 0.0 sec\n",
      "multilayer_perceptron ran in: 0.015625953674316406 sec\n",
      "multilayer_perceptron ran in: 0.0 sec\n",
      "multilayer_perceptron ran in: 0.0 sec\n",
      "multilayer_perceptron ran in: 0.0 sec\n"
     ]
    },
    {
     "name": "stderr",
     "output_type": "stream",
     "text": [
      " 63%|██████▎   | 352/560 [00:10<00:06, 33.83it/s]"
     ]
    },
    {
     "name": "stdout",
     "output_type": "stream",
     "text": [
      "multilayer_perceptron ran in: 0.0 sec\n",
      "multilayer_perceptron ran in: 0.0 sec\n",
      "multilayer_perceptron ran in: 0.0 sec\n",
      "multilayer_perceptron ran in: 0.0 sec\n",
      "multilayer_perceptron ran in: 0.0 sec\n",
      "multilayer_perceptron ran in: 0.0 sec\n",
      "multilayer_perceptron ran in: 0.0 sec\n"
     ]
    },
    {
     "name": "stderr",
     "output_type": "stream",
     "text": [
      " 64%|██████▍   | 360/560 [00:10<00:05, 33.80it/s]"
     ]
    },
    {
     "name": "stdout",
     "output_type": "stream",
     "text": [
      "multilayer_perceptron ran in: 0.0 sec\n",
      "multilayer_perceptron ran in: 0.0 sec\n",
      "multilayer_perceptron ran in: 0.0 sec\n",
      "multilayer_perceptron ran in: 0.0 sec\n",
      "multilayer_perceptron ran in: 0.001001119613647461 sec\n",
      "multilayer_perceptron ran in: 0.0 sec\n",
      "multilayer_perceptron ran in: 0.0 sec\n"
     ]
    },
    {
     "name": "stderr",
     "output_type": "stream",
     "text": [
      "\r",
      " 65%|██████▌   | 364/560 [00:10<00:05, 34.41it/s]"
     ]
    },
    {
     "name": "stdout",
     "output_type": "stream",
     "text": [
      "multilayer_perceptron ran in: 0.0 sec\n",
      "multilayer_perceptron ran in: 0.0 sec\n",
      "multilayer_perceptron ran in: 0.0 sec\n",
      "multilayer_perceptron ran in: 0.0 sec\n",
      "multilayer_perceptron ran in: 0.0 sec\n",
      "multilayer_perceptron ran in: 0.0 sec\n"
     ]
    },
    {
     "name": "stderr",
     "output_type": "stream",
     "text": [
      "\r",
      " 66%|██████▌   | 368/560 [00:11<00:05, 33.87it/s]"
     ]
    },
    {
     "name": "stdout",
     "output_type": "stream",
     "text": [
      "multilayer_perceptron ran in: 0.0 sec\n",
      "multilayer_perceptron ran in: 0.0 sec\n",
      "multilayer_perceptron ran in: 0.0 sec\n"
     ]
    },
    {
     "name": "stderr",
     "output_type": "stream",
     "text": [
      " 67%|██████▋   | 376/560 [00:11<00:06, 28.30it/s]"
     ]
    },
    {
     "name": "stdout",
     "output_type": "stream",
     "text": [
      "multilayer_perceptron ran in: 0.0 sec\n",
      "multilayer_perceptron ran in: 0.0 sec\n",
      "multilayer_perceptron ran in: 0.015637874603271484 sec\n",
      "multilayer_perceptron ran in: 0.0 sec\n",
      "multilayer_perceptron ran in: 0.0 sec\n",
      "multilayer_perceptron ran in: 0.0 sec\n",
      "multilayer_perceptron ran in: 0.015606880187988281 sec\n",
      "multilayer_perceptron ran in: 0.0 sec\n"
     ]
    },
    {
     "name": "stderr",
     "output_type": "stream",
     "text": [
      " 69%|██████▊   | 384/560 [00:11<00:05, 31.28it/s]"
     ]
    },
    {
     "name": "stdout",
     "output_type": "stream",
     "text": [
      "multilayer_perceptron ran in: 0.0 sec\n",
      "multilayer_perceptron ran in: 0.015645265579223633 sec\n",
      "multilayer_perceptron ran in: 0.0 sec\n",
      "multilayer_perceptron ran in: 0.0 sec\n",
      "multilayer_perceptron ran in: 0.0 sec\n",
      "multilayer_perceptron ran in: 0.0 sec\n",
      "multilayer_perceptron ran in: 0.0 sec\n",
      "multilayer_perceptron ran in: 0.0 sec\n"
     ]
    },
    {
     "name": "stderr",
     "output_type": "stream",
     "text": [
      " 70%|███████   | 392/560 [00:11<00:05, 32.48it/s]"
     ]
    },
    {
     "name": "stdout",
     "output_type": "stream",
     "text": [
      "multilayer_perceptron ran in: 0.0 sec\n",
      "multilayer_perceptron ran in: 0.0 sec\n",
      "multilayer_perceptron ran in: 0.01566481590270996 sec\n",
      "multilayer_perceptron ran in: 0.0 sec\n",
      "multilayer_perceptron ran in: 0.0 sec\n",
      "multilayer_perceptron ran in: 0.0 sec\n",
      "multilayer_perceptron ran in: 0.0 sec\n"
     ]
    },
    {
     "name": "stderr",
     "output_type": "stream",
     "text": [
      " 71%|███████▏  | 400/560 [00:12<00:04, 33.49it/s]"
     ]
    },
    {
     "name": "stdout",
     "output_type": "stream",
     "text": [
      "multilayer_perceptron ran in: 0.0 sec\n",
      "multilayer_perceptron ran in: 0.0 sec\n",
      "multilayer_perceptron ran in: 0.0 sec\n",
      "multilayer_perceptron ran in: 0.0 sec\n",
      "multilayer_perceptron ran in: 0.0 sec\n",
      "multilayer_perceptron ran in: 0.0 sec\n",
      "multilayer_perceptron ran in: 0.0 sec\n"
     ]
    },
    {
     "name": "stderr",
     "output_type": "stream",
     "text": [
      "\r",
      " 72%|███████▏  | 404/560 [00:12<00:04, 32.50it/s]"
     ]
    },
    {
     "name": "stdout",
     "output_type": "stream",
     "text": [
      "multilayer_perceptron ran in: 0.0 sec\n",
      "multilayer_perceptron ran in: 0.0 sec\n",
      "multilayer_perceptron ran in: 0.015627145767211914 sec\n",
      "multilayer_perceptron ran in: 0.0 sec\n",
      "multilayer_perceptron ran in: 0.0 sec\n",
      "multilayer_perceptron ran in: 0.0 sec\n"
     ]
    },
    {
     "name": "stderr",
     "output_type": "stream",
     "text": [
      " 74%|███████▎  | 412/560 [00:12<00:04, 33.15it/s]"
     ]
    },
    {
     "name": "stdout",
     "output_type": "stream",
     "text": [
      "multilayer_perceptron ran in: 0.000997304916381836 sec\n",
      "multilayer_perceptron ran in: 0.0 sec\n",
      "multilayer_perceptron ran in: 0.0 sec\n",
      "multilayer_perceptron ran in: 0.0 sec\n",
      "multilayer_perceptron ran in: 0.0 sec\n",
      "multilayer_perceptron ran in: 0.015613317489624023 sec\n",
      "multilayer_perceptron ran in: 0.0 sec\n"
     ]
    },
    {
     "name": "stderr",
     "output_type": "stream",
     "text": [
      "\r",
      " 74%|███████▍  | 416/560 [00:12<00:04, 33.55it/s]"
     ]
    },
    {
     "name": "stdout",
     "output_type": "stream",
     "text": [
      "multilayer_perceptron ran in: 0.0 sec\n",
      "multilayer_perceptron ran in: 0.0 sec\n",
      "multilayer_perceptron ran in: 0.0 sec\n",
      "multilayer_perceptron ran in: 0.0 sec\n",
      "multilayer_perceptron ran in: 0.0 sec\n",
      "multilayer_perceptron ran in: 0.0 sec\n"
     ]
    },
    {
     "name": "stderr",
     "output_type": "stream",
     "text": [
      " 76%|███████▌  | 424/560 [00:12<00:03, 34.03it/s]"
     ]
    },
    {
     "name": "stdout",
     "output_type": "stream",
     "text": [
      "multilayer_perceptron ran in: 0.0 sec\n",
      "multilayer_perceptron ran in: 0.0 sec\n",
      "multilayer_perceptron ran in: 0.0 sec\n",
      "multilayer_perceptron ran in: 0.0 sec\n",
      "multilayer_perceptron ran in: 0.0 sec\n",
      "multilayer_perceptron ran in: 0.0 sec\n",
      "multilayer_perceptron ran in: 0.0 sec\n",
      "multilayer_perceptron ran in: 0.0 sec\n"
     ]
    },
    {
     "name": "stderr",
     "output_type": "stream",
     "text": [
      " 77%|███████▋  | 432/560 [00:13<00:03, 34.11it/s]"
     ]
    },
    {
     "name": "stdout",
     "output_type": "stream",
     "text": [
      "multilayer_perceptron ran in: 0.0 sec\n",
      "multilayer_perceptron ran in: 0.0 sec\n",
      "multilayer_perceptron ran in: 0.0 sec\n",
      "multilayer_perceptron ran in: 0.0 sec\n",
      "multilayer_perceptron ran in: 0.0 sec\n",
      "multilayer_perceptron ran in: 0.0 sec\n",
      "multilayer_perceptron ran in: 0.0 sec\n",
      "multilayer_perceptron ran in: 0.0 sec\n"
     ]
    },
    {
     "name": "stderr",
     "output_type": "stream",
     "text": [
      " 79%|███████▊  | 440/560 [00:13<00:03, 34.31it/s]"
     ]
    },
    {
     "name": "stdout",
     "output_type": "stream",
     "text": [
      "multilayer_perceptron ran in: 0.0 sec\n",
      "multilayer_perceptron ran in: 0.0 sec\n",
      "multilayer_perceptron ran in: 0.0 sec\n",
      "multilayer_perceptron ran in: 0.0 sec\n",
      "multilayer_perceptron ran in: 0.0 sec\n",
      "multilayer_perceptron ran in: 0.0 sec\n",
      "multilayer_perceptron ran in: 0.0 sec\n",
      "multilayer_perceptron ran in: 0.0 sec\n"
     ]
    },
    {
     "name": "stderr",
     "output_type": "stream",
     "text": [
      " 80%|████████  | 448/560 [00:13<00:03, 34.41it/s]"
     ]
    },
    {
     "name": "stdout",
     "output_type": "stream",
     "text": [
      "multilayer_perceptron ran in: 0.0 sec\n",
      "multilayer_perceptron ran in: 0.0 sec\n",
      "multilayer_perceptron ran in: 0.0 sec\n",
      "multilayer_perceptron ran in: 0.0 sec\n",
      "multilayer_perceptron ran in: 0.0 sec\n",
      "multilayer_perceptron ran in: 0.0 sec\n",
      "multilayer_perceptron ran in: 0.01565694808959961 sec\n",
      "multilayer_perceptron ran in: 0.0 sec\n"
     ]
    },
    {
     "name": "stderr",
     "output_type": "stream",
     "text": [
      " 81%|████████▏ | 456/560 [00:13<00:03, 34.30it/s]"
     ]
    },
    {
     "name": "stdout",
     "output_type": "stream",
     "text": [
      "multilayer_perceptron ran in: 0.0 sec\n",
      "multilayer_perceptron ran in: 0.0 sec\n",
      "multilayer_perceptron ran in: 0.0 sec\n",
      "multilayer_perceptron ran in: 0.0 sec\n",
      "multilayer_perceptron ran in: 0.015625715255737305 sec\n",
      "multilayer_perceptron ran in: 0.0 sec\n",
      "multilayer_perceptron ran in: 0.0 sec\n"
     ]
    },
    {
     "name": "stderr",
     "output_type": "stream",
     "text": [
      " 83%|████████▎ | 464/560 [00:14<00:02, 33.46it/s]"
     ]
    },
    {
     "name": "stdout",
     "output_type": "stream",
     "text": [
      "multilayer_perceptron ran in: 0.0 sec\n",
      "multilayer_perceptron ran in: 0.0156557559967041 sec\n",
      "multilayer_perceptron ran in: 0.015606880187988281 sec\n",
      "multilayer_perceptron ran in: 0.015645265579223633 sec\n",
      "multilayer_perceptron ran in: 0.0 sec\n",
      "multilayer_perceptron ran in: 0.0 sec\n"
     ]
    },
    {
     "name": "stderr",
     "output_type": "stream",
     "text": [
      "\r",
      " 84%|████████▎ | 468/560 [00:14<00:02, 32.48it/s]"
     ]
    },
    {
     "name": "stdout",
     "output_type": "stream",
     "text": [
      "multilayer_perceptron ran in: 0.0 sec\n",
      "multilayer_perceptron ran in: 0.0 sec\n",
      "multilayer_perceptron ran in: 0.0 sec\n",
      "multilayer_perceptron ran in: 0.0 sec\n",
      "multilayer_perceptron ran in: 0.0 sec\n",
      "multilayer_perceptron ran in: 0.0 sec\n"
     ]
    },
    {
     "name": "stderr",
     "output_type": "stream",
     "text": [
      " 85%|████████▌ | 476/560 [00:14<00:02, 32.59it/s]"
     ]
    },
    {
     "name": "stdout",
     "output_type": "stream",
     "text": [
      "multilayer_perceptron ran in: 0.015625476837158203 sec\n",
      "multilayer_perceptron ran in: 0.0 sec\n",
      "multilayer_perceptron ran in: 0.0 sec\n",
      "multilayer_perceptron ran in: 0.0 sec\n",
      "multilayer_perceptron ran in: 0.0 sec\n",
      "multilayer_perceptron ran in: 0.0 sec\n",
      "multilayer_perceptron ran in: 0.0 sec\n"
     ]
    },
    {
     "name": "stderr",
     "output_type": "stream",
     "text": [
      "\r",
      " 86%|████████▌ | 480/560 [00:14<00:02, 32.41it/s]"
     ]
    },
    {
     "name": "stdout",
     "output_type": "stream",
     "text": [
      "multilayer_perceptron ran in: 0.0 sec\n",
      "multilayer_perceptron ran in: 0.0 sec\n",
      "multilayer_perceptron ran in: 0.0 sec\n",
      "multilayer_perceptron ran in: 0.0 sec\n",
      "multilayer_perceptron ran in: 0.0 sec\n",
      "multilayer_perceptron ran in: 0.0 sec\n",
      "multilayer_perceptron ran in: 0.0 sec\n"
     ]
    },
    {
     "name": "stderr",
     "output_type": "stream",
     "text": [
      " 87%|████████▋ | 488/560 [00:14<00:02, 32.05it/s]"
     ]
    },
    {
     "name": "stdout",
     "output_type": "stream",
     "text": [
      "multilayer_perceptron ran in: 0.0 sec\n",
      "multilayer_perceptron ran in: 0.0 sec\n",
      "multilayer_perceptron ran in: 0.0 sec\n",
      "multilayer_perceptron ran in: 0.0 sec\n",
      "multilayer_perceptron ran in: 0.0 sec\n",
      "multilayer_perceptron ran in: 0.0 sec\n",
      "multilayer_perceptron ran in: 0.0 sec\n"
     ]
    },
    {
     "name": "stderr",
     "output_type": "stream",
     "text": [
      " 89%|████████▊ | 496/560 [00:15<00:01, 32.01it/s]"
     ]
    },
    {
     "name": "stdout",
     "output_type": "stream",
     "text": [
      "multilayer_perceptron ran in: 0.0 sec\n",
      "multilayer_perceptron ran in: 0.0 sec\n",
      "multilayer_perceptron ran in: 0.0 sec\n",
      "multilayer_perceptron ran in: 0.0 sec\n",
      "multilayer_perceptron ran in: 0.0 sec\n",
      "multilayer_perceptron ran in: 0.015627145767211914 sec\n",
      "multilayer_perceptron ran in: 0.0 sec\n"
     ]
    },
    {
     "name": "stderr",
     "output_type": "stream",
     "text": [
      " 90%|████████▉ | 503/560 [00:15<00:02, 28.13it/s]"
     ]
    },
    {
     "name": "stdout",
     "output_type": "stream",
     "text": [
      "multilayer_perceptron ran in: 0.0 sec\n",
      "multilayer_perceptron ran in: 0.0 sec\n",
      "multilayer_perceptron ran in: 0.0 sec\n",
      "multilayer_perceptron ran in: 0.0 sec\n",
      "multilayer_perceptron ran in: 0.0 sec\n"
     ]
    },
    {
     "name": "stderr",
     "output_type": "stream",
     "text": [
      "\r",
      " 90%|█████████ | 506/560 [00:15<00:01, 28.57it/s]"
     ]
    },
    {
     "name": "stdout",
     "output_type": "stream",
     "text": [
      "multilayer_perceptron ran in: 0.0 sec\n",
      "multilayer_perceptron ran in: 0.015626192092895508 sec\n",
      "multilayer_perceptron ran in: 0.0 sec\n",
      "multilayer_perceptron ran in: 0.0 sec\n",
      "multilayer_perceptron ran in: 0.0 sec\n",
      "multilayer_perceptron ran in: 0.0 sec\n",
      "multilayer_perceptron ran in: 0.0 sec\n"
     ]
    },
    {
     "name": "stderr",
     "output_type": "stream",
     "text": [
      " 92%|█████████▏| 514/560 [00:15<00:01, 31.52it/s]"
     ]
    },
    {
     "name": "stdout",
     "output_type": "stream",
     "text": [
      "multilayer_perceptron ran in: 0.0 sec\n",
      "multilayer_perceptron ran in: 0.0 sec\n",
      "multilayer_perceptron ran in: 0.0 sec\n",
      "multilayer_perceptron ran in: 0.0 sec\n",
      "multilayer_perceptron ran in: 0.0 sec\n",
      "multilayer_perceptron ran in: 0.0 sec\n",
      "multilayer_perceptron ran in: 0.0 sec\n"
     ]
    },
    {
     "name": "stderr",
     "output_type": "stream",
     "text": [
      " 93%|█████████▎| 522/560 [00:15<00:01, 32.48it/s]"
     ]
    },
    {
     "name": "stdout",
     "output_type": "stream",
     "text": [
      "multilayer_perceptron ran in: 0.0 sec\n",
      "multilayer_perceptron ran in: 0.0 sec\n",
      "multilayer_perceptron ran in: 0.0 sec\n",
      "multilayer_perceptron ran in: 0.0 sec\n",
      "multilayer_perceptron ran in: 0.0 sec\n",
      "multilayer_perceptron ran in: 0.0 sec\n",
      "multilayer_perceptron ran in: 0.0 sec\n"
     ]
    },
    {
     "name": "stderr",
     "output_type": "stream",
     "text": [
      "\r",
      " 94%|█████████▍| 526/560 [00:16<00:01, 33.08it/s]"
     ]
    },
    {
     "name": "stdout",
     "output_type": "stream",
     "text": [
      "multilayer_perceptron ran in: 0.0 sec\n",
      "multilayer_perceptron ran in: 0.0 sec\n",
      "multilayer_perceptron ran in: 0.0 sec\n",
      "multilayer_perceptron ran in: 0.0 sec\n",
      "multilayer_perceptron ran in: 0.0 sec\n",
      "multilayer_perceptron ran in: 0.0 sec\n"
     ]
    },
    {
     "name": "stderr",
     "output_type": "stream",
     "text": [
      " 95%|█████████▌| 534/560 [00:16<00:00, 31.88it/s]"
     ]
    },
    {
     "name": "stdout",
     "output_type": "stream",
     "text": [
      "multilayer_perceptron ran in: 0.0 sec\n",
      "multilayer_perceptron ran in: 0.0 sec\n",
      "multilayer_perceptron ran in: 0.0 sec\n",
      "multilayer_perceptron ran in: 0.0 sec\n",
      "multilayer_perceptron ran in: 0.01299905776977539 sec\n",
      "multilayer_perceptron ran in: 0.0 sec\n",
      "multilayer_perceptron ran in: 0.0 sec\n"
     ]
    },
    {
     "name": "stderr",
     "output_type": "stream",
     "text": [
      " 97%|█████████▋| 542/560 [00:16<00:00, 32.71it/s]"
     ]
    },
    {
     "name": "stdout",
     "output_type": "stream",
     "text": [
      "multilayer_perceptron ran in: 0.013002395629882812 sec\n",
      "multilayer_perceptron ran in: 0.0 sec\n",
      "multilayer_perceptron ran in: 0.0 sec\n",
      "multilayer_perceptron ran in: 0.0 sec\n",
      "multilayer_perceptron ran in: 0.0 sec\n",
      "multilayer_perceptron ran in: 0.0 sec\n",
      "multilayer_perceptron ran in: 0.0 sec\n"
     ]
    },
    {
     "name": "stderr",
     "output_type": "stream",
     "text": [
      " 98%|█████████▊| 550/560 [00:16<00:00, 32.61it/s]"
     ]
    },
    {
     "name": "stdout",
     "output_type": "stream",
     "text": [
      "multilayer_perceptron ran in: 0.0 sec\n",
      "multilayer_perceptron ran in: 0.0 sec\n",
      "multilayer_perceptron ran in: 0.0 sec\n",
      "multilayer_perceptron ran in: 0.0 sec\n",
      "multilayer_perceptron ran in: 0.0 sec\n",
      "multilayer_perceptron ran in: 0.0 sec\n",
      "multilayer_perceptron ran in: 0.0 sec\n",
      "multilayer_perceptron ran in: 0.0 sec\n"
     ]
    },
    {
     "name": "stderr",
     "output_type": "stream",
     "text": [
      "100%|█████████▉| 558/560 [00:17<00:00, 32.35it/s]"
     ]
    },
    {
     "name": "stdout",
     "output_type": "stream",
     "text": [
      "multilayer_perceptron ran in: 0.0 sec\n",
      "multilayer_perceptron ran in: 0.0 sec\n",
      "multilayer_perceptron ran in: 0.0 sec\n",
      "multilayer_perceptron ran in: 0.0 sec\n",
      "multilayer_perceptron ran in: 0.0 sec\n",
      "multilayer_perceptron ran in: 0.0 sec\n",
      "multilayer_perceptron ran in: 0.0 sec\n"
     ]
    },
    {
     "name": "stderr",
     "output_type": "stream",
     "text": [
      "100%|██████████| 560/560 [00:17<00:00, 32.78it/s]\n"
     ]
    },
    {
     "name": "stdout",
     "output_type": "stream",
     "text": [
      "multilayer_perceptron ran in: 0.0 sec\n",
      "Epoch: 11 Cost=159648.1562\n"
     ]
    },
    {
     "name": "stderr",
     "output_type": "stream",
     "text": [
      "  1%|          | 4/560 [00:00<00:16, 34.15it/s]"
     ]
    },
    {
     "name": "stdout",
     "output_type": "stream",
     "text": [
      "multilayer_perceptron ran in: 0.0 sec\n",
      "multilayer_perceptron ran in: 0.00901651382446289 sec\n",
      "multilayer_perceptron ran in: 0.0 sec\n",
      "multilayer_perceptron ran in: 0.0 sec\n",
      "multilayer_perceptron ran in: 0.0 sec\n",
      "multilayer_perceptron ran in: 0.003988742828369141 sec\n",
      "multilayer_perceptron ran in: 0.0 sec\n"
     ]
    },
    {
     "name": "stderr",
     "output_type": "stream",
     "text": [
      "  2%|▏         | 12/560 [00:00<00:16, 32.49it/s]"
     ]
    },
    {
     "name": "stdout",
     "output_type": "stream",
     "text": [
      "multilayer_perceptron ran in: 0.0 sec\n",
      "multilayer_perceptron ran in: 0.0 sec\n",
      "multilayer_perceptron ran in: 0.0 sec\n",
      "multilayer_perceptron ran in: 0.0 sec\n",
      "multilayer_perceptron ran in: 0.007008075714111328 sec\n",
      "multilayer_perceptron ran in: 0.0 sec\n",
      "multilayer_perceptron ran in: 0.0 sec\n"
     ]
    },
    {
     "name": "stderr",
     "output_type": "stream",
     "text": [
      "\r",
      "  3%|▎         | 16/560 [00:00<00:16, 33.26it/s]"
     ]
    },
    {
     "name": "stdout",
     "output_type": "stream",
     "text": [
      "multilayer_perceptron ran in: 0.0 sec\n",
      "multilayer_perceptron ran in: 0.0 sec\n",
      "multilayer_perceptron ran in: 0.0 sec\n",
      "multilayer_perceptron ran in: 0.0 sec\n",
      "multilayer_perceptron ran in: 0.0 sec\n"
     ]
    },
    {
     "name": "stderr",
     "output_type": "stream",
     "text": [
      "\r",
      "  4%|▎         | 20/560 [00:00<00:16, 33.70it/s]"
     ]
    },
    {
     "name": "stdout",
     "output_type": "stream",
     "text": [
      "multilayer_perceptron ran in: 0.0 sec\n"
     ]
    },
    {
     "name": "stderr",
     "output_type": "stream",
     "text": [
      "\r",
      "  4%|▍         | 24/560 [00:00<00:15, 33.97it/s]"
     ]
    },
    {
     "name": "stdout",
     "output_type": "stream",
     "text": [
      "multilayer_perceptron ran in: 0.0 sec\n",
      "multilayer_perceptron ran in: 0.0 sec\n",
      "multilayer_perceptron ran in: 0.0 sec\n",
      "multilayer_perceptron ran in: 0.0 sec\n",
      "multilayer_perceptron ran in: 0.0 sec\n",
      "multilayer_perceptron ran in: 0.0 sec\n",
      "multilayer_perceptron ran in: 0.0 sec\n"
     ]
    },
    {
     "name": "stderr",
     "output_type": "stream",
     "text": [
      "  6%|▌         | 32/560 [00:01<00:17, 30.00it/s]"
     ]
    },
    {
     "name": "stdout",
     "output_type": "stream",
     "text": [
      "multilayer_perceptron ran in: 0.0 sec\n",
      "multilayer_perceptron ran in: 0.0 sec\n",
      "multilayer_perceptron ran in: 0.0 sec\n",
      "multilayer_perceptron ran in: 0.0 sec\n",
      "multilayer_perceptron ran in: 0.0 sec\n",
      "multilayer_perceptron ran in: 0.0 sec\n"
     ]
    },
    {
     "name": "stderr",
     "output_type": "stream",
     "text": [
      "\r",
      "  6%|▋         | 36/560 [00:01<00:16, 30.97it/s]"
     ]
    },
    {
     "name": "stdout",
     "output_type": "stream",
     "text": [
      "multilayer_perceptron ran in: 0.0 sec\n",
      "multilayer_perceptron ran in: 0.006003141403198242 sec\n",
      "multilayer_perceptron ran in: 0.005997896194458008 sec\n",
      "multilayer_perceptron ran in: 0.0 sec\n",
      "multilayer_perceptron ran in: 0.0 sec\n",
      "multilayer_perceptron ran in: 0.0 sec\n"
     ]
    },
    {
     "name": "stderr",
     "output_type": "stream",
     "text": [
      "  8%|▊         | 44/560 [00:01<00:16, 30.69it/s]"
     ]
    },
    {
     "name": "stdout",
     "output_type": "stream",
     "text": [
      "multilayer_perceptron ran in: 0.0 sec\n",
      "multilayer_perceptron ran in: 0.009003162384033203 sec\n",
      "multilayer_perceptron ran in: 0.0 sec\n",
      "multilayer_perceptron ran in: 0.0 sec\n",
      "multilayer_perceptron ran in: 0.0 sec\n",
      "multilayer_perceptron ran in: 0.0 sec\n",
      "multilayer_perceptron ran in: 0.010997533798217773 sec\n"
     ]
    },
    {
     "name": "stderr",
     "output_type": "stream",
     "text": [
      "\r",
      "  9%|▊         | 48/560 [00:01<00:16, 30.34it/s]"
     ]
    },
    {
     "name": "stdout",
     "output_type": "stream",
     "text": [
      "multilayer_perceptron ran in: 0.010998249053955078 sec\n",
      "multilayer_perceptron ran in: 0.012270212173461914 sec\n",
      "multilayer_perceptron ran in: 0.0020017623901367188 sec\n",
      "multilayer_perceptron ran in: 0.004003047943115234 sec\n",
      "multilayer_perceptron ran in: 0.0 sec\n",
      "multilayer_perceptron ran in: 0.00400090217590332 sec\n"
     ]
    },
    {
     "name": "stderr",
     "output_type": "stream",
     "text": [
      " 10%|▉         | 55/560 [00:01<00:17, 29.23it/s]"
     ]
    },
    {
     "name": "stdout",
     "output_type": "stream",
     "text": [
      "multilayer_perceptron ran in: 0.0 sec\n",
      "multilayer_perceptron ran in: 0.0 sec\n",
      "multilayer_perceptron ran in: 0.0010035037994384766 sec\n",
      "multilayer_perceptron ran in: 0.004006862640380859 sec\n",
      "multilayer_perceptron ran in: 0.0 sec\n",
      "multilayer_perceptron ran in: 0.0 sec\n"
     ]
    },
    {
     "name": "stderr",
     "output_type": "stream",
     "text": [
      " 11%|█         | 61/560 [00:02<00:19, 25.78it/s]"
     ]
    },
    {
     "name": "stdout",
     "output_type": "stream",
     "text": [
      "multilayer_perceptron ran in: 0.0 sec\n",
      "multilayer_perceptron ran in: 0.0 sec\n",
      "multilayer_perceptron ran in: 0.0019996166229248047 sec\n",
      "multilayer_perceptron ran in: 0.001999378204345703 sec\n",
      "multilayer_perceptron ran in: 0.0010025501251220703 sec\n"
     ]
    },
    {
     "name": "stderr",
     "output_type": "stream",
     "text": [
      " 12%|█▏        | 68/560 [00:02<00:17, 28.39it/s]"
     ]
    },
    {
     "name": "stdout",
     "output_type": "stream",
     "text": [
      "multilayer_perceptron ran in: 0.0020024776458740234 sec\n",
      "multilayer_perceptron ran in: 0.004003047943115234 sec\n",
      "multilayer_perceptron ran in: 0.0 sec\n",
      "multilayer_perceptron ran in: 0.0 sec\n",
      "multilayer_perceptron ran in: 0.0 sec\n",
      "multilayer_perceptron ran in: 0.003999471664428711 sec\n",
      "multilayer_perceptron ran in: 0.0 sec\n"
     ]
    },
    {
     "name": "stderr",
     "output_type": "stream",
     "text": [
      " 13%|█▎        | 75/560 [00:02<00:17, 27.48it/s]"
     ]
    },
    {
     "name": "stdout",
     "output_type": "stream",
     "text": [
      "multilayer_perceptron ran in: 0.004001617431640625 sec\n",
      "multilayer_perceptron ran in: 0.0 sec\n",
      "multilayer_perceptron ran in: 0.004001617431640625 sec\n",
      "multilayer_perceptron ran in: 0.003984212875366211 sec\n",
      "multilayer_perceptron ran in: 0.0 sec\n"
     ]
    },
    {
     "name": "stderr",
     "output_type": "stream",
     "text": [
      "\r",
      " 14%|█▍        | 79/560 [00:02<00:16, 28.64it/s]"
     ]
    },
    {
     "name": "stdout",
     "output_type": "stream",
     "text": [
      "multilayer_perceptron ran in: 0.0 sec\n",
      "multilayer_perceptron ran in: 0.0 sec\n",
      "multilayer_perceptron ran in: 0.0 sec\n",
      "multilayer_perceptron ran in: 0.003997802734375 sec\n",
      "multilayer_perceptron ran in: 0.003998994827270508 sec\n",
      "multilayer_perceptron ran in: 0.0 sec\n",
      "multilayer_perceptron ran in: 0.0040035247802734375 sec\n"
     ]
    },
    {
     "name": "stderr",
     "output_type": "stream",
     "text": [
      " 15%|█▌        | 86/560 [00:02<00:16, 28.15it/s]"
     ]
    },
    {
     "name": "stdout",
     "output_type": "stream",
     "text": [
      "multilayer_perceptron ran in: 0.0 sec\n",
      "multilayer_perceptron ran in: 0.003998994827270508 sec\n",
      "multilayer_perceptron ran in: 0.003998994827270508 sec\n",
      "multilayer_perceptron ran in: 0.0 sec\n",
      "multilayer_perceptron ran in: 0.0 sec\n",
      "multilayer_perceptron ran in: 0.0 sec\n"
     ]
    },
    {
     "name": "stderr",
     "output_type": "stream",
     "text": [
      "\r",
      " 16%|█▌        | 90/560 [00:03<00:16, 29.10it/s]"
     ]
    },
    {
     "name": "stdout",
     "output_type": "stream",
     "text": [
      "multilayer_perceptron ran in: 0.0 sec\n",
      "multilayer_perceptron ran in: 0.004003763198852539 sec\n",
      "multilayer_perceptron ran in: 0.0 sec\n",
      "multilayer_perceptron ran in: 0.004000186920166016 sec\n",
      "multilayer_perceptron ran in: 0.004001617431640625 sec\n",
      "multilayer_perceptron ran in: 0.0 sec\n"
     ]
    },
    {
     "name": "stderr",
     "output_type": "stream",
     "text": [
      " 17%|█▋        | 97/560 [00:03<00:16, 27.81it/s]"
     ]
    },
    {
     "name": "stdout",
     "output_type": "stream",
     "text": [
      "multilayer_perceptron ran in: 0.004001617431640625 sec\n",
      "multilayer_perceptron ran in: 0.0 sec\n",
      "multilayer_perceptron ran in: 0.003999471664428711 sec\n",
      "multilayer_perceptron ran in: 0.003997325897216797 sec\n",
      "multilayer_perceptron ran in: 0.001001119613647461 sec\n",
      "multilayer_perceptron ran in: 0.0 sec\n"
     ]
    },
    {
     "name": "stderr",
     "output_type": "stream",
     "text": [
      " 19%|█▊        | 104/560 [00:03<00:16, 28.19it/s]"
     ]
    },
    {
     "name": "stdout",
     "output_type": "stream",
     "text": [
      "multilayer_perceptron ran in: 0.0039827823638916016 sec\n",
      "multilayer_perceptron ran in: 0.003988027572631836 sec\n",
      "multilayer_perceptron ran in: 0.004000186920166016 sec\n",
      "multilayer_perceptron ran in: 0.004019260406494141 sec\n",
      "multilayer_perceptron ran in: 0.007999420166015625 sec\n"
     ]
    },
    {
     "name": "stderr",
     "output_type": "stream",
     "text": [
      " 20%|█▉        | 110/560 [00:03<00:16, 27.01it/s]"
     ]
    },
    {
     "name": "stdout",
     "output_type": "stream",
     "text": [
      "multilayer_perceptron ran in: 0.003998756408691406 sec\n",
      "multilayer_perceptron ran in: 0.0 sec\n",
      "multilayer_perceptron ran in: 0.0040018558502197266 sec\n",
      "multilayer_perceptron ran in: 0.0 sec\n",
      "multilayer_perceptron ran in: 0.00400233268737793 sec\n",
      "multilayer_perceptron ran in: 0.0040018558502197266 sec\n"
     ]
    },
    {
     "name": "stderr",
     "output_type": "stream",
     "text": [
      "\r",
      " 20%|██        | 113/560 [00:03<00:17, 25.63it/s]"
     ]
    },
    {
     "name": "stdout",
     "output_type": "stream",
     "text": [
      "multilayer_perceptron ran in: 0.0 sec\n",
      "multilayer_perceptron ran in: 0.004000425338745117 sec\n",
      "multilayer_perceptron ran in: 0.0 sec\n",
      "multilayer_perceptron ran in: 0.004000186920166016 sec\n"
     ]
    },
    {
     "name": "stderr",
     "output_type": "stream",
     "text": [
      " 21%|██▏       | 119/560 [00:04<00:18, 23.90it/s]"
     ]
    },
    {
     "name": "stdout",
     "output_type": "stream",
     "text": [
      "multilayer_perceptron ran in: 0.0 sec\n",
      "multilayer_perceptron ran in: 0.0 sec\n",
      "multilayer_perceptron ran in: 0.0 sec\n",
      "multilayer_perceptron ran in: 0.0 sec\n",
      "multilayer_perceptron ran in: 0.0 sec\n"
     ]
    },
    {
     "name": "stderr",
     "output_type": "stream",
     "text": [
      " 22%|██▏       | 125/560 [00:04<00:17, 24.39it/s]"
     ]
    },
    {
     "name": "stdout",
     "output_type": "stream",
     "text": [
      "multilayer_perceptron ran in: 0.0 sec\n",
      "multilayer_perceptron ran in: 0.004003286361694336 sec\n",
      "multilayer_perceptron ran in: 0.0 sec\n",
      "multilayer_perceptron ran in: 0.004001617431640625 sec\n",
      "multilayer_perceptron ran in: 0.004000663757324219 sec\n"
     ]
    },
    {
     "name": "stderr",
     "output_type": "stream",
     "text": [
      "\r",
      " 23%|██▎       | 128/560 [00:04<00:17, 24.81it/s]"
     ]
    },
    {
     "name": "stdout",
     "output_type": "stream",
     "text": [
      "multilayer_perceptron ran in: 0.004002094268798828 sec\n",
      "multilayer_perceptron ran in: 0.0 sec\n",
      "multilayer_perceptron ran in: 0.004000663757324219 sec\n",
      "multilayer_perceptron ran in: 0.003998994827270508 sec\n",
      "multilayer_perceptron ran in: 0.0 sec\n"
     ]
    },
    {
     "name": "stderr",
     "output_type": "stream",
     "text": [
      " 24%|██▍       | 134/560 [00:04<00:16, 26.51it/s]"
     ]
    },
    {
     "name": "stdout",
     "output_type": "stream",
     "text": [
      "multilayer_perceptron ran in: 0.0 sec\n",
      "multilayer_perceptron ran in: 0.0 sec\n",
      "multilayer_perceptron ran in: 0.00400233268737793 sec\n",
      "multilayer_perceptron ran in: 0.0 sec\n",
      "multilayer_perceptron ran in: 0.0 sec\n",
      "multilayer_perceptron ran in: 0.0 sec\n",
      "multilayer_perceptron ran in: 0.0 sec\n"
     ]
    },
    {
     "name": "stderr",
     "output_type": "stream",
     "text": [
      " 25%|██▌       | 140/560 [00:04<00:15, 27.05it/s]"
     ]
    },
    {
     "name": "stdout",
     "output_type": "stream",
     "text": [
      "multilayer_perceptron ran in: 0.003999948501586914 sec\n",
      "multilayer_perceptron ran in: 0.0039997100830078125 sec\n",
      "multilayer_perceptron ran in: 0.0 sec\n",
      "multilayer_perceptron ran in: 0.0 sec\n",
      "multilayer_perceptron ran in: 0.004000425338745117 sec\n",
      "multilayer_perceptron ran in: 0.0 sec\n"
     ]
    },
    {
     "name": "stderr",
     "output_type": "stream",
     "text": [
      " 26%|██▌       | 146/560 [00:05<00:14, 27.72it/s]"
     ]
    },
    {
     "name": "stdout",
     "output_type": "stream",
     "text": [
      "multilayer_perceptron ran in: 0.0 sec\n",
      "multilayer_perceptron ran in: 0.0 sec\n",
      "multilayer_perceptron ran in: 0.0 sec\n",
      "multilayer_perceptron ran in: 0.003999233245849609 sec\n",
      "multilayer_perceptron ran in: 0.004000663757324219 sec\n",
      "multilayer_perceptron ran in: 0.004083156585693359 sec\n"
     ]
    },
    {
     "name": "stderr",
     "output_type": "stream",
     "text": [
      " 27%|██▋       | 153/560 [00:05<00:14, 28.48it/s]"
     ]
    },
    {
     "name": "stdout",
     "output_type": "stream",
     "text": [
      "multilayer_perceptron ran in: 0.0 sec\n",
      "multilayer_perceptron ran in: 0.0 sec\n",
      "multilayer_perceptron ran in: 0.0039975643157958984 sec\n",
      "multilayer_perceptron ran in: 0.004004001617431641 sec\n",
      "multilayer_perceptron ran in: 0.003998279571533203 sec\n",
      "multilayer_perceptron ran in: 0.00400090217590332 sec\n"
     ]
    },
    {
     "name": "stderr",
     "output_type": "stream",
     "text": [
      " 29%|██▉       | 161/560 [00:05<00:13, 29.57it/s]"
     ]
    },
    {
     "name": "stdout",
     "output_type": "stream",
     "text": [
      "multilayer_perceptron ran in: 0.0 sec\n",
      "multilayer_perceptron ran in: 0.0040018558502197266 sec\n",
      "multilayer_perceptron ran in: 0.003999471664428711 sec\n",
      "multilayer_perceptron ran in: 0.0 sec\n",
      "multilayer_perceptron ran in: 0.0 sec\n",
      "multilayer_perceptron ran in: 0.004000425338745117 sec\n"
     ]
    },
    {
     "name": "stderr",
     "output_type": "stream",
     "text": [
      "\r",
      " 29%|██▉       | 164/560 [00:05<00:13, 28.78it/s]"
     ]
    },
    {
     "name": "stdout",
     "output_type": "stream",
     "text": [
      "multilayer_perceptron ran in: 0.00400090217590332 sec\n",
      "multilayer_perceptron ran in: 0.0 sec\n",
      "multilayer_perceptron ran in: 0.0039980411529541016 sec\n",
      "multilayer_perceptron ran in: 0.004000186920166016 sec\n",
      "multilayer_perceptron ran in: 0.0 sec\n"
     ]
    },
    {
     "name": "stderr",
     "output_type": "stream",
     "text": [
      " 30%|███       | 170/560 [00:06<00:14, 27.29it/s]"
     ]
    },
    {
     "name": "stdout",
     "output_type": "stream",
     "text": [
      "multilayer_perceptron ran in: 0.0 sec\n",
      "multilayer_perceptron ran in: 0.0 sec\n",
      "multilayer_perceptron ran in: 0.0 sec\n",
      "multilayer_perceptron ran in: 0.004000425338745117 sec\n",
      "multilayer_perceptron ran in: 0.003997087478637695 sec\n",
      "multilayer_perceptron ran in: 0.003998517990112305 sec\n"
     ]
    },
    {
     "name": "stderr",
     "output_type": "stream",
     "text": [
      " 31%|███▏      | 176/560 [00:06<00:14, 26.76it/s]"
     ]
    },
    {
     "name": "stdout",
     "output_type": "stream",
     "text": [
      "multilayer_perceptron ran in: 0.0039980411529541016 sec\n",
      "multilayer_perceptron ran in: 0.004002571105957031 sec\n",
      "multilayer_perceptron ran in: 0.003998279571533203 sec\n",
      "multilayer_perceptron ran in: 0.0 sec\n",
      "multilayer_perceptron ran in: 0.0039997100830078125 sec\n"
     ]
    },
    {
     "name": "stderr",
     "output_type": "stream",
     "text": [
      " 32%|███▎      | 182/560 [00:06<00:13, 27.06it/s]"
     ]
    },
    {
     "name": "stdout",
     "output_type": "stream",
     "text": [
      "multilayer_perceptron ran in: 0.0 sec\n",
      "multilayer_perceptron ran in: 0.0040035247802734375 sec\n",
      "multilayer_perceptron ran in: 0.004000663757324219 sec\n",
      "multilayer_perceptron ran in: 0.0 sec\n",
      "multilayer_perceptron ran in: 0.0 sec\n",
      "multilayer_perceptron ran in: 0.0039975643157958984 sec\n"
     ]
    },
    {
     "name": "stderr",
     "output_type": "stream",
     "text": [
      " 34%|███▍      | 189/560 [00:06<00:12, 29.10it/s]"
     ]
    },
    {
     "name": "stdout",
     "output_type": "stream",
     "text": [
      "multilayer_perceptron ran in: 0.004001617431640625 sec\n",
      "multilayer_perceptron ran in: 0.0 sec\n",
      "multilayer_perceptron ran in: 0.0040056705474853516 sec\n",
      "multilayer_perceptron ran in: 0.0 sec\n",
      "multilayer_perceptron ran in: 0.003999233245849609 sec\n",
      "multilayer_perceptron ran in: 0.0 sec\n",
      "multilayer_perceptron ran in: 0.003995180130004883 sec\n"
     ]
    },
    {
     "name": "stderr",
     "output_type": "stream",
     "text": [
      "\r",
      " 34%|███▍      | 193/560 [00:06<00:12, 29.79it/s]"
     ]
    },
    {
     "name": "stdout",
     "output_type": "stream",
     "text": [
      "multilayer_perceptron ran in: 0.0 sec\n",
      "multilayer_perceptron ran in: 0.0 sec\n",
      "multilayer_perceptron ran in: 0.0 sec\n",
      "multilayer_perceptron ran in: 0.0 sec\n",
      "multilayer_perceptron ran in: 0.0 sec\n",
      "multilayer_perceptron ran in: 0.0 sec\n",
      "multilayer_perceptron ran in: 0.0 sec\n"
     ]
    },
    {
     "name": "stderr",
     "output_type": "stream",
     "text": [
      " 36%|███▌      | 201/560 [00:07<00:11, 30.96it/s]"
     ]
    },
    {
     "name": "stdout",
     "output_type": "stream",
     "text": [
      "multilayer_perceptron ran in: 0.0 sec\n",
      "multilayer_perceptron ran in: 0.0 sec\n",
      "multilayer_perceptron ran in: 0.0 sec\n",
      "multilayer_perceptron ran in: 0.003989219665527344 sec\n",
      "multilayer_perceptron ran in: 0.004001617431640625 sec\n",
      "multilayer_perceptron ran in: 0.0 sec\n",
      "multilayer_perceptron ran in: 0.0 sec\n",
      "multilayer_perceptron ran in: 0.0 sec\n"
     ]
    },
    {
     "name": "stderr",
     "output_type": "stream",
     "text": [
      " 37%|███▋      | 209/560 [00:07<00:11, 31.43it/s]"
     ]
    },
    {
     "name": "stdout",
     "output_type": "stream",
     "text": [
      "multilayer_perceptron ran in: 0.004012346267700195 sec\n",
      "multilayer_perceptron ran in: 0.0 sec\n",
      "multilayer_perceptron ran in: 0.0 sec\n",
      "multilayer_perceptron ran in: 0.0 sec\n",
      "multilayer_perceptron ran in: 0.0 sec\n",
      "multilayer_perceptron ran in: 0.0 sec\n",
      "multilayer_perceptron ran in: 0.0 sec\n"
     ]
    },
    {
     "name": "stderr",
     "output_type": "stream",
     "text": [
      " 39%|███▉      | 217/560 [00:07<00:10, 31.64it/s]"
     ]
    },
    {
     "name": "stdout",
     "output_type": "stream",
     "text": [
      "multilayer_perceptron ran in: 0.003997325897216797 sec\n",
      "multilayer_perceptron ran in: 0.0 sec\n",
      "multilayer_perceptron ran in: 0.0 sec\n",
      "multilayer_perceptron ran in: 0.004013776779174805 sec\n",
      "multilayer_perceptron ran in: 0.0 sec\n",
      "multilayer_perceptron ran in: 0.0 sec\n",
      "multilayer_perceptron ran in: 0.0 sec\n"
     ]
    },
    {
     "name": "stderr",
     "output_type": "stream",
     "text": [
      " 40%|████      | 225/560 [00:07<00:10, 31.95it/s]"
     ]
    },
    {
     "name": "stdout",
     "output_type": "stream",
     "text": [
      "multilayer_perceptron ran in: 0.0 sec\n",
      "multilayer_perceptron ran in: 0.0039980411529541016 sec\n",
      "multilayer_perceptron ran in: 0.0 sec\n",
      "multilayer_perceptron ran in: 0.003998517990112305 sec\n",
      "multilayer_perceptron ran in: 0.0 sec\n",
      "multilayer_perceptron ran in: 0.004000663757324219 sec\n"
     ]
    },
    {
     "name": "stderr",
     "output_type": "stream",
     "text": [
      "\r",
      " 41%|████      | 229/560 [00:07<00:10, 31.44it/s]"
     ]
    },
    {
     "name": "stdout",
     "output_type": "stream",
     "text": [
      "multilayer_perceptron ran in: 0.0 sec\n",
      "multilayer_perceptron ran in: 0.0 sec\n",
      "multilayer_perceptron ran in: 0.0 sec\n",
      "multilayer_perceptron ran in: 0.0 sec\n",
      "multilayer_perceptron ran in: 0.003999471664428711 sec\n",
      "multilayer_perceptron ran in: 0.00400233268737793 sec\n"
     ]
    },
    {
     "name": "stderr",
     "output_type": "stream",
     "text": [
      " 42%|████▏     | 237/560 [00:08<00:10, 31.64it/s]"
     ]
    },
    {
     "name": "stdout",
     "output_type": "stream",
     "text": [
      "multilayer_perceptron ran in: 0.00400543212890625 sec\n",
      "multilayer_perceptron ran in: 0.0 sec\n",
      "multilayer_perceptron ran in: 0.004001140594482422 sec\n",
      "multilayer_perceptron ran in: 0.0 sec\n",
      "multilayer_perceptron ran in: 0.0 sec\n",
      "multilayer_perceptron ran in: 0.0 sec\n",
      "multilayer_perceptron ran in: 0.0 sec\n"
     ]
    },
    {
     "name": "stderr",
     "output_type": "stream",
     "text": [
      " 44%|████▍     | 245/560 [00:08<00:09, 32.16it/s]"
     ]
    },
    {
     "name": "stdout",
     "output_type": "stream",
     "text": [
      "multilayer_perceptron ran in: 0.004019498825073242 sec\n",
      "multilayer_perceptron ran in: 0.004023075103759766 sec\n",
      "multilayer_perceptron ran in: 0.0 sec\n",
      "multilayer_perceptron ran in: 0.0 sec\n",
      "multilayer_perceptron ran in: 0.0 sec\n",
      "multilayer_perceptron ran in: 0.003989696502685547 sec\n",
      "multilayer_perceptron ran in: 0.0 sec\n"
     ]
    },
    {
     "name": "stderr",
     "output_type": "stream",
     "text": [
      "\r",
      " 44%|████▍     | 249/560 [00:08<00:09, 32.00it/s]"
     ]
    },
    {
     "name": "stdout",
     "output_type": "stream",
     "text": [
      "multilayer_perceptron ran in: 0.0 sec\n",
      "multilayer_perceptron ran in: 0.0 sec\n",
      "multilayer_perceptron ran in: 0.0 sec\n",
      "multilayer_perceptron ran in: 0.0 sec\n",
      "multilayer_perceptron ran in: 0.0 sec\n",
      "multilayer_perceptron ran in: 0.0 sec\n",
      "multilayer_perceptron ran in: 0.0 sec\n"
     ]
    },
    {
     "name": "stderr",
     "output_type": "stream",
     "text": [
      " 46%|████▌     | 257/560 [00:08<00:09, 32.25it/s]"
     ]
    },
    {
     "name": "stdout",
     "output_type": "stream",
     "text": [
      "multilayer_perceptron ran in: 0.0 sec\n",
      "multilayer_perceptron ran in: 0.0 sec\n",
      "multilayer_perceptron ran in: 0.0 sec\n",
      "multilayer_perceptron ran in: 0.0 sec\n",
      "multilayer_perceptron ran in: 0.00400233268737793 sec\n",
      "multilayer_perceptron ran in: 0.0 sec\n",
      "multilayer_perceptron ran in: 0.004008293151855469 sec\n"
     ]
    },
    {
     "name": "stderr",
     "output_type": "stream",
     "text": [
      " 47%|████▋     | 265/560 [00:09<00:09, 32.35it/s]"
     ]
    },
    {
     "name": "stdout",
     "output_type": "stream",
     "text": [
      "multilayer_perceptron ran in: 0.0 sec\n",
      "multilayer_perceptron ran in: 0.004018306732177734 sec\n",
      "multilayer_perceptron ran in: 0.0 sec\n",
      "multilayer_perceptron ran in: 0.003999948501586914 sec\n",
      "multilayer_perceptron ran in: 0.0 sec\n",
      "multilayer_perceptron ran in: 0.0 sec\n"
     ]
    },
    {
     "name": "stderr",
     "output_type": "stream",
     "text": [
      "\r",
      " 48%|████▊     | 269/560 [00:09<00:09, 31.71it/s]"
     ]
    },
    {
     "name": "stdout",
     "output_type": "stream",
     "text": [
      "multilayer_perceptron ran in: 0.0 sec\n",
      "multilayer_perceptron ran in: 0.0 sec\n",
      "multilayer_perceptron ran in: 0.0 sec\n",
      "multilayer_perceptron ran in: 0.0 sec\n",
      "multilayer_perceptron ran in: 0.0 sec\n",
      "multilayer_perceptron ran in: 0.0 sec\n"
     ]
    },
    {
     "name": "stderr",
     "output_type": "stream",
     "text": [
      "\r",
      " 49%|████▉     | 273/560 [00:09<00:09, 31.16it/s]"
     ]
    },
    {
     "name": "stdout",
     "output_type": "stream",
     "text": [
      "multilayer_perceptron ran in: 0.004000186920166016 sec\n",
      "multilayer_perceptron ran in: 0.0 sec\n",
      "multilayer_perceptron ran in: 0.004004716873168945 sec\n",
      "multilayer_perceptron ran in: 0.004000425338745117 sec\n",
      "multilayer_perceptron ran in: 0.004001617431640625 sec\n"
     ]
    },
    {
     "name": "stderr",
     "output_type": "stream",
     "text": [
      " 50%|█████     | 280/560 [00:09<00:10, 27.98it/s]"
     ]
    },
    {
     "name": "stdout",
     "output_type": "stream",
     "text": [
      "multilayer_perceptron ran in: 0.003999948501586914 sec\n",
      "multilayer_perceptron ran in: 0.0 sec\n",
      "multilayer_perceptron ran in: 0.0 sec\n",
      "multilayer_perceptron ran in: 0.003997802734375 sec\n",
      "multilayer_perceptron ran in: 0.004004478454589844 sec\n",
      "multilayer_perceptron ran in: 0.004000425338745117 sec\n"
     ]
    },
    {
     "name": "stderr",
     "output_type": "stream",
     "text": [
      " 51%|█████▏    | 287/560 [00:09<00:09, 27.83it/s]"
     ]
    },
    {
     "name": "stdout",
     "output_type": "stream",
     "text": [
      "multilayer_perceptron ran in: 0.004002571105957031 sec\n",
      "multilayer_perceptron ran in: 0.0 sec\n",
      "multilayer_perceptron ran in: 0.003998756408691406 sec\n",
      "multilayer_perceptron ran in: 0.0 sec\n",
      "multilayer_perceptron ran in: 0.0 sec\n"
     ]
    },
    {
     "name": "stderr",
     "output_type": "stream",
     "text": [
      "\r",
      " 52%|█████▏    | 291/560 [00:10<00:09, 28.86it/s]"
     ]
    },
    {
     "name": "stdout",
     "output_type": "stream",
     "text": [
      "multilayer_perceptron ran in: 0.0 sec\n",
      "multilayer_perceptron ran in: 0.0039980411529541016 sec\n",
      "multilayer_perceptron ran in: 0.0 sec\n",
      "multilayer_perceptron ran in: 0.0 sec\n",
      "multilayer_perceptron ran in: 0.0 sec\n",
      "multilayer_perceptron ran in: 0.004001140594482422 sec\n",
      "multilayer_perceptron ran in: 0.004000425338745117 sec\n"
     ]
    },
    {
     "name": "stderr",
     "output_type": "stream",
     "text": [
      " 53%|█████▎    | 299/560 [00:10<00:08, 30.36it/s]"
     ]
    },
    {
     "name": "stdout",
     "output_type": "stream",
     "text": [
      "multilayer_perceptron ran in: 0.0 sec\n",
      "multilayer_perceptron ran in: 0.0 sec\n",
      "multilayer_perceptron ran in: 0.0 sec\n",
      "multilayer_perceptron ran in: 0.004000663757324219 sec\n",
      "multilayer_perceptron ran in: 0.003999948501586914 sec\n",
      "multilayer_perceptron ran in: 0.0 sec\n",
      "multilayer_perceptron ran in: 0.0 sec\n"
     ]
    },
    {
     "name": "stderr",
     "output_type": "stream",
     "text": [
      " 55%|█████▍    | 307/560 [00:10<00:07, 31.82it/s]"
     ]
    },
    {
     "name": "stdout",
     "output_type": "stream",
     "text": [
      "multilayer_perceptron ran in: 0.0 sec\n",
      "multilayer_perceptron ran in: 0.0 sec\n",
      "multilayer_perceptron ran in: 0.004014015197753906 sec\n",
      "multilayer_perceptron ran in: 0.0 sec\n",
      "multilayer_perceptron ran in: 0.0039827823638916016 sec\n",
      "multilayer_perceptron ran in: 0.0 sec\n",
      "multilayer_perceptron ran in: 0.0 sec\n"
     ]
    },
    {
     "name": "stderr",
     "output_type": "stream",
     "text": [
      " 56%|█████▋    | 315/560 [00:10<00:07, 32.30it/s]"
     ]
    },
    {
     "name": "stdout",
     "output_type": "stream",
     "text": [
      "multilayer_perceptron ran in: 0.003999948501586914 sec\n",
      "multilayer_perceptron ran in: 0.003984212875366211 sec\n",
      "multilayer_perceptron ran in: 0.0 sec\n",
      "multilayer_perceptron ran in: 0.003999471664428711 sec\n",
      "multilayer_perceptron ran in: 0.0 sec\n",
      "multilayer_perceptron ran in: 0.0 sec\n",
      "multilayer_perceptron ran in: 0.0040018558502197266 sec\n"
     ]
    },
    {
     "name": "stderr",
     "output_type": "stream",
     "text": [
      "\r",
      " 57%|█████▋    | 319/560 [00:10<00:07, 32.60it/s]"
     ]
    },
    {
     "name": "stdout",
     "output_type": "stream",
     "text": [
      "multilayer_perceptron ran in: 0.0 sec\n",
      "multilayer_perceptron ran in: 0.0040013790130615234 sec\n",
      "multilayer_perceptron ran in: 0.0 sec\n",
      "multilayer_perceptron ran in: 0.0 sec\n",
      "multilayer_perceptron ran in: 0.0 sec\n",
      "multilayer_perceptron ran in: 0.0039997100830078125 sec\n",
      "multilayer_perceptron ran in: 0.004000663757324219 sec\n"
     ]
    },
    {
     "name": "stderr",
     "output_type": "stream",
     "text": [
      " 58%|█████▊    | 327/560 [00:11<00:07, 33.13it/s]"
     ]
    },
    {
     "name": "stdout",
     "output_type": "stream",
     "text": [
      "multilayer_perceptron ran in: 0.0039997100830078125 sec\n",
      "multilayer_perceptron ran in: 0.0 sec\n",
      "multilayer_perceptron ran in: 0.0 sec\n",
      "multilayer_perceptron ran in: 0.0 sec\n",
      "multilayer_perceptron ran in: 0.004001140594482422 sec\n",
      "multilayer_perceptron ran in: 0.0 sec\n",
      "multilayer_perceptron ran in: 0.003998517990112305 sec\n",
      "multilayer_perceptron ran in: 0.0 sec\n"
     ]
    },
    {
     "name": "stderr",
     "output_type": "stream",
     "text": [
      " 60%|█████▉    | 335/560 [00:11<00:06, 33.36it/s]"
     ]
    },
    {
     "name": "stdout",
     "output_type": "stream",
     "text": [
      "multilayer_perceptron ran in: 0.0 sec\n",
      "multilayer_perceptron ran in: 0.0 sec\n",
      "multilayer_perceptron ran in: 0.004014492034912109 sec\n",
      "multilayer_perceptron ran in: 0.003999471664428711 sec\n",
      "multilayer_perceptron ran in: 0.0 sec\n",
      "multilayer_perceptron ran in: 0.0 sec\n",
      "multilayer_perceptron ran in: 0.0 sec\n"
     ]
    },
    {
     "name": "stderr",
     "output_type": "stream",
     "text": [
      "\r",
      " 61%|██████    | 339/560 [00:11<00:07, 30.88it/s]"
     ]
    },
    {
     "name": "stdout",
     "output_type": "stream",
     "text": [
      "multilayer_perceptron ran in: 0.0 sec\n",
      "multilayer_perceptron ran in: 0.0 sec\n",
      "multilayer_perceptron ran in: 0.0039997100830078125 sec\n",
      "multilayer_perceptron ran in: 0.003996372222900391 sec\n",
      "multilayer_perceptron ran in: 0.0 sec\n",
      "multilayer_perceptron ran in: 0.0 sec\n"
     ]
    },
    {
     "name": "stderr",
     "output_type": "stream",
     "text": [
      " 62%|██████▏   | 347/560 [00:11<00:07, 30.39it/s]"
     ]
    },
    {
     "name": "stdout",
     "output_type": "stream",
     "text": [
      "multilayer_perceptron ran in: 0.003999471664428711 sec\n",
      "multilayer_perceptron ran in: 0.0 sec\n",
      "multilayer_perceptron ran in: 0.0 sec\n",
      "multilayer_perceptron ran in: 0.0 sec\n",
      "multilayer_perceptron ran in: 0.0 sec\n",
      "multilayer_perceptron ran in: 0.0 sec\n"
     ]
    },
    {
     "name": "stderr",
     "output_type": "stream",
     "text": [
      " 63%|██████▎   | 355/560 [00:11<00:06, 31.70it/s]"
     ]
    },
    {
     "name": "stdout",
     "output_type": "stream",
     "text": [
      "multilayer_perceptron ran in: 0.00400090217590332 sec\n",
      "multilayer_perceptron ran in: 0.0 sec\n",
      "multilayer_perceptron ran in: 0.0 sec\n",
      "multilayer_perceptron ran in: 0.0 sec\n",
      "multilayer_perceptron ran in: 0.0040013790130615234 sec\n",
      "multilayer_perceptron ran in: 0.0 sec\n"
     ]
    },
    {
     "name": "stderr",
     "output_type": "stream",
     "text": [
      "\r",
      " 64%|██████▍   | 359/560 [00:12<00:06, 32.49it/s]"
     ]
    },
    {
     "name": "stdout",
     "output_type": "stream",
     "text": [
      "multilayer_perceptron ran in: 0.0 sec\n",
      "multilayer_perceptron ran in: 0.003999471664428711 sec\n",
      "multilayer_perceptron ran in: 0.0039997100830078125 sec\n",
      "multilayer_perceptron ran in: 0.004010677337646484 sec\n",
      "multilayer_perceptron ran in: 0.0 sec\n",
      "multilayer_perceptron ran in: 0.0 sec\n",
      "multilayer_perceptron ran in: 0.0 sec\n"
     ]
    },
    {
     "name": "stderr",
     "output_type": "stream",
     "text": [
      " 66%|██████▌   | 367/560 [00:12<00:05, 32.82it/s]"
     ]
    },
    {
     "name": "stdout",
     "output_type": "stream",
     "text": [
      "multilayer_perceptron ran in: 0.004015922546386719 sec\n",
      "multilayer_perceptron ran in: 0.0 sec\n",
      "multilayer_perceptron ran in: 0.0 sec\n",
      "multilayer_perceptron ran in: 0.0 sec\n",
      "multilayer_perceptron ran in: 0.0 sec\n",
      "multilayer_perceptron ran in: 0.0 sec\n",
      "multilayer_perceptron ran in: 0.0 sec\n"
     ]
    },
    {
     "name": "stderr",
     "output_type": "stream",
     "text": [
      " 67%|██████▋   | 375/560 [00:12<00:05, 32.96it/s]"
     ]
    },
    {
     "name": "stdout",
     "output_type": "stream",
     "text": [
      "multilayer_perceptron ran in: 0.0 sec\n",
      "multilayer_perceptron ran in: 0.0 sec\n",
      "multilayer_perceptron ran in: 0.0 sec\n",
      "multilayer_perceptron ran in: 0.0 sec\n",
      "multilayer_perceptron ran in: 0.004002809524536133 sec\n",
      "multilayer_perceptron ran in: 0.0 sec\n",
      "multilayer_perceptron ran in: 0.0 sec\n"
     ]
    },
    {
     "name": "stderr",
     "output_type": "stream",
     "text": [
      "\r",
      " 68%|██████▊   | 379/560 [00:12<00:05, 33.07it/s]"
     ]
    },
    {
     "name": "stdout",
     "output_type": "stream",
     "text": [
      "multilayer_perceptron ran in: 0.0 sec\n",
      "multilayer_perceptron ran in: 0.0 sec\n",
      "multilayer_perceptron ran in: 0.0 sec\n",
      "multilayer_perceptron ran in: 0.004016876220703125 sec\n",
      "multilayer_perceptron ran in: 0.0 sec\n",
      "multilayer_perceptron ran in: 0.0 sec\n",
      "multilayer_perceptron ran in: 0.004014253616333008 sec\n"
     ]
    },
    {
     "name": "stderr",
     "output_type": "stream",
     "text": [
      " 69%|██████▉   | 387/560 [00:12<00:05, 33.20it/s]"
     ]
    },
    {
     "name": "stdout",
     "output_type": "stream",
     "text": [
      "multilayer_perceptron ran in: 0.003999948501586914 sec\n",
      "multilayer_perceptron ran in: 0.0 sec\n",
      "multilayer_perceptron ran in: 0.004001617431640625 sec\n",
      "multilayer_perceptron ran in: 0.0 sec\n",
      "multilayer_perceptron ran in: 0.003998756408691406 sec\n",
      "multilayer_perceptron ran in: 0.0 sec\n",
      "multilayer_perceptron ran in: 0.0 sec\n"
     ]
    },
    {
     "name": "stderr",
     "output_type": "stream",
     "text": [
      " 71%|███████   | 395/560 [00:13<00:04, 33.78it/s]"
     ]
    },
    {
     "name": "stdout",
     "output_type": "stream",
     "text": [
      "multilayer_perceptron ran in: 0.003999948501586914 sec\n",
      "multilayer_perceptron ran in: 0.0 sec\n",
      "multilayer_perceptron ran in: 0.0 sec\n",
      "multilayer_perceptron ran in: 0.00400090217590332 sec\n",
      "multilayer_perceptron ran in: 0.0 sec\n",
      "multilayer_perceptron ran in: 0.003998756408691406 sec\n",
      "multilayer_perceptron ran in: 0.0 sec\n",
      "multilayer_perceptron ran in: 0.0 sec\n"
     ]
    },
    {
     "name": "stderr",
     "output_type": "stream",
     "text": [
      " 72%|███████▏  | 403/560 [00:13<00:04, 33.90it/s]"
     ]
    },
    {
     "name": "stdout",
     "output_type": "stream",
     "text": [
      "multilayer_perceptron ran in: 0.0 sec\n",
      "multilayer_perceptron ran in: 0.0 sec\n",
      "multilayer_perceptron ran in: 0.00400090217590332 sec\n",
      "multilayer_perceptron ran in: 0.0 sec\n",
      "multilayer_perceptron ran in: 0.0 sec\n",
      "multilayer_perceptron ran in: 0.003995656967163086 sec\n",
      "multilayer_perceptron ran in: 0.0039865970611572266 sec\n"
     ]
    },
    {
     "name": "stderr",
     "output_type": "stream",
     "text": [
      " 73%|███████▎  | 411/560 [00:13<00:04, 33.47it/s]"
     ]
    },
    {
     "name": "stdout",
     "output_type": "stream",
     "text": [
      "multilayer_perceptron ran in: 0.0 sec\n",
      "multilayer_perceptron ran in: 0.0 sec\n",
      "multilayer_perceptron ran in: 0.003996849060058594 sec\n",
      "multilayer_perceptron ran in: 0.0 sec\n",
      "multilayer_perceptron ran in: 0.0 sec\n",
      "multilayer_perceptron ran in: 0.003998517990112305 sec\n",
      "multilayer_perceptron ran in: 0.0 sec\n",
      "multilayer_perceptron ran in: 0.0 sec\n"
     ]
    },
    {
     "name": "stderr",
     "output_type": "stream",
     "text": [
      " 75%|███████▍  | 419/560 [00:13<00:04, 33.47it/s]"
     ]
    },
    {
     "name": "stdout",
     "output_type": "stream",
     "text": [
      "multilayer_perceptron ran in: 0.0 sec\n",
      "multilayer_perceptron ran in: 0.003999233245849609 sec\n",
      "multilayer_perceptron ran in: 0.0 sec\n",
      "multilayer_perceptron ran in: 0.004001140594482422 sec\n",
      "multilayer_perceptron ran in: 0.0 sec\n",
      "multilayer_perceptron ran in: 0.0 sec\n",
      "multilayer_perceptron ran in: 0.0 sec\n",
      "multilayer_perceptron ran in: 0.0 sec\n"
     ]
    },
    {
     "name": "stderr",
     "output_type": "stream",
     "text": [
      " 76%|███████▋  | 427/560 [00:14<00:03, 33.51it/s]"
     ]
    },
    {
     "name": "stdout",
     "output_type": "stream",
     "text": [
      "multilayer_perceptron ran in: 0.0 sec\n",
      "multilayer_perceptron ran in: 0.003988981246948242 sec\n",
      "multilayer_perceptron ran in: 0.0 sec\n",
      "multilayer_perceptron ran in: 0.0 sec\n",
      "multilayer_perceptron ran in: 0.004002094268798828 sec\n",
      "multilayer_perceptron ran in: 0.0 sec\n",
      "multilayer_perceptron ran in: 0.004000186920166016 sec\n",
      "multilayer_perceptron ran in: 0.0 sec\n"
     ]
    },
    {
     "name": "stderr",
     "output_type": "stream",
     "text": [
      " 78%|███████▊  | 435/560 [00:14<00:03, 33.52it/s]"
     ]
    },
    {
     "name": "stdout",
     "output_type": "stream",
     "text": [
      "multilayer_perceptron ran in: 0.0 sec\n",
      "multilayer_perceptron ran in: 0.0 sec\n",
      "multilayer_perceptron ran in: 0.0 sec\n",
      "multilayer_perceptron ran in: 0.0 sec\n",
      "multilayer_perceptron ran in: 0.0 sec\n",
      "multilayer_perceptron ran in: 0.004001140594482422 sec\n",
      "multilayer_perceptron ran in: 0.0 sec\n",
      "multilayer_perceptron ran in: 0.0 sec\n"
     ]
    },
    {
     "name": "stderr",
     "output_type": "stream",
     "text": [
      " 79%|███████▉  | 443/560 [00:14<00:03, 33.76it/s]"
     ]
    },
    {
     "name": "stdout",
     "output_type": "stream",
     "text": [
      "multilayer_perceptron ran in: 0.0 sec\n",
      "multilayer_perceptron ran in: 0.00400090217590332 sec\n",
      "multilayer_perceptron ran in: 0.0 sec\n",
      "multilayer_perceptron ran in: 0.00400090217590332 sec\n",
      "multilayer_perceptron ran in: 0.0 sec\n",
      "multilayer_perceptron ran in: 0.0 sec\n",
      "multilayer_perceptron ran in: 0.0 sec\n"
     ]
    },
    {
     "name": "stderr",
     "output_type": "stream",
     "text": [
      "\r",
      " 80%|███████▉  | 447/560 [00:14<00:03, 33.66it/s]"
     ]
    },
    {
     "name": "stdout",
     "output_type": "stream",
     "text": [
      "multilayer_perceptron ran in: 0.003999948501586914 sec\n",
      "multilayer_perceptron ran in: 0.0 sec\n",
      "multilayer_perceptron ran in: 0.0 sec\n",
      "multilayer_perceptron ran in: 0.004015684127807617 sec\n",
      "multilayer_perceptron ran in: 0.0 sec\n",
      "multilayer_perceptron ran in: 0.0 sec\n",
      "multilayer_perceptron ran in: 0.0 sec\n"
     ]
    },
    {
     "name": "stderr",
     "output_type": "stream",
     "text": [
      " 81%|████████▏ | 455/560 [00:14<00:03, 33.09it/s]"
     ]
    },
    {
     "name": "stdout",
     "output_type": "stream",
     "text": [
      "multilayer_perceptron ran in: 0.0 sec\n",
      "multilayer_perceptron ran in: 0.0040149688720703125 sec\n",
      "multilayer_perceptron ran in: 0.0 sec\n",
      "multilayer_perceptron ran in: 0.004003286361694336 sec\n",
      "multilayer_perceptron ran in: 0.0 sec\n",
      "multilayer_perceptron ran in: 0.003985881805419922 sec\n",
      "multilayer_perceptron ran in: 0.0 sec\n"
     ]
    },
    {
     "name": "stderr",
     "output_type": "stream",
     "text": [
      " 83%|████████▎ | 463/560 [00:15<00:02, 33.06it/s]"
     ]
    },
    {
     "name": "stdout",
     "output_type": "stream",
     "text": [
      "multilayer_perceptron ran in: 0.004000663757324219 sec\n",
      "multilayer_perceptron ran in: 0.0 sec\n",
      "multilayer_perceptron ran in: 0.004014492034912109 sec\n",
      "multilayer_perceptron ran in: 0.0 sec\n",
      "multilayer_perceptron ran in: 0.0 sec\n",
      "multilayer_perceptron ran in: 0.0 sec\n",
      "multilayer_perceptron ran in: 0.0 sec\n"
     ]
    },
    {
     "name": "stderr",
     "output_type": "stream",
     "text": [
      " 84%|████████▍ | 471/560 [00:15<00:02, 33.21it/s]"
     ]
    },
    {
     "name": "stdout",
     "output_type": "stream",
     "text": [
      "multilayer_perceptron ran in: 0.0 sec\n",
      "multilayer_perceptron ran in: 0.00099945068359375 sec\n",
      "multilayer_perceptron ran in: 0.0 sec\n",
      "multilayer_perceptron ran in: 0.004003286361694336 sec\n",
      "multilayer_perceptron ran in: 0.0 sec\n",
      "multilayer_perceptron ran in: 0.003983974456787109 sec\n",
      "multilayer_perceptron ran in: 0.003985881805419922 sec\n"
     ]
    },
    {
     "name": "stderr",
     "output_type": "stream",
     "text": [
      " 86%|████████▌ | 479/560 [00:15<00:02, 33.44it/s]"
     ]
    },
    {
     "name": "stdout",
     "output_type": "stream",
     "text": [
      "multilayer_perceptron ran in: 0.0 sec\n",
      "multilayer_perceptron ran in: 0.0 sec\n",
      "multilayer_perceptron ran in: 0.0 sec\n",
      "multilayer_perceptron ran in: 0.0 sec\n",
      "multilayer_perceptron ran in: 0.004017353057861328 sec\n",
      "multilayer_perceptron ran in: 0.0 sec\n",
      "multilayer_perceptron ran in: 0.0 sec\n"
     ]
    },
    {
     "name": "stderr",
     "output_type": "stream",
     "text": [
      "\r",
      " 86%|████████▋ | 483/560 [00:15<00:02, 33.85it/s]"
     ]
    },
    {
     "name": "stdout",
     "output_type": "stream",
     "text": [
      "multilayer_perceptron ran in: 0.004019975662231445 sec\n",
      "multilayer_perceptron ran in: 0.003983736038208008 sec\n",
      "multilayer_perceptron ran in: 0.004000425338745117 sec\n",
      "multilayer_perceptron ran in: 0.003999948501586914 sec\n",
      "multilayer_perceptron ran in: 0.003999233245849609 sec\n",
      "multilayer_perceptron ran in: 0.0 sec\n",
      "multilayer_perceptron ran in: 0.0 sec\n"
     ]
    },
    {
     "name": "stderr",
     "output_type": "stream",
     "text": [
      " 88%|████████▊ | 491/560 [00:16<00:02, 33.95it/s]"
     ]
    },
    {
     "name": "stdout",
     "output_type": "stream",
     "text": [
      "multilayer_perceptron ran in: 0.0 sec\n",
      "multilayer_perceptron ran in: 0.0 sec\n",
      "multilayer_perceptron ran in: 0.0 sec\n",
      "multilayer_perceptron ran in: 0.003999233245849609 sec\n",
      "multilayer_perceptron ran in: 0.0 sec\n",
      "multilayer_perceptron ran in: 0.0 sec\n",
      "multilayer_perceptron ran in: 0.00400233268737793 sec\n",
      "multilayer_perceptron ran in: 0.003998994827270508 sec\n"
     ]
    },
    {
     "name": "stderr",
     "output_type": "stream",
     "text": [
      " 89%|████████▉ | 499/560 [00:16<00:01, 33.87it/s]"
     ]
    },
    {
     "name": "stdout",
     "output_type": "stream",
     "text": [
      "multilayer_perceptron ran in: 0.0 sec\n",
      "multilayer_perceptron ran in: 0.0 sec\n",
      "multilayer_perceptron ran in: 0.004003047943115234 sec\n",
      "multilayer_perceptron ran in: 0.0 sec\n",
      "multilayer_perceptron ran in: 0.003999471664428711 sec\n",
      "multilayer_perceptron ran in: 0.0 sec\n",
      "multilayer_perceptron ran in: 0.0 sec\n",
      "multilayer_perceptron ran in: 0.0 sec\n"
     ]
    },
    {
     "name": "stderr",
     "output_type": "stream",
     "text": [
      " 91%|█████████ | 507/560 [00:16<00:01, 34.35it/s]"
     ]
    },
    {
     "name": "stdout",
     "output_type": "stream",
     "text": [
      "multilayer_perceptron ran in: 0.004001140594482422 sec\n",
      "multilayer_perceptron ran in: 0.0 sec\n",
      "multilayer_perceptron ran in: 0.0 sec\n",
      "multilayer_perceptron ran in: 0.0 sec\n",
      "multilayer_perceptron ran in: 0.004008293151855469 sec\n",
      "multilayer_perceptron ran in: 0.003995418548583984 sec\n",
      "multilayer_perceptron ran in: 0.0 sec\n",
      "multilayer_perceptron ran in: 0.0 sec\n"
     ]
    },
    {
     "name": "stderr",
     "output_type": "stream",
     "text": [
      " 92%|█████████▏| 515/560 [00:16<00:01, 34.13it/s]"
     ]
    },
    {
     "name": "stdout",
     "output_type": "stream",
     "text": [
      "multilayer_perceptron ran in: 0.0039997100830078125 sec\n",
      "multilayer_perceptron ran in: 0.0 sec\n",
      "multilayer_perceptron ran in: 0.0 sec\n",
      "multilayer_perceptron ran in: 0.004014730453491211 sec\n",
      "multilayer_perceptron ran in: 0.003999233245849609 sec\n",
      "multilayer_perceptron ran in: 0.004004955291748047 sec\n",
      "multilayer_perceptron ran in: 0.0 sec\n"
     ]
    },
    {
     "name": "stderr",
     "output_type": "stream",
     "text": [
      " 93%|█████████▎| 523/560 [00:17<00:01, 33.48it/s]"
     ]
    },
    {
     "name": "stdout",
     "output_type": "stream",
     "text": [
      "multilayer_perceptron ran in: 0.004015445709228516 sec\n",
      "multilayer_perceptron ran in: 0.0 sec\n",
      "multilayer_perceptron ran in: 0.003991842269897461 sec\n",
      "multilayer_perceptron ran in: 0.0 sec\n",
      "multilayer_perceptron ran in: 0.004018068313598633 sec\n",
      "multilayer_perceptron ran in: 0.0 sec\n",
      "multilayer_perceptron ran in: 0.0 sec\n",
      "multilayer_perceptron ran in: 0.0 sec\n"
     ]
    },
    {
     "name": "stderr",
     "output_type": "stream",
     "text": [
      " 95%|█████████▍| 531/560 [00:17<00:00, 33.98it/s]"
     ]
    },
    {
     "name": "stdout",
     "output_type": "stream",
     "text": [
      "multilayer_perceptron ran in: 0.0 sec\n",
      "multilayer_perceptron ran in: 0.0 sec\n",
      "multilayer_perceptron ran in: 0.0 sec\n",
      "multilayer_perceptron ran in: 0.00398707389831543 sec\n",
      "multilayer_perceptron ran in: 0.0 sec\n",
      "multilayer_perceptron ran in: 0.0 sec\n",
      "multilayer_perceptron ran in: 0.0 sec\n",
      "multilayer_perceptron ran in: 0.003984212875366211 sec\n"
     ]
    },
    {
     "name": "stderr",
     "output_type": "stream",
     "text": [
      " 96%|█████████▋| 539/560 [00:17<00:00, 33.98it/s]"
     ]
    },
    {
     "name": "stdout",
     "output_type": "stream",
     "text": [
      "multilayer_perceptron ran in: 0.0 sec\n",
      "multilayer_perceptron ran in: 0.0 sec\n",
      "multilayer_perceptron ran in: 0.0 sec\n",
      "multilayer_perceptron ran in: 0.0 sec\n",
      "multilayer_perceptron ran in: 0.0 sec\n",
      "multilayer_perceptron ran in: 0.0 sec\n",
      "multilayer_perceptron ran in: 0.00402069091796875 sec\n",
      "multilayer_perceptron ran in: 0.0 sec\n"
     ]
    },
    {
     "name": "stderr",
     "output_type": "stream",
     "text": [
      " 98%|█████████▊| 547/560 [00:17<00:00, 33.69it/s]"
     ]
    },
    {
     "name": "stdout",
     "output_type": "stream",
     "text": [
      "multilayer_perceptron ran in: 0.0 sec\n",
      "multilayer_perceptron ran in: 0.0 sec\n",
      "multilayer_perceptron ran in: 0.003984928131103516 sec\n",
      "multilayer_perceptron ran in: 0.004000663757324219 sec\n",
      "multilayer_perceptron ran in: 0.0 sec\n",
      "multilayer_perceptron ran in: 0.0 sec\n",
      "multilayer_perceptron ran in: 0.0 sec\n",
      "multilayer_perceptron ran in: 0.00400543212890625 sec\n"
     ]
    },
    {
     "name": "stderr",
     "output_type": "stream",
     "text": [
      " 99%|█████████▉| 555/560 [00:17<00:00, 32.53it/s]"
     ]
    },
    {
     "name": "stdout",
     "output_type": "stream",
     "text": [
      "multilayer_perceptron ran in: 0.0 sec\n",
      "multilayer_perceptron ran in: 0.0039806365966796875 sec\n",
      "multilayer_perceptron ran in: 0.0 sec\n",
      "multilayer_perceptron ran in: 0.0 sec\n",
      "multilayer_perceptron ran in: 0.0 sec\n",
      "multilayer_perceptron ran in: 0.0 sec\n"
     ]
    },
    {
     "name": "stderr",
     "output_type": "stream",
     "text": [
      "100%|██████████| 560/560 [00:18<00:00, 30.90it/s]\n"
     ]
    },
    {
     "name": "stdout",
     "output_type": "stream",
     "text": [
      "multilayer_perceptron ran in: 0.0 sec\n",
      "multilayer_perceptron ran in: 0.0 sec\n",
      "multilayer_perceptron ran in: 0.0 sec\n",
      "multilayer_perceptron ran in: 0.003996849060058594 sec\n",
      "multilayer_perceptron ran in: 0.0 sec\n",
      "Epoch: 12 Cost=172166.7188\n"
     ]
    },
    {
     "name": "stderr",
     "output_type": "stream",
     "text": [
      "\r",
      "  0%|          | 0/560 [00:00<?, ?it/s]"
     ]
    },
    {
     "name": "stdout",
     "output_type": "stream",
     "text": [
      "multilayer_perceptron ran in: 0.0 sec\n",
      "multilayer_perceptron ran in: 0.0 sec\n"
     ]
    },
    {
     "name": "stderr",
     "output_type": "stream",
     "text": [
      "\r",
      "  1%|          | 4/560 [00:00<00:16, 32.83it/s]"
     ]
    },
    {
     "name": "stdout",
     "output_type": "stream",
     "text": [
      "multilayer_perceptron ran in: 0.003998517990112305 sec\n",
      "multilayer_perceptron ran in: 0.0 sec\n",
      "multilayer_perceptron ran in: 0.0 sec\n",
      "multilayer_perceptron ran in: 0.0 sec\n",
      "multilayer_perceptron ran in: 0.0039975643157958984 sec\n"
     ]
    },
    {
     "name": "stderr",
     "output_type": "stream",
     "text": [
      "\r",
      "  1%|▏         | 8/560 [00:00<00:16, 32.61it/s]"
     ]
    },
    {
     "name": "stdout",
     "output_type": "stream",
     "text": [
      "multilayer_perceptron ran in: 0.0 sec\n"
     ]
    },
    {
     "name": "stderr",
     "output_type": "stream",
     "text": [
      "\r",
      "  2%|▏         | 12/560 [00:00<00:16, 32.95it/s]"
     ]
    },
    {
     "name": "stdout",
     "output_type": "stream",
     "text": [
      "multilayer_perceptron ran in: 0.0 sec\n",
      "multilayer_perceptron ran in: 0.0 sec\n",
      "multilayer_perceptron ran in: 0.0 sec\n",
      "multilayer_perceptron ran in: 0.0 sec\n",
      "multilayer_perceptron ran in: 0.0 sec\n",
      "multilayer_perceptron ran in: 0.0 sec\n",
      "multilayer_perceptron ran in: 0.0 sec\n"
     ]
    },
    {
     "name": "stderr",
     "output_type": "stream",
     "text": [
      "\r",
      "  3%|▎         | 16/560 [00:00<00:16, 33.53it/s]"
     ]
    },
    {
     "name": "stdout",
     "output_type": "stream",
     "text": [
      "multilayer_perceptron ran in: 0.0 sec\n",
      "multilayer_perceptron ran in: 0.0 sec\n",
      "multilayer_perceptron ran in: 0.0 sec\n"
     ]
    },
    {
     "name": "stderr",
     "output_type": "stream",
     "text": [
      "  4%|▍         | 24/560 [00:00<00:19, 27.05it/s]"
     ]
    },
    {
     "name": "stdout",
     "output_type": "stream",
     "text": [
      "multilayer_perceptron ran in: 0.0 sec\n",
      "multilayer_perceptron ran in: 0.0 sec\n",
      "multilayer_perceptron ran in: 0.00400090217590332 sec\n",
      "multilayer_perceptron ran in: 0.0 sec\n",
      "multilayer_perceptron ran in: 0.0 sec\n",
      "multilayer_perceptron ran in: 0.0 sec\n",
      "multilayer_perceptron ran in: 0.0 sec\n"
     ]
    },
    {
     "name": "stderr",
     "output_type": "stream",
     "text": [
      "\r",
      "  5%|▌         | 28/560 [00:00<00:18, 28.73it/s]"
     ]
    },
    {
     "name": "stdout",
     "output_type": "stream",
     "text": [
      "multilayer_perceptron ran in: 0.0 sec\n",
      "multilayer_perceptron ran in: 0.0039882659912109375 sec\n",
      "multilayer_perceptron ran in: 0.0 sec\n",
      "multilayer_perceptron ran in: 0.0 sec\n",
      "multilayer_perceptron ran in: 0.0 sec\n",
      "multilayer_perceptron ran in: 0.003999948501586914 sec\n",
      "multilayer_perceptron ran in: 0.0 sec\n"
     ]
    },
    {
     "name": "stderr",
     "output_type": "stream",
     "text": [
      "  6%|▋         | 36/560 [00:01<00:16, 31.20it/s]"
     ]
    },
    {
     "name": "stdout",
     "output_type": "stream",
     "text": [
      "multilayer_perceptron ran in: 0.0 sec\n",
      "multilayer_perceptron ran in: 0.0 sec\n",
      "multilayer_perceptron ran in: 0.0 sec\n",
      "multilayer_perceptron ran in: 0.0 sec\n",
      "multilayer_perceptron ran in: 0.0 sec\n",
      "multilayer_perceptron ran in: 0.0 sec\n",
      "multilayer_perceptron ran in: 0.0 sec\n"
     ]
    },
    {
     "name": "stderr",
     "output_type": "stream",
     "text": [
      "  8%|▊         | 44/560 [00:01<00:16, 31.74it/s]"
     ]
    },
    {
     "name": "stdout",
     "output_type": "stream",
     "text": [
      "multilayer_perceptron ran in: 0.0 sec\n",
      "multilayer_perceptron ran in: 0.0 sec\n",
      "multilayer_perceptron ran in: 0.003998279571533203 sec\n",
      "multilayer_perceptron ran in: 0.0 sec\n",
      "multilayer_perceptron ran in: 0.0 sec\n",
      "multilayer_perceptron ran in: 0.0 sec\n",
      "multilayer_perceptron ran in: 0.0 sec\n"
     ]
    },
    {
     "name": "stderr",
     "output_type": "stream",
     "text": [
      "  9%|▉         | 52/560 [00:01<00:15, 32.45it/s]"
     ]
    },
    {
     "name": "stdout",
     "output_type": "stream",
     "text": [
      "multilayer_perceptron ran in: 0.004002571105957031 sec\n",
      "multilayer_perceptron ran in: 0.0 sec\n",
      "multilayer_perceptron ran in: 0.004002809524536133 sec\n",
      "multilayer_perceptron ran in: 0.004002094268798828 sec\n",
      "multilayer_perceptron ran in: 0.004002094268798828 sec\n",
      "multilayer_perceptron ran in: 0.0 sec\n",
      "multilayer_perceptron ran in: 0.0 sec\n",
      "multilayer_perceptron ran in: 0.003999233245849609 sec\n"
     ]
    },
    {
     "name": "stderr",
     "output_type": "stream",
     "text": [
      " 11%|█         | 60/560 [00:01<00:15, 32.22it/s]"
     ]
    },
    {
     "name": "stdout",
     "output_type": "stream",
     "text": [
      "multilayer_perceptron ran in: 0.0 sec\n",
      "multilayer_perceptron ran in: 0.0 sec\n",
      "multilayer_perceptron ran in: 0.0 sec\n",
      "multilayer_perceptron ran in: 0.004002094268798828 sec\n",
      "multilayer_perceptron ran in: 0.0 sec\n",
      "multilayer_perceptron ran in: 0.0039975643157958984 sec\n",
      "multilayer_perceptron ran in: 0.0 sec\n"
     ]
    },
    {
     "name": "stderr",
     "output_type": "stream",
     "text": [
      "\r",
      " 11%|█▏        | 64/560 [00:02<00:15, 31.92it/s]"
     ]
    },
    {
     "name": "stdout",
     "output_type": "stream",
     "text": [
      "multilayer_perceptron ran in: 0.0 sec\n",
      "multilayer_perceptron ran in: 0.0 sec\n",
      "multilayer_perceptron ran in: 0.0 sec\n",
      "multilayer_perceptron ran in: 0.0 sec\n",
      "multilayer_perceptron ran in: 0.0 sec\n",
      "multilayer_perceptron ran in: 0.004000663757324219 sec\n",
      "multilayer_perceptron ran in: 0.0 sec\n"
     ]
    },
    {
     "name": "stderr",
     "output_type": "stream",
     "text": [
      " 13%|█▎        | 72/560 [00:02<00:15, 31.58it/s]"
     ]
    },
    {
     "name": "stdout",
     "output_type": "stream",
     "text": [
      "multilayer_perceptron ran in: 0.003999948501586914 sec\n",
      "multilayer_perceptron ran in: 0.0 sec\n",
      "multilayer_perceptron ran in: 0.003998756408691406 sec\n",
      "multilayer_perceptron ran in: 0.0 sec\n",
      "multilayer_perceptron ran in: 0.0 sec\n",
      "multilayer_perceptron ran in: 0.0 sec\n"
     ]
    },
    {
     "name": "stderr",
     "output_type": "stream",
     "text": [
      " 14%|█▍        | 80/560 [00:02<00:14, 32.14it/s]"
     ]
    },
    {
     "name": "stdout",
     "output_type": "stream",
     "text": [
      "multilayer_perceptron ran in: 0.00400090217590332 sec\n",
      "multilayer_perceptron ran in: 0.0 sec\n",
      "multilayer_perceptron ran in: 0.0 sec\n",
      "multilayer_perceptron ran in: 0.0 sec\n",
      "multilayer_perceptron ran in: 0.003999471664428711 sec\n",
      "multilayer_perceptron ran in: 0.0 sec\n",
      "multilayer_perceptron ran in: 0.0 sec\n",
      "multilayer_perceptron ran in: 0.0 sec\n"
     ]
    },
    {
     "name": "stderr",
     "output_type": "stream",
     "text": [
      " 16%|█▌        | 88/560 [00:02<00:14, 32.29it/s]"
     ]
    },
    {
     "name": "stdout",
     "output_type": "stream",
     "text": [
      "multilayer_perceptron ran in: 0.0 sec\n",
      "multilayer_perceptron ran in: 0.0 sec\n",
      "multilayer_perceptron ran in: 0.0 sec\n",
      "multilayer_perceptron ran in: 0.0 sec\n",
      "multilayer_perceptron ran in: 0.003998994827270508 sec\n",
      "multilayer_perceptron ran in: 0.0 sec\n",
      "multilayer_perceptron ran in: 0.0039975643157958984 sec\n"
     ]
    },
    {
     "name": "stderr",
     "output_type": "stream",
     "text": [
      "\r",
      " 16%|█▋        | 92/560 [00:02<00:14, 32.28it/s]"
     ]
    },
    {
     "name": "stdout",
     "output_type": "stream",
     "text": [
      "multilayer_perceptron ran in: 0.0 sec\n",
      "multilayer_perceptron ran in: 0.0 sec\n",
      "multilayer_perceptron ran in: 0.0 sec\n",
      "multilayer_perceptron ran in: 0.0 sec\n",
      "multilayer_perceptron ran in: 0.0 sec\n",
      "multilayer_perceptron ran in: 0.00400090217590332 sec\n",
      "multilayer_perceptron ran in: 0.0 sec\n"
     ]
    },
    {
     "name": "stderr",
     "output_type": "stream",
     "text": [
      " 18%|█▊        | 100/560 [00:03<00:14, 31.18it/s]"
     ]
    },
    {
     "name": "stdout",
     "output_type": "stream",
     "text": [
      "multilayer_perceptron ran in: 0.003999471664428711 sec\n",
      "multilayer_perceptron ran in: 0.0 sec\n",
      "multilayer_perceptron ran in: 0.004000425338745117 sec\n",
      "multilayer_perceptron ran in: 0.0 sec\n",
      "multilayer_perceptron ran in: 0.003999471664428711 sec\n",
      "multilayer_perceptron ran in: 0.0 sec\n"
     ]
    },
    {
     "name": "stderr",
     "output_type": "stream",
     "text": [
      " 19%|█▉        | 108/560 [00:03<00:14, 30.90it/s]"
     ]
    },
    {
     "name": "stdout",
     "output_type": "stream",
     "text": [
      "multilayer_perceptron ran in: 0.0 sec\n",
      "multilayer_perceptron ran in: 0.0 sec\n",
      "multilayer_perceptron ran in: 0.0039980411529541016 sec\n",
      "multilayer_perceptron ran in: 0.004000663757324219 sec\n",
      "multilayer_perceptron ran in: 0.0 sec\n",
      "multilayer_perceptron ran in: 0.00400090217590332 sec\n",
      "multilayer_perceptron ran in: 0.004002571105957031 sec\n",
      "multilayer_perceptron ran in: 0.0 sec\n"
     ]
    },
    {
     "name": "stderr",
     "output_type": "stream",
     "text": [
      " 21%|██        | 116/560 [00:03<00:13, 32.09it/s]"
     ]
    },
    {
     "name": "stdout",
     "output_type": "stream",
     "text": [
      "multilayer_perceptron ran in: 0.0 sec\n",
      "multilayer_perceptron ran in: 0.004001140594482422 sec\n",
      "multilayer_perceptron ran in: 0.0 sec\n",
      "multilayer_perceptron ran in: 0.003998756408691406 sec\n",
      "multilayer_perceptron ran in: 0.0 sec\n",
      "multilayer_perceptron ran in: 0.0040013790130615234 sec\n"
     ]
    },
    {
     "name": "stderr",
     "output_type": "stream",
     "text": [
      "\r",
      " 21%|██▏       | 120/560 [00:03<00:13, 31.84it/s]"
     ]
    },
    {
     "name": "stdout",
     "output_type": "stream",
     "text": [
      "multilayer_perceptron ran in: 0.0 sec\n",
      "multilayer_perceptron ran in: 0.0 sec\n",
      "multilayer_perceptron ran in: 0.0 sec\n",
      "multilayer_perceptron ran in: 0.0 sec\n",
      "multilayer_perceptron ran in: 0.004002571105957031 sec\n",
      "multilayer_perceptron ran in: 0.0 sec\n"
     ]
    },
    {
     "name": "stderr",
     "output_type": "stream",
     "text": [
      " 23%|██▎       | 128/560 [00:04<00:13, 32.36it/s]"
     ]
    },
    {
     "name": "stdout",
     "output_type": "stream",
     "text": [
      "multilayer_perceptron ran in: 0.0 sec\n",
      "multilayer_perceptron ran in: 0.004001140594482422 sec\n",
      "multilayer_perceptron ran in: 0.004000425338745117 sec\n",
      "multilayer_perceptron ran in: 0.0 sec\n",
      "multilayer_perceptron ran in: 0.004000663757324219 sec\n",
      "multilayer_perceptron ran in: 0.0 sec\n",
      "multilayer_perceptron ran in: 0.0 sec\n"
     ]
    },
    {
     "name": "stderr",
     "output_type": "stream",
     "text": [
      " 24%|██▍       | 136/560 [00:04<00:12, 33.26it/s]"
     ]
    },
    {
     "name": "stdout",
     "output_type": "stream",
     "text": [
      "multilayer_perceptron ran in: 0.004002571105957031 sec\n",
      "multilayer_perceptron ran in: 0.0 sec\n",
      "multilayer_perceptron ran in: 0.00400090217590332 sec\n",
      "multilayer_perceptron ran in: 0.0 sec\n",
      "multilayer_perceptron ran in: 0.0 sec\n",
      "multilayer_perceptron ran in: 0.004000425338745117 sec\n",
      "multilayer_perceptron ran in: 0.0 sec\n"
     ]
    },
    {
     "name": "stderr",
     "output_type": "stream",
     "text": [
      "\r",
      " 25%|██▌       | 140/560 [00:04<00:12, 33.19it/s]"
     ]
    },
    {
     "name": "stdout",
     "output_type": "stream",
     "text": [
      "multilayer_perceptron ran in: 0.0040204524993896484 sec\n",
      "multilayer_perceptron ran in: 0.0 sec\n",
      "multilayer_perceptron ran in: 0.0 sec\n",
      "multilayer_perceptron ran in: 0.0 sec\n",
      "multilayer_perceptron ran in: 0.0 sec\n",
      "multilayer_perceptron ran in: 0.0039958953857421875 sec\n",
      "multilayer_perceptron ran in: 0.0 sec\n"
     ]
    },
    {
     "name": "stderr",
     "output_type": "stream",
     "text": [
      " 26%|██▋       | 148/560 [00:04<00:12, 32.95it/s]"
     ]
    },
    {
     "name": "stdout",
     "output_type": "stream",
     "text": [
      "multilayer_perceptron ran in: 0.0 sec\n",
      "multilayer_perceptron ran in: 0.0040013790130615234 sec\n",
      "multilayer_perceptron ran in: 0.00400090217590332 sec\n",
      "multilayer_perceptron ran in: 0.0 sec\n",
      "multilayer_perceptron ran in: 0.0 sec\n",
      "multilayer_perceptron ran in: 0.0 sec\n",
      "multilayer_perceptron ran in: 0.0 sec\n"
     ]
    },
    {
     "name": "stderr",
     "output_type": "stream",
     "text": [
      " 28%|██▊       | 156/560 [00:04<00:12, 32.78it/s]"
     ]
    },
    {
     "name": "stdout",
     "output_type": "stream",
     "text": [
      "multilayer_perceptron ran in: 0.003983497619628906 sec\n",
      "multilayer_perceptron ran in: 0.0 sec\n",
      "multilayer_perceptron ran in: 0.0 sec\n",
      "multilayer_perceptron ran in: 0.0 sec\n",
      "multilayer_perceptron ran in: 0.003999471664428711 sec\n",
      "multilayer_perceptron ran in: 0.0 sec\n"
     ]
    },
    {
     "name": "stderr",
     "output_type": "stream",
     "text": [
      "\r",
      " 29%|██▊       | 160/560 [00:05<00:12, 32.94it/s]"
     ]
    },
    {
     "name": "stdout",
     "output_type": "stream",
     "text": [
      "multilayer_perceptron ran in: 0.0 sec\n",
      "multilayer_perceptron ran in: 0.0 sec\n",
      "multilayer_perceptron ran in: 0.0 sec\n",
      "multilayer_perceptron ran in: 0.003992319107055664 sec\n",
      "multilayer_perceptron ran in: 0.0 sec\n",
      "multilayer_perceptron ran in: 0.0 sec\n",
      "multilayer_perceptron ran in: 0.003987312316894531 sec\n"
     ]
    },
    {
     "name": "stderr",
     "output_type": "stream",
     "text": [
      " 30%|███       | 168/560 [00:05<00:11, 33.35it/s]"
     ]
    },
    {
     "name": "stdout",
     "output_type": "stream",
     "text": [
      "multilayer_perceptron ran in: 0.0 sec\n",
      "multilayer_perceptron ran in: 0.004005908966064453 sec\n",
      "multilayer_perceptron ran in: 0.0 sec\n",
      "multilayer_perceptron ran in: 0.0 sec\n",
      "multilayer_perceptron ran in: 0.0 sec\n",
      "multilayer_perceptron ran in: 0.0 sec\n",
      "multilayer_perceptron ran in: 0.0 sec\n",
      "multilayer_perceptron ran in: 0.0 sec\n"
     ]
    },
    {
     "name": "stderr",
     "output_type": "stream",
     "text": [
      " 31%|███▏      | 176/560 [00:05<00:11, 33.21it/s]"
     ]
    },
    {
     "name": "stdout",
     "output_type": "stream",
     "text": [
      "multilayer_perceptron ran in: 0.0 sec\n",
      "multilayer_perceptron ran in: 0.0 sec\n",
      "multilayer_perceptron ran in: 0.0 sec\n",
      "multilayer_perceptron ran in: 0.003989219665527344 sec\n",
      "multilayer_perceptron ran in: 0.0 sec\n",
      "multilayer_perceptron ran in: 0.0 sec\n",
      "multilayer_perceptron ran in: 0.0 sec\n"
     ]
    },
    {
     "name": "stderr",
     "output_type": "stream",
     "text": [
      " 33%|███▎      | 184/560 [00:05<00:11, 33.61it/s]"
     ]
    },
    {
     "name": "stdout",
     "output_type": "stream",
     "text": [
      "multilayer_perceptron ran in: 0.003999471664428711 sec\n",
      "multilayer_perceptron ran in: 0.0 sec\n",
      "multilayer_perceptron ran in: 0.0 sec\n",
      "multilayer_perceptron ran in: 0.0 sec\n",
      "multilayer_perceptron ran in: 0.004005908966064453 sec\n",
      "multilayer_perceptron ran in: 0.0 sec\n",
      "multilayer_perceptron ran in: 0.0 sec\n"
     ]
    },
    {
     "name": "stderr",
     "output_type": "stream",
     "text": [
      "\r",
      " 34%|███▎      | 188/560 [00:05<00:11, 33.19it/s]"
     ]
    },
    {
     "name": "stdout",
     "output_type": "stream",
     "text": [
      "multilayer_perceptron ran in: 0.004002809524536133 sec\n",
      "multilayer_perceptron ran in: 0.0 sec\n",
      "multilayer_perceptron ran in: 0.0039899349212646484 sec\n",
      "multilayer_perceptron ran in: 0.004001140594482422 sec\n",
      "multilayer_perceptron ran in: 0.0 sec\n",
      "multilayer_perceptron ran in: 0.0 sec\n"
     ]
    },
    {
     "name": "stderr",
     "output_type": "stream",
     "text": [
      " 35%|███▌      | 196/560 [00:06<00:11, 32.05it/s]"
     ]
    },
    {
     "name": "stdout",
     "output_type": "stream",
     "text": [
      "multilayer_perceptron ran in: 0.004014730453491211 sec\n",
      "multilayer_perceptron ran in: 0.004015684127807617 sec\n",
      "multilayer_perceptron ran in: 0.0039865970611572266 sec\n",
      "multilayer_perceptron ran in: 0.003998517990112305 sec\n",
      "multilayer_perceptron ran in: 0.004001140594482422 sec\n",
      "multilayer_perceptron ran in: 0.0 sec\n",
      "multilayer_perceptron ran in: 0.004013776779174805 sec\n"
     ]
    },
    {
     "name": "stderr",
     "output_type": "stream",
     "text": [
      " 36%|███▋      | 204/560 [00:06<00:10, 32.52it/s]"
     ]
    },
    {
     "name": "stdout",
     "output_type": "stream",
     "text": [
      "multilayer_perceptron ran in: 0.0040166378021240234 sec\n",
      "multilayer_perceptron ran in: 0.0 sec\n",
      "multilayer_perceptron ran in: 0.0 sec\n",
      "multilayer_perceptron ran in: 0.003999471664428711 sec\n",
      "multilayer_perceptron ran in: 0.0 sec\n",
      "multilayer_perceptron ran in: 0.0 sec\n",
      "multilayer_perceptron ran in: 0.0 sec\n",
      "multilayer_perceptron ran in: 0.0 sec\n"
     ]
    },
    {
     "name": "stderr",
     "output_type": "stream",
     "text": [
      " 38%|███▊      | 212/560 [00:06<00:10, 33.26it/s]"
     ]
    },
    {
     "name": "stdout",
     "output_type": "stream",
     "text": [
      "multilayer_perceptron ran in: 0.0 sec\n",
      "multilayer_perceptron ran in: 0.0 sec\n",
      "multilayer_perceptron ran in: 0.0039827823638916016 sec\n",
      "multilayer_perceptron ran in: 0.0 sec\n",
      "multilayer_perceptron ran in: 0.0039997100830078125 sec\n",
      "multilayer_perceptron ran in: 0.0 sec\n",
      "multilayer_perceptron ran in: 0.0 sec\n"
     ]
    },
    {
     "name": "stderr",
     "output_type": "stream",
     "text": [
      "\r",
      " 39%|███▊      | 216/560 [00:06<00:10, 33.51it/s]"
     ]
    },
    {
     "name": "stdout",
     "output_type": "stream",
     "text": [
      "multilayer_perceptron ran in: 0.004000663757324219 sec\n",
      "multilayer_perceptron ran in: 0.0 sec\n",
      "multilayer_perceptron ran in: 0.0 sec\n",
      "multilayer_perceptron ran in: 0.0 sec\n",
      "multilayer_perceptron ran in: 0.0 sec\n",
      "multilayer_perceptron ran in: 0.0 sec\n",
      "multilayer_perceptron ran in: 0.0 sec\n"
     ]
    },
    {
     "name": "stderr",
     "output_type": "stream",
     "text": [
      " 40%|████      | 224/560 [00:06<00:10, 32.88it/s]"
     ]
    },
    {
     "name": "stdout",
     "output_type": "stream",
     "text": [
      "multilayer_perceptron ran in: 0.0 sec\n",
      "multilayer_perceptron ran in: 0.0 sec\n",
      "multilayer_perceptron ran in: 0.0 sec\n",
      "multilayer_perceptron ran in: 0.004006862640380859 sec\n",
      "multilayer_perceptron ran in: 0.0 sec\n",
      "multilayer_perceptron ran in: 0.0 sec\n",
      "multilayer_perceptron ran in: 0.004002571105957031 sec\n"
     ]
    },
    {
     "name": "stderr",
     "output_type": "stream",
     "text": [
      " 41%|████▏     | 232/560 [00:07<00:10, 32.42it/s]"
     ]
    },
    {
     "name": "stdout",
     "output_type": "stream",
     "text": [
      "multilayer_perceptron ran in: 0.0 sec\n",
      "multilayer_perceptron ran in: 0.0 sec\n",
      "multilayer_perceptron ran in: 0.0 sec\n",
      "multilayer_perceptron ran in: 0.0 sec\n",
      "multilayer_perceptron ran in: 0.003998756408691406 sec\n",
      "multilayer_perceptron ran in: 0.0 sec\n",
      "multilayer_perceptron ran in: 0.00400090217590332 sec\n"
     ]
    },
    {
     "name": "stderr",
     "output_type": "stream",
     "text": [
      " 43%|████▎     | 240/560 [00:07<00:09, 32.56it/s]"
     ]
    },
    {
     "name": "stdout",
     "output_type": "stream",
     "text": [
      "multilayer_perceptron ran in: 0.0 sec\n",
      "multilayer_perceptron ran in: 0.0 sec\n",
      "multilayer_perceptron ran in: 0.0040013790130615234 sec\n",
      "multilayer_perceptron ran in: 0.004003286361694336 sec\n",
      "multilayer_perceptron ran in: 0.0 sec\n",
      "multilayer_perceptron ran in: 0.0039997100830078125 sec\n",
      "multilayer_perceptron ran in: 0.0 sec\n"
     ]
    },
    {
     "name": "stderr",
     "output_type": "stream",
     "text": [
      "\r",
      " 44%|████▎     | 244/560 [00:07<00:09, 32.59it/s]"
     ]
    },
    {
     "name": "stdout",
     "output_type": "stream",
     "text": [
      "multilayer_perceptron ran in: 0.0040018558502197266 sec\n",
      "multilayer_perceptron ran in: 0.004001140594482422 sec\n",
      "multilayer_perceptron ran in: 0.0 sec\n",
      "multilayer_perceptron ran in: 0.004014015197753906 sec\n",
      "multilayer_perceptron ran in: 0.0 sec\n",
      "multilayer_perceptron ran in: 0.0 sec\n"
     ]
    },
    {
     "name": "stderr",
     "output_type": "stream",
     "text": [
      " 45%|████▌     | 252/560 [00:07<00:09, 33.11it/s]"
     ]
    },
    {
     "name": "stdout",
     "output_type": "stream",
     "text": [
      "multilayer_perceptron ran in: 0.003999233245849609 sec\n",
      "multilayer_perceptron ran in: 0.0 sec\n",
      "multilayer_perceptron ran in: 0.0039997100830078125 sec\n",
      "multilayer_perceptron ran in: 0.0 sec\n",
      "multilayer_perceptron ran in: 0.0 sec\n",
      "multilayer_perceptron ran in: 0.003996372222900391 sec\n",
      "multilayer_perceptron ran in: 0.004000186920166016 sec\n"
     ]
    },
    {
     "name": "stderr",
     "output_type": "stream",
     "text": [
      " 46%|████▋     | 260/560 [00:08<00:09, 33.18it/s]"
     ]
    },
    {
     "name": "stdout",
     "output_type": "stream",
     "text": [
      "multilayer_perceptron ran in: 0.0 sec\n",
      "multilayer_perceptron ran in: 0.0 sec\n",
      "multilayer_perceptron ran in: 0.0 sec\n",
      "multilayer_perceptron ran in: 0.0039997100830078125 sec\n",
      "multilayer_perceptron ran in: 0.0 sec\n",
      "multilayer_perceptron ran in: 0.0039997100830078125 sec\n"
     ]
    },
    {
     "name": "stderr",
     "output_type": "stream",
     "text": [
      "\r",
      " 47%|████▋     | 264/560 [00:08<00:08, 33.22it/s]"
     ]
    },
    {
     "name": "stdout",
     "output_type": "stream",
     "text": [
      "multilayer_perceptron ran in: 0.003996849060058594 sec\n",
      "multilayer_perceptron ran in: 0.0 sec\n",
      "multilayer_perceptron ran in: 0.0 sec\n",
      "multilayer_perceptron ran in: 0.0 sec\n",
      "multilayer_perceptron ran in: 0.004000663757324219 sec\n",
      "multilayer_perceptron ran in: 0.0 sec\n",
      "multilayer_perceptron ran in: 0.0 sec\n"
     ]
    },
    {
     "name": "stderr",
     "output_type": "stream",
     "text": [
      " 49%|████▊     | 272/560 [00:08<00:08, 34.02it/s]"
     ]
    },
    {
     "name": "stdout",
     "output_type": "stream",
     "text": [
      "multilayer_perceptron ran in: 0.003999471664428711 sec\n",
      "multilayer_perceptron ran in: 0.0 sec\n",
      "multilayer_perceptron ran in: 0.0 sec\n",
      "multilayer_perceptron ran in: 0.0 sec\n",
      "multilayer_perceptron ran in: 0.0 sec\n",
      "multilayer_perceptron ran in: 0.004003286361694336 sec\n",
      "multilayer_perceptron ran in: 0.0 sec\n",
      "multilayer_perceptron ran in: 0.0 sec\n"
     ]
    },
    {
     "name": "stderr",
     "output_type": "stream",
     "text": [
      " 50%|█████     | 280/560 [00:08<00:08, 33.69it/s]"
     ]
    },
    {
     "name": "stdout",
     "output_type": "stream",
     "text": [
      "multilayer_perceptron ran in: 0.004000425338745117 sec\n",
      "multilayer_perceptron ran in: 0.0 sec\n",
      "multilayer_perceptron ran in: 0.0 sec\n",
      "multilayer_perceptron ran in: 0.004012107849121094 sec\n",
      "multilayer_perceptron ran in: 0.0 sec\n",
      "multilayer_perceptron ran in: 0.004013538360595703 sec\n",
      "multilayer_perceptron ran in: 0.0 sec\n"
     ]
    },
    {
     "name": "stderr",
     "output_type": "stream",
     "text": [
      " 51%|█████▏    | 288/560 [00:08<00:08, 33.28it/s]"
     ]
    },
    {
     "name": "stdout",
     "output_type": "stream",
     "text": [
      "multilayer_perceptron ran in: 0.0 sec\n",
      "multilayer_perceptron ran in: 0.0 sec\n",
      "multilayer_perceptron ran in: 0.0 sec\n",
      "multilayer_perceptron ran in: 0.0 sec\n",
      "multilayer_perceptron ran in: 0.003998517990112305 sec\n",
      "multilayer_perceptron ran in: 0.0 sec\n",
      "multilayer_perceptron ran in: 0.0 sec\n",
      "multilayer_perceptron ran in: 0.0 sec\n"
     ]
    },
    {
     "name": "stderr",
     "output_type": "stream",
     "text": [
      " 53%|█████▎    | 296/560 [00:09<00:07, 33.53it/s]"
     ]
    },
    {
     "name": "stdout",
     "output_type": "stream",
     "text": [
      "multilayer_perceptron ran in: 0.003999471664428711 sec\n",
      "multilayer_perceptron ran in: 0.0 sec\n",
      "multilayer_perceptron ran in: 0.0 sec\n",
      "multilayer_perceptron ran in: 0.003999948501586914 sec\n",
      "multilayer_perceptron ran in: 0.0 sec\n",
      "multilayer_perceptron ran in: 0.0 sec\n",
      "multilayer_perceptron ran in: 0.0 sec\n",
      "multilayer_perceptron ran in: 0.0 sec\n"
     ]
    },
    {
     "name": "stderr",
     "output_type": "stream",
     "text": [
      " 54%|█████▍    | 304/560 [00:09<00:07, 33.71it/s]"
     ]
    },
    {
     "name": "stdout",
     "output_type": "stream",
     "text": [
      "multilayer_perceptron ran in: 0.0 sec\n",
      "multilayer_perceptron ran in: 0.004001140594482422 sec\n",
      "multilayer_perceptron ran in: 0.0 sec\n",
      "multilayer_perceptron ran in: 0.0 sec\n",
      "multilayer_perceptron ran in: 0.0 sec\n",
      "multilayer_perceptron ran in: 0.0 sec\n",
      "multilayer_perceptron ran in: 0.0 sec\n",
      "multilayer_perceptron ran in: 0.0 sec\n"
     ]
    },
    {
     "name": "stderr",
     "output_type": "stream",
     "text": [
      " 56%|█████▌    | 312/560 [00:09<00:07, 34.23it/s]"
     ]
    },
    {
     "name": "stdout",
     "output_type": "stream",
     "text": [
      "multilayer_perceptron ran in: 0.0 sec\n",
      "multilayer_perceptron ran in: 0.003998756408691406 sec\n",
      "multilayer_perceptron ran in: 0.0 sec\n",
      "multilayer_perceptron ran in: 0.0 sec\n",
      "multilayer_perceptron ran in: 0.0 sec\n",
      "multilayer_perceptron ran in: 0.004000425338745117 sec\n",
      "multilayer_perceptron ran in: 0.0 sec\n",
      "multilayer_perceptron ran in: 0.0 sec\n"
     ]
    },
    {
     "name": "stderr",
     "output_type": "stream",
     "text": [
      " 57%|█████▋    | 320/560 [00:09<00:07, 33.88it/s]"
     ]
    },
    {
     "name": "stdout",
     "output_type": "stream",
     "text": [
      "multilayer_perceptron ran in: 0.0 sec\n",
      "multilayer_perceptron ran in: 0.0 sec\n",
      "multilayer_perceptron ran in: 0.0 sec\n",
      "multilayer_perceptron ran in: 0.0 sec\n",
      "multilayer_perceptron ran in: 0.004005908966064453 sec\n",
      "multilayer_perceptron ran in: 0.0040013790130615234 sec\n",
      "multilayer_perceptron ran in: 0.0 sec\n",
      "multilayer_perceptron ran in: 0.0 sec\n"
     ]
    },
    {
     "name": "stderr",
     "output_type": "stream",
     "text": [
      " 59%|█████▊    | 328/560 [00:10<00:06, 34.26it/s]"
     ]
    },
    {
     "name": "stdout",
     "output_type": "stream",
     "text": [
      "multilayer_perceptron ran in: 0.004000425338745117 sec\n",
      "multilayer_perceptron ran in: 0.00400090217590332 sec\n",
      "multilayer_perceptron ran in: 0.003996133804321289 sec\n",
      "multilayer_perceptron ran in: 0.0 sec\n",
      "multilayer_perceptron ran in: 0.0 sec\n",
      "multilayer_perceptron ran in: 0.0 sec\n",
      "multilayer_perceptron ran in: 0.0 sec\n"
     ]
    },
    {
     "name": "stderr",
     "output_type": "stream",
     "text": [
      "\r",
      " 59%|█████▉    | 332/560 [00:10<00:06, 34.13it/s]"
     ]
    },
    {
     "name": "stdout",
     "output_type": "stream",
     "text": [
      "multilayer_perceptron ran in: 0.0 sec\n",
      "multilayer_perceptron ran in: 0.0 sec\n",
      "multilayer_perceptron ran in: 0.0 sec\n",
      "multilayer_perceptron ran in: 0.003999948501586914 sec\n",
      "multilayer_perceptron ran in: 0.004000186920166016 sec\n",
      "multilayer_perceptron ran in: 0.0 sec\n",
      "multilayer_perceptron ran in: 0.0 sec\n"
     ]
    },
    {
     "name": "stderr",
     "output_type": "stream",
     "text": [
      " 61%|██████    | 340/560 [00:10<00:06, 34.23it/s]"
     ]
    },
    {
     "name": "stdout",
     "output_type": "stream",
     "text": [
      "multilayer_perceptron ran in: 0.0 sec\n",
      "multilayer_perceptron ran in: 0.0 sec\n",
      "multilayer_perceptron ran in: 0.003999471664428711 sec\n",
      "multilayer_perceptron ran in: 0.004000425338745117 sec\n",
      "multilayer_perceptron ran in: 0.0 sec\n",
      "multilayer_perceptron ran in: 0.0 sec\n",
      "multilayer_perceptron ran in: 0.0 sec\n"
     ]
    },
    {
     "name": "stderr",
     "output_type": "stream",
     "text": [
      " 62%|██████▏   | 348/560 [00:10<00:06, 34.46it/s]"
     ]
    },
    {
     "name": "stdout",
     "output_type": "stream",
     "text": [
      "multilayer_perceptron ran in: 0.0 sec\n",
      "multilayer_perceptron ran in: 0.00400233268737793 sec\n",
      "multilayer_perceptron ran in: 0.0 sec\n",
      "multilayer_perceptron ran in: 0.0 sec\n",
      "multilayer_perceptron ran in: 0.0 sec\n",
      "multilayer_perceptron ran in: 0.0 sec\n",
      "multilayer_perceptron ran in: 0.003998994827270508 sec\n"
     ]
    },
    {
     "name": "stderr",
     "output_type": "stream",
     "text": [
      " 64%|██████▎   | 356/560 [00:10<00:05, 34.47it/s]"
     ]
    },
    {
     "name": "stdout",
     "output_type": "stream",
     "text": [
      "multilayer_perceptron ran in: 0.0 sec\n",
      "multilayer_perceptron ran in: 0.0 sec\n",
      "multilayer_perceptron ran in: 0.0 sec\n",
      "multilayer_perceptron ran in: 0.0 sec\n",
      "multilayer_perceptron ran in: 0.0 sec\n",
      "multilayer_perceptron ran in: 0.004000425338745117 sec\n",
      "multilayer_perceptron ran in: 0.004000663757324219 sec\n"
     ]
    },
    {
     "name": "stderr",
     "output_type": "stream",
     "text": [
      " 65%|██████▌   | 364/560 [00:11<00:05, 34.39it/s]"
     ]
    },
    {
     "name": "stdout",
     "output_type": "stream",
     "text": [
      "multilayer_perceptron ran in: 0.0 sec\n",
      "multilayer_perceptron ran in: 0.0 sec\n",
      "multilayer_perceptron ran in: 0.0 sec\n",
      "multilayer_perceptron ran in: 0.003998756408691406 sec\n",
      "multilayer_perceptron ran in: 0.003999471664428711 sec\n",
      "multilayer_perceptron ran in: 0.0 sec\n",
      "multilayer_perceptron ran in: 0.0 sec\n"
     ]
    },
    {
     "name": "stderr",
     "output_type": "stream",
     "text": [
      "\r",
      " 66%|██████▌   | 368/560 [00:11<00:05, 34.14it/s]"
     ]
    },
    {
     "name": "stdout",
     "output_type": "stream",
     "text": [
      "multilayer_perceptron ran in: 0.0 sec\n",
      "multilayer_perceptron ran in: 0.0040013790130615234 sec\n",
      "multilayer_perceptron ran in: 0.0 sec\n",
      "multilayer_perceptron ran in: 0.0 sec\n",
      "multilayer_perceptron ran in: 0.0 sec\n",
      "multilayer_perceptron ran in: 0.0 sec\n",
      "multilayer_perceptron ran in: 0.0 sec\n"
     ]
    },
    {
     "name": "stderr",
     "output_type": "stream",
     "text": [
      " 67%|██████▋   | 376/560 [00:11<00:05, 34.32it/s]"
     ]
    },
    {
     "name": "stdout",
     "output_type": "stream",
     "text": [
      "multilayer_perceptron ran in: 0.0 sec\n",
      "multilayer_perceptron ran in: 0.004022359848022461 sec\n",
      "multilayer_perceptron ran in: 0.0 sec\n",
      "multilayer_perceptron ran in: 0.0 sec\n",
      "multilayer_perceptron ran in: 0.0 sec\n",
      "multilayer_perceptron ran in: 0.004003286361694336 sec\n",
      "multilayer_perceptron ran in: 0.003996610641479492 sec\n",
      "multilayer_perceptron ran in: 0.0 sec\n"
     ]
    },
    {
     "name": "stderr",
     "output_type": "stream",
     "text": [
      " 69%|██████▊   | 384/560 [00:11<00:05, 34.33it/s]"
     ]
    },
    {
     "name": "stdout",
     "output_type": "stream",
     "text": [
      "multilayer_perceptron ran in: 0.0039882659912109375 sec\n",
      "multilayer_perceptron ran in: 0.0 sec\n",
      "multilayer_perceptron ran in: 0.0 sec\n",
      "multilayer_perceptron ran in: 0.0 sec\n",
      "multilayer_perceptron ran in: 0.0 sec\n",
      "multilayer_perceptron ran in: 0.0 sec\n",
      "multilayer_perceptron ran in: 0.0 sec\n"
     ]
    },
    {
     "name": "stderr",
     "output_type": "stream",
     "text": [
      " 70%|███████   | 392/560 [00:11<00:04, 34.51it/s]"
     ]
    },
    {
     "name": "stdout",
     "output_type": "stream",
     "text": [
      "multilayer_perceptron ran in: 0.0 sec\n",
      "multilayer_perceptron ran in: 0.0 sec\n",
      "multilayer_perceptron ran in: 0.0039975643157958984 sec\n",
      "multilayer_perceptron ran in: 0.004001140594482422 sec\n",
      "multilayer_perceptron ran in: 0.003999233245849609 sec\n",
      "multilayer_perceptron ran in: 0.004000186920166016 sec\n",
      "multilayer_perceptron ran in: 0.0 sec\n",
      "multilayer_perceptron ran in: 0.0 sec\n"
     ]
    },
    {
     "name": "stderr",
     "output_type": "stream",
     "text": [
      " 71%|███████▏  | 400/560 [00:12<00:04, 34.50it/s]"
     ]
    },
    {
     "name": "stdout",
     "output_type": "stream",
     "text": [
      "multilayer_perceptron ran in: 0.0 sec\n",
      "multilayer_perceptron ran in: 0.0 sec\n",
      "multilayer_perceptron ran in: 0.0039997100830078125 sec\n",
      "multilayer_perceptron ran in: 0.0 sec\n",
      "multilayer_perceptron ran in: 0.0 sec\n",
      "multilayer_perceptron ran in: 0.0 sec\n",
      "multilayer_perceptron ran in: 0.003998756408691406 sec\n",
      "multilayer_perceptron ran in: 0.003998756408691406 sec\n"
     ]
    },
    {
     "name": "stderr",
     "output_type": "stream",
     "text": [
      " 73%|███████▎  | 408/560 [00:12<00:04, 34.82it/s]"
     ]
    },
    {
     "name": "stdout",
     "output_type": "stream",
     "text": [
      "multilayer_perceptron ran in: 0.0 sec\n",
      "multilayer_perceptron ran in: 0.0 sec\n",
      "multilayer_perceptron ran in: 0.0010008811950683594 sec\n",
      "multilayer_perceptron ran in: 0.0 sec\n",
      "multilayer_perceptron ran in: 0.0 sec\n",
      "multilayer_perceptron ran in: 0.0 sec\n",
      "multilayer_perceptron ran in: 0.0 sec\n",
      "multilayer_perceptron ran in: 0.0 sec\n"
     ]
    },
    {
     "name": "stderr",
     "output_type": "stream",
     "text": [
      " 74%|███████▍  | 416/560 [00:12<00:04, 34.65it/s]"
     ]
    },
    {
     "name": "stdout",
     "output_type": "stream",
     "text": [
      "multilayer_perceptron ran in: 0.0 sec\n",
      "multilayer_perceptron ran in: 0.0 sec\n",
      "multilayer_perceptron ran in: 0.004004955291748047 sec\n",
      "multilayer_perceptron ran in: 0.004000186920166016 sec\n",
      "multilayer_perceptron ran in: 0.0 sec\n",
      "multilayer_perceptron ran in: 0.0 sec\n",
      "multilayer_perceptron ran in: 0.0 sec\n"
     ]
    },
    {
     "name": "stderr",
     "output_type": "stream",
     "text": [
      " 76%|███████▌  | 424/560 [00:12<00:03, 34.44it/s]"
     ]
    },
    {
     "name": "stdout",
     "output_type": "stream",
     "text": [
      "multilayer_perceptron ran in: 0.0 sec\n",
      "multilayer_perceptron ran in: 0.004000186920166016 sec\n",
      "multilayer_perceptron ran in: 0.003999471664428711 sec\n",
      "multilayer_perceptron ran in: 0.0 sec\n",
      "multilayer_perceptron ran in: 0.003998994827270508 sec\n",
      "multilayer_perceptron ran in: 0.0 sec\n",
      "multilayer_perceptron ran in: 0.0 sec\n"
     ]
    },
    {
     "name": "stderr",
     "output_type": "stream",
     "text": [
      "\r",
      " 76%|███████▋  | 428/560 [00:12<00:03, 34.45it/s]"
     ]
    },
    {
     "name": "stdout",
     "output_type": "stream",
     "text": [
      "multilayer_perceptron ran in: 0.004021167755126953 sec\n",
      "multilayer_perceptron ran in: 0.0 sec\n",
      "multilayer_perceptron ran in: 0.0 sec\n",
      "multilayer_perceptron ran in: 0.0 sec\n",
      "multilayer_perceptron ran in: 0.0 sec\n",
      "multilayer_perceptron ran in: 0.0 sec\n",
      "multilayer_perceptron ran in: 0.0 sec\n"
     ]
    },
    {
     "name": "stderr",
     "output_type": "stream",
     "text": [
      " 78%|███████▊  | 436/560 [00:13<00:03, 34.49it/s]"
     ]
    },
    {
     "name": "stdout",
     "output_type": "stream",
     "text": [
      "multilayer_perceptron ran in: 0.004019021987915039 sec\n",
      "multilayer_perceptron ran in: 0.0 sec\n",
      "multilayer_perceptron ran in: 0.0 sec\n",
      "multilayer_perceptron ran in: 0.0 sec\n",
      "multilayer_perceptron ran in: 0.0 sec\n",
      "multilayer_perceptron ran in: 0.0 sec\n",
      "multilayer_perceptron ran in: 0.003987312316894531 sec\n"
     ]
    },
    {
     "name": "stderr",
     "output_type": "stream",
     "text": [
      " 79%|███████▉  | 444/560 [00:13<00:03, 34.60it/s]"
     ]
    },
    {
     "name": "stdout",
     "output_type": "stream",
     "text": [
      "multilayer_perceptron ran in: 0.004000186920166016 sec\n",
      "multilayer_perceptron ran in: 0.0 sec\n",
      "multilayer_perceptron ran in: 0.003996372222900391 sec\n",
      "multilayer_perceptron ran in: 0.0039997100830078125 sec\n",
      "multilayer_perceptron ran in: 0.0 sec\n",
      "multilayer_perceptron ran in: 0.003999948501586914 sec\n",
      "multilayer_perceptron ran in: 0.003998279571533203 sec\n"
     ]
    },
    {
     "name": "stderr",
     "output_type": "stream",
     "text": [
      " 81%|████████  | 452/560 [00:13<00:03, 34.55it/s]"
     ]
    },
    {
     "name": "stdout",
     "output_type": "stream",
     "text": [
      "multilayer_perceptron ran in: 0.0 sec\n",
      "multilayer_perceptron ran in: 0.0040018558502197266 sec\n",
      "multilayer_perceptron ran in: 0.0 sec\n",
      "multilayer_perceptron ran in: 0.0 sec\n",
      "multilayer_perceptron ran in: 0.0 sec\n",
      "multilayer_perceptron ran in: 0.004001140594482422 sec\n",
      "multilayer_perceptron ran in: 0.0 sec\n"
     ]
    },
    {
     "name": "stderr",
     "output_type": "stream",
     "text": [
      "\r",
      " 81%|████████▏ | 456/560 [00:13<00:03, 33.96it/s]"
     ]
    },
    {
     "name": "stdout",
     "output_type": "stream",
     "text": [
      "multilayer_perceptron ran in: 0.0 sec\n",
      "multilayer_perceptron ran in: 0.0 sec\n",
      "multilayer_perceptron ran in: 0.003999233245849609 sec\n",
      "multilayer_perceptron ran in: 0.0 sec\n",
      "multilayer_perceptron ran in: 0.0 sec\n",
      "multilayer_perceptron ran in: 0.0 sec\n",
      "multilayer_perceptron ran in: 0.0 sec\n"
     ]
    },
    {
     "name": "stderr",
     "output_type": "stream",
     "text": [
      " 83%|████████▎ | 464/560 [00:14<00:02, 34.25it/s]"
     ]
    },
    {
     "name": "stdout",
     "output_type": "stream",
     "text": [
      "multilayer_perceptron ran in: 0.0 sec\n",
      "multilayer_perceptron ran in: 0.0 sec\n",
      "multilayer_perceptron ran in: 0.0 sec\n",
      "multilayer_perceptron ran in: 0.00400090217590332 sec\n",
      "multilayer_perceptron ran in: 0.004000186920166016 sec\n",
      "multilayer_perceptron ran in: 0.0 sec\n",
      "multilayer_perceptron ran in: 0.0 sec\n",
      "multilayer_perceptron ran in: 0.0 sec\n"
     ]
    },
    {
     "name": "stderr",
     "output_type": "stream",
     "text": [
      " 84%|████████▍ | 472/560 [00:14<00:02, 34.37it/s]"
     ]
    },
    {
     "name": "stdout",
     "output_type": "stream",
     "text": [
      "multilayer_perceptron ran in: 0.0 sec\n",
      "multilayer_perceptron ran in: 0.003999233245849609 sec\n",
      "multilayer_perceptron ran in: 0.003997802734375 sec\n",
      "multilayer_perceptron ran in: 0.004003047943115234 sec\n",
      "multilayer_perceptron ran in: 0.004015207290649414 sec\n",
      "multilayer_perceptron ran in: 0.0 sec\n",
      "multilayer_perceptron ran in: 0.0040013790130615234 sec\n"
     ]
    },
    {
     "name": "stderr",
     "output_type": "stream",
     "text": [
      " 86%|████████▌ | 480/560 [00:14<00:02, 34.43it/s]"
     ]
    },
    {
     "name": "stdout",
     "output_type": "stream",
     "text": [
      "multilayer_perceptron ran in: 0.003999948501586914 sec\n",
      "multilayer_perceptron ran in: 0.0 sec\n",
      "multilayer_perceptron ran in: 0.004004716873168945 sec\n",
      "multilayer_perceptron ran in: 0.003999948501586914 sec\n",
      "multilayer_perceptron ran in: 0.003999948501586914 sec\n",
      "multilayer_perceptron ran in: 0.0 sec\n",
      "multilayer_perceptron ran in: 0.0 sec\n",
      "multilayer_perceptron ran in: 0.0 sec\n"
     ]
    },
    {
     "name": "stderr",
     "output_type": "stream",
     "text": [
      " 87%|████████▋ | 488/560 [00:14<00:02, 34.44it/s]"
     ]
    },
    {
     "name": "stdout",
     "output_type": "stream",
     "text": [
      "multilayer_perceptron ran in: 0.0 sec\n",
      "multilayer_perceptron ran in: 0.0 sec\n",
      "multilayer_perceptron ran in: 0.003996849060058594 sec\n",
      "multilayer_perceptron ran in: 0.0039997100830078125 sec\n",
      "multilayer_perceptron ran in: 0.003998756408691406 sec\n",
      "multilayer_perceptron ran in: 0.0 sec\n",
      "multilayer_perceptron ran in: 0.0 sec\n"
     ]
    },
    {
     "name": "stderr",
     "output_type": "stream",
     "text": [
      "\r",
      " 88%|████████▊ | 492/560 [00:14<00:01, 34.10it/s]"
     ]
    },
    {
     "name": "stdout",
     "output_type": "stream",
     "text": [
      "multilayer_perceptron ran in: 0.0 sec\n",
      "multilayer_perceptron ran in: 0.0040051937103271484 sec\n",
      "multilayer_perceptron ran in: 0.0039997100830078125 sec\n",
      "multilayer_perceptron ran in: 0.0 sec\n",
      "multilayer_perceptron ran in: 0.0 sec\n",
      "multilayer_perceptron ran in: 0.0 sec\n",
      "multilayer_perceptron ran in: 0.0 sec\n"
     ]
    },
    {
     "name": "stderr",
     "output_type": "stream",
     "text": [
      " 89%|████████▉ | 500/560 [00:15<00:01, 34.12it/s]"
     ]
    },
    {
     "name": "stdout",
     "output_type": "stream",
     "text": [
      "multilayer_perceptron ran in: 0.004000425338745117 sec\n",
      "multilayer_perceptron ran in: 0.004000186920166016 sec\n",
      "multilayer_perceptron ran in: 0.0 sec\n",
      "multilayer_perceptron ran in: 0.0 sec\n",
      "multilayer_perceptron ran in: 0.0 sec\n",
      "multilayer_perceptron ran in: 0.0 sec\n",
      "multilayer_perceptron ran in: 0.0 sec\n"
     ]
    },
    {
     "name": "stderr",
     "output_type": "stream",
     "text": [
      " 91%|█████████ | 508/560 [00:15<00:01, 34.45it/s]"
     ]
    },
    {
     "name": "stdout",
     "output_type": "stream",
     "text": [
      "multilayer_perceptron ran in: 0.0 sec\n",
      "multilayer_perceptron ran in: 0.0 sec\n",
      "multilayer_perceptron ran in: 0.0 sec\n",
      "multilayer_perceptron ran in: 0.0 sec\n",
      "multilayer_perceptron ran in: 0.0 sec\n",
      "multilayer_perceptron ran in: 0.0 sec\n",
      "multilayer_perceptron ran in: 0.0 sec\n"
     ]
    },
    {
     "name": "stderr",
     "output_type": "stream",
     "text": [
      " 92%|█████████▏| 516/560 [00:15<00:01, 34.60it/s]"
     ]
    },
    {
     "name": "stdout",
     "output_type": "stream",
     "text": [
      "multilayer_perceptron ran in: 0.004000186920166016 sec\n",
      "multilayer_perceptron ran in: 0.0 sec\n",
      "multilayer_perceptron ran in: 0.0 sec\n",
      "multilayer_perceptron ran in: 0.0 sec\n",
      "multilayer_perceptron ran in: 0.0 sec\n",
      "multilayer_perceptron ran in: 0.0 sec\n",
      "multilayer_perceptron ran in: 0.0 sec\n"
     ]
    },
    {
     "name": "stderr",
     "output_type": "stream",
     "text": [
      "\r",
      " 93%|█████████▎| 520/560 [00:15<00:01, 34.69it/s]"
     ]
    },
    {
     "name": "stdout",
     "output_type": "stream",
     "text": [
      "multilayer_perceptron ran in: 0.00400996208190918 sec\n",
      "multilayer_perceptron ran in: 0.004001617431640625 sec\n",
      "multilayer_perceptron ran in: 0.0 sec\n",
      "multilayer_perceptron ran in: 0.003998279571533203 sec\n",
      "multilayer_perceptron ran in: 0.0 sec\n",
      "multilayer_perceptron ran in: 0.004000186920166016 sec\n",
      "multilayer_perceptron ran in: 0.004000186920166016 sec\n"
     ]
    },
    {
     "name": "stderr",
     "output_type": "stream",
     "text": [
      " 94%|█████████▍| 528/560 [00:15<00:00, 34.42it/s]"
     ]
    },
    {
     "name": "stdout",
     "output_type": "stream",
     "text": [
      "multilayer_perceptron ran in: 0.0 sec\n",
      "multilayer_perceptron ran in: 0.0 sec\n",
      "multilayer_perceptron ran in: 0.0 sec\n",
      "multilayer_perceptron ran in: 0.0 sec\n",
      "multilayer_perceptron ran in: 0.0 sec\n",
      "multilayer_perceptron ran in: 0.0 sec\n",
      "multilayer_perceptron ran in: 0.004000663757324219 sec\n",
      "multilayer_perceptron ran in: 0.0 sec\n"
     ]
    },
    {
     "name": "stderr",
     "output_type": "stream",
     "text": [
      " 96%|█████████▌| 536/560 [00:16<00:00, 34.50it/s]"
     ]
    },
    {
     "name": "stdout",
     "output_type": "stream",
     "text": [
      "multilayer_perceptron ran in: 0.0 sec\n",
      "multilayer_perceptron ran in: 0.004001140594482422 sec\n",
      "multilayer_perceptron ran in: 0.0 sec\n",
      "multilayer_perceptron ran in: 0.004000663757324219 sec\n",
      "multilayer_perceptron ran in: 0.003991365432739258 sec\n",
      "multilayer_perceptron ran in: 0.004006147384643555 sec\n",
      "multilayer_perceptron ran in: 0.0039997100830078125 sec\n"
     ]
    },
    {
     "name": "stderr",
     "output_type": "stream",
     "text": [
      " 97%|█████████▋| 544/560 [00:16<00:00, 34.42it/s]"
     ]
    },
    {
     "name": "stdout",
     "output_type": "stream",
     "text": [
      "multilayer_perceptron ran in: 0.0 sec\n",
      "multilayer_perceptron ran in: 0.00400090217590332 sec\n",
      "multilayer_perceptron ran in: 0.004003286361694336 sec\n",
      "multilayer_perceptron ran in: 0.004006624221801758 sec\n",
      "multilayer_perceptron ran in: 0.003999948501586914 sec\n",
      "multilayer_perceptron ran in: 0.0 sec\n",
      "multilayer_perceptron ran in: 0.0 sec\n",
      "multilayer_perceptron ran in: 0.0 sec\n"
     ]
    },
    {
     "name": "stderr",
     "output_type": "stream",
     "text": [
      " 99%|█████████▊| 552/560 [00:16<00:00, 34.64it/s]"
     ]
    },
    {
     "name": "stdout",
     "output_type": "stream",
     "text": [
      "multilayer_perceptron ran in: 0.0 sec\n",
      "multilayer_perceptron ran in: 0.0 sec\n",
      "multilayer_perceptron ran in: 0.0 sec\n",
      "multilayer_perceptron ran in: 0.0 sec\n",
      "multilayer_perceptron ran in: 0.004000425338745117 sec\n",
      "multilayer_perceptron ran in: 0.004000186920166016 sec\n",
      "multilayer_perceptron ran in: 0.004007101058959961 sec\n",
      "multilayer_perceptron ran in: 0.0 sec\n"
     ]
    },
    {
     "name": "stderr",
     "output_type": "stream",
     "text": [
      "100%|██████████| 560/560 [00:16<00:00, 33.26it/s]\n"
     ]
    },
    {
     "name": "stdout",
     "output_type": "stream",
     "text": [
      "multilayer_perceptron ran in: 0.0 sec\n",
      "multilayer_perceptron ran in: 0.0 sec\n",
      "multilayer_perceptron ran in: 0.0 sec\n",
      "multilayer_perceptron ran in: 0.0 sec\n",
      "multilayer_perceptron ran in: 0.004019021987915039 sec\n",
      "Epoch: 13 Cost=216548.3438\n"
     ]
    },
    {
     "name": "stderr",
     "output_type": "stream",
     "text": [
      "\r",
      "  0%|          | 0/560 [00:00<?, ?it/s]"
     ]
    },
    {
     "name": "stdout",
     "output_type": "stream",
     "text": [
      "multilayer_perceptron ran in: 0.0 sec\n",
      "multilayer_perceptron ran in: 0.004000186920166016 sec\n"
     ]
    },
    {
     "name": "stderr",
     "output_type": "stream",
     "text": [
      "\r",
      "  1%|          | 4/560 [00:00<00:15, 34.79it/s]"
     ]
    },
    {
     "name": "stdout",
     "output_type": "stream",
     "text": [
      "multilayer_perceptron ran in: 0.0 sec\n",
      "multilayer_perceptron ran in: 0.0 sec\n",
      "multilayer_perceptron ran in: 0.0040013790130615234 sec\n",
      "multilayer_perceptron ran in: 0.004000186920166016 sec\n",
      "multilayer_perceptron ran in: 0.0 sec\n"
     ]
    },
    {
     "name": "stderr",
     "output_type": "stream",
     "text": [
      "\r",
      "  1%|▏         | 8/560 [00:00<00:16, 34.18it/s]"
     ]
    },
    {
     "name": "stdout",
     "output_type": "stream",
     "text": [
      "multilayer_perceptron ran in: 0.0 sec\n",
      "multilayer_perceptron ran in: 0.003998756408691406 sec\n",
      "multilayer_perceptron ran in: 0.0 sec\n"
     ]
    },
    {
     "name": "stderr",
     "output_type": "stream",
     "text": [
      "\r",
      "  2%|▏         | 12/560 [00:00<00:16, 33.92it/s]"
     ]
    },
    {
     "name": "stdout",
     "output_type": "stream",
     "text": [
      "multilayer_perceptron ran in: 0.0 sec\n",
      "multilayer_perceptron ran in: 0.004000186920166016 sec\n",
      "multilayer_perceptron ran in: 0.0 sec\n",
      "multilayer_perceptron ran in: 0.0 sec\n",
      "multilayer_perceptron ran in: 0.0 sec\n"
     ]
    },
    {
     "name": "stderr",
     "output_type": "stream",
     "text": [
      "\r",
      "  3%|▎         | 16/560 [00:00<00:15, 34.36it/s]"
     ]
    },
    {
     "name": "stdout",
     "output_type": "stream",
     "text": [
      "multilayer_perceptron ran in: 0.0 sec\n",
      "multilayer_perceptron ran in: 0.004000186920166016 sec\n"
     ]
    },
    {
     "name": "stderr",
     "output_type": "stream",
     "text": [
      "\r",
      "  4%|▎         | 20/560 [00:00<00:15, 34.01it/s]"
     ]
    },
    {
     "name": "stdout",
     "output_type": "stream",
     "text": [
      "multilayer_perceptron ran in: 0.0 sec\n",
      "multilayer_perceptron ran in: 0.0 sec\n",
      "multilayer_perceptron ran in: 0.0 sec\n",
      "multilayer_perceptron ran in: 0.0 sec\n",
      "multilayer_perceptron ran in: 0.0040013790130615234 sec\n",
      "multilayer_perceptron ran in: 0.004000425338745117 sec\n"
     ]
    },
    {
     "name": "stderr",
     "output_type": "stream",
     "text": [
      "\r",
      "  4%|▍         | 24/560 [00:00<00:15, 34.41it/s]"
     ]
    },
    {
     "name": "stdout",
     "output_type": "stream",
     "text": [
      "multilayer_perceptron ran in: 0.0 sec\n"
     ]
    },
    {
     "name": "stderr",
     "output_type": "stream",
     "text": [
      "\r",
      "  5%|▌         | 28/560 [00:00<00:15, 34.05it/s]"
     ]
    },
    {
     "name": "stdout",
     "output_type": "stream",
     "text": [
      "multilayer_perceptron ran in: 0.0 sec\n",
      "multilayer_perceptron ran in: 0.004000186920166016 sec\n",
      "multilayer_perceptron ran in: 0.0 sec\n",
      "multilayer_perceptron ran in: 0.0 sec\n",
      "multilayer_perceptron ran in: 0.0 sec\n",
      "multilayer_perceptron ran in: 0.003999233245849609 sec\n",
      "multilayer_perceptron ran in: 0.004002571105957031 sec\n"
     ]
    },
    {
     "name": "stderr",
     "output_type": "stream",
     "text": [
      "  6%|▋         | 36/560 [00:01<00:15, 33.07it/s]"
     ]
    },
    {
     "name": "stdout",
     "output_type": "stream",
     "text": [
      "multilayer_perceptron ran in: 0.004002571105957031 sec\n",
      "multilayer_perceptron ran in: 0.0 sec\n",
      "multilayer_perceptron ran in: 0.0 sec\n",
      "multilayer_perceptron ran in: 0.0 sec\n",
      "multilayer_perceptron ran in: 0.0039997100830078125 sec\n",
      "multilayer_perceptron ran in: 0.0 sec\n",
      "multilayer_perceptron ran in: 0.004000425338745117 sec\n"
     ]
    },
    {
     "name": "stderr",
     "output_type": "stream",
     "text": [
      "  8%|▊         | 44/560 [00:01<00:15, 33.55it/s]"
     ]
    },
    {
     "name": "stdout",
     "output_type": "stream",
     "text": [
      "multilayer_perceptron ran in: 0.0 sec\n",
      "multilayer_perceptron ran in: 0.0039920806884765625 sec\n",
      "multilayer_perceptron ran in: 0.0 sec\n",
      "multilayer_perceptron ran in: 0.004000663757324219 sec\n",
      "multilayer_perceptron ran in: 0.0 sec\n",
      "multilayer_perceptron ran in: 0.0 sec\n",
      "multilayer_perceptron ran in: 0.0 sec\n",
      "multilayer_perceptron ran in: 0.0 sec\n"
     ]
    },
    {
     "name": "stderr",
     "output_type": "stream",
     "text": [
      "  9%|▉         | 52/560 [00:01<00:15, 33.78it/s]"
     ]
    },
    {
     "name": "stdout",
     "output_type": "stream",
     "text": [
      "multilayer_perceptron ran in: 0.0 sec\n",
      "multilayer_perceptron ran in: 0.0 sec\n",
      "multilayer_perceptron ran in: 0.004001617431640625 sec\n",
      "multilayer_perceptron ran in: 0.0 sec\n",
      "multilayer_perceptron ran in: 0.0 sec\n",
      "multilayer_perceptron ran in: 0.0 sec\n",
      "multilayer_perceptron ran in: 0.004003763198852539 sec\n",
      "multilayer_perceptron ran in: 0.0 sec\n"
     ]
    },
    {
     "name": "stderr",
     "output_type": "stream",
     "text": [
      " 11%|█         | 60/560 [00:01<00:14, 33.89it/s]"
     ]
    },
    {
     "name": "stdout",
     "output_type": "stream",
     "text": [
      "multilayer_perceptron ran in: 0.0 sec\n",
      "multilayer_perceptron ran in: 0.0 sec\n",
      "multilayer_perceptron ran in: 0.0 sec\n",
      "multilayer_perceptron ran in: 0.0 sec\n",
      "multilayer_perceptron ran in: 0.003999948501586914 sec\n",
      "multilayer_perceptron ran in: 0.0 sec\n",
      "multilayer_perceptron ran in: 0.004017829895019531 sec\n"
     ]
    },
    {
     "name": "stderr",
     "output_type": "stream",
     "text": [
      " 12%|█▏        | 68/560 [00:02<00:14, 33.37it/s]"
     ]
    },
    {
     "name": "stdout",
     "output_type": "stream",
     "text": [
      "multilayer_perceptron ran in: 0.0 sec\n",
      "multilayer_perceptron ran in: 0.003999233245849609 sec\n",
      "multilayer_perceptron ran in: 0.0 sec\n",
      "multilayer_perceptron ran in: 0.0 sec\n",
      "multilayer_perceptron ran in: 0.003999471664428711 sec\n",
      "multilayer_perceptron ran in: 0.0 sec\n",
      "multilayer_perceptron ran in: 0.0 sec\n"
     ]
    },
    {
     "name": "stderr",
     "output_type": "stream",
     "text": [
      "\r",
      " 13%|█▎        | 72/560 [00:02<00:14, 33.70it/s]"
     ]
    },
    {
     "name": "stdout",
     "output_type": "stream",
     "text": [
      "multilayer_perceptron ran in: 0.0 sec\n",
      "multilayer_perceptron ran in: 0.0040013790130615234 sec\n",
      "multilayer_perceptron ran in: 0.003979921340942383 sec\n",
      "multilayer_perceptron ran in: 0.0 sec\n",
      "multilayer_perceptron ran in: 0.0 sec\n",
      "multilayer_perceptron ran in: 0.0 sec\n",
      "multilayer_perceptron ran in: 0.004000425338745117 sec\n"
     ]
    },
    {
     "name": "stderr",
     "output_type": "stream",
     "text": [
      " 14%|█▍        | 80/560 [00:02<00:14, 33.48it/s]"
     ]
    },
    {
     "name": "stdout",
     "output_type": "stream",
     "text": [
      "multilayer_perceptron ran in: 0.0 sec\n",
      "multilayer_perceptron ran in: 0.0 sec\n",
      "multilayer_perceptron ran in: 0.0 sec\n",
      "multilayer_perceptron ran in: 0.0 sec\n",
      "multilayer_perceptron ran in: 0.0039997100830078125 sec\n",
      "multilayer_perceptron ran in: 0.0 sec\n",
      "multilayer_perceptron ran in: 0.0 sec\n"
     ]
    },
    {
     "name": "stderr",
     "output_type": "stream",
     "text": [
      " 16%|█▌        | 88/560 [00:02<00:13, 33.99it/s]"
     ]
    },
    {
     "name": "stdout",
     "output_type": "stream",
     "text": [
      "multilayer_perceptron ran in: 0.0 sec\n",
      "multilayer_perceptron ran in: 0.0 sec\n",
      "multilayer_perceptron ran in: 0.004001140594482422 sec\n",
      "multilayer_perceptron ran in: 0.0 sec\n",
      "multilayer_perceptron ran in: 0.0 sec\n",
      "multilayer_perceptron ran in: 0.0 sec\n",
      "multilayer_perceptron ran in: 0.003998517990112305 sec\n"
     ]
    },
    {
     "name": "stderr",
     "output_type": "stream",
     "text": [
      " 17%|█▋        | 96/560 [00:02<00:13, 33.89it/s]"
     ]
    },
    {
     "name": "stdout",
     "output_type": "stream",
     "text": [
      "multilayer_perceptron ran in: 0.003999233245849609 sec\n",
      "multilayer_perceptron ran in: 0.0 sec\n",
      "multilayer_perceptron ran in: 0.0 sec\n",
      "multilayer_perceptron ran in: 0.0 sec\n",
      "multilayer_perceptron ran in: 0.0 sec\n",
      "multilayer_perceptron ran in: 0.0 sec\n",
      "multilayer_perceptron ran in: 0.004002571105957031 sec\n"
     ]
    },
    {
     "name": "stderr",
     "output_type": "stream",
     "text": [
      "\r",
      " 18%|█▊        | 100/560 [00:02<00:13, 33.72it/s]"
     ]
    },
    {
     "name": "stdout",
     "output_type": "stream",
     "text": [
      "multilayer_perceptron ran in: 0.0 sec\n",
      "multilayer_perceptron ran in: 0.0 sec\n",
      "multilayer_perceptron ran in: 0.0040051937103271484 sec\n",
      "multilayer_perceptron ran in: 0.0 sec\n",
      "multilayer_perceptron ran in: 0.0 sec\n",
      "multilayer_perceptron ran in: 0.0 sec\n",
      "multilayer_perceptron ran in: 0.004001140594482422 sec\n"
     ]
    },
    {
     "name": "stderr",
     "output_type": "stream",
     "text": [
      " 19%|█▉        | 108/560 [00:03<00:13, 33.87it/s]"
     ]
    },
    {
     "name": "stdout",
     "output_type": "stream",
     "text": [
      "multilayer_perceptron ran in: 0.003996849060058594 sec\n",
      "multilayer_perceptron ran in: 0.0 sec\n",
      "multilayer_perceptron ran in: 0.004001140594482422 sec\n",
      "multilayer_perceptron ran in: 0.0 sec\n",
      "multilayer_perceptron ran in: 0.0 sec\n",
      "multilayer_perceptron ran in: 0.003999233245849609 sec\n",
      "multilayer_perceptron ran in: 0.0 sec\n"
     ]
    },
    {
     "name": "stderr",
     "output_type": "stream",
     "text": [
      " 21%|██        | 116/560 [00:03<00:12, 34.24it/s]"
     ]
    },
    {
     "name": "stdout",
     "output_type": "stream",
     "text": [
      "multilayer_perceptron ran in: 0.004004478454589844 sec\n",
      "multilayer_perceptron ran in: 0.004000186920166016 sec\n",
      "multilayer_perceptron ran in: 0.0 sec\n",
      "multilayer_perceptron ran in: 0.0 sec\n",
      "multilayer_perceptron ran in: 0.0 sec\n",
      "multilayer_perceptron ran in: 0.0 sec\n",
      "multilayer_perceptron ran in: 0.003999233245849609 sec\n",
      "multilayer_perceptron ran in: 0.0 sec\n"
     ]
    },
    {
     "name": "stderr",
     "output_type": "stream",
     "text": [
      " 22%|██▏       | 124/560 [00:03<00:12, 34.36it/s]"
     ]
    },
    {
     "name": "stdout",
     "output_type": "stream",
     "text": [
      "multilayer_perceptron ran in: 0.0 sec\n",
      "multilayer_perceptron ran in: 0.0 sec\n",
      "multilayer_perceptron ran in: 0.003999948501586914 sec\n",
      "multilayer_perceptron ran in: 0.004001140594482422 sec\n",
      "multilayer_perceptron ran in: 0.003983974456787109 sec\n",
      "multilayer_perceptron ran in: 0.0040013790130615234 sec\n",
      "multilayer_perceptron ran in: 0.0 sec\n",
      "multilayer_perceptron ran in: 0.0 sec\n"
     ]
    },
    {
     "name": "stderr",
     "output_type": "stream",
     "text": [
      " 24%|██▎       | 132/560 [00:03<00:12, 34.45it/s]"
     ]
    },
    {
     "name": "stdout",
     "output_type": "stream",
     "text": [
      "multilayer_perceptron ran in: 0.0 sec\n",
      "multilayer_perceptron ran in: 0.003999948501586914 sec\n",
      "multilayer_perceptron ran in: 0.0 sec\n",
      "multilayer_perceptron ran in: 0.0 sec\n",
      "multilayer_perceptron ran in: 0.0 sec\n",
      "multilayer_perceptron ran in: 0.0 sec\n",
      "multilayer_perceptron ran in: 0.0 sec\n",
      "multilayer_perceptron ran in: 0.0 sec\n"
     ]
    },
    {
     "name": "stderr",
     "output_type": "stream",
     "text": [
      " 25%|██▌       | 140/560 [00:04<00:12, 34.44it/s]"
     ]
    },
    {
     "name": "stdout",
     "output_type": "stream",
     "text": [
      "multilayer_perceptron ran in: 0.003999948501586914 sec\n",
      "multilayer_perceptron ran in: 0.003987312316894531 sec\n",
      "multilayer_perceptron ran in: 0.0 sec\n",
      "multilayer_perceptron ran in: 0.0 sec\n",
      "multilayer_perceptron ran in: 0.0 sec\n",
      "multilayer_perceptron ran in: 0.003998756408691406 sec\n",
      "multilayer_perceptron ran in: 0.0 sec\n"
     ]
    },
    {
     "name": "stderr",
     "output_type": "stream",
     "text": [
      "\r",
      " 26%|██▌       | 144/560 [00:04<00:12, 34.63it/s]"
     ]
    },
    {
     "name": "stdout",
     "output_type": "stream",
     "text": [
      "multilayer_perceptron ran in: 0.0 sec\n",
      "multilayer_perceptron ran in: 0.0 sec\n",
      "multilayer_perceptron ran in: 0.0 sec\n",
      "multilayer_perceptron ran in: 0.0 sec\n",
      "multilayer_perceptron ran in: 0.0 sec\n",
      "multilayer_perceptron ran in: 0.003997325897216797 sec\n",
      "multilayer_perceptron ran in: 0.00400090217590332 sec\n"
     ]
    },
    {
     "name": "stderr",
     "output_type": "stream",
     "text": [
      " 27%|██▋       | 152/560 [00:04<00:11, 34.46it/s]"
     ]
    },
    {
     "name": "stdout",
     "output_type": "stream",
     "text": [
      "multilayer_perceptron ran in: 0.0 sec\n",
      "multilayer_perceptron ran in: 0.0 sec\n",
      "multilayer_perceptron ran in: 0.004000186920166016 sec\n",
      "multilayer_perceptron ran in: 0.003999948501586914 sec\n",
      "multilayer_perceptron ran in: 0.0 sec\n",
      "multilayer_perceptron ran in: 0.003999948501586914 sec\n",
      "multilayer_perceptron ran in: 0.0 sec\n",
      "multilayer_perceptron ran in: 0.0 sec\n"
     ]
    },
    {
     "name": "stderr",
     "output_type": "stream",
     "text": [
      " 29%|██▊       | 160/560 [00:04<00:11, 34.68it/s]"
     ]
    },
    {
     "name": "stdout",
     "output_type": "stream",
     "text": [
      "multilayer_perceptron ran in: 0.0 sec\n",
      "multilayer_perceptron ran in: 0.0039997100830078125 sec\n",
      "multilayer_perceptron ran in: 0.0039997100830078125 sec\n",
      "multilayer_perceptron ran in: 0.0 sec\n",
      "multilayer_perceptron ran in: 0.0039997100830078125 sec\n",
      "multilayer_perceptron ran in: 0.004014253616333008 sec\n",
      "multilayer_perceptron ran in: 0.0 sec\n"
     ]
    },
    {
     "name": "stderr",
     "output_type": "stream",
     "text": [
      " 30%|███       | 168/560 [00:04<00:11, 34.58it/s]"
     ]
    },
    {
     "name": "stdout",
     "output_type": "stream",
     "text": [
      "multilayer_perceptron ran in: 0.0 sec\n",
      "multilayer_perceptron ran in: 0.0 sec\n",
      "multilayer_perceptron ran in: 0.004000663757324219 sec\n",
      "multilayer_perceptron ran in: 0.004000425338745117 sec\n",
      "multilayer_perceptron ran in: 0.0 sec\n",
      "multilayer_perceptron ran in: 0.0 sec\n",
      "multilayer_perceptron ran in: 0.0 sec\n",
      "multilayer_perceptron ran in: 0.0 sec\n"
     ]
    },
    {
     "name": "stderr",
     "output_type": "stream",
     "text": [
      " 31%|███▏      | 176/560 [00:05<00:11, 34.53it/s]"
     ]
    },
    {
     "name": "stdout",
     "output_type": "stream",
     "text": [
      "multilayer_perceptron ran in: 0.0 sec\n",
      "multilayer_perceptron ran in: 0.004024505615234375 sec\n",
      "multilayer_perceptron ran in: 0.0 sec\n",
      "multilayer_perceptron ran in: 0.0 sec\n",
      "multilayer_perceptron ran in: 0.0 sec\n",
      "multilayer_perceptron ran in: 0.0 sec\n",
      "multilayer_perceptron ran in: 0.0 sec\n",
      "multilayer_perceptron ran in: 0.0 sec\n"
     ]
    },
    {
     "name": "stderr",
     "output_type": "stream",
     "text": [
      " 33%|███▎      | 184/560 [00:05<00:11, 34.15it/s]"
     ]
    },
    {
     "name": "stdout",
     "output_type": "stream",
     "text": [
      "multilayer_perceptron ran in: 0.0 sec\n",
      "multilayer_perceptron ran in: 0.0 sec\n",
      "multilayer_perceptron ran in: 0.0 sec\n",
      "multilayer_perceptron ran in: 0.00400090217590332 sec\n",
      "multilayer_perceptron ran in: 0.004010200500488281 sec\n",
      "multilayer_perceptron ran in: 0.0 sec\n",
      "multilayer_perceptron ran in: 0.0 sec\n"
     ]
    },
    {
     "name": "stderr",
     "output_type": "stream",
     "text": [
      " 34%|███▍      | 192/560 [00:05<00:10, 34.68it/s]"
     ]
    },
    {
     "name": "stdout",
     "output_type": "stream",
     "text": [
      "multilayer_perceptron ran in: 0.004018545150756836 sec\n",
      "multilayer_perceptron ran in: 0.0 sec\n",
      "multilayer_perceptron ran in: 0.0 sec\n",
      "multilayer_perceptron ran in: 0.0 sec\n",
      "multilayer_perceptron ran in: 0.0 sec\n",
      "multilayer_perceptron ran in: 0.0 sec\n",
      "multilayer_perceptron ran in: 0.0 sec\n",
      "multilayer_perceptron ran in: 0.0 sec\n"
     ]
    },
    {
     "name": "stderr",
     "output_type": "stream",
     "text": [
      " 36%|███▌      | 200/560 [00:05<00:10, 34.58it/s]"
     ]
    },
    {
     "name": "stdout",
     "output_type": "stream",
     "text": [
      "multilayer_perceptron ran in: 0.0 sec\n",
      "multilayer_perceptron ran in: 0.0 sec\n",
      "multilayer_perceptron ran in: 0.0 sec\n",
      "multilayer_perceptron ran in: 0.0 sec\n",
      "multilayer_perceptron ran in: 0.0 sec\n",
      "multilayer_perceptron ran in: 0.0 sec\n",
      "multilayer_perceptron ran in: 0.0 sec\n",
      "multilayer_perceptron ran in: 0.0 sec\n"
     ]
    },
    {
     "name": "stderr",
     "output_type": "stream",
     "text": [
      " 37%|███▋      | 208/560 [00:06<00:10, 34.25it/s]"
     ]
    },
    {
     "name": "stdout",
     "output_type": "stream",
     "text": [
      "multilayer_perceptron ran in: 0.004000663757324219 sec\n",
      "multilayer_perceptron ran in: 0.0 sec\n",
      "multilayer_perceptron ran in: 0.0 sec\n",
      "multilayer_perceptron ran in: 0.0 sec\n",
      "multilayer_perceptron ran in: 0.004000186920166016 sec\n",
      "multilayer_perceptron ran in: 0.0 sec\n",
      "multilayer_perceptron ran in: 0.0 sec\n"
     ]
    },
    {
     "name": "stderr",
     "output_type": "stream",
     "text": [
      " 39%|███▊      | 216/560 [00:06<00:09, 34.41it/s]"
     ]
    },
    {
     "name": "stdout",
     "output_type": "stream",
     "text": [
      "multilayer_perceptron ran in: 0.0 sec\n",
      "multilayer_perceptron ran in: 0.00400090217590332 sec\n",
      "multilayer_perceptron ran in: 0.004001140594482422 sec\n",
      "multilayer_perceptron ran in: 0.0 sec\n",
      "multilayer_perceptron ran in: 0.0040013790130615234 sec\n",
      "multilayer_perceptron ran in: 0.0 sec\n",
      "multilayer_perceptron ran in: 0.0 sec\n"
     ]
    },
    {
     "name": "stderr",
     "output_type": "stream",
     "text": [
      "\r",
      " 39%|███▉      | 220/560 [00:06<00:09, 34.68it/s]"
     ]
    },
    {
     "name": "stdout",
     "output_type": "stream",
     "text": [
      "multilayer_perceptron ran in: 0.0 sec\n",
      "multilayer_perceptron ran in: 0.0 sec\n",
      "multilayer_perceptron ran in: 0.0 sec\n",
      "multilayer_perceptron ran in: 0.0 sec\n",
      "multilayer_perceptron ran in: 0.0039980411529541016 sec\n",
      "multilayer_perceptron ran in: 0.0 sec\n",
      "multilayer_perceptron ran in: 0.0 sec\n"
     ]
    },
    {
     "name": "stderr",
     "output_type": "stream",
     "text": [
      " 41%|████      | 228/560 [00:06<00:09, 34.79it/s]"
     ]
    },
    {
     "name": "stdout",
     "output_type": "stream",
     "text": [
      "multilayer_perceptron ran in: 0.0 sec\n",
      "multilayer_perceptron ran in: 0.0 sec\n",
      "multilayer_perceptron ran in: 0.0 sec\n",
      "multilayer_perceptron ran in: 0.004000186920166016 sec\n",
      "multilayer_perceptron ran in: 0.0 sec\n",
      "multilayer_perceptron ran in: 0.0 sec\n",
      "multilayer_perceptron ran in: 0.0 sec\n"
     ]
    },
    {
     "name": "stderr",
     "output_type": "stream",
     "text": [
      " 42%|████▏     | 236/560 [00:07<00:11, 28.47it/s]"
     ]
    },
    {
     "name": "stdout",
     "output_type": "stream",
     "text": [
      "multilayer_perceptron ran in: 0.004007101058959961 sec\n",
      "multilayer_perceptron ran in: 0.0 sec\n",
      "multilayer_perceptron ran in: 0.0 sec\n",
      "multilayer_perceptron ran in: 0.0 sec\n",
      "multilayer_perceptron ran in: 0.0 sec\n",
      "multilayer_perceptron ran in: 0.0 sec\n",
      "multilayer_perceptron ran in: 0.0 sec\n",
      "multilayer_perceptron ran in: 0.0 sec\n"
     ]
    },
    {
     "name": "stderr",
     "output_type": "stream",
     "text": [
      " 44%|████▎     | 244/560 [00:07<00:10, 31.32it/s]"
     ]
    },
    {
     "name": "stdout",
     "output_type": "stream",
     "text": [
      "multilayer_perceptron ran in: 0.0 sec\n",
      "multilayer_perceptron ran in: 0.0 sec\n",
      "multilayer_perceptron ran in: 0.003996133804321289 sec\n",
      "multilayer_perceptron ran in: 0.0 sec\n",
      "multilayer_perceptron ran in: 0.0 sec\n",
      "multilayer_perceptron ran in: 0.0 sec\n",
      "multilayer_perceptron ran in: 0.0 sec\n",
      "multilayer_perceptron ran in: 0.003998994827270508 sec\n"
     ]
    },
    {
     "name": "stderr",
     "output_type": "stream",
     "text": [
      " 45%|████▌     | 252/560 [00:07<00:09, 32.87it/s]"
     ]
    },
    {
     "name": "stdout",
     "output_type": "stream",
     "text": [
      "multilayer_perceptron ran in: 0.003985166549682617 sec\n",
      "multilayer_perceptron ran in: 0.004001617431640625 sec\n",
      "multilayer_perceptron ran in: 0.0 sec\n",
      "multilayer_perceptron ran in: 0.00400090217590332 sec\n",
      "multilayer_perceptron ran in: 0.0 sec\n",
      "multilayer_perceptron ran in: 0.0 sec\n",
      "multilayer_perceptron ran in: 0.004014015197753906 sec\n",
      "multilayer_perceptron ran in: 0.0 sec\n"
     ]
    },
    {
     "name": "stderr",
     "output_type": "stream",
     "text": [
      " 46%|████▋     | 260/560 [00:07<00:08, 33.67it/s]"
     ]
    },
    {
     "name": "stdout",
     "output_type": "stream",
     "text": [
      "multilayer_perceptron ran in: 0.0 sec\n",
      "multilayer_perceptron ran in: 0.0 sec\n",
      "multilayer_perceptron ran in: 0.0040171146392822266 sec\n",
      "multilayer_perceptron ran in: 0.004000663757324219 sec\n",
      "multilayer_perceptron ran in: 0.0 sec\n",
      "multilayer_perceptron ran in: 0.0 sec\n",
      "multilayer_perceptron ran in: 0.0039975643157958984 sec\n"
     ]
    },
    {
     "name": "stderr",
     "output_type": "stream",
     "text": [
      "\r",
      " 47%|████▋     | 264/560 [00:07<00:08, 33.91it/s]"
     ]
    },
    {
     "name": "stdout",
     "output_type": "stream",
     "text": [
      "multilayer_perceptron ran in: 0.0 sec\n",
      "multilayer_perceptron ran in: 0.0 sec\n",
      "multilayer_perceptron ran in: 0.0 sec\n",
      "multilayer_perceptron ran in: 0.0 sec\n",
      "multilayer_perceptron ran in: 0.0 sec\n",
      "multilayer_perceptron ran in: 0.0 sec\n",
      "multilayer_perceptron ran in: 0.0 sec\n"
     ]
    },
    {
     "name": "stderr",
     "output_type": "stream",
     "text": [
      " 49%|████▊     | 272/560 [00:08<00:08, 34.03it/s]"
     ]
    },
    {
     "name": "stdout",
     "output_type": "stream",
     "text": [
      "multilayer_perceptron ran in: 0.0 sec\n",
      "multilayer_perceptron ran in: 0.003999948501586914 sec\n",
      "multilayer_perceptron ran in: 0.0 sec\n",
      "multilayer_perceptron ran in: 0.004001617431640625 sec\n",
      "multilayer_perceptron ran in: 0.0 sec\n",
      "multilayer_perceptron ran in: 0.0 sec\n",
      "multilayer_perceptron ran in: 0.0 sec\n"
     ]
    },
    {
     "name": "stderr",
     "output_type": "stream",
     "text": [
      " 50%|█████     | 280/560 [00:08<00:08, 34.22it/s]"
     ]
    },
    {
     "name": "stdout",
     "output_type": "stream",
     "text": [
      "multilayer_perceptron ran in: 0.0 sec\n",
      "multilayer_perceptron ran in: 0.0 sec\n",
      "multilayer_perceptron ran in: 0.0 sec\n",
      "multilayer_perceptron ran in: 0.0039997100830078125 sec\n",
      "multilayer_perceptron ran in: 0.0 sec\n",
      "multilayer_perceptron ran in: 0.0 sec\n",
      "multilayer_perceptron ran in: 0.0 sec\n",
      "multilayer_perceptron ran in: 0.0 sec\n"
     ]
    },
    {
     "name": "stderr",
     "output_type": "stream",
     "text": [
      " 51%|█████▏    | 288/560 [00:08<00:07, 34.51it/s]"
     ]
    },
    {
     "name": "stdout",
     "output_type": "stream",
     "text": [
      "multilayer_perceptron ran in: 0.0 sec\n",
      "multilayer_perceptron ran in: 0.0 sec\n",
      "multilayer_perceptron ran in: 0.0 sec\n",
      "multilayer_perceptron ran in: 0.0 sec\n",
      "multilayer_perceptron ran in: 0.0 sec\n",
      "multilayer_perceptron ran in: 0.0040018558502197266 sec\n",
      "multilayer_perceptron ran in: 0.0 sec\n",
      "multilayer_perceptron ran in: 0.0 sec\n"
     ]
    },
    {
     "name": "stderr",
     "output_type": "stream",
     "text": [
      " 53%|█████▎    | 296/560 [00:08<00:07, 34.77it/s]"
     ]
    },
    {
     "name": "stdout",
     "output_type": "stream",
     "text": [
      "multilayer_perceptron ran in: 0.0 sec\n",
      "multilayer_perceptron ran in: 0.0 sec\n",
      "multilayer_perceptron ran in: 0.0 sec\n",
      "multilayer_perceptron ran in: 0.0 sec\n",
      "multilayer_perceptron ran in: 0.0 sec\n",
      "multilayer_perceptron ran in: 0.0 sec\n",
      "multilayer_perceptron ran in: 0.0 sec\n",
      "multilayer_perceptron ran in: 0.003999948501586914 sec\n"
     ]
    },
    {
     "name": "stderr",
     "output_type": "stream",
     "text": [
      " 54%|█████▍    | 304/560 [00:09<00:07, 34.51it/s]"
     ]
    },
    {
     "name": "stdout",
     "output_type": "stream",
     "text": [
      "multilayer_perceptron ran in: 0.0 sec\n",
      "multilayer_perceptron ran in: 0.0 sec\n",
      "multilayer_perceptron ran in: 0.0 sec\n",
      "multilayer_perceptron ran in: 0.003998994827270508 sec\n",
      "multilayer_perceptron ran in: 0.0 sec\n",
      "multilayer_perceptron ran in: 0.004017829895019531 sec\n",
      "multilayer_perceptron ran in: 0.003999471664428711 sec\n"
     ]
    },
    {
     "name": "stderr",
     "output_type": "stream",
     "text": [
      " 56%|█████▌    | 312/560 [00:09<00:07, 34.20it/s]"
     ]
    },
    {
     "name": "stdout",
     "output_type": "stream",
     "text": [
      "multilayer_perceptron ran in: 0.0040132999420166016 sec\n",
      "multilayer_perceptron ran in: 0.004001140594482422 sec\n",
      "multilayer_perceptron ran in: 0.0 sec\n",
      "multilayer_perceptron ran in: 0.0 sec\n",
      "multilayer_perceptron ran in: 0.0 sec\n",
      "multilayer_perceptron ran in: 0.004001617431640625 sec\n",
      "multilayer_perceptron ran in: 0.0 sec\n"
     ]
    },
    {
     "name": "stderr",
     "output_type": "stream",
     "text": [
      " 57%|█████▋    | 320/560 [00:09<00:06, 34.59it/s]"
     ]
    },
    {
     "name": "stdout",
     "output_type": "stream",
     "text": [
      "multilayer_perceptron ran in: 0.0 sec\n",
      "multilayer_perceptron ran in: 0.0 sec\n",
      "multilayer_perceptron ran in: 0.0 sec\n",
      "multilayer_perceptron ran in: 0.0040209293365478516 sec\n",
      "multilayer_perceptron ran in: 0.0 sec\n",
      "multilayer_perceptron ran in: 0.0 sec\n",
      "multilayer_perceptron ran in: 0.0 sec\n"
     ]
    },
    {
     "name": "stderr",
     "output_type": "stream",
     "text": [
      "\r",
      " 58%|█████▊    | 324/560 [00:09<00:06, 34.52it/s]"
     ]
    },
    {
     "name": "stdout",
     "output_type": "stream",
     "text": [
      "multilayer_perceptron ran in: 0.003995418548583984 sec\n",
      "multilayer_perceptron ran in: 0.0 sec\n",
      "multilayer_perceptron ran in: 0.0 sec\n",
      "multilayer_perceptron ran in: 0.0 sec\n",
      "multilayer_perceptron ran in: 0.003999233245849609 sec\n",
      "multilayer_perceptron ran in: 0.0039861202239990234 sec\n",
      "multilayer_perceptron ran in: 0.0 sec\n"
     ]
    },
    {
     "name": "stderr",
     "output_type": "stream",
     "text": [
      " 59%|█████▉    | 332/560 [00:09<00:06, 34.43it/s]"
     ]
    },
    {
     "name": "stdout",
     "output_type": "stream",
     "text": [
      "multilayer_perceptron ran in: 0.0 sec\n",
      "multilayer_perceptron ran in: 0.0 sec\n",
      "multilayer_perceptron ran in: 0.0 sec\n",
      "multilayer_perceptron ran in: 0.0 sec\n",
      "multilayer_perceptron ran in: 0.0 sec\n",
      "multilayer_perceptron ran in: 0.0 sec\n",
      "multilayer_perceptron ran in: 0.0 sec\n",
      "multilayer_perceptron ran in: 0.004000663757324219 sec\n"
     ]
    },
    {
     "name": "stderr",
     "output_type": "stream",
     "text": [
      " 61%|██████    | 340/560 [00:10<00:06, 33.79it/s]"
     ]
    },
    {
     "name": "stdout",
     "output_type": "stream",
     "text": [
      "multilayer_perceptron ran in: 0.0 sec\n",
      "multilayer_perceptron ran in: 0.0 sec\n",
      "multilayer_perceptron ran in: 0.004000425338745117 sec\n",
      "multilayer_perceptron ran in: 0.0 sec\n",
      "multilayer_perceptron ran in: 0.0 sec\n",
      "multilayer_perceptron ran in: 0.0 sec\n",
      "multilayer_perceptron ran in: 0.0 sec\n"
     ]
    },
    {
     "name": "stderr",
     "output_type": "stream",
     "text": [
      " 62%|██████▏   | 348/560 [00:10<00:06, 33.47it/s]"
     ]
    },
    {
     "name": "stdout",
     "output_type": "stream",
     "text": [
      "multilayer_perceptron ran in: 0.0 sec\n",
      "multilayer_perceptron ran in: 0.0 sec\n",
      "multilayer_perceptron ran in: 0.00400090217590332 sec\n",
      "multilayer_perceptron ran in: 0.0 sec\n",
      "multilayer_perceptron ran in: 0.0 sec\n",
      "multilayer_perceptron ran in: 0.003999233245849609 sec\n"
     ]
    },
    {
     "name": "stderr",
     "output_type": "stream",
     "text": [
      "\r",
      " 63%|██████▎   | 352/560 [00:10<00:06, 34.00it/s]"
     ]
    },
    {
     "name": "stdout",
     "output_type": "stream",
     "text": [
      "multilayer_perceptron ran in: 0.0 sec\n",
      "multilayer_perceptron ran in: 0.0 sec\n",
      "multilayer_perceptron ran in: 0.0 sec\n",
      "multilayer_perceptron ran in: 0.0 sec\n",
      "multilayer_perceptron ran in: 0.0 sec\n",
      "multilayer_perceptron ran in: 0.003999471664428711 sec\n",
      "multilayer_perceptron ran in: 0.00400090217590332 sec\n",
      "multilayer_perceptron ran in: 0.004000186920166016 sec\n"
     ]
    },
    {
     "name": "stderr",
     "output_type": "stream",
     "text": [
      " 64%|██████▍   | 360/560 [00:10<00:05, 33.78it/s]"
     ]
    },
    {
     "name": "stdout",
     "output_type": "stream",
     "text": [
      "multilayer_perceptron ran in: 0.0 sec\n",
      "multilayer_perceptron ran in: 0.003999948501586914 sec\n",
      "multilayer_perceptron ran in: 0.0 sec\n",
      "multilayer_perceptron ran in: 0.004000425338745117 sec\n",
      "multilayer_perceptron ran in: 0.0 sec\n",
      "multilayer_perceptron ran in: 0.0 sec\n",
      "multilayer_perceptron ran in: 0.0040051937103271484 sec\n"
     ]
    },
    {
     "name": "stderr",
     "output_type": "stream",
     "text": [
      " 66%|██████▌   | 368/560 [00:10<00:05, 34.20it/s]"
     ]
    },
    {
     "name": "stdout",
     "output_type": "stream",
     "text": [
      "multilayer_perceptron ran in: 0.0 sec\n",
      "multilayer_perceptron ran in: 0.0 sec\n",
      "multilayer_perceptron ran in: 0.0 sec\n",
      "multilayer_perceptron ran in: 0.0 sec\n",
      "multilayer_perceptron ran in: 0.0 sec\n",
      "multilayer_perceptron ran in: 0.0 sec\n",
      "multilayer_perceptron ran in: 0.0 sec\n"
     ]
    },
    {
     "name": "stderr",
     "output_type": "stream",
     "text": [
      " 67%|██████▋   | 376/560 [00:11<00:05, 34.19it/s]"
     ]
    },
    {
     "name": "stdout",
     "output_type": "stream",
     "text": [
      "multilayer_perceptron ran in: 0.0 sec\n",
      "multilayer_perceptron ran in: 0.0039997100830078125 sec\n",
      "multilayer_perceptron ran in: 0.0 sec\n",
      "multilayer_perceptron ran in: 0.003999233245849609 sec\n",
      "multilayer_perceptron ran in: 0.0 sec\n",
      "multilayer_perceptron ran in: 0.0 sec\n",
      "multilayer_perceptron ran in: 0.0040035247802734375 sec\n",
      "multilayer_perceptron ran in: 0.003999471664428711 sec\n"
     ]
    },
    {
     "name": "stderr",
     "output_type": "stream",
     "text": [
      " 69%|██████▊   | 384/560 [00:11<00:05, 34.34it/s]"
     ]
    },
    {
     "name": "stdout",
     "output_type": "stream",
     "text": [
      "multilayer_perceptron ran in: 0.0 sec\n",
      "multilayer_perceptron ran in: 0.0 sec\n",
      "multilayer_perceptron ran in: 0.003988981246948242 sec\n",
      "multilayer_perceptron ran in: 0.0 sec\n",
      "multilayer_perceptron ran in: 0.0 sec\n",
      "multilayer_perceptron ran in: 0.0 sec\n",
      "multilayer_perceptron ran in: 0.0 sec\n"
     ]
    },
    {
     "name": "stderr",
     "output_type": "stream",
     "text": [
      " 70%|███████   | 392/560 [00:11<00:04, 34.41it/s]"
     ]
    },
    {
     "name": "stdout",
     "output_type": "stream",
     "text": [
      "multilayer_perceptron ran in: 0.004003286361694336 sec\n",
      "multilayer_perceptron ran in: 0.004000186920166016 sec\n",
      "multilayer_perceptron ran in: 0.0 sec\n",
      "multilayer_perceptron ran in: 0.0 sec\n",
      "multilayer_perceptron ran in: 0.0 sec\n",
      "multilayer_perceptron ran in: 0.0040013790130615234 sec\n",
      "multilayer_perceptron ran in: 0.003999948501586914 sec\n"
     ]
    },
    {
     "name": "stderr",
     "output_type": "stream",
     "text": [
      "\r",
      " 71%|███████   | 396/560 [00:11<00:04, 34.39it/s]"
     ]
    },
    {
     "name": "stdout",
     "output_type": "stream",
     "text": [
      "multilayer_perceptron ran in: 0.0 sec\n",
      "multilayer_perceptron ran in: 0.0 sec\n",
      "multilayer_perceptron ran in: 0.0 sec\n",
      "multilayer_perceptron ran in: 0.003996372222900391 sec\n",
      "multilayer_perceptron ran in: 0.0 sec\n",
      "multilayer_perceptron ran in: 0.0 sec\n",
      "multilayer_perceptron ran in: 0.003998994827270508 sec\n",
      "multilayer_perceptron ran in: 0.0 sec\n"
     ]
    },
    {
     "name": "stderr",
     "output_type": "stream",
     "text": [
      " 72%|███████▏  | 404/560 [00:11<00:04, 34.88it/s]"
     ]
    },
    {
     "name": "stdout",
     "output_type": "stream",
     "text": [
      "multilayer_perceptron ran in: 0.0 sec\n",
      "multilayer_perceptron ran in: 0.0 sec\n",
      "multilayer_perceptron ran in: 0.0 sec\n",
      "multilayer_perceptron ran in: 0.0 sec\n",
      "multilayer_perceptron ran in: 0.0 sec\n",
      "multilayer_perceptron ran in: 0.0039997100830078125 sec\n",
      "multilayer_perceptron ran in: 0.0 sec\n"
     ]
    },
    {
     "name": "stderr",
     "output_type": "stream",
     "text": [
      " 74%|███████▎  | 412/560 [00:12<00:04, 34.58it/s]"
     ]
    },
    {
     "name": "stdout",
     "output_type": "stream",
     "text": [
      "multilayer_perceptron ran in: 0.0 sec\n",
      "multilayer_perceptron ran in: 0.0 sec\n",
      "multilayer_perceptron ran in: 0.00400090217590332 sec\n",
      "multilayer_perceptron ran in: 0.0 sec\n",
      "multilayer_perceptron ran in: 0.0 sec\n",
      "multilayer_perceptron ran in: 0.0 sec\n",
      "multilayer_perceptron ran in: 0.004000663757324219 sec\n",
      "multilayer_perceptron ran in: 0.003999948501586914 sec\n"
     ]
    },
    {
     "name": "stderr",
     "output_type": "stream",
     "text": [
      " 75%|███████▌  | 420/560 [00:12<00:04, 34.71it/s]"
     ]
    },
    {
     "name": "stdout",
     "output_type": "stream",
     "text": [
      "multilayer_perceptron ran in: 0.0 sec\n",
      "multilayer_perceptron ran in: 0.0 sec\n",
      "multilayer_perceptron ran in: 0.0 sec\n",
      "multilayer_perceptron ran in: 0.0 sec\n",
      "multilayer_perceptron ran in: 0.0 sec\n",
      "multilayer_perceptron ran in: 0.0 sec\n",
      "multilayer_perceptron ran in: 0.0 sec\n",
      "multilayer_perceptron ran in: 0.0 sec\n"
     ]
    },
    {
     "name": "stderr",
     "output_type": "stream",
     "text": [
      " 76%|███████▋  | 428/560 [00:12<00:03, 34.49it/s]"
     ]
    },
    {
     "name": "stdout",
     "output_type": "stream",
     "text": [
      "multilayer_perceptron ran in: 0.0 sec\n",
      "multilayer_perceptron ran in: 0.0 sec\n",
      "multilayer_perceptron ran in: 0.004004478454589844 sec\n",
      "multilayer_perceptron ran in: 0.0039825439453125 sec\n",
      "multilayer_perceptron ran in: 0.003999948501586914 sec\n",
      "multilayer_perceptron ran in: 0.0 sec\n",
      "multilayer_perceptron ran in: 0.0 sec\n",
      "multilayer_perceptron ran in: 0.0 sec\n"
     ]
    },
    {
     "name": "stderr",
     "output_type": "stream",
     "text": [
      " 78%|███████▊  | 436/560 [00:12<00:03, 34.49it/s]"
     ]
    },
    {
     "name": "stdout",
     "output_type": "stream",
     "text": [
      "multilayer_perceptron ran in: 0.0 sec\n",
      "multilayer_perceptron ran in: 0.003999233245849609 sec\n",
      "multilayer_perceptron ran in: 0.0 sec\n",
      "multilayer_perceptron ran in: 0.0 sec\n",
      "multilayer_perceptron ran in: 0.0039997100830078125 sec\n",
      "multilayer_perceptron ran in: 0.0 sec\n",
      "multilayer_perceptron ran in: 0.0 sec\n",
      "multilayer_perceptron ran in: 0.0 sec\n"
     ]
    },
    {
     "name": "stderr",
     "output_type": "stream",
     "text": [
      " 79%|███████▉  | 444/560 [00:13<00:03, 34.44it/s]"
     ]
    },
    {
     "name": "stdout",
     "output_type": "stream",
     "text": [
      "multilayer_perceptron ran in: 0.004001140594482422 sec\n",
      "multilayer_perceptron ran in: 0.0 sec\n",
      "multilayer_perceptron ran in: 0.0 sec\n",
      "multilayer_perceptron ran in: 0.0 sec\n",
      "multilayer_perceptron ran in: 0.004000425338745117 sec\n",
      "multilayer_perceptron ran in: 0.0 sec\n",
      "multilayer_perceptron ran in: 0.0 sec\n",
      "multilayer_perceptron ran in: 0.0 sec\n"
     ]
    },
    {
     "name": "stderr",
     "output_type": "stream",
     "text": [
      " 81%|████████  | 452/560 [00:13<00:03, 34.50it/s]"
     ]
    },
    {
     "name": "stdout",
     "output_type": "stream",
     "text": [
      "multilayer_perceptron ran in: 0.0 sec\n",
      "multilayer_perceptron ran in: 0.0 sec\n",
      "multilayer_perceptron ran in: 0.0 sec\n",
      "multilayer_perceptron ran in: 0.0 sec\n",
      "multilayer_perceptron ran in: 0.004000425338745117 sec\n",
      "multilayer_perceptron ran in: 0.0 sec\n",
      "multilayer_perceptron ran in: 0.0 sec\n",
      "multilayer_perceptron ran in: 0.004000186920166016 sec\n"
     ]
    },
    {
     "name": "stderr",
     "output_type": "stream",
     "text": [
      " 82%|████████▏ | 460/560 [00:13<00:02, 34.65it/s]"
     ]
    },
    {
     "name": "stdout",
     "output_type": "stream",
     "text": [
      "multilayer_perceptron ran in: 0.0 sec\n",
      "multilayer_perceptron ran in: 0.0 sec\n",
      "multilayer_perceptron ran in: 0.004015922546386719 sec\n",
      "multilayer_perceptron ran in: 0.004000186920166016 sec\n",
      "multilayer_perceptron ran in: 0.0 sec\n",
      "multilayer_perceptron ran in: 0.00399327278137207 sec\n",
      "multilayer_perceptron ran in: 0.003992319107055664 sec\n"
     ]
    },
    {
     "name": "stderr",
     "output_type": "stream",
     "text": [
      " 84%|████████▎ | 468/560 [00:13<00:02, 34.54it/s]"
     ]
    },
    {
     "name": "stdout",
     "output_type": "stream",
     "text": [
      "multilayer_perceptron ran in: 0.0 sec\n",
      "multilayer_perceptron ran in: 0.0 sec\n",
      "multilayer_perceptron ran in: 0.00402069091796875 sec\n",
      "multilayer_perceptron ran in: 0.0040013790130615234 sec\n",
      "multilayer_perceptron ran in: 0.0039997100830078125 sec\n",
      "multilayer_perceptron ran in: 0.0 sec\n",
      "multilayer_perceptron ran in: 0.0 sec\n",
      "multilayer_perceptron ran in: 0.0 sec\n"
     ]
    },
    {
     "name": "stderr",
     "output_type": "stream",
     "text": [
      " 85%|████████▌ | 476/560 [00:14<00:02, 34.46it/s]"
     ]
    },
    {
     "name": "stdout",
     "output_type": "stream",
     "text": [
      "multilayer_perceptron ran in: 0.004000186920166016 sec\n",
      "multilayer_perceptron ran in: 0.0 sec\n",
      "multilayer_perceptron ran in: 0.0 sec\n",
      "multilayer_perceptron ran in: 0.003999471664428711 sec\n",
      "multilayer_perceptron ran in: 0.0040018558502197266 sec\n",
      "multilayer_perceptron ran in: 0.00400090217590332 sec\n",
      "multilayer_perceptron ran in: 0.0 sec\n",
      "multilayer_perceptron ran in: 0.0 sec\n"
     ]
    },
    {
     "name": "stderr",
     "output_type": "stream",
     "text": [
      " 86%|████████▋ | 484/560 [00:14<00:02, 34.55it/s]"
     ]
    },
    {
     "name": "stdout",
     "output_type": "stream",
     "text": [
      "multilayer_perceptron ran in: 0.0 sec\n",
      "multilayer_perceptron ran in: 0.004001140594482422 sec\n",
      "multilayer_perceptron ran in: 0.0 sec\n",
      "multilayer_perceptron ran in: 0.0 sec\n",
      "multilayer_perceptron ran in: 0.0 sec\n",
      "multilayer_perceptron ran in: 0.0 sec\n",
      "multilayer_perceptron ran in: 0.003999471664428711 sec\n",
      "multilayer_perceptron ran in: 0.003999948501586914 sec\n"
     ]
    },
    {
     "name": "stderr",
     "output_type": "stream",
     "text": [
      " 88%|████████▊ | 492/560 [00:14<00:01, 34.76it/s]"
     ]
    },
    {
     "name": "stdout",
     "output_type": "stream",
     "text": [
      "multilayer_perceptron ran in: 0.004002571105957031 sec\n",
      "multilayer_perceptron ran in: 0.003999471664428711 sec\n",
      "multilayer_perceptron ran in: 0.0009984970092773438 sec\n",
      "multilayer_perceptron ran in: 0.0 sec\n",
      "multilayer_perceptron ran in: 0.0 sec\n",
      "multilayer_perceptron ran in: 0.0 sec\n",
      "multilayer_perceptron ran in: 0.0 sec\n"
     ]
    },
    {
     "name": "stderr",
     "output_type": "stream",
     "text": [
      "\r",
      " 89%|████████▊ | 496/560 [00:14<00:01, 34.68it/s]"
     ]
    },
    {
     "name": "stdout",
     "output_type": "stream",
     "text": [
      "multilayer_perceptron ran in: 0.0 sec\n",
      "multilayer_perceptron ran in: 0.0 sec\n",
      "multilayer_perceptron ran in: 0.004003286361694336 sec\n",
      "multilayer_perceptron ran in: 0.0 sec\n",
      "multilayer_perceptron ran in: 0.0 sec\n",
      "multilayer_perceptron ran in: 0.0 sec\n",
      "multilayer_perceptron ran in: 0.0 sec\n"
     ]
    },
    {
     "name": "stderr",
     "output_type": "stream",
     "text": [
      " 90%|█████████ | 504/560 [00:14<00:01, 34.62it/s]"
     ]
    },
    {
     "name": "stdout",
     "output_type": "stream",
     "text": [
      "multilayer_perceptron ran in: 0.0 sec\n",
      "multilayer_perceptron ran in: 0.0 sec\n",
      "multilayer_perceptron ran in: 0.0 sec\n",
      "multilayer_perceptron ran in: 0.0 sec\n",
      "multilayer_perceptron ran in: 0.0 sec\n",
      "multilayer_perceptron ran in: 0.003996849060058594 sec\n",
      "multilayer_perceptron ran in: 0.0 sec\n"
     ]
    },
    {
     "name": "stderr",
     "output_type": "stream",
     "text": [
      " 91%|█████████▏| 512/560 [00:15<00:01, 34.05it/s]"
     ]
    },
    {
     "name": "stdout",
     "output_type": "stream",
     "text": [
      "multilayer_perceptron ran in: 0.0 sec\n",
      "multilayer_perceptron ran in: 0.004001617431640625 sec\n",
      "multilayer_perceptron ran in: 0.0 sec\n",
      "multilayer_perceptron ran in: 0.004015684127807617 sec\n",
      "multilayer_perceptron ran in: 0.0039997100830078125 sec\n",
      "multilayer_perceptron ran in: 0.0 sec\n",
      "multilayer_perceptron ran in: 0.0 sec\n"
     ]
    },
    {
     "name": "stderr",
     "output_type": "stream",
     "text": [
      " 93%|█████████▎| 520/560 [00:15<00:01, 34.00it/s]"
     ]
    },
    {
     "name": "stdout",
     "output_type": "stream",
     "text": [
      "multilayer_perceptron ran in: 0.004007816314697266 sec\n",
      "multilayer_perceptron ran in: 0.0 sec\n",
      "multilayer_perceptron ran in: 0.0 sec\n",
      "multilayer_perceptron ran in: 0.0 sec\n",
      "multilayer_perceptron ran in: 0.0 sec\n",
      "multilayer_perceptron ran in: 0.0039806365966796875 sec\n",
      "multilayer_perceptron ran in: 0.0 sec\n"
     ]
    },
    {
     "name": "stderr",
     "output_type": "stream",
     "text": [
      " 94%|█████████▍| 528/560 [00:15<00:00, 34.00it/s]"
     ]
    },
    {
     "name": "stdout",
     "output_type": "stream",
     "text": [
      "multilayer_perceptron ran in: 0.004002094268798828 sec\n",
      "multilayer_perceptron ran in: 0.0 sec\n",
      "multilayer_perceptron ran in: 0.004002571105957031 sec\n",
      "multilayer_perceptron ran in: 0.0 sec\n",
      "multilayer_perceptron ran in: 0.0 sec\n",
      "multilayer_perceptron ran in: 0.0 sec\n",
      "multilayer_perceptron ran in: 0.003998994827270508 sec\n"
     ]
    },
    {
     "name": "stderr",
     "output_type": "stream",
     "text": [
      "\r",
      " 95%|█████████▌| 532/560 [00:15<00:00, 33.99it/s]"
     ]
    },
    {
     "name": "stdout",
     "output_type": "stream",
     "text": [
      "multilayer_perceptron ran in: 0.0 sec\n",
      "multilayer_perceptron ran in: 0.0 sec\n",
      "multilayer_perceptron ran in: 0.004002094268798828 sec\n",
      "multilayer_perceptron ran in: 0.0 sec\n",
      "multilayer_perceptron ran in: 0.0 sec\n",
      "multilayer_perceptron ran in: 0.0 sec\n",
      "multilayer_perceptron ran in: 0.0 sec\n"
     ]
    },
    {
     "name": "stderr",
     "output_type": "stream",
     "text": [
      " 96%|█████████▋| 540/560 [00:15<00:00, 33.91it/s]"
     ]
    },
    {
     "name": "stdout",
     "output_type": "stream",
     "text": [
      "multilayer_perceptron ran in: 0.0 sec\n",
      "multilayer_perceptron ran in: 0.0 sec\n",
      "multilayer_perceptron ran in: 0.0 sec\n",
      "multilayer_perceptron ran in: 0.004000186920166016 sec\n",
      "multilayer_perceptron ran in: 0.0 sec\n",
      "multilayer_perceptron ran in: 0.0 sec\n",
      "multilayer_perceptron ran in: 0.004008054733276367 sec\n",
      "multilayer_perceptron ran in: 0.0 sec\n"
     ]
    },
    {
     "name": "stderr",
     "output_type": "stream",
     "text": [
      " 98%|█████████▊| 548/560 [00:16<00:00, 33.95it/s]"
     ]
    },
    {
     "name": "stdout",
     "output_type": "stream",
     "text": [
      "multilayer_perceptron ran in: 0.003984928131103516 sec\n",
      "multilayer_perceptron ran in: 0.0 sec\n",
      "multilayer_perceptron ran in: 0.0 sec\n",
      "multilayer_perceptron ran in: 0.0 sec\n",
      "multilayer_perceptron ran in: 0.0 sec\n",
      "multilayer_perceptron ran in: 0.0 sec\n",
      "multilayer_perceptron ran in: 0.0 sec\n",
      "multilayer_perceptron ran in: 0.0 sec\n"
     ]
    },
    {
     "name": "stderr",
     "output_type": "stream",
     "text": [
      " 99%|█████████▉| 556/560 [00:16<00:00, 33.83it/s]"
     ]
    },
    {
     "name": "stdout",
     "output_type": "stream",
     "text": [
      "multilayer_perceptron ran in: 0.003999471664428711 sec\n",
      "multilayer_perceptron ran in: 0.0 sec\n",
      "multilayer_perceptron ran in: 0.0 sec\n",
      "multilayer_perceptron ran in: 0.0 sec\n",
      "multilayer_perceptron ran in: 0.00400090217590332 sec\n",
      "multilayer_perceptron ran in: 0.0 sec\n",
      "multilayer_perceptron ran in: 0.0 sec\n",
      "multilayer_perceptron ran in: 0.0 sec\n"
     ]
    },
    {
     "name": "stderr",
     "output_type": "stream",
     "text": [
      "100%|██████████| 560/560 [00:16<00:00, 34.00it/s]\n"
     ]
    },
    {
     "name": "stdout",
     "output_type": "stream",
     "text": [
      "multilayer_perceptron ran in: 0.0 sec\n",
      "Epoch: 14 Cost=226579.8594\n"
     ]
    },
    {
     "name": "stderr",
     "output_type": "stream",
     "text": [
      "  1%|          | 4/560 [00:00<00:17, 32.51it/s]"
     ]
    },
    {
     "name": "stdout",
     "output_type": "stream",
     "text": [
      "multilayer_perceptron ran in: 0.0 sec\n",
      "multilayer_perceptron ran in: 0.0 sec\n",
      "multilayer_perceptron ran in: 0.0 sec\n",
      "multilayer_perceptron ran in: 0.0 sec\n",
      "multilayer_perceptron ran in: 0.0 sec\n",
      "multilayer_perceptron ran in: 0.0 sec\n",
      "multilayer_perceptron ran in: 0.0 sec\n"
     ]
    },
    {
     "name": "stderr",
     "output_type": "stream",
     "text": [
      "  2%|▏         | 12/560 [00:00<00:16, 33.43it/s]"
     ]
    },
    {
     "name": "stdout",
     "output_type": "stream",
     "text": [
      "multilayer_perceptron ran in: 0.0 sec\n",
      "multilayer_perceptron ran in: 0.0 sec\n",
      "multilayer_perceptron ran in: 0.0 sec\n",
      "multilayer_perceptron ran in: 0.0 sec\n",
      "multilayer_perceptron ran in: 0.0 sec\n",
      "multilayer_perceptron ran in: 0.0 sec\n"
     ]
    },
    {
     "name": "stderr",
     "output_type": "stream",
     "text": [
      "\r",
      "  3%|▎         | 16/560 [00:00<00:16, 33.13it/s]"
     ]
    },
    {
     "name": "stdout",
     "output_type": "stream",
     "text": [
      "multilayer_perceptron ran in: 0.0 sec\n",
      "multilayer_perceptron ran in: 0.0 sec\n",
      "multilayer_perceptron ran in: 0.0 sec\n",
      "multilayer_perceptron ran in: 0.0 sec\n",
      "multilayer_perceptron ran in: 0.0 sec\n",
      "multilayer_perceptron ran in: 0.0 sec\n",
      "multilayer_perceptron ran in: 0.0 sec\n"
     ]
    },
    {
     "name": "stderr",
     "output_type": "stream",
     "text": [
      "  4%|▍         | 24/560 [00:00<00:15, 33.92it/s]"
     ]
    },
    {
     "name": "stdout",
     "output_type": "stream",
     "text": [
      "multilayer_perceptron ran in: 0.0 sec\n",
      "multilayer_perceptron ran in: 0.015630006790161133 sec\n",
      "multilayer_perceptron ran in: 0.0 sec\n",
      "multilayer_perceptron ran in: 0.0 sec\n",
      "multilayer_perceptron ran in: 0.0 sec\n",
      "multilayer_perceptron ran in: 0.0 sec\n",
      "multilayer_perceptron ran in: 0.0 sec\n"
     ]
    },
    {
     "name": "stderr",
     "output_type": "stream",
     "text": [
      "  6%|▌         | 32/560 [00:00<00:15, 34.24it/s]"
     ]
    },
    {
     "name": "stdout",
     "output_type": "stream",
     "text": [
      "multilayer_perceptron ran in: 0.0 sec\n",
      "multilayer_perceptron ran in: 0.0 sec\n",
      "multilayer_perceptron ran in: 0.0 sec\n",
      "multilayer_perceptron ran in: 0.0 sec\n",
      "multilayer_perceptron ran in: 0.0 sec\n",
      "multilayer_perceptron ran in: 0.0 sec\n",
      "multilayer_perceptron ran in: 0.0 sec\n",
      "multilayer_perceptron ran in: 0.0 sec\n"
     ]
    },
    {
     "name": "stderr",
     "output_type": "stream",
     "text": [
      "  7%|▋         | 40/560 [00:01<00:15, 33.79it/s]"
     ]
    },
    {
     "name": "stdout",
     "output_type": "stream",
     "text": [
      "multilayer_perceptron ran in: 0.0 sec\n",
      "multilayer_perceptron ran in: 0.0 sec\n",
      "multilayer_perceptron ran in: 0.015625 sec\n",
      "multilayer_perceptron ran in: 0.0 sec\n",
      "multilayer_perceptron ran in: 0.0 sec\n",
      "multilayer_perceptron ran in: 0.0009999275207519531 sec\n",
      "multilayer_perceptron ran in: 0.0 sec\n",
      "multilayer_perceptron ran in: 0.0 sec\n"
     ]
    },
    {
     "name": "stderr",
     "output_type": "stream",
     "text": [
      "  9%|▊         | 48/560 [00:01<00:15, 33.22it/s]"
     ]
    },
    {
     "name": "stdout",
     "output_type": "stream",
     "text": [
      "multilayer_perceptron ran in: 0.0 sec\n",
      "multilayer_perceptron ran in: 0.0 sec\n",
      "multilayer_perceptron ran in: 0.0 sec\n",
      "multilayer_perceptron ran in: 0.006511688232421875 sec\n",
      "multilayer_perceptron ran in: 0.0 sec\n",
      "multilayer_perceptron ran in: 0.0 sec\n",
      "multilayer_perceptron ran in: 0.0 sec\n"
     ]
    },
    {
     "name": "stderr",
     "output_type": "stream",
     "text": [
      " 10%|█         | 56/560 [00:01<00:15, 32.57it/s]"
     ]
    },
    {
     "name": "stdout",
     "output_type": "stream",
     "text": [
      "multilayer_perceptron ran in: 0.0 sec\n",
      "multilayer_perceptron ran in: 0.0 sec\n",
      "multilayer_perceptron ran in: 0.0 sec\n",
      "multilayer_perceptron ran in: 0.0 sec\n",
      "multilayer_perceptron ran in: 0.0 sec\n",
      "multilayer_perceptron ran in: 0.0 sec\n",
      "multilayer_perceptron ran in: 0.0 sec\n"
     ]
    },
    {
     "name": "stderr",
     "output_type": "stream",
     "text": [
      " 11%|█▏        | 64/560 [00:01<00:14, 34.10it/s]"
     ]
    },
    {
     "name": "stdout",
     "output_type": "stream",
     "text": [
      "multilayer_perceptron ran in: 0.0 sec\n",
      "multilayer_perceptron ran in: 0.0 sec\n",
      "multilayer_perceptron ran in: 0.0 sec\n",
      "multilayer_perceptron ran in: 0.0 sec\n",
      "multilayer_perceptron ran in: 0.0 sec\n",
      "multilayer_perceptron ran in: 0.0 sec\n",
      "multilayer_perceptron ran in: 0.0 sec\n"
     ]
    },
    {
     "name": "stderr",
     "output_type": "stream",
     "text": [
      "\r",
      " 12%|█▏        | 68/560 [00:02<00:14, 32.90it/s]"
     ]
    },
    {
     "name": "stdout",
     "output_type": "stream",
     "text": [
      "multilayer_perceptron ran in: 0.0 sec\n",
      "multilayer_perceptron ran in: 0.0 sec\n",
      "multilayer_perceptron ran in: 0.0 sec\n",
      "multilayer_perceptron ran in: 0.0 sec\n",
      "multilayer_perceptron ran in: 0.0 sec\n",
      "multilayer_perceptron ran in: 0.0 sec\n",
      "multilayer_perceptron ran in: 0.0 sec\n"
     ]
    },
    {
     "name": "stderr",
     "output_type": "stream",
     "text": [
      " 14%|█▎        | 76/560 [00:02<00:14, 33.70it/s]"
     ]
    },
    {
     "name": "stdout",
     "output_type": "stream",
     "text": [
      "multilayer_perceptron ran in: 0.0 sec\n",
      "multilayer_perceptron ran in: 0.0 sec\n",
      "multilayer_perceptron ran in: 0.0 sec\n",
      "multilayer_perceptron ran in: 0.0 sec\n",
      "multilayer_perceptron ran in: 0.015624046325683594 sec\n",
      "multilayer_perceptron ran in: 0.0 sec\n",
      "multilayer_perceptron ran in: 0.0 sec\n"
     ]
    },
    {
     "name": "stderr",
     "output_type": "stream",
     "text": [
      " 15%|█▌        | 84/560 [00:02<00:14, 32.44it/s]"
     ]
    },
    {
     "name": "stdout",
     "output_type": "stream",
     "text": [
      "multilayer_perceptron ran in: 0.0 sec\n",
      "multilayer_perceptron ran in: 0.0 sec\n",
      "multilayer_perceptron ran in: 0.0 sec\n",
      "multilayer_perceptron ran in: 0.0 sec\n",
      "multilayer_perceptron ran in: 0.0 sec\n",
      "multilayer_perceptron ran in: 0.0 sec\n"
     ]
    },
    {
     "name": "stderr",
     "output_type": "stream",
     "text": [
      "\r",
      " 16%|█▌        | 88/560 [00:02<00:14, 33.04it/s]"
     ]
    },
    {
     "name": "stdout",
     "output_type": "stream",
     "text": [
      "multilayer_perceptron ran in: 0.015627145767211914 sec\n",
      "multilayer_perceptron ran in: 0.0 sec\n",
      "multilayer_perceptron ran in: 0.0 sec\n",
      "multilayer_perceptron ran in: 0.0 sec\n",
      "multilayer_perceptron ran in: 0.0 sec\n",
      "multilayer_perceptron ran in: 0.0065267086029052734 sec\n",
      "multilayer_perceptron ran in: 0.0 sec\n"
     ]
    },
    {
     "name": "stderr",
     "output_type": "stream",
     "text": [
      " 17%|█▋        | 96/560 [00:02<00:14, 32.86it/s]"
     ]
    },
    {
     "name": "stdout",
     "output_type": "stream",
     "text": [
      "multilayer_perceptron ran in: 0.0 sec\n",
      "multilayer_perceptron ran in: 0.0 sec\n",
      "multilayer_perceptron ran in: 0.0 sec\n",
      "multilayer_perceptron ran in: 0.0 sec\n",
      "multilayer_perceptron ran in: 0.0 sec\n",
      "multilayer_perceptron ran in: 0.0 sec\n",
      "multilayer_perceptron ran in: 0.0 sec\n"
     ]
    },
    {
     "name": "stderr",
     "output_type": "stream",
     "text": [
      " 19%|█▊        | 104/560 [00:03<00:13, 33.31it/s]"
     ]
    },
    {
     "name": "stdout",
     "output_type": "stream",
     "text": [
      "multilayer_perceptron ran in: 0.0 sec\n",
      "multilayer_perceptron ran in: 0.0 sec\n",
      "multilayer_perceptron ran in: 0.0 sec\n",
      "multilayer_perceptron ran in: 0.0 sec\n",
      "multilayer_perceptron ran in: 0.0 sec\n",
      "multilayer_perceptron ran in: 0.0 sec\n",
      "multilayer_perceptron ran in: 0.0 sec\n"
     ]
    },
    {
     "name": "stderr",
     "output_type": "stream",
     "text": [
      "\r",
      " 19%|█▉        | 108/560 [00:03<00:13, 32.39it/s]"
     ]
    },
    {
     "name": "stdout",
     "output_type": "stream",
     "text": [
      "multilayer_perceptron ran in: 0.0 sec\n",
      "multilayer_perceptron ran in: 0.0 sec\n",
      "multilayer_perceptron ran in: 0.0 sec\n",
      "multilayer_perceptron ran in: 0.0 sec\n",
      "multilayer_perceptron ran in: 0.0065097808837890625 sec\n",
      "multilayer_perceptron ran in: 0.0 sec\n",
      "multilayer_perceptron ran in: 0.0 sec\n"
     ]
    },
    {
     "name": "stderr",
     "output_type": "stream",
     "text": [
      " 21%|██        | 116/560 [00:03<00:13, 32.90it/s]"
     ]
    },
    {
     "name": "stdout",
     "output_type": "stream",
     "text": [
      "multilayer_perceptron ran in: 0.0 sec\n",
      "multilayer_perceptron ran in: 0.0 sec\n",
      "multilayer_perceptron ran in: 0.0 sec\n",
      "multilayer_perceptron ran in: 0.0 sec\n",
      "multilayer_perceptron ran in: 0.0 sec\n",
      "multilayer_perceptron ran in: 0.0 sec\n",
      "multilayer_perceptron ran in: 0.0 sec\n"
     ]
    },
    {
     "name": "stderr",
     "output_type": "stream",
     "text": [
      " 22%|██▏       | 124/560 [00:03<00:13, 32.42it/s]"
     ]
    },
    {
     "name": "stdout",
     "output_type": "stream",
     "text": [
      "multilayer_perceptron ran in: 0.0 sec\n",
      "multilayer_perceptron ran in: 0.0 sec\n",
      "multilayer_perceptron ran in: 0.0 sec\n",
      "multilayer_perceptron ran in: 0.006509065628051758 sec\n",
      "multilayer_perceptron ran in: 0.0 sec\n",
      "multilayer_perceptron ran in: 0.0 sec\n",
      "multilayer_perceptron ran in: 0.0 sec\n"
     ]
    },
    {
     "name": "stderr",
     "output_type": "stream",
     "text": [
      " 24%|██▎       | 132/560 [00:03<00:12, 33.46it/s]"
     ]
    },
    {
     "name": "stdout",
     "output_type": "stream",
     "text": [
      "multilayer_perceptron ran in: 0.0 sec\n",
      "multilayer_perceptron ran in: 0.015614986419677734 sec\n",
      "multilayer_perceptron ran in: 0.0156252384185791 sec\n",
      "multilayer_perceptron ran in: 0.0 sec\n",
      "multilayer_perceptron ran in: 0.0 sec\n",
      "multilayer_perceptron ran in: 0.0 sec\n",
      "multilayer_perceptron ran in: 0.0 sec\n"
     ]
    },
    {
     "name": "stderr",
     "output_type": "stream",
     "text": [
      "\r",
      " 24%|██▍       | 136/560 [00:04<00:12, 33.22it/s]"
     ]
    },
    {
     "name": "stdout",
     "output_type": "stream",
     "text": [
      "multilayer_perceptron ran in: 0.0 sec\n",
      "multilayer_perceptron ran in: 0.0 sec\n",
      "multilayer_perceptron ran in: 0.0 sec\n",
      "multilayer_perceptron ran in: 0.0 sec\n",
      "multilayer_perceptron ran in: 0.0 sec\n",
      "multilayer_perceptron ran in: 0.0 sec\n",
      "multilayer_perceptron ran in: 0.0 sec\n"
     ]
    },
    {
     "name": "stderr",
     "output_type": "stream",
     "text": [
      " 26%|██▌       | 144/560 [00:04<00:12, 32.95it/s]"
     ]
    },
    {
     "name": "stdout",
     "output_type": "stream",
     "text": [
      "multilayer_perceptron ran in: 0.0 sec\n",
      "multilayer_perceptron ran in: 0.0 sec\n",
      "multilayer_perceptron ran in: 0.0 sec\n",
      "multilayer_perceptron ran in: 0.0 sec\n",
      "multilayer_perceptron ran in: 0.0 sec\n",
      "multilayer_perceptron ran in: 0.015626907348632812 sec\n",
      "multilayer_perceptron ran in: 0.0 sec\n"
     ]
    },
    {
     "name": "stderr",
     "output_type": "stream",
     "text": [
      " 27%|██▋       | 152/560 [00:04<00:12, 32.45it/s]"
     ]
    },
    {
     "name": "stdout",
     "output_type": "stream",
     "text": [
      "multilayer_perceptron ran in: 0.0 sec\n",
      "multilayer_perceptron ran in: 0.0 sec\n",
      "multilayer_perceptron ran in: 0.0 sec\n",
      "multilayer_perceptron ran in: 0.0 sec\n",
      "multilayer_perceptron ran in: 0.0 sec\n",
      "multilayer_perceptron ran in: 0.0 sec\n",
      "multilayer_perceptron ran in: 0.0 sec\n"
     ]
    },
    {
     "name": "stderr",
     "output_type": "stream",
     "text": [
      " 29%|██▊       | 160/560 [00:04<00:12, 32.71it/s]"
     ]
    },
    {
     "name": "stdout",
     "output_type": "stream",
     "text": [
      "multilayer_perceptron ran in: 0.0 sec\n",
      "multilayer_perceptron ran in: 0.0 sec\n",
      "multilayer_perceptron ran in: 0.0 sec\n",
      "multilayer_perceptron ran in: 0.0 sec\n",
      "multilayer_perceptron ran in: 0.0 sec\n",
      "multilayer_perceptron ran in: 0.015635967254638672 sec\n",
      "multilayer_perceptron ran in: 0.0 sec\n",
      "multilayer_perceptron ran in: 0.0 sec\n"
     ]
    },
    {
     "name": "stderr",
     "output_type": "stream",
     "text": [
      " 30%|███       | 168/560 [00:05<00:11, 33.60it/s]"
     ]
    },
    {
     "name": "stdout",
     "output_type": "stream",
     "text": [
      "multilayer_perceptron ran in: 0.0 sec\n",
      "multilayer_perceptron ran in: 0.0 sec\n",
      "multilayer_perceptron ran in: 0.0 sec\n",
      "multilayer_perceptron ran in: 0.0 sec\n",
      "multilayer_perceptron ran in: 0.0 sec\n",
      "multilayer_perceptron ran in: 0.0 sec\n",
      "multilayer_perceptron ran in: 0.0 sec\n",
      "multilayer_perceptron ran in: 0.0 sec\n"
     ]
    },
    {
     "name": "stderr",
     "output_type": "stream",
     "text": [
      " 31%|███▏      | 176/560 [00:05<00:11, 33.50it/s]"
     ]
    },
    {
     "name": "stdout",
     "output_type": "stream",
     "text": [
      "multilayer_perceptron ran in: 0.0 sec\n",
      "multilayer_perceptron ran in: 0.0 sec\n",
      "multilayer_perceptron ran in: 0.0 sec\n",
      "multilayer_perceptron ran in: 0.0 sec\n",
      "multilayer_perceptron ran in: 0.0 sec\n",
      "multilayer_perceptron ran in: 0.0 sec\n",
      "multilayer_perceptron ran in: 0.0 sec\n"
     ]
    },
    {
     "name": "stderr",
     "output_type": "stream",
     "text": [
      " 33%|███▎      | 184/560 [00:05<00:11, 34.01it/s]"
     ]
    },
    {
     "name": "stdout",
     "output_type": "stream",
     "text": [
      "multilayer_perceptron ran in: 0.0 sec\n",
      "multilayer_perceptron ran in: 0.0 sec\n",
      "multilayer_perceptron ran in: 0.0 sec\n",
      "multilayer_perceptron ran in: 0.0 sec\n",
      "multilayer_perceptron ran in: 0.0 sec\n",
      "multilayer_perceptron ran in: 0.0 sec\n",
      "multilayer_perceptron ran in: 0.0 sec\n"
     ]
    },
    {
     "name": "stderr",
     "output_type": "stream",
     "text": [
      "\r",
      " 34%|███▎      | 188/560 [00:05<00:10, 34.16it/s]"
     ]
    },
    {
     "name": "stdout",
     "output_type": "stream",
     "text": [
      "multilayer_perceptron ran in: 0.0 sec\n",
      "multilayer_perceptron ran in: 0.0 sec\n",
      "multilayer_perceptron ran in: 0.006527423858642578 sec\n",
      "multilayer_perceptron ran in: 0.0 sec\n",
      "multilayer_perceptron ran in: 0.0 sec\n",
      "multilayer_perceptron ran in: 0.0 sec\n",
      "multilayer_perceptron ran in: 0.0 sec\n"
     ]
    },
    {
     "name": "stderr",
     "output_type": "stream",
     "text": [
      " 35%|███▌      | 196/560 [00:05<00:10, 34.33it/s]"
     ]
    },
    {
     "name": "stdout",
     "output_type": "stream",
     "text": [
      "multilayer_perceptron ran in: 0.0 sec\n",
      "multilayer_perceptron ran in: 0.0 sec\n",
      "multilayer_perceptron ran in: 0.0 sec\n",
      "multilayer_perceptron ran in: 0.0 sec\n",
      "multilayer_perceptron ran in: 0.015626192092895508 sec\n",
      "multilayer_perceptron ran in: 0.0 sec\n",
      "multilayer_perceptron ran in: 0.0 sec\n"
     ]
    },
    {
     "name": "stderr",
     "output_type": "stream",
     "text": [
      " 36%|███▋      | 204/560 [00:06<00:10, 35.27it/s]"
     ]
    },
    {
     "name": "stdout",
     "output_type": "stream",
     "text": [
      "multilayer_perceptron ran in: 0.0 sec\n",
      "multilayer_perceptron ran in: 0.0 sec\n",
      "multilayer_perceptron ran in: 0.0 sec\n",
      "multilayer_perceptron ran in: 0.0 sec\n",
      "multilayer_perceptron ran in: 0.0 sec\n",
      "multilayer_perceptron ran in: 0.01562356948852539 sec\n",
      "multilayer_perceptron ran in: 0.0 sec\n"
     ]
    },
    {
     "name": "stderr",
     "output_type": "stream",
     "text": [
      " 38%|███▊      | 212/560 [00:06<00:09, 34.88it/s]"
     ]
    },
    {
     "name": "stdout",
     "output_type": "stream",
     "text": [
      "multilayer_perceptron ran in: 0.0 sec\n",
      "multilayer_perceptron ran in: 0.0 sec\n",
      "multilayer_perceptron ran in: 0.0 sec\n",
      "multilayer_perceptron ran in: 0.0 sec\n",
      "multilayer_perceptron ran in: 0.0 sec\n",
      "multilayer_perceptron ran in: 0.0 sec\n",
      "multilayer_perceptron ran in: 0.0 sec\n"
     ]
    },
    {
     "name": "stderr",
     "output_type": "stream",
     "text": [
      "\r",
      " 39%|███▊      | 216/560 [00:06<00:09, 34.77it/s]"
     ]
    },
    {
     "name": "stdout",
     "output_type": "stream",
     "text": [
      "multilayer_perceptron ran in: 0.0 sec\n",
      "multilayer_perceptron ran in: 0.0 sec\n",
      "multilayer_perceptron ran in: 0.0 sec\n",
      "multilayer_perceptron ran in: 0.0 sec\n",
      "multilayer_perceptron ran in: 0.0 sec\n",
      "multilayer_perceptron ran in: 0.0 sec\n",
      "multilayer_perceptron ran in: 0.0 sec\n"
     ]
    },
    {
     "name": "stderr",
     "output_type": "stream",
     "text": [
      " 40%|████      | 224/560 [00:06<00:09, 34.63it/s]"
     ]
    },
    {
     "name": "stdout",
     "output_type": "stream",
     "text": [
      "multilayer_perceptron ran in: 0.0 sec\n",
      "multilayer_perceptron ran in: 0.0 sec\n",
      "multilayer_perceptron ran in: 0.0 sec\n",
      "multilayer_perceptron ran in: 0.0 sec\n",
      "multilayer_perceptron ran in: 0.0 sec\n",
      "multilayer_perceptron ran in: 0.0 sec\n",
      "multilayer_perceptron ran in: 0.0 sec\n",
      "multilayer_perceptron ran in: 0.0 sec\n"
     ]
    },
    {
     "name": "stderr",
     "output_type": "stream",
     "text": [
      " 41%|████▏     | 232/560 [00:06<00:09, 34.17it/s]"
     ]
    },
    {
     "name": "stdout",
     "output_type": "stream",
     "text": [
      "multilayer_perceptron ran in: 0.0 sec\n",
      "multilayer_perceptron ran in: 0.015637636184692383 sec\n",
      "multilayer_perceptron ran in: 0.0 sec\n",
      "multilayer_perceptron ran in: 0.0 sec\n",
      "multilayer_perceptron ran in: 0.0 sec\n",
      "multilayer_perceptron ran in: 0.0 sec\n",
      "multilayer_perceptron ran in: 0.0 sec\n"
     ]
    },
    {
     "name": "stderr",
     "output_type": "stream",
     "text": [
      " 43%|████▎     | 240/560 [00:07<00:09, 34.34it/s]"
     ]
    },
    {
     "name": "stdout",
     "output_type": "stream",
     "text": [
      "multilayer_perceptron ran in: 0.0 sec\n",
      "multilayer_perceptron ran in: 0.0 sec\n",
      "multilayer_perceptron ran in: 0.0 sec\n",
      "multilayer_perceptron ran in: 0.0 sec\n",
      "multilayer_perceptron ran in: 0.0 sec\n",
      "multilayer_perceptron ran in: 0.0 sec\n",
      "multilayer_perceptron ran in: 0.015612125396728516 sec\n"
     ]
    },
    {
     "name": "stderr",
     "output_type": "stream",
     "text": [
      "\r",
      " 44%|████▎     | 244/560 [00:07<00:09, 34.39it/s]"
     ]
    },
    {
     "name": "stdout",
     "output_type": "stream",
     "text": [
      "multilayer_perceptron ran in: 0.0 sec\n",
      "multilayer_perceptron ran in: 0.0 sec\n",
      "multilayer_perceptron ran in: 0.0 sec\n",
      "multilayer_perceptron ran in: 0.015614032745361328 sec\n",
      "multilayer_perceptron ran in: 0.0 sec\n",
      "multilayer_perceptron ran in: 0.0 sec\n",
      "multilayer_perceptron ran in: 0.0 sec\n"
     ]
    },
    {
     "name": "stderr",
     "output_type": "stream",
     "text": [
      " 45%|████▌     | 252/560 [00:07<00:08, 34.45it/s]"
     ]
    },
    {
     "name": "stdout",
     "output_type": "stream",
     "text": [
      "multilayer_perceptron ran in: 0.0 sec\n",
      "multilayer_perceptron ran in: 0.0 sec\n",
      "multilayer_perceptron ran in: 0.0 sec\n",
      "multilayer_perceptron ran in: 0.0 sec\n",
      "multilayer_perceptron ran in: 0.0 sec\n",
      "multilayer_perceptron ran in: 0.0 sec\n",
      "multilayer_perceptron ran in: 0.015639781951904297 sec\n"
     ]
    },
    {
     "name": "stderr",
     "output_type": "stream",
     "text": [
      " 46%|████▋     | 260/560 [00:07<00:08, 35.06it/s]"
     ]
    },
    {
     "name": "stdout",
     "output_type": "stream",
     "text": [
      "multilayer_perceptron ran in: 0.0 sec\n",
      "multilayer_perceptron ran in: 0.0 sec\n",
      "multilayer_perceptron ran in: 0.0 sec\n",
      "multilayer_perceptron ran in: 0.015624523162841797 sec\n",
      "multilayer_perceptron ran in: 0.0 sec\n",
      "multilayer_perceptron ran in: 0.0 sec\n",
      "multilayer_perceptron ran in: 0.0 sec\n"
     ]
    },
    {
     "name": "stderr",
     "output_type": "stream",
     "text": [
      " 48%|████▊     | 268/560 [00:07<00:08, 34.80it/s]"
     ]
    },
    {
     "name": "stdout",
     "output_type": "stream",
     "text": [
      "multilayer_perceptron ran in: 0.01562952995300293 sec\n",
      "multilayer_perceptron ran in: 0.0 sec\n",
      "multilayer_perceptron ran in: 0.0 sec\n",
      "multilayer_perceptron ran in: 0.0009999275207519531 sec\n",
      "multilayer_perceptron ran in: 0.0 sec\n",
      "multilayer_perceptron ran in: 0.0 sec\n",
      "multilayer_perceptron ran in: 0.0 sec\n"
     ]
    },
    {
     "name": "stderr",
     "output_type": "stream",
     "text": [
      " 49%|████▉     | 276/560 [00:08<00:08, 31.58it/s]"
     ]
    },
    {
     "name": "stdout",
     "output_type": "stream",
     "text": [
      "multilayer_perceptron ran in: 0.0 sec\n",
      "multilayer_perceptron ran in: 0.0 sec\n",
      "multilayer_perceptron ran in: 0.0 sec\n",
      "multilayer_perceptron ran in: 0.0 sec\n",
      "multilayer_perceptron ran in: 0.0 sec\n",
      "multilayer_perceptron ran in: 0.015642166137695312 sec\n",
      "multilayer_perceptron ran in: 0.0 sec\n"
     ]
    },
    {
     "name": "stderr",
     "output_type": "stream",
     "text": [
      "\r",
      " 50%|█████     | 280/560 [00:08<00:08, 31.22it/s]"
     ]
    },
    {
     "name": "stdout",
     "output_type": "stream",
     "text": [
      "multilayer_perceptron ran in: 0.0 sec\n",
      "multilayer_perceptron ran in: 0.0 sec\n",
      "multilayer_perceptron ran in: 0.0 sec\n",
      "multilayer_perceptron ran in: 0.015629291534423828 sec\n",
      "multilayer_perceptron ran in: 0.0 sec\n",
      "multilayer_perceptron ran in: 0.0 sec\n",
      "multilayer_perceptron ran in: 0.0 sec\n"
     ]
    },
    {
     "name": "stderr",
     "output_type": "stream",
     "text": [
      " 51%|█████▏    | 288/560 [00:08<00:08, 32.30it/s]"
     ]
    },
    {
     "name": "stdout",
     "output_type": "stream",
     "text": [
      "multilayer_perceptron ran in: 0.0 sec\n",
      "multilayer_perceptron ran in: 0.0 sec\n",
      "multilayer_perceptron ran in: 0.0 sec\n",
      "multilayer_perceptron ran in: 0.0 sec\n",
      "multilayer_perceptron ran in: 0.0 sec\n",
      "multilayer_perceptron ran in: 0.0 sec\n",
      "multilayer_perceptron ran in: 0.0 sec\n"
     ]
    },
    {
     "name": "stderr",
     "output_type": "stream",
     "text": [
      " 53%|█████▎    | 296/560 [00:08<00:08, 32.50it/s]"
     ]
    },
    {
     "name": "stdout",
     "output_type": "stream",
     "text": [
      "multilayer_perceptron ran in: 0.0 sec\n",
      "multilayer_perceptron ran in: 0.0 sec\n",
      "multilayer_perceptron ran in: 0.0 sec\n",
      "multilayer_perceptron ran in: 0.0 sec\n",
      "multilayer_perceptron ran in: 0.0 sec\n",
      "multilayer_perceptron ran in: 0.0 sec\n",
      "multilayer_perceptron ran in: 0.0 sec\n"
     ]
    },
    {
     "name": "stderr",
     "output_type": "stream",
     "text": [
      "\r",
      " 54%|█████▎    | 300/560 [00:08<00:07, 33.08it/s]"
     ]
    },
    {
     "name": "stdout",
     "output_type": "stream",
     "text": [
      "multilayer_perceptron ran in: 0.0 sec\n",
      "multilayer_perceptron ran in: 0.0 sec\n",
      "multilayer_perceptron ran in: 0.0 sec\n",
      "multilayer_perceptron ran in: 0.0 sec\n",
      "multilayer_perceptron ran in: 0.0 sec\n",
      "multilayer_perceptron ran in: 0.0 sec\n",
      "multilayer_perceptron ran in: 0.0 sec\n"
     ]
    },
    {
     "name": "stderr",
     "output_type": "stream",
     "text": [
      " 55%|█████▌    | 308/560 [00:09<00:07, 33.64it/s]"
     ]
    },
    {
     "name": "stdout",
     "output_type": "stream",
     "text": [
      "multilayer_perceptron ran in: 0.0 sec\n",
      "multilayer_perceptron ran in: 0.0 sec\n",
      "multilayer_perceptron ran in: 0.0 sec\n",
      "multilayer_perceptron ran in: 0.0 sec\n",
      "multilayer_perceptron ran in: 0.0 sec\n",
      "multilayer_perceptron ran in: 0.0 sec\n",
      "multilayer_perceptron ran in: 0.0 sec\n"
     ]
    },
    {
     "name": "stderr",
     "output_type": "stream",
     "text": [
      " 56%|█████▋    | 316/560 [00:09<00:07, 33.15it/s]"
     ]
    },
    {
     "name": "stdout",
     "output_type": "stream",
     "text": [
      "multilayer_perceptron ran in: 0.0 sec\n",
      "multilayer_perceptron ran in: 0.0 sec\n",
      "multilayer_perceptron ran in: 0.0 sec\n",
      "multilayer_perceptron ran in: 0.006516218185424805 sec\n",
      "multilayer_perceptron ran in: 0.0 sec\n",
      "multilayer_perceptron ran in: 0.0 sec\n",
      "multilayer_perceptron ran in: 0.0 sec\n"
     ]
    },
    {
     "name": "stderr",
     "output_type": "stream",
     "text": [
      " 58%|█████▊    | 324/560 [00:09<00:07, 32.54it/s]"
     ]
    },
    {
     "name": "stdout",
     "output_type": "stream",
     "text": [
      "multilayer_perceptron ran in: 0.0 sec\n",
      "multilayer_perceptron ran in: 0.0 sec\n",
      "multilayer_perceptron ran in: 0.0 sec\n",
      "multilayer_perceptron ran in: 0.0 sec\n",
      "multilayer_perceptron ran in: 0.0 sec\n",
      "multilayer_perceptron ran in: 0.0 sec\n",
      "multilayer_perceptron ran in: 0.0 sec\n"
     ]
    },
    {
     "name": "stderr",
     "output_type": "stream",
     "text": [
      " 59%|█████▉    | 332/560 [00:09<00:06, 34.07it/s]"
     ]
    },
    {
     "name": "stdout",
     "output_type": "stream",
     "text": [
      "multilayer_perceptron ran in: 0.0 sec\n",
      "multilayer_perceptron ran in: 0.015625953674316406 sec\n",
      "multilayer_perceptron ran in: 0.0 sec\n",
      "multilayer_perceptron ran in: 0.0 sec\n",
      "multilayer_perceptron ran in: 0.0 sec\n",
      "multilayer_perceptron ran in: 0.0024993419647216797 sec\n",
      "multilayer_perceptron ran in: 0.0 sec\n"
     ]
    },
    {
     "name": "stderr",
     "output_type": "stream",
     "text": [
      "\r",
      " 60%|██████    | 336/560 [00:10<00:06, 32.88it/s]"
     ]
    },
    {
     "name": "stdout",
     "output_type": "stream",
     "text": [
      "multilayer_perceptron ran in: 0.0 sec\n",
      "multilayer_perceptron ran in: 0.0 sec\n",
      "multilayer_perceptron ran in: 0.0 sec\n",
      "multilayer_perceptron ran in: 0.0 sec\n",
      "multilayer_perceptron ran in: 0.0 sec\n",
      "multilayer_perceptron ran in: 0.0 sec\n",
      "multilayer_perceptron ran in: 0.0 sec\n"
     ]
    },
    {
     "name": "stderr",
     "output_type": "stream",
     "text": [
      " 61%|██████▏   | 344/560 [00:10<00:06, 33.69it/s]"
     ]
    },
    {
     "name": "stdout",
     "output_type": "stream",
     "text": [
      "multilayer_perceptron ran in: 0.0156404972076416 sec\n",
      "multilayer_perceptron ran in: 0.0 sec\n",
      "multilayer_perceptron ran in: 0.0 sec\n",
      "multilayer_perceptron ran in: 0.0 sec\n",
      "multilayer_perceptron ran in: 0.0 sec\n",
      "multilayer_perceptron ran in: 0.0 sec\n",
      "multilayer_perceptron ran in: 0.0 sec\n",
      "multilayer_perceptron ran in: 0.0 sec\n"
     ]
    },
    {
     "name": "stderr",
     "output_type": "stream",
     "text": [
      " 63%|██████▎   | 352/560 [00:10<00:06, 33.71it/s]"
     ]
    },
    {
     "name": "stdout",
     "output_type": "stream",
     "text": [
      "multilayer_perceptron ran in: 0.0 sec\n",
      "multilayer_perceptron ran in: 0.0 sec\n",
      "multilayer_perceptron ran in: 0.01562643051147461 sec\n",
      "multilayer_perceptron ran in: 0.0 sec\n",
      "multilayer_perceptron ran in: 0.0 sec\n",
      "multilayer_perceptron ran in: 0.0 sec\n",
      "multilayer_perceptron ran in: 0.0 sec\n"
     ]
    },
    {
     "name": "stderr",
     "output_type": "stream",
     "text": [
      " 64%|██████▍   | 360/560 [00:10<00:06, 33.19it/s]"
     ]
    },
    {
     "name": "stdout",
     "output_type": "stream",
     "text": [
      "multilayer_perceptron ran in: 0.015627622604370117 sec\n",
      "multilayer_perceptron ran in: 0.0 sec\n",
      "multilayer_perceptron ran in: 0.0 sec\n",
      "multilayer_perceptron ran in: 0.0 sec\n",
      "multilayer_perceptron ran in: 0.015636920928955078 sec\n",
      "multilayer_perceptron ran in: 0.0 sec\n",
      "multilayer_perceptron ran in: 0.0 sec\n"
     ]
    },
    {
     "name": "stderr",
     "output_type": "stream",
     "text": [
      "\r",
      " 65%|██████▌   | 364/560 [00:10<00:05, 33.57it/s]"
     ]
    },
    {
     "name": "stdout",
     "output_type": "stream",
     "text": [
      "multilayer_perceptron ran in: 0.0 sec\n",
      "multilayer_perceptron ran in: 0.0 sec\n",
      "multilayer_perceptron ran in: 0.0 sec\n",
      "multilayer_perceptron ran in: 0.0 sec\n",
      "multilayer_perceptron ran in: 0.0 sec\n",
      "multilayer_perceptron ran in: 0.0 sec\n"
     ]
    },
    {
     "name": "stderr",
     "output_type": "stream",
     "text": [
      " 66%|██████▋   | 372/560 [00:11<00:05, 33.65it/s]"
     ]
    },
    {
     "name": "stdout",
     "output_type": "stream",
     "text": [
      "multilayer_perceptron ran in: 0.0 sec\n",
      "multilayer_perceptron ran in: 0.0 sec\n",
      "multilayer_perceptron ran in: 0.015625476837158203 sec\n",
      "multilayer_perceptron ran in: 0.0 sec\n",
      "multilayer_perceptron ran in: 0.0 sec\n",
      "multilayer_perceptron ran in: 0.0 sec\n",
      "multilayer_perceptron ran in: 0.015624284744262695 sec\n"
     ]
    },
    {
     "name": "stderr",
     "output_type": "stream",
     "text": [
      " 68%|██████▊   | 380/560 [00:11<00:05, 34.09it/s]"
     ]
    },
    {
     "name": "stdout",
     "output_type": "stream",
     "text": [
      "multilayer_perceptron ran in: 0.0 sec\n",
      "multilayer_perceptron ran in: 0.0 sec\n",
      "multilayer_perceptron ran in: 0.015625953674316406 sec\n",
      "multilayer_perceptron ran in: 0.0 sec\n",
      "multilayer_perceptron ran in: 0.0 sec\n",
      "multilayer_perceptron ran in: 0.015627145767211914 sec\n",
      "multilayer_perceptron ran in: 0.0 sec\n"
     ]
    },
    {
     "name": "stderr",
     "output_type": "stream",
     "text": [
      " 69%|██████▉   | 388/560 [00:11<00:05, 34.30it/s]"
     ]
    },
    {
     "name": "stdout",
     "output_type": "stream",
     "text": [
      "multilayer_perceptron ran in: 0.0 sec\n",
      "multilayer_perceptron ran in: 0.0 sec\n",
      "multilayer_perceptron ran in: 0.015627622604370117 sec\n",
      "multilayer_perceptron ran in: 0.0 sec\n",
      "multilayer_perceptron ran in: 0.0 sec\n",
      "multilayer_perceptron ran in: 0.0 sec\n",
      "multilayer_perceptron ran in: 0.0156402587890625 sec\n"
     ]
    },
    {
     "name": "stderr",
     "output_type": "stream",
     "text": [
      "\r",
      " 70%|███████   | 392/560 [00:11<00:04, 33.80it/s]"
     ]
    },
    {
     "name": "stdout",
     "output_type": "stream",
     "text": [
      "multilayer_perceptron ran in: 0.015644311904907227 sec\n",
      "multilayer_perceptron ran in: 0.0 sec\n",
      "multilayer_perceptron ran in: 0.0 sec\n",
      "multilayer_perceptron ran in: 0.0 sec\n",
      "multilayer_perceptron ran in: 0.0 sec\n",
      "multilayer_perceptron ran in: 0.0 sec\n",
      "multilayer_perceptron ran in: 0.0 sec\n"
     ]
    },
    {
     "name": "stderr",
     "output_type": "stream",
     "text": [
      " 71%|███████▏  | 400/560 [00:11<00:04, 34.17it/s]"
     ]
    },
    {
     "name": "stdout",
     "output_type": "stream",
     "text": [
      "multilayer_perceptron ran in: 0.0 sec\n",
      "multilayer_perceptron ran in: 0.0 sec\n",
      "multilayer_perceptron ran in: 0.0 sec\n",
      "multilayer_perceptron ran in: 0.001068115234375 sec\n",
      "multilayer_perceptron ran in: 0.0 sec\n",
      "multilayer_perceptron ran in: 0.0 sec\n",
      "multilayer_perceptron ran in: 0.0 sec\n"
     ]
    },
    {
     "name": "stderr",
     "output_type": "stream",
     "text": [
      " 73%|███████▎  | 408/560 [00:12<00:04, 35.34it/s]"
     ]
    },
    {
     "name": "stdout",
     "output_type": "stream",
     "text": [
      "multilayer_perceptron ran in: 0.0 sec\n",
      "multilayer_perceptron ran in: 0.0 sec\n",
      "multilayer_perceptron ran in: 0.0 sec\n",
      "multilayer_perceptron ran in: 0.0 sec\n",
      "multilayer_perceptron ran in: 0.0 sec\n",
      "multilayer_perceptron ran in: 0.0 sec\n",
      "multilayer_perceptron ran in: 0.0 sec\n"
     ]
    },
    {
     "name": "stderr",
     "output_type": "stream",
     "text": [
      "\r",
      " 74%|███████▎  | 412/560 [00:12<00:04, 33.70it/s]"
     ]
    },
    {
     "name": "stdout",
     "output_type": "stream",
     "text": [
      "multilayer_perceptron ran in: 0.0 sec\n",
      "multilayer_perceptron ran in: 0.01564335823059082 sec\n",
      "multilayer_perceptron ran in: 0.0 sec\n",
      "multilayer_perceptron ran in: 0.0 sec\n",
      "multilayer_perceptron ran in: 0.0 sec\n",
      "multilayer_perceptron ran in: 0.0 sec\n",
      "multilayer_perceptron ran in: 0.0 sec\n"
     ]
    },
    {
     "name": "stderr",
     "output_type": "stream",
     "text": [
      " 75%|███████▌  | 420/560 [00:12<00:04, 34.93it/s]"
     ]
    },
    {
     "name": "stdout",
     "output_type": "stream",
     "text": [
      "multilayer_perceptron ran in: 0.0 sec\n",
      "multilayer_perceptron ran in: 0.0 sec\n",
      "multilayer_perceptron ran in: 0.0 sec\n",
      "multilayer_perceptron ran in: 0.0 sec\n",
      "multilayer_perceptron ran in: 0.0 sec\n",
      "multilayer_perceptron ran in: 0.0 sec\n",
      "multilayer_perceptron ran in: 0.0 sec\n"
     ]
    },
    {
     "name": "stderr",
     "output_type": "stream",
     "text": [
      " 76%|███████▋  | 428/560 [00:12<00:03, 34.71it/s]"
     ]
    },
    {
     "name": "stdout",
     "output_type": "stream",
     "text": [
      "multilayer_perceptron ran in: 0.0 sec\n",
      "multilayer_perceptron ran in: 0.0 sec\n",
      "multilayer_perceptron ran in: 0.0 sec\n",
      "multilayer_perceptron ran in: 0.0 sec\n",
      "multilayer_perceptron ran in: 0.0 sec\n",
      "multilayer_perceptron ran in: 0.0 sec\n",
      "multilayer_perceptron ran in: 0.0 sec\n",
      "multilayer_perceptron ran in: 0.0 sec\n"
     ]
    },
    {
     "name": "stderr",
     "output_type": "stream",
     "text": [
      " 78%|███████▊  | 436/560 [00:12<00:03, 34.61it/s]"
     ]
    },
    {
     "name": "stdout",
     "output_type": "stream",
     "text": [
      "multilayer_perceptron ran in: 0.0 sec\n",
      "multilayer_perceptron ran in: 0.0 sec\n",
      "multilayer_perceptron ran in: 0.0 sec\n",
      "multilayer_perceptron ran in: 0.0 sec\n",
      "multilayer_perceptron ran in: 0.0 sec\n",
      "multilayer_perceptron ran in: 0.0 sec\n",
      "multilayer_perceptron ran in: 0.0 sec\n",
      "multilayer_perceptron ran in: 0.0 sec\n"
     ]
    },
    {
     "name": "stderr",
     "output_type": "stream",
     "text": [
      " 79%|███████▉  | 444/560 [00:13<00:03, 33.98it/s]"
     ]
    },
    {
     "name": "stdout",
     "output_type": "stream",
     "text": [
      "multilayer_perceptron ran in: 0.0 sec\n",
      "multilayer_perceptron ran in: 0.0 sec\n",
      "multilayer_perceptron ran in: 0.0 sec\n",
      "multilayer_perceptron ran in: 0.0 sec\n",
      "multilayer_perceptron ran in: 0.0 sec\n"
     ]
    },
    {
     "name": "stderr",
     "output_type": "stream",
     "text": [
      "\r",
      " 80%|████████  | 448/560 [00:13<00:04, 26.32it/s]"
     ]
    },
    {
     "name": "stdout",
     "output_type": "stream",
     "text": [
      "multilayer_perceptron ran in: 0.015614748001098633 sec\n",
      "multilayer_perceptron ran in: 0.0 sec\n",
      "multilayer_perceptron ran in: 0.0 sec\n",
      "multilayer_perceptron ran in: 0.0 sec\n",
      "multilayer_perceptron ran in: 0.0 sec\n",
      "multilayer_perceptron ran in: 0.0 sec\n",
      "multilayer_perceptron ran in: 0.0 sec\n",
      "multilayer_perceptron ran in: 0.0 sec\n"
     ]
    },
    {
     "name": "stderr",
     "output_type": "stream",
     "text": [
      " 81%|████████▏ | 456/560 [00:13<00:03, 29.95it/s]"
     ]
    },
    {
     "name": "stdout",
     "output_type": "stream",
     "text": [
      "multilayer_perceptron ran in: 0.0 sec\n",
      "multilayer_perceptron ran in: 0.0 sec\n",
      "multilayer_perceptron ran in: 0.0 sec\n",
      "multilayer_perceptron ran in: 0.0 sec\n",
      "multilayer_perceptron ran in: 0.0 sec\n",
      "multilayer_perceptron ran in: 0.0 sec\n",
      "multilayer_perceptron ran in: 0.0 sec\n"
     ]
    },
    {
     "name": "stderr",
     "output_type": "stream",
     "text": [
      " 83%|████████▎ | 464/560 [00:13<00:03, 31.64it/s]"
     ]
    },
    {
     "name": "stdout",
     "output_type": "stream",
     "text": [
      "multilayer_perceptron ran in: 0.0 sec\n",
      "multilayer_perceptron ran in: 0.0 sec\n",
      "multilayer_perceptron ran in: 0.0 sec\n",
      "multilayer_perceptron ran in: 0.0 sec\n",
      "multilayer_perceptron ran in: 0.0 sec\n",
      "multilayer_perceptron ran in: 0.0 sec\n",
      "multilayer_perceptron ran in: 0.0 sec\n",
      "multilayer_perceptron ran in: 0.0 sec\n"
     ]
    },
    {
     "name": "stderr",
     "output_type": "stream",
     "text": [
      " 84%|████████▍ | 472/560 [00:14<00:02, 33.04it/s]"
     ]
    },
    {
     "name": "stdout",
     "output_type": "stream",
     "text": [
      "multilayer_perceptron ran in: 0.0 sec\n",
      "multilayer_perceptron ran in: 0.0 sec\n",
      "multilayer_perceptron ran in: 0.0 sec\n",
      "multilayer_perceptron ran in: 0.0 sec\n",
      "multilayer_perceptron ran in: 0.0 sec\n",
      "multilayer_perceptron ran in: 0.0 sec\n",
      "multilayer_perceptron ran in: 0.0 sec\n"
     ]
    },
    {
     "name": "stderr",
     "output_type": "stream",
     "text": [
      " 86%|████████▌ | 480/560 [00:14<00:02, 35.17it/s]"
     ]
    },
    {
     "name": "stdout",
     "output_type": "stream",
     "text": [
      "multilayer_perceptron ran in: 0.0 sec\n",
      "multilayer_perceptron ran in: 0.0 sec\n",
      "multilayer_perceptron ran in: 0.0 sec\n",
      "multilayer_perceptron ran in: 0.0 sec\n",
      "multilayer_perceptron ran in: 0.0 sec\n",
      "multilayer_perceptron ran in: 0.0 sec\n",
      "multilayer_perceptron ran in: 0.0 sec\n"
     ]
    },
    {
     "name": "stderr",
     "output_type": "stream",
     "text": [
      " 87%|████████▋ | 488/560 [00:14<00:02, 34.83it/s]"
     ]
    },
    {
     "name": "stdout",
     "output_type": "stream",
     "text": [
      "multilayer_perceptron ran in: 0.0 sec\n",
      "multilayer_perceptron ran in: 0.0 sec\n",
      "multilayer_perceptron ran in: 0.0 sec\n",
      "multilayer_perceptron ran in: 0.0 sec\n",
      "multilayer_perceptron ran in: 0.0 sec\n",
      "multilayer_perceptron ran in: 0.0 sec\n",
      "multilayer_perceptron ran in: 0.0 sec\n"
     ]
    },
    {
     "name": "stderr",
     "output_type": "stream",
     "text": [
      "\r",
      " 88%|████████▊ | 492/560 [00:14<00:01, 34.15it/s]"
     ]
    },
    {
     "name": "stdout",
     "output_type": "stream",
     "text": [
      "multilayer_perceptron ran in: 0.0 sec\n",
      "multilayer_perceptron ran in: 0.0 sec\n",
      "multilayer_perceptron ran in: 0.0 sec\n",
      "multilayer_perceptron ran in: 0.0 sec\n",
      "multilayer_perceptron ran in: 0.0 sec\n",
      "multilayer_perceptron ran in: 0.015614509582519531 sec\n",
      "multilayer_perceptron ran in: 0.0 sec\n"
     ]
    },
    {
     "name": "stderr",
     "output_type": "stream",
     "text": [
      " 89%|████████▉ | 500/560 [00:14<00:01, 34.34it/s]"
     ]
    },
    {
     "name": "stdout",
     "output_type": "stream",
     "text": [
      "multilayer_perceptron ran in: 0.0 sec\n",
      "multilayer_perceptron ran in: 0.0 sec\n",
      "multilayer_perceptron ran in: 0.015625 sec\n",
      "multilayer_perceptron ran in: 0.0 sec\n",
      "multilayer_perceptron ran in: 0.0 sec\n",
      "multilayer_perceptron ran in: 0.0 sec\n",
      "multilayer_perceptron ran in: 0.0 sec\n"
     ]
    },
    {
     "name": "stderr",
     "output_type": "stream",
     "text": [
      " 91%|█████████ | 508/560 [00:15<00:01, 34.44it/s]"
     ]
    },
    {
     "name": "stdout",
     "output_type": "stream",
     "text": [
      "multilayer_perceptron ran in: 0.0 sec\n",
      "multilayer_perceptron ran in: 0.0 sec\n",
      "multilayer_perceptron ran in: 0.0 sec\n",
      "multilayer_perceptron ran in: 0.0 sec\n",
      "multilayer_perceptron ran in: 0.0 sec\n",
      "multilayer_perceptron ran in: 0.0 sec\n",
      "multilayer_perceptron ran in: 0.0 sec\n",
      "multilayer_perceptron ran in: 0.0 sec\n"
     ]
    },
    {
     "name": "stderr",
     "output_type": "stream",
     "text": [
      " 92%|█████████▏| 516/560 [00:15<00:01, 33.91it/s]"
     ]
    },
    {
     "name": "stdout",
     "output_type": "stream",
     "text": [
      "multilayer_perceptron ran in: 0.0 sec\n",
      "multilayer_perceptron ran in: 0.0 sec\n",
      "multilayer_perceptron ran in: 0.0 sec\n",
      "multilayer_perceptron ran in: 0.0 sec\n",
      "multilayer_perceptron ran in: 0.0 sec\n",
      "multilayer_perceptron ran in: 0.0 sec\n"
     ]
    },
    {
     "name": "stderr",
     "output_type": "stream",
     "text": [
      "\r",
      " 93%|█████████▎| 520/560 [00:15<00:01, 34.08it/s]"
     ]
    },
    {
     "name": "stdout",
     "output_type": "stream",
     "text": [
      "multilayer_perceptron ran in: 0.0 sec\n",
      "multilayer_perceptron ran in: 0.0 sec\n",
      "multilayer_perceptron ran in: 0.0156252384185791 sec\n",
      "multilayer_perceptron ran in: 0.0 sec\n",
      "multilayer_perceptron ran in: 0.0 sec\n",
      "multilayer_perceptron ran in: 0.0 sec\n",
      "multilayer_perceptron ran in: 0.015623807907104492 sec\n"
     ]
    },
    {
     "name": "stderr",
     "output_type": "stream",
     "text": [
      " 94%|█████████▍| 528/560 [00:15<00:00, 34.30it/s]"
     ]
    },
    {
     "name": "stdout",
     "output_type": "stream",
     "text": [
      "multilayer_perceptron ran in: 0.0 sec\n",
      "multilayer_perceptron ran in: 0.0 sec\n",
      "multilayer_perceptron ran in: 0.0 sec\n",
      "multilayer_perceptron ran in: 0.0 sec\n",
      "multilayer_perceptron ran in: 0.0 sec\n",
      "multilayer_perceptron ran in: 0.0 sec\n",
      "multilayer_perceptron ran in: 0.0 sec\n"
     ]
    },
    {
     "name": "stderr",
     "output_type": "stream",
     "text": [
      " 96%|█████████▌| 536/560 [00:15<00:00, 34.55it/s]"
     ]
    },
    {
     "name": "stdout",
     "output_type": "stream",
     "text": [
      "multilayer_perceptron ran in: 0.0 sec\n",
      "multilayer_perceptron ran in: 0.0 sec\n",
      "multilayer_perceptron ran in: 0.0 sec\n",
      "multilayer_perceptron ran in: 0.0 sec\n",
      "multilayer_perceptron ran in: 0.0 sec\n",
      "multilayer_perceptron ran in: 0.0 sec\n",
      "multilayer_perceptron ran in: 0.0 sec\n"
     ]
    },
    {
     "name": "stderr",
     "output_type": "stream",
     "text": [
      " 97%|█████████▋| 544/560 [00:16<00:00, 34.13it/s]"
     ]
    },
    {
     "name": "stdout",
     "output_type": "stream",
     "text": [
      "multilayer_perceptron ran in: 0.01561284065246582 sec\n",
      "multilayer_perceptron ran in: 0.0 sec\n",
      "multilayer_perceptron ran in: 0.0 sec\n",
      "multilayer_perceptron ran in: 0.0 sec\n",
      "multilayer_perceptron ran in: 0.015625953674316406 sec\n",
      "multilayer_perceptron ran in: 0.0 sec\n",
      "multilayer_perceptron ran in: 0.0 sec\n"
     ]
    },
    {
     "name": "stderr",
     "output_type": "stream",
     "text": [
      "\r",
      " 98%|█████████▊| 548/560 [00:16<00:00, 34.24it/s]"
     ]
    },
    {
     "name": "stdout",
     "output_type": "stream",
     "text": [
      "multilayer_perceptron ran in: 0.0 sec\n",
      "multilayer_perceptron ran in: 0.0 sec\n",
      "multilayer_perceptron ran in: 0.015624284744262695 sec\n",
      "multilayer_perceptron ran in: 0.0 sec\n",
      "multilayer_perceptron ran in: 0.0 sec\n",
      "multilayer_perceptron ran in: 0.0 sec\n",
      "multilayer_perceptron ran in: 0.0 sec\n"
     ]
    },
    {
     "name": "stderr",
     "output_type": "stream",
     "text": [
      " 99%|█████████▉| 556/560 [00:16<00:00, 33.44it/s]"
     ]
    },
    {
     "name": "stdout",
     "output_type": "stream",
     "text": [
      "multilayer_perceptron ran in: 0.0 sec\n",
      "multilayer_perceptron ran in: 0.0 sec\n",
      "multilayer_perceptron ran in: 0.0 sec\n",
      "multilayer_perceptron ran in: 0.0 sec\n",
      "multilayer_perceptron ran in: 0.015625953674316406 sec\n",
      "multilayer_perceptron ran in: 0.0 sec\n",
      "multilayer_perceptron ran in: 0.0 sec\n"
     ]
    },
    {
     "name": "stderr",
     "output_type": "stream",
     "text": [
      "100%|██████████| 560/560 [00:16<00:00, 33.49it/s]"
     ]
    },
    {
     "name": "stdout",
     "output_type": "stream",
     "text": [
      "multilayer_perceptron ran in: 0.0 sec\n",
      "multilayer_perceptron ran in: 0.0 sec\n",
      "Epoch: 15 Cost=263220.6250\n",
      "Modellierung ist beendet: 15 Epochs of Training\n"
     ]
    },
    {
     "name": "stderr",
     "output_type": "stream",
     "text": [
      "\n"
     ]
    }
   ],
   "source": [
    "# Eingabe vom Benutzer: Prozentsatz der Daten, die verarbeitet werden sollen\n",
    "percentage_to_process = float(input(\"Geben Sie den Prozentsatz der Daten ein, der verarbeitet werden soll (0-100): \"))\n",
    "if percentage_to_process <= 0 or percentage_to_process > 100:\n",
    "    print(\"Ungültiger Prozentsatz. Bitte geben Sie einen Wert zwischen 0 und 100 ein.\")\n",
    "    exit()\n",
    "\n",
    "# Berechnen Sie die Anzahl der Datensätze, die verarbeitet werden sollen\n",
    "n_samples_to_process = int(n_samples * (percentage_to_process / 100))\n",
    "\n",
    "# Training Epochs\n",
    "for epoch in range(training_epochs):\n",
    "    avg_cost = 0.0\n",
    "    total_batch = int(n_samples_to_process / batch_size)\n",
    "\n",
    "    for i in tqdm(range(total_batch)):\n",
    "        # Den nächsten Batch an Trainingsdaten und -labels nehmen\n",
    "        batch_x = x_train[i * batch_size: (i + 1) * batch_size].reshape(-1, n_input)\n",
    "        batch_y = y_train[i * batch_size: (i + 1) * batch_size]\n",
    "\n",
    "        # Führen Sie die Optimierung und Cost-Berechnung durch\n",
    "        with tf.GradientTape() as tape:\n",
    "            pred = multilayer_perceptron(batch_x, weights, biases)\n",
    "            loss = tf.reduce_mean(tf.nn.softmax_cross_entropy_with_logits(labels=batch_y, logits=pred))\n",
    "        gradients = tape.gradient(loss, list(weights.values()) + list(biases.values()))\n",
    "        optimizer.apply_gradients(zip(gradients, list(weights.values()) + list(biases.values())))\n",
    "\n",
    "        avg_cost += loss / total_batch\n",
    "\n",
    "    print(\"Epoch: {} Cost={:.4f}\".format(epoch + 1, avg_cost))\n",
    "\n",
    "print(\"Modellierung ist beendet: {} Epochs of Training\".format(training_epochs))"
   ]
  },
  {
   "cell_type": "markdown",
   "metadata": {},
   "source": [
    "## Modell Auswertung\n",
    "\n",
    "Tensorflow bietet einige eingebaute Funktionen, die uns bei der Auswertung helfen. Dazu gehören `tf.equal` und `tf.reduce_mean`.\n",
    "\n",
    "\n",
    "### tf.equal\n",
    "\n",
    "Dies ist im Grunde genommen nur eine Kontrolle, ob die Vorhersagen mit den Labels übereinstimmen. Da wir in unserem Fall wissen, dass die Labels eine 1 in einem Array von Nullen sind, können wir `argmax()` verwenden, um die Position zu vergleichen. Denke daran, dass y immer noch der Platzhalter ist, den wir anfangs erstellt haben. Wir werden eine Reihe an Operationen durchführen, um einen Tensor zu erhalten, in den wir die Testdaten einlesen können, um es auszuwerten."
   ]
  },
  {
   "cell_type": "code",
   "execution_count": 26,
   "metadata": {},
   "outputs": [],
   "source": [
    "# Teste das Modell\n",
    "correct_predictions = tf.math.reduce_all(tf.equal(tf.argmax(pred, 1), tf.argmax(y, 1)))"
   ]
  },
  {
   "cell_type": "code",
   "execution_count": 27,
   "metadata": {},
   "outputs": [
    {
     "name": "stdout",
     "output_type": "stream",
     "text": [
      "KerasTensor(type_spec=TensorSpec(shape=(), dtype=tf.bool, name=None), name='tf.math.reduce_all/All:0', description=\"created by layer 'tf.math.reduce_all'\")\n"
     ]
    }
   ],
   "source": [
    "print(correct_predictions)"
   ]
  },
  {
   "cell_type": "markdown",
   "metadata": {},
   "source": [
    "Um numerische Werte für unsere Vorhersagen zu erhalten müssen wir `tf.cast` verwenden, um den Tensor mit Booleans zurückzuführen in einen Tensor mit Floats. Dann können wir den Durchschnitt nehmen."
   ]
  },
  {
   "cell_type": "code",
   "execution_count": 28,
   "metadata": {},
   "outputs": [],
   "source": [
    "correct_predictions = tf.cast(correct_predictions, \"float\")"
   ]
  },
  {
   "cell_type": "code",
   "execution_count": 29,
   "metadata": {},
   "outputs": [
    {
     "name": "stdout",
     "output_type": "stream",
     "text": [
      "KerasTensor(type_spec=TensorSpec(shape=(), dtype=tf.float32, name=None), name='tf.cast/Cast:0', description=\"created by layer 'tf.cast'\")\n"
     ]
    }
   ],
   "source": [
    "print(correct_predictions)"
   ]
  },
  {
   "cell_type": "markdown",
   "metadata": {},
   "source": [
    "Jetzt können wir `tf.reduce_mean` verwenden, um den Durchschnitt der Elemente im Tensor zu erhalten:"
   ]
  },
  {
   "cell_type": "code",
   "execution_count": 30,
   "metadata": {},
   "outputs": [],
   "source": [
    "accuracy = tf.reduce_mean(correct_predictions)"
   ]
  },
  {
   "cell_type": "code",
   "execution_count": 31,
   "metadata": {},
   "outputs": [
    {
     "data": {
      "text/plain": [
       "keras.engine.keras_tensor.KerasTensor"
      ]
     },
     "execution_count": 31,
     "metadata": {},
     "output_type": "execute_result"
    }
   ],
   "source": [
    "type(accuracy)"
   ]
  },
  {
   "cell_type": "markdown",
   "metadata": {},
   "source": [
    "Das wirkt evtl. etwas merkwürdig, aber diese Genauigkeit ist immer noch ein Tensor Objekt. Denke daran, dass wir immer noch die tatsächlichen Testdaten übergeben müssen. Jetzt können wir die MNIST Testlabels und Bilder aufrufen und die Genauigkeit auswerten!"
   ]
  },
  {
   "cell_type": "code",
   "execution_count": 32,
   "metadata": {},
   "outputs": [
    {
     "data": {
      "text/plain": [
       "46730    8\n",
       "48393    4\n",
       "41416    8\n",
       "34506    7\n",
       "43725    7\n",
       "        ..\n",
       "21525    3\n",
       "16276    5\n",
       "24390    2\n",
       "28061    7\n",
       "63452    1\n",
       "Name: class, Length: 14000, dtype: int32"
      ]
     },
     "execution_count": 32,
     "metadata": {},
     "output_type": "execute_result"
    }
   ],
   "source": [
    "y_test"
   ]
  },
  {
   "cell_type": "code",
   "execution_count": 33,
   "metadata": {},
   "outputs": [
    {
     "data": {
      "text/plain": [
       "array([[0., 0., 0., ..., 0., 0., 0.],\n",
       "       [0., 0., 0., ..., 0., 0., 0.],\n",
       "       [0., 0., 0., ..., 0., 0., 0.],\n",
       "       ...,\n",
       "       [0., 0., 0., ..., 0., 0., 0.],\n",
       "       [0., 0., 0., ..., 0., 0., 0.],\n",
       "       [0., 0., 0., ..., 0., 0., 0.]])"
      ]
     },
     "execution_count": 33,
     "metadata": {},
     "output_type": "execute_result"
    }
   ],
   "source": [
    "x_test"
   ]
  },
  {
   "cell_type": "markdown",
   "metadata": {},
   "source": [
    "Die `eval()` Methode erlaubt es uns direkt in der Session den Tensor auszuwerten ohne `tf.sess():mm` aufrufen zu müssen"
   ]
  },
  {
   "cell_type": "code",
   "execution_count": 34,
   "metadata": {},
   "outputs": [
    {
     "name": "stdout",
     "output_type": "stream",
     "text": [
      "Keine GPU gefunden. Verwende die CPU.\n",
      "Epoch 1/15\n",
      "438/438 [==============================] - 2s 3ms/step - loss: 0.2620 - sparse_categorical_accuracy: 0.9243\n",
      "Epoch 2/15\n",
      "438/438 [==============================] - 1s 3ms/step - loss: 0.0991 - sparse_categorical_accuracy: 0.9695\n",
      "Epoch 3/15\n",
      "438/438 [==============================] - 1s 3ms/step - loss: 0.0608 - sparse_categorical_accuracy: 0.9809\n",
      "Epoch 4/15\n",
      "438/438 [==============================] - 1s 3ms/step - loss: 0.0462 - sparse_categorical_accuracy: 0.9857\n",
      "Epoch 5/15\n",
      "438/438 [==============================] - 1s 3ms/step - loss: 0.0332 - sparse_categorical_accuracy: 0.9896\n",
      "Epoch 6/15\n",
      "438/438 [==============================] - 1s 3ms/step - loss: 0.0254 - sparse_categorical_accuracy: 0.9920\n",
      "Epoch 7/15\n",
      "438/438 [==============================] - 1s 3ms/step - loss: 0.0215 - sparse_categorical_accuracy: 0.9928\n",
      "Epoch 8/15\n",
      "438/438 [==============================] - 1s 3ms/step - loss: 0.0157 - sparse_categorical_accuracy: 0.9949\n",
      "Epoch 9/15\n",
      "438/438 [==============================] - 1s 3ms/step - loss: 0.0161 - sparse_categorical_accuracy: 0.9942\n",
      "Epoch 10/15\n",
      "438/438 [==============================] - 1s 3ms/step - loss: 0.0121 - sparse_categorical_accuracy: 0.9961\n",
      "Epoch 11/15\n",
      "438/438 [==============================] - 1s 3ms/step - loss: 0.0133 - sparse_categorical_accuracy: 0.9957\n",
      "Epoch 12/15\n",
      "438/438 [==============================] - 1s 3ms/step - loss: 0.0104 - sparse_categorical_accuracy: 0.9966\n",
      "Epoch 13/15\n",
      "438/438 [==============================] - 1s 3ms/step - loss: 0.0089 - sparse_categorical_accuracy: 0.9971\n",
      "Epoch 14/15\n",
      "438/438 [==============================] - 1s 3ms/step - loss: 0.0086 - sparse_categorical_accuracy: 0.9973\n",
      "Epoch 15/15\n",
      "438/438 [==============================] - 1s 3ms/step - loss: 0.0116 - sparse_categorical_accuracy: 0.9962\n",
      "438/438 [==============================] - 1s 1ms/step - loss: 0.1036 - sparse_categorical_accuracy: 0.9786\n",
      "Test Loss: 0.10357962548732758\n",
      "Test Accuracy: 0.9785714149475098\n"
     ]
    }
   ],
   "source": [
    "# Überprüfen, ob eine GPU verfügbar ist\n",
    "physical_devices = tf.config.experimental.list_physical_devices('GPU')\n",
    "if len(physical_devices) > 0:\n",
    "    print(\"GPU gefunden. Aktiviere GPU-Unterstützung.\")\n",
    "    tf.config.experimental.set_memory_growth(physical_devices[0], True)\n",
    "else:\n",
    "    print(\"Keine GPU gefunden. Verwende die CPU.\")\n",
    "\n",
    "# Erstellen des Modells\n",
    "model = tf.keras.models.Sequential([\n",
    "    tf.keras.layers.Flatten(input_shape=(n_input,)),  \n",
    "    tf.keras.layers.Dense(n_hidden_1, activation=tf.nn.relu),\n",
    "    tf.keras.layers.Dense(n_hidden_2, activation=tf.nn.relu),\n",
    "    tf.keras.layers.Dense(n_classes, activation=None)\n",
    "])\n",
    "\n",
    "# Kompilieren des Modells mit der Genauigkeitsmetrik\n",
    "model.compile(\n",
    "    optimizer=tf.keras.optimizers.Adam(learning_rate=learning_rate),\n",
    "    loss=tf.keras.losses.SparseCategoricalCrossentropy(from_logits=True),\n",
    "    metrics=[tf.keras.metrics.SparseCategoricalAccuracy()]\n",
    ")\n",
    "\n",
    "# Trainieren des Modells auf den Trainingsdaten in Batches mit einer erhöhten Batch-Größe\n",
    "x_train_flattened = x_train.reshape(-1, n_input)\n",
    "batch_size = 128  # Erhöhen Sie die Batch-Größe, um die GPU besser auszulasten\n",
    "model.fit(x_train_flattened, y_train, batch_size=batch_size, epochs=training_epochs)\n",
    "\n",
    "# Evaluieren der Genauigkeit auf den Testdaten (nur am Ende)\n",
    "x_test_flattened = x_test.reshape(-1, n_input)\n",
    "test_loss, test_accuracy = model.evaluate(x_test_flattened, y_test)\n",
    "\n",
    "print(\"Test Loss:\", test_loss)\n",
    "print(\"Test Accuracy:\", test_accuracy)"
   ]
  },
  {
   "cell_type": "markdown",
   "metadata": {},
   "source": [
    "# Initialisieren des Unittest"
   ]
  },
  {
   "cell_type": "markdown",
   "metadata": {},
   "source": [
    "Hier startet der Unittest, zu anfang werden die Datenausgelesen und anschließend die Train Accuracy und Test Accurracy ausgegeben."
   ]
  },
  {
   "cell_type": "code",
   "execution_count": 35,
   "metadata": {},
   "outputs": [
    {
     "name": "stderr",
     "output_type": "stream",
     "text": [
      "C:\\Users\\Phili\\anaconda3\\Lib\\site-packages\\sklearn\\datasets\\_openml.py:1002: FutureWarning: The default value of `parser` will change from `'liac-arff'` to `'auto'` in 1.4. You can set `parser='auto'` to silence this warning. Therefore, an `ImportError` will be raised from 1.4 if the dataset is dense and pandas is not installed. Note that the pandas parser may return different data types. See the Notes Section in fetch_openml's API doc for details.\n",
      "  warn(\n"
     ]
    },
    {
     "name": "stdout",
     "output_type": "stream",
     "text": [
      "MNIST: (70000, 784) (70000,)\n",
      "__init__ ran in: 0.0 sec\n",
      "fit ran in: 18.382298469543457 sec\n",
      "\n",
      "Train Accuracy: 72.8625 \n",
      "\n",
      "Train confusion matrix:\n",
      "[[5160    6   23   22   30   13  194   37   70    5]\n",
      " [   4 6047   94   31    1   22   29   32   17    0]\n",
      " [ 324  438 3388  134  250   21  729  179  108   39]\n",
      " [ 127  234  232 4173   46  247  109  127  255  158]\n",
      " [ 110  131   21   39 4236  332  244  123   86  207]\n",
      " [ 410  197   73  914  353 2194  299  320  172  108]\n",
      " [ 171   78   75   35  113  190 4758   22   38    0]\n",
      " [ 209  204  192   37  125   20   31 4680   41  251]\n",
      " [  69  702  167  597   64  189  367   45 3128  140]\n",
      " [ 154  155   44  229  599  276  145  658  239 3039]]\n",
      "\n",
      "Classification Report for the classifier:\n",
      "              precision    recall  f1-score   support\n",
      "\n",
      "           0       0.92      0.77      0.84      1343\n",
      "           1       0.74      0.94      0.83      1600\n",
      "           2       0.78      0.53      0.63      1380\n",
      "           3       0.65      0.66      0.66      1433\n",
      "           4       0.79      0.43      0.56      1295\n",
      "           5       0.51      0.02      0.04      1273\n",
      "           6       0.68      0.87      0.76      1396\n",
      "           7       0.97      0.53      0.69      1503\n",
      "           8       0.24      0.85      0.37      1357\n",
      "           9       0.54      0.08      0.14      1420\n",
      "\n",
      "    accuracy                           0.58     14000\n",
      "   macro avg       0.68      0.57      0.55     14000\n",
      "weighted avg       0.69      0.58      0.56     14000\n",
      "\n",
      "\n",
      "predict ran in: 0.11101961135864258 sec\n",
      "\n",
      "Test Accuracy: 57.65 \n",
      "\n",
      "Test confusion matrix:\n",
      "[[1029    7   26    7    9    5   77    7  176    0]\n",
      " [   0 1506    2   14    0    2    3    0   73    0]\n",
      " [  11  105  729   22   10    1  231    4  267    0]\n",
      " [   5   61   31  949    0    2   23    2  359    1]\n",
      " [   4   28    4   21  562    6   77    2  581   10]\n",
      " [  15   65   30  276   31   24   79    0  753    0]\n",
      " [   8   27   21    5    8    2 1211    0  114    0]\n",
      " [  39   71   71   21   56    1   20  799  339   86]\n",
      " [   0   96    9   70    1    0   31    0 1150    0]\n",
      " [   8   56   11   77   30    4   35   12 1075  112]]\n",
      "\n"
     ]
    },
    {
     "name": "stderr",
     "output_type": "stream",
     "text": [
      "C:\\Users\\Phili\\anaconda3\\Lib\\site-packages\\sklearn\\base.py:457: UserWarning: X has feature names, but LogisticRegression was fitted without feature names\n",
      "  warnings.warn(\n"
     ]
    }
   ],
   "source": [
    "if __name__ == '__main__':\n",
    "    X, y = download()\n",
    "    print('MNIST:', X.shape, y.shape)\n",
    "    X_train, X_test, y_train, y_test = train_test_split(X, y, test_size=1 - splitRatio, random_state=42)\n",
    "    np.random.seed(31337)\n",
    "    ta = TheAlgorithm(X_train, y_train, X_test, y_test)\n",
    "    train_accuracy = ta.fit()\n",
    "    print()\n",
    "    print('Train Accuracy:', train_accuracy, '\\n')\n",
    "    print(\"Train confusion matrix:\\n%s\\n\" % ta.train_confusion_matrix)\n",
    "    test_accuracy = ta.predict()\n",
    "    print()\n",
    "    print('Test Accuracy:', test_accuracy, '\\n')\n",
    "    print(\"Test confusion matrix:\\n%s\\n\" % ta.test_confusion_matrix)"
   ]
  },
  {
   "cell_type": "markdown",
   "metadata": {},
   "source": [
    "# Durchführung der Unittests ausgeführt"
   ]
  },
  {
   "cell_type": "markdown",
   "metadata": {},
   "source": [
    "Test des Ausfalls der Laufzeit von test_fit mit 0,01% der representativen Zeit"
   ]
  },
  {
   "cell_type": "code",
   "execution_count": 36,
   "metadata": {},
   "outputs": [
    {
     "name": "stdout",
     "output_type": "stream",
     "text": [
      "setUp\n"
     ]
    },
    {
     "name": "stderr",
     "output_type": "stream",
     "text": [
      "C:\\Users\\Phili\\anaconda3\\Lib\\site-packages\\sklearn\\datasets\\_openml.py:1002: FutureWarning: The default value of `parser` will change from `'liac-arff'` to `'auto'` in 1.4. You can set `parser='auto'` to silence this warning. Therefore, an `ImportError` will be raised from 1.4 if the dataset is dense and pandas is not installed. Note that the pandas parser may return different data types. See the Notes Section in fetch_openml's API doc for details.\n",
      "  warn(\n"
     ]
    },
    {
     "name": "stdout",
     "output_type": "stream",
     "text": [
      "__init__ ran in: 0.0 sec\n"
     ]
    },
    {
     "name": "stderr",
     "output_type": "stream",
     "text": [
      "."
     ]
    },
    {
     "name": "stdout",
     "output_type": "stream",
     "text": [
      "fit ran in: 18.07478904724121 sec\n",
      "setUp\n"
     ]
    },
    {
     "name": "stderr",
     "output_type": "stream",
     "text": [
      "C:\\Users\\Phili\\anaconda3\\Lib\\site-packages\\sklearn\\datasets\\_openml.py:1002: FutureWarning: The default value of `parser` will change from `'liac-arff'` to `'auto'` in 1.4. You can set `parser='auto'` to silence this warning. Therefore, an `ImportError` will be raised from 1.4 if the dataset is dense and pandas is not installed. Note that the pandas parser may return different data types. See the Notes Section in fetch_openml's API doc for details.\n",
      "  warn(\n"
     ]
    },
    {
     "name": "stdout",
     "output_type": "stream",
     "text": [
      "__init__ ran in: 0.0 sec\n"
     ]
    },
    {
     "name": "stderr",
     "output_type": "stream",
     "text": [
      "C:\\Users\\Phili\\anaconda3\\Lib\\site-packages\\sklearn\\base.py:457: UserWarning: X has feature names, but LogisticRegression was fitted without feature names\n",
      "  warnings.warn(\n",
      "."
     ]
    },
    {
     "name": "stdout",
     "output_type": "stream",
     "text": [
      "fit ran in: 18.400675296783447 sec\n",
      "Classification Report for the classifier:\n",
      "              precision    recall  f1-score   support\n",
      "\n",
      "           0       0.92      0.77      0.84      1343\n",
      "           1       0.74      0.94      0.83      1600\n",
      "           2       0.78      0.53      0.63      1380\n",
      "           3       0.65      0.66      0.66      1433\n",
      "           4       0.79      0.43      0.56      1295\n",
      "           5       0.51      0.02      0.04      1273\n",
      "           6       0.68      0.87      0.76      1396\n",
      "           7       0.97      0.53      0.69      1503\n",
      "           8       0.24      0.85      0.37      1357\n",
      "           9       0.54      0.08      0.14      1420\n",
      "\n",
      "    accuracy                           0.58     14000\n",
      "   macro avg       0.68      0.57      0.55     14000\n",
      "weighted avg       0.69      0.58      0.56     14000\n",
      "\n",
      "\n",
      "predict ran in: 0.10300421714782715 sec\n",
      "setUp\n"
     ]
    },
    {
     "name": "stderr",
     "output_type": "stream",
     "text": [
      "C:\\Users\\Phili\\anaconda3\\Lib\\site-packages\\sklearn\\datasets\\_openml.py:1002: FutureWarning: The default value of `parser` will change from `'liac-arff'` to `'auto'` in 1.4. You can set `parser='auto'` to silence this warning. Therefore, an `ImportError` will be raised from 1.4 if the dataset is dense and pandas is not installed. Note that the pandas parser may return different data types. See the Notes Section in fetch_openml's API doc for details.\n",
      "  warn(\n"
     ]
    },
    {
     "name": "stdout",
     "output_type": "stream",
     "text": [
      "__init__ ran in: 0.0 sec\n"
     ]
    },
    {
     "name": "stderr",
     "output_type": "stream",
     "text": [
      "F\n",
      "======================================================================\n",
      "FAIL: test_runtime_fit (__main__.TestInput.test_runtime_fit)\n",
      "----------------------------------------------------------------------\n",
      "Traceback (most recent call last):\n",
      "  File \"C:\\Users\\Phili\\AppData\\Local\\Temp\\ipykernel_15724\\407630555.py\", line 57, in test_runtime_fit\n",
      "    self.assertLessEqual(elapsed_time, max_allowed_runtime)\n",
      "AssertionError: 18.788883686065674 not less than or equal to 0.0018788883686065676\n",
      "\n",
      "----------------------------------------------------------------------\n",
      "Ran 3 tests in 153.575s\n",
      "\n",
      "FAILED (failures=1)\n"
     ]
    },
    {
     "name": "stdout",
     "output_type": "stream",
     "text": [
      "fit ran in: 18.788883686065674 sec\n"
     ]
    }
   ],
   "source": [
    "class TestInput(unittest.TestCase):\n",
    "    @classmethod\n",
    "    def setUpClass(cls):\n",
    "        pass\n",
    "\n",
    "    @classmethod\n",
    "    def tearDownClass(cls):\n",
    "        pass\n",
    "\n",
    "    def setUp(self):\n",
    "        print('setUp')\n",
    "        # Verwende die Werte und Objekte aus Code 34\n",
    "        X, y = download()\n",
    "        X_train, X_test, y_train, y_test = train_test_split(X, y, test_size=1 - splitRatio, random_state=42)\n",
    "        self.X_train = X_train\n",
    "        self.y_train = y_train\n",
    "        self.X_test = X_test\n",
    "        self.y_test = y_test\n",
    "        # Setzen Sie die erwarteten Genauigkeiten basierend auf Ihren tatsächlichen Daten und Modellparametern\n",
    "        self.train_accuracy = train_accuracy  # Beispielwert, aktualisieren mit tatsächlichen Trainingsgenauigkeitswert\n",
    "        self.test_accuracy = test_accuracy  # Beispielwert, aktualisieren mit tatsächlichen Testgenauigkeitswert\n",
    "        # Ersetzen der ta_train_accuracy und ta_test_accuracy durch die tatsächlichen Genauigkeitswerte\n",
    "        self.train_confusion_matrix = ta.train_confusion_matrix\n",
    "        self.test_confusion_matrix = ta.test_confusion_matrix\n",
    "\n",
    "    def tearDown(self):\n",
    "        pass\n",
    "\n",
    "    def test_fit(self):\n",
    "        np.random.seed(31337)\n",
    "        self.ta = TheAlgorithm(self.X_train, self.y_train, self.X_test, self.y_test)\n",
    "        self.assertEqual(self.ta.fit(), self.train_accuracy)\n",
    "        self.assertTrue(np.array_equal(self.ta.train_confusion_matrix, self.train_confusion_matrix))\n",
    "\n",
    "    def test_predict(self):\n",
    "        np.random.seed(31337)\n",
    "        self.ta = TheAlgorithm(self.X_train, self.y_train, self.X_test, self.y_test)\n",
    "        self.ta.fit()\n",
    "        self.assertEqual(self.ta.predict(), self.test_accuracy)\n",
    "        self.assertTrue(np.array_equal(self.ta.test_confusion_matrix, self.test_confusion_matrix))\n",
    "        \n",
    "    def test_runtime_fit(self):\n",
    "        np.random.seed(31337)\n",
    "        self.ta = TheAlgorithm(self.X_train, self.y_train, self.X_test, self.y_test)\n",
    "\n",
    "        # Messen der Laufzeit der fit-Funktion\n",
    "        start_time = time.time()\n",
    "        self.ta.fit()\n",
    "        end_time = time.time()\n",
    "        elapsed_time = end_time - start_time\n",
    "\n",
    "        # Legen Sie den Grenzwert fest, z.B. 120% der repräsentativen Laufzeit\n",
    "        representative_runtime = elapsed_time  # Aktualisieren Sie diesen Wert entsprechend\n",
    "        max_allowed_runtime = 0.0001 * representative_runtime\n",
    "\n",
    "        # Überprüfen, ob die Laufzeit innerhalb des zulässigen Bereichs liegt\n",
    "        self.assertLessEqual(elapsed_time, max_allowed_runtime)\n",
    "\n",
    "if __name__ == '__main__':\n",
    "    unittest.main(argv=['first-arg-is-ignored'], exit=False)"
   ]
  },
  {
   "cell_type": "markdown",
   "metadata": {},
   "source": [
    "Test des Durchlaufs der Laufzeit von test_fit mit 120% der representativen Zeit"
   ]
  },
  {
   "cell_type": "code",
   "execution_count": 37,
   "metadata": {},
   "outputs": [
    {
     "name": "stderr",
     "output_type": "stream",
     "text": [
      "C:\\Users\\Phili\\anaconda3\\Lib\\site-packages\\sklearn\\datasets\\_openml.py:1002: FutureWarning: The default value of `parser` will change from `'liac-arff'` to `'auto'` in 1.4. You can set `parser='auto'` to silence this warning. Therefore, an `ImportError` will be raised from 1.4 if the dataset is dense and pandas is not installed. Note that the pandas parser may return different data types. See the Notes Section in fetch_openml's API doc for details.\n",
      "  warn(\n"
     ]
    },
    {
     "name": "stdout",
     "output_type": "stream",
     "text": [
      "setUp\n",
      "__init__ ran in: 0.0 sec\n"
     ]
    },
    {
     "name": "stderr",
     "output_type": "stream",
     "text": [
      "."
     ]
    },
    {
     "name": "stdout",
     "output_type": "stream",
     "text": [
      "fit ran in: 18.441818475723267 sec\n",
      "setUp\n"
     ]
    },
    {
     "name": "stderr",
     "output_type": "stream",
     "text": [
      "C:\\Users\\Phili\\anaconda3\\Lib\\site-packages\\sklearn\\datasets\\_openml.py:1002: FutureWarning: The default value of `parser` will change from `'liac-arff'` to `'auto'` in 1.4. You can set `parser='auto'` to silence this warning. Therefore, an `ImportError` will be raised from 1.4 if the dataset is dense and pandas is not installed. Note that the pandas parser may return different data types. See the Notes Section in fetch_openml's API doc for details.\n",
      "  warn(\n"
     ]
    },
    {
     "name": "stdout",
     "output_type": "stream",
     "text": [
      "__init__ ran in: 0.0 sec\n"
     ]
    },
    {
     "name": "stderr",
     "output_type": "stream",
     "text": [
      "C:\\Users\\Phili\\anaconda3\\Lib\\site-packages\\sklearn\\base.py:457: UserWarning: X has feature names, but LogisticRegression was fitted without feature names\n",
      "  warnings.warn(\n",
      "."
     ]
    },
    {
     "name": "stdout",
     "output_type": "stream",
     "text": [
      "fit ran in: 18.071539402008057 sec\n",
      "Classification Report for the classifier:\n",
      "              precision    recall  f1-score   support\n",
      "\n",
      "           0       0.92      0.77      0.84      1343\n",
      "           1       0.74      0.94      0.83      1600\n",
      "           2       0.78      0.53      0.63      1380\n",
      "           3       0.65      0.66      0.66      1433\n",
      "           4       0.79      0.43      0.56      1295\n",
      "           5       0.51      0.02      0.04      1273\n",
      "           6       0.68      0.87      0.76      1396\n",
      "           7       0.97      0.53      0.69      1503\n",
      "           8       0.24      0.85      0.37      1357\n",
      "           9       0.54      0.08      0.14      1420\n",
      "\n",
      "    accuracy                           0.58     14000\n",
      "   macro avg       0.68      0.57      0.55     14000\n",
      "weighted avg       0.69      0.58      0.56     14000\n",
      "\n",
      "\n",
      "predict ran in: 0.10084700584411621 sec\n",
      "setUp\n"
     ]
    },
    {
     "name": "stderr",
     "output_type": "stream",
     "text": [
      "C:\\Users\\Phili\\anaconda3\\Lib\\site-packages\\sklearn\\datasets\\_openml.py:1002: FutureWarning: The default value of `parser` will change from `'liac-arff'` to `'auto'` in 1.4. You can set `parser='auto'` to silence this warning. Therefore, an `ImportError` will be raised from 1.4 if the dataset is dense and pandas is not installed. Note that the pandas parser may return different data types. See the Notes Section in fetch_openml's API doc for details.\n",
      "  warn(\n"
     ]
    },
    {
     "name": "stdout",
     "output_type": "stream",
     "text": [
      "__init__ ran in: 0.0 sec\n"
     ]
    },
    {
     "name": "stderr",
     "output_type": "stream",
     "text": [
      ".\n",
      "----------------------------------------------------------------------\n",
      "Ran 3 tests in 153.279s\n",
      "\n",
      "OK\n"
     ]
    },
    {
     "name": "stdout",
     "output_type": "stream",
     "text": [
      "fit ran in: 18.232495069503784 sec\n"
     ]
    }
   ],
   "source": [
    "class TestInput(unittest.TestCase):\n",
    "    @classmethod\n",
    "    def setUpClass(cls):\n",
    "        pass\n",
    "\n",
    "    @classmethod\n",
    "    def tearDownClass(cls):\n",
    "        pass\n",
    "\n",
    "    def setUp(self):\n",
    "        print('setUp')\n",
    "        # Verwende die Werte und Objekte aus Code 34\n",
    "        X, y = download()\n",
    "        X_train, X_test, y_train, y_test = train_test_split(X, y, test_size=1 - splitRatio, random_state=42)\n",
    "        self.X_train = X_train\n",
    "        self.y_train = y_train\n",
    "        self.X_test = X_test\n",
    "        self.y_test = y_test\n",
    "        # Setzen Sie die erwarteten Genauigkeiten basierend auf Ihren tatsächlichen Daten und Modellparametern\n",
    "        self.train_accuracy = train_accuracy  # Beispielwert, aktualisieren mit tatsächlichen Trainingsgenauigkeitswert\n",
    "        self.test_accuracy = test_accuracy  # Beispielwert, aktualisieren mit tatsächlichen Testgenauigkeitswert\n",
    "        # Ersetzen der ta_train_accuracy und ta_test_accuracy durch die tatsächlichen Genauigkeitswerte\n",
    "        self.train_confusion_matrix = ta.train_confusion_matrix\n",
    "        self.test_confusion_matrix = ta.test_confusion_matrix\n",
    "\n",
    "    def tearDown(self):\n",
    "        pass\n",
    "\n",
    "    def test_fit(self):\n",
    "        np.random.seed(31337)\n",
    "        self.ta = TheAlgorithm(self.X_train, self.y_train, self.X_test, self.y_test)\n",
    "        self.assertEqual(self.ta.fit(), self.train_accuracy)\n",
    "        self.assertTrue(np.array_equal(self.ta.train_confusion_matrix, self.train_confusion_matrix))\n",
    "\n",
    "    def test_predict(self):\n",
    "        np.random.seed(31337)\n",
    "        self.ta = TheAlgorithm(self.X_train, self.y_train, self.X_test, self.y_test)\n",
    "        self.ta.fit()\n",
    "        self.assertEqual(self.ta.predict(), self.test_accuracy)\n",
    "        self.assertTrue(np.array_equal(self.ta.test_confusion_matrix, self.test_confusion_matrix))\n",
    "        \n",
    "    def test_runtime_fit(self):\n",
    "        np.random.seed(31337)\n",
    "        self.ta = TheAlgorithm(self.X_train, self.y_train, self.X_test, self.y_test)\n",
    "\n",
    "        # Messen der Laufzeit der fit-Funktion\n",
    "        start_time = time.time()\n",
    "        self.ta.fit()\n",
    "        end_time = time.time()\n",
    "        elapsed_time = end_time - start_time\n",
    "\n",
    "        # Legen Sie den Grenzwert fest, z.B. 120% der repräsentativen Laufzeit\n",
    "        representative_runtime = elapsed_time  # Aktualisieren Sie diesen Wert entsprechend\n",
    "        max_allowed_runtime = 1.2 * representative_runtime\n",
    "\n",
    "        # Überprüfen, ob die Laufzeit innerhalb des zulässigen Bereichs liegt\n",
    "        self.assertLessEqual(elapsed_time, max_allowed_runtime)\n",
    "\n",
    "if __name__ == '__main__':\n",
    "    unittest.main(argv=['first-arg-is-ignored'], exit=False)"
   ]
  },
  {
   "cell_type": "markdown",
   "metadata": {},
   "source": [
    "\n",
    "# Gut gemacht!"
   ]
  }
 ],
 "metadata": {
  "kernelspec": {
   "display_name": "Python 3 (ipykernel)",
   "language": "python",
   "name": "python3"
  },
  "language_info": {
   "codemirror_mode": {
    "name": "ipython",
    "version": 3
   },
   "file_extension": ".py",
   "mimetype": "text/x-python",
   "name": "python",
   "nbconvert_exporter": "python",
   "pygments_lexer": "ipython3",
   "version": "3.11.5"
  }
 },
 "nbformat": 4,
 "nbformat_minor": 2
}
