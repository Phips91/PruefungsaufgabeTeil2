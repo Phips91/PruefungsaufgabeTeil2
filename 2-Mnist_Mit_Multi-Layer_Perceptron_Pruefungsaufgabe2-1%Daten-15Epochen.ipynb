{
 "cells": [
  {
   "cell_type": "markdown",
   "metadata": {},
   "source": [
    "<a href=\"https://akademie.datamics.com/kursliste/\">![title](bg_datamics_top.png)</a>\n",
    "\n",
    "<center><em>© Datamics</em></center><br><center><em>Besuche uns für mehr Informationen auf <a href='https://akademie.datamics.com/kursliste/'>www.akademie.datamics.com</a></em></center>\n",
    "\n",
    "# MNIST mit Multi-Layer Perceptron\n",
    "\n",
    "In dieser Lektion werden wir ein Multi Layer Perceptron Modell erstellen und versuchen damit handgeschriebenen Zahlen zu klassifizieren. Das ist ein sehr verbreitetes Einsteigerproblem für Tensorflow.\n",
    "\n",
    "Denkt daran, dass eine einzige Lektion niemals ausreichen wird, um Deep Learning und/oder Tensorflow in seiner Komlexität abzudecken!\n",
    "\n",
    "## Die Daten laden\n",
    "\n",
    "Wir werden die berühmten MNIST Daten über [handgeschriebenen Zahlen](http://yann.lecun.com/exdb/mnist/) verwenden.\n",
    "\n",
    "Die Bilder die wir verwenden werden sind schwarz-weiß Bilder der größe 28 x 28, d.h. 784 Pixel insgesamt. Unsere Features werden die Pixelwerte für jeden Pixel sein. Entweder ist der Pixel \"weiß\" (also eine 0 in den Daten) oder er hat einen Pixelwert.\n",
    "\n",
    "Wir werden versuchen korrekt vorherzusagen, welche Nummer geschrieben steht. Dazu verwenden wir lediglich die Bilddaten in Form unseres Arrays. Diese Art von Problem (Image Recognition oder auf Deutsch: Bilderkennung) ist ein tolle Use Case für Deep Learning Methoden!\n",
    "\n",
    "Die Daten sind für Deep Learning das, was der Iris Datensatz für typische Machine Learning Algorithmen ist."
   ]
  },
  {
   "cell_type": "markdown",
   "metadata": {},
   "source": [
    "# Import von Bibliotheken in Python.\n",
    "\n",
    "In diesem Code werden die Python-Bibliotheken TensorFlow, NumPy, Logging, Time, Matplotlib und Unittest importiert."
   ]
  },
  {
   "cell_type": "code",
   "execution_count": 1,
   "metadata": {},
   "outputs": [],
   "source": [
    "import tensorflow as tf\n",
    "import numpy as np\n",
    "import logging\n",
    "import time\n",
    "import matplotlib.pyplot as plt\n",
    "import unittest\n",
    "import numpy as np"
   ]
  },
  {
   "cell_type": "markdown",
   "metadata": {},
   "source": [
    "Dieser Code importiert verschiedene Python-Bibliotheken, lädt den MNIST-Datensatz, normalisiert die Daten, teilt sie in Trainings- und Testdaten auf und konvertiert die Trainingsdaten in das gewünschte Datenformat für spätere Verwendung."
   ]
  },
  {
   "cell_type": "code",
   "execution_count": 2,
   "metadata": {},
   "outputs": [
    {
     "name": "stderr",
     "output_type": "stream",
     "text": [
      "C:\\Users\\Phili\\anaconda3\\Lib\\site-packages\\sklearn\\datasets\\_openml.py:1002: FutureWarning: The default value of `parser` will change from `'liac-arff'` to `'auto'` in 1.4. You can set `parser='auto'` to silence this warning. Therefore, an `ImportError` will be raised from 1.4 if the dataset is dense and pandas is not installed. Note that the pandas parser may return different data types. See the Notes Section in fetch_openml's API doc for details.\n",
      "  warn(\n"
     ]
    }
   ],
   "source": [
    "from functools import wraps\n",
    "from sklearn.metrics import confusion_matrix, classification_report\n",
    "from tensorflow.keras.datasets import mnist\n",
    "from sklearn.datasets import fetch_openml\n",
    "from sklearn.preprocessing import MinMaxScaler\n",
    "from sklearn.model_selection import train_test_split\n",
    "from sklearn.linear_model import LogisticRegression\n",
    "\n",
    "# Laden Sie die Daten herunter\n",
    "def download():\n",
    "    mnist = fetch_openml('mnist_784', version=1)\n",
    "    X = mnist.data.astype('float64')\n",
    "    y = mnist.target.astype('int')  # Konvertiere die Labels in Ganzzahlen\n",
    "    return (X, y)\n",
    "\n",
    "# Normalisieren der Daten\n",
    "class Normalize(object):\n",
    "    def normalize(self, X_train, X_test):\n",
    "        self.scaler = MinMaxScaler()\n",
    "        X_train = self.scaler.fit_transform(X_train)\n",
    "        X_test = self.scaler.transform(X_test)\n",
    "        return (X_train, X_test)\n",
    "    \n",
    "    def inverse(self, X_train, X_test):\n",
    "        X_train = self.scaler.inverse_transform(X_train)\n",
    "        X_test = self.scaler.inverse_transform(X_test)\n",
    "        return (X_train, X_test)\n",
    "\n",
    "# Aufteilen der Daten\n",
    "def split(X, y, splitVerhältnis):\n",
    "    X_train, X_test, y_train, y_test = train_test_split(X, y, test_size=1 - splitRatio, random_state=42)\n",
    "    return (X_train, y_train, X_test, y_test)\n",
    "\n",
    "# Importieren Sie MNIST-Daten\n",
    "(x_train_mnist, y_train_mnist), (x_test_mnist, y_test_mnist) = tf.keras.datasets.mnist.load_data()\n",
    "(X, y) = download()\n",
    "\n",
    "normalizer = Normalize()\n",
    "X_train, X_test = normalizer.normalize(X, X)\n",
    "\n",
    "splitRatio = 0.8  # Ändern Sie den Split-Verhältnis nach Bedarf\n",
    "x_train, y_train, x_test, y_test = split(X_train, y, splitRatio)\n",
    "\n",
    "# Stelle sicher, dass die Daten korrekt geladen wurden\n",
    "assert x_train.shape == (int(0.8 * len(X)), X.shape[1])\n",
    "assert x_test.shape == (int(0.2 * len(X)), X.shape[1])\n",
    "assert y_train.shape == (int(0.8 * len(X)),)\n",
    "assert y_test.shape == (int(0.2 * len(X)),)  # Überprüfung der Form der Labels\n",
    "\n",
    "# Konvertiere die Trainingsdaten in float32\n",
    "x_train = x_train.astype('float32')\n",
    "y_train = y_train.astype('int')"
   ]
  },
  {
   "cell_type": "markdown",
   "metadata": {},
   "source": [
    "## Definieren der my_logger und my_timer Funktion"
   ]
  },
  {
   "cell_type": "code",
   "execution_count": 3,
   "metadata": {},
   "outputs": [],
   "source": [
    "def my_logger(orig_func):\n",
    "    logging.basicConfig(filename='{}.log'.format(orig_func.__name__), level=logging.INFO)\n",
    "\n",
    "    @wraps(orig_func)\n",
    "    def wrapper(*args, **kwargs):\n",
    "        logging.info(\n",
    "            'Ran with args: {}, and kwargs: {}'.format(args, kwargs))\n",
    "        return orig_func(*args, **kwargs)\n",
    "\n",
    "    return wrapper"
   ]
  },
  {
   "cell_type": "code",
   "execution_count": 4,
   "metadata": {},
   "outputs": [],
   "source": [
    "def my_timer(orig_func):\n",
    "    import time\n",
    "\n",
    "    @wraps(orig_func)\n",
    "    def wrapper(*args, **kwargs):\n",
    "        t1 = time.time()\n",
    "        result = orig_func(*args, **kwargs)\n",
    "        t2 = time.time() - t1\n",
    "        print('{} ran in: {} sec'.format(orig_func.__name__, t2))\n",
    "        return result\n",
    "\n",
    "    return wrapper"
   ]
  },
  {
   "cell_type": "markdown",
   "metadata": {},
   "source": [
    "In diesem Code wird eine Python-Klasse mit dem Namen \"TheAlgorithm\" definiert, die verschiedene Methoden wie den Konstruktor __init__, die Methode fit und die Methode predict enthält, wobei die Dekoratoren @my_logger und @my_timer verwendet werden, um die Ausführung dieser Methoden zu protokollieren und die Zeitmessung durchzuführen."
   ]
  },
  {
   "cell_type": "code",
   "execution_count": 5,
   "metadata": {},
   "outputs": [],
   "source": [
    "class TheAlgorithm(object):\n",
    "    @my_logger\n",
    "    @my_timer\n",
    "    def __init__(self, X_train, y_train, X_test, y_test):\n",
    "        self.X_train, self.y_train, self.X_test, self.y_test = X_train, y_train, X_test, y_test\n",
    "\n",
    "    @my_logger\n",
    "    @my_timer\n",
    "    def fit(self):\n",
    "        x_train, y_train, x_test, y_test = self.X_train, self.y_train, self.X_test, self.y_test\n",
    "\n",
    "        normalizer = Normalize()  # Use the correct class name here\n",
    "        x_train, x_test = normalizer.normalize(x_train, x_test)\n",
    "\n",
    "        train_samples = x_train.shape[0]\n",
    "\n",
    "        self.classifier = LogisticRegression(\n",
    "            C=50. / train_samples,\n",
    "            multi_class='multinomial',\n",
    "            penalty='l1',\n",
    "            solver='saga',\n",
    "            tol=0.1,\n",
    "            class_weight='balanced',\n",
    "        )\n",
    "\n",
    "        self.classifier.fit(x_train, y_train)\n",
    "        self.train_predictions = self.classifier.predict(x_train)\n",
    "        self.train_accuracy = np.mean(self.train_predictions.ravel() == y_train.ravel()) * 100\n",
    "        self.train_confusion_matrix = confusion_matrix(y_train, self.train_predictions)\n",
    "        return self.train_accuracy\n",
    "\n",
    "    @my_logger\n",
    "    @my_timer\n",
    "    def predict(self):\n",
    "        x_test = self.X_test  # Test data doesn't need to be normalized again\n",
    "\n",
    "        self.test_predictions = self.classifier.predict(x_test)\n",
    "        self.test_accuracy = np.mean(self.test_predictions.ravel() == self.y_test.ravel()) * 100\n",
    "        self.test_confusion_matrix = confusion_matrix(self.y_test, self.test_predictions)\n",
    "        self.report = classification_report(self.y_test, self.test_predictions)\n",
    "        print(\"Classification Report for the classifier:\\n%s\\n\" % (self.report))\n",
    "\n",
    "        return self.test_accuracy\n"
   ]
  },
  {
   "cell_type": "markdown",
   "metadata": {},
   "source": [
    "## Daten Format\n",
    "\n",
    "Die Daten sind im Vektor Format gespeichert, obwohl die Originaldaten eine 2-dimensionale Matrix waren, die angab, wie viele Pigmente sich an welcher Position befinden. Untersuchen wir das genauer:"
   ]
  },
  {
   "cell_type": "code",
   "execution_count": 6,
   "metadata": {},
   "outputs": [
    {
     "data": {
      "text/plain": [
       "module"
      ]
     },
     "execution_count": 6,
     "metadata": {},
     "output_type": "execute_result"
    }
   ],
   "source": [
    "type(mnist)"
   ]
  },
  {
   "cell_type": "code",
   "execution_count": 7,
   "metadata": {},
   "outputs": [
    {
     "data": {
      "text/plain": [
       "pandas.core.series.Series"
      ]
     },
     "execution_count": 7,
     "metadata": {},
     "output_type": "execute_result"
    }
   ],
   "source": [
    "type(x_train)\n",
    "type(y_train)"
   ]
  },
  {
   "cell_type": "code",
   "execution_count": 8,
   "metadata": {},
   "outputs": [
    {
     "data": {
      "text/plain": [
       "(784,)"
      ]
     },
     "execution_count": 8,
     "metadata": {},
     "output_type": "execute_result"
    }
   ],
   "source": [
    "x_train[2].shape"
   ]
  },
  {
   "cell_type": "code",
   "execution_count": 9,
   "metadata": {},
   "outputs": [],
   "source": [
    "sample = x_train[2].reshape(28, 28)"
   ]
  },
  {
   "cell_type": "code",
   "execution_count": 10,
   "metadata": {},
   "outputs": [],
   "source": [
    "%matplotlib inline"
   ]
  },
  {
   "cell_type": "code",
   "execution_count": 11,
   "metadata": {},
   "outputs": [
    {
     "data": {
      "text/plain": [
       "<matplotlib.image.AxesImage at 0x24e4bcbdc90>"
      ]
     },
     "execution_count": 11,
     "metadata": {},
     "output_type": "execute_result"
    },
    {
     "data": {
      "image/png": "[encoded data removed]",
      "text/plain": [
       "<Figure size 640x480 with 1 Axes>"
      ]
     },
     "metadata": {},
     "output_type": "display_data"
    }
   ],
   "source": [
    "plt.imshow(sample)"
   ]
  },
  {
   "cell_type": "markdown",
   "metadata": {},
   "source": [
    "## Parameter\n",
    "\n",
    "Wir werden 4 Parameter definieren müssen. Es ist wirklich (wirklich) schwer gute Parameterwerte für einen Datensatz zu bestimmen, mit dem man keine Erfahrung hat. Da dieser MNIST Datensatz allerdings so berühmt ist haben wir schon einige Ausgangswerte. Die Parameter sind:\n",
    "\n",
    "* Learning Rate - Wie schnell die Kostenfunktion angepasst wird\n",
    "* Traing Epochs - Wie viele Trainingszyklen durchlaufen werden sollen\n",
    "* Batch Size - Größe der \"Batches\" an Traingsdaten"
   ]
  },
  {
   "cell_type": "code",
   "execution_count": 12,
   "metadata": {},
   "outputs": [],
   "source": [
    "# Parameter\n",
    "learning_rate = 0.001\n",
    "training_epochs = 15\n",
    "batch_size = 100"
   ]
  },
  {
   "cell_type": "markdown",
   "metadata": {},
   "source": [
    "### Netzwerk Parameter\n",
    "\n",
    "Hier haben wir Parameter welche unser Neuronales Netz direkt definieren. Diese werden entsprechend der betrachteten Daten angepasst und hängen auch davon ab, welche Art von Netz man nutzt. Es sind bis zu diesem Punkt erst einmal nur Zahlen, die wir später verwenden, um unser Netz zu definieren:"
   ]
  },
  {
   "cell_type": "code",
   "execution_count": 13,
   "metadata": {},
   "outputs": [],
   "source": [
    "# Netzwerk Parameter\n",
    "n_hidden_1 = 256  # 1. Layer: Anzahl an Features\n",
    "n_hidden_2 = 256  # 2. Layer: Anzahl an Features\n",
    "n_input = 784     # MNIST Daten Input (img shape: 28*28)\n",
    "n_classes = 10    # MNIST Klassen (0-9 Zahlen)\n",
    "n_samples = len(x_train)  # Anzahl der Trainingsbeispiele"
   ]
  },
  {
   "cell_type": "markdown",
   "metadata": {},
   "source": [
    "### Tensorflow Graph Input"
   ]
  },
  {
   "cell_type": "code",
   "execution_count": 14,
   "metadata": {},
   "outputs": [],
   "source": [
    "x = tf.keras.Input(shape=(n_input,), dtype=tf.float32)\n",
    "y = tf.keras.Input(shape=(n_classes,), dtype=tf.float32)"
   ]
  },
  {
   "cell_type": "markdown",
   "metadata": {},
   "source": [
    "## MultiLayer Modell\n",
    "\n",
    "Es ist Zeit unser Modell zu erstellen. Wiederholen wir deshalb kurz, was wir erstellen wollen:\n",
    "\n",
    "Zuerst erhalten wir einen *Input* in Form eines Datenarrays und schicken diesen an die erste *Hidden Layer*. Dann wird den Daten ein  *Weight* zwischen den Schichten zugewiesen (welches zuerst ein zufälliger Wert ist). Anschließend wird es an einen *Node* geschicht und unterläuft eine *Activation Function* (zusammen mit einem Bias, wie in der Neural Network Lektion erwähnt). Dann geht es weiter zur nächsten *Layer* und immer so weiter, bis zur finalen *Output Layer*. In unserem Fall werden wir nur 2 *Hidden Layers* verwenden. Je mehr wir davon verwenden, desto länger braucht das Modell (aber er hat mehr Möglichkeiten um die Genauigkeit zu erhöhen).\n",
    "\n",
    "Sobald die transformierte Daten die *Output Layer* erreicht haben müssen wir sie auswerten. Hier verwenden wir eine *Loss Function* (auch Cost Function genannt). Diese berechnet, wie sehr wir vom gewünschten Ergebnis entfernt sind. In diesem Fall: Wie viele der Klassen wir richtig zugeteilt haben.\n",
    "\n",
    "Dann wenden wir eine Optimierungsfunktion an, um die *Costs* (bzw. den Error) zu minimieren. Dies geschiet durch die Anpassung der *Weights* entlang des Netzes. Wir verwenden in unserem Beispiel den [Adam Optimizer](https://arxiv.org/pdf/1412.6980v8.pdf), welcher eine (im Vergleich zu anderen) sehr neue Entwicklung ist.\n",
    "\n",
    "Wir können anpassen, wie schnell diese Optimierung angewendet wird, indem wir unseren *Learning Rate* Parameter anpassen. Je geringer die Rate, desto höher die Möglichkeiten für Anpassungen. Dies erzeugt allerdings die Kosten einer erhöhten Wartezeit. Ab einem bestimmten Punkt lohnt es sich nicht mehr, die Learning Rate weiter zu senken.\n",
    "\n",
    "Jetzt können wir unser Modell erstellen. Wir beginnen mit 2 Hidden Layers, welche die []() Activation Function verwenden. Dies ist eine einfache Umformungsfunktion, die entweder x oder 0 zurückgibt. Für unsere finale Output Layer verwenden wir eine lineare Activation mit Matrixmultiplikation:"
   ]
  },
  {
   "cell_type": "markdown",
   "metadata": {},
   "source": [
    "In diesem Code wird eine Funktion namens \"multilayer_perceptron\" definiert, die ein mehrschichtiges neuronales Netzwerk mit ReLU-Aktivierungsfunktionen für die Hidden Layers und linearer Aktivierungsfunktion für die Output Layer erstellt und die Ausgabe des Netzwerks zurückgibt, wobei die Funktionen `my_logger` und `my_timer` als Dekoratoren verwendet werden, um die Ausführung der Funktion zu protokollieren und die Zeitmessung durchzuführen."
   ]
  },
  {
   "cell_type": "code",
   "execution_count": 15,
   "metadata": {},
   "outputs": [],
   "source": [
    "@my_logger\n",
    "@my_timer\n",
    "def multilayer_perceptron(x, weights, biases):\n",
    "    '''\n",
    "    x : Platzhalter für den Dateninput\n",
    "    weights: Dictionary der Weights\n",
    "    biases: Dictionary Der Biases\n",
    "    '''\n",
    "    \n",
    "    # Erste Hidden layer mit RELU Activation\n",
    "    layer_1 = tf.add(tf.matmul(x, weights['h1']), biases['b1'])\n",
    "    layer_1 = tf.nn.relu(layer_1)\n",
    "    \n",
    "    # Zweite Hidden layer mit RELU Activation\n",
    "    layer_2 = tf.add(tf.matmul(layer_1, weights['h2']), biases['b2'])\n",
    "    layer_2 = tf.nn.relu(layer_2)\n",
    "    \n",
    "    # Letzte Output layer mit linearer Activation\n",
    "    out_layer = tf.matmul(layer_2, weights['out']) + biases['out']\n",
    "    return out_layer"
   ]
  },
  {
   "cell_type": "markdown",
   "metadata": {},
   "source": [
    "## Weights und Bias\n",
    "\n",
    "Damit unser Tensorflow Modell funktioniert müssen wir zwei Dictionaries anlegen, die unsere Weights und Biases enthalten. Wir können das `tf.variable` Objekt verwenden. Dies ist anders als eine Konstante, da Tensorflow's Graph Objekt alle Zustände der Variablen wahrnimmt. Eine Variable ist ein anpassbares Tensor, der zwischen Tensorflow's Graph von interagierenden Operationen lebt. Er kann durch die Berechnung verwendet und verändert werden. Wir werden die Modell Parameter generell als Variablen verwenden. Aus der Dokumentation können wir entnehmen:\n",
    "\n",
    "    A variable maintains state in the graph across calls to `run()`. You add a variable to the graph by constructing an instance of the class `Variable`.\n",
    "\n",
    "    The `Variable()` constructor requires an initial value for the variable, which can be a `Tensor` of any type and shape. The initial value defines the type and shape of the variable. After construction, the type and shape of the variable are fixed. The value can be changed using one of the assign methods.\n",
    "    \n",
    "Wir werden Tensorflow's eingebaute `random_normal` Methode verwenden, um zufällige Werte für unsere Weights und Biases zu erstellen."
   ]
  },
  {
   "cell_type": "code",
   "execution_count": 16,
   "metadata": {},
   "outputs": [],
   "source": [
    "# Gewichtsinitialisierung\n",
    "weights = {\n",
    "    'h1': tf.Variable(tf.initializers.RandomNormal()(shape=[n_input, n_hidden_1])),\n",
    "    'h2': tf.Variable(tf.initializers.RandomNormal()(shape=[n_hidden_1, n_hidden_2])),\n",
    "    'out': tf.Variable(tf.initializers.RandomNormal()(shape=[n_hidden_2, n_classes]))\n",
    "}"
   ]
  },
  {
   "cell_type": "code",
   "execution_count": 17,
   "metadata": {},
   "outputs": [],
   "source": [
    "# Bias-Initialisierung\n",
    "biases = {\n",
    "    'b1': tf.Variable(tf.random.normal([n_hidden_1])),\n",
    "    'b2': tf.Variable(tf.random.normal([n_hidden_2])),\n",
    "    'out': tf.Variable(tf.random.normal([n_classes]))\n",
    "}"
   ]
  },
  {
   "cell_type": "code",
   "execution_count": 18,
   "metadata": {},
   "outputs": [
    {
     "name": "stdout",
     "output_type": "stream",
     "text": [
      "WARNING:tensorflow:The following Variables were used in a Lambda layer's call (tf.linalg.matmul), but are not present in its tracked objects:   <tf.Variable 'Variable:0' shape=(784, 256) dtype=float32>. This is a strong indication that the Lambda layer should be rewritten as a subclassed Layer.\n",
      "WARNING:tensorflow:The following Variables were used in a Lambda layer's call (tf.math.add), but are not present in its tracked objects:   <tf.Variable 'Variable:0' shape=(256,) dtype=float32>. This is a strong indication that the Lambda layer should be rewritten as a subclassed Layer.\n",
      "WARNING:tensorflow:The following Variables were used in a Lambda layer's call (tf.linalg.matmul_1), but are not present in its tracked objects:   <tf.Variable 'Variable:0' shape=(256, 256) dtype=float32>. This is a strong indication that the Lambda layer should be rewritten as a subclassed Layer.\n",
      "WARNING:tensorflow:The following Variables were used in a Lambda layer's call (tf.math.add_1), but are not present in its tracked objects:   <tf.Variable 'Variable:0' shape=(256,) dtype=float32>. This is a strong indication that the Lambda layer should be rewritten as a subclassed Layer.\n",
      "WARNING:tensorflow:The following Variables were used in a Lambda layer's call (tf.linalg.matmul_2), but are not present in its tracked objects:   <tf.Variable 'Variable:0' shape=(256, 10) dtype=float32>. This is a strong indication that the Lambda layer should be rewritten as a subclassed Layer.\n",
      "WARNING:tensorflow:The following Variables were used in a Lambda layer's call (tf.__operators__.add), but are not present in its tracked objects:   <tf.Variable 'Variable:0' shape=(10,) dtype=float32>. This is a strong indication that the Lambda layer should be rewritten as a subclassed Layer.\n",
      "multilayer_perceptron ran in: 0.031263113021850586 sec\n"
     ]
    }
   ],
   "source": [
    "# Model erstellen\n",
    "pred = multilayer_perceptron(x, weights, biases)"
   ]
  },
  {
   "cell_type": "markdown",
   "metadata": {},
   "source": [
    "## Cost und Optimierungs-Funktion\n",
    "\n",
    "Wir verwenden Tensorflow's eingebaute Funktionen für diesesn Teil. Weitere Details bietet die Dokumentation:"
   ]
  },
  {
   "cell_type": "code",
   "execution_count": 19,
   "metadata": {},
   "outputs": [],
   "source": [
    "# Cost und Optimierungsfunktion definieren\n",
    "cost = tf.reduce_mean(tf.nn.softmax_cross_entropy_with_logits(labels = y, logits=pred))"
   ]
  },
  {
   "cell_type": "code",
   "execution_count": 20,
   "metadata": {},
   "outputs": [],
   "source": [
    "optimizer = tf.keras.optimizers.Adam(learning_rate=learning_rate)"
   ]
  },
  {
   "cell_type": "markdown",
   "metadata": {},
   "source": [
    "### Initialisierung der Variablen\n",
    "\n",
    "Wir initialisieren nun alle tf.Variable Objekte die wir zuvor erstellt haben. Das wird das erste sein, dass wir ausführen, wenn wir unser Modell trainieren."
   ]
  },
  {
   "cell_type": "markdown",
   "metadata": {},
   "source": [
    "## Das Modell trainieren\n",
    "\n",
    "### next_batch()\n",
    "\n",
    "Bevor wir beginnen möchte ich eine weitere nützliche Funktion in unserem MNIST Datenobjekt abdecken, die `next_batch` heißt. Diese gibt ein Tupel in der Form (X,y) mit einem X Array der Daten und einem y Array der Klasse. Zum Beispiel:"
   ]
  },
  {
   "cell_type": "code",
   "execution_count": 21,
   "metadata": {},
   "outputs": [],
   "source": [
    "# Erstelle ein TensorFlow-Dataset aus den Trainingsdaten\n",
    "train_dataset = tf.data.Dataset.from_tensor_slices((x_train, y_train))\n",
    "\n",
    "# Mische die Daten und teile sie in Batches auf\n",
    "batch_size = 1\n",
    "train_dataset = train_dataset.shuffle(buffer_size=len(x_train)).batch(batch_size)\n",
    "\n",
    "# Erstelle einen Iterator für das Dataset\n",
    "train_iterator = iter(train_dataset)\n",
    "\n",
    "# Greife auf ein Batch von Daten zu\n",
    "Xsamp, ysamp = next(train_iterator)"
   ]
  },
  {
   "cell_type": "code",
   "execution_count": 22,
   "metadata": {},
   "outputs": [
    {
     "data": {
      "text/plain": [
       "<matplotlib.image.AxesImage at 0x24e645b3590>"
      ]
     },
     "execution_count": 22,
     "metadata": {},
     "output_type": "execute_result"
    },
    {
     "data": {
      "image/png": "[encoded data removed]",
      "text/plain": [
       "<Figure size 640x480 with 1 Axes>"
      ]
     },
     "metadata": {},
     "output_type": "display_data"
    }
   ],
   "source": [
    "# Wandele Xsamp in ein Numpy-Array um\n",
    "Xsamp_numpy = Xsamp.numpy()\n",
    "\n",
    "# Zeige das Bild mit imshow\n",
    "plt.imshow(Xsamp_numpy.reshape(28, 28))"
   ]
  },
  {
   "cell_type": "code",
   "execution_count": 23,
   "metadata": {},
   "outputs": [
    {
     "name": "stdout",
     "output_type": "stream",
     "text": [
      "tf.Tensor([7], shape=(1,), dtype=int32)\n"
     ]
    }
   ],
   "source": [
    "print(ysamp)"
   ]
  },
  {
   "cell_type": "code",
   "execution_count": 24,
   "metadata": {},
   "outputs": [],
   "source": [
    "# Ihre Decorators\n",
    "\n",
    "def my_logger(orig_func):\n",
    "    logging.basicConfig(filename='{}.log'.format(orig_func.__name__), level=logging.INFO)\n",
    "\n",
    "    @wraps(orig_func)\n",
    "    def wrapper(*args, **kwargs):\n",
    "        logging.info(\n",
    "            'Ran with args: {}, and kwargs: {}'.format(args, kwargs))\n",
    "        return orig_func(*args, **kwargs)\n",
    "\n",
    "    return wrapper\n",
    "def my_timer(orig_func):\n",
    "\n",
    "    @wraps(orig_func)\n",
    "    def wrapper(*args, **kwargs):\n",
    "        t1 = time.time()\n",
    "        result = orig_func(*args, **kwargs)\n",
    "        t2 = time.time() - t1\n",
    "        print('{} ran in: {} sec'.format(orig_func.__name__, t2))\n",
    "        return result\n",
    "\n",
    "    return wrapper"
   ]
  },
  {
   "cell_type": "markdown",
   "metadata": {},
   "source": [
    "## Die Session ausführen\n",
    "\n",
    "Jetzt ist es Zeit unsere Session auszuführen! Achte darauf wie wir zwei Schleifen verwenden. Die äußere, die die Epochs durchläuft, und die innere, die die Batches für jede Epoch des Trainings ausführt.\n",
    "\n",
    "## Wichtig, hier wurden aus zeitlichen Gründen mit 1% der Daten gearbeitet. Der Code ist mit jeder Prozentzahl reproduzierbar.\n",
    "\n",
    "Es wurde aus zeitlicher und übersichtlicher Sicht eine View sowie eine Abfrage des gewünschten Prozentsatzes eingebaut."
   ]
  },
  {
   "cell_type": "code",
   "execution_count": 25,
   "metadata": {},
   "outputs": [
    {
     "name": "stdout",
     "output_type": "stream",
     "text": [
      "Geben Sie den Prozentsatz der Daten ein, der verarbeitet werden soll (0-100): 1\n"
     ]
    },
    {
     "name": "stderr",
     "output_type": "stream",
     "text": [
      "  0%|          | 2/560 [00:00<00:28, 19.43it/s]"
     ]
    },
    {
     "name": "stdout",
     "output_type": "stream",
     "text": [
      "multilayer_perceptron ran in: 0.003982067108154297 sec\n",
      "multilayer_perceptron ran in: 0.0010004043579101562 sec\n",
      "multilayer_perceptron ran in: 0.0009982585906982422 sec\n",
      "multilayer_perceptron ran in: 0.0010008811950683594 sec\n",
      "multilayer_perceptron ran in: 0.0010044574737548828 sec\n",
      "multilayer_perceptron ran in: 0.0010006427764892578 sec\n"
     ]
    },
    {
     "name": "stderr",
     "output_type": "stream",
     "text": [
      "  2%|▏         | 10/560 [00:00<00:18, 30.12it/s]"
     ]
    },
    {
     "name": "stdout",
     "output_type": "stream",
     "text": [
      "multilayer_perceptron ran in: 0.002000093460083008 sec\n",
      "multilayer_perceptron ran in: 0.0009999275207519531 sec\n",
      "multilayer_perceptron ran in: 0.002000093460083008 sec\n",
      "multilayer_perceptron ran in: 0.0010001659393310547 sec\n",
      "multilayer_perceptron ran in: 0.0009829998016357422 sec\n",
      "multilayer_perceptron ran in: 0.002018451690673828 sec\n",
      "multilayer_perceptron ran in: 0.002001523971557617 sec\n"
     ]
    },
    {
     "name": "stderr",
     "output_type": "stream",
     "text": [
      "  3%|▎         | 18/560 [00:00<00:17, 31.47it/s]"
     ]
    },
    {
     "name": "stdout",
     "output_type": "stream",
     "text": [
      "multilayer_perceptron ran in: 0.0010004043579101562 sec\n",
      "multilayer_perceptron ran in: 0.002005338668823242 sec\n",
      "multilayer_perceptron ran in: 0.0009996891021728516 sec\n",
      "multilayer_perceptron ran in: 0.0010004043579101562 sec\n",
      "multilayer_perceptron ran in: 0.0010006427764892578 sec\n",
      "multilayer_perceptron ran in: 0.002013683319091797 sec\n",
      "multilayer_perceptron ran in: 0.0010004043579101562 sec\n"
     ]
    },
    {
     "name": "stderr",
     "output_type": "stream",
     "text": [
      "  5%|▍         | 26/560 [00:00<00:16, 32.48it/s]"
     ]
    },
    {
     "name": "stdout",
     "output_type": "stream",
     "text": [
      "multilayer_perceptron ran in: 0.0010008811950683594 sec\n",
      "multilayer_perceptron ran in: 0.0010008811950683594 sec\n",
      "multilayer_perceptron ran in: 0.0019860267639160156 sec\n",
      "multilayer_perceptron ran in: 0.0010008811950683594 sec\n",
      "multilayer_perceptron ran in: 0.0010006427764892578 sec\n",
      "multilayer_perceptron ran in: 0.0010001659393310547 sec\n",
      "multilayer_perceptron ran in: 0.0010180473327636719 sec\n"
     ]
    },
    {
     "name": "stderr",
     "output_type": "stream",
     "text": [
      "  6%|▌         | 34/560 [00:01<00:15, 32.91it/s]"
     ]
    },
    {
     "name": "stdout",
     "output_type": "stream",
     "text": [
      "multilayer_perceptron ran in: 0.002017498016357422 sec\n",
      "multilayer_perceptron ran in: 0.0010004043579101562 sec\n",
      "multilayer_perceptron ran in: 0.002000570297241211 sec\n",
      "multilayer_perceptron ran in: 0.001001119613647461 sec\n",
      "multilayer_perceptron ran in: 0.0009999275207519531 sec\n",
      "multilayer_perceptron ran in: 0.002001047134399414 sec\n",
      "multilayer_perceptron ran in: 0.0009999275207519531 sec\n"
     ]
    },
    {
     "name": "stderr",
     "output_type": "stream",
     "text": [
      "\r",
      "  7%|▋         | 38/560 [00:01<00:15, 32.95it/s]"
     ]
    },
    {
     "name": "stdout",
     "output_type": "stream",
     "text": [
      "multilayer_perceptron ran in: 0.001985788345336914 sec\n",
      "multilayer_perceptron ran in: 0.0010004043579101562 sec\n",
      "multilayer_perceptron ran in: 0.0010008811950683594 sec\n",
      "multilayer_perceptron ran in: 0.0009932518005371094 sec\n",
      "multilayer_perceptron ran in: 0.0019991397857666016 sec\n",
      "multilayer_perceptron ran in: 0.0009992122650146484 sec\n",
      "multilayer_perceptron ran in: 0.0019876956939697266 sec\n"
     ]
    },
    {
     "name": "stderr",
     "output_type": "stream",
     "text": [
      "  8%|▊         | 46/560 [00:01<00:16, 32.02it/s]"
     ]
    },
    {
     "name": "stdout",
     "output_type": "stream",
     "text": [
      "multilayer_perceptron ran in: 0.0009999275207519531 sec\n",
      "multilayer_perceptron ran in: 0.00099945068359375 sec\n",
      "multilayer_perceptron ran in: 0.0010001659393310547 sec\n",
      "multilayer_perceptron ran in: 0.002001047134399414 sec\n",
      "multilayer_perceptron ran in: 0.0020020008087158203 sec\n",
      "multilayer_perceptron ran in: 0.0009982585906982422 sec\n",
      "multilayer_perceptron ran in: 0.0010004043579101562 sec\n"
     ]
    },
    {
     "name": "stderr",
     "output_type": "stream",
     "text": [
      " 10%|▉         | 54/560 [00:01<00:15, 32.30it/s]"
     ]
    },
    {
     "name": "stdout",
     "output_type": "stream",
     "text": [
      "multilayer_perceptron ran in: 0.0010004043579101562 sec\n",
      "multilayer_perceptron ran in: 0.0019996166229248047 sec\n",
      "multilayer_perceptron ran in: 0.0010006427764892578 sec\n",
      "multilayer_perceptron ran in: 0.0010173320770263672 sec\n",
      "multilayer_perceptron ran in: 0.0010001659393310547 sec\n",
      "multilayer_perceptron ran in: 0.0010004043579101562 sec\n"
     ]
    },
    {
     "name": "stderr",
     "output_type": "stream",
     "text": [
      "\r",
      " 10%|█         | 58/560 [00:01<00:15, 32.37it/s]"
     ]
    },
    {
     "name": "stdout",
     "output_type": "stream",
     "text": [
      "multilayer_perceptron ran in: 0.0009982585906982422 sec\n",
      "multilayer_perceptron ran in: 0.0010008811950683594 sec\n",
      "multilayer_perceptron ran in: 0.001001119613647461 sec\n",
      "multilayer_perceptron ran in: 0.0020012855529785156 sec\n",
      "multilayer_perceptron ran in: 0.0010018348693847656 sec\n",
      "multilayer_perceptron ran in: 0.0010001659393310547 sec\n",
      "multilayer_perceptron ran in: 0.0020036697387695312 sec\n"
     ]
    },
    {
     "name": "stderr",
     "output_type": "stream",
     "text": [
      " 12%|█▏        | 66/560 [00:02<00:15, 31.74it/s]"
     ]
    },
    {
     "name": "stdout",
     "output_type": "stream",
     "text": [
      "multilayer_perceptron ran in: 0.0009987354278564453 sec\n",
      "multilayer_perceptron ran in: 0.0009989738464355469 sec\n",
      "multilayer_perceptron ran in: 0.0019996166229248047 sec\n",
      "multilayer_perceptron ran in: 0.0010001659393310547 sec\n",
      "multilayer_perceptron ran in: 0.0009868144989013672 sec\n",
      "multilayer_perceptron ran in: 0.0019996166229248047 sec\n",
      "multilayer_perceptron ran in: 0.0030007362365722656 sec\n"
     ]
    },
    {
     "name": "stderr",
     "output_type": "stream",
     "text": [
      "\r",
      " 12%|█▎        | 70/560 [00:02<00:15, 31.15it/s]"
     ]
    },
    {
     "name": "stdout",
     "output_type": "stream",
     "text": [
      "multilayer_perceptron ran in: 0.0009980201721191406 sec\n",
      "multilayer_perceptron ran in: 0.000995635986328125 sec\n",
      "multilayer_perceptron ran in: 0.0009996891021728516 sec\n",
      "multilayer_perceptron ran in: 0.0020165443420410156 sec\n",
      "multilayer_perceptron ran in: 0.0020017623901367188 sec\n",
      "multilayer_perceptron ran in: 0.0009996891021728516 sec\n"
     ]
    },
    {
     "name": "stderr",
     "output_type": "stream",
     "text": [
      " 14%|█▍        | 78/560 [00:02<00:16, 29.89it/s]"
     ]
    },
    {
     "name": "stdout",
     "output_type": "stream",
     "text": [
      "multilayer_perceptron ran in: 0.001001119613647461 sec\n",
      "multilayer_perceptron ran in: 0.00099945068359375 sec\n",
      "multilayer_perceptron ran in: 0.0010001659393310547 sec\n",
      "multilayer_perceptron ran in: 0.0010006427764892578 sec\n",
      "multilayer_perceptron ran in: 0.0010004043579101562 sec\n",
      "multilayer_perceptron ran in: 0.002001523971557617 sec\n"
     ]
    },
    {
     "name": "stderr",
     "output_type": "stream",
     "text": [
      " 15%|█▌        | 85/560 [00:02<00:15, 30.69it/s]"
     ]
    },
    {
     "name": "stdout",
     "output_type": "stream",
     "text": [
      "multilayer_perceptron ran in: 0.0010004043579101562 sec\n",
      "multilayer_perceptron ran in: 0.0010023117065429688 sec\n",
      "multilayer_perceptron ran in: 0.0010006427764892578 sec\n",
      "multilayer_perceptron ran in: 0.0010006427764892578 sec\n",
      "multilayer_perceptron ran in: 0.001001119613647461 sec\n",
      "multilayer_perceptron ran in: 0.001001119613647461 sec\n",
      "multilayer_perceptron ran in: 0.0019991397857666016 sec\n"
     ]
    },
    {
     "name": "stderr",
     "output_type": "stream",
     "text": [
      " 17%|█▋        | 93/560 [00:02<00:15, 31.11it/s]"
     ]
    },
    {
     "name": "stdout",
     "output_type": "stream",
     "text": [
      "multilayer_perceptron ran in: 0.0010020732879638672 sec\n",
      "multilayer_perceptron ran in: 0.0020012855529785156 sec\n",
      "multilayer_perceptron ran in: 0.0019998550415039062 sec\n",
      "multilayer_perceptron ran in: 0.0009989738464355469 sec\n",
      "multilayer_perceptron ran in: 0.0009984970092773438 sec\n",
      "multilayer_perceptron ran in: 0.0020017623901367188 sec\n"
     ]
    },
    {
     "name": "stderr",
     "output_type": "stream",
     "text": [
      "\r",
      " 17%|█▋        | 97/560 [00:03<00:14, 31.23it/s]"
     ]
    },
    {
     "name": "stdout",
     "output_type": "stream",
     "text": [
      "multilayer_perceptron ran in: 0.0020072460174560547 sec\n",
      "multilayer_perceptron ran in: 0.0010030269622802734 sec\n",
      "multilayer_perceptron ran in: 0.0010008811950683594 sec\n",
      "multilayer_perceptron ran in: 0.001001119613647461 sec\n",
      "multilayer_perceptron ran in: 0.001001596450805664 sec\n",
      "multilayer_perceptron ran in: 0.001001596450805664 sec\n",
      "multilayer_perceptron ran in: 0.0009987354278564453 sec\n"
     ]
    },
    {
     "name": "stderr",
     "output_type": "stream",
     "text": [
      " 19%|█▉        | 105/560 [00:03<00:14, 31.96it/s]"
     ]
    },
    {
     "name": "stdout",
     "output_type": "stream",
     "text": [
      "multilayer_perceptron ran in: 0.0010013580322265625 sec\n",
      "multilayer_perceptron ran in: 0.001001119613647461 sec\n",
      "multilayer_perceptron ran in: 0.0010020732879638672 sec\n",
      "multilayer_perceptron ran in: 0.0020003318786621094 sec\n",
      "multilayer_perceptron ran in: 0.002001047134399414 sec\n",
      "multilayer_perceptron ran in: 0.0010008811950683594 sec\n",
      "multilayer_perceptron ran in: 0.0010001659393310547 sec\n"
     ]
    },
    {
     "name": "stderr",
     "output_type": "stream",
     "text": [
      " 20%|██        | 113/560 [00:03<00:14, 31.46it/s]"
     ]
    },
    {
     "name": "stdout",
     "output_type": "stream",
     "text": [
      "multilayer_perceptron ran in: 0.0010001659393310547 sec\n",
      "multilayer_perceptron ran in: 0.0019986629486083984 sec\n",
      "multilayer_perceptron ran in: 0.0010013580322265625 sec\n",
      "multilayer_perceptron ran in: 0.0020020008087158203 sec\n",
      "multilayer_perceptron ran in: 0.0010013580322265625 sec\n",
      "multilayer_perceptron ran in: 0.0010013580322265625 sec\n"
     ]
    },
    {
     "name": "stderr",
     "output_type": "stream",
     "text": [
      "\r",
      " 21%|██        | 117/560 [00:03<00:14, 30.96it/s]"
     ]
    },
    {
     "name": "stdout",
     "output_type": "stream",
     "text": [
      "multilayer_perceptron ran in: 0.0009975433349609375 sec\n",
      "multilayer_perceptron ran in: 0.0009989738464355469 sec\n",
      "multilayer_perceptron ran in: 0.0020012855529785156 sec\n",
      "multilayer_perceptron ran in: 0.0010020732879638672 sec\n",
      "multilayer_perceptron ran in: 0.0010001659393310547 sec\n",
      "multilayer_perceptron ran in: 0.002000093460083008 sec\n"
     ]
    },
    {
     "name": "stderr",
     "output_type": "stream",
     "text": [
      " 22%|██▏       | 125/560 [00:03<00:14, 30.86it/s]"
     ]
    },
    {
     "name": "stdout",
     "output_type": "stream",
     "text": [
      "multilayer_perceptron ran in: 0.0009996891021728516 sec\n",
      "multilayer_perceptron ran in: 0.001001596450805664 sec\n",
      "multilayer_perceptron ran in: 0.001004934310913086 sec\n",
      "multilayer_perceptron ran in: 0.001001119613647461 sec\n",
      "multilayer_perceptron ran in: 0.0010013580322265625 sec\n",
      "multilayer_perceptron ran in: 0.0020008087158203125 sec\n"
     ]
    },
    {
     "name": "stderr",
     "output_type": "stream",
     "text": [
      "\r",
      " 23%|██▎       | 129/560 [00:04<00:13, 31.42it/s]"
     ]
    },
    {
     "name": "stdout",
     "output_type": "stream",
     "text": [
      "multilayer_perceptron ran in: 0.0009992122650146484 sec\n",
      "multilayer_perceptron ran in: 0.001001119613647461 sec\n",
      "multilayer_perceptron ran in: 0.0010006427764892578 sec\n",
      "multilayer_perceptron ran in: 0.0010018348693847656 sec\n",
      "multilayer_perceptron ran in: 0.0010004043579101562 sec\n",
      "multilayer_perceptron ran in: 0.0009999275207519531 sec\n",
      "multilayer_perceptron ran in: 0.001001596450805664 sec\n"
     ]
    },
    {
     "name": "stderr",
     "output_type": "stream",
     "text": [
      " 24%|██▍       | 137/560 [00:04<00:13, 31.87it/s]"
     ]
    },
    {
     "name": "stdout",
     "output_type": "stream",
     "text": [
      "multilayer_perceptron ran in: 0.0010013580322265625 sec\n",
      "multilayer_perceptron ran in: 0.0009996891021728516 sec\n",
      "multilayer_perceptron ran in: 0.001001119613647461 sec\n",
      "multilayer_perceptron ran in: 0.001001119613647461 sec\n",
      "multilayer_perceptron ran in: 0.0019996166229248047 sec\n",
      "multilayer_perceptron ran in: 0.001997232437133789 sec\n",
      "multilayer_perceptron ran in: 0.0010013580322265625 sec\n"
     ]
    },
    {
     "name": "stderr",
     "output_type": "stream",
     "text": [
      " 26%|██▌       | 145/560 [00:04<00:13, 31.50it/s]"
     ]
    },
    {
     "name": "stdout",
     "output_type": "stream",
     "text": [
      "multilayer_perceptron ran in: 0.001001119613647461 sec\n",
      "multilayer_perceptron ran in: 0.0009996891021728516 sec\n",
      "multilayer_perceptron ran in: 0.0019996166229248047 sec\n",
      "multilayer_perceptron ran in: 0.0009982585906982422 sec\n",
      "multilayer_perceptron ran in: 0.0009992122650146484 sec\n",
      "multilayer_perceptron ran in: 0.0020008087158203125 sec\n"
     ]
    },
    {
     "name": "stderr",
     "output_type": "stream",
     "text": [
      "\r",
      " 27%|██▋       | 149/560 [00:04<00:13, 31.52it/s]"
     ]
    },
    {
     "name": "stdout",
     "output_type": "stream",
     "text": [
      "multilayer_perceptron ran in: 0.0010004043579101562 sec\n",
      "multilayer_perceptron ran in: 0.001003265380859375 sec\n",
      "multilayer_perceptron ran in: 0.0010013580322265625 sec\n",
      "multilayer_perceptron ran in: 0.0009999275207519531 sec\n",
      "multilayer_perceptron ran in: 0.0009965896606445312 sec\n",
      "multilayer_perceptron ran in: 0.0010035037994384766 sec\n",
      "multilayer_perceptron ran in: 0.0010008811950683594 sec\n"
     ]
    },
    {
     "name": "stderr",
     "output_type": "stream",
     "text": [
      " 28%|██▊       | 157/560 [00:04<00:12, 32.20it/s]"
     ]
    },
    {
     "name": "stdout",
     "output_type": "stream",
     "text": [
      "multilayer_perceptron ran in: 0.0010004043579101562 sec\n",
      "multilayer_perceptron ran in: 0.0010001659393310547 sec\n",
      "multilayer_perceptron ran in: 0.002004384994506836 sec\n",
      "multilayer_perceptron ran in: 0.0010170936584472656 sec\n",
      "multilayer_perceptron ran in: 0.0010004043579101562 sec\n",
      "multilayer_perceptron ran in: 0.0009832382202148438 sec\n",
      "multilayer_perceptron ran in: 0.0009999275207519531 sec\n"
     ]
    },
    {
     "name": "stderr",
     "output_type": "stream",
     "text": [
      " 29%|██▉       | 165/560 [00:05<00:12, 31.35it/s]"
     ]
    },
    {
     "name": "stdout",
     "output_type": "stream",
     "text": [
      "multilayer_perceptron ran in: 0.0019969940185546875 sec\n",
      "multilayer_perceptron ran in: 0.0010001659393310547 sec\n",
      "multilayer_perceptron ran in: 0.0010001659393310547 sec\n",
      "multilayer_perceptron ran in: 0.0010004043579101562 sec\n",
      "multilayer_perceptron ran in: 0.0010097026824951172 sec\n",
      "multilayer_perceptron ran in: 0.0010018348693847656 sec\n"
     ]
    },
    {
     "name": "stderr",
     "output_type": "stream",
     "text": [
      "\r",
      " 30%|███       | 169/560 [00:05<00:12, 31.92it/s]"
     ]
    },
    {
     "name": "stdout",
     "output_type": "stream",
     "text": [
      "multilayer_perceptron ran in: 0.0010001659393310547 sec\n",
      "multilayer_perceptron ran in: 0.0010001659393310547 sec\n",
      "multilayer_perceptron ran in: 0.0020003318786621094 sec\n",
      "multilayer_perceptron ran in: 0.001001596450805664 sec\n",
      "multilayer_perceptron ran in: 0.0009987354278564453 sec\n",
      "multilayer_perceptron ran in: 0.0009996891021728516 sec\n",
      "multilayer_perceptron ran in: 0.0010001659393310547 sec\n"
     ]
    },
    {
     "name": "stderr",
     "output_type": "stream",
     "text": [
      " 32%|███▏      | 177/560 [00:05<00:11, 32.15it/s]"
     ]
    },
    {
     "name": "stdout",
     "output_type": "stream",
     "text": [
      "multilayer_perceptron ran in: 0.0009996891021728516 sec\n",
      "multilayer_perceptron ran in: 0.0009999275207519531 sec\n",
      "multilayer_perceptron ran in: 0.0020003318786621094 sec\n",
      "multilayer_perceptron ran in: 0.0010008811950683594 sec\n",
      "multilayer_perceptron ran in: 0.0009989738464355469 sec\n",
      "multilayer_perceptron ran in: 0.0009996891021728516 sec\n",
      "multilayer_perceptron ran in: 0.0020143985748291016 sec\n"
     ]
    },
    {
     "name": "stderr",
     "output_type": "stream",
     "text": [
      " 33%|███▎      | 185/560 [00:05<00:11, 32.62it/s]"
     ]
    },
    {
     "name": "stdout",
     "output_type": "stream",
     "text": [
      "multilayer_perceptron ran in: 0.0010044574737548828 sec\n",
      "multilayer_perceptron ran in: 0.0010001659393310547 sec\n",
      "multilayer_perceptron ran in: 0.0009889602661132812 sec\n",
      "multilayer_perceptron ran in: 0.0010004043579101562 sec\n",
      "multilayer_perceptron ran in: 0.0010006427764892578 sec\n",
      "multilayer_perceptron ran in: 0.0010004043579101562 sec\n",
      "multilayer_perceptron ran in: 0.0009999275207519531 sec\n",
      "multilayer_perceptron ran in: 0.0010004043579101562 sec\n"
     ]
    },
    {
     "name": "stderr",
     "output_type": "stream",
     "text": [
      " 34%|███▍      | 193/560 [00:06<00:11, 32.98it/s]"
     ]
    },
    {
     "name": "stdout",
     "output_type": "stream",
     "text": [
      "multilayer_perceptron ran in: 0.0019998550415039062 sec\n",
      "multilayer_perceptron ran in: 0.0019996166229248047 sec\n",
      "multilayer_perceptron ran in: 0.0009870529174804688 sec\n",
      "multilayer_perceptron ran in: 0.0009996891021728516 sec\n",
      "multilayer_perceptron ran in: 0.0020036697387695312 sec\n",
      "multilayer_perceptron ran in: 0.0010001659393310547 sec\n",
      "multilayer_perceptron ran in: 0.0020127296447753906 sec\n",
      "multilayer_perceptron ran in: 0.0019996166229248047 sec\n"
     ]
    },
    {
     "name": "stderr",
     "output_type": "stream",
     "text": [
      " 36%|███▌      | 201/560 [00:06<00:10, 33.14it/s]"
     ]
    },
    {
     "name": "stdout",
     "output_type": "stream",
     "text": [
      "multilayer_perceptron ran in: 0.0010001659393310547 sec\n",
      "multilayer_perceptron ran in: 0.002000570297241211 sec\n",
      "multilayer_perceptron ran in: 0.0019903182983398438 sec\n",
      "multilayer_perceptron ran in: 0.0010004043579101562 sec\n",
      "multilayer_perceptron ran in: 0.00099945068359375 sec\n",
      "multilayer_perceptron ran in: 0.0010001659393310547 sec\n",
      "multilayer_perceptron ran in: 0.0009868144989013672 sec\n",
      "multilayer_perceptron ran in: 0.001001596450805664 sec\n"
     ]
    },
    {
     "name": "stderr",
     "output_type": "stream",
     "text": [
      " 37%|███▋      | 209/560 [00:06<00:10, 32.75it/s]"
     ]
    },
    {
     "name": "stdout",
     "output_type": "stream",
     "text": [
      "multilayer_perceptron ran in: 0.0019865036010742188 sec\n",
      "multilayer_perceptron ran in: 0.0010004043579101562 sec\n",
      "multilayer_perceptron ran in: 0.002000570297241211 sec\n",
      "multilayer_perceptron ran in: 0.0010001659393310547 sec\n",
      "multilayer_perceptron ran in: 0.0010006427764892578 sec\n",
      "multilayer_perceptron ran in: 0.0010006427764892578 sec\n",
      "multilayer_perceptron ran in: 0.0009992122650146484 sec\n"
     ]
    },
    {
     "name": "stderr",
     "output_type": "stream",
     "text": [
      " 39%|███▉      | 217/560 [00:06<00:10, 33.19it/s]"
     ]
    },
    {
     "name": "stdout",
     "output_type": "stream",
     "text": [
      "multilayer_perceptron ran in: 0.0010030269622802734 sec\n",
      "multilayer_perceptron ran in: 0.001001596450805664 sec\n",
      "multilayer_perceptron ran in: 0.001996278762817383 sec\n",
      "multilayer_perceptron ran in: 0.002000093460083008 sec\n",
      "multilayer_perceptron ran in: 0.0010004043579101562 sec\n",
      "multilayer_perceptron ran in: 0.0009999275207519531 sec\n",
      "multilayer_perceptron ran in: 0.0010008811950683594 sec\n"
     ]
    },
    {
     "name": "stderr",
     "output_type": "stream",
     "text": [
      "\r",
      " 39%|███▉      | 221/560 [00:06<00:10, 33.40it/s]"
     ]
    },
    {
     "name": "stdout",
     "output_type": "stream",
     "text": [
      "multilayer_perceptron ran in: 0.0010023117065429688 sec\n",
      "multilayer_perceptron ran in: 0.0009958744049072266 sec\n",
      "multilayer_perceptron ran in: 0.0010001659393310547 sec\n",
      "multilayer_perceptron ran in: 0.0010001659393310547 sec\n",
      "multilayer_perceptron ran in: 0.0010001659393310547 sec\n",
      "multilayer_perceptron ran in: 0.0010008811950683594 sec\n",
      "multilayer_perceptron ran in: 0.0010001659393310547 sec\n"
     ]
    },
    {
     "name": "stderr",
     "output_type": "stream",
     "text": [
      " 41%|████      | 229/560 [00:07<00:09, 33.57it/s]"
     ]
    },
    {
     "name": "stdout",
     "output_type": "stream",
     "text": [
      "multilayer_perceptron ran in: 0.0010111331939697266 sec\n",
      "multilayer_perceptron ran in: 0.0010037422180175781 sec\n",
      "multilayer_perceptron ran in: 0.0010004043579101562 sec\n",
      "multilayer_perceptron ran in: 0.0010001659393310547 sec\n",
      "multilayer_perceptron ran in: 0.0010001659393310547 sec\n",
      "multilayer_perceptron ran in: 0.00099945068359375 sec\n",
      "multilayer_perceptron ran in: 0.0010001659393310547 sec\n",
      "multilayer_perceptron ran in: 0.0010006427764892578 sec\n"
     ]
    },
    {
     "name": "stderr",
     "output_type": "stream",
     "text": [
      " 42%|████▏     | 237/560 [00:07<00:09, 33.33it/s]"
     ]
    },
    {
     "name": "stdout",
     "output_type": "stream",
     "text": [
      "multilayer_perceptron ran in: 0.0010004043579101562 sec\n",
      "multilayer_perceptron ran in: 0.0009999275207519531 sec\n",
      "multilayer_perceptron ran in: 0.0010027885437011719 sec\n",
      "multilayer_perceptron ran in: 0.0010004043579101562 sec\n",
      "multilayer_perceptron ran in: 0.0009999275207519531 sec\n",
      "multilayer_perceptron ran in: 0.0009996891021728516 sec\n",
      "multilayer_perceptron ran in: 0.0010001659393310547 sec\n",
      "multilayer_perceptron ran in: 0.0010004043579101562 sec\n"
     ]
    },
    {
     "name": "stderr",
     "output_type": "stream",
     "text": [
      " 44%|████▍     | 245/560 [00:07<00:09, 33.56it/s]"
     ]
    },
    {
     "name": "stdout",
     "output_type": "stream",
     "text": [
      "multilayer_perceptron ran in: 0.0010006427764892578 sec\n",
      "multilayer_perceptron ran in: 0.0009996891021728516 sec\n",
      "multilayer_perceptron ran in: 0.0010006427764892578 sec\n",
      "multilayer_perceptron ran in: 0.0009999275207519531 sec\n",
      "multilayer_perceptron ran in: 0.0019996166229248047 sec\n",
      "multilayer_perceptron ran in: 0.0010004043579101562 sec\n",
      "multilayer_perceptron ran in: 0.0019991397857666016 sec\n",
      "multilayer_perceptron ran in: 0.00099945068359375 sec\n"
     ]
    },
    {
     "name": "stderr",
     "output_type": "stream",
     "text": [
      " 45%|████▌     | 253/560 [00:07<00:09, 33.64it/s]"
     ]
    },
    {
     "name": "stdout",
     "output_type": "stream",
     "text": [
      "multilayer_perceptron ran in: 0.0019998550415039062 sec\n",
      "multilayer_perceptron ran in: 0.000982522964477539 sec\n",
      "multilayer_perceptron ran in: 0.0009999275207519531 sec\n",
      "multilayer_perceptron ran in: 0.0009999275207519531 sec\n",
      "multilayer_perceptron ran in: 0.0009999275207519531 sec\n",
      "multilayer_perceptron ran in: 0.0009953975677490234 sec\n",
      "multilayer_perceptron ran in: 0.0020003318786621094 sec\n",
      "multilayer_perceptron ran in: 0.0019998550415039062 sec\n"
     ]
    },
    {
     "name": "stderr",
     "output_type": "stream",
     "text": [
      " 47%|████▋     | 261/560 [00:08<00:08, 33.45it/s]"
     ]
    },
    {
     "name": "stdout",
     "output_type": "stream",
     "text": [
      "multilayer_perceptron ran in: 0.0010008811950683594 sec\n",
      "multilayer_perceptron ran in: 0.001010894775390625 sec\n",
      "multilayer_perceptron ran in: 0.0010006427764892578 sec\n",
      "multilayer_perceptron ran in: 0.0010004043579101562 sec\n",
      "multilayer_perceptron ran in: 0.001995086669921875 sec\n",
      "multilayer_perceptron ran in: 0.0010161399841308594 sec\n",
      "multilayer_perceptron ran in: 0.0009999275207519531 sec\n",
      "multilayer_perceptron ran in: 0.0010001659393310547 sec\n"
     ]
    },
    {
     "name": "stderr",
     "output_type": "stream",
     "text": [
      " 48%|████▊     | 269/560 [00:08<00:09, 32.05it/s]"
     ]
    },
    {
     "name": "stdout",
     "output_type": "stream",
     "text": [
      "multilayer_perceptron ran in: 0.0010001659393310547 sec\n",
      "multilayer_perceptron ran in: 0.0009958744049072266 sec\n",
      "multilayer_perceptron ran in: 0.0009982585906982422 sec\n",
      "multilayer_perceptron ran in: 0.00099945068359375 sec\n",
      "multilayer_perceptron ran in: 0.0010004043579101562 sec\n",
      "multilayer_perceptron ran in: 0.0009970664978027344 sec\n",
      "multilayer_perceptron ran in: 0.001001119613647461 sec\n"
     ]
    },
    {
     "name": "stderr",
     "output_type": "stream",
     "text": [
      " 49%|████▉     | 277/560 [00:08<00:08, 32.08it/s]"
     ]
    },
    {
     "name": "stdout",
     "output_type": "stream",
     "text": [
      "multilayer_perceptron ran in: 0.0019989013671875 sec\n",
      "multilayer_perceptron ran in: 0.00099945068359375 sec\n",
      "multilayer_perceptron ran in: 0.0020017623901367188 sec\n",
      "multilayer_perceptron ran in: 0.0010008811950683594 sec\n",
      "multilayer_perceptron ran in: 0.000986337661743164 sec\n",
      "multilayer_perceptron ran in: 0.001003265380859375 sec\n",
      "multilayer_perceptron ran in: 0.0020122528076171875 sec\n",
      "multilayer_perceptron ran in: 0.001001119613647461 sec\n"
     ]
    },
    {
     "name": "stderr",
     "output_type": "stream",
     "text": [
      " 51%|█████     | 285/560 [00:08<00:08, 32.77it/s]"
     ]
    },
    {
     "name": "stdout",
     "output_type": "stream",
     "text": [
      "multilayer_perceptron ran in: 0.0009999275207519531 sec\n",
      "multilayer_perceptron ran in: 0.001003265380859375 sec\n",
      "multilayer_perceptron ran in: 0.0010001659393310547 sec\n",
      "multilayer_perceptron ran in: 0.0010001659393310547 sec\n",
      "multilayer_perceptron ran in: 0.0010001659393310547 sec\n",
      "multilayer_perceptron ran in: 0.0010006427764892578 sec\n",
      "multilayer_perceptron ran in: 0.0009996891021728516 sec\n",
      "multilayer_perceptron ran in: 0.0010051727294921875 sec\n"
     ]
    },
    {
     "name": "stderr",
     "output_type": "stream",
     "text": [
      " 52%|█████▏    | 293/560 [00:09<00:08, 32.63it/s]"
     ]
    },
    {
     "name": "stdout",
     "output_type": "stream",
     "text": [
      "multilayer_perceptron ran in: 0.0010004043579101562 sec\n",
      "multilayer_perceptron ran in: 0.0010001659393310547 sec\n",
      "multilayer_perceptron ran in: 0.0010001659393310547 sec\n",
      "multilayer_perceptron ran in: 0.0009999275207519531 sec\n",
      "multilayer_perceptron ran in: 0.0019865036010742188 sec\n",
      "multilayer_perceptron ran in: 0.0010004043579101562 sec\n",
      "multilayer_perceptron ran in: 0.0009996891021728516 sec\n"
     ]
    },
    {
     "name": "stderr",
     "output_type": "stream",
     "text": [
      "\r",
      " 53%|█████▎    | 297/560 [00:09<00:08, 32.12it/s]"
     ]
    },
    {
     "name": "stdout",
     "output_type": "stream",
     "text": [
      "multilayer_perceptron ran in: 0.0009996891021728516 sec\n",
      "multilayer_perceptron ran in: 0.001999378204345703 sec\n",
      "multilayer_perceptron ran in: 0.002000093460083008 sec\n",
      "multilayer_perceptron ran in: 0.0010001659393310547 sec\n",
      "multilayer_perceptron ran in: 0.001999378204345703 sec\n",
      "multilayer_perceptron ran in: 0.0010020732879638672 sec\n",
      "multilayer_perceptron ran in: 0.0010006427764892578 sec\n"
     ]
    },
    {
     "name": "stderr",
     "output_type": "stream",
     "text": [
      " 54%|█████▍    | 305/560 [00:09<00:08, 30.96it/s]"
     ]
    },
    {
     "name": "stdout",
     "output_type": "stream",
     "text": [
      "multilayer_perceptron ran in: 0.001001596450805664 sec\n",
      "multilayer_perceptron ran in: 0.0009992122650146484 sec\n",
      "multilayer_perceptron ran in: 0.0010006427764892578 sec\n",
      "multilayer_perceptron ran in: 0.002000093460083008 sec\n",
      "multilayer_perceptron ran in: 0.0019991397857666016 sec\n",
      "multilayer_perceptron ran in: 0.0010008811950683594 sec\n",
      "multilayer_perceptron ran in: 0.0020051002502441406 sec\n"
     ]
    },
    {
     "name": "stderr",
     "output_type": "stream",
     "text": [
      " 56%|█████▌    | 313/560 [00:09<00:07, 31.40it/s]"
     ]
    },
    {
     "name": "stdout",
     "output_type": "stream",
     "text": [
      "multilayer_perceptron ran in: 0.0009865760803222656 sec\n",
      "multilayer_perceptron ran in: 0.0009999275207519531 sec\n",
      "multilayer_perceptron ran in: 0.0010166168212890625 sec\n",
      "multilayer_perceptron ran in: 0.0010001659393310547 sec\n",
      "multilayer_perceptron ran in: 0.0019986629486083984 sec\n",
      "multilayer_perceptron ran in: 0.0020165443420410156 sec\n",
      "multilayer_perceptron ran in: 0.0010006427764892578 sec\n"
     ]
    },
    {
     "name": "stderr",
     "output_type": "stream",
     "text": [
      " 57%|█████▋    | 321/560 [00:10<00:07, 31.43it/s]"
     ]
    },
    {
     "name": "stdout",
     "output_type": "stream",
     "text": [
      "multilayer_perceptron ran in: 0.001001596450805664 sec\n",
      "multilayer_perceptron ran in: 0.001990079879760742 sec\n",
      "multilayer_perceptron ran in: 0.0010004043579101562 sec\n",
      "multilayer_perceptron ran in: 0.0020003318786621094 sec\n",
      "multilayer_perceptron ran in: 0.0010077953338623047 sec\n",
      "multilayer_perceptron ran in: 0.002000093460083008 sec\n"
     ]
    },
    {
     "name": "stderr",
     "output_type": "stream",
     "text": [
      "\r",
      " 58%|█████▊    | 325/560 [00:10<00:07, 31.78it/s]"
     ]
    },
    {
     "name": "stdout",
     "output_type": "stream",
     "text": [
      "multilayer_perceptron ran in: 0.002001523971557617 sec\n",
      "multilayer_perceptron ran in: 0.0010004043579101562 sec\n",
      "multilayer_perceptron ran in: 0.0009999275207519531 sec\n",
      "multilayer_perceptron ran in: 0.0010006427764892578 sec\n",
      "multilayer_perceptron ran in: 0.0010008811950683594 sec\n",
      "multilayer_perceptron ran in: 0.0019910335540771484 sec\n",
      "multilayer_perceptron ran in: 0.0019998550415039062 sec\n"
     ]
    },
    {
     "name": "stderr",
     "output_type": "stream",
     "text": [
      " 59%|█████▉    | 333/560 [00:10<00:07, 32.20it/s]"
     ]
    },
    {
     "name": "stdout",
     "output_type": "stream",
     "text": [
      "multilayer_perceptron ran in: 0.0010001659393310547 sec\n",
      "multilayer_perceptron ran in: 0.0009999275207519531 sec\n",
      "multilayer_perceptron ran in: 0.0009999275207519531 sec\n",
      "multilayer_perceptron ran in: 0.0010149478912353516 sec\n",
      "multilayer_perceptron ran in: 0.0010149478912353516 sec\n",
      "multilayer_perceptron ran in: 0.0020127296447753906 sec\n",
      "multilayer_perceptron ran in: 0.0009958744049072266 sec\n"
     ]
    },
    {
     "name": "stderr",
     "output_type": "stream",
     "text": [
      " 61%|██████    | 341/560 [00:10<00:06, 31.81it/s]"
     ]
    },
    {
     "name": "stdout",
     "output_type": "stream",
     "text": [
      "multilayer_perceptron ran in: 0.0010004043579101562 sec\n",
      "multilayer_perceptron ran in: 0.0009965896606445312 sec\n",
      "multilayer_perceptron ran in: 0.0010004043579101562 sec\n",
      "multilayer_perceptron ran in: 0.0019998550415039062 sec\n",
      "multilayer_perceptron ran in: 0.0009875297546386719 sec\n",
      "multilayer_perceptron ran in: 0.0030014514923095703 sec\n"
     ]
    },
    {
     "name": "stderr",
     "output_type": "stream",
     "text": [
      "\r",
      " 62%|██████▏   | 345/560 [00:10<00:06, 31.79it/s]"
     ]
    },
    {
     "name": "stdout",
     "output_type": "stream",
     "text": [
      "multilayer_perceptron ran in: 0.001001596450805664 sec\n",
      "multilayer_perceptron ran in: 0.0020008087158203125 sec\n",
      "multilayer_perceptron ran in: 0.0010008811950683594 sec\n",
      "multilayer_perceptron ran in: 0.002000570297241211 sec\n",
      "multilayer_perceptron ran in: 0.0009801387786865234 sec\n",
      "multilayer_perceptron ran in: 0.0010001659393310547 sec\n",
      "multilayer_perceptron ran in: 0.0010001659393310547 sec\n"
     ]
    },
    {
     "name": "stderr",
     "output_type": "stream",
     "text": [
      " 63%|██████▎   | 353/560 [00:11<00:06, 32.23it/s]"
     ]
    },
    {
     "name": "stdout",
     "output_type": "stream",
     "text": [
      "multilayer_perceptron ran in: 0.0010006427764892578 sec\n",
      "multilayer_perceptron ran in: 0.0019872188568115234 sec\n",
      "multilayer_perceptron ran in: 0.001999378204345703 sec\n",
      "multilayer_perceptron ran in: 0.00101470947265625 sec\n",
      "multilayer_perceptron ran in: 0.0009870529174804688 sec\n",
      "multilayer_perceptron ran in: 0.0010004043579101562 sec\n",
      "multilayer_perceptron ran in: 0.0010001659393310547 sec\n"
     ]
    },
    {
     "name": "stderr",
     "output_type": "stream",
     "text": [
      " 64%|██████▍   | 361/560 [00:11<00:06, 32.27it/s]"
     ]
    },
    {
     "name": "stdout",
     "output_type": "stream",
     "text": [
      "multilayer_perceptron ran in: 0.002000093460083008 sec\n",
      "multilayer_perceptron ran in: 0.0010001659393310547 sec\n",
      "multilayer_perceptron ran in: 0.0010004043579101562 sec\n",
      "multilayer_perceptron ran in: 0.0010001659393310547 sec\n",
      "multilayer_perceptron ran in: 0.0020134449005126953 sec\n",
      "multilayer_perceptron ran in: 0.0010001659393310547 sec\n",
      "multilayer_perceptron ran in: 0.0020003318786621094 sec\n"
     ]
    },
    {
     "name": "stderr",
     "output_type": "stream",
     "text": [
      "\r",
      " 65%|██████▌   | 365/560 [00:11<00:06, 31.83it/s]"
     ]
    },
    {
     "name": "stdout",
     "output_type": "stream",
     "text": [
      "multilayer_perceptron ran in: 0.0010001659393310547 sec\n",
      "multilayer_perceptron ran in: 0.0019893646240234375 sec\n",
      "multilayer_perceptron ran in: 0.0009999275207519531 sec\n",
      "multilayer_perceptron ran in: 0.0019996166229248047 sec\n",
      "multilayer_perceptron ran in: 0.0009999275207519531 sec\n",
      "multilayer_perceptron ran in: 0.0009996891021728516 sec\n",
      "multilayer_perceptron ran in: 0.0010001659393310547 sec\n"
     ]
    },
    {
     "name": "stderr",
     "output_type": "stream",
     "text": [
      " 67%|██████▋   | 373/560 [00:11<00:05, 32.33it/s]"
     ]
    },
    {
     "name": "stdout",
     "output_type": "stream",
     "text": [
      "multilayer_perceptron ran in: 0.0010001659393310547 sec\n",
      "multilayer_perceptron ran in: 0.0009999275207519531 sec\n",
      "multilayer_perceptron ran in: 0.001001119613647461 sec\n",
      "multilayer_perceptron ran in: 0.0009999275207519531 sec\n",
      "multilayer_perceptron ran in: 0.0009999275207519531 sec\n",
      "multilayer_perceptron ran in: 0.0019888877868652344 sec\n",
      "multilayer_perceptron ran in: 0.0009996891021728516 sec\n"
     ]
    },
    {
     "name": "stderr",
     "output_type": "stream",
     "text": [
      " 68%|██████▊   | 381/560 [00:11<00:05, 31.72it/s]"
     ]
    },
    {
     "name": "stdout",
     "output_type": "stream",
     "text": [
      "multilayer_perceptron ran in: 0.0010004043579101562 sec\n",
      "multilayer_perceptron ran in: 0.0019998550415039062 sec\n",
      "multilayer_perceptron ran in: 0.0010001659393310547 sec\n",
      "multilayer_perceptron ran in: 0.0020155906677246094 sec\n",
      "multilayer_perceptron ran in: 0.0010001659393310547 sec\n",
      "multilayer_perceptron ran in: 0.002006053924560547 sec\n",
      "multilayer_perceptron ran in: 0.0010006427764892578 sec\n"
     ]
    },
    {
     "name": "stderr",
     "output_type": "stream",
     "text": [
      " 69%|██████▉   | 389/560 [00:12<00:05, 32.54it/s]"
     ]
    },
    {
     "name": "stdout",
     "output_type": "stream",
     "text": [
      "multilayer_perceptron ran in: 0.0020003318786621094 sec\n",
      "multilayer_perceptron ran in: 0.0010008811950683594 sec\n",
      "multilayer_perceptron ran in: 0.0009992122650146484 sec\n",
      "multilayer_perceptron ran in: 0.0010004043579101562 sec\n",
      "multilayer_perceptron ran in: 0.0010004043579101562 sec\n",
      "multilayer_perceptron ran in: 0.0010001659393310547 sec\n",
      "multilayer_perceptron ran in: 0.0009999275207519531 sec\n"
     ]
    },
    {
     "name": "stderr",
     "output_type": "stream",
     "text": [
      "\r",
      " 70%|███████   | 393/560 [00:12<00:05, 32.39it/s]"
     ]
    },
    {
     "name": "stdout",
     "output_type": "stream",
     "text": [
      "multilayer_perceptron ran in: 0.0010004043579101562 sec\n",
      "multilayer_perceptron ran in: 0.00099945068359375 sec\n",
      "multilayer_perceptron ran in: 0.0010192394256591797 sec\n",
      "multilayer_perceptron ran in: 0.0010001659393310547 sec\n",
      "multilayer_perceptron ran in: 0.0019919872283935547 sec\n",
      "multilayer_perceptron ran in: 0.0010008811950683594 sec\n",
      "multilayer_perceptron ran in: 0.0019998550415039062 sec\n"
     ]
    },
    {
     "name": "stderr",
     "output_type": "stream",
     "text": [
      " 72%|███████▏  | 401/560 [00:12<00:04, 32.22it/s]"
     ]
    },
    {
     "name": "stdout",
     "output_type": "stream",
     "text": [
      "multilayer_perceptron ran in: 0.0010192394256591797 sec\n",
      "multilayer_perceptron ran in: 0.0010001659393310547 sec\n",
      "multilayer_perceptron ran in: 0.0010004043579101562 sec\n",
      "multilayer_perceptron ran in: 0.0009996891021728516 sec\n",
      "multilayer_perceptron ran in: 0.0010027885437011719 sec\n",
      "multilayer_perceptron ran in: 0.0010008811950683594 sec\n",
      "multilayer_perceptron ran in: 0.0010006427764892578 sec\n"
     ]
    },
    {
     "name": "stderr",
     "output_type": "stream",
     "text": [
      " 73%|███████▎  | 409/560 [00:12<00:04, 31.88it/s]"
     ]
    },
    {
     "name": "stdout",
     "output_type": "stream",
     "text": [
      "multilayer_perceptron ran in: 0.0019807815551757812 sec\n",
      "multilayer_perceptron ran in: 0.0009999275207519531 sec\n",
      "multilayer_perceptron ran in: 0.002000093460083008 sec\n",
      "multilayer_perceptron ran in: 0.0019998550415039062 sec\n",
      "multilayer_perceptron ran in: 0.0010001659393310547 sec\n",
      "multilayer_perceptron ran in: 0.0009963512420654297 sec\n",
      "multilayer_perceptron ran in: 0.0010001659393310547 sec\n"
     ]
    },
    {
     "name": "stderr",
     "output_type": "stream",
     "text": [
      " 74%|███████▍  | 417/560 [00:13<00:04, 31.69it/s]"
     ]
    },
    {
     "name": "stdout",
     "output_type": "stream",
     "text": [
      "multilayer_perceptron ran in: 0.0010039806365966797 sec\n",
      "multilayer_perceptron ran in: 0.0010004043579101562 sec\n",
      "multilayer_perceptron ran in: 0.0010004043579101562 sec\n",
      "multilayer_perceptron ran in: 0.001998424530029297 sec\n",
      "multilayer_perceptron ran in: 0.0009999275207519531 sec\n",
      "multilayer_perceptron ran in: 0.0010001659393310547 sec\n"
     ]
    },
    {
     "name": "stderr",
     "output_type": "stream",
     "text": [
      "\r",
      " 75%|███████▌  | 421/560 [00:13<00:04, 31.85it/s]"
     ]
    },
    {
     "name": "stdout",
     "output_type": "stream",
     "text": [
      "multilayer_perceptron ran in: 0.001984834671020508 sec\n",
      "multilayer_perceptron ran in: 0.0010004043579101562 sec\n",
      "multilayer_perceptron ran in: 0.0020051002502441406 sec\n",
      "multilayer_perceptron ran in: 0.002000570297241211 sec\n",
      "multilayer_perceptron ran in: 0.002008199691772461 sec\n",
      "multilayer_perceptron ran in: 0.0010135173797607422 sec\n",
      "multilayer_perceptron ran in: 0.0010006427764892578 sec\n"
     ]
    },
    {
     "name": "stderr",
     "output_type": "stream",
     "text": [
      " 77%|███████▋  | 429/560 [00:13<00:04, 31.62it/s]"
     ]
    },
    {
     "name": "stdout",
     "output_type": "stream",
     "text": [
      "multilayer_perceptron ran in: 0.001984834671020508 sec\n",
      "multilayer_perceptron ran in: 0.0009970664978027344 sec\n",
      "multilayer_perceptron ran in: 0.0010039806365966797 sec\n",
      "multilayer_perceptron ran in: 0.0010116100311279297 sec\n",
      "multilayer_perceptron ran in: 0.0009999275207519531 sec\n",
      "multilayer_perceptron ran in: 0.0009992122650146484 sec\n",
      "multilayer_perceptron ran in: 0.0010001659393310547 sec\n"
     ]
    },
    {
     "name": "stderr",
     "output_type": "stream",
     "text": [
      " 78%|███████▊  | 437/560 [00:13<00:03, 32.12it/s]"
     ]
    },
    {
     "name": "stdout",
     "output_type": "stream",
     "text": [
      "multilayer_perceptron ran in: 0.001001119613647461 sec\n",
      "multilayer_perceptron ran in: 0.0019850730895996094 sec\n",
      "multilayer_perceptron ran in: 0.0020020008087158203 sec\n",
      "multilayer_perceptron ran in: 0.0010004043579101562 sec\n",
      "multilayer_perceptron ran in: 0.0019996166229248047 sec\n",
      "multilayer_perceptron ran in: 0.001999378204345703 sec\n"
     ]
    },
    {
     "name": "stderr",
     "output_type": "stream",
     "text": [
      "\r",
      " 79%|███████▉  | 441/560 [00:13<00:03, 31.87it/s]"
     ]
    },
    {
     "name": "stdout",
     "output_type": "stream",
     "text": [
      "multilayer_perceptron ran in: 0.0010004043579101562 sec\n",
      "multilayer_perceptron ran in: 0.0010001659393310547 sec\n",
      "multilayer_perceptron ran in: 0.0009684562683105469 sec\n",
      "multilayer_perceptron ran in: 0.0019974708557128906 sec\n",
      "multilayer_perceptron ran in: 0.0009999275207519531 sec\n",
      "multilayer_perceptron ran in: 0.002000093460083008 sec\n"
     ]
    },
    {
     "name": "stderr",
     "output_type": "stream",
     "text": [
      " 80%|████████  | 449/560 [00:14<00:03, 31.92it/s]"
     ]
    },
    {
     "name": "stdout",
     "output_type": "stream",
     "text": [
      "multilayer_perceptron ran in: 0.0009837150573730469 sec\n",
      "multilayer_perceptron ran in: 0.0009999275207519531 sec\n",
      "multilayer_perceptron ran in: 0.0010001659393310547 sec\n",
      "multilayer_perceptron ran in: 0.0009915828704833984 sec\n",
      "multilayer_perceptron ran in: 0.0010006427764892578 sec\n",
      "multilayer_perceptron ran in: 0.0009856224060058594 sec\n"
     ]
    },
    {
     "name": "stderr",
     "output_type": "stream",
     "text": [
      "\r",
      " 81%|████████  | 453/560 [00:14<00:03, 32.10it/s]"
     ]
    },
    {
     "name": "stdout",
     "output_type": "stream",
     "text": [
      "multilayer_perceptron ran in: 0.002005338668823242 sec\n",
      "multilayer_perceptron ran in: 0.000982046127319336 sec\n",
      "multilayer_perceptron ran in: 0.00099945068359375 sec\n",
      "multilayer_perceptron ran in: 0.0009999275207519531 sec\n",
      "multilayer_perceptron ran in: 0.0020003318786621094 sec\n",
      "multilayer_perceptron ran in: 0.001001119613647461 sec\n",
      "multilayer_perceptron ran in: 0.0010004043579101562 sec\n"
     ]
    },
    {
     "name": "stderr",
     "output_type": "stream",
     "text": [
      " 82%|████████▏ | 461/560 [00:14<00:03, 31.95it/s]"
     ]
    },
    {
     "name": "stdout",
     "output_type": "stream",
     "text": [
      "multilayer_perceptron ran in: 0.0010004043579101562 sec\n",
      "multilayer_perceptron ran in: 0.0009815692901611328 sec\n",
      "multilayer_perceptron ran in: 0.001018524169921875 sec\n",
      "multilayer_perceptron ran in: 0.0019865036010742188 sec\n",
      "multilayer_perceptron ran in: 0.0009851455688476562 sec\n",
      "multilayer_perceptron ran in: 0.0010004043579101562 sec\n",
      "multilayer_perceptron ran in: 0.0009965896606445312 sec\n"
     ]
    },
    {
     "name": "stderr",
     "output_type": "stream",
     "text": [
      " 84%|████████▍ | 469/560 [00:14<00:02, 32.69it/s]"
     ]
    },
    {
     "name": "stdout",
     "output_type": "stream",
     "text": [
      "multilayer_perceptron ran in: 0.0010013580322265625 sec\n",
      "multilayer_perceptron ran in: 0.0010001659393310547 sec\n",
      "multilayer_perceptron ran in: 0.0009999275207519531 sec\n",
      "multilayer_perceptron ran in: 0.0009999275207519531 sec\n",
      "multilayer_perceptron ran in: 0.002000093460083008 sec\n",
      "multilayer_perceptron ran in: 0.0010001659393310547 sec\n",
      "multilayer_perceptron ran in: 0.0009996891021728516 sec\n"
     ]
    },
    {
     "name": "stderr",
     "output_type": "stream",
     "text": [
      " 85%|████████▌ | 477/560 [00:14<00:02, 33.10it/s]"
     ]
    },
    {
     "name": "stdout",
     "output_type": "stream",
     "text": [
      "multilayer_perceptron ran in: 0.0020008087158203125 sec\n",
      "multilayer_perceptron ran in: 0.0019998550415039062 sec\n",
      "multilayer_perceptron ran in: 0.0020003318786621094 sec\n",
      "multilayer_perceptron ran in: 0.0010013580322265625 sec\n",
      "multilayer_perceptron ran in: 0.0010004043579101562 sec\n",
      "multilayer_perceptron ran in: 0.0009996891021728516 sec\n",
      "multilayer_perceptron ran in: 0.0010004043579101562 sec\n"
     ]
    },
    {
     "name": "stderr",
     "output_type": "stream",
     "text": [
      "\r",
      " 86%|████████▌ | 481/560 [00:15<00:02, 32.92it/s]"
     ]
    },
    {
     "name": "stdout",
     "output_type": "stream",
     "text": [
      "multilayer_perceptron ran in: 0.0020012855529785156 sec\n",
      "multilayer_perceptron ran in: 0.0010004043579101562 sec\n",
      "multilayer_perceptron ran in: 0.002000570297241211 sec\n",
      "multilayer_perceptron ran in: 0.0010004043579101562 sec\n",
      "multilayer_perceptron ran in: 0.0009870529174804688 sec\n",
      "multilayer_perceptron ran in: 0.0019969940185546875 sec\n",
      "multilayer_perceptron ran in: 0.0019998550415039062 sec\n"
     ]
    },
    {
     "name": "stderr",
     "output_type": "stream",
     "text": [
      " 87%|████████▋ | 489/560 [00:15<00:02, 32.55it/s]"
     ]
    },
    {
     "name": "stdout",
     "output_type": "stream",
     "text": [
      "multilayer_perceptron ran in: 0.0020003318786621094 sec\n",
      "multilayer_perceptron ran in: 0.001999378204345703 sec\n",
      "multilayer_perceptron ran in: 0.0009984970092773438 sec\n",
      "multilayer_perceptron ran in: 0.001001596450805664 sec\n",
      "multilayer_perceptron ran in: 0.0009982585906982422 sec\n",
      "multilayer_perceptron ran in: 0.0010001659393310547 sec\n",
      "multilayer_perceptron ran in: 0.0010004043579101562 sec\n",
      "multilayer_perceptron ran in: 0.0010013580322265625 sec\n"
     ]
    },
    {
     "name": "stderr",
     "output_type": "stream",
     "text": [
      " 89%|████████▉ | 497/560 [00:15<00:01, 32.87it/s]"
     ]
    },
    {
     "name": "stdout",
     "output_type": "stream",
     "text": [
      "multilayer_perceptron ran in: 0.0010006427764892578 sec\n",
      "multilayer_perceptron ran in: 0.0010004043579101562 sec\n",
      "multilayer_perceptron ran in: 0.002001523971557617 sec\n",
      "multilayer_perceptron ran in: 0.001999378204345703 sec\n",
      "multilayer_perceptron ran in: 0.0010008811950683594 sec\n",
      "multilayer_perceptron ran in: 0.0010004043579101562 sec\n",
      "multilayer_perceptron ran in: 0.0010001659393310547 sec\n",
      "multilayer_perceptron ran in: 0.0009877681732177734 sec\n"
     ]
    },
    {
     "name": "stderr",
     "output_type": "stream",
     "text": [
      " 90%|█████████ | 505/560 [00:15<00:01, 32.61it/s]"
     ]
    },
    {
     "name": "stdout",
     "output_type": "stream",
     "text": [
      "multilayer_perceptron ran in: 0.0019996166229248047 sec\n",
      "multilayer_perceptron ran in: 0.0010001659393310547 sec\n",
      "multilayer_perceptron ran in: 0.0019979476928710938 sec\n",
      "multilayer_perceptron ran in: 0.0009996891021728516 sec\n",
      "multilayer_perceptron ran in: 0.0010006427764892578 sec\n",
      "multilayer_perceptron ran in: 0.0020155906677246094 sec\n",
      "multilayer_perceptron ran in: 0.0010001659393310547 sec\n"
     ]
    },
    {
     "name": "stderr",
     "output_type": "stream",
     "text": [
      " 92%|█████████▏| 513/560 [00:15<00:01, 32.53it/s]"
     ]
    },
    {
     "name": "stdout",
     "output_type": "stream",
     "text": [
      "multilayer_perceptron ran in: 0.0010020732879638672 sec\n",
      "multilayer_perceptron ran in: 0.0009989738464355469 sec\n",
      "multilayer_perceptron ran in: 0.0009996891021728516 sec\n",
      "multilayer_perceptron ran in: 0.0010006427764892578 sec\n",
      "multilayer_perceptron ran in: 0.002002239227294922 sec\n",
      "multilayer_perceptron ran in: 0.0010023117065429688 sec\n",
      "multilayer_perceptron ran in: 0.0009987354278564453 sec\n"
     ]
    },
    {
     "name": "stderr",
     "output_type": "stream",
     "text": [
      " 93%|█████████▎| 521/560 [00:16<00:01, 32.99it/s]"
     ]
    },
    {
     "name": "stdout",
     "output_type": "stream",
     "text": [
      "multilayer_perceptron ran in: 0.0009851455688476562 sec\n",
      "multilayer_perceptron ran in: 0.0010004043579101562 sec\n",
      "multilayer_perceptron ran in: 0.0010001659393310547 sec\n",
      "multilayer_perceptron ran in: 0.0009999275207519531 sec\n",
      "multilayer_perceptron ran in: 0.0019998550415039062 sec\n",
      "multilayer_perceptron ran in: 0.0009980201721191406 sec\n",
      "multilayer_perceptron ran in: 0.0010001659393310547 sec\n"
     ]
    },
    {
     "name": "stderr",
     "output_type": "stream",
     "text": [
      "\r",
      " 94%|█████████▍| 525/560 [00:16<00:01, 32.93it/s]"
     ]
    },
    {
     "name": "stdout",
     "output_type": "stream",
     "text": [
      "multilayer_perceptron ran in: 0.0009818077087402344 sec\n",
      "multilayer_perceptron ran in: 0.001986980438232422 sec\n",
      "multilayer_perceptron ran in: 0.0010023117065429688 sec\n",
      "multilayer_perceptron ran in: 0.0019991397857666016 sec\n",
      "multilayer_perceptron ran in: 0.0020012855529785156 sec\n",
      "multilayer_perceptron ran in: 0.0009999275207519531 sec\n",
      "multilayer_perceptron ran in: 0.0010004043579101562 sec\n"
     ]
    },
    {
     "name": "stderr",
     "output_type": "stream",
     "text": [
      " 95%|█████████▌| 533/560 [00:16<00:00, 33.11it/s]"
     ]
    },
    {
     "name": "stdout",
     "output_type": "stream",
     "text": [
      "multilayer_perceptron ran in: 0.0010001659393310547 sec\n",
      "multilayer_perceptron ran in: 0.0009996891021728516 sec\n",
      "multilayer_perceptron ran in: 0.0009996891021728516 sec\n",
      "multilayer_perceptron ran in: 0.0010008811950683594 sec\n",
      "multilayer_perceptron ran in: 0.0009999275207519531 sec\n",
      "multilayer_perceptron ran in: 0.0009999275207519531 sec\n",
      "multilayer_perceptron ran in: 0.0009992122650146484 sec\n"
     ]
    },
    {
     "name": "stderr",
     "output_type": "stream",
     "text": [
      " 97%|█████████▋| 541/560 [00:16<00:00, 33.40it/s]"
     ]
    },
    {
     "name": "stdout",
     "output_type": "stream",
     "text": [
      "multilayer_perceptron ran in: 0.0010013580322265625 sec\n",
      "multilayer_perceptron ran in: 0.0010001659393310547 sec\n",
      "multilayer_perceptron ran in: 0.0009996891021728516 sec\n",
      "multilayer_perceptron ran in: 0.0009996891021728516 sec\n",
      "multilayer_perceptron ran in: 0.0010008811950683594 sec\n",
      "multilayer_perceptron ran in: 0.0010001659393310547 sec\n",
      "multilayer_perceptron ran in: 0.0009799003601074219 sec\n",
      "multilayer_perceptron ran in: 0.0010004043579101562 sec\n"
     ]
    },
    {
     "name": "stderr",
     "output_type": "stream",
     "text": [
      " 98%|█████████▊| 549/560 [00:17<00:00, 33.42it/s]"
     ]
    },
    {
     "name": "stdout",
     "output_type": "stream",
     "text": [
      "multilayer_perceptron ran in: 0.0010004043579101562 sec\n",
      "multilayer_perceptron ran in: 0.0010004043579101562 sec\n",
      "multilayer_perceptron ran in: 0.001001119613647461 sec\n",
      "multilayer_perceptron ran in: 0.0010001659393310547 sec\n",
      "multilayer_perceptron ran in: 0.0010004043579101562 sec\n",
      "multilayer_perceptron ran in: 0.0009996891021728516 sec\n",
      "multilayer_perceptron ran in: 0.002019166946411133 sec\n",
      "multilayer_perceptron ran in: 0.0010004043579101562 sec\n"
     ]
    },
    {
     "name": "stderr",
     "output_type": "stream",
     "text": [
      " 99%|█████████▉| 557/560 [00:17<00:00, 33.24it/s]"
     ]
    },
    {
     "name": "stdout",
     "output_type": "stream",
     "text": [
      "multilayer_perceptron ran in: 0.0010006427764892578 sec\n",
      "multilayer_perceptron ran in: 0.0010001659393310547 sec\n",
      "multilayer_perceptron ran in: 0.001001119613647461 sec\n",
      "multilayer_perceptron ran in: 0.0010004043579101562 sec\n",
      "multilayer_perceptron ran in: 0.0009999275207519531 sec\n",
      "multilayer_perceptron ran in: 0.0010008811950683594 sec\n",
      "multilayer_perceptron ran in: 0.0010008811950683594 sec\n",
      "multilayer_perceptron ran in: 0.0009999275207519531 sec\n"
     ]
    },
    {
     "name": "stderr",
     "output_type": "stream",
     "text": [
      "100%|██████████| 560/560 [00:17<00:00, 32.16it/s]\n"
     ]
    },
    {
     "name": "stdout",
     "output_type": "stream",
     "text": [
      "multilayer_perceptron ran in: 0.0010006427764892578 sec\n",
      "Epoch: 1 Cost=15826.9336\n"
     ]
    },
    {
     "name": "stderr",
     "output_type": "stream",
     "text": [
      "  1%|          | 4/560 [00:00<00:16, 33.47it/s]"
     ]
    },
    {
     "name": "stdout",
     "output_type": "stream",
     "text": [
      "multilayer_perceptron ran in: 0.0019998550415039062 sec\n",
      "multilayer_perceptron ran in: 0.0010001659393310547 sec\n",
      "multilayer_perceptron ran in: 0.002000093460083008 sec\n",
      "multilayer_perceptron ran in: 0.0010006427764892578 sec\n",
      "multilayer_perceptron ran in: 0.0020008087158203125 sec\n",
      "multilayer_perceptron ran in: 0.0010006427764892578 sec\n",
      "multilayer_perceptron ran in: 0.0009996891021728516 sec\n",
      "multilayer_perceptron ran in: 0.0019998550415039062 sec\n"
     ]
    },
    {
     "name": "stderr",
     "output_type": "stream",
     "text": [
      "  2%|▏         | 12/560 [00:00<00:16, 33.43it/s]"
     ]
    },
    {
     "name": "stdout",
     "output_type": "stream",
     "text": [
      "multilayer_perceptron ran in: 0.0010044574737548828 sec\n",
      "multilayer_perceptron ran in: 0.0010008811950683594 sec\n",
      "multilayer_perceptron ran in: 0.0010008811950683594 sec\n",
      "multilayer_perceptron ran in: 0.0010001659393310547 sec\n",
      "multilayer_perceptron ran in: 0.0009875297546386719 sec\n",
      "multilayer_perceptron ran in: 0.0009996891021728516 sec\n",
      "multilayer_perceptron ran in: 0.0010004043579101562 sec\n",
      "multilayer_perceptron ran in: 0.0009999275207519531 sec\n"
     ]
    },
    {
     "name": "stderr",
     "output_type": "stream",
     "text": [
      "  4%|▎         | 20/560 [00:00<00:16, 33.34it/s]"
     ]
    },
    {
     "name": "stdout",
     "output_type": "stream",
     "text": [
      "multilayer_perceptron ran in: 0.0010023117065429688 sec\n",
      "multilayer_perceptron ran in: 0.0009999275207519531 sec\n",
      "multilayer_perceptron ran in: 0.0010006427764892578 sec\n",
      "multilayer_perceptron ran in: 0.0010008811950683594 sec\n",
      "multilayer_perceptron ran in: 0.002002239227294922 sec\n",
      "multilayer_perceptron ran in: 0.00099945068359375 sec\n",
      "multilayer_perceptron ran in: 0.0019996166229248047 sec\n"
     ]
    },
    {
     "name": "stderr",
     "output_type": "stream",
     "text": [
      "\r",
      "  4%|▍         | 24/560 [00:00<00:16, 32.96it/s]"
     ]
    },
    {
     "name": "stdout",
     "output_type": "stream",
     "text": [
      "multilayer_perceptron ran in: 0.0009992122650146484 sec\n",
      "multilayer_perceptron ran in: 0.0009992122650146484 sec\n",
      "multilayer_perceptron ran in: 0.0010006427764892578 sec\n",
      "multilayer_perceptron ran in: 0.0009999275207519531 sec\n"
     ]
    },
    {
     "name": "stderr",
     "output_type": "stream",
     "text": [
      "\r",
      "  5%|▌         | 28/560 [00:00<00:16, 32.85it/s]"
     ]
    },
    {
     "name": "stdout",
     "output_type": "stream",
     "text": [
      "multilayer_perceptron ran in: 0.0009963512420654297 sec\n",
      "multilayer_perceptron ran in: 0.0010001659393310547 sec\n",
      "multilayer_perceptron ran in: 0.0010006427764892578 sec\n"
     ]
    },
    {
     "name": "stderr",
     "output_type": "stream",
     "text": [
      "\r",
      "  6%|▌         | 32/560 [00:00<00:16, 32.66it/s]"
     ]
    },
    {
     "name": "stdout",
     "output_type": "stream",
     "text": [
      "multilayer_perceptron ran in: 0.0020186901092529297 sec\n",
      "multilayer_perceptron ran in: 0.001001596450805664 sec\n",
      "multilayer_perceptron ran in: 0.0009999275207519531 sec\n",
      "multilayer_perceptron ran in: 0.001016855239868164 sec\n"
     ]
    },
    {
     "name": "stderr",
     "output_type": "stream",
     "text": [
      "\r",
      "  6%|▋         | 36/560 [00:01<00:16, 32.53it/s]"
     ]
    },
    {
     "name": "stdout",
     "output_type": "stream",
     "text": [
      "multilayer_perceptron ran in: 0.0010001659393310547 sec\n",
      "multilayer_perceptron ran in: 0.0010008811950683594 sec\n",
      "multilayer_perceptron ran in: 0.0009818077087402344 sec\n",
      "multilayer_perceptron ran in: 0.0010020732879638672 sec\n"
     ]
    },
    {
     "name": "stderr",
     "output_type": "stream",
     "text": [
      "\r",
      "  7%|▋         | 40/560 [00:01<00:15, 32.69it/s]"
     ]
    },
    {
     "name": "stdout",
     "output_type": "stream",
     "text": [
      "multilayer_perceptron ran in: 0.0010013580322265625 sec\n",
      "multilayer_perceptron ran in: 0.001001596450805664 sec\n",
      "multilayer_perceptron ran in: 0.00201416015625 sec\n"
     ]
    },
    {
     "name": "stderr",
     "output_type": "stream",
     "text": [
      "\r",
      "  8%|▊         | 44/560 [00:01<00:15, 32.72it/s]"
     ]
    },
    {
     "name": "stdout",
     "output_type": "stream",
     "text": [
      "multilayer_perceptron ran in: 0.001001119613647461 sec\n",
      "multilayer_perceptron ran in: 0.0010020732879638672 sec\n",
      "multilayer_perceptron ran in: 0.0010030269622802734 sec\n",
      "multilayer_perceptron ran in: 0.0009984970092773438 sec\n",
      "multilayer_perceptron ran in: 0.0020008087158203125 sec\n",
      "multilayer_perceptron ran in: 0.0010008811950683594 sec\n",
      "multilayer_perceptron ran in: 0.0019996166229248047 sec\n"
     ]
    },
    {
     "name": "stderr",
     "output_type": "stream",
     "text": [
      "  9%|▉         | 52/560 [00:01<00:15, 32.89it/s]"
     ]
    },
    {
     "name": "stdout",
     "output_type": "stream",
     "text": [
      "multilayer_perceptron ran in: 0.0010008811950683594 sec\n",
      "multilayer_perceptron ran in: 0.001001119613647461 sec\n",
      "multilayer_perceptron ran in: 0.0009987354278564453 sec\n",
      "multilayer_perceptron ran in: 0.002000570297241211 sec\n",
      "multilayer_perceptron ran in: 0.0019867420196533203 sec\n",
      "multilayer_perceptron ran in: 0.0010044574737548828 sec\n",
      "multilayer_perceptron ran in: 0.0010004043579101562 sec\n"
     ]
    },
    {
     "name": "stderr",
     "output_type": "stream",
     "text": [
      "\r",
      " 10%|█         | 56/560 [00:01<00:15, 32.94it/s]"
     ]
    },
    {
     "name": "stdout",
     "output_type": "stream",
     "text": [
      "multilayer_perceptron ran in: 0.001001119613647461 sec\n",
      "multilayer_perceptron ran in: 0.0009996891021728516 sec\n",
      "multilayer_perceptron ran in: 0.0020012855529785156 sec\n",
      "multilayer_perceptron ran in: 0.0010006427764892578 sec\n"
     ]
    },
    {
     "name": "stderr",
     "output_type": "stream",
     "text": [
      "\r",
      " 11%|█         | 60/560 [00:01<00:15, 32.89it/s]"
     ]
    },
    {
     "name": "stdout",
     "output_type": "stream",
     "text": [
      "multilayer_perceptron ran in: 0.0010004043579101562 sec\n",
      "multilayer_perceptron ran in: 0.0010008811950683594 sec\n",
      "multilayer_perceptron ran in: 0.0020003318786621094 sec\n",
      "multilayer_perceptron ran in: 0.0010018348693847656 sec\n"
     ]
    },
    {
     "name": "stderr",
     "output_type": "stream",
     "text": [
      "\r",
      " 11%|█▏        | 64/560 [00:01<00:15, 32.78it/s]"
     ]
    },
    {
     "name": "stdout",
     "output_type": "stream",
     "text": [
      "multilayer_perceptron ran in: 0.001001119613647461 sec\n",
      "multilayer_perceptron ran in: 0.0009984970092773438 sec\n",
      "multilayer_perceptron ran in: 0.0010013580322265625 sec\n"
     ]
    },
    {
     "name": "stderr",
     "output_type": "stream",
     "text": [
      "\r",
      " 12%|█▏        | 68/560 [00:02<00:15, 32.78it/s]"
     ]
    },
    {
     "name": "stdout",
     "output_type": "stream",
     "text": [
      "multilayer_perceptron ran in: 0.002000570297241211 sec\n",
      "multilayer_perceptron ran in: 0.0019996166229248047 sec\n",
      "multilayer_perceptron ran in: 0.002001047134399414 sec\n",
      "multilayer_perceptron ran in: 0.0010013580322265625 sec\n"
     ]
    },
    {
     "name": "stderr",
     "output_type": "stream",
     "text": [
      "\r",
      " 13%|█▎        | 72/560 [00:02<00:14, 32.78it/s]"
     ]
    },
    {
     "name": "stdout",
     "output_type": "stream",
     "text": [
      "multilayer_perceptron ran in: 0.0020003318786621094 sec\n",
      "multilayer_perceptron ran in: 0.0010004043579101562 sec\n",
      "multilayer_perceptron ran in: 0.0010006427764892578 sec\n",
      "multilayer_perceptron ran in: 0.0010018348693847656 sec\n"
     ]
    },
    {
     "name": "stderr",
     "output_type": "stream",
     "text": [
      "\r",
      " 14%|█▎        | 76/560 [00:02<00:14, 32.79it/s]"
     ]
    },
    {
     "name": "stdout",
     "output_type": "stream",
     "text": [
      "multilayer_perceptron ran in: 0.0020003318786621094 sec\n",
      "multilayer_perceptron ran in: 0.0009999275207519531 sec\n",
      "multilayer_perceptron ran in: 0.0009987354278564453 sec\n"
     ]
    },
    {
     "name": "stderr",
     "output_type": "stream",
     "text": [
      "\r",
      " 14%|█▍        | 80/560 [00:02<00:14, 32.95it/s]"
     ]
    },
    {
     "name": "stdout",
     "output_type": "stream",
     "text": [
      "multilayer_perceptron ran in: 0.0010004043579101562 sec\n",
      "multilayer_perceptron ran in: 0.001001119613647461 sec\n",
      "multilayer_perceptron ran in: 0.0020020008087158203 sec\n",
      "multilayer_perceptron ran in: 0.0020020008087158203 sec\n",
      "multilayer_perceptron ran in: 0.0010006427764892578 sec\n"
     ]
    },
    {
     "name": "stderr",
     "output_type": "stream",
     "text": [
      "\r",
      " 15%|█▌        | 84/560 [00:02<00:14, 32.98it/s]"
     ]
    },
    {
     "name": "stdout",
     "output_type": "stream",
     "text": [
      "multilayer_perceptron ran in: 0.0010004043579101562 sec\n",
      "multilayer_perceptron ran in: 0.001001119613647461 sec\n"
     ]
    },
    {
     "name": "stderr",
     "output_type": "stream",
     "text": [
      "\r",
      " 16%|█▌        | 88/560 [00:02<00:14, 33.17it/s]"
     ]
    },
    {
     "name": "stdout",
     "output_type": "stream",
     "text": [
      "multilayer_perceptron ran in: 0.0019850730895996094 sec\n",
      "multilayer_perceptron ran in: 0.002000093460083008 sec\n",
      "multilayer_perceptron ran in: 0.0010006427764892578 sec\n",
      "multilayer_perceptron ran in: 0.0010006427764892578 sec\n",
      "multilayer_perceptron ran in: 0.0009992122650146484 sec\n",
      "multilayer_perceptron ran in: 0.0010008811950683594 sec\n"
     ]
    },
    {
     "name": "stderr",
     "output_type": "stream",
     "text": [
      "\r",
      " 16%|█▋        | 92/560 [00:02<00:14, 32.97it/s]"
     ]
    },
    {
     "name": "stdout",
     "output_type": "stream",
     "text": [
      "multilayer_perceptron ran in: 0.0020003318786621094 sec\n",
      "multilayer_perceptron ran in: 0.001001596450805664 sec\n",
      "multilayer_perceptron ran in: 0.0010027885437011719 sec\n"
     ]
    },
    {
     "name": "stderr",
     "output_type": "stream",
     "text": [
      "\r",
      " 17%|█▋        | 96/560 [00:03<00:18, 25.15it/s]"
     ]
    },
    {
     "name": "stdout",
     "output_type": "stream",
     "text": [
      "multilayer_perceptron ran in: 0.001999378204345703 sec\n",
      "multilayer_perceptron ran in: 0.0010001659393310547 sec\n",
      "multilayer_perceptron ran in: 0.002000093460083008 sec\n",
      "multilayer_perceptron ran in: 0.0010006427764892578 sec\n",
      "multilayer_perceptron ran in: 0.0009996891021728516 sec\n",
      "multilayer_perceptron ran in: 0.0010008811950683594 sec\n",
      "multilayer_perceptron ran in: 0.0010008811950683594 sec\n"
     ]
    },
    {
     "name": "stderr",
     "output_type": "stream",
     "text": [
      " 19%|█▊        | 104/560 [00:03<00:15, 28.61it/s]"
     ]
    },
    {
     "name": "stdout",
     "output_type": "stream",
     "text": [
      "multilayer_perceptron ran in: 0.0010001659393310547 sec\n",
      "multilayer_perceptron ran in: 0.0010025501251220703 sec\n",
      "multilayer_perceptron ran in: 0.0010001659393310547 sec\n",
      "multilayer_perceptron ran in: 0.0009996891021728516 sec\n",
      "multilayer_perceptron ran in: 0.0009999275207519531 sec\n",
      "multilayer_perceptron ran in: 0.0010001659393310547 sec\n",
      "multilayer_perceptron ran in: 0.0010008811950683594 sec\n",
      "multilayer_perceptron ran in: 0.0010001659393310547 sec\n"
     ]
    },
    {
     "name": "stderr",
     "output_type": "stream",
     "text": [
      " 20%|██        | 112/560 [00:03<00:14, 30.88it/s]"
     ]
    },
    {
     "name": "stdout",
     "output_type": "stream",
     "text": [
      "multilayer_perceptron ran in: 0.0010199546813964844 sec\n",
      "multilayer_perceptron ran in: 0.0009987354278564453 sec\n",
      "multilayer_perceptron ran in: 0.0010004043579101562 sec\n",
      "multilayer_perceptron ran in: 0.0010001659393310547 sec\n",
      "multilayer_perceptron ran in: 0.0010006427764892578 sec\n",
      "multilayer_perceptron ran in: 0.0010008811950683594 sec\n",
      "multilayer_perceptron ran in: 0.002000093460083008 sec\n"
     ]
    },
    {
     "name": "stderr",
     "output_type": "stream",
     "text": [
      " 21%|██▏       | 120/560 [00:03<00:13, 31.94it/s]"
     ]
    },
    {
     "name": "stdout",
     "output_type": "stream",
     "text": [
      "multilayer_perceptron ran in: 0.0010139942169189453 sec\n",
      "multilayer_perceptron ran in: 0.0009996891021728516 sec\n",
      "multilayer_perceptron ran in: 0.002000093460083008 sec\n",
      "multilayer_perceptron ran in: 0.0010001659393310547 sec\n",
      "multilayer_perceptron ran in: 0.0009999275207519531 sec\n",
      "multilayer_perceptron ran in: 0.0010006427764892578 sec\n",
      "multilayer_perceptron ran in: 0.0010013580322265625 sec\n"
     ]
    },
    {
     "name": "stderr",
     "output_type": "stream",
     "text": [
      " 23%|██▎       | 128/560 [00:04<00:13, 32.66it/s]"
     ]
    },
    {
     "name": "stdout",
     "output_type": "stream",
     "text": [
      "multilayer_perceptron ran in: 0.001001596450805664 sec\n",
      "multilayer_perceptron ran in: 0.0009996891021728516 sec\n",
      "multilayer_perceptron ran in: 0.00099945068359375 sec\n",
      "multilayer_perceptron ran in: 0.00099945068359375 sec\n",
      "multilayer_perceptron ran in: 0.0010001659393310547 sec\n",
      "multilayer_perceptron ran in: 0.0009999275207519531 sec\n",
      "multilayer_perceptron ran in: 0.0010175704956054688 sec\n",
      "multilayer_perceptron ran in: 0.0009813308715820312 sec\n"
     ]
    },
    {
     "name": "stderr",
     "output_type": "stream",
     "text": [
      " 24%|██▍       | 136/560 [00:04<00:12, 33.38it/s]"
     ]
    },
    {
     "name": "stdout",
     "output_type": "stream",
     "text": [
      "multilayer_perceptron ran in: 0.0 sec\n",
      "multilayer_perceptron ran in: 0.0 sec\n",
      "multilayer_perceptron ran in: 0.0 sec\n",
      "multilayer_perceptron ran in: 0.0 sec\n",
      "multilayer_perceptron ran in: 0.0 sec\n",
      "multilayer_perceptron ran in: 0.0 sec\n",
      "multilayer_perceptron ran in: 0.0 sec\n"
     ]
    },
    {
     "name": "stderr",
     "output_type": "stream",
     "text": [
      "\r",
      " 25%|██▌       | 140/560 [00:04<00:12, 33.71it/s]"
     ]
    },
    {
     "name": "stdout",
     "output_type": "stream",
     "text": [
      "multilayer_perceptron ran in: 0.0 sec\n",
      "multilayer_perceptron ran in: 0.0 sec\n",
      "multilayer_perceptron ran in: 0.0 sec\n",
      "multilayer_perceptron ran in: 0.0 sec\n",
      "multilayer_perceptron ran in: 0.0 sec\n",
      "multilayer_perceptron ran in: 0.0 sec\n",
      "multilayer_perceptron ran in: 0.0 sec\n"
     ]
    },
    {
     "name": "stderr",
     "output_type": "stream",
     "text": [
      " 26%|██▋       | 148/560 [00:04<00:12, 33.18it/s]"
     ]
    },
    {
     "name": "stdout",
     "output_type": "stream",
     "text": [
      "multilayer_perceptron ran in: 0.0 sec\n",
      "multilayer_perceptron ran in: 0.0 sec\n",
      "multilayer_perceptron ran in: 0.0 sec\n",
      "multilayer_perceptron ran in: 0.0 sec\n",
      "multilayer_perceptron ran in: 0.0 sec\n",
      "multilayer_perceptron ran in: 0.0 sec\n",
      "multilayer_perceptron ran in: 0.0 sec\n"
     ]
    },
    {
     "name": "stderr",
     "output_type": "stream",
     "text": [
      " 28%|██▊       | 156/560 [00:04<00:12, 33.47it/s]"
     ]
    },
    {
     "name": "stdout",
     "output_type": "stream",
     "text": [
      "multilayer_perceptron ran in: 0.0 sec\n",
      "multilayer_perceptron ran in: 0.0 sec\n",
      "multilayer_perceptron ran in: 0.0 sec\n",
      "multilayer_perceptron ran in: 0.0 sec\n",
      "multilayer_perceptron ran in: 0.002008199691772461 sec\n",
      "multilayer_perceptron ran in: 0.0 sec\n",
      "multilayer_perceptron ran in: 0.0 sec\n"
     ]
    },
    {
     "name": "stderr",
     "output_type": "stream",
     "text": [
      " 29%|██▉       | 164/560 [00:05<00:11, 33.99it/s]"
     ]
    },
    {
     "name": "stdout",
     "output_type": "stream",
     "text": [
      "multilayer_perceptron ran in: 0.0 sec\n",
      "multilayer_perceptron ran in: 0.01563572883605957 sec\n",
      "multilayer_perceptron ran in: 0.0 sec\n",
      "multilayer_perceptron ran in: 0.0 sec\n",
      "multilayer_perceptron ran in: 0.0 sec\n",
      "multilayer_perceptron ran in: 0.0 sec\n",
      "multilayer_perceptron ran in: 0.0 sec\n"
     ]
    },
    {
     "name": "stderr",
     "output_type": "stream",
     "text": [
      " 31%|███       | 172/560 [00:05<00:11, 34.25it/s]"
     ]
    },
    {
     "name": "stdout",
     "output_type": "stream",
     "text": [
      "multilayer_perceptron ran in: 0.015621662139892578 sec\n",
      "multilayer_perceptron ran in: 0.0 sec\n",
      "multilayer_perceptron ran in: 0.0 sec\n",
      "multilayer_perceptron ran in: 0.0 sec\n",
      "multilayer_perceptron ran in: 0.0 sec\n",
      "multilayer_perceptron ran in: 0.0 sec\n",
      "multilayer_perceptron ran in: 0.0 sec\n"
     ]
    },
    {
     "name": "stderr",
     "output_type": "stream",
     "text": [
      "\r",
      " 31%|███▏      | 176/560 [00:05<00:11, 33.76it/s]"
     ]
    },
    {
     "name": "stdout",
     "output_type": "stream",
     "text": [
      "multilayer_perceptron ran in: 0.0 sec\n",
      "multilayer_perceptron ran in: 0.0 sec\n",
      "multilayer_perceptron ran in: 0.0 sec\n",
      "multilayer_perceptron ran in: 0.0 sec\n",
      "multilayer_perceptron ran in: 0.0 sec\n",
      "multilayer_perceptron ran in: 0.015632152557373047 sec\n",
      "multilayer_perceptron ran in: 0.0 sec\n"
     ]
    },
    {
     "name": "stderr",
     "output_type": "stream",
     "text": [
      " 33%|███▎      | 184/560 [00:05<00:11, 34.14it/s]"
     ]
    },
    {
     "name": "stdout",
     "output_type": "stream",
     "text": [
      "multilayer_perceptron ran in: 0.0 sec\n",
      "multilayer_perceptron ran in: 0.0 sec\n",
      "multilayer_perceptron ran in: 0.0 sec\n",
      "multilayer_perceptron ran in: 0.015610456466674805 sec\n",
      "multilayer_perceptron ran in: 0.0 sec\n",
      "multilayer_perceptron ran in: 0.0 sec\n",
      "multilayer_perceptron ran in: 0.0 sec\n",
      "multilayer_perceptron ran in: 0.0 sec\n"
     ]
    },
    {
     "name": "stderr",
     "output_type": "stream",
     "text": [
      " 34%|███▍      | 192/560 [00:05<00:11, 33.39it/s]"
     ]
    },
    {
     "name": "stdout",
     "output_type": "stream",
     "text": [
      "multilayer_perceptron ran in: 0.0 sec\n",
      "multilayer_perceptron ran in: 0.0 sec\n",
      "multilayer_perceptron ran in: 0.0 sec\n",
      "multilayer_perceptron ran in: 0.01562666893005371 sec\n",
      "multilayer_perceptron ran in: 0.0 sec\n",
      "multilayer_perceptron ran in: 0.0 sec\n",
      "multilayer_perceptron ran in: 0.0 sec\n"
     ]
    },
    {
     "name": "stderr",
     "output_type": "stream",
     "text": [
      " 36%|███▌      | 200/560 [00:06<00:10, 33.39it/s]"
     ]
    },
    {
     "name": "stdout",
     "output_type": "stream",
     "text": [
      "multilayer_perceptron ran in: 0.0 sec\n",
      "multilayer_perceptron ran in: 0.0 sec\n",
      "multilayer_perceptron ran in: 0.0 sec\n",
      "multilayer_perceptron ran in: 0.0 sec\n",
      "multilayer_perceptron ran in: 0.0 sec\n",
      "multilayer_perceptron ran in: 0.0 sec\n",
      "multilayer_perceptron ran in: 0.0 sec\n",
      "multilayer_perceptron ran in: 0.0 sec\n"
     ]
    },
    {
     "name": "stderr",
     "output_type": "stream",
     "text": [
      " 37%|███▋      | 208/560 [00:06<00:10, 33.95it/s]"
     ]
    },
    {
     "name": "stdout",
     "output_type": "stream",
     "text": [
      "multilayer_perceptron ran in: 0.0 sec\n",
      "multilayer_perceptron ran in: 0.0 sec\n",
      "multilayer_perceptron ran in: 0.0 sec\n",
      "multilayer_perceptron ran in: 0.0 sec\n",
      "multilayer_perceptron ran in: 0.0 sec\n",
      "multilayer_perceptron ran in: 0.0 sec\n",
      "multilayer_perceptron ran in: 0.0 sec\n"
     ]
    },
    {
     "name": "stderr",
     "output_type": "stream",
     "text": [
      " 39%|███▊      | 216/560 [00:06<00:10, 34.23it/s]"
     ]
    },
    {
     "name": "stdout",
     "output_type": "stream",
     "text": [
      "multilayer_perceptron ran in: 0.015624761581420898 sec\n",
      "multilayer_perceptron ran in: 0.0 sec\n",
      "multilayer_perceptron ran in: 0.0 sec\n",
      "multilayer_perceptron ran in: 0.0 sec\n",
      "multilayer_perceptron ran in: 0.0 sec\n",
      "multilayer_perceptron ran in: 0.0 sec\n",
      "multilayer_perceptron ran in: 0.0 sec\n"
     ]
    },
    {
     "name": "stderr",
     "output_type": "stream",
     "text": [
      "\r",
      " 39%|███▉      | 220/560 [00:06<00:10, 33.77it/s]"
     ]
    },
    {
     "name": "stdout",
     "output_type": "stream",
     "text": [
      "multilayer_perceptron ran in: 0.0 sec\n",
      "multilayer_perceptron ran in: 0.0 sec\n",
      "multilayer_perceptron ran in: 0.0 sec\n",
      "multilayer_perceptron ran in: 0.0 sec\n",
      "multilayer_perceptron ran in: 0.0 sec\n",
      "multilayer_perceptron ran in: 0.015608549118041992 sec\n",
      "multilayer_perceptron ran in: 0.0 sec\n",
      "multilayer_perceptron ran in: 0.0 sec\n"
     ]
    },
    {
     "name": "stderr",
     "output_type": "stream",
     "text": [
      " 41%|████      | 228/560 [00:06<00:09, 34.15it/s]"
     ]
    },
    {
     "name": "stdout",
     "output_type": "stream",
     "text": [
      "multilayer_perceptron ran in: 0.0 sec\n",
      "multilayer_perceptron ran in: 0.0 sec\n",
      "multilayer_perceptron ran in: 0.0 sec\n",
      "multilayer_perceptron ran in: 0.0 sec\n",
      "multilayer_perceptron ran in: 0.0 sec\n",
      "multilayer_perceptron ran in: 0.0 sec\n",
      "multilayer_perceptron ran in: 0.0 sec\n"
     ]
    },
    {
     "name": "stderr",
     "output_type": "stream",
     "text": [
      " 42%|████▏     | 236/560 [00:07<00:09, 33.39it/s]"
     ]
    },
    {
     "name": "stdout",
     "output_type": "stream",
     "text": [
      "multilayer_perceptron ran in: 0.0 sec\n",
      "multilayer_perceptron ran in: 0.0 sec\n",
      "multilayer_perceptron ran in: 0.0 sec\n",
      "multilayer_perceptron ran in: 0.015622377395629883 sec\n",
      "multilayer_perceptron ran in: 0.0 sec\n",
      "multilayer_perceptron ran in: 0.0 sec\n",
      "multilayer_perceptron ran in: 0.0 sec\n"
     ]
    },
    {
     "name": "stderr",
     "output_type": "stream",
     "text": [
      " 44%|████▎     | 244/560 [00:07<00:09, 33.40it/s]"
     ]
    },
    {
     "name": "stdout",
     "output_type": "stream",
     "text": [
      "multilayer_perceptron ran in: 0.0 sec\n",
      "multilayer_perceptron ran in: 0.0 sec\n",
      "multilayer_perceptron ran in: 0.0 sec\n",
      "multilayer_perceptron ran in: 0.0 sec\n",
      "multilayer_perceptron ran in: 0.0 sec\n",
      "multilayer_perceptron ran in: 0.0 sec\n",
      "multilayer_perceptron ran in: 0.0 sec\n"
     ]
    },
    {
     "name": "stderr",
     "output_type": "stream",
     "text": [
      "\r",
      " 44%|████▍     | 248/560 [00:07<00:09, 33.73it/s]"
     ]
    },
    {
     "name": "stdout",
     "output_type": "stream",
     "text": [
      "multilayer_perceptron ran in: 0.0 sec\n",
      "multilayer_perceptron ran in: 0.0 sec\n",
      "multilayer_perceptron ran in: 0.015635013580322266 sec\n",
      "multilayer_perceptron ran in: 0.0 sec\n",
      "multilayer_perceptron ran in: 0.0 sec\n",
      "multilayer_perceptron ran in: 0.0 sec\n"
     ]
    },
    {
     "name": "stderr",
     "output_type": "stream",
     "text": [
      " 46%|████▌     | 256/560 [00:07<00:08, 34.12it/s]"
     ]
    },
    {
     "name": "stdout",
     "output_type": "stream",
     "text": [
      "multilayer_perceptron ran in: 0.01562643051147461 sec\n",
      "multilayer_perceptron ran in: 0.01562666893005371 sec\n",
      "multilayer_perceptron ran in: 0.0 sec\n",
      "multilayer_perceptron ran in: 0.0 sec\n",
      "multilayer_perceptron ran in: 0.0 sec\n",
      "multilayer_perceptron ran in: 0.0 sec\n",
      "multilayer_perceptron ran in: 0.0 sec\n",
      "multilayer_perceptron ran in: 0.0 sec\n"
     ]
    },
    {
     "name": "stderr",
     "output_type": "stream",
     "text": [
      " 47%|████▋     | 264/560 [00:08<00:08, 33.76it/s]"
     ]
    },
    {
     "name": "stdout",
     "output_type": "stream",
     "text": [
      "multilayer_perceptron ran in: 0.0 sec\n",
      "multilayer_perceptron ran in: 0.0 sec\n",
      "multilayer_perceptron ran in: 0.0 sec\n",
      "multilayer_perceptron ran in: 0.0 sec\n",
      "multilayer_perceptron ran in: 0.0 sec\n",
      "multilayer_perceptron ran in: 0.0 sec\n",
      "multilayer_perceptron ran in: 0.015613555908203125 sec\n"
     ]
    },
    {
     "name": "stderr",
     "output_type": "stream",
     "text": [
      " 49%|████▊     | 272/560 [00:08<00:08, 34.14it/s]"
     ]
    },
    {
     "name": "stdout",
     "output_type": "stream",
     "text": [
      "multilayer_perceptron ran in: 0.0 sec\n",
      "multilayer_perceptron ran in: 0.0 sec\n",
      "multilayer_perceptron ran in: 0.0 sec\n",
      "multilayer_perceptron ran in: 0.0 sec\n",
      "multilayer_perceptron ran in: 0.0 sec\n",
      "multilayer_perceptron ran in: 0.0 sec\n",
      "multilayer_perceptron ran in: 0.0 sec\n"
     ]
    },
    {
     "name": "stderr",
     "output_type": "stream",
     "text": [
      "\r",
      " 49%|████▉     | 276/560 [00:08<00:08, 32.93it/s]"
     ]
    },
    {
     "name": "stdout",
     "output_type": "stream",
     "text": [
      "multilayer_perceptron ran in: 0.0 sec\n",
      "multilayer_perceptron ran in: 0.015638113021850586 sec\n",
      "multilayer_perceptron ran in: 0.0 sec\n",
      "multilayer_perceptron ran in: 0.0 sec\n",
      "multilayer_perceptron ran in: 0.0 sec\n",
      "multilayer_perceptron ran in: 0.0 sec\n",
      "multilayer_perceptron ran in: 0.0 sec\n"
     ]
    },
    {
     "name": "stderr",
     "output_type": "stream",
     "text": [
      " 51%|█████     | 284/560 [00:08<00:08, 33.17it/s]"
     ]
    },
    {
     "name": "stdout",
     "output_type": "stream",
     "text": [
      "multilayer_perceptron ran in: 0.0 sec\n",
      "multilayer_perceptron ran in: 0.0 sec\n",
      "multilayer_perceptron ran in: 0.0 sec\n",
      "multilayer_perceptron ran in: 0.0 sec\n",
      "multilayer_perceptron ran in: 0.0 sec\n",
      "multilayer_perceptron ran in: 0.0 sec\n",
      "multilayer_perceptron ran in: 0.0 sec\n"
     ]
    },
    {
     "name": "stderr",
     "output_type": "stream",
     "text": [
      " 52%|█████▏    | 292/560 [00:08<00:07, 33.84it/s]"
     ]
    },
    {
     "name": "stdout",
     "output_type": "stream",
     "text": [
      "multilayer_perceptron ran in: 0.0020177364349365234 sec\n",
      "multilayer_perceptron ran in: 0.0 sec\n",
      "multilayer_perceptron ran in: 0.0 sec\n",
      "multilayer_perceptron ran in: 0.0 sec\n",
      "multilayer_perceptron ran in: 0.0 sec\n",
      "multilayer_perceptron ran in: 0.0 sec\n",
      "multilayer_perceptron ran in: 0.0 sec\n"
     ]
    },
    {
     "name": "stderr",
     "output_type": "stream",
     "text": [
      " 54%|█████▎    | 300/560 [00:09<00:07, 32.86it/s]"
     ]
    },
    {
     "name": "stdout",
     "output_type": "stream",
     "text": [
      "multilayer_perceptron ran in: 0.0 sec\n",
      "multilayer_perceptron ran in: 0.0 sec\n",
      "multilayer_perceptron ran in: 0.0 sec\n",
      "multilayer_perceptron ran in: 0.006507396697998047 sec\n",
      "multilayer_perceptron ran in: 0.0 sec\n",
      "multilayer_perceptron ran in: 0.0 sec\n"
     ]
    },
    {
     "name": "stderr",
     "output_type": "stream",
     "text": [
      "\r",
      " 54%|█████▍    | 304/560 [00:09<00:07, 33.34it/s]"
     ]
    },
    {
     "name": "stdout",
     "output_type": "stream",
     "text": [
      "multilayer_perceptron ran in: 0.0 sec\n",
      "multilayer_perceptron ran in: 0.0 sec\n",
      "multilayer_perceptron ran in: 0.0 sec\n",
      "multilayer_perceptron ran in: 0.01562047004699707 sec\n",
      "multilayer_perceptron ran in: 0.0 sec\n",
      "multilayer_perceptron ran in: 0.0 sec\n",
      "multilayer_perceptron ran in: 0.0 sec\n"
     ]
    },
    {
     "name": "stderr",
     "output_type": "stream",
     "text": [
      " 56%|█████▌    | 312/560 [00:09<00:07, 33.54it/s]"
     ]
    },
    {
     "name": "stdout",
     "output_type": "stream",
     "text": [
      "multilayer_perceptron ran in: 0.0 sec\n",
      "multilayer_perceptron ran in: 0.0 sec\n",
      "multilayer_perceptron ran in: 0.0 sec\n",
      "multilayer_perceptron ran in: 0.0 sec\n",
      "multilayer_perceptron ran in: 0.0 sec\n",
      "multilayer_perceptron ran in: 0.0 sec\n",
      "multilayer_perceptron ran in: 0.0 sec\n"
     ]
    },
    {
     "name": "stderr",
     "output_type": "stream",
     "text": [
      " 57%|█████▋    | 320/560 [00:09<00:07, 34.02it/s]"
     ]
    },
    {
     "name": "stdout",
     "output_type": "stream",
     "text": [
      "multilayer_perceptron ran in: 0.0 sec\n",
      "multilayer_perceptron ran in: 0.0 sec\n",
      "multilayer_perceptron ran in: 0.0 sec\n",
      "multilayer_perceptron ran in: 0.0 sec\n",
      "multilayer_perceptron ran in: 0.0 sec\n",
      "multilayer_perceptron ran in: 0.0 sec\n",
      "multilayer_perceptron ran in: 0.0 sec\n",
      "multilayer_perceptron ran in: 0.0 sec\n"
     ]
    },
    {
     "name": "stderr",
     "output_type": "stream",
     "text": [
      " 59%|█████▊    | 328/560 [00:09<00:06, 33.71it/s]"
     ]
    },
    {
     "name": "stdout",
     "output_type": "stream",
     "text": [
      "multilayer_perceptron ran in: 0.0 sec\n",
      "multilayer_perceptron ran in: 0.0 sec\n",
      "multilayer_perceptron ran in: 0.0 sec\n",
      "multilayer_perceptron ran in: 0.015626907348632812 sec\n",
      "multilayer_perceptron ran in: 0.0 sec\n",
      "multilayer_perceptron ran in: 0.0 sec\n",
      "multilayer_perceptron ran in: 0.0 sec\n"
     ]
    },
    {
     "name": "stderr",
     "output_type": "stream",
     "text": [
      "\r",
      " 59%|█████▉    | 332/560 [00:10<00:06, 33.94it/s]"
     ]
    },
    {
     "name": "stdout",
     "output_type": "stream",
     "text": [
      "multilayer_perceptron ran in: 0.0 sec\n",
      "multilayer_perceptron ran in: 0.0 sec\n",
      "multilayer_perceptron ran in: 0.0 sec\n",
      "multilayer_perceptron ran in: 0.0 sec\n",
      "multilayer_perceptron ran in: 0.0 sec\n",
      "multilayer_perceptron ran in: 0.0 sec\n",
      "multilayer_perceptron ran in: 0.0 sec\n"
     ]
    },
    {
     "name": "stderr",
     "output_type": "stream",
     "text": [
      " 61%|██████    | 340/560 [00:10<00:06, 33.29it/s]"
     ]
    },
    {
     "name": "stdout",
     "output_type": "stream",
     "text": [
      "multilayer_perceptron ran in: 0.0 sec\n",
      "multilayer_perceptron ran in: 0.0 sec\n",
      "multilayer_perceptron ran in: 0.0 sec\n",
      "multilayer_perceptron ran in: 0.0 sec\n",
      "multilayer_perceptron ran in: 0.0 sec\n",
      "multilayer_perceptron ran in: 0.0 sec\n",
      "multilayer_perceptron ran in: 0.0 sec\n"
     ]
    },
    {
     "name": "stderr",
     "output_type": "stream",
     "text": [
      " 62%|██████▏   | 348/560 [00:10<00:06, 33.35it/s]"
     ]
    },
    {
     "name": "stdout",
     "output_type": "stream",
     "text": [
      "multilayer_perceptron ran in: 0.0 sec\n",
      "multilayer_perceptron ran in: 0.0 sec\n",
      "multilayer_perceptron ran in: 0.0 sec\n",
      "multilayer_perceptron ran in: 0.0 sec\n",
      "multilayer_perceptron ran in: 0.0 sec\n",
      "multilayer_perceptron ran in: 0.015636444091796875 sec\n",
      "multilayer_perceptron ran in: 0.0 sec\n"
     ]
    },
    {
     "name": "stderr",
     "output_type": "stream",
     "text": [
      " 64%|██████▎   | 356/560 [00:10<00:06, 33.95it/s]"
     ]
    },
    {
     "name": "stdout",
     "output_type": "stream",
     "text": [
      "multilayer_perceptron ran in: 0.0 sec\n",
      "multilayer_perceptron ran in: 0.0 sec\n",
      "multilayer_perceptron ran in: 0.0 sec\n",
      "multilayer_perceptron ran in: 0.01562356948852539 sec\n",
      "multilayer_perceptron ran in: 0.0 sec\n",
      "multilayer_perceptron ran in: 0.0 sec\n",
      "multilayer_perceptron ran in: 0.0 sec\n"
     ]
    },
    {
     "name": "stderr",
     "output_type": "stream",
     "text": [
      " 65%|██████▌   | 364/560 [00:11<00:05, 32.92it/s]"
     ]
    },
    {
     "name": "stdout",
     "output_type": "stream",
     "text": [
      "multilayer_perceptron ran in: 0.0 sec\n",
      "multilayer_perceptron ran in: 0.0 sec\n",
      "multilayer_perceptron ran in: 0.0 sec\n",
      "multilayer_perceptron ran in: 0.0 sec\n",
      "multilayer_perceptron ran in: 0.006506681442260742 sec\n",
      "multilayer_perceptron ran in: 0.0 sec\n",
      "multilayer_perceptron ran in: 0.0 sec\n"
     ]
    },
    {
     "name": "stderr",
     "output_type": "stream",
     "text": [
      "\r",
      " 66%|██████▌   | 368/560 [00:11<00:05, 33.38it/s]"
     ]
    },
    {
     "name": "stdout",
     "output_type": "stream",
     "text": [
      "multilayer_perceptron ran in: 0.0 sec\n",
      "multilayer_perceptron ran in: 0.0 sec\n",
      "multilayer_perceptron ran in: 0.0 sec\n",
      "multilayer_perceptron ran in: 0.0 sec\n",
      "multilayer_perceptron ran in: 0.0 sec\n",
      "multilayer_perceptron ran in: 0.0 sec\n",
      "multilayer_perceptron ran in: 0.0 sec\n"
     ]
    },
    {
     "name": "stderr",
     "output_type": "stream",
     "text": [
      " 67%|██████▋   | 376/560 [00:11<00:05, 33.55it/s]"
     ]
    },
    {
     "name": "stdout",
     "output_type": "stream",
     "text": [
      "multilayer_perceptron ran in: 0.0 sec\n",
      "multilayer_perceptron ran in: 0.0 sec\n",
      "multilayer_perceptron ran in: 0.0 sec\n",
      "multilayer_perceptron ran in: 0.0 sec\n",
      "multilayer_perceptron ran in: 0.0 sec\n",
      "multilayer_perceptron ran in: 0.0 sec\n",
      "multilayer_perceptron ran in: 0.015627145767211914 sec\n"
     ]
    },
    {
     "name": "stderr",
     "output_type": "stream",
     "text": [
      " 69%|██████▊   | 384/560 [00:11<00:05, 34.03it/s]"
     ]
    },
    {
     "name": "stdout",
     "output_type": "stream",
     "text": [
      "multilayer_perceptron ran in: 0.0 sec\n",
      "multilayer_perceptron ran in: 0.0 sec\n",
      "multilayer_perceptron ran in: 0.0 sec\n",
      "multilayer_perceptron ran in: 0.0 sec\n",
      "multilayer_perceptron ran in: 0.0 sec\n",
      "multilayer_perceptron ran in: 0.0 sec\n",
      "multilayer_perceptron ran in: 0.0 sec\n"
     ]
    },
    {
     "name": "stderr",
     "output_type": "stream",
     "text": [
      "\r",
      " 69%|██████▉   | 388/560 [00:11<00:05, 32.86it/s]"
     ]
    },
    {
     "name": "stdout",
     "output_type": "stream",
     "text": [
      "multilayer_perceptron ran in: 0.0 sec\n",
      "multilayer_perceptron ran in: 0.0 sec\n",
      "multilayer_perceptron ran in: 0.0 sec\n",
      "multilayer_perceptron ran in: 0.0 sec\n",
      "multilayer_perceptron ran in: 0.0 sec\n",
      "multilayer_perceptron ran in: 0.0 sec\n",
      "multilayer_perceptron ran in: 0.0 sec\n"
     ]
    },
    {
     "name": "stderr",
     "output_type": "stream",
     "text": [
      " 71%|███████   | 396/560 [00:11<00:04, 33.30it/s]"
     ]
    },
    {
     "name": "stdout",
     "output_type": "stream",
     "text": [
      "multilayer_perceptron ran in: 0.0 sec\n",
      "multilayer_perceptron ran in: 0.0 sec\n",
      "multilayer_perceptron ran in: 0.0 sec\n",
      "multilayer_perceptron ran in: 0.0 sec\n",
      "multilayer_perceptron ran in: 0.0 sec\n",
      "multilayer_perceptron ran in: 0.0 sec\n",
      "multilayer_perceptron ran in: 0.0 sec\n"
     ]
    },
    {
     "name": "stderr",
     "output_type": "stream",
     "text": [
      " 72%|███████▏  | 404/560 [00:12<00:04, 33.91it/s]"
     ]
    },
    {
     "name": "stdout",
     "output_type": "stream",
     "text": [
      "multilayer_perceptron ran in: 0.0 sec\n",
      "multilayer_perceptron ran in: 0.0 sec\n",
      "multilayer_perceptron ran in: 0.01562666893005371 sec\n",
      "multilayer_perceptron ran in: 0.0 sec\n",
      "multilayer_perceptron ran in: 0.0 sec\n",
      "multilayer_perceptron ran in: 0.0 sec\n",
      "multilayer_perceptron ran in: 0.0 sec\n",
      "multilayer_perceptron ran in: 0.0 sec\n"
     ]
    },
    {
     "name": "stderr",
     "output_type": "stream",
     "text": [
      " 74%|███████▎  | 412/560 [00:12<00:04, 34.05it/s]"
     ]
    },
    {
     "name": "stdout",
     "output_type": "stream",
     "text": [
      "multilayer_perceptron ran in: 0.0 sec\n",
      "multilayer_perceptron ran in: 0.0 sec\n",
      "multilayer_perceptron ran in: 0.0 sec\n",
      "multilayer_perceptron ran in: 0.0 sec\n",
      "multilayer_perceptron ran in: 0.0 sec\n",
      "multilayer_perceptron ran in: 0.0 sec\n",
      "multilayer_perceptron ran in: 0.0 sec\n"
     ]
    },
    {
     "name": "stderr",
     "output_type": "stream",
     "text": [
      " 75%|███████▌  | 420/560 [00:12<00:04, 32.96it/s]"
     ]
    },
    {
     "name": "stdout",
     "output_type": "stream",
     "text": [
      "multilayer_perceptron ran in: 0.0 sec\n",
      "multilayer_perceptron ran in: 0.0 sec\n",
      "multilayer_perceptron ran in: 0.0 sec\n",
      "multilayer_perceptron ran in: 0.0 sec\n",
      "multilayer_perceptron ran in: 0.0 sec\n",
      "multilayer_perceptron ran in: 0.0 sec\n",
      "multilayer_perceptron ran in: 0.0 sec\n"
     ]
    },
    {
     "name": "stderr",
     "output_type": "stream",
     "text": [
      " 76%|███████▋  | 428/560 [00:12<00:03, 33.74it/s]"
     ]
    },
    {
     "name": "stdout",
     "output_type": "stream",
     "text": [
      "multilayer_perceptron ran in: 0.0 sec\n",
      "multilayer_perceptron ran in: 0.0 sec\n",
      "multilayer_perceptron ran in: 0.0 sec\n",
      "multilayer_perceptron ran in: 0.015626907348632812 sec\n",
      "multilayer_perceptron ran in: 0.0 sec\n",
      "multilayer_perceptron ran in: 0.0 sec\n",
      "multilayer_perceptron ran in: 0.0 sec\n"
     ]
    },
    {
     "name": "stderr",
     "output_type": "stream",
     "text": [
      "\r",
      " 77%|███████▋  | 432/560 [00:13<00:03, 33.41it/s]"
     ]
    },
    {
     "name": "stdout",
     "output_type": "stream",
     "text": [
      "multilayer_perceptron ran in: 0.015643835067749023 sec\n",
      "multilayer_perceptron ran in: 0.0 sec\n",
      "multilayer_perceptron ran in: 0.0 sec\n",
      "multilayer_perceptron ran in: 0.0 sec\n",
      "multilayer_perceptron ran in: 0.0 sec\n",
      "multilayer_perceptron ran in: 0.0 sec\n",
      "multilayer_perceptron ran in: 0.0 sec\n"
     ]
    },
    {
     "name": "stderr",
     "output_type": "stream",
     "text": [
      " 79%|███████▊  | 440/560 [00:13<00:03, 33.96it/s]"
     ]
    },
    {
     "name": "stdout",
     "output_type": "stream",
     "text": [
      "multilayer_perceptron ran in: 0.0 sec\n",
      "multilayer_perceptron ran in: 0.0 sec\n",
      "multilayer_perceptron ran in: 0.0156252384185791 sec\n",
      "multilayer_perceptron ran in: 0.0 sec\n",
      "multilayer_perceptron ran in: 0.0 sec\n",
      "multilayer_perceptron ran in: 0.0 sec\n",
      "multilayer_perceptron ran in: 0.0 sec\n",
      "multilayer_perceptron ran in: 0.0 sec\n"
     ]
    },
    {
     "name": "stderr",
     "output_type": "stream",
     "text": [
      " 80%|████████  | 448/560 [00:13<00:03, 32.92it/s]"
     ]
    },
    {
     "name": "stdout",
     "output_type": "stream",
     "text": [
      "multilayer_perceptron ran in: 0.0 sec\n",
      "multilayer_perceptron ran in: 0.0 sec\n",
      "multilayer_perceptron ran in: 0.0 sec\n",
      "multilayer_perceptron ran in: 0.0 sec\n",
      "multilayer_perceptron ran in: 0.0 sec\n",
      "multilayer_perceptron ran in: 0.0 sec\n",
      "multilayer_perceptron ran in: 0.0 sec\n"
     ]
    },
    {
     "name": "stderr",
     "output_type": "stream",
     "text": [
      " 81%|████████▏ | 456/560 [00:13<00:03, 33.32it/s]"
     ]
    },
    {
     "name": "stdout",
     "output_type": "stream",
     "text": [
      "multilayer_perceptron ran in: 0.0 sec\n",
      "multilayer_perceptron ran in: 0.0 sec\n",
      "multilayer_perceptron ran in: 0.0 sec\n",
      "multilayer_perceptron ran in: 0.0 sec\n",
      "multilayer_perceptron ran in: 0.0 sec\n",
      "multilayer_perceptron ran in: 0.0 sec\n",
      "multilayer_perceptron ran in: 0.0 sec\n"
     ]
    },
    {
     "name": "stderr",
     "output_type": "stream",
     "text": [
      "\r",
      " 82%|████████▏ | 460/560 [00:13<00:02, 33.67it/s]"
     ]
    },
    {
     "name": "stdout",
     "output_type": "stream",
     "text": [
      "multilayer_perceptron ran in: 0.0 sec\n",
      "multilayer_perceptron ran in: 0.0 sec\n",
      "multilayer_perceptron ran in: 0.0 sec\n",
      "multilayer_perceptron ran in: 0.0 sec\n",
      "multilayer_perceptron ran in: 0.0 sec\n",
      "multilayer_perceptron ran in: 0.0 sec\n",
      "multilayer_perceptron ran in: 0.0 sec\n"
     ]
    },
    {
     "name": "stderr",
     "output_type": "stream",
     "text": [
      " 84%|████████▎ | 468/560 [00:14<00:02, 34.10it/s]"
     ]
    },
    {
     "name": "stdout",
     "output_type": "stream",
     "text": [
      "multilayer_perceptron ran in: 0.0 sec\n",
      "multilayer_perceptron ran in: 0.0 sec\n",
      "multilayer_perceptron ran in: 0.0 sec\n",
      "multilayer_perceptron ran in: 0.0 sec\n",
      "multilayer_perceptron ran in: 0.0 sec\n",
      "multilayer_perceptron ran in: 0.0 sec\n",
      "multilayer_perceptron ran in: 0.0 sec\n"
     ]
    },
    {
     "name": "stderr",
     "output_type": "stream",
     "text": [
      " 85%|████████▌ | 476/560 [00:14<00:02, 34.15it/s]"
     ]
    },
    {
     "name": "stdout",
     "output_type": "stream",
     "text": [
      "multilayer_perceptron ran in: 0.0 sec\n",
      "multilayer_perceptron ran in: 0.0 sec\n",
      "multilayer_perceptron ran in: 0.0 sec\n",
      "multilayer_perceptron ran in: 0.015625953674316406 sec\n",
      "multilayer_perceptron ran in: 0.0 sec\n",
      "multilayer_perceptron ran in: 0.0 sec\n",
      "multilayer_perceptron ran in: 0.0 sec\n"
     ]
    },
    {
     "name": "stderr",
     "output_type": "stream",
     "text": [
      " 86%|████████▋ | 484/560 [00:14<00:02, 33.39it/s]"
     ]
    },
    {
     "name": "stdout",
     "output_type": "stream",
     "text": [
      "multilayer_perceptron ran in: 0.0 sec\n",
      "multilayer_perceptron ran in: 0.0 sec\n",
      "multilayer_perceptron ran in: 0.0 sec\n",
      "multilayer_perceptron ran in: 0.0 sec\n",
      "multilayer_perceptron ran in: 0.0 sec\n",
      "multilayer_perceptron ran in: 0.0 sec\n",
      "multilayer_perceptron ran in: 0.0 sec\n"
     ]
    },
    {
     "name": "stderr",
     "output_type": "stream",
     "text": [
      " 88%|████████▊ | 492/560 [00:14<00:02, 33.98it/s]"
     ]
    },
    {
     "name": "stdout",
     "output_type": "stream",
     "text": [
      "multilayer_perceptron ran in: 0.0 sec\n",
      "multilayer_perceptron ran in: 0.0 sec\n",
      "multilayer_perceptron ran in: 0.0 sec\n",
      "multilayer_perceptron ran in: 0.0009982585906982422 sec\n",
      "multilayer_perceptron ran in: 0.0 sec\n",
      "multilayer_perceptron ran in: 0.0 sec\n",
      "multilayer_perceptron ran in: 0.0 sec\n"
     ]
    },
    {
     "name": "stderr",
     "output_type": "stream",
     "text": [
      "\r",
      " 89%|████████▊ | 496/560 [00:14<00:01, 33.58it/s]"
     ]
    },
    {
     "name": "stdout",
     "output_type": "stream",
     "text": [
      "multilayer_perceptron ran in: 0.0 sec\n",
      "multilayer_perceptron ran in: 0.0 sec\n",
      "multilayer_perceptron ran in: 0.0 sec\n",
      "multilayer_perceptron ran in: 0.0 sec\n",
      "multilayer_perceptron ran in: 0.0 sec\n",
      "multilayer_perceptron ran in: 0.0 sec\n",
      "multilayer_perceptron ran in: 0.0 sec\n",
      "multilayer_perceptron ran in: 0.0 sec\n"
     ]
    },
    {
     "name": "stderr",
     "output_type": "stream",
     "text": [
      " 90%|█████████ | 504/560 [00:15<00:01, 33.12it/s]"
     ]
    },
    {
     "name": "stdout",
     "output_type": "stream",
     "text": [
      "multilayer_perceptron ran in: 0.0 sec\n",
      "multilayer_perceptron ran in: 0.0 sec\n",
      "multilayer_perceptron ran in: 0.0 sec\n",
      "multilayer_perceptron ran in: 0.0 sec\n",
      "multilayer_perceptron ran in: 0.0 sec\n",
      "multilayer_perceptron ran in: 0.0 sec\n",
      "multilayer_perceptron ran in: 0.0 sec\n",
      "multilayer_perceptron ran in: 0.0 sec\n"
     ]
    },
    {
     "name": "stderr",
     "output_type": "stream",
     "text": [
      " 91%|█████████▏| 512/560 [00:15<00:01, 33.81it/s]"
     ]
    },
    {
     "name": "stdout",
     "output_type": "stream",
     "text": [
      "multilayer_perceptron ran in: 0.0 sec\n",
      "multilayer_perceptron ran in: 0.0 sec\n",
      "multilayer_perceptron ran in: 0.0 sec\n",
      "multilayer_perceptron ran in: 0.0 sec\n",
      "multilayer_perceptron ran in: 0.0 sec\n",
      "multilayer_perceptron ran in: 0.0 sec\n",
      "multilayer_perceptron ran in: 0.0 sec\n"
     ]
    },
    {
     "name": "stderr",
     "output_type": "stream",
     "text": [
      " 93%|█████████▎| 520/560 [00:15<00:01, 33.77it/s]"
     ]
    },
    {
     "name": "stdout",
     "output_type": "stream",
     "text": [
      "multilayer_perceptron ran in: 0.0 sec\n",
      "multilayer_perceptron ran in: 0.0 sec\n",
      "multilayer_perceptron ran in: 0.0 sec\n",
      "multilayer_perceptron ran in: 0.0 sec\n",
      "multilayer_perceptron ran in: 0.0 sec\n",
      "multilayer_perceptron ran in: 0.0 sec\n",
      "multilayer_perceptron ran in: 0.0 sec\n"
     ]
    },
    {
     "name": "stderr",
     "output_type": "stream",
     "text": [
      " 94%|█████████▍| 528/560 [00:15<00:00, 34.14it/s]"
     ]
    },
    {
     "name": "stdout",
     "output_type": "stream",
     "text": [
      "multilayer_perceptron ran in: 0.0 sec\n",
      "multilayer_perceptron ran in: 0.0 sec\n",
      "multilayer_perceptron ran in: 0.0 sec\n",
      "multilayer_perceptron ran in: 0.01561284065246582 sec\n",
      "multilayer_perceptron ran in: 0.0 sec\n",
      "multilayer_perceptron ran in: 0.0 sec\n",
      "multilayer_perceptron ran in: 0.0 sec\n"
     ]
    },
    {
     "name": "stderr",
     "output_type": "stream",
     "text": [
      " 96%|█████████▌| 536/560 [00:16<00:00, 34.33it/s]"
     ]
    },
    {
     "name": "stdout",
     "output_type": "stream",
     "text": [
      "multilayer_perceptron ran in: 0.0 sec\n",
      "multilayer_perceptron ran in: 0.0 sec\n",
      "multilayer_perceptron ran in: 0.0 sec\n",
      "multilayer_perceptron ran in: 0.0 sec\n",
      "multilayer_perceptron ran in: 0.0 sec\n",
      "multilayer_perceptron ran in: 0.0 sec\n",
      "multilayer_perceptron ran in: 0.0 sec\n"
     ]
    },
    {
     "name": "stderr",
     "output_type": "stream",
     "text": [
      "\r",
      " 96%|█████████▋| 540/560 [00:16<00:00, 33.82it/s]"
     ]
    },
    {
     "name": "stdout",
     "output_type": "stream",
     "text": [
      "multilayer_perceptron ran in: 0.0 sec\n",
      "multilayer_perceptron ran in: 0.0 sec\n",
      "multilayer_perceptron ran in: 0.015624284744262695 sec\n",
      "multilayer_perceptron ran in: 0.0 sec\n",
      "multilayer_perceptron ran in: 0.0 sec\n",
      "multilayer_perceptron ran in: 0.0 sec\n"
     ]
    },
    {
     "name": "stderr",
     "output_type": "stream",
     "text": [
      " 98%|█████████▊| 548/560 [00:16<00:00, 33.23it/s]"
     ]
    },
    {
     "name": "stdout",
     "output_type": "stream",
     "text": [
      "multilayer_perceptron ran in: 0.0 sec\n",
      "multilayer_perceptron ran in: 0.0 sec\n",
      "multilayer_perceptron ran in: 0.0 sec\n",
      "multilayer_perceptron ran in: 0.0 sec\n",
      "multilayer_perceptron ran in: 0.0 sec\n",
      "multilayer_perceptron ran in: 0.0 sec\n",
      "multilayer_perceptron ran in: 0.0 sec\n",
      "multilayer_perceptron ran in: 0.0 sec\n"
     ]
    },
    {
     "name": "stderr",
     "output_type": "stream",
     "text": [
      " 99%|█████████▉| 556/560 [00:16<00:00, 33.52it/s]"
     ]
    },
    {
     "name": "stdout",
     "output_type": "stream",
     "text": [
      "multilayer_perceptron ran in: 0.0 sec\n",
      "multilayer_perceptron ran in: 0.015625715255737305 sec\n",
      "multilayer_perceptron ran in: 0.0 sec\n",
      "multilayer_perceptron ran in: 0.0 sec\n",
      "multilayer_perceptron ran in: 0.0 sec\n",
      "multilayer_perceptron ran in: 0.0 sec\n",
      "multilayer_perceptron ran in: 0.0 sec\n"
     ]
    },
    {
     "name": "stderr",
     "output_type": "stream",
     "text": [
      "100%|██████████| 560/560 [00:16<00:00, 33.21it/s]\n"
     ]
    },
    {
     "name": "stdout",
     "output_type": "stream",
     "text": [
      "multilayer_perceptron ran in: 0.0 sec\n",
      "multilayer_perceptron ran in: 0.0 sec\n",
      "multilayer_perceptron ran in: 0.0 sec\n",
      "Epoch: 2 Cost=13882.5078\n"
     ]
    },
    {
     "name": "stderr",
     "output_type": "stream",
     "text": [
      "  1%|          | 4/560 [00:00<00:16, 34.51it/s]"
     ]
    },
    {
     "name": "stdout",
     "output_type": "stream",
     "text": [
      "multilayer_perceptron ran in: 0.0 sec\n",
      "multilayer_perceptron ran in: 0.0 sec\n",
      "multilayer_perceptron ran in: 0.015627622604370117 sec\n",
      "multilayer_perceptron ran in: 0.0 sec\n",
      "multilayer_perceptron ran in: 0.0 sec\n",
      "multilayer_perceptron ran in: 0.0 sec\n"
     ]
    },
    {
     "name": "stderr",
     "output_type": "stream",
     "text": [
      "\r",
      "  1%|▏         | 8/560 [00:00<00:17, 31.98it/s]"
     ]
    },
    {
     "name": "stdout",
     "output_type": "stream",
     "text": [
      "multilayer_perceptron ran in: 0.006511688232421875 sec\n",
      "multilayer_perceptron ran in: 0.015628576278686523 sec\n",
      "multilayer_perceptron ran in: 0.0156252384185791 sec\n",
      "multilayer_perceptron ran in: 0.0 sec\n",
      "multilayer_perceptron ran in: 0.0 sec\n"
     ]
    },
    {
     "name": "stderr",
     "output_type": "stream",
     "text": [
      "\r",
      "  2%|▏         | 12/560 [00:00<00:16, 33.09it/s]"
     ]
    },
    {
     "name": "stdout",
     "output_type": "stream",
     "text": [
      "multilayer_perceptron ran in: 0.0 sec\n",
      "multilayer_perceptron ran in: 0.0 sec\n",
      "multilayer_perceptron ran in: 0.0 sec\n"
     ]
    },
    {
     "name": "stderr",
     "output_type": "stream",
     "text": [
      "\r",
      "  3%|▎         | 16/560 [00:00<00:16, 33.64it/s]"
     ]
    },
    {
     "name": "stdout",
     "output_type": "stream",
     "text": [
      "multilayer_perceptron ran in: 0.0 sec\n",
      "multilayer_perceptron ran in: 0.0 sec\n",
      "multilayer_perceptron ran in: 0.0 sec\n",
      "multilayer_perceptron ran in: 0.015649795532226562 sec\n"
     ]
    },
    {
     "name": "stderr",
     "output_type": "stream",
     "text": [
      "\r",
      "  4%|▎         | 20/560 [00:00<00:16, 33.28it/s]"
     ]
    },
    {
     "name": "stdout",
     "output_type": "stream",
     "text": [
      "multilayer_perceptron ran in: 0.01560664176940918 sec\n",
      "multilayer_perceptron ran in: 0.0 sec\n",
      "multilayer_perceptron ran in: 0.0 sec\n"
     ]
    },
    {
     "name": "stderr",
     "output_type": "stream",
     "text": [
      "\r",
      "  4%|▍         | 24/560 [00:00<00:15, 33.69it/s]"
     ]
    },
    {
     "name": "stdout",
     "output_type": "stream",
     "text": [
      "multilayer_perceptron ran in: 0.0 sec\n",
      "multilayer_perceptron ran in: 0.0 sec\n",
      "multilayer_perceptron ran in: 0.0 sec\n",
      "multilayer_perceptron ran in: 0.0 sec\n"
     ]
    },
    {
     "name": "stderr",
     "output_type": "stream",
     "text": [
      "\r",
      "  5%|▌         | 28/560 [00:00<00:16, 32.54it/s]"
     ]
    },
    {
     "name": "stdout",
     "output_type": "stream",
     "text": [
      "multilayer_perceptron ran in: 0.0 sec\n",
      "multilayer_perceptron ran in: 0.0 sec\n",
      "multilayer_perceptron ran in: 0.0 sec\n",
      "multilayer_perceptron ran in: 0.0 sec\n",
      "multilayer_perceptron ran in: 0.0 sec\n",
      "multilayer_perceptron ran in: 0.0 sec\n",
      "multilayer_perceptron ran in: 0.0 sec\n"
     ]
    },
    {
     "name": "stderr",
     "output_type": "stream",
     "text": [
      "\r",
      "  6%|▌         | 32/560 [00:00<00:15, 33.14it/s]"
     ]
    },
    {
     "name": "stdout",
     "output_type": "stream",
     "text": [
      "multilayer_perceptron ran in: 0.0 sec\n",
      "multilayer_perceptron ran in: 0.0 sec\n",
      "multilayer_perceptron ran in: 0.0 sec\n"
     ]
    },
    {
     "name": "stderr",
     "output_type": "stream",
     "text": [
      "\r",
      "  6%|▋         | 36/560 [00:01<00:15, 33.56it/s]"
     ]
    },
    {
     "name": "stdout",
     "output_type": "stream",
     "text": [
      "multilayer_perceptron ran in: 0.0 sec\n",
      "multilayer_perceptron ran in: 0.006510734558105469 sec\n",
      "multilayer_perceptron ran in: 0.0 sec\n",
      "multilayer_perceptron ran in: 0.0 sec\n"
     ]
    },
    {
     "name": "stderr",
     "output_type": "stream",
     "text": [
      "\r",
      "  7%|▋         | 40/560 [00:01<00:15, 33.28it/s]"
     ]
    },
    {
     "name": "stdout",
     "output_type": "stream",
     "text": [
      "multilayer_perceptron ran in: 0.0 sec\n",
      "multilayer_perceptron ran in: 0.0 sec\n",
      "multilayer_perceptron ran in: 0.0 sec\n"
     ]
    },
    {
     "name": "stderr",
     "output_type": "stream",
     "text": [
      "\r",
      "  8%|▊         | 44/560 [00:01<00:15, 32.35it/s]"
     ]
    },
    {
     "name": "stdout",
     "output_type": "stream",
     "text": [
      "multilayer_perceptron ran in: 0.0 sec\n",
      "multilayer_perceptron ran in: 0.0 sec\n",
      "multilayer_perceptron ran in: 0.0 sec\n",
      "multilayer_perceptron ran in: 0.0 sec\n"
     ]
    },
    {
     "name": "stderr",
     "output_type": "stream",
     "text": [
      "\r",
      "  9%|▊         | 48/560 [00:01<00:15, 32.98it/s]"
     ]
    },
    {
     "name": "stdout",
     "output_type": "stream",
     "text": [
      "multilayer_perceptron ran in: 0.0 sec\n",
      "multilayer_perceptron ran in: 0.0 sec\n",
      "multilayer_perceptron ran in: 0.015604734420776367 sec\n"
     ]
    },
    {
     "name": "stderr",
     "output_type": "stream",
     "text": [
      "\r",
      "  9%|▉         | 52/560 [00:01<00:15, 33.43it/s]"
     ]
    },
    {
     "name": "stdout",
     "output_type": "stream",
     "text": [
      "multilayer_perceptron ran in: 0.015625715255737305 sec\n",
      "multilayer_perceptron ran in: 0.0 sec\n",
      "multilayer_perceptron ran in: 0.0 sec\n",
      "multilayer_perceptron ran in: 0.0 sec\n",
      "multilayer_perceptron ran in: 0.0 sec\n",
      "multilayer_perceptron ran in: 0.0 sec\n",
      "multilayer_perceptron ran in: 0.0 sec\n"
     ]
    },
    {
     "name": "stderr",
     "output_type": "stream",
     "text": [
      " 11%|█         | 60/560 [00:01<00:14, 33.82it/s]"
     ]
    },
    {
     "name": "stdout",
     "output_type": "stream",
     "text": [
      "multilayer_perceptron ran in: 0.0 sec\n",
      "multilayer_perceptron ran in: 0.0 sec\n",
      "multilayer_perceptron ran in: 0.0 sec\n",
      "multilayer_perceptron ran in: 0.0 sec\n",
      "multilayer_perceptron ran in: 0.0 sec\n",
      "multilayer_perceptron ran in: 0.0 sec\n",
      "multilayer_perceptron ran in: 0.015640735626220703 sec\n"
     ]
    },
    {
     "name": "stderr",
     "output_type": "stream",
     "text": [
      "\r",
      " 11%|█▏        | 64/560 [00:01<00:15, 32.73it/s]"
     ]
    },
    {
     "name": "stdout",
     "output_type": "stream",
     "text": [
      "multilayer_perceptron ran in: 0.0 sec\n",
      "multilayer_perceptron ran in: 0.0 sec\n",
      "multilayer_perceptron ran in: 0.0 sec\n",
      "multilayer_perceptron ran in: 0.0 sec\n"
     ]
    },
    {
     "name": "stderr",
     "output_type": "stream",
     "text": [
      "\r",
      " 12%|█▏        | 68/560 [00:02<00:14, 33.25it/s]"
     ]
    },
    {
     "name": "stdout",
     "output_type": "stream",
     "text": [
      "multilayer_perceptron ran in: 0.0 sec\n",
      "multilayer_perceptron ran in: 0.0 sec\n",
      "multilayer_perceptron ran in: 0.0 sec\n"
     ]
    },
    {
     "name": "stderr",
     "output_type": "stream",
     "text": [
      "\r",
      " 13%|█▎        | 72/560 [00:02<00:15, 32.34it/s]"
     ]
    },
    {
     "name": "stdout",
     "output_type": "stream",
     "text": [
      "multilayer_perceptron ran in: 0.0 sec\n",
      "multilayer_perceptron ran in: 0.0 sec\n",
      "multilayer_perceptron ran in: 0.0 sec\n",
      "multilayer_perceptron ran in: 0.0 sec\n"
     ]
    },
    {
     "name": "stderr",
     "output_type": "stream",
     "text": [
      "\r",
      " 14%|█▎        | 76/560 [00:02<00:14, 32.44it/s]"
     ]
    },
    {
     "name": "stdout",
     "output_type": "stream",
     "text": [
      "multilayer_perceptron ran in: 0.0 sec\n",
      "multilayer_perceptron ran in: 0.0 sec\n",
      "multilayer_perceptron ran in: 0.0 sec\n"
     ]
    },
    {
     "name": "stderr",
     "output_type": "stream",
     "text": [
      "\r",
      " 14%|█▍        | 80/560 [00:02<00:14, 33.04it/s]"
     ]
    },
    {
     "name": "stdout",
     "output_type": "stream",
     "text": [
      "multilayer_perceptron ran in: 0.015615701675415039 sec\n",
      "multilayer_perceptron ran in: 0.0 sec\n",
      "multilayer_perceptron ran in: 0.0 sec\n",
      "multilayer_perceptron ran in: 0.0 sec\n"
     ]
    },
    {
     "name": "stderr",
     "output_type": "stream",
     "text": [
      "\r",
      " 15%|█▌        | 84/560 [00:02<00:14, 33.47it/s]"
     ]
    },
    {
     "name": "stdout",
     "output_type": "stream",
     "text": [
      "multilayer_perceptron ran in: 0.0 sec\n",
      "multilayer_perceptron ran in: 0.015627622604370117 sec\n",
      "multilayer_perceptron ran in: 0.0 sec\n"
     ]
    },
    {
     "name": "stderr",
     "output_type": "stream",
     "text": [
      "\r",
      " 16%|█▌        | 88/560 [00:02<00:13, 33.77it/s]"
     ]
    },
    {
     "name": "stdout",
     "output_type": "stream",
     "text": [
      "multilayer_perceptron ran in: 0.0 sec\n",
      "multilayer_perceptron ran in: 0.0 sec\n",
      "multilayer_perceptron ran in: 0.0 sec\n",
      "multilayer_perceptron ran in: 0.0 sec\n",
      "multilayer_perceptron ran in: 0.0 sec\n",
      "multilayer_perceptron ran in: 0.0 sec\n",
      "multilayer_perceptron ran in: 0.0 sec\n"
     ]
    },
    {
     "name": "stderr",
     "output_type": "stream",
     "text": [
      "\r",
      " 16%|█▋        | 92/560 [00:02<00:14, 32.69it/s]"
     ]
    },
    {
     "name": "stdout",
     "output_type": "stream",
     "text": [
      "multilayer_perceptron ran in: 0.0 sec\n",
      "multilayer_perceptron ran in: 0.0 sec\n",
      "multilayer_perceptron ran in: 0.0 sec\n",
      "multilayer_perceptron ran in: 0.0 sec\n"
     ]
    },
    {
     "name": "stderr",
     "output_type": "stream",
     "text": [
      "\r",
      " 17%|█▋        | 96/560 [00:02<00:14, 32.69it/s]"
     ]
    },
    {
     "name": "stdout",
     "output_type": "stream",
     "text": [
      "multilayer_perceptron ran in: 0.0 sec\n",
      "multilayer_perceptron ran in: 0.0 sec\n",
      "multilayer_perceptron ran in: 0.0 sec\n"
     ]
    },
    {
     "name": "stderr",
     "output_type": "stream",
     "text": [
      "\r",
      " 18%|█▊        | 100/560 [00:03<00:13, 33.21it/s]"
     ]
    },
    {
     "name": "stdout",
     "output_type": "stream",
     "text": [
      "multilayer_perceptron ran in: 0.0 sec\n",
      "multilayer_perceptron ran in: 0.0065097808837890625 sec\n",
      "multilayer_perceptron ran in: 0.015611648559570312 sec\n",
      "multilayer_perceptron ran in: 0.0 sec\n"
     ]
    },
    {
     "name": "stderr",
     "output_type": "stream",
     "text": [
      "\r",
      " 19%|█▊        | 104/560 [00:03<00:13, 33.59it/s]"
     ]
    },
    {
     "name": "stdout",
     "output_type": "stream",
     "text": [
      "multilayer_perceptron ran in: 0.0 sec\n",
      "multilayer_perceptron ran in: 0.0 sec\n",
      "multilayer_perceptron ran in: 0.0 sec\n"
     ]
    },
    {
     "name": "stderr",
     "output_type": "stream",
     "text": [
      "\r",
      " 19%|█▉        | 108/560 [00:03<00:13, 33.86it/s]"
     ]
    },
    {
     "name": "stdout",
     "output_type": "stream",
     "text": [
      "multilayer_perceptron ran in: 0.0 sec\n",
      "multilayer_perceptron ran in: 0.0 sec\n",
      "multilayer_perceptron ran in: 0.0 sec\n",
      "multilayer_perceptron ran in: 0.0 sec\n",
      "multilayer_perceptron ran in: 0.006508350372314453 sec\n",
      "multilayer_perceptron ran in: 0.0 sec\n",
      "multilayer_perceptron ran in: 0.0 sec\n"
     ]
    },
    {
     "name": "stderr",
     "output_type": "stream",
     "text": [
      " 21%|██        | 116/560 [00:03<00:13, 33.26it/s]"
     ]
    },
    {
     "name": "stdout",
     "output_type": "stream",
     "text": [
      "multilayer_perceptron ran in: 0.0 sec\n",
      "multilayer_perceptron ran in: 0.0 sec\n",
      "multilayer_perceptron ran in: 0.0 sec\n",
      "multilayer_perceptron ran in: 0.0156252384185791 sec\n",
      "multilayer_perceptron ran in: 0.0 sec\n",
      "multilayer_perceptron ran in: 0.0 sec\n",
      "multilayer_perceptron ran in: 0.0 sec\n"
     ]
    },
    {
     "name": "stderr",
     "output_type": "stream",
     "text": [
      "\r",
      " 21%|██▏       | 120/560 [00:03<00:13, 33.08it/s]"
     ]
    },
    {
     "name": "stdout",
     "output_type": "stream",
     "text": [
      "multilayer_perceptron ran in: 0.0 sec\n",
      "multilayer_perceptron ran in: 0.0 sec\n",
      "multilayer_perceptron ran in: 0.0 sec\n",
      "multilayer_perceptron ran in: 0.0 sec\n"
     ]
    },
    {
     "name": "stderr",
     "output_type": "stream",
     "text": [
      "\r",
      " 22%|██▏       | 124/560 [00:03<00:13, 33.49it/s]"
     ]
    },
    {
     "name": "stdout",
     "output_type": "stream",
     "text": [
      "multilayer_perceptron ran in: 0.0 sec\n",
      "multilayer_perceptron ran in: 0.0 sec\n",
      "multilayer_perceptron ran in: 0.0 sec\n"
     ]
    },
    {
     "name": "stderr",
     "output_type": "stream",
     "text": [
      "\r",
      " 23%|██▎       | 128/560 [00:03<00:12, 33.79it/s]"
     ]
    },
    {
     "name": "stdout",
     "output_type": "stream",
     "text": [
      "multilayer_perceptron ran in: 0.0 sec\n",
      "multilayer_perceptron ran in: 0.015625953674316406 sec\n",
      "multilayer_perceptron ran in: 0.0 sec\n",
      "multilayer_perceptron ran in: 0.0 sec\n"
     ]
    },
    {
     "name": "stderr",
     "output_type": "stream",
     "text": [
      "\r",
      " 24%|██▎       | 132/560 [00:03<00:12, 34.02it/s]"
     ]
    },
    {
     "name": "stdout",
     "output_type": "stream",
     "text": [
      "multilayer_perceptron ran in: 0.0 sec\n",
      "multilayer_perceptron ran in: 0.0 sec\n",
      "multilayer_perceptron ran in: 0.0 sec\n",
      "multilayer_perceptron ran in: 0.0 sec\n"
     ]
    },
    {
     "name": "stderr",
     "output_type": "stream",
     "text": [
      "\r",
      " 24%|██▍       | 136/560 [00:04<00:12, 34.17it/s]"
     ]
    },
    {
     "name": "stdout",
     "output_type": "stream",
     "text": [
      "multilayer_perceptron ran in: 0.0 sec\n",
      "multilayer_perceptron ran in: 0.0 sec\n"
     ]
    },
    {
     "name": "stderr",
     "output_type": "stream",
     "text": [
      "\r",
      " 25%|██▌       | 140/560 [00:04<00:12, 33.71it/s]"
     ]
    },
    {
     "name": "stdout",
     "output_type": "stream",
     "text": [
      "multilayer_perceptron ran in: 0.006524324417114258 sec\n",
      "multilayer_perceptron ran in: 0.0 sec\n",
      "multilayer_perceptron ran in: 0.0 sec\n",
      "multilayer_perceptron ran in: 0.0 sec\n",
      "multilayer_perceptron ran in: 0.0 sec\n",
      "multilayer_perceptron ran in: 0.0 sec\n"
     ]
    },
    {
     "name": "stderr",
     "output_type": "stream",
     "text": [
      " 26%|██▋       | 148/560 [00:04<00:12, 34.11it/s]"
     ]
    },
    {
     "name": "stdout",
     "output_type": "stream",
     "text": [
      "multilayer_perceptron ran in: 0.015639066696166992 sec\n",
      "multilayer_perceptron ran in: 0.0 sec\n",
      "multilayer_perceptron ran in: 0.0 sec\n",
      "multilayer_perceptron ran in: 0.0 sec\n",
      "multilayer_perceptron ran in: 0.0 sec\n",
      "multilayer_perceptron ran in: 0.0 sec\n",
      "multilayer_perceptron ran in: 0.0 sec\n",
      "multilayer_perceptron ran in: 0.0 sec\n"
     ]
    },
    {
     "name": "stderr",
     "output_type": "stream",
     "text": [
      "\r",
      " 27%|██▋       | 152/560 [00:04<00:12, 32.91it/s]"
     ]
    },
    {
     "name": "stdout",
     "output_type": "stream",
     "text": [
      "multilayer_perceptron ran in: 0.0 sec\n",
      "multilayer_perceptron ran in: 0.0 sec\n",
      "multilayer_perceptron ran in: 0.0 sec\n",
      "multilayer_perceptron ran in: 0.0 sec\n",
      "multilayer_perceptron ran in: 0.0 sec\n"
     ]
    },
    {
     "name": "stderr",
     "output_type": "stream",
     "text": [
      "\r",
      " 28%|██▊       | 156/560 [00:04<00:12, 33.37it/s]"
     ]
    },
    {
     "name": "stdout",
     "output_type": "stream",
     "text": [
      "multilayer_perceptron ran in: 0.0 sec\n",
      "multilayer_perceptron ran in: 0.0 sec\n"
     ]
    },
    {
     "name": "stderr",
     "output_type": "stream",
     "text": [
      "\r",
      " 29%|██▊       | 160/560 [00:04<00:11, 33.71it/s]"
     ]
    },
    {
     "name": "stdout",
     "output_type": "stream",
     "text": [
      "multilayer_perceptron ran in: 0.0 sec\n",
      "multilayer_perceptron ran in: 0.0 sec\n",
      "multilayer_perceptron ran in: 0.015637874603271484 sec\n",
      "multilayer_perceptron ran in: 0.0 sec\n",
      "multilayer_perceptron ran in: 0.0 sec\n"
     ]
    },
    {
     "name": "stderr",
     "output_type": "stream",
     "text": [
      "\r",
      " 29%|██▉       | 164/560 [00:04<00:11, 33.39it/s]"
     ]
    },
    {
     "name": "stdout",
     "output_type": "stream",
     "text": [
      "multilayer_perceptron ran in: 0.0 sec\n",
      "multilayer_perceptron ran in: 0.0 sec\n"
     ]
    },
    {
     "name": "stderr",
     "output_type": "stream",
     "text": [
      "\r",
      " 30%|███       | 168/560 [00:05<00:11, 33.72it/s]"
     ]
    },
    {
     "name": "stdout",
     "output_type": "stream",
     "text": [
      "multilayer_perceptron ran in: 0.0 sec\n",
      "multilayer_perceptron ran in: 0.0 sec\n",
      "multilayer_perceptron ran in: 0.0 sec\n",
      "multilayer_perceptron ran in: 0.0 sec\n",
      "multilayer_perceptron ran in: 0.015613079071044922 sec\n",
      "multilayer_perceptron ran in: 0.0 sec\n",
      "multilayer_perceptron ran in: 0.0 sec\n"
     ]
    },
    {
     "name": "stderr",
     "output_type": "stream",
     "text": [
      " 31%|███▏      | 176/560 [00:05<00:11, 34.12it/s]"
     ]
    },
    {
     "name": "stdout",
     "output_type": "stream",
     "text": [
      "multilayer_perceptron ran in: 0.0 sec\n",
      "multilayer_perceptron ran in: 0.0 sec\n",
      "multilayer_perceptron ran in: 0.0 sec\n",
      "multilayer_perceptron ran in: 0.0 sec\n",
      "multilayer_perceptron ran in: 0.0 sec\n",
      "multilayer_perceptron ran in: 0.0 sec\n",
      "multilayer_perceptron ran in: 0.0 sec\n"
     ]
    },
    {
     "name": "stderr",
     "output_type": "stream",
     "text": [
      "\r",
      " 32%|███▏      | 180/560 [00:05<00:11, 34.24it/s]"
     ]
    },
    {
     "name": "stdout",
     "output_type": "stream",
     "text": [
      "multilayer_perceptron ran in: 0.0 sec\n",
      "multilayer_perceptron ran in: 0.0 sec\n",
      "multilayer_perceptron ran in: 0.0 sec\n",
      "multilayer_perceptron ran in: 0.0 sec\n",
      "multilayer_perceptron ran in: 0.0 sec\n"
     ]
    },
    {
     "name": "stderr",
     "output_type": "stream",
     "text": [
      "\r",
      " 33%|███▎      | 184/560 [00:05<00:11, 33.75it/s]"
     ]
    },
    {
     "name": "stdout",
     "output_type": "stream",
     "text": [
      "multilayer_perceptron ran in: 0.0 sec\n"
     ]
    },
    {
     "name": "stderr",
     "output_type": "stream",
     "text": [
      "\r",
      " 34%|███▎      | 188/560 [00:05<00:10, 33.97it/s]"
     ]
    },
    {
     "name": "stdout",
     "output_type": "stream",
     "text": [
      "multilayer_perceptron ran in: 0.0 sec\n",
      "multilayer_perceptron ran in: 0.0 sec\n",
      "multilayer_perceptron ran in: 0.0 sec\n",
      "multilayer_perceptron ran in: 0.0 sec\n",
      "multilayer_perceptron ran in: 0.0 sec\n",
      "multilayer_perceptron ran in: 0.0 sec\n",
      "multilayer_perceptron ran in: 0.0 sec\n",
      "multilayer_perceptron ran in: 0.0 sec\n"
     ]
    },
    {
     "name": "stderr",
     "output_type": "stream",
     "text": [
      " 35%|███▌      | 196/560 [00:05<00:10, 33.13it/s]"
     ]
    },
    {
     "name": "stdout",
     "output_type": "stream",
     "text": [
      "multilayer_perceptron ran in: 0.0 sec\n",
      "multilayer_perceptron ran in: 0.0 sec\n",
      "multilayer_perceptron ran in: 0.0 sec\n",
      "multilayer_perceptron ran in: 0.0 sec\n",
      "multilayer_perceptron ran in: 0.0 sec\n",
      "multilayer_perceptron ran in: 0.0 sec\n",
      "multilayer_perceptron ran in: 0.0 sec\n"
     ]
    },
    {
     "name": "stderr",
     "output_type": "stream",
     "text": [
      "\r",
      " 36%|███▌      | 200/560 [00:05<00:10, 33.73it/s]"
     ]
    },
    {
     "name": "stdout",
     "output_type": "stream",
     "text": [
      "multilayer_perceptron ran in: 0.0 sec\n",
      "multilayer_perceptron ran in: 0.0 sec\n",
      "multilayer_perceptron ran in: 0.0 sec\n",
      "multilayer_perceptron ran in: 0.0 sec\n"
     ]
    },
    {
     "name": "stderr",
     "output_type": "stream",
     "text": [
      "\r",
      " 36%|███▋      | 204/560 [00:06<00:10, 33.41it/s]"
     ]
    },
    {
     "name": "stdout",
     "output_type": "stream",
     "text": [
      "multilayer_perceptron ran in: 0.0 sec\n",
      "multilayer_perceptron ran in: 0.0 sec\n",
      "multilayer_perceptron ran in: 0.0 sec\n"
     ]
    },
    {
     "name": "stderr",
     "output_type": "stream",
     "text": [
      "\r",
      " 37%|███▋      | 208/560 [00:06<00:10, 33.73it/s]"
     ]
    },
    {
     "name": "stdout",
     "output_type": "stream",
     "text": [
      "multilayer_perceptron ran in: 0.0 sec\n",
      "multilayer_perceptron ran in: 0.006508827209472656 sec\n",
      "multilayer_perceptron ran in: 0.015624523162841797 sec\n",
      "multilayer_perceptron ran in: 0.0 sec\n"
     ]
    },
    {
     "name": "stderr",
     "output_type": "stream",
     "text": [
      "\r",
      " 38%|███▊      | 212/560 [00:06<00:10, 33.96it/s]"
     ]
    },
    {
     "name": "stdout",
     "output_type": "stream",
     "text": [
      "multilayer_perceptron ran in: 0.0 sec\n",
      "multilayer_perceptron ran in: 0.0 sec\n",
      "multilayer_perceptron ran in: 0.0 sec\n",
      "multilayer_perceptron ran in: 0.0 sec\n"
     ]
    },
    {
     "name": "stderr",
     "output_type": "stream",
     "text": [
      "\r",
      " 39%|███▊      | 216/560 [00:06<00:10, 34.13it/s]"
     ]
    },
    {
     "name": "stdout",
     "output_type": "stream",
     "text": [
      "multilayer_perceptron ran in: 0.0 sec\n",
      "multilayer_perceptron ran in: 0.0 sec\n",
      "multilayer_perceptron ran in: 0.0 sec\n"
     ]
    },
    {
     "name": "stderr",
     "output_type": "stream",
     "text": [
      "\r",
      " 39%|███▉      | 220/560 [00:06<00:09, 34.24it/s]"
     ]
    },
    {
     "name": "stdout",
     "output_type": "stream",
     "text": [
      "multilayer_perceptron ran in: 0.0 sec\n",
      "multilayer_perceptron ran in: 0.0 sec\n",
      "multilayer_perceptron ran in: 0.0 sec\n",
      "multilayer_perceptron ran in: 0.0 sec\n",
      "multilayer_perceptron ran in: 0.0 sec\n"
     ]
    },
    {
     "name": "stderr",
     "output_type": "stream",
     "text": [
      "\r",
      " 40%|████      | 224/560 [00:06<00:09, 34.32it/s]"
     ]
    },
    {
     "name": "stdout",
     "output_type": "stream",
     "text": [
      "multilayer_perceptron ran in: 0.0 sec\n",
      "multilayer_perceptron ran in: 0.0 sec\n"
     ]
    },
    {
     "name": "stderr",
     "output_type": "stream",
     "text": [
      "\r",
      " 41%|████      | 228/560 [00:06<00:09, 33.81it/s]"
     ]
    },
    {
     "name": "stdout",
     "output_type": "stream",
     "text": [
      "multilayer_perceptron ran in: 0.0 sec\n",
      "multilayer_perceptron ran in: 0.0 sec\n",
      "multilayer_perceptron ran in: 0.015641450881958008 sec\n",
      "multilayer_perceptron ran in: 0.0 sec\n",
      "multilayer_perceptron ran in: 0.0 sec\n",
      "multilayer_perceptron ran in: 0.0 sec\n",
      "multilayer_perceptron ran in: 0.0 sec\n"
     ]
    },
    {
     "name": "stderr",
     "output_type": "stream",
     "text": [
      "\r",
      " 41%|████▏     | 232/560 [00:06<00:10, 32.71it/s]"
     ]
    },
    {
     "name": "stdout",
     "output_type": "stream",
     "text": [
      "multilayer_perceptron ran in: 0.0 sec\n",
      "multilayer_perceptron ran in: 0.0 sec\n",
      "multilayer_perceptron ran in: 0.0 sec\n",
      "multilayer_perceptron ran in: 0.0 sec\n",
      "multilayer_perceptron ran in: 0.0 sec\n"
     ]
    },
    {
     "name": "stderr",
     "output_type": "stream",
     "text": [
      "\r",
      " 42%|████▏     | 236/560 [00:07<00:09, 33.23it/s]"
     ]
    },
    {
     "name": "stdout",
     "output_type": "stream",
     "text": [
      "multilayer_perceptron ran in: 0.0 sec\n",
      "multilayer_perceptron ran in: 0.0 sec\n"
     ]
    },
    {
     "name": "stderr",
     "output_type": "stream",
     "text": [
      "\r",
      " 43%|████▎     | 240/560 [00:07<00:09, 33.61it/s]"
     ]
    },
    {
     "name": "stdout",
     "output_type": "stream",
     "text": [
      "multilayer_perceptron ran in: 0.0 sec\n",
      "multilayer_perceptron ran in: 0.0 sec\n",
      "multilayer_perceptron ran in: 0.0 sec\n",
      "multilayer_perceptron ran in: 0.0 sec\n",
      "multilayer_perceptron ran in: 0.0 sec\n"
     ]
    },
    {
     "name": "stderr",
     "output_type": "stream",
     "text": [
      "\r",
      " 44%|████▎     | 244/560 [00:07<00:09, 33.87it/s]"
     ]
    },
    {
     "name": "stdout",
     "output_type": "stream",
     "text": [
      "multilayer_perceptron ran in: 0.0 sec\n",
      "multilayer_perceptron ran in: 0.0 sec\n",
      "multilayer_perceptron ran in: 0.0 sec\n"
     ]
    },
    {
     "name": "stderr",
     "output_type": "stream",
     "text": [
      "\r",
      " 44%|████▍     | 248/560 [00:07<00:09, 33.50it/s]"
     ]
    },
    {
     "name": "stdout",
     "output_type": "stream",
     "text": [
      "multilayer_perceptron ran in: 0.0 sec\n",
      "multilayer_perceptron ran in: 0.0 sec\n",
      "multilayer_perceptron ran in: 0.0 sec\n",
      "multilayer_perceptron ran in: 0.0 sec\n"
     ]
    },
    {
     "name": "stderr",
     "output_type": "stream",
     "text": [
      "\r",
      " 45%|████▌     | 252/560 [00:07<00:09, 33.80it/s]"
     ]
    },
    {
     "name": "stdout",
     "output_type": "stream",
     "text": [
      "multilayer_perceptron ran in: 0.015612602233886719 sec\n",
      "multilayer_perceptron ran in: 0.0 sec\n",
      "multilayer_perceptron ran in: 0.0 sec\n"
     ]
    },
    {
     "name": "stderr",
     "output_type": "stream",
     "text": [
      "\r",
      " 46%|████▌     | 256/560 [00:07<00:11, 25.47it/s]"
     ]
    },
    {
     "name": "stdout",
     "output_type": "stream",
     "text": [
      "multilayer_perceptron ran in: 0.0 sec\n",
      "multilayer_perceptron ran in: 0.0 sec\n",
      "multilayer_perceptron ran in: 0.0 sec\n",
      "multilayer_perceptron ran in: 0.0 sec\n",
      "multilayer_perceptron ran in: 0.0 sec\n",
      "multilayer_perceptron ran in: 0.0 sec\n"
     ]
    },
    {
     "name": "stderr",
     "output_type": "stream",
     "text": [
      " 47%|████▋     | 264/560 [00:08<00:10, 29.07it/s]"
     ]
    },
    {
     "name": "stdout",
     "output_type": "stream",
     "text": [
      "multilayer_perceptron ran in: 0.015641450881958008 sec\n",
      "multilayer_perceptron ran in: 0.0 sec\n",
      "multilayer_perceptron ran in: 0.0 sec\n",
      "multilayer_perceptron ran in: 0.0 sec\n",
      "multilayer_perceptron ran in: 0.0 sec\n",
      "multilayer_perceptron ran in: 0.0 sec\n",
      "multilayer_perceptron ran in: 0.015623807907104492 sec\n",
      "multilayer_perceptron ran in: 0.0 sec\n"
     ]
    },
    {
     "name": "stderr",
     "output_type": "stream",
     "text": [
      " 49%|████▊     | 272/560 [00:08<00:09, 31.61it/s]"
     ]
    },
    {
     "name": "stdout",
     "output_type": "stream",
     "text": [
      "multilayer_perceptron ran in: 0.0 sec\n",
      "multilayer_perceptron ran in: 0.0 sec\n",
      "multilayer_perceptron ran in: 0.0 sec\n",
      "multilayer_perceptron ran in: 0.0 sec\n",
      "multilayer_perceptron ran in: 0.0 sec\n",
      "multilayer_perceptron ran in: 0.0 sec\n",
      "multilayer_perceptron ran in: 0.0 sec\n"
     ]
    },
    {
     "name": "stderr",
     "output_type": "stream",
     "text": [
      " 50%|█████     | 280/560 [00:08<00:08, 32.16it/s]"
     ]
    },
    {
     "name": "stdout",
     "output_type": "stream",
     "text": [
      "multilayer_perceptron ran in: 0.0 sec\n",
      "multilayer_perceptron ran in: 0.015626907348632812 sec\n",
      "multilayer_perceptron ran in: 0.015628814697265625 sec\n",
      "multilayer_perceptron ran in: 0.0 sec\n",
      "multilayer_perceptron ran in: 0.0 sec\n",
      "multilayer_perceptron ran in: 0.0 sec\n",
      "multilayer_perceptron ran in: 0.0 sec\n",
      "multilayer_perceptron ran in: 0.0 sec\n"
     ]
    },
    {
     "name": "stderr",
     "output_type": "stream",
     "text": [
      " 51%|█████▏    | 288/560 [00:08<00:08, 32.94it/s]"
     ]
    },
    {
     "name": "stdout",
     "output_type": "stream",
     "text": [
      "multilayer_perceptron ran in: 0.0 sec\n",
      "multilayer_perceptron ran in: 0.0 sec\n",
      "multilayer_perceptron ran in: 0.0 sec\n",
      "multilayer_perceptron ran in: 0.0 sec\n",
      "multilayer_perceptron ran in: 0.015630483627319336 sec\n",
      "multilayer_perceptron ran in: 0.0 sec\n",
      "multilayer_perceptron ran in: 0.0 sec\n"
     ]
    },
    {
     "name": "stderr",
     "output_type": "stream",
     "text": [
      "\r",
      " 52%|█████▏    | 292/560 [00:08<00:08, 33.03it/s]"
     ]
    },
    {
     "name": "stdout",
     "output_type": "stream",
     "text": [
      "multilayer_perceptron ran in: 0.0 sec\n",
      "multilayer_perceptron ran in: 0.0 sec\n",
      "multilayer_perceptron ran in: 0.0 sec\n",
      "multilayer_perceptron ran in: 0.0 sec\n",
      "multilayer_perceptron ran in: 0.0 sec\n",
      "multilayer_perceptron ran in: 0.0 sec\n",
      "multilayer_perceptron ran in: 0.0 sec\n"
     ]
    },
    {
     "name": "stderr",
     "output_type": "stream",
     "text": [
      " 54%|█████▎    | 300/560 [00:09<00:07, 33.12it/s]"
     ]
    },
    {
     "name": "stdout",
     "output_type": "stream",
     "text": [
      "multilayer_perceptron ran in: 0.0 sec\n",
      "multilayer_perceptron ran in: 0.0 sec\n",
      "multilayer_perceptron ran in: 0.0 sec\n",
      "multilayer_perceptron ran in: 0.015621185302734375 sec\n",
      "multilayer_perceptron ran in: 0.0 sec\n",
      "multilayer_perceptron ran in: 0.0 sec\n",
      "multilayer_perceptron ran in: 0.0 sec\n"
     ]
    },
    {
     "name": "stderr",
     "output_type": "stream",
     "text": [
      " 55%|█████▌    | 308/560 [00:09<00:07, 33.43it/s]"
     ]
    },
    {
     "name": "stdout",
     "output_type": "stream",
     "text": [
      "multilayer_perceptron ran in: 0.0 sec\n",
      "multilayer_perceptron ran in: 0.0 sec\n",
      "multilayer_perceptron ran in: 0.0 sec\n",
      "multilayer_perceptron ran in: 0.0 sec\n",
      "multilayer_perceptron ran in: 0.0 sec\n",
      "multilayer_perceptron ran in: 0.0 sec\n",
      "multilayer_perceptron ran in: 0.0 sec\n"
     ]
    },
    {
     "name": "stderr",
     "output_type": "stream",
     "text": [
      " 56%|█████▋    | 316/560 [00:09<00:07, 33.97it/s]"
     ]
    },
    {
     "name": "stdout",
     "output_type": "stream",
     "text": [
      "multilayer_perceptron ran in: 0.0 sec\n",
      "multilayer_perceptron ran in: 0.0 sec\n",
      "multilayer_perceptron ran in: 0.0 sec\n",
      "multilayer_perceptron ran in: 0.015606164932250977 sec\n",
      "multilayer_perceptron ran in: 0.0 sec\n",
      "multilayer_perceptron ran in: 0.0 sec\n",
      "multilayer_perceptron ran in: 0.0 sec\n"
     ]
    },
    {
     "name": "stderr",
     "output_type": "stream",
     "text": [
      " 58%|█████▊    | 324/560 [00:09<00:06, 34.25it/s]"
     ]
    },
    {
     "name": "stdout",
     "output_type": "stream",
     "text": [
      "multilayer_perceptron ran in: 0.0 sec\n",
      "multilayer_perceptron ran in: 0.0 sec\n",
      "multilayer_perceptron ran in: 0.0 sec\n",
      "multilayer_perceptron ran in: 0.0 sec\n",
      "multilayer_perceptron ran in: 0.0 sec\n",
      "multilayer_perceptron ran in: 0.0 sec\n",
      "multilayer_perceptron ran in: 0.0 sec\n"
     ]
    },
    {
     "name": "stderr",
     "output_type": "stream",
     "text": [
      "\r",
      " 59%|█████▊    | 328/560 [00:09<00:06, 33.77it/s]"
     ]
    },
    {
     "name": "stdout",
     "output_type": "stream",
     "text": [
      "multilayer_perceptron ran in: 0.0065135955810546875 sec\n",
      "multilayer_perceptron ran in: 0.015624761581420898 sec\n",
      "multilayer_perceptron ran in: 0.0 sec\n",
      "multilayer_perceptron ran in: 0.0 sec\n",
      "multilayer_perceptron ran in: 0.0 sec\n",
      "multilayer_perceptron ran in: 0.0 sec\n",
      "multilayer_perceptron ran in: 0.01562643051147461 sec\n"
     ]
    },
    {
     "name": "stderr",
     "output_type": "stream",
     "text": [
      " 60%|██████    | 336/560 [00:10<00:06, 34.14it/s]"
     ]
    },
    {
     "name": "stdout",
     "output_type": "stream",
     "text": [
      "multilayer_perceptron ran in: 0.0 sec\n",
      "multilayer_perceptron ran in: 0.0 sec\n",
      "multilayer_perceptron ran in: 0.0 sec\n",
      "multilayer_perceptron ran in: 0.0 sec\n",
      "multilayer_perceptron ran in: 0.0 sec\n",
      "multilayer_perceptron ran in: 0.0 sec\n",
      "multilayer_perceptron ran in: 0.0 sec\n",
      "multilayer_perceptron ran in: 0.0 sec\n"
     ]
    },
    {
     "name": "stderr",
     "output_type": "stream",
     "text": [
      " 61%|██████▏   | 344/560 [00:10<00:06, 33.39it/s]"
     ]
    },
    {
     "name": "stdout",
     "output_type": "stream",
     "text": [
      "multilayer_perceptron ran in: 0.0 sec\n",
      "multilayer_perceptron ran in: 0.0 sec\n",
      "multilayer_perceptron ran in: 0.0 sec\n",
      "multilayer_perceptron ran in: 0.0 sec\n",
      "multilayer_perceptron ran in: 0.015608072280883789 sec\n",
      "multilayer_perceptron ran in: 0.015622377395629883 sec\n",
      "multilayer_perceptron ran in: 0.0 sec\n"
     ]
    },
    {
     "name": "stderr",
     "output_type": "stream",
     "text": [
      " 63%|██████▎   | 352/560 [00:10<00:06, 33.56it/s]"
     ]
    },
    {
     "name": "stdout",
     "output_type": "stream",
     "text": [
      "multilayer_perceptron ran in: 0.0 sec\n",
      "multilayer_perceptron ran in: 0.0 sec\n",
      "multilayer_perceptron ran in: 0.0 sec\n",
      "multilayer_perceptron ran in: 0.0 sec\n",
      "multilayer_perceptron ran in: 0.0 sec\n",
      "multilayer_perceptron ran in: 0.006510496139526367 sec\n",
      "multilayer_perceptron ran in: 0.0 sec\n"
     ]
    },
    {
     "name": "stderr",
     "output_type": "stream",
     "text": [
      "\r",
      " 64%|██████▎   | 356/560 [00:10<00:06, 33.84it/s]"
     ]
    },
    {
     "name": "stdout",
     "output_type": "stream",
     "text": [
      "multilayer_perceptron ran in: 0.0 sec\n",
      "multilayer_perceptron ran in: 0.0 sec\n",
      "multilayer_perceptron ran in: 0.0 sec\n",
      "multilayer_perceptron ran in: 0.0 sec\n",
      "multilayer_perceptron ran in: 0.0 sec\n",
      "multilayer_perceptron ran in: 0.0 sec\n",
      "multilayer_perceptron ran in: 0.0 sec\n"
     ]
    },
    {
     "name": "stderr",
     "output_type": "stream",
     "text": [
      " 65%|██████▌   | 364/560 [00:10<00:05, 34.18it/s]"
     ]
    },
    {
     "name": "stdout",
     "output_type": "stream",
     "text": [
      "multilayer_perceptron ran in: 0.0 sec\n",
      "multilayer_perceptron ran in: 0.0 sec\n",
      "multilayer_perceptron ran in: 0.0 sec\n",
      "multilayer_perceptron ran in: 0.0 sec\n",
      "multilayer_perceptron ran in: 0.0 sec\n",
      "multilayer_perceptron ran in: 0.01564788818359375 sec\n",
      "multilayer_perceptron ran in: 0.0 sec\n"
     ]
    },
    {
     "name": "stderr",
     "output_type": "stream",
     "text": [
      " 66%|██████▋   | 372/560 [00:11<00:05, 34.18it/s]"
     ]
    },
    {
     "name": "stdout",
     "output_type": "stream",
     "text": [
      "multilayer_perceptron ran in: 0.0 sec\n",
      "multilayer_perceptron ran in: 0.0 sec\n",
      "multilayer_perceptron ran in: 0.0 sec\n",
      "multilayer_perceptron ran in: 0.0 sec\n",
      "multilayer_perceptron ran in: 0.0 sec\n",
      "multilayer_perceptron ran in: 0.0 sec\n",
      "multilayer_perceptron ran in: 0.0 sec\n"
     ]
    },
    {
     "name": "stderr",
     "output_type": "stream",
     "text": [
      " 68%|██████▊   | 380/560 [00:11<00:05, 33.41it/s]"
     ]
    },
    {
     "name": "stdout",
     "output_type": "stream",
     "text": [
      "multilayer_perceptron ran in: 0.0 sec\n",
      "multilayer_perceptron ran in: 0.0 sec\n",
      "multilayer_perceptron ran in: 0.0 sec\n",
      "multilayer_perceptron ran in: 0.0 sec\n",
      "multilayer_perceptron ran in: 0.0 sec\n",
      "multilayer_perceptron ran in: 0.0 sec\n",
      "multilayer_perceptron ran in: 0.0 sec\n"
     ]
    },
    {
     "name": "stderr",
     "output_type": "stream",
     "text": [
      "\r",
      " 69%|██████▊   | 384/560 [00:11<00:05, 33.73it/s]"
     ]
    },
    {
     "name": "stdout",
     "output_type": "stream",
     "text": [
      "multilayer_perceptron ran in: 0.0 sec\n",
      "multilayer_perceptron ran in: 0.0 sec\n",
      "multilayer_perceptron ran in: 0.0 sec\n",
      "multilayer_perceptron ran in: 0.0 sec\n",
      "multilayer_perceptron ran in: 0.0 sec\n",
      "multilayer_perceptron ran in: 0.0 sec\n"
     ]
    },
    {
     "name": "stderr",
     "output_type": "stream",
     "text": [
      " 70%|███████   | 392/560 [00:11<00:05, 33.56it/s]"
     ]
    },
    {
     "name": "stdout",
     "output_type": "stream",
     "text": [
      "multilayer_perceptron ran in: 0.0 sec\n",
      "multilayer_perceptron ran in: 0.0 sec\n",
      "multilayer_perceptron ran in: 0.0 sec\n",
      "multilayer_perceptron ran in: 0.0 sec\n",
      "multilayer_perceptron ran in: 0.0 sec\n",
      "multilayer_perceptron ran in: 0.0 sec\n",
      "multilayer_perceptron ran in: 0.01579570770263672 sec\n",
      "multilayer_perceptron ran in: 0.0 sec\n"
     ]
    },
    {
     "name": "stderr",
     "output_type": "stream",
     "text": [
      " 71%|███████▏  | 400/560 [00:12<00:04, 32.74it/s]"
     ]
    },
    {
     "name": "stdout",
     "output_type": "stream",
     "text": [
      "multilayer_perceptron ran in: 0.0 sec\n",
      "multilayer_perceptron ran in: 0.0 sec\n",
      "multilayer_perceptron ran in: 0.0 sec\n",
      "multilayer_perceptron ran in: 0.0 sec\n",
      "multilayer_perceptron ran in: 0.0 sec\n",
      "multilayer_perceptron ran in: 0.0 sec\n",
      "multilayer_perceptron ran in: 0.0 sec\n",
      "multilayer_perceptron ran in: 0.0 sec\n"
     ]
    },
    {
     "name": "stderr",
     "output_type": "stream",
     "text": [
      " 73%|███████▎  | 408/560 [00:12<00:04, 33.62it/s]"
     ]
    },
    {
     "name": "stdout",
     "output_type": "stream",
     "text": [
      "multilayer_perceptron ran in: 0.0 sec\n",
      "multilayer_perceptron ran in: 0.0 sec\n",
      "multilayer_perceptron ran in: 0.0 sec\n",
      "multilayer_perceptron ran in: 0.0 sec\n",
      "multilayer_perceptron ran in: 0.015624284744262695 sec\n",
      "multilayer_perceptron ran in: 0.0 sec\n",
      "multilayer_perceptron ran in: 0.0 sec\n"
     ]
    },
    {
     "name": "stderr",
     "output_type": "stream",
     "text": [
      " 74%|███████▍  | 416/560 [00:12<00:04, 33.68it/s]"
     ]
    },
    {
     "name": "stdout",
     "output_type": "stream",
     "text": [
      "multilayer_perceptron ran in: 0.0 sec\n",
      "multilayer_perceptron ran in: 0.0 sec\n",
      "multilayer_perceptron ran in: 0.0 sec\n",
      "multilayer_perceptron ran in: 0.0 sec\n",
      "multilayer_perceptron ran in: 0.0 sec\n",
      "multilayer_perceptron ran in: 0.0 sec\n",
      "multilayer_perceptron ran in: 0.0 sec\n"
     ]
    },
    {
     "name": "stderr",
     "output_type": "stream",
     "text": [
      "\r",
      " 75%|███████▌  | 420/560 [00:12<00:04, 33.92it/s]"
     ]
    },
    {
     "name": "stdout",
     "output_type": "stream",
     "text": [
      "multilayer_perceptron ran in: 0.0 sec\n",
      "multilayer_perceptron ran in: 0.0 sec\n",
      "multilayer_perceptron ran in: 0.0 sec\n",
      "multilayer_perceptron ran in: 0.015625715255737305 sec\n",
      "multilayer_perceptron ran in: 0.0 sec\n",
      "multilayer_perceptron ran in: 0.0 sec\n",
      "multilayer_perceptron ran in: 0.0 sec\n"
     ]
    },
    {
     "name": "stderr",
     "output_type": "stream",
     "text": [
      " 76%|███████▋  | 428/560 [00:12<00:03, 34.22it/s]"
     ]
    },
    {
     "name": "stdout",
     "output_type": "stream",
     "text": [
      "multilayer_perceptron ran in: 0.0 sec\n",
      "multilayer_perceptron ran in: 0.0 sec\n",
      "multilayer_perceptron ran in: 0.0 sec\n",
      "multilayer_perceptron ran in: 0.0 sec\n",
      "multilayer_perceptron ran in: 0.0 sec\n",
      "multilayer_perceptron ran in: 0.0 sec\n",
      "multilayer_perceptron ran in: 0.0 sec\n"
     ]
    },
    {
     "name": "stderr",
     "output_type": "stream",
     "text": [
      " 78%|███████▊  | 436/560 [00:13<00:03, 34.20it/s]"
     ]
    },
    {
     "name": "stdout",
     "output_type": "stream",
     "text": [
      "multilayer_perceptron ran in: 0.0 sec\n",
      "multilayer_perceptron ran in: 0.0 sec\n",
      "multilayer_perceptron ran in: 0.0 sec\n",
      "multilayer_perceptron ran in: 0.015612125396728516 sec\n",
      "multilayer_perceptron ran in: 0.0 sec\n",
      "multilayer_perceptron ran in: 0.0 sec\n",
      "multilayer_perceptron ran in: 0.0 sec\n"
     ]
    },
    {
     "name": "stderr",
     "output_type": "stream",
     "text": [
      " 79%|███████▉  | 444/560 [00:13<00:03, 33.03it/s]"
     ]
    },
    {
     "name": "stdout",
     "output_type": "stream",
     "text": [
      "multilayer_perceptron ran in: 0.0 sec\n",
      "multilayer_perceptron ran in: 0.0 sec\n",
      "multilayer_perceptron ran in: 0.0 sec\n",
      "multilayer_perceptron ran in: 0.0 sec\n",
      "multilayer_perceptron ran in: 0.0065228939056396484 sec\n",
      "multilayer_perceptron ran in: 0.0 sec\n",
      "multilayer_perceptron ran in: 0.0 sec\n"
     ]
    },
    {
     "name": "stderr",
     "output_type": "stream",
     "text": [
      " 81%|████████  | 452/560 [00:13<00:03, 33.77it/s]"
     ]
    },
    {
     "name": "stdout",
     "output_type": "stream",
     "text": [
      "multilayer_perceptron ran in: 0.0 sec\n",
      "multilayer_perceptron ran in: 0.0 sec\n",
      "multilayer_perceptron ran in: 0.0 sec\n",
      "multilayer_perceptron ran in: 0.0 sec\n",
      "multilayer_perceptron ran in: 0.0 sec\n",
      "multilayer_perceptron ran in: 0.0 sec\n",
      "multilayer_perceptron ran in: 0.0 sec\n"
     ]
    },
    {
     "name": "stderr",
     "output_type": "stream",
     "text": [
      "\r",
      " 81%|████████▏ | 456/560 [00:13<00:03, 33.43it/s]"
     ]
    },
    {
     "name": "stdout",
     "output_type": "stream",
     "text": [
      "multilayer_perceptron ran in: 0.0 sec\n",
      "multilayer_perceptron ran in: 0.0 sec\n",
      "multilayer_perceptron ran in: 0.0 sec\n",
      "multilayer_perceptron ran in: 0.0 sec\n",
      "multilayer_perceptron ran in: 0.0 sec\n",
      "multilayer_perceptron ran in: 0.0 sec\n",
      "multilayer_perceptron ran in: 0.0 sec\n"
     ]
    },
    {
     "name": "stderr",
     "output_type": "stream",
     "text": [
      " 83%|████████▎ | 464/560 [00:13<00:02, 33.98it/s]"
     ]
    },
    {
     "name": "stdout",
     "output_type": "stream",
     "text": [
      "multilayer_perceptron ran in: 0.0 sec\n",
      "multilayer_perceptron ran in: 0.0 sec\n",
      "multilayer_perceptron ran in: 0.0 sec\n",
      "multilayer_perceptron ran in: 0.0 sec\n",
      "multilayer_perceptron ran in: 0.0 sec\n",
      "multilayer_perceptron ran in: 0.0 sec\n",
      "multilayer_perceptron ran in: 0.0 sec\n",
      "multilayer_perceptron ran in: 0.0 sec\n"
     ]
    },
    {
     "name": "stderr",
     "output_type": "stream",
     "text": [
      " 84%|████████▍ | 472/560 [00:14<00:02, 33.31it/s]"
     ]
    },
    {
     "name": "stdout",
     "output_type": "stream",
     "text": [
      "multilayer_perceptron ran in: 0.0 sec\n",
      "multilayer_perceptron ran in: 0.0 sec\n",
      "multilayer_perceptron ran in: 0.0 sec\n",
      "multilayer_perceptron ran in: 0.015625953674316406 sec\n",
      "multilayer_perceptron ran in: 0.0 sec\n",
      "multilayer_perceptron ran in: 0.0 sec\n",
      "multilayer_perceptron ran in: 0.0 sec\n"
     ]
    },
    {
     "name": "stderr",
     "output_type": "stream",
     "text": [
      " 86%|████████▌ | 480/560 [00:14<00:02, 33.36it/s]"
     ]
    },
    {
     "name": "stdout",
     "output_type": "stream",
     "text": [
      "multilayer_perceptron ran in: 0.0 sec\n",
      "multilayer_perceptron ran in: 0.0 sec\n",
      "multilayer_perceptron ran in: 0.0 sec\n",
      "multilayer_perceptron ran in: 0.0 sec\n",
      "multilayer_perceptron ran in: 0.0 sec\n",
      "multilayer_perceptron ran in: 0.0 sec\n",
      "multilayer_perceptron ran in: 0.0 sec\n"
     ]
    },
    {
     "name": "stderr",
     "output_type": "stream",
     "text": [
      "\r",
      " 86%|████████▋ | 484/560 [00:14<00:02, 33.69it/s]"
     ]
    },
    {
     "name": "stdout",
     "output_type": "stream",
     "text": [
      "multilayer_perceptron ran in: 0.0 sec\n",
      "multilayer_perceptron ran in: 0.0 sec\n",
      "multilayer_perceptron ran in: 0.0 sec\n",
      "multilayer_perceptron ran in: 0.0 sec\n",
      "multilayer_perceptron ran in: 0.0 sec\n",
      "multilayer_perceptron ran in: 0.0 sec\n",
      "multilayer_perceptron ran in: 0.0 sec\n"
     ]
    },
    {
     "name": "stderr",
     "output_type": "stream",
     "text": [
      " 88%|████████▊ | 492/560 [00:14<00:01, 34.10it/s]"
     ]
    },
    {
     "name": "stdout",
     "output_type": "stream",
     "text": [
      "multilayer_perceptron ran in: 0.0 sec\n",
      "multilayer_perceptron ran in: 0.0 sec\n",
      "multilayer_perceptron ran in: 0.0 sec\n",
      "multilayer_perceptron ran in: 0.0 sec\n",
      "multilayer_perceptron ran in: 0.0 sec\n",
      "multilayer_perceptron ran in: 0.0 sec\n",
      "multilayer_perceptron ran in: 0.0 sec\n"
     ]
    },
    {
     "name": "stderr",
     "output_type": "stream",
     "text": [
      " 89%|████████▉ | 500/560 [00:15<00:01, 33.74it/s]"
     ]
    },
    {
     "name": "stdout",
     "output_type": "stream",
     "text": [
      "multilayer_perceptron ran in: 0.0 sec\n",
      "multilayer_perceptron ran in: 0.0 sec\n",
      "multilayer_perceptron ran in: 0.0 sec\n",
      "multilayer_perceptron ran in: 0.0 sec\n",
      "multilayer_perceptron ran in: 0.0 sec\n",
      "multilayer_perceptron ran in: 0.0 sec\n",
      "multilayer_perceptron ran in: 0.0 sec\n"
     ]
    },
    {
     "name": "stderr",
     "output_type": "stream",
     "text": [
      " 91%|█████████ | 508/560 [00:15<00:01, 34.13it/s]"
     ]
    },
    {
     "name": "stdout",
     "output_type": "stream",
     "text": [
      "multilayer_perceptron ran in: 0.0 sec\n",
      "multilayer_perceptron ran in: 0.0 sec\n",
      "multilayer_perceptron ran in: 0.0 sec\n",
      "multilayer_perceptron ran in: 0.0 sec\n",
      "multilayer_perceptron ran in: 0.0 sec\n",
      "multilayer_perceptron ran in: 0.0 sec\n",
      "multilayer_perceptron ran in: 0.0 sec\n"
     ]
    },
    {
     "name": "stderr",
     "output_type": "stream",
     "text": [
      " 92%|█████████▏| 516/560 [00:15<00:01, 33.38it/s]"
     ]
    },
    {
     "name": "stdout",
     "output_type": "stream",
     "text": [
      "multilayer_perceptron ran in: 0.0 sec\n",
      "multilayer_perceptron ran in: 0.0 sec\n",
      "multilayer_perceptron ran in: 0.0 sec\n",
      "multilayer_perceptron ran in: 0.0 sec\n",
      "multilayer_perceptron ran in: 0.0 sec\n",
      "multilayer_perceptron ran in: 0.0 sec\n",
      "multilayer_perceptron ran in: 0.0 sec\n"
     ]
    },
    {
     "name": "stderr",
     "output_type": "stream",
     "text": [
      "\r",
      " 93%|█████████▎| 520/560 [00:15<00:01, 33.17it/s]"
     ]
    },
    {
     "name": "stdout",
     "output_type": "stream",
     "text": [
      "multilayer_perceptron ran in: 0.0 sec\n",
      "multilayer_perceptron ran in: 0.0 sec\n",
      "multilayer_perceptron ran in: 0.0 sec\n",
      "multilayer_perceptron ran in: 0.0 sec\n",
      "multilayer_perceptron ran in: 0.0 sec\n",
      "multilayer_perceptron ran in: 0.0 sec\n",
      "multilayer_perceptron ran in: 0.0 sec\n"
     ]
    },
    {
     "name": "stderr",
     "output_type": "stream",
     "text": [
      " 94%|█████████▍| 528/560 [00:15<00:00, 33.48it/s]"
     ]
    },
    {
     "name": "stdout",
     "output_type": "stream",
     "text": [
      "multilayer_perceptron ran in: 0.0 sec\n",
      "multilayer_perceptron ran in: 0.0 sec\n",
      "multilayer_perceptron ran in: 0.0 sec\n",
      "multilayer_perceptron ran in: 0.0 sec\n",
      "multilayer_perceptron ran in: 0.015649080276489258 sec\n",
      "multilayer_perceptron ran in: 0.0 sec\n",
      "multilayer_perceptron ran in: 0.0 sec\n"
     ]
    },
    {
     "name": "stderr",
     "output_type": "stream",
     "text": [
      " 96%|█████████▌| 536/560 [00:16<00:00, 34.28it/s]"
     ]
    },
    {
     "name": "stdout",
     "output_type": "stream",
     "text": [
      "multilayer_perceptron ran in: 0.0 sec\n",
      "multilayer_perceptron ran in: 0.0 sec\n",
      "multilayer_perceptron ran in: 0.0 sec\n",
      "multilayer_perceptron ran in: 0.0 sec\n",
      "multilayer_perceptron ran in: 0.0 sec\n",
      "multilayer_perceptron ran in: 0.0 sec\n"
     ]
    },
    {
     "name": "stderr",
     "output_type": "stream",
     "text": [
      "\r",
      " 96%|█████████▋| 540/560 [00:16<00:00, 33.02it/s]"
     ]
    },
    {
     "name": "stdout",
     "output_type": "stream",
     "text": [
      "multilayer_perceptron ran in: 0.0 sec\n",
      "multilayer_perceptron ran in: 0.0 sec\n",
      "multilayer_perceptron ran in: 0.0 sec\n",
      "multilayer_perceptron ran in: 0.0 sec\n",
      "multilayer_perceptron ran in: 0.0 sec\n",
      "multilayer_perceptron ran in: 0.0 sec\n",
      "multilayer_perceptron ran in: 0.0 sec\n"
     ]
    },
    {
     "name": "stderr",
     "output_type": "stream",
     "text": [
      " 98%|█████████▊| 548/560 [00:16<00:00, 33.38it/s]"
     ]
    },
    {
     "name": "stdout",
     "output_type": "stream",
     "text": [
      "multilayer_perceptron ran in: 0.0 sec\n",
      "multilayer_perceptron ran in: 0.0 sec\n",
      "multilayer_perceptron ran in: 0.0 sec\n",
      "multilayer_perceptron ran in: 0.0 sec\n",
      "multilayer_perceptron ran in: 0.015639305114746094 sec\n",
      "multilayer_perceptron ran in: 0.015625 sec\n",
      "multilayer_perceptron ran in: 0.0 sec\n"
     ]
    },
    {
     "name": "stderr",
     "output_type": "stream",
     "text": [
      " 99%|█████████▉| 556/560 [00:16<00:00, 33.95it/s]"
     ]
    },
    {
     "name": "stdout",
     "output_type": "stream",
     "text": [
      "multilayer_perceptron ran in: 0.0 sec\n",
      "multilayer_perceptron ran in: 0.0 sec\n",
      "multilayer_perceptron ran in: 0.0 sec\n",
      "multilayer_perceptron ran in: 0.0 sec\n",
      "multilayer_perceptron ran in: 0.0 sec\n",
      "multilayer_perceptron ran in: 0.0 sec\n",
      "multilayer_perceptron ran in: 0.0 sec\n",
      "multilayer_perceptron ran in: 0.0 sec\n"
     ]
    },
    {
     "name": "stderr",
     "output_type": "stream",
     "text": [
      "100%|██████████| 560/560 [00:16<00:00, 33.29it/s]\n"
     ]
    },
    {
     "name": "stdout",
     "output_type": "stream",
     "text": [
      "multilayer_perceptron ran in: 0.0 sec\n",
      "multilayer_perceptron ran in: 0.0 sec\n",
      "Epoch: 3 Cost=17218.5059\n"
     ]
    },
    {
     "name": "stderr",
     "output_type": "stream",
     "text": [
      "  1%|          | 4/560 [00:00<00:14, 37.46it/s]"
     ]
    },
    {
     "name": "stdout",
     "output_type": "stream",
     "text": [
      "multilayer_perceptron ran in: 0.0 sec\n",
      "multilayer_perceptron ran in: 0.0 sec\n",
      "multilayer_perceptron ran in: 0.0 sec\n",
      "multilayer_perceptron ran in: 0.015627384185791016 sec\n",
      "multilayer_perceptron ran in: 0.0 sec\n",
      "multilayer_perceptron ran in: 0.0 sec\n"
     ]
    },
    {
     "name": "stderr",
     "output_type": "stream",
     "text": [
      "\r",
      "  1%|▏         | 8/560 [00:00<00:16, 32.97it/s]"
     ]
    },
    {
     "name": "stdout",
     "output_type": "stream",
     "text": [
      "multilayer_perceptron ran in: 0.0 sec\n",
      "multilayer_perceptron ran in: 0.0 sec\n",
      "multilayer_perceptron ran in: 0.015624046325683594 sec\n",
      "multilayer_perceptron ran in: 0.0 sec\n",
      "multilayer_perceptron ran in: 0.0 sec\n"
     ]
    },
    {
     "name": "stderr",
     "output_type": "stream",
     "text": [
      "\r",
      "  2%|▏         | 12/560 [00:00<00:16, 33.65it/s]"
     ]
    },
    {
     "name": "stdout",
     "output_type": "stream",
     "text": [
      "multilayer_perceptron ran in: 0.0 sec\n",
      "multilayer_perceptron ran in: 0.0 sec\n"
     ]
    },
    {
     "name": "stderr",
     "output_type": "stream",
     "text": [
      "\r",
      "  3%|▎         | 16/560 [00:00<00:16, 33.99it/s]"
     ]
    },
    {
     "name": "stdout",
     "output_type": "stream",
     "text": [
      "multilayer_perceptron ran in: 0.0 sec\n",
      "multilayer_perceptron ran in: 0.0 sec\n",
      "multilayer_perceptron ran in: 0.0 sec\n",
      "multilayer_perceptron ran in: 0.0 sec\n",
      "multilayer_perceptron ran in: 0.0 sec\n",
      "multilayer_perceptron ran in: 0.0 sec\n",
      "multilayer_perceptron ran in: 0.0 sec\n"
     ]
    },
    {
     "name": "stderr",
     "output_type": "stream",
     "text": [
      "  4%|▍         | 24/560 [00:00<00:16, 32.63it/s]"
     ]
    },
    {
     "name": "stdout",
     "output_type": "stream",
     "text": [
      "multilayer_perceptron ran in: 0.0 sec\n",
      "multilayer_perceptron ran in: 0.0 sec\n",
      "multilayer_perceptron ran in: 0.0 sec\n",
      "multilayer_perceptron ran in: 0.0 sec\n",
      "multilayer_perceptron ran in: 0.0 sec\n",
      "multilayer_perceptron ran in: 0.0 sec\n",
      "multilayer_perceptron ran in: 0.0 sec\n"
     ]
    },
    {
     "name": "stderr",
     "output_type": "stream",
     "text": [
      "\r",
      "  5%|▌         | 28/560 [00:00<00:16, 33.22it/s]"
     ]
    },
    {
     "name": "stdout",
     "output_type": "stream",
     "text": [
      "multilayer_perceptron ran in: 0.0 sec\n",
      "multilayer_perceptron ran in: 0.0 sec\n",
      "multilayer_perceptron ran in: 0.0 sec\n",
      "multilayer_perceptron ran in: 0.0 sec\n",
      "multilayer_perceptron ran in: 0.0 sec\n"
     ]
    },
    {
     "name": "stderr",
     "output_type": "stream",
     "text": [
      "\r",
      "  6%|▌         | 32/560 [00:00<00:15, 33.62it/s]"
     ]
    },
    {
     "name": "stdout",
     "output_type": "stream",
     "text": [
      "multilayer_perceptron ran in: 0.0 sec\n",
      "multilayer_perceptron ran in: 0.0 sec\n",
      "multilayer_perceptron ran in: 0.0 sec\n"
     ]
    },
    {
     "name": "stderr",
     "output_type": "stream",
     "text": [
      "\r",
      "  6%|▋         | 36/560 [00:01<00:15, 33.43it/s]"
     ]
    },
    {
     "name": "stdout",
     "output_type": "stream",
     "text": [
      "multilayer_perceptron ran in: 0.0 sec\n",
      "multilayer_perceptron ran in: 0.0 sec\n",
      "multilayer_perceptron ran in: 0.0 sec\n"
     ]
    },
    {
     "name": "stderr",
     "output_type": "stream",
     "text": [
      "\r",
      "  7%|▋         | 40/560 [00:01<00:15, 32.89it/s]"
     ]
    },
    {
     "name": "stdout",
     "output_type": "stream",
     "text": [
      "multilayer_perceptron ran in: 0.015625476837158203 sec\n",
      "multilayer_perceptron ran in: 0.0 sec\n",
      "multilayer_perceptron ran in: 0.0 sec\n",
      "multilayer_perceptron ran in: 0.0 sec\n"
     ]
    },
    {
     "name": "stderr",
     "output_type": "stream",
     "text": [
      "\r",
      "  8%|▊         | 44/560 [00:01<00:15, 32.82it/s]"
     ]
    },
    {
     "name": "stdout",
     "output_type": "stream",
     "text": [
      "multilayer_perceptron ran in: 0.0 sec\n",
      "multilayer_perceptron ran in: 0.006510734558105469 sec\n",
      "multilayer_perceptron ran in: 0.015625715255737305 sec\n"
     ]
    },
    {
     "name": "stderr",
     "output_type": "stream",
     "text": [
      "\r",
      "  9%|▊         | 48/560 [00:01<00:15, 33.32it/s]"
     ]
    },
    {
     "name": "stdout",
     "output_type": "stream",
     "text": [
      "multilayer_perceptron ran in: 0.0 sec\n",
      "multilayer_perceptron ran in: 0.015609502792358398 sec\n",
      "multilayer_perceptron ran in: 0.0 sec\n",
      "multilayer_perceptron ran in: 0.0 sec\n"
     ]
    },
    {
     "name": "stderr",
     "output_type": "stream",
     "text": [
      "\r",
      "  9%|▉         | 52/560 [00:01<00:15, 32.38it/s]"
     ]
    },
    {
     "name": "stdout",
     "output_type": "stream",
     "text": [
      "multilayer_perceptron ran in: 0.0 sec\n",
      "multilayer_perceptron ran in: 0.0 sec\n",
      "multilayer_perceptron ran in: 0.0 sec\n",
      "multilayer_perceptron ran in: 0.0 sec\n",
      "multilayer_perceptron ran in: 0.0 sec\n",
      "multilayer_perceptron ran in: 0.0 sec\n",
      "multilayer_perceptron ran in: 0.0156252384185791 sec\n"
     ]
    },
    {
     "name": "stderr",
     "output_type": "stream",
     "text": [
      "\r",
      " 10%|█         | 56/560 [00:01<00:15, 33.00it/s]"
     ]
    },
    {
     "name": "stdout",
     "output_type": "stream",
     "text": [
      "multilayer_perceptron ran in: 0.0 sec\n",
      "multilayer_perceptron ran in: 0.0 sec\n",
      "multilayer_perceptron ran in: 0.0 sec\n"
     ]
    },
    {
     "name": "stderr",
     "output_type": "stream",
     "text": [
      "\r",
      " 11%|█         | 60/560 [00:01<00:15, 32.90it/s]"
     ]
    },
    {
     "name": "stdout",
     "output_type": "stream",
     "text": [
      "multilayer_perceptron ran in: 0.0 sec\n",
      "multilayer_perceptron ran in: 0.0 sec\n",
      "multilayer_perceptron ran in: 0.0 sec\n",
      "multilayer_perceptron ran in: 0.0 sec\n"
     ]
    },
    {
     "name": "stderr",
     "output_type": "stream",
     "text": [
      "\r",
      " 11%|█▏        | 64/560 [00:01<00:14, 33.37it/s]"
     ]
    },
    {
     "name": "stdout",
     "output_type": "stream",
     "text": [
      "multilayer_perceptron ran in: 0.0 sec\n",
      "multilayer_perceptron ran in: 0.0 sec\n",
      "multilayer_perceptron ran in: 0.0 sec\n"
     ]
    },
    {
     "name": "stderr",
     "output_type": "stream",
     "text": [
      "\r",
      " 12%|█▏        | 68/560 [00:02<00:14, 33.70it/s]"
     ]
    },
    {
     "name": "stdout",
     "output_type": "stream",
     "text": [
      "multilayer_perceptron ran in: 0.0 sec\n",
      "multilayer_perceptron ran in: 0.0 sec\n",
      "multilayer_perceptron ran in: 0.0 sec\n",
      "multilayer_perceptron ran in: 0.015624523162841797 sec\n"
     ]
    },
    {
     "name": "stderr",
     "output_type": "stream",
     "text": [
      "\r",
      " 13%|█▎        | 72/560 [00:02<00:14, 33.94it/s]"
     ]
    },
    {
     "name": "stdout",
     "output_type": "stream",
     "text": [
      "multilayer_perceptron ran in: 0.0 sec\n",
      "multilayer_perceptron ran in: 0.0 sec\n",
      "multilayer_perceptron ran in: 0.0 sec\n"
     ]
    },
    {
     "name": "stderr",
     "output_type": "stream",
     "text": [
      "\r",
      " 14%|█▎        | 76/560 [00:02<00:14, 34.11it/s]"
     ]
    },
    {
     "name": "stdout",
     "output_type": "stream",
     "text": [
      "multilayer_perceptron ran in: 0.0 sec\n",
      "multilayer_perceptron ran in: 0.0 sec\n",
      "multilayer_perceptron ran in: 0.0 sec\n",
      "multilayer_perceptron ran in: 0.0 sec\n",
      "multilayer_perceptron ran in: 0.015648603439331055 sec\n",
      "multilayer_perceptron ran in: 0.0 sec\n",
      "multilayer_perceptron ran in: 0.0 sec\n"
     ]
    },
    {
     "name": "stderr",
     "output_type": "stream",
     "text": [
      " 15%|█▌        | 84/560 [00:02<00:13, 34.15it/s]"
     ]
    },
    {
     "name": "stdout",
     "output_type": "stream",
     "text": [
      "multilayer_perceptron ran in: 0.0 sec\n",
      "multilayer_perceptron ran in: 0.0 sec\n",
      "multilayer_perceptron ran in: 0.0 sec\n",
      "multilayer_perceptron ran in: 0.0 sec\n",
      "multilayer_perceptron ran in: 0.0 sec\n",
      "multilayer_perceptron ran in: 0.0 sec\n",
      "multilayer_perceptron ran in: 0.0 sec\n"
     ]
    },
    {
     "name": "stderr",
     "output_type": "stream",
     "text": [
      "\r",
      " 16%|█▌        | 88/560 [00:02<00:14, 32.94it/s]"
     ]
    },
    {
     "name": "stdout",
     "output_type": "stream",
     "text": [
      "multilayer_perceptron ran in: 0.0 sec\n",
      "multilayer_perceptron ran in: 0.0 sec\n",
      "multilayer_perceptron ran in: 0.0 sec\n",
      "multilayer_perceptron ran in: 0.0 sec\n"
     ]
    },
    {
     "name": "stderr",
     "output_type": "stream",
     "text": [
      "\r",
      " 16%|█▋        | 92/560 [00:02<00:14, 33.39it/s]"
     ]
    },
    {
     "name": "stdout",
     "output_type": "stream",
     "text": [
      "multilayer_perceptron ran in: 0.0 sec\n",
      "multilayer_perceptron ran in: 0.0 sec\n",
      "multilayer_perceptron ran in: 0.0 sec\n"
     ]
    },
    {
     "name": "stderr",
     "output_type": "stream",
     "text": [
      "\r",
      " 17%|█▋        | 96/560 [00:02<00:13, 33.72it/s]"
     ]
    },
    {
     "name": "stdout",
     "output_type": "stream",
     "text": [
      "multilayer_perceptron ran in: 0.0 sec\n",
      "multilayer_perceptron ran in: 0.0 sec\n",
      "multilayer_perceptron ran in: 0.0 sec\n",
      "multilayer_perceptron ran in: 0.0 sec\n",
      "multilayer_perceptron ran in: 0.0 sec\n"
     ]
    },
    {
     "name": "stderr",
     "output_type": "stream",
     "text": [
      "\r",
      " 18%|█▊        | 100/560 [00:02<00:13, 33.95it/s]"
     ]
    },
    {
     "name": "stdout",
     "output_type": "stream",
     "text": [
      "multilayer_perceptron ran in: 0.0 sec\n",
      "multilayer_perceptron ran in: 0.006527900695800781 sec\n",
      "multilayer_perceptron ran in: 0.0 sec\n"
     ]
    },
    {
     "name": "stderr",
     "output_type": "stream",
     "text": [
      "\r",
      " 19%|█▊        | 104/560 [00:03<00:13, 33.58it/s]"
     ]
    },
    {
     "name": "stdout",
     "output_type": "stream",
     "text": [
      "multilayer_perceptron ran in: 0.0 sec\n",
      "multilayer_perceptron ran in: 0.0 sec\n",
      "multilayer_perceptron ran in: 0.0 sec\n",
      "multilayer_perceptron ran in: 0.0 sec\n",
      "multilayer_perceptron ran in: 0.015624046325683594 sec\n"
     ]
    },
    {
     "name": "stderr",
     "output_type": "stream",
     "text": [
      "\r",
      " 19%|█▉        | 108/560 [00:03<00:17, 26.15it/s]"
     ]
    },
    {
     "name": "stdout",
     "output_type": "stream",
     "text": [
      "multilayer_perceptron ran in: 0.0 sec\n",
      "multilayer_perceptron ran in: 0.0 sec\n"
     ]
    },
    {
     "name": "stderr",
     "output_type": "stream",
     "text": [
      "\r",
      " 20%|█▉        | 111/560 [00:03<00:16, 26.98it/s]"
     ]
    },
    {
     "name": "stdout",
     "output_type": "stream",
     "text": [
      "multilayer_perceptron ran in: 0.0 sec\n",
      "multilayer_perceptron ran in: 0.0 sec\n",
      "multilayer_perceptron ran in: 0.0 sec\n",
      "multilayer_perceptron ran in: 0.0 sec\n",
      "multilayer_perceptron ran in: 0.0 sec\n"
     ]
    },
    {
     "name": "stderr",
     "output_type": "stream",
     "text": [
      "\r",
      " 21%|██        | 115/560 [00:03<00:15, 28.98it/s]"
     ]
    },
    {
     "name": "stdout",
     "output_type": "stream",
     "text": [
      "multilayer_perceptron ran in: 0.0 sec\n",
      "multilayer_perceptron ran in: 0.0 sec\n"
     ]
    },
    {
     "name": "stderr",
     "output_type": "stream",
     "text": [
      "\r",
      " 21%|██▏       | 119/560 [00:03<00:14, 30.50it/s]"
     ]
    },
    {
     "name": "stdout",
     "output_type": "stream",
     "text": [
      "multilayer_perceptron ran in: 0.0 sec\n",
      "multilayer_perceptron ran in: 0.0 sec\n",
      "multilayer_perceptron ran in: 0.0 sec\n",
      "multilayer_perceptron ran in: 0.0 sec\n",
      "multilayer_perceptron ran in: 0.0 sec\n",
      "multilayer_perceptron ran in: 0.0 sec\n"
     ]
    },
    {
     "name": "stderr",
     "output_type": "stream",
     "text": [
      "\r",
      " 22%|██▏       | 123/560 [00:03<00:13, 31.63it/s]"
     ]
    },
    {
     "name": "stdout",
     "output_type": "stream",
     "text": [
      "multilayer_perceptron ran in: 0.0 sec\n"
     ]
    },
    {
     "name": "stderr",
     "output_type": "stream",
     "text": [
      "\r",
      " 23%|██▎       | 127/560 [00:03<00:13, 31.94it/s]"
     ]
    },
    {
     "name": "stdout",
     "output_type": "stream",
     "text": [
      "multilayer_perceptron ran in: 0.0 sec\n",
      "multilayer_perceptron ran in: 0.015642881393432617 sec\n",
      "multilayer_perceptron ran in: 0.0 sec\n",
      "multilayer_perceptron ran in: 0.0 sec\n",
      "multilayer_perceptron ran in: 0.0 sec\n",
      "multilayer_perceptron ran in: 0.0 sec\n",
      "multilayer_perceptron ran in: 0.015630245208740234 sec\n"
     ]
    },
    {
     "name": "stderr",
     "output_type": "stream",
     "text": [
      " 24%|██▍       | 135/560 [00:04<00:12, 33.21it/s]"
     ]
    },
    {
     "name": "stdout",
     "output_type": "stream",
     "text": [
      "multilayer_perceptron ran in: 0.0 sec\n",
      "multilayer_perceptron ran in: 0.0 sec\n",
      "multilayer_perceptron ran in: 0.0 sec\n",
      "multilayer_perceptron ran in: 0.0 sec\n",
      "multilayer_perceptron ran in: 0.0 sec\n",
      "multilayer_perceptron ran in: 0.0 sec\n",
      "multilayer_perceptron ran in: 0.0 sec\n"
     ]
    },
    {
     "name": "stderr",
     "output_type": "stream",
     "text": [
      " 26%|██▌       | 143/560 [00:04<00:12, 32.57it/s]"
     ]
    },
    {
     "name": "stdout",
     "output_type": "stream",
     "text": [
      "multilayer_perceptron ran in: 0.0 sec\n",
      "multilayer_perceptron ran in: 0.0 sec\n",
      "multilayer_perceptron ran in: 0.0 sec\n",
      "multilayer_perceptron ran in: 0.0 sec\n",
      "multilayer_perceptron ran in: 0.0 sec\n",
      "multilayer_perceptron ran in: 0.0 sec\n",
      "multilayer_perceptron ran in: 0.0 sec\n"
     ]
    },
    {
     "name": "stderr",
     "output_type": "stream",
     "text": [
      " 27%|██▋       | 151/560 [00:04<00:11, 34.32it/s]"
     ]
    },
    {
     "name": "stdout",
     "output_type": "stream",
     "text": [
      "multilayer_perceptron ran in: 0.0 sec\n",
      "multilayer_perceptron ran in: 0.0 sec\n",
      "multilayer_perceptron ran in: 0.0 sec\n",
      "multilayer_perceptron ran in: 0.0 sec\n",
      "multilayer_perceptron ran in: 0.0 sec\n",
      "multilayer_perceptron ran in: 0.0 sec\n",
      "multilayer_perceptron ran in: 0.015624523162841797 sec\n"
     ]
    },
    {
     "name": "stderr",
     "output_type": "stream",
     "text": [
      "\r",
      " 28%|██▊       | 155/560 [00:04<00:12, 33.04it/s]"
     ]
    },
    {
     "name": "stdout",
     "output_type": "stream",
     "text": [
      "multilayer_perceptron ran in: 0.0 sec\n",
      "multilayer_perceptron ran in: 0.0 sec\n",
      "multilayer_perceptron ran in: 0.0 sec\n",
      "multilayer_perceptron ran in: 0.0 sec\n",
      "multilayer_perceptron ran in: 0.0 sec\n",
      "multilayer_perceptron ran in: 0.0 sec\n"
     ]
    },
    {
     "name": "stderr",
     "output_type": "stream",
     "text": [
      " 29%|██▉       | 163/560 [00:04<00:11, 33.77it/s]"
     ]
    },
    {
     "name": "stdout",
     "output_type": "stream",
     "text": [
      "multilayer_perceptron ran in: 0.00653529167175293 sec\n",
      "multilayer_perceptron ran in: 0.0 sec\n",
      "multilayer_perceptron ran in: 0.015611648559570312 sec\n",
      "multilayer_perceptron ran in: 0.0 sec\n",
      "multilayer_perceptron ran in: 0.0 sec\n",
      "multilayer_perceptron ran in: 0.0 sec\n",
      "multilayer_perceptron ran in: 0.0 sec\n"
     ]
    },
    {
     "name": "stderr",
     "output_type": "stream",
     "text": [
      "\r",
      " 30%|██▉       | 167/560 [00:05<00:11, 33.56it/s]"
     ]
    },
    {
     "name": "stdout",
     "output_type": "stream",
     "text": [
      "multilayer_perceptron ran in: 0.0 sec\n",
      "multilayer_perceptron ran in: 0.0 sec\n",
      "multilayer_perceptron ran in: 0.0 sec\n",
      "multilayer_perceptron ran in: 0.015624284744262695 sec\n",
      "multilayer_perceptron ran in: 0.0 sec\n",
      "multilayer_perceptron ran in: 0.0 sec\n"
     ]
    },
    {
     "name": "stderr",
     "output_type": "stream",
     "text": [
      " 31%|███▏      | 175/560 [00:05<00:11, 33.95it/s]"
     ]
    },
    {
     "name": "stdout",
     "output_type": "stream",
     "text": [
      "multilayer_perceptron ran in: 0.0 sec\n",
      "multilayer_perceptron ran in: 0.0 sec\n",
      "multilayer_perceptron ran in: 0.0 sec\n",
      "multilayer_perceptron ran in: 0.015607357025146484 sec\n",
      "multilayer_perceptron ran in: 0.0 sec\n",
      "multilayer_perceptron ran in: 0.0 sec\n",
      "multilayer_perceptron ran in: 0.0 sec\n"
     ]
    },
    {
     "name": "stderr",
     "output_type": "stream",
     "text": [
      " 33%|███▎      | 183/560 [00:05<00:11, 32.91it/s]"
     ]
    },
    {
     "name": "stdout",
     "output_type": "stream",
     "text": [
      "multilayer_perceptron ran in: 0.0 sec\n",
      "multilayer_perceptron ran in: 0.0 sec\n",
      "multilayer_perceptron ran in: 0.0 sec\n",
      "multilayer_perceptron ran in: 0.0 sec\n",
      "multilayer_perceptron ran in: 0.01565384864807129 sec\n",
      "multilayer_perceptron ran in: 0.0 sec\n",
      "multilayer_perceptron ran in: 0.0 sec\n"
     ]
    },
    {
     "name": "stderr",
     "output_type": "stream",
     "text": [
      " 34%|███▍      | 191/560 [00:05<00:11, 33.16it/s]"
     ]
    },
    {
     "name": "stdout",
     "output_type": "stream",
     "text": [
      "multilayer_perceptron ran in: 0.0 sec\n",
      "multilayer_perceptron ran in: 0.0 sec\n",
      "multilayer_perceptron ran in: 0.0 sec\n",
      "multilayer_perceptron ran in: 0.0 sec\n",
      "multilayer_perceptron ran in: 0.0 sec\n",
      "multilayer_perceptron ran in: 0.0 sec\n",
      "multilayer_perceptron ran in: 0.0 sec\n"
     ]
    },
    {
     "name": "stderr",
     "output_type": "stream",
     "text": [
      "\r",
      " 35%|███▍      | 195/560 [00:05<00:10, 33.55it/s]"
     ]
    },
    {
     "name": "stdout",
     "output_type": "stream",
     "text": [
      "multilayer_perceptron ran in: 0.0 sec\n",
      "multilayer_perceptron ran in: 0.0 sec\n",
      "multilayer_perceptron ran in: 0.0 sec\n",
      "multilayer_perceptron ran in: 0.0 sec\n",
      "multilayer_perceptron ran in: 0.015628814697265625 sec\n",
      "multilayer_perceptron ran in: 0.015628576278686523 sec\n",
      "multilayer_perceptron ran in: 0.0 sec\n"
     ]
    },
    {
     "name": "stderr",
     "output_type": "stream",
     "text": [
      " 36%|███▋      | 203/560 [00:06<00:10, 34.03it/s]"
     ]
    },
    {
     "name": "stdout",
     "output_type": "stream",
     "text": [
      "multilayer_perceptron ran in: 0.0 sec\n",
      "multilayer_perceptron ran in: 0.0 sec\n",
      "multilayer_perceptron ran in: 0.0 sec\n",
      "multilayer_perceptron ran in: 0.0 sec\n",
      "multilayer_perceptron ran in: 0.0 sec\n",
      "multilayer_perceptron ran in: 0.0 sec\n",
      "multilayer_perceptron ran in: 0.006510496139526367 sec\n"
     ]
    },
    {
     "name": "stderr",
     "output_type": "stream",
     "text": [
      " 38%|███▊      | 211/560 [00:06<00:10, 33.34it/s]"
     ]
    },
    {
     "name": "stdout",
     "output_type": "stream",
     "text": [
      "multilayer_perceptron ran in: 0.0 sec\n",
      "multilayer_perceptron ran in: 0.0 sec\n",
      "multilayer_perceptron ran in: 0.0 sec\n",
      "multilayer_perceptron ran in: 0.0 sec\n",
      "multilayer_perceptron ran in: 0.0 sec\n",
      "multilayer_perceptron ran in: 0.015624523162841797 sec\n"
     ]
    },
    {
     "name": "stderr",
     "output_type": "stream",
     "text": [
      "\r",
      " 38%|███▊      | 215/560 [00:06<00:10, 33.13it/s]"
     ]
    },
    {
     "name": "stdout",
     "output_type": "stream",
     "text": [
      "multilayer_perceptron ran in: 0.0 sec\n",
      "multilayer_perceptron ran in: 0.0 sec\n",
      "multilayer_perceptron ran in: 0.0 sec\n",
      "multilayer_perceptron ran in: 0.0 sec\n",
      "multilayer_perceptron ran in: 0.0 sec\n",
      "multilayer_perceptron ran in: 0.0 sec\n",
      "multilayer_perceptron ran in: 0.0 sec\n",
      "multilayer_perceptron ran in: 0.0 sec\n"
     ]
    },
    {
     "name": "stderr",
     "output_type": "stream",
     "text": [
      " 40%|███▉      | 223/560 [00:06<00:09, 33.82it/s]"
     ]
    },
    {
     "name": "stdout",
     "output_type": "stream",
     "text": [
      "multilayer_perceptron ran in: 0.0 sec\n",
      "multilayer_perceptron ran in: 0.0 sec\n",
      "multilayer_perceptron ran in: 0.0 sec\n",
      "multilayer_perceptron ran in: 0.0 sec\n",
      "multilayer_perceptron ran in: 0.0 sec\n",
      "multilayer_perceptron ran in: 0.0 sec\n",
      "multilayer_perceptron ran in: 0.0 sec\n"
     ]
    },
    {
     "name": "stderr",
     "output_type": "stream",
     "text": [
      " 41%|████▏     | 231/560 [00:07<00:09, 34.17it/s]"
     ]
    },
    {
     "name": "stdout",
     "output_type": "stream",
     "text": [
      "multilayer_perceptron ran in: 0.0 sec\n",
      "multilayer_perceptron ran in: 0.0 sec\n",
      "multilayer_perceptron ran in: 0.0 sec\n",
      "multilayer_perceptron ran in: 0.0 sec\n",
      "multilayer_perceptron ran in: 0.0 sec\n",
      "multilayer_perceptron ran in: 0.006524324417114258 sec\n",
      "multilayer_perceptron ran in: 0.0 sec\n",
      "multilayer_perceptron ran in: 0.0 sec\n"
     ]
    },
    {
     "name": "stderr",
     "output_type": "stream",
     "text": [
      " 43%|████▎     | 239/560 [00:07<00:09, 33.95it/s]"
     ]
    },
    {
     "name": "stdout",
     "output_type": "stream",
     "text": [
      "multilayer_perceptron ran in: 0.0 sec\n",
      "multilayer_perceptron ran in: 0.0 sec\n",
      "multilayer_perceptron ran in: 0.0 sec\n",
      "multilayer_perceptron ran in: 0.01564168930053711 sec\n",
      "multilayer_perceptron ran in: 0.0 sec\n",
      "multilayer_perceptron ran in: 0.0 sec\n",
      "multilayer_perceptron ran in: 0.0 sec\n"
     ]
    },
    {
     "name": "stderr",
     "output_type": "stream",
     "text": [
      " 44%|████▍     | 247/560 [00:07<00:09, 33.30it/s]"
     ]
    },
    {
     "name": "stdout",
     "output_type": "stream",
     "text": [
      "multilayer_perceptron ran in: 0.0 sec\n",
      "multilayer_perceptron ran in: 0.0 sec\n",
      "multilayer_perceptron ran in: 0.0 sec\n",
      "multilayer_perceptron ran in: 0.0 sec\n",
      "multilayer_perceptron ran in: 0.0 sec\n",
      "multilayer_perceptron ran in: 0.0 sec\n",
      "multilayer_perceptron ran in: 0.0 sec\n"
     ]
    },
    {
     "name": "stderr",
     "output_type": "stream",
     "text": [
      "\r",
      " 45%|████▍     | 251/560 [00:07<00:09, 33.66it/s]"
     ]
    },
    {
     "name": "stdout",
     "output_type": "stream",
     "text": [
      "multilayer_perceptron ran in: 0.0 sec\n",
      "multilayer_perceptron ran in: 0.0 sec\n",
      "multilayer_perceptron ran in: 0.0 sec\n",
      "multilayer_perceptron ran in: 0.0 sec\n",
      "multilayer_perceptron ran in: 0.0 sec\n",
      "multilayer_perceptron ran in: 0.0 sec\n",
      "multilayer_perceptron ran in: 0.0 sec\n"
     ]
    },
    {
     "name": "stderr",
     "output_type": "stream",
     "text": [
      " 46%|████▋     | 259/560 [00:07<00:08, 33.69it/s]"
     ]
    },
    {
     "name": "stdout",
     "output_type": "stream",
     "text": [
      "multilayer_perceptron ran in: 0.0 sec\n",
      "multilayer_perceptron ran in: 0.0 sec\n",
      "multilayer_perceptron ran in: 0.0 sec\n",
      "multilayer_perceptron ran in: 0.0 sec\n",
      "multilayer_perceptron ran in: 0.0 sec\n",
      "multilayer_perceptron ran in: 0.0 sec\n",
      "multilayer_perceptron ran in: 0.0 sec\n"
     ]
    },
    {
     "name": "stderr",
     "output_type": "stream",
     "text": [
      " 48%|████▊     | 267/560 [00:08<00:08, 34.11it/s]"
     ]
    },
    {
     "name": "stdout",
     "output_type": "stream",
     "text": [
      "multilayer_perceptron ran in: 0.0 sec\n",
      "multilayer_perceptron ran in: 0.0 sec\n",
      "multilayer_perceptron ran in: 0.015629053115844727 sec\n",
      "multilayer_perceptron ran in: 0.0 sec\n",
      "multilayer_perceptron ran in: 0.0 sec\n",
      "multilayer_perceptron ran in: 0.0 sec\n",
      "multilayer_perceptron ran in: 0.0 sec\n"
     ]
    },
    {
     "name": "stderr",
     "output_type": "stream",
     "text": [
      " 49%|████▉     | 275/560 [00:08<00:08, 34.31it/s]"
     ]
    },
    {
     "name": "stdout",
     "output_type": "stream",
     "text": [
      "multilayer_perceptron ran in: 0.0 sec\n",
      "multilayer_perceptron ran in: 0.0 sec\n",
      "multilayer_perceptron ran in: 0.0 sec\n",
      "multilayer_perceptron ran in: 0.0 sec\n",
      "multilayer_perceptron ran in: 0.0 sec\n",
      "multilayer_perceptron ran in: 0.0 sec\n"
     ]
    },
    {
     "name": "stderr",
     "output_type": "stream",
     "text": [
      "\r",
      " 50%|████▉     | 279/560 [00:08<00:08, 33.80it/s]"
     ]
    },
    {
     "name": "stdout",
     "output_type": "stream",
     "text": [
      "multilayer_perceptron ran in: 0.0 sec\n",
      "multilayer_perceptron ran in: 0.0 sec\n",
      "multilayer_perceptron ran in: 0.015611886978149414 sec\n",
      "multilayer_perceptron ran in: 0.0 sec\n",
      "multilayer_perceptron ran in: 0.0 sec\n",
      "multilayer_perceptron ran in: 0.0 sec\n",
      "multilayer_perceptron ran in: 0.0 sec\n"
     ]
    },
    {
     "name": "stderr",
     "output_type": "stream",
     "text": [
      " 51%|█████▏    | 287/560 [00:08<00:08, 33.23it/s]"
     ]
    },
    {
     "name": "stdout",
     "output_type": "stream",
     "text": [
      "multilayer_perceptron ran in: 0.0 sec\n",
      "multilayer_perceptron ran in: 0.0 sec\n",
      "multilayer_perceptron ran in: 0.0 sec\n",
      "multilayer_perceptron ran in: 0.0 sec\n",
      "multilayer_perceptron ran in: 0.0 sec\n",
      "multilayer_perceptron ran in: 0.0 sec\n",
      "multilayer_perceptron ran in: 0.0 sec\n"
     ]
    },
    {
     "name": "stderr",
     "output_type": "stream",
     "text": [
      " 53%|█████▎    | 295/560 [00:08<00:07, 33.87it/s]"
     ]
    },
    {
     "name": "stdout",
     "output_type": "stream",
     "text": [
      "multilayer_perceptron ran in: 0.0 sec\n",
      "multilayer_perceptron ran in: 0.0 sec\n",
      "multilayer_perceptron ran in: 0.015631437301635742 sec\n",
      "multilayer_perceptron ran in: 0.0 sec\n",
      "multilayer_perceptron ran in: 0.0 sec\n",
      "multilayer_perceptron ran in: 0.0 sec\n",
      "multilayer_perceptron ran in: 0.0 sec\n",
      "multilayer_perceptron ran in: 0.0 sec\n"
     ]
    },
    {
     "name": "stderr",
     "output_type": "stream",
     "text": [
      " 54%|█████▍    | 303/560 [00:09<00:07, 33.81it/s]"
     ]
    },
    {
     "name": "stdout",
     "output_type": "stream",
     "text": [
      "multilayer_perceptron ran in: 0.0 sec\n",
      "multilayer_perceptron ran in: 0.0 sec\n",
      "multilayer_perceptron ran in: 0.0 sec\n",
      "multilayer_perceptron ran in: 0.0 sec\n",
      "multilayer_perceptron ran in: 0.0 sec\n",
      "multilayer_perceptron ran in: 0.0 sec\n",
      "multilayer_perceptron ran in: 0.0 sec\n"
     ]
    },
    {
     "name": "stderr",
     "output_type": "stream",
     "text": [
      " 56%|█████▌    | 311/560 [00:09<00:07, 34.17it/s]"
     ]
    },
    {
     "name": "stdout",
     "output_type": "stream",
     "text": [
      "multilayer_perceptron ran in: 0.0 sec\n",
      "multilayer_perceptron ran in: 0.0 sec\n",
      "multilayer_perceptron ran in: 0.0 sec\n",
      "multilayer_perceptron ran in: 0.0 sec\n",
      "multilayer_perceptron ran in: 0.0 sec\n",
      "multilayer_perceptron ran in: 0.0 sec\n",
      "multilayer_perceptron ran in: 0.0 sec\n"
     ]
    },
    {
     "name": "stderr",
     "output_type": "stream",
     "text": [
      "\r",
      " 56%|█████▋    | 315/560 [00:09<00:07, 32.95it/s]"
     ]
    },
    {
     "name": "stdout",
     "output_type": "stream",
     "text": [
      "multilayer_perceptron ran in: 0.0 sec\n",
      "multilayer_perceptron ran in: 0.006510019302368164 sec\n",
      "multilayer_perceptron ran in: 0.0 sec\n",
      "multilayer_perceptron ran in: 0.0 sec\n",
      "multilayer_perceptron ran in: 0.0 sec\n",
      "multilayer_perceptron ran in: 0.0 sec\n"
     ]
    },
    {
     "name": "stderr",
     "output_type": "stream",
     "text": [
      " 58%|█████▊    | 323/560 [00:09<00:07, 33.18it/s]"
     ]
    },
    {
     "name": "stdout",
     "output_type": "stream",
     "text": [
      "multilayer_perceptron ran in: 0.015620708465576172 sec\n",
      "multilayer_perceptron ran in: 0.0 sec\n",
      "multilayer_perceptron ran in: 0.0 sec\n",
      "multilayer_perceptron ran in: 0.0 sec\n",
      "multilayer_perceptron ran in: 0.0 sec\n",
      "multilayer_perceptron ran in: 0.0 sec\n",
      "multilayer_perceptron ran in: 0.0 sec\n"
     ]
    },
    {
     "name": "stderr",
     "output_type": "stream",
     "text": [
      "\r",
      " 58%|█████▊    | 327/560 [00:09<00:06, 33.57it/s]"
     ]
    },
    {
     "name": "stdout",
     "output_type": "stream",
     "text": [
      "multilayer_perceptron ran in: 0.0 sec\n",
      "multilayer_perceptron ran in: 0.0 sec\n",
      "multilayer_perceptron ran in: 0.0 sec\n",
      "multilayer_perceptron ran in: 0.0 sec\n",
      "multilayer_perceptron ran in: 0.0 sec\n",
      "multilayer_perceptron ran in: 0.0 sec\n"
     ]
    },
    {
     "name": "stderr",
     "output_type": "stream",
     "text": [
      " 60%|█████▉    | 335/560 [00:10<00:06, 34.04it/s]"
     ]
    },
    {
     "name": "stdout",
     "output_type": "stream",
     "text": [
      "multilayer_perceptron ran in: 0.015624284744262695 sec\n",
      "multilayer_perceptron ran in: 0.0 sec\n",
      "multilayer_perceptron ran in: 0.01562643051147461 sec\n",
      "multilayer_perceptron ran in: 0.0 sec\n",
      "multilayer_perceptron ran in: 0.0 sec\n",
      "multilayer_perceptron ran in: 0.0 sec\n",
      "multilayer_perceptron ran in: 0.0 sec\n",
      "multilayer_perceptron ran in: 0.0 sec\n"
     ]
    },
    {
     "name": "stderr",
     "output_type": "stream",
     "text": [
      " 61%|██████▏   | 343/560 [00:10<00:06, 33.71it/s]"
     ]
    },
    {
     "name": "stdout",
     "output_type": "stream",
     "text": [
      "multilayer_perceptron ran in: 0.0 sec\n",
      "multilayer_perceptron ran in: 0.0 sec\n",
      "multilayer_perceptron ran in: 0.015625953674316406 sec\n",
      "multilayer_perceptron ran in: 0.0 sec\n",
      "multilayer_perceptron ran in: 0.0 sec\n",
      "multilayer_perceptron ran in: 0.0 sec\n",
      "multilayer_perceptron ran in: 0.0 sec\n"
     ]
    },
    {
     "name": "stderr",
     "output_type": "stream",
     "text": [
      " 63%|██████▎   | 351/560 [00:10<00:06, 34.11it/s]"
     ]
    },
    {
     "name": "stdout",
     "output_type": "stream",
     "text": [
      "multilayer_perceptron ran in: 0.0156252384185791 sec\n",
      "multilayer_perceptron ran in: 0.0 sec\n",
      "multilayer_perceptron ran in: 0.0 sec\n",
      "multilayer_perceptron ran in: 0.0 sec\n",
      "multilayer_perceptron ran in: 0.0 sec\n",
      "multilayer_perceptron ran in: 0.0 sec\n",
      "multilayer_perceptron ran in: 0.0 sec\n"
     ]
    },
    {
     "name": "stderr",
     "output_type": "stream",
     "text": [
      "\r",
      " 63%|██████▎   | 355/560 [00:10<00:06, 32.91it/s]"
     ]
    },
    {
     "name": "stdout",
     "output_type": "stream",
     "text": [
      "multilayer_perceptron ran in: 0.0 sec\n",
      "multilayer_perceptron ran in: 0.015650272369384766 sec\n",
      "multilayer_perceptron ran in: 0.0 sec\n",
      "multilayer_perceptron ran in: 0.0 sec\n",
      "multilayer_perceptron ran in: 0.0 sec\n",
      "multilayer_perceptron ran in: 0.0 sec\n",
      "multilayer_perceptron ran in: 0.015628576278686523 sec\n"
     ]
    },
    {
     "name": "stderr",
     "output_type": "stream",
     "text": [
      " 65%|██████▍   | 363/560 [00:10<00:05, 33.16it/s]"
     ]
    },
    {
     "name": "stdout",
     "output_type": "stream",
     "text": [
      "multilayer_perceptron ran in: 0.015642166137695312 sec\n",
      "multilayer_perceptron ran in: 0.0 sec\n",
      "multilayer_perceptron ran in: 0.0 sec\n",
      "multilayer_perceptron ran in: 0.0 sec\n",
      "multilayer_perceptron ran in: 0.0 sec\n",
      "multilayer_perceptron ran in: 0.0 sec\n",
      "multilayer_perceptron ran in: 0.0 sec\n"
     ]
    },
    {
     "name": "stderr",
     "output_type": "stream",
     "text": [
      " 66%|██████▋   | 371/560 [00:11<00:05, 33.84it/s]"
     ]
    },
    {
     "name": "stdout",
     "output_type": "stream",
     "text": [
      "multilayer_perceptron ran in: 0.0 sec\n",
      "multilayer_perceptron ran in: 0.0156252384185791 sec\n",
      "multilayer_perceptron ran in: 0.0 sec\n",
      "multilayer_perceptron ran in: 0.0 sec\n",
      "multilayer_perceptron ran in: 0.0 sec\n",
      "multilayer_perceptron ran in: 0.0 sec\n",
      "multilayer_perceptron ran in: 0.0 sec\n"
     ]
    },
    {
     "name": "stderr",
     "output_type": "stream",
     "text": [
      " 68%|██████▊   | 379/560 [00:11<00:05, 34.18it/s]"
     ]
    },
    {
     "name": "stdout",
     "output_type": "stream",
     "text": [
      "multilayer_perceptron ran in: 0.0 sec\n",
      "multilayer_perceptron ran in: 0.0 sec\n",
      "multilayer_perceptron ran in: 0.0 sec\n",
      "multilayer_perceptron ran in: 0.0 sec\n",
      "multilayer_perceptron ran in: 0.0 sec\n",
      "multilayer_perceptron ran in: 0.0 sec\n",
      "multilayer_perceptron ran in: 0.0 sec\n"
     ]
    },
    {
     "name": "stderr",
     "output_type": "stream",
     "text": [
      " 69%|██████▉   | 387/560 [00:11<00:05, 34.19it/s]"
     ]
    },
    {
     "name": "stdout",
     "output_type": "stream",
     "text": [
      "multilayer_perceptron ran in: 0.015651464462280273 sec\n",
      "multilayer_perceptron ran in: 0.0 sec\n",
      "multilayer_perceptron ran in: 0.0 sec\n",
      "multilayer_perceptron ran in: 0.0 sec\n",
      "multilayer_perceptron ran in: 0.0 sec\n",
      "multilayer_perceptron ran in: 0.015637874603271484 sec\n",
      "multilayer_perceptron ran in: 0.0 sec\n"
     ]
    },
    {
     "name": "stderr",
     "output_type": "stream",
     "text": [
      "\r",
      " 70%|██████▉   | 391/560 [00:11<00:05, 32.97it/s]"
     ]
    },
    {
     "name": "stdout",
     "output_type": "stream",
     "text": [
      "multilayer_perceptron ran in: 0.0 sec\n",
      "multilayer_perceptron ran in: 0.015625715255737305 sec\n",
      "multilayer_perceptron ran in: 0.0 sec\n",
      "multilayer_perceptron ran in: 0.0 sec\n",
      "multilayer_perceptron ran in: 0.0 sec\n",
      "multilayer_perceptron ran in: 0.0 sec\n",
      "multilayer_perceptron ran in: 0.0 sec\n"
     ]
    },
    {
     "name": "stderr",
     "output_type": "stream",
     "text": [
      " 71%|███████▏  | 399/560 [00:12<00:04, 33.73it/s]"
     ]
    },
    {
     "name": "stdout",
     "output_type": "stream",
     "text": [
      "multilayer_perceptron ran in: 0.0 sec\n",
      "multilayer_perceptron ran in: 0.0 sec\n",
      "multilayer_perceptron ran in: 0.0 sec\n",
      "multilayer_perceptron ran in: 0.0 sec\n",
      "multilayer_perceptron ran in: 0.0 sec\n",
      "multilayer_perceptron ran in: 0.015610694885253906 sec\n",
      "multilayer_perceptron ran in: 0.0 sec\n"
     ]
    },
    {
     "name": "stderr",
     "output_type": "stream",
     "text": [
      " 73%|███████▎  | 407/560 [00:12<00:04, 33.56it/s]"
     ]
    },
    {
     "name": "stdout",
     "output_type": "stream",
     "text": [
      "multilayer_perceptron ran in: 0.0 sec\n",
      "multilayer_perceptron ran in: 0.0 sec\n",
      "multilayer_perceptron ran in: 0.0 sec\n",
      "multilayer_perceptron ran in: 0.0 sec\n",
      "multilayer_perceptron ran in: 0.0 sec\n",
      "multilayer_perceptron ran in: 0.0 sec\n",
      "multilayer_perceptron ran in: 0.015649080276489258 sec\n"
     ]
    },
    {
     "name": "stderr",
     "output_type": "stream",
     "text": [
      " 74%|███████▍  | 415/560 [00:12<00:04, 34.04it/s]"
     ]
    },
    {
     "name": "stdout",
     "output_type": "stream",
     "text": [
      "multilayer_perceptron ran in: 0.0 sec\n",
      "multilayer_perceptron ran in: 0.0 sec\n",
      "multilayer_perceptron ran in: 0.0 sec\n",
      "multilayer_perceptron ran in: 0.0 sec\n",
      "multilayer_perceptron ran in: 0.0 sec\n",
      "multilayer_perceptron ran in: 0.0 sec\n",
      "multilayer_perceptron ran in: 0.0 sec\n"
     ]
    },
    {
     "name": "stderr",
     "output_type": "stream",
     "text": [
      "\r",
      " 75%|███████▍  | 419/560 [00:12<00:04, 32.86it/s]"
     ]
    },
    {
     "name": "stdout",
     "output_type": "stream",
     "text": [
      "multilayer_perceptron ran in: 0.0 sec\n",
      "multilayer_perceptron ran in: 0.0 sec\n",
      "multilayer_perceptron ran in: 0.0 sec\n",
      "multilayer_perceptron ran in: 0.0 sec\n",
      "multilayer_perceptron ran in: 0.0 sec\n",
      "multilayer_perceptron ran in: 0.0 sec\n",
      "multilayer_perceptron ran in: 0.0 sec\n"
     ]
    },
    {
     "name": "stderr",
     "output_type": "stream",
     "text": [
      " 76%|███████▋  | 427/560 [00:12<00:03, 33.68it/s]"
     ]
    },
    {
     "name": "stdout",
     "output_type": "stream",
     "text": [
      "multilayer_perceptron ran in: 0.0 sec\n",
      "multilayer_perceptron ran in: 0.0 sec\n",
      "multilayer_perceptron ran in: 0.0 sec\n",
      "multilayer_perceptron ran in: 0.0 sec\n",
      "multilayer_perceptron ran in: 0.0 sec\n",
      "multilayer_perceptron ran in: 0.0 sec\n",
      "multilayer_perceptron ran in: 0.0 sec\n"
     ]
    },
    {
     "name": "stderr",
     "output_type": "stream",
     "text": [
      " 78%|███████▊  | 435/560 [00:13<00:03, 34.68it/s]"
     ]
    },
    {
     "name": "stdout",
     "output_type": "stream",
     "text": [
      "multilayer_perceptron ran in: 0.015623331069946289 sec\n",
      "multilayer_perceptron ran in: 0.0 sec\n",
      "multilayer_perceptron ran in: 0.0 sec\n",
      "multilayer_perceptron ran in: 0.0 sec\n",
      "multilayer_perceptron ran in: 0.0 sec\n",
      "multilayer_perceptron ran in: 0.0 sec\n",
      "multilayer_perceptron ran in: 0.0 sec\n"
     ]
    },
    {
     "name": "stderr",
     "output_type": "stream",
     "text": [
      " 79%|███████▉  | 443/560 [00:13<00:03, 33.64it/s]"
     ]
    },
    {
     "name": "stdout",
     "output_type": "stream",
     "text": [
      "multilayer_perceptron ran in: 0.0 sec\n",
      "multilayer_perceptron ran in: 0.0 sec\n",
      "multilayer_perceptron ran in: 0.0 sec\n",
      "multilayer_perceptron ran in: 0.0 sec\n",
      "multilayer_perceptron ran in: 0.0 sec\n",
      "multilayer_perceptron ran in: 0.0 sec\n",
      "multilayer_perceptron ran in: 0.0 sec\n"
     ]
    },
    {
     "name": "stderr",
     "output_type": "stream",
     "text": [
      "\r",
      " 80%|███████▉  | 447/560 [00:13<00:03, 33.90it/s]"
     ]
    },
    {
     "name": "stdout",
     "output_type": "stream",
     "text": [
      "multilayer_perceptron ran in: 0.0 sec\n",
      "multilayer_perceptron ran in: 0.0 sec\n",
      "multilayer_perceptron ran in: 0.0 sec\n",
      "multilayer_perceptron ran in: 0.0 sec\n",
      "multilayer_perceptron ran in: 0.0 sec\n",
      "multilayer_perceptron ran in: 0.0 sec\n",
      "multilayer_perceptron ran in: 0.0 sec\n"
     ]
    },
    {
     "name": "stderr",
     "output_type": "stream",
     "text": [
      " 81%|████████▏ | 455/560 [00:13<00:03, 33.81it/s]"
     ]
    },
    {
     "name": "stdout",
     "output_type": "stream",
     "text": [
      "multilayer_perceptron ran in: 0.0 sec\n",
      "multilayer_perceptron ran in: 0.0 sec\n",
      "multilayer_perceptron ran in: 0.0 sec\n",
      "multilayer_perceptron ran in: 0.0 sec\n",
      "multilayer_perceptron ran in: 0.006510734558105469 sec\n",
      "multilayer_perceptron ran in: 0.0 sec\n",
      "multilayer_perceptron ran in: 0.015636444091796875 sec\n"
     ]
    },
    {
     "name": "stderr",
     "output_type": "stream",
     "text": [
      " 83%|████████▎ | 463/560 [00:13<00:02, 34.16it/s]"
     ]
    },
    {
     "name": "stdout",
     "output_type": "stream",
     "text": [
      "multilayer_perceptron ran in: 0.015608549118041992 sec\n",
      "multilayer_perceptron ran in: 0.0 sec\n",
      "multilayer_perceptron ran in: 0.0 sec\n",
      "multilayer_perceptron ran in: 0.0 sec\n",
      "multilayer_perceptron ran in: 0.0 sec\n",
      "multilayer_perceptron ran in: 0.0 sec\n",
      "multilayer_perceptron ran in: 0.0 sec\n"
     ]
    },
    {
     "name": "stderr",
     "output_type": "stream",
     "text": [
      "\r",
      " 83%|████████▎ | 467/560 [00:14<00:02, 32.94it/s]"
     ]
    },
    {
     "name": "stdout",
     "output_type": "stream",
     "text": [
      "multilayer_perceptron ran in: 0.006537437438964844 sec\n",
      "multilayer_perceptron ran in: 0.0 sec\n",
      "multilayer_perceptron ran in: 0.0 sec\n",
      "multilayer_perceptron ran in: 0.0 sec\n",
      "multilayer_perceptron ran in: 0.0 sec\n",
      "multilayer_perceptron ran in: 0.015626907348632812 sec\n",
      "multilayer_perceptron ran in: 0.0 sec\n"
     ]
    },
    {
     "name": "stderr",
     "output_type": "stream",
     "text": [
      " 85%|████████▍ | 475/560 [00:14<00:02, 34.52it/s]"
     ]
    },
    {
     "name": "stdout",
     "output_type": "stream",
     "text": [
      "multilayer_perceptron ran in: 0.0 sec\n",
      "multilayer_perceptron ran in: 0.0 sec\n",
      "multilayer_perceptron ran in: 0.0 sec\n",
      "multilayer_perceptron ran in: 0.015644311904907227 sec\n",
      "multilayer_perceptron ran in: 0.0 sec\n",
      "multilayer_perceptron ran in: 0.0 sec\n",
      "multilayer_perceptron ran in: 0.0 sec\n"
     ]
    },
    {
     "name": "stderr",
     "output_type": "stream",
     "text": [
      " 86%|████████▋ | 483/560 [00:14<00:02, 33.56it/s]"
     ]
    },
    {
     "name": "stdout",
     "output_type": "stream",
     "text": [
      "multilayer_perceptron ran in: 0.0 sec\n",
      "multilayer_perceptron ran in: 0.0 sec\n",
      "multilayer_perceptron ran in: 0.0 sec\n",
      "multilayer_perceptron ran in: 0.0 sec\n",
      "multilayer_perceptron ran in: 0.0 sec\n",
      "multilayer_perceptron ran in: 0.0 sec\n",
      "multilayer_perceptron ran in: 0.0 sec\n",
      "multilayer_perceptron ran in: 0.0 sec\n"
     ]
    },
    {
     "name": "stderr",
     "output_type": "stream",
     "text": [
      " 88%|████████▊ | 491/560 [00:14<00:02, 34.04it/s]"
     ]
    },
    {
     "name": "stdout",
     "output_type": "stream",
     "text": [
      "multilayer_perceptron ran in: 0.0 sec\n",
      "multilayer_perceptron ran in: 0.0 sec\n",
      "multilayer_perceptron ran in: 0.0 sec\n",
      "multilayer_perceptron ran in: 0.0 sec\n",
      "multilayer_perceptron ran in: 0.0 sec\n",
      "multilayer_perceptron ran in: 0.0 sec\n",
      "multilayer_perceptron ran in: 0.0 sec\n"
     ]
    },
    {
     "name": "stderr",
     "output_type": "stream",
     "text": [
      " 89%|████████▉ | 499/560 [00:14<00:01, 35.10it/s]"
     ]
    },
    {
     "name": "stdout",
     "output_type": "stream",
     "text": [
      "multilayer_perceptron ran in: 0.0 sec\n",
      "multilayer_perceptron ran in: 0.0 sec\n",
      "multilayer_perceptron ran in: 0.0 sec\n",
      "multilayer_perceptron ran in: 0.0 sec\n",
      "multilayer_perceptron ran in: 0.0 sec\n",
      "multilayer_perceptron ran in: 0.0 sec\n",
      "multilayer_perceptron ran in: 0.0 sec\n"
     ]
    },
    {
     "name": "stderr",
     "output_type": "stream",
     "text": [
      " 91%|█████████ | 507/560 [00:15<00:01, 33.84it/s]"
     ]
    },
    {
     "name": "stdout",
     "output_type": "stream",
     "text": [
      "multilayer_perceptron ran in: 0.0 sec\n",
      "multilayer_perceptron ran in: 0.0 sec\n",
      "multilayer_perceptron ran in: 0.0 sec\n",
      "multilayer_perceptron ran in: 0.0 sec\n",
      "multilayer_perceptron ran in: 0.0 sec\n",
      "multilayer_perceptron ran in: 0.0 sec\n",
      "multilayer_perceptron ran in: 0.0 sec\n"
     ]
    },
    {
     "name": "stderr",
     "output_type": "stream",
     "text": [
      "\r",
      " 91%|█████████▏| 511/560 [00:15<00:01, 33.29it/s]"
     ]
    },
    {
     "name": "stdout",
     "output_type": "stream",
     "text": [
      "multilayer_perceptron ran in: 0.0 sec\n",
      "multilayer_perceptron ran in: 0.0020017623901367188 sec\n",
      "multilayer_perceptron ran in: 0.0 sec\n",
      "multilayer_perceptron ran in: 0.0 sec\n",
      "multilayer_perceptron ran in: 0.0 sec\n",
      "multilayer_perceptron ran in: 0.0 sec\n"
     ]
    },
    {
     "name": "stderr",
     "output_type": "stream",
     "text": [
      " 93%|█████████▎| 519/560 [00:15<00:01, 33.16it/s]"
     ]
    },
    {
     "name": "stdout",
     "output_type": "stream",
     "text": [
      "multilayer_perceptron ran in: 0.0 sec\n",
      "multilayer_perceptron ran in: 0.0 sec\n",
      "multilayer_perceptron ran in: 0.0 sec\n",
      "multilayer_perceptron ran in: 0.0 sec\n",
      "multilayer_perceptron ran in: 0.0 sec\n",
      "multilayer_perceptron ran in: 0.0 sec\n",
      "multilayer_perceptron ran in: 0.0 sec\n"
     ]
    },
    {
     "name": "stderr",
     "output_type": "stream",
     "text": [
      "\r",
      " 93%|█████████▎| 523/560 [00:15<00:01, 33.56it/s]"
     ]
    },
    {
     "name": "stdout",
     "output_type": "stream",
     "text": [
      "multilayer_perceptron ran in: 0.0 sec\n",
      "multilayer_perceptron ran in: 0.0 sec\n",
      "multilayer_perceptron ran in: 0.0 sec\n",
      "multilayer_perceptron ran in: 0.0 sec\n",
      "multilayer_perceptron ran in: 0.0 sec\n",
      "multilayer_perceptron ran in: 0.0 sec\n",
      "multilayer_perceptron ran in: 0.0 sec\n"
     ]
    },
    {
     "name": "stderr",
     "output_type": "stream",
     "text": [
      " 95%|█████████▍| 531/560 [00:15<00:00, 33.11it/s]"
     ]
    },
    {
     "name": "stdout",
     "output_type": "stream",
     "text": [
      "multilayer_perceptron ran in: 0.0 sec\n",
      "multilayer_perceptron ran in: 0.0 sec\n",
      "multilayer_perceptron ran in: 0.0 sec\n",
      "multilayer_perceptron ran in: 0.0 sec\n",
      "multilayer_perceptron ran in: 0.0 sec\n",
      "multilayer_perceptron ran in: 0.0 sec\n",
      "multilayer_perceptron ran in: 0.0 sec\n"
     ]
    },
    {
     "name": "stderr",
     "output_type": "stream",
     "text": [
      " 96%|█████████▋| 539/560 [00:16<00:00, 33.43it/s]"
     ]
    },
    {
     "name": "stdout",
     "output_type": "stream",
     "text": [
      "multilayer_perceptron ran in: 0.0 sec\n",
      "multilayer_perceptron ran in: 0.0 sec\n",
      "multilayer_perceptron ran in: 0.0 sec\n",
      "multilayer_perceptron ran in: 0.0 sec\n",
      "multilayer_perceptron ran in: 0.0 sec\n",
      "multilayer_perceptron ran in: 0.0 sec\n",
      "multilayer_perceptron ran in: 0.015628337860107422 sec\n",
      "multilayer_perceptron ran in: 0.0 sec\n"
     ]
    },
    {
     "name": "stderr",
     "output_type": "stream",
     "text": [
      " 98%|█████████▊| 547/560 [00:16<00:00, 33.97it/s]"
     ]
    },
    {
     "name": "stdout",
     "output_type": "stream",
     "text": [
      "multilayer_perceptron ran in: 0.0 sec\n",
      "multilayer_perceptron ran in: 0.0 sec\n",
      "multilayer_perceptron ran in: 0.0 sec\n",
      "multilayer_perceptron ran in: 0.0 sec\n",
      "multilayer_perceptron ran in: 0.0 sec\n",
      "multilayer_perceptron ran in: 0.0 sec\n",
      "multilayer_perceptron ran in: 0.0065135955810546875 sec\n",
      "multilayer_perceptron ran in: 0.0 sec\n"
     ]
    },
    {
     "name": "stderr",
     "output_type": "stream",
     "text": [
      " 99%|█████████▉| 555/560 [00:16<00:00, 32.78it/s]"
     ]
    },
    {
     "name": "stdout",
     "output_type": "stream",
     "text": [
      "multilayer_perceptron ran in: 0.0 sec\n",
      "multilayer_perceptron ran in: 0.0 sec\n",
      "multilayer_perceptron ran in: 0.0 sec\n",
      "multilayer_perceptron ran in: 0.0 sec\n",
      "multilayer_perceptron ran in: 0.0 sec\n",
      "multilayer_perceptron ran in: 0.0 sec\n",
      "multilayer_perceptron ran in: 0.0 sec\n"
     ]
    },
    {
     "name": "stderr",
     "output_type": "stream",
     "text": [
      "100%|██████████| 560/560 [00:16<00:00, 33.34it/s]\n"
     ]
    },
    {
     "name": "stdout",
     "output_type": "stream",
     "text": [
      "multilayer_perceptron ran in: 0.0 sec\n",
      "multilayer_perceptron ran in: 0.0010294914245605469 sec\n",
      "multilayer_perceptron ran in: 0.01564168930053711 sec\n",
      "Epoch: 4 Cost=34392.2109\n"
     ]
    },
    {
     "name": "stderr",
     "output_type": "stream",
     "text": [
      "  1%|          | 4/560 [00:00<00:16, 34.52it/s]"
     ]
    },
    {
     "name": "stdout",
     "output_type": "stream",
     "text": [
      "multilayer_perceptron ran in: 0.0 sec\n",
      "multilayer_perceptron ran in: 0.0 sec\n",
      "multilayer_perceptron ran in: 0.0 sec\n",
      "multilayer_perceptron ran in: 0.0 sec\n",
      "multilayer_perceptron ran in: 0.0 sec\n",
      "multilayer_perceptron ran in: 0.0 sec\n",
      "multilayer_perceptron ran in: 0.0 sec\n"
     ]
    },
    {
     "name": "stderr",
     "output_type": "stream",
     "text": [
      "\r",
      "  1%|▏         | 8/560 [00:00<00:16, 33.78it/s]"
     ]
    },
    {
     "name": "stdout",
     "output_type": "stream",
     "text": [
      "multilayer_perceptron ran in: 0.0 sec\n",
      "multilayer_perceptron ran in: 0.0 sec\n",
      "multilayer_perceptron ran in: 0.0 sec\n"
     ]
    },
    {
     "name": "stderr",
     "output_type": "stream",
     "text": [
      "\r",
      "  2%|▏         | 12/560 [00:00<00:16, 33.84it/s]"
     ]
    },
    {
     "name": "stdout",
     "output_type": "stream",
     "text": [
      "multilayer_perceptron ran in: 0.015608549118041992 sec\n",
      "multilayer_perceptron ran in: 0.0 sec\n",
      "multilayer_perceptron ran in: 0.0 sec\n",
      "multilayer_perceptron ran in: 0.0 sec\n"
     ]
    },
    {
     "name": "stderr",
     "output_type": "stream",
     "text": [
      "\r",
      "  3%|▎         | 16/560 [00:00<00:16, 32.40it/s]"
     ]
    },
    {
     "name": "stdout",
     "output_type": "stream",
     "text": [
      "multilayer_perceptron ran in: 0.0 sec\n",
      "multilayer_perceptron ran in: 0.0 sec\n",
      "multilayer_perceptron ran in: 0.0 sec\n"
     ]
    },
    {
     "name": "stderr",
     "output_type": "stream",
     "text": [
      "\r",
      "  4%|▎         | 20/560 [00:00<00:16, 33.13it/s]"
     ]
    },
    {
     "name": "stdout",
     "output_type": "stream",
     "text": [
      "multilayer_perceptron ran in: 0.0 sec\n",
      "multilayer_perceptron ran in: 0.0 sec\n",
      "multilayer_perceptron ran in: 0.0 sec\n",
      "multilayer_perceptron ran in: 0.0 sec\n",
      "multilayer_perceptron ran in: 0.0 sec\n",
      "multilayer_perceptron ran in: 0.0 sec\n",
      "multilayer_perceptron ran in: 0.0 sec\n"
     ]
    },
    {
     "name": "stderr",
     "output_type": "stream",
     "text": [
      "  5%|▌         | 28/560 [00:00<00:16, 32.89it/s]"
     ]
    },
    {
     "name": "stdout",
     "output_type": "stream",
     "text": [
      "multilayer_perceptron ran in: 0.0 sec\n",
      "multilayer_perceptron ran in: 0.0 sec\n",
      "multilayer_perceptron ran in: 0.0 sec\n",
      "multilayer_perceptron ran in: 0.015625953674316406 sec\n",
      "multilayer_perceptron ran in: 0.0 sec\n",
      "multilayer_perceptron ran in: 0.0 sec\n",
      "multilayer_perceptron ran in: 0.0 sec\n"
     ]
    },
    {
     "name": "stderr",
     "output_type": "stream",
     "text": [
      "\r",
      "  6%|▌         | 32/560 [00:00<00:16, 32.82it/s]"
     ]
    },
    {
     "name": "stdout",
     "output_type": "stream",
     "text": [
      "multilayer_perceptron ran in: 0.0 sec\n",
      "multilayer_perceptron ran in: 0.0 sec\n",
      "multilayer_perceptron ran in: 0.0 sec\n",
      "multilayer_perceptron ran in: 0.0 sec\n"
     ]
    },
    {
     "name": "stderr",
     "output_type": "stream",
     "text": [
      "\r",
      "  6%|▋         | 36/560 [00:01<00:15, 33.33it/s]"
     ]
    },
    {
     "name": "stdout",
     "output_type": "stream",
     "text": [
      "multilayer_perceptron ran in: 0.0 sec\n",
      "multilayer_perceptron ran in: 0.0 sec\n",
      "multilayer_perceptron ran in: 0.0 sec\n"
     ]
    },
    {
     "name": "stderr",
     "output_type": "stream",
     "text": [
      "\r",
      "  7%|▋         | 40/560 [00:01<00:15, 33.68it/s]"
     ]
    },
    {
     "name": "stdout",
     "output_type": "stream",
     "text": [
      "multilayer_perceptron ran in: 0.0 sec\n",
      "multilayer_perceptron ran in: 0.0 sec\n",
      "multilayer_perceptron ran in: 0.0 sec\n",
      "multilayer_perceptron ran in: 0.015622854232788086 sec\n"
     ]
    },
    {
     "name": "stderr",
     "output_type": "stream",
     "text": [
      "\r",
      "  8%|▊         | 44/560 [00:01<00:15, 33.93it/s]"
     ]
    },
    {
     "name": "stdout",
     "output_type": "stream",
     "text": [
      "multilayer_perceptron ran in: 0.0 sec\n",
      "multilayer_perceptron ran in: 0.0 sec\n",
      "multilayer_perceptron ran in: 0.0 sec\n",
      "multilayer_perceptron ran in: 0.0 sec\n"
     ]
    },
    {
     "name": "stderr",
     "output_type": "stream",
     "text": [
      "\r",
      "  9%|▊         | 48/560 [00:01<00:15, 34.10it/s]"
     ]
    },
    {
     "name": "stdout",
     "output_type": "stream",
     "text": [
      "multilayer_perceptron ran in: 0.0 sec\n",
      "multilayer_perceptron ran in: 0.0 sec\n"
     ]
    },
    {
     "name": "stderr",
     "output_type": "stream",
     "text": [
      "\r",
      "  9%|▉         | 52/560 [00:01<00:15, 33.66it/s]"
     ]
    },
    {
     "name": "stdout",
     "output_type": "stream",
     "text": [
      "multilayer_perceptron ran in: 0.0 sec\n",
      "multilayer_perceptron ran in: 0.015629053115844727 sec\n",
      "multilayer_perceptron ran in: 0.0 sec\n",
      "multilayer_perceptron ran in: 0.0 sec\n",
      "multilayer_perceptron ran in: 0.0 sec\n",
      "multilayer_perceptron ran in: 0.0 sec\n"
     ]
    },
    {
     "name": "stderr",
     "output_type": "stream",
     "text": [
      " 11%|█         | 60/560 [00:01<00:14, 34.09it/s]"
     ]
    },
    {
     "name": "stdout",
     "output_type": "stream",
     "text": [
      "multilayer_perceptron ran in: 0.015623807907104492 sec\n",
      "multilayer_perceptron ran in: 0.0 sec\n",
      "multilayer_perceptron ran in: 0.0 sec\n",
      "multilayer_perceptron ran in: 0.0 sec\n",
      "multilayer_perceptron ran in: 0.0 sec\n",
      "multilayer_perceptron ran in: 0.0 sec\n",
      "multilayer_perceptron ran in: 0.0 sec\n",
      "multilayer_perceptron ran in: 0.0 sec\n"
     ]
    },
    {
     "name": "stderr",
     "output_type": "stream",
     "text": [
      "\r",
      " 11%|█▏        | 64/560 [00:01<00:15, 32.89it/s]"
     ]
    },
    {
     "name": "stdout",
     "output_type": "stream",
     "text": [
      "multilayer_perceptron ran in: 0.0 sec\n",
      "multilayer_perceptron ran in: 0.0 sec\n",
      "multilayer_perceptron ran in: 0.0 sec\n",
      "multilayer_perceptron ran in: 0.0 sec\n"
     ]
    },
    {
     "name": "stderr",
     "output_type": "stream",
     "text": [
      "\r",
      " 12%|█▏        | 68/560 [00:02<00:14, 33.36it/s]"
     ]
    },
    {
     "name": "stdout",
     "output_type": "stream",
     "text": [
      "multilayer_perceptron ran in: 0.0 sec\n",
      "multilayer_perceptron ran in: 0.0 sec\n",
      "multilayer_perceptron ran in: 0.0 sec\n",
      "multilayer_perceptron ran in: 0.0 sec\n"
     ]
    },
    {
     "name": "stderr",
     "output_type": "stream",
     "text": [
      "\r",
      " 13%|█▎        | 72/560 [00:02<00:14, 33.15it/s]"
     ]
    },
    {
     "name": "stdout",
     "output_type": "stream",
     "text": [
      "multilayer_perceptron ran in: 0.0 sec\n",
      "multilayer_perceptron ran in: 0.0 sec\n",
      "multilayer_perceptron ran in: 0.01563858985900879 sec\n"
     ]
    },
    {
     "name": "stderr",
     "output_type": "stream",
     "text": [
      "\r",
      " 14%|█▎        | 76/560 [00:02<00:14, 33.57it/s]"
     ]
    },
    {
     "name": "stdout",
     "output_type": "stream",
     "text": [
      "multilayer_perceptron ran in: 0.0 sec\n",
      "multilayer_perceptron ran in: 0.0 sec\n",
      "multilayer_perceptron ran in: 0.0 sec\n",
      "multilayer_perceptron ran in: 0.0 sec\n"
     ]
    },
    {
     "name": "stderr",
     "output_type": "stream",
     "text": [
      "\r",
      " 14%|█▍        | 80/560 [00:02<00:14, 33.84it/s]"
     ]
    },
    {
     "name": "stdout",
     "output_type": "stream",
     "text": [
      "multilayer_perceptron ran in: 0.0 sec\n",
      "multilayer_perceptron ran in: 0.0 sec\n",
      "multilayer_perceptron ran in: 0.0 sec\n"
     ]
    },
    {
     "name": "stderr",
     "output_type": "stream",
     "text": [
      "\r",
      " 15%|█▌        | 84/560 [00:02<00:13, 34.04it/s]"
     ]
    },
    {
     "name": "stdout",
     "output_type": "stream",
     "text": [
      "multilayer_perceptron ran in: 0.0 sec\n",
      "multilayer_perceptron ran in: 0.0 sec\n",
      "multilayer_perceptron ran in: 0.0 sec\n",
      "multilayer_perceptron ran in: 0.0 sec\n",
      "multilayer_perceptron ran in: 0.0 sec\n",
      "multilayer_perceptron ran in: 0.0 sec\n",
      "multilayer_perceptron ran in: 0.0 sec\n"
     ]
    },
    {
     "name": "stderr",
     "output_type": "stream",
     "text": [
      "\r",
      " 16%|█▌        | 88/560 [00:02<00:14, 32.87it/s]"
     ]
    },
    {
     "name": "stdout",
     "output_type": "stream",
     "text": [
      "multilayer_perceptron ran in: 0.0 sec\n",
      "multilayer_perceptron ran in: 0.0 sec\n",
      "multilayer_perceptron ran in: 0.0 sec\n"
     ]
    },
    {
     "name": "stderr",
     "output_type": "stream",
     "text": [
      "\r",
      " 16%|█▋        | 92/560 [00:02<00:14, 33.34it/s]"
     ]
    },
    {
     "name": "stdout",
     "output_type": "stream",
     "text": [
      "multilayer_perceptron ran in: 0.0 sec\n",
      "multilayer_perceptron ran in: 0.015608787536621094 sec\n",
      "multilayer_perceptron ran in: 0.0 sec\n",
      "multilayer_perceptron ran in: 0.0 sec\n"
     ]
    },
    {
     "name": "stderr",
     "output_type": "stream",
     "text": [
      "\r",
      " 17%|█▋        | 96/560 [00:02<00:14, 33.14it/s]"
     ]
    },
    {
     "name": "stdout",
     "output_type": "stream",
     "text": [
      "multilayer_perceptron ran in: 0.0 sec\n",
      "multilayer_perceptron ran in: 0.0 sec\n",
      "multilayer_perceptron ran in: 0.0 sec\n"
     ]
    },
    {
     "name": "stderr",
     "output_type": "stream",
     "text": [
      "\r",
      " 18%|█▊        | 100/560 [00:02<00:13, 33.54it/s]"
     ]
    },
    {
     "name": "stdout",
     "output_type": "stream",
     "text": [
      "multilayer_perceptron ran in: 0.0 sec\n",
      "multilayer_perceptron ran in: 0.0 sec\n",
      "multilayer_perceptron ran in: 0.01565074920654297 sec\n",
      "multilayer_perceptron ran in: 0.015627622604370117 sec\n",
      "multilayer_perceptron ran in: 0.0 sec\n",
      "multilayer_perceptron ran in: 0.0 sec\n",
      "multilayer_perceptron ran in: 0.0 sec\n"
     ]
    },
    {
     "name": "stderr",
     "output_type": "stream",
     "text": [
      " 19%|█▉        | 108/560 [00:03<00:13, 34.02it/s]"
     ]
    },
    {
     "name": "stdout",
     "output_type": "stream",
     "text": [
      "multilayer_perceptron ran in: 0.0 sec\n",
      "multilayer_perceptron ran in: 0.0 sec\n",
      "multilayer_perceptron ran in: 0.0 sec\n",
      "multilayer_perceptron ran in: 0.0 sec\n",
      "multilayer_perceptron ran in: 0.0 sec\n",
      "multilayer_perceptron ran in: 0.0 sec\n",
      "multilayer_perceptron ran in: 0.0 sec\n"
     ]
    },
    {
     "name": "stderr",
     "output_type": "stream",
     "text": [
      " 21%|██        | 116/560 [00:03<00:13, 33.70it/s]"
     ]
    },
    {
     "name": "stdout",
     "output_type": "stream",
     "text": [
      "multilayer_perceptron ran in: 0.0 sec\n",
      "multilayer_perceptron ran in: 0.0 sec\n",
      "multilayer_perceptron ran in: 0.01562809944152832 sec\n",
      "multilayer_perceptron ran in: 0.0 sec\n",
      "multilayer_perceptron ran in: 0.0 sec\n",
      "multilayer_perceptron ran in: 0.0 sec\n",
      "multilayer_perceptron ran in: 0.0 sec\n"
     ]
    },
    {
     "name": "stderr",
     "output_type": "stream",
     "text": [
      " 22%|██▏       | 124/560 [00:03<00:12, 34.11it/s]"
     ]
    },
    {
     "name": "stdout",
     "output_type": "stream",
     "text": [
      "multilayer_perceptron ran in: 0.0 sec\n",
      "multilayer_perceptron ran in: 0.0 sec\n",
      "multilayer_perceptron ran in: 0.0 sec\n",
      "multilayer_perceptron ran in: 0.0 sec\n",
      "multilayer_perceptron ran in: 0.0 sec\n",
      "multilayer_perceptron ran in: 0.0 sec\n",
      "multilayer_perceptron ran in: 0.0 sec\n",
      "multilayer_perceptron ran in: 0.0 sec\n"
     ]
    },
    {
     "name": "stderr",
     "output_type": "stream",
     "text": [
      "\r",
      " 23%|██▎       | 128/560 [00:03<00:13, 32.91it/s]"
     ]
    },
    {
     "name": "stdout",
     "output_type": "stream",
     "text": [
      "multilayer_perceptron ran in: 0.0 sec\n",
      "multilayer_perceptron ran in: 0.0 sec\n",
      "multilayer_perceptron ran in: 0.0 sec\n",
      "multilayer_perceptron ran in: 0.0 sec\n"
     ]
    },
    {
     "name": "stderr",
     "output_type": "stream",
     "text": [
      "\r",
      " 24%|██▎       | 132/560 [00:03<00:12, 33.37it/s]"
     ]
    },
    {
     "name": "stdout",
     "output_type": "stream",
     "text": [
      "multilayer_perceptron ran in: 0.0 sec\n",
      "multilayer_perceptron ran in: 0.0 sec\n",
      "multilayer_perceptron ran in: 0.0 sec\n",
      "multilayer_perceptron ran in: 0.0 sec\n"
     ]
    },
    {
     "name": "stderr",
     "output_type": "stream",
     "text": [
      "\r",
      " 24%|██▍       | 136/560 [00:04<00:12, 33.16it/s]"
     ]
    },
    {
     "name": "stdout",
     "output_type": "stream",
     "text": [
      "multilayer_perceptron ran in: 0.0 sec\n",
      "multilayer_perceptron ran in: 0.0 sec\n",
      "multilayer_perceptron ran in: 0.0 sec\n"
     ]
    },
    {
     "name": "stderr",
     "output_type": "stream",
     "text": [
      "\r",
      " 25%|██▌       | 140/560 [00:04<00:12, 33.55it/s]"
     ]
    },
    {
     "name": "stdout",
     "output_type": "stream",
     "text": [
      "multilayer_perceptron ran in: 0.0 sec\n",
      "multilayer_perceptron ran in: 0.0 sec\n",
      "multilayer_perceptron ran in: 0.006511211395263672 sec\n",
      "multilayer_perceptron ran in: 0.0 sec\n",
      "multilayer_perceptron ran in: 0.0 sec\n",
      "multilayer_perceptron ran in: 0.0 sec\n",
      "multilayer_perceptron ran in: 0.0 sec\n"
     ]
    },
    {
     "name": "stderr",
     "output_type": "stream",
     "text": [
      " 26%|██▋       | 148/560 [00:04<00:12, 34.05it/s]"
     ]
    },
    {
     "name": "stdout",
     "output_type": "stream",
     "text": [
      "multilayer_perceptron ran in: 0.0 sec\n",
      "multilayer_perceptron ran in: 0.015624284744262695 sec\n",
      "multilayer_perceptron ran in: 0.0 sec\n",
      "multilayer_perceptron ran in: 0.0 sec\n",
      "multilayer_perceptron ran in: 0.0 sec\n",
      "multilayer_perceptron ran in: 0.0 sec\n",
      "multilayer_perceptron ran in: 0.0 sec\n"
     ]
    },
    {
     "name": "stderr",
     "output_type": "stream",
     "text": [
      "\r",
      " 27%|██▋       | 152/560 [00:04<00:11, 34.19it/s]"
     ]
    },
    {
     "name": "stdout",
     "output_type": "stream",
     "text": [
      "multilayer_perceptron ran in: 0.0 sec\n",
      "multilayer_perceptron ran in: 0.0 sec\n",
      "multilayer_perceptron ran in: 0.0 sec\n",
      "multilayer_perceptron ran in: 0.0 sec\n"
     ]
    },
    {
     "name": "stderr",
     "output_type": "stream",
     "text": [
      "\r",
      " 28%|██▊       | 156/560 [00:04<00:11, 34.28it/s]"
     ]
    },
    {
     "name": "stdout",
     "output_type": "stream",
     "text": [
      "multilayer_perceptron ran in: 0.0 sec\n",
      "multilayer_perceptron ran in: 0.0 sec\n",
      "multilayer_perceptron ran in: 0.0 sec\n",
      "multilayer_perceptron ran in: 0.0 sec\n"
     ]
    },
    {
     "name": "stderr",
     "output_type": "stream",
     "text": [
      "\r",
      " 29%|██▊       | 160/560 [00:04<00:11, 33.78it/s]"
     ]
    },
    {
     "name": "stdout",
     "output_type": "stream",
     "text": [
      "multilayer_perceptron ran in: 0.0 sec\n",
      "multilayer_perceptron ran in: 0.0 sec\n",
      "multilayer_perceptron ran in: 0.0 sec\n"
     ]
    },
    {
     "name": "stderr",
     "output_type": "stream",
     "text": [
      "\r",
      " 29%|██▉       | 164/560 [00:04<00:11, 33.99it/s]"
     ]
    },
    {
     "name": "stdout",
     "output_type": "stream",
     "text": [
      "multilayer_perceptron ran in: 0.015645742416381836 sec\n",
      "multilayer_perceptron ran in: 0.0 sec\n",
      "multilayer_perceptron ran in: 0.0 sec\n",
      "multilayer_perceptron ran in: 0.0 sec\n",
      "multilayer_perceptron ran in: 0.0 sec\n"
     ]
    },
    {
     "name": "stderr",
     "output_type": "stream",
     "text": [
      "\r",
      " 30%|███       | 168/560 [00:04<00:11, 34.15it/s]"
     ]
    },
    {
     "name": "stdout",
     "output_type": "stream",
     "text": [
      "multilayer_perceptron ran in: 0.0 sec\n",
      "multilayer_perceptron ran in: 0.0 sec\n"
     ]
    },
    {
     "name": "stderr",
     "output_type": "stream",
     "text": [
      "\r",
      " 31%|███       | 172/560 [00:05<00:11, 32.93it/s]"
     ]
    },
    {
     "name": "stdout",
     "output_type": "stream",
     "text": [
      "multilayer_perceptron ran in: 0.0 sec\n",
      "multilayer_perceptron ran in: 0.0 sec\n",
      "multilayer_perceptron ran in: 0.0 sec\n",
      "multilayer_perceptron ran in: 0.0 sec\n",
      "multilayer_perceptron ran in: 0.0 sec\n"
     ]
    },
    {
     "name": "stderr",
     "output_type": "stream",
     "text": [
      "\r",
      " 31%|███▏      | 176/560 [00:05<00:11, 34.31it/s]"
     ]
    },
    {
     "name": "stdout",
     "output_type": "stream",
     "text": [
      "multilayer_perceptron ran in: 0.015806913375854492 sec\n",
      "multilayer_perceptron ran in: 0.0 sec\n"
     ]
    },
    {
     "name": "stderr",
     "output_type": "stream",
     "text": [
      "\r",
      " 32%|███▏      | 180/560 [00:05<00:11, 33.46it/s]"
     ]
    },
    {
     "name": "stdout",
     "output_type": "stream",
     "text": [
      "multilayer_perceptron ran in: 0.0 sec\n",
      "multilayer_perceptron ran in: 0.0 sec\n",
      "multilayer_perceptron ran in: 0.0 sec\n",
      "multilayer_perceptron ran in: 0.015623807907104492 sec\n",
      "multilayer_perceptron ran in: 0.0 sec\n",
      "multilayer_perceptron ran in: 0.0 sec\n"
     ]
    },
    {
     "name": "stderr",
     "output_type": "stream",
     "text": [
      " 34%|███▎      | 188/560 [00:05<00:11, 33.59it/s]"
     ]
    },
    {
     "name": "stdout",
     "output_type": "stream",
     "text": [
      "multilayer_perceptron ran in: 0.0 sec\n",
      "multilayer_perceptron ran in: 0.0 sec\n",
      "multilayer_perceptron ran in: 0.0 sec\n",
      "multilayer_perceptron ran in: 0.0 sec\n",
      "multilayer_perceptron ran in: 0.0 sec\n",
      "multilayer_perceptron ran in: 0.0 sec\n",
      "multilayer_perceptron ran in: 0.0 sec\n",
      "multilayer_perceptron ran in: 0.0 sec\n"
     ]
    },
    {
     "name": "stderr",
     "output_type": "stream",
     "text": [
      "\r",
      " 34%|███▍      | 192/560 [00:05<00:10, 33.86it/s]"
     ]
    },
    {
     "name": "stdout",
     "output_type": "stream",
     "text": [
      "multilayer_perceptron ran in: 0.0 sec\n",
      "multilayer_perceptron ran in: 0.0 sec\n",
      "multilayer_perceptron ran in: 0.0 sec\n",
      "multilayer_perceptron ran in: 0.0 sec\n",
      "multilayer_perceptron ran in: 0.0 sec\n"
     ]
    },
    {
     "name": "stderr",
     "output_type": "stream",
     "text": [
      "\r",
      " 35%|███▌      | 196/560 [00:05<00:10, 34.06it/s]"
     ]
    },
    {
     "name": "stdout",
     "output_type": "stream",
     "text": [
      "multilayer_perceptron ran in: 0.0 sec\n",
      "multilayer_perceptron ran in: 0.0 sec\n",
      "multilayer_perceptron ran in: 0.0 sec\n"
     ]
    },
    {
     "name": "stderr",
     "output_type": "stream",
     "text": [
      "\r",
      " 36%|███▌      | 200/560 [00:05<00:10, 34.19it/s]"
     ]
    },
    {
     "name": "stdout",
     "output_type": "stream",
     "text": [
      "multilayer_perceptron ran in: 0.0 sec\n",
      "multilayer_perceptron ran in: 0.0 sec\n",
      "multilayer_perceptron ran in: 0.0 sec\n",
      "multilayer_perceptron ran in: 0.0 sec\n"
     ]
    },
    {
     "name": "stderr",
     "output_type": "stream",
     "text": [
      "\r",
      " 36%|███▋      | 204/560 [00:06<00:10, 33.72it/s]"
     ]
    },
    {
     "name": "stdout",
     "output_type": "stream",
     "text": [
      "multilayer_perceptron ran in: 0.0 sec\n",
      "multilayer_perceptron ran in: 0.0 sec\n",
      "multilayer_perceptron ran in: 0.0 sec\n"
     ]
    },
    {
     "name": "stderr",
     "output_type": "stream",
     "text": [
      "\r",
      " 37%|███▋      | 208/560 [00:06<00:10, 33.95it/s]"
     ]
    },
    {
     "name": "stdout",
     "output_type": "stream",
     "text": [
      "multilayer_perceptron ran in: 0.01562356948852539 sec\n",
      "multilayer_perceptron ran in: 0.0 sec\n",
      "multilayer_perceptron ran in: 0.0 sec\n",
      "multilayer_perceptron ran in: 0.0 sec\n"
     ]
    },
    {
     "name": "stderr",
     "output_type": "stream",
     "text": [
      "\r",
      " 38%|███▊      | 212/560 [00:06<00:10, 34.13it/s]"
     ]
    },
    {
     "name": "stdout",
     "output_type": "stream",
     "text": [
      "multilayer_perceptron ran in: 0.0009829998016357422 sec\n",
      "multilayer_perceptron ran in: 0.0 sec\n",
      "multilayer_perceptron ran in: 0.0 sec\n",
      "multilayer_perceptron ran in: 0.0 sec\n",
      "multilayer_perceptron ran in: 0.0 sec\n",
      "multilayer_perceptron ran in: 0.0 sec\n",
      "multilayer_perceptron ran in: 0.0 sec\n"
     ]
    },
    {
     "name": "stderr",
     "output_type": "stream",
     "text": [
      "\r",
      " 39%|███▊      | 216/560 [00:06<00:10, 32.93it/s]"
     ]
    },
    {
     "name": "stdout",
     "output_type": "stream",
     "text": [
      "multilayer_perceptron ran in: 0.0 sec\n",
      "multilayer_perceptron ran in: 0.0 sec\n"
     ]
    },
    {
     "name": "stderr",
     "output_type": "stream",
     "text": [
      "\r",
      " 39%|███▉      | 220/560 [00:06<00:10, 33.39it/s]"
     ]
    },
    {
     "name": "stdout",
     "output_type": "stream",
     "text": [
      "multilayer_perceptron ran in: 0.015628814697265625 sec\n",
      "multilayer_perceptron ran in: 0.0 sec\n",
      "multilayer_perceptron ran in: 0.0 sec\n",
      "multilayer_perceptron ran in: 0.0 sec\n",
      "multilayer_perceptron ran in: 0.0 sec\n"
     ]
    },
    {
     "name": "stderr",
     "output_type": "stream",
     "text": [
      "\r",
      " 40%|████      | 224/560 [00:06<00:09, 33.72it/s]"
     ]
    },
    {
     "name": "stdout",
     "output_type": "stream",
     "text": [
      "multilayer_perceptron ran in: 0.015606164932250977 sec\n",
      "multilayer_perceptron ran in: 0.0 sec\n"
     ]
    },
    {
     "name": "stderr",
     "output_type": "stream",
     "text": [
      "\r",
      " 41%|████      | 228/560 [00:06<00:09, 33.39it/s]"
     ]
    },
    {
     "name": "stdout",
     "output_type": "stream",
     "text": [
      "multilayer_perceptron ran in: 0.0 sec\n",
      "multilayer_perceptron ran in: 0.0 sec\n",
      "multilayer_perceptron ran in: 0.0 sec\n",
      "multilayer_perceptron ran in: 0.0 sec\n",
      "multilayer_perceptron ran in: 0.0 sec\n",
      "multilayer_perceptron ran in: 0.0 sec\n",
      "multilayer_perceptron ran in: 0.0156557559967041 sec\n"
     ]
    },
    {
     "name": "stderr",
     "output_type": "stream",
     "text": [
      " 42%|████▏     | 236/560 [00:07<00:09, 33.95it/s]"
     ]
    },
    {
     "name": "stdout",
     "output_type": "stream",
     "text": [
      "multilayer_perceptron ran in: 0.01562952995300293 sec\n",
      "multilayer_perceptron ran in: 0.0 sec\n",
      "multilayer_perceptron ran in: 0.0 sec\n",
      "multilayer_perceptron ran in: 0.0 sec\n",
      "multilayer_perceptron ran in: 0.0 sec\n",
      "multilayer_perceptron ran in: 0.0 sec\n",
      "multilayer_perceptron ran in: 0.0 sec\n"
     ]
    },
    {
     "name": "stderr",
     "output_type": "stream",
     "text": [
      " 44%|████▎     | 244/560 [00:07<00:09, 33.78it/s]"
     ]
    },
    {
     "name": "stdout",
     "output_type": "stream",
     "text": [
      "multilayer_perceptron ran in: 0.0 sec\n",
      "multilayer_perceptron ran in: 0.0 sec\n",
      "multilayer_perceptron ran in: 0.0 sec\n",
      "multilayer_perceptron ran in: 0.0 sec\n",
      "multilayer_perceptron ran in: 0.0 sec\n",
      "multilayer_perceptron ran in: 0.015625476837158203 sec\n",
      "multilayer_perceptron ran in: 0.0 sec\n",
      "multilayer_perceptron ran in: 0.0 sec\n"
     ]
    },
    {
     "name": "stderr",
     "output_type": "stream",
     "text": [
      " 45%|████▌     | 252/560 [00:07<00:09, 34.08it/s]"
     ]
    },
    {
     "name": "stdout",
     "output_type": "stream",
     "text": [
      "multilayer_perceptron ran in: 0.0 sec\n",
      "multilayer_perceptron ran in: 0.0 sec\n",
      "multilayer_perceptron ran in: 0.0 sec\n",
      "multilayer_perceptron ran in: 0.0 sec\n",
      "multilayer_perceptron ran in: 0.0 sec\n",
      "multilayer_perceptron ran in: 0.0 sec\n",
      "multilayer_perceptron ran in: 0.015636444091796875 sec\n"
     ]
    },
    {
     "name": "stderr",
     "output_type": "stream",
     "text": [
      " 46%|████▋     | 260/560 [00:07<00:08, 33.37it/s]"
     ]
    },
    {
     "name": "stdout",
     "output_type": "stream",
     "text": [
      "multilayer_perceptron ran in: 0.015627622604370117 sec\n",
      "multilayer_perceptron ran in: 0.0 sec\n",
      "multilayer_perceptron ran in: 0.0 sec\n",
      "multilayer_perceptron ran in: 0.0 sec\n",
      "multilayer_perceptron ran in: 0.0 sec\n",
      "multilayer_perceptron ran in: 0.0 sec\n",
      "multilayer_perceptron ran in: 0.0 sec\n"
     ]
    },
    {
     "name": "stderr",
     "output_type": "stream",
     "text": [
      " 48%|████▊     | 268/560 [00:07<00:08, 33.56it/s]"
     ]
    },
    {
     "name": "stdout",
     "output_type": "stream",
     "text": [
      "multilayer_perceptron ran in: 0.0 sec\n",
      "multilayer_perceptron ran in: 0.01562356948852539 sec\n",
      "multilayer_perceptron ran in: 0.0010006427764892578 sec\n",
      "multilayer_perceptron ran in: 0.0 sec\n",
      "multilayer_perceptron ran in: 0.0 sec\n",
      "multilayer_perceptron ran in: 0.0 sec\n",
      "multilayer_perceptron ran in: 0.0 sec\n"
     ]
    },
    {
     "name": "stderr",
     "output_type": "stream",
     "text": [
      "\r",
      " 49%|████▊     | 272/560 [00:08<00:08, 33.28it/s]"
     ]
    },
    {
     "name": "stdout",
     "output_type": "stream",
     "text": [
      "multilayer_perceptron ran in: 0.0 sec\n",
      "multilayer_perceptron ran in: 0.0 sec\n",
      "multilayer_perceptron ran in: 0.0 sec\n",
      "multilayer_perceptron ran in: 0.0 sec\n",
      "multilayer_perceptron ran in: 0.0 sec\n",
      "multilayer_perceptron ran in: 0.0 sec\n",
      "multilayer_perceptron ran in: 0.0 sec\n"
     ]
    },
    {
     "name": "stderr",
     "output_type": "stream",
     "text": [
      " 50%|█████     | 280/560 [00:08<00:08, 33.92it/s]"
     ]
    },
    {
     "name": "stdout",
     "output_type": "stream",
     "text": [
      "multilayer_perceptron ran in: 0.0 sec\n",
      "multilayer_perceptron ran in: 0.0 sec\n",
      "multilayer_perceptron ran in: 0.0 sec\n",
      "multilayer_perceptron ran in: 0.0 sec\n",
      "multilayer_perceptron ran in: 0.0 sec\n",
      "multilayer_perceptron ran in: 0.0 sec\n"
     ]
    },
    {
     "name": "stderr",
     "output_type": "stream",
     "text": [
      " 51%|█████▏    | 288/560 [00:08<00:08, 32.75it/s]"
     ]
    },
    {
     "name": "stdout",
     "output_type": "stream",
     "text": [
      "multilayer_perceptron ran in: 0.0 sec\n",
      "multilayer_perceptron ran in: 0.0 sec\n",
      "multilayer_perceptron ran in: 0.015623331069946289 sec\n",
      "multilayer_perceptron ran in: 0.0 sec\n",
      "multilayer_perceptron ran in: 0.0 sec\n",
      "multilayer_perceptron ran in: 0.0 sec\n",
      "multilayer_perceptron ran in: 0.0 sec\n"
     ]
    },
    {
     "name": "stderr",
     "output_type": "stream",
     "text": [
      "\r",
      " 52%|█████▏    | 292/560 [00:08<00:08, 33.26it/s]"
     ]
    },
    {
     "name": "stdout",
     "output_type": "stream",
     "text": [
      "multilayer_perceptron ran in: 0.0 sec\n",
      "multilayer_perceptron ran in: 0.0 sec\n",
      "multilayer_perceptron ran in: 0.0 sec\n",
      "multilayer_perceptron ran in: 0.0 sec\n",
      "multilayer_perceptron ran in: 0.0 sec\n",
      "multilayer_perceptron ran in: 0.0 sec\n",
      "multilayer_perceptron ran in: 0.0 sec\n"
     ]
    },
    {
     "name": "stderr",
     "output_type": "stream",
     "text": [
      " 54%|█████▎    | 300/560 [00:08<00:07, 32.97it/s]"
     ]
    },
    {
     "name": "stdout",
     "output_type": "stream",
     "text": [
      "multilayer_perceptron ran in: 0.0 sec\n",
      "multilayer_perceptron ran in: 0.0 sec\n",
      "multilayer_perceptron ran in: 0.0 sec\n",
      "multilayer_perceptron ran in: 0.015633106231689453 sec\n",
      "multilayer_perceptron ran in: 0.0 sec\n",
      "multilayer_perceptron ran in: 0.0 sec\n",
      "multilayer_perceptron ran in: 0.0 sec\n"
     ]
    },
    {
     "name": "stderr",
     "output_type": "stream",
     "text": [
      "\r",
      " 54%|█████▍    | 304/560 [00:09<00:09, 25.89it/s]"
     ]
    },
    {
     "name": "stdout",
     "output_type": "stream",
     "text": [
      "multilayer_perceptron ran in: 0.0 sec\n",
      "multilayer_perceptron ran in: 0.0 sec\n",
      "multilayer_perceptron ran in: 0.0 sec\n",
      "multilayer_perceptron ran in: 0.0 sec\n"
     ]
    },
    {
     "name": "stderr",
     "output_type": "stream",
     "text": [
      " 56%|█████▌    | 312/560 [00:09<00:08, 29.37it/s]"
     ]
    },
    {
     "name": "stdout",
     "output_type": "stream",
     "text": [
      "multilayer_perceptron ran in: 0.0 sec\n",
      "multilayer_perceptron ran in: 0.0 sec\n",
      "multilayer_perceptron ran in: 0.0 sec\n",
      "multilayer_perceptron ran in: 0.0 sec\n",
      "multilayer_perceptron ran in: 0.0 sec\n",
      "multilayer_perceptron ran in: 0.0 sec\n",
      "multilayer_perceptron ran in: 0.0 sec\n"
     ]
    },
    {
     "name": "stderr",
     "output_type": "stream",
     "text": [
      "\r",
      " 56%|█████▋    | 316/560 [00:09<00:07, 30.75it/s]"
     ]
    },
    {
     "name": "stdout",
     "output_type": "stream",
     "text": [
      "multilayer_perceptron ran in: 0.0 sec\n",
      "multilayer_perceptron ran in: 0.0 sec\n",
      "multilayer_perceptron ran in: 0.0 sec\n",
      "multilayer_perceptron ran in: 0.0 sec\n",
      "multilayer_perceptron ran in: 0.0 sec\n",
      "multilayer_perceptron ran in: 0.0 sec\n",
      "multilayer_perceptron ran in: 0.0 sec\n"
     ]
    },
    {
     "name": "stderr",
     "output_type": "stream",
     "text": [
      " 58%|█████▊    | 324/560 [00:09<00:07, 31.71it/s]"
     ]
    },
    {
     "name": "stdout",
     "output_type": "stream",
     "text": [
      "multilayer_perceptron ran in: 0.0 sec\n",
      "multilayer_perceptron ran in: 0.0 sec\n",
      "multilayer_perceptron ran in: 0.0 sec\n",
      "multilayer_perceptron ran in: 0.0 sec\n",
      "multilayer_perceptron ran in: 0.0 sec\n",
      "multilayer_perceptron ran in: 0.0 sec\n",
      "multilayer_perceptron ran in: 0.0 sec\n"
     ]
    },
    {
     "name": "stderr",
     "output_type": "stream",
     "text": [
      " 59%|█████▉    | 332/560 [00:10<00:07, 32.34it/s]"
     ]
    },
    {
     "name": "stdout",
     "output_type": "stream",
     "text": [
      "multilayer_perceptron ran in: 0.0 sec\n",
      "multilayer_perceptron ran in: 0.0 sec\n",
      "multilayer_perceptron ran in: 0.0 sec\n",
      "multilayer_perceptron ran in: 0.0 sec\n",
      "multilayer_perceptron ran in: 0.0 sec\n",
      "multilayer_perceptron ran in: 0.0 sec\n",
      "multilayer_perceptron ran in: 0.0 sec\n"
     ]
    },
    {
     "name": "stderr",
     "output_type": "stream",
     "text": [
      " 61%|██████    | 340/560 [00:10<00:06, 33.05it/s]"
     ]
    },
    {
     "name": "stdout",
     "output_type": "stream",
     "text": [
      "multilayer_perceptron ran in: 0.0 sec\n",
      "multilayer_perceptron ran in: 0.0 sec\n",
      "multilayer_perceptron ran in: 0.0 sec\n",
      "multilayer_perceptron ran in: 0.0 sec\n",
      "multilayer_perceptron ran in: 0.0 sec\n",
      "multilayer_perceptron ran in: 0.002000570297241211 sec\n",
      "multilayer_perceptron ran in: 0.0 sec\n"
     ]
    },
    {
     "name": "stderr",
     "output_type": "stream",
     "text": [
      " 62%|██████▏   | 348/560 [00:10<00:06, 33.49it/s]"
     ]
    },
    {
     "name": "stdout",
     "output_type": "stream",
     "text": [
      "multilayer_perceptron ran in: 0.0 sec\n",
      "multilayer_perceptron ran in: 0.0 sec\n",
      "multilayer_perceptron ran in: 0.0 sec\n",
      "multilayer_perceptron ran in: 0.0 sec\n",
      "multilayer_perceptron ran in: 0.0 sec\n",
      "multilayer_perceptron ran in: 0.0 sec\n",
      "multilayer_perceptron ran in: 0.0 sec\n"
     ]
    },
    {
     "name": "stderr",
     "output_type": "stream",
     "text": [
      "\r",
      " 63%|██████▎   | 352/560 [00:10<00:06, 33.79it/s]"
     ]
    },
    {
     "name": "stdout",
     "output_type": "stream",
     "text": [
      "multilayer_perceptron ran in: 0.0 sec\n",
      "multilayer_perceptron ran in: 0.01563119888305664 sec\n",
      "multilayer_perceptron ran in: 0.0 sec\n",
      "multilayer_perceptron ran in: 0.0 sec\n",
      "multilayer_perceptron ran in: 0.0 sec\n",
      "multilayer_perceptron ran in: 0.0 sec\n",
      "multilayer_perceptron ran in: 0.015625715255737305 sec\n"
     ]
    },
    {
     "name": "stderr",
     "output_type": "stream",
     "text": [
      " 64%|██████▍   | 360/560 [00:10<00:06, 32.84it/s]"
     ]
    },
    {
     "name": "stdout",
     "output_type": "stream",
     "text": [
      "multilayer_perceptron ran in: 0.0 sec\n",
      "multilayer_perceptron ran in: 0.0 sec\n",
      "multilayer_perceptron ran in: 0.0 sec\n",
      "multilayer_perceptron ran in: 0.0 sec\n",
      "multilayer_perceptron ran in: 0.0 sec\n",
      "multilayer_perceptron ran in: 0.0 sec\n",
      "multilayer_perceptron ran in: 0.0 sec\n"
     ]
    },
    {
     "name": "stderr",
     "output_type": "stream",
     "text": [
      " 66%|██████▌   | 368/560 [00:11<00:05, 33.12it/s]"
     ]
    },
    {
     "name": "stdout",
     "output_type": "stream",
     "text": [
      "multilayer_perceptron ran in: 0.015613317489624023 sec\n",
      "multilayer_perceptron ran in: 0.0 sec\n",
      "multilayer_perceptron ran in: 0.0 sec\n",
      "multilayer_perceptron ran in: 0.0 sec\n",
      "multilayer_perceptron ran in: 0.0 sec\n",
      "multilayer_perceptron ran in: 0.0 sec\n",
      "multilayer_perceptron ran in: 0.0 sec\n"
     ]
    },
    {
     "name": "stderr",
     "output_type": "stream",
     "text": [
      "\r",
      " 66%|██████▋   | 372/560 [00:11<00:05, 33.53it/s]"
     ]
    },
    {
     "name": "stdout",
     "output_type": "stream",
     "text": [
      "multilayer_perceptron ran in: 0.0 sec\n",
      "multilayer_perceptron ran in: 0.0 sec\n",
      "multilayer_perceptron ran in: 0.0 sec\n",
      "multilayer_perceptron ran in: 0.0 sec\n",
      "multilayer_perceptron ran in: 0.0 sec\n",
      "multilayer_perceptron ran in: 0.0 sec\n",
      "multilayer_perceptron ran in: 0.015654563903808594 sec\n"
     ]
    },
    {
     "name": "stderr",
     "output_type": "stream",
     "text": [
      " 68%|██████▊   | 380/560 [00:11<00:05, 34.02it/s]"
     ]
    },
    {
     "name": "stdout",
     "output_type": "stream",
     "text": [
      "multilayer_perceptron ran in: 0.01563882827758789 sec\n",
      "multilayer_perceptron ran in: 0.0 sec\n",
      "multilayer_perceptron ran in: 0.0 sec\n",
      "multilayer_perceptron ran in: 0.0 sec\n",
      "multilayer_perceptron ran in: 0.0 sec\n",
      "multilayer_perceptron ran in: 0.0 sec\n",
      "multilayer_perceptron ran in: 0.0 sec\n"
     ]
    },
    {
     "name": "stderr",
     "output_type": "stream",
     "text": [
      " 69%|██████▉   | 388/560 [00:11<00:05, 32.95it/s]"
     ]
    },
    {
     "name": "stdout",
     "output_type": "stream",
     "text": [
      "multilayer_perceptron ran in: 0.0 sec\n",
      "multilayer_perceptron ran in: 0.0 sec\n",
      "multilayer_perceptron ran in: 0.0 sec\n",
      "multilayer_perceptron ran in: 0.0 sec\n",
      "multilayer_perceptron ran in: 0.0 sec\n",
      "multilayer_perceptron ran in: 0.0 sec\n",
      "multilayer_perceptron ran in: 0.0 sec\n"
     ]
    },
    {
     "name": "stderr",
     "output_type": "stream",
     "text": [
      " 71%|███████   | 396/560 [00:11<00:04, 34.27it/s]"
     ]
    },
    {
     "name": "stdout",
     "output_type": "stream",
     "text": [
      "multilayer_perceptron ran in: 0.015623807907104492 sec\n",
      "multilayer_perceptron ran in: 0.0 sec\n",
      "multilayer_perceptron ran in: 0.0 sec\n",
      "multilayer_perceptron ran in: 0.0 sec\n",
      "multilayer_perceptron ran in: 0.0 sec\n",
      "multilayer_perceptron ran in: 0.0 sec\n",
      "multilayer_perceptron ran in: 0.0 sec\n"
     ]
    },
    {
     "name": "stderr",
     "output_type": "stream",
     "text": [
      "\r",
      " 71%|███████▏  | 400/560 [00:12<00:04, 34.34it/s]"
     ]
    },
    {
     "name": "stdout",
     "output_type": "stream",
     "text": [
      "multilayer_perceptron ran in: 0.0 sec\n",
      "multilayer_perceptron ran in: 0.0 sec\n",
      "multilayer_perceptron ran in: 0.0 sec\n",
      "multilayer_perceptron ran in: 0.0 sec\n",
      "multilayer_perceptron ran in: 0.0 sec\n",
      "multilayer_perceptron ran in: 0.0 sec\n",
      "multilayer_perceptron ran in: 0.0 sec\n"
     ]
    },
    {
     "name": "stderr",
     "output_type": "stream",
     "text": [
      " 73%|███████▎  | 408/560 [00:12<00:04, 34.05it/s]"
     ]
    },
    {
     "name": "stdout",
     "output_type": "stream",
     "text": [
      "multilayer_perceptron ran in: 0.0 sec\n",
      "multilayer_perceptron ran in: 0.0 sec\n",
      "multilayer_perceptron ran in: 0.015636920928955078 sec\n",
      "multilayer_perceptron ran in: 0.0 sec\n",
      "multilayer_perceptron ran in: 0.0 sec\n",
      "multilayer_perceptron ran in: 0.0 sec\n",
      "multilayer_perceptron ran in: 0.0 sec\n"
     ]
    },
    {
     "name": "stderr",
     "output_type": "stream",
     "text": [
      " 74%|███████▍  | 416/560 [00:12<00:04, 33.22it/s]"
     ]
    },
    {
     "name": "stdout",
     "output_type": "stream",
     "text": [
      "multilayer_perceptron ran in: 0.0 sec\n",
      "multilayer_perceptron ran in: 0.0 sec\n",
      "multilayer_perceptron ran in: 0.0 sec\n",
      "multilayer_perceptron ran in: 0.0 sec\n",
      "multilayer_perceptron ran in: 0.0065250396728515625 sec\n",
      "multilayer_perceptron ran in: 0.0 sec\n",
      "multilayer_perceptron ran in: 0.0 sec\n"
     ]
    },
    {
     "name": "stderr",
     "output_type": "stream",
     "text": [
      " 76%|███████▌  | 424/560 [00:12<00:04, 33.87it/s]"
     ]
    },
    {
     "name": "stdout",
     "output_type": "stream",
     "text": [
      "multilayer_perceptron ran in: 0.0 sec\n",
      "multilayer_perceptron ran in: 0.0 sec\n",
      "multilayer_perceptron ran in: 0.0 sec\n",
      "multilayer_perceptron ran in: 0.015624523162841797 sec\n",
      "multilayer_perceptron ran in: 0.0 sec\n",
      "multilayer_perceptron ran in: 0.0 sec\n",
      "multilayer_perceptron ran in: 0.0 sec\n"
     ]
    },
    {
     "name": "stderr",
     "output_type": "stream",
     "text": [
      " 77%|███████▋  | 432/560 [00:12<00:03, 34.19it/s]"
     ]
    },
    {
     "name": "stdout",
     "output_type": "stream",
     "text": [
      "multilayer_perceptron ran in: 0.0 sec\n",
      "multilayer_perceptron ran in: 0.0 sec\n",
      "multilayer_perceptron ran in: 0.0 sec\n",
      "multilayer_perceptron ran in: 0.0 sec\n",
      "multilayer_perceptron ran in: 0.0 sec\n",
      "multilayer_perceptron ran in: 0.0 sec\n",
      "multilayer_perceptron ran in: 0.0 sec\n"
     ]
    },
    {
     "name": "stderr",
     "output_type": "stream",
     "text": [
      "\r",
      " 78%|███████▊  | 436/560 [00:13<00:03, 33.72it/s]"
     ]
    },
    {
     "name": "stdout",
     "output_type": "stream",
     "text": [
      "multilayer_perceptron ran in: 0.0 sec\n",
      "multilayer_perceptron ran in: 0.0 sec\n",
      "multilayer_perceptron ran in: 0.0 sec\n",
      "multilayer_perceptron ran in: 0.0 sec\n",
      "multilayer_perceptron ran in: 0.0 sec\n",
      "multilayer_perceptron ran in: 0.01560831069946289 sec\n",
      "multilayer_perceptron ran in: 0.0 sec\n"
     ]
    },
    {
     "name": "stderr",
     "output_type": "stream",
     "text": [
      " 79%|███████▉  | 444/560 [00:13<00:03, 34.12it/s]"
     ]
    },
    {
     "name": "stdout",
     "output_type": "stream",
     "text": [
      "multilayer_perceptron ran in: 0.0 sec\n",
      "multilayer_perceptron ran in: 0.0 sec\n",
      "multilayer_perceptron ran in: 0.0 sec\n",
      "multilayer_perceptron ran in: 0.01563858985900879 sec\n",
      "multilayer_perceptron ran in: 0.0 sec\n",
      "multilayer_perceptron ran in: 0.0 sec\n",
      "multilayer_perceptron ran in: 0.0 sec\n",
      "multilayer_perceptron ran in: 0.0 sec\n"
     ]
    },
    {
     "name": "stderr",
     "output_type": "stream",
     "text": [
      " 81%|████████  | 452/560 [00:13<00:03, 32.99it/s]"
     ]
    },
    {
     "name": "stdout",
     "output_type": "stream",
     "text": [
      "multilayer_perceptron ran in: 0.0 sec\n",
      "multilayer_perceptron ran in: 0.0 sec\n",
      "multilayer_perceptron ran in: 0.006523609161376953 sec\n",
      "multilayer_perceptron ran in: 0.0 sec\n",
      "multilayer_perceptron ran in: 0.0 sec\n",
      "multilayer_perceptron ran in: 0.0 sec\n",
      "multilayer_perceptron ran in: 0.0 sec\n",
      "multilayer_perceptron ran in: 0.0 sec\n"
     ]
    },
    {
     "name": "stderr",
     "output_type": "stream",
     "text": [
      " 82%|████████▏ | 460/560 [00:13<00:02, 34.54it/s]"
     ]
    },
    {
     "name": "stdout",
     "output_type": "stream",
     "text": [
      "multilayer_perceptron ran in: 0.0 sec\n",
      "multilayer_perceptron ran in: 0.0 sec\n",
      "multilayer_perceptron ran in: 0.0 sec\n",
      "multilayer_perceptron ran in: 0.0 sec\n",
      "multilayer_perceptron ran in: 0.0 sec\n",
      "multilayer_perceptron ran in: 0.0 sec\n",
      "multilayer_perceptron ran in: 0.0 sec\n"
     ]
    },
    {
     "name": "stderr",
     "output_type": "stream",
     "text": [
      " 84%|████████▎ | 468/560 [00:14<00:02, 33.18it/s]"
     ]
    },
    {
     "name": "stdout",
     "output_type": "stream",
     "text": [
      "multilayer_perceptron ran in: 0.0 sec\n",
      "multilayer_perceptron ran in: 0.0 sec\n",
      "multilayer_perceptron ran in: 0.0 sec\n",
      "multilayer_perceptron ran in: 0.0 sec\n",
      "multilayer_perceptron ran in: 0.0 sec\n",
      "multilayer_perceptron ran in: 0.0 sec\n",
      "multilayer_perceptron ran in: 0.0 sec\n",
      "multilayer_perceptron ran in: 0.0 sec\n"
     ]
    },
    {
     "name": "stderr",
     "output_type": "stream",
     "text": [
      " 85%|████████▌ | 476/560 [00:14<00:02, 33.47it/s]"
     ]
    },
    {
     "name": "stdout",
     "output_type": "stream",
     "text": [
      "multilayer_perceptron ran in: 0.01565241813659668 sec\n",
      "multilayer_perceptron ran in: 0.0 sec\n",
      "multilayer_perceptron ran in: 0.0 sec\n",
      "multilayer_perceptron ran in: 0.0 sec\n",
      "multilayer_perceptron ran in: 0.0 sec\n",
      "multilayer_perceptron ran in: 0.0 sec\n",
      "multilayer_perceptron ran in: 0.0 sec\n"
     ]
    },
    {
     "name": "stderr",
     "output_type": "stream",
     "text": [
      " 86%|████████▋ | 484/560 [00:14<00:02, 33.87it/s]"
     ]
    },
    {
     "name": "stdout",
     "output_type": "stream",
     "text": [
      "multilayer_perceptron ran in: 0.0 sec\n",
      "multilayer_perceptron ran in: 0.0 sec\n",
      "multilayer_perceptron ran in: 0.0 sec\n",
      "multilayer_perceptron ran in: 0.0 sec\n",
      "multilayer_perceptron ran in: 0.0 sec\n",
      "multilayer_perceptron ran in: 0.0 sec\n",
      "multilayer_perceptron ran in: 0.0 sec\n"
     ]
    },
    {
     "name": "stderr",
     "output_type": "stream",
     "text": [
      "\r",
      " 87%|████████▋ | 488/560 [00:14<00:02, 34.06it/s]"
     ]
    },
    {
     "name": "stdout",
     "output_type": "stream",
     "text": [
      "multilayer_perceptron ran in: 0.0 sec\n",
      "multilayer_perceptron ran in: 0.0 sec\n",
      "multilayer_perceptron ran in: 0.0 sec\n",
      "multilayer_perceptron ran in: 0.0 sec\n",
      "multilayer_perceptron ran in: 0.0 sec\n",
      "multilayer_perceptron ran in: 0.0 sec\n",
      "multilayer_perceptron ran in: 0.0 sec\n"
     ]
    },
    {
     "name": "stderr",
     "output_type": "stream",
     "text": [
      " 89%|████████▊ | 496/560 [00:14<00:01, 32.97it/s]"
     ]
    },
    {
     "name": "stdout",
     "output_type": "stream",
     "text": [
      "multilayer_perceptron ran in: 0.0 sec\n",
      "multilayer_perceptron ran in: 0.0 sec\n",
      "multilayer_perceptron ran in: 0.0 sec\n",
      "multilayer_perceptron ran in: 0.015625953674316406 sec\n",
      "multilayer_perceptron ran in: 0.0 sec\n",
      "multilayer_perceptron ran in: 0.0 sec\n",
      "multilayer_perceptron ran in: 0.0 sec\n"
     ]
    },
    {
     "name": "stderr",
     "output_type": "stream",
     "text": [
      " 90%|█████████ | 504/560 [00:15<00:01, 33.35it/s]"
     ]
    },
    {
     "name": "stdout",
     "output_type": "stream",
     "text": [
      "multilayer_perceptron ran in: 0.0 sec\n",
      "multilayer_perceptron ran in: 0.0 sec\n",
      "multilayer_perceptron ran in: 0.0 sec\n",
      "multilayer_perceptron ran in: 0.0 sec\n",
      "multilayer_perceptron ran in: 0.0 sec\n",
      "multilayer_perceptron ran in: 0.0 sec\n",
      "multilayer_perceptron ran in: 0.0 sec\n"
     ]
    },
    {
     "name": "stderr",
     "output_type": "stream",
     "text": [
      "\r",
      " 91%|█████████ | 508/560 [00:15<00:01, 33.69it/s]"
     ]
    },
    {
     "name": "stdout",
     "output_type": "stream",
     "text": [
      "multilayer_perceptron ran in: 0.0 sec\n",
      "multilayer_perceptron ran in: 0.0 sec\n",
      "multilayer_perceptron ran in: 0.0 sec\n",
      "multilayer_perceptron ran in: 0.0 sec\n",
      "multilayer_perceptron ran in: 0.0 sec\n",
      "multilayer_perceptron ran in: 0.0 sec\n"
     ]
    },
    {
     "name": "stderr",
     "output_type": "stream",
     "text": [
      " 92%|█████████▏| 516/560 [00:15<00:01, 33.18it/s]"
     ]
    },
    {
     "name": "stdout",
     "output_type": "stream",
     "text": [
      "multilayer_perceptron ran in: 0.0 sec\n",
      "multilayer_perceptron ran in: 0.0 sec\n",
      "multilayer_perceptron ran in: 0.0 sec\n",
      "multilayer_perceptron ran in: 0.0 sec\n",
      "multilayer_perceptron ran in: 0.0 sec\n",
      "multilayer_perceptron ran in: 0.0 sec\n",
      "multilayer_perceptron ran in: 0.0 sec\n"
     ]
    },
    {
     "name": "stderr",
     "output_type": "stream",
     "text": [
      " 94%|█████████▎| 524/560 [00:15<00:01, 33.46it/s]"
     ]
    },
    {
     "name": "stdout",
     "output_type": "stream",
     "text": [
      "multilayer_perceptron ran in: 0.0 sec\n",
      "multilayer_perceptron ran in: 0.0 sec\n",
      "multilayer_perceptron ran in: 0.0 sec\n",
      "multilayer_perceptron ran in: 0.01562643051147461 sec\n",
      "multilayer_perceptron ran in: 0.0 sec\n",
      "multilayer_perceptron ran in: 0.0 sec\n",
      "multilayer_perceptron ran in: 0.0 sec\n"
     ]
    },
    {
     "name": "stderr",
     "output_type": "stream",
     "text": [
      " 95%|█████████▌| 532/560 [00:15<00:00, 32.69it/s]"
     ]
    },
    {
     "name": "stdout",
     "output_type": "stream",
     "text": [
      "multilayer_perceptron ran in: 0.0 sec\n",
      "multilayer_perceptron ran in: 0.0 sec\n",
      "multilayer_perceptron ran in: 0.0 sec\n",
      "multilayer_perceptron ran in: 0.0 sec\n",
      "multilayer_perceptron ran in: 0.0 sec\n",
      "multilayer_perceptron ran in: 0.0 sec\n",
      "multilayer_perceptron ran in: 0.0 sec\n"
     ]
    },
    {
     "name": "stderr",
     "output_type": "stream",
     "text": [
      "\r",
      " 96%|█████████▌| 536/560 [00:16<00:00, 33.21it/s]"
     ]
    },
    {
     "name": "stdout",
     "output_type": "stream",
     "text": [
      "multilayer_perceptron ran in: 0.0 sec\n",
      "multilayer_perceptron ran in: 0.0 sec\n",
      "multilayer_perceptron ran in: 0.0 sec\n",
      "multilayer_perceptron ran in: 0.0 sec\n",
      "multilayer_perceptron ran in: 0.0 sec\n",
      "multilayer_perceptron ran in: 0.0 sec\n",
      "multilayer_perceptron ran in: 0.0 sec\n"
     ]
    },
    {
     "name": "stderr",
     "output_type": "stream",
     "text": [
      " 97%|█████████▋| 544/560 [00:16<00:00, 33.50it/s]"
     ]
    },
    {
     "name": "stdout",
     "output_type": "stream",
     "text": [
      "multilayer_perceptron ran in: 0.0 sec\n",
      "multilayer_perceptron ran in: 0.0 sec\n",
      "multilayer_perceptron ran in: 0.0 sec\n",
      "multilayer_perceptron ran in: 0.0 sec\n",
      "multilayer_perceptron ran in: 0.0 sec\n",
      "multilayer_perceptron ran in: 0.015622615814208984 sec\n",
      "multilayer_perceptron ran in: 0.0 sec\n"
     ]
    },
    {
     "name": "stderr",
     "output_type": "stream",
     "text": [
      " 99%|█████████▊| 552/560 [00:16<00:00, 32.70it/s]"
     ]
    },
    {
     "name": "stdout",
     "output_type": "stream",
     "text": [
      "multilayer_perceptron ran in: 0.0 sec\n",
      "multilayer_perceptron ran in: 0.0 sec\n",
      "multilayer_perceptron ran in: 0.0 sec\n",
      "multilayer_perceptron ran in: 0.0 sec\n",
      "multilayer_perceptron ran in: 0.0 sec\n",
      "multilayer_perceptron ran in: 0.0 sec\n"
     ]
    },
    {
     "name": "stderr",
     "output_type": "stream",
     "text": [
      "\r",
      " 99%|█████████▉| 556/560 [00:16<00:00, 33.22it/s]"
     ]
    },
    {
     "name": "stdout",
     "output_type": "stream",
     "text": [
      "multilayer_perceptron ran in: 0.0 sec\n",
      "multilayer_perceptron ran in: 0.0 sec\n",
      "multilayer_perceptron ran in: 0.0 sec\n",
      "multilayer_perceptron ran in: 0.0 sec\n",
      "multilayer_perceptron ran in: 0.01563549041748047 sec\n",
      "multilayer_perceptron ran in: 0.0 sec\n",
      "multilayer_perceptron ran in: 0.0 sec\n"
     ]
    },
    {
     "name": "stderr",
     "output_type": "stream",
     "text": [
      "100%|██████████| 560/560 [00:16<00:00, 33.34it/s]\n"
     ]
    },
    {
     "name": "stdout",
     "output_type": "stream",
     "text": [
      "multilayer_perceptron ran in: 0.0 sec\n",
      "Epoch: 5 Cost=50062.9414\n"
     ]
    },
    {
     "name": "stderr",
     "output_type": "stream",
     "text": [
      "  1%|          | 4/560 [00:00<00:16, 34.50it/s]"
     ]
    },
    {
     "name": "stdout",
     "output_type": "stream",
     "text": [
      "multilayer_perceptron ran in: 0.0 sec\n",
      "multilayer_perceptron ran in: 0.0 sec\n",
      "multilayer_perceptron ran in: 0.0 sec\n",
      "multilayer_perceptron ran in: 0.0 sec\n",
      "multilayer_perceptron ran in: 0.015612125396728516 sec\n",
      "multilayer_perceptron ran in: 0.0 sec\n"
     ]
    },
    {
     "name": "stderr",
     "output_type": "stream",
     "text": [
      "  2%|▏         | 12/560 [00:00<00:15, 34.51it/s]"
     ]
    },
    {
     "name": "stdout",
     "output_type": "stream",
     "text": [
      "multilayer_perceptron ran in: 0.0 sec\n",
      "multilayer_perceptron ran in: 0.0 sec\n",
      "multilayer_perceptron ran in: 0.0 sec\n",
      "multilayer_perceptron ran in: 0.0 sec\n",
      "multilayer_perceptron ran in: 0.0 sec\n",
      "multilayer_perceptron ran in: 0.0 sec\n",
      "multilayer_perceptron ran in: 0.0 sec\n"
     ]
    },
    {
     "name": "stderr",
     "output_type": "stream",
     "text": [
      "\r",
      "  3%|▎         | 16/560 [00:00<00:16, 32.77it/s]"
     ]
    },
    {
     "name": "stdout",
     "output_type": "stream",
     "text": [
      "multilayer_perceptron ran in: 0.0 sec\n",
      "multilayer_perceptron ran in: 0.0 sec\n",
      "multilayer_perceptron ran in: 0.0 sec\n",
      "multilayer_perceptron ran in: 0.0 sec\n",
      "multilayer_perceptron ran in: 0.0 sec\n",
      "multilayer_perceptron ran in: 0.0 sec\n",
      "multilayer_perceptron ran in: 0.0 sec\n"
     ]
    },
    {
     "name": "stderr",
     "output_type": "stream",
     "text": [
      "  4%|▍         | 24/560 [00:00<00:15, 34.66it/s]"
     ]
    },
    {
     "name": "stdout",
     "output_type": "stream",
     "text": [
      "multilayer_perceptron ran in: 0.0 sec\n",
      "multilayer_perceptron ran in: 0.0 sec\n",
      "multilayer_perceptron ran in: 0.0 sec\n",
      "multilayer_perceptron ran in: 0.0 sec\n",
      "multilayer_perceptron ran in: 0.0 sec\n",
      "multilayer_perceptron ran in: 0.0 sec\n",
      "multilayer_perceptron ran in: 0.0 sec\n"
     ]
    },
    {
     "name": "stderr",
     "output_type": "stream",
     "text": [
      "  6%|▌         | 32/560 [00:00<00:15, 33.15it/s]"
     ]
    },
    {
     "name": "stdout",
     "output_type": "stream",
     "text": [
      "multilayer_perceptron ran in: 0.0 sec\n",
      "multilayer_perceptron ran in: 0.0 sec\n",
      "multilayer_perceptron ran in: 0.0 sec\n",
      "multilayer_perceptron ran in: 0.0 sec\n",
      "multilayer_perceptron ran in: 0.0 sec\n",
      "multilayer_perceptron ran in: 0.0 sec\n",
      "multilayer_perceptron ran in: 0.0 sec\n"
     ]
    },
    {
     "name": "stderr",
     "output_type": "stream",
     "text": [
      "  7%|▋         | 40/560 [00:01<00:15, 33.85it/s]"
     ]
    },
    {
     "name": "stdout",
     "output_type": "stream",
     "text": [
      "multilayer_perceptron ran in: 0.015650272369384766 sec\n",
      "multilayer_perceptron ran in: 0.0 sec\n",
      "multilayer_perceptron ran in: 0.0 sec\n",
      "multilayer_perceptron ran in: 0.0 sec\n",
      "multilayer_perceptron ran in: 0.0 sec\n",
      "multilayer_perceptron ran in: 0.0 sec\n",
      "multilayer_perceptron ran in: 0.0 sec\n"
     ]
    },
    {
     "name": "stderr",
     "output_type": "stream",
     "text": [
      "\r",
      "  8%|▊         | 44/560 [00:01<00:15, 33.48it/s]"
     ]
    },
    {
     "name": "stdout",
     "output_type": "stream",
     "text": [
      "multilayer_perceptron ran in: 0.0 sec\n",
      "multilayer_perceptron ran in: 0.0 sec\n",
      "multilayer_perceptron ran in: 0.0 sec\n",
      "multilayer_perceptron ran in: 0.0 sec\n",
      "multilayer_perceptron ran in: 0.0 sec\n",
      "multilayer_perceptron ran in: 0.0 sec\n",
      "multilayer_perceptron ran in: 0.0 sec\n"
     ]
    },
    {
     "name": "stderr",
     "output_type": "stream",
     "text": [
      "  9%|▉         | 52/560 [00:01<00:14, 34.02it/s]"
     ]
    },
    {
     "name": "stdout",
     "output_type": "stream",
     "text": [
      "multilayer_perceptron ran in: 0.0 sec\n",
      "multilayer_perceptron ran in: 0.0 sec\n",
      "multilayer_perceptron ran in: 0.0 sec\n",
      "multilayer_perceptron ran in: 0.0 sec\n",
      "multilayer_perceptron ran in: 0.0 sec\n",
      "multilayer_perceptron ran in: 0.0 sec\n",
      "multilayer_perceptron ran in: 0.0 sec\n"
     ]
    },
    {
     "name": "stderr",
     "output_type": "stream",
     "text": [
      " 11%|█         | 60/560 [00:01<00:15, 32.94it/s]"
     ]
    },
    {
     "name": "stdout",
     "output_type": "stream",
     "text": [
      "multilayer_perceptron ran in: 0.0 sec\n",
      "multilayer_perceptron ran in: 0.0 sec\n",
      "multilayer_perceptron ran in: 0.0 sec\n",
      "multilayer_perceptron ran in: 0.0 sec\n",
      "multilayer_perceptron ran in: 0.01563119888305664 sec\n",
      "multilayer_perceptron ran in: 0.0156252384185791 sec\n",
      "multilayer_perceptron ran in: 0.0 sec\n"
     ]
    },
    {
     "name": "stderr",
     "output_type": "stream",
     "text": [
      " 12%|█▏        | 68/560 [00:02<00:14, 33.34it/s]"
     ]
    },
    {
     "name": "stdout",
     "output_type": "stream",
     "text": [
      "multilayer_perceptron ran in: 0.0 sec\n",
      "multilayer_perceptron ran in: 0.0 sec\n",
      "multilayer_perceptron ran in: 0.0 sec\n",
      "multilayer_perceptron ran in: 0.0 sec\n",
      "multilayer_perceptron ran in: 0.0 sec\n",
      "multilayer_perceptron ran in: 0.0 sec\n",
      "multilayer_perceptron ran in: 0.0 sec\n",
      "multilayer_perceptron ran in: 0.0 sec\n"
     ]
    },
    {
     "name": "stderr",
     "output_type": "stream",
     "text": [
      " 14%|█▎        | 76/560 [00:02<00:14, 33.93it/s]"
     ]
    },
    {
     "name": "stdout",
     "output_type": "stream",
     "text": [
      "multilayer_perceptron ran in: 0.0 sec\n",
      "multilayer_perceptron ran in: 0.0 sec\n",
      "multilayer_perceptron ran in: 0.0 sec\n",
      "multilayer_perceptron ran in: 0.0 sec\n",
      "multilayer_perceptron ran in: 0.0 sec\n",
      "multilayer_perceptron ran in: 0.0 sec\n"
     ]
    },
    {
     "name": "stderr",
     "output_type": "stream",
     "text": [
      "\r",
      " 14%|█▍        | 80/560 [00:02<00:14, 34.10it/s]"
     ]
    },
    {
     "name": "stdout",
     "output_type": "stream",
     "text": [
      "multilayer_perceptron ran in: 0.0 sec\n",
      "multilayer_perceptron ran in: 0.0 sec\n",
      "multilayer_perceptron ran in: 0.0 sec\n",
      "multilayer_perceptron ran in: 0.0 sec\n",
      "multilayer_perceptron ran in: 0.0 sec\n",
      "multilayer_perceptron ran in: 0.015635967254638672 sec\n",
      "multilayer_perceptron ran in: 0.0 sec\n"
     ]
    },
    {
     "name": "stderr",
     "output_type": "stream",
     "text": [
      " 16%|█▌        | 88/560 [00:02<00:13, 34.14it/s]"
     ]
    },
    {
     "name": "stdout",
     "output_type": "stream",
     "text": [
      "multilayer_perceptron ran in: 0.0 sec\n",
      "multilayer_perceptron ran in: 0.0 sec\n",
      "multilayer_perceptron ran in: 0.0 sec\n",
      "multilayer_perceptron ran in: 0.015624523162841797 sec\n",
      "multilayer_perceptron ran in: 0.0 sec\n",
      "multilayer_perceptron ran in: 0.0 sec\n",
      "multilayer_perceptron ran in: 0.0 sec\n"
     ]
    },
    {
     "name": "stderr",
     "output_type": "stream",
     "text": [
      " 17%|█▋        | 96/560 [00:02<00:13, 33.39it/s]"
     ]
    },
    {
     "name": "stdout",
     "output_type": "stream",
     "text": [
      "multilayer_perceptron ran in: 0.0 sec\n",
      "multilayer_perceptron ran in: 0.0 sec\n",
      "multilayer_perceptron ran in: 0.0 sec\n",
      "multilayer_perceptron ran in: 0.0 sec\n",
      "multilayer_perceptron ran in: 0.0 sec\n",
      "multilayer_perceptron ran in: 0.0 sec\n",
      "multilayer_perceptron ran in: 0.0 sec\n"
     ]
    },
    {
     "name": "stderr",
     "output_type": "stream",
     "text": [
      "\r",
      " 18%|█▊        | 100/560 [00:02<00:13, 33.72it/s]"
     ]
    },
    {
     "name": "stdout",
     "output_type": "stream",
     "text": [
      "multilayer_perceptron ran in: 0.0 sec\n",
      "multilayer_perceptron ran in: 0.0 sec\n",
      "multilayer_perceptron ran in: 0.0 sec\n",
      "multilayer_perceptron ran in: 0.015624523162841797 sec\n",
      "multilayer_perceptron ran in: 0.0 sec\n",
      "multilayer_perceptron ran in: 0.0 sec\n"
     ]
    },
    {
     "name": "stderr",
     "output_type": "stream",
     "text": [
      " 19%|█▉        | 108/560 [00:03<00:13, 33.56it/s]"
     ]
    },
    {
     "name": "stdout",
     "output_type": "stream",
     "text": [
      "multilayer_perceptron ran in: 0.0 sec\n",
      "multilayer_perceptron ran in: 0.0 sec\n",
      "multilayer_perceptron ran in: 0.0 sec\n",
      "multilayer_perceptron ran in: 0.0 sec\n",
      "multilayer_perceptron ran in: 0.0 sec\n",
      "multilayer_perceptron ran in: 0.0 sec\n",
      "multilayer_perceptron ran in: 0.0 sec\n",
      "multilayer_perceptron ran in: 0.0 sec\n"
     ]
    },
    {
     "name": "stderr",
     "output_type": "stream",
     "text": [
      " 21%|██        | 116/560 [00:03<00:13, 33.75it/s]"
     ]
    },
    {
     "name": "stdout",
     "output_type": "stream",
     "text": [
      "multilayer_perceptron ran in: 0.0 sec\n",
      "multilayer_perceptron ran in: 0.0 sec\n",
      "multilayer_perceptron ran in: 0.0 sec\n",
      "multilayer_perceptron ran in: 0.0 sec\n",
      "multilayer_perceptron ran in: 0.0 sec\n",
      "multilayer_perceptron ran in: 0.0 sec\n",
      "multilayer_perceptron ran in: 0.0 sec\n"
     ]
    },
    {
     "name": "stderr",
     "output_type": "stream",
     "text": [
      " 22%|██▏       | 124/560 [00:03<00:12, 34.34it/s]"
     ]
    },
    {
     "name": "stdout",
     "output_type": "stream",
     "text": [
      "multilayer_perceptron ran in: 0.0 sec\n",
      "multilayer_perceptron ran in: 0.0 sec\n",
      "multilayer_perceptron ran in: 0.015611648559570312 sec\n",
      "multilayer_perceptron ran in: 0.0 sec\n",
      "multilayer_perceptron ran in: 0.0 sec\n",
      "multilayer_perceptron ran in: 0.0 sec\n",
      "multilayer_perceptron ran in: 0.0 sec\n",
      "multilayer_perceptron ran in: 0.0 sec\n"
     ]
    },
    {
     "name": "stderr",
     "output_type": "stream",
     "text": [
      " 24%|██▎       | 132/560 [00:03<00:12, 33.86it/s]"
     ]
    },
    {
     "name": "stdout",
     "output_type": "stream",
     "text": [
      "multilayer_perceptron ran in: 0.0 sec\n",
      "multilayer_perceptron ran in: 0.0 sec\n",
      "multilayer_perceptron ran in: 0.0 sec\n",
      "multilayer_perceptron ran in: 0.0 sec\n",
      "multilayer_perceptron ran in: 0.0 sec\n",
      "multilayer_perceptron ran in: 0.0 sec\n",
      "multilayer_perceptron ran in: 0.0 sec\n",
      "multilayer_perceptron ran in: 0.0 sec\n"
     ]
    },
    {
     "name": "stderr",
     "output_type": "stream",
     "text": [
      " 25%|██▌       | 140/560 [00:04<00:12, 34.18it/s]"
     ]
    },
    {
     "name": "stdout",
     "output_type": "stream",
     "text": [
      "multilayer_perceptron ran in: 0.0 sec\n",
      "multilayer_perceptron ran in: 0.0 sec\n",
      "multilayer_perceptron ran in: 0.0 sec\n",
      "multilayer_perceptron ran in: 0.01563739776611328 sec\n",
      "multilayer_perceptron ran in: 0.0 sec\n",
      "multilayer_perceptron ran in: 0.0 sec\n",
      "multilayer_perceptron ran in: 0.0 sec\n"
     ]
    },
    {
     "name": "stderr",
     "output_type": "stream",
     "text": [
      " 26%|██▋       | 148/560 [00:04<00:11, 34.35it/s]"
     ]
    },
    {
     "name": "stdout",
     "output_type": "stream",
     "text": [
      "multilayer_perceptron ran in: 0.0 sec\n",
      "multilayer_perceptron ran in: 0.0 sec\n",
      "multilayer_perceptron ran in: 0.0 sec\n",
      "multilayer_perceptron ran in: 0.0 sec\n",
      "multilayer_perceptron ran in: 0.0 sec\n",
      "multilayer_perceptron ran in: 0.0 sec\n",
      "multilayer_perceptron ran in: 0.0 sec\n"
     ]
    },
    {
     "name": "stderr",
     "output_type": "stream",
     "text": [
      "\r",
      " 27%|██▋       | 152/560 [00:04<00:12, 33.06it/s]"
     ]
    },
    {
     "name": "stdout",
     "output_type": "stream",
     "text": [
      "multilayer_perceptron ran in: 0.0 sec\n",
      "multilayer_perceptron ran in: 0.0 sec\n",
      "multilayer_perceptron ran in: 0.0 sec\n",
      "multilayer_perceptron ran in: 0.0 sec\n",
      "multilayer_perceptron ran in: 0.0 sec\n",
      "multilayer_perceptron ran in: 0.0 sec\n"
     ]
    },
    {
     "name": "stderr",
     "output_type": "stream",
     "text": [
      " 29%|██▊       | 160/560 [00:04<00:12, 33.01it/s]"
     ]
    },
    {
     "name": "stdout",
     "output_type": "stream",
     "text": [
      "multilayer_perceptron ran in: 0.0 sec\n",
      "multilayer_perceptron ran in: 0.0 sec\n",
      "multilayer_perceptron ran in: 0.0 sec\n",
      "multilayer_perceptron ran in: 0.0 sec\n",
      "multilayer_perceptron ran in: 0.0 sec\n",
      "multilayer_perceptron ran in: 0.0 sec\n",
      "multilayer_perceptron ran in: 0.0 sec\n"
     ]
    },
    {
     "name": "stderr",
     "output_type": "stream",
     "text": [
      "\r",
      " 29%|██▉       | 164/560 [00:04<00:11, 33.45it/s]"
     ]
    },
    {
     "name": "stdout",
     "output_type": "stream",
     "text": [
      "multilayer_perceptron ran in: 0.0 sec\n",
      "multilayer_perceptron ran in: 0.0 sec\n",
      "multilayer_perceptron ran in: 0.0 sec\n"
     ]
    },
    {
     "name": "stderr",
     "output_type": "stream",
     "text": [
      " 31%|███       | 171/560 [00:05<00:14, 26.93it/s]"
     ]
    },
    {
     "name": "stdout",
     "output_type": "stream",
     "text": [
      "multilayer_perceptron ran in: 0.0 sec\n",
      "multilayer_perceptron ran in: 0.0 sec\n",
      "multilayer_perceptron ran in: 0.0 sec\n",
      "multilayer_perceptron ran in: 0.0 sec\n",
      "multilayer_perceptron ran in: 0.0065364837646484375 sec\n",
      "multilayer_perceptron ran in: 0.0 sec\n",
      "multilayer_perceptron ran in: 0.0 sec\n"
     ]
    },
    {
     "name": "stderr",
     "output_type": "stream",
     "text": [
      "\r",
      " 31%|███▏      | 175/560 [00:05<00:13, 28.94it/s]"
     ]
    },
    {
     "name": "stdout",
     "output_type": "stream",
     "text": [
      "multilayer_perceptron ran in: 0.0 sec\n",
      "multilayer_perceptron ran in: 0.0 sec\n",
      "multilayer_perceptron ran in: 0.01563286781311035 sec\n",
      "multilayer_perceptron ran in: 0.0 sec\n",
      "multilayer_perceptron ran in: 0.0 sec\n",
      "multilayer_perceptron ran in: 0.0 sec\n",
      "multilayer_perceptron ran in: 0.0 sec\n"
     ]
    },
    {
     "name": "stderr",
     "output_type": "stream",
     "text": [
      " 33%|███▎      | 183/560 [00:05<00:12, 30.93it/s]"
     ]
    },
    {
     "name": "stdout",
     "output_type": "stream",
     "text": [
      "multilayer_perceptron ran in: 0.015625953674316406 sec\n",
      "multilayer_perceptron ran in: 0.0 sec\n",
      "multilayer_perceptron ran in: 0.0 sec\n",
      "multilayer_perceptron ran in: 0.015623807907104492 sec\n",
      "multilayer_perceptron ran in: 0.0 sec\n",
      "multilayer_perceptron ran in: 0.0 sec\n",
      "multilayer_perceptron ran in: 0.0 sec\n"
     ]
    },
    {
     "name": "stderr",
     "output_type": "stream",
     "text": [
      " 34%|███▍      | 191/560 [00:05<00:11, 32.68it/s]"
     ]
    },
    {
     "name": "stdout",
     "output_type": "stream",
     "text": [
      "multilayer_perceptron ran in: 0.006529092788696289 sec\n",
      "multilayer_perceptron ran in: 0.015624284744262695 sec\n",
      "multilayer_perceptron ran in: 0.0 sec\n",
      "multilayer_perceptron ran in: 0.0 sec\n",
      "multilayer_perceptron ran in: 0.0 sec\n",
      "multilayer_perceptron ran in: 0.0 sec\n",
      "multilayer_perceptron ran in: 0.0 sec\n",
      "multilayer_perceptron ran in: 0.0 sec\n"
     ]
    },
    {
     "name": "stderr",
     "output_type": "stream",
     "text": [
      " 36%|███▌      | 199/560 [00:06<00:10, 33.05it/s]"
     ]
    },
    {
     "name": "stdout",
     "output_type": "stream",
     "text": [
      "multilayer_perceptron ran in: 0.0 sec\n",
      "multilayer_perceptron ran in: 0.0 sec\n",
      "multilayer_perceptron ran in: 0.0 sec\n",
      "multilayer_perceptron ran in: 0.0 sec\n",
      "multilayer_perceptron ran in: 0.0 sec\n",
      "multilayer_perceptron ran in: 0.0 sec\n",
      "multilayer_perceptron ran in: 0.0 sec\n"
     ]
    },
    {
     "name": "stderr",
     "output_type": "stream",
     "text": [
      " 37%|███▋      | 207/560 [00:06<00:10, 33.78it/s]"
     ]
    },
    {
     "name": "stdout",
     "output_type": "stream",
     "text": [
      "multilayer_perceptron ran in: 0.01564168930053711 sec\n",
      "multilayer_perceptron ran in: 0.0 sec\n",
      "multilayer_perceptron ran in: 0.0 sec\n",
      "multilayer_perceptron ran in: 0.0 sec\n",
      "multilayer_perceptron ran in: 0.0 sec\n",
      "multilayer_perceptron ran in: 0.015625476837158203 sec\n",
      "multilayer_perceptron ran in: 0.0 sec\n"
     ]
    },
    {
     "name": "stderr",
     "output_type": "stream",
     "text": [
      "\r",
      " 38%|███▊      | 211/560 [00:06<00:10, 33.99it/s]"
     ]
    },
    {
     "name": "stdout",
     "output_type": "stream",
     "text": [
      "multilayer_perceptron ran in: 0.0 sec\n",
      "multilayer_perceptron ran in: 0.0 sec\n",
      "multilayer_perceptron ran in: 0.0 sec\n",
      "multilayer_perceptron ran in: 0.0 sec\n",
      "multilayer_perceptron ran in: 0.0 sec\n",
      "multilayer_perceptron ran in: 0.0 sec\n",
      "multilayer_perceptron ran in: 0.0 sec\n"
     ]
    },
    {
     "name": "stderr",
     "output_type": "stream",
     "text": [
      " 39%|███▉      | 219/560 [00:06<00:10, 33.32it/s]"
     ]
    },
    {
     "name": "stdout",
     "output_type": "stream",
     "text": [
      "multilayer_perceptron ran in: 0.0 sec\n",
      "multilayer_perceptron ran in: 0.0 sec\n",
      "multilayer_perceptron ran in: 0.0 sec\n",
      "multilayer_perceptron ran in: 0.0 sec\n",
      "multilayer_perceptron ran in: 0.0156252384185791 sec\n",
      "multilayer_perceptron ran in: 0.0 sec\n",
      "multilayer_perceptron ran in: 0.0 sec\n"
     ]
    },
    {
     "name": "stderr",
     "output_type": "stream",
     "text": [
      " 41%|████      | 227/560 [00:06<00:09, 33.52it/s]"
     ]
    },
    {
     "name": "stdout",
     "output_type": "stream",
     "text": [
      "multilayer_perceptron ran in: 0.0 sec\n",
      "multilayer_perceptron ran in: 0.0 sec\n",
      "multilayer_perceptron ran in: 0.0 sec\n",
      "multilayer_perceptron ran in: 0.0 sec\n",
      "multilayer_perceptron ran in: 0.0 sec\n",
      "multilayer_perceptron ran in: 0.0 sec\n",
      "multilayer_perceptron ran in: 0.0 sec\n"
     ]
    },
    {
     "name": "stderr",
     "output_type": "stream",
     "text": [
      " 42%|████▏     | 235/560 [00:07<00:09, 34.02it/s]"
     ]
    },
    {
     "name": "stdout",
     "output_type": "stream",
     "text": [
      "multilayer_perceptron ran in: 0.0 sec\n",
      "multilayer_perceptron ran in: 0.0 sec\n",
      "multilayer_perceptron ran in: 0.0 sec\n",
      "multilayer_perceptron ran in: 0.015624761581420898 sec\n",
      "multilayer_perceptron ran in: 0.0 sec\n",
      "multilayer_perceptron ran in: 0.0 sec\n",
      "multilayer_perceptron ran in: 0.0 sec\n"
     ]
    },
    {
     "name": "stderr",
     "output_type": "stream",
     "text": [
      "\r",
      " 43%|████▎     | 239/560 [00:07<00:09, 34.17it/s]"
     ]
    },
    {
     "name": "stdout",
     "output_type": "stream",
     "text": [
      "multilayer_perceptron ran in: 0.0 sec\n",
      "multilayer_perceptron ran in: 0.0 sec\n",
      "multilayer_perceptron ran in: 0.0 sec\n",
      "multilayer_perceptron ran in: 0.0 sec\n",
      "multilayer_perceptron ran in: 0.0 sec\n",
      "multilayer_perceptron ran in: 0.0 sec\n",
      "multilayer_perceptron ran in: 0.0 sec\n"
     ]
    },
    {
     "name": "stderr",
     "output_type": "stream",
     "text": [
      " 44%|████▍     | 247/560 [00:07<00:09, 33.57it/s]"
     ]
    },
    {
     "name": "stdout",
     "output_type": "stream",
     "text": [
      "multilayer_perceptron ran in: 0.0 sec\n",
      "multilayer_perceptron ran in: 0.01565861701965332 sec\n",
      "multilayer_perceptron ran in: 0.0 sec\n",
      "multilayer_perceptron ran in: 0.0 sec\n",
      "multilayer_perceptron ran in: 0.0 sec\n",
      "multilayer_perceptron ran in: 0.0 sec\n",
      "multilayer_perceptron ran in: 0.0 sec\n"
     ]
    },
    {
     "name": "stderr",
     "output_type": "stream",
     "text": [
      " 46%|████▌     | 255/560 [00:07<00:08, 34.32it/s]"
     ]
    },
    {
     "name": "stdout",
     "output_type": "stream",
     "text": [
      "multilayer_perceptron ran in: 0.0 sec\n",
      "multilayer_perceptron ran in: 0.0 sec\n",
      "multilayer_perceptron ran in: 0.0 sec\n",
      "multilayer_perceptron ran in: 0.0 sec\n",
      "multilayer_perceptron ran in: 0.0 sec\n",
      "multilayer_perceptron ran in: 0.0 sec\n"
     ]
    },
    {
     "name": "stderr",
     "output_type": "stream",
     "text": [
      "\r",
      " 46%|████▋     | 259/560 [00:07<00:08, 34.38it/s]"
     ]
    },
    {
     "name": "stdout",
     "output_type": "stream",
     "text": [
      "multilayer_perceptron ran in: 0.0 sec\n",
      "multilayer_perceptron ran in: 0.0 sec\n",
      "multilayer_perceptron ran in: 0.0 sec\n",
      "multilayer_perceptron ran in: 0.0 sec\n",
      "multilayer_perceptron ran in: 0.0 sec\n",
      "multilayer_perceptron ran in: 0.0 sec\n",
      "multilayer_perceptron ran in: 0.0 sec\n"
     ]
    },
    {
     "name": "stderr",
     "output_type": "stream",
     "text": [
      " 48%|████▊     | 267/560 [00:08<00:08, 33.87it/s]"
     ]
    },
    {
     "name": "stdout",
     "output_type": "stream",
     "text": [
      "multilayer_perceptron ran in: 0.0 sec\n",
      "multilayer_perceptron ran in: 0.0 sec\n",
      "multilayer_perceptron ran in: 0.0 sec\n",
      "multilayer_perceptron ran in: 0.0 sec\n",
      "multilayer_perceptron ran in: 0.0 sec\n",
      "multilayer_perceptron ran in: 0.0 sec\n",
      "multilayer_perceptron ran in: 0.015624761581420898 sec\n"
     ]
    },
    {
     "name": "stderr",
     "output_type": "stream",
     "text": [
      " 49%|████▉     | 275/560 [00:08<00:08, 34.19it/s]"
     ]
    },
    {
     "name": "stdout",
     "output_type": "stream",
     "text": [
      "multilayer_perceptron ran in: 0.0 sec\n",
      "multilayer_perceptron ran in: 0.0 sec\n",
      "multilayer_perceptron ran in: 0.0 sec\n",
      "multilayer_perceptron ran in: 0.0 sec\n",
      "multilayer_perceptron ran in: 0.015628576278686523 sec\n",
      "multilayer_perceptron ran in: 0.0 sec\n",
      "multilayer_perceptron ran in: 0.0 sec\n"
     ]
    },
    {
     "name": "stderr",
     "output_type": "stream",
     "text": [
      "\r",
      " 50%|████▉     | 279/560 [00:08<00:08, 32.96it/s]"
     ]
    },
    {
     "name": "stdout",
     "output_type": "stream",
     "text": [
      "multilayer_perceptron ran in: 0.0 sec\n",
      "multilayer_perceptron ran in: 0.0 sec\n",
      "multilayer_perceptron ran in: 0.0 sec\n",
      "multilayer_perceptron ran in: 0.0 sec\n",
      "multilayer_perceptron ran in: 0.0 sec\n",
      "multilayer_perceptron ran in: 0.0 sec\n",
      "multilayer_perceptron ran in: 0.0 sec\n"
     ]
    },
    {
     "name": "stderr",
     "output_type": "stream",
     "text": [
      " 51%|█████▏    | 287/560 [00:08<00:08, 33.74it/s]"
     ]
    },
    {
     "name": "stdout",
     "output_type": "stream",
     "text": [
      "multilayer_perceptron ran in: 0.0 sec\n",
      "multilayer_perceptron ran in: 0.0 sec\n",
      "multilayer_perceptron ran in: 0.01564168930053711 sec\n",
      "multilayer_perceptron ran in: 0.0 sec\n",
      "multilayer_perceptron ran in: 0.0 sec\n",
      "multilayer_perceptron ran in: 0.0 sec\n",
      "multilayer_perceptron ran in: 0.0 sec\n"
     ]
    },
    {
     "name": "stderr",
     "output_type": "stream",
     "text": [
      " 53%|█████▎    | 295/560 [00:08<00:07, 33.73it/s]"
     ]
    },
    {
     "name": "stdout",
     "output_type": "stream",
     "text": [
      "multilayer_perceptron ran in: 0.0 sec\n",
      "multilayer_perceptron ran in: 0.0 sec\n",
      "multilayer_perceptron ran in: 0.0 sec\n",
      "multilayer_perceptron ran in: 0.0 sec\n",
      "multilayer_perceptron ran in: 0.015658140182495117 sec\n",
      "multilayer_perceptron ran in: 0.0156404972076416 sec\n",
      "multilayer_perceptron ran in: 0.0 sec\n"
     ]
    },
    {
     "name": "stderr",
     "output_type": "stream",
     "text": [
      " 54%|█████▍    | 303/560 [00:09<00:07, 34.12it/s]"
     ]
    },
    {
     "name": "stdout",
     "output_type": "stream",
     "text": [
      "multilayer_perceptron ran in: 0.0 sec\n",
      "multilayer_perceptron ran in: 0.0 sec\n",
      "multilayer_perceptron ran in: 0.0 sec\n",
      "multilayer_perceptron ran in: 0.0156402587890625 sec\n",
      "multilayer_perceptron ran in: 0.0 sec\n",
      "multilayer_perceptron ran in: 0.0 sec\n",
      "multilayer_perceptron ran in: 0.0 sec\n"
     ]
    },
    {
     "name": "stderr",
     "output_type": "stream",
     "text": [
      "\r",
      " 55%|█████▍    | 307/560 [00:09<00:07, 34.24it/s]"
     ]
    },
    {
     "name": "stdout",
     "output_type": "stream",
     "text": [
      "multilayer_perceptron ran in: 0.0 sec\n",
      "multilayer_perceptron ran in: 0.0 sec\n",
      "multilayer_perceptron ran in: 0.0 sec\n",
      "multilayer_perceptron ran in: 0.006528139114379883 sec\n",
      "multilayer_perceptron ran in: 0.0 sec\n",
      "multilayer_perceptron ran in: 0.0 sec\n"
     ]
    },
    {
     "name": "stderr",
     "output_type": "stream",
     "text": [
      " 56%|█████▋    | 315/560 [00:09<00:07, 33.60it/s]"
     ]
    },
    {
     "name": "stdout",
     "output_type": "stream",
     "text": [
      "multilayer_perceptron ran in: 0.0 sec\n",
      "multilayer_perceptron ran in: 0.0 sec\n",
      "multilayer_perceptron ran in: 0.0 sec\n",
      "multilayer_perceptron ran in: 0.0 sec\n",
      "multilayer_perceptron ran in: 0.0 sec\n",
      "multilayer_perceptron ran in: 0.015639781951904297 sec\n",
      "multilayer_perceptron ran in: 0.0 sec\n"
     ]
    },
    {
     "name": "stderr",
     "output_type": "stream",
     "text": [
      " 58%|█████▊    | 323/560 [00:09<00:07, 33.01it/s]"
     ]
    },
    {
     "name": "stdout",
     "output_type": "stream",
     "text": [
      "multilayer_perceptron ran in: 0.0 sec\n",
      "multilayer_perceptron ran in: 0.0 sec\n",
      "multilayer_perceptron ran in: 0.0 sec\n",
      "multilayer_perceptron ran in: 0.0 sec\n",
      "multilayer_perceptron ran in: 0.0 sec\n",
      "multilayer_perceptron ran in: 0.0 sec\n",
      "multilayer_perceptron ran in: 0.0 sec\n"
     ]
    },
    {
     "name": "stderr",
     "output_type": "stream",
     "text": [
      " 59%|█████▉    | 331/560 [00:09<00:06, 33.76it/s]"
     ]
    },
    {
     "name": "stdout",
     "output_type": "stream",
     "text": [
      "multilayer_perceptron ran in: 0.0 sec\n",
      "multilayer_perceptron ran in: 0.0 sec\n",
      "multilayer_perceptron ran in: 0.0 sec\n",
      "multilayer_perceptron ran in: 0.0 sec\n",
      "multilayer_perceptron ran in: 0.0 sec\n",
      "multilayer_perceptron ran in: 0.0 sec\n",
      "multilayer_perceptron ran in: 0.0 sec\n"
     ]
    },
    {
     "name": "stderr",
     "output_type": "stream",
     "text": [
      "\r",
      " 60%|█████▉    | 335/560 [00:10<00:06, 33.42it/s]"
     ]
    },
    {
     "name": "stdout",
     "output_type": "stream",
     "text": [
      "multilayer_perceptron ran in: 0.0 sec\n",
      "multilayer_perceptron ran in: 0.0 sec\n",
      "multilayer_perceptron ran in: 0.0 sec\n",
      "multilayer_perceptron ran in: 0.0 sec\n",
      "multilayer_perceptron ran in: 0.0 sec\n",
      "multilayer_perceptron ran in: 0.0 sec\n",
      "multilayer_perceptron ran in: 0.0 sec\n"
     ]
    },
    {
     "name": "stderr",
     "output_type": "stream",
     "text": [
      " 61%|██████▏   | 343/560 [00:10<00:06, 33.97it/s]"
     ]
    },
    {
     "name": "stdout",
     "output_type": "stream",
     "text": [
      "multilayer_perceptron ran in: 0.0 sec\n",
      "multilayer_perceptron ran in: 0.0 sec\n",
      "multilayer_perceptron ran in: 0.0 sec\n",
      "multilayer_perceptron ran in: 0.0 sec\n",
      "multilayer_perceptron ran in: 0.0 sec\n",
      "multilayer_perceptron ran in: 0.0 sec\n",
      "multilayer_perceptron ran in: 0.0 sec\n"
     ]
    },
    {
     "name": "stderr",
     "output_type": "stream",
     "text": [
      " 63%|██████▎   | 351/560 [00:10<00:06, 34.24it/s]"
     ]
    },
    {
     "name": "stdout",
     "output_type": "stream",
     "text": [
      "multilayer_perceptron ran in: 0.0 sec\n",
      "multilayer_perceptron ran in: 0.0 sec\n",
      "multilayer_perceptron ran in: 0.0 sec\n",
      "multilayer_perceptron ran in: 0.0 sec\n",
      "multilayer_perceptron ran in: 0.0 sec\n",
      "multilayer_perceptron ran in: 0.0 sec\n",
      "multilayer_perceptron ran in: 0.0 sec\n"
     ]
    },
    {
     "name": "stderr",
     "output_type": "stream",
     "text": [
      " 64%|██████▍   | 359/560 [00:10<00:05, 33.98it/s]"
     ]
    },
    {
     "name": "stdout",
     "output_type": "stream",
     "text": [
      "multilayer_perceptron ran in: 0.0 sec\n",
      "multilayer_perceptron ran in: 0.0 sec\n",
      "multilayer_perceptron ran in: 0.0 sec\n",
      "multilayer_perceptron ran in: 0.0 sec\n",
      "multilayer_perceptron ran in: 0.015625 sec\n",
      "multilayer_perceptron ran in: 0.0 sec\n",
      "multilayer_perceptron ran in: 0.0 sec\n"
     ]
    },
    {
     "name": "stderr",
     "output_type": "stream",
     "text": [
      "\r",
      " 65%|██████▍   | 363/560 [00:10<00:05, 34.13it/s]"
     ]
    },
    {
     "name": "stdout",
     "output_type": "stream",
     "text": [
      "multilayer_perceptron ran in: 0.0 sec\n",
      "multilayer_perceptron ran in: 0.0 sec\n",
      "multilayer_perceptron ran in: 0.0 sec\n",
      "multilayer_perceptron ran in: 0.0 sec\n",
      "multilayer_perceptron ran in: 0.0 sec\n",
      "multilayer_perceptron ran in: 0.0 sec\n",
      "multilayer_perceptron ran in: 0.0 sec\n"
     ]
    },
    {
     "name": "stderr",
     "output_type": "stream",
     "text": [
      " 66%|██████▋   | 371/560 [00:11<00:05, 33.39it/s]"
     ]
    },
    {
     "name": "stdout",
     "output_type": "stream",
     "text": [
      "multilayer_perceptron ran in: 0.0 sec\n",
      "multilayer_perceptron ran in: 0.0 sec\n",
      "multilayer_perceptron ran in: 0.0 sec\n",
      "multilayer_perceptron ran in: 0.0 sec\n",
      "multilayer_perceptron ran in: 0.0 sec\n",
      "multilayer_perceptron ran in: 0.0 sec\n",
      "multilayer_perceptron ran in: 0.0 sec\n"
     ]
    },
    {
     "name": "stderr",
     "output_type": "stream",
     "text": [
      " 68%|██████▊   | 379/560 [00:11<00:05, 34.75it/s]"
     ]
    },
    {
     "name": "stdout",
     "output_type": "stream",
     "text": [
      "multilayer_perceptron ran in: 0.015623331069946289 sec\n",
      "multilayer_perceptron ran in: 0.0 sec\n",
      "multilayer_perceptron ran in: 0.0 sec\n",
      "multilayer_perceptron ran in: 0.0 sec\n",
      "multilayer_perceptron ran in: 0.0 sec\n",
      "multilayer_perceptron ran in: 0.0 sec\n",
      "multilayer_perceptron ran in: 0.0 sec\n",
      "multilayer_perceptron ran in: 0.0 sec\n"
     ]
    },
    {
     "name": "stderr",
     "output_type": "stream",
     "text": [
      " 69%|██████▉   | 387/560 [00:11<00:05, 33.40it/s]"
     ]
    },
    {
     "name": "stdout",
     "output_type": "stream",
     "text": [
      "multilayer_perceptron ran in: 0.0 sec\n",
      "multilayer_perceptron ran in: 0.0 sec\n",
      "multilayer_perceptron ran in: 0.0 sec\n",
      "multilayer_perceptron ran in: 0.0 sec\n",
      "multilayer_perceptron ran in: 0.00202178955078125 sec\n",
      "multilayer_perceptron ran in: 0.0 sec\n",
      "multilayer_perceptron ran in: 0.0 sec\n"
     ]
    },
    {
     "name": "stderr",
     "output_type": "stream",
     "text": [
      "\r",
      " 70%|██████▉   | 391/560 [00:11<00:05, 33.26it/s]"
     ]
    },
    {
     "name": "stdout",
     "output_type": "stream",
     "text": [
      "multilayer_perceptron ran in: 0.0 sec\n",
      "multilayer_perceptron ran in: 0.0 sec\n",
      "multilayer_perceptron ran in: 0.0009999275207519531 sec\n",
      "multilayer_perceptron ran in: 0.0 sec\n",
      "multilayer_perceptron ran in: 0.0 sec\n",
      "multilayer_perceptron ran in: 0.0 sec\n",
      "multilayer_perceptron ran in: 0.0 sec\n"
     ]
    },
    {
     "name": "stderr",
     "output_type": "stream",
     "text": [
      " 71%|███████▏  | 399/560 [00:11<00:04, 33.68it/s]"
     ]
    },
    {
     "name": "stdout",
     "output_type": "stream",
     "text": [
      "multilayer_perceptron ran in: 0.0 sec\n",
      "multilayer_perceptron ran in: 0.0 sec\n",
      "multilayer_perceptron ran in: 0.0 sec\n",
      "multilayer_perceptron ran in: 0.0 sec\n",
      "multilayer_perceptron ran in: 0.0 sec\n",
      "multilayer_perceptron ran in: 0.0 sec\n",
      "multilayer_perceptron ran in: 0.0 sec\n"
     ]
    },
    {
     "name": "stderr",
     "output_type": "stream",
     "text": [
      " 73%|███████▎  | 407/560 [00:12<00:04, 34.10it/s]"
     ]
    },
    {
     "name": "stdout",
     "output_type": "stream",
     "text": [
      "multilayer_perceptron ran in: 0.0 sec\n",
      "multilayer_perceptron ran in: 0.0 sec\n",
      "multilayer_perceptron ran in: 0.0 sec\n",
      "multilayer_perceptron ran in: 0.0 sec\n",
      "multilayer_perceptron ran in: 0.0 sec\n",
      "multilayer_perceptron ran in: 0.0 sec\n",
      "multilayer_perceptron ran in: 0.015625953674316406 sec\n"
     ]
    },
    {
     "name": "stderr",
     "output_type": "stream",
     "text": [
      " 74%|███████▍  | 415/560 [00:12<00:04, 34.31it/s]"
     ]
    },
    {
     "name": "stdout",
     "output_type": "stream",
     "text": [
      "multilayer_perceptron ran in: 0.0 sec\n",
      "multilayer_perceptron ran in: 0.0 sec\n",
      "multilayer_perceptron ran in: 0.0 sec\n",
      "multilayer_perceptron ran in: 0.0 sec\n",
      "multilayer_perceptron ran in: 0.0 sec\n",
      "multilayer_perceptron ran in: 0.0 sec\n",
      "multilayer_perceptron ran in: 0.0 sec\n",
      "multilayer_perceptron ran in: 0.0 sec\n"
     ]
    },
    {
     "name": "stderr",
     "output_type": "stream",
     "text": [
      " 76%|███████▌  | 423/560 [00:12<00:04, 33.84it/s]"
     ]
    },
    {
     "name": "stdout",
     "output_type": "stream",
     "text": [
      "multilayer_perceptron ran in: 0.0 sec\n",
      "multilayer_perceptron ran in: 0.0 sec\n",
      "multilayer_perceptron ran in: 0.0 sec\n",
      "multilayer_perceptron ran in: 0.015624284744262695 sec\n",
      "multilayer_perceptron ran in: 0.0 sec\n",
      "multilayer_perceptron ran in: 0.0 sec\n",
      "multilayer_perceptron ran in: 0.0 sec\n"
     ]
    },
    {
     "name": "stderr",
     "output_type": "stream",
     "text": [
      "\r",
      " 76%|███████▋  | 427/560 [00:12<00:03, 34.04it/s]"
     ]
    },
    {
     "name": "stdout",
     "output_type": "stream",
     "text": [
      "multilayer_perceptron ran in: 0.0 sec\n",
      "multilayer_perceptron ran in: 0.0 sec\n",
      "multilayer_perceptron ran in: 0.0 sec\n",
      "multilayer_perceptron ran in: 0.0 sec\n",
      "multilayer_perceptron ran in: 0.0 sec\n",
      "multilayer_perceptron ran in: 0.0 sec\n",
      "multilayer_perceptron ran in: 0.0 sec\n"
     ]
    },
    {
     "name": "stderr",
     "output_type": "stream",
     "text": [
      " 78%|███████▊  | 435/560 [00:12<00:03, 33.34it/s]"
     ]
    },
    {
     "name": "stdout",
     "output_type": "stream",
     "text": [
      "multilayer_perceptron ran in: 0.0 sec\n",
      "multilayer_perceptron ran in: 0.0 sec\n",
      "multilayer_perceptron ran in: 0.0 sec\n",
      "multilayer_perceptron ran in: 0.015611886978149414 sec\n",
      "multilayer_perceptron ran in: 0.015613079071044922 sec\n",
      "multilayer_perceptron ran in: 0.0 sec\n",
      "multilayer_perceptron ran in: 0.0 sec\n"
     ]
    },
    {
     "name": "stderr",
     "output_type": "stream",
     "text": [
      " 79%|███████▉  | 443/560 [00:13<00:03, 33.37it/s]"
     ]
    },
    {
     "name": "stdout",
     "output_type": "stream",
     "text": [
      "multilayer_perceptron ran in: 0.0 sec\n",
      "multilayer_perceptron ran in: 0.0 sec\n",
      "multilayer_perceptron ran in: 0.0 sec\n",
      "multilayer_perceptron ran in: 0.0 sec\n",
      "multilayer_perceptron ran in: 0.0 sec\n",
      "multilayer_perceptron ran in: 0.0 sec\n",
      "multilayer_perceptron ran in: 0.0 sec\n"
     ]
    },
    {
     "name": "stderr",
     "output_type": "stream",
     "text": [
      " 81%|████████  | 451/560 [00:13<00:03, 33.96it/s]"
     ]
    },
    {
     "name": "stdout",
     "output_type": "stream",
     "text": [
      "multilayer_perceptron ran in: 0.0 sec\n",
      "multilayer_perceptron ran in: 0.0 sec\n",
      "multilayer_perceptron ran in: 0.01562356948852539 sec\n",
      "multilayer_perceptron ran in: 0.0 sec\n",
      "multilayer_perceptron ran in: 0.0 sec\n",
      "multilayer_perceptron ran in: 0.0 sec\n",
      "multilayer_perceptron ran in: 0.0 sec\n"
     ]
    },
    {
     "name": "stderr",
     "output_type": "stream",
     "text": [
      "\r",
      " 81%|████████▏ | 455/560 [00:13<00:03, 34.12it/s]"
     ]
    },
    {
     "name": "stdout",
     "output_type": "stream",
     "text": [
      "multilayer_perceptron ran in: 0.0 sec\n",
      "multilayer_perceptron ran in: 0.0 sec\n",
      "multilayer_perceptron ran in: 0.0 sec\n",
      "multilayer_perceptron ran in: 0.0 sec\n",
      "multilayer_perceptron ran in: 0.006510734558105469 sec\n",
      "multilayer_perceptron ran in: 0.0 sec\n",
      "multilayer_perceptron ran in: 0.0 sec\n"
     ]
    },
    {
     "name": "stderr",
     "output_type": "stream",
     "text": [
      " 83%|████████▎ | 463/560 [00:13<00:02, 32.85it/s]"
     ]
    },
    {
     "name": "stdout",
     "output_type": "stream",
     "text": [
      "multilayer_perceptron ran in: 0.0 sec\n",
      "multilayer_perceptron ran in: 0.0 sec\n",
      "multilayer_perceptron ran in: 0.0 sec\n",
      "multilayer_perceptron ran in: 0.0 sec\n",
      "multilayer_perceptron ran in: 0.0 sec\n",
      "multilayer_perceptron ran in: 0.0 sec\n",
      "multilayer_perceptron ran in: 0.0 sec\n"
     ]
    },
    {
     "name": "stderr",
     "output_type": "stream",
     "text": [
      " 84%|████████▍ | 471/560 [00:14<00:02, 33.67it/s]"
     ]
    },
    {
     "name": "stdout",
     "output_type": "stream",
     "text": [
      "multilayer_perceptron ran in: 0.006512641906738281 sec\n",
      "multilayer_perceptron ran in: 0.0 sec\n",
      "multilayer_perceptron ran in: 0.015625 sec\n",
      "multilayer_perceptron ran in: 0.0 sec\n",
      "multilayer_perceptron ran in: 0.0 sec\n",
      "multilayer_perceptron ran in: 0.0 sec\n",
      "multilayer_perceptron ran in: 0.0 sec\n"
     ]
    },
    {
     "name": "stderr",
     "output_type": "stream",
     "text": [
      " 86%|████████▌ | 479/560 [00:14<00:02, 34.10it/s]"
     ]
    },
    {
     "name": "stdout",
     "output_type": "stream",
     "text": [
      "multilayer_perceptron ran in: 0.0 sec\n",
      "multilayer_perceptron ran in: 0.0 sec\n",
      "multilayer_perceptron ran in: 0.0 sec\n",
      "multilayer_perceptron ran in: 0.0 sec\n",
      "multilayer_perceptron ran in: 0.0 sec\n",
      "multilayer_perceptron ran in: 0.0 sec\n",
      "multilayer_perceptron ran in: 0.0 sec\n",
      "multilayer_perceptron ran in: 0.0 sec\n"
     ]
    },
    {
     "name": "stderr",
     "output_type": "stream",
     "text": [
      " 87%|████████▋ | 487/560 [00:14<00:02, 34.15it/s]"
     ]
    },
    {
     "name": "stdout",
     "output_type": "stream",
     "text": [
      "multilayer_perceptron ran in: 0.0 sec\n",
      "multilayer_perceptron ran in: 0.0 sec\n",
      "multilayer_perceptron ran in: 0.0 sec\n",
      "multilayer_perceptron ran in: 0.0 sec\n",
      "multilayer_perceptron ran in: 0.0 sec\n",
      "multilayer_perceptron ran in: 0.015628814697265625 sec\n",
      "multilayer_perceptron ran in: 0.0 sec\n"
     ]
    },
    {
     "name": "stderr",
     "output_type": "stream",
     "text": [
      "\r",
      " 88%|████████▊ | 491/560 [00:14<00:02, 32.93it/s]"
     ]
    },
    {
     "name": "stdout",
     "output_type": "stream",
     "text": [
      "multilayer_perceptron ran in: 0.0 sec\n",
      "multilayer_perceptron ran in: 0.0 sec\n",
      "multilayer_perceptron ran in: 0.0 sec\n",
      "multilayer_perceptron ran in: 0.0 sec\n",
      "multilayer_perceptron ran in: 0.0 sec\n",
      "multilayer_perceptron ran in: 0.0 sec\n",
      "multilayer_perceptron ran in: 0.015625953674316406 sec\n"
     ]
    },
    {
     "name": "stderr",
     "output_type": "stream",
     "text": [
      " 89%|████████▉ | 499/560 [00:14<00:01, 33.72it/s]"
     ]
    },
    {
     "name": "stdout",
     "output_type": "stream",
     "text": [
      "multilayer_perceptron ran in: 0.015623807907104492 sec\n",
      "multilayer_perceptron ran in: 0.0156252384185791 sec\n",
      "multilayer_perceptron ran in: 0.0 sec\n",
      "multilayer_perceptron ran in: 0.0 sec\n",
      "multilayer_perceptron ran in: 0.0 sec\n",
      "multilayer_perceptron ran in: 0.0 sec\n",
      "multilayer_perceptron ran in: 0.0 sec\n"
     ]
    },
    {
     "name": "stderr",
     "output_type": "stream",
     "text": [
      " 91%|█████████ | 507/560 [00:15<00:01, 33.96it/s]"
     ]
    },
    {
     "name": "stdout",
     "output_type": "stream",
     "text": [
      "multilayer_perceptron ran in: 0.0 sec\n",
      "multilayer_perceptron ran in: 0.0 sec\n",
      "multilayer_perceptron ran in: 0.0 sec\n",
      "multilayer_perceptron ran in: 0.015625476837158203 sec\n",
      "multilayer_perceptron ran in: 0.0 sec\n",
      "multilayer_perceptron ran in: 0.0 sec\n",
      "multilayer_perceptron ran in: 0.0 sec\n"
     ]
    },
    {
     "name": "stderr",
     "output_type": "stream",
     "text": [
      " 92%|█████████▏| 515/560 [00:15<00:01, 33.30it/s]"
     ]
    },
    {
     "name": "stdout",
     "output_type": "stream",
     "text": [
      "multilayer_perceptron ran in: 0.0 sec\n",
      "multilayer_perceptron ran in: 0.0 sec\n",
      "multilayer_perceptron ran in: 0.0 sec\n",
      "multilayer_perceptron ran in: 0.0 sec\n",
      "multilayer_perceptron ran in: 0.006509304046630859 sec\n",
      "multilayer_perceptron ran in: 0.0 sec\n",
      "multilayer_perceptron ran in: 0.0 sec\n"
     ]
    },
    {
     "name": "stderr",
     "output_type": "stream",
     "text": [
      "\r",
      " 93%|█████████▎| 519/560 [00:15<00:01, 33.69it/s]"
     ]
    },
    {
     "name": "stdout",
     "output_type": "stream",
     "text": [
      "multilayer_perceptron ran in: 0.0 sec\n",
      "multilayer_perceptron ran in: 0.0 sec\n",
      "multilayer_perceptron ran in: 0.0 sec\n",
      "multilayer_perceptron ran in: 0.0 sec\n",
      "multilayer_perceptron ran in: 0.0 sec\n",
      "multilayer_perceptron ran in: 0.0 sec\n"
     ]
    },
    {
     "name": "stderr",
     "output_type": "stream",
     "text": [
      " 94%|█████████▍| 527/560 [00:15<00:01, 32.27it/s]"
     ]
    },
    {
     "name": "stdout",
     "output_type": "stream",
     "text": [
      "multilayer_perceptron ran in: 0.0 sec\n",
      "multilayer_perceptron ran in: 0.0 sec\n",
      "multilayer_perceptron ran in: 0.0 sec\n",
      "multilayer_perceptron ran in: 0.0 sec\n",
      "multilayer_perceptron ran in: 0.0 sec\n",
      "multilayer_perceptron ran in: 0.0 sec\n",
      "multilayer_perceptron ran in: 0.0 sec\n"
     ]
    },
    {
     "name": "stderr",
     "output_type": "stream",
     "text": [
      " 96%|█████████▌| 535/560 [00:15<00:00, 33.38it/s]"
     ]
    },
    {
     "name": "stdout",
     "output_type": "stream",
     "text": [
      "multilayer_perceptron ran in: 0.0 sec\n",
      "multilayer_perceptron ran in: 0.0 sec\n",
      "multilayer_perceptron ran in: 0.015633821487426758 sec\n",
      "multilayer_perceptron ran in: 0.0 sec\n",
      "multilayer_perceptron ran in: 0.0 sec\n",
      "multilayer_perceptron ran in: 0.0 sec\n",
      "multilayer_perceptron ran in: 0.0 sec\n"
     ]
    },
    {
     "name": "stderr",
     "output_type": "stream",
     "text": [
      " 97%|█████████▋| 543/560 [00:16<00:00, 33.94it/s]"
     ]
    },
    {
     "name": "stdout",
     "output_type": "stream",
     "text": [
      "multilayer_perceptron ran in: 0.015639543533325195 sec\n",
      "multilayer_perceptron ran in: 0.0 sec\n",
      "multilayer_perceptron ran in: 0.0 sec\n",
      "multilayer_perceptron ran in: 0.0 sec\n",
      "multilayer_perceptron ran in: 0.0 sec\n",
      "multilayer_perceptron ran in: 0.0 sec\n",
      "multilayer_perceptron ran in: 0.0 sec\n",
      "multilayer_perceptron ran in: 0.0 sec\n"
     ]
    },
    {
     "name": "stderr",
     "output_type": "stream",
     "text": [
      " 98%|█████████▊| 551/560 [00:16<00:00, 33.84it/s]"
     ]
    },
    {
     "name": "stdout",
     "output_type": "stream",
     "text": [
      "multilayer_perceptron ran in: 0.0 sec\n",
      "multilayer_perceptron ran in: 0.0 sec\n",
      "multilayer_perceptron ran in: 0.0 sec\n",
      "multilayer_perceptron ran in: 0.015636682510375977 sec\n",
      "multilayer_perceptron ran in: 0.0 sec\n",
      "multilayer_perceptron ran in: 0.0 sec\n",
      "multilayer_perceptron ran in: 0.0 sec\n"
     ]
    },
    {
     "name": "stderr",
     "output_type": "stream",
     "text": [
      "\r",
      " 99%|█████████▉| 555/560 [00:16<00:00, 34.03it/s]"
     ]
    },
    {
     "name": "stdout",
     "output_type": "stream",
     "text": [
      "multilayer_perceptron ran in: 0.0 sec\n",
      "multilayer_perceptron ran in: 0.0 sec\n",
      "multilayer_perceptron ran in: 0.0 sec\n",
      "multilayer_perceptron ran in: 0.0 sec\n",
      "multilayer_perceptron ran in: 0.0 sec\n",
      "multilayer_perceptron ran in: 0.0 sec\n",
      "multilayer_perceptron ran in: 0.0 sec\n"
     ]
    },
    {
     "name": "stderr",
     "output_type": "stream",
     "text": [
      "100%|██████████| 560/560 [00:16<00:00, 33.49it/s]\n"
     ]
    },
    {
     "name": "stdout",
     "output_type": "stream",
     "text": [
      "multilayer_perceptron ran in: 0.0 sec\n",
      "multilayer_perceptron ran in: 0.0 sec\n",
      "Epoch: 6 Cost=66310.2109\n"
     ]
    },
    {
     "name": "stderr",
     "output_type": "stream",
     "text": [
      "  1%|          | 4/560 [00:00<00:14, 37.45it/s]"
     ]
    },
    {
     "name": "stdout",
     "output_type": "stream",
     "text": [
      "multilayer_perceptron ran in: 0.0 sec\n",
      "multilayer_perceptron ran in: 0.0 sec\n",
      "multilayer_perceptron ran in: 0.01564168930053711 sec\n",
      "multilayer_perceptron ran in: 0.0 sec\n",
      "multilayer_perceptron ran in: 0.0 sec\n",
      "multilayer_perceptron ran in: 0.0 sec\n",
      "multilayer_perceptron ran in: 0.015625715255737305 sec\n",
      "multilayer_perceptron ran in: 0.0 sec\n"
     ]
    },
    {
     "name": "stderr",
     "output_type": "stream",
     "text": [
      "  2%|▏         | 12/560 [00:00<00:15, 35.12it/s]"
     ]
    },
    {
     "name": "stdout",
     "output_type": "stream",
     "text": [
      "multilayer_perceptron ran in: 0.0 sec\n",
      "multilayer_perceptron ran in: 0.0 sec\n",
      "multilayer_perceptron ran in: 0.0 sec\n",
      "multilayer_perceptron ran in: 0.0 sec\n",
      "multilayer_perceptron ran in: 0.0 sec\n",
      "multilayer_perceptron ran in: 0.0 sec\n",
      "multilayer_perceptron ran in: 0.0 sec\n"
     ]
    },
    {
     "name": "stderr",
     "output_type": "stream",
     "text": [
      "\r",
      "  3%|▎         | 16/560 [00:00<00:16, 33.10it/s]"
     ]
    },
    {
     "name": "stdout",
     "output_type": "stream",
     "text": [
      "multilayer_perceptron ran in: 0.0 sec\n",
      "multilayer_perceptron ran in: 0.0 sec\n",
      "multilayer_perceptron ran in: 0.0 sec\n"
     ]
    },
    {
     "name": "stderr",
     "output_type": "stream",
     "text": [
      "\r",
      "  4%|▎         | 20/560 [00:00<00:16, 33.59it/s]"
     ]
    },
    {
     "name": "stdout",
     "output_type": "stream",
     "text": [
      "multilayer_perceptron ran in: 0.0 sec\n",
      "multilayer_perceptron ran in: 0.0 sec\n",
      "multilayer_perceptron ran in: 0.015624523162841797 sec\n",
      "multilayer_perceptron ran in: 0.0 sec\n"
     ]
    },
    {
     "name": "stderr",
     "output_type": "stream",
     "text": [
      "\r",
      "  4%|▍         | 24/560 [00:00<00:16, 33.30it/s]"
     ]
    },
    {
     "name": "stdout",
     "output_type": "stream",
     "text": [
      "multilayer_perceptron ran in: 0.0 sec\n",
      "multilayer_perceptron ran in: 0.0 sec\n",
      "multilayer_perceptron ran in: 0.0 sec\n"
     ]
    },
    {
     "name": "stderr",
     "output_type": "stream",
     "text": [
      "\r",
      "  5%|▌         | 28/560 [00:00<00:15, 33.72it/s]"
     ]
    },
    {
     "name": "stdout",
     "output_type": "stream",
     "text": [
      "multilayer_perceptron ran in: 0.0 sec\n",
      "multilayer_perceptron ran in: 0.0 sec\n",
      "multilayer_perceptron ran in: 0.0 sec\n",
      "multilayer_perceptron ran in: 0.015610694885253906 sec\n",
      "multilayer_perceptron ran in: 0.0 sec\n",
      "multilayer_perceptron ran in: 0.0 sec\n"
     ]
    },
    {
     "name": "stderr",
     "output_type": "stream",
     "text": [
      "  6%|▋         | 36/560 [00:01<00:15, 34.13it/s]"
     ]
    },
    {
     "name": "stdout",
     "output_type": "stream",
     "text": [
      "multilayer_perceptron ran in: 0.0 sec\n",
      "multilayer_perceptron ran in: 0.0 sec\n",
      "multilayer_perceptron ran in: 0.0 sec\n",
      "multilayer_perceptron ran in: 0.0 sec\n",
      "multilayer_perceptron ran in: 0.0 sec\n",
      "multilayer_perceptron ran in: 0.0 sec\n",
      "multilayer_perceptron ran in: 0.0 sec\n",
      "multilayer_perceptron ran in: 0.0 sec\n"
     ]
    },
    {
     "name": "stderr",
     "output_type": "stream",
     "text": [
      "\r",
      "  7%|▋         | 40/560 [00:01<00:15, 34.25it/s]"
     ]
    },
    {
     "name": "stdout",
     "output_type": "stream",
     "text": [
      "multilayer_perceptron ran in: 0.0 sec\n",
      "multilayer_perceptron ran in: 0.0 sec\n",
      "multilayer_perceptron ran in: 0.0 sec\n",
      "multilayer_perceptron ran in: 0.0 sec\n"
     ]
    },
    {
     "name": "stderr",
     "output_type": "stream",
     "text": [
      "\r",
      "  8%|▊         | 44/560 [00:01<00:15, 32.98it/s]"
     ]
    },
    {
     "name": "stdout",
     "output_type": "stream",
     "text": [
      "multilayer_perceptron ran in: 0.0 sec\n",
      "multilayer_perceptron ran in: 0.0 sec\n",
      "multilayer_perceptron ran in: 0.0 sec\n"
     ]
    },
    {
     "name": "stderr",
     "output_type": "stream",
     "text": [
      "\r",
      "  9%|▊         | 48/560 [00:01<00:14, 34.22it/s]"
     ]
    },
    {
     "name": "stdout",
     "output_type": "stream",
     "text": [
      "multilayer_perceptron ran in: 0.0 sec\n",
      "multilayer_perceptron ran in: 0.0 sec\n",
      "multilayer_perceptron ran in: 0.0 sec\n",
      "multilayer_perceptron ran in: 0.0 sec\n"
     ]
    },
    {
     "name": "stderr",
     "output_type": "stream",
     "text": [
      "\r",
      "  9%|▉         | 52/560 [00:01<00:15, 32.97it/s]"
     ]
    },
    {
     "name": "stdout",
     "output_type": "stream",
     "text": [
      "multilayer_perceptron ran in: 0.0 sec\n",
      "multilayer_perceptron ran in: 0.0 sec\n",
      "multilayer_perceptron ran in: 0.0 sec\n"
     ]
    },
    {
     "name": "stderr",
     "output_type": "stream",
     "text": [
      "\r",
      " 10%|█         | 56/560 [00:01<00:15, 33.06it/s]"
     ]
    },
    {
     "name": "stdout",
     "output_type": "stream",
     "text": [
      "multilayer_perceptron ran in: 0.0 sec\n",
      "multilayer_perceptron ran in: 0.0 sec\n",
      "multilayer_perceptron ran in: 0.0 sec\n",
      "multilayer_perceptron ran in: 0.0 sec\n",
      "multilayer_perceptron ran in: 0.0 sec\n",
      "multilayer_perceptron ran in: 0.0 sec\n",
      "multilayer_perceptron ran in: 0.0 sec\n"
     ]
    },
    {
     "name": "stderr",
     "output_type": "stream",
     "text": [
      " 11%|█▏        | 64/560 [00:01<00:14, 34.06it/s]"
     ]
    },
    {
     "name": "stdout",
     "output_type": "stream",
     "text": [
      "multilayer_perceptron ran in: 0.0 sec\n",
      "multilayer_perceptron ran in: 0.0 sec\n",
      "multilayer_perceptron ran in: 0.0 sec\n",
      "multilayer_perceptron ran in: 0.0 sec\n",
      "multilayer_perceptron ran in: 0.0 sec\n",
      "multilayer_perceptron ran in: 0.0 sec\n"
     ]
    },
    {
     "name": "stderr",
     "output_type": "stream",
     "text": [
      "\r",
      " 12%|█▏        | 68/560 [00:02<00:14, 33.63it/s]"
     ]
    },
    {
     "name": "stdout",
     "output_type": "stream",
     "text": [
      "multilayer_perceptron ran in: 0.0 sec\n",
      "multilayer_perceptron ran in: 0.0 sec\n",
      "multilayer_perceptron ran in: 0.0 sec\n",
      "multilayer_perceptron ran in: 0.0 sec\n",
      "multilayer_perceptron ran in: 0.0 sec\n"
     ]
    },
    {
     "name": "stderr",
     "output_type": "stream",
     "text": [
      "\r",
      " 13%|█▎        | 72/560 [00:02<00:14, 32.59it/s]"
     ]
    },
    {
     "name": "stdout",
     "output_type": "stream",
     "text": [
      "multilayer_perceptron ran in: 0.0 sec\n",
      "multilayer_perceptron ran in: 0.0 sec\n"
     ]
    },
    {
     "name": "stderr",
     "output_type": "stream",
     "text": [
      "\r",
      " 14%|█▎        | 76/560 [00:02<00:14, 33.15it/s]"
     ]
    },
    {
     "name": "stdout",
     "output_type": "stream",
     "text": [
      "multilayer_perceptron ran in: 0.0 sec\n",
      "multilayer_perceptron ran in: 0.0 sec\n",
      "multilayer_perceptron ran in: 0.0 sec\n",
      "multilayer_perceptron ran in: 0.0 sec\n",
      "multilayer_perceptron ran in: 0.0 sec\n"
     ]
    },
    {
     "name": "stderr",
     "output_type": "stream",
     "text": [
      "\r",
      " 14%|█▍        | 80/560 [00:02<00:14, 33.54it/s]"
     ]
    },
    {
     "name": "stdout",
     "output_type": "stream",
     "text": [
      "multilayer_perceptron ran in: 0.0 sec\n",
      "multilayer_perceptron ran in: 0.015625953674316406 sec\n"
     ]
    },
    {
     "name": "stderr",
     "output_type": "stream",
     "text": [
      "\r",
      " 15%|█▌        | 84/560 [00:02<00:14, 33.83it/s]"
     ]
    },
    {
     "name": "stdout",
     "output_type": "stream",
     "text": [
      "multilayer_perceptron ran in: 0.0 sec\n",
      "multilayer_perceptron ran in: 0.0 sec\n",
      "multilayer_perceptron ran in: 0.0 sec\n",
      "multilayer_perceptron ran in: 0.0 sec\n",
      "multilayer_perceptron ran in: 0.0 sec\n",
      "multilayer_perceptron ran in: 0.0 sec\n",
      "multilayer_perceptron ran in: 0.0 sec\n"
     ]
    },
    {
     "name": "stderr",
     "output_type": "stream",
     "text": [
      "\r",
      " 16%|█▌        | 88/560 [00:02<00:14, 33.47it/s]"
     ]
    },
    {
     "name": "stdout",
     "output_type": "stream",
     "text": [
      "multilayer_perceptron ran in: 0.0 sec\n",
      "multilayer_perceptron ran in: 0.0 sec\n",
      "multilayer_perceptron ran in: 0.0 sec\n",
      "multilayer_perceptron ran in: 0.0 sec\n",
      "multilayer_perceptron ran in: 0.002008199691772461 sec\n"
     ]
    },
    {
     "name": "stderr",
     "output_type": "stream",
     "text": [
      "\r",
      " 16%|█▋        | 92/560 [00:02<00:13, 33.79it/s]"
     ]
    },
    {
     "name": "stdout",
     "output_type": "stream",
     "text": [
      "multilayer_perceptron ran in: 0.015627145767211914 sec\n",
      "multilayer_perceptron ran in: 0.0 sec\n"
     ]
    },
    {
     "name": "stderr",
     "output_type": "stream",
     "text": [
      "\r",
      " 17%|█▋        | 96/560 [00:02<00:13, 34.00it/s]"
     ]
    },
    {
     "name": "stdout",
     "output_type": "stream",
     "text": [
      "multilayer_perceptron ran in: 0.0 sec\n",
      "multilayer_perceptron ran in: 0.0 sec\n",
      "multilayer_perceptron ran in: 0.0 sec\n",
      "multilayer_perceptron ran in: 0.0 sec\n",
      "multilayer_perceptron ran in: 0.0 sec\n"
     ]
    },
    {
     "name": "stderr",
     "output_type": "stream",
     "text": [
      "\r",
      " 18%|█▊        | 100/560 [00:02<00:13, 34.15it/s]"
     ]
    },
    {
     "name": "stdout",
     "output_type": "stream",
     "text": [
      "multilayer_perceptron ran in: 0.0 sec\n"
     ]
    },
    {
     "name": "stderr",
     "output_type": "stream",
     "text": [
      "\r",
      " 19%|█▊        | 104/560 [00:03<00:13, 32.94it/s]"
     ]
    },
    {
     "name": "stdout",
     "output_type": "stream",
     "text": [
      "multilayer_perceptron ran in: 0.0 sec\n",
      "multilayer_perceptron ran in: 0.0 sec\n",
      "multilayer_perceptron ran in: 0.0 sec\n",
      "multilayer_perceptron ran in: 0.0 sec\n",
      "multilayer_perceptron ran in: 0.0 sec\n",
      "multilayer_perceptron ran in: 0.0 sec\n"
     ]
    },
    {
     "name": "stderr",
     "output_type": "stream",
     "text": [
      " 20%|██        | 112/560 [00:03<00:12, 34.52it/s]"
     ]
    },
    {
     "name": "stdout",
     "output_type": "stream",
     "text": [
      "multilayer_perceptron ran in: 0.01562809944152832 sec\n",
      "multilayer_perceptron ran in: 0.01562643051147461 sec\n",
      "multilayer_perceptron ran in: 0.0 sec\n",
      "multilayer_perceptron ran in: 0.0 sec\n",
      "multilayer_perceptron ran in: 0.0 sec\n",
      "multilayer_perceptron ran in: 0.015621185302734375 sec\n",
      "multilayer_perceptron ran in: 0.0 sec\n"
     ]
    },
    {
     "name": "stderr",
     "output_type": "stream",
     "text": [
      " 21%|██▏       | 120/560 [00:03<00:13, 33.56it/s]"
     ]
    },
    {
     "name": "stdout",
     "output_type": "stream",
     "text": [
      "multilayer_perceptron ran in: 0.0 sec\n",
      "multilayer_perceptron ran in: 0.0 sec\n",
      "multilayer_perceptron ran in: 0.0 sec\n",
      "multilayer_perceptron ran in: 0.0 sec\n",
      "multilayer_perceptron ran in: 0.0 sec\n",
      "multilayer_perceptron ran in: 0.0 sec\n",
      "multilayer_perceptron ran in: 0.0 sec\n"
     ]
    },
    {
     "name": "stderr",
     "output_type": "stream",
     "text": [
      "\r",
      " 22%|██▏       | 124/560 [00:03<00:12, 33.84it/s]"
     ]
    },
    {
     "name": "stdout",
     "output_type": "stream",
     "text": [
      "multilayer_perceptron ran in: 0.0 sec\n",
      "multilayer_perceptron ran in: 0.0 sec\n",
      "multilayer_perceptron ran in: 0.0 sec\n",
      "multilayer_perceptron ran in: 0.0 sec\n",
      "multilayer_perceptron ran in: 0.0 sec\n",
      "multilayer_perceptron ran in: 0.0 sec\n",
      "multilayer_perceptron ran in: 0.0 sec\n"
     ]
    },
    {
     "name": "stderr",
     "output_type": "stream",
     "text": [
      " 24%|██▎       | 132/560 [00:03<00:12, 33.62it/s]"
     ]
    },
    {
     "name": "stdout",
     "output_type": "stream",
     "text": [
      "multilayer_perceptron ran in: 0.0 sec\n",
      "multilayer_perceptron ran in: 0.0 sec\n",
      "multilayer_perceptron ran in: 0.0 sec\n",
      "multilayer_perceptron ran in: 0.0 sec\n",
      "multilayer_perceptron ran in: 0.0 sec\n",
      "multilayer_perceptron ran in: 0.01564764976501465 sec\n",
      "multilayer_perceptron ran in: 0.0 sec\n"
     ]
    },
    {
     "name": "stderr",
     "output_type": "stream",
     "text": [
      " 25%|██▌       | 140/560 [00:04<00:12, 34.07it/s]"
     ]
    },
    {
     "name": "stdout",
     "output_type": "stream",
     "text": [
      "multilayer_perceptron ran in: 0.0 sec\n",
      "multilayer_perceptron ran in: 0.0 sec\n",
      "multilayer_perceptron ran in: 0.0 sec\n",
      "multilayer_perceptron ran in: 0.0 sec\n",
      "multilayer_perceptron ran in: 0.0 sec\n",
      "multilayer_perceptron ran in: 0.0 sec\n",
      "multilayer_perceptron ran in: 0.0 sec\n"
     ]
    },
    {
     "name": "stderr",
     "output_type": "stream",
     "text": [
      "\r",
      " 26%|██▌       | 144/560 [00:04<00:12, 34.20it/s]"
     ]
    },
    {
     "name": "stdout",
     "output_type": "stream",
     "text": [
      "multilayer_perceptron ran in: 0.0 sec\n",
      "multilayer_perceptron ran in: 0.0 sec\n",
      "multilayer_perceptron ran in: 0.0 sec\n",
      "multilayer_perceptron ran in: 0.0 sec\n",
      "multilayer_perceptron ran in: 0.006524562835693359 sec\n",
      "multilayer_perceptron ran in: 0.0 sec\n",
      "multilayer_perceptron ran in: 0.0 sec\n"
     ]
    },
    {
     "name": "stderr",
     "output_type": "stream",
     "text": [
      " 27%|██▋       | 152/560 [00:04<00:12, 33.41it/s]"
     ]
    },
    {
     "name": "stdout",
     "output_type": "stream",
     "text": [
      "multilayer_perceptron ran in: 0.0 sec\n",
      "multilayer_perceptron ran in: 0.0 sec\n",
      "multilayer_perceptron ran in: 0.0 sec\n",
      "multilayer_perceptron ran in: 0.0 sec\n",
      "multilayer_perceptron ran in: 0.0 sec\n",
      "multilayer_perceptron ran in: 0.0 sec\n",
      "multilayer_perceptron ran in: 0.0 sec\n"
     ]
    },
    {
     "name": "stderr",
     "output_type": "stream",
     "text": [
      " 29%|██▊       | 160/560 [00:04<00:12, 33.18it/s]"
     ]
    },
    {
     "name": "stdout",
     "output_type": "stream",
     "text": [
      "multilayer_perceptron ran in: 0.015620708465576172 sec\n",
      "multilayer_perceptron ran in: 0.0 sec\n",
      "multilayer_perceptron ran in: 0.0 sec\n",
      "multilayer_perceptron ran in: 0.0 sec\n",
      "multilayer_perceptron ran in: 0.0 sec\n",
      "multilayer_perceptron ran in: 0.0 sec\n",
      "multilayer_perceptron ran in: 0.0 sec\n",
      "multilayer_perceptron ran in: 0.0 sec\n"
     ]
    },
    {
     "name": "stderr",
     "output_type": "stream",
     "text": [
      " 30%|███       | 168/560 [00:04<00:11, 33.84it/s]"
     ]
    },
    {
     "name": "stdout",
     "output_type": "stream",
     "text": [
      "multilayer_perceptron ran in: 0.0 sec\n",
      "multilayer_perceptron ran in: 0.0 sec\n",
      "multilayer_perceptron ran in: 0.015624046325683594 sec\n",
      "multilayer_perceptron ran in: 0.0 sec\n",
      "multilayer_perceptron ran in: 0.0 sec\n",
      "multilayer_perceptron ran in: 0.0 sec\n",
      "multilayer_perceptron ran in: 0.0 sec\n",
      "multilayer_perceptron ran in: 0.0 sec\n"
     ]
    },
    {
     "name": "stderr",
     "output_type": "stream",
     "text": [
      " 31%|███▏      | 176/560 [00:05<00:11, 33.62it/s]"
     ]
    },
    {
     "name": "stdout",
     "output_type": "stream",
     "text": [
      "multilayer_perceptron ran in: 0.0 sec\n",
      "multilayer_perceptron ran in: 0.006510734558105469 sec\n",
      "multilayer_perceptron ran in: 0.0 sec\n",
      "multilayer_perceptron ran in: 0.0 sec\n",
      "multilayer_perceptron ran in: 0.0 sec\n",
      "multilayer_perceptron ran in: 0.015654802322387695 sec\n",
      "multilayer_perceptron ran in: 0.0 sec\n"
     ]
    },
    {
     "name": "stderr",
     "output_type": "stream",
     "text": [
      " 33%|███▎      | 184/560 [00:05<00:11, 34.07it/s]"
     ]
    },
    {
     "name": "stdout",
     "output_type": "stream",
     "text": [
      "multilayer_perceptron ran in: 0.0 sec\n",
      "multilayer_perceptron ran in: 0.0 sec\n",
      "multilayer_perceptron ran in: 0.0 sec\n",
      "multilayer_perceptron ran in: 0.0156400203704834 sec\n",
      "multilayer_perceptron ran in: 0.0 sec\n",
      "multilayer_perceptron ran in: 0.0 sec\n",
      "multilayer_perceptron ran in: 0.0 sec\n"
     ]
    },
    {
     "name": "stderr",
     "output_type": "stream",
     "text": [
      "\r",
      " 34%|███▎      | 188/560 [00:05<00:11, 32.88it/s]"
     ]
    },
    {
     "name": "stdout",
     "output_type": "stream",
     "text": [
      "multilayer_perceptron ran in: 0.0 sec\n",
      "multilayer_perceptron ran in: 0.0 sec\n",
      "multilayer_perceptron ran in: 0.0 sec\n",
      "multilayer_perceptron ran in: 0.0 sec\n",
      "multilayer_perceptron ran in: 0.0 sec\n",
      "multilayer_perceptron ran in: 0.0 sec\n",
      "multilayer_perceptron ran in: 0.0 sec\n"
     ]
    },
    {
     "name": "stderr",
     "output_type": "stream",
     "text": [
      " 35%|███▌      | 196/560 [00:05<00:10, 33.69it/s]"
     ]
    },
    {
     "name": "stdout",
     "output_type": "stream",
     "text": [
      "multilayer_perceptron ran in: 0.0 sec\n",
      "multilayer_perceptron ran in: 0.0 sec\n",
      "multilayer_perceptron ran in: 0.01563715934753418 sec\n",
      "multilayer_perceptron ran in: 0.0 sec\n",
      "multilayer_perceptron ran in: 0.0 sec\n",
      "multilayer_perceptron ran in: 0.0 sec\n",
      "multilayer_perceptron ran in: 0.0 sec\n"
     ]
    },
    {
     "name": "stderr",
     "output_type": "stream",
     "text": [
      " 36%|███▋      | 204/560 [00:06<00:10, 34.67it/s]"
     ]
    },
    {
     "name": "stdout",
     "output_type": "stream",
     "text": [
      "multilayer_perceptron ran in: 0.01562356948852539 sec\n",
      "multilayer_perceptron ran in: 0.0 sec\n",
      "multilayer_perceptron ran in: 0.0 sec\n",
      "multilayer_perceptron ran in: 0.0 sec\n",
      "multilayer_perceptron ran in: 0.0 sec\n",
      "multilayer_perceptron ran in: 0.0 sec\n",
      "multilayer_perceptron ran in: 0.0 sec\n"
     ]
    },
    {
     "name": "stderr",
     "output_type": "stream",
     "text": [
      " 38%|███▊      | 212/560 [00:06<00:10, 33.63it/s]"
     ]
    },
    {
     "name": "stdout",
     "output_type": "stream",
     "text": [
      "multilayer_perceptron ran in: 0.0 sec\n",
      "multilayer_perceptron ran in: 0.0 sec\n",
      "multilayer_perceptron ran in: 0.0 sec\n",
      "multilayer_perceptron ran in: 0.0 sec\n",
      "multilayer_perceptron ran in: 0.0 sec\n",
      "multilayer_perceptron ran in: 0.0 sec\n",
      "multilayer_perceptron ran in: 0.0 sec\n"
     ]
    },
    {
     "name": "stderr",
     "output_type": "stream",
     "text": [
      "\r",
      " 39%|███▊      | 216/560 [00:06<00:10, 33.89it/s]"
     ]
    },
    {
     "name": "stdout",
     "output_type": "stream",
     "text": [
      "multilayer_perceptron ran in: 0.0 sec\n",
      "multilayer_perceptron ran in: 0.0 sec\n",
      "multilayer_perceptron ran in: 0.0 sec\n",
      "multilayer_perceptron ran in: 0.0 sec\n",
      "multilayer_perceptron ran in: 0.0 sec\n",
      "multilayer_perceptron ran in: 0.0 sec\n"
     ]
    },
    {
     "name": "stderr",
     "output_type": "stream",
     "text": [
      " 40%|████      | 224/560 [00:06<00:09, 33.80it/s]"
     ]
    },
    {
     "name": "stdout",
     "output_type": "stream",
     "text": [
      "multilayer_perceptron ran in: 0.0 sec\n",
      "multilayer_perceptron ran in: 0.0 sec\n",
      "multilayer_perceptron ran in: 0.0 sec\n",
      "multilayer_perceptron ran in: 0.0 sec\n",
      "multilayer_perceptron ran in: 0.006524801254272461 sec\n",
      "multilayer_perceptron ran in: 0.0 sec\n",
      "multilayer_perceptron ran in: 0.0 sec\n",
      "multilayer_perceptron ran in: 0.0 sec\n"
     ]
    },
    {
     "name": "stderr",
     "output_type": "stream",
     "text": [
      " 41%|████▏     | 232/560 [00:06<00:09, 34.18it/s]"
     ]
    },
    {
     "name": "stdout",
     "output_type": "stream",
     "text": [
      "multilayer_perceptron ran in: 0.0 sec\n",
      "multilayer_perceptron ran in: 0.0 sec\n",
      "multilayer_perceptron ran in: 0.0 sec\n",
      "multilayer_perceptron ran in: 0.0 sec\n",
      "multilayer_perceptron ran in: 0.0 sec\n",
      "multilayer_perceptron ran in: 0.0 sec\n",
      "multilayer_perceptron ran in: 0.0 sec\n",
      "multilayer_perceptron ran in: 0.0 sec\n"
     ]
    },
    {
     "name": "stderr",
     "output_type": "stream",
     "text": [
      " 43%|████▎     | 240/560 [00:07<00:09, 33.02it/s]"
     ]
    },
    {
     "name": "stdout",
     "output_type": "stream",
     "text": [
      "multilayer_perceptron ran in: 0.0 sec\n",
      "multilayer_perceptron ran in: 0.0 sec\n",
      "multilayer_perceptron ran in: 0.0 sec\n",
      "multilayer_perceptron ran in: 0.015624046325683594 sec\n",
      "multilayer_perceptron ran in: 0.0 sec\n",
      "multilayer_perceptron ran in: 0.0 sec\n",
      "multilayer_perceptron ran in: 0.0 sec\n"
     ]
    },
    {
     "name": "stderr",
     "output_type": "stream",
     "text": [
      " 44%|████▍     | 248/560 [00:07<00:09, 33.37it/s]"
     ]
    },
    {
     "name": "stdout",
     "output_type": "stream",
     "text": [
      "multilayer_perceptron ran in: 0.0 sec\n",
      "multilayer_perceptron ran in: 0.0 sec\n",
      "multilayer_perceptron ran in: 0.0 sec\n",
      "multilayer_perceptron ran in: 0.0 sec\n",
      "multilayer_perceptron ran in: 0.0 sec\n",
      "multilayer_perceptron ran in: 0.0 sec\n"
     ]
    },
    {
     "name": "stderr",
     "output_type": "stream",
     "text": [
      "\r",
      " 45%|████▌     | 252/560 [00:07<00:09, 32.43it/s]"
     ]
    },
    {
     "name": "stdout",
     "output_type": "stream",
     "text": [
      "multilayer_perceptron ran in: 0.0 sec\n",
      "multilayer_perceptron ran in: 0.0 sec\n",
      "multilayer_perceptron ran in: 0.0 sec\n",
      "multilayer_perceptron ran in: 0.0 sec\n",
      "multilayer_perceptron ran in: 0.0 sec\n",
      "multilayer_perceptron ran in: 0.0 sec\n"
     ]
    },
    {
     "name": "stderr",
     "output_type": "stream",
     "text": [
      " 46%|████▋     | 260/560 [00:07<00:09, 32.05it/s]"
     ]
    },
    {
     "name": "stdout",
     "output_type": "stream",
     "text": [
      "multilayer_perceptron ran in: 0.015641212463378906 sec\n",
      "multilayer_perceptron ran in: 0.015605926513671875 sec\n",
      "multilayer_perceptron ran in: 0.0 sec\n",
      "multilayer_perceptron ran in: 0.0 sec\n",
      "multilayer_perceptron ran in: 0.0 sec\n",
      "multilayer_perceptron ran in: 0.0 sec\n",
      "multilayer_perceptron ran in: 0.0 sec\n"
     ]
    },
    {
     "name": "stderr",
     "output_type": "stream",
     "text": [
      "\r",
      " 47%|████▋     | 264/560 [00:07<00:09, 31.54it/s]"
     ]
    },
    {
     "name": "stdout",
     "output_type": "stream",
     "text": [
      "multilayer_perceptron ran in: 0.0 sec\n",
      "multilayer_perceptron ran in: 0.0 sec\n",
      "multilayer_perceptron ran in: 0.0 sec\n",
      "multilayer_perceptron ran in: 0.0 sec\n",
      "multilayer_perceptron ran in: 0.0 sec\n",
      "multilayer_perceptron ran in: 0.0 sec\n",
      "multilayer_perceptron ran in: 0.0 sec\n"
     ]
    },
    {
     "name": "stderr",
     "output_type": "stream",
     "text": [
      " 49%|████▊     | 272/560 [00:08<00:08, 32.99it/s]"
     ]
    },
    {
     "name": "stdout",
     "output_type": "stream",
     "text": [
      "multilayer_perceptron ran in: 0.0 sec\n",
      "multilayer_perceptron ran in: 0.0 sec\n",
      "multilayer_perceptron ran in: 0.0 sec\n",
      "multilayer_perceptron ran in: 0.0 sec\n",
      "multilayer_perceptron ran in: 0.0 sec\n",
      "multilayer_perceptron ran in: 0.0 sec\n",
      "multilayer_perceptron ran in: 0.0 sec\n"
     ]
    },
    {
     "name": "stderr",
     "output_type": "stream",
     "text": [
      " 50%|█████     | 280/560 [00:08<00:08, 32.10it/s]"
     ]
    },
    {
     "name": "stdout",
     "output_type": "stream",
     "text": [
      "multilayer_perceptron ran in: 0.0 sec\n",
      "multilayer_perceptron ran in: 0.0 sec\n",
      "multilayer_perceptron ran in: 0.0 sec\n",
      "multilayer_perceptron ran in: 0.0 sec\n",
      "multilayer_perceptron ran in: 0.0 sec\n",
      "multilayer_perceptron ran in: 0.0 sec\n"
     ]
    },
    {
     "name": "stderr",
     "output_type": "stream",
     "text": [
      " 51%|█████▏    | 288/560 [00:08<00:08, 32.40it/s]"
     ]
    },
    {
     "name": "stdout",
     "output_type": "stream",
     "text": [
      "multilayer_perceptron ran in: 0.0 sec\n",
      "multilayer_perceptron ran in: 0.0 sec\n",
      "multilayer_perceptron ran in: 0.0 sec\n",
      "multilayer_perceptron ran in: 0.0 sec\n",
      "multilayer_perceptron ran in: 0.0 sec\n",
      "multilayer_perceptron ran in: 0.0 sec\n",
      "multilayer_perceptron ran in: 0.0 sec\n"
     ]
    },
    {
     "name": "stderr",
     "output_type": "stream",
     "text": [
      "\r",
      " 52%|█████▏    | 292/560 [00:08<00:08, 32.50it/s]"
     ]
    },
    {
     "name": "stdout",
     "output_type": "stream",
     "text": [
      "multilayer_perceptron ran in: 0.0 sec\n",
      "multilayer_perceptron ran in: 0.0 sec\n",
      "multilayer_perceptron ran in: 0.0 sec\n",
      "multilayer_perceptron ran in: 0.0 sec\n",
      "multilayer_perceptron ran in: 0.015635013580322266 sec\n",
      "multilayer_perceptron ran in: 0.01561117172241211 sec\n"
     ]
    },
    {
     "name": "stderr",
     "output_type": "stream",
     "text": [
      " 54%|█████▎    | 300/560 [00:08<00:07, 32.61it/s]"
     ]
    },
    {
     "name": "stdout",
     "output_type": "stream",
     "text": [
      "multilayer_perceptron ran in: 0.015627145767211914 sec\n",
      "multilayer_perceptron ran in: 0.0 sec\n",
      "multilayer_perceptron ran in: 0.0 sec\n",
      "multilayer_perceptron ran in: 0.0 sec\n",
      "multilayer_perceptron ran in: 0.0 sec\n",
      "multilayer_perceptron ran in: 0.0 sec\n"
     ]
    },
    {
     "name": "stderr",
     "output_type": "stream",
     "text": [
      "\r",
      " 54%|█████▍    | 304/560 [00:09<00:08, 31.92it/s]"
     ]
    },
    {
     "name": "stdout",
     "output_type": "stream",
     "text": [
      "multilayer_perceptron ran in: 0.0 sec\n",
      "multilayer_perceptron ran in: 0.006511211395263672 sec\n",
      "multilayer_perceptron ran in: 0.0 sec\n",
      "multilayer_perceptron ran in: 0.0 sec\n",
      "multilayer_perceptron ran in: 0.0 sec\n",
      "multilayer_perceptron ran in: 0.0 sec\n",
      "multilayer_perceptron ran in: 0.0 sec\n"
     ]
    },
    {
     "name": "stderr",
     "output_type": "stream",
     "text": [
      " 56%|█████▌    | 312/560 [00:09<00:07, 32.81it/s]"
     ]
    },
    {
     "name": "stdout",
     "output_type": "stream",
     "text": [
      "multilayer_perceptron ran in: 0.0 sec\n",
      "multilayer_perceptron ran in: 0.0 sec\n",
      "multilayer_perceptron ran in: 0.0 sec\n",
      "multilayer_perceptron ran in: 0.0 sec\n",
      "multilayer_perceptron ran in: 0.006529092788696289 sec\n",
      "multilayer_perceptron ran in: 0.01562666893005371 sec\n",
      "multilayer_perceptron ran in: 0.01564192771911621 sec\n"
     ]
    },
    {
     "name": "stderr",
     "output_type": "stream",
     "text": [
      " 57%|█████▋    | 320/560 [00:09<00:07, 32.38it/s]"
     ]
    },
    {
     "name": "stdout",
     "output_type": "stream",
     "text": [
      "multilayer_perceptron ran in: 0.0 sec\n",
      "multilayer_perceptron ran in: 0.0 sec\n",
      "multilayer_perceptron ran in: 0.0 sec\n",
      "multilayer_perceptron ran in: 0.0 sec\n",
      "multilayer_perceptron ran in: 0.0 sec\n",
      "multilayer_perceptron ran in: 0.0 sec\n"
     ]
    },
    {
     "name": "stderr",
     "output_type": "stream",
     "text": [
      "\r",
      " 58%|█████▊    | 324/560 [00:09<00:07, 32.99it/s]"
     ]
    },
    {
     "name": "stdout",
     "output_type": "stream",
     "text": [
      "multilayer_perceptron ran in: 0.0 sec\n",
      "multilayer_perceptron ran in: 0.0 sec\n",
      "multilayer_perceptron ran in: 0.0 sec\n",
      "multilayer_perceptron ran in: 0.0 sec\n",
      "multilayer_perceptron ran in: 0.0 sec\n",
      "multilayer_perceptron ran in: 0.0 sec\n",
      "multilayer_perceptron ran in: 0.0 sec\n"
     ]
    },
    {
     "name": "stderr",
     "output_type": "stream",
     "text": [
      " 59%|█████▉    | 332/560 [00:09<00:07, 32.10it/s]"
     ]
    },
    {
     "name": "stdout",
     "output_type": "stream",
     "text": [
      "multilayer_perceptron ran in: 0.0 sec\n",
      "multilayer_perceptron ran in: 0.0 sec\n",
      "multilayer_perceptron ran in: 0.0 sec\n",
      "multilayer_perceptron ran in: 0.0 sec\n",
      "multilayer_perceptron ran in: 0.0 sec\n",
      "multilayer_perceptron ran in: 0.0 sec\n",
      "multilayer_perceptron ran in: 0.0 sec\n"
     ]
    },
    {
     "name": "stderr",
     "output_type": "stream",
     "text": [
      " 61%|██████    | 340/560 [00:10<00:06, 32.04it/s]"
     ]
    },
    {
     "name": "stdout",
     "output_type": "stream",
     "text": [
      "multilayer_perceptron ran in: 0.0 sec\n",
      "multilayer_perceptron ran in: 0.0 sec\n",
      "multilayer_perceptron ran in: 0.0 sec\n",
      "multilayer_perceptron ran in: 0.0 sec\n",
      "multilayer_perceptron ran in: 0.0 sec\n",
      "multilayer_perceptron ran in: 0.0 sec\n",
      "multilayer_perceptron ran in: 0.0 sec\n"
     ]
    },
    {
     "name": "stderr",
     "output_type": "stream",
     "text": [
      "\r",
      " 61%|██████▏   | 344/560 [00:10<00:06, 32.22it/s]"
     ]
    },
    {
     "name": "stdout",
     "output_type": "stream",
     "text": [
      "multilayer_perceptron ran in: 0.0 sec\n",
      "multilayer_perceptron ran in: 0.0 sec\n",
      "multilayer_perceptron ran in: 0.0 sec\n",
      "multilayer_perceptron ran in: 0.0 sec\n",
      "multilayer_perceptron ran in: 0.0 sec\n",
      "multilayer_perceptron ran in: 0.0 sec\n",
      "multilayer_perceptron ran in: 0.0 sec\n"
     ]
    },
    {
     "name": "stderr",
     "output_type": "stream",
     "text": [
      " 63%|██████▎   | 352/560 [00:10<00:06, 33.35it/s]"
     ]
    },
    {
     "name": "stdout",
     "output_type": "stream",
     "text": [
      "multilayer_perceptron ran in: 0.0 sec\n",
      "multilayer_perceptron ran in: 0.0 sec\n",
      "multilayer_perceptron ran in: 0.0 sec\n",
      "multilayer_perceptron ran in: 0.0 sec\n",
      "multilayer_perceptron ran in: 0.0 sec\n",
      "multilayer_perceptron ran in: 0.0 sec\n",
      "multilayer_perceptron ran in: 0.0 sec\n"
     ]
    },
    {
     "name": "stderr",
     "output_type": "stream",
     "text": [
      " 64%|██████▍   | 360/560 [00:10<00:06, 33.03it/s]"
     ]
    },
    {
     "name": "stdout",
     "output_type": "stream",
     "text": [
      "multilayer_perceptron ran in: 0.0 sec\n",
      "multilayer_perceptron ran in: 0.0 sec\n",
      "multilayer_perceptron ran in: 0.0 sec\n",
      "multilayer_perceptron ran in: 0.0 sec\n",
      "multilayer_perceptron ran in: 0.015625476837158203 sec\n"
     ]
    },
    {
     "name": "stderr",
     "output_type": "stream",
     "text": [
      "\r",
      " 65%|██████▌   | 364/560 [00:11<00:07, 25.59it/s]"
     ]
    },
    {
     "name": "stdout",
     "output_type": "stream",
     "text": [
      "multilayer_perceptron ran in: 0.0 sec\n",
      "multilayer_perceptron ran in: 0.0 sec\n",
      "multilayer_perceptron ran in: 0.01562786102294922 sec\n",
      "multilayer_perceptron ran in: 0.0 sec\n",
      "multilayer_perceptron ran in: 0.0 sec\n",
      "multilayer_perceptron ran in: 0.0 sec\n",
      "multilayer_perceptron ran in: 0.0 sec\n"
     ]
    },
    {
     "name": "stderr",
     "output_type": "stream",
     "text": [
      " 66%|██████▋   | 371/560 [00:11<00:06, 28.62it/s]"
     ]
    },
    {
     "name": "stdout",
     "output_type": "stream",
     "text": [
      "multilayer_perceptron ran in: 0.0 sec\n",
      "multilayer_perceptron ran in: 0.0 sec\n",
      "multilayer_perceptron ran in: 0.0 sec\n",
      "multilayer_perceptron ran in: 0.0 sec\n",
      "multilayer_perceptron ran in: 0.0 sec\n",
      "multilayer_perceptron ran in: 0.0 sec\n",
      "multilayer_perceptron ran in: 0.0 sec\n"
     ]
    },
    {
     "name": "stderr",
     "output_type": "stream",
     "text": [
      " 68%|██████▊   | 379/560 [00:11<00:05, 30.29it/s]"
     ]
    },
    {
     "name": "stdout",
     "output_type": "stream",
     "text": [
      "multilayer_perceptron ran in: 0.0 sec\n",
      "multilayer_perceptron ran in: 0.0 sec\n",
      "multilayer_perceptron ran in: 0.006524085998535156 sec\n",
      "multilayer_perceptron ran in: 0.0 sec\n",
      "multilayer_perceptron ran in: 0.0 sec\n",
      "multilayer_perceptron ran in: 0.0 sec\n",
      "multilayer_perceptron ran in: 0.0 sec\n"
     ]
    },
    {
     "name": "stderr",
     "output_type": "stream",
     "text": [
      " 69%|██████▉   | 387/560 [00:11<00:05, 31.82it/s]"
     ]
    },
    {
     "name": "stdout",
     "output_type": "stream",
     "text": [
      "multilayer_perceptron ran in: 0.015625953674316406 sec\n",
      "multilayer_perceptron ran in: 0.0 sec\n",
      "multilayer_perceptron ran in: 0.0 sec\n",
      "multilayer_perceptron ran in: 0.0 sec\n",
      "multilayer_perceptron ran in: 0.0 sec\n",
      "multilayer_perceptron ran in: 0.006509065628051758 sec\n",
      "multilayer_perceptron ran in: 0.0 sec\n"
     ]
    },
    {
     "name": "stderr",
     "output_type": "stream",
     "text": [
      "\r",
      " 70%|██████▉   | 391/560 [00:11<00:05, 32.59it/s]"
     ]
    },
    {
     "name": "stdout",
     "output_type": "stream",
     "text": [
      "multilayer_perceptron ran in: 0.0 sec\n",
      "multilayer_perceptron ran in: 0.0 sec\n",
      "multilayer_perceptron ran in: 0.0 sec\n",
      "multilayer_perceptron ran in: 0.0 sec\n",
      "multilayer_perceptron ran in: 0.0 sec\n",
      "multilayer_perceptron ran in: 0.0 sec\n"
     ]
    },
    {
     "name": "stderr",
     "output_type": "stream",
     "text": [
      " 71%|███████▏  | 399/560 [00:12<00:04, 32.64it/s]"
     ]
    },
    {
     "name": "stdout",
     "output_type": "stream",
     "text": [
      "multilayer_perceptron ran in: 0.0 sec\n",
      "multilayer_perceptron ran in: 0.0 sec\n",
      "multilayer_perceptron ran in: 0.0 sec\n",
      "multilayer_perceptron ran in: 0.0 sec\n",
      "multilayer_perceptron ran in: 0.015640735626220703 sec\n",
      "multilayer_perceptron ran in: 0.0156252384185791 sec\n",
      "multilayer_perceptron ran in: 0.0 sec\n"
     ]
    },
    {
     "name": "stderr",
     "output_type": "stream",
     "text": [
      " 73%|███████▎  | 407/560 [00:12<00:04, 31.94it/s]"
     ]
    },
    {
     "name": "stdout",
     "output_type": "stream",
     "text": [
      "multilayer_perceptron ran in: 0.0 sec\n",
      "multilayer_perceptron ran in: 0.0 sec\n",
      "multilayer_perceptron ran in: 0.0 sec\n",
      "multilayer_perceptron ran in: 0.0 sec\n",
      "multilayer_perceptron ran in: 0.0 sec\n",
      "multilayer_perceptron ran in: 0.0 sec\n"
     ]
    },
    {
     "name": "stderr",
     "output_type": "stream",
     "text": [
      "\r",
      " 73%|███████▎  | 411/560 [00:12<00:04, 31.47it/s]"
     ]
    },
    {
     "name": "stdout",
     "output_type": "stream",
     "text": [
      "multilayer_perceptron ran in: 0.0 sec\n",
      "multilayer_perceptron ran in: 0.0 sec\n",
      "multilayer_perceptron ran in: 0.0 sec\n",
      "multilayer_perceptron ran in: 0.0 sec\n",
      "multilayer_perceptron ran in: 0.0 sec\n",
      "multilayer_perceptron ran in: 0.0 sec\n"
     ]
    },
    {
     "name": "stderr",
     "output_type": "stream",
     "text": [
      " 75%|███████▍  | 419/560 [00:12<00:04, 31.25it/s]"
     ]
    },
    {
     "name": "stdout",
     "output_type": "stream",
     "text": [
      "multilayer_perceptron ran in: 0.0 sec\n",
      "multilayer_perceptron ran in: 0.0 sec\n",
      "multilayer_perceptron ran in: 0.0 sec\n",
      "multilayer_perceptron ran in: 0.0 sec\n",
      "multilayer_perceptron ran in: 0.0 sec\n",
      "multilayer_perceptron ran in: 0.0 sec\n"
     ]
    },
    {
     "name": "stderr",
     "output_type": "stream",
     "text": [
      "\r",
      " 76%|███████▌  | 423/560 [00:12<00:04, 32.17it/s]"
     ]
    },
    {
     "name": "stdout",
     "output_type": "stream",
     "text": [
      "multilayer_perceptron ran in: 0.0 sec\n",
      "multilayer_perceptron ran in: 0.0 sec\n",
      "multilayer_perceptron ran in: 0.0 sec\n",
      "multilayer_perceptron ran in: 0.0 sec\n",
      "multilayer_perceptron ran in: 0.0 sec\n",
      "multilayer_perceptron ran in: 0.0 sec\n",
      "multilayer_perceptron ran in: 0.0 sec\n"
     ]
    },
    {
     "name": "stderr",
     "output_type": "stream",
     "text": [
      " 77%|███████▋  | 431/560 [00:13<00:03, 32.43it/s]"
     ]
    },
    {
     "name": "stdout",
     "output_type": "stream",
     "text": [
      "multilayer_perceptron ran in: 0.0 sec\n",
      "multilayer_perceptron ran in: 0.0 sec\n",
      "multilayer_perceptron ran in: 0.0 sec\n",
      "multilayer_perceptron ran in: 0.0 sec\n",
      "multilayer_perceptron ran in: 0.0 sec\n",
      "multilayer_perceptron ran in: 0.0 sec\n",
      "multilayer_perceptron ran in: 0.0 sec\n"
     ]
    },
    {
     "name": "stderr",
     "output_type": "stream",
     "text": [
      " 78%|███████▊  | 439/560 [00:13<00:03, 31.84it/s]"
     ]
    },
    {
     "name": "stdout",
     "output_type": "stream",
     "text": [
      "multilayer_perceptron ran in: 0.0 sec\n",
      "multilayer_perceptron ran in: 0.0 sec\n",
      "multilayer_perceptron ran in: 0.0 sec\n",
      "multilayer_perceptron ran in: 0.0 sec\n",
      "multilayer_perceptron ran in: 0.0 sec\n",
      "multilayer_perceptron ran in: 0.015654563903808594 sec\n",
      "multilayer_perceptron ran in: 0.0 sec\n",
      "multilayer_perceptron ran in: 0.0 sec\n"
     ]
    },
    {
     "name": "stderr",
     "output_type": "stream",
     "text": [
      " 80%|███████▉  | 447/560 [00:13<00:03, 33.15it/s]"
     ]
    },
    {
     "name": "stdout",
     "output_type": "stream",
     "text": [
      "multilayer_perceptron ran in: 0.0 sec\n",
      "multilayer_perceptron ran in: 0.0 sec\n",
      "multilayer_perceptron ran in: 0.0 sec\n",
      "multilayer_perceptron ran in: 0.0 sec\n",
      "multilayer_perceptron ran in: 0.0 sec\n",
      "multilayer_perceptron ran in: 0.0 sec\n",
      "multilayer_perceptron ran in: 0.0 sec\n"
     ]
    },
    {
     "name": "stderr",
     "output_type": "stream",
     "text": [
      "\r",
      " 81%|████████  | 451/560 [00:13<00:03, 31.78it/s]"
     ]
    },
    {
     "name": "stdout",
     "output_type": "stream",
     "text": [
      "multilayer_perceptron ran in: 0.015635967254638672 sec\n",
      "multilayer_perceptron ran in: 0.0 sec\n",
      "multilayer_perceptron ran in: 0.0 sec\n",
      "multilayer_perceptron ran in: 0.0 sec\n",
      "multilayer_perceptron ran in: 0.0 sec\n",
      "multilayer_perceptron ran in: 0.0 sec\n",
      "multilayer_perceptron ran in: 0.0 sec\n"
     ]
    },
    {
     "name": "stderr",
     "output_type": "stream",
     "text": [
      " 82%|████████▏ | 459/560 [00:13<00:03, 32.24it/s]"
     ]
    },
    {
     "name": "stdout",
     "output_type": "stream",
     "text": [
      "multilayer_perceptron ran in: 0.0 sec\n",
      "multilayer_perceptron ran in: 0.0 sec\n",
      "multilayer_perceptron ran in: 0.0 sec\n",
      "multilayer_perceptron ran in: 0.0 sec\n",
      "multilayer_perceptron ran in: 0.0 sec\n",
      "multilayer_perceptron ran in: 0.0 sec\n"
     ]
    },
    {
     "name": "stderr",
     "output_type": "stream",
     "text": [
      " 83%|████████▎ | 467/560 [00:14<00:02, 31.97it/s]"
     ]
    },
    {
     "name": "stdout",
     "output_type": "stream",
     "text": [
      "multilayer_perceptron ran in: 0.0 sec\n",
      "multilayer_perceptron ran in: 0.0 sec\n",
      "multilayer_perceptron ran in: 0.006508827209472656 sec\n",
      "multilayer_perceptron ran in: 0.015626192092895508 sec\n",
      "multilayer_perceptron ran in: 0.0 sec\n",
      "multilayer_perceptron ran in: 0.0 sec\n"
     ]
    },
    {
     "name": "stderr",
     "output_type": "stream",
     "text": [
      "\r",
      " 84%|████████▍ | 471/560 [00:14<00:02, 31.48it/s]"
     ]
    },
    {
     "name": "stdout",
     "output_type": "stream",
     "text": [
      "multilayer_perceptron ran in: 0.0 sec\n",
      "multilayer_perceptron ran in: 0.0 sec\n",
      "multilayer_perceptron ran in: 0.0 sec\n",
      "multilayer_perceptron ran in: 0.0 sec\n",
      "multilayer_perceptron ran in: 0.0 sec\n",
      "multilayer_perceptron ran in: 0.0 sec\n"
     ]
    },
    {
     "name": "stderr",
     "output_type": "stream",
     "text": [
      " 86%|████████▌ | 479/560 [00:14<00:02, 32.09it/s]"
     ]
    },
    {
     "name": "stdout",
     "output_type": "stream",
     "text": [
      "multilayer_perceptron ran in: 0.0 sec\n",
      "multilayer_perceptron ran in: 0.0 sec\n",
      "multilayer_perceptron ran in: 0.0 sec\n",
      "multilayer_perceptron ran in: 0.0 sec\n",
      "multilayer_perceptron ran in: 0.0 sec\n",
      "multilayer_perceptron ran in: 0.0 sec\n"
     ]
    },
    {
     "name": "stderr",
     "output_type": "stream",
     "text": [
      "\r",
      " 86%|████████▋ | 483/560 [00:14<00:02, 32.28it/s]"
     ]
    },
    {
     "name": "stdout",
     "output_type": "stream",
     "text": [
      "multilayer_perceptron ran in: 0.006511211395263672 sec\n",
      "multilayer_perceptron ran in: 0.0 sec\n",
      "multilayer_perceptron ran in: 0.0 sec\n",
      "multilayer_perceptron ran in: 0.0 sec\n",
      "multilayer_perceptron ran in: 0.0 sec\n",
      "multilayer_perceptron ran in: 0.0 sec\n",
      "multilayer_perceptron ran in: 0.0 sec\n"
     ]
    },
    {
     "name": "stderr",
     "output_type": "stream",
     "text": [
      " 88%|████████▊ | 491/560 [00:14<00:02, 32.49it/s]"
     ]
    },
    {
     "name": "stdout",
     "output_type": "stream",
     "text": [
      "multilayer_perceptron ran in: 0.01563405990600586 sec\n",
      "multilayer_perceptron ran in: 0.0 sec\n",
      "multilayer_perceptron ran in: 0.01562643051147461 sec\n",
      "multilayer_perceptron ran in: 0.0 sec\n",
      "multilayer_perceptron ran in: 0.0 sec\n",
      "multilayer_perceptron ran in: 0.0 sec\n",
      "multilayer_perceptron ran in: 0.0 sec\n"
     ]
    },
    {
     "name": "stderr",
     "output_type": "stream",
     "text": [
      " 89%|████████▉ | 499/560 [00:15<00:01, 32.09it/s]"
     ]
    },
    {
     "name": "stdout",
     "output_type": "stream",
     "text": [
      "multilayer_perceptron ran in: 0.0 sec\n",
      "multilayer_perceptron ran in: 0.0 sec\n",
      "multilayer_perceptron ran in: 0.0 sec\n",
      "multilayer_perceptron ran in: 0.0 sec\n",
      "multilayer_perceptron ran in: 0.0 sec\n",
      "multilayer_perceptron ran in: 0.0 sec\n"
     ]
    },
    {
     "name": "stderr",
     "output_type": "stream",
     "text": [
      "\r",
      " 90%|████████▉ | 503/560 [00:15<00:01, 31.57it/s]"
     ]
    },
    {
     "name": "stdout",
     "output_type": "stream",
     "text": [
      "multilayer_perceptron ran in: 0.0 sec\n",
      "multilayer_perceptron ran in: 0.0 sec\n",
      "multilayer_perceptron ran in: 0.0 sec\n",
      "multilayer_perceptron ran in: 0.0 sec\n",
      "multilayer_perceptron ran in: 0.0 sec\n",
      "multilayer_perceptron ran in: 0.0 sec\n"
     ]
    },
    {
     "name": "stderr",
     "output_type": "stream",
     "text": [
      " 91%|█████████▏| 511/560 [00:15<00:01, 31.77it/s]"
     ]
    },
    {
     "name": "stdout",
     "output_type": "stream",
     "text": [
      "multilayer_perceptron ran in: 0.0 sec\n",
      "multilayer_perceptron ran in: 0.0 sec\n",
      "multilayer_perceptron ran in: 0.0 sec\n",
      "multilayer_perceptron ran in: 0.0 sec\n",
      "multilayer_perceptron ran in: 0.01562952995300293 sec\n",
      "multilayer_perceptron ran in: 0.0 sec\n"
     ]
    },
    {
     "name": "stderr",
     "output_type": "stream",
     "text": [
      "\r",
      " 92%|█████████▏| 515/560 [00:15<00:01, 32.03it/s]"
     ]
    },
    {
     "name": "stdout",
     "output_type": "stream",
     "text": [
      "multilayer_perceptron ran in: 0.0 sec\n",
      "multilayer_perceptron ran in: 0.0 sec\n",
      "multilayer_perceptron ran in: 0.0 sec\n",
      "multilayer_perceptron ran in: 0.0 sec\n",
      "multilayer_perceptron ran in: 0.015649080276489258 sec\n",
      "multilayer_perceptron ran in: 0.015620708465576172 sec\n",
      "multilayer_perceptron ran in: 0.0 sec\n"
     ]
    },
    {
     "name": "stderr",
     "output_type": "stream",
     "text": [
      " 93%|█████████▎| 523/560 [00:15<00:01, 32.00it/s]"
     ]
    },
    {
     "name": "stdout",
     "output_type": "stream",
     "text": [
      "multilayer_perceptron ran in: 0.0 sec\n",
      "multilayer_perceptron ran in: 0.0 sec\n",
      "multilayer_perceptron ran in: 0.0 sec\n",
      "multilayer_perceptron ran in: 0.0 sec\n",
      "multilayer_perceptron ran in: 0.0 sec\n",
      "multilayer_perceptron ran in: 0.0 sec\n",
      "multilayer_perceptron ran in: 0.0 sec\n"
     ]
    },
    {
     "name": "stderr",
     "output_type": "stream",
     "text": [
      " 95%|█████████▍| 531/560 [00:16<00:00, 33.24it/s]"
     ]
    },
    {
     "name": "stdout",
     "output_type": "stream",
     "text": [
      "multilayer_perceptron ran in: 0.0 sec\n",
      "multilayer_perceptron ran in: 0.0 sec\n",
      "multilayer_perceptron ran in: 0.0 sec\n",
      "multilayer_perceptron ran in: 0.0 sec\n",
      "multilayer_perceptron ran in: 0.0 sec\n",
      "multilayer_perceptron ran in: 0.0 sec\n",
      "multilayer_perceptron ran in: 0.006516695022583008 sec\n",
      "multilayer_perceptron ran in: 0.0 sec\n"
     ]
    },
    {
     "name": "stderr",
     "output_type": "stream",
     "text": [
      " 96%|█████████▋| 539/560 [00:16<00:00, 32.22it/s]"
     ]
    },
    {
     "name": "stdout",
     "output_type": "stream",
     "text": [
      "multilayer_perceptron ran in: 0.0 sec\n",
      "multilayer_perceptron ran in: 0.0 sec\n",
      "multilayer_perceptron ran in: 0.0 sec\n",
      "multilayer_perceptron ran in: 0.0 sec\n",
      "multilayer_perceptron ran in: 0.0 sec\n",
      "multilayer_perceptron ran in: 0.0 sec\n",
      "multilayer_perceptron ran in: 0.0 sec\n"
     ]
    },
    {
     "name": "stderr",
     "output_type": "stream",
     "text": [
      "\r",
      " 97%|█████████▋| 543/560 [00:16<00:00, 32.87it/s]"
     ]
    },
    {
     "name": "stdout",
     "output_type": "stream",
     "text": [
      "multilayer_perceptron ran in: 0.0 sec\n",
      "multilayer_perceptron ran in: 0.0 sec\n",
      "multilayer_perceptron ran in: 0.0 sec\n",
      "multilayer_perceptron ran in: 0.0 sec\n",
      "multilayer_perceptron ran in: 0.00652313232421875 sec\n",
      "multilayer_perceptron ran in: 0.0 sec\n",
      "multilayer_perceptron ran in: 0.0 sec\n"
     ]
    },
    {
     "name": "stderr",
     "output_type": "stream",
     "text": [
      " 98%|█████████▊| 551/560 [00:16<00:00, 32.53it/s]"
     ]
    },
    {
     "name": "stdout",
     "output_type": "stream",
     "text": [
      "multilayer_perceptron ran in: 0.0 sec\n",
      "multilayer_perceptron ran in: 0.0 sec\n",
      "multilayer_perceptron ran in: 0.0 sec\n",
      "multilayer_perceptron ran in: 0.0 sec\n",
      "multilayer_perceptron ran in: 0.0 sec\n",
      "multilayer_perceptron ran in: 0.0 sec\n",
      "multilayer_perceptron ran in: 0.0 sec\n"
     ]
    },
    {
     "name": "stderr",
     "output_type": "stream",
     "text": [
      "100%|██████████| 560/560 [00:17<00:00, 32.72it/s]\n"
     ]
    },
    {
     "name": "stdout",
     "output_type": "stream",
     "text": [
      "multilayer_perceptron ran in: 0.0 sec\n",
      "multilayer_perceptron ran in: 0.0 sec\n",
      "multilayer_perceptron ran in: 0.0 sec\n",
      "multilayer_perceptron ran in: 0.0 sec\n",
      "multilayer_perceptron ran in: 0.0 sec\n",
      "multilayer_perceptron ran in: 0.0 sec\n",
      "Epoch: 7 Cost=81820.5625\n"
     ]
    },
    {
     "name": "stderr",
     "output_type": "stream",
     "text": [
      "\r",
      "  0%|          | 0/560 [00:00<?, ?it/s]"
     ]
    },
    {
     "name": "stdout",
     "output_type": "stream",
     "text": [
      "multilayer_perceptron ran in: 0.0 sec\n"
     ]
    },
    {
     "name": "stderr",
     "output_type": "stream",
     "text": [
      "\r",
      "  1%|          | 4/560 [00:00<00:16, 34.51it/s]"
     ]
    },
    {
     "name": "stdout",
     "output_type": "stream",
     "text": [
      "multilayer_perceptron ran in: 0.0 sec\n",
      "multilayer_perceptron ran in: 0.0 sec\n",
      "multilayer_perceptron ran in: 0.0 sec\n",
      "multilayer_perceptron ran in: 0.0 sec\n",
      "multilayer_perceptron ran in: 0.0 sec\n",
      "multilayer_perceptron ran in: 0.015624284744262695 sec\n"
     ]
    },
    {
     "name": "stderr",
     "output_type": "stream",
     "text": [
      "  2%|▏         | 12/560 [00:00<00:18, 30.25it/s]"
     ]
    },
    {
     "name": "stdout",
     "output_type": "stream",
     "text": [
      "multilayer_perceptron ran in: 0.0 sec\n",
      "multilayer_perceptron ran in: 0.0 sec\n",
      "multilayer_perceptron ran in: 0.0 sec\n",
      "multilayer_perceptron ran in: 0.0 sec\n",
      "multilayer_perceptron ran in: 0.0 sec\n",
      "multilayer_perceptron ran in: 0.015623092651367188 sec\n"
     ]
    },
    {
     "name": "stderr",
     "output_type": "stream",
     "text": [
      "  4%|▎         | 20/560 [00:00<00:17, 31.70it/s]"
     ]
    },
    {
     "name": "stdout",
     "output_type": "stream",
     "text": [
      "multilayer_perceptron ran in: 0.0 sec\n",
      "multilayer_perceptron ran in: 0.0 sec\n",
      "multilayer_perceptron ran in: 0.0 sec\n",
      "multilayer_perceptron ran in: 0.0 sec\n",
      "multilayer_perceptron ran in: 0.0 sec\n",
      "multilayer_perceptron ran in: 0.0 sec\n",
      "multilayer_perceptron ran in: 0.0 sec\n"
     ]
    },
    {
     "name": "stderr",
     "output_type": "stream",
     "text": [
      "\r",
      "  4%|▍         | 24/560 [00:00<00:16, 32.02it/s]"
     ]
    },
    {
     "name": "stdout",
     "output_type": "stream",
     "text": [
      "multilayer_perceptron ran in: 0.0 sec\n",
      "multilayer_perceptron ran in: 0.0 sec\n",
      "multilayer_perceptron ran in: 0.0 sec\n",
      "multilayer_perceptron ran in: 0.0 sec\n",
      "multilayer_perceptron ran in: 0.0 sec\n",
      "multilayer_perceptron ran in: 0.015638351440429688 sec\n",
      "multilayer_perceptron ran in: 0.0 sec\n"
     ]
    },
    {
     "name": "stderr",
     "output_type": "stream",
     "text": [
      "  6%|▌         | 32/560 [00:00<00:15, 33.32it/s]"
     ]
    },
    {
     "name": "stdout",
     "output_type": "stream",
     "text": [
      "multilayer_perceptron ran in: 0.0 sec\n",
      "multilayer_perceptron ran in: 0.0 sec\n",
      "multilayer_perceptron ran in: 0.0 sec\n",
      "multilayer_perceptron ran in: 0.0 sec\n",
      "multilayer_perceptron ran in: 0.0 sec\n",
      "multilayer_perceptron ran in: 0.0 sec\n",
      "multilayer_perceptron ran in: 0.0 sec\n",
      "multilayer_perceptron ran in: 0.0 sec\n"
     ]
    },
    {
     "name": "stderr",
     "output_type": "stream",
     "text": [
      "  7%|▋         | 40/560 [00:01<00:16, 32.45it/s]"
     ]
    },
    {
     "name": "stdout",
     "output_type": "stream",
     "text": [
      "multilayer_perceptron ran in: 0.0 sec\n",
      "multilayer_perceptron ran in: 0.015628576278686523 sec\n",
      "multilayer_perceptron ran in: 0.0 sec\n",
      "multilayer_perceptron ran in: 0.0 sec\n",
      "multilayer_perceptron ran in: 0.0 sec\n",
      "multilayer_perceptron ran in: 0.015659332275390625 sec\n"
     ]
    },
    {
     "name": "stderr",
     "output_type": "stream",
     "text": [
      "\r",
      "  8%|▊         | 44/560 [00:01<00:15, 33.05it/s]"
     ]
    },
    {
     "name": "stdout",
     "output_type": "stream",
     "text": [
      "multilayer_perceptron ran in: 0.015625476837158203 sec\n",
      "multilayer_perceptron ran in: 0.0 sec\n",
      "multilayer_perceptron ran in: 0.0 sec\n",
      "multilayer_perceptron ran in: 0.0 sec\n",
      "multilayer_perceptron ran in: 0.0 sec\n",
      "multilayer_perceptron ran in: 0.0 sec\n",
      "multilayer_perceptron ran in: 0.0 sec\n"
     ]
    },
    {
     "name": "stderr",
     "output_type": "stream",
     "text": [
      "  9%|▉         | 52/560 [00:01<00:15, 32.52it/s]"
     ]
    },
    {
     "name": "stdout",
     "output_type": "stream",
     "text": [
      "multilayer_perceptron ran in: 0.0 sec\n",
      "multilayer_perceptron ran in: 0.0 sec\n",
      "multilayer_perceptron ran in: 0.0 sec\n",
      "multilayer_perceptron ran in: 0.0 sec\n",
      "multilayer_perceptron ran in: 0.0 sec\n",
      "multilayer_perceptron ran in: 0.0 sec\n",
      "multilayer_perceptron ran in: 0.0 sec\n"
     ]
    },
    {
     "name": "stderr",
     "output_type": "stream",
     "text": [
      " 11%|█         | 60/560 [00:01<00:15, 31.98it/s]"
     ]
    },
    {
     "name": "stdout",
     "output_type": "stream",
     "text": [
      "multilayer_perceptron ran in: 0.0 sec\n",
      "multilayer_perceptron ran in: 0.0 sec\n",
      "multilayer_perceptron ran in: 0.0 sec\n",
      "multilayer_perceptron ran in: 0.0 sec\n",
      "multilayer_perceptron ran in: 0.0 sec\n",
      "multilayer_perceptron ran in: 0.0 sec\n"
     ]
    },
    {
     "name": "stderr",
     "output_type": "stream",
     "text": [
      "\r",
      " 11%|█▏        | 64/560 [00:01<00:15, 31.49it/s]"
     ]
    },
    {
     "name": "stdout",
     "output_type": "stream",
     "text": [
      "multilayer_perceptron ran in: 0.0 sec\n",
      "multilayer_perceptron ran in: 0.0 sec\n",
      "multilayer_perceptron ran in: 0.0 sec\n",
      "multilayer_perceptron ran in: 0.0 sec\n",
      "multilayer_perceptron ran in: 0.006509542465209961 sec\n",
      "multilayer_perceptron ran in: 0.015627384185791016 sec\n",
      "multilayer_perceptron ran in: 0.0 sec\n"
     ]
    },
    {
     "name": "stderr",
     "output_type": "stream",
     "text": [
      " 13%|█▎        | 72/560 [00:02<00:15, 31.60it/s]"
     ]
    },
    {
     "name": "stdout",
     "output_type": "stream",
     "text": [
      "multilayer_perceptron ran in: 0.0 sec\n",
      "multilayer_perceptron ran in: 0.0 sec\n",
      "multilayer_perceptron ran in: 0.0 sec\n",
      "multilayer_perceptron ran in: 0.0 sec\n",
      "multilayer_perceptron ran in: 0.015635251998901367 sec\n",
      "multilayer_perceptron ran in: 0.0 sec\n",
      "multilayer_perceptron ran in: 0.0 sec\n"
     ]
    },
    {
     "name": "stderr",
     "output_type": "stream",
     "text": [
      " 14%|█▍        | 80/560 [00:02<00:15, 31.79it/s]"
     ]
    },
    {
     "name": "stdout",
     "output_type": "stream",
     "text": [
      "multilayer_perceptron ran in: 0.0 sec\n",
      "multilayer_perceptron ran in: 0.0 sec\n",
      "multilayer_perceptron ran in: 0.0 sec\n",
      "multilayer_perceptron ran in: 0.0 sec\n",
      "multilayer_perceptron ran in: 0.0 sec\n",
      "multilayer_perceptron ran in: 0.0 sec\n",
      "multilayer_perceptron ran in: 0.0156252384185791 sec\n"
     ]
    },
    {
     "name": "stderr",
     "output_type": "stream",
     "text": [
      " 16%|█▌        | 88/560 [00:02<00:14, 31.88it/s]"
     ]
    },
    {
     "name": "stdout",
     "output_type": "stream",
     "text": [
      "multilayer_perceptron ran in: 0.0 sec\n",
      "multilayer_perceptron ran in: 0.0 sec\n",
      "multilayer_perceptron ran in: 0.0 sec\n",
      "multilayer_perceptron ran in: 0.0 sec\n",
      "multilayer_perceptron ran in: 0.0 sec\n",
      "multilayer_perceptron ran in: 0.0 sec\n",
      "multilayer_perceptron ran in: 0.0 sec\n"
     ]
    },
    {
     "name": "stderr",
     "output_type": "stream",
     "text": [
      " 17%|█▋        | 96/560 [00:02<00:14, 32.43it/s]"
     ]
    },
    {
     "name": "stdout",
     "output_type": "stream",
     "text": [
      "multilayer_perceptron ran in: 0.0 sec\n",
      "multilayer_perceptron ran in: 0.0 sec\n",
      "multilayer_perceptron ran in: 0.01562786102294922 sec\n",
      "multilayer_perceptron ran in: 0.0 sec\n",
      "multilayer_perceptron ran in: 0.0 sec\n",
      "multilayer_perceptron ran in: 0.015627384185791016 sec\n",
      "multilayer_perceptron ran in: 0.0 sec\n"
     ]
    },
    {
     "name": "stderr",
     "output_type": "stream",
     "text": [
      "\r",
      " 18%|█▊        | 100/560 [00:03<00:14, 31.79it/s]"
     ]
    },
    {
     "name": "stdout",
     "output_type": "stream",
     "text": [
      "multilayer_perceptron ran in: 0.0 sec\n",
      "multilayer_perceptron ran in: 0.0 sec\n",
      "multilayer_perceptron ran in: 0.0 sec\n",
      "multilayer_perceptron ran in: 0.0 sec\n",
      "multilayer_perceptron ran in: 0.0 sec\n",
      "multilayer_perceptron ran in: 0.0 sec\n"
     ]
    },
    {
     "name": "stderr",
     "output_type": "stream",
     "text": [
      " 19%|█▉        | 108/560 [00:03<00:13, 33.12it/s]"
     ]
    },
    {
     "name": "stdout",
     "output_type": "stream",
     "text": [
      "multilayer_perceptron ran in: 0.0 sec\n",
      "multilayer_perceptron ran in: 0.015622138977050781 sec\n",
      "multilayer_perceptron ran in: 0.0 sec\n",
      "multilayer_perceptron ran in: 0.0 sec\n",
      "multilayer_perceptron ran in: 0.0 sec\n",
      "multilayer_perceptron ran in: 0.0 sec\n",
      "multilayer_perceptron ran in: 0.0 sec\n"
     ]
    },
    {
     "name": "stderr",
     "output_type": "stream",
     "text": [
      "\r",
      " 20%|██        | 112/560 [00:03<00:13, 32.98it/s]"
     ]
    },
    {
     "name": "stdout",
     "output_type": "stream",
     "text": [
      "multilayer_perceptron ran in: 0.0 sec\n",
      "multilayer_perceptron ran in: 0.0 sec\n",
      "multilayer_perceptron ran in: 0.0065233707427978516 sec\n",
      "multilayer_perceptron ran in: 0.0 sec\n",
      "multilayer_perceptron ran in: 0.0 sec\n",
      "multilayer_perceptron ran in: 0.0 sec\n"
     ]
    },
    {
     "name": "stderr",
     "output_type": "stream",
     "text": [
      " 21%|██▏       | 120/560 [00:03<00:13, 32.60it/s]"
     ]
    },
    {
     "name": "stdout",
     "output_type": "stream",
     "text": [
      "multilayer_perceptron ran in: 0.0 sec\n",
      "multilayer_perceptron ran in: 0.0 sec\n",
      "multilayer_perceptron ran in: 0.01564192771911621 sec\n",
      "multilayer_perceptron ran in: 0.0 sec\n",
      "multilayer_perceptron ran in: 0.0 sec\n",
      "multilayer_perceptron ran in: 0.0 sec\n",
      "multilayer_perceptron ran in: 0.0 sec\n"
     ]
    },
    {
     "name": "stderr",
     "output_type": "stream",
     "text": [
      " 23%|██▎       | 128/560 [00:03<00:13, 33.00it/s]"
     ]
    },
    {
     "name": "stdout",
     "output_type": "stream",
     "text": [
      "multilayer_perceptron ran in: 0.0 sec\n",
      "multilayer_perceptron ran in: 0.015633821487426758 sec\n",
      "multilayer_perceptron ran in: 0.0 sec\n",
      "multilayer_perceptron ran in: 0.0 sec\n",
      "multilayer_perceptron ran in: 0.0 sec\n",
      "multilayer_perceptron ran in: 0.0 sec\n",
      "multilayer_perceptron ran in: 0.0 sec\n"
     ]
    },
    {
     "name": "stderr",
     "output_type": "stream",
     "text": [
      "\r",
      " 24%|██▎       | 132/560 [00:04<00:12, 33.44it/s]"
     ]
    },
    {
     "name": "stdout",
     "output_type": "stream",
     "text": [
      "multilayer_perceptron ran in: 0.0 sec\n",
      "multilayer_perceptron ran in: 0.0 sec\n",
      "multilayer_perceptron ran in: 0.0 sec\n",
      "multilayer_perceptron ran in: 0.0 sec\n",
      "multilayer_perceptron ran in: 0.0 sec\n",
      "multilayer_perceptron ran in: 0.0 sec\n",
      "multilayer_perceptron ran in: 0.0 sec\n"
     ]
    },
    {
     "name": "stderr",
     "output_type": "stream",
     "text": [
      " 25%|██▌       | 140/560 [00:04<00:12, 33.06it/s]"
     ]
    },
    {
     "name": "stdout",
     "output_type": "stream",
     "text": [
      "multilayer_perceptron ran in: 0.0 sec\n",
      "multilayer_perceptron ran in: 0.0 sec\n",
      "multilayer_perceptron ran in: 0.0 sec\n",
      "multilayer_perceptron ran in: 0.0 sec\n",
      "multilayer_perceptron ran in: 0.0 sec\n",
      "multilayer_perceptron ran in: 0.0 sec\n",
      "multilayer_perceptron ran in: 0.0 sec\n"
     ]
    },
    {
     "name": "stderr",
     "output_type": "stream",
     "text": [
      " 26%|██▋       | 148/560 [00:04<00:12, 33.23it/s]"
     ]
    },
    {
     "name": "stdout",
     "output_type": "stream",
     "text": [
      "multilayer_perceptron ran in: 0.0 sec\n",
      "multilayer_perceptron ran in: 0.0 sec\n",
      "multilayer_perceptron ran in: 0.0 sec\n",
      "multilayer_perceptron ran in: 0.015612125396728516 sec\n",
      "multilayer_perceptron ran in: 0.0 sec\n",
      "multilayer_perceptron ran in: 0.0 sec\n",
      "multilayer_perceptron ran in: 0.0 sec\n"
     ]
    },
    {
     "name": "stderr",
     "output_type": "stream",
     "text": [
      " 28%|██▊       | 156/560 [00:04<00:12, 32.96it/s]"
     ]
    },
    {
     "name": "stdout",
     "output_type": "stream",
     "text": [
      "multilayer_perceptron ran in: 0.0 sec\n",
      "multilayer_perceptron ran in: 0.0 sec\n",
      "multilayer_perceptron ran in: 0.0 sec\n",
      "multilayer_perceptron ran in: 0.0 sec\n",
      "multilayer_perceptron ran in: 0.0 sec\n",
      "multilayer_perceptron ran in: 0.0 sec\n",
      "multilayer_perceptron ran in: 0.0 sec\n"
     ]
    },
    {
     "name": "stderr",
     "output_type": "stream",
     "text": [
      "\r",
      " 29%|██▊       | 160/560 [00:04<00:11, 33.41it/s]"
     ]
    },
    {
     "name": "stdout",
     "output_type": "stream",
     "text": [
      "multilayer_perceptron ran in: 0.0 sec\n",
      "multilayer_perceptron ran in: 0.0 sec\n",
      "multilayer_perceptron ran in: 0.0 sec\n",
      "multilayer_perceptron ran in: 0.0 sec\n",
      "multilayer_perceptron ran in: 0.0 sec\n",
      "multilayer_perceptron ran in: 0.01562809944152832 sec\n",
      "multilayer_perceptron ran in: 0.0 sec\n"
     ]
    },
    {
     "name": "stderr",
     "output_type": "stream",
     "text": [
      " 30%|███       | 168/560 [00:05<00:12, 32.51it/s]"
     ]
    },
    {
     "name": "stdout",
     "output_type": "stream",
     "text": [
      "multilayer_perceptron ran in: 0.0 sec\n",
      "multilayer_perceptron ran in: 0.0 sec\n",
      "multilayer_perceptron ran in: 0.0 sec\n",
      "multilayer_perceptron ran in: 0.0 sec\n",
      "multilayer_perceptron ran in: 0.0 sec\n",
      "multilayer_perceptron ran in: 0.0 sec\n",
      "multilayer_perceptron ran in: 0.0 sec\n"
     ]
    },
    {
     "name": "stderr",
     "output_type": "stream",
     "text": [
      " 31%|███▏      | 176/560 [00:05<00:11, 32.24it/s]"
     ]
    },
    {
     "name": "stdout",
     "output_type": "stream",
     "text": [
      "multilayer_perceptron ran in: 0.0 sec\n",
      "multilayer_perceptron ran in: 0.0 sec\n",
      "multilayer_perceptron ran in: 0.0 sec\n",
      "multilayer_perceptron ran in: 0.0 sec\n",
      "multilayer_perceptron ran in: 0.0 sec\n",
      "multilayer_perceptron ran in: 0.0 sec\n",
      "multilayer_perceptron ran in: 0.0 sec\n"
     ]
    },
    {
     "name": "stderr",
     "output_type": "stream",
     "text": [
      " 33%|███▎      | 184/560 [00:05<00:11, 32.84it/s]"
     ]
    },
    {
     "name": "stdout",
     "output_type": "stream",
     "text": [
      "multilayer_perceptron ran in: 0.0 sec\n",
      "multilayer_perceptron ran in: 0.0 sec\n",
      "multilayer_perceptron ran in: 0.0 sec\n",
      "multilayer_perceptron ran in: 0.0 sec\n",
      "multilayer_perceptron ran in: 0.0 sec\n",
      "multilayer_perceptron ran in: 0.0 sec\n",
      "multilayer_perceptron ran in: 0.0 sec\n"
     ]
    },
    {
     "name": "stderr",
     "output_type": "stream",
     "text": [
      " 34%|███▍      | 192/560 [00:05<00:10, 33.67it/s]"
     ]
    },
    {
     "name": "stdout",
     "output_type": "stream",
     "text": [
      "multilayer_perceptron ran in: 0.0 sec\n",
      "multilayer_perceptron ran in: 0.0 sec\n",
      "multilayer_perceptron ran in: 0.0 sec\n",
      "multilayer_perceptron ran in: 0.0 sec\n",
      "multilayer_perceptron ran in: 0.0 sec\n",
      "multilayer_perceptron ran in: 0.015639543533325195 sec\n",
      "multilayer_perceptron ran in: 0.0 sec\n"
     ]
    },
    {
     "name": "stderr",
     "output_type": "stream",
     "text": [
      "\r",
      " 35%|███▌      | 196/560 [00:06<00:11, 32.62it/s]"
     ]
    },
    {
     "name": "stdout",
     "output_type": "stream",
     "text": [
      "multilayer_perceptron ran in: 0.0 sec\n",
      "multilayer_perceptron ran in: 0.0 sec\n",
      "multilayer_perceptron ran in: 0.0 sec\n",
      "multilayer_perceptron ran in: 0.0 sec\n",
      "multilayer_perceptron ran in: 0.0 sec\n",
      "multilayer_perceptron ran in: 0.0 sec\n",
      "multilayer_perceptron ran in: 0.0 sec\n"
     ]
    },
    {
     "name": "stderr",
     "output_type": "stream",
     "text": [
      " 36%|███▋      | 204/560 [00:06<00:10, 33.02it/s]"
     ]
    },
    {
     "name": "stdout",
     "output_type": "stream",
     "text": [
      "multilayer_perceptron ran in: 0.0 sec\n",
      "multilayer_perceptron ran in: 0.0 sec\n",
      "multilayer_perceptron ran in: 0.0 sec\n",
      "multilayer_perceptron ran in: 0.0 sec\n",
      "multilayer_perceptron ran in: 0.0 sec\n",
      "multilayer_perceptron ran in: 0.0 sec\n",
      "multilayer_perceptron ran in: 0.0 sec\n"
     ]
    },
    {
     "name": "stderr",
     "output_type": "stream",
     "text": [
      " 38%|███▊      | 212/560 [00:06<00:10, 33.76it/s]"
     ]
    },
    {
     "name": "stdout",
     "output_type": "stream",
     "text": [
      "multilayer_perceptron ran in: 0.0 sec\n",
      "multilayer_perceptron ran in: 0.0 sec\n",
      "multilayer_perceptron ran in: 0.0 sec\n",
      "multilayer_perceptron ran in: 0.0 sec\n",
      "multilayer_perceptron ran in: 0.0 sec\n",
      "multilayer_perceptron ran in: 0.0 sec\n"
     ]
    },
    {
     "name": "stderr",
     "output_type": "stream",
     "text": [
      "\r",
      " 39%|███▊      | 216/560 [00:06<00:10, 32.68it/s]"
     ]
    },
    {
     "name": "stdout",
     "output_type": "stream",
     "text": [
      "multilayer_perceptron ran in: 0.0 sec\n",
      "multilayer_perceptron ran in: 0.0 sec\n",
      "multilayer_perceptron ran in: 0.0 sec\n",
      "multilayer_perceptron ran in: 0.0 sec\n",
      "multilayer_perceptron ran in: 0.0 sec\n",
      "multilayer_perceptron ran in: 0.0 sec\n",
      "multilayer_perceptron ran in: 0.0 sec\n"
     ]
    },
    {
     "name": "stderr",
     "output_type": "stream",
     "text": [
      "\r",
      " 39%|███▉      | 220/560 [00:06<00:10, 33.21it/s]"
     ]
    },
    {
     "name": "stdout",
     "output_type": "stream",
     "text": [
      "multilayer_perceptron ran in: 0.0 sec\n",
      "multilayer_perceptron ran in: 0.0 sec\n",
      "multilayer_perceptron ran in: 0.0 sec\n"
     ]
    },
    {
     "name": "stderr",
     "output_type": "stream",
     "text": [
      " 41%|████      | 227/560 [00:07<00:12, 26.59it/s]"
     ]
    },
    {
     "name": "stdout",
     "output_type": "stream",
     "text": [
      "multilayer_perceptron ran in: 0.0 sec\n",
      "multilayer_perceptron ran in: 0.0 sec\n",
      "multilayer_perceptron ran in: 0.0 sec\n",
      "multilayer_perceptron ran in: 0.0 sec\n",
      "multilayer_perceptron ran in: 0.0 sec\n",
      "multilayer_perceptron ran in: 0.0 sec\n",
      "multilayer_perceptron ran in: 0.0 sec\n"
     ]
    },
    {
     "name": "stderr",
     "output_type": "stream",
     "text": [
      " 42%|████▏     | 235/560 [00:07<00:10, 30.27it/s]"
     ]
    },
    {
     "name": "stdout",
     "output_type": "stream",
     "text": [
      "multilayer_perceptron ran in: 0.0 sec\n",
      "multilayer_perceptron ran in: 0.0 sec\n",
      "multilayer_perceptron ran in: 0.0 sec\n",
      "multilayer_perceptron ran in: 0.0 sec\n",
      "multilayer_perceptron ran in: 0.0 sec\n",
      "multilayer_perceptron ran in: 0.0 sec\n",
      "multilayer_perceptron ran in: 0.0 sec\n"
     ]
    },
    {
     "name": "stderr",
     "output_type": "stream",
     "text": [
      " 43%|████▎     | 243/560 [00:07<00:10, 31.00it/s]"
     ]
    },
    {
     "name": "stdout",
     "output_type": "stream",
     "text": [
      "multilayer_perceptron ran in: 0.0 sec\n",
      "multilayer_perceptron ran in: 0.0 sec\n",
      "multilayer_perceptron ran in: 0.0 sec\n",
      "multilayer_perceptron ran in: 0.0 sec\n",
      "multilayer_perceptron ran in: 0.0 sec\n",
      "multilayer_perceptron ran in: 0.0 sec\n",
      "multilayer_perceptron ran in: 0.0 sec\n"
     ]
    },
    {
     "name": "stderr",
     "output_type": "stream",
     "text": [
      "\r",
      " 44%|████▍     | 247/560 [00:07<00:09, 32.01it/s]"
     ]
    },
    {
     "name": "stdout",
     "output_type": "stream",
     "text": [
      "multilayer_perceptron ran in: 0.001092672348022461 sec\n",
      "multilayer_perceptron ran in: 0.015622854232788086 sec\n",
      "multilayer_perceptron ran in: 0.0 sec\n",
      "multilayer_perceptron ran in: 0.0 sec\n",
      "multilayer_perceptron ran in: 0.0 sec\n",
      "multilayer_perceptron ran in: 0.0 sec\n",
      "multilayer_perceptron ran in: 0.0 sec\n"
     ]
    },
    {
     "name": "stderr",
     "output_type": "stream",
     "text": [
      " 46%|████▌     | 255/560 [00:07<00:09, 32.36it/s]"
     ]
    },
    {
     "name": "stdout",
     "output_type": "stream",
     "text": [
      "multilayer_perceptron ran in: 0.0 sec\n",
      "multilayer_perceptron ran in: 0.0 sec\n",
      "multilayer_perceptron ran in: 0.0 sec\n",
      "multilayer_perceptron ran in: 0.0 sec\n",
      "multilayer_perceptron ran in: 0.01562976837158203 sec\n",
      "multilayer_perceptron ran in: 0.015624523162841797 sec\n",
      "multilayer_perceptron ran in: 0.0 sec\n"
     ]
    },
    {
     "name": "stderr",
     "output_type": "stream",
     "text": [
      " 47%|████▋     | 263/560 [00:08<00:09, 32.88it/s]"
     ]
    },
    {
     "name": "stdout",
     "output_type": "stream",
     "text": [
      "multilayer_perceptron ran in: 0.0 sec\n",
      "multilayer_perceptron ran in: 0.0 sec\n",
      "multilayer_perceptron ran in: 0.0 sec\n",
      "multilayer_perceptron ran in: 0.0 sec\n",
      "multilayer_perceptron ran in: 0.0 sec\n",
      "multilayer_perceptron ran in: 0.0 sec\n",
      "multilayer_perceptron ran in: 0.0 sec\n"
     ]
    },
    {
     "name": "stderr",
     "output_type": "stream",
     "text": [
      " 48%|████▊     | 271/560 [00:08<00:08, 33.69it/s]"
     ]
    },
    {
     "name": "stdout",
     "output_type": "stream",
     "text": [
      "multilayer_perceptron ran in: 0.0 sec\n",
      "multilayer_perceptron ran in: 0.0 sec\n",
      "multilayer_perceptron ran in: 0.0 sec\n",
      "multilayer_perceptron ran in: 0.0 sec\n",
      "multilayer_perceptron ran in: 0.0 sec\n",
      "multilayer_perceptron ran in: 0.015624284744262695 sec\n",
      "multilayer_perceptron ran in: 0.0 sec\n"
     ]
    },
    {
     "name": "stderr",
     "output_type": "stream",
     "text": [
      "\r",
      " 49%|████▉     | 275/560 [00:08<00:08, 32.63it/s]"
     ]
    },
    {
     "name": "stdout",
     "output_type": "stream",
     "text": [
      "multilayer_perceptron ran in: 0.0 sec\n",
      "multilayer_perceptron ran in: 0.0 sec\n",
      "multilayer_perceptron ran in: 0.0 sec\n",
      "multilayer_perceptron ran in: 0.0 sec\n",
      "multilayer_perceptron ran in: 0.0 sec\n",
      "multilayer_perceptron ran in: 0.0 sec\n",
      "multilayer_perceptron ran in: 0.0 sec\n"
     ]
    },
    {
     "name": "stderr",
     "output_type": "stream",
     "text": [
      " 51%|█████     | 283/560 [00:08<00:08, 33.02it/s]"
     ]
    },
    {
     "name": "stdout",
     "output_type": "stream",
     "text": [
      "multilayer_perceptron ran in: 0.0 sec\n",
      "multilayer_perceptron ran in: 0.0 sec\n",
      "multilayer_perceptron ran in: 0.015630483627319336 sec\n",
      "multilayer_perceptron ran in: 0.0 sec\n",
      "multilayer_perceptron ran in: 0.0 sec\n",
      "multilayer_perceptron ran in: 0.0 sec\n",
      "multilayer_perceptron ran in: 0.0 sec\n"
     ]
    },
    {
     "name": "stderr",
     "output_type": "stream",
     "text": [
      " 52%|█████▏    | 291/560 [00:09<00:08, 32.85it/s]"
     ]
    },
    {
     "name": "stdout",
     "output_type": "stream",
     "text": [
      "multilayer_perceptron ran in: 0.0 sec\n",
      "multilayer_perceptron ran in: 0.0 sec\n",
      "multilayer_perceptron ran in: 0.015624284744262695 sec\n",
      "multilayer_perceptron ran in: 0.0 sec\n",
      "multilayer_perceptron ran in: 0.0 sec\n",
      "multilayer_perceptron ran in: 0.0 sec\n",
      "multilayer_perceptron ran in: 0.0 sec\n"
     ]
    },
    {
     "name": "stderr",
     "output_type": "stream",
     "text": [
      "\r",
      " 53%|█████▎    | 295/560 [00:09<00:08, 32.08it/s]"
     ]
    },
    {
     "name": "stdout",
     "output_type": "stream",
     "text": [
      "multilayer_perceptron ran in: 0.0 sec\n",
      "multilayer_perceptron ran in: 0.0 sec\n",
      "multilayer_perceptron ran in: 0.0 sec\n",
      "multilayer_perceptron ran in: 0.0 sec\n",
      "multilayer_perceptron ran in: 0.0 sec\n",
      "multilayer_perceptron ran in: 0.0 sec\n",
      "multilayer_perceptron ran in: 0.0 sec\n"
     ]
    },
    {
     "name": "stderr",
     "output_type": "stream",
     "text": [
      " 54%|█████▍    | 303/560 [00:09<00:07, 32.90it/s]"
     ]
    },
    {
     "name": "stdout",
     "output_type": "stream",
     "text": [
      "multilayer_perceptron ran in: 0.0 sec\n",
      "multilayer_perceptron ran in: 0.0 sec\n",
      "multilayer_perceptron ran in: 0.0 sec\n",
      "multilayer_perceptron ran in: 0.0 sec\n",
      "multilayer_perceptron ran in: 0.0 sec\n",
      "multilayer_perceptron ran in: 0.015638113021850586 sec\n",
      "multilayer_perceptron ran in: 0.0 sec\n"
     ]
    },
    {
     "name": "stderr",
     "output_type": "stream",
     "text": [
      " 56%|█████▌    | 311/560 [00:09<00:07, 33.25it/s]"
     ]
    },
    {
     "name": "stdout",
     "output_type": "stream",
     "text": [
      "multilayer_perceptron ran in: 0.0 sec\n",
      "multilayer_perceptron ran in: 0.0 sec\n",
      "multilayer_perceptron ran in: 0.0 sec\n",
      "multilayer_perceptron ran in: 0.0 sec\n",
      "multilayer_perceptron ran in: 0.0 sec\n",
      "multilayer_perceptron ran in: 0.0 sec\n",
      "multilayer_perceptron ran in: 0.0 sec\n"
     ]
    },
    {
     "name": "stderr",
     "output_type": "stream",
     "text": [
      " 57%|█████▋    | 319/560 [00:09<00:07, 32.75it/s]"
     ]
    },
    {
     "name": "stdout",
     "output_type": "stream",
     "text": [
      "multilayer_perceptron ran in: 0.0 sec\n",
      "multilayer_perceptron ran in: 0.0 sec\n",
      "multilayer_perceptron ran in: 0.0 sec\n",
      "multilayer_perceptron ran in: 0.0 sec\n",
      "multilayer_perceptron ran in: 0.0 sec\n",
      "multilayer_perceptron ran in: 0.0 sec\n",
      "multilayer_perceptron ran in: 0.0 sec\n"
     ]
    },
    {
     "name": "stderr",
     "output_type": "stream",
     "text": [
      "\r",
      " 58%|█████▊    | 323/560 [00:09<00:07, 33.26it/s]"
     ]
    },
    {
     "name": "stdout",
     "output_type": "stream",
     "text": [
      "multilayer_perceptron ran in: 0.0 sec\n",
      "multilayer_perceptron ran in: 0.0 sec\n",
      "multilayer_perceptron ran in: 0.0 sec\n",
      "multilayer_perceptron ran in: 0.0 sec\n",
      "multilayer_perceptron ran in: 0.0 sec\n",
      "multilayer_perceptron ran in: 0.0 sec\n",
      "multilayer_perceptron ran in: 0.0 sec\n"
     ]
    },
    {
     "name": "stderr",
     "output_type": "stream",
     "text": [
      " 59%|█████▉    | 331/560 [00:10<00:06, 32.97it/s]"
     ]
    },
    {
     "name": "stdout",
     "output_type": "stream",
     "text": [
      "multilayer_perceptron ran in: 0.0 sec\n",
      "multilayer_perceptron ran in: 0.0 sec\n",
      "multilayer_perceptron ran in: 0.015652179718017578 sec\n",
      "multilayer_perceptron ran in: 0.0 sec\n",
      "multilayer_perceptron ran in: 0.0 sec\n",
      "multilayer_perceptron ran in: 0.0 sec\n"
     ]
    },
    {
     "name": "stderr",
     "output_type": "stream",
     "text": [
      " 61%|██████    | 339/560 [00:10<00:06, 33.19it/s]"
     ]
    },
    {
     "name": "stdout",
     "output_type": "stream",
     "text": [
      "multilayer_perceptron ran in: 0.0 sec\n",
      "multilayer_perceptron ran in: 0.0 sec\n",
      "multilayer_perceptron ran in: 0.0 sec\n",
      "multilayer_perceptron ran in: 0.0 sec\n",
      "multilayer_perceptron ran in: 0.0 sec\n",
      "multilayer_perceptron ran in: 0.0 sec\n",
      "multilayer_perceptron ran in: 0.0 sec\n"
     ]
    },
    {
     "name": "stderr",
     "output_type": "stream",
     "text": [
      "\r",
      " 61%|██████▏   | 343/560 [00:10<00:06, 33.57it/s]"
     ]
    },
    {
     "name": "stdout",
     "output_type": "stream",
     "text": [
      "multilayer_perceptron ran in: 0.0 sec\n",
      "multilayer_perceptron ran in: 0.0 sec\n",
      "multilayer_perceptron ran in: 0.0 sec\n",
      "multilayer_perceptron ran in: 0.0 sec\n",
      "multilayer_perceptron ran in: 0.0 sec\n",
      "multilayer_perceptron ran in: 0.0 sec\n"
     ]
    },
    {
     "name": "stderr",
     "output_type": "stream",
     "text": [
      " 63%|██████▎   | 351/560 [00:10<00:06, 32.74it/s]"
     ]
    },
    {
     "name": "stdout",
     "output_type": "stream",
     "text": [
      "multilayer_perceptron ran in: 0.0 sec\n",
      "multilayer_perceptron ran in: 0.0 sec\n",
      "multilayer_perceptron ran in: 0.0 sec\n",
      "multilayer_perceptron ran in: 0.0 sec\n",
      "multilayer_perceptron ran in: 0.01560831069946289 sec\n",
      "multilayer_perceptron ran in: 0.0 sec\n",
      "multilayer_perceptron ran in: 0.0 sec\n"
     ]
    },
    {
     "name": "stderr",
     "output_type": "stream",
     "text": [
      " 64%|██████▍   | 359/560 [00:11<00:06, 33.08it/s]"
     ]
    },
    {
     "name": "stdout",
     "output_type": "stream",
     "text": [
      "multilayer_perceptron ran in: 0.0 sec\n",
      "multilayer_perceptron ran in: 0.0 sec\n",
      "multilayer_perceptron ran in: 0.006511211395263672 sec\n",
      "multilayer_perceptron ran in: 0.0 sec\n",
      "multilayer_perceptron ran in: 0.0 sec\n",
      "multilayer_perceptron ran in: 0.0 sec\n",
      "multilayer_perceptron ran in: 0.0 sec\n"
     ]
    },
    {
     "name": "stderr",
     "output_type": "stream",
     "text": [
      "\r",
      " 65%|██████▍   | 363/560 [00:11<00:05, 33.49it/s]"
     ]
    },
    {
     "name": "stdout",
     "output_type": "stream",
     "text": [
      "multilayer_perceptron ran in: 0.0 sec\n",
      "multilayer_perceptron ran in: 0.0 sec\n",
      "multilayer_perceptron ran in: 0.0 sec\n",
      "multilayer_perceptron ran in: 0.0 sec\n",
      "multilayer_perceptron ran in: 0.0 sec\n",
      "multilayer_perceptron ran in: 0.006509304046630859 sec\n",
      "multilayer_perceptron ran in: 0.0 sec\n"
     ]
    },
    {
     "name": "stderr",
     "output_type": "stream",
     "text": [
      " 66%|██████▋   | 371/560 [00:11<00:05, 33.08it/s]"
     ]
    },
    {
     "name": "stdout",
     "output_type": "stream",
     "text": [
      "multilayer_perceptron ran in: 0.0 sec\n",
      "multilayer_perceptron ran in: 0.0 sec\n",
      "multilayer_perceptron ran in: 0.0 sec\n",
      "multilayer_perceptron ran in: 0.0 sec\n",
      "multilayer_perceptron ran in: 0.0 sec\n",
      "multilayer_perceptron ran in: 0.0 sec\n",
      "multilayer_perceptron ran in: 0.0 sec\n"
     ]
    },
    {
     "name": "stderr",
     "output_type": "stream",
     "text": [
      " 68%|██████▊   | 379/560 [00:11<00:05, 33.26it/s]"
     ]
    },
    {
     "name": "stdout",
     "output_type": "stream",
     "text": [
      "multilayer_perceptron ran in: 0.0 sec\n",
      "multilayer_perceptron ran in: 0.0 sec\n",
      "multilayer_perceptron ran in: 0.0 sec\n",
      "multilayer_perceptron ran in: 0.0 sec\n",
      "multilayer_perceptron ran in: 0.0 sec\n",
      "multilayer_perceptron ran in: 0.0 sec\n",
      "multilayer_perceptron ran in: 0.0 sec\n"
     ]
    },
    {
     "name": "stderr",
     "output_type": "stream",
     "text": [
      " 69%|██████▉   | 387/560 [00:11<00:05, 32.97it/s]"
     ]
    },
    {
     "name": "stdout",
     "output_type": "stream",
     "text": [
      "multilayer_perceptron ran in: 0.0 sec\n",
      "multilayer_perceptron ran in: 0.0 sec\n",
      "multilayer_perceptron ran in: 0.0 sec\n",
      "multilayer_perceptron ran in: 0.0 sec\n",
      "multilayer_perceptron ran in: 0.0 sec\n",
      "multilayer_perceptron ran in: 0.0 sec\n",
      "multilayer_perceptron ran in: 0.0 sec\n"
     ]
    },
    {
     "name": "stderr",
     "output_type": "stream",
     "text": [
      " 71%|███████   | 395/560 [00:12<00:05, 32.46it/s]"
     ]
    },
    {
     "name": "stdout",
     "output_type": "stream",
     "text": [
      "multilayer_perceptron ran in: 0.0 sec\n",
      "multilayer_perceptron ran in: 0.0 sec\n",
      "multilayer_perceptron ran in: 0.0 sec\n",
      "multilayer_perceptron ran in: 0.0 sec\n",
      "multilayer_perceptron ran in: 0.01563882827758789 sec\n",
      "multilayer_perceptron ran in: 0.0 sec\n",
      "multilayer_perceptron ran in: 0.0 sec\n"
     ]
    },
    {
     "name": "stderr",
     "output_type": "stream",
     "text": [
      "\r",
      " 71%|███████▏  | 399/560 [00:12<00:04, 32.52it/s]"
     ]
    },
    {
     "name": "stdout",
     "output_type": "stream",
     "text": [
      "multilayer_perceptron ran in: 0.0 sec\n",
      "multilayer_perceptron ran in: 0.0 sec\n",
      "multilayer_perceptron ran in: 0.0 sec\n",
      "multilayer_perceptron ran in: 0.0 sec\n",
      "multilayer_perceptron ran in: 0.015626192092895508 sec\n",
      "multilayer_perceptron ran in: 0.015624284744262695 sec\n",
      "multilayer_perceptron ran in: 0.0 sec\n"
     ]
    },
    {
     "name": "stderr",
     "output_type": "stream",
     "text": [
      " 73%|███████▎  | 407/560 [00:12<00:04, 32.24it/s]"
     ]
    },
    {
     "name": "stdout",
     "output_type": "stream",
     "text": [
      "multilayer_perceptron ran in: 0.0 sec\n",
      "multilayer_perceptron ran in: 0.0 sec\n",
      "multilayer_perceptron ran in: 0.0 sec\n",
      "multilayer_perceptron ran in: 0.0 sec\n",
      "multilayer_perceptron ran in: 0.0 sec\n",
      "multilayer_perceptron ran in: 0.0 sec\n",
      "multilayer_perceptron ran in: 0.0 sec\n"
     ]
    },
    {
     "name": "stderr",
     "output_type": "stream",
     "text": [
      " 74%|███████▍  | 415/560 [00:12<00:04, 32.83it/s]"
     ]
    },
    {
     "name": "stdout",
     "output_type": "stream",
     "text": [
      "multilayer_perceptron ran in: 0.0 sec\n",
      "multilayer_perceptron ran in: 0.0 sec\n",
      "multilayer_perceptron ran in: 0.0 sec\n",
      "multilayer_perceptron ran in: 0.0 sec\n",
      "multilayer_perceptron ran in: 0.0 sec\n",
      "multilayer_perceptron ran in: 0.0 sec\n",
      "multilayer_perceptron ran in: 0.0 sec\n"
     ]
    },
    {
     "name": "stderr",
     "output_type": "stream",
     "text": [
      "\r",
      " 75%|███████▍  | 419/560 [00:12<00:04, 32.06it/s]"
     ]
    },
    {
     "name": "stdout",
     "output_type": "stream",
     "text": [
      "multilayer_perceptron ran in: 0.0 sec\n",
      "multilayer_perceptron ran in: 0.0 sec\n",
      "multilayer_perceptron ran in: 0.0 sec\n",
      "multilayer_perceptron ran in: 0.015614748001098633 sec\n",
      "multilayer_perceptron ran in: 0.0 sec\n",
      "multilayer_perceptron ran in: 0.0 sec\n",
      "multilayer_perceptron ran in: 0.0 sec\n"
     ]
    },
    {
     "name": "stderr",
     "output_type": "stream",
     "text": [
      " 76%|███████▋  | 427/560 [00:13<00:04, 32.02it/s]"
     ]
    },
    {
     "name": "stdout",
     "output_type": "stream",
     "text": [
      "multilayer_perceptron ran in: 0.0 sec\n",
      "multilayer_perceptron ran in: 0.0 sec\n",
      "multilayer_perceptron ran in: 0.0 sec\n",
      "multilayer_perceptron ran in: 0.0 sec\n",
      "multilayer_perceptron ran in: 0.01562643051147461 sec\n",
      "multilayer_perceptron ran in: 0.0 sec\n"
     ]
    },
    {
     "name": "stderr",
     "output_type": "stream",
     "text": [
      " 78%|███████▊  | 435/560 [00:13<00:03, 32.87it/s]"
     ]
    },
    {
     "name": "stdout",
     "output_type": "stream",
     "text": [
      "multilayer_perceptron ran in: 0.0 sec\n",
      "multilayer_perceptron ran in: 0.0 sec\n",
      "multilayer_perceptron ran in: 0.015639305114746094 sec\n",
      "multilayer_perceptron ran in: 0.0 sec\n",
      "multilayer_perceptron ran in: 0.0 sec\n",
      "multilayer_perceptron ran in: 0.0 sec\n",
      "multilayer_perceptron ran in: 0.0 sec\n"
     ]
    },
    {
     "name": "stderr",
     "output_type": "stream",
     "text": [
      " 79%|███████▉  | 443/560 [00:13<00:03, 33.64it/s]"
     ]
    },
    {
     "name": "stdout",
     "output_type": "stream",
     "text": [
      "multilayer_perceptron ran in: 0.0 sec\n",
      "multilayer_perceptron ran in: 0.0 sec\n",
      "multilayer_perceptron ran in: 0.0 sec\n",
      "multilayer_perceptron ran in: 0.0 sec\n",
      "multilayer_perceptron ran in: 0.0 sec\n",
      "multilayer_perceptron ran in: 0.0 sec\n",
      "multilayer_perceptron ran in: 0.0 sec\n"
     ]
    },
    {
     "name": "stderr",
     "output_type": "stream",
     "text": [
      "\r",
      " 80%|███████▉  | 447/560 [00:13<00:03, 33.05it/s]"
     ]
    },
    {
     "name": "stdout",
     "output_type": "stream",
     "text": [
      "multilayer_perceptron ran in: 0.0 sec\n",
      "multilayer_perceptron ran in: 0.0 sec\n",
      "multilayer_perceptron ran in: 0.0 sec\n",
      "multilayer_perceptron ran in: 0.0 sec\n",
      "multilayer_perceptron ran in: 0.0 sec\n",
      "multilayer_perceptron ran in: 0.0 sec\n",
      "multilayer_perceptron ran in: 0.0 sec\n"
     ]
    },
    {
     "name": "stderr",
     "output_type": "stream",
     "text": [
      " 81%|████████▏ | 455/560 [00:14<00:03, 32.14it/s]"
     ]
    },
    {
     "name": "stdout",
     "output_type": "stream",
     "text": [
      "multilayer_perceptron ran in: 0.0 sec\n",
      "multilayer_perceptron ran in: 0.0 sec\n",
      "multilayer_perceptron ran in: 0.0 sec\n",
      "multilayer_perceptron ran in: 0.0 sec\n",
      "multilayer_perceptron ran in: 0.0 sec\n",
      "multilayer_perceptron ran in: 0.0 sec\n",
      "multilayer_perceptron ran in: 0.0 sec\n"
     ]
    },
    {
     "name": "stderr",
     "output_type": "stream",
     "text": [
      " 83%|████████▎ | 463/560 [00:14<00:02, 33.31it/s]"
     ]
    },
    {
     "name": "stdout",
     "output_type": "stream",
     "text": [
      "multilayer_perceptron ran in: 0.0 sec\n",
      "multilayer_perceptron ran in: 0.0 sec\n",
      "multilayer_perceptron ran in: 0.0 sec\n",
      "multilayer_perceptron ran in: 0.0 sec\n",
      "multilayer_perceptron ran in: 0.0 sec\n",
      "multilayer_perceptron ran in: 0.0 sec\n",
      "multilayer_perceptron ran in: 0.0 sec\n",
      "multilayer_perceptron ran in: 0.0 sec\n"
     ]
    },
    {
     "name": "stderr",
     "output_type": "stream",
     "text": [
      " 84%|████████▍ | 471/560 [00:14<00:02, 33.35it/s]"
     ]
    },
    {
     "name": "stdout",
     "output_type": "stream",
     "text": [
      "multilayer_perceptron ran in: 0.0 sec\n",
      "multilayer_perceptron ran in: 0.0 sec\n",
      "multilayer_perceptron ran in: 0.0 sec\n",
      "multilayer_perceptron ran in: 0.0 sec\n",
      "multilayer_perceptron ran in: 0.0 sec\n",
      "multilayer_perceptron ran in: 0.0 sec\n",
      "multilayer_perceptron ran in: 0.0 sec\n"
     ]
    },
    {
     "name": "stderr",
     "output_type": "stream",
     "text": [
      "\r",
      " 85%|████████▍ | 475/560 [00:14<00:02, 32.42it/s]"
     ]
    },
    {
     "name": "stdout",
     "output_type": "stream",
     "text": [
      "multilayer_perceptron ran in: 0.0 sec\n",
      "multilayer_perceptron ran in: 0.0 sec\n",
      "multilayer_perceptron ran in: 0.015634536743164062 sec\n",
      "multilayer_perceptron ran in: 0.015631914138793945 sec\n",
      "multilayer_perceptron ran in: 0.0 sec\n",
      "multilayer_perceptron ran in: 0.0 sec\n",
      "multilayer_perceptron ran in: 0.0 sec\n"
     ]
    },
    {
     "name": "stderr",
     "output_type": "stream",
     "text": [
      " 86%|████████▋ | 483/560 [00:14<00:02, 33.45it/s]"
     ]
    },
    {
     "name": "stdout",
     "output_type": "stream",
     "text": [
      "multilayer_perceptron ran in: 0.0 sec\n",
      "multilayer_perceptron ran in: 0.0 sec\n",
      "multilayer_perceptron ran in: 0.0 sec\n",
      "multilayer_perceptron ran in: 0.0 sec\n",
      "multilayer_perceptron ran in: 0.0 sec\n",
      "multilayer_perceptron ran in: 0.0 sec\n",
      "multilayer_perceptron ran in: 0.0 sec\n"
     ]
    },
    {
     "name": "stderr",
     "output_type": "stream",
     "text": [
      " 88%|████████▊ | 491/560 [00:15<00:02, 33.83it/s]"
     ]
    },
    {
     "name": "stdout",
     "output_type": "stream",
     "text": [
      "multilayer_perceptron ran in: 0.0 sec\n",
      "multilayer_perceptron ran in: 0.0 sec\n",
      "multilayer_perceptron ran in: 0.0 sec\n",
      "multilayer_perceptron ran in: 0.0 sec\n",
      "multilayer_perceptron ran in: 0.0 sec\n",
      "multilayer_perceptron ran in: 0.0 sec\n",
      "multilayer_perceptron ran in: 0.0 sec\n"
     ]
    },
    {
     "name": "stderr",
     "output_type": "stream",
     "text": [
      " 89%|████████▉ | 499/560 [00:15<00:01, 33.24it/s]"
     ]
    },
    {
     "name": "stdout",
     "output_type": "stream",
     "text": [
      "multilayer_perceptron ran in: 0.0 sec\n",
      "multilayer_perceptron ran in: 0.0 sec\n",
      "multilayer_perceptron ran in: 0.0 sec\n",
      "multilayer_perceptron ran in: 0.0 sec\n",
      "multilayer_perceptron ran in: 0.006524562835693359 sec\n",
      "multilayer_perceptron ran in: 0.0 sec\n",
      "multilayer_perceptron ran in: 0.0 sec\n"
     ]
    },
    {
     "name": "stderr",
     "output_type": "stream",
     "text": [
      "\r",
      " 90%|████████▉ | 503/560 [00:15<00:01, 33.61it/s]"
     ]
    },
    {
     "name": "stdout",
     "output_type": "stream",
     "text": [
      "multilayer_perceptron ran in: 0.0 sec\n",
      "multilayer_perceptron ran in: 0.0 sec\n",
      "multilayer_perceptron ran in: 0.0 sec\n",
      "multilayer_perceptron ran in: 0.01563239097595215 sec\n",
      "multilayer_perceptron ran in: 0.0 sec\n",
      "multilayer_perceptron ran in: 0.0 sec\n"
     ]
    },
    {
     "name": "stderr",
     "output_type": "stream",
     "text": [
      " 91%|█████████▏| 511/560 [00:15<00:01, 33.52it/s]"
     ]
    },
    {
     "name": "stdout",
     "output_type": "stream",
     "text": [
      "multilayer_perceptron ran in: 0.0 sec\n",
      "multilayer_perceptron ran in: 0.0020122528076171875 sec\n",
      "multilayer_perceptron ran in: 0.0 sec\n",
      "multilayer_perceptron ran in: 0.0 sec\n",
      "multilayer_perceptron ran in: 0.0 sec\n",
      "multilayer_perceptron ran in: 0.0 sec\n",
      "multilayer_perceptron ran in: 0.0 sec\n",
      "multilayer_perceptron ran in: 0.015624761581420898 sec\n"
     ]
    },
    {
     "name": "stderr",
     "output_type": "stream",
     "text": [
      " 93%|█████████▎| 519/560 [00:15<00:01, 32.71it/s]"
     ]
    },
    {
     "name": "stdout",
     "output_type": "stream",
     "text": [
      "multilayer_perceptron ran in: 0.0 sec\n",
      "multilayer_perceptron ran in: 0.0 sec\n",
      "multilayer_perceptron ran in: 0.0 sec\n",
      "multilayer_perceptron ran in: 0.0 sec\n",
      "multilayer_perceptron ran in: 0.0 sec\n",
      "multilayer_perceptron ran in: 0.0 sec\n",
      "multilayer_perceptron ran in: 0.0 sec\n"
     ]
    },
    {
     "name": "stderr",
     "output_type": "stream",
     "text": [
      " 94%|█████████▍| 527/560 [00:16<00:00, 33.61it/s]"
     ]
    },
    {
     "name": "stdout",
     "output_type": "stream",
     "text": [
      "multilayer_perceptron ran in: 0.0 sec\n",
      "multilayer_perceptron ran in: 0.0 sec\n",
      "multilayer_perceptron ran in: 0.0 sec\n",
      "multilayer_perceptron ran in: 0.0 sec\n",
      "multilayer_perceptron ran in: 0.0 sec\n",
      "multilayer_perceptron ran in: 0.0 sec\n",
      "multilayer_perceptron ran in: 0.0 sec\n",
      "multilayer_perceptron ran in: 0.0 sec\n"
     ]
    },
    {
     "name": "stderr",
     "output_type": "stream",
     "text": [
      " 96%|█████████▌| 535/560 [00:16<00:00, 33.67it/s]"
     ]
    },
    {
     "name": "stdout",
     "output_type": "stream",
     "text": [
      "multilayer_perceptron ran in: 0.0 sec\n",
      "multilayer_perceptron ran in: 0.0 sec\n",
      "multilayer_perceptron ran in: 0.0 sec\n",
      "multilayer_perceptron ran in: 0.0 sec\n",
      "multilayer_perceptron ran in: 0.0 sec\n",
      "multilayer_perceptron ran in: 0.0 sec\n",
      "multilayer_perceptron ran in: 0.0 sec\n"
     ]
    },
    {
     "name": "stderr",
     "output_type": "stream",
     "text": [
      "\r",
      " 96%|█████████▋| 539/560 [00:16<00:00, 32.62it/s]"
     ]
    },
    {
     "name": "stdout",
     "output_type": "stream",
     "text": [
      "multilayer_perceptron ran in: 0.0 sec\n",
      "multilayer_perceptron ran in: 0.0 sec\n",
      "multilayer_perceptron ran in: 0.0 sec\n",
      "multilayer_perceptron ran in: 0.0 sec\n",
      "multilayer_perceptron ran in: 0.0 sec\n",
      "multilayer_perceptron ran in: 0.01564931869506836 sec\n",
      "multilayer_perceptron ran in: 0.0 sec\n"
     ]
    },
    {
     "name": "stderr",
     "output_type": "stream",
     "text": [
      " 98%|█████████▊| 547/560 [00:16<00:00, 33.56it/s]"
     ]
    },
    {
     "name": "stdout",
     "output_type": "stream",
     "text": [
      "multilayer_perceptron ran in: 0.0 sec\n",
      "multilayer_perceptron ran in: 0.0 sec\n",
      "multilayer_perceptron ran in: 0.0 sec\n",
      "multilayer_perceptron ran in: 0.0 sec\n",
      "multilayer_perceptron ran in: 0.0 sec\n",
      "multilayer_perceptron ran in: 0.0 sec\n",
      "multilayer_perceptron ran in: 0.0 sec\n"
     ]
    },
    {
     "name": "stderr",
     "output_type": "stream",
     "text": [
      " 99%|█████████▉| 555/560 [00:16<00:00, 33.64it/s]"
     ]
    },
    {
     "name": "stdout",
     "output_type": "stream",
     "text": [
      "multilayer_perceptron ran in: 0.0 sec\n",
      "multilayer_perceptron ran in: 0.015648841857910156 sec\n",
      "multilayer_perceptron ran in: 0.0 sec\n",
      "multilayer_perceptron ran in: 0.0 sec\n",
      "multilayer_perceptron ran in: 0.0 sec\n",
      "multilayer_perceptron ran in: 0.0 sec\n",
      "multilayer_perceptron ran in: 0.015630722045898438 sec\n"
     ]
    },
    {
     "name": "stderr",
     "output_type": "stream",
     "text": [
      "100%|██████████| 560/560 [00:17<00:00, 32.66it/s]\n"
     ]
    },
    {
     "name": "stdout",
     "output_type": "stream",
     "text": [
      "multilayer_perceptron ran in: 0.0 sec\n",
      "multilayer_perceptron ran in: 0.0 sec\n",
      "multilayer_perceptron ran in: 0.0 sec\n",
      "Epoch: 8 Cost=97883.2422\n"
     ]
    },
    {
     "name": "stderr",
     "output_type": "stream",
     "text": [
      "\r",
      "  0%|          | 0/560 [00:00<?, ?it/s]"
     ]
    },
    {
     "name": "stdout",
     "output_type": "stream",
     "text": [
      "multilayer_perceptron ran in: 0.0 sec\n",
      "multilayer_perceptron ran in: 0.0 sec\n",
      "multilayer_perceptron ran in: 0.0 sec\n",
      "multilayer_perceptron ran in: 0.0 sec\n"
     ]
    },
    {
     "name": "stderr",
     "output_type": "stream",
     "text": [
      "\r",
      "  1%|          | 4/560 [00:00<00:17, 32.68it/s]"
     ]
    },
    {
     "name": "stdout",
     "output_type": "stream",
     "text": [
      "multilayer_perceptron ran in: 0.0 sec\n",
      "multilayer_perceptron ran in: 0.0 sec\n",
      "multilayer_perceptron ran in: 0.0 sec\n"
     ]
    },
    {
     "name": "stderr",
     "output_type": "stream",
     "text": [
      "\r",
      "  1%|▏         | 8/560 [00:00<00:16, 33.73it/s]"
     ]
    },
    {
     "name": "stdout",
     "output_type": "stream",
     "text": [
      "multilayer_perceptron ran in: 0.0 sec\n",
      "multilayer_perceptron ran in: 0.0 sec\n",
      "multilayer_perceptron ran in: 0.0 sec\n"
     ]
    },
    {
     "name": "stderr",
     "output_type": "stream",
     "text": [
      "\r",
      "  2%|▏         | 12/560 [00:00<00:17, 32.13it/s]"
     ]
    },
    {
     "name": "stdout",
     "output_type": "stream",
     "text": [
      "multilayer_perceptron ran in: 0.0 sec\n",
      "multilayer_perceptron ran in: 0.0 sec\n",
      "multilayer_perceptron ran in: 0.0 sec\n",
      "multilayer_perceptron ran in: 0.0 sec\n"
     ]
    },
    {
     "name": "stderr",
     "output_type": "stream",
     "text": [
      "\r",
      "  3%|▎         | 16/560 [00:00<00:16, 33.03it/s]"
     ]
    },
    {
     "name": "stdout",
     "output_type": "stream",
     "text": [
      "multilayer_perceptron ran in: 0.0 sec\n",
      "multilayer_perceptron ran in: 0.0 sec\n",
      "multilayer_perceptron ran in: 0.015613079071044922 sec\n",
      "multilayer_perceptron ran in: 0.0 sec\n"
     ]
    },
    {
     "name": "stderr",
     "output_type": "stream",
     "text": [
      "\r",
      "  4%|▎         | 20/560 [00:00<00:16, 33.55it/s]"
     ]
    },
    {
     "name": "stdout",
     "output_type": "stream",
     "text": [
      "multilayer_perceptron ran in: 0.0 sec\n",
      "multilayer_perceptron ran in: 0.0 sec\n"
     ]
    },
    {
     "name": "stderr",
     "output_type": "stream",
     "text": [
      "\r",
      "  4%|▍         | 24/560 [00:00<00:16, 33.24it/s]"
     ]
    },
    {
     "name": "stdout",
     "output_type": "stream",
     "text": [
      "multilayer_perceptron ran in: 0.0 sec\n",
      "multilayer_perceptron ran in: 0.0 sec\n",
      "multilayer_perceptron ran in: 0.0 sec\n",
      "multilayer_perceptron ran in: 0.0 sec\n",
      "multilayer_perceptron ran in: 0.0 sec\n",
      "multilayer_perceptron ran in: 0.0 sec\n",
      "multilayer_perceptron ran in: 0.0 sec\n"
     ]
    },
    {
     "name": "stderr",
     "output_type": "stream",
     "text": [
      "  6%|▌         | 32/560 [00:00<00:15, 33.91it/s]"
     ]
    },
    {
     "name": "stdout",
     "output_type": "stream",
     "text": [
      "multilayer_perceptron ran in: 0.0 sec\n",
      "multilayer_perceptron ran in: 0.0 sec\n",
      "multilayer_perceptron ran in: 0.0 sec\n",
      "multilayer_perceptron ran in: 0.0 sec\n",
      "multilayer_perceptron ran in: 0.0 sec\n",
      "multilayer_perceptron ran in: 0.0 sec\n",
      "multilayer_perceptron ran in: 0.0 sec\n",
      "multilayer_perceptron ran in: 0.0 sec\n"
     ]
    },
    {
     "name": "stderr",
     "output_type": "stream",
     "text": [
      "\r",
      "  6%|▋         | 36/560 [00:01<00:16, 32.73it/s]"
     ]
    },
    {
     "name": "stdout",
     "output_type": "stream",
     "text": [
      "multilayer_perceptron ran in: 0.0 sec\n",
      "multilayer_perceptron ran in: 0.0 sec\n",
      "multilayer_perceptron ran in: 0.0 sec\n"
     ]
    },
    {
     "name": "stderr",
     "output_type": "stream",
     "text": [
      "\r",
      "  7%|▋         | 40/560 [00:01<00:15, 33.26it/s]"
     ]
    },
    {
     "name": "stdout",
     "output_type": "stream",
     "text": [
      "multilayer_perceptron ran in: 0.0 sec\n",
      "multilayer_perceptron ran in: 0.0 sec\n",
      "multilayer_perceptron ran in: 0.015625715255737305 sec\n",
      "multilayer_perceptron ran in: 0.0 sec\n"
     ]
    },
    {
     "name": "stderr",
     "output_type": "stream",
     "text": [
      "\r",
      "  8%|▊         | 44/560 [00:01<00:15, 33.08it/s]"
     ]
    },
    {
     "name": "stdout",
     "output_type": "stream",
     "text": [
      "multilayer_perceptron ran in: 0.0 sec\n",
      "multilayer_perceptron ran in: 0.0 sec\n",
      "multilayer_perceptron ran in: 0.0 sec\n"
     ]
    },
    {
     "name": "stderr",
     "output_type": "stream",
     "text": [
      "\r",
      "  9%|▊         | 48/560 [00:01<00:15, 33.50it/s]"
     ]
    },
    {
     "name": "stdout",
     "output_type": "stream",
     "text": [
      "multilayer_perceptron ran in: 0.0 sec\n",
      "multilayer_perceptron ran in: 0.0 sec\n",
      "multilayer_perceptron ran in: 0.0 sec\n",
      "multilayer_perceptron ran in: 0.0 sec\n",
      "multilayer_perceptron ran in: 0.0 sec\n",
      "multilayer_perceptron ran in: 0.0 sec\n",
      "multilayer_perceptron ran in: 0.0 sec\n"
     ]
    },
    {
     "name": "stderr",
     "output_type": "stream",
     "text": [
      " 10%|█         | 56/560 [00:01<00:15, 32.70it/s]"
     ]
    },
    {
     "name": "stdout",
     "output_type": "stream",
     "text": [
      "multilayer_perceptron ran in: 0.0 sec\n",
      "multilayer_perceptron ran in: 0.0 sec\n",
      "multilayer_perceptron ran in: 0.0 sec\n",
      "multilayer_perceptron ran in: 0.0 sec\n",
      "multilayer_perceptron ran in: 0.0 sec\n",
      "multilayer_perceptron ran in: 0.0 sec\n",
      "multilayer_perceptron ran in: 0.0 sec\n"
     ]
    },
    {
     "name": "stderr",
     "output_type": "stream",
     "text": [
      "\r",
      " 11%|█         | 60/560 [00:01<00:15, 33.23it/s]"
     ]
    },
    {
     "name": "stdout",
     "output_type": "stream",
     "text": [
      "multilayer_perceptron ran in: 0.0 sec\n",
      "multilayer_perceptron ran in: 0.0 sec\n",
      "multilayer_perceptron ran in: 0.0 sec\n",
      "multilayer_perceptron ran in: 0.0 sec\n"
     ]
    },
    {
     "name": "stderr",
     "output_type": "stream",
     "text": [
      "\r",
      " 11%|█▏        | 64/560 [00:01<00:15, 33.06it/s]"
     ]
    },
    {
     "name": "stdout",
     "output_type": "stream",
     "text": [
      "multilayer_perceptron ran in: 0.0 sec\n",
      "multilayer_perceptron ran in: 0.0 sec\n",
      "multilayer_perceptron ran in: 0.0 sec\n"
     ]
    },
    {
     "name": "stderr",
     "output_type": "stream",
     "text": [
      "\r",
      " 12%|█▏        | 68/560 [00:02<00:14, 33.48it/s]"
     ]
    },
    {
     "name": "stdout",
     "output_type": "stream",
     "text": [
      "multilayer_perceptron ran in: 0.0 sec\n",
      "multilayer_perceptron ran in: 0.0 sec\n",
      "multilayer_perceptron ran in: 0.0 sec\n",
      "multilayer_perceptron ran in: 0.0 sec\n"
     ]
    },
    {
     "name": "stderr",
     "output_type": "stream",
     "text": [
      "\r",
      " 13%|█▎        | 72/560 [00:02<00:14, 33.79it/s]"
     ]
    },
    {
     "name": "stdout",
     "output_type": "stream",
     "text": [
      "multilayer_perceptron ran in: 0.0 sec\n",
      "multilayer_perceptron ran in: 0.0 sec\n",
      "multilayer_perceptron ran in: 0.0 sec\n"
     ]
    },
    {
     "name": "stderr",
     "output_type": "stream",
     "text": [
      "\r",
      " 14%|█▎        | 76/560 [00:02<00:14, 32.70it/s]"
     ]
    },
    {
     "name": "stdout",
     "output_type": "stream",
     "text": [
      "multilayer_perceptron ran in: 0.0 sec\n",
      "multilayer_perceptron ran in: 0.0 sec\n",
      "multilayer_perceptron ran in: 0.0 sec\n",
      "multilayer_perceptron ran in: 0.0 sec\n",
      "multilayer_perceptron ran in: 0.0 sec\n",
      "multilayer_perceptron ran in: 0.0 sec\n",
      "multilayer_perceptron ran in: 0.0 sec\n"
     ]
    },
    {
     "name": "stderr",
     "output_type": "stream",
     "text": [
      "\r",
      " 14%|█▍        | 80/560 [00:02<00:14, 33.22it/s]"
     ]
    },
    {
     "name": "stdout",
     "output_type": "stream",
     "text": [
      "multilayer_perceptron ran in: 0.0010001659393310547 sec\n",
      "multilayer_perceptron ran in: 0.0 sec\n",
      "multilayer_perceptron ran in: 0.0 sec\n",
      "multilayer_perceptron ran in: 0.0 sec\n"
     ]
    },
    {
     "name": "stderr",
     "output_type": "stream",
     "text": [
      "\r",
      " 15%|█▌        | 84/560 [00:02<00:14, 33.08it/s]"
     ]
    },
    {
     "name": "stdout",
     "output_type": "stream",
     "text": [
      "multilayer_perceptron ran in: 0.0 sec\n",
      "multilayer_perceptron ran in: 0.0 sec\n",
      "multilayer_perceptron ran in: 0.015610694885253906 sec\n",
      "multilayer_perceptron ran in: 0.0 sec\n"
     ]
    },
    {
     "name": "stderr",
     "output_type": "stream",
     "text": [
      "\r",
      " 16%|█▌        | 88/560 [00:02<00:14, 32.23it/s]"
     ]
    },
    {
     "name": "stdout",
     "output_type": "stream",
     "text": [
      "multilayer_perceptron ran in: 0.0 sec\n",
      "multilayer_perceptron ran in: 0.0 sec\n"
     ]
    },
    {
     "name": "stderr",
     "output_type": "stream",
     "text": [
      "\r",
      " 16%|█▋        | 92/560 [00:02<00:14, 32.88it/s]"
     ]
    },
    {
     "name": "stdout",
     "output_type": "stream",
     "text": [
      "multilayer_perceptron ran in: 0.0065250396728515625 sec\n",
      "multilayer_perceptron ran in: 0.0 sec\n",
      "multilayer_perceptron ran in: 0.0 sec\n",
      "multilayer_perceptron ran in: 0.015642166137695312 sec\n",
      "multilayer_perceptron ran in: 0.0 sec\n"
     ]
    },
    {
     "name": "stderr",
     "output_type": "stream",
     "text": [
      "\r",
      " 17%|█▋        | 96/560 [00:02<00:13, 33.36it/s]"
     ]
    },
    {
     "name": "stdout",
     "output_type": "stream",
     "text": [
      "multilayer_perceptron ran in: 0.0 sec\n",
      "multilayer_perceptron ran in: 0.0 sec\n",
      "multilayer_perceptron ran in: 0.0 sec\n"
     ]
    },
    {
     "name": "stderr",
     "output_type": "stream",
     "text": [
      "\r",
      " 18%|█▊        | 100/560 [00:03<00:14, 32.41it/s]"
     ]
    },
    {
     "name": "stdout",
     "output_type": "stream",
     "text": [
      "multilayer_perceptron ran in: 0.0 sec\n",
      "multilayer_perceptron ran in: 0.0 sec\n",
      "multilayer_perceptron ran in: 0.0 sec\n",
      "multilayer_perceptron ran in: 0.0 sec\n"
     ]
    },
    {
     "name": "stderr",
     "output_type": "stream",
     "text": [
      "\r",
      " 19%|█▊        | 104/560 [00:03<00:14, 32.49it/s]"
     ]
    },
    {
     "name": "stdout",
     "output_type": "stream",
     "text": [
      "multilayer_perceptron ran in: 0.0 sec\n",
      "multilayer_perceptron ran in: 0.0 sec\n",
      "multilayer_perceptron ran in: 0.0 sec\n"
     ]
    },
    {
     "name": "stderr",
     "output_type": "stream",
     "text": [
      "\r",
      " 19%|█▉        | 108/560 [00:03<00:13, 33.07it/s]"
     ]
    },
    {
     "name": "stdout",
     "output_type": "stream",
     "text": [
      "multilayer_perceptron ran in: 0.0 sec\n",
      "multilayer_perceptron ran in: 0.0 sec\n",
      "multilayer_perceptron ran in: 0.0 sec\n",
      "multilayer_perceptron ran in: 0.0 sec\n"
     ]
    },
    {
     "name": "stderr",
     "output_type": "stream",
     "text": [
      "\r",
      " 20%|██        | 112/560 [00:03<00:13, 33.49it/s]"
     ]
    },
    {
     "name": "stdout",
     "output_type": "stream",
     "text": [
      "multilayer_perceptron ran in: 0.0 sec\n",
      "multilayer_perceptron ran in: 0.0 sec\n",
      "multilayer_perceptron ran in: 0.0 sec\n",
      "multilayer_perceptron ran in: 0.0 sec\n",
      "multilayer_perceptron ran in: 0.0 sec\n",
      "multilayer_perceptron ran in: 0.015629291534423828 sec\n",
      "multilayer_perceptron ran in: 0.0 sec\n"
     ]
    },
    {
     "name": "stderr",
     "output_type": "stream",
     "text": [
      "\r",
      " 21%|██        | 116/560 [00:03<00:13, 32.50it/s]"
     ]
    },
    {
     "name": "stdout",
     "output_type": "stream",
     "text": [
      "multilayer_perceptron ran in: 0.0 sec\n",
      "multilayer_perceptron ran in: 0.0 sec\n"
     ]
    },
    {
     "name": "stderr",
     "output_type": "stream",
     "text": [
      "\r",
      " 21%|██▏       | 120/560 [00:03<00:13, 32.55it/s]"
     ]
    },
    {
     "name": "stdout",
     "output_type": "stream",
     "text": [
      "multilayer_perceptron ran in: 0.0 sec\n",
      "multilayer_perceptron ran in: 0.0 sec\n",
      "multilayer_perceptron ran in: 0.0 sec\n",
      "multilayer_perceptron ran in: 0.0 sec\n",
      "multilayer_perceptron ran in: 0.0 sec\n"
     ]
    },
    {
     "name": "stderr",
     "output_type": "stream",
     "text": [
      "\r",
      " 22%|██▏       | 124/560 [00:03<00:13, 33.11it/s]"
     ]
    },
    {
     "name": "stdout",
     "output_type": "stream",
     "text": [
      "multilayer_perceptron ran in: 0.0 sec\n",
      "multilayer_perceptron ran in: 0.0 sec\n"
     ]
    },
    {
     "name": "stderr",
     "output_type": "stream",
     "text": [
      "\r",
      " 23%|██▎       | 128/560 [00:03<00:12, 33.52it/s]"
     ]
    },
    {
     "name": "stdout",
     "output_type": "stream",
     "text": [
      "multilayer_perceptron ran in: 0.0 sec\n",
      "multilayer_perceptron ran in: 0.0 sec\n",
      "multilayer_perceptron ran in: 0.0 sec\n",
      "multilayer_perceptron ran in: 0.0 sec\n",
      "multilayer_perceptron ran in: 0.0 sec\n",
      "multilayer_perceptron ran in: 0.0 sec\n",
      "multilayer_perceptron ran in: 0.015624761581420898 sec\n"
     ]
    },
    {
     "name": "stderr",
     "output_type": "stream",
     "text": [
      " 24%|██▍       | 136/560 [00:04<00:12, 33.09it/s]"
     ]
    },
    {
     "name": "stdout",
     "output_type": "stream",
     "text": [
      "multilayer_perceptron ran in: 0.0 sec\n",
      "multilayer_perceptron ran in: 0.0 sec\n",
      "multilayer_perceptron ran in: 0.0 sec\n",
      "multilayer_perceptron ran in: 0.0 sec\n",
      "multilayer_perceptron ran in: 0.0 sec\n",
      "multilayer_perceptron ran in: 0.0 sec\n",
      "multilayer_perceptron ran in: 0.0 sec\n"
     ]
    },
    {
     "name": "stderr",
     "output_type": "stream",
     "text": [
      " 26%|██▌       | 144/560 [00:04<00:12, 33.41it/s]"
     ]
    },
    {
     "name": "stdout",
     "output_type": "stream",
     "text": [
      "multilayer_perceptron ran in: 0.0 sec\n",
      "multilayer_perceptron ran in: 0.0 sec\n",
      "multilayer_perceptron ran in: 0.015631675720214844 sec\n",
      "multilayer_perceptron ran in: 0.0 sec\n",
      "multilayer_perceptron ran in: 0.0 sec\n",
      "multilayer_perceptron ran in: 0.0 sec\n",
      "multilayer_perceptron ran in: 0.0 sec\n"
     ]
    },
    {
     "name": "stderr",
     "output_type": "stream",
     "text": [
      " 27%|██▋       | 152/560 [00:04<00:12, 33.06it/s]"
     ]
    },
    {
     "name": "stdout",
     "output_type": "stream",
     "text": [
      "multilayer_perceptron ran in: 0.0 sec\n",
      "multilayer_perceptron ran in: 0.0 sec\n",
      "multilayer_perceptron ran in: 0.0 sec\n",
      "multilayer_perceptron ran in: 0.0 sec\n",
      "multilayer_perceptron ran in: 0.0 sec\n",
      "multilayer_perceptron ran in: 0.0 sec\n",
      "multilayer_perceptron ran in: 0.0 sec\n"
     ]
    },
    {
     "name": "stderr",
     "output_type": "stream",
     "text": [
      "\r",
      " 28%|██▊       | 156/560 [00:04<00:12, 33.48it/s]"
     ]
    },
    {
     "name": "stdout",
     "output_type": "stream",
     "text": [
      "multilayer_perceptron ran in: 0.0 sec\n",
      "multilayer_perceptron ran in: 0.0 sec\n",
      "multilayer_perceptron ran in: 0.015609979629516602 sec\n",
      "multilayer_perceptron ran in: 0.0 sec\n",
      "multilayer_perceptron ran in: 0.0 sec\n",
      "multilayer_perceptron ran in: 0.0 sec\n"
     ]
    },
    {
     "name": "stderr",
     "output_type": "stream",
     "text": [
      "\r",
      " 29%|██▊       | 160/560 [00:04<00:12, 33.23it/s]"
     ]
    },
    {
     "name": "stdout",
     "output_type": "stream",
     "text": [
      "multilayer_perceptron ran in: 0.0 sec\n"
     ]
    },
    {
     "name": "stderr",
     "output_type": "stream",
     "text": [
      "\r",
      " 29%|██▉       | 164/560 [00:04<00:11, 33.60it/s]"
     ]
    },
    {
     "name": "stdout",
     "output_type": "stream",
     "text": [
      "multilayer_perceptron ran in: 0.0 sec\n",
      "multilayer_perceptron ran in: 0.0 sec\n",
      "multilayer_perceptron ran in: 0.0 sec\n",
      "multilayer_perceptron ran in: 0.0 sec\n",
      "multilayer_perceptron ran in: 0.0 sec\n",
      "multilayer_perceptron ran in: 0.0 sec\n",
      "multilayer_perceptron ran in: 0.015607833862304688 sec\n"
     ]
    },
    {
     "name": "stderr",
     "output_type": "stream",
     "text": [
      " 31%|███       | 172/560 [00:05<00:11, 32.75it/s]"
     ]
    },
    {
     "name": "stdout",
     "output_type": "stream",
     "text": [
      "multilayer_perceptron ran in: 0.0 sec\n",
      "multilayer_perceptron ran in: 0.0 sec\n",
      "multilayer_perceptron ran in: 0.0 sec\n",
      "multilayer_perceptron ran in: 0.0 sec\n",
      "multilayer_perceptron ran in: 0.0 sec\n",
      "multilayer_perceptron ran in: 0.0 sec\n",
      "multilayer_perceptron ran in: 0.0 sec\n"
     ]
    },
    {
     "name": "stderr",
     "output_type": "stream",
     "text": [
      "\r",
      " 31%|███▏      | 176/560 [00:05<00:11, 33.26it/s]"
     ]
    },
    {
     "name": "stdout",
     "output_type": "stream",
     "text": [
      "multilayer_perceptron ran in: 0.0 sec\n",
      "multilayer_perceptron ran in: 0.0 sec\n",
      "multilayer_perceptron ran in: 0.015610933303833008 sec\n",
      "multilayer_perceptron ran in: 0.0 sec\n",
      "multilayer_perceptron ran in: 0.0 sec\n"
     ]
    },
    {
     "name": "stderr",
     "output_type": "stream",
     "text": [
      "\r",
      " 32%|███▏      | 180/560 [00:05<00:11, 33.08it/s]"
     ]
    },
    {
     "name": "stdout",
     "output_type": "stream",
     "text": [
      "multilayer_perceptron ran in: 0.0 sec\n",
      "multilayer_perceptron ran in: 0.0 sec\n"
     ]
    },
    {
     "name": "stderr",
     "output_type": "stream",
     "text": [
      "\r",
      " 33%|███▎      | 184/560 [00:05<00:11, 33.50it/s]"
     ]
    },
    {
     "name": "stdout",
     "output_type": "stream",
     "text": [
      "multilayer_perceptron ran in: 0.0 sec\n",
      "multilayer_perceptron ran in: 0.0 sec\n",
      "multilayer_perceptron ran in: 0.0 sec\n",
      "multilayer_perceptron ran in: 0.01562952995300293 sec\n",
      "multilayer_perceptron ran in: 0.0 sec\n",
      "multilayer_perceptron ran in: 0.0 sec\n",
      "multilayer_perceptron ran in: 0.0 sec\n"
     ]
    },
    {
     "name": "stderr",
     "output_type": "stream",
     "text": [
      " 34%|███▍      | 192/560 [00:05<00:10, 34.01it/s]"
     ]
    },
    {
     "name": "stdout",
     "output_type": "stream",
     "text": [
      "multilayer_perceptron ran in: 0.0 sec\n",
      "multilayer_perceptron ran in: 0.0 sec\n",
      "multilayer_perceptron ran in: 0.0 sec\n",
      "multilayer_perceptron ran in: 0.0 sec\n",
      "multilayer_perceptron ran in: 0.0 sec\n",
      "multilayer_perceptron ran in: 0.0 sec\n"
     ]
    },
    {
     "name": "stderr",
     "output_type": "stream",
     "text": [
      " 36%|███▌      | 200/560 [00:06<00:10, 32.79it/s]"
     ]
    },
    {
     "name": "stdout",
     "output_type": "stream",
     "text": [
      "multilayer_perceptron ran in: 0.0 sec\n",
      "multilayer_perceptron ran in: 0.0 sec\n",
      "multilayer_perceptron ran in: 0.0 sec\n",
      "multilayer_perceptron ran in: 0.0 sec\n",
      "multilayer_perceptron ran in: 0.0 sec\n",
      "multilayer_perceptron ran in: 0.0 sec\n",
      "multilayer_perceptron ran in: 0.0 sec\n"
     ]
    },
    {
     "name": "stderr",
     "output_type": "stream",
     "text": [
      "\r",
      " 36%|███▋      | 204/560 [00:06<00:11, 32.04it/s]"
     ]
    },
    {
     "name": "stdout",
     "output_type": "stream",
     "text": [
      "multilayer_perceptron ran in: 0.0 sec\n",
      "multilayer_perceptron ran in: 0.0 sec\n",
      "multilayer_perceptron ran in: 0.0 sec\n",
      "multilayer_perceptron ran in: 0.0 sec\n",
      "multilayer_perceptron ran in: 0.0 sec\n",
      "multilayer_perceptron ran in: 0.0065250396728515625 sec\n",
      "multilayer_perceptron ran in: 0.0 sec\n"
     ]
    },
    {
     "name": "stderr",
     "output_type": "stream",
     "text": [
      " 38%|███▊      | 212/560 [00:06<00:10, 33.25it/s]"
     ]
    },
    {
     "name": "stdout",
     "output_type": "stream",
     "text": [
      "multilayer_perceptron ran in: 0.015619039535522461 sec\n",
      "multilayer_perceptron ran in: 0.01563858985900879 sec\n",
      "multilayer_perceptron ran in: 0.0 sec\n",
      "multilayer_perceptron ran in: 0.0 sec\n",
      "multilayer_perceptron ran in: 0.002096414566040039 sec\n",
      "multilayer_perceptron ran in: 0.0 sec\n",
      "multilayer_perceptron ran in: 0.0 sec\n",
      "multilayer_perceptron ran in: 0.0 sec\n"
     ]
    },
    {
     "name": "stderr",
     "output_type": "stream",
     "text": [
      " 39%|███▉      | 220/560 [00:06<00:10, 32.45it/s]"
     ]
    },
    {
     "name": "stdout",
     "output_type": "stream",
     "text": [
      "multilayer_perceptron ran in: 0.0 sec\n",
      "multilayer_perceptron ran in: 0.0 sec\n",
      "multilayer_perceptron ran in: 0.0 sec\n",
      "multilayer_perceptron ran in: 0.0 sec\n",
      "multilayer_perceptron ran in: 0.0 sec\n",
      "multilayer_perceptron ran in: 0.0 sec\n",
      "multilayer_perceptron ran in: 0.0 sec\n"
     ]
    },
    {
     "name": "stderr",
     "output_type": "stream",
     "text": [
      " 41%|████      | 228/560 [00:06<00:09, 33.47it/s]"
     ]
    },
    {
     "name": "stdout",
     "output_type": "stream",
     "text": [
      "multilayer_perceptron ran in: 0.01564931869506836 sec\n",
      "multilayer_perceptron ran in: 0.0 sec\n",
      "multilayer_perceptron ran in: 0.0 sec\n",
      "multilayer_perceptron ran in: 0.0 sec\n",
      "multilayer_perceptron ran in: 0.0 sec\n",
      "multilayer_perceptron ran in: 0.0 sec\n",
      "multilayer_perceptron ran in: 0.0 sec\n",
      "multilayer_perceptron ran in: 0.0 sec\n"
     ]
    },
    {
     "name": "stderr",
     "output_type": "stream",
     "text": [
      " 42%|████▏     | 236/560 [00:07<00:09, 33.99it/s]"
     ]
    },
    {
     "name": "stdout",
     "output_type": "stream",
     "text": [
      "multilayer_perceptron ran in: 0.0 sec\n",
      "multilayer_perceptron ran in: 0.0 sec\n",
      "multilayer_perceptron ran in: 0.0 sec\n",
      "multilayer_perceptron ran in: 0.0 sec\n",
      "multilayer_perceptron ran in: 0.0 sec\n",
      "multilayer_perceptron ran in: 0.0 sec\n",
      "multilayer_perceptron ran in: 0.0 sec\n"
     ]
    },
    {
     "name": "stderr",
     "output_type": "stream",
     "text": [
      "\r",
      " 43%|████▎     | 240/560 [00:07<00:09, 33.59it/s]"
     ]
    },
    {
     "name": "stdout",
     "output_type": "stream",
     "text": [
      "multilayer_perceptron ran in: 0.015624284744262695 sec\n",
      "multilayer_perceptron ran in: 0.0 sec\n",
      "multilayer_perceptron ran in: 0.0 sec\n",
      "multilayer_perceptron ran in: 0.0 sec\n"
     ]
    },
    {
     "name": "stderr",
     "output_type": "stream",
     "text": [
      "\r",
      " 44%|████▎     | 244/560 [00:07<00:09, 32.57it/s]"
     ]
    },
    {
     "name": "stdout",
     "output_type": "stream",
     "text": [
      "multilayer_perceptron ran in: 0.0 sec\n",
      "multilayer_perceptron ran in: 0.0 sec\n",
      "multilayer_perceptron ran in: 0.0 sec\n"
     ]
    },
    {
     "name": "stderr",
     "output_type": "stream",
     "text": [
      "\r",
      " 44%|████▍     | 248/560 [00:07<00:09, 33.13it/s]"
     ]
    },
    {
     "name": "stdout",
     "output_type": "stream",
     "text": [
      "multilayer_perceptron ran in: 0.0 sec\n",
      "multilayer_perceptron ran in: 0.0 sec\n",
      "multilayer_perceptron ran in: 0.015624046325683594 sec\n",
      "multilayer_perceptron ran in: 0.0 sec\n",
      "multilayer_perceptron ran in: 0.0 sec\n",
      "multilayer_perceptron ran in: 0.0 sec\n",
      "multilayer_perceptron ran in: 0.0 sec\n"
     ]
    },
    {
     "name": "stderr",
     "output_type": "stream",
     "text": [
      " 46%|████▌     | 256/560 [00:07<00:08, 33.82it/s]"
     ]
    },
    {
     "name": "stdout",
     "output_type": "stream",
     "text": [
      "multilayer_perceptron ran in: 0.0 sec\n",
      "multilayer_perceptron ran in: 0.0 sec\n",
      "multilayer_perceptron ran in: 0.0 sec\n",
      "multilayer_perceptron ran in: 0.0 sec\n",
      "multilayer_perceptron ran in: 0.0 sec\n",
      "multilayer_perceptron ran in: 0.0 sec\n",
      "multilayer_perceptron ran in: 0.0 sec\n"
     ]
    },
    {
     "name": "stderr",
     "output_type": "stream",
     "text": [
      "\r",
      " 46%|████▋     | 260/560 [00:07<00:08, 33.47it/s]"
     ]
    },
    {
     "name": "stdout",
     "output_type": "stream",
     "text": [
      "multilayer_perceptron ran in: 0.0 sec\n",
      "multilayer_perceptron ran in: 0.0 sec\n",
      "multilayer_perceptron ran in: 0.0 sec\n",
      "multilayer_perceptron ran in: 0.0 sec\n",
      "multilayer_perceptron ran in: 0.0 sec\n"
     ]
    },
    {
     "name": "stderr",
     "output_type": "stream",
     "text": [
      "\r",
      " 47%|████▋     | 264/560 [00:07<00:09, 32.49it/s]"
     ]
    },
    {
     "name": "stdout",
     "output_type": "stream",
     "text": [
      "multilayer_perceptron ran in: 0.0 sec\n",
      "multilayer_perceptron ran in: 0.0 sec\n"
     ]
    },
    {
     "name": "stderr",
     "output_type": "stream",
     "text": [
      "\r",
      " 48%|████▊     | 268/560 [00:08<00:08, 33.07it/s]"
     ]
    },
    {
     "name": "stdout",
     "output_type": "stream",
     "text": [
      "multilayer_perceptron ran in: 0.0 sec\n",
      "multilayer_perceptron ran in: 0.0 sec\n",
      "multilayer_perceptron ran in: 0.0 sec\n",
      "multilayer_perceptron ran in: 0.0 sec\n",
      "multilayer_perceptron ran in: 0.0 sec\n"
     ]
    },
    {
     "name": "stderr",
     "output_type": "stream",
     "text": [
      "\r",
      " 49%|████▊     | 272/560 [00:08<00:08, 33.49it/s]"
     ]
    },
    {
     "name": "stdout",
     "output_type": "stream",
     "text": [
      "multilayer_perceptron ran in: 0.0 sec\n"
     ]
    },
    {
     "name": "stderr",
     "output_type": "stream",
     "text": [
      "\r",
      " 49%|████▉     | 276/560 [00:08<00:08, 32.50it/s]"
     ]
    },
    {
     "name": "stdout",
     "output_type": "stream",
     "text": [
      "multilayer_perceptron ran in: 0.0 sec\n",
      "multilayer_perceptron ran in: 0.0 sec\n",
      "multilayer_perceptron ran in: 0.0 sec\n",
      "multilayer_perceptron ran in: 0.0 sec\n",
      "multilayer_perceptron ran in: 0.0 sec\n",
      "multilayer_perceptron ran in: 0.0 sec\n",
      "multilayer_perceptron ran in: 0.0 sec\n"
     ]
    },
    {
     "name": "stderr",
     "output_type": "stream",
     "text": [
      " 51%|█████     | 284/560 [00:08<00:08, 31.89it/s]"
     ]
    },
    {
     "name": "stdout",
     "output_type": "stream",
     "text": [
      "multilayer_perceptron ran in: 0.0 sec\n",
      "multilayer_perceptron ran in: 0.0 sec\n",
      "multilayer_perceptron ran in: 0.015615224838256836 sec\n",
      "multilayer_perceptron ran in: 0.0 sec\n",
      "multilayer_perceptron ran in: 0.0 sec\n",
      "multilayer_perceptron ran in: 0.0 sec\n",
      "multilayer_perceptron ran in: 0.0 sec\n"
     ]
    },
    {
     "name": "stderr",
     "output_type": "stream",
     "text": [
      "\r",
      " 51%|█████▏    | 288/560 [00:08<00:08, 32.63it/s]"
     ]
    },
    {
     "name": "stdout",
     "output_type": "stream",
     "text": [
      "multilayer_perceptron ran in: 0.0 sec\n",
      "multilayer_perceptron ran in: 0.0 sec\n",
      "multilayer_perceptron ran in: 0.015623807907104492 sec\n",
      "multilayer_perceptron ran in: 0.0 sec\n",
      "multilayer_perceptron ran in: 0.0 sec\n"
     ]
    },
    {
     "name": "stderr",
     "output_type": "stream",
     "text": [
      "\r",
      " 52%|█████▏    | 292/560 [00:08<00:08, 33.17it/s]"
     ]
    },
    {
     "name": "stdout",
     "output_type": "stream",
     "text": [
      "multilayer_perceptron ran in: 0.0 sec\n",
      "multilayer_perceptron ran in: 0.006528139114379883 sec\n",
      "multilayer_perceptron ran in: 0.0 sec\n"
     ]
    },
    {
     "name": "stderr",
     "output_type": "stream",
     "text": [
      "\r",
      " 53%|█████▎    | 296/560 [00:08<00:07, 33.02it/s]"
     ]
    },
    {
     "name": "stdout",
     "output_type": "stream",
     "text": [
      "multilayer_perceptron ran in: 0.0 sec\n",
      "multilayer_perceptron ran in: 0.0 sec\n",
      "multilayer_perceptron ran in: 0.0 sec\n",
      "multilayer_perceptron ran in: 0.0 sec\n"
     ]
    },
    {
     "name": "stderr",
     "output_type": "stream",
     "text": [
      "\r",
      " 54%|█████▎    | 300/560 [00:09<00:07, 33.45it/s]"
     ]
    },
    {
     "name": "stdout",
     "output_type": "stream",
     "text": [
      "multilayer_perceptron ran in: 0.0 sec\n",
      "multilayer_perceptron ran in: 0.0 sec\n"
     ]
    },
    {
     "name": "stderr",
     "output_type": "stream",
     "text": [
      "\r",
      " 54%|█████▍    | 304/560 [00:09<00:07, 32.48it/s]"
     ]
    },
    {
     "name": "stdout",
     "output_type": "stream",
     "text": [
      "multilayer_perceptron ran in: 0.0 sec\n",
      "multilayer_perceptron ran in: 0.0 sec\n",
      "multilayer_perceptron ran in: 0.006524562835693359 sec\n",
      "multilayer_perceptron ran in: 0.0 sec\n",
      "multilayer_perceptron ran in: 0.0 sec\n",
      "multilayer_perceptron ran in: 0.0 sec\n"
     ]
    },
    {
     "name": "stderr",
     "output_type": "stream",
     "text": [
      "\r",
      " 55%|█████▌    | 308/560 [00:09<00:07, 33.06it/s]"
     ]
    },
    {
     "name": "stdout",
     "output_type": "stream",
     "text": [
      "multilayer_perceptron ran in: 0.0 sec\n",
      "multilayer_perceptron ran in: 0.0 sec\n",
      "multilayer_perceptron ran in: 0.0 sec\n",
      "multilayer_perceptron ran in: 0.0 sec\n",
      "multilayer_perceptron ran in: 0.0 sec\n"
     ]
    },
    {
     "name": "stderr",
     "output_type": "stream",
     "text": [
      "\r",
      " 56%|█████▌    | 312/560 [00:09<00:07, 32.22it/s]"
     ]
    },
    {
     "name": "stdout",
     "output_type": "stream",
     "text": [
      "multilayer_perceptron ran in: 0.0 sec\n"
     ]
    },
    {
     "name": "stderr",
     "output_type": "stream",
     "text": [
      "\r",
      " 56%|█████▋    | 316/560 [00:09<00:07, 33.63it/s]"
     ]
    },
    {
     "name": "stdout",
     "output_type": "stream",
     "text": [
      "multilayer_perceptron ran in: 0.0 sec\n",
      "multilayer_perceptron ran in: 0.0 sec\n",
      "multilayer_perceptron ran in: 0.0 sec\n",
      "multilayer_perceptron ran in: 0.015642404556274414 sec\n",
      "multilayer_perceptron ran in: 0.0 sec\n",
      "multilayer_perceptron ran in: 0.0 sec\n",
      "multilayer_perceptron ran in: 0.0 sec\n"
     ]
    },
    {
     "name": "stderr",
     "output_type": "stream",
     "text": [
      " 58%|█████▊    | 324/560 [00:09<00:07, 33.15it/s]"
     ]
    },
    {
     "name": "stdout",
     "output_type": "stream",
     "text": [
      "multilayer_perceptron ran in: 0.015636205673217773 sec\n",
      "multilayer_perceptron ran in: 0.0 sec\n",
      "multilayer_perceptron ran in: 0.015624523162841797 sec\n",
      "multilayer_perceptron ran in: 0.0 sec\n",
      "multilayer_perceptron ran in: 0.0 sec\n",
      "multilayer_perceptron ran in: 0.0 sec\n",
      "multilayer_perceptron ran in: 0.006528377532958984 sec\n"
     ]
    },
    {
     "name": "stderr",
     "output_type": "stream",
     "text": [
      " 59%|█████▉    | 332/560 [00:10<00:07, 32.39it/s]"
     ]
    },
    {
     "name": "stdout",
     "output_type": "stream",
     "text": [
      "multilayer_perceptron ran in: 0.0 sec\n",
      "multilayer_perceptron ran in: 0.0 sec\n",
      "multilayer_perceptron ran in: 0.0 sec\n",
      "multilayer_perceptron ran in: 0.0 sec\n",
      "multilayer_perceptron ran in: 0.0 sec\n",
      "multilayer_perceptron ran in: 0.015642404556274414 sec\n",
      "multilayer_perceptron ran in: 0.0 sec\n"
     ]
    },
    {
     "name": "stderr",
     "output_type": "stream",
     "text": [
      "\r",
      " 60%|██████    | 336/560 [00:10<00:06, 33.00it/s]"
     ]
    },
    {
     "name": "stdout",
     "output_type": "stream",
     "text": [
      "multilayer_perceptron ran in: 0.0 sec\n",
      "multilayer_perceptron ran in: 0.0 sec\n",
      "multilayer_perceptron ran in: 0.0 sec\n",
      "multilayer_perceptron ran in: 0.0 sec\n",
      "multilayer_perceptron ran in: 0.01562809944152832 sec\n",
      "multilayer_perceptron ran in: 0.0 sec\n",
      "multilayer_perceptron ran in: 0.0 sec\n"
     ]
    },
    {
     "name": "stderr",
     "output_type": "stream",
     "text": [
      " 61%|██████▏   | 344/560 [00:10<00:06, 32.37it/s]"
     ]
    },
    {
     "name": "stdout",
     "output_type": "stream",
     "text": [
      "multilayer_perceptron ran in: 0.0 sec\n",
      "multilayer_perceptron ran in: 0.0 sec\n",
      "multilayer_perceptron ran in: 0.0 sec\n",
      "multilayer_perceptron ran in: 0.0 sec\n",
      "multilayer_perceptron ran in: 0.0 sec\n",
      "multilayer_perceptron ran in: 0.0 sec\n",
      "multilayer_perceptron ran in: 0.0 sec\n"
     ]
    },
    {
     "name": "stderr",
     "output_type": "stream",
     "text": [
      " 63%|██████▎   | 352/560 [00:10<00:06, 32.97it/s]"
     ]
    },
    {
     "name": "stdout",
     "output_type": "stream",
     "text": [
      "multilayer_perceptron ran in: 0.0 sec\n",
      "multilayer_perceptron ran in: 0.0 sec\n",
      "multilayer_perceptron ran in: 0.0 sec\n",
      "multilayer_perceptron ran in: 0.0 sec\n",
      "multilayer_perceptron ran in: 0.0 sec\n",
      "multilayer_perceptron ran in: 0.0 sec\n",
      "multilayer_perceptron ran in: 0.0 sec\n"
     ]
    },
    {
     "name": "stderr",
     "output_type": "stream",
     "text": [
      "\r",
      " 64%|██████▎   | 356/560 [00:10<00:06, 32.16it/s]"
     ]
    },
    {
     "name": "stdout",
     "output_type": "stream",
     "text": [
      "multilayer_perceptron ran in: 0.0 sec\n",
      "multilayer_perceptron ran in: 0.0 sec\n",
      "multilayer_perceptron ran in: 0.0 sec\n",
      "multilayer_perceptron ran in: 0.0 sec\n",
      "multilayer_perceptron ran in: 0.0 sec\n"
     ]
    },
    {
     "name": "stderr",
     "output_type": "stream",
     "text": [
      "\r",
      " 64%|██████▍   | 360/560 [00:10<00:06, 32.83it/s]"
     ]
    },
    {
     "name": "stdout",
     "output_type": "stream",
     "text": [
      "multilayer_perceptron ran in: 0.0 sec\n"
     ]
    },
    {
     "name": "stderr",
     "output_type": "stream",
     "text": [
      "\r",
      " 65%|██████▌   | 364/560 [00:11<00:06, 32.07it/s]"
     ]
    },
    {
     "name": "stdout",
     "output_type": "stream",
     "text": [
      "multilayer_perceptron ran in: 0.0 sec\n",
      "multilayer_perceptron ran in: 0.0 sec\n",
      "multilayer_perceptron ran in: 0.0 sec\n",
      "multilayer_perceptron ran in: 0.0 sec\n",
      "multilayer_perceptron ran in: 0.0 sec\n",
      "multilayer_perceptron ran in: 0.0 sec\n"
     ]
    },
    {
     "name": "stderr",
     "output_type": "stream",
     "text": [
      " 66%|██████▋   | 372/560 [00:11<00:05, 31.67it/s]"
     ]
    },
    {
     "name": "stdout",
     "output_type": "stream",
     "text": [
      "multilayer_perceptron ran in: 0.0 sec\n",
      "multilayer_perceptron ran in: 0.0 sec\n",
      "multilayer_perceptron ran in: 0.0 sec\n",
      "multilayer_perceptron ran in: 0.0 sec\n",
      "multilayer_perceptron ran in: 0.0 sec\n",
      "multilayer_perceptron ran in: 0.0 sec\n",
      "multilayer_perceptron ran in: 0.0 sec\n"
     ]
    },
    {
     "name": "stderr",
     "output_type": "stream",
     "text": [
      "\r",
      " 67%|██████▋   | 376/560 [00:11<00:05, 32.48it/s]"
     ]
    },
    {
     "name": "stdout",
     "output_type": "stream",
     "text": [
      "multilayer_perceptron ran in: 0.0 sec\n",
      "multilayer_perceptron ran in: 0.0 sec\n",
      "multilayer_perceptron ran in: 0.0 sec\n",
      "multilayer_perceptron ran in: 0.0 sec\n",
      "multilayer_perceptron ran in: 0.0 sec\n",
      "multilayer_perceptron ran in: 0.0 sec\n",
      "multilayer_perceptron ran in: 0.0 sec\n"
     ]
    },
    {
     "name": "stderr",
     "output_type": "stream",
     "text": [
      " 69%|██████▊   | 384/560 [00:11<00:05, 32.22it/s]"
     ]
    },
    {
     "name": "stdout",
     "output_type": "stream",
     "text": [
      "multilayer_perceptron ran in: 0.0 sec\n",
      "multilayer_perceptron ran in: 0.015642404556274414 sec\n",
      "multilayer_perceptron ran in: 0.0 sec\n",
      "multilayer_perceptron ran in: 0.0 sec\n",
      "multilayer_perceptron ran in: 0.0 sec\n",
      "multilayer_perceptron ran in: 0.0 sec\n"
     ]
    },
    {
     "name": "stderr",
     "output_type": "stream",
     "text": [
      " 70%|███████   | 392/560 [00:11<00:05, 32.97it/s]"
     ]
    },
    {
     "name": "stdout",
     "output_type": "stream",
     "text": [
      "multilayer_perceptron ran in: 0.0 sec\n",
      "multilayer_perceptron ran in: 0.0 sec\n",
      "multilayer_perceptron ran in: 0.0 sec\n",
      "multilayer_perceptron ran in: 0.0 sec\n",
      "multilayer_perceptron ran in: 0.0 sec\n",
      "multilayer_perceptron ran in: 0.0 sec\n",
      "multilayer_perceptron ran in: 0.0 sec\n"
     ]
    },
    {
     "name": "stderr",
     "output_type": "stream",
     "text": [
      "\r",
      " 71%|███████   | 396/560 [00:12<00:05, 32.16it/s]"
     ]
    },
    {
     "name": "stdout",
     "output_type": "stream",
     "text": [
      "multilayer_perceptron ran in: 0.0 sec\n",
      "multilayer_perceptron ran in: 0.015639781951904297 sec\n",
      "multilayer_perceptron ran in: 0.0 sec\n",
      "multilayer_perceptron ran in: 0.0 sec\n",
      "multilayer_perceptron ran in: 0.0 sec\n",
      "multilayer_perceptron ran in: 0.0 sec\n",
      "multilayer_perceptron ran in: 0.0 sec\n"
     ]
    },
    {
     "name": "stderr",
     "output_type": "stream",
     "text": [
      " 72%|███████▏  | 404/560 [00:12<00:04, 32.79it/s]"
     ]
    },
    {
     "name": "stdout",
     "output_type": "stream",
     "text": [
      "multilayer_perceptron ran in: 0.0 sec\n",
      "multilayer_perceptron ran in: 0.0 sec\n",
      "multilayer_perceptron ran in: 0.0 sec\n",
      "multilayer_perceptron ran in: 0.0 sec\n",
      "multilayer_perceptron ran in: 0.0 sec\n",
      "multilayer_perceptron ran in: 0.015626192092895508 sec\n",
      "multilayer_perceptron ran in: 0.0 sec\n"
     ]
    },
    {
     "name": "stderr",
     "output_type": "stream",
     "text": [
      " 74%|███████▎  | 412/560 [00:12<00:04, 33.67it/s]"
     ]
    },
    {
     "name": "stdout",
     "output_type": "stream",
     "text": [
      "multilayer_perceptron ran in: 0.0 sec\n",
      "multilayer_perceptron ran in: 0.0 sec\n",
      "multilayer_perceptron ran in: 0.0010001659393310547 sec\n",
      "multilayer_perceptron ran in: 0.0 sec\n",
      "multilayer_perceptron ran in: 0.0 sec\n",
      "multilayer_perceptron ran in: 0.0 sec\n",
      "multilayer_perceptron ran in: 0.0 sec\n",
      "multilayer_perceptron ran in: 0.0 sec\n"
     ]
    },
    {
     "name": "stderr",
     "output_type": "stream",
     "text": [
      " 75%|███████▌  | 420/560 [00:12<00:04, 33.17it/s]"
     ]
    },
    {
     "name": "stdout",
     "output_type": "stream",
     "text": [
      "multilayer_perceptron ran in: 0.0 sec\n",
      "multilayer_perceptron ran in: 0.0 sec\n",
      "multilayer_perceptron ran in: 0.0 sec\n",
      "multilayer_perceptron ran in: 0.0 sec\n",
      "multilayer_perceptron ran in: 0.0 sec\n",
      "multilayer_perceptron ran in: 0.0 sec\n",
      "multilayer_perceptron ran in: 0.0 sec\n"
     ]
    },
    {
     "name": "stderr",
     "output_type": "stream",
     "text": [
      "\r",
      " 76%|███████▌  | 424/560 [00:12<00:05, 24.90it/s]"
     ]
    },
    {
     "name": "stdout",
     "output_type": "stream",
     "text": [
      "multilayer_perceptron ran in: 0.0 sec\n",
      "multilayer_perceptron ran in: 0.0 sec\n",
      "multilayer_perceptron ran in: 0.0 sec\n"
     ]
    },
    {
     "name": "stderr",
     "output_type": "stream",
     "text": [
      " 77%|███████▋  | 431/560 [00:13<00:04, 28.17it/s]"
     ]
    },
    {
     "name": "stdout",
     "output_type": "stream",
     "text": [
      "multilayer_perceptron ran in: 0.0 sec\n",
      "multilayer_perceptron ran in: 0.0 sec\n",
      "multilayer_perceptron ran in: 0.0 sec\n",
      "multilayer_perceptron ran in: 0.0 sec\n",
      "multilayer_perceptron ran in: 0.0 sec\n",
      "multilayer_perceptron ran in: 0.0 sec\n",
      "multilayer_perceptron ran in: 0.0 sec\n"
     ]
    },
    {
     "name": "stderr",
     "output_type": "stream",
     "text": [
      "\r",
      " 78%|███████▊  | 435/560 [00:13<00:04, 28.83it/s]"
     ]
    },
    {
     "name": "stdout",
     "output_type": "stream",
     "text": [
      "multilayer_perceptron ran in: 0.0 sec\n",
      "multilayer_perceptron ran in: 0.0 sec\n",
      "multilayer_perceptron ran in: 0.0 sec\n",
      "multilayer_perceptron ran in: 0.0 sec\n",
      "multilayer_perceptron ran in: 0.0 sec\n",
      "multilayer_perceptron ran in: 0.0 sec\n",
      "multilayer_perceptron ran in: 0.0 sec\n"
     ]
    },
    {
     "name": "stderr",
     "output_type": "stream",
     "text": [
      " 79%|███████▉  | 443/560 [00:13<00:03, 31.18it/s]"
     ]
    },
    {
     "name": "stdout",
     "output_type": "stream",
     "text": [
      "multilayer_perceptron ran in: 0.0 sec\n",
      "multilayer_perceptron ran in: 0.0 sec\n",
      "multilayer_perceptron ran in: 0.0 sec\n",
      "multilayer_perceptron ran in: 0.0 sec\n",
      "multilayer_perceptron ran in: 0.0 sec\n",
      "multilayer_perceptron ran in: 0.0 sec\n",
      "multilayer_perceptron ran in: 0.015620946884155273 sec\n"
     ]
    },
    {
     "name": "stderr",
     "output_type": "stream",
     "text": [
      " 81%|████████  | 451/560 [00:13<00:03, 31.59it/s]"
     ]
    },
    {
     "name": "stdout",
     "output_type": "stream",
     "text": [
      "multilayer_perceptron ran in: 0.0 sec\n",
      "multilayer_perceptron ran in: 0.0 sec\n",
      "multilayer_perceptron ran in: 0.0 sec\n",
      "multilayer_perceptron ran in: 0.0 sec\n",
      "multilayer_perceptron ran in: 0.0 sec\n",
      "multilayer_perceptron ran in: 0.0 sec\n",
      "multilayer_perceptron ran in: 0.0 sec\n"
     ]
    },
    {
     "name": "stderr",
     "output_type": "stream",
     "text": [
      " 82%|████████▏ | 459/560 [00:14<00:03, 32.49it/s]"
     ]
    },
    {
     "name": "stdout",
     "output_type": "stream",
     "text": [
      "multilayer_perceptron ran in: 0.0 sec\n",
      "multilayer_perceptron ran in: 0.0 sec\n",
      "multilayer_perceptron ran in: 0.0 sec\n",
      "multilayer_perceptron ran in: 0.0 sec\n",
      "multilayer_perceptron ran in: 0.0 sec\n",
      "multilayer_perceptron ran in: 0.0 sec\n",
      "multilayer_perceptron ran in: 0.0 sec\n"
     ]
    },
    {
     "name": "stderr",
     "output_type": "stream",
     "text": [
      "\r",
      " 83%|████████▎ | 463/560 [00:14<00:02, 33.07it/s]"
     ]
    },
    {
     "name": "stdout",
     "output_type": "stream",
     "text": [
      "multilayer_perceptron ran in: 0.0 sec\n",
      "multilayer_perceptron ran in: 0.0 sec\n",
      "multilayer_perceptron ran in: 0.0 sec\n",
      "multilayer_perceptron ran in: 0.0 sec\n",
      "multilayer_perceptron ran in: 0.0 sec\n",
      "multilayer_perceptron ran in: 0.0 sec\n",
      "multilayer_perceptron ran in: 0.0 sec\n"
     ]
    },
    {
     "name": "stderr",
     "output_type": "stream",
     "text": [
      " 84%|████████▍ | 471/560 [00:14<00:02, 32.46it/s]"
     ]
    },
    {
     "name": "stdout",
     "output_type": "stream",
     "text": [
      "multilayer_perceptron ran in: 0.0 sec\n",
      "multilayer_perceptron ran in: 0.0 sec\n",
      "multilayer_perceptron ran in: 0.0 sec\n",
      "multilayer_perceptron ran in: 0.0 sec\n",
      "multilayer_perceptron ran in: 0.0 sec\n",
      "multilayer_perceptron ran in: 0.0 sec\n",
      "multilayer_perceptron ran in: 0.0 sec\n"
     ]
    },
    {
     "name": "stderr",
     "output_type": "stream",
     "text": [
      " 86%|████████▌ | 479/560 [00:14<00:02, 33.25it/s]"
     ]
    },
    {
     "name": "stdout",
     "output_type": "stream",
     "text": [
      "multilayer_perceptron ran in: 0.0 sec\n",
      "multilayer_perceptron ran in: 0.006524085998535156 sec\n",
      "multilayer_perceptron ran in: 0.0 sec\n",
      "multilayer_perceptron ran in: 0.0 sec\n",
      "multilayer_perceptron ran in: 0.0 sec\n",
      "multilayer_perceptron ran in: 0.0 sec\n",
      "multilayer_perceptron ran in: 0.0 sec\n"
     ]
    },
    {
     "name": "stderr",
     "output_type": "stream",
     "text": [
      " 87%|████████▋ | 487/560 [00:14<00:02, 32.58it/s]"
     ]
    },
    {
     "name": "stdout",
     "output_type": "stream",
     "text": [
      "multilayer_perceptron ran in: 0.0 sec\n",
      "multilayer_perceptron ran in: 0.0 sec\n",
      "multilayer_perceptron ran in: 0.0 sec\n",
      "multilayer_perceptron ran in: 0.0 sec\n",
      "multilayer_perceptron ran in: 0.0 sec\n",
      "multilayer_perceptron ran in: 0.0 sec\n",
      "multilayer_perceptron ran in: 0.0 sec\n",
      "multilayer_perceptron ran in: 0.0 sec\n"
     ]
    },
    {
     "name": "stderr",
     "output_type": "stream",
     "text": [
      " 88%|████████▊ | 495/560 [00:15<00:01, 33.54it/s]"
     ]
    },
    {
     "name": "stdout",
     "output_type": "stream",
     "text": [
      "multilayer_perceptron ran in: 0.0 sec\n",
      "multilayer_perceptron ran in: 0.0 sec\n",
      "multilayer_perceptron ran in: 0.0 sec\n",
      "multilayer_perceptron ran in: 0.0 sec\n",
      "multilayer_perceptron ran in: 0.0 sec\n",
      "multilayer_perceptron ran in: 0.0 sec\n",
      "multilayer_perceptron ran in: 0.0 sec\n",
      "multilayer_perceptron ran in: 0.0 sec\n"
     ]
    },
    {
     "name": "stderr",
     "output_type": "stream",
     "text": [
      " 90%|████████▉ | 503/560 [00:15<00:01, 33.64it/s]"
     ]
    },
    {
     "name": "stdout",
     "output_type": "stream",
     "text": [
      "multilayer_perceptron ran in: 0.0 sec\n",
      "multilayer_perceptron ran in: 0.0 sec\n",
      "multilayer_perceptron ran in: 0.0 sec\n",
      "multilayer_perceptron ran in: 0.015621185302734375 sec\n",
      "multilayer_perceptron ran in: 0.0 sec\n",
      "multilayer_perceptron ran in: 0.0 sec\n",
      "multilayer_perceptron ran in: 0.0 sec\n"
     ]
    },
    {
     "name": "stderr",
     "output_type": "stream",
     "text": [
      " 91%|█████████▏| 511/560 [00:15<00:01, 32.77it/s]"
     ]
    },
    {
     "name": "stdout",
     "output_type": "stream",
     "text": [
      "multilayer_perceptron ran in: 0.0 sec\n",
      "multilayer_perceptron ran in: 0.015626192092895508 sec\n",
      "multilayer_perceptron ran in: 0.0 sec\n",
      "multilayer_perceptron ran in: 0.0 sec\n",
      "multilayer_perceptron ran in: 0.0 sec\n",
      "multilayer_perceptron ran in: 0.0 sec\n",
      "multilayer_perceptron ran in: 0.0 sec\n"
     ]
    },
    {
     "name": "stderr",
     "output_type": "stream",
     "text": [
      "\r",
      " 92%|█████████▏| 515/560 [00:15<00:01, 33.27it/s]"
     ]
    },
    {
     "name": "stdout",
     "output_type": "stream",
     "text": [
      "multilayer_perceptron ran in: 0.0 sec\n",
      "multilayer_perceptron ran in: 0.0 sec\n",
      "multilayer_perceptron ran in: 0.01562666893005371 sec\n",
      "multilayer_perceptron ran in: 0.0 sec\n",
      "multilayer_perceptron ran in: 0.0 sec\n",
      "multilayer_perceptron ran in: 0.0 sec\n",
      "multilayer_perceptron ran in: 0.0 sec\n"
     ]
    },
    {
     "name": "stderr",
     "output_type": "stream",
     "text": [
      " 93%|█████████▎| 523/560 [00:15<00:01, 33.50it/s]"
     ]
    },
    {
     "name": "stdout",
     "output_type": "stream",
     "text": [
      "multilayer_perceptron ran in: 0.0 sec\n",
      "multilayer_perceptron ran in: 0.0 sec\n",
      "multilayer_perceptron ran in: 0.0 sec\n",
      "multilayer_perceptron ran in: 0.0 sec\n",
      "multilayer_perceptron ran in: 0.0 sec\n",
      "multilayer_perceptron ran in: 0.0 sec\n",
      "multilayer_perceptron ran in: 0.0 sec\n"
     ]
    },
    {
     "name": "stderr",
     "output_type": "stream",
     "text": [
      " 95%|█████████▍| 531/560 [00:16<00:00, 32.71it/s]"
     ]
    },
    {
     "name": "stdout",
     "output_type": "stream",
     "text": [
      "multilayer_perceptron ran in: 0.0 sec\n",
      "multilayer_perceptron ran in: 0.0 sec\n",
      "multilayer_perceptron ran in: 0.0 sec\n",
      "multilayer_perceptron ran in: 0.0 sec\n",
      "multilayer_perceptron ran in: 0.015651702880859375 sec\n",
      "multilayer_perceptron ran in: 0.0 sec\n",
      "multilayer_perceptron ran in: 0.0 sec\n"
     ]
    },
    {
     "name": "stderr",
     "output_type": "stream",
     "text": [
      "\r",
      " 96%|█████████▌| 535/560 [00:16<00:00, 33.23it/s]"
     ]
    },
    {
     "name": "stdout",
     "output_type": "stream",
     "text": [
      "multilayer_perceptron ran in: 0.0 sec\n",
      "multilayer_perceptron ran in: 0.0 sec\n",
      "multilayer_perceptron ran in: 0.0 sec\n",
      "multilayer_perceptron ran in: 0.0 sec\n",
      "multilayer_perceptron ran in: 0.0 sec\n",
      "multilayer_perceptron ran in: 0.0 sec\n"
     ]
    },
    {
     "name": "stderr",
     "output_type": "stream",
     "text": [
      " 97%|█████████▋| 543/560 [00:16<00:00, 33.48it/s]"
     ]
    },
    {
     "name": "stdout",
     "output_type": "stream",
     "text": [
      "multilayer_perceptron ran in: 0.0 sec\n",
      "multilayer_perceptron ran in: 0.0 sec\n",
      "multilayer_perceptron ran in: 0.0 sec\n",
      "multilayer_perceptron ran in: 0.0 sec\n",
      "multilayer_perceptron ran in: 0.0 sec\n",
      "multilayer_perceptron ran in: 0.0 sec\n",
      "multilayer_perceptron ran in: 0.0 sec\n"
     ]
    },
    {
     "name": "stderr",
     "output_type": "stream",
     "text": [
      " 98%|█████████▊| 551/560 [00:16<00:00, 33.08it/s]"
     ]
    },
    {
     "name": "stdout",
     "output_type": "stream",
     "text": [
      "multilayer_perceptron ran in: 0.006528377532958984 sec\n",
      "multilayer_perceptron ran in: 0.0 sec\n",
      "multilayer_perceptron ran in: 0.0 sec\n",
      "multilayer_perceptron ran in: 0.0 sec\n",
      "multilayer_perceptron ran in: 0.0 sec\n",
      "multilayer_perceptron ran in: 0.0 sec\n",
      "multilayer_perceptron ran in: 0.0 sec\n",
      "multilayer_perceptron ran in: 0.0 sec\n"
     ]
    },
    {
     "name": "stderr",
     "output_type": "stream",
     "text": [
      "100%|█████████▉| 559/560 [00:17<00:00, 33.24it/s]"
     ]
    },
    {
     "name": "stdout",
     "output_type": "stream",
     "text": [
      "multilayer_perceptron ran in: 0.0 sec\n",
      "multilayer_perceptron ran in: 0.0 sec\n",
      "multilayer_perceptron ran in: 0.0 sec\n",
      "multilayer_perceptron ran in: 0.0 sec\n",
      "multilayer_perceptron ran in: 0.0 sec\n",
      "multilayer_perceptron ran in: 0.0 sec\n",
      "multilayer_perceptron ran in: 0.0156552791595459 sec\n"
     ]
    },
    {
     "name": "stderr",
     "output_type": "stream",
     "text": [
      "100%|██████████| 560/560 [00:17<00:00, 32.75it/s]\n"
     ]
    },
    {
     "name": "stdout",
     "output_type": "stream",
     "text": [
      "Epoch: 9 Cost=126376.5781\n"
     ]
    },
    {
     "name": "stderr",
     "output_type": "stream",
     "text": [
      "  1%|          | 4/560 [00:00<00:16, 34.51it/s]"
     ]
    },
    {
     "name": "stdout",
     "output_type": "stream",
     "text": [
      "multilayer_perceptron ran in: 0.0 sec\n",
      "multilayer_perceptron ran in: 0.0 sec\n",
      "multilayer_perceptron ran in: 0.0 sec\n",
      "multilayer_perceptron ran in: 0.0 sec\n",
      "multilayer_perceptron ran in: 0.0 sec\n",
      "multilayer_perceptron ran in: 0.0 sec\n",
      "multilayer_perceptron ran in: 0.0 sec\n"
     ]
    },
    {
     "name": "stderr",
     "output_type": "stream",
     "text": [
      "  2%|▏         | 12/560 [00:00<00:16, 33.08it/s]"
     ]
    },
    {
     "name": "stdout",
     "output_type": "stream",
     "text": [
      "multilayer_perceptron ran in: 0.0 sec\n",
      "multilayer_perceptron ran in: 0.0 sec\n",
      "multilayer_perceptron ran in: 0.0 sec\n",
      "multilayer_perceptron ran in: 0.0 sec\n",
      "multilayer_perceptron ran in: 0.015623092651367188 sec\n",
      "multilayer_perceptron ran in: 0.0 sec\n",
      "multilayer_perceptron ran in: 0.0 sec\n"
     ]
    },
    {
     "name": "stderr",
     "output_type": "stream",
     "text": [
      "\r",
      "  3%|▎         | 16/560 [00:00<00:16, 32.92it/s]"
     ]
    },
    {
     "name": "stdout",
     "output_type": "stream",
     "text": [
      "multilayer_perceptron ran in: 0.0 sec\n",
      "multilayer_perceptron ran in: 0.0 sec\n",
      "multilayer_perceptron ran in: 0.0 sec\n",
      "multilayer_perceptron ran in: 0.0 sec\n",
      "multilayer_perceptron ran in: 0.0 sec\n",
      "multilayer_perceptron ran in: 0.0 sec\n"
     ]
    },
    {
     "name": "stderr",
     "output_type": "stream",
     "text": [
      "  4%|▍         | 24/560 [00:00<00:15, 33.82it/s]"
     ]
    },
    {
     "name": "stdout",
     "output_type": "stream",
     "text": [
      "multilayer_perceptron ran in: 0.0 sec\n",
      "multilayer_perceptron ran in: 0.0 sec\n",
      "multilayer_perceptron ran in: 0.0 sec\n",
      "multilayer_perceptron ran in: 0.0 sec\n",
      "multilayer_perceptron ran in: 0.0 sec\n",
      "multilayer_perceptron ran in: 0.0 sec\n"
     ]
    },
    {
     "name": "stderr",
     "output_type": "stream",
     "text": [
      "  6%|▌         | 32/560 [00:00<00:16, 32.64it/s]"
     ]
    },
    {
     "name": "stdout",
     "output_type": "stream",
     "text": [
      "multilayer_perceptron ran in: 0.0 sec\n",
      "multilayer_perceptron ran in: 0.0 sec\n",
      "multilayer_perceptron ran in: 0.0 sec\n",
      "multilayer_perceptron ran in: 0.0 sec\n",
      "multilayer_perceptron ran in: 0.0 sec\n",
      "multilayer_perceptron ran in: 0.0 sec\n",
      "multilayer_perceptron ran in: 0.015635251998901367 sec\n"
     ]
    },
    {
     "name": "stderr",
     "output_type": "stream",
     "text": [
      "\r",
      "  6%|▋         | 36/560 [00:01<00:15, 33.20it/s]"
     ]
    },
    {
     "name": "stdout",
     "output_type": "stream",
     "text": [
      "multilayer_perceptron ran in: 0.015611886978149414 sec\n",
      "multilayer_perceptron ran in: 0.0 sec\n",
      "multilayer_perceptron ran in: 0.0 sec\n",
      "multilayer_perceptron ran in: 0.0 sec\n",
      "multilayer_perceptron ran in: 0.0 sec\n",
      "multilayer_perceptron ran in: 0.0 sec\n",
      "multilayer_perceptron ran in: 0.0 sec\n"
     ]
    },
    {
     "name": "stderr",
     "output_type": "stream",
     "text": [
      "  8%|▊         | 44/560 [00:01<00:15, 33.82it/s]"
     ]
    },
    {
     "name": "stdout",
     "output_type": "stream",
     "text": [
      "multilayer_perceptron ran in: 0.0 sec\n",
      "multilayer_perceptron ran in: 0.0 sec\n",
      "multilayer_perceptron ran in: 0.0 sec\n",
      "multilayer_perceptron ran in: 0.0 sec\n",
      "multilayer_perceptron ran in: 0.0 sec\n",
      "multilayer_perceptron ran in: 0.0 sec\n",
      "multilayer_perceptron ran in: 0.0 sec\n"
     ]
    },
    {
     "name": "stderr",
     "output_type": "stream",
     "text": [
      "  9%|▉         | 52/560 [00:01<00:15, 33.01it/s]"
     ]
    },
    {
     "name": "stdout",
     "output_type": "stream",
     "text": [
      "multilayer_perceptron ran in: 0.0 sec\n",
      "multilayer_perceptron ran in: 0.0 sec\n",
      "multilayer_perceptron ran in: 0.0 sec\n",
      "multilayer_perceptron ran in: 0.0 sec\n",
      "multilayer_perceptron ran in: 0.0 sec\n",
      "multilayer_perceptron ran in: 0.015634775161743164 sec\n",
      "multilayer_perceptron ran in: 0.0 sec\n",
      "multilayer_perceptron ran in: 0.0 sec\n"
     ]
    },
    {
     "name": "stderr",
     "output_type": "stream",
     "text": [
      " 11%|█         | 60/560 [00:01<00:14, 33.76it/s]"
     ]
    },
    {
     "name": "stdout",
     "output_type": "stream",
     "text": [
      "multilayer_perceptron ran in: 0.0 sec\n",
      "multilayer_perceptron ran in: 0.0 sec\n",
      "multilayer_perceptron ran in: 0.0 sec\n",
      "multilayer_perceptron ran in: 0.0 sec\n",
      "multilayer_perceptron ran in: 0.0 sec\n",
      "multilayer_perceptron ran in: 0.0 sec\n",
      "multilayer_perceptron ran in: 0.0 sec\n",
      "multilayer_perceptron ran in: 0.0 sec\n"
     ]
    },
    {
     "name": "stderr",
     "output_type": "stream",
     "text": [
      " 12%|█▏        | 68/560 [00:02<00:14, 33.21it/s]"
     ]
    },
    {
     "name": "stdout",
     "output_type": "stream",
     "text": [
      "multilayer_perceptron ran in: 0.0 sec\n",
      "multilayer_perceptron ran in: 0.0 sec\n",
      "multilayer_perceptron ran in: 0.0 sec\n",
      "multilayer_perceptron ran in: 0.0 sec\n",
      "multilayer_perceptron ran in: 0.0 sec\n",
      "multilayer_perceptron ran in: 0.0 sec\n",
      "multilayer_perceptron ran in: 0.0 sec\n"
     ]
    },
    {
     "name": "stderr",
     "output_type": "stream",
     "text": [
      " 14%|█▎        | 76/560 [00:02<00:14, 33.47it/s]"
     ]
    },
    {
     "name": "stdout",
     "output_type": "stream",
     "text": [
      "multilayer_perceptron ran in: 0.0 sec\n",
      "multilayer_perceptron ran in: 0.0 sec\n",
      "multilayer_perceptron ran in: 0.01566004753112793 sec\n",
      "multilayer_perceptron ran in: 0.0 sec\n",
      "multilayer_perceptron ran in: 0.0 sec\n",
      "multilayer_perceptron ran in: 0.0 sec\n",
      "multilayer_perceptron ran in: 0.0 sec\n"
     ]
    },
    {
     "name": "stderr",
     "output_type": "stream",
     "text": [
      "\r",
      " 14%|█▍        | 80/560 [00:02<00:14, 33.77it/s]"
     ]
    },
    {
     "name": "stdout",
     "output_type": "stream",
     "text": [
      "multilayer_perceptron ran in: 0.0 sec\n",
      "multilayer_perceptron ran in: 0.01563239097595215 sec\n",
      "multilayer_perceptron ran in: 0.0 sec\n",
      "multilayer_perceptron ran in: 0.0 sec\n",
      "multilayer_perceptron ran in: 0.0 sec\n",
      "multilayer_perceptron ran in: 0.0 sec\n",
      "multilayer_perceptron ran in: 0.0 sec\n"
     ]
    },
    {
     "name": "stderr",
     "output_type": "stream",
     "text": [
      " 16%|█▌        | 88/560 [00:02<00:14, 33.22it/s]"
     ]
    },
    {
     "name": "stdout",
     "output_type": "stream",
     "text": [
      "multilayer_perceptron ran in: 0.015649795532226562 sec\n",
      "multilayer_perceptron ran in: 0.0 sec\n",
      "multilayer_perceptron ran in: 0.0 sec\n",
      "multilayer_perceptron ran in: 0.0 sec\n",
      "multilayer_perceptron ran in: 0.0 sec\n",
      "multilayer_perceptron ran in: 0.0 sec\n",
      "multilayer_perceptron ran in: 0.0 sec\n"
     ]
    },
    {
     "name": "stderr",
     "output_type": "stream",
     "text": [
      " 17%|█▋        | 96/560 [00:02<00:13, 33.47it/s]"
     ]
    },
    {
     "name": "stdout",
     "output_type": "stream",
     "text": [
      "multilayer_perceptron ran in: 0.0 sec\n",
      "multilayer_perceptron ran in: 0.0 sec\n",
      "multilayer_perceptron ran in: 0.0 sec\n",
      "multilayer_perceptron ran in: 0.0 sec\n",
      "multilayer_perceptron ran in: 0.0 sec\n",
      "multilayer_perceptron ran in: 0.0 sec\n",
      "multilayer_perceptron ran in: 0.0 sec\n"
     ]
    },
    {
     "name": "stderr",
     "output_type": "stream",
     "text": [
      " 19%|█▊        | 104/560 [00:03<00:13, 33.07it/s]"
     ]
    },
    {
     "name": "stdout",
     "output_type": "stream",
     "text": [
      "multilayer_perceptron ran in: 0.006510496139526367 sec\n",
      "multilayer_perceptron ran in: 0.0 sec\n",
      "multilayer_perceptron ran in: 0.0 sec\n",
      "multilayer_perceptron ran in: 0.0 sec\n",
      "multilayer_perceptron ran in: 0.0 sec\n",
      "multilayer_perceptron ran in: 0.01563858985900879 sec\n",
      "multilayer_perceptron ran in: 0.015616178512573242 sec\n"
     ]
    },
    {
     "name": "stderr",
     "output_type": "stream",
     "text": [
      "\r",
      " 19%|█▉        | 108/560 [00:03<00:13, 33.49it/s]"
     ]
    },
    {
     "name": "stdout",
     "output_type": "stream",
     "text": [
      "multilayer_perceptron ran in: 0.0 sec\n",
      "multilayer_perceptron ran in: 0.0 sec\n",
      "multilayer_perceptron ran in: 0.0 sec\n",
      "multilayer_perceptron ran in: 0.0 sec\n",
      "multilayer_perceptron ran in: 0.0 sec\n",
      "multilayer_perceptron ran in: 0.0 sec\n"
     ]
    },
    {
     "name": "stderr",
     "output_type": "stream",
     "text": [
      " 21%|██        | 116/560 [00:03<00:13, 32.35it/s]"
     ]
    },
    {
     "name": "stdout",
     "output_type": "stream",
     "text": [
      "multilayer_perceptron ran in: 0.0 sec\n",
      "multilayer_perceptron ran in: 0.0 sec\n",
      "multilayer_perceptron ran in: 0.0 sec\n",
      "multilayer_perceptron ran in: 0.0 sec\n",
      "multilayer_perceptron ran in: 0.0 sec\n",
      "multilayer_perceptron ran in: 0.0 sec\n",
      "multilayer_perceptron ran in: 0.0 sec\n"
     ]
    },
    {
     "name": "stderr",
     "output_type": "stream",
     "text": [
      " 22%|██▏       | 124/560 [00:03<00:13, 33.42it/s]"
     ]
    },
    {
     "name": "stdout",
     "output_type": "stream",
     "text": [
      "multilayer_perceptron ran in: 0.0 sec\n",
      "multilayer_perceptron ran in: 0.0 sec\n",
      "multilayer_perceptron ran in: 0.015624046325683594 sec\n",
      "multilayer_perceptron ran in: 0.0 sec\n",
      "multilayer_perceptron ran in: 0.0 sec\n",
      "multilayer_perceptron ran in: 0.0 sec\n",
      "multilayer_perceptron ran in: 0.0 sec\n",
      "multilayer_perceptron ran in: 0.0 sec\n"
     ]
    },
    {
     "name": "stderr",
     "output_type": "stream",
     "text": [
      " 24%|██▎       | 132/560 [00:03<00:12, 33.41it/s]"
     ]
    },
    {
     "name": "stdout",
     "output_type": "stream",
     "text": [
      "multilayer_perceptron ran in: 0.0 sec\n",
      "multilayer_perceptron ran in: 0.0 sec\n",
      "multilayer_perceptron ran in: 0.0 sec\n",
      "multilayer_perceptron ran in: 0.0 sec\n",
      "multilayer_perceptron ran in: 0.0 sec\n",
      "multilayer_perceptron ran in: 0.0 sec\n",
      "multilayer_perceptron ran in: 0.0 sec\n"
     ]
    },
    {
     "name": "stderr",
     "output_type": "stream",
     "text": [
      "\r",
      " 24%|██▍       | 136/560 [00:04<00:13, 32.45it/s]"
     ]
    },
    {
     "name": "stdout",
     "output_type": "stream",
     "text": [
      "multilayer_perceptron ran in: 0.0 sec\n",
      "multilayer_perceptron ran in: 0.0 sec\n",
      "multilayer_perceptron ran in: 0.0 sec\n",
      "multilayer_perceptron ran in: 0.0 sec\n",
      "multilayer_perceptron ran in: 0.0 sec\n",
      "multilayer_perceptron ran in: 0.006524085998535156 sec\n",
      "multilayer_perceptron ran in: 0.0 sec\n"
     ]
    },
    {
     "name": "stderr",
     "output_type": "stream",
     "text": [
      " 26%|██▌       | 144/560 [00:04<00:12, 33.47it/s]"
     ]
    },
    {
     "name": "stdout",
     "output_type": "stream",
     "text": [
      "multilayer_perceptron ran in: 0.0 sec\n",
      "multilayer_perceptron ran in: 0.015624046325683594 sec\n",
      "multilayer_perceptron ran in: 0.0 sec\n",
      "multilayer_perceptron ran in: 0.0 sec\n",
      "multilayer_perceptron ran in: 0.0 sec\n",
      "multilayer_perceptron ran in: 0.0 sec\n",
      "multilayer_perceptron ran in: 0.0 sec\n"
     ]
    },
    {
     "name": "stderr",
     "output_type": "stream",
     "text": [
      " 27%|██▋       | 152/560 [00:04<00:12, 32.54it/s]"
     ]
    },
    {
     "name": "stdout",
     "output_type": "stream",
     "text": [
      "multilayer_perceptron ran in: 0.0 sec\n",
      "multilayer_perceptron ran in: 0.0 sec\n",
      "multilayer_perceptron ran in: 0.0 sec\n",
      "multilayer_perceptron ran in: 0.0 sec\n",
      "multilayer_perceptron ran in: 0.0 sec\n",
      "multilayer_perceptron ran in: 0.0 sec\n",
      "multilayer_perceptron ran in: 0.0 sec\n"
     ]
    },
    {
     "name": "stderr",
     "output_type": "stream",
     "text": [
      " 29%|██▊       | 160/560 [00:04<00:11, 33.52it/s]"
     ]
    },
    {
     "name": "stdout",
     "output_type": "stream",
     "text": [
      "multilayer_perceptron ran in: 0.0 sec\n",
      "multilayer_perceptron ran in: 0.0 sec\n",
      "multilayer_perceptron ran in: 0.015615463256835938 sec\n",
      "multilayer_perceptron ran in: 0.0 sec\n",
      "multilayer_perceptron ran in: 0.0 sec\n",
      "multilayer_perceptron ran in: 0.0 sec\n"
     ]
    },
    {
     "name": "stderr",
     "output_type": "stream",
     "text": [
      "\r",
      " 29%|██▉       | 164/560 [00:04<00:12, 32.52it/s]"
     ]
    },
    {
     "name": "stdout",
     "output_type": "stream",
     "text": [
      "multilayer_perceptron ran in: 0.0 sec\n",
      "multilayer_perceptron ran in: 0.0 sec\n",
      "multilayer_perceptron ran in: 0.0 sec\n",
      "multilayer_perceptron ran in: 0.0 sec\n",
      "multilayer_perceptron ran in: 0.0 sec\n",
      "multilayer_perceptron ran in: 0.0 sec\n",
      "multilayer_perceptron ran in: 0.0 sec\n"
     ]
    },
    {
     "name": "stderr",
     "output_type": "stream",
     "text": [
      " 31%|███       | 172/560 [00:05<00:11, 32.97it/s]"
     ]
    },
    {
     "name": "stdout",
     "output_type": "stream",
     "text": [
      "multilayer_perceptron ran in: 0.0 sec\n",
      "multilayer_perceptron ran in: 0.0 sec\n",
      "multilayer_perceptron ran in: 0.0 sec\n",
      "multilayer_perceptron ran in: 0.0 sec\n",
      "multilayer_perceptron ran in: 0.0 sec\n",
      "multilayer_perceptron ran in: 0.0 sec\n",
      "multilayer_perceptron ran in: 0.0 sec\n",
      "multilayer_perceptron ran in: 0.0 sec\n"
     ]
    },
    {
     "name": "stderr",
     "output_type": "stream",
     "text": [
      " 32%|███▏      | 180/560 [00:05<00:11, 33.88it/s]"
     ]
    },
    {
     "name": "stdout",
     "output_type": "stream",
     "text": [
      "multilayer_perceptron ran in: 0.0 sec\n",
      "multilayer_perceptron ran in: 0.0 sec\n",
      "multilayer_perceptron ran in: 0.0 sec\n",
      "multilayer_perceptron ran in: 0.0 sec\n",
      "multilayer_perceptron ran in: 0.0 sec\n",
      "multilayer_perceptron ran in: 0.0 sec\n",
      "multilayer_perceptron ran in: 0.006520986557006836 sec\n",
      "multilayer_perceptron ran in: 0.0 sec\n"
     ]
    },
    {
     "name": "stderr",
     "output_type": "stream",
     "text": [
      " 34%|███▎      | 188/560 [00:05<00:11, 33.27it/s]"
     ]
    },
    {
     "name": "stdout",
     "output_type": "stream",
     "text": [
      "multilayer_perceptron ran in: 0.0 sec\n",
      "multilayer_perceptron ran in: 0.0 sec\n",
      "multilayer_perceptron ran in: 0.0 sec\n",
      "multilayer_perceptron ran in: 0.0 sec\n",
      "multilayer_perceptron ran in: 0.0 sec\n",
      "multilayer_perceptron ran in: 0.0 sec\n",
      "multilayer_perceptron ran in: 0.0 sec\n"
     ]
    },
    {
     "name": "stderr",
     "output_type": "stream",
     "text": [
      " 35%|███▌      | 196/560 [00:05<00:10, 33.50it/s]"
     ]
    },
    {
     "name": "stdout",
     "output_type": "stream",
     "text": [
      "multilayer_perceptron ran in: 0.0 sec\n",
      "multilayer_perceptron ran in: 0.0 sec\n",
      "multilayer_perceptron ran in: 0.015610694885253906 sec\n",
      "multilayer_perceptron ran in: 0.0 sec\n",
      "multilayer_perceptron ran in: 0.0 sec\n",
      "multilayer_perceptron ran in: 0.0 sec\n",
      "multilayer_perceptron ran in: 0.0 sec\n"
     ]
    },
    {
     "name": "stderr",
     "output_type": "stream",
     "text": [
      " 36%|███▋      | 204/560 [00:06<00:10, 34.00it/s]"
     ]
    },
    {
     "name": "stdout",
     "output_type": "stream",
     "text": [
      "multilayer_perceptron ran in: 0.0 sec\n",
      "multilayer_perceptron ran in: 0.0 sec\n",
      "multilayer_perceptron ran in: 0.0 sec\n",
      "multilayer_perceptron ran in: 0.0 sec\n",
      "multilayer_perceptron ran in: 0.006524562835693359 sec\n",
      "multilayer_perceptron ran in: 0.0 sec\n",
      "multilayer_perceptron ran in: 0.0 sec\n"
     ]
    },
    {
     "name": "stderr",
     "output_type": "stream",
     "text": [
      "\r",
      " 37%|███▋      | 208/560 [00:06<00:10, 32.84it/s]"
     ]
    },
    {
     "name": "stdout",
     "output_type": "stream",
     "text": [
      "multilayer_perceptron ran in: 0.0 sec\n",
      "multilayer_perceptron ran in: 0.0 sec\n",
      "multilayer_perceptron ran in: 0.01561427116394043 sec\n",
      "multilayer_perceptron ran in: 0.0 sec\n",
      "multilayer_perceptron ran in: 0.0 sec\n",
      "multilayer_perceptron ran in: 0.0 sec\n"
     ]
    },
    {
     "name": "stderr",
     "output_type": "stream",
     "text": [
      " 39%|███▊      | 216/560 [00:06<00:10, 33.29it/s]"
     ]
    },
    {
     "name": "stdout",
     "output_type": "stream",
     "text": [
      "multilayer_perceptron ran in: 0.0 sec\n",
      "multilayer_perceptron ran in: 0.0 sec\n",
      "multilayer_perceptron ran in: 0.0 sec\n",
      "multilayer_perceptron ran in: 0.0 sec\n",
      "multilayer_perceptron ran in: 0.0 sec\n",
      "multilayer_perceptron ran in: 0.015635967254638672 sec\n",
      "multilayer_perceptron ran in: 0.0 sec\n"
     ]
    },
    {
     "name": "stderr",
     "output_type": "stream",
     "text": [
      "\r",
      " 39%|███▉      | 220/560 [00:06<00:10, 33.65it/s]"
     ]
    },
    {
     "name": "stdout",
     "output_type": "stream",
     "text": [
      "multilayer_perceptron ran in: 0.0 sec\n",
      "multilayer_perceptron ran in: 0.0 sec\n",
      "multilayer_perceptron ran in: 0.0 sec\n",
      "multilayer_perceptron ran in: 0.0 sec\n",
      "multilayer_perceptron ran in: 0.0 sec\n",
      "multilayer_perceptron ran in: 0.0 sec\n"
     ]
    },
    {
     "name": "stderr",
     "output_type": "stream",
     "text": [
      " 41%|████      | 228/560 [00:06<00:10, 32.77it/s]"
     ]
    },
    {
     "name": "stdout",
     "output_type": "stream",
     "text": [
      "multilayer_perceptron ran in: 0.0 sec\n",
      "multilayer_perceptron ran in: 0.0 sec\n",
      "multilayer_perceptron ran in: 0.01564645767211914 sec\n",
      "multilayer_perceptron ran in: 0.0 sec\n",
      "multilayer_perceptron ran in: 0.0 sec\n",
      "multilayer_perceptron ran in: 0.0 sec\n",
      "multilayer_perceptron ran in: 0.0 sec\n"
     ]
    },
    {
     "name": "stderr",
     "output_type": "stream",
     "text": [
      " 42%|████▏     | 236/560 [00:07<00:09, 32.87it/s]"
     ]
    },
    {
     "name": "stdout",
     "output_type": "stream",
     "text": [
      "multilayer_perceptron ran in: 0.015623807907104492 sec\n",
      "multilayer_perceptron ran in: 0.0 sec\n",
      "multilayer_perceptron ran in: 0.0 sec\n",
      "multilayer_perceptron ran in: 0.0 sec\n",
      "multilayer_perceptron ran in: 0.0 sec\n",
      "multilayer_perceptron ran in: 0.0 sec\n",
      "multilayer_perceptron ran in: 0.015623331069946289 sec\n",
      "multilayer_perceptron ran in: 0.0 sec\n"
     ]
    },
    {
     "name": "stderr",
     "output_type": "stream",
     "text": [
      " 44%|████▎     | 244/560 [00:07<00:09, 33.32it/s]"
     ]
    },
    {
     "name": "stdout",
     "output_type": "stream",
     "text": [
      "multilayer_perceptron ran in: 0.0 sec\n",
      "multilayer_perceptron ran in: 0.0 sec\n",
      "multilayer_perceptron ran in: 0.0 sec\n",
      "multilayer_perceptron ran in: 0.015623807907104492 sec\n",
      "multilayer_perceptron ran in: 0.0 sec\n",
      "multilayer_perceptron ran in: 0.0 sec\n",
      "multilayer_perceptron ran in: 0.0 sec\n",
      "multilayer_perceptron ran in: 0.0 sec\n"
     ]
    },
    {
     "name": "stderr",
     "output_type": "stream",
     "text": [
      " 45%|████▌     | 252/560 [00:07<00:09, 33.63it/s]"
     ]
    },
    {
     "name": "stdout",
     "output_type": "stream",
     "text": [
      "multilayer_perceptron ran in: 0.0 sec\n",
      "multilayer_perceptron ran in: 0.0 sec\n",
      "multilayer_perceptron ran in: 0.0 sec\n",
      "multilayer_perceptron ran in: 0.015633583068847656 sec\n",
      "multilayer_perceptron ran in: 0.0 sec\n",
      "multilayer_perceptron ran in: 0.0 sec\n",
      "multilayer_perceptron ran in: 0.0 sec\n"
     ]
    },
    {
     "name": "stderr",
     "output_type": "stream",
     "text": [
      "\r",
      " 46%|████▌     | 256/560 [00:07<00:08, 33.89it/s]"
     ]
    },
    {
     "name": "stdout",
     "output_type": "stream",
     "text": [
      "multilayer_perceptron ran in: 0.0 sec\n",
      "multilayer_perceptron ran in: 0.0 sec\n",
      "multilayer_perceptron ran in: 0.0 sec\n",
      "multilayer_perceptron ran in: 0.0 sec\n",
      "multilayer_perceptron ran in: 0.0 sec\n",
      "multilayer_perceptron ran in: 0.0 sec\n",
      "multilayer_perceptron ran in: 0.0 sec\n"
     ]
    },
    {
     "name": "stderr",
     "output_type": "stream",
     "text": [
      " 47%|████▋     | 264/560 [00:07<00:08, 33.27it/s]"
     ]
    },
    {
     "name": "stdout",
     "output_type": "stream",
     "text": [
      "multilayer_perceptron ran in: 0.0 sec\n",
      "multilayer_perceptron ran in: 0.0 sec\n",
      "multilayer_perceptron ran in: 0.0 sec\n",
      "multilayer_perceptron ran in: 0.015625476837158203 sec\n",
      "multilayer_perceptron ran in: 0.0 sec\n",
      "multilayer_perceptron ran in: 0.0 sec\n",
      "multilayer_perceptron ran in: 0.0 sec\n"
     ]
    },
    {
     "name": "stderr",
     "output_type": "stream",
     "text": [
      " 49%|████▊     | 272/560 [00:08<00:08, 33.34it/s]"
     ]
    },
    {
     "name": "stdout",
     "output_type": "stream",
     "text": [
      "multilayer_perceptron ran in: 0.0 sec\n",
      "multilayer_perceptron ran in: 0.0 sec\n",
      "multilayer_perceptron ran in: 0.0 sec\n",
      "multilayer_perceptron ran in: 0.0 sec\n",
      "multilayer_perceptron ran in: 0.0 sec\n",
      "multilayer_perceptron ran in: 0.0 sec\n",
      "multilayer_perceptron ran in: 0.0 sec\n"
     ]
    },
    {
     "name": "stderr",
     "output_type": "stream",
     "text": [
      " 50%|█████     | 280/560 [00:08<00:08, 33.92it/s]"
     ]
    },
    {
     "name": "stdout",
     "output_type": "stream",
     "text": [
      "multilayer_perceptron ran in: 0.0 sec\n",
      "multilayer_perceptron ran in: 0.0 sec\n",
      "multilayer_perceptron ran in: 0.0 sec\n",
      "multilayer_perceptron ran in: 0.015625953674316406 sec\n",
      "multilayer_perceptron ran in: 0.0 sec\n",
      "multilayer_perceptron ran in: 0.0 sec\n",
      "multilayer_perceptron ran in: 0.0 sec\n"
     ]
    },
    {
     "name": "stderr",
     "output_type": "stream",
     "text": [
      "\r",
      " 51%|█████     | 284/560 [00:08<00:08, 34.10it/s]"
     ]
    },
    {
     "name": "stdout",
     "output_type": "stream",
     "text": [
      "multilayer_perceptron ran in: 0.0 sec\n",
      "multilayer_perceptron ran in: 0.0 sec\n",
      "multilayer_perceptron ran in: 0.0 sec\n"
     ]
    },
    {
     "name": "stderr",
     "output_type": "stream",
     "text": [
      "\r",
      " 51%|█████▏    | 288/560 [00:08<00:10, 25.26it/s]"
     ]
    },
    {
     "name": "stdout",
     "output_type": "stream",
     "text": [
      "multilayer_perceptron ran in: 0.0 sec\n",
      "multilayer_perceptron ran in: 0.0 sec\n",
      "multilayer_perceptron ran in: 0.0 sec\n",
      "multilayer_perceptron ran in: 0.0 sec\n",
      "multilayer_perceptron ran in: 0.0 sec\n",
      "multilayer_perceptron ran in: 0.0 sec\n",
      "multilayer_perceptron ran in: 0.0 sec\n"
     ]
    },
    {
     "name": "stderr",
     "output_type": "stream",
     "text": [
      " 53%|█████▎    | 296/560 [00:09<00:09, 29.26it/s]"
     ]
    },
    {
     "name": "stdout",
     "output_type": "stream",
     "text": [
      "multilayer_perceptron ran in: 0.0 sec\n",
      "multilayer_perceptron ran in: 0.0 sec\n",
      "multilayer_perceptron ran in: 0.015610694885253906 sec\n",
      "multilayer_perceptron ran in: 0.01562809944152832 sec\n",
      "multilayer_perceptron ran in: 0.0 sec\n",
      "multilayer_perceptron ran in: 0.0 sec\n",
      "multilayer_perceptron ran in: 0.0 sec\n"
     ]
    },
    {
     "name": "stderr",
     "output_type": "stream",
     "text": [
      " 54%|█████▍    | 304/560 [00:09<00:08, 30.92it/s]"
     ]
    },
    {
     "name": "stdout",
     "output_type": "stream",
     "text": [
      "multilayer_perceptron ran in: 0.015635967254638672 sec\n",
      "multilayer_perceptron ran in: 0.0 sec\n",
      "multilayer_perceptron ran in: 0.0 sec\n",
      "multilayer_perceptron ran in: 0.0 sec\n",
      "multilayer_perceptron ran in: 0.0 sec\n",
      "multilayer_perceptron ran in: 0.0 sec\n",
      "multilayer_perceptron ran in: 0.0 sec\n"
     ]
    },
    {
     "name": "stderr",
     "output_type": "stream",
     "text": [
      " 56%|█████▌    | 312/560 [00:09<00:07, 31.47it/s]"
     ]
    },
    {
     "name": "stdout",
     "output_type": "stream",
     "text": [
      "multilayer_perceptron ran in: 0.0 sec\n",
      "multilayer_perceptron ran in: 0.0 sec\n",
      "multilayer_perceptron ran in: 0.0 sec\n",
      "multilayer_perceptron ran in: 0.015630483627319336 sec\n",
      "multilayer_perceptron ran in: 0.0 sec\n",
      "multilayer_perceptron ran in: 0.0 sec\n",
      "multilayer_perceptron ran in: 0.0 sec\n"
     ]
    },
    {
     "name": "stderr",
     "output_type": "stream",
     "text": [
      "\r",
      " 56%|█████▋    | 316/560 [00:09<00:07, 31.14it/s]"
     ]
    },
    {
     "name": "stdout",
     "output_type": "stream",
     "text": [
      "multilayer_perceptron ran in: 0.0 sec\n",
      "multilayer_perceptron ran in: 0.0 sec\n",
      "multilayer_perceptron ran in: 0.0156400203704834 sec\n",
      "multilayer_perceptron ran in: 0.0 sec\n",
      "multilayer_perceptron ran in: 0.015622854232788086 sec\n",
      "multilayer_perceptron ran in: 0.0 sec\n"
     ]
    },
    {
     "name": "stderr",
     "output_type": "stream",
     "text": [
      " 58%|█████▊    | 324/560 [00:09<00:07, 31.08it/s]"
     ]
    },
    {
     "name": "stdout",
     "output_type": "stream",
     "text": [
      "multilayer_perceptron ran in: 0.0 sec\n",
      "multilayer_perceptron ran in: 0.0 sec\n",
      "multilayer_perceptron ran in: 0.0 sec\n",
      "multilayer_perceptron ran in: 0.0 sec\n",
      "multilayer_perceptron ran in: 0.0 sec\n",
      "multilayer_perceptron ran in: 0.0 sec\n"
     ]
    },
    {
     "name": "stderr",
     "output_type": "stream",
     "text": [
      "\r",
      " 59%|█████▊    | 328/560 [00:10<00:07, 32.04it/s]"
     ]
    },
    {
     "name": "stdout",
     "output_type": "stream",
     "text": [
      "multilayer_perceptron ran in: 0.0 sec\n",
      "multilayer_perceptron ran in: 0.0 sec\n",
      "multilayer_perceptron ran in: 0.0 sec\n",
      "multilayer_perceptron ran in: 0.0 sec\n",
      "multilayer_perceptron ran in: 0.0 sec\n",
      "multilayer_perceptron ran in: 0.0 sec\n",
      "multilayer_perceptron ran in: 0.0 sec\n"
     ]
    },
    {
     "name": "stderr",
     "output_type": "stream",
     "text": [
      " 60%|██████    | 336/560 [00:10<00:07, 31.94it/s]"
     ]
    },
    {
     "name": "stdout",
     "output_type": "stream",
     "text": [
      "multilayer_perceptron ran in: 0.0 sec\n",
      "multilayer_perceptron ran in: 0.015622377395629883 sec\n",
      "multilayer_perceptron ran in: 0.0 sec\n",
      "multilayer_perceptron ran in: 0.0 sec\n",
      "multilayer_perceptron ran in: 0.0 sec\n",
      "multilayer_perceptron ran in: 0.0 sec\n",
      "multilayer_perceptron ran in: 0.0 sec\n"
     ]
    },
    {
     "name": "stderr",
     "output_type": "stream",
     "text": [
      " 61%|██████▏   | 344/560 [00:10<00:06, 31.93it/s]"
     ]
    },
    {
     "name": "stdout",
     "output_type": "stream",
     "text": [
      "multilayer_perceptron ran in: 0.0 sec\n",
      "multilayer_perceptron ran in: 0.0 sec\n",
      "multilayer_perceptron ran in: 0.0 sec\n",
      "multilayer_perceptron ran in: 0.0 sec\n",
      "multilayer_perceptron ran in: 0.0 sec\n",
      "multilayer_perceptron ran in: 0.015638351440429688 sec\n"
     ]
    },
    {
     "name": "stderr",
     "output_type": "stream",
     "text": [
      "\r",
      " 62%|██████▏   | 348/560 [00:10<00:06, 31.46it/s]"
     ]
    },
    {
     "name": "stdout",
     "output_type": "stream",
     "text": [
      "multilayer_perceptron ran in: 0.0 sec\n",
      "multilayer_perceptron ran in: 0.0 sec\n",
      "multilayer_perceptron ran in: 0.0 sec\n",
      "multilayer_perceptron ran in: 0.015623807907104492 sec\n",
      "multilayer_perceptron ran in: 0.0 sec\n",
      "multilayer_perceptron ran in: 0.0 sec\n"
     ]
    },
    {
     "name": "stderr",
     "output_type": "stream",
     "text": [
      "\r",
      " 63%|██████▎   | 352/560 [00:10<00:06, 30.67it/s]"
     ]
    },
    {
     "name": "stdout",
     "output_type": "stream",
     "text": [
      "multilayer_perceptron ran in: 0.0 sec\n",
      "multilayer_perceptron ran in: 0.0 sec\n",
      "multilayer_perceptron ran in: 0.0 sec\n",
      "multilayer_perceptron ran in: 0.0 sec\n",
      "multilayer_perceptron ran in: 0.0 sec\n",
      "multilayer_perceptron ran in: 0.0 sec\n"
     ]
    },
    {
     "name": "stderr",
     "output_type": "stream",
     "text": [
      " 64%|██████▍   | 359/560 [00:11<00:07, 28.56it/s]"
     ]
    },
    {
     "name": "stdout",
     "output_type": "stream",
     "text": [
      "multilayer_perceptron ran in: 0.0 sec\n",
      "multilayer_perceptron ran in: 0.0 sec\n",
      "multilayer_perceptron ran in: 0.0 sec\n",
      "multilayer_perceptron ran in: 0.015626907348632812 sec\n",
      "multilayer_perceptron ran in: 0.0 sec\n",
      "multilayer_perceptron ran in: 0.0 sec\n"
     ]
    },
    {
     "name": "stderr",
     "output_type": "stream",
     "text": [
      " 65%|██████▌   | 366/560 [00:11<00:06, 30.53it/s]"
     ]
    },
    {
     "name": "stdout",
     "output_type": "stream",
     "text": [
      "multilayer_perceptron ran in: 0.0 sec\n",
      "multilayer_perceptron ran in: 0.0 sec\n",
      "multilayer_perceptron ran in: 0.0 sec\n",
      "multilayer_perceptron ran in: 0.0 sec\n",
      "multilayer_perceptron ran in: 0.006513357162475586 sec\n",
      "multilayer_perceptron ran in: 0.0 sec\n",
      "multilayer_perceptron ran in: 0.0 sec\n"
     ]
    },
    {
     "name": "stderr",
     "output_type": "stream",
     "text": [
      " 67%|██████▋   | 374/560 [00:11<00:05, 31.31it/s]"
     ]
    },
    {
     "name": "stdout",
     "output_type": "stream",
     "text": [
      "multilayer_perceptron ran in: 0.0 sec\n",
      "multilayer_perceptron ran in: 0.0 sec\n",
      "multilayer_perceptron ran in: 0.0 sec\n",
      "multilayer_perceptron ran in: 0.0 sec\n",
      "multilayer_perceptron ran in: 0.0 sec\n",
      "multilayer_perceptron ran in: 0.0 sec\n"
     ]
    },
    {
     "name": "stderr",
     "output_type": "stream",
     "text": [
      "\r",
      " 68%|██████▊   | 378/560 [00:11<00:05, 31.02it/s]"
     ]
    },
    {
     "name": "stdout",
     "output_type": "stream",
     "text": [
      "multilayer_perceptron ran in: 0.0 sec\n",
      "multilayer_perceptron ran in: 0.0 sec\n",
      "multilayer_perceptron ran in: 0.0 sec\n",
      "multilayer_perceptron ran in: 0.0 sec\n",
      "multilayer_perceptron ran in: 0.0 sec\n",
      "multilayer_perceptron ran in: 0.0 sec\n"
     ]
    },
    {
     "name": "stderr",
     "output_type": "stream",
     "text": [
      " 69%|██████▉   | 386/560 [00:11<00:05, 31.52it/s]"
     ]
    },
    {
     "name": "stdout",
     "output_type": "stream",
     "text": [
      "multilayer_perceptron ran in: 0.015621662139892578 sec\n",
      "multilayer_perceptron ran in: 0.0 sec\n",
      "multilayer_perceptron ran in: 0.0 sec\n",
      "multilayer_perceptron ran in: 0.01562809944152832 sec\n",
      "multilayer_perceptron ran in: 0.0 sec\n",
      "multilayer_perceptron ran in: 0.0 sec\n",
      "multilayer_perceptron ran in: 0.0 sec\n"
     ]
    },
    {
     "name": "stderr",
     "output_type": "stream",
     "text": [
      " 70%|███████   | 394/560 [00:12<00:05, 32.11it/s]"
     ]
    },
    {
     "name": "stdout",
     "output_type": "stream",
     "text": [
      "multilayer_perceptron ran in: 0.0 sec\n",
      "multilayer_perceptron ran in: 0.0 sec\n",
      "multilayer_perceptron ran in: 0.0 sec\n",
      "multilayer_perceptron ran in: 0.0 sec\n",
      "multilayer_perceptron ran in: 0.0 sec\n",
      "multilayer_perceptron ran in: 0.0 sec\n",
      "multilayer_perceptron ran in: 0.0 sec\n"
     ]
    },
    {
     "name": "stderr",
     "output_type": "stream",
     "text": [
      " 72%|███████▏  | 402/560 [00:12<00:04, 32.05it/s]"
     ]
    },
    {
     "name": "stdout",
     "output_type": "stream",
     "text": [
      "multilayer_perceptron ran in: 0.0 sec\n",
      "multilayer_perceptron ran in: 0.0 sec\n",
      "multilayer_perceptron ran in: 0.0 sec\n",
      "multilayer_perceptron ran in: 0.0 sec\n",
      "multilayer_perceptron ran in: 0.0 sec\n",
      "multilayer_perceptron ran in: 0.0 sec\n",
      "multilayer_perceptron ran in: 0.0 sec\n"
     ]
    },
    {
     "name": "stderr",
     "output_type": "stream",
     "text": [
      "\r",
      " 72%|███████▎  | 406/560 [00:12<00:04, 31.54it/s]"
     ]
    },
    {
     "name": "stdout",
     "output_type": "stream",
     "text": [
      "multilayer_perceptron ran in: 0.0 sec\n",
      "multilayer_perceptron ran in: 0.0 sec\n",
      "multilayer_perceptron ran in: 0.0 sec\n",
      "multilayer_perceptron ran in: 0.015645503997802734 sec\n",
      "multilayer_perceptron ran in: 0.0 sec\n",
      "multilayer_perceptron ran in: 0.0 sec\n"
     ]
    },
    {
     "name": "stderr",
     "output_type": "stream",
     "text": [
      " 74%|███████▍  | 414/560 [00:12<00:04, 31.76it/s]"
     ]
    },
    {
     "name": "stdout",
     "output_type": "stream",
     "text": [
      "multilayer_perceptron ran in: 0.0 sec\n",
      "multilayer_perceptron ran in: 0.0 sec\n",
      "multilayer_perceptron ran in: 0.0 sec\n",
      "multilayer_perceptron ran in: 0.015651464462280273 sec\n",
      "multilayer_perceptron ran in: 0.0 sec\n",
      "multilayer_perceptron ran in: 0.0 sec\n"
     ]
    },
    {
     "name": "stderr",
     "output_type": "stream",
     "text": [
      "\r",
      " 75%|███████▍  | 418/560 [00:12<00:04, 32.03it/s]"
     ]
    },
    {
     "name": "stdout",
     "output_type": "stream",
     "text": [
      "multilayer_perceptron ran in: 0.0 sec\n",
      "multilayer_perceptron ran in: 0.0 sec\n",
      "multilayer_perceptron ran in: 0.0 sec\n",
      "multilayer_perceptron ran in: 0.0 sec\n",
      "multilayer_perceptron ran in: 0.015625715255737305 sec\n",
      "multilayer_perceptron ran in: 0.0 sec\n",
      "multilayer_perceptron ran in: 0.0 sec\n"
     ]
    },
    {
     "name": "stderr",
     "output_type": "stream",
     "text": [
      " 76%|███████▌  | 426/560 [00:13<00:04, 32.00it/s]"
     ]
    },
    {
     "name": "stdout",
     "output_type": "stream",
     "text": [
      "multilayer_perceptron ran in: 0.0 sec\n",
      "multilayer_perceptron ran in: 0.0 sec\n",
      "multilayer_perceptron ran in: 0.0 sec\n",
      "multilayer_perceptron ran in: 0.0 sec\n",
      "multilayer_perceptron ran in: 0.0 sec\n",
      "multilayer_perceptron ran in: 0.0 sec\n",
      "multilayer_perceptron ran in: 0.0 sec\n"
     ]
    },
    {
     "name": "stderr",
     "output_type": "stream",
     "text": [
      " 78%|███████▊  | 434/560 [00:13<00:03, 31.51it/s]"
     ]
    },
    {
     "name": "stdout",
     "output_type": "stream",
     "text": [
      "multilayer_perceptron ran in: 0.0 sec\n",
      "multilayer_perceptron ran in: 0.0 sec\n",
      "multilayer_perceptron ran in: 0.006511688232421875 sec\n",
      "multilayer_perceptron ran in: 0.0 sec\n",
      "multilayer_perceptron ran in: 0.0 sec\n",
      "multilayer_perceptron ran in: 0.0 sec\n"
     ]
    },
    {
     "name": "stderr",
     "output_type": "stream",
     "text": [
      "\r",
      " 78%|███████▊  | 438/560 [00:13<00:03, 32.35it/s]"
     ]
    },
    {
     "name": "stdout",
     "output_type": "stream",
     "text": [
      "multilayer_perceptron ran in: 0.0 sec\n",
      "multilayer_perceptron ran in: 0.0 sec\n",
      "multilayer_perceptron ran in: 0.0 sec\n",
      "multilayer_perceptron ran in: 0.0 sec\n",
      "multilayer_perceptron ran in: 0.0 sec\n",
      "multilayer_perceptron ran in: 0.0 sec\n",
      "multilayer_perceptron ran in: 0.0 sec\n"
     ]
    },
    {
     "name": "stderr",
     "output_type": "stream",
     "text": [
      " 80%|███████▉  | 446/560 [00:13<00:03, 32.53it/s]"
     ]
    },
    {
     "name": "stdout",
     "output_type": "stream",
     "text": [
      "multilayer_perceptron ran in: 0.0 sec\n",
      "multilayer_perceptron ran in: 0.0 sec\n",
      "multilayer_perceptron ran in: 0.0 sec\n",
      "multilayer_perceptron ran in: 0.0 sec\n",
      "multilayer_perceptron ran in: 0.0 sec\n",
      "multilayer_perceptron ran in: 0.006514549255371094 sec\n",
      "multilayer_perceptron ran in: 0.0 sec\n"
     ]
    },
    {
     "name": "stderr",
     "output_type": "stream",
     "text": [
      " 81%|████████  | 454/560 [00:14<00:03, 31.89it/s]"
     ]
    },
    {
     "name": "stdout",
     "output_type": "stream",
     "text": [
      "multilayer_perceptron ran in: 0.0 sec\n",
      "multilayer_perceptron ran in: 0.0 sec\n",
      "multilayer_perceptron ran in: 0.0 sec\n",
      "multilayer_perceptron ran in: 0.0 sec\n",
      "multilayer_perceptron ran in: 0.0 sec\n",
      "multilayer_perceptron ran in: 0.0 sec\n"
     ]
    },
    {
     "name": "stderr",
     "output_type": "stream",
     "text": [
      "\r",
      " 82%|████████▏ | 458/560 [00:14<00:03, 32.63it/s]"
     ]
    },
    {
     "name": "stdout",
     "output_type": "stream",
     "text": [
      "multilayer_perceptron ran in: 0.0 sec\n",
      "multilayer_perceptron ran in: 0.015620231628417969 sec\n",
      "multilayer_perceptron ran in: 0.0 sec\n",
      "multilayer_perceptron ran in: 0.0 sec\n",
      "multilayer_perceptron ran in: 0.0 sec\n",
      "multilayer_perceptron ran in: 0.0 sec\n",
      "multilayer_perceptron ran in: 0.0 sec\n"
     ]
    },
    {
     "name": "stderr",
     "output_type": "stream",
     "text": [
      " 83%|████████▎ | 466/560 [00:14<00:02, 32.15it/s]"
     ]
    },
    {
     "name": "stdout",
     "output_type": "stream",
     "text": [
      "multilayer_perceptron ran in: 0.0 sec\n",
      "multilayer_perceptron ran in: 0.0 sec\n",
      "multilayer_perceptron ran in: 0.0 sec\n",
      "multilayer_perceptron ran in: 0.0 sec\n",
      "multilayer_perceptron ran in: 0.0 sec\n",
      "multilayer_perceptron ran in: 0.0 sec\n",
      "multilayer_perceptron ran in: 0.0 sec\n"
     ]
    },
    {
     "name": "stderr",
     "output_type": "stream",
     "text": [
      " 85%|████████▍ | 474/560 [00:14<00:02, 33.31it/s]"
     ]
    },
    {
     "name": "stdout",
     "output_type": "stream",
     "text": [
      "multilayer_perceptron ran in: 0.0 sec\n",
      "multilayer_perceptron ran in: 0.0 sec\n",
      "multilayer_perceptron ran in: 0.0 sec\n",
      "multilayer_perceptron ran in: 0.0 sec\n",
      "multilayer_perceptron ran in: 0.0 sec\n",
      "multilayer_perceptron ran in: 0.0 sec\n"
     ]
    },
    {
     "name": "stderr",
     "output_type": "stream",
     "text": [
      "\r",
      " 85%|████████▌ | 478/560 [00:14<00:02, 32.39it/s]"
     ]
    },
    {
     "name": "stdout",
     "output_type": "stream",
     "text": [
      "multilayer_perceptron ran in: 0.0 sec\n",
      "multilayer_perceptron ran in: 0.0 sec\n",
      "multilayer_perceptron ran in: 0.0 sec\n",
      "multilayer_perceptron ran in: 0.0 sec\n",
      "multilayer_perceptron ran in: 0.0 sec\n",
      "multilayer_perceptron ran in: 0.0 sec\n",
      "multilayer_perceptron ran in: 0.0 sec\n"
     ]
    },
    {
     "name": "stderr",
     "output_type": "stream",
     "text": [
      " 87%|████████▋ | 486/560 [00:15<00:02, 32.90it/s]"
     ]
    },
    {
     "name": "stdout",
     "output_type": "stream",
     "text": [
      "multilayer_perceptron ran in: 0.0 sec\n",
      "multilayer_perceptron ran in: 0.0 sec\n",
      "multilayer_perceptron ran in: 0.0 sec\n",
      "multilayer_perceptron ran in: 0.0 sec\n",
      "multilayer_perceptron ran in: 0.01561117172241211 sec\n",
      "multilayer_perceptron ran in: 0.0 sec\n",
      "multilayer_perceptron ran in: 0.0 sec\n"
     ]
    },
    {
     "name": "stderr",
     "output_type": "stream",
     "text": [
      " 88%|████████▊ | 494/560 [00:15<00:02, 32.79it/s]"
     ]
    },
    {
     "name": "stdout",
     "output_type": "stream",
     "text": [
      "multilayer_perceptron ran in: 0.0 sec\n",
      "multilayer_perceptron ran in: 0.0 sec\n",
      "multilayer_perceptron ran in: 0.0 sec\n",
      "multilayer_perceptron ran in: 0.0 sec\n",
      "multilayer_perceptron ran in: 0.0 sec\n",
      "multilayer_perceptron ran in: 0.0 sec\n"
     ]
    },
    {
     "name": "stderr",
     "output_type": "stream",
     "text": [
      "\r",
      " 89%|████████▉ | 498/560 [00:15<00:01, 32.94it/s]"
     ]
    },
    {
     "name": "stdout",
     "output_type": "stream",
     "text": [
      "multilayer_perceptron ran in: 0.0 sec\n",
      "multilayer_perceptron ran in: 0.0 sec\n",
      "multilayer_perceptron ran in: 0.0 sec\n",
      "multilayer_perceptron ran in: 0.0 sec\n",
      "multilayer_perceptron ran in: 0.0 sec\n",
      "multilayer_perceptron ran in: 0.0 sec\n",
      "multilayer_perceptron ran in: 0.0 sec\n"
     ]
    },
    {
     "name": "stderr",
     "output_type": "stream",
     "text": [
      " 90%|█████████ | 506/560 [00:15<00:01, 32.70it/s]"
     ]
    },
    {
     "name": "stdout",
     "output_type": "stream",
     "text": [
      "multilayer_perceptron ran in: 0.0 sec\n",
      "multilayer_perceptron ran in: 0.0 sec\n",
      "multilayer_perceptron ran in: 0.0 sec\n",
      "multilayer_perceptron ran in: 0.0 sec\n",
      "multilayer_perceptron ran in: 0.0 sec\n",
      "multilayer_perceptron ran in: 0.0 sec\n",
      "multilayer_perceptron ran in: 0.0 sec\n"
     ]
    },
    {
     "name": "stderr",
     "output_type": "stream",
     "text": [
      " 92%|█████████▏| 514/560 [00:15<00:01, 32.70it/s]"
     ]
    },
    {
     "name": "stdout",
     "output_type": "stream",
     "text": [
      "multilayer_perceptron ran in: 0.006533145904541016 sec\n",
      "multilayer_perceptron ran in: 0.0 sec\n",
      "multilayer_perceptron ran in: 0.0 sec\n",
      "multilayer_perceptron ran in: 0.0 sec\n",
      "multilayer_perceptron ran in: 0.0 sec\n",
      "multilayer_perceptron ran in: 0.0 sec\n",
      "multilayer_perceptron ran in: 0.0 sec\n"
     ]
    },
    {
     "name": "stderr",
     "output_type": "stream",
     "text": [
      "\r",
      " 92%|█████████▎| 518/560 [00:16<00:01, 31.98it/s]"
     ]
    },
    {
     "name": "stdout",
     "output_type": "stream",
     "text": [
      "multilayer_perceptron ran in: 0.0 sec\n",
      "multilayer_perceptron ran in: 0.0 sec\n",
      "multilayer_perceptron ran in: 0.0 sec\n",
      "multilayer_perceptron ran in: 0.0 sec\n",
      "multilayer_perceptron ran in: 0.0 sec\n",
      "multilayer_perceptron ran in: 0.0 sec\n",
      "multilayer_perceptron ran in: 0.0 sec\n"
     ]
    },
    {
     "name": "stderr",
     "output_type": "stream",
     "text": [
      " 94%|█████████▍| 526/560 [00:16<00:01, 32.84it/s]"
     ]
    },
    {
     "name": "stdout",
     "output_type": "stream",
     "text": [
      "multilayer_perceptron ran in: 0.0 sec\n",
      "multilayer_perceptron ran in: 0.0 sec\n",
      "multilayer_perceptron ran in: 0.0 sec\n",
      "multilayer_perceptron ran in: 0.01564788818359375 sec\n",
      "multilayer_perceptron ran in: 0.0 sec\n",
      "multilayer_perceptron ran in: 0.015613317489624023 sec\n",
      "multilayer_perceptron ran in: 0.0 sec\n"
     ]
    },
    {
     "name": "stderr",
     "output_type": "stream",
     "text": [
      " 95%|█████████▌| 534/560 [00:16<00:00, 32.40it/s]"
     ]
    },
    {
     "name": "stdout",
     "output_type": "stream",
     "text": [
      "multilayer_perceptron ran in: 0.0 sec\n",
      "multilayer_perceptron ran in: 0.0 sec\n",
      "multilayer_perceptron ran in: 0.0 sec\n",
      "multilayer_perceptron ran in: 0.0 sec\n",
      "multilayer_perceptron ran in: 0.0 sec\n",
      "multilayer_perceptron ran in: 0.0 sec\n",
      "multilayer_perceptron ran in: 0.0 sec\n"
     ]
    },
    {
     "name": "stderr",
     "output_type": "stream",
     "text": [
      " 97%|█████████▋| 542/560 [00:16<00:00, 33.06it/s]"
     ]
    },
    {
     "name": "stdout",
     "output_type": "stream",
     "text": [
      "multilayer_perceptron ran in: 0.0 sec\n",
      "multilayer_perceptron ran in: 0.0 sec\n",
      "multilayer_perceptron ran in: 0.0 sec\n",
      "multilayer_perceptron ran in: 0.0 sec\n",
      "multilayer_perceptron ran in: 0.0 sec\n",
      "multilayer_perceptron ran in: 0.0 sec\n",
      "multilayer_perceptron ran in: 0.0 sec\n"
     ]
    },
    {
     "name": "stderr",
     "output_type": "stream",
     "text": [
      "\r",
      " 98%|█████████▊| 546/560 [00:16<00:00, 32.22it/s]"
     ]
    },
    {
     "name": "stdout",
     "output_type": "stream",
     "text": [
      "multilayer_perceptron ran in: 0.0 sec\n",
      "multilayer_perceptron ran in: 0.0 sec\n",
      "multilayer_perceptron ran in: 0.0 sec\n",
      "multilayer_perceptron ran in: 0.0 sec\n",
      "multilayer_perceptron ran in: 0.0 sec\n",
      "multilayer_perceptron ran in: 0.0 sec\n",
      "multilayer_perceptron ran in: 0.0 sec\n"
     ]
    },
    {
     "name": "stderr",
     "output_type": "stream",
     "text": [
      " 99%|█████████▉| 554/560 [00:17<00:00, 32.46it/s]"
     ]
    },
    {
     "name": "stdout",
     "output_type": "stream",
     "text": [
      "multilayer_perceptron ran in: 0.0 sec\n",
      "multilayer_perceptron ran in: 0.0 sec\n",
      "multilayer_perceptron ran in: 0.0 sec\n",
      "multilayer_perceptron ran in: 0.0 sec\n",
      "multilayer_perceptron ran in: 0.0 sec\n",
      "multilayer_perceptron ran in: 0.0 sec\n",
      "multilayer_perceptron ran in: 0.015625 sec\n"
     ]
    },
    {
     "name": "stderr",
     "output_type": "stream",
     "text": [
      "100%|██████████| 560/560 [00:17<00:00, 32.41it/s]\n"
     ]
    },
    {
     "name": "stdout",
     "output_type": "stream",
     "text": [
      "multilayer_perceptron ran in: 0.0 sec\n",
      "multilayer_perceptron ran in: 0.0 sec\n",
      "multilayer_perceptron ran in: 0.0 sec\n",
      "Epoch: 10 Cost=137310.8750\n"
     ]
    },
    {
     "name": "stderr",
     "output_type": "stream",
     "text": [
      "  1%|          | 3/560 [00:00<00:18, 29.95it/s]"
     ]
    },
    {
     "name": "stdout",
     "output_type": "stream",
     "text": [
      "multilayer_perceptron ran in: 0.0 sec\n",
      "multilayer_perceptron ran in: 0.0 sec\n",
      "multilayer_perceptron ran in: 0.0 sec\n"
     ]
    },
    {
     "name": "stderr",
     "output_type": "stream",
     "text": [
      "\r",
      "  1%|          | 6/560 [00:00<00:18, 29.93it/s]"
     ]
    },
    {
     "name": "stdout",
     "output_type": "stream",
     "text": [
      "multilayer_perceptron ran in: 0.0 sec\n",
      "multilayer_perceptron ran in: 0.0 sec\n",
      "multilayer_perceptron ran in: 0.0 sec\n",
      "multilayer_perceptron ran in: 0.0 sec\n",
      "multilayer_perceptron ran in: 0.015648365020751953 sec\n",
      "multilayer_perceptron ran in: 0.01561117172241211 sec\n"
     ]
    },
    {
     "name": "stderr",
     "output_type": "stream",
     "text": [
      "  2%|▏         | 13/560 [00:00<00:17, 31.90it/s]"
     ]
    },
    {
     "name": "stdout",
     "output_type": "stream",
     "text": [
      "multilayer_perceptron ran in: 0.0 sec\n",
      "multilayer_perceptron ran in: 0.0 sec\n",
      "multilayer_perceptron ran in: 0.0 sec\n",
      "multilayer_perceptron ran in: 0.0 sec\n",
      "multilayer_perceptron ran in: 0.0 sec\n",
      "multilayer_perceptron ran in: 0.0 sec\n",
      "multilayer_perceptron ran in: 0.0 sec\n"
     ]
    },
    {
     "name": "stderr",
     "output_type": "stream",
     "text": [
      "  4%|▍         | 21/560 [00:00<00:17, 31.53it/s]"
     ]
    },
    {
     "name": "stdout",
     "output_type": "stream",
     "text": [
      "multilayer_perceptron ran in: 0.0 sec\n",
      "multilayer_perceptron ran in: 0.0 sec\n",
      "multilayer_perceptron ran in: 0.0 sec\n",
      "multilayer_perceptron ran in: 0.0 sec\n",
      "multilayer_perceptron ran in: 0.0 sec\n",
      "multilayer_perceptron ran in: 0.0 sec\n",
      "multilayer_perceptron ran in: 0.0 sec\n"
     ]
    },
    {
     "name": "stderr",
     "output_type": "stream",
     "text": [
      "\r",
      "  4%|▍         | 25/560 [00:00<00:16, 32.49it/s]"
     ]
    },
    {
     "name": "stdout",
     "output_type": "stream",
     "text": [
      "multilayer_perceptron ran in: 0.0 sec\n",
      "multilayer_perceptron ran in: 0.0 sec\n",
      "multilayer_perceptron ran in: 0.0 sec\n",
      "multilayer_perceptron ran in: 0.0 sec\n",
      "multilayer_perceptron ran in: 0.0 sec\n",
      "multilayer_perceptron ran in: 0.0 sec\n"
     ]
    },
    {
     "name": "stderr",
     "output_type": "stream",
     "text": [
      "\r",
      "  5%|▌         | 29/560 [00:00<00:16, 31.77it/s]"
     ]
    },
    {
     "name": "stdout",
     "output_type": "stream",
     "text": [
      "multilayer_perceptron ran in: 0.0 sec\n"
     ]
    },
    {
     "name": "stderr",
     "output_type": "stream",
     "text": [
      "\r",
      "  6%|▌         | 33/560 [00:01<00:16, 32.06it/s]"
     ]
    },
    {
     "name": "stdout",
     "output_type": "stream",
     "text": [
      "multilayer_perceptron ran in: 0.0 sec\n",
      "multilayer_perceptron ran in: 0.0 sec\n",
      "multilayer_perceptron ran in: 0.0 sec\n",
      "multilayer_perceptron ran in: 0.0 sec\n",
      "multilayer_perceptron ran in: 0.0 sec\n",
      "multilayer_perceptron ran in: 0.0 sec\n",
      "multilayer_perceptron ran in: 0.0 sec\n"
     ]
    },
    {
     "name": "stderr",
     "output_type": "stream",
     "text": [
      "  7%|▋         | 41/560 [00:01<00:16, 32.01it/s]"
     ]
    },
    {
     "name": "stdout",
     "output_type": "stream",
     "text": [
      "multilayer_perceptron ran in: 0.0 sec\n",
      "multilayer_perceptron ran in: 0.0 sec\n",
      "multilayer_perceptron ran in: 0.0 sec\n",
      "multilayer_perceptron ran in: 0.01562809944152832 sec\n",
      "multilayer_perceptron ran in: 0.0 sec\n",
      "multilayer_perceptron ran in: 0.0 sec\n",
      "multilayer_perceptron ran in: 0.0 sec\n"
     ]
    },
    {
     "name": "stderr",
     "output_type": "stream",
     "text": [
      "  9%|▉         | 49/560 [00:01<00:16, 31.85it/s]"
     ]
    },
    {
     "name": "stdout",
     "output_type": "stream",
     "text": [
      "multilayer_perceptron ran in: 0.0 sec\n",
      "multilayer_perceptron ran in: 0.0 sec\n",
      "multilayer_perceptron ran in: 0.0 sec\n",
      "multilayer_perceptron ran in: 0.0 sec\n",
      "multilayer_perceptron ran in: 0.0 sec\n",
      "multilayer_perceptron ran in: 0.0 sec\n",
      "multilayer_perceptron ran in: 0.0 sec\n"
     ]
    },
    {
     "name": "stderr",
     "output_type": "stream",
     "text": [
      "\r",
      "  9%|▉         | 53/560 [00:01<00:15, 32.61it/s]"
     ]
    },
    {
     "name": "stdout",
     "output_type": "stream",
     "text": [
      "multilayer_perceptron ran in: 0.0 sec\n",
      "multilayer_perceptron ran in: 0.0 sec\n",
      "multilayer_perceptron ran in: 0.0 sec\n",
      "multilayer_perceptron ran in: 0.0 sec\n"
     ]
    },
    {
     "name": "stderr",
     "output_type": "stream",
     "text": [
      "\r",
      " 10%|█         | 57/560 [00:01<00:15, 31.91it/s]"
     ]
    },
    {
     "name": "stdout",
     "output_type": "stream",
     "text": [
      "multilayer_perceptron ran in: 0.0 sec\n",
      "multilayer_perceptron ran in: 0.0 sec\n"
     ]
    },
    {
     "name": "stderr",
     "output_type": "stream",
     "text": [
      "\r",
      " 11%|█         | 61/560 [00:01<00:15, 32.66it/s]"
     ]
    },
    {
     "name": "stdout",
     "output_type": "stream",
     "text": [
      "multilayer_perceptron ran in: 0.0 sec\n",
      "multilayer_perceptron ran in: 0.0 sec\n",
      "multilayer_perceptron ran in: 0.0 sec\n",
      "multilayer_perceptron ran in: 0.0 sec\n",
      "multilayer_perceptron ran in: 0.015629291534423828 sec\n",
      "multilayer_perceptron ran in: 0.0 sec\n",
      "multilayer_perceptron ran in: 0.0 sec\n"
     ]
    },
    {
     "name": "stderr",
     "output_type": "stream",
     "text": [
      " 12%|█▏        | 69/560 [00:02<00:15, 31.80it/s]"
     ]
    },
    {
     "name": "stdout",
     "output_type": "stream",
     "text": [
      "multilayer_perceptron ran in: 0.0 sec\n",
      "multilayer_perceptron ran in: 0.0 sec\n",
      "multilayer_perceptron ran in: 0.0 sec\n",
      "multilayer_perceptron ran in: 0.015613794326782227 sec\n",
      "multilayer_perceptron ran in: 0.0 sec\n",
      "multilayer_perceptron ran in: 0.0 sec\n",
      "multilayer_perceptron ran in: 0.0 sec\n"
     ]
    },
    {
     "name": "stderr",
     "output_type": "stream",
     "text": [
      "\r",
      " 13%|█▎        | 73/560 [00:02<00:14, 32.57it/s]"
     ]
    },
    {
     "name": "stdout",
     "output_type": "stream",
     "text": [
      "multilayer_perceptron ran in: 0.0 sec\n",
      "multilayer_perceptron ran in: 0.0 sec\n",
      "multilayer_perceptron ran in: 0.0 sec\n",
      "multilayer_perceptron ran in: 0.0 sec\n",
      "multilayer_perceptron ran in: 0.0 sec\n"
     ]
    },
    {
     "name": "stderr",
     "output_type": "stream",
     "text": [
      "\r",
      " 14%|█▍        | 77/560 [00:02<00:15, 31.89it/s]"
     ]
    },
    {
     "name": "stdout",
     "output_type": "stream",
     "text": [
      "multilayer_perceptron ran in: 0.0 sec\n"
     ]
    },
    {
     "name": "stderr",
     "output_type": "stream",
     "text": [
      "\r",
      " 14%|█▍        | 81/560 [00:02<00:15, 31.43it/s]"
     ]
    },
    {
     "name": "stdout",
     "output_type": "stream",
     "text": [
      "multilayer_perceptron ran in: 0.0 sec\n",
      "multilayer_perceptron ran in: 0.0 sec\n",
      "multilayer_perceptron ran in: 0.0 sec\n",
      "multilayer_perceptron ran in: 0.0 sec\n",
      "multilayer_perceptron ran in: 0.0 sec\n",
      "multilayer_perceptron ran in: 0.0 sec\n",
      "multilayer_perceptron ran in: 0.0 sec\n"
     ]
    },
    {
     "name": "stderr",
     "output_type": "stream",
     "text": [
      " 16%|█▌        | 89/560 [00:02<00:15, 31.37it/s]"
     ]
    },
    {
     "name": "stdout",
     "output_type": "stream",
     "text": [
      "multilayer_perceptron ran in: 0.0 sec\n",
      "multilayer_perceptron ran in: 0.0 sec\n",
      "multilayer_perceptron ran in: 0.0 sec\n",
      "multilayer_perceptron ran in: 0.0 sec\n",
      "multilayer_perceptron ran in: 0.0 sec\n",
      "multilayer_perceptron ran in: 0.0 sec\n",
      "multilayer_perceptron ran in: 0.0 sec\n"
     ]
    },
    {
     "name": "stderr",
     "output_type": "stream",
     "text": [
      "\r",
      " 17%|█▋        | 93/560 [00:02<00:14, 32.25it/s]"
     ]
    },
    {
     "name": "stdout",
     "output_type": "stream",
     "text": [
      "multilayer_perceptron ran in: 0.0 sec\n",
      "multilayer_perceptron ran in: 0.0 sec\n",
      "multilayer_perceptron ran in: 0.0 sec\n",
      "multilayer_perceptron ran in: 0.0 sec\n",
      "multilayer_perceptron ran in: 0.0 sec\n"
     ]
    },
    {
     "name": "stderr",
     "output_type": "stream",
     "text": [
      "\r",
      " 17%|█▋        | 97/560 [00:03<00:14, 31.67it/s]"
     ]
    },
    {
     "name": "stdout",
     "output_type": "stream",
     "text": [
      "multilayer_perceptron ran in: 0.0 sec\n",
      "multilayer_perceptron ran in: 0.0 sec\n"
     ]
    },
    {
     "name": "stderr",
     "output_type": "stream",
     "text": [
      "\r",
      " 18%|█▊        | 101/560 [00:03<00:14, 31.97it/s]"
     ]
    },
    {
     "name": "stdout",
     "output_type": "stream",
     "text": [
      "multilayer_perceptron ran in: 0.0 sec\n",
      "multilayer_perceptron ran in: 0.0 sec\n",
      "multilayer_perceptron ran in: 0.0 sec\n",
      "multilayer_perceptron ran in: 0.0 sec\n",
      "multilayer_perceptron ran in: 0.0 sec\n",
      "multilayer_perceptron ran in: 0.0 sec\n",
      "multilayer_perceptron ran in: 0.0 sec\n"
     ]
    },
    {
     "name": "stderr",
     "output_type": "stream",
     "text": [
      " 19%|█▉        | 109/560 [00:03<00:13, 33.21it/s]"
     ]
    },
    {
     "name": "stdout",
     "output_type": "stream",
     "text": [
      "multilayer_perceptron ran in: 0.0 sec\n",
      "multilayer_perceptron ran in: 0.0 sec\n",
      "multilayer_perceptron ran in: 0.0 sec\n",
      "multilayer_perceptron ran in: 0.0 sec\n",
      "multilayer_perceptron ran in: 0.0 sec\n",
      "multilayer_perceptron ran in: 0.0 sec\n"
     ]
    },
    {
     "name": "stderr",
     "output_type": "stream",
     "text": [
      "\r",
      " 20%|██        | 113/560 [00:03<00:13, 32.32it/s]"
     ]
    },
    {
     "name": "stdout",
     "output_type": "stream",
     "text": [
      "multilayer_perceptron ran in: 0.0 sec\n",
      "multilayer_perceptron ran in: 0.015635251998901367 sec\n",
      "multilayer_perceptron ran in: 0.015625953674316406 sec\n",
      "multilayer_perceptron ran in: 0.0 sec\n",
      "multilayer_perceptron ran in: 0.0 sec\n"
     ]
    },
    {
     "name": "stderr",
     "output_type": "stream",
     "text": [
      "\r",
      " 21%|██        | 117/560 [00:03<00:13, 32.43it/s]"
     ]
    },
    {
     "name": "stdout",
     "output_type": "stream",
     "text": [
      "multilayer_perceptron ran in: 0.0 sec\n",
      "multilayer_perceptron ran in: 0.0 sec\n"
     ]
    },
    {
     "name": "stderr",
     "output_type": "stream",
     "text": [
      "\r",
      " 22%|██▏       | 121/560 [00:03<00:13, 31.79it/s]"
     ]
    },
    {
     "name": "stdout",
     "output_type": "stream",
     "text": [
      "multilayer_perceptron ran in: 0.0 sec\n",
      "multilayer_perceptron ran in: 0.0 sec\n",
      "multilayer_perceptron ran in: 0.0 sec\n",
      "multilayer_perceptron ran in: 0.0 sec\n",
      "multilayer_perceptron ran in: 0.0 sec\n",
      "multilayer_perceptron ran in: 0.0 sec\n",
      "multilayer_perceptron ran in: 0.0 sec\n"
     ]
    },
    {
     "name": "stderr",
     "output_type": "stream",
     "text": [
      " 23%|██▎       | 129/560 [00:04<00:13, 31.89it/s]"
     ]
    },
    {
     "name": "stdout",
     "output_type": "stream",
     "text": [
      "multilayer_perceptron ran in: 0.0 sec\n",
      "multilayer_perceptron ran in: 0.0 sec\n",
      "multilayer_perceptron ran in: 0.0 sec\n",
      "multilayer_perceptron ran in: 0.0 sec\n",
      "multilayer_perceptron ran in: 0.0010151863098144531 sec\n",
      "multilayer_perceptron ran in: 0.0 sec\n"
     ]
    },
    {
     "name": "stderr",
     "output_type": "stream",
     "text": [
      "\r",
      " 24%|██▍       | 133/560 [00:04<00:13, 32.14it/s]"
     ]
    },
    {
     "name": "stdout",
     "output_type": "stream",
     "text": [
      "multilayer_perceptron ran in: 0.015611886978149414 sec\n",
      "multilayer_perceptron ran in: 0.015610933303833008 sec\n",
      "multilayer_perceptron ran in: 0.0 sec\n",
      "multilayer_perceptron ran in: 0.0 sec\n",
      "multilayer_perceptron ran in: 0.0 sec\n",
      "multilayer_perceptron ran in: 0.0 sec\n"
     ]
    },
    {
     "name": "stderr",
     "output_type": "stream",
     "text": [
      "\r",
      " 24%|██▍       | 137/560 [00:04<00:13, 31.60it/s]"
     ]
    },
    {
     "name": "stdout",
     "output_type": "stream",
     "text": [
      "multilayer_perceptron ran in: 0.0 sec\n"
     ]
    },
    {
     "name": "stderr",
     "output_type": "stream",
     "text": [
      "\r",
      " 25%|██▌       | 141/560 [00:04<00:12, 32.42it/s]"
     ]
    },
    {
     "name": "stdout",
     "output_type": "stream",
     "text": [
      "multilayer_perceptron ran in: 0.0 sec\n",
      "multilayer_perceptron ran in: 0.0 sec\n",
      "multilayer_perceptron ran in: 0.0 sec\n",
      "multilayer_perceptron ran in: 0.0 sec\n",
      "multilayer_perceptron ran in: 0.006509542465209961 sec\n",
      "multilayer_perceptron ran in: 0.0 sec\n"
     ]
    },
    {
     "name": "stderr",
     "output_type": "stream",
     "text": [
      "\r",
      " 26%|██▌       | 145/560 [00:04<00:17, 23.92it/s]"
     ]
    },
    {
     "name": "stdout",
     "output_type": "stream",
     "text": [
      "multilayer_perceptron ran in: 0.0 sec\n"
     ]
    },
    {
     "name": "stderr",
     "output_type": "stream",
     "text": [
      "\r",
      " 27%|██▋       | 149/560 [00:04<00:15, 26.34it/s]"
     ]
    },
    {
     "name": "stdout",
     "output_type": "stream",
     "text": [
      "multilayer_perceptron ran in: 0.0 sec\n",
      "multilayer_perceptron ran in: 0.0 sec\n",
      "multilayer_perceptron ran in: 0.0 sec\n",
      "multilayer_perceptron ran in: 0.0 sec\n",
      "multilayer_perceptron ran in: 0.0 sec\n",
      "multilayer_perceptron ran in: 0.0 sec\n"
     ]
    },
    {
     "name": "stderr",
     "output_type": "stream",
     "text": [
      " 28%|██▊       | 156/560 [00:04<00:13, 29.10it/s]"
     ]
    },
    {
     "name": "stdout",
     "output_type": "stream",
     "text": [
      "multilayer_perceptron ran in: 0.0 sec\n",
      "multilayer_perceptron ran in: 0.0 sec\n",
      "multilayer_perceptron ran in: 0.015630245208740234 sec\n",
      "multilayer_perceptron ran in: 0.0 sec\n",
      "multilayer_perceptron ran in: 0.0 sec\n",
      "multilayer_perceptron ran in: 0.0 sec\n",
      "multilayer_perceptron ran in: 0.0 sec\n",
      "multilayer_perceptron ran in: 0.0 sec\n"
     ]
    },
    {
     "name": "stderr",
     "output_type": "stream",
     "text": [
      " 29%|██▉       | 164/560 [00:05<00:12, 30.54it/s]"
     ]
    },
    {
     "name": "stdout",
     "output_type": "stream",
     "text": [
      "multilayer_perceptron ran in: 0.0 sec\n",
      "multilayer_perceptron ran in: 0.0 sec\n",
      "multilayer_perceptron ran in: 0.0 sec\n",
      "multilayer_perceptron ran in: 0.0 sec\n",
      "multilayer_perceptron ran in: 0.0 sec\n",
      "multilayer_perceptron ran in: 0.0 sec\n",
      "multilayer_perceptron ran in: 0.0 sec\n"
     ]
    },
    {
     "name": "stderr",
     "output_type": "stream",
     "text": [
      " 31%|███       | 172/560 [00:05<00:12, 32.10it/s]"
     ]
    },
    {
     "name": "stdout",
     "output_type": "stream",
     "text": [
      "multilayer_perceptron ran in: 0.0 sec\n",
      "multilayer_perceptron ran in: 0.0 sec\n",
      "multilayer_perceptron ran in: 0.0 sec\n",
      "multilayer_perceptron ran in: 0.015630722045898438 sec\n",
      "multilayer_perceptron ran in: 0.0 sec\n",
      "multilayer_perceptron ran in: 0.0 sec\n",
      "multilayer_perceptron ran in: 0.0 sec\n"
     ]
    },
    {
     "name": "stderr",
     "output_type": "stream",
     "text": [
      "\r",
      " 31%|███▏      | 176/560 [00:05<00:12, 31.57it/s]"
     ]
    },
    {
     "name": "stdout",
     "output_type": "stream",
     "text": [
      "multilayer_perceptron ran in: 0.0 sec\n",
      "multilayer_perceptron ran in: 0.0 sec\n",
      "multilayer_perceptron ran in: 0.0 sec\n",
      "multilayer_perceptron ran in: 0.0 sec\n",
      "multilayer_perceptron ran in: 0.0 sec\n",
      "multilayer_perceptron ran in: 0.0 sec\n"
     ]
    },
    {
     "name": "stderr",
     "output_type": "stream",
     "text": [
      " 33%|███▎      | 184/560 [00:05<00:11, 31.79it/s]"
     ]
    },
    {
     "name": "stdout",
     "output_type": "stream",
     "text": [
      "multilayer_perceptron ran in: 0.0 sec\n",
      "multilayer_perceptron ran in: 0.0 sec\n",
      "multilayer_perceptron ran in: 0.0 sec\n",
      "multilayer_perceptron ran in: 0.0 sec\n",
      "multilayer_perceptron ran in: 0.0 sec\n",
      "multilayer_perceptron ran in: 0.0 sec\n",
      "multilayer_perceptron ran in: 0.0 sec\n"
     ]
    },
    {
     "name": "stderr",
     "output_type": "stream",
     "text": [
      " 34%|███▍      | 192/560 [00:06<00:11, 32.24it/s]"
     ]
    },
    {
     "name": "stdout",
     "output_type": "stream",
     "text": [
      "multilayer_perceptron ran in: 0.0 sec\n",
      "multilayer_perceptron ran in: 0.0 sec\n",
      "multilayer_perceptron ran in: 0.0 sec\n",
      "multilayer_perceptron ran in: 0.0 sec\n",
      "multilayer_perceptron ran in: 0.0 sec\n",
      "multilayer_perceptron ran in: 0.0 sec\n",
      "multilayer_perceptron ran in: 0.0 sec\n"
     ]
    },
    {
     "name": "stderr",
     "output_type": "stream",
     "text": [
      "\r",
      " 35%|███▌      | 196/560 [00:06<00:11, 31.19it/s]"
     ]
    },
    {
     "name": "stdout",
     "output_type": "stream",
     "text": [
      "multilayer_perceptron ran in: 0.0 sec\n",
      "multilayer_perceptron ran in: 0.0 sec\n",
      "multilayer_perceptron ran in: 0.0 sec\n",
      "multilayer_perceptron ran in: 0.0 sec\n",
      "multilayer_perceptron ran in: 0.015610218048095703 sec\n",
      "multilayer_perceptron ran in: 0.015648365020751953 sec\n",
      "multilayer_perceptron ran in: 0.0 sec\n"
     ]
    },
    {
     "name": "stderr",
     "output_type": "stream",
     "text": [
      " 36%|███▋      | 204/560 [00:06<00:11, 31.58it/s]"
     ]
    },
    {
     "name": "stdout",
     "output_type": "stream",
     "text": [
      "multilayer_perceptron ran in: 0.0 sec\n",
      "multilayer_perceptron ran in: 0.0 sec\n",
      "multilayer_perceptron ran in: 0.0 sec\n",
      "multilayer_perceptron ran in: 0.0 sec\n",
      "multilayer_perceptron ran in: 0.0 sec\n",
      "multilayer_perceptron ran in: 0.0 sec\n",
      "multilayer_perceptron ran in: 0.0 sec\n"
     ]
    },
    {
     "name": "stderr",
     "output_type": "stream",
     "text": [
      " 38%|███▊      | 212/560 [00:06<00:10, 31.64it/s]"
     ]
    },
    {
     "name": "stdout",
     "output_type": "stream",
     "text": [
      "multilayer_perceptron ran in: 0.0 sec\n",
      "multilayer_perceptron ran in: 0.0 sec\n",
      "multilayer_perceptron ran in: 0.0 sec\n",
      "multilayer_perceptron ran in: 0.0 sec\n",
      "multilayer_perceptron ran in: 0.0 sec\n",
      "multilayer_perceptron ran in: 0.0 sec\n",
      "multilayer_perceptron ran in: 0.0 sec\n"
     ]
    },
    {
     "name": "stderr",
     "output_type": "stream",
     "text": [
      " 39%|███▉      | 220/560 [00:06<00:10, 33.04it/s]"
     ]
    },
    {
     "name": "stdout",
     "output_type": "stream",
     "text": [
      "multilayer_perceptron ran in: 0.0 sec\n",
      "multilayer_perceptron ran in: 0.0 sec\n",
      "multilayer_perceptron ran in: 0.0 sec\n",
      "multilayer_perceptron ran in: 0.0 sec\n",
      "multilayer_perceptron ran in: 0.0 sec\n",
      "multilayer_perceptron ran in: 0.0 sec\n"
     ]
    },
    {
     "name": "stderr",
     "output_type": "stream",
     "text": [
      "\r",
      " 40%|████      | 224/560 [00:07<00:10, 32.21it/s]"
     ]
    },
    {
     "name": "stdout",
     "output_type": "stream",
     "text": [
      "multilayer_perceptron ran in: 0.0 sec\n",
      "multilayer_perceptron ran in: 0.0 sec\n",
      "multilayer_perceptron ran in: 0.0 sec\n",
      "multilayer_perceptron ran in: 0.0 sec\n",
      "multilayer_perceptron ran in: 0.0 sec\n",
      "multilayer_perceptron ran in: 0.0 sec\n",
      "multilayer_perceptron ran in: 0.0 sec\n"
     ]
    },
    {
     "name": "stderr",
     "output_type": "stream",
     "text": [
      " 41%|████▏     | 232/560 [00:07<00:10, 31.95it/s]"
     ]
    },
    {
     "name": "stdout",
     "output_type": "stream",
     "text": [
      "multilayer_perceptron ran in: 0.0 sec\n",
      "multilayer_perceptron ran in: 0.0 sec\n",
      "multilayer_perceptron ran in: 0.0 sec\n",
      "multilayer_perceptron ran in: 0.0 sec\n",
      "multilayer_perceptron ran in: 0.0 sec\n",
      "multilayer_perceptron ran in: 0.0 sec\n",
      "multilayer_perceptron ran in: 0.0 sec\n"
     ]
    },
    {
     "name": "stderr",
     "output_type": "stream",
     "text": [
      " 43%|████▎     | 240/560 [00:07<00:09, 32.33it/s]"
     ]
    },
    {
     "name": "stdout",
     "output_type": "stream",
     "text": [
      "multilayer_perceptron ran in: 0.0 sec\n",
      "multilayer_perceptron ran in: 0.0 sec\n",
      "multilayer_perceptron ran in: 0.0 sec\n",
      "multilayer_perceptron ran in: 0.0 sec\n",
      "multilayer_perceptron ran in: 0.0 sec\n",
      "multilayer_perceptron ran in: 0.0 sec\n"
     ]
    },
    {
     "name": "stderr",
     "output_type": "stream",
     "text": [
      "\r",
      " 44%|████▎     | 244/560 [00:07<00:09, 31.73it/s]"
     ]
    },
    {
     "name": "stdout",
     "output_type": "stream",
     "text": [
      "multilayer_perceptron ran in: 0.0 sec\n",
      "multilayer_perceptron ran in: 0.0 sec\n",
      "multilayer_perceptron ran in: 0.015624761581420898 sec\n",
      "multilayer_perceptron ran in: 0.0 sec\n",
      "multilayer_perceptron ran in: 0.0 sec\n",
      "multilayer_perceptron ran in: 0.0 sec\n"
     ]
    },
    {
     "name": "stderr",
     "output_type": "stream",
     "text": [
      " 45%|████▌     | 252/560 [00:07<00:09, 32.72it/s]"
     ]
    },
    {
     "name": "stdout",
     "output_type": "stream",
     "text": [
      "multilayer_perceptron ran in: 0.0 sec\n",
      "multilayer_perceptron ran in: 0.0 sec\n",
      "multilayer_perceptron ran in: 0.0 sec\n",
      "multilayer_perceptron ran in: 0.0 sec\n",
      "multilayer_perceptron ran in: 0.0 sec\n",
      "multilayer_perceptron ran in: 0.0 sec\n"
     ]
    },
    {
     "name": "stderr",
     "output_type": "stream",
     "text": [
      "\r",
      " 46%|████▌     | 256/560 [00:08<00:09, 31.99it/s]"
     ]
    },
    {
     "name": "stdout",
     "output_type": "stream",
     "text": [
      "multilayer_perceptron ran in: 0.0 sec\n",
      "multilayer_perceptron ran in: 0.0 sec\n",
      "multilayer_perceptron ran in: 0.0 sec\n",
      "multilayer_perceptron ran in: 0.0 sec\n",
      "multilayer_perceptron ran in: 0.0 sec\n",
      "multilayer_perceptron ran in: 0.0 sec\n",
      "multilayer_perceptron ran in: 0.0 sec\n"
     ]
    },
    {
     "name": "stderr",
     "output_type": "stream",
     "text": [
      " 47%|████▋     | 264/560 [00:08<00:09, 31.84it/s]"
     ]
    },
    {
     "name": "stdout",
     "output_type": "stream",
     "text": [
      "multilayer_perceptron ran in: 0.0 sec\n",
      "multilayer_perceptron ran in: 0.0 sec\n",
      "multilayer_perceptron ran in: 0.0 sec\n",
      "multilayer_perceptron ran in: 0.0 sec\n",
      "multilayer_perceptron ran in: 0.006512641906738281 sec\n",
      "multilayer_perceptron ran in: 0.0 sec\n"
     ]
    },
    {
     "name": "stderr",
     "output_type": "stream",
     "text": [
      " 49%|████▊     | 272/560 [00:08<00:08, 32.27it/s]"
     ]
    },
    {
     "name": "stdout",
     "output_type": "stream",
     "text": [
      "multilayer_perceptron ran in: 0.0 sec\n",
      "multilayer_perceptron ran in: 0.0 sec\n",
      "multilayer_perceptron ran in: 0.0 sec\n",
      "multilayer_perceptron ran in: 0.0 sec\n",
      "multilayer_perceptron ran in: 0.0 sec\n",
      "multilayer_perceptron ran in: 0.0 sec\n",
      "multilayer_perceptron ran in: 0.0 sec\n"
     ]
    },
    {
     "name": "stderr",
     "output_type": "stream",
     "text": [
      "\r",
      " 49%|████▉     | 276/560 [00:08<00:08, 31.69it/s]"
     ]
    },
    {
     "name": "stdout",
     "output_type": "stream",
     "text": [
      "multilayer_perceptron ran in: 0.0 sec\n",
      "multilayer_perceptron ran in: 0.0 sec\n",
      "multilayer_perceptron ran in: 0.0 sec\n",
      "multilayer_perceptron ran in: 0.0 sec\n",
      "multilayer_perceptron ran in: 0.0 sec\n",
      "multilayer_perceptron ran in: 0.0 sec\n"
     ]
    },
    {
     "name": "stderr",
     "output_type": "stream",
     "text": [
      " 51%|█████     | 284/560 [00:08<00:08, 32.70it/s]"
     ]
    },
    {
     "name": "stdout",
     "output_type": "stream",
     "text": [
      "multilayer_perceptron ran in: 0.0 sec\n",
      "multilayer_perceptron ran in: 0.0 sec\n",
      "multilayer_perceptron ran in: 0.0 sec\n",
      "multilayer_perceptron ran in: 0.015625476837158203 sec\n",
      "multilayer_perceptron ran in: 0.0 sec\n",
      "multilayer_perceptron ran in: 0.0 sec\n",
      "multilayer_perceptron ran in: 0.0 sec\n"
     ]
    },
    {
     "name": "stderr",
     "output_type": "stream",
     "text": [
      "\r",
      " 51%|█████▏    | 288/560 [00:09<00:08, 31.98it/s]"
     ]
    },
    {
     "name": "stdout",
     "output_type": "stream",
     "text": [
      "multilayer_perceptron ran in: 0.0 sec\n",
      "multilayer_perceptron ran in: 0.0 sec\n",
      "multilayer_perceptron ran in: 0.0 sec\n",
      "multilayer_perceptron ran in: 0.0 sec\n",
      "multilayer_perceptron ran in: 0.0 sec\n",
      "multilayer_perceptron ran in: 0.0 sec\n",
      "multilayer_perceptron ran in: 0.0 sec\n"
     ]
    },
    {
     "name": "stderr",
     "output_type": "stream",
     "text": [
      " 53%|█████▎    | 296/560 [00:09<00:08, 32.69it/s]"
     ]
    },
    {
     "name": "stdout",
     "output_type": "stream",
     "text": [
      "multilayer_perceptron ran in: 0.0 sec\n",
      "multilayer_perceptron ran in: 0.0 sec\n",
      "multilayer_perceptron ran in: 0.0 sec\n",
      "multilayer_perceptron ran in: 0.0 sec\n",
      "multilayer_perceptron ran in: 0.0 sec\n",
      "multilayer_perceptron ran in: 0.0 sec\n"
     ]
    },
    {
     "name": "stderr",
     "output_type": "stream",
     "text": [
      " 54%|█████▍    | 304/560 [00:09<00:07, 32.70it/s]"
     ]
    },
    {
     "name": "stdout",
     "output_type": "stream",
     "text": [
      "multilayer_perceptron ran in: 0.0 sec\n",
      "multilayer_perceptron ran in: 0.0 sec\n",
      "multilayer_perceptron ran in: 0.015627384185791016 sec\n",
      "multilayer_perceptron ran in: 0.0 sec\n",
      "multilayer_perceptron ran in: 0.0 sec\n",
      "multilayer_perceptron ran in: 0.0 sec\n",
      "multilayer_perceptron ran in: 0.0 sec\n"
     ]
    },
    {
     "name": "stderr",
     "output_type": "stream",
     "text": [
      " 56%|█████▌    | 312/560 [00:09<00:07, 32.70it/s]"
     ]
    },
    {
     "name": "stdout",
     "output_type": "stream",
     "text": [
      "multilayer_perceptron ran in: 0.0 sec\n",
      "multilayer_perceptron ran in: 0.0 sec\n",
      "multilayer_perceptron ran in: 0.0 sec\n",
      "multilayer_perceptron ran in: 0.0 sec\n",
      "multilayer_perceptron ran in: 0.0 sec\n",
      "multilayer_perceptron ran in: 0.0 sec\n",
      "multilayer_perceptron ran in: 0.015627145767211914 sec\n"
     ]
    },
    {
     "name": "stderr",
     "output_type": "stream",
     "text": [
      "\r",
      " 56%|█████▋    | 316/560 [00:09<00:07, 32.69it/s]"
     ]
    },
    {
     "name": "stdout",
     "output_type": "stream",
     "text": [
      "multilayer_perceptron ran in: 0.0 sec\n",
      "multilayer_perceptron ran in: 0.0 sec\n",
      "multilayer_perceptron ran in: 0.0 sec\n",
      "multilayer_perceptron ran in: 0.006510257720947266 sec\n",
      "multilayer_perceptron ran in: 0.01562666893005371 sec\n",
      "multilayer_perceptron ran in: 0.0 sec\n",
      "multilayer_perceptron ran in: 0.0 sec\n"
     ]
    },
    {
     "name": "stderr",
     "output_type": "stream",
     "text": [
      " 58%|█████▊    | 324/560 [00:10<00:07, 33.61it/s]"
     ]
    },
    {
     "name": "stdout",
     "output_type": "stream",
     "text": [
      "multilayer_perceptron ran in: 0.0 sec\n",
      "multilayer_perceptron ran in: 0.0 sec\n",
      "multilayer_perceptron ran in: 0.0 sec\n",
      "multilayer_perceptron ran in: 0.0 sec\n",
      "multilayer_perceptron ran in: 0.0 sec\n",
      "multilayer_perceptron ran in: 0.0 sec\n",
      "multilayer_perceptron ran in: 0.006512641906738281 sec\n",
      "multilayer_perceptron ran in: 0.0 sec\n"
     ]
    },
    {
     "name": "stderr",
     "output_type": "stream",
     "text": [
      " 59%|█████▉    | 332/560 [00:10<00:06, 32.61it/s]"
     ]
    },
    {
     "name": "stdout",
     "output_type": "stream",
     "text": [
      "multilayer_perceptron ran in: 0.01563119888305664 sec\n",
      "multilayer_perceptron ran in: 0.0 sec\n",
      "multilayer_perceptron ran in: 0.0 sec\n",
      "multilayer_perceptron ran in: 0.0 sec\n",
      "multilayer_perceptron ran in: 0.0 sec\n",
      "multilayer_perceptron ran in: 0.0 sec\n",
      "multilayer_perceptron ran in: 0.0 sec\n"
     ]
    },
    {
     "name": "stderr",
     "output_type": "stream",
     "text": [
      " 61%|██████    | 340/560 [00:10<00:06, 32.66it/s]"
     ]
    },
    {
     "name": "stdout",
     "output_type": "stream",
     "text": [
      "multilayer_perceptron ran in: 0.0 sec\n",
      "multilayer_perceptron ran in: 0.0 sec\n",
      "multilayer_perceptron ran in: 0.0 sec\n",
      "multilayer_perceptron ran in: 0.0 sec\n",
      "multilayer_perceptron ran in: 0.0 sec\n",
      "multilayer_perceptron ran in: 0.01560831069946289 sec\n",
      "multilayer_perceptron ran in: 0.0 sec\n"
     ]
    },
    {
     "name": "stderr",
     "output_type": "stream",
     "text": [
      "\r",
      " 61%|██████▏   | 344/560 [00:10<00:06, 33.19it/s]"
     ]
    },
    {
     "name": "stdout",
     "output_type": "stream",
     "text": [
      "multilayer_perceptron ran in: 0.0 sec\n",
      "multilayer_perceptron ran in: 0.0 sec\n",
      "multilayer_perceptron ran in: 0.0 sec\n",
      "multilayer_perceptron ran in: 0.0 sec\n",
      "multilayer_perceptron ran in: 0.0 sec\n",
      "multilayer_perceptron ran in: 0.0 sec\n",
      "multilayer_perceptron ran in: 0.015640974044799805 sec\n"
     ]
    },
    {
     "name": "stderr",
     "output_type": "stream",
     "text": [
      " 63%|██████▎   | 352/560 [00:11<00:06, 32.41it/s]"
     ]
    },
    {
     "name": "stdout",
     "output_type": "stream",
     "text": [
      "multilayer_perceptron ran in: 0.0 sec\n",
      "multilayer_perceptron ran in: 0.0 sec\n",
      "multilayer_perceptron ran in: 0.0 sec\n",
      "multilayer_perceptron ran in: 0.0 sec\n",
      "multilayer_perceptron ran in: 0.015611886978149414 sec\n",
      "multilayer_perceptron ran in: 0.0 sec\n",
      "multilayer_perceptron ran in: 0.0 sec\n"
     ]
    },
    {
     "name": "stderr",
     "output_type": "stream",
     "text": [
      " 64%|██████▍   | 360/560 [00:11<00:06, 32.19it/s]"
     ]
    },
    {
     "name": "stdout",
     "output_type": "stream",
     "text": [
      "multilayer_perceptron ran in: 0.0 sec\n",
      "multilayer_perceptron ran in: 0.0 sec\n",
      "multilayer_perceptron ran in: 0.0 sec\n",
      "multilayer_perceptron ran in: 0.0 sec\n",
      "multilayer_perceptron ran in: 0.0 sec\n",
      "multilayer_perceptron ran in: 0.0 sec\n",
      "multilayer_perceptron ran in: 0.0 sec\n"
     ]
    },
    {
     "name": "stderr",
     "output_type": "stream",
     "text": [
      " 66%|██████▌   | 368/560 [00:11<00:05, 32.80it/s]"
     ]
    },
    {
     "name": "stdout",
     "output_type": "stream",
     "text": [
      "multilayer_perceptron ran in: 0.0 sec\n",
      "multilayer_perceptron ran in: 0.0 sec\n",
      "multilayer_perceptron ran in: 0.0 sec\n",
      "multilayer_perceptron ran in: 0.015626907348632812 sec\n",
      "multilayer_perceptron ran in: 0.0 sec\n",
      "multilayer_perceptron ran in: 0.0 sec\n"
     ]
    },
    {
     "name": "stderr",
     "output_type": "stream",
     "text": [
      "\r",
      " 66%|██████▋   | 372/560 [00:11<00:05, 32.04it/s]"
     ]
    },
    {
     "name": "stdout",
     "output_type": "stream",
     "text": [
      "multilayer_perceptron ran in: 0.0 sec\n",
      "multilayer_perceptron ran in: 0.0 sec\n",
      "multilayer_perceptron ran in: 0.0 sec\n",
      "multilayer_perceptron ran in: 0.0 sec\n",
      "multilayer_perceptron ran in: 0.0 sec\n",
      "multilayer_perceptron ran in: 0.0 sec\n"
     ]
    },
    {
     "name": "stderr",
     "output_type": "stream",
     "text": [
      " 68%|██████▊   | 380/560 [00:11<00:05, 32.37it/s]"
     ]
    },
    {
     "name": "stdout",
     "output_type": "stream",
     "text": [
      "multilayer_perceptron ran in: 0.01563739776611328 sec\n",
      "multilayer_perceptron ran in: 0.0 sec\n",
      "multilayer_perceptron ran in: 0.0 sec\n",
      "multilayer_perceptron ran in: 0.0 sec\n",
      "multilayer_perceptron ran in: 0.0 sec\n",
      "multilayer_perceptron ran in: 0.0 sec\n",
      "multilayer_perceptron ran in: 0.006523847579956055 sec\n"
     ]
    },
    {
     "name": "stderr",
     "output_type": "stream",
     "text": [
      " 69%|██████▉   | 388/560 [00:12<00:05, 31.83it/s]"
     ]
    },
    {
     "name": "stdout",
     "output_type": "stream",
     "text": [
      "multilayer_perceptron ran in: 0.0 sec\n",
      "multilayer_perceptron ran in: 0.0010139942169189453 sec\n",
      "multilayer_perceptron ran in: 0.0 sec\n",
      "multilayer_perceptron ran in: 0.0 sec\n",
      "multilayer_perceptron ran in: 0.0 sec\n",
      "multilayer_perceptron ran in: 0.0 sec\n",
      "multilayer_perceptron ran in: 0.0 sec\n"
     ]
    },
    {
     "name": "stderr",
     "output_type": "stream",
     "text": [
      "\r",
      " 70%|███████   | 392/560 [00:12<00:05, 31.39it/s]"
     ]
    },
    {
     "name": "stdout",
     "output_type": "stream",
     "text": [
      "multilayer_perceptron ran in: 0.0 sec\n",
      "multilayer_perceptron ran in: 0.0 sec\n",
      "multilayer_perceptron ran in: 0.0 sec\n",
      "multilayer_perceptron ran in: 0.015624046325683594 sec\n",
      "multilayer_perceptron ran in: 0.0 sec\n",
      "multilayer_perceptron ran in: 0.0 sec\n"
     ]
    },
    {
     "name": "stderr",
     "output_type": "stream",
     "text": [
      " 71%|███████▏  | 400/560 [00:12<00:04, 32.76it/s]"
     ]
    },
    {
     "name": "stdout",
     "output_type": "stream",
     "text": [
      "multilayer_perceptron ran in: 0.0 sec\n",
      "multilayer_perceptron ran in: 0.0 sec\n",
      "multilayer_perceptron ran in: 0.0 sec\n",
      "multilayer_perceptron ran in: 0.0 sec\n",
      "multilayer_perceptron ran in: 0.0 sec\n",
      "multilayer_perceptron ran in: 0.0 sec\n"
     ]
    },
    {
     "name": "stderr",
     "output_type": "stream",
     "text": [
      "\r",
      " 72%|███████▏  | 404/560 [00:12<00:04, 32.04it/s]"
     ]
    },
    {
     "name": "stdout",
     "output_type": "stream",
     "text": [
      "multilayer_perceptron ran in: 0.0 sec\n",
      "multilayer_perceptron ran in: 0.0 sec\n",
      "multilayer_perceptron ran in: 0.0 sec\n",
      "multilayer_perceptron ran in: 0.0 sec\n",
      "multilayer_perceptron ran in: 0.0 sec\n",
      "multilayer_perceptron ran in: 0.0 sec\n"
     ]
    },
    {
     "name": "stderr",
     "output_type": "stream",
     "text": [
      " 74%|███████▎  | 412/560 [00:12<00:04, 32.38it/s]"
     ]
    },
    {
     "name": "stdout",
     "output_type": "stream",
     "text": [
      "multilayer_perceptron ran in: 0.0 sec\n",
      "multilayer_perceptron ran in: 0.0 sec\n",
      "multilayer_perceptron ran in: 0.0 sec\n",
      "multilayer_perceptron ran in: 0.0 sec\n",
      "multilayer_perceptron ran in: 0.0 sec\n",
      "multilayer_perceptron ran in: 0.0 sec\n",
      "multilayer_perceptron ran in: 0.0 sec\n"
     ]
    },
    {
     "name": "stderr",
     "output_type": "stream",
     "text": [
      " 75%|███████▌  | 420/560 [00:13<00:04, 31.82it/s]"
     ]
    },
    {
     "name": "stdout",
     "output_type": "stream",
     "text": [
      "multilayer_perceptron ran in: 0.015636444091796875 sec\n",
      "multilayer_perceptron ran in: 0.015625953674316406 sec\n",
      "multilayer_perceptron ran in: 0.0 sec\n",
      "multilayer_perceptron ran in: 0.0 sec\n",
      "multilayer_perceptron ran in: 0.0 sec\n",
      "multilayer_perceptron ran in: 0.0 sec\n",
      "multilayer_perceptron ran in: 0.015648603439331055 sec\n"
     ]
    },
    {
     "name": "stderr",
     "output_type": "stream",
     "text": [
      "\r",
      " 76%|███████▌  | 424/560 [00:13<00:04, 31.38it/s]"
     ]
    },
    {
     "name": "stdout",
     "output_type": "stream",
     "text": [
      "multilayer_perceptron ran in: 0.0 sec\n",
      "multilayer_perceptron ran in: 0.0 sec\n",
      "multilayer_perceptron ran in: 0.0 sec\n",
      "multilayer_perceptron ran in: 0.0 sec\n",
      "multilayer_perceptron ran in: 0.0 sec\n",
      "multilayer_perceptron ran in: 0.0 sec\n",
      "multilayer_perceptron ran in: 0.0 sec\n"
     ]
    },
    {
     "name": "stderr",
     "output_type": "stream",
     "text": [
      " 77%|███████▋  | 432/560 [00:13<00:03, 32.38it/s]"
     ]
    },
    {
     "name": "stdout",
     "output_type": "stream",
     "text": [
      "multilayer_perceptron ran in: 0.0 sec\n",
      "multilayer_perceptron ran in: 0.0 sec\n",
      "multilayer_perceptron ran in: 0.0 sec\n",
      "multilayer_perceptron ran in: 0.015624046325683594 sec\n",
      "multilayer_perceptron ran in: 0.0 sec\n",
      "multilayer_perceptron ran in: 0.0 sec\n",
      "multilayer_perceptron ran in: 0.0 sec\n"
     ]
    },
    {
     "name": "stderr",
     "output_type": "stream",
     "text": [
      " 79%|███████▊  | 440/560 [00:13<00:03, 32.54it/s]"
     ]
    },
    {
     "name": "stdout",
     "output_type": "stream",
     "text": [
      "multilayer_perceptron ran in: 0.0 sec\n",
      "multilayer_perceptron ran in: 0.0 sec\n",
      "multilayer_perceptron ran in: 0.015624523162841797 sec\n",
      "multilayer_perceptron ran in: 0.0 sec\n",
      "multilayer_perceptron ran in: 0.0 sec\n",
      "multilayer_perceptron ran in: 0.0 sec\n",
      "multilayer_perceptron ran in: 0.0 sec\n"
     ]
    },
    {
     "name": "stderr",
     "output_type": "stream",
     "text": [
      " 80%|████████  | 448/560 [00:14<00:03, 33.15it/s]"
     ]
    },
    {
     "name": "stdout",
     "output_type": "stream",
     "text": [
      "multilayer_perceptron ran in: 0.0 sec\n",
      "multilayer_perceptron ran in: 0.0 sec\n",
      "multilayer_perceptron ran in: 0.0 sec\n",
      "multilayer_perceptron ran in: 0.0 sec\n",
      "multilayer_perceptron ran in: 0.015653133392333984 sec\n",
      "multilayer_perceptron ran in: 0.0 sec\n",
      "multilayer_perceptron ran in: 0.0 sec\n"
     ]
    },
    {
     "name": "stderr",
     "output_type": "stream",
     "text": [
      "\r",
      " 81%|████████  | 452/560 [00:14<00:03, 32.12it/s]"
     ]
    },
    {
     "name": "stdout",
     "output_type": "stream",
     "text": [
      "multilayer_perceptron ran in: 0.0 sec\n",
      "multilayer_perceptron ran in: 0.0 sec\n",
      "multilayer_perceptron ran in: 0.0 sec\n",
      "multilayer_perceptron ran in: 0.0 sec\n",
      "multilayer_perceptron ran in: 0.0 sec\n",
      "multilayer_perceptron ran in: 0.0 sec\n"
     ]
    },
    {
     "name": "stderr",
     "output_type": "stream",
     "text": [
      " 82%|████████▏ | 460/560 [00:14<00:03, 33.30it/s]"
     ]
    },
    {
     "name": "stdout",
     "output_type": "stream",
     "text": [
      "multilayer_perceptron ran in: 0.0 sec\n",
      "multilayer_perceptron ran in: 0.0 sec\n",
      "multilayer_perceptron ran in: 0.0 sec\n",
      "multilayer_perceptron ran in: 0.0 sec\n",
      "multilayer_perceptron ran in: 0.0 sec\n",
      "multilayer_perceptron ran in: 0.0 sec\n",
      "multilayer_perceptron ran in: 0.0 sec\n"
     ]
    },
    {
     "name": "stderr",
     "output_type": "stream",
     "text": [
      " 84%|████████▎ | 468/560 [00:14<00:02, 32.47it/s]"
     ]
    },
    {
     "name": "stdout",
     "output_type": "stream",
     "text": [
      "multilayer_perceptron ran in: 0.0 sec\n",
      "multilayer_perceptron ran in: 0.0 sec\n",
      "multilayer_perceptron ran in: 0.0 sec\n",
      "multilayer_perceptron ran in: 0.0 sec\n",
      "multilayer_perceptron ran in: 0.0 sec\n",
      "multilayer_perceptron ran in: 0.0 sec\n",
      "multilayer_perceptron ran in: 0.0 sec\n"
     ]
    },
    {
     "name": "stderr",
     "output_type": "stream",
     "text": [
      "\r",
      " 84%|████████▍ | 472/560 [00:14<00:02, 31.82it/s]"
     ]
    },
    {
     "name": "stdout",
     "output_type": "stream",
     "text": [
      "multilayer_perceptron ran in: 0.0 sec\n",
      "multilayer_perceptron ran in: 0.015622615814208984 sec\n",
      "multilayer_perceptron ran in: 0.0 sec\n",
      "multilayer_perceptron ran in: 0.0 sec\n",
      "multilayer_perceptron ran in: 0.0 sec\n",
      "multilayer_perceptron ran in: 0.0 sec\n",
      "multilayer_perceptron ran in: 0.0 sec\n"
     ]
    },
    {
     "name": "stderr",
     "output_type": "stream",
     "text": [
      " 86%|████████▌ | 480/560 [00:15<00:02, 31.90it/s]"
     ]
    },
    {
     "name": "stdout",
     "output_type": "stream",
     "text": [
      "multilayer_perceptron ran in: 0.0 sec\n",
      "multilayer_perceptron ran in: 0.0 sec\n",
      "multilayer_perceptron ran in: 0.0 sec\n",
      "multilayer_perceptron ran in: 0.0 sec\n",
      "multilayer_perceptron ran in: 0.015622854232788086 sec\n",
      "multilayer_perceptron ran in: 0.0 sec\n",
      "multilayer_perceptron ran in: 0.0 sec\n"
     ]
    },
    {
     "name": "stderr",
     "output_type": "stream",
     "text": [
      " 87%|████████▋ | 488/560 [00:15<00:02, 32.81it/s]"
     ]
    },
    {
     "name": "stdout",
     "output_type": "stream",
     "text": [
      "multilayer_perceptron ran in: 0.0 sec\n",
      "multilayer_perceptron ran in: 0.0 sec\n",
      "multilayer_perceptron ran in: 0.0 sec\n",
      "multilayer_perceptron ran in: 0.0 sec\n",
      "multilayer_perceptron ran in: 0.0 sec\n",
      "multilayer_perceptron ran in: 0.0 sec\n",
      "multilayer_perceptron ran in: 0.0 sec\n"
     ]
    },
    {
     "name": "stderr",
     "output_type": "stream",
     "text": [
      "\r",
      " 88%|████████▊ | 492/560 [00:15<00:02, 32.05it/s]"
     ]
    },
    {
     "name": "stdout",
     "output_type": "stream",
     "text": [
      "multilayer_perceptron ran in: 0.0 sec\n",
      "multilayer_perceptron ran in: 0.0 sec\n",
      "multilayer_perceptron ran in: 0.0 sec\n",
      "multilayer_perceptron ran in: 0.0 sec\n",
      "multilayer_perceptron ran in: 0.0 sec\n",
      "multilayer_perceptron ran in: 0.0 sec\n",
      "multilayer_perceptron ran in: 0.0 sec\n"
     ]
    },
    {
     "name": "stderr",
     "output_type": "stream",
     "text": [
      " 89%|████████▉ | 500/560 [00:15<00:01, 31.87it/s]"
     ]
    },
    {
     "name": "stdout",
     "output_type": "stream",
     "text": [
      "multilayer_perceptron ran in: 0.0 sec\n",
      "multilayer_perceptron ran in: 0.0 sec\n",
      "multilayer_perceptron ran in: 0.0 sec\n",
      "multilayer_perceptron ran in: 0.0 sec\n",
      "multilayer_perceptron ran in: 0.0 sec\n",
      "multilayer_perceptron ran in: 0.0 sec\n",
      "multilayer_perceptron ran in: 0.0 sec\n"
     ]
    },
    {
     "name": "stderr",
     "output_type": "stream",
     "text": [
      " 91%|█████████ | 508/560 [00:15<00:01, 31.92it/s]"
     ]
    },
    {
     "name": "stdout",
     "output_type": "stream",
     "text": [
      "multilayer_perceptron ran in: 0.0 sec\n",
      "multilayer_perceptron ran in: 0.0 sec\n",
      "multilayer_perceptron ran in: 0.0 sec\n",
      "multilayer_perceptron ran in: 0.0 sec\n",
      "multilayer_perceptron ran in: 0.015623092651367188 sec\n",
      "multilayer_perceptron ran in: 0.015629291534423828 sec\n",
      "multilayer_perceptron ran in: 0.0 sec\n"
     ]
    },
    {
     "name": "stderr",
     "output_type": "stream",
     "text": [
      " 92%|█████████▏| 516/560 [00:16<00:01, 32.10it/s]"
     ]
    },
    {
     "name": "stdout",
     "output_type": "stream",
     "text": [
      "multilayer_perceptron ran in: 0.0 sec\n",
      "multilayer_perceptron ran in: 0.0 sec\n",
      "multilayer_perceptron ran in: 0.0 sec\n",
      "multilayer_perceptron ran in: 0.0 sec\n",
      "multilayer_perceptron ran in: 0.0 sec\n",
      "multilayer_perceptron ran in: 0.0 sec\n"
     ]
    },
    {
     "name": "stderr",
     "output_type": "stream",
     "text": [
      "\r",
      " 93%|█████████▎| 520/560 [00:16<00:01, 31.09it/s]"
     ]
    },
    {
     "name": "stdout",
     "output_type": "stream",
     "text": [
      "multilayer_perceptron ran in: 0.0 sec\n",
      "multilayer_perceptron ran in: 0.0 sec\n",
      "multilayer_perceptron ran in: 0.0 sec\n",
      "multilayer_perceptron ran in: 0.0 sec\n",
      "multilayer_perceptron ran in: 0.0 sec\n",
      "multilayer_perceptron ran in: 0.0 sec\n"
     ]
    },
    {
     "name": "stderr",
     "output_type": "stream",
     "text": [
      " 94%|█████████▍| 528/560 [00:16<00:01, 31.54it/s]"
     ]
    },
    {
     "name": "stdout",
     "output_type": "stream",
     "text": [
      "multilayer_perceptron ran in: 0.0 sec\n",
      "multilayer_perceptron ran in: 0.0 sec\n",
      "multilayer_perceptron ran in: 0.0 sec\n",
      "multilayer_perceptron ran in: 0.0 sec\n",
      "multilayer_perceptron ran in: 0.0 sec\n",
      "multilayer_perceptron ran in: 0.0 sec\n",
      "multilayer_perceptron ran in: 0.0 sec\n"
     ]
    },
    {
     "name": "stderr",
     "output_type": "stream",
     "text": [
      " 96%|█████████▌| 536/560 [00:16<00:00, 32.62it/s]"
     ]
    },
    {
     "name": "stdout",
     "output_type": "stream",
     "text": [
      "multilayer_perceptron ran in: 0.0 sec\n",
      "multilayer_perceptron ran in: 0.0 sec\n",
      "multilayer_perceptron ran in: 0.0 sec\n",
      "multilayer_perceptron ran in: 0.0 sec\n",
      "multilayer_perceptron ran in: 0.0 sec\n",
      "multilayer_perceptron ran in: 0.0 sec\n",
      "multilayer_perceptron ran in: 0.0 sec\n"
     ]
    },
    {
     "name": "stderr",
     "output_type": "stream",
     "text": [
      "\r",
      " 96%|█████████▋| 540/560 [00:16<00:00, 31.92it/s]"
     ]
    },
    {
     "name": "stdout",
     "output_type": "stream",
     "text": [
      "multilayer_perceptron ran in: 0.0 sec\n",
      "multilayer_perceptron ran in: 0.0 sec\n",
      "multilayer_perceptron ran in: 0.0065305233001708984 sec\n",
      "multilayer_perceptron ran in: 0.0 sec\n",
      "multilayer_perceptron ran in: 0.0 sec\n",
      "multilayer_perceptron ran in: 0.0 sec\n",
      "multilayer_perceptron ran in: 0.0 sec\n"
     ]
    },
    {
     "name": "stderr",
     "output_type": "stream",
     "text": [
      " 98%|█████████▊| 548/560 [00:17<00:00, 31.95it/s]"
     ]
    },
    {
     "name": "stdout",
     "output_type": "stream",
     "text": [
      "multilayer_perceptron ran in: 0.0 sec\n",
      "multilayer_perceptron ran in: 0.0 sec\n",
      "multilayer_perceptron ran in: 0.01564812660217285 sec\n",
      "multilayer_perceptron ran in: 0.0 sec\n",
      "multilayer_perceptron ran in: 0.0 sec\n",
      "multilayer_perceptron ran in: 0.0 sec\n",
      "multilayer_perceptron ran in: 0.0 sec\n"
     ]
    },
    {
     "name": "stderr",
     "output_type": "stream",
     "text": [
      " 99%|█████████▉| 556/560 [00:17<00:00, 32.83it/s]"
     ]
    },
    {
     "name": "stdout",
     "output_type": "stream",
     "text": [
      "multilayer_perceptron ran in: 0.0 sec\n",
      "multilayer_perceptron ran in: 0.0 sec\n",
      "multilayer_perceptron ran in: 0.0 sec\n",
      "multilayer_perceptron ran in: 0.0 sec\n",
      "multilayer_perceptron ran in: 0.0 sec\n",
      "multilayer_perceptron ran in: 0.0 sec\n"
     ]
    },
    {
     "name": "stderr",
     "output_type": "stream",
     "text": [
      "100%|██████████| 560/560 [00:17<00:00, 31.91it/s]\n"
     ]
    },
    {
     "name": "stdout",
     "output_type": "stream",
     "text": [
      "multilayer_perceptron ran in: 0.0 sec\n",
      "multilayer_perceptron ran in: 0.0 sec\n",
      "multilayer_perceptron ran in: 0.0 sec\n",
      "multilayer_perceptron ran in: 0.0 sec\n",
      "Epoch: 11 Cost=170371.5625\n"
     ]
    },
    {
     "name": "stderr",
     "output_type": "stream",
     "text": [
      "\r",
      "  0%|          | 0/560 [00:00<?, ?it/s]"
     ]
    },
    {
     "name": "stdout",
     "output_type": "stream",
     "text": [
      "multilayer_perceptron ran in: 0.0 sec\n",
      "multilayer_perceptron ran in: 0.0 sec\n"
     ]
    },
    {
     "name": "stderr",
     "output_type": "stream",
     "text": [
      "\r",
      "  1%|          | 4/560 [00:00<00:16, 34.52it/s]"
     ]
    },
    {
     "name": "stdout",
     "output_type": "stream",
     "text": [
      "multilayer_perceptron ran in: 0.0 sec\n",
      "multilayer_perceptron ran in: 0.0 sec\n",
      "multilayer_perceptron ran in: 0.0 sec\n"
     ]
    },
    {
     "name": "stderr",
     "output_type": "stream",
     "text": [
      "\r",
      "  1%|▏         | 8/560 [00:00<00:27, 20.30it/s]"
     ]
    },
    {
     "name": "stdout",
     "output_type": "stream",
     "text": [
      "multilayer_perceptron ran in: 0.0 sec\n",
      "multilayer_perceptron ran in: 0.0 sec\n",
      "multilayer_perceptron ran in: 0.0 sec\n",
      "multilayer_perceptron ran in: 0.0 sec\n",
      "multilayer_perceptron ran in: 0.0 sec\n",
      "multilayer_perceptron ran in: 0.0 sec\n"
     ]
    },
    {
     "name": "stderr",
     "output_type": "stream",
     "text": [
      "  3%|▎         | 16/560 [00:00<00:19, 28.16it/s]"
     ]
    },
    {
     "name": "stdout",
     "output_type": "stream",
     "text": [
      "multilayer_perceptron ran in: 0.0 sec\n",
      "multilayer_perceptron ran in: 0.0 sec\n",
      "multilayer_perceptron ran in: 0.0 sec\n",
      "multilayer_perceptron ran in: 0.0 sec\n",
      "multilayer_perceptron ran in: 0.0 sec\n",
      "multilayer_perceptron ran in: 0.0 sec\n",
      "multilayer_perceptron ran in: 0.0 sec\n",
      "multilayer_perceptron ran in: 0.0 sec\n"
     ]
    },
    {
     "name": "stderr",
     "output_type": "stream",
     "text": [
      "  4%|▍         | 24/560 [00:00<00:17, 30.97it/s]"
     ]
    },
    {
     "name": "stdout",
     "output_type": "stream",
     "text": [
      "multilayer_perceptron ran in: 0.0 sec\n",
      "multilayer_perceptron ran in: 0.0 sec\n",
      "multilayer_perceptron ran in: 0.0 sec\n",
      "multilayer_perceptron ran in: 0.0 sec\n",
      "multilayer_perceptron ran in: 0.0 sec\n",
      "multilayer_perceptron ran in: 0.0 sec\n",
      "multilayer_perceptron ran in: 0.0 sec\n"
     ]
    },
    {
     "name": "stderr",
     "output_type": "stream",
     "text": [
      "  6%|▌         | 32/560 [00:01<00:16, 31.88it/s]"
     ]
    },
    {
     "name": "stdout",
     "output_type": "stream",
     "text": [
      "multilayer_perceptron ran in: 0.0 sec\n",
      "multilayer_perceptron ran in: 0.0 sec\n",
      "multilayer_perceptron ran in: 0.0 sec\n",
      "multilayer_perceptron ran in: 0.0 sec\n",
      "multilayer_perceptron ran in: 0.0 sec\n",
      "multilayer_perceptron ran in: 0.0 sec\n",
      "multilayer_perceptron ran in: 0.0 sec\n"
     ]
    },
    {
     "name": "stderr",
     "output_type": "stream",
     "text": [
      "\r",
      "  6%|▋         | 36/560 [00:01<00:16, 32.66it/s]"
     ]
    },
    {
     "name": "stdout",
     "output_type": "stream",
     "text": [
      "multilayer_perceptron ran in: 0.0 sec\n",
      "multilayer_perceptron ran in: 0.0 sec\n",
      "multilayer_perceptron ran in: 0.0 sec\n",
      "multilayer_perceptron ran in: 0.0 sec\n",
      "multilayer_perceptron ran in: 0.015636920928955078 sec\n",
      "multilayer_perceptron ran in: 0.0 sec\n",
      "multilayer_perceptron ran in: 0.0 sec\n"
     ]
    },
    {
     "name": "stderr",
     "output_type": "stream",
     "text": [
      "  8%|▊         | 44/560 [00:01<00:15, 33.44it/s]"
     ]
    },
    {
     "name": "stdout",
     "output_type": "stream",
     "text": [
      "multilayer_perceptron ran in: 0.0 sec\n",
      "multilayer_perceptron ran in: 0.0 sec\n",
      "multilayer_perceptron ran in: 0.0 sec\n",
      "multilayer_perceptron ran in: 0.01564311981201172 sec\n",
      "multilayer_perceptron ran in: 0.0 sec\n",
      "multilayer_perceptron ran in: 0.0 sec\n",
      "multilayer_perceptron ran in: 0.0 sec\n"
     ]
    },
    {
     "name": "stderr",
     "output_type": "stream",
     "text": [
      "  9%|▉         | 52/560 [00:01<00:15, 33.05it/s]"
     ]
    },
    {
     "name": "stdout",
     "output_type": "stream",
     "text": [
      "multilayer_perceptron ran in: 0.0 sec\n",
      "multilayer_perceptron ran in: 0.0 sec\n",
      "multilayer_perceptron ran in: 0.0 sec\n",
      "multilayer_perceptron ran in: 0.0 sec\n",
      "multilayer_perceptron ran in: 0.0 sec\n",
      "multilayer_perceptron ran in: 0.015628337860107422 sec\n",
      "multilayer_perceptron ran in: 0.0 sec\n"
     ]
    },
    {
     "name": "stderr",
     "output_type": "stream",
     "text": [
      " 11%|█         | 60/560 [00:01<00:15, 32.49it/s]"
     ]
    },
    {
     "name": "stdout",
     "output_type": "stream",
     "text": [
      "multilayer_perceptron ran in: 0.0 sec\n",
      "multilayer_perceptron ran in: 0.0 sec\n",
      "multilayer_perceptron ran in: 0.0 sec\n",
      "multilayer_perceptron ran in: 0.0 sec\n",
      "multilayer_perceptron ran in: 0.0 sec\n",
      "multilayer_perceptron ran in: 0.0 sec\n"
     ]
    },
    {
     "name": "stderr",
     "output_type": "stream",
     "text": [
      "\r",
      " 11%|█▏        | 64/560 [00:02<00:14, 33.84it/s]"
     ]
    },
    {
     "name": "stdout",
     "output_type": "stream",
     "text": [
      "multilayer_perceptron ran in: 0.0 sec\n",
      "multilayer_perceptron ran in: 0.0 sec\n",
      "multilayer_perceptron ran in: 0.0 sec\n",
      "multilayer_perceptron ran in: 0.0 sec\n",
      "multilayer_perceptron ran in: 0.0 sec\n",
      "multilayer_perceptron ran in: 0.0 sec\n",
      "multilayer_perceptron ran in: 0.0 sec\n",
      "multilayer_perceptron ran in: 0.0 sec\n"
     ]
    },
    {
     "name": "stderr",
     "output_type": "stream",
     "text": [
      " 13%|█▎        | 72/560 [00:02<00:14, 33.24it/s]"
     ]
    },
    {
     "name": "stdout",
     "output_type": "stream",
     "text": [
      "multilayer_perceptron ran in: 0.0 sec\n",
      "multilayer_perceptron ran in: 0.0 sec\n",
      "multilayer_perceptron ran in: 0.0 sec\n",
      "multilayer_perceptron ran in: 0.0 sec\n",
      "multilayer_perceptron ran in: 0.0 sec\n",
      "multilayer_perceptron ran in: 0.006520986557006836 sec\n",
      "multilayer_perceptron ran in: 0.0 sec\n"
     ]
    },
    {
     "name": "stderr",
     "output_type": "stream",
     "text": [
      " 14%|█▍        | 80/560 [00:02<00:14, 32.46it/s]"
     ]
    },
    {
     "name": "stdout",
     "output_type": "stream",
     "text": [
      "multilayer_perceptron ran in: 0.0 sec\n",
      "multilayer_perceptron ran in: 0.0 sec\n",
      "multilayer_perceptron ran in: 0.0 sec\n",
      "multilayer_perceptron ran in: 0.0 sec\n",
      "multilayer_perceptron ran in: 0.0 sec\n",
      "multilayer_perceptron ran in: 0.0 sec\n",
      "multilayer_perceptron ran in: 0.0 sec\n",
      "multilayer_perceptron ran in: 0.0 sec\n"
     ]
    },
    {
     "name": "stderr",
     "output_type": "stream",
     "text": [
      " 16%|█▌        | 88/560 [00:02<00:14, 33.47it/s]"
     ]
    },
    {
     "name": "stdout",
     "output_type": "stream",
     "text": [
      "multilayer_perceptron ran in: 0.0 sec\n",
      "multilayer_perceptron ran in: 0.0 sec\n",
      "multilayer_perceptron ran in: 0.0 sec\n",
      "multilayer_perceptron ran in: 0.015626192092895508 sec\n",
      "multilayer_perceptron ran in: 0.0 sec\n",
      "multilayer_perceptron ran in: 0.0 sec\n",
      "multilayer_perceptron ran in: 0.0 sec\n",
      "multilayer_perceptron ran in: 0.0 sec\n"
     ]
    },
    {
     "name": "stderr",
     "output_type": "stream",
     "text": [
      " 17%|█▋        | 96/560 [00:03<00:14, 33.07it/s]"
     ]
    },
    {
     "name": "stdout",
     "output_type": "stream",
     "text": [
      "multilayer_perceptron ran in: 0.0 sec\n",
      "multilayer_perceptron ran in: 0.0 sec\n",
      "multilayer_perceptron ran in: 0.0 sec\n",
      "multilayer_perceptron ran in: 0.0156402587890625 sec\n",
      "multilayer_perceptron ran in: 0.0 sec\n",
      "multilayer_perceptron ran in: 0.0 sec\n",
      "multilayer_perceptron ran in: 0.0 sec\n"
     ]
    },
    {
     "name": "stderr",
     "output_type": "stream",
     "text": [
      " 19%|█▊        | 104/560 [00:03<00:13, 33.24it/s]"
     ]
    },
    {
     "name": "stdout",
     "output_type": "stream",
     "text": [
      "multilayer_perceptron ran in: 0.0 sec\n",
      "multilayer_perceptron ran in: 0.015624761581420898 sec\n",
      "multilayer_perceptron ran in: 0.0 sec\n",
      "multilayer_perceptron ran in: 0.0 sec\n",
      "multilayer_perceptron ran in: 0.0 sec\n",
      "multilayer_perceptron ran in: 0.0 sec\n",
      "multilayer_perceptron ran in: 0.0 sec\n"
     ]
    },
    {
     "name": "stderr",
     "output_type": "stream",
     "text": [
      "\r",
      " 19%|█▉        | 108/560 [00:03<00:13, 33.61it/s]"
     ]
    },
    {
     "name": "stdout",
     "output_type": "stream",
     "text": [
      "multilayer_perceptron ran in: 0.0 sec\n",
      "multilayer_perceptron ran in: 0.015625715255737305 sec\n",
      "multilayer_perceptron ran in: 0.0 sec\n",
      "multilayer_perceptron ran in: 0.0 sec\n",
      "multilayer_perceptron ran in: 0.0 sec\n",
      "multilayer_perceptron ran in: 0.0 sec\n",
      "multilayer_perceptron ran in: 0.0 sec\n"
     ]
    },
    {
     "name": "stderr",
     "output_type": "stream",
     "text": [
      " 21%|██        | 116/560 [00:03<00:13, 33.14it/s]"
     ]
    },
    {
     "name": "stdout",
     "output_type": "stream",
     "text": [
      "multilayer_perceptron ran in: 0.0 sec\n",
      "multilayer_perceptron ran in: 0.0 sec\n",
      "multilayer_perceptron ran in: 0.0 sec\n",
      "multilayer_perceptron ran in: 0.0 sec\n",
      "multilayer_perceptron ran in: 0.0 sec\n",
      "multilayer_perceptron ran in: 0.0 sec\n",
      "multilayer_perceptron ran in: 0.0 sec\n"
     ]
    },
    {
     "name": "stderr",
     "output_type": "stream",
     "text": [
      " 22%|██▏       | 124/560 [00:03<00:13, 33.43it/s]"
     ]
    },
    {
     "name": "stdout",
     "output_type": "stream",
     "text": [
      "multilayer_perceptron ran in: 0.0 sec\n",
      "multilayer_perceptron ran in: 0.0 sec\n",
      "multilayer_perceptron ran in: 0.0 sec\n",
      "multilayer_perceptron ran in: 0.0 sec\n",
      "multilayer_perceptron ran in: 0.0 sec\n",
      "multilayer_perceptron ran in: 0.0 sec\n",
      "multilayer_perceptron ran in: 0.0 sec\n"
     ]
    },
    {
     "name": "stderr",
     "output_type": "stream",
     "text": [
      " 24%|██▎       | 132/560 [00:04<00:13, 32.67it/s]"
     ]
    },
    {
     "name": "stdout",
     "output_type": "stream",
     "text": [
      "multilayer_perceptron ran in: 0.01561284065246582 sec\n",
      "multilayer_perceptron ran in: 0.0 sec\n",
      "multilayer_perceptron ran in: 0.0 sec\n",
      "multilayer_perceptron ran in: 0.0 sec\n",
      "multilayer_perceptron ran in: 0.0 sec\n",
      "multilayer_perceptron ran in: 0.0 sec\n",
      "multilayer_perceptron ran in: 0.0 sec\n"
     ]
    },
    {
     "name": "stderr",
     "output_type": "stream",
     "text": [
      "\r",
      " 24%|██▍       | 136/560 [00:04<00:12, 33.20it/s]"
     ]
    },
    {
     "name": "stdout",
     "output_type": "stream",
     "text": [
      "multilayer_perceptron ran in: 0.0 sec\n",
      "multilayer_perceptron ran in: 0.0 sec\n",
      "multilayer_perceptron ran in: 0.0 sec\n",
      "multilayer_perceptron ran in: 0.0 sec\n",
      "multilayer_perceptron ran in: 0.0 sec\n",
      "multilayer_perceptron ran in: 0.0 sec\n"
     ]
    },
    {
     "name": "stderr",
     "output_type": "stream",
     "text": [
      " 26%|██▌       | 144/560 [00:04<00:12, 33.47it/s]"
     ]
    },
    {
     "name": "stdout",
     "output_type": "stream",
     "text": [
      "multilayer_perceptron ran in: 0.0 sec\n",
      "multilayer_perceptron ran in: 0.0 sec\n",
      "multilayer_perceptron ran in: 0.0 sec\n",
      "multilayer_perceptron ran in: 0.0 sec\n",
      "multilayer_perceptron ran in: 0.0 sec\n",
      "multilayer_perceptron ran in: 0.0 sec\n",
      "multilayer_perceptron ran in: 0.015627384185791016 sec\n"
     ]
    },
    {
     "name": "stderr",
     "output_type": "stream",
     "text": [
      " 27%|██▋       | 152/560 [00:04<00:12, 33.08it/s]"
     ]
    },
    {
     "name": "stdout",
     "output_type": "stream",
     "text": [
      "multilayer_perceptron ran in: 0.015624523162841797 sec\n",
      "multilayer_perceptron ran in: 0.015605449676513672 sec\n",
      "multilayer_perceptron ran in: 0.0 sec\n",
      "multilayer_perceptron ran in: 0.0 sec\n",
      "multilayer_perceptron ran in: 0.0 sec\n",
      "multilayer_perceptron ran in: 0.0 sec\n",
      "multilayer_perceptron ran in: 0.0 sec\n",
      "multilayer_perceptron ran in: 0.0 sec\n"
     ]
    },
    {
     "name": "stderr",
     "output_type": "stream",
     "text": [
      " 29%|██▊       | 160/560 [00:04<00:12, 32.36it/s]"
     ]
    },
    {
     "name": "stdout",
     "output_type": "stream",
     "text": [
      "multilayer_perceptron ran in: 0.0 sec\n",
      "multilayer_perceptron ran in: 0.0 sec\n",
      "multilayer_perceptron ran in: 0.0 sec\n",
      "multilayer_perceptron ran in: 0.0 sec\n",
      "multilayer_perceptron ran in: 0.0 sec\n",
      "multilayer_perceptron ran in: 0.0 sec\n",
      "multilayer_perceptron ran in: 0.0 sec\n"
     ]
    },
    {
     "name": "stderr",
     "output_type": "stream",
     "text": [
      "\r",
      " 29%|██▉       | 164/560 [00:05<00:12, 31.75it/s]"
     ]
    },
    {
     "name": "stdout",
     "output_type": "stream",
     "text": [
      "multilayer_perceptron ran in: 0.0 sec\n",
      "multilayer_perceptron ran in: 0.0 sec\n",
      "multilayer_perceptron ran in: 0.0 sec\n",
      "multilayer_perceptron ran in: 0.0 sec\n",
      "multilayer_perceptron ran in: 0.0 sec\n",
      "multilayer_perceptron ran in: 0.0 sec\n",
      "multilayer_perceptron ran in: 0.015630006790161133 sec\n"
     ]
    },
    {
     "name": "stderr",
     "output_type": "stream",
     "text": [
      " 31%|███       | 172/560 [00:05<00:11, 33.10it/s]"
     ]
    },
    {
     "name": "stdout",
     "output_type": "stream",
     "text": [
      "multilayer_perceptron ran in: 0.015615701675415039 sec\n",
      "multilayer_perceptron ran in: 0.0 sec\n",
      "multilayer_perceptron ran in: 0.0 sec\n",
      "multilayer_perceptron ran in: 0.0 sec\n",
      "multilayer_perceptron ran in: 0.0 sec\n",
      "multilayer_perceptron ran in: 0.0 sec\n",
      "multilayer_perceptron ran in: 0.0 sec\n"
     ]
    },
    {
     "name": "stderr",
     "output_type": "stream",
     "text": [
      " 32%|███▏      | 180/560 [00:05<00:11, 33.42it/s]"
     ]
    },
    {
     "name": "stdout",
     "output_type": "stream",
     "text": [
      "multilayer_perceptron ran in: 0.0 sec\n",
      "multilayer_perceptron ran in: 0.0 sec\n",
      "multilayer_perceptron ran in: 0.0 sec\n",
      "multilayer_perceptron ran in: 0.0 sec\n",
      "multilayer_perceptron ran in: 0.0 sec\n",
      "multilayer_perceptron ran in: 0.0 sec\n",
      "multilayer_perceptron ran in: 0.0 sec\n"
     ]
    },
    {
     "name": "stderr",
     "output_type": "stream",
     "text": [
      " 34%|███▎      | 188/560 [00:05<00:11, 33.05it/s]"
     ]
    },
    {
     "name": "stdout",
     "output_type": "stream",
     "text": [
      "multilayer_perceptron ran in: 0.0 sec\n",
      "multilayer_perceptron ran in: 0.015622615814208984 sec\n",
      "multilayer_perceptron ran in: 0.015612602233886719 sec\n",
      "multilayer_perceptron ran in: 0.0 sec\n",
      "multilayer_perceptron ran in: 0.0 sec\n",
      "multilayer_perceptron ran in: 0.0 sec\n"
     ]
    },
    {
     "name": "stderr",
     "output_type": "stream",
     "text": [
      "\r",
      " 34%|███▍      | 192/560 [00:05<00:11, 32.21it/s]"
     ]
    },
    {
     "name": "stdout",
     "output_type": "stream",
     "text": [
      "multilayer_perceptron ran in: 0.0 sec\n",
      "multilayer_perceptron ran in: 0.0 sec\n",
      "multilayer_perceptron ran in: 0.0 sec\n",
      "multilayer_perceptron ran in: 0.0 sec\n",
      "multilayer_perceptron ran in: 0.0 sec\n",
      "multilayer_perceptron ran in: 0.0 sec\n"
     ]
    },
    {
     "name": "stderr",
     "output_type": "stream",
     "text": [
      " 36%|███▌      | 200/560 [00:06<00:11, 31.74it/s]"
     ]
    },
    {
     "name": "stdout",
     "output_type": "stream",
     "text": [
      "multilayer_perceptron ran in: 0.0 sec\n",
      "multilayer_perceptron ran in: 0.006510496139526367 sec\n",
      "multilayer_perceptron ran in: 0.015633821487426758 sec\n",
      "multilayer_perceptron ran in: 0.0 sec\n",
      "multilayer_perceptron ran in: 0.0156252384185791 sec\n",
      "multilayer_perceptron ran in: 0.0 sec\n",
      "multilayer_perceptron ran in: 0.0 sec\n"
     ]
    },
    {
     "name": "stderr",
     "output_type": "stream",
     "text": [
      "\r",
      " 36%|███▋      | 204/560 [00:06<00:11, 31.33it/s]"
     ]
    },
    {
     "name": "stdout",
     "output_type": "stream",
     "text": [
      "multilayer_perceptron ran in: 0.0 sec\n",
      "multilayer_perceptron ran in: 0.0 sec\n",
      "multilayer_perceptron ran in: 0.0 sec\n",
      "multilayer_perceptron ran in: 0.0 sec\n",
      "multilayer_perceptron ran in: 0.0 sec\n",
      "multilayer_perceptron ran in: 0.0 sec\n",
      "multilayer_perceptron ran in: 0.0 sec\n"
     ]
    },
    {
     "name": "stderr",
     "output_type": "stream",
     "text": [
      " 38%|███▊      | 212/560 [00:06<00:10, 32.53it/s]"
     ]
    },
    {
     "name": "stdout",
     "output_type": "stream",
     "text": [
      "multilayer_perceptron ran in: 0.0156400203704834 sec\n",
      "multilayer_perceptron ran in: 0.0 sec\n",
      "multilayer_perceptron ran in: 0.0 sec\n",
      "multilayer_perceptron ran in: 0.0 sec\n",
      "multilayer_perceptron ran in: 0.0 sec\n",
      "multilayer_perceptron ran in: 0.0 sec\n",
      "multilayer_perceptron ran in: 0.0 sec\n"
     ]
    },
    {
     "name": "stderr",
     "output_type": "stream",
     "text": [
      " 39%|███▉      | 220/560 [00:06<00:11, 30.63it/s]"
     ]
    },
    {
     "name": "stdout",
     "output_type": "stream",
     "text": [
      "multilayer_perceptron ran in: 0.0 sec\n",
      "multilayer_perceptron ran in: 0.0 sec\n",
      "multilayer_perceptron ran in: 0.0 sec\n",
      "multilayer_perceptron ran in: 0.0 sec\n",
      "multilayer_perceptron ran in: 0.0 sec\n",
      "multilayer_perceptron ran in: 0.0 sec\n",
      "multilayer_perceptron ran in: 0.0 sec\n"
     ]
    },
    {
     "name": "stderr",
     "output_type": "stream",
     "text": [
      "\r",
      " 40%|████      | 224/560 [00:06<00:10, 31.21it/s]"
     ]
    },
    {
     "name": "stdout",
     "output_type": "stream",
     "text": [
      "multilayer_perceptron ran in: 0.0 sec\n",
      "multilayer_perceptron ran in: 0.0 sec\n",
      "multilayer_perceptron ran in: 0.0 sec\n",
      "multilayer_perceptron ran in: 0.0 sec\n",
      "multilayer_perceptron ran in: 0.0 sec\n",
      "multilayer_perceptron ran in: 0.0 sec\n"
     ]
    },
    {
     "name": "stderr",
     "output_type": "stream",
     "text": [
      " 41%|████▏     | 232/560 [00:07<00:10, 31.14it/s]"
     ]
    },
    {
     "name": "stdout",
     "output_type": "stream",
     "text": [
      "multilayer_perceptron ran in: 0.0 sec\n",
      "multilayer_perceptron ran in: 0.0 sec\n",
      "multilayer_perceptron ran in: 0.0 sec\n",
      "multilayer_perceptron ran in: 0.0 sec\n",
      "multilayer_perceptron ran in: 0.0 sec\n",
      "multilayer_perceptron ran in: 0.0 sec\n"
     ]
    },
    {
     "name": "stderr",
     "output_type": "stream",
     "text": [
      "\r",
      " 42%|████▏     | 236/560 [00:07<00:10, 30.46it/s]"
     ]
    },
    {
     "name": "stdout",
     "output_type": "stream",
     "text": [
      "multilayer_perceptron ran in: 0.0 sec\n",
      "multilayer_perceptron ran in: 0.0 sec\n",
      "multilayer_perceptron ran in: 0.0 sec\n",
      "multilayer_perceptron ran in: 0.0 sec\n",
      "multilayer_perceptron ran in: 0.0 sec\n",
      "multilayer_perceptron ran in: 0.0 sec\n"
     ]
    },
    {
     "name": "stderr",
     "output_type": "stream",
     "text": [
      " 44%|████▎     | 244/560 [00:07<00:10, 30.43it/s]"
     ]
    },
    {
     "name": "stdout",
     "output_type": "stream",
     "text": [
      "multilayer_perceptron ran in: 0.0 sec\n",
      "multilayer_perceptron ran in: 0.0 sec\n",
      "multilayer_perceptron ran in: 0.0 sec\n",
      "multilayer_perceptron ran in: 0.0 sec\n",
      "multilayer_perceptron ran in: 0.0 sec\n",
      "multilayer_perceptron ran in: 0.0 sec\n",
      "multilayer_perceptron ran in: 0.0 sec\n"
     ]
    },
    {
     "name": "stderr",
     "output_type": "stream",
     "text": [
      " 45%|████▌     | 252/560 [00:07<00:09, 32.03it/s]"
     ]
    },
    {
     "name": "stdout",
     "output_type": "stream",
     "text": [
      "multilayer_perceptron ran in: 0.0 sec\n",
      "multilayer_perceptron ran in: 0.0 sec\n",
      "multilayer_perceptron ran in: 0.0 sec\n",
      "multilayer_perceptron ran in: 0.015623807907104492 sec\n",
      "multilayer_perceptron ran in: 0.0 sec\n",
      "multilayer_perceptron ran in: 0.0 sec\n",
      "multilayer_perceptron ran in: 0.0 sec\n"
     ]
    },
    {
     "name": "stderr",
     "output_type": "stream",
     "text": [
      " 46%|████▋     | 260/560 [00:08<00:09, 32.37it/s]"
     ]
    },
    {
     "name": "stdout",
     "output_type": "stream",
     "text": [
      "multilayer_perceptron ran in: 0.0 sec\n",
      "multilayer_perceptron ran in: 0.0 sec\n",
      "multilayer_perceptron ran in: 0.0 sec\n",
      "multilayer_perceptron ran in: 0.0 sec\n",
      "multilayer_perceptron ran in: 0.0 sec\n",
      "multilayer_perceptron ran in: 0.0 sec\n",
      "multilayer_perceptron ran in: 0.0 sec\n"
     ]
    },
    {
     "name": "stderr",
     "output_type": "stream",
     "text": [
      " 48%|████▊     | 268/560 [00:08<00:09, 32.18it/s]"
     ]
    },
    {
     "name": "stdout",
     "output_type": "stream",
     "text": [
      "multilayer_perceptron ran in: 0.0 sec\n",
      "multilayer_perceptron ran in: 0.0 sec\n",
      "multilayer_perceptron ran in: 0.0 sec\n",
      "multilayer_perceptron ran in: 0.0 sec\n",
      "multilayer_perceptron ran in: 0.015625715255737305 sec\n",
      "multilayer_perceptron ran in: 0.01562809944152832 sec\n",
      "multilayer_perceptron ran in: 0.0 sec\n"
     ]
    },
    {
     "name": "stderr",
     "output_type": "stream",
     "text": [
      "\r",
      " 49%|████▊     | 272/560 [00:08<00:09, 31.30it/s]"
     ]
    },
    {
     "name": "stdout",
     "output_type": "stream",
     "text": [
      "multilayer_perceptron ran in: 0.0 sec\n",
      "multilayer_perceptron ran in: 0.0 sec\n",
      "multilayer_perceptron ran in: 0.0 sec\n",
      "multilayer_perceptron ran in: 0.00099945068359375 sec\n",
      "multilayer_perceptron ran in: 0.0 sec\n",
      "multilayer_perceptron ran in: 0.0 sec\n",
      "multilayer_perceptron ran in: 0.0 sec\n"
     ]
    },
    {
     "name": "stderr",
     "output_type": "stream",
     "text": [
      " 50%|█████     | 280/560 [00:08<00:08, 31.39it/s]"
     ]
    },
    {
     "name": "stdout",
     "output_type": "stream",
     "text": [
      "multilayer_perceptron ran in: 0.0 sec\n",
      "multilayer_perceptron ran in: 0.0 sec\n",
      "multilayer_perceptron ran in: 0.0 sec\n",
      "multilayer_perceptron ran in: 0.01562952995300293 sec\n",
      "multilayer_perceptron ran in: 0.0 sec\n",
      "multilayer_perceptron ran in: 0.0 sec\n"
     ]
    },
    {
     "name": "stderr",
     "output_type": "stream",
     "text": [
      "\r",
      " 51%|█████     | 284/560 [00:08<00:08, 31.09it/s]"
     ]
    },
    {
     "name": "stdout",
     "output_type": "stream",
     "text": [
      "multilayer_perceptron ran in: 0.01562786102294922 sec\n",
      "multilayer_perceptron ran in: 0.0 sec\n",
      "multilayer_perceptron ran in: 0.0 sec\n",
      "multilayer_perceptron ran in: 0.015630483627319336 sec\n",
      "multilayer_perceptron ran in: 0.0 sec\n",
      "multilayer_perceptron ran in: 0.0 sec\n",
      "multilayer_perceptron ran in: 0.0 sec\n"
     ]
    },
    {
     "name": "stderr",
     "output_type": "stream",
     "text": [
      " 52%|█████▏    | 292/560 [00:09<00:08, 31.89it/s]"
     ]
    },
    {
     "name": "stdout",
     "output_type": "stream",
     "text": [
      "multilayer_perceptron ran in: 0.0 sec\n",
      "multilayer_perceptron ran in: 0.0 sec\n",
      "multilayer_perceptron ran in: 0.0 sec\n",
      "multilayer_perceptron ran in: 0.0 sec\n",
      "multilayer_perceptron ran in: 0.015607833862304688 sec\n",
      "multilayer_perceptron ran in: 0.0 sec\n",
      "multilayer_perceptron ran in: 0.0 sec\n"
     ]
    },
    {
     "name": "stderr",
     "output_type": "stream",
     "text": [
      " 54%|█████▎    | 300/560 [00:09<00:07, 32.80it/s]"
     ]
    },
    {
     "name": "stdout",
     "output_type": "stream",
     "text": [
      "multilayer_perceptron ran in: 0.0 sec\n",
      "multilayer_perceptron ran in: 0.0 sec\n",
      "multilayer_perceptron ran in: 0.0 sec\n",
      "multilayer_perceptron ran in: 0.0 sec\n",
      "multilayer_perceptron ran in: 0.0 sec\n",
      "multilayer_perceptron ran in: 0.0 sec\n",
      "multilayer_perceptron ran in: 0.0 sec\n"
     ]
    },
    {
     "name": "stderr",
     "output_type": "stream",
     "text": [
      " 55%|█████▌    | 308/560 [00:09<00:07, 32.75it/s]"
     ]
    },
    {
     "name": "stdout",
     "output_type": "stream",
     "text": [
      "multilayer_perceptron ran in: 0.0 sec\n",
      "multilayer_perceptron ran in: 0.0 sec\n",
      "multilayer_perceptron ran in: 0.0 sec\n",
      "multilayer_perceptron ran in: 0.0 sec\n",
      "multilayer_perceptron ran in: 0.0 sec\n",
      "multilayer_perceptron ran in: 0.0 sec\n",
      "multilayer_perceptron ran in: 0.0 sec\n"
     ]
    },
    {
     "name": "stderr",
     "output_type": "stream",
     "text": [
      "\r",
      " 56%|█████▌    | 312/560 [00:09<00:07, 32.01it/s]"
     ]
    },
    {
     "name": "stdout",
     "output_type": "stream",
     "text": [
      "multilayer_perceptron ran in: 0.0 sec\n",
      "multilayer_perceptron ran in: 0.0 sec\n",
      "multilayer_perceptron ran in: 0.0 sec\n",
      "multilayer_perceptron ran in: 0.0 sec\n",
      "multilayer_perceptron ran in: 0.0 sec\n",
      "multilayer_perceptron ran in: 0.0 sec\n",
      "multilayer_perceptron ran in: 0.0 sec\n"
     ]
    },
    {
     "name": "stderr",
     "output_type": "stream",
     "text": [
      " 57%|█████▋    | 320/560 [00:09<00:07, 32.87it/s]"
     ]
    },
    {
     "name": "stdout",
     "output_type": "stream",
     "text": [
      "multilayer_perceptron ran in: 0.0 sec\n",
      "multilayer_perceptron ran in: 0.0 sec\n",
      "multilayer_perceptron ran in: 0.0 sec\n",
      "multilayer_perceptron ran in: 0.0 sec\n",
      "multilayer_perceptron ran in: 0.0 sec\n",
      "multilayer_perceptron ran in: 0.0 sec\n",
      "multilayer_perceptron ran in: 0.0 sec\n"
     ]
    },
    {
     "name": "stderr",
     "output_type": "stream",
     "text": [
      " 59%|█████▊    | 328/560 [00:10<00:07, 31.57it/s]"
     ]
    },
    {
     "name": "stdout",
     "output_type": "stream",
     "text": [
      "multilayer_perceptron ran in: 0.0 sec\n",
      "multilayer_perceptron ran in: 0.0 sec\n",
      "multilayer_perceptron ran in: 0.0 sec\n",
      "multilayer_perceptron ran in: 0.0 sec\n",
      "multilayer_perceptron ran in: 0.0 sec\n",
      "multilayer_perceptron ran in: 0.0 sec\n",
      "multilayer_perceptron ran in: 0.0 sec\n"
     ]
    },
    {
     "name": "stderr",
     "output_type": "stream",
     "text": [
      " 60%|██████    | 336/560 [00:10<00:07, 31.11it/s]"
     ]
    },
    {
     "name": "stdout",
     "output_type": "stream",
     "text": [
      "multilayer_perceptron ran in: 0.0 sec\n",
      "multilayer_perceptron ran in: 0.0 sec\n",
      "multilayer_perceptron ran in: 0.0 sec\n",
      "multilayer_perceptron ran in: 0.0 sec\n",
      "multilayer_perceptron ran in: 0.0 sec\n",
      "multilayer_perceptron ran in: 0.0 sec\n"
     ]
    },
    {
     "name": "stderr",
     "output_type": "stream",
     "text": [
      "\r",
      " 61%|██████    | 340/560 [00:10<00:07, 30.12it/s]"
     ]
    },
    {
     "name": "stdout",
     "output_type": "stream",
     "text": [
      "multilayer_perceptron ran in: 0.0 sec\n",
      "multilayer_perceptron ran in: 0.0 sec\n",
      "multilayer_perceptron ran in: 0.0 sec\n",
      "multilayer_perceptron ran in: 0.0 sec\n",
      "multilayer_perceptron ran in: 0.0 sec\n",
      "multilayer_perceptron ran in: 0.0 sec\n"
     ]
    },
    {
     "name": "stderr",
     "output_type": "stream",
     "text": [
      " 62%|██████▏   | 348/560 [00:10<00:06, 30.72it/s]"
     ]
    },
    {
     "name": "stdout",
     "output_type": "stream",
     "text": [
      "multilayer_perceptron ran in: 0.0 sec\n",
      "multilayer_perceptron ran in: 0.0 sec\n",
      "multilayer_perceptron ran in: 0.0 sec\n",
      "multilayer_perceptron ran in: 0.0 sec\n",
      "multilayer_perceptron ran in: 0.0 sec\n",
      "multilayer_perceptron ran in: 0.0 sec\n"
     ]
    },
    {
     "name": "stderr",
     "output_type": "stream",
     "text": [
      "\r",
      " 63%|██████▎   | 352/560 [00:11<00:06, 30.62it/s]"
     ]
    },
    {
     "name": "stdout",
     "output_type": "stream",
     "text": [
      "multilayer_perceptron ran in: 0.0 sec\n",
      "multilayer_perceptron ran in: 0.0 sec\n",
      "multilayer_perceptron ran in: 0.0 sec\n",
      "multilayer_perceptron ran in: 0.0 sec\n",
      "multilayer_perceptron ran in: 0.0 sec\n",
      "multilayer_perceptron ran in: 0.0 sec\n",
      "multilayer_perceptron ran in: 0.0 sec\n"
     ]
    },
    {
     "name": "stderr",
     "output_type": "stream",
     "text": [
      " 64%|██████▍   | 360/560 [00:11<00:06, 30.97it/s]"
     ]
    },
    {
     "name": "stdout",
     "output_type": "stream",
     "text": [
      "multilayer_perceptron ran in: 0.0 sec\n",
      "multilayer_perceptron ran in: 0.0 sec\n",
      "multilayer_perceptron ran in: 0.0 sec\n",
      "multilayer_perceptron ran in: 0.0 sec\n",
      "multilayer_perceptron ran in: 0.0 sec\n",
      "multilayer_perceptron ran in: 0.0 sec\n",
      "multilayer_perceptron ran in: 0.0 sec\n"
     ]
    },
    {
     "name": "stderr",
     "output_type": "stream",
     "text": [
      " 66%|██████▌   | 368/560 [00:11<00:05, 32.68it/s]"
     ]
    },
    {
     "name": "stdout",
     "output_type": "stream",
     "text": [
      "multilayer_perceptron ran in: 0.0 sec\n",
      "multilayer_perceptron ran in: 0.0 sec\n",
      "multilayer_perceptron ran in: 0.0 sec\n",
      "multilayer_perceptron ran in: 0.015626907348632812 sec\n",
      "multilayer_perceptron ran in: 0.0 sec\n",
      "multilayer_perceptron ran in: 0.0 sec\n",
      "multilayer_perceptron ran in: 0.0 sec\n"
     ]
    },
    {
     "name": "stderr",
     "output_type": "stream",
     "text": [
      " 67%|██████▋   | 376/560 [00:11<00:05, 33.04it/s]"
     ]
    },
    {
     "name": "stdout",
     "output_type": "stream",
     "text": [
      "multilayer_perceptron ran in: 0.0 sec\n",
      "multilayer_perceptron ran in: 0.0 sec\n",
      "multilayer_perceptron ran in: 0.0 sec\n",
      "multilayer_perceptron ran in: 0.0 sec\n",
      "multilayer_perceptron ran in: 0.0 sec\n",
      "multilayer_perceptron ran in: 0.015625 sec\n",
      "multilayer_perceptron ran in: 0.0 sec\n"
     ]
    },
    {
     "name": "stderr",
     "output_type": "stream",
     "text": [
      "\r",
      " 68%|██████▊   | 380/560 [00:11<00:05, 32.20it/s]"
     ]
    },
    {
     "name": "stdout",
     "output_type": "stream",
     "text": [
      "multilayer_perceptron ran in: 0.0 sec\n",
      "multilayer_perceptron ran in: 0.0 sec\n",
      "multilayer_perceptron ran in: 0.0 sec\n",
      "multilayer_perceptron ran in: 0.0 sec\n",
      "multilayer_perceptron ran in: 0.0 sec\n",
      "multilayer_perceptron ran in: 0.0 sec\n",
      "multilayer_perceptron ran in: 0.0 sec\n"
     ]
    },
    {
     "name": "stderr",
     "output_type": "stream",
     "text": [
      " 69%|██████▉   | 388/560 [00:12<00:05, 32.09it/s]"
     ]
    },
    {
     "name": "stdout",
     "output_type": "stream",
     "text": [
      "multilayer_perceptron ran in: 0.0 sec\n",
      "multilayer_perceptron ran in: 0.0 sec\n",
      "multilayer_perceptron ran in: 0.006508827209472656 sec\n",
      "multilayer_perceptron ran in: 0.0 sec\n",
      "multilayer_perceptron ran in: 0.0 sec\n",
      "multilayer_perceptron ran in: 0.015610218048095703 sec\n",
      "multilayer_perceptron ran in: 0.0 sec\n"
     ]
    },
    {
     "name": "stderr",
     "output_type": "stream",
     "text": [
      " 71%|███████   | 396/560 [00:12<00:04, 32.90it/s]"
     ]
    },
    {
     "name": "stdout",
     "output_type": "stream",
     "text": [
      "multilayer_perceptron ran in: 0.0 sec\n",
      "multilayer_perceptron ran in: 0.0 sec\n",
      "multilayer_perceptron ran in: 0.0 sec\n",
      "multilayer_perceptron ran in: 0.0 sec\n",
      "multilayer_perceptron ran in: 0.0 sec\n",
      "multilayer_perceptron ran in: 0.0 sec\n"
     ]
    },
    {
     "name": "stderr",
     "output_type": "stream",
     "text": [
      "\r",
      " 71%|███████▏  | 400/560 [00:12<00:04, 33.00it/s]"
     ]
    },
    {
     "name": "stdout",
     "output_type": "stream",
     "text": [
      "multilayer_perceptron ran in: 0.0 sec\n",
      "multilayer_perceptron ran in: 0.0 sec\n",
      "multilayer_perceptron ran in: 0.0 sec\n",
      "multilayer_perceptron ran in: 0.0 sec\n",
      "multilayer_perceptron ran in: 0.0 sec\n",
      "multilayer_perceptron ran in: 0.0 sec\n",
      "multilayer_perceptron ran in: 0.0 sec\n"
     ]
    },
    {
     "name": "stderr",
     "output_type": "stream",
     "text": [
      " 73%|███████▎  | 408/560 [00:12<00:04, 33.10it/s]"
     ]
    },
    {
     "name": "stdout",
     "output_type": "stream",
     "text": [
      "multilayer_perceptron ran in: 0.0 sec\n",
      "multilayer_perceptron ran in: 0.0 sec\n",
      "multilayer_perceptron ran in: 0.0 sec\n",
      "multilayer_perceptron ran in: 0.0 sec\n",
      "multilayer_perceptron ran in: 0.0 sec\n",
      "multilayer_perceptron ran in: 0.0 sec\n",
      "multilayer_perceptron ran in: 0.0 sec\n"
     ]
    },
    {
     "name": "stderr",
     "output_type": "stream",
     "text": [
      " 74%|███████▍  | 416/560 [00:13<00:04, 32.16it/s]"
     ]
    },
    {
     "name": "stdout",
     "output_type": "stream",
     "text": [
      "multilayer_perceptron ran in: 0.0 sec\n",
      "multilayer_perceptron ran in: 0.0 sec\n",
      "multilayer_perceptron ran in: 0.0 sec\n",
      "multilayer_perceptron ran in: 0.0 sec\n",
      "multilayer_perceptron ran in: 0.0 sec\n",
      "multilayer_perceptron ran in: 0.0 sec\n"
     ]
    },
    {
     "name": "stderr",
     "output_type": "stream",
     "text": [
      "\r",
      " 75%|███████▌  | 420/560 [00:13<00:04, 32.83it/s]"
     ]
    },
    {
     "name": "stdout",
     "output_type": "stream",
     "text": [
      "multilayer_perceptron ran in: 0.015626907348632812 sec\n",
      "multilayer_perceptron ran in: 0.0 sec\n",
      "multilayer_perceptron ran in: 0.0 sec\n",
      "multilayer_perceptron ran in: 0.0 sec\n",
      "multilayer_perceptron ran in: 0.0 sec\n",
      "multilayer_perceptron ran in: 0.0 sec\n",
      "multilayer_perceptron ran in: 0.0 sec\n"
     ]
    },
    {
     "name": "stderr",
     "output_type": "stream",
     "text": [
      " 76%|███████▋  | 428/560 [00:13<00:03, 33.67it/s]"
     ]
    },
    {
     "name": "stdout",
     "output_type": "stream",
     "text": [
      "multilayer_perceptron ran in: 0.0 sec\n",
      "multilayer_perceptron ran in: 0.0 sec\n",
      "multilayer_perceptron ran in: 0.0 sec\n",
      "multilayer_perceptron ran in: 0.0 sec\n",
      "multilayer_perceptron ran in: 0.0 sec\n",
      "multilayer_perceptron ran in: 0.0 sec\n",
      "multilayer_perceptron ran in: 0.0 sec\n"
     ]
    },
    {
     "name": "stderr",
     "output_type": "stream",
     "text": [
      " 78%|███████▊  | 436/560 [00:13<00:04, 27.33it/s]"
     ]
    },
    {
     "name": "stdout",
     "output_type": "stream",
     "text": [
      "multilayer_perceptron ran in: 0.0 sec\n",
      "multilayer_perceptron ran in: 0.0 sec\n",
      "multilayer_perceptron ran in: 0.0 sec\n",
      "multilayer_perceptron ran in: 0.0 sec\n",
      "multilayer_perceptron ran in: 0.0 sec\n",
      "multilayer_perceptron ran in: 0.0 sec\n"
     ]
    },
    {
     "name": "stderr",
     "output_type": "stream",
     "text": [
      "\r",
      " 79%|███████▊  | 440/560 [00:13<00:04, 28.19it/s]"
     ]
    },
    {
     "name": "stdout",
     "output_type": "stream",
     "text": [
      "multilayer_perceptron ran in: 0.0 sec\n",
      "multilayer_perceptron ran in: 0.0 sec\n",
      "multilayer_perceptron ran in: 0.0 sec\n",
      "multilayer_perceptron ran in: 0.0 sec\n",
      "multilayer_perceptron ran in: 0.0 sec\n",
      "multilayer_perceptron ran in: 0.0 sec\n",
      "multilayer_perceptron ran in: 0.0 sec\n"
     ]
    },
    {
     "name": "stderr",
     "output_type": "stream",
     "text": [
      " 80%|████████  | 448/560 [00:14<00:03, 30.76it/s]"
     ]
    },
    {
     "name": "stdout",
     "output_type": "stream",
     "text": [
      "multilayer_perceptron ran in: 0.0 sec\n",
      "multilayer_perceptron ran in: 0.0 sec\n",
      "multilayer_perceptron ran in: 0.0 sec\n",
      "multilayer_perceptron ran in: 0.0 sec\n",
      "multilayer_perceptron ran in: 0.0 sec\n",
      "multilayer_perceptron ran in: 0.0 sec\n",
      "multilayer_perceptron ran in: 0.0 sec\n",
      "multilayer_perceptron ran in: 0.0 sec\n"
     ]
    },
    {
     "name": "stderr",
     "output_type": "stream",
     "text": [
      " 81%|████████▏ | 456/560 [00:14<00:03, 31.37it/s]"
     ]
    },
    {
     "name": "stdout",
     "output_type": "stream",
     "text": [
      "multilayer_perceptron ran in: 0.0 sec\n",
      "multilayer_perceptron ran in: 0.0 sec\n",
      "multilayer_perceptron ran in: 0.0 sec\n",
      "multilayer_perceptron ran in: 0.0 sec\n",
      "multilayer_perceptron ran in: 0.0 sec\n",
      "multilayer_perceptron ran in: 0.0 sec\n",
      "multilayer_perceptron ran in: 0.0 sec\n"
     ]
    },
    {
     "name": "stderr",
     "output_type": "stream",
     "text": [
      " 83%|████████▎ | 464/560 [00:14<00:02, 32.38it/s]"
     ]
    },
    {
     "name": "stdout",
     "output_type": "stream",
     "text": [
      "multilayer_perceptron ran in: 0.0 sec\n",
      "multilayer_perceptron ran in: 0.0 sec\n",
      "multilayer_perceptron ran in: 0.0 sec\n",
      "multilayer_perceptron ran in: 0.0 sec\n",
      "multilayer_perceptron ran in: 0.0 sec\n",
      "multilayer_perceptron ran in: 0.0 sec\n",
      "multilayer_perceptron ran in: 0.0 sec\n"
     ]
    },
    {
     "name": "stderr",
     "output_type": "stream",
     "text": [
      " 84%|████████▍ | 472/560 [00:14<00:02, 33.43it/s]"
     ]
    },
    {
     "name": "stdout",
     "output_type": "stream",
     "text": [
      "multilayer_perceptron ran in: 0.015625 sec\n",
      "multilayer_perceptron ran in: 0.0 sec\n",
      "multilayer_perceptron ran in: 0.0 sec\n",
      "multilayer_perceptron ran in: 0.0 sec\n",
      "multilayer_perceptron ran in: 0.0 sec\n",
      "multilayer_perceptron ran in: 0.0 sec\n",
      "multilayer_perceptron ran in: 0.0 sec\n",
      "multilayer_perceptron ran in: 0.0 sec\n"
     ]
    },
    {
     "name": "stderr",
     "output_type": "stream",
     "text": [
      "\r",
      " 85%|████████▌ | 476/560 [00:14<00:02, 32.46it/s]"
     ]
    },
    {
     "name": "stdout",
     "output_type": "stream",
     "text": [
      "multilayer_perceptron ran in: 0.0 sec\n",
      "multilayer_perceptron ran in: 0.0 sec\n",
      "multilayer_perceptron ran in: 0.0 sec\n",
      "multilayer_perceptron ran in: 0.0 sec\n",
      "multilayer_perceptron ran in: 0.0 sec\n",
      "multilayer_perceptron ran in: 0.0 sec\n",
      "multilayer_perceptron ran in: 0.0 sec\n"
     ]
    },
    {
     "name": "stderr",
     "output_type": "stream",
     "text": [
      " 86%|████████▋ | 484/560 [00:15<00:02, 32.94it/s]"
     ]
    },
    {
     "name": "stdout",
     "output_type": "stream",
     "text": [
      "multilayer_perceptron ran in: 0.0 sec\n",
      "multilayer_perceptron ran in: 0.0 sec\n",
      "multilayer_perceptron ran in: 0.0 sec\n",
      "multilayer_perceptron ran in: 0.0 sec\n",
      "multilayer_perceptron ran in: 0.015633344650268555 sec\n",
      "multilayer_perceptron ran in: 0.0 sec\n",
      "multilayer_perceptron ran in: 0.0 sec\n"
     ]
    },
    {
     "name": "stderr",
     "output_type": "stream",
     "text": [
      " 88%|████████▊ | 492/560 [00:15<00:02, 33.72it/s]"
     ]
    },
    {
     "name": "stdout",
     "output_type": "stream",
     "text": [
      "multilayer_perceptron ran in: 0.0 sec\n",
      "multilayer_perceptron ran in: 0.0 sec\n",
      "multilayer_perceptron ran in: 0.0 sec\n",
      "multilayer_perceptron ran in: 0.015608787536621094 sec\n",
      "multilayer_perceptron ran in: 0.0 sec\n",
      "multilayer_perceptron ran in: 0.0 sec\n",
      "multilayer_perceptron ran in: 0.0 sec\n"
     ]
    },
    {
     "name": "stderr",
     "output_type": "stream",
     "text": [
      " 89%|████████▉ | 500/560 [00:15<00:01, 33.19it/s]"
     ]
    },
    {
     "name": "stdout",
     "output_type": "stream",
     "text": [
      "multilayer_perceptron ran in: 0.0 sec\n",
      "multilayer_perceptron ran in: 0.0 sec\n",
      "multilayer_perceptron ran in: 0.0 sec\n",
      "multilayer_perceptron ran in: 0.0 sec\n",
      "multilayer_perceptron ran in: 0.0156252384185791 sec\n",
      "multilayer_perceptron ran in: 0.0 sec\n"
     ]
    },
    {
     "name": "stderr",
     "output_type": "stream",
     "text": [
      "\r",
      " 90%|█████████ | 504/560 [00:15<00:01, 33.03it/s]"
     ]
    },
    {
     "name": "stdout",
     "output_type": "stream",
     "text": [
      "multilayer_perceptron ran in: 0.0 sec\n",
      "multilayer_perceptron ran in: 0.0 sec\n",
      "multilayer_perceptron ran in: 0.0 sec\n",
      "multilayer_perceptron ran in: 0.0 sec\n",
      "multilayer_perceptron ran in: 0.0 sec\n",
      "multilayer_perceptron ran in: 0.0 sec\n",
      "multilayer_perceptron ran in: 0.0 sec\n"
     ]
    },
    {
     "name": "stderr",
     "output_type": "stream",
     "text": [
      " 91%|█████████▏| 512/560 [00:16<00:01, 33.77it/s]"
     ]
    },
    {
     "name": "stdout",
     "output_type": "stream",
     "text": [
      "multilayer_perceptron ran in: 0.0 sec\n",
      "multilayer_perceptron ran in: 0.0 sec\n",
      "multilayer_perceptron ran in: 0.0 sec\n",
      "multilayer_perceptron ran in: 0.0 sec\n",
      "multilayer_perceptron ran in: 0.0 sec\n",
      "multilayer_perceptron ran in: 0.0 sec\n",
      "multilayer_perceptron ran in: 0.0 sec\n",
      "multilayer_perceptron ran in: 0.0 sec\n"
     ]
    },
    {
     "name": "stderr",
     "output_type": "stream",
     "text": [
      " 93%|█████████▎| 520/560 [00:16<00:01, 33.21it/s]"
     ]
    },
    {
     "name": "stdout",
     "output_type": "stream",
     "text": [
      "multilayer_perceptron ran in: 0.0 sec\n",
      "multilayer_perceptron ran in: 0.0 sec\n",
      "multilayer_perceptron ran in: 0.0 sec\n",
      "multilayer_perceptron ran in: 0.0 sec\n",
      "multilayer_perceptron ran in: 0.0 sec\n",
      "multilayer_perceptron ran in: 0.0 sec\n",
      "multilayer_perceptron ran in: 0.0 sec\n"
     ]
    },
    {
     "name": "stderr",
     "output_type": "stream",
     "text": [
      " 94%|█████████▍| 528/560 [00:16<00:00, 33.12it/s]"
     ]
    },
    {
     "name": "stdout",
     "output_type": "stream",
     "text": [
      "multilayer_perceptron ran in: 0.0 sec\n",
      "multilayer_perceptron ran in: 0.0 sec\n",
      "multilayer_perceptron ran in: 0.0 sec\n",
      "multilayer_perceptron ran in: 0.015627145767211914 sec\n",
      "multilayer_perceptron ran in: 0.0 sec\n",
      "multilayer_perceptron ran in: 0.0 sec\n",
      "multilayer_perceptron ran in: 0.0 sec\n"
     ]
    },
    {
     "name": "stderr",
     "output_type": "stream",
     "text": [
      "\r",
      " 95%|█████████▌| 532/560 [00:16<00:00, 33.90it/s]"
     ]
    },
    {
     "name": "stdout",
     "output_type": "stream",
     "text": [
      "multilayer_perceptron ran in: 0.0 sec\n",
      "multilayer_perceptron ran in: 0.0 sec\n",
      "multilayer_perceptron ran in: 0.0 sec\n",
      "multilayer_perceptron ran in: 0.0 sec\n",
      "multilayer_perceptron ran in: 0.0 sec\n",
      "multilayer_perceptron ran in: 0.0 sec\n",
      "multilayer_perceptron ran in: 0.0 sec\n"
     ]
    },
    {
     "name": "stderr",
     "output_type": "stream",
     "text": [
      " 96%|█████████▋| 540/560 [00:16<00:00, 33.28it/s]"
     ]
    },
    {
     "name": "stdout",
     "output_type": "stream",
     "text": [
      "multilayer_perceptron ran in: 0.0 sec\n",
      "multilayer_perceptron ran in: 0.0 sec\n",
      "multilayer_perceptron ran in: 0.0 sec\n",
      "multilayer_perceptron ran in: 0.0 sec\n",
      "multilayer_perceptron ran in: 0.0 sec\n",
      "multilayer_perceptron ran in: 0.0 sec\n",
      "multilayer_perceptron ran in: 0.0 sec\n"
     ]
    },
    {
     "name": "stderr",
     "output_type": "stream",
     "text": [
      " 98%|█████████▊| 548/560 [00:17<00:00, 33.50it/s]"
     ]
    },
    {
     "name": "stdout",
     "output_type": "stream",
     "text": [
      "multilayer_perceptron ran in: 0.0 sec\n",
      "multilayer_perceptron ran in: 0.0 sec\n",
      "multilayer_perceptron ran in: 0.0 sec\n",
      "multilayer_perceptron ran in: 0.0 sec\n",
      "multilayer_perceptron ran in: 0.0 sec\n",
      "multilayer_perceptron ran in: 0.0 sec\n",
      "multilayer_perceptron ran in: 0.015613794326782227 sec\n"
     ]
    },
    {
     "name": "stderr",
     "output_type": "stream",
     "text": [
      " 99%|█████████▉| 556/560 [00:17<00:00, 32.70it/s]"
     ]
    },
    {
     "name": "stdout",
     "output_type": "stream",
     "text": [
      "multilayer_perceptron ran in: 0.015625715255737305 sec\n",
      "multilayer_perceptron ran in: 0.0 sec\n",
      "multilayer_perceptron ran in: 0.0 sec\n",
      "multilayer_perceptron ran in: 0.0 sec\n",
      "multilayer_perceptron ran in: 0.0 sec\n",
      "multilayer_perceptron ran in: 0.0 sec\n",
      "multilayer_perceptron ran in: 0.0 sec\n"
     ]
    },
    {
     "name": "stderr",
     "output_type": "stream",
     "text": [
      "100%|██████████| 560/560 [00:17<00:00, 32.07it/s]\n"
     ]
    },
    {
     "name": "stdout",
     "output_type": "stream",
     "text": [
      "multilayer_perceptron ran in: 0.0 sec\n",
      "multilayer_perceptron ran in: 0.0 sec\n",
      "multilayer_perceptron ran in: 0.01562643051147461 sec\n",
      "Epoch: 12 Cost=173345.6719\n"
     ]
    },
    {
     "name": "stderr",
     "output_type": "stream",
     "text": [
      "\r",
      "  0%|          | 0/560 [00:00<?, ?it/s]"
     ]
    },
    {
     "name": "stdout",
     "output_type": "stream",
     "text": [
      "multilayer_perceptron ran in: 0.0 sec\n",
      "multilayer_perceptron ran in: 0.0 sec\n",
      "multilayer_perceptron ran in: 0.0 sec\n"
     ]
    },
    {
     "name": "stderr",
     "output_type": "stream",
     "text": [
      "\r",
      "  1%|          | 4/560 [00:00<00:17, 32.67it/s]"
     ]
    },
    {
     "name": "stdout",
     "output_type": "stream",
     "text": [
      "multilayer_perceptron ran in: 0.0 sec\n",
      "multilayer_perceptron ran in: 0.0 sec\n",
      "multilayer_perceptron ran in: 0.0 sec\n",
      "multilayer_perceptron ran in: 0.0 sec\n"
     ]
    },
    {
     "name": "stderr",
     "output_type": "stream",
     "text": [
      "\r",
      "  1%|▏         | 8/560 [00:00<00:16, 33.73it/s]"
     ]
    },
    {
     "name": "stdout",
     "output_type": "stream",
     "text": [
      "multilayer_perceptron ran in: 0.0 sec\n",
      "multilayer_perceptron ran in: 0.0 sec\n",
      "multilayer_perceptron ran in: 0.0 sec\n"
     ]
    },
    {
     "name": "stderr",
     "output_type": "stream",
     "text": [
      "\r",
      "  2%|▏         | 12/560 [00:00<00:17, 32.13it/s]"
     ]
    },
    {
     "name": "stdout",
     "output_type": "stream",
     "text": [
      "multilayer_perceptron ran in: 0.0 sec\n",
      "multilayer_perceptron ran in: 0.0 sec\n",
      "multilayer_perceptron ran in: 0.0 sec\n",
      "multilayer_perceptron ran in: 0.0 sec\n"
     ]
    },
    {
     "name": "stderr",
     "output_type": "stream",
     "text": [
      "\r",
      "  3%|▎         | 16/560 [00:00<00:16, 33.03it/s]"
     ]
    },
    {
     "name": "stdout",
     "output_type": "stream",
     "text": [
      "multilayer_perceptron ran in: 0.0 sec\n",
      "multilayer_perceptron ran in: 0.0 sec\n",
      "multilayer_perceptron ran in: 0.015629291534423828 sec\n"
     ]
    },
    {
     "name": "stderr",
     "output_type": "stream",
     "text": [
      "\r",
      "  4%|▎         | 20/560 [00:00<00:16, 33.55it/s]"
     ]
    },
    {
     "name": "stdout",
     "output_type": "stream",
     "text": [
      "multilayer_perceptron ran in: 0.0 sec\n",
      "multilayer_perceptron ran in: 0.0 sec\n",
      "multilayer_perceptron ran in: 0.0 sec\n",
      "multilayer_perceptron ran in: 0.0 sec\n"
     ]
    },
    {
     "name": "stderr",
     "output_type": "stream",
     "text": [
      "\r",
      "  4%|▍         | 24/560 [00:00<00:16, 33.25it/s]"
     ]
    },
    {
     "name": "stdout",
     "output_type": "stream",
     "text": [
      "multilayer_perceptron ran in: 0.0 sec\n",
      "multilayer_perceptron ran in: 0.0 sec\n",
      "multilayer_perceptron ran in: 0.0 sec\n",
      "multilayer_perceptron ran in: 0.0 sec\n",
      "multilayer_perceptron ran in: 0.0 sec\n",
      "multilayer_perceptron ran in: 0.0 sec\n",
      "multilayer_perceptron ran in: 0.0 sec\n"
     ]
    },
    {
     "name": "stderr",
     "output_type": "stream",
     "text": [
      "\r",
      "  5%|▌         | 28/560 [00:00<00:15, 33.65it/s]"
     ]
    },
    {
     "name": "stdout",
     "output_type": "stream",
     "text": [
      "multilayer_perceptron ran in: 0.0 sec\n",
      "multilayer_perceptron ran in: 0.0 sec\n",
      "multilayer_perceptron ran in: 0.0 sec\n"
     ]
    },
    {
     "name": "stderr",
     "output_type": "stream",
     "text": [
      "\r",
      "  6%|▌         | 32/560 [00:00<00:16, 32.54it/s]"
     ]
    },
    {
     "name": "stdout",
     "output_type": "stream",
     "text": [
      "multilayer_perceptron ran in: 0.0 sec\n",
      "multilayer_perceptron ran in: 0.0 sec\n",
      "multilayer_perceptron ran in: 0.0 sec\n",
      "multilayer_perceptron ran in: 0.015645742416381836 sec\n"
     ]
    },
    {
     "name": "stderr",
     "output_type": "stream",
     "text": [
      "\r",
      "  6%|▋         | 36/560 [00:01<00:15, 33.15it/s]"
     ]
    },
    {
     "name": "stdout",
     "output_type": "stream",
     "text": [
      "multilayer_perceptron ran in: 0.0 sec\n",
      "multilayer_perceptron ran in: 0.0 sec\n",
      "multilayer_perceptron ran in: 0.0 sec\n"
     ]
    },
    {
     "name": "stderr",
     "output_type": "stream",
     "text": [
      "\r",
      "  7%|▋         | 40/560 [00:01<00:15, 33.56it/s]"
     ]
    },
    {
     "name": "stdout",
     "output_type": "stream",
     "text": [
      "multilayer_perceptron ran in: 0.0 sec\n",
      "multilayer_perceptron ran in: 0.0 sec\n",
      "multilayer_perceptron ran in: 0.0 sec\n",
      "multilayer_perceptron ran in: 0.0 sec\n",
      "multilayer_perceptron ran in: 0.0 sec\n"
     ]
    },
    {
     "name": "stderr",
     "output_type": "stream",
     "text": [
      "\r",
      "  8%|▊         | 44/560 [00:01<00:15, 33.28it/s]"
     ]
    },
    {
     "name": "stdout",
     "output_type": "stream",
     "text": [
      "multilayer_perceptron ran in: 0.0 sec\n",
      "multilayer_perceptron ran in: 0.01564764976501465 sec\n"
     ]
    },
    {
     "name": "stderr",
     "output_type": "stream",
     "text": [
      "\r",
      "  9%|▊         | 48/560 [00:01<00:15, 33.64it/s]"
     ]
    },
    {
     "name": "stdout",
     "output_type": "stream",
     "text": [
      "multilayer_perceptron ran in: 0.015626907348632812 sec\n",
      "multilayer_perceptron ran in: 0.015613794326782227 sec\n",
      "multilayer_perceptron ran in: 0.0 sec\n",
      "multilayer_perceptron ran in: 0.0 sec\n",
      "multilayer_perceptron ran in: 0.0 sec\n"
     ]
    },
    {
     "name": "stderr",
     "output_type": "stream",
     "text": [
      "\r",
      "  9%|▉         | 52/560 [00:01<00:14, 33.90it/s]"
     ]
    },
    {
     "name": "stdout",
     "output_type": "stream",
     "text": [
      "multilayer_perceptron ran in: 0.0 sec\n",
      "multilayer_perceptron ran in: 0.0 sec\n"
     ]
    },
    {
     "name": "stderr",
     "output_type": "stream",
     "text": [
      "\r",
      " 10%|█         | 56/560 [00:01<00:15, 32.76it/s]"
     ]
    },
    {
     "name": "stdout",
     "output_type": "stream",
     "text": [
      "multilayer_perceptron ran in: 0.0 sec\n",
      "multilayer_perceptron ran in: 0.0 sec\n",
      "multilayer_perceptron ran in: 0.0 sec\n",
      "multilayer_perceptron ran in: 0.0 sec\n",
      "multilayer_perceptron ran in: 0.0 sec\n",
      "multilayer_perceptron ran in: 0.0 sec\n",
      "multilayer_perceptron ran in: 0.0 sec\n"
     ]
    },
    {
     "name": "stderr",
     "output_type": "stream",
     "text": [
      " 11%|█▏        | 64/560 [00:01<00:14, 33.09it/s]"
     ]
    },
    {
     "name": "stdout",
     "output_type": "stream",
     "text": [
      "multilayer_perceptron ran in: 0.0 sec\n",
      "multilayer_perceptron ran in: 0.0 sec\n",
      "multilayer_perceptron ran in: 0.0 sec\n",
      "multilayer_perceptron ran in: 0.0 sec\n",
      "multilayer_perceptron ran in: 0.0 sec\n",
      "multilayer_perceptron ran in: 0.0 sec\n",
      "multilayer_perceptron ran in: 0.0 sec\n"
     ]
    },
    {
     "name": "stderr",
     "output_type": "stream",
     "text": [
      " 13%|█▎        | 72/560 [00:02<00:14, 33.80it/s]"
     ]
    },
    {
     "name": "stdout",
     "output_type": "stream",
     "text": [
      "multilayer_perceptron ran in: 0.0 sec\n",
      "multilayer_perceptron ran in: 0.0 sec\n",
      "multilayer_perceptron ran in: 0.0 sec\n",
      "multilayer_perceptron ran in: 0.0 sec\n",
      "multilayer_perceptron ran in: 0.015624284744262695 sec\n",
      "multilayer_perceptron ran in: 0.0 sec\n",
      "multilayer_perceptron ran in: 0.0 sec\n"
     ]
    },
    {
     "name": "stderr",
     "output_type": "stream",
     "text": [
      "\r",
      " 14%|█▎        | 76/560 [00:02<00:14, 32.70it/s]"
     ]
    },
    {
     "name": "stdout",
     "output_type": "stream",
     "text": [
      "multilayer_perceptron ran in: 0.0 sec\n",
      "multilayer_perceptron ran in: 0.0 sec\n",
      "multilayer_perceptron ran in: 0.0 sec\n",
      "multilayer_perceptron ran in: 0.0 sec\n",
      "multilayer_perceptron ran in: 0.0 sec\n",
      "multilayer_perceptron ran in: 0.0 sec\n",
      "multilayer_perceptron ran in: 0.0 sec\n"
     ]
    },
    {
     "name": "stderr",
     "output_type": "stream",
     "text": [
      " 15%|█▌        | 84/560 [00:02<00:14, 33.06it/s]"
     ]
    },
    {
     "name": "stdout",
     "output_type": "stream",
     "text": [
      "multilayer_perceptron ran in: 0.0 sec\n",
      "multilayer_perceptron ran in: 0.0 sec\n",
      "multilayer_perceptron ran in: 0.0 sec\n",
      "multilayer_perceptron ran in: 0.0 sec\n",
      "multilayer_perceptron ran in: 0.0 sec\n",
      "multilayer_perceptron ran in: 0.0 sec\n",
      "multilayer_perceptron ran in: 0.0 sec\n"
     ]
    },
    {
     "name": "stderr",
     "output_type": "stream",
     "text": [
      "\r",
      " 16%|█▌        | 88/560 [00:02<00:14, 33.48it/s]"
     ]
    },
    {
     "name": "stdout",
     "output_type": "stream",
     "text": [
      "multilayer_perceptron ran in: 0.0 sec\n",
      "multilayer_perceptron ran in: 0.0 sec\n",
      "multilayer_perceptron ran in: 0.0 sec\n",
      "multilayer_perceptron ran in: 0.0 sec\n",
      "multilayer_perceptron ran in: 0.0 sec\n"
     ]
    },
    {
     "name": "stderr",
     "output_type": "stream",
     "text": [
      "\r",
      " 16%|█▋        | 92/560 [00:02<00:13, 33.78it/s]"
     ]
    },
    {
     "name": "stdout",
     "output_type": "stream",
     "text": [
      "multilayer_perceptron ran in: 0.0 sec\n",
      "multilayer_perceptron ran in: 0.0 sec\n",
      "multilayer_perceptron ran in: 0.0 sec\n"
     ]
    },
    {
     "name": "stderr",
     "output_type": "stream",
     "text": [
      "\r",
      " 17%|█▋        | 96/560 [00:02<00:14, 32.70it/s]"
     ]
    },
    {
     "name": "stdout",
     "output_type": "stream",
     "text": [
      "multilayer_perceptron ran in: 0.01562643051147461 sec\n",
      "multilayer_perceptron ran in: 0.0 sec\n",
      "multilayer_perceptron ran in: 0.0 sec\n",
      "multilayer_perceptron ran in: 0.0 sec\n"
     ]
    },
    {
     "name": "stderr",
     "output_type": "stream",
     "text": [
      "\r",
      " 18%|█▊        | 100/560 [00:03<00:14, 31.98it/s]"
     ]
    },
    {
     "name": "stdout",
     "output_type": "stream",
     "text": [
      "multilayer_perceptron ran in: 0.0 sec\n",
      "multilayer_perceptron ran in: 0.0 sec\n",
      "multilayer_perceptron ran in: 0.0 sec\n"
     ]
    },
    {
     "name": "stderr",
     "output_type": "stream",
     "text": [
      "\r",
      " 19%|█▊        | 104/560 [00:03<00:13, 33.47it/s]"
     ]
    },
    {
     "name": "stdout",
     "output_type": "stream",
     "text": [
      "multilayer_perceptron ran in: 0.0 sec\n",
      "multilayer_perceptron ran in: 0.0 sec\n",
      "multilayer_perceptron ran in: 0.0 sec\n",
      "multilayer_perceptron ran in: 0.0 sec\n"
     ]
    },
    {
     "name": "stderr",
     "output_type": "stream",
     "text": [
      "\r",
      " 19%|█▉        | 108/560 [00:03<00:13, 33.77it/s]"
     ]
    },
    {
     "name": "stdout",
     "output_type": "stream",
     "text": [
      "multilayer_perceptron ran in: 0.0 sec\n",
      "multilayer_perceptron ran in: 0.0 sec\n",
      "multilayer_perceptron ran in: 0.0 sec\n"
     ]
    },
    {
     "name": "stderr",
     "output_type": "stream",
     "text": [
      "\r",
      " 20%|██        | 112/560 [00:03<00:13, 32.69it/s]"
     ]
    },
    {
     "name": "stdout",
     "output_type": "stream",
     "text": [
      "multilayer_perceptron ran in: 0.0 sec\n",
      "multilayer_perceptron ran in: 0.0 sec\n",
      "multilayer_perceptron ran in: 0.0 sec\n",
      "multilayer_perceptron ran in: 0.0 sec\n",
      "multilayer_perceptron ran in: 0.0 sec\n",
      "multilayer_perceptron ran in: 0.0 sec\n",
      "multilayer_perceptron ran in: 0.0 sec\n"
     ]
    },
    {
     "name": "stderr",
     "output_type": "stream",
     "text": [
      " 21%|██▏       | 120/560 [00:03<00:13, 33.59it/s]"
     ]
    },
    {
     "name": "stdout",
     "output_type": "stream",
     "text": [
      "multilayer_perceptron ran in: 0.0 sec\n",
      "multilayer_perceptron ran in: 0.0 sec\n",
      "multilayer_perceptron ran in: 0.0 sec\n",
      "multilayer_perceptron ran in: 0.0 sec\n",
      "multilayer_perceptron ran in: 0.0 sec\n",
      "multilayer_perceptron ran in: 0.0 sec\n",
      "multilayer_perceptron ran in: 0.0 sec\n"
     ]
    },
    {
     "name": "stderr",
     "output_type": "stream",
     "text": [
      " 23%|██▎       | 128/560 [00:03<00:12, 33.66it/s]"
     ]
    },
    {
     "name": "stdout",
     "output_type": "stream",
     "text": [
      "multilayer_perceptron ran in: 0.0 sec\n",
      "multilayer_perceptron ran in: 0.0 sec\n",
      "multilayer_perceptron ran in: 0.0 sec\n",
      "multilayer_perceptron ran in: 0.0 sec\n",
      "multilayer_perceptron ran in: 0.0 sec\n",
      "multilayer_perceptron ran in: 0.0 sec\n",
      "multilayer_perceptron ran in: 0.0 sec\n"
     ]
    },
    {
     "name": "stderr",
     "output_type": "stream",
     "text": [
      "\r",
      " 24%|██▎       | 132/560 [00:03<00:13, 32.61it/s]"
     ]
    },
    {
     "name": "stdout",
     "output_type": "stream",
     "text": [
      "multilayer_perceptron ran in: 0.006528377532958984 sec\n",
      "multilayer_perceptron ran in: 0.0 sec\n",
      "multilayer_perceptron ran in: 0.0 sec\n",
      "multilayer_perceptron ran in: 0.0 sec\n",
      "multilayer_perceptron ran in: 0.0 sec\n"
     ]
    },
    {
     "name": "stderr",
     "output_type": "stream",
     "text": [
      "\r",
      " 24%|██▍       | 136/560 [00:04<00:12, 33.16it/s]"
     ]
    },
    {
     "name": "stdout",
     "output_type": "stream",
     "text": [
      "multilayer_perceptron ran in: 0.015613079071044922 sec\n",
      "multilayer_perceptron ran in: 0.015637874603271484 sec\n",
      "multilayer_perceptron ran in: 0.0 sec\n"
     ]
    },
    {
     "name": "stderr",
     "output_type": "stream",
     "text": [
      "\r",
      " 25%|██▌       | 140/560 [00:04<00:12, 33.55it/s]"
     ]
    },
    {
     "name": "stdout",
     "output_type": "stream",
     "text": [
      "multilayer_perceptron ran in: 0.0 sec\n",
      "multilayer_perceptron ran in: 0.0 sec\n",
      "multilayer_perceptron ran in: 0.0 sec\n",
      "multilayer_perceptron ran in: 0.0 sec\n"
     ]
    },
    {
     "name": "stderr",
     "output_type": "stream",
     "text": [
      "\r",
      " 26%|██▌       | 144/560 [00:04<00:12, 33.28it/s]"
     ]
    },
    {
     "name": "stdout",
     "output_type": "stream",
     "text": [
      "multilayer_perceptron ran in: 0.0 sec\n",
      "multilayer_perceptron ran in: 0.0 sec\n",
      "multilayer_perceptron ran in: 0.01564812660217285 sec\n"
     ]
    },
    {
     "name": "stderr",
     "output_type": "stream",
     "text": [
      "\r",
      " 26%|██▋       | 148/560 [00:04<00:12, 33.64it/s]"
     ]
    },
    {
     "name": "stdout",
     "output_type": "stream",
     "text": [
      "multilayer_perceptron ran in: 0.01562666893005371 sec\n",
      "multilayer_perceptron ran in: 0.0 sec\n",
      "multilayer_perceptron ran in: 0.0 sec\n",
      "multilayer_perceptron ran in: 0.0 sec\n"
     ]
    },
    {
     "name": "stderr",
     "output_type": "stream",
     "text": [
      "\r",
      " 27%|██▋       | 152/560 [00:04<00:12, 33.90it/s]"
     ]
    },
    {
     "name": "stdout",
     "output_type": "stream",
     "text": [
      "multilayer_perceptron ran in: 0.0 sec\n",
      "multilayer_perceptron ran in: 0.0 sec\n",
      "multilayer_perceptron ran in: 0.0 sec\n",
      "multilayer_perceptron ran in: 0.0 sec\n",
      "multilayer_perceptron ran in: 0.0 sec\n",
      "multilayer_perceptron ran in: 0.0 sec\n",
      "multilayer_perceptron ran in: 0.0 sec\n"
     ]
    },
    {
     "name": "stderr",
     "output_type": "stream",
     "text": [
      "\r",
      " 28%|██▊       | 156/560 [00:04<00:12, 32.77it/s]"
     ]
    },
    {
     "name": "stdout",
     "output_type": "stream",
     "text": [
      "multilayer_perceptron ran in: 0.0 sec\n",
      "multilayer_perceptron ran in: 0.0 sec\n",
      "multilayer_perceptron ran in: 0.0 sec\n"
     ]
    },
    {
     "name": "stderr",
     "output_type": "stream",
     "text": [
      "\r",
      " 29%|██▊       | 160/560 [00:04<00:12, 32.02it/s]"
     ]
    },
    {
     "name": "stdout",
     "output_type": "stream",
     "text": [
      "multilayer_perceptron ran in: 0.0 sec\n",
      "multilayer_perceptron ran in: 0.0 sec\n",
      "multilayer_perceptron ran in: 0.0 sec\n"
     ]
    },
    {
     "name": "stderr",
     "output_type": "stream",
     "text": [
      "\r",
      " 29%|██▉       | 164/560 [00:04<00:12, 32.21it/s]"
     ]
    },
    {
     "name": "stdout",
     "output_type": "stream",
     "text": [
      "multilayer_perceptron ran in: 0.0 sec\n",
      "multilayer_perceptron ran in: 0.00652623176574707 sec\n",
      "multilayer_perceptron ran in: 0.0 sec\n",
      "multilayer_perceptron ran in: 0.0 sec\n"
     ]
    },
    {
     "name": "stderr",
     "output_type": "stream",
     "text": [
      "\r",
      " 30%|███       | 168/560 [00:05<00:11, 32.89it/s]"
     ]
    },
    {
     "name": "stdout",
     "output_type": "stream",
     "text": [
      "multilayer_perceptron ran in: 0.0 sec\n",
      "multilayer_perceptron ran in: 0.0 sec\n",
      "multilayer_perceptron ran in: 0.0 sec\n"
     ]
    },
    {
     "name": "stderr",
     "output_type": "stream",
     "text": [
      "\r",
      " 31%|███       | 172/560 [00:05<00:11, 33.36it/s]"
     ]
    },
    {
     "name": "stdout",
     "output_type": "stream",
     "text": [
      "multilayer_perceptron ran in: 0.0 sec\n",
      "multilayer_perceptron ran in: 0.0 sec\n",
      "multilayer_perceptron ran in: 0.0 sec\n"
     ]
    },
    {
     "name": "stderr",
     "output_type": "stream",
     "text": [
      "\r",
      " 31%|███▏      | 176/560 [00:05<00:11, 32.42it/s]"
     ]
    },
    {
     "name": "stdout",
     "output_type": "stream",
     "text": [
      "multilayer_perceptron ran in: 0.0 sec\n",
      "multilayer_perceptron ran in: 0.0 sec\n",
      "multilayer_perceptron ran in: 0.0 sec\n",
      "multilayer_perceptron ran in: 0.015625715255737305 sec\n",
      "multilayer_perceptron ran in: 0.015628337860107422 sec\n",
      "multilayer_perceptron ran in: 0.0 sec\n",
      "multilayer_perceptron ran in: 0.0 sec\n"
     ]
    },
    {
     "name": "stderr",
     "output_type": "stream",
     "text": [
      "\r",
      " 32%|███▏      | 180/560 [00:05<00:11, 32.49it/s]"
     ]
    },
    {
     "name": "stdout",
     "output_type": "stream",
     "text": [
      "multilayer_perceptron ran in: 0.0 sec\n",
      "multilayer_perceptron ran in: 0.0156402587890625 sec\n",
      "multilayer_perceptron ran in: 0.0 sec\n",
      "multilayer_perceptron ran in: 0.0 sec\n"
     ]
    },
    {
     "name": "stderr",
     "output_type": "stream",
     "text": [
      "\r",
      " 33%|███▎      | 184/560 [00:05<00:11, 33.07it/s]"
     ]
    },
    {
     "name": "stdout",
     "output_type": "stream",
     "text": [
      "multilayer_perceptron ran in: 0.0 sec\n",
      "multilayer_perceptron ran in: 0.0 sec\n",
      "multilayer_perceptron ran in: 0.0 sec\n"
     ]
    },
    {
     "name": "stderr",
     "output_type": "stream",
     "text": [
      "\r",
      " 34%|███▎      | 188/560 [00:05<00:11, 33.49it/s]"
     ]
    },
    {
     "name": "stdout",
     "output_type": "stream",
     "text": [
      "multilayer_perceptron ran in: 0.0 sec\n",
      "multilayer_perceptron ran in: 0.0 sec\n",
      "multilayer_perceptron ran in: 0.0 sec\n",
      "multilayer_perceptron ran in: 0.0 sec\n"
     ]
    },
    {
     "name": "stderr",
     "output_type": "stream",
     "text": [
      "\r",
      " 34%|███▍      | 192/560 [00:05<00:11, 32.51it/s]"
     ]
    },
    {
     "name": "stdout",
     "output_type": "stream",
     "text": [
      "multilayer_perceptron ran in: 0.0 sec\n",
      "multilayer_perceptron ran in: 0.0 sec\n",
      "multilayer_perceptron ran in: 0.0 sec\n"
     ]
    },
    {
     "name": "stderr",
     "output_type": "stream",
     "text": [
      "\r",
      " 35%|███▌      | 196/560 [00:05<00:11, 31.85it/s]"
     ]
    },
    {
     "name": "stdout",
     "output_type": "stream",
     "text": [
      "multilayer_perceptron ran in: 0.015634775161743164 sec\n",
      "multilayer_perceptron ran in: 0.015622615814208984 sec\n",
      "multilayer_perceptron ran in: 0.0 sec\n"
     ]
    },
    {
     "name": "stderr",
     "output_type": "stream",
     "text": [
      "\r",
      " 36%|███▌      | 200/560 [00:06<00:11, 32.09it/s]"
     ]
    },
    {
     "name": "stdout",
     "output_type": "stream",
     "text": [
      "multilayer_perceptron ran in: 0.0 sec\n",
      "multilayer_perceptron ran in: 0.0 sec\n",
      "multilayer_perceptron ran in: 0.0 sec\n",
      "multilayer_perceptron ran in: 0.0 sec\n",
      "multilayer_perceptron ran in: 0.015629291534423828 sec\n",
      "multilayer_perceptron ran in: 0.0 sec\n"
     ]
    },
    {
     "name": "stderr",
     "output_type": "stream",
     "text": [
      "\r",
      " 36%|███▋      | 204/560 [00:06<00:11, 31.57it/s]"
     ]
    },
    {
     "name": "stdout",
     "output_type": "stream",
     "text": [
      "multilayer_perceptron ran in: 0.0 sec\n",
      "multilayer_perceptron ran in: 0.0 sec\n",
      "multilayer_perceptron ran in: 0.0 sec\n",
      "multilayer_perceptron ran in: 0.0 sec\n",
      "multilayer_perceptron ran in: 0.0 sec\n"
     ]
    },
    {
     "name": "stderr",
     "output_type": "stream",
     "text": [
      "\r",
      " 37%|███▋      | 208/560 [00:06<00:10, 32.40it/s]"
     ]
    },
    {
     "name": "stdout",
     "output_type": "stream",
     "text": [
      "multilayer_perceptron ran in: 0.0 sec\n",
      "multilayer_perceptron ran in: 0.0 sec\n"
     ]
    },
    {
     "name": "stderr",
     "output_type": "stream",
     "text": [
      "\r",
      " 38%|███▊      | 212/560 [00:06<00:10, 33.00it/s]"
     ]
    },
    {
     "name": "stdout",
     "output_type": "stream",
     "text": [
      "multilayer_perceptron ran in: 0.0 sec\n",
      "multilayer_perceptron ran in: 0.0 sec\n",
      "multilayer_perceptron ran in: 0.0 sec\n",
      "multilayer_perceptron ran in: 0.0 sec\n",
      "multilayer_perceptron ran in: 0.0 sec\n",
      "multilayer_perceptron ran in: 0.0 sec\n",
      "multilayer_perceptron ran in: 0.0 sec\n"
     ]
    },
    {
     "name": "stderr",
     "output_type": "stream",
     "text": [
      " 39%|███▉      | 220/560 [00:06<00:10, 32.48it/s]"
     ]
    },
    {
     "name": "stdout",
     "output_type": "stream",
     "text": [
      "multilayer_perceptron ran in: 0.0 sec\n",
      "multilayer_perceptron ran in: 0.0 sec\n",
      "multilayer_perceptron ran in: 0.0 sec\n",
      "multilayer_perceptron ran in: 0.0 sec\n",
      "multilayer_perceptron ran in: 0.0 sec\n",
      "multilayer_perceptron ran in: 0.0 sec\n",
      "multilayer_perceptron ran in: 0.0 sec\n"
     ]
    },
    {
     "name": "stderr",
     "output_type": "stream",
     "text": [
      "\r",
      " 40%|████      | 224/560 [00:06<00:10, 31.83it/s]"
     ]
    },
    {
     "name": "stdout",
     "output_type": "stream",
     "text": [
      "multilayer_perceptron ran in: 0.0 sec\n",
      "multilayer_perceptron ran in: 0.0 sec\n",
      "multilayer_perceptron ran in: 0.0 sec\n",
      "multilayer_perceptron ran in: 0.0 sec\n",
      "multilayer_perceptron ran in: 0.015625953674316406 sec\n"
     ]
    },
    {
     "name": "stderr",
     "output_type": "stream",
     "text": [
      "\r",
      " 41%|████      | 228/560 [00:06<00:10, 32.59it/s]"
     ]
    },
    {
     "name": "stdout",
     "output_type": "stream",
     "text": [
      "multilayer_perceptron ran in: 0.015617609024047852 sec\n",
      "multilayer_perceptron ran in: 0.0 sec\n"
     ]
    },
    {
     "name": "stderr",
     "output_type": "stream",
     "text": [
      "\r",
      " 41%|████▏     | 232/560 [00:07<00:10, 32.62it/s]"
     ]
    },
    {
     "name": "stdout",
     "output_type": "stream",
     "text": [
      "multilayer_perceptron ran in: 0.0 sec\n",
      "multilayer_perceptron ran in: 0.002003192901611328 sec\n",
      "multilayer_perceptron ran in: 0.0 sec\n",
      "multilayer_perceptron ran in: 0.0 sec\n",
      "multilayer_perceptron ran in: 0.0 sec\n"
     ]
    },
    {
     "name": "stderr",
     "output_type": "stream",
     "text": [
      "\r",
      " 42%|████▏     | 236/560 [00:07<00:09, 33.16it/s]"
     ]
    },
    {
     "name": "stdout",
     "output_type": "stream",
     "text": [
      "multilayer_perceptron ran in: 0.0 sec\n",
      "multilayer_perceptron ran in: 0.0 sec\n"
     ]
    },
    {
     "name": "stderr",
     "output_type": "stream",
     "text": [
      "\r",
      " 43%|████▎     | 240/560 [00:07<00:09, 33.56it/s]"
     ]
    },
    {
     "name": "stdout",
     "output_type": "stream",
     "text": [
      "multilayer_perceptron ran in: 0.0 sec\n",
      "multilayer_perceptron ran in: 0.0 sec\n",
      "multilayer_perceptron ran in: 0.0 sec\n",
      "multilayer_perceptron ran in: 0.0 sec\n",
      "multilayer_perceptron ran in: 0.0 sec\n",
      "multilayer_perceptron ran in: 0.0 sec\n",
      "multilayer_perceptron ran in: 0.0 sec\n"
     ]
    },
    {
     "name": "stderr",
     "output_type": "stream",
     "text": [
      " 44%|████▍     | 248/560 [00:07<00:09, 31.88it/s]"
     ]
    },
    {
     "name": "stdout",
     "output_type": "stream",
     "text": [
      "multilayer_perceptron ran in: 0.0 sec\n",
      "multilayer_perceptron ran in: 0.0 sec\n",
      "multilayer_perceptron ran in: 0.015623331069946289 sec\n",
      "multilayer_perceptron ran in: 0.0 sec\n",
      "multilayer_perceptron ran in: 0.0 sec\n",
      "multilayer_perceptron ran in: 0.0 sec\n"
     ]
    },
    {
     "name": "stderr",
     "output_type": "stream",
     "text": [
      "\r",
      " 45%|████▌     | 252/560 [00:07<00:09, 32.11it/s]"
     ]
    },
    {
     "name": "stdout",
     "output_type": "stream",
     "text": [
      "multilayer_perceptron ran in: 0.0 sec\n",
      "multilayer_perceptron ran in: 0.0 sec\n",
      "multilayer_perceptron ran in: 0.0 sec\n",
      "multilayer_perceptron ran in: 0.0 sec\n",
      "multilayer_perceptron ran in: 0.0 sec\n",
      "multilayer_perceptron ran in: 0.0 sec\n"
     ]
    },
    {
     "name": "stderr",
     "output_type": "stream",
     "text": [
      "\r",
      " 46%|████▌     | 256/560 [00:07<00:09, 32.79it/s]"
     ]
    },
    {
     "name": "stdout",
     "output_type": "stream",
     "text": [
      "multilayer_perceptron ran in: 0.0 sec\n"
     ]
    },
    {
     "name": "stderr",
     "output_type": "stream",
     "text": [
      "\r",
      " 46%|████▋     | 260/560 [00:07<00:09, 33.29it/s]"
     ]
    },
    {
     "name": "stdout",
     "output_type": "stream",
     "text": [
      "multilayer_perceptron ran in: 0.0 sec\n",
      "multilayer_perceptron ran in: 0.0 sec\n",
      "multilayer_perceptron ran in: 0.0 sec\n",
      "multilayer_perceptron ran in: 0.0 sec\n",
      "multilayer_perceptron ran in: 0.0 sec\n",
      "multilayer_perceptron ran in: 0.0 sec\n"
     ]
    },
    {
     "name": "stderr",
     "output_type": "stream",
     "text": [
      " 48%|████▊     | 268/560 [00:08<00:08, 32.61it/s]"
     ]
    },
    {
     "name": "stdout",
     "output_type": "stream",
     "text": [
      "multilayer_perceptron ran in: 0.0 sec\n",
      "multilayer_perceptron ran in: 0.0 sec\n",
      "multilayer_perceptron ran in: 0.0 sec\n",
      "multilayer_perceptron ran in: 0.0 sec\n",
      "multilayer_perceptron ran in: 0.0 sec\n",
      "multilayer_perceptron ran in: 0.0 sec\n",
      "multilayer_perceptron ran in: 0.0 sec\n"
     ]
    },
    {
     "name": "stderr",
     "output_type": "stream",
     "text": [
      " 49%|████▉     | 276/560 [00:08<00:08, 33.17it/s]"
     ]
    },
    {
     "name": "stdout",
     "output_type": "stream",
     "text": [
      "multilayer_perceptron ran in: 0.0 sec\n",
      "multilayer_perceptron ran in: 0.0 sec\n",
      "multilayer_perceptron ran in: 0.0 sec\n",
      "multilayer_perceptron ran in: 0.0 sec\n",
      "multilayer_perceptron ran in: 0.0 sec\n",
      "multilayer_perceptron ran in: 0.0 sec\n",
      "multilayer_perceptron ran in: 0.0 sec\n",
      "multilayer_perceptron ran in: 0.0 sec\n"
     ]
    },
    {
     "name": "stderr",
     "output_type": "stream",
     "text": [
      " 51%|█████     | 284/560 [00:08<00:08, 33.84it/s]"
     ]
    },
    {
     "name": "stdout",
     "output_type": "stream",
     "text": [
      "multilayer_perceptron ran in: 0.0 sec\n",
      "multilayer_perceptron ran in: 0.0 sec\n",
      "multilayer_perceptron ran in: 0.0 sec\n",
      "multilayer_perceptron ran in: 0.0 sec\n",
      "multilayer_perceptron ran in: 0.0 sec\n",
      "multilayer_perceptron ran in: 0.0 sec\n",
      "multilayer_perceptron ran in: 0.0 sec\n",
      "multilayer_perceptron ran in: 0.0 sec\n"
     ]
    },
    {
     "name": "stderr",
     "output_type": "stream",
     "text": [
      " 52%|█████▏    | 292/560 [00:08<00:07, 34.02it/s]"
     ]
    },
    {
     "name": "stdout",
     "output_type": "stream",
     "text": [
      "multilayer_perceptron ran in: 0.0 sec\n",
      "multilayer_perceptron ran in: 0.0 sec\n",
      "multilayer_perceptron ran in: 0.0 sec\n",
      "multilayer_perceptron ran in: 0.0 sec\n",
      "multilayer_perceptron ran in: 0.0 sec\n",
      "multilayer_perceptron ran in: 0.0 sec\n",
      "multilayer_perceptron ran in: 0.0 sec\n"
     ]
    },
    {
     "name": "stderr",
     "output_type": "stream",
     "text": [
      "\r",
      " 53%|█████▎    | 296/560 [00:08<00:07, 34.16it/s]"
     ]
    },
    {
     "name": "stdout",
     "output_type": "stream",
     "text": [
      "multilayer_perceptron ran in: 0.0 sec\n",
      "multilayer_perceptron ran in: 0.0 sec\n",
      "multilayer_perceptron ran in: 0.0 sec\n"
     ]
    },
    {
     "name": "stderr",
     "output_type": "stream",
     "text": [
      "\r",
      " 54%|█████▎    | 300/560 [00:09<00:10, 25.61it/s]"
     ]
    },
    {
     "name": "stdout",
     "output_type": "stream",
     "text": [
      "multilayer_perceptron ran in: 0.0 sec\n",
      "multilayer_perceptron ran in: 0.0 sec\n",
      "multilayer_perceptron ran in: 0.0 sec\n",
      "multilayer_perceptron ran in: 0.015609979629516602 sec\n",
      "multilayer_perceptron ran in: 0.0 sec\n",
      "multilayer_perceptron ran in: 0.0 sec\n",
      "multilayer_perceptron ran in: 0.0 sec\n"
     ]
    },
    {
     "name": "stderr",
     "output_type": "stream",
     "text": [
      " 55%|█████▌    | 308/560 [00:09<00:08, 29.07it/s]"
     ]
    },
    {
     "name": "stdout",
     "output_type": "stream",
     "text": [
      "multilayer_perceptron ran in: 0.0 sec\n",
      "multilayer_perceptron ran in: 0.0 sec\n",
      "multilayer_perceptron ran in: 0.0 sec\n",
      "multilayer_perceptron ran in: 0.0 sec\n",
      "multilayer_perceptron ran in: 0.0 sec\n",
      "multilayer_perceptron ran in: 0.0 sec\n",
      "multilayer_perceptron ran in: 0.0 sec\n"
     ]
    },
    {
     "name": "stderr",
     "output_type": "stream",
     "text": [
      " 56%|█████▋    | 316/560 [00:09<00:07, 31.61it/s]"
     ]
    },
    {
     "name": "stdout",
     "output_type": "stream",
     "text": [
      "multilayer_perceptron ran in: 0.0 sec\n",
      "multilayer_perceptron ran in: 0.0 sec\n",
      "multilayer_perceptron ran in: 0.0 sec\n",
      "multilayer_perceptron ran in: 0.015607357025146484 sec\n",
      "multilayer_perceptron ran in: 0.0 sec\n",
      "multilayer_perceptron ran in: 0.0 sec\n",
      "multilayer_perceptron ran in: 0.0 sec\n"
     ]
    },
    {
     "name": "stderr",
     "output_type": "stream",
     "text": [
      "\r",
      " 57%|█████▋    | 320/560 [00:09<00:07, 32.43it/s]"
     ]
    },
    {
     "name": "stdout",
     "output_type": "stream",
     "text": [
      "multilayer_perceptron ran in: 0.0 sec\n",
      "multilayer_perceptron ran in: 0.0 sec\n",
      "multilayer_perceptron ran in: 0.0 sec\n",
      "multilayer_perceptron ran in: 0.0 sec\n",
      "multilayer_perceptron ran in: 0.0 sec\n",
      "multilayer_perceptron ran in: 0.0 sec\n",
      "multilayer_perceptron ran in: 0.0 sec\n"
     ]
    },
    {
     "name": "stderr",
     "output_type": "stream",
     "text": [
      " 59%|█████▊    | 328/560 [00:10<00:07, 32.56it/s]"
     ]
    },
    {
     "name": "stdout",
     "output_type": "stream",
     "text": [
      "multilayer_perceptron ran in: 0.0 sec\n",
      "multilayer_perceptron ran in: 0.0 sec\n",
      "multilayer_perceptron ran in: 0.0 sec\n",
      "multilayer_perceptron ran in: 0.01561594009399414 sec\n",
      "multilayer_perceptron ran in: 0.0 sec\n",
      "multilayer_perceptron ran in: 0.0 sec\n",
      "multilayer_perceptron ran in: 0.0 sec\n"
     ]
    },
    {
     "name": "stderr",
     "output_type": "stream",
     "text": [
      " 60%|██████    | 336/560 [00:10<00:06, 33.15it/s]"
     ]
    },
    {
     "name": "stdout",
     "output_type": "stream",
     "text": [
      "multilayer_perceptron ran in: 0.0 sec\n",
      "multilayer_perceptron ran in: 0.0 sec\n",
      "multilayer_perceptron ran in: 0.0 sec\n",
      "multilayer_perceptron ran in: 0.0 sec\n",
      "multilayer_perceptron ran in: 0.0 sec\n",
      "multilayer_perceptron ran in: 0.0 sec\n",
      "multilayer_perceptron ran in: 0.01562643051147461 sec\n"
     ]
    },
    {
     "name": "stderr",
     "output_type": "stream",
     "text": [
      " 61%|██████▏   | 344/560 [00:10<00:06, 32.54it/s]"
     ]
    },
    {
     "name": "stdout",
     "output_type": "stream",
     "text": [
      "multilayer_perceptron ran in: 0.0 sec\n",
      "multilayer_perceptron ran in: 0.0 sec\n",
      "multilayer_perceptron ran in: 0.0 sec\n",
      "multilayer_perceptron ran in: 0.0 sec\n",
      "multilayer_perceptron ran in: 0.015626192092895508 sec\n",
      "multilayer_perceptron ran in: 0.0 sec\n",
      "multilayer_perceptron ran in: 0.0 sec\n"
     ]
    },
    {
     "name": "stderr",
     "output_type": "stream",
     "text": [
      " 63%|██████▎   | 352/560 [00:10<00:06, 33.13it/s]"
     ]
    },
    {
     "name": "stdout",
     "output_type": "stream",
     "text": [
      "multilayer_perceptron ran in: 0.0 sec\n",
      "multilayer_perceptron ran in: 0.0 sec\n",
      "multilayer_perceptron ran in: 0.0 sec\n",
      "multilayer_perceptron ran in: 0.0 sec\n",
      "multilayer_perceptron ran in: 0.0 sec\n",
      "multilayer_perceptron ran in: 0.0 sec\n",
      "multilayer_perceptron ran in: 0.0 sec\n"
     ]
    },
    {
     "name": "stderr",
     "output_type": "stream",
     "text": [
      "\r",
      " 64%|██████▎   | 356/560 [00:10<00:06, 33.54it/s]"
     ]
    },
    {
     "name": "stdout",
     "output_type": "stream",
     "text": [
      "multilayer_perceptron ran in: 0.0 sec\n",
      "multilayer_perceptron ran in: 0.0 sec\n",
      "multilayer_perceptron ran in: 0.0 sec\n",
      "multilayer_perceptron ran in: 0.0 sec\n",
      "multilayer_perceptron ran in: 0.0 sec\n",
      "multilayer_perceptron ran in: 0.015626192092895508 sec\n",
      "multilayer_perceptron ran in: 0.0 sec\n"
     ]
    },
    {
     "name": "stderr",
     "output_type": "stream",
     "text": [
      " 65%|██████▌   | 364/560 [00:11<00:05, 32.73it/s]"
     ]
    },
    {
     "name": "stdout",
     "output_type": "stream",
     "text": [
      "multilayer_perceptron ran in: 0.0 sec\n",
      "multilayer_perceptron ran in: 0.0 sec\n",
      "multilayer_perceptron ran in: 0.0 sec\n",
      "multilayer_perceptron ran in: 0.015630006790161133 sec\n",
      "multilayer_perceptron ran in: 0.015620708465576172 sec\n",
      "multilayer_perceptron ran in: 0.015629053115844727 sec\n",
      "multilayer_perceptron ran in: 0.0 sec\n"
     ]
    },
    {
     "name": "stderr",
     "output_type": "stream",
     "text": [
      " 66%|██████▋   | 372/560 [00:11<00:05, 33.23it/s]"
     ]
    },
    {
     "name": "stdout",
     "output_type": "stream",
     "text": [
      "multilayer_perceptron ran in: 0.0 sec\n",
      "multilayer_perceptron ran in: 0.0 sec\n",
      "multilayer_perceptron ran in: 0.0 sec\n",
      "multilayer_perceptron ran in: 0.015612363815307617 sec\n",
      "multilayer_perceptron ran in: 0.0 sec\n",
      "multilayer_perceptron ran in: 0.0 sec\n"
     ]
    },
    {
     "name": "stderr",
     "output_type": "stream",
     "text": [
      "\r",
      " 67%|██████▋   | 376/560 [00:11<00:05, 32.33it/s]"
     ]
    },
    {
     "name": "stdout",
     "output_type": "stream",
     "text": [
      "multilayer_perceptron ran in: 0.0 sec\n",
      "multilayer_perceptron ran in: 0.0 sec\n",
      "multilayer_perceptron ran in: 0.006521940231323242 sec\n",
      "multilayer_perceptron ran in: 0.0 sec\n",
      "multilayer_perceptron ran in: 0.0 sec\n",
      "multilayer_perceptron ran in: 0.0 sec\n",
      "multilayer_perceptron ran in: 0.0 sec\n"
     ]
    },
    {
     "name": "stderr",
     "output_type": "stream",
     "text": [
      " 69%|██████▊   | 384/560 [00:11<00:05, 33.40it/s]"
     ]
    },
    {
     "name": "stdout",
     "output_type": "stream",
     "text": [
      "multilayer_perceptron ran in: 0.0 sec\n",
      "multilayer_perceptron ran in: 0.0 sec\n",
      "multilayer_perceptron ran in: 0.0 sec\n",
      "multilayer_perceptron ran in: 0.0 sec\n",
      "multilayer_perceptron ran in: 0.0 sec\n",
      "multilayer_perceptron ran in: 0.006514072418212891 sec\n",
      "multilayer_perceptron ran in: 0.0 sec\n",
      "multilayer_perceptron ran in: 0.0 sec\n"
     ]
    },
    {
     "name": "stderr",
     "output_type": "stream",
     "text": [
      " 70%|███████   | 392/560 [00:11<00:05, 32.29it/s]"
     ]
    },
    {
     "name": "stdout",
     "output_type": "stream",
     "text": [
      "multilayer_perceptron ran in: 0.0 sec\n",
      "multilayer_perceptron ran in: 0.0 sec\n",
      "multilayer_perceptron ran in: 0.0 sec\n",
      "multilayer_perceptron ran in: 0.0 sec\n",
      "multilayer_perceptron ran in: 0.0 sec\n",
      "multilayer_perceptron ran in: 0.0 sec\n",
      "multilayer_perceptron ran in: 0.0 sec\n"
     ]
    },
    {
     "name": "stderr",
     "output_type": "stream",
     "text": [
      " 71%|███████▏  | 400/560 [00:12<00:04, 32.13it/s]"
     ]
    },
    {
     "name": "stdout",
     "output_type": "stream",
     "text": [
      "multilayer_perceptron ran in: 0.0 sec\n",
      "multilayer_perceptron ran in: 0.0 sec\n",
      "multilayer_perceptron ran in: 0.0 sec\n",
      "multilayer_perceptron ran in: 0.0 sec\n",
      "multilayer_perceptron ran in: 0.0 sec\n",
      "multilayer_perceptron ran in: 0.0 sec\n",
      "multilayer_perceptron ran in: 0.0 sec\n"
     ]
    },
    {
     "name": "stderr",
     "output_type": "stream",
     "text": [
      "\r",
      " 72%|███████▏  | 404/560 [00:12<00:04, 32.29it/s]"
     ]
    },
    {
     "name": "stdout",
     "output_type": "stream",
     "text": [
      "multilayer_perceptron ran in: 0.0 sec\n",
      "multilayer_perceptron ran in: 0.0 sec\n",
      "multilayer_perceptron ran in: 0.0 sec\n",
      "multilayer_perceptron ran in: 0.0 sec\n",
      "multilayer_perceptron ran in: 0.0 sec\n",
      "multilayer_perceptron ran in: 0.0 sec\n",
      "multilayer_perceptron ran in: 0.0 sec\n"
     ]
    },
    {
     "name": "stderr",
     "output_type": "stream",
     "text": [
      " 74%|███████▎  | 412/560 [00:12<00:04, 32.50it/s]"
     ]
    },
    {
     "name": "stdout",
     "output_type": "stream",
     "text": [
      "multilayer_perceptron ran in: 0.0 sec\n",
      "multilayer_perceptron ran in: 0.0 sec\n",
      "multilayer_perceptron ran in: 0.0 sec\n",
      "multilayer_perceptron ran in: 0.0 sec\n",
      "multilayer_perceptron ran in: 0.015621423721313477 sec\n",
      "multilayer_perceptron ran in: 0.0 sec\n",
      "multilayer_perceptron ran in: 0.0 sec\n"
     ]
    },
    {
     "name": "stderr",
     "output_type": "stream",
     "text": [
      " 75%|███████▌  | 420/560 [00:12<00:04, 32.23it/s]"
     ]
    },
    {
     "name": "stdout",
     "output_type": "stream",
     "text": [
      "multilayer_perceptron ran in: 0.0 sec\n",
      "multilayer_perceptron ran in: 0.0 sec\n",
      "multilayer_perceptron ran in: 0.0 sec\n",
      "multilayer_perceptron ran in: 0.0 sec\n",
      "multilayer_perceptron ran in: 0.01564335823059082 sec\n",
      "multilayer_perceptron ran in: 0.0 sec\n",
      "multilayer_perceptron ran in: 0.0 sec\n"
     ]
    },
    {
     "name": "stderr",
     "output_type": "stream",
     "text": [
      " 76%|███████▋  | 428/560 [00:13<00:04, 31.77it/s]"
     ]
    },
    {
     "name": "stdout",
     "output_type": "stream",
     "text": [
      "multilayer_perceptron ran in: 0.0 sec\n",
      "multilayer_perceptron ran in: 0.0 sec\n",
      "multilayer_perceptron ran in: 0.0 sec\n",
      "multilayer_perceptron ran in: 0.0010759830474853516 sec\n",
      "multilayer_perceptron ran in: 0.0 sec\n",
      "multilayer_perceptron ran in: 0.0 sec\n"
     ]
    },
    {
     "name": "stderr",
     "output_type": "stream",
     "text": [
      "\r",
      " 77%|███████▋  | 432/560 [00:13<00:03, 32.54it/s]"
     ]
    },
    {
     "name": "stdout",
     "output_type": "stream",
     "text": [
      "multilayer_perceptron ran in: 0.0 sec\n",
      "multilayer_perceptron ran in: 0.0 sec\n",
      "multilayer_perceptron ran in: 0.0 sec\n",
      "multilayer_perceptron ran in: 0.0 sec\n",
      "multilayer_perceptron ran in: 0.0 sec\n",
      "multilayer_perceptron ran in: 0.0 sec\n",
      "multilayer_perceptron ran in: 0.0 sec\n"
     ]
    },
    {
     "name": "stderr",
     "output_type": "stream",
     "text": [
      " 79%|███████▊  | 440/560 [00:13<00:03, 32.98it/s]"
     ]
    },
    {
     "name": "stdout",
     "output_type": "stream",
     "text": [
      "multilayer_perceptron ran in: 0.0 sec\n",
      "multilayer_perceptron ran in: 0.0 sec\n",
      "multilayer_perceptron ran in: 0.0 sec\n",
      "multilayer_perceptron ran in: 0.0 sec\n",
      "multilayer_perceptron ran in: 0.01562809944152832 sec\n",
      "multilayer_perceptron ran in: 0.0 sec\n",
      "multilayer_perceptron ran in: 0.0 sec\n"
     ]
    },
    {
     "name": "stderr",
     "output_type": "stream",
     "text": [
      " 80%|████████  | 448/560 [00:13<00:03, 32.83it/s]"
     ]
    },
    {
     "name": "stdout",
     "output_type": "stream",
     "text": [
      "multilayer_perceptron ran in: 0.0 sec\n",
      "multilayer_perceptron ran in: 0.0 sec\n",
      "multilayer_perceptron ran in: 0.0 sec\n",
      "multilayer_perceptron ran in: 0.0 sec\n",
      "multilayer_perceptron ran in: 0.0 sec\n",
      "multilayer_perceptron ran in: 0.0 sec\n",
      "multilayer_perceptron ran in: 0.0 sec\n"
     ]
    },
    {
     "name": "stderr",
     "output_type": "stream",
     "text": [
      " 81%|████████▏ | 456/560 [00:13<00:03, 32.25it/s]"
     ]
    },
    {
     "name": "stdout",
     "output_type": "stream",
     "text": [
      "multilayer_perceptron ran in: 0.006524324417114258 sec\n",
      "multilayer_perceptron ran in: 0.0 sec\n",
      "multilayer_perceptron ran in: 0.0 sec\n",
      "multilayer_perceptron ran in: 0.0 sec\n",
      "multilayer_perceptron ran in: 0.0 sec\n",
      "multilayer_perceptron ran in: 0.0 sec\n",
      "multilayer_perceptron ran in: 0.0 sec\n"
     ]
    },
    {
     "name": "stderr",
     "output_type": "stream",
     "text": [
      "\r",
      " 82%|████████▏ | 460/560 [00:14<00:03, 32.89it/s]"
     ]
    },
    {
     "name": "stdout",
     "output_type": "stream",
     "text": [
      "multilayer_perceptron ran in: 0.0 sec\n",
      "multilayer_perceptron ran in: 0.0 sec\n",
      "multilayer_perceptron ran in: 0.0 sec\n",
      "multilayer_perceptron ran in: 0.0 sec\n",
      "multilayer_perceptron ran in: 0.0 sec\n",
      "multilayer_perceptron ran in: 0.0 sec\n",
      "multilayer_perceptron ran in: 0.0 sec\n"
     ]
    },
    {
     "name": "stderr",
     "output_type": "stream",
     "text": [
      " 84%|████████▎ | 468/560 [00:14<00:02, 32.79it/s]"
     ]
    },
    {
     "name": "stdout",
     "output_type": "stream",
     "text": [
      "multilayer_perceptron ran in: 0.0 sec\n",
      "multilayer_perceptron ran in: 0.0 sec\n",
      "multilayer_perceptron ran in: 0.0 sec\n",
      "multilayer_perceptron ran in: 0.0 sec\n",
      "multilayer_perceptron ran in: 0.0 sec\n",
      "multilayer_perceptron ran in: 0.015637874603271484 sec\n",
      "multilayer_perceptron ran in: 0.0 sec\n"
     ]
    },
    {
     "name": "stderr",
     "output_type": "stream",
     "text": [
      " 85%|████████▌ | 476/560 [00:14<00:02, 33.10it/s]"
     ]
    },
    {
     "name": "stdout",
     "output_type": "stream",
     "text": [
      "multilayer_perceptron ran in: 0.0 sec\n",
      "multilayer_perceptron ran in: 0.0 sec\n",
      "multilayer_perceptron ran in: 0.0 sec\n",
      "multilayer_perceptron ran in: 0.0 sec\n",
      "multilayer_perceptron ran in: 0.015624761581420898 sec\n",
      "multilayer_perceptron ran in: 0.0 sec\n"
     ]
    },
    {
     "name": "stderr",
     "output_type": "stream",
     "text": [
      "\r",
      " 86%|████████▌ | 480/560 [00:14<00:02, 32.24it/s]"
     ]
    },
    {
     "name": "stdout",
     "output_type": "stream",
     "text": [
      "multilayer_perceptron ran in: 0.0 sec\n",
      "multilayer_perceptron ran in: 0.0 sec\n",
      "multilayer_perceptron ran in: 0.0 sec\n",
      "multilayer_perceptron ran in: 0.015656709671020508 sec\n",
      "multilayer_perceptron ran in: 0.01563715934753418 sec\n",
      "multilayer_perceptron ran in: 0.0156402587890625 sec\n"
     ]
    },
    {
     "name": "stderr",
     "output_type": "stream",
     "text": [
      " 87%|████████▋ | 488/560 [00:14<00:02, 33.36it/s]"
     ]
    },
    {
     "name": "stdout",
     "output_type": "stream",
     "text": [
      "multilayer_perceptron ran in: 0.0 sec\n",
      "multilayer_perceptron ran in: 0.0 sec\n",
      "multilayer_perceptron ran in: 0.0 sec\n",
      "multilayer_perceptron ran in: 0.0 sec\n",
      "multilayer_perceptron ran in: 0.0 sec\n",
      "multilayer_perceptron ran in: 0.0 sec\n"
     ]
    },
    {
     "name": "stderr",
     "output_type": "stream",
     "text": [
      "\r",
      " 88%|████████▊ | 492/560 [00:15<00:02, 31.92it/s]"
     ]
    },
    {
     "name": "stdout",
     "output_type": "stream",
     "text": [
      "multilayer_perceptron ran in: 0.0 sec\n",
      "multilayer_perceptron ran in: 0.0 sec\n",
      "multilayer_perceptron ran in: 0.0 sec\n",
      "multilayer_perceptron ran in: 0.0 sec\n",
      "multilayer_perceptron ran in: 0.0 sec\n",
      "multilayer_perceptron ran in: 0.0 sec\n",
      "multilayer_perceptron ran in: 0.0 sec\n"
     ]
    },
    {
     "name": "stderr",
     "output_type": "stream",
     "text": [
      " 89%|████████▉ | 500/560 [00:15<00:01, 33.19it/s]"
     ]
    },
    {
     "name": "stdout",
     "output_type": "stream",
     "text": [
      "multilayer_perceptron ran in: 0.006523609161376953 sec\n",
      "multilayer_perceptron ran in: 0.015628576278686523 sec\n",
      "multilayer_perceptron ran in: 0.0 sec\n",
      "multilayer_perceptron ran in: 0.0 sec\n",
      "multilayer_perceptron ran in: 0.0 sec\n",
      "multilayer_perceptron ran in: 0.0 sec\n",
      "multilayer_perceptron ran in: 0.0 sec\n",
      "multilayer_perceptron ran in: 0.0 sec\n"
     ]
    },
    {
     "name": "stderr",
     "output_type": "stream",
     "text": [
      " 91%|█████████ | 508/560 [00:15<00:01, 32.93it/s]"
     ]
    },
    {
     "name": "stdout",
     "output_type": "stream",
     "text": [
      "multilayer_perceptron ran in: 0.01560664176940918 sec\n",
      "multilayer_perceptron ran in: 0.0 sec\n",
      "multilayer_perceptron ran in: 0.0 sec\n",
      "multilayer_perceptron ran in: 0.0 sec\n",
      "multilayer_perceptron ran in: 0.0 sec\n",
      "multilayer_perceptron ran in: 0.0 sec\n",
      "multilayer_perceptron ran in: 0.0 sec\n"
     ]
    },
    {
     "name": "stderr",
     "output_type": "stream",
     "text": [
      " 92%|█████████▏| 516/560 [00:15<00:01, 32.44it/s]"
     ]
    },
    {
     "name": "stdout",
     "output_type": "stream",
     "text": [
      "multilayer_perceptron ran in: 0.0 sec\n",
      "multilayer_perceptron ran in: 0.0 sec\n",
      "multilayer_perceptron ran in: 0.0 sec\n",
      "multilayer_perceptron ran in: 0.0 sec\n",
      "multilayer_perceptron ran in: 0.0 sec\n",
      "multilayer_perceptron ran in: 0.0 sec\n",
      "multilayer_perceptron ran in: 0.0 sec\n"
     ]
    },
    {
     "name": "stderr",
     "output_type": "stream",
     "text": [
      " 94%|█████████▎| 524/560 [00:16<00:01, 33.46it/s]"
     ]
    },
    {
     "name": "stdout",
     "output_type": "stream",
     "text": [
      "multilayer_perceptron ran in: 0.0 sec\n",
      "multilayer_perceptron ran in: 0.0 sec\n",
      "multilayer_perceptron ran in: 0.0 sec\n",
      "multilayer_perceptron ran in: 0.0 sec\n",
      "multilayer_perceptron ran in: 0.0 sec\n",
      "multilayer_perceptron ran in: 0.0 sec\n",
      "multilayer_perceptron ran in: 0.0 sec\n"
     ]
    },
    {
     "name": "stderr",
     "output_type": "stream",
     "text": [
      "\r",
      " 94%|█████████▍| 528/560 [00:16<00:00, 32.48it/s]"
     ]
    },
    {
     "name": "stdout",
     "output_type": "stream",
     "text": [
      "multilayer_perceptron ran in: 0.0 sec\n",
      "multilayer_perceptron ran in: 0.0 sec\n",
      "multilayer_perceptron ran in: 0.0 sec\n",
      "multilayer_perceptron ran in: 0.0 sec\n",
      "multilayer_perceptron ran in: 0.0 sec\n",
      "multilayer_perceptron ran in: 0.0 sec\n"
     ]
    },
    {
     "name": "stderr",
     "output_type": "stream",
     "text": [
      " 96%|█████████▌| 536/560 [00:16<00:00, 33.11it/s]"
     ]
    },
    {
     "name": "stdout",
     "output_type": "stream",
     "text": [
      "multilayer_perceptron ran in: 0.0 sec\n",
      "multilayer_perceptron ran in: 0.0 sec\n",
      "multilayer_perceptron ran in: 0.0 sec\n",
      "multilayer_perceptron ran in: 0.0 sec\n",
      "multilayer_perceptron ran in: 0.0 sec\n",
      "multilayer_perceptron ran in: 0.0 sec\n",
      "multilayer_perceptron ran in: 0.0 sec\n"
     ]
    },
    {
     "name": "stderr",
     "output_type": "stream",
     "text": [
      "\r",
      " 96%|█████████▋| 540/560 [00:16<00:00, 33.52it/s]"
     ]
    },
    {
     "name": "stdout",
     "output_type": "stream",
     "text": [
      "multilayer_perceptron ran in: 0.0 sec\n",
      "multilayer_perceptron ran in: 0.0 sec\n",
      "multilayer_perceptron ran in: 0.0 sec\n",
      "multilayer_perceptron ran in: 0.0 sec\n",
      "multilayer_perceptron ran in: 0.0 sec\n",
      "multilayer_perceptron ran in: 0.0 sec\n"
     ]
    },
    {
     "name": "stderr",
     "output_type": "stream",
     "text": [
      " 98%|█████████▊| 548/560 [00:16<00:00, 32.71it/s]"
     ]
    },
    {
     "name": "stdout",
     "output_type": "stream",
     "text": [
      "multilayer_perceptron ran in: 0.0 sec\n",
      "multilayer_perceptron ran in: 0.0 sec\n",
      "multilayer_perceptron ran in: 0.015652894973754883 sec\n",
      "multilayer_perceptron ran in: 0.0 sec\n",
      "multilayer_perceptron ran in: 0.0 sec\n",
      "multilayer_perceptron ran in: 0.0 sec\n",
      "multilayer_perceptron ran in: 0.0 sec\n"
     ]
    },
    {
     "name": "stderr",
     "output_type": "stream",
     "text": [
      " 99%|█████████▉| 556/560 [00:17<00:00, 32.83it/s]"
     ]
    },
    {
     "name": "stdout",
     "output_type": "stream",
     "text": [
      "multilayer_perceptron ran in: 0.01563858985900879 sec\n",
      "multilayer_perceptron ran in: 0.015630245208740234 sec\n",
      "multilayer_perceptron ran in: 0.0 sec\n",
      "multilayer_perceptron ran in: 0.0 sec\n",
      "multilayer_perceptron ran in: 0.0 sec\n",
      "multilayer_perceptron ran in: 0.0 sec\n",
      "multilayer_perceptron ran in: 0.0 sec\n"
     ]
    },
    {
     "name": "stderr",
     "output_type": "stream",
     "text": [
      "100%|██████████| 560/560 [00:17<00:00, 32.72it/s]\n"
     ]
    },
    {
     "name": "stdout",
     "output_type": "stream",
     "text": [
      "multilayer_perceptron ran in: 0.0 sec\n",
      "multilayer_perceptron ran in: 0.0 sec\n",
      "multilayer_perceptron ran in: 0.0 sec\n",
      "Epoch: 13 Cost=209987.2812\n"
     ]
    },
    {
     "name": "stderr",
     "output_type": "stream",
     "text": [
      "\r",
      "  0%|          | 0/560 [00:00<?, ?it/s]"
     ]
    },
    {
     "name": "stdout",
     "output_type": "stream",
     "text": [
      "multilayer_perceptron ran in: 0.0 sec\n",
      "multilayer_perceptron ran in: 0.0 sec\n",
      "multilayer_perceptron ran in: 0.0 sec\n",
      "multilayer_perceptron ran in: 0.0 sec\n"
     ]
    },
    {
     "name": "stderr",
     "output_type": "stream",
     "text": [
      "\r",
      "  1%|          | 4/560 [00:00<00:18, 30.41it/s]"
     ]
    },
    {
     "name": "stdout",
     "output_type": "stream",
     "text": [
      "multilayer_perceptron ran in: 0.0 sec\n",
      "multilayer_perceptron ran in: 0.0 sec\n",
      "multilayer_perceptron ran in: 0.0 sec\n"
     ]
    },
    {
     "name": "stderr",
     "output_type": "stream",
     "text": [
      "\r",
      "  1%|▏         | 8/560 [00:00<00:17, 31.70it/s]"
     ]
    },
    {
     "name": "stdout",
     "output_type": "stream",
     "text": [
      "multilayer_perceptron ran in: 0.0 sec\n",
      "multilayer_perceptron ran in: 0.0 sec\n",
      "multilayer_perceptron ran in: 0.0 sec\n",
      "multilayer_perceptron ran in: 0.0 sec\n"
     ]
    },
    {
     "name": "stderr",
     "output_type": "stream",
     "text": [
      "\r",
      "  2%|▏         | 12/560 [00:00<00:16, 32.92it/s]"
     ]
    },
    {
     "name": "stdout",
     "output_type": "stream",
     "text": [
      "multilayer_perceptron ran in: 0.0 sec\n",
      "multilayer_perceptron ran in: 0.015636205673217773 sec\n",
      "multilayer_perceptron ran in: 0.0 sec\n",
      "multilayer_perceptron ran in: 0.0 sec\n"
     ]
    },
    {
     "name": "stderr",
     "output_type": "stream",
     "text": [
      "\r",
      "  3%|▎         | 16/560 [00:00<00:16, 33.53it/s]"
     ]
    },
    {
     "name": "stdout",
     "output_type": "stream",
     "text": [
      "multilayer_perceptron ran in: 0.0 sec\n",
      "multilayer_perceptron ran in: 0.0 sec\n",
      "multilayer_perceptron ran in: 0.0 sec\n"
     ]
    },
    {
     "name": "stderr",
     "output_type": "stream",
     "text": [
      "\r",
      "  4%|▎         | 20/560 [00:00<00:15, 33.87it/s]"
     ]
    },
    {
     "name": "stdout",
     "output_type": "stream",
     "text": [
      "multilayer_perceptron ran in: 0.0 sec\n",
      "multilayer_perceptron ran in: 0.0 sec\n",
      "multilayer_perceptron ran in: 0.0 sec\n",
      "multilayer_perceptron ran in: 0.0 sec\n",
      "multilayer_perceptron ran in: 0.0 sec\n"
     ]
    },
    {
     "name": "stderr",
     "output_type": "stream",
     "text": [
      "\r",
      "  4%|▍         | 24/560 [00:00<00:16, 32.61it/s]"
     ]
    },
    {
     "name": "stdout",
     "output_type": "stream",
     "text": [
      "multilayer_perceptron ran in: 0.0 sec\n"
     ]
    },
    {
     "name": "stderr",
     "output_type": "stream",
     "text": [
      "\r",
      "  5%|▌         | 28/560 [00:00<00:16, 32.63it/s]"
     ]
    },
    {
     "name": "stdout",
     "output_type": "stream",
     "text": [
      "multilayer_perceptron ran in: 0.0 sec\n",
      "multilayer_perceptron ran in: 0.0 sec\n",
      "multilayer_perceptron ran in: 0.0 sec\n",
      "multilayer_perceptron ran in: 0.0 sec\n",
      "multilayer_perceptron ran in: 0.0 sec\n",
      "multilayer_perceptron ran in: 0.0 sec\n"
     ]
    },
    {
     "name": "stderr",
     "output_type": "stream",
     "text": [
      "  6%|▋         | 36/560 [00:01<00:15, 33.62it/s]"
     ]
    },
    {
     "name": "stdout",
     "output_type": "stream",
     "text": [
      "multilayer_perceptron ran in: 0.0 sec\n",
      "multilayer_perceptron ran in: 0.0 sec\n",
      "multilayer_perceptron ran in: 0.0 sec\n",
      "multilayer_perceptron ran in: 0.0 sec\n",
      "multilayer_perceptron ran in: 0.0 sec\n",
      "multilayer_perceptron ran in: 0.0 sec\n",
      "multilayer_perceptron ran in: 0.0 sec\n"
     ]
    },
    {
     "name": "stderr",
     "output_type": "stream",
     "text": [
      "\r",
      "  7%|▋         | 40/560 [00:01<00:15, 32.56it/s]"
     ]
    },
    {
     "name": "stdout",
     "output_type": "stream",
     "text": [
      "multilayer_perceptron ran in: 0.0 sec\n",
      "multilayer_perceptron ran in: 0.0 sec\n",
      "multilayer_perceptron ran in: 0.0 sec\n",
      "multilayer_perceptron ran in: 0.0 sec\n",
      "multilayer_perceptron ran in: 0.0 sec\n",
      "multilayer_perceptron ran in: 0.0 sec\n",
      "multilayer_perceptron ran in: 0.0 sec\n"
     ]
    },
    {
     "name": "stderr",
     "output_type": "stream",
     "text": [
      "  9%|▊         | 48/560 [00:01<00:15, 32.99it/s]"
     ]
    },
    {
     "name": "stdout",
     "output_type": "stream",
     "text": [
      "multilayer_perceptron ran in: 0.015614032745361328 sec\n",
      "multilayer_perceptron ran in: 0.0 sec\n",
      "multilayer_perceptron ran in: 0.0 sec\n",
      "multilayer_perceptron ran in: 0.0 sec\n",
      "multilayer_perceptron ran in: 0.0 sec\n",
      "multilayer_perceptron ran in: 0.0 sec\n",
      "multilayer_perceptron ran in: 0.0 sec\n"
     ]
    },
    {
     "name": "stderr",
     "output_type": "stream",
     "text": [
      " 10%|█         | 56/560 [00:01<00:14, 33.75it/s]"
     ]
    },
    {
     "name": "stdout",
     "output_type": "stream",
     "text": [
      "multilayer_perceptron ran in: 0.0 sec\n",
      "multilayer_perceptron ran in: 0.0 sec\n",
      "multilayer_perceptron ran in: 0.0 sec\n",
      "multilayer_perceptron ran in: 0.0 sec\n",
      "multilayer_perceptron ran in: 0.0 sec\n",
      "multilayer_perceptron ran in: 0.0 sec\n",
      "multilayer_perceptron ran in: 0.0 sec\n"
     ]
    },
    {
     "name": "stderr",
     "output_type": "stream",
     "text": [
      " 11%|█▏        | 64/560 [00:01<00:15, 32.47it/s]"
     ]
    },
    {
     "name": "stdout",
     "output_type": "stream",
     "text": [
      "multilayer_perceptron ran in: 0.0 sec\n",
      "multilayer_perceptron ran in: 0.0 sec\n",
      "multilayer_perceptron ran in: 0.0 sec\n",
      "multilayer_perceptron ran in: 0.0 sec\n",
      "multilayer_perceptron ran in: 0.0 sec\n",
      "multilayer_perceptron ran in: 0.0 sec\n"
     ]
    },
    {
     "name": "stderr",
     "output_type": "stream",
     "text": [
      "\r",
      " 12%|█▏        | 68/560 [00:02<00:14, 32.90it/s]"
     ]
    },
    {
     "name": "stdout",
     "output_type": "stream",
     "text": [
      "multilayer_perceptron ran in: 0.0 sec\n",
      "multilayer_perceptron ran in: 0.0 sec\n",
      "multilayer_perceptron ran in: 0.0 sec\n",
      "multilayer_perceptron ran in: 0.0 sec\n",
      "multilayer_perceptron ran in: 0.0 sec\n",
      "multilayer_perceptron ran in: 0.0 sec\n",
      "multilayer_perceptron ran in: 0.015640974044799805 sec\n"
     ]
    },
    {
     "name": "stderr",
     "output_type": "stream",
     "text": [
      " 14%|█▎        | 76/560 [00:02<00:14, 32.79it/s]"
     ]
    },
    {
     "name": "stdout",
     "output_type": "stream",
     "text": [
      "multilayer_perceptron ran in: 0.0 sec\n",
      "multilayer_perceptron ran in: 0.0 sec\n",
      "multilayer_perceptron ran in: 0.0 sec\n",
      "multilayer_perceptron ran in: 0.0 sec\n",
      "multilayer_perceptron ran in: 0.01563739776611328 sec\n",
      "multilayer_perceptron ran in: 0.015619993209838867 sec\n",
      "multilayer_perceptron ran in: 0.015624761581420898 sec\n"
     ]
    },
    {
     "name": "stderr",
     "output_type": "stream",
     "text": [
      " 15%|█▌        | 84/560 [00:02<00:14, 32.37it/s]"
     ]
    },
    {
     "name": "stdout",
     "output_type": "stream",
     "text": [
      "multilayer_perceptron ran in: 0.0 sec\n",
      "multilayer_perceptron ran in: 0.0 sec\n",
      "multilayer_perceptron ran in: 0.0 sec\n",
      "multilayer_perceptron ran in: 0.0 sec\n",
      "multilayer_perceptron ran in: 0.0 sec\n",
      "multilayer_perceptron ran in: 0.015620946884155273 sec\n"
     ]
    },
    {
     "name": "stderr",
     "output_type": "stream",
     "text": [
      "\r",
      " 16%|█▌        | 88/560 [00:02<00:14, 32.46it/s]"
     ]
    },
    {
     "name": "stdout",
     "output_type": "stream",
     "text": [
      "multilayer_perceptron ran in: 0.0 sec\n",
      "multilayer_perceptron ran in: 0.0 sec\n",
      "multilayer_perceptron ran in: 0.0 sec\n",
      "multilayer_perceptron ran in: 0.0 sec\n",
      "multilayer_perceptron ran in: 0.0 sec\n",
      "multilayer_perceptron ran in: 0.0 sec\n"
     ]
    },
    {
     "name": "stderr",
     "output_type": "stream",
     "text": [
      " 17%|█▋        | 96/560 [00:02<00:14, 32.21it/s]"
     ]
    },
    {
     "name": "stdout",
     "output_type": "stream",
     "text": [
      "multilayer_perceptron ran in: 0.0156402587890625 sec\n",
      "multilayer_perceptron ran in: 0.0 sec\n",
      "multilayer_perceptron ran in: 0.0 sec\n",
      "multilayer_perceptron ran in: 0.0 sec\n",
      "multilayer_perceptron ran in: 0.015653371810913086 sec\n",
      "multilayer_perceptron ran in: 0.0 sec\n",
      "multilayer_perceptron ran in: 0.0 sec\n"
     ]
    },
    {
     "name": "stderr",
     "output_type": "stream",
     "text": [
      "\r",
      " 18%|█▊        | 100/560 [00:03<00:13, 32.86it/s]"
     ]
    },
    {
     "name": "stdout",
     "output_type": "stream",
     "text": [
      "multilayer_perceptron ran in: 0.0 sec\n",
      "multilayer_perceptron ran in: 0.0 sec\n",
      "multilayer_perceptron ran in: 0.0 sec\n",
      "multilayer_perceptron ran in: 0.0 sec\n",
      "multilayer_perceptron ran in: 0.0 sec\n",
      "multilayer_perceptron ran in: 0.0 sec\n"
     ]
    },
    {
     "name": "stderr",
     "output_type": "stream",
     "text": [
      " 19%|█▉        | 108/560 [00:03<00:13, 33.30it/s]"
     ]
    },
    {
     "name": "stdout",
     "output_type": "stream",
     "text": [
      "multilayer_perceptron ran in: 0.0 sec\n",
      "multilayer_perceptron ran in: 0.0 sec\n",
      "multilayer_perceptron ran in: 0.0 sec\n",
      "multilayer_perceptron ran in: 0.0 sec\n",
      "multilayer_perceptron ran in: 0.0 sec\n",
      "multilayer_perceptron ran in: 0.0 sec\n",
      "multilayer_perceptron ran in: 0.0 sec\n"
     ]
    },
    {
     "name": "stderr",
     "output_type": "stream",
     "text": [
      " 21%|██        | 116/560 [00:03<00:13, 32.98it/s]"
     ]
    },
    {
     "name": "stdout",
     "output_type": "stream",
     "text": [
      "multilayer_perceptron ran in: 0.0 sec\n",
      "multilayer_perceptron ran in: 0.0 sec\n",
      "multilayer_perceptron ran in: 0.0 sec\n",
      "multilayer_perceptron ran in: 0.0 sec\n",
      "multilayer_perceptron ran in: 0.015653133392333984 sec\n",
      "multilayer_perceptron ran in: 0.0 sec\n",
      "multilayer_perceptron ran in: 0.015642642974853516 sec\n",
      "multilayer_perceptron ran in: 0.0 sec\n"
     ]
    },
    {
     "name": "stderr",
     "output_type": "stream",
     "text": [
      " 22%|██▏       | 124/560 [00:03<00:13, 33.20it/s]"
     ]
    },
    {
     "name": "stdout",
     "output_type": "stream",
     "text": [
      "multilayer_perceptron ran in: 0.0 sec\n",
      "multilayer_perceptron ran in: 0.0 sec\n",
      "multilayer_perceptron ran in: 0.0065155029296875 sec\n",
      "multilayer_perceptron ran in: 0.0 sec\n",
      "multilayer_perceptron ran in: 0.0 sec\n",
      "multilayer_perceptron ran in: 0.0 sec\n",
      "multilayer_perceptron ran in: 0.01563572883605957 sec\n"
     ]
    },
    {
     "name": "stderr",
     "output_type": "stream",
     "text": [
      " 24%|██▎       | 132/560 [00:03<00:12, 33.87it/s]"
     ]
    },
    {
     "name": "stdout",
     "output_type": "stream",
     "text": [
      "multilayer_perceptron ran in: 0.015625 sec\n",
      "multilayer_perceptron ran in: 0.0 sec\n",
      "multilayer_perceptron ran in: 0.0 sec\n",
      "multilayer_perceptron ran in: 0.0 sec\n",
      "multilayer_perceptron ran in: 0.0 sec\n",
      "multilayer_perceptron ran in: 0.0 sec\n",
      "multilayer_perceptron ran in: 0.0 sec\n"
     ]
    },
    {
     "name": "stderr",
     "output_type": "stream",
     "text": [
      "\r",
      " 24%|██▍       | 136/560 [00:04<00:12, 32.76it/s]"
     ]
    },
    {
     "name": "stdout",
     "output_type": "stream",
     "text": [
      "multilayer_perceptron ran in: 0.0 sec\n",
      "multilayer_perceptron ran in: 0.0 sec\n",
      "multilayer_perceptron ran in: 0.0 sec\n",
      "multilayer_perceptron ran in: 0.0 sec\n",
      "multilayer_perceptron ran in: 0.015627145767211914 sec\n",
      "multilayer_perceptron ran in: 0.0 sec\n"
     ]
    },
    {
     "name": "stderr",
     "output_type": "stream",
     "text": [
      " 26%|██▌       | 144/560 [00:04<00:12, 33.09it/s]"
     ]
    },
    {
     "name": "stdout",
     "output_type": "stream",
     "text": [
      "multilayer_perceptron ran in: 0.0 sec\n",
      "multilayer_perceptron ran in: 0.0 sec\n",
      "multilayer_perceptron ran in: 0.0 sec\n",
      "multilayer_perceptron ran in: 0.015626907348632812 sec\n",
      "multilayer_perceptron ran in: 0.0 sec\n",
      "multilayer_perceptron ran in: 0.0 sec\n",
      "multilayer_perceptron ran in: 0.0 sec\n"
     ]
    },
    {
     "name": "stderr",
     "output_type": "stream",
     "text": [
      "\r",
      " 26%|██▋       | 148/560 [00:04<00:12, 32.24it/s]"
     ]
    },
    {
     "name": "stdout",
     "output_type": "stream",
     "text": [
      "multilayer_perceptron ran in: 0.0 sec\n",
      "multilayer_perceptron ran in: 0.0 sec\n",
      "multilayer_perceptron ran in: 0.0 sec\n",
      "multilayer_perceptron ran in: 0.0 sec\n",
      "multilayer_perceptron ran in: 0.0 sec\n",
      "multilayer_perceptron ran in: 0.0 sec\n",
      "multilayer_perceptron ran in: 0.015625953674316406 sec\n"
     ]
    },
    {
     "name": "stderr",
     "output_type": "stream",
     "text": [
      " 28%|██▊       | 156/560 [00:04<00:12, 33.36it/s]"
     ]
    },
    {
     "name": "stdout",
     "output_type": "stream",
     "text": [
      "multilayer_perceptron ran in: 0.0 sec\n",
      "multilayer_perceptron ran in: 0.015622377395629883 sec\n",
      "multilayer_perceptron ran in: 0.0 sec\n",
      "multilayer_perceptron ran in: 0.0 sec\n",
      "multilayer_perceptron ran in: 0.0 sec\n",
      "multilayer_perceptron ran in: 0.0 sec\n",
      "multilayer_perceptron ran in: 0.0 sec\n"
     ]
    },
    {
     "name": "stderr",
     "output_type": "stream",
     "text": [
      "\r",
      " 29%|██▊       | 160/560 [00:04<00:11, 33.69it/s]"
     ]
    },
    {
     "name": "stdout",
     "output_type": "stream",
     "text": [
      "multilayer_perceptron ran in: 0.0 sec\n",
      "multilayer_perceptron ran in: 0.0 sec\n",
      "multilayer_perceptron ran in: 0.0 sec\n"
     ]
    },
    {
     "name": "stderr",
     "output_type": "stream",
     "text": [
      " 30%|███       | 168/560 [00:05<00:14, 26.75it/s]"
     ]
    },
    {
     "name": "stdout",
     "output_type": "stream",
     "text": [
      "multilayer_perceptron ran in: 0.01560354232788086 sec\n",
      "multilayer_perceptron ran in: 0.0 sec\n",
      "multilayer_perceptron ran in: 0.0 sec\n",
      "multilayer_perceptron ran in: 0.0 sec\n",
      "multilayer_perceptron ran in: 0.0 sec\n",
      "multilayer_perceptron ran in: 0.0 sec\n",
      "multilayer_perceptron ran in: 0.0 sec\n"
     ]
    },
    {
     "name": "stderr",
     "output_type": "stream",
     "text": [
      " 31%|███▏      | 176/560 [00:05<00:13, 29.06it/s]"
     ]
    },
    {
     "name": "stdout",
     "output_type": "stream",
     "text": [
      "multilayer_perceptron ran in: 0.0 sec\n",
      "multilayer_perceptron ran in: 0.0 sec\n",
      "multilayer_perceptron ran in: 0.015631437301635742 sec\n",
      "multilayer_perceptron ran in: 0.0 sec\n",
      "multilayer_perceptron ran in: 0.0 sec\n",
      "multilayer_perceptron ran in: 0.0 sec\n",
      "multilayer_perceptron ran in: 0.0 sec\n"
     ]
    },
    {
     "name": "stderr",
     "output_type": "stream",
     "text": [
      "\r",
      " 32%|███▏      | 180/560 [00:05<00:12, 29.45it/s]"
     ]
    },
    {
     "name": "stdout",
     "output_type": "stream",
     "text": [
      "multilayer_perceptron ran in: 0.0 sec\n",
      "multilayer_perceptron ran in: 0.0 sec\n",
      "multilayer_perceptron ran in: 0.006508588790893555 sec\n",
      "multilayer_perceptron ran in: 0.0 sec\n",
      "multilayer_perceptron ran in: 0.0 sec\n",
      "multilayer_perceptron ran in: 0.0 sec\n",
      "multilayer_perceptron ran in: 0.0 sec\n"
     ]
    },
    {
     "name": "stderr",
     "output_type": "stream",
     "text": [
      " 34%|███▎      | 188/560 [00:05<00:12, 30.24it/s]"
     ]
    },
    {
     "name": "stdout",
     "output_type": "stream",
     "text": [
      "multilayer_perceptron ran in: 0.0 sec\n",
      "multilayer_perceptron ran in: 0.0 sec\n",
      "multilayer_perceptron ran in: 0.0 sec\n",
      "multilayer_perceptron ran in: 0.0 sec\n",
      "multilayer_perceptron ran in: 0.0 sec\n",
      "multilayer_perceptron ran in: 0.0 sec\n",
      "multilayer_perceptron ran in: 0.0 sec\n"
     ]
    },
    {
     "name": "stderr",
     "output_type": "stream",
     "text": [
      " 35%|███▌      | 196/560 [00:06<00:11, 31.10it/s]"
     ]
    },
    {
     "name": "stdout",
     "output_type": "stream",
     "text": [
      "multilayer_perceptron ran in: 0.0 sec\n",
      "multilayer_perceptron ran in: 0.0 sec\n",
      "multilayer_perceptron ran in: 0.0 sec\n",
      "multilayer_perceptron ran in: 0.0 sec\n",
      "multilayer_perceptron ran in: 0.0 sec\n",
      "multilayer_perceptron ran in: 0.0 sec\n",
      "multilayer_perceptron ran in: 0.0 sec\n"
     ]
    },
    {
     "name": "stderr",
     "output_type": "stream",
     "text": [
      "\r",
      " 36%|███▌      | 200/560 [00:06<00:11, 30.89it/s]"
     ]
    },
    {
     "name": "stdout",
     "output_type": "stream",
     "text": [
      "multilayer_perceptron ran in: 0.0 sec\n",
      "multilayer_perceptron ran in: 0.0 sec\n",
      "multilayer_perceptron ran in: 0.0 sec\n",
      "multilayer_perceptron ran in: 0.0 sec\n",
      "multilayer_perceptron ran in: 0.0 sec\n",
      "multilayer_perceptron ran in: 0.0 sec\n"
     ]
    },
    {
     "name": "stderr",
     "output_type": "stream",
     "text": [
      " 37%|███▋      | 208/560 [00:06<00:11, 31.10it/s]"
     ]
    },
    {
     "name": "stdout",
     "output_type": "stream",
     "text": [
      "multilayer_perceptron ran in: 0.0 sec\n",
      "multilayer_perceptron ran in: 0.0 sec\n",
      "multilayer_perceptron ran in: 0.0 sec\n",
      "multilayer_perceptron ran in: 0.0 sec\n",
      "multilayer_perceptron ran in: 0.0 sec\n",
      "multilayer_perceptron ran in: 0.0 sec\n",
      "multilayer_perceptron ran in: 0.0 sec\n"
     ]
    },
    {
     "name": "stderr",
     "output_type": "stream",
     "text": [
      " 39%|███▊      | 216/560 [00:06<00:10, 32.75it/s]"
     ]
    },
    {
     "name": "stdout",
     "output_type": "stream",
     "text": [
      "multilayer_perceptron ran in: 0.0 sec\n",
      "multilayer_perceptron ran in: 0.0 sec\n",
      "multilayer_perceptron ran in: 0.0 sec\n",
      "multilayer_perceptron ran in: 0.0 sec\n",
      "multilayer_perceptron ran in: 0.0 sec\n",
      "multilayer_perceptron ran in: 0.0 sec\n"
     ]
    },
    {
     "name": "stderr",
     "output_type": "stream",
     "text": [
      "\r",
      " 39%|███▉      | 220/560 [00:06<00:10, 32.01it/s]"
     ]
    },
    {
     "name": "stdout",
     "output_type": "stream",
     "text": [
      "multilayer_perceptron ran in: 0.0 sec\n",
      "multilayer_perceptron ran in: 0.0 sec\n",
      "multilayer_perceptron ran in: 0.015630483627319336 sec\n",
      "multilayer_perceptron ran in: 0.0 sec\n",
      "multilayer_perceptron ran in: 0.0 sec\n",
      "multilayer_perceptron ran in: 0.0 sec\n"
     ]
    },
    {
     "name": "stderr",
     "output_type": "stream",
     "text": [
      " 41%|████      | 228/560 [00:07<00:10, 31.65it/s]"
     ]
    },
    {
     "name": "stdout",
     "output_type": "stream",
     "text": [
      "multilayer_perceptron ran in: 0.0 sec\n",
      "multilayer_perceptron ran in: 0.0 sec\n",
      "multilayer_perceptron ran in: 0.0 sec\n",
      "multilayer_perceptron ran in: 0.0 sec\n",
      "multilayer_perceptron ran in: 0.0 sec\n",
      "multilayer_perceptron ran in: 0.0 sec\n",
      "multilayer_perceptron ran in: 0.0 sec\n"
     ]
    },
    {
     "name": "stderr",
     "output_type": "stream",
     "text": [
      "\r",
      " 41%|████▏     | 232/560 [00:07<00:10, 32.45it/s]"
     ]
    },
    {
     "name": "stdout",
     "output_type": "stream",
     "text": [
      "multilayer_perceptron ran in: 0.0 sec\n",
      "multilayer_perceptron ran in: 0.0 sec\n",
      "multilayer_perceptron ran in: 0.0 sec\n",
      "multilayer_perceptron ran in: 0.01563429832458496 sec\n",
      "multilayer_perceptron ran in: 0.0 sec\n",
      "multilayer_perceptron ran in: 0.0 sec\n",
      "multilayer_perceptron ran in: 0.0 sec\n"
     ]
    },
    {
     "name": "stderr",
     "output_type": "stream",
     "text": [
      " 43%|████▎     | 240/560 [00:07<00:09, 32.93it/s]"
     ]
    },
    {
     "name": "stdout",
     "output_type": "stream",
     "text": [
      "multilayer_perceptron ran in: 0.0 sec\n",
      "multilayer_perceptron ran in: 0.015639781951904297 sec\n",
      "multilayer_perceptron ran in: 0.0 sec\n",
      "multilayer_perceptron ran in: 0.0 sec\n",
      "multilayer_perceptron ran in: 0.0 sec\n",
      "multilayer_perceptron ran in: 0.0 sec\n",
      "multilayer_perceptron ran in: 0.0 sec\n",
      "multilayer_perceptron ran in: 0.0 sec\n"
     ]
    },
    {
     "name": "stderr",
     "output_type": "stream",
     "text": [
      " 44%|████▍     | 248/560 [00:07<00:09, 31.60it/s]"
     ]
    },
    {
     "name": "stdout",
     "output_type": "stream",
     "text": [
      "multilayer_perceptron ran in: 0.0 sec\n",
      "multilayer_perceptron ran in: 0.0 sec\n",
      "multilayer_perceptron ran in: 0.0 sec\n",
      "multilayer_perceptron ran in: 0.0 sec\n",
      "multilayer_perceptron ran in: 0.0 sec\n",
      "multilayer_perceptron ran in: 0.0 sec\n"
     ]
    },
    {
     "name": "stderr",
     "output_type": "stream",
     "text": [
      " 46%|████▌     | 256/560 [00:07<00:09, 32.51it/s]"
     ]
    },
    {
     "name": "stdout",
     "output_type": "stream",
     "text": [
      "multilayer_perceptron ran in: 0.0 sec\n",
      "multilayer_perceptron ran in: 0.0 sec\n",
      "multilayer_perceptron ran in: 0.006508588790893555 sec\n",
      "multilayer_perceptron ran in: 0.0 sec\n",
      "multilayer_perceptron ran in: 0.0 sec\n",
      "multilayer_perceptron ran in: 0.0 sec\n"
     ]
    },
    {
     "name": "stderr",
     "output_type": "stream",
     "text": [
      "\r",
      " 46%|████▋     | 260/560 [00:08<00:09, 31.85it/s]"
     ]
    },
    {
     "name": "stdout",
     "output_type": "stream",
     "text": [
      "multilayer_perceptron ran in: 0.0 sec\n",
      "multilayer_perceptron ran in: 0.0 sec\n",
      "multilayer_perceptron ran in: 0.0 sec\n",
      "multilayer_perceptron ran in: 0.0 sec\n",
      "multilayer_perceptron ran in: 0.0 sec\n",
      "multilayer_perceptron ran in: 0.0 sec\n"
     ]
    },
    {
     "name": "stderr",
     "output_type": "stream",
     "text": [
      " 48%|████▊     | 268/560 [00:08<00:09, 32.27it/s]"
     ]
    },
    {
     "name": "stdout",
     "output_type": "stream",
     "text": [
      "multilayer_perceptron ran in: 0.0 sec\n",
      "multilayer_perceptron ran in: 0.0 sec\n",
      "multilayer_perceptron ran in: 0.01563549041748047 sec\n",
      "multilayer_perceptron ran in: 0.0 sec\n",
      "multilayer_perceptron ran in: 0.0 sec\n",
      "multilayer_perceptron ran in: 0.0 sec\n"
     ]
    },
    {
     "name": "stderr",
     "output_type": "stream",
     "text": [
      "\r",
      " 49%|████▊     | 272/560 [00:08<00:09, 31.21it/s]"
     ]
    },
    {
     "name": "stdout",
     "output_type": "stream",
     "text": [
      "multilayer_perceptron ran in: 0.0 sec\n",
      "multilayer_perceptron ran in: 0.0 sec\n",
      "multilayer_perceptron ran in: 0.0 sec\n",
      "multilayer_perceptron ran in: 0.0 sec\n",
      "multilayer_perceptron ran in: 0.0 sec\n",
      "multilayer_perceptron ran in: 0.0 sec\n",
      "multilayer_perceptron ran in: 0.0 sec\n"
     ]
    },
    {
     "name": "stderr",
     "output_type": "stream",
     "text": [
      " 50%|█████     | 280/560 [00:08<00:08, 31.59it/s]"
     ]
    },
    {
     "name": "stdout",
     "output_type": "stream",
     "text": [
      "multilayer_perceptron ran in: 0.0 sec\n",
      "multilayer_perceptron ran in: 0.0 sec\n",
      "multilayer_perceptron ran in: 0.0 sec\n",
      "multilayer_perceptron ran in: 0.01565098762512207 sec\n",
      "multilayer_perceptron ran in: 0.0 sec\n",
      "multilayer_perceptron ran in: 0.0 sec\n",
      "multilayer_perceptron ran in: 0.0 sec\n"
     ]
    },
    {
     "name": "stderr",
     "output_type": "stream",
     "text": [
      " 51%|█████▏    | 288/560 [00:08<00:08, 32.49it/s]"
     ]
    },
    {
     "name": "stdout",
     "output_type": "stream",
     "text": [
      "multilayer_perceptron ran in: 0.0 sec\n",
      "multilayer_perceptron ran in: 0.0 sec\n",
      "multilayer_perceptron ran in: 0.0 sec\n",
      "multilayer_perceptron ran in: 0.0 sec\n",
      "multilayer_perceptron ran in: 0.0 sec\n",
      "multilayer_perceptron ran in: 0.0 sec\n",
      "multilayer_perceptron ran in: 0.0 sec\n"
     ]
    },
    {
     "name": "stderr",
     "output_type": "stream",
     "text": [
      "\r",
      " 52%|█████▏    | 292/560 [00:09<00:08, 33.07it/s]"
     ]
    },
    {
     "name": "stdout",
     "output_type": "stream",
     "text": [
      "multilayer_perceptron ran in: 0.0 sec\n",
      "multilayer_perceptron ran in: 0.0 sec\n",
      "multilayer_perceptron ran in: 0.0 sec\n",
      "multilayer_perceptron ran in: 0.0 sec\n",
      "multilayer_perceptron ran in: 0.015612125396728516 sec\n",
      "multilayer_perceptron ran in: 0.0 sec\n",
      "multilayer_perceptron ran in: 0.0 sec\n"
     ]
    },
    {
     "name": "stderr",
     "output_type": "stream",
     "text": [
      " 54%|█████▎    | 300/560 [00:09<00:07, 32.50it/s]"
     ]
    },
    {
     "name": "stdout",
     "output_type": "stream",
     "text": [
      "multilayer_perceptron ran in: 0.0 sec\n",
      "multilayer_perceptron ran in: 0.0 sec\n",
      "multilayer_perceptron ran in: 0.0 sec\n",
      "multilayer_perceptron ran in: 0.0 sec\n",
      "multilayer_perceptron ran in: 0.0 sec\n",
      "multilayer_perceptron ran in: 0.0 sec\n"
     ]
    },
    {
     "name": "stderr",
     "output_type": "stream",
     "text": [
      " 55%|█████▌    | 308/560 [00:09<00:07, 31.73it/s]"
     ]
    },
    {
     "name": "stdout",
     "output_type": "stream",
     "text": [
      "multilayer_perceptron ran in: 0.0 sec\n",
      "multilayer_perceptron ran in: 0.0 sec\n",
      "multilayer_perceptron ran in: 0.006527900695800781 sec\n",
      "multilayer_perceptron ran in: 0.015632152557373047 sec\n",
      "multilayer_perceptron ran in: 0.01562047004699707 sec\n",
      "multilayer_perceptron ran in: 0.0 sec\n"
     ]
    },
    {
     "name": "stderr",
     "output_type": "stream",
     "text": [
      "\r",
      " 56%|█████▌    | 312/560 [00:09<00:07, 32.52it/s]"
     ]
    },
    {
     "name": "stdout",
     "output_type": "stream",
     "text": [
      "multilayer_perceptron ran in: 0.0 sec\n",
      "multilayer_perceptron ran in: 0.0 sec\n",
      "multilayer_perceptron ran in: 0.0 sec\n",
      "multilayer_perceptron ran in: 0.0 sec\n",
      "multilayer_perceptron ran in: 0.0 sec\n",
      "multilayer_perceptron ran in: 0.0 sec\n",
      "multilayer_perceptron ran in: 0.0 sec\n"
     ]
    },
    {
     "name": "stderr",
     "output_type": "stream",
     "text": [
      " 57%|█████▋    | 320/560 [00:09<00:07, 32.27it/s]"
     ]
    },
    {
     "name": "stdout",
     "output_type": "stream",
     "text": [
      "multilayer_perceptron ran in: 0.0 sec\n",
      "multilayer_perceptron ran in: 0.0 sec\n",
      "multilayer_perceptron ran in: 0.0 sec\n",
      "multilayer_perceptron ran in: 0.016823291778564453 sec\n",
      "multilayer_perceptron ran in: 0.0 sec\n",
      "multilayer_perceptron ran in: 0.0 sec\n",
      "multilayer_perceptron ran in: 0.0 sec\n"
     ]
    },
    {
     "name": "stderr",
     "output_type": "stream",
     "text": [
      " 59%|█████▊    | 328/560 [00:10<00:07, 32.01it/s]"
     ]
    },
    {
     "name": "stdout",
     "output_type": "stream",
     "text": [
      "multilayer_perceptron ran in: 0.0 sec\n",
      "multilayer_perceptron ran in: 0.0 sec\n",
      "multilayer_perceptron ran in: 0.0 sec\n",
      "multilayer_perceptron ran in: 0.0 sec\n",
      "multilayer_perceptron ran in: 0.0 sec\n",
      "multilayer_perceptron ran in: 0.0 sec\n"
     ]
    },
    {
     "name": "stderr",
     "output_type": "stream",
     "text": [
      "\r",
      " 59%|█████▉    | 332/560 [00:10<00:06, 32.72it/s]"
     ]
    },
    {
     "name": "stdout",
     "output_type": "stream",
     "text": [
      "multilayer_perceptron ran in: 0.0 sec\n",
      "multilayer_perceptron ran in: 0.015642166137695312 sec\n",
      "multilayer_perceptron ran in: 0.0 sec\n",
      "multilayer_perceptron ran in: 0.0 sec\n",
      "multilayer_perceptron ran in: 0.0 sec\n",
      "multilayer_perceptron ran in: 0.0 sec\n"
     ]
    },
    {
     "name": "stderr",
     "output_type": "stream",
     "text": [
      " 61%|██████    | 340/560 [00:10<00:06, 31.51it/s]"
     ]
    },
    {
     "name": "stdout",
     "output_type": "stream",
     "text": [
      "multilayer_perceptron ran in: 0.0 sec\n",
      "multilayer_perceptron ran in: 0.0 sec\n",
      "multilayer_perceptron ran in: 0.0 sec\n",
      "multilayer_perceptron ran in: 0.0 sec\n",
      "multilayer_perceptron ran in: 0.0 sec\n",
      "multilayer_perceptron ran in: 0.0 sec\n"
     ]
    },
    {
     "name": "stderr",
     "output_type": "stream",
     "text": [
      "\r",
      " 61%|██████▏   | 344/560 [00:10<00:06, 31.17it/s]"
     ]
    },
    {
     "name": "stdout",
     "output_type": "stream",
     "text": [
      "multilayer_perceptron ran in: 0.0 sec\n",
      "multilayer_perceptron ran in: 0.0 sec\n",
      "multilayer_perceptron ran in: 0.0 sec\n",
      "multilayer_perceptron ran in: 0.0 sec\n",
      "multilayer_perceptron ran in: 0.0 sec\n",
      "multilayer_perceptron ran in: 0.0 sec\n",
      "multilayer_perceptron ran in: 0.0 sec\n"
     ]
    },
    {
     "name": "stderr",
     "output_type": "stream",
     "text": [
      " 63%|██████▎   | 352/560 [00:10<00:06, 31.57it/s]"
     ]
    },
    {
     "name": "stdout",
     "output_type": "stream",
     "text": [
      "multilayer_perceptron ran in: 0.0 sec\n",
      "multilayer_perceptron ran in: 0.0 sec\n",
      "multilayer_perceptron ran in: 0.0 sec\n",
      "multilayer_perceptron ran in: 0.0 sec\n",
      "multilayer_perceptron ran in: 0.0 sec\n",
      "multilayer_perceptron ran in: 0.0 sec\n",
      "multilayer_perceptron ran in: 0.0 sec\n"
     ]
    },
    {
     "name": "stderr",
     "output_type": "stream",
     "text": [
      " 64%|██████▍   | 360/560 [00:11<00:06, 32.64it/s]"
     ]
    },
    {
     "name": "stdout",
     "output_type": "stream",
     "text": [
      "multilayer_perceptron ran in: 0.0 sec\n",
      "multilayer_perceptron ran in: 0.0 sec\n",
      "multilayer_perceptron ran in: 0.0 sec\n",
      "multilayer_perceptron ran in: 0.0 sec\n",
      "multilayer_perceptron ran in: 0.0 sec\n",
      "multilayer_perceptron ran in: 0.0 sec\n",
      "multilayer_perceptron ran in: 0.0 sec\n"
     ]
    },
    {
     "name": "stderr",
     "output_type": "stream",
     "text": [
      " 66%|██████▌   | 368/560 [00:11<00:05, 32.67it/s]"
     ]
    },
    {
     "name": "stdout",
     "output_type": "stream",
     "text": [
      "multilayer_perceptron ran in: 0.0 sec\n",
      "multilayer_perceptron ran in: 0.015653610229492188 sec\n",
      "multilayer_perceptron ran in: 0.015609979629516602 sec\n",
      "multilayer_perceptron ran in: 0.0 sec\n",
      "multilayer_perceptron ran in: 0.0 sec\n",
      "multilayer_perceptron ran in: 0.0 sec\n",
      "multilayer_perceptron ran in: 0.0 sec\n"
     ]
    },
    {
     "name": "stderr",
     "output_type": "stream",
     "text": [
      "\r",
      " 66%|██████▋   | 372/560 [00:11<00:05, 31.46it/s]"
     ]
    },
    {
     "name": "stdout",
     "output_type": "stream",
     "text": [
      "multilayer_perceptron ran in: 0.0 sec\n",
      "multilayer_perceptron ran in: 0.0 sec\n",
      "multilayer_perceptron ran in: 0.0 sec\n",
      "multilayer_perceptron ran in: 0.0 sec\n",
      "multilayer_perceptron ran in: 0.0 sec\n",
      "multilayer_perceptron ran in: 0.0 sec\n",
      "multilayer_perceptron ran in: 0.015623092651367188 sec\n"
     ]
    },
    {
     "name": "stderr",
     "output_type": "stream",
     "text": [
      " 68%|██████▊   | 380/560 [00:11<00:05, 32.08it/s]"
     ]
    },
    {
     "name": "stdout",
     "output_type": "stream",
     "text": [
      "multilayer_perceptron ran in: 0.0 sec\n",
      "multilayer_perceptron ran in: 0.0 sec\n",
      "multilayer_perceptron ran in: 0.0 sec\n",
      "multilayer_perceptron ran in: 0.0 sec\n",
      "multilayer_perceptron ran in: 0.015608787536621094 sec\n",
      "multilayer_perceptron ran in: 0.0 sec\n",
      "multilayer_perceptron ran in: 0.0 sec\n"
     ]
    },
    {
     "name": "stderr",
     "output_type": "stream",
     "text": [
      " 69%|██████▉   | 388/560 [00:12<00:05, 32.88it/s]"
     ]
    },
    {
     "name": "stdout",
     "output_type": "stream",
     "text": [
      "multilayer_perceptron ran in: 0.0 sec\n",
      "multilayer_perceptron ran in: 0.0 sec\n",
      "multilayer_perceptron ran in: 0.0 sec\n",
      "multilayer_perceptron ran in: 0.0 sec\n",
      "multilayer_perceptron ran in: 0.0 sec\n",
      "multilayer_perceptron ran in: 0.015611648559570312 sec\n",
      "multilayer_perceptron ran in: 0.0 sec\n"
     ]
    },
    {
     "name": "stderr",
     "output_type": "stream",
     "text": [
      "\r",
      " 70%|███████   | 392/560 [00:12<00:05, 32.10it/s]"
     ]
    },
    {
     "name": "stdout",
     "output_type": "stream",
     "text": [
      "multilayer_perceptron ran in: 0.0 sec\n",
      "multilayer_perceptron ran in: 0.0 sec\n",
      "multilayer_perceptron ran in: 0.0 sec\n",
      "multilayer_perceptron ran in: 0.0 sec\n",
      "multilayer_perceptron ran in: 0.0 sec\n",
      "multilayer_perceptron ran in: 0.0 sec\n",
      "multilayer_perceptron ran in: 0.0 sec\n"
     ]
    },
    {
     "name": "stderr",
     "output_type": "stream",
     "text": [
      " 71%|███████▏  | 400/560 [00:12<00:04, 33.28it/s]"
     ]
    },
    {
     "name": "stdout",
     "output_type": "stream",
     "text": [
      "multilayer_perceptron ran in: 0.015611886978149414 sec\n",
      "multilayer_perceptron ran in: 0.015621423721313477 sec\n",
      "multilayer_perceptron ran in: 0.0 sec\n",
      "multilayer_perceptron ran in: 0.0 sec\n",
      "multilayer_perceptron ran in: 0.0 sec\n",
      "multilayer_perceptron ran in: 0.0 sec\n",
      "multilayer_perceptron ran in: 0.0 sec\n"
     ]
    },
    {
     "name": "stderr",
     "output_type": "stream",
     "text": [
      " 73%|███████▎  | 408/560 [00:12<00:04, 32.46it/s]"
     ]
    },
    {
     "name": "stdout",
     "output_type": "stream",
     "text": [
      "multilayer_perceptron ran in: 0.0 sec\n",
      "multilayer_perceptron ran in: 0.0 sec\n",
      "multilayer_perceptron ran in: 0.0 sec\n",
      "multilayer_perceptron ran in: 0.0 sec\n",
      "multilayer_perceptron ran in: 0.0 sec\n",
      "multilayer_perceptron ran in: 0.01563239097595215 sec\n",
      "multilayer_perceptron ran in: 0.0 sec\n"
     ]
    },
    {
     "name": "stderr",
     "output_type": "stream",
     "text": [
      " 74%|███████▍  | 416/560 [00:12<00:04, 32.21it/s]"
     ]
    },
    {
     "name": "stdout",
     "output_type": "stream",
     "text": [
      "multilayer_perceptron ran in: 0.0 sec\n",
      "multilayer_perceptron ran in: 0.0 sec\n",
      "multilayer_perceptron ran in: 0.0 sec\n",
      "multilayer_perceptron ran in: 0.0 sec\n",
      "multilayer_perceptron ran in: 0.0 sec\n",
      "multilayer_perceptron ran in: 0.0 sec\n",
      "multilayer_perceptron ran in: 0.0 sec\n"
     ]
    },
    {
     "name": "stderr",
     "output_type": "stream",
     "text": [
      "\r",
      " 75%|███████▌  | 420/560 [00:13<00:04, 31.65it/s]"
     ]
    },
    {
     "name": "stdout",
     "output_type": "stream",
     "text": [
      "multilayer_perceptron ran in: 0.0 sec\n",
      "multilayer_perceptron ran in: 0.0 sec\n",
      "multilayer_perceptron ran in: 0.0 sec\n",
      "multilayer_perceptron ran in: 0.0 sec\n",
      "multilayer_perceptron ran in: 0.0 sec\n",
      "multilayer_perceptron ran in: 0.0 sec\n",
      "multilayer_perceptron ran in: 0.0 sec\n"
     ]
    },
    {
     "name": "stderr",
     "output_type": "stream",
     "text": [
      " 76%|███████▋  | 428/560 [00:13<00:04, 32.68it/s]"
     ]
    },
    {
     "name": "stdout",
     "output_type": "stream",
     "text": [
      "multilayer_perceptron ran in: 0.015622854232788086 sec\n",
      "multilayer_perceptron ran in: 0.0 sec\n",
      "multilayer_perceptron ran in: 0.0 sec\n",
      "multilayer_perceptron ran in: 0.0 sec\n",
      "multilayer_perceptron ran in: 0.0 sec\n",
      "multilayer_perceptron ran in: 0.01562809944152832 sec\n",
      "multilayer_perceptron ran in: 0.0 sec\n"
     ]
    },
    {
     "name": "stderr",
     "output_type": "stream",
     "text": [
      " 78%|███████▊  | 436/560 [00:13<00:03, 32.31it/s]"
     ]
    },
    {
     "name": "stdout",
     "output_type": "stream",
     "text": [
      "multilayer_perceptron ran in: 0.0 sec\n",
      "multilayer_perceptron ran in: 0.0 sec\n",
      "multilayer_perceptron ran in: 0.0 sec\n",
      "multilayer_perceptron ran in: 0.0 sec\n",
      "multilayer_perceptron ran in: 0.0 sec\n",
      "multilayer_perceptron ran in: 0.0 sec\n",
      "multilayer_perceptron ran in: 0.0 sec\n"
     ]
    },
    {
     "name": "stderr",
     "output_type": "stream",
     "text": [
      " 79%|███████▉  | 444/560 [00:13<00:03, 31.79it/s]"
     ]
    },
    {
     "name": "stdout",
     "output_type": "stream",
     "text": [
      "multilayer_perceptron ran in: 0.0 sec\n",
      "multilayer_perceptron ran in: 0.0 sec\n",
      "multilayer_perceptron ran in: 0.0 sec\n",
      "multilayer_perceptron ran in: 0.0 sec\n",
      "multilayer_perceptron ran in: 0.0 sec\n",
      "multilayer_perceptron ran in: 0.015653133392333984 sec\n",
      "multilayer_perceptron ran in: 0.0 sec\n"
     ]
    },
    {
     "name": "stderr",
     "output_type": "stream",
     "text": [
      "\r",
      " 80%|████████  | 448/560 [00:13<00:03, 32.22it/s]"
     ]
    },
    {
     "name": "stdout",
     "output_type": "stream",
     "text": [
      "multilayer_perceptron ran in: 0.0 sec\n",
      "multilayer_perceptron ran in: 0.0 sec\n",
      "multilayer_perceptron ran in: 0.0 sec\n",
      "multilayer_perceptron ran in: 0.0 sec\n",
      "multilayer_perceptron ran in: 0.0 sec\n",
      "multilayer_perceptron ran in: 0.0 sec\n",
      "multilayer_perceptron ran in: 0.0 sec\n"
     ]
    },
    {
     "name": "stderr",
     "output_type": "stream",
     "text": [
      " 81%|████████▏ | 456/560 [00:14<00:03, 32.20it/s]"
     ]
    },
    {
     "name": "stdout",
     "output_type": "stream",
     "text": [
      "multilayer_perceptron ran in: 0.006507158279418945 sec\n",
      "multilayer_perceptron ran in: 0.015614509582519531 sec\n",
      "multilayer_perceptron ran in: 0.015630006790161133 sec\n",
      "multilayer_perceptron ran in: 0.01563239097595215 sec\n",
      "multilayer_perceptron ran in: 0.0 sec\n",
      "multilayer_perceptron ran in: 0.0 sec\n",
      "multilayer_perceptron ran in: 0.0 sec\n",
      "multilayer_perceptron ran in: 0.0 sec\n"
     ]
    },
    {
     "name": "stderr",
     "output_type": "stream",
     "text": [
      " 83%|████████▎ | 464/560 [00:14<00:02, 32.45it/s]"
     ]
    },
    {
     "name": "stdout",
     "output_type": "stream",
     "text": [
      "multilayer_perceptron ran in: 0.015624284744262695 sec\n",
      "multilayer_perceptron ran in: 0.0 sec\n",
      "multilayer_perceptron ran in: 0.0 sec\n",
      "multilayer_perceptron ran in: 0.0 sec\n",
      "multilayer_perceptron ran in: 0.0 sec\n",
      "multilayer_perceptron ran in: 0.0 sec\n",
      "multilayer_perceptron ran in: 0.0 sec\n"
     ]
    },
    {
     "name": "stderr",
     "output_type": "stream",
     "text": [
      " 84%|████████▍ | 472/560 [00:14<00:02, 32.57it/s]"
     ]
    },
    {
     "name": "stdout",
     "output_type": "stream",
     "text": [
      "multilayer_perceptron ran in: 0.0 sec\n",
      "multilayer_perceptron ran in: 0.0 sec\n",
      "multilayer_perceptron ran in: 0.0 sec\n",
      "multilayer_perceptron ran in: 0.0 sec\n",
      "multilayer_perceptron ran in: 0.015627622604370117 sec\n",
      "multilayer_perceptron ran in: 0.0 sec\n",
      "multilayer_perceptron ran in: 0.0 sec\n"
     ]
    },
    {
     "name": "stderr",
     "output_type": "stream",
     "text": [
      " 86%|████████▌ | 480/560 [00:14<00:02, 33.15it/s]"
     ]
    },
    {
     "name": "stdout",
     "output_type": "stream",
     "text": [
      "multilayer_perceptron ran in: 0.0 sec\n",
      "multilayer_perceptron ran in: 0.0 sec\n",
      "multilayer_perceptron ran in: 0.0 sec\n",
      "multilayer_perceptron ran in: 0.0 sec\n",
      "multilayer_perceptron ran in: 0.0 sec\n",
      "multilayer_perceptron ran in: 0.0 sec\n",
      "multilayer_perceptron ran in: 0.0 sec\n"
     ]
    },
    {
     "name": "stderr",
     "output_type": "stream",
     "text": [
      "\r",
      " 86%|████████▋ | 484/560 [00:15<00:02, 33.55it/s]"
     ]
    },
    {
     "name": "stdout",
     "output_type": "stream",
     "text": [
      "multilayer_perceptron ran in: 0.0 sec\n",
      "multilayer_perceptron ran in: 0.0 sec\n",
      "multilayer_perceptron ran in: 0.0 sec\n",
      "multilayer_perceptron ran in: 0.0 sec\n",
      "multilayer_perceptron ran in: 0.0 sec\n",
      "multilayer_perceptron ran in: 0.0 sec\n"
     ]
    },
    {
     "name": "stderr",
     "output_type": "stream",
     "text": [
      " 88%|████████▊ | 492/560 [00:15<00:01, 34.03it/s]"
     ]
    },
    {
     "name": "stdout",
     "output_type": "stream",
     "text": [
      "multilayer_perceptron ran in: 0.0 sec\n",
      "multilayer_perceptron ran in: 0.0 sec\n",
      "multilayer_perceptron ran in: 0.0 sec\n",
      "multilayer_perceptron ran in: 0.0 sec\n",
      "multilayer_perceptron ran in: 0.0 sec\n",
      "multilayer_perceptron ran in: 0.0 sec\n",
      "multilayer_perceptron ran in: 0.0 sec\n",
      "multilayer_perceptron ran in: 0.0 sec\n"
     ]
    },
    {
     "name": "stderr",
     "output_type": "stream",
     "text": [
      " 89%|████████▉ | 500/560 [00:15<00:01, 32.58it/s]"
     ]
    },
    {
     "name": "stdout",
     "output_type": "stream",
     "text": [
      "multilayer_perceptron ran in: 0.0 sec\n",
      "multilayer_perceptron ran in: 0.0 sec\n",
      "multilayer_perceptron ran in: 0.0 sec\n",
      "multilayer_perceptron ran in: 0.0 sec\n",
      "multilayer_perceptron ran in: 0.0 sec\n",
      "multilayer_perceptron ran in: 0.0 sec\n",
      "multilayer_perceptron ran in: 0.0 sec\n"
     ]
    },
    {
     "name": "stderr",
     "output_type": "stream",
     "text": [
      " 91%|█████████ | 508/560 [00:15<00:01, 32.64it/s]"
     ]
    },
    {
     "name": "stdout",
     "output_type": "stream",
     "text": [
      "multilayer_perceptron ran in: 0.0 sec\n",
      "multilayer_perceptron ran in: 0.0 sec\n",
      "multilayer_perceptron ran in: 0.0 sec\n",
      "multilayer_perceptron ran in: 0.0 sec\n",
      "multilayer_perceptron ran in: 0.0 sec\n",
      "multilayer_perceptron ran in: 0.0 sec\n",
      "multilayer_perceptron ran in: 0.006510019302368164 sec\n"
     ]
    },
    {
     "name": "stderr",
     "output_type": "stream",
     "text": [
      "\r",
      " 91%|█████████▏| 512/560 [00:15<00:01, 32.65it/s]"
     ]
    },
    {
     "name": "stdout",
     "output_type": "stream",
     "text": [
      "multilayer_perceptron ran in: 0.0156400203704834 sec\n",
      "multilayer_perceptron ran in: 0.0 sec\n",
      "multilayer_perceptron ran in: 0.015625 sec\n",
      "multilayer_perceptron ran in: 0.0 sec\n",
      "multilayer_perceptron ran in: 0.0 sec\n",
      "multilayer_perceptron ran in: 0.0 sec\n",
      "multilayer_perceptron ran in: 0.0 sec\n"
     ]
    },
    {
     "name": "stderr",
     "output_type": "stream",
     "text": [
      " 93%|█████████▎| 520/560 [00:16<00:01, 32.68it/s]"
     ]
    },
    {
     "name": "stdout",
     "output_type": "stream",
     "text": [
      "multilayer_perceptron ran in: 0.0 sec\n",
      "multilayer_perceptron ran in: 0.0 sec\n",
      "multilayer_perceptron ran in: 0.0 sec\n",
      "multilayer_perceptron ran in: 0.0 sec\n",
      "multilayer_perceptron ran in: 0.0 sec\n",
      "multilayer_perceptron ran in: 0.0 sec\n",
      "multilayer_perceptron ran in: 0.0 sec\n"
     ]
    },
    {
     "name": "stderr",
     "output_type": "stream",
     "text": [
      " 94%|█████████▍| 528/560 [00:16<00:00, 32.69it/s]"
     ]
    },
    {
     "name": "stdout",
     "output_type": "stream",
     "text": [
      "multilayer_perceptron ran in: 0.0 sec\n",
      "multilayer_perceptron ran in: 0.0 sec\n",
      "multilayer_perceptron ran in: 0.0 sec\n",
      "multilayer_perceptron ran in: 0.01560664176940918 sec\n",
      "multilayer_perceptron ran in: 0.0 sec\n",
      "multilayer_perceptron ran in: 0.0 sec\n",
      "multilayer_perceptron ran in: 0.0 sec\n"
     ]
    },
    {
     "name": "stderr",
     "output_type": "stream",
     "text": [
      " 96%|█████████▌| 536/560 [00:16<00:00, 32.83it/s]"
     ]
    },
    {
     "name": "stdout",
     "output_type": "stream",
     "text": [
      "multilayer_perceptron ran in: 0.0 sec\n",
      "multilayer_perceptron ran in: 0.0 sec\n",
      "multilayer_perceptron ran in: 0.0 sec\n",
      "multilayer_perceptron ran in: 0.0 sec\n",
      "multilayer_perceptron ran in: 0.0 sec\n",
      "multilayer_perceptron ran in: 0.0 sec\n",
      "multilayer_perceptron ran in: 0.0 sec\n"
     ]
    },
    {
     "name": "stderr",
     "output_type": "stream",
     "text": [
      "\r",
      " 96%|█████████▋| 540/560 [00:16<00:00, 33.31it/s]"
     ]
    },
    {
     "name": "stdout",
     "output_type": "stream",
     "text": [
      "multilayer_perceptron ran in: 0.0 sec\n",
      "multilayer_perceptron ran in: 0.0 sec\n",
      "multilayer_perceptron ran in: 0.0 sec\n",
      "multilayer_perceptron ran in: 0.0 sec\n",
      "multilayer_perceptron ran in: 0.0 sec\n",
      "multilayer_perceptron ran in: 0.0 sec\n",
      "multilayer_perceptron ran in: 0.01562643051147461 sec\n"
     ]
    },
    {
     "name": "stderr",
     "output_type": "stream",
     "text": [
      " 98%|█████████▊| 548/560 [00:16<00:00, 33.91it/s]"
     ]
    },
    {
     "name": "stdout",
     "output_type": "stream",
     "text": [
      "multilayer_perceptron ran in: 0.0 sec\n",
      "multilayer_perceptron ran in: 0.0 sec\n",
      "multilayer_perceptron ran in: 0.0 sec\n",
      "multilayer_perceptron ran in: 0.0 sec\n",
      "multilayer_perceptron ran in: 0.0 sec\n",
      "multilayer_perceptron ran in: 0.0 sec\n",
      "multilayer_perceptron ran in: 0.0 sec\n"
     ]
    },
    {
     "name": "stderr",
     "output_type": "stream",
     "text": [
      " 99%|█████████▉| 556/560 [00:17<00:00, 33.81it/s]"
     ]
    },
    {
     "name": "stdout",
     "output_type": "stream",
     "text": [
      "multilayer_perceptron ran in: 0.0 sec\n",
      "multilayer_perceptron ran in: 0.0 sec\n",
      "multilayer_perceptron ran in: 0.0 sec\n",
      "multilayer_perceptron ran in: 0.0 sec\n",
      "multilayer_perceptron ran in: 0.0 sec\n",
      "multilayer_perceptron ran in: 0.0 sec\n",
      "multilayer_perceptron ran in: 0.0 sec\n"
     ]
    },
    {
     "name": "stderr",
     "output_type": "stream",
     "text": [
      "100%|██████████| 560/560 [00:17<00:00, 32.31it/s]\n"
     ]
    },
    {
     "name": "stdout",
     "output_type": "stream",
     "text": [
      "multilayer_perceptron ran in: 0.0 sec\n",
      "multilayer_perceptron ran in: 0.0 sec\n",
      "Epoch: 14 Cost=233419.5000\n"
     ]
    },
    {
     "name": "stderr",
     "output_type": "stream",
     "text": [
      "  1%|          | 4/560 [00:00<00:16, 34.51it/s]"
     ]
    },
    {
     "name": "stdout",
     "output_type": "stream",
     "text": [
      "multilayer_perceptron ran in: 0.0 sec\n",
      "multilayer_perceptron ran in: 0.0 sec\n",
      "multilayer_perceptron ran in: 0.0 sec\n",
      "multilayer_perceptron ran in: 0.01562786102294922 sec\n",
      "multilayer_perceptron ran in: 0.0 sec\n",
      "multilayer_perceptron ran in: 0.0 sec\n",
      "multilayer_perceptron ran in: 0.0 sec\n"
     ]
    },
    {
     "name": "stderr",
     "output_type": "stream",
     "text": [
      "  2%|▏         | 12/560 [00:00<00:16, 33.64it/s]"
     ]
    },
    {
     "name": "stdout",
     "output_type": "stream",
     "text": [
      "multilayer_perceptron ran in: 0.0 sec\n",
      "multilayer_perceptron ran in: 0.006511211395263672 sec\n",
      "multilayer_perceptron ran in: 0.0 sec\n",
      "multilayer_perceptron ran in: 0.0 sec\n",
      "multilayer_perceptron ran in: 0.0 sec\n",
      "multilayer_perceptron ran in: 0.0 sec\n",
      "multilayer_perceptron ran in: 0.0 sec\n"
     ]
    },
    {
     "name": "stderr",
     "output_type": "stream",
     "text": [
      "  4%|▎         | 20/560 [00:00<00:16, 33.72it/s]"
     ]
    },
    {
     "name": "stdout",
     "output_type": "stream",
     "text": [
      "multilayer_perceptron ran in: 0.0 sec\n",
      "multilayer_perceptron ran in: 0.0 sec\n",
      "multilayer_perceptron ran in: 0.0 sec\n",
      "multilayer_perceptron ran in: 0.0 sec\n",
      "multilayer_perceptron ran in: 0.0 sec\n",
      "multilayer_perceptron ran in: 0.0 sec\n",
      "multilayer_perceptron ran in: 0.0 sec\n"
     ]
    },
    {
     "name": "stderr",
     "output_type": "stream",
     "text": [
      "\r",
      "  4%|▍         | 24/560 [00:00<00:16, 32.93it/s]"
     ]
    },
    {
     "name": "stdout",
     "output_type": "stream",
     "text": [
      "multilayer_perceptron ran in: 0.0 sec\n",
      "multilayer_perceptron ran in: 0.0 sec\n",
      "multilayer_perceptron ran in: 0.01562952995300293 sec\n",
      "multilayer_perceptron ran in: 0.0 sec\n",
      "multilayer_perceptron ran in: 0.0 sec\n",
      "multilayer_perceptron ran in: 0.0 sec\n"
     ]
    },
    {
     "name": "stderr",
     "output_type": "stream",
     "text": [
      "\r",
      "  5%|▌         | 28/560 [00:00<00:15, 33.43it/s]"
     ]
    },
    {
     "name": "stdout",
     "output_type": "stream",
     "text": [
      "multilayer_perceptron ran in: 0.0 sec\n",
      "multilayer_perceptron ran in: 0.0 sec\n",
      "multilayer_perceptron ran in: 0.0 sec\n"
     ]
    },
    {
     "name": "stderr",
     "output_type": "stream",
     "text": [
      "\r",
      "  6%|▌         | 32/560 [00:01<00:21, 24.63it/s]"
     ]
    },
    {
     "name": "stdout",
     "output_type": "stream",
     "text": [
      "multilayer_perceptron ran in: 0.0 sec\n",
      "multilayer_perceptron ran in: 0.0 sec\n",
      "multilayer_perceptron ran in: 0.0 sec\n",
      "multilayer_perceptron ran in: 0.0 sec\n",
      "multilayer_perceptron ran in: 0.0 sec\n"
     ]
    },
    {
     "name": "stderr",
     "output_type": "stream",
     "text": [
      "\r",
      "  6%|▋         | 35/560 [00:01<00:20, 25.79it/s]"
     ]
    },
    {
     "name": "stdout",
     "output_type": "stream",
     "text": [
      "multilayer_perceptron ran in: 0.0 sec\n",
      "multilayer_perceptron ran in: 0.0 sec\n"
     ]
    },
    {
     "name": "stderr",
     "output_type": "stream",
     "text": [
      "\r",
      "  7%|▋         | 39/560 [00:01<00:18, 28.11it/s]"
     ]
    },
    {
     "name": "stdout",
     "output_type": "stream",
     "text": [
      "multilayer_perceptron ran in: 0.0 sec\n",
      "multilayer_perceptron ran in: 0.0 sec\n",
      "multilayer_perceptron ran in: 0.0 sec\n",
      "multilayer_perceptron ran in: 0.0 sec\n",
      "multilayer_perceptron ran in: 0.0 sec\n"
     ]
    },
    {
     "name": "stderr",
     "output_type": "stream",
     "text": [
      "\r",
      "  8%|▊         | 43/560 [00:01<00:17, 28.80it/s]"
     ]
    },
    {
     "name": "stdout",
     "output_type": "stream",
     "text": [
      "multilayer_perceptron ran in: 0.0 sec\n"
     ]
    },
    {
     "name": "stderr",
     "output_type": "stream",
     "text": [
      "\r",
      "  8%|▊         | 47/560 [00:01<00:17, 29.91it/s]"
     ]
    },
    {
     "name": "stdout",
     "output_type": "stream",
     "text": [
      "multilayer_perceptron ran in: 0.015628337860107422 sec\n",
      "multilayer_perceptron ran in: 0.0 sec\n",
      "multilayer_perceptron ran in: 0.0 sec\n",
      "multilayer_perceptron ran in: 0.0 sec\n",
      "multilayer_perceptron ran in: 0.0 sec\n",
      "multilayer_perceptron ran in: 0.0 sec\n"
     ]
    },
    {
     "name": "stderr",
     "output_type": "stream",
     "text": [
      "\r",
      "  9%|▉         | 51/560 [00:01<00:16, 30.06it/s]"
     ]
    },
    {
     "name": "stdout",
     "output_type": "stream",
     "text": [
      "multilayer_perceptron ran in: 0.0 sec\n",
      "multilayer_perceptron ran in: 0.0 sec\n",
      "multilayer_perceptron ran in: 0.0 sec\n",
      "multilayer_perceptron ran in: 0.0 sec\n",
      "multilayer_perceptron ran in: 0.0 sec\n",
      "multilayer_perceptron ran in: 0.015625953674316406 sec\n"
     ]
    },
    {
     "name": "stderr",
     "output_type": "stream",
     "text": [
      "\r",
      " 10%|▉         | 55/560 [00:01<00:16, 31.29it/s]"
     ]
    },
    {
     "name": "stdout",
     "output_type": "stream",
     "text": [
      "multilayer_perceptron ran in: 0.0 sec\n"
     ]
    },
    {
     "name": "stderr",
     "output_type": "stream",
     "text": [
      "\r",
      " 11%|█         | 59/560 [00:01<00:16, 29.48it/s]"
     ]
    },
    {
     "name": "stdout",
     "output_type": "stream",
     "text": [
      "multilayer_perceptron ran in: 0.0 sec\n",
      "multilayer_perceptron ran in: 0.0 sec\n",
      "multilayer_perceptron ran in: 0.0 sec\n",
      "multilayer_perceptron ran in: 0.0 sec\n",
      "multilayer_perceptron ran in: 0.0 sec\n",
      "multilayer_perceptron ran in: 0.0 sec\n",
      "multilayer_perceptron ran in: 0.0 sec\n"
     ]
    },
    {
     "name": "stderr",
     "output_type": "stream",
     "text": [
      " 12%|█▏        | 67/560 [00:02<00:16, 30.71it/s]"
     ]
    },
    {
     "name": "stdout",
     "output_type": "stream",
     "text": [
      "multilayer_perceptron ran in: 0.0 sec\n",
      "multilayer_perceptron ran in: 0.0 sec\n",
      "multilayer_perceptron ran in: 0.0 sec\n",
      "multilayer_perceptron ran in: 0.0 sec\n",
      "multilayer_perceptron ran in: 0.0 sec\n",
      "multilayer_perceptron ran in: 0.0 sec\n",
      "multilayer_perceptron ran in: 0.0 sec\n"
     ]
    },
    {
     "name": "stderr",
     "output_type": "stream",
     "text": [
      "\r",
      " 13%|█▎        | 71/560 [00:02<00:15, 30.62it/s]"
     ]
    },
    {
     "name": "stdout",
     "output_type": "stream",
     "text": [
      "multilayer_perceptron ran in: 0.0 sec\n",
      "multilayer_perceptron ran in: 0.0 sec\n",
      "multilayer_perceptron ran in: 0.0 sec\n",
      "multilayer_perceptron ran in: 0.0 sec\n",
      "multilayer_perceptron ran in: 0.0 sec\n"
     ]
    },
    {
     "name": "stderr",
     "output_type": "stream",
     "text": [
      "\r",
      " 13%|█▎        | 75/560 [00:02<00:15, 31.21it/s]"
     ]
    },
    {
     "name": "stdout",
     "output_type": "stream",
     "text": [
      "multilayer_perceptron ran in: 0.0 sec\n",
      "multilayer_perceptron ran in: 0.015638351440429688 sec\n"
     ]
    },
    {
     "name": "stderr",
     "output_type": "stream",
     "text": [
      "\r",
      " 14%|█▍        | 79/560 [00:02<00:14, 32.14it/s]"
     ]
    },
    {
     "name": "stdout",
     "output_type": "stream",
     "text": [
      "multilayer_perceptron ran in: 0.0 sec\n",
      "multilayer_perceptron ran in: 0.0 sec\n",
      "multilayer_perceptron ran in: 0.0 sec\n",
      "multilayer_perceptron ran in: 0.0 sec\n"
     ]
    },
    {
     "name": "stderr",
     "output_type": "stream",
     "text": [
      "\r",
      " 15%|█▍        | 83/560 [00:02<00:15, 31.60it/s]"
     ]
    },
    {
     "name": "stdout",
     "output_type": "stream",
     "text": [
      "multilayer_perceptron ran in: 0.0 sec\n",
      "multilayer_perceptron ran in: 0.0 sec\n",
      "multilayer_perceptron ran in: 0.0 sec\n"
     ]
    },
    {
     "name": "stderr",
     "output_type": "stream",
     "text": [
      "\r",
      " 16%|█▌        | 87/560 [00:02<00:15, 31.23it/s]"
     ]
    },
    {
     "name": "stdout",
     "output_type": "stream",
     "text": [
      "multilayer_perceptron ran in: 0.01562356948852539 sec\n",
      "multilayer_perceptron ran in: 0.0 sec\n",
      "multilayer_perceptron ran in: 0.0 sec\n",
      "multilayer_perceptron ran in: 0.0 sec\n",
      "multilayer_perceptron ran in: 0.0 sec\n",
      "multilayer_perceptron ran in: 0.0 sec\n",
      "multilayer_perceptron ran in: 0.0 sec\n"
     ]
    },
    {
     "name": "stderr",
     "output_type": "stream",
     "text": [
      "\r",
      " 16%|█▋        | 91/560 [00:02<00:14, 31.65it/s]"
     ]
    },
    {
     "name": "stdout",
     "output_type": "stream",
     "text": [
      "multilayer_perceptron ran in: 0.01563405990600586 sec\n",
      "multilayer_perceptron ran in: 0.0 sec\n"
     ]
    },
    {
     "name": "stderr",
     "output_type": "stream",
     "text": [
      "\r",
      " 17%|█▋        | 95/560 [00:03<00:14, 31.27it/s]"
     ]
    },
    {
     "name": "stdout",
     "output_type": "stream",
     "text": [
      "multilayer_perceptron ran in: 0.0 sec\n",
      "multilayer_perceptron ran in: 0.0 sec\n",
      "multilayer_perceptron ran in: 0.0 sec\n",
      "multilayer_perceptron ran in: 0.0 sec\n",
      "multilayer_perceptron ran in: 0.0 sec\n"
     ]
    },
    {
     "name": "stderr",
     "output_type": "stream",
     "text": [
      "\r",
      " 18%|█▊        | 99/560 [00:03<00:14, 31.01it/s]"
     ]
    },
    {
     "name": "stdout",
     "output_type": "stream",
     "text": [
      "multilayer_perceptron ran in: 0.0 sec\n",
      "multilayer_perceptron ran in: 0.01562952995300293 sec\n"
     ]
    },
    {
     "name": "stderr",
     "output_type": "stream",
     "text": [
      "\r",
      " 18%|█▊        | 103/560 [00:03<00:14, 31.98it/s]"
     ]
    },
    {
     "name": "stdout",
     "output_type": "stream",
     "text": [
      "multilayer_perceptron ran in: 0.0 sec\n",
      "multilayer_perceptron ran in: 0.0 sec\n",
      "multilayer_perceptron ran in: 0.0 sec\n",
      "multilayer_perceptron ran in: 0.0 sec\n",
      "multilayer_perceptron ran in: 0.0 sec\n"
     ]
    },
    {
     "name": "stderr",
     "output_type": "stream",
     "text": [
      "\r",
      " 19%|█▉        | 107/560 [00:03<00:14, 32.19it/s]"
     ]
    },
    {
     "name": "stdout",
     "output_type": "stream",
     "text": [
      "multilayer_perceptron ran in: 0.0 sec\n",
      "multilayer_perceptron ran in: 0.0 sec\n"
     ]
    },
    {
     "name": "stderr",
     "output_type": "stream",
     "text": [
      "\r",
      " 20%|█▉        | 111/560 [00:03<00:14, 31.63it/s]"
     ]
    },
    {
     "name": "stdout",
     "output_type": "stream",
     "text": [
      "multilayer_perceptron ran in: 0.0 sec\n",
      "multilayer_perceptron ran in: 0.0 sec\n",
      "multilayer_perceptron ran in: 0.0 sec\n",
      "multilayer_perceptron ran in: 0.015639781951904297 sec\n",
      "multilayer_perceptron ran in: 0.015628814697265625 sec\n",
      "multilayer_perceptron ran in: 0.0 sec\n",
      "multilayer_perceptron ran in: 0.0 sec\n"
     ]
    },
    {
     "name": "stderr",
     "output_type": "stream",
     "text": [
      "\r",
      " 21%|██        | 115/560 [00:03<00:14, 31.26it/s]"
     ]
    },
    {
     "name": "stdout",
     "output_type": "stream",
     "text": [
      "multilayer_perceptron ran in: 0.0 sec\n",
      "multilayer_perceptron ran in: 0.0 sec\n",
      "multilayer_perceptron ran in: 0.0 sec\n",
      "multilayer_perceptron ran in: 0.0 sec\n",
      "multilayer_perceptron ran in: 0.0 sec\n"
     ]
    },
    {
     "name": "stderr",
     "output_type": "stream",
     "text": [
      "\r",
      " 21%|██▏       | 119/560 [00:03<00:13, 32.17it/s]"
     ]
    },
    {
     "name": "stdout",
     "output_type": "stream",
     "text": [
      "multilayer_perceptron ran in: 0.0 sec\n",
      "multilayer_perceptron ran in: 0.0 sec\n"
     ]
    },
    {
     "name": "stderr",
     "output_type": "stream",
     "text": [
      "\r",
      " 22%|██▏       | 123/560 [00:03<00:13, 32.32it/s]"
     ]
    },
    {
     "name": "stdout",
     "output_type": "stream",
     "text": [
      "multilayer_perceptron ran in: 0.0 sec\n",
      "multilayer_perceptron ran in: 0.0 sec\n",
      "multilayer_perceptron ran in: 0.0 sec\n",
      "multilayer_perceptron ran in: 0.0 sec\n"
     ]
    },
    {
     "name": "stderr",
     "output_type": "stream",
     "text": [
      "\r",
      " 23%|██▎       | 127/560 [00:04<00:13, 31.72it/s]"
     ]
    },
    {
     "name": "stdout",
     "output_type": "stream",
     "text": [
      "multilayer_perceptron ran in: 0.0 sec\n",
      "multilayer_perceptron ran in: 0.0 sec\n"
     ]
    },
    {
     "name": "stderr",
     "output_type": "stream",
     "text": [
      "\r",
      " 23%|██▎       | 131/560 [00:04<00:13, 32.51it/s]"
     ]
    },
    {
     "name": "stdout",
     "output_type": "stream",
     "text": [
      "multilayer_perceptron ran in: 0.0 sec\n",
      "multilayer_perceptron ran in: 0.0 sec\n",
      "multilayer_perceptron ran in: 0.0 sec\n",
      "multilayer_perceptron ran in: 0.0 sec\n",
      "multilayer_perceptron ran in: 0.0 sec\n",
      "multilayer_perceptron ran in: 0.0 sec\n"
     ]
    },
    {
     "name": "stderr",
     "output_type": "stream",
     "text": [
      " 25%|██▍       | 139/560 [00:04<00:13, 32.09it/s]"
     ]
    },
    {
     "name": "stdout",
     "output_type": "stream",
     "text": [
      "multilayer_perceptron ran in: 0.0 sec\n",
      "multilayer_perceptron ran in: 0.0 sec\n",
      "multilayer_perceptron ran in: 0.0 sec\n",
      "multilayer_perceptron ran in: 0.0 sec\n",
      "multilayer_perceptron ran in: 0.0 sec\n",
      "multilayer_perceptron ran in: 0.0 sec\n",
      "multilayer_perceptron ran in: 0.0 sec\n"
     ]
    },
    {
     "name": "stderr",
     "output_type": "stream",
     "text": [
      "\r",
      " 26%|██▌       | 143/560 [00:04<00:12, 32.73it/s]"
     ]
    },
    {
     "name": "stdout",
     "output_type": "stream",
     "text": [
      "multilayer_perceptron ran in: 0.0 sec\n",
      "multilayer_perceptron ran in: 0.0 sec\n",
      "multilayer_perceptron ran in: 0.0 sec\n",
      "multilayer_perceptron ran in: 0.0 sec\n",
      "multilayer_perceptron ran in: 0.0 sec\n",
      "multilayer_perceptron ran in: 0.00551152229309082 sec\n",
      "multilayer_perceptron ran in: 0.0 sec\n"
     ]
    },
    {
     "name": "stderr",
     "output_type": "stream",
     "text": [
      " 27%|██▋       | 151/560 [00:04<00:12, 31.56it/s]"
     ]
    },
    {
     "name": "stdout",
     "output_type": "stream",
     "text": [
      "multilayer_perceptron ran in: 0.0 sec\n",
      "multilayer_perceptron ran in: 0.0 sec\n",
      "multilayer_perceptron ran in: 0.0 sec\n",
      "multilayer_perceptron ran in: 0.0 sec\n",
      "multilayer_perceptron ran in: 0.0 sec\n",
      "multilayer_perceptron ran in: 0.0 sec\n",
      "multilayer_perceptron ran in: 0.0 sec\n"
     ]
    },
    {
     "name": "stderr",
     "output_type": "stream",
     "text": [
      " 28%|██▊       | 159/560 [00:05<00:12, 31.43it/s]"
     ]
    },
    {
     "name": "stdout",
     "output_type": "stream",
     "text": [
      "multilayer_perceptron ran in: 0.0 sec\n",
      "multilayer_perceptron ran in: 0.0 sec\n",
      "multilayer_perceptron ran in: 0.0 sec\n",
      "multilayer_perceptron ran in: 0.0 sec\n",
      "multilayer_perceptron ran in: 0.0 sec\n",
      "multilayer_perceptron ran in: 0.015620946884155273 sec\n"
     ]
    },
    {
     "name": "stderr",
     "output_type": "stream",
     "text": [
      "\r",
      " 29%|██▉       | 163/560 [00:05<00:12, 32.29it/s]"
     ]
    },
    {
     "name": "stdout",
     "output_type": "stream",
     "text": [
      "multilayer_perceptron ran in: 0.015605926513671875 sec\n",
      "multilayer_perceptron ran in: 0.0 sec\n",
      "multilayer_perceptron ran in: 0.0 sec\n",
      "multilayer_perceptron ran in: 0.0 sec\n",
      "multilayer_perceptron ran in: 0.0 sec\n",
      "multilayer_perceptron ran in: 0.0 sec\n"
     ]
    },
    {
     "name": "stderr",
     "output_type": "stream",
     "text": [
      "\r",
      " 30%|██▉       | 167/560 [00:05<00:11, 32.93it/s]"
     ]
    },
    {
     "name": "stdout",
     "output_type": "stream",
     "text": [
      "multilayer_perceptron ran in: 0.0 sec\n"
     ]
    },
    {
     "name": "stderr",
     "output_type": "stream",
     "text": [
      "\r",
      " 31%|███       | 171/560 [00:05<00:12, 32.13it/s]"
     ]
    },
    {
     "name": "stdout",
     "output_type": "stream",
     "text": [
      "multilayer_perceptron ran in: 0.0 sec\n",
      "multilayer_perceptron ran in: 0.0 sec\n",
      "multilayer_perceptron ran in: 0.0 sec\n",
      "multilayer_perceptron ran in: 0.0 sec\n",
      "multilayer_perceptron ran in: 0.0 sec\n",
      "multilayer_perceptron ran in: 0.0 sec\n",
      "multilayer_perceptron ran in: 0.0 sec\n"
     ]
    },
    {
     "name": "stderr",
     "output_type": "stream",
     "text": [
      " 32%|███▏      | 179/560 [00:05<00:11, 32.92it/s]"
     ]
    },
    {
     "name": "stdout",
     "output_type": "stream",
     "text": [
      "multilayer_perceptron ran in: 0.0 sec\n",
      "multilayer_perceptron ran in: 0.0 sec\n",
      "multilayer_perceptron ran in: 0.0 sec\n",
      "multilayer_perceptron ran in: 0.0 sec\n",
      "multilayer_perceptron ran in: 0.0 sec\n",
      "multilayer_perceptron ran in: 0.0 sec\n",
      "multilayer_perceptron ran in: 0.0 sec\n"
     ]
    },
    {
     "name": "stderr",
     "output_type": "stream",
     "text": [
      "\r",
      " 33%|███▎      | 183/560 [00:05<00:11, 33.38it/s]"
     ]
    },
    {
     "name": "stdout",
     "output_type": "stream",
     "text": [
      "multilayer_perceptron ran in: 0.0 sec\n",
      "multilayer_perceptron ran in: 0.0 sec\n",
      "multilayer_perceptron ran in: 0.0 sec\n",
      "multilayer_perceptron ran in: 0.0 sec\n",
      "multilayer_perceptron ran in: 0.0 sec\n"
     ]
    },
    {
     "name": "stderr",
     "output_type": "stream",
     "text": [
      "\r",
      " 33%|███▎      | 187/560 [00:05<00:11, 32.43it/s]"
     ]
    },
    {
     "name": "stdout",
     "output_type": "stream",
     "text": [
      "multilayer_perceptron ran in: 0.0 sec\n"
     ]
    },
    {
     "name": "stderr",
     "output_type": "stream",
     "text": [
      "\r",
      " 34%|███▍      | 191/560 [00:06<00:11, 33.03it/s]"
     ]
    },
    {
     "name": "stdout",
     "output_type": "stream",
     "text": [
      "multilayer_perceptron ran in: 0.0 sec\n",
      "multilayer_perceptron ran in: 0.0 sec\n",
      "multilayer_perceptron ran in: 0.0 sec\n",
      "multilayer_perceptron ran in: 0.015628576278686523 sec\n",
      "multilayer_perceptron ran in: 0.0 sec\n",
      "multilayer_perceptron ran in: 0.0 sec\n",
      "multilayer_perceptron ran in: 0.0 sec\n"
     ]
    },
    {
     "name": "stderr",
     "output_type": "stream",
     "text": [
      " 36%|███▌      | 199/560 [00:06<00:10, 33.38it/s]"
     ]
    },
    {
     "name": "stdout",
     "output_type": "stream",
     "text": [
      "multilayer_perceptron ran in: 0.006531953811645508 sec\n",
      "multilayer_perceptron ran in: 0.01562356948852539 sec\n",
      "multilayer_perceptron ran in: 0.0 sec\n",
      "multilayer_perceptron ran in: 0.0 sec\n",
      "multilayer_perceptron ran in: 0.0 sec\n",
      "multilayer_perceptron ran in: 0.0 sec\n",
      "multilayer_perceptron ran in: 0.0 sec\n",
      "multilayer_perceptron ran in: 0.0 sec\n"
     ]
    },
    {
     "name": "stderr",
     "output_type": "stream",
     "text": [
      "\r",
      " 36%|███▋      | 203/560 [00:06<00:10, 33.71it/s]"
     ]
    },
    {
     "name": "stdout",
     "output_type": "stream",
     "text": [
      "multilayer_perceptron ran in: 0.0 sec\n",
      "multilayer_perceptron ran in: 0.0 sec\n",
      "multilayer_perceptron ran in: 0.006521940231323242 sec\n",
      "multilayer_perceptron ran in: 0.0 sec\n",
      "multilayer_perceptron ran in: 0.0 sec\n"
     ]
    },
    {
     "name": "stderr",
     "output_type": "stream",
     "text": [
      "\r",
      " 37%|███▋      | 207/560 [00:06<00:10, 32.65it/s]"
     ]
    },
    {
     "name": "stdout",
     "output_type": "stream",
     "text": [
      "multilayer_perceptron ran in: 0.0 sec\n",
      "multilayer_perceptron ran in: 0.0 sec\n"
     ]
    },
    {
     "name": "stderr",
     "output_type": "stream",
     "text": [
      "\r",
      " 38%|███▊      | 211/560 [00:06<00:10, 32.67it/s]"
     ]
    },
    {
     "name": "stdout",
     "output_type": "stream",
     "text": [
      "multilayer_perceptron ran in: 0.0 sec\n",
      "multilayer_perceptron ran in: 0.0 sec\n",
      "multilayer_perceptron ran in: 0.0 sec\n",
      "multilayer_perceptron ran in: 0.0 sec\n",
      "multilayer_perceptron ran in: 0.0 sec\n"
     ]
    },
    {
     "name": "stderr",
     "output_type": "stream",
     "text": [
      "\r",
      " 38%|███▊      | 215/560 [00:06<00:10, 33.20it/s]"
     ]
    },
    {
     "name": "stdout",
     "output_type": "stream",
     "text": [
      "multilayer_perceptron ran in: 0.0 sec\n",
      "multilayer_perceptron ran in: 0.0 sec\n"
     ]
    },
    {
     "name": "stderr",
     "output_type": "stream",
     "text": [
      "\r",
      " 39%|███▉      | 219/560 [00:06<00:10, 33.58it/s]"
     ]
    },
    {
     "name": "stdout",
     "output_type": "stream",
     "text": [
      "multilayer_perceptron ran in: 0.0 sec\n",
      "multilayer_perceptron ran in: 0.015623331069946289 sec\n",
      "multilayer_perceptron ran in: 0.0 sec\n",
      "multilayer_perceptron ran in: 0.0 sec\n",
      "multilayer_perceptron ran in: 0.0 sec\n",
      "multilayer_perceptron ran in: 0.0 sec\n",
      "multilayer_perceptron ran in: 0.0 sec\n"
     ]
    },
    {
     "name": "stderr",
     "output_type": "stream",
     "text": [
      " 41%|████      | 227/560 [00:07<00:10, 33.12it/s]"
     ]
    },
    {
     "name": "stdout",
     "output_type": "stream",
     "text": [
      "multilayer_perceptron ran in: 0.0 sec\n",
      "multilayer_perceptron ran in: 0.0 sec\n",
      "multilayer_perceptron ran in: 0.0 sec\n",
      "multilayer_perceptron ran in: 0.015624046325683594 sec\n",
      "multilayer_perceptron ran in: 0.0 sec\n",
      "multilayer_perceptron ran in: 0.0 sec\n",
      "multilayer_perceptron ran in: 0.0 sec\n"
     ]
    },
    {
     "name": "stderr",
     "output_type": "stream",
     "text": [
      "\r",
      " 41%|████▏     | 231/560 [00:07<00:09, 32.98it/s]"
     ]
    },
    {
     "name": "stdout",
     "output_type": "stream",
     "text": [
      "multilayer_perceptron ran in: 0.0 sec\n",
      "multilayer_perceptron ran in: 0.015642166137695312 sec\n",
      "multilayer_perceptron ran in: 0.015619754791259766 sec\n",
      "multilayer_perceptron ran in: 0.0 sec\n"
     ]
    },
    {
     "name": "stderr",
     "output_type": "stream",
     "text": [
      "\r",
      " 42%|████▏     | 235/560 [00:07<00:09, 33.42it/s]"
     ]
    },
    {
     "name": "stdout",
     "output_type": "stream",
     "text": [
      "multilayer_perceptron ran in: 0.0 sec\n",
      "multilayer_perceptron ran in: 0.0 sec\n",
      "multilayer_perceptron ran in: 0.0 sec\n"
     ]
    },
    {
     "name": "stderr",
     "output_type": "stream",
     "text": [
      "\r",
      " 43%|████▎     | 239/560 [00:07<00:09, 33.74it/s]"
     ]
    },
    {
     "name": "stdout",
     "output_type": "stream",
     "text": [
      "multilayer_perceptron ran in: 0.0 sec\n",
      "multilayer_perceptron ran in: 0.0 sec\n",
      "multilayer_perceptron ran in: 0.0 sec\n",
      "multilayer_perceptron ran in: 0.0 sec\n"
     ]
    },
    {
     "name": "stderr",
     "output_type": "stream",
     "text": [
      "\r",
      " 43%|████▎     | 243/560 [00:07<00:09, 32.67it/s]"
     ]
    },
    {
     "name": "stdout",
     "output_type": "stream",
     "text": [
      "multilayer_perceptron ran in: 0.01565384864807129 sec\n",
      "multilayer_perceptron ran in: 0.0 sec\n",
      "multilayer_perceptron ran in: 0.0 sec\n"
     ]
    },
    {
     "name": "stderr",
     "output_type": "stream",
     "text": [
      "\r",
      " 44%|████▍     | 247/560 [00:07<00:09, 33.20it/s]"
     ]
    },
    {
     "name": "stdout",
     "output_type": "stream",
     "text": [
      "multilayer_perceptron ran in: 0.0 sec\n",
      "multilayer_perceptron ran in: 0.0 sec\n",
      "multilayer_perceptron ran in: 0.0 sec\n",
      "multilayer_perceptron ran in: 0.006520509719848633 sec\n",
      "multilayer_perceptron ran in: 0.0 sec\n",
      "multilayer_perceptron ran in: 0.0 sec\n",
      "multilayer_perceptron ran in: 0.0 sec\n"
     ]
    },
    {
     "name": "stderr",
     "output_type": "stream",
     "text": [
      " 46%|████▌     | 255/560 [00:07<00:09, 33.46it/s]"
     ]
    },
    {
     "name": "stdout",
     "output_type": "stream",
     "text": [
      "multilayer_perceptron ran in: 0.0 sec\n",
      "multilayer_perceptron ran in: 0.0 sec\n",
      "multilayer_perceptron ran in: 0.0 sec\n",
      "multilayer_perceptron ran in: 0.0 sec\n",
      "multilayer_perceptron ran in: 0.0 sec\n",
      "multilayer_perceptron ran in: 0.0 sec\n",
      "multilayer_perceptron ran in: 0.006508827209472656 sec\n"
     ]
    },
    {
     "name": "stderr",
     "output_type": "stream",
     "text": [
      "\r",
      " 46%|████▋     | 259/560 [00:08<00:09, 32.49it/s]"
     ]
    },
    {
     "name": "stdout",
     "output_type": "stream",
     "text": [
      "multilayer_perceptron ran in: 0.0 sec\n",
      "multilayer_perceptron ran in: 0.0 sec\n",
      "multilayer_perceptron ran in: 0.0 sec\n",
      "multilayer_perceptron ran in: 0.0 sec\n",
      "multilayer_perceptron ran in: 0.0 sec\n"
     ]
    },
    {
     "name": "stderr",
     "output_type": "stream",
     "text": [
      "\r",
      " 47%|████▋     | 263/560 [00:08<00:09, 32.64it/s]"
     ]
    },
    {
     "name": "stdout",
     "output_type": "stream",
     "text": [
      "multilayer_perceptron ran in: 0.015627622604370117 sec\n",
      "multilayer_perceptron ran in: 0.0 sec\n"
     ]
    },
    {
     "name": "stderr",
     "output_type": "stream",
     "text": [
      "\r",
      " 48%|████▊     | 267/560 [00:08<00:08, 33.64it/s]"
     ]
    },
    {
     "name": "stdout",
     "output_type": "stream",
     "text": [
      "multilayer_perceptron ran in: 0.0 sec\n",
      "multilayer_perceptron ran in: 0.0 sec\n",
      "multilayer_perceptron ran in: 0.0 sec\n",
      "multilayer_perceptron ran in: 0.0 sec\n",
      "multilayer_perceptron ran in: 0.0 sec\n"
     ]
    },
    {
     "name": "stderr",
     "output_type": "stream",
     "text": [
      "\r",
      " 48%|████▊     | 271/560 [00:08<00:08, 33.34it/s]"
     ]
    },
    {
     "name": "stdout",
     "output_type": "stream",
     "text": [
      "multilayer_perceptron ran in: 0.0 sec\n",
      "multilayer_perceptron ran in: 0.0 sec\n"
     ]
    },
    {
     "name": "stderr",
     "output_type": "stream",
     "text": [
      "\r",
      " 49%|████▉     | 275/560 [00:08<00:08, 33.71it/s]"
     ]
    },
    {
     "name": "stdout",
     "output_type": "stream",
     "text": [
      "multilayer_perceptron ran in: 0.0 sec\n",
      "multilayer_perceptron ran in: 0.0010001659393310547 sec\n",
      "multilayer_perceptron ran in: 0.0 sec\n",
      "multilayer_perceptron ran in: 0.0 sec\n",
      "multilayer_perceptron ran in: 0.0 sec\n"
     ]
    },
    {
     "name": "stderr",
     "output_type": "stream",
     "text": [
      "\r",
      " 50%|████▉     | 279/560 [00:08<00:08, 32.64it/s]"
     ]
    },
    {
     "name": "stdout",
     "output_type": "stream",
     "text": [
      "multilayer_perceptron ran in: 0.0 sec\n",
      "multilayer_perceptron ran in: 0.0 sec\n"
     ]
    },
    {
     "name": "stderr",
     "output_type": "stream",
     "text": [
      "\r",
      " 51%|█████     | 283/560 [00:08<00:08, 33.18it/s]"
     ]
    },
    {
     "name": "stdout",
     "output_type": "stream",
     "text": [
      "multilayer_perceptron ran in: 0.0 sec\n",
      "multilayer_perceptron ran in: 0.0 sec\n",
      "multilayer_perceptron ran in: 0.0 sec\n",
      "multilayer_perceptron ran in: 0.015628337860107422 sec\n",
      "multilayer_perceptron ran in: 0.015629053115844727 sec\n",
      "multilayer_perceptron ran in: 0.0 sec\n",
      "multilayer_perceptron ran in: 0.0 sec\n"
     ]
    },
    {
     "name": "stderr",
     "output_type": "stream",
     "text": [
      "\r",
      " 51%|█████▏    | 287/560 [00:08<00:08, 33.57it/s]"
     ]
    },
    {
     "name": "stdout",
     "output_type": "stream",
     "text": [
      "multilayer_perceptron ran in: 0.0 sec\n",
      "multilayer_perceptron ran in: 0.0 sec\n",
      "multilayer_perceptron ran in: 0.015613794326782227 sec\n",
      "multilayer_perceptron ran in: 0.0 sec\n"
     ]
    },
    {
     "name": "stderr",
     "output_type": "stream",
     "text": [
      "\r",
      " 52%|█████▏    | 291/560 [00:09<00:08, 33.30it/s]"
     ]
    },
    {
     "name": "stdout",
     "output_type": "stream",
     "text": [
      "multilayer_perceptron ran in: 0.015627384185791016 sec\n",
      "multilayer_perceptron ran in: 0.0 sec\n",
      "multilayer_perceptron ran in: 0.0 sec\n"
     ]
    },
    {
     "name": "stderr",
     "output_type": "stream",
     "text": [
      "\r",
      " 53%|█████▎    | 295/560 [00:09<00:08, 32.37it/s]"
     ]
    },
    {
     "name": "stdout",
     "output_type": "stream",
     "text": [
      "multilayer_perceptron ran in: 0.0 sec\n",
      "multilayer_perceptron ran in: 0.0 sec\n",
      "multilayer_perceptron ran in: 0.0 sec\n",
      "multilayer_perceptron ran in: 0.0 sec\n",
      "multilayer_perceptron ran in: 0.0 sec\n"
     ]
    },
    {
     "name": "stderr",
     "output_type": "stream",
     "text": [
      "\r",
      " 53%|█████▎    | 299/560 [00:09<00:07, 32.99it/s]"
     ]
    },
    {
     "name": "stdout",
     "output_type": "stream",
     "text": [
      "multilayer_perceptron ran in: 0.0 sec\n",
      "multilayer_perceptron ran in: 0.0 sec\n"
     ]
    },
    {
     "name": "stderr",
     "output_type": "stream",
     "text": [
      "\r",
      " 54%|█████▍    | 303/560 [00:09<00:07, 33.43it/s]"
     ]
    },
    {
     "name": "stdout",
     "output_type": "stream",
     "text": [
      "multilayer_perceptron ran in: 0.0 sec\n",
      "multilayer_perceptron ran in: 0.0 sec\n",
      "multilayer_perceptron ran in: 0.0 sec\n",
      "multilayer_perceptron ran in: 0.0 sec\n",
      "multilayer_perceptron ran in: 0.0 sec\n",
      "multilayer_perceptron ran in: 0.0 sec\n",
      "multilayer_perceptron ran in: 0.0 sec\n"
     ]
    },
    {
     "name": "stderr",
     "output_type": "stream",
     "text": [
      " 56%|█████▌    | 311/560 [00:09<00:07, 33.81it/s]"
     ]
    },
    {
     "name": "stdout",
     "output_type": "stream",
     "text": [
      "multilayer_perceptron ran in: 0.0 sec\n",
      "multilayer_perceptron ran in: 0.0 sec\n",
      "multilayer_perceptron ran in: 0.0 sec\n",
      "multilayer_perceptron ran in: 0.0 sec\n",
      "multilayer_perceptron ran in: 0.0 sec\n",
      "multilayer_perceptron ran in: 0.0 sec\n",
      "multilayer_perceptron ran in: 0.0 sec\n"
     ]
    },
    {
     "name": "stderr",
     "output_type": "stream",
     "text": [
      " 57%|█████▋    | 319/560 [00:09<00:07, 33.24it/s]"
     ]
    },
    {
     "name": "stdout",
     "output_type": "stream",
     "text": [
      "multilayer_perceptron ran in: 0.0 sec\n",
      "multilayer_perceptron ran in: 0.0 sec\n",
      "multilayer_perceptron ran in: 0.0 sec\n",
      "multilayer_perceptron ran in: 0.0 sec\n",
      "multilayer_perceptron ran in: 0.0 sec\n",
      "multilayer_perceptron ran in: 0.015642881393432617 sec\n",
      "multilayer_perceptron ran in: 0.0 sec\n"
     ]
    },
    {
     "name": "stderr",
     "output_type": "stream",
     "text": [
      " 58%|█████▊    | 327/560 [00:10<00:07, 32.58it/s]"
     ]
    },
    {
     "name": "stdout",
     "output_type": "stream",
     "text": [
      "multilayer_perceptron ran in: 0.0 sec\n",
      "multilayer_perceptron ran in: 0.0 sec\n",
      "multilayer_perceptron ran in: 0.0 sec\n",
      "multilayer_perceptron ran in: 0.0 sec\n",
      "multilayer_perceptron ran in: 0.0 sec\n",
      "multilayer_perceptron ran in: 0.0 sec\n",
      "multilayer_perceptron ran in: 0.0 sec\n"
     ]
    },
    {
     "name": "stderr",
     "output_type": "stream",
     "text": [
      " 60%|█████▉    | 335/560 [00:10<00:06, 33.16it/s]"
     ]
    },
    {
     "name": "stdout",
     "output_type": "stream",
     "text": [
      "multilayer_perceptron ran in: 0.0 sec\n",
      "multilayer_perceptron ran in: 0.0 sec\n",
      "multilayer_perceptron ran in: 0.0 sec\n",
      "multilayer_perceptron ran in: 0.0 sec\n",
      "multilayer_perceptron ran in: 0.015611886978149414 sec\n",
      "multilayer_perceptron ran in: 0.0 sec\n",
      "multilayer_perceptron ran in: 0.0 sec\n"
     ]
    },
    {
     "name": "stderr",
     "output_type": "stream",
     "text": [
      "\r",
      " 61%|██████    | 339/560 [00:10<00:06, 33.55it/s]"
     ]
    },
    {
     "name": "stdout",
     "output_type": "stream",
     "text": [
      "multilayer_perceptron ran in: 0.0 sec\n",
      "multilayer_perceptron ran in: 0.0 sec\n",
      "multilayer_perceptron ran in: 0.0 sec\n",
      "multilayer_perceptron ran in: 0.0 sec\n",
      "multilayer_perceptron ran in: 0.0 sec\n",
      "multilayer_perceptron ran in: 0.0 sec\n"
     ]
    },
    {
     "name": "stderr",
     "output_type": "stream",
     "text": [
      " 62%|██████▏   | 347/560 [00:10<00:06, 32.59it/s]"
     ]
    },
    {
     "name": "stdout",
     "output_type": "stream",
     "text": [
      "multilayer_perceptron ran in: 0.01562047004699707 sec\n",
      "multilayer_perceptron ran in: 0.0 sec\n",
      "multilayer_perceptron ran in: 0.0 sec\n",
      "multilayer_perceptron ran in: 0.0 sec\n",
      "multilayer_perceptron ran in: 0.0 sec\n",
      "multilayer_perceptron ran in: 0.0 sec\n",
      "multilayer_perceptron ran in: 0.0 sec\n"
     ]
    },
    {
     "name": "stderr",
     "output_type": "stream",
     "text": [
      "\r",
      " 63%|██████▎   | 351/560 [00:10<00:06, 33.14it/s]"
     ]
    },
    {
     "name": "stdout",
     "output_type": "stream",
     "text": [
      "multilayer_perceptron ran in: 0.0 sec\n",
      "multilayer_perceptron ran in: 0.0 sec\n",
      "multilayer_perceptron ran in: 0.0 sec\n",
      "multilayer_perceptron ran in: 0.0 sec\n",
      "multilayer_perceptron ran in: 0.01563286781311035 sec\n",
      "multilayer_perceptron ran in: 0.0 sec\n",
      "multilayer_perceptron ran in: 0.0 sec\n"
     ]
    },
    {
     "name": "stderr",
     "output_type": "stream",
     "text": [
      " 64%|██████▍   | 359/560 [00:11<00:06, 32.54it/s]"
     ]
    },
    {
     "name": "stdout",
     "output_type": "stream",
     "text": [
      "multilayer_perceptron ran in: 0.0 sec\n",
      "multilayer_perceptron ran in: 0.0 sec\n",
      "multilayer_perceptron ran in: 0.0 sec\n",
      "multilayer_perceptron ran in: 0.0 sec\n",
      "multilayer_perceptron ran in: 0.0 sec\n",
      "multilayer_perceptron ran in: 0.0 sec\n",
      "multilayer_perceptron ran in: 0.0 sec\n"
     ]
    },
    {
     "name": "stderr",
     "output_type": "stream",
     "text": [
      " 66%|██████▌   | 367/560 [00:11<00:05, 32.97it/s]"
     ]
    },
    {
     "name": "stdout",
     "output_type": "stream",
     "text": [
      "multilayer_perceptron ran in: 0.015623331069946289 sec\n",
      "multilayer_perceptron ran in: 0.0 sec\n",
      "multilayer_perceptron ran in: 0.0 sec\n",
      "multilayer_perceptron ran in: 0.0 sec\n",
      "multilayer_perceptron ran in: 0.0 sec\n",
      "multilayer_perceptron ran in: 0.0 sec\n",
      "multilayer_perceptron ran in: 0.0 sec\n"
     ]
    },
    {
     "name": "stderr",
     "output_type": "stream",
     "text": [
      " 67%|██████▋   | 375/560 [00:11<00:05, 33.74it/s]"
     ]
    },
    {
     "name": "stdout",
     "output_type": "stream",
     "text": [
      "multilayer_perceptron ran in: 0.0 sec\n",
      "multilayer_perceptron ran in: 0.0 sec\n",
      "multilayer_perceptron ran in: 0.0 sec\n",
      "multilayer_perceptron ran in: 0.0 sec\n",
      "multilayer_perceptron ran in: 0.015625476837158203 sec\n",
      "multilayer_perceptron ran in: 0.0 sec\n",
      "multilayer_perceptron ran in: 0.0 sec\n"
     ]
    },
    {
     "name": "stderr",
     "output_type": "stream",
     "text": [
      "\r",
      " 68%|██████▊   | 379/560 [00:11<00:05, 32.66it/s]"
     ]
    },
    {
     "name": "stdout",
     "output_type": "stream",
     "text": [
      "multilayer_perceptron ran in: 0.0 sec\n",
      "multilayer_perceptron ran in: 0.0 sec\n",
      "multilayer_perceptron ran in: 0.0 sec\n",
      "multilayer_perceptron ran in: 0.0 sec\n",
      "multilayer_perceptron ran in: 0.0 sec\n",
      "multilayer_perceptron ran in: 0.015625 sec\n",
      "multilayer_perceptron ran in: 0.0 sec\n"
     ]
    },
    {
     "name": "stderr",
     "output_type": "stream",
     "text": [
      " 69%|██████▉   | 387/560 [00:11<00:05, 33.04it/s]"
     ]
    },
    {
     "name": "stdout",
     "output_type": "stream",
     "text": [
      "multilayer_perceptron ran in: 0.0 sec\n",
      "multilayer_perceptron ran in: 0.0 sec\n",
      "multilayer_perceptron ran in: 0.0 sec\n",
      "multilayer_perceptron ran in: 0.0 sec\n",
      "multilayer_perceptron ran in: 0.0 sec\n",
      "multilayer_perceptron ran in: 0.0 sec\n",
      "multilayer_perceptron ran in: 0.0 sec\n"
     ]
    },
    {
     "name": "stderr",
     "output_type": "stream",
     "text": [
      " 71%|███████   | 395/560 [00:12<00:04, 33.77it/s]"
     ]
    },
    {
     "name": "stdout",
     "output_type": "stream",
     "text": [
      "multilayer_perceptron ran in: 0.0 sec\n",
      "multilayer_perceptron ran in: 0.0 sec\n",
      "multilayer_perceptron ran in: 0.0 sec\n",
      "multilayer_perceptron ran in: 0.015620946884155273 sec\n",
      "multilayer_perceptron ran in: 0.0 sec\n",
      "multilayer_perceptron ran in: 0.0 sec\n",
      "multilayer_perceptron ran in: 0.0 sec\n",
      "multilayer_perceptron ran in: 0.0 sec\n"
     ]
    },
    {
     "name": "stderr",
     "output_type": "stream",
     "text": [
      " 72%|███████▏  | 403/560 [00:12<00:04, 33.21it/s]"
     ]
    },
    {
     "name": "stdout",
     "output_type": "stream",
     "text": [
      "multilayer_perceptron ran in: 0.0 sec\n",
      "multilayer_perceptron ran in: 0.0 sec\n",
      "multilayer_perceptron ran in: 0.0 sec\n",
      "multilayer_perceptron ran in: 0.0 sec\n",
      "multilayer_perceptron ran in: 0.0 sec\n",
      "multilayer_perceptron ran in: 0.0 sec\n",
      "multilayer_perceptron ran in: 0.0 sec\n"
     ]
    },
    {
     "name": "stderr",
     "output_type": "stream",
     "text": [
      " 73%|███████▎  | 411/560 [00:12<00:04, 33.49it/s]"
     ]
    },
    {
     "name": "stdout",
     "output_type": "stream",
     "text": [
      "multilayer_perceptron ran in: 0.0 sec\n",
      "multilayer_perceptron ran in: 0.0 sec\n",
      "multilayer_perceptron ran in: 0.0 sec\n",
      "multilayer_perceptron ran in: 0.0 sec\n",
      "multilayer_perceptron ran in: 0.0 sec\n",
      "multilayer_perceptron ran in: 0.0 sec\n",
      "multilayer_perceptron ran in: 0.0 sec\n"
     ]
    },
    {
     "name": "stderr",
     "output_type": "stream",
     "text": [
      "\r",
      " 74%|███████▍  | 415/560 [00:12<00:04, 33.79it/s]"
     ]
    },
    {
     "name": "stdout",
     "output_type": "stream",
     "text": [
      "multilayer_perceptron ran in: 0.0 sec\n",
      "multilayer_perceptron ran in: 0.015627384185791016 sec\n",
      "multilayer_perceptron ran in: 0.0 sec\n",
      "multilayer_perceptron ran in: 0.0 sec\n",
      "multilayer_perceptron ran in: 0.0 sec\n",
      "multilayer_perceptron ran in: 0.0 sec\n",
      "multilayer_perceptron ran in: 0.0 sec\n"
     ]
    },
    {
     "name": "stderr",
     "output_type": "stream",
     "text": [
      " 76%|███████▌  | 423/560 [00:13<00:04, 33.22it/s]"
     ]
    },
    {
     "name": "stdout",
     "output_type": "stream",
     "text": [
      "multilayer_perceptron ran in: 0.0 sec\n",
      "multilayer_perceptron ran in: 0.0 sec\n",
      "multilayer_perceptron ran in: 0.0 sec\n",
      "multilayer_perceptron ran in: 0.0 sec\n",
      "multilayer_perceptron ran in: 0.0 sec\n",
      "multilayer_perceptron ran in: 0.0 sec\n",
      "multilayer_perceptron ran in: 0.0 sec\n"
     ]
    },
    {
     "name": "stderr",
     "output_type": "stream",
     "text": [
      " 77%|███████▋  | 431/560 [00:13<00:03, 33.48it/s]"
     ]
    },
    {
     "name": "stdout",
     "output_type": "stream",
     "text": [
      "multilayer_perceptron ran in: 0.0 sec\n",
      "multilayer_perceptron ran in: 0.0 sec\n",
      "multilayer_perceptron ran in: 0.0 sec\n",
      "multilayer_perceptron ran in: 0.0 sec\n",
      "multilayer_perceptron ran in: 0.0 sec\n",
      "multilayer_perceptron ran in: 0.0 sec\n",
      "multilayer_perceptron ran in: 0.0 sec\n"
     ]
    },
    {
     "name": "stderr",
     "output_type": "stream",
     "text": [
      " 78%|███████▊  | 439/560 [00:13<00:03, 32.72it/s]"
     ]
    },
    {
     "name": "stdout",
     "output_type": "stream",
     "text": [
      "multilayer_perceptron ran in: 0.0 sec\n",
      "multilayer_perceptron ran in: 0.0 sec\n",
      "multilayer_perceptron ran in: 0.0 sec\n",
      "multilayer_perceptron ran in: 0.0 sec\n",
      "multilayer_perceptron ran in: 0.0 sec\n",
      "multilayer_perceptron ran in: 0.0 sec\n",
      "multilayer_perceptron ran in: 0.0 sec\n"
     ]
    },
    {
     "name": "stderr",
     "output_type": "stream",
     "text": [
      " 80%|███████▉  | 447/560 [00:13<00:03, 33.32it/s]"
     ]
    },
    {
     "name": "stdout",
     "output_type": "stream",
     "text": [
      "multilayer_perceptron ran in: 0.0 sec\n",
      "multilayer_perceptron ran in: 0.0 sec\n",
      "multilayer_perceptron ran in: 0.0 sec\n",
      "multilayer_perceptron ran in: 0.0 sec\n",
      "multilayer_perceptron ran in: 0.0 sec\n",
      "multilayer_perceptron ran in: 0.0 sec\n",
      "multilayer_perceptron ran in: 0.0 sec\n"
     ]
    },
    {
     "name": "stderr",
     "output_type": "stream",
     "text": [
      "\r",
      " 81%|████████  | 451/560 [00:13<00:03, 33.67it/s]"
     ]
    },
    {
     "name": "stdout",
     "output_type": "stream",
     "text": [
      "multilayer_perceptron ran in: 0.0 sec\n",
      "multilayer_perceptron ran in: 0.0 sec\n",
      "multilayer_perceptron ran in: 0.0 sec\n",
      "multilayer_perceptron ran in: 0.0 sec\n",
      "multilayer_perceptron ran in: 0.0 sec\n",
      "multilayer_perceptron ran in: 0.0 sec\n",
      "multilayer_perceptron ran in: 0.0 sec\n"
     ]
    },
    {
     "name": "stderr",
     "output_type": "stream",
     "text": [
      " 82%|████████▏ | 459/560 [00:14<00:03, 27.59it/s]"
     ]
    },
    {
     "name": "stdout",
     "output_type": "stream",
     "text": [
      "multilayer_perceptron ran in: 0.0 sec\n",
      "multilayer_perceptron ran in: 0.0 sec\n",
      "multilayer_perceptron ran in: 0.0 sec\n",
      "multilayer_perceptron ran in: 0.0 sec\n",
      "multilayer_perceptron ran in: 0.0 sec\n",
      "multilayer_perceptron ran in: 0.0 sec\n",
      "multilayer_perceptron ran in: 0.0 sec\n",
      "multilayer_perceptron ran in: 0.0 sec\n"
     ]
    },
    {
     "name": "stderr",
     "output_type": "stream",
     "text": [
      " 83%|████████▎ | 467/560 [00:14<00:03, 30.41it/s]"
     ]
    },
    {
     "name": "stdout",
     "output_type": "stream",
     "text": [
      "multilayer_perceptron ran in: 0.0 sec\n",
      "multilayer_perceptron ran in: 0.01565861701965332 sec\n",
      "multilayer_perceptron ran in: 0.0 sec\n",
      "multilayer_perceptron ran in: 0.0 sec\n",
      "multilayer_perceptron ran in: 0.0 sec\n",
      "multilayer_perceptron ran in: 0.0 sec\n",
      "multilayer_perceptron ran in: 0.00099945068359375 sec\n"
     ]
    },
    {
     "name": "stderr",
     "output_type": "stream",
     "text": [
      " 85%|████████▍ | 475/560 [00:14<00:02, 31.20it/s]"
     ]
    },
    {
     "name": "stdout",
     "output_type": "stream",
     "text": [
      "multilayer_perceptron ran in: 0.0 sec\n",
      "multilayer_perceptron ran in: 0.0 sec\n",
      "multilayer_perceptron ran in: 0.0 sec\n",
      "multilayer_perceptron ran in: 0.0 sec\n",
      "multilayer_perceptron ran in: 0.0 sec\n",
      "multilayer_perceptron ran in: 0.0 sec\n",
      "multilayer_perceptron ran in: 0.0 sec\n"
     ]
    },
    {
     "name": "stderr",
     "output_type": "stream",
     "text": [
      " 86%|████████▋ | 483/560 [00:14<00:02, 32.29it/s]"
     ]
    },
    {
     "name": "stdout",
     "output_type": "stream",
     "text": [
      "multilayer_perceptron ran in: 0.0 sec\n",
      "multilayer_perceptron ran in: 0.0 sec\n",
      "multilayer_perceptron ran in: 0.0 sec\n",
      "multilayer_perceptron ran in: 0.0 sec\n",
      "multilayer_perceptron ran in: 0.0 sec\n",
      "multilayer_perceptron ran in: 0.0 sec\n",
      "multilayer_perceptron ran in: 0.0 sec\n"
     ]
    },
    {
     "name": "stderr",
     "output_type": "stream",
     "text": [
      "\r",
      " 87%|████████▋ | 487/560 [00:15<00:02, 32.92it/s]"
     ]
    },
    {
     "name": "stdout",
     "output_type": "stream",
     "text": [
      "multilayer_perceptron ran in: 0.0 sec\n",
      "multilayer_perceptron ran in: 0.0 sec\n",
      "multilayer_perceptron ran in: 0.0 sec\n",
      "multilayer_perceptron ran in: 0.0 sec\n",
      "multilayer_perceptron ran in: 0.0 sec\n",
      "multilayer_perceptron ran in: 0.0 sec\n",
      "multilayer_perceptron ran in: 0.0 sec\n"
     ]
    },
    {
     "name": "stderr",
     "output_type": "stream",
     "text": [
      " 88%|████████▊ | 495/560 [00:15<00:02, 32.43it/s]"
     ]
    },
    {
     "name": "stdout",
     "output_type": "stream",
     "text": [
      "multilayer_perceptron ran in: 0.0 sec\n",
      "multilayer_perceptron ran in: 0.0 sec\n",
      "multilayer_perceptron ran in: 0.0 sec\n",
      "multilayer_perceptron ran in: 0.0 sec\n",
      "multilayer_perceptron ran in: 0.0 sec\n",
      "multilayer_perceptron ran in: 0.0 sec\n",
      "multilayer_perceptron ran in: 0.0 sec\n"
     ]
    },
    {
     "name": "stderr",
     "output_type": "stream",
     "text": [
      " 90%|████████▉ | 503/560 [00:15<00:01, 32.92it/s]"
     ]
    },
    {
     "name": "stdout",
     "output_type": "stream",
     "text": [
      "multilayer_perceptron ran in: 0.0 sec\n",
      "multilayer_perceptron ran in: 0.0 sec\n",
      "multilayer_perceptron ran in: 0.0 sec\n",
      "multilayer_perceptron ran in: 0.0 sec\n",
      "multilayer_perceptron ran in: 0.0 sec\n",
      "multilayer_perceptron ran in: 0.0 sec\n",
      "multilayer_perceptron ran in: 0.0 sec\n"
     ]
    },
    {
     "name": "stderr",
     "output_type": "stream",
     "text": [
      " 91%|█████████▏| 511/560 [00:15<00:01, 33.71it/s]"
     ]
    },
    {
     "name": "stdout",
     "output_type": "stream",
     "text": [
      "multilayer_perceptron ran in: 0.015621423721313477 sec\n",
      "multilayer_perceptron ran in: 0.0 sec\n",
      "multilayer_perceptron ran in: 0.0 sec\n",
      "multilayer_perceptron ran in: 0.0 sec\n",
      "multilayer_perceptron ran in: 0.0 sec\n",
      "multilayer_perceptron ran in: 0.0 sec\n",
      "multilayer_perceptron ran in: 0.0 sec\n"
     ]
    },
    {
     "name": "stderr",
     "output_type": "stream",
     "text": [
      "\r",
      " 92%|█████████▏| 515/560 [00:15<00:01, 33.95it/s]"
     ]
    },
    {
     "name": "stdout",
     "output_type": "stream",
     "text": [
      "multilayer_perceptron ran in: 0.0 sec\n",
      "multilayer_perceptron ran in: 0.0 sec\n",
      "multilayer_perceptron ran in: 0.0 sec\n",
      "multilayer_perceptron ran in: 0.0 sec\n",
      "multilayer_perceptron ran in: 0.0 sec\n",
      "multilayer_perceptron ran in: 0.0 sec\n",
      "multilayer_perceptron ran in: 0.0 sec\n"
     ]
    },
    {
     "name": "stderr",
     "output_type": "stream",
     "text": [
      " 93%|█████████▎| 523/560 [00:16<00:01, 32.76it/s]"
     ]
    },
    {
     "name": "stdout",
     "output_type": "stream",
     "text": [
      "multilayer_perceptron ran in: 0.0 sec\n",
      "multilayer_perceptron ran in: 0.0 sec\n",
      "multilayer_perceptron ran in: 0.0 sec\n",
      "multilayer_perceptron ran in: 0.0 sec\n",
      "multilayer_perceptron ran in: 0.0 sec\n",
      "multilayer_perceptron ran in: 0.0 sec\n",
      "multilayer_perceptron ran in: 0.0 sec\n"
     ]
    },
    {
     "name": "stderr",
     "output_type": "stream",
     "text": [
      " 95%|█████████▍| 531/560 [00:16<00:00, 33.63it/s]"
     ]
    },
    {
     "name": "stdout",
     "output_type": "stream",
     "text": [
      "multilayer_perceptron ran in: 0.0 sec\n",
      "multilayer_perceptron ran in: 0.0 sec\n",
      "multilayer_perceptron ran in: 0.015635967254638672 sec\n",
      "multilayer_perceptron ran in: 0.0 sec\n",
      "multilayer_perceptron ran in: 0.0 sec\n",
      "multilayer_perceptron ran in: 0.0 sec\n",
      "multilayer_perceptron ran in: 0.0 sec\n"
     ]
    },
    {
     "name": "stderr",
     "output_type": "stream",
     "text": [
      " 96%|█████████▋| 539/560 [00:16<00:00, 33.16it/s]"
     ]
    },
    {
     "name": "stdout",
     "output_type": "stream",
     "text": [
      "multilayer_perceptron ran in: 0.0 sec\n",
      "multilayer_perceptron ran in: 0.0 sec\n",
      "multilayer_perceptron ran in: 0.0 sec\n",
      "multilayer_perceptron ran in: 0.0 sec\n",
      "multilayer_perceptron ran in: 0.0 sec\n",
      "multilayer_perceptron ran in: 0.01561117172241211 sec\n",
      "multilayer_perceptron ran in: 0.015627384185791016 sec\n"
     ]
    },
    {
     "name": "stderr",
     "output_type": "stream",
     "text": [
      "\r",
      " 97%|█████████▋| 543/560 [00:16<00:00, 33.01it/s]"
     ]
    },
    {
     "name": "stdout",
     "output_type": "stream",
     "text": [
      "multilayer_perceptron ran in: 0.01562952995300293 sec\n",
      "multilayer_perceptron ran in: 0.0 sec\n",
      "multilayer_perceptron ran in: 0.0 sec\n",
      "multilayer_perceptron ran in: 0.0 sec\n",
      "multilayer_perceptron ran in: 0.0 sec\n",
      "multilayer_perceptron ran in: 0.0 sec\n"
     ]
    },
    {
     "name": "stderr",
     "output_type": "stream",
     "text": [
      " 98%|█████████▊| 551/560 [00:17<00:00, 33.76it/s]"
     ]
    },
    {
     "name": "stdout",
     "output_type": "stream",
     "text": [
      "multilayer_perceptron ran in: 0.015611886978149414 sec\n",
      "multilayer_perceptron ran in: 0.0 sec\n",
      "multilayer_perceptron ran in: 0.0 sec\n",
      "multilayer_perceptron ran in: 0.0 sec\n",
      "multilayer_perceptron ran in: 0.0 sec\n",
      "multilayer_perceptron ran in: 0.0 sec\n",
      "multilayer_perceptron ran in: 0.0 sec\n"
     ]
    },
    {
     "name": "stderr",
     "output_type": "stream",
     "text": [
      "\r",
      " 99%|█████████▉| 555/560 [00:17<00:00, 32.68it/s]"
     ]
    },
    {
     "name": "stdout",
     "output_type": "stream",
     "text": [
      "multilayer_perceptron ran in: 0.0 sec\n",
      "multilayer_perceptron ran in: 0.01564931869506836 sec\n",
      "multilayer_perceptron ran in: 0.0 sec\n",
      "multilayer_perceptron ran in: 0.0 sec\n",
      "multilayer_perceptron ran in: 0.0 sec\n",
      "multilayer_perceptron ran in: 0.0 sec\n",
      "multilayer_perceptron ran in: 0.0 sec\n"
     ]
    },
    {
     "name": "stderr",
     "output_type": "stream",
     "text": [
      "100%|██████████| 560/560 [00:17<00:00, 32.34it/s]"
     ]
    },
    {
     "name": "stdout",
     "output_type": "stream",
     "text": [
      "multilayer_perceptron ran in: 0.0 sec\n",
      "Epoch: 15 Cost=246050.9531\n",
      "Modellierung ist beendet: 15 Epochs of Training\n"
     ]
    },
    {
     "name": "stderr",
     "output_type": "stream",
     "text": [
      "\n"
     ]
    }
   ],
   "source": [
    "from tqdm import tqdm\n",
    "\n",
    "# Eingabe vom Benutzer: Prozentsatz der Daten, die verarbeitet werden sollen\n",
    "percentage_to_process = float(input(\"Geben Sie den Prozentsatz der Daten ein, der verarbeitet werden soll (0-100): \"))\n",
    "if percentage_to_process <= 0 or percentage_to_process > 100:\n",
    "    print(\"Ungültiger Prozentsatz. Bitte geben Sie einen Wert zwischen 0 und 100 ein.\")\n",
    "    exit()\n",
    "\n",
    "# Berechnen Sie die Anzahl der Datensätze, die verarbeitet werden sollen\n",
    "n_samples_to_process = int(n_samples * (percentage_to_process / 100))\n",
    "\n",
    "# Training Epochs\n",
    "for epoch in range(training_epochs):\n",
    "    avg_cost = 0.0\n",
    "    total_batch = int(n_samples_to_process / batch_size)\n",
    "\n",
    "    for i in tqdm(range(total_batch)):\n",
    "        # Den nächsten Batch an Trainingsdaten und -labels nehmen\n",
    "        batch_x = x_train[i * batch_size: (i + 1) * batch_size].reshape(-1, n_input)\n",
    "        batch_y = y_train[i * batch_size: (i + 1) * batch_size]\n",
    "\n",
    "        # Führen Sie die Optimierung und Cost-Berechnung durch\n",
    "        with tf.GradientTape() as tape:\n",
    "            pred = multilayer_perceptron(batch_x, weights, biases)\n",
    "            loss = tf.reduce_mean(tf.nn.softmax_cross_entropy_with_logits(labels=batch_y, logits=pred))\n",
    "        gradients = tape.gradient(loss, list(weights.values()) + list(biases.values()))\n",
    "        optimizer.apply_gradients(zip(gradients, list(weights.values()) + list(biases.values())))\n",
    "\n",
    "        avg_cost += loss / total_batch\n",
    "\n",
    "    print(\"Epoch: {} Cost={:.4f}\".format(epoch + 1, avg_cost))\n",
    "\n",
    "print(\"Modellierung ist beendet: {} Epochs of Training\".format(training_epochs))\n"
   ]
  },
  {
   "cell_type": "markdown",
   "metadata": {},
   "source": [
    "## Modell Auswertung\n",
    "\n",
    "Tensorflow bietet einige eingebaute Funktionen, die uns bei der Auswertung helfen. Dazu gehören `tf.equal` und `tf.reduce_mean`.\n",
    "\n",
    "\n",
    "### tf.equal\n",
    "\n",
    "Dies ist im Grunde genommen nur eine Kontrolle, ob die Vorhersagen mit den Labels übereinstimmen. Da wir in unserem Fall wissen, dass die Labels eine 1 in einem Array von Nullen sind, können wir `argmax()` verwenden, um die Position zu vergleichen. Denke daran, dass y immer noch der Platzhalter ist, den wir anfangs erstellt haben. Wir werden eine Reihe an Operationen durchführen, um einen Tensor zu erhalten, in den wir die Testdaten einlesen können, um es auszuwerten."
   ]
  },
  {
   "cell_type": "code",
   "execution_count": 26,
   "metadata": {},
   "outputs": [],
   "source": [
    "# Teste das Modell\n",
    "correct_predictions = tf.math.reduce_all(tf.equal(tf.argmax(pred, 1), tf.argmax(y, 1)))"
   ]
  },
  {
   "cell_type": "code",
   "execution_count": 27,
   "metadata": {},
   "outputs": [
    {
     "name": "stdout",
     "output_type": "stream",
     "text": [
      "KerasTensor(type_spec=TensorSpec(shape=(), dtype=tf.bool, name=None), name='tf.math.reduce_all/All:0', description=\"created by layer 'tf.math.reduce_all'\")\n"
     ]
    }
   ],
   "source": [
    "print(correct_predictions)"
   ]
  },
  {
   "cell_type": "markdown",
   "metadata": {},
   "source": [
    "Um numerische Werte für unsere Vorhersagen zu erhalten müssen wir `tf.cast` verwenden, um den Tensor mit Booleans zurückzuführen in einen Tensor mit Floats. Dann können wir den Durchschnitt nehmen."
   ]
  },
  {
   "cell_type": "code",
   "execution_count": 28,
   "metadata": {},
   "outputs": [],
   "source": [
    "correct_predictions = tf.cast(correct_predictions, \"float\")"
   ]
  },
  {
   "cell_type": "code",
   "execution_count": 29,
   "metadata": {},
   "outputs": [
    {
     "name": "stdout",
     "output_type": "stream",
     "text": [
      "KerasTensor(type_spec=TensorSpec(shape=(), dtype=tf.float32, name=None), name='tf.cast/Cast:0', description=\"created by layer 'tf.cast'\")\n"
     ]
    }
   ],
   "source": [
    "print(correct_predictions)"
   ]
  },
  {
   "cell_type": "markdown",
   "metadata": {},
   "source": [
    "Jetzt können wir `tf.reduce_mean` verwenden, um den Durchschnitt der Elemente im Tensor zu erhalten:"
   ]
  },
  {
   "cell_type": "code",
   "execution_count": 30,
   "metadata": {},
   "outputs": [],
   "source": [
    "accuracy = tf.reduce_mean(correct_predictions)"
   ]
  },
  {
   "cell_type": "code",
   "execution_count": 31,
   "metadata": {},
   "outputs": [
    {
     "data": {
      "text/plain": [
       "keras.engine.keras_tensor.KerasTensor"
      ]
     },
     "execution_count": 31,
     "metadata": {},
     "output_type": "execute_result"
    }
   ],
   "source": [
    "type(accuracy)"
   ]
  },
  {
   "cell_type": "markdown",
   "metadata": {},
   "source": [
    "Das wirkt evtl. etwas merkwürdig, aber diese Genauigkeit ist immer noch ein Tensor Objekt. Denke daran, dass wir immer noch die tatsächlichen Testdaten übergeben müssen. Jetzt können wir die MNIST Testlabels und Bilder aufrufen und die Genauigkeit auswerten!"
   ]
  },
  {
   "cell_type": "code",
   "execution_count": 32,
   "metadata": {},
   "outputs": [
    {
     "data": {
      "text/plain": [
       "46730    8\n",
       "48393    4\n",
       "41416    8\n",
       "34506    7\n",
       "43725    7\n",
       "        ..\n",
       "21525    3\n",
       "16276    5\n",
       "24390    2\n",
       "28061    7\n",
       "63452    1\n",
       "Name: class, Length: 14000, dtype: int32"
      ]
     },
     "execution_count": 32,
     "metadata": {},
     "output_type": "execute_result"
    }
   ],
   "source": [
    "y_test"
   ]
  },
  {
   "cell_type": "code",
   "execution_count": 33,
   "metadata": {},
   "outputs": [
    {
     "data": {
      "text/plain": [
       "array([[0., 0., 0., ..., 0., 0., 0.],\n",
       "       [0., 0., 0., ..., 0., 0., 0.],\n",
       "       [0., 0., 0., ..., 0., 0., 0.],\n",
       "       ...,\n",
       "       [0., 0., 0., ..., 0., 0., 0.],\n",
       "       [0., 0., 0., ..., 0., 0., 0.],\n",
       "       [0., 0., 0., ..., 0., 0., 0.]])"
      ]
     },
     "execution_count": 33,
     "metadata": {},
     "output_type": "execute_result"
    }
   ],
   "source": [
    "x_test"
   ]
  },
  {
   "cell_type": "markdown",
   "metadata": {},
   "source": [
    "Die `eval()` Methode erlaubt es uns direkt in der Session den Tensor auszuwerten ohne `tf.sess():mm` aufrufen zu müssen"
   ]
  },
  {
   "cell_type": "code",
   "execution_count": 34,
   "metadata": {},
   "outputs": [
    {
     "name": "stdout",
     "output_type": "stream",
     "text": [
      "Epoch 1/15\n",
      "56000/56000 [==============================] - 112s 2ms/step - loss: 0.2561 - sparse_categorical_accuracy: 0.9295\n",
      "Epoch 2/15\n",
      "56000/56000 [==============================] - 114s 2ms/step - loss: 0.1855 - sparse_categorical_accuracy: 0.9566\n",
      "Epoch 3/15\n",
      "56000/56000 [==============================] - 115s 2ms/step - loss: 0.1659 - sparse_categorical_accuracy: 0.9627\n",
      "Epoch 4/15\n",
      "56000/56000 [==============================] - 118s 2ms/step - loss: 0.1526 - sparse_categorical_accuracy: 0.9668\n",
      "Epoch 5/15\n",
      "56000/56000 [==============================] - 115s 2ms/step - loss: 0.1443 - sparse_categorical_accuracy: 0.9703\n",
      "Epoch 6/15\n",
      "56000/56000 [==============================] - 113s 2ms/step - loss: 0.1429 - sparse_categorical_accuracy: 0.9715\n",
      "Epoch 7/15\n",
      "56000/56000 [==============================] - 118s 2ms/step - loss: 0.1276 - sparse_categorical_accuracy: 0.9750\n",
      "Epoch 8/15\n",
      "56000/56000 [==============================] - 118s 2ms/step - loss: 0.1319 - sparse_categorical_accuracy: 0.9762\n",
      "Epoch 9/15\n",
      "56000/56000 [==============================] - 117s 2ms/step - loss: 0.1201 - sparse_categorical_accuracy: 0.9769\n",
      "Epoch 10/15\n",
      "56000/56000 [==============================] - 116s 2ms/step - loss: 0.1287 - sparse_categorical_accuracy: 0.9780\n",
      "Epoch 11/15\n",
      "56000/56000 [==============================] - 116s 2ms/step - loss: 0.1286 - sparse_categorical_accuracy: 0.9787\n",
      "Epoch 12/15\n",
      "56000/56000 [==============================] - 116s 2ms/step - loss: 0.1149 - sparse_categorical_accuracy: 0.9793\n",
      "Epoch 13/15\n",
      "56000/56000 [==============================] - 123s 2ms/step - loss: 0.1248 - sparse_categorical_accuracy: 0.9808\n",
      "Epoch 14/15\n",
      "56000/56000 [==============================] - 118s 2ms/step - loss: 0.1128 - sparse_categorical_accuracy: 0.9815\n",
      "Epoch 15/15\n",
      "56000/56000 [==============================] - 114s 2ms/step - loss: 0.1128 - sparse_categorical_accuracy: 0.9810\n",
      "438/438 [==============================] - 1s 1ms/step - loss: 0.4425 - sparse_categorical_accuracy: 0.9690\n",
      "Test Loss: 0.44246187806129456\n",
      "Test Accuracy: 0.968999981880188\n"
     ]
    }
   ],
   "source": [
    "# Erstellen eines Modelles mit den gleichen Schichten und Parametern\n",
    "model = tf.keras.models.Sequential([\n",
    "    tf.keras.layers.Flatten(input_shape=(n_input,)),  # Eingabeform muss 784 sein\n",
    "    tf.keras.layers.Dense(n_hidden_1, activation=tf.nn.relu),\n",
    "    tf.keras.layers.Dense(n_hidden_2, activation=tf.nn.relu),\n",
    "    tf.keras.layers.Dense(n_classes, activation=None)\n",
    "])\n",
    "\n",
    "# Kompilieren des Modelles mit der Genauigkeitsmetrik\n",
    "model.compile(optimizer=tf.keras.optimizers.Adam(learning_rate=learning_rate),\n",
    "              loss=tf.keras.losses.SparseCategoricalCrossentropy(from_logits=True),\n",
    "              metrics=[tf.keras.metrics.SparseCategoricalAccuracy()])  \n",
    "\n",
    "# Trainieren des Modelles auf den Trainingsdaten\n",
    "x_train_flattened = x_train.reshape(-1, n_input)  # Flach machen\n",
    "model.fit(x_train_flattened, y_train, batch_size=batch_size, epochs=training_epochs)\n",
    "\n",
    "# Evaluieren der Genauigkeit auf den Testdaten\n",
    "x_test_flattened = x_test.reshape(-1, n_input)  # Flach machen\n",
    "test_loss, test_accuracy = model.evaluate(x_test_flattened, y_test)\n",
    "\n",
    "print(\"Test Loss:\", test_loss)\n",
    "print(\"Test Accuracy:\", test_accuracy)"
   ]
  },
  {
   "cell_type": "markdown",
   "metadata": {},
   "source": [
    "# Initialisieren des Unittest"
   ]
  },
  {
   "cell_type": "markdown",
   "metadata": {},
   "source": [
    "Hier startet der Unittest, zu anfang werden die Datenausgelesen und anschließend die Train Accuracy und Test Accurracy ausgegeben."
   ]
  },
  {
   "cell_type": "code",
   "execution_count": 35,
   "metadata": {},
   "outputs": [
    {
     "name": "stderr",
     "output_type": "stream",
     "text": [
      "C:\\Users\\Phili\\anaconda3\\Lib\\site-packages\\sklearn\\datasets\\_openml.py:1002: FutureWarning: The default value of `parser` will change from `'liac-arff'` to `'auto'` in 1.4. You can set `parser='auto'` to silence this warning. Therefore, an `ImportError` will be raised from 1.4 if the dataset is dense and pandas is not installed. Note that the pandas parser may return different data types. See the Notes Section in fetch_openml's API doc for details.\n",
      "  warn(\n"
     ]
    },
    {
     "name": "stdout",
     "output_type": "stream",
     "text": [
      "MNIST: (70000, 784) (70000,)\n",
      "__init__ ran in: 0.0 sec\n",
      "fit ran in: 18.03017830848694 sec\n",
      "\n",
      "Train Accuracy: 72.8625 \n",
      "\n",
      "Train confusion matrix:\n",
      "[[5160    6   23   22   30   13  194   37   70    5]\n",
      " [   4 6047   94   31    1   22   29   32   17    0]\n",
      " [ 324  438 3388  134  250   21  729  179  108   39]\n",
      " [ 127  234  232 4173   46  247  109  127  255  158]\n",
      " [ 110  131   21   39 4236  332  244  123   86  207]\n",
      " [ 410  197   73  914  353 2194  299  320  172  108]\n",
      " [ 171   78   75   35  113  190 4758   22   38    0]\n",
      " [ 209  204  192   37  125   20   31 4680   41  251]\n",
      " [  69  702  167  597   64  189  367   45 3128  140]\n",
      " [ 154  155   44  229  599  276  145  658  239 3039]]\n",
      "\n",
      "Classification Report for the classifier:\n",
      "              precision    recall  f1-score   support\n",
      "\n",
      "           0       0.92      0.77      0.84      1343\n",
      "           1       0.74      0.94      0.83      1600\n",
      "           2       0.78      0.53      0.63      1380\n",
      "           3       0.65      0.66      0.66      1433\n",
      "           4       0.79      0.43      0.56      1295\n",
      "           5       0.51      0.02      0.04      1273\n",
      "           6       0.68      0.87      0.76      1396\n",
      "           7       0.97      0.53      0.69      1503\n",
      "           8       0.24      0.85      0.37      1357\n",
      "           9       0.54      0.08      0.14      1420\n",
      "\n",
      "    accuracy                           0.58     14000\n",
      "   macro avg       0.68      0.57      0.55     14000\n",
      "weighted avg       0.69      0.58      0.56     14000\n",
      "\n",
      "\n",
      "predict ran in: 0.10312223434448242 sec\n",
      "\n",
      "Test Accuracy: 57.65 \n",
      "\n",
      "Test confusion matrix:\n",
      "[[1029    7   26    7    9    5   77    7  176    0]\n",
      " [   0 1506    2   14    0    2    3    0   73    0]\n",
      " [  11  105  729   22   10    1  231    4  267    0]\n",
      " [   5   61   31  949    0    2   23    2  359    1]\n",
      " [   4   28    4   21  562    6   77    2  581   10]\n",
      " [  15   65   30  276   31   24   79    0  753    0]\n",
      " [   8   27   21    5    8    2 1211    0  114    0]\n",
      " [  39   71   71   21   56    1   20  799  339   86]\n",
      " [   0   96    9   70    1    0   31    0 1150    0]\n",
      " [   8   56   11   77   30    4   35   12 1075  112]]\n",
      "\n",
      "Die Funktion hat 50.50857996940613 Sekunden gebraucht.\n"
     ]
    },
    {
     "name": "stderr",
     "output_type": "stream",
     "text": [
      "C:\\Users\\Phili\\anaconda3\\Lib\\site-packages\\sklearn\\base.py:457: UserWarning: X has feature names, but LogisticRegression was fitted without feature names\n",
      "  warnings.warn(\n"
     ]
    }
   ],
   "source": [
    "if __name__ == '__main__':\n",
    "    start_time = time.time()  # Startzeit messen\n",
    "    X, y = download()\n",
    "    print('MNIST:', X.shape, y.shape)\n",
    "    X_train, X_test, y_train, y_test = train_test_split(X, y, test_size=1 - splitRatio, random_state=42)\n",
    "    np.random.seed(31337)\n",
    "    ta = TheAlgorithm(X_train, y_train, X_test, y_test)\n",
    "    train_accuracy = ta.fit()\n",
    "    print()\n",
    "    print('Train Accuracy:', train_accuracy, '\\n')\n",
    "    print(\"Train confusion matrix:\\n%s\\n\" % ta.train_confusion_matrix)\n",
    "    test_accuracy = ta.predict()\n",
    "    print()\n",
    "    print('Test Accuracy:', test_accuracy, '\\n')\n",
    "    print(\"Test confusion matrix:\\n%s\\n\" % ta.test_confusion_matrix)\n",
    "\n",
    "    end_time = time.time()  # Endzeit messen\n",
    "    elapsed_time = end_time - start_time  # Gesamtzeit berechnen\n",
    "    print(f\"Die Funktion hat {elapsed_time} Sekunden gebraucht.\")\n"
   ]
  },
  {
   "cell_type": "markdown",
   "metadata": {},
   "source": [
    "# Durchführung der Unittests ausgeführt"
   ]
  },
  {
   "cell_type": "markdown",
   "metadata": {},
   "source": [
    "Test des Ausfalls der Laufzeit von test_fit mit 1% der representativen Zeit"
   ]
  },
  {
   "cell_type": "code",
   "execution_count": 36,
   "metadata": {},
   "outputs": [
    {
     "name": "stdout",
     "output_type": "stream",
     "text": [
      "setUp\n"
     ]
    },
    {
     "name": "stderr",
     "output_type": "stream",
     "text": [
      "C:\\Users\\Phili\\anaconda3\\Lib\\site-packages\\sklearn\\datasets\\_openml.py:1002: FutureWarning: The default value of `parser` will change from `'liac-arff'` to `'auto'` in 1.4. You can set `parser='auto'` to silence this warning. Therefore, an `ImportError` will be raised from 1.4 if the dataset is dense and pandas is not installed. Note that the pandas parser may return different data types. See the Notes Section in fetch_openml's API doc for details.\n",
      "  warn(\n"
     ]
    },
    {
     "name": "stdout",
     "output_type": "stream",
     "text": [
      "__init__ ran in: 0.0 sec\n"
     ]
    },
    {
     "name": "stderr",
     "output_type": "stream",
     "text": [
      "."
     ]
    },
    {
     "name": "stdout",
     "output_type": "stream",
     "text": [
      "fit ran in: 18.16919755935669 sec\n",
      "setUp\n"
     ]
    },
    {
     "name": "stderr",
     "output_type": "stream",
     "text": [
      "C:\\Users\\Phili\\anaconda3\\Lib\\site-packages\\sklearn\\datasets\\_openml.py:1002: FutureWarning: The default value of `parser` will change from `'liac-arff'` to `'auto'` in 1.4. You can set `parser='auto'` to silence this warning. Therefore, an `ImportError` will be raised from 1.4 if the dataset is dense and pandas is not installed. Note that the pandas parser may return different data types. See the Notes Section in fetch_openml's API doc for details.\n",
      "  warn(\n"
     ]
    },
    {
     "name": "stdout",
     "output_type": "stream",
     "text": [
      "__init__ ran in: 0.0 sec\n"
     ]
    },
    {
     "name": "stderr",
     "output_type": "stream",
     "text": [
      "C:\\Users\\Phili\\anaconda3\\Lib\\site-packages\\sklearn\\base.py:457: UserWarning: X has feature names, but LogisticRegression was fitted without feature names\n",
      "  warnings.warn(\n",
      "."
     ]
    },
    {
     "name": "stdout",
     "output_type": "stream",
     "text": [
      "fit ran in: 18.079368114471436 sec\n",
      "Classification Report for the classifier:\n",
      "              precision    recall  f1-score   support\n",
      "\n",
      "           0       0.92      0.77      0.84      1343\n",
      "           1       0.74      0.94      0.83      1600\n",
      "           2       0.78      0.53      0.63      1380\n",
      "           3       0.65      0.66      0.66      1433\n",
      "           4       0.79      0.43      0.56      1295\n",
      "           5       0.51      0.02      0.04      1273\n",
      "           6       0.68      0.87      0.76      1396\n",
      "           7       0.97      0.53      0.69      1503\n",
      "           8       0.24      0.85      0.37      1357\n",
      "           9       0.54      0.08      0.14      1420\n",
      "\n",
      "    accuracy                           0.58     14000\n",
      "   macro avg       0.68      0.57      0.55     14000\n",
      "weighted avg       0.69      0.58      0.56     14000\n",
      "\n",
      "\n",
      "predict ran in: 0.10068893432617188 sec\n",
      "setUp\n"
     ]
    },
    {
     "name": "stderr",
     "output_type": "stream",
     "text": [
      "C:\\Users\\Phili\\anaconda3\\Lib\\site-packages\\sklearn\\datasets\\_openml.py:1002: FutureWarning: The default value of `parser` will change from `'liac-arff'` to `'auto'` in 1.4. You can set `parser='auto'` to silence this warning. Therefore, an `ImportError` will be raised from 1.4 if the dataset is dense and pandas is not installed. Note that the pandas parser may return different data types. See the Notes Section in fetch_openml's API doc for details.\n",
      "  warn(\n"
     ]
    },
    {
     "name": "stdout",
     "output_type": "stream",
     "text": [
      "__init__ ran in: 0.0 sec\n"
     ]
    },
    {
     "name": "stderr",
     "output_type": "stream",
     "text": [
      "F\n",
      "======================================================================\n",
      "FAIL: test_runtime_fit (__main__.TestInput.test_runtime_fit)\n",
      "----------------------------------------------------------------------\n",
      "Traceback (most recent call last):\n",
      "  File \"C:\\Users\\Phili\\AppData\\Local\\Temp\\ipykernel_3640\\407630555.py\", line 57, in test_runtime_fit\n",
      "    self.assertLessEqual(elapsed_time, max_allowed_runtime)\n",
      "AssertionError: 18.396221160888672 not less than or equal to 0.0018396221160888672\n",
      "\n",
      "----------------------------------------------------------------------\n",
      "Ran 3 tests in 151.005s\n",
      "\n",
      "FAILED (failures=1)\n"
     ]
    },
    {
     "name": "stdout",
     "output_type": "stream",
     "text": [
      "fit ran in: 18.396221160888672 sec\n"
     ]
    }
   ],
   "source": [
    "class TestInput(unittest.TestCase):\n",
    "    @classmethod\n",
    "    def setUpClass(cls):\n",
    "        pass\n",
    "\n",
    "    @classmethod\n",
    "    def tearDownClass(cls):\n",
    "        pass\n",
    "\n",
    "    def setUp(self):\n",
    "        print('setUp')\n",
    "        # Verwende die Werte und Objekte aus Code 34\n",
    "        X, y = download()\n",
    "        X_train, X_test, y_train, y_test = train_test_split(X, y, test_size=1 - splitRatio, random_state=42)\n",
    "        self.X_train = X_train\n",
    "        self.y_train = y_train\n",
    "        self.X_test = X_test\n",
    "        self.y_test = y_test\n",
    "        # Setzen Sie die erwarteten Genauigkeiten basierend auf Ihren tatsächlichen Daten und Modellparametern\n",
    "        self.train_accuracy = train_accuracy  # Beispielwert, aktualisieren mit tatsächlichen Trainingsgenauigkeitswert\n",
    "        self.test_accuracy = test_accuracy  # Beispielwert, aktualisieren mit tatsächlichen Testgenauigkeitswert\n",
    "        # Ersetzen der ta_train_accuracy und ta_test_accuracy durch die tatsächlichen Genauigkeitswerte\n",
    "        self.train_confusion_matrix = ta.train_confusion_matrix\n",
    "        self.test_confusion_matrix = ta.test_confusion_matrix\n",
    "\n",
    "    def tearDown(self):\n",
    "        pass\n",
    "\n",
    "    def test_fit(self):\n",
    "        np.random.seed(31337)\n",
    "        self.ta = TheAlgorithm(self.X_train, self.y_train, self.X_test, self.y_test)\n",
    "        self.assertEqual(self.ta.fit(), self.train_accuracy)\n",
    "        self.assertTrue(np.array_equal(self.ta.train_confusion_matrix, self.train_confusion_matrix))\n",
    "\n",
    "    def test_predict(self):\n",
    "        np.random.seed(31337)\n",
    "        self.ta = TheAlgorithm(self.X_train, self.y_train, self.X_test, self.y_test)\n",
    "        self.ta.fit()\n",
    "        self.assertEqual(self.ta.predict(), self.test_accuracy)\n",
    "        self.assertTrue(np.array_equal(self.ta.test_confusion_matrix, self.test_confusion_matrix))\n",
    "        \n",
    "    def test_runtime_fit(self):\n",
    "        np.random.seed(31337)\n",
    "        self.ta = TheAlgorithm(self.X_train, self.y_train, self.X_test, self.y_test)\n",
    "\n",
    "        # Messen der Laufzeit der fit-Funktion\n",
    "        start_time = time.time()\n",
    "        self.ta.fit()\n",
    "        end_time = time.time()\n",
    "        elapsed_time = end_time - start_time\n",
    "\n",
    "        # Legen Sie den Grenzwert fest, z.B. 120% der repräsentativen Laufzeit\n",
    "        representative_runtime = elapsed_time  # Aktualisieren Sie diesen Wert entsprechend\n",
    "        max_allowed_runtime = 0.0001 * representative_runtime\n",
    "\n",
    "        # Überprüfen, ob die Laufzeit innerhalb des zulässigen Bereichs liegt\n",
    "        self.assertLessEqual(elapsed_time, max_allowed_runtime)\n",
    "\n",
    "if __name__ == '__main__':\n",
    "    unittest.main(argv=['first-arg-is-ignored'], exit=False)"
   ]
  },
  {
   "cell_type": "markdown",
   "metadata": {},
   "source": [
    "Test des Durchlaufs der Laufzeit von test_fit mit 120% der representativen Zeit"
   ]
  },
  {
   "cell_type": "code",
   "execution_count": 37,
   "metadata": {},
   "outputs": [
    {
     "name": "stdout",
     "output_type": "stream",
     "text": [
      "setUp\n"
     ]
    },
    {
     "name": "stderr",
     "output_type": "stream",
     "text": [
      "C:\\Users\\Phili\\anaconda3\\Lib\\site-packages\\sklearn\\datasets\\_openml.py:1002: FutureWarning: The default value of `parser` will change from `'liac-arff'` to `'auto'` in 1.4. You can set `parser='auto'` to silence this warning. Therefore, an `ImportError` will be raised from 1.4 if the dataset is dense and pandas is not installed. Note that the pandas parser may return different data types. See the Notes Section in fetch_openml's API doc for details.\n",
      "  warn(\n"
     ]
    },
    {
     "name": "stdout",
     "output_type": "stream",
     "text": [
      "__init__ ran in: 0.0 sec\n"
     ]
    },
    {
     "name": "stderr",
     "output_type": "stream",
     "text": [
      "."
     ]
    },
    {
     "name": "stdout",
     "output_type": "stream",
     "text": [
      "fit ran in: 18.05109667778015 sec\n",
      "setUp\n"
     ]
    },
    {
     "name": "stderr",
     "output_type": "stream",
     "text": [
      "C:\\Users\\Phili\\anaconda3\\Lib\\site-packages\\sklearn\\datasets\\_openml.py:1002: FutureWarning: The default value of `parser` will change from `'liac-arff'` to `'auto'` in 1.4. You can set `parser='auto'` to silence this warning. Therefore, an `ImportError` will be raised from 1.4 if the dataset is dense and pandas is not installed. Note that the pandas parser may return different data types. See the Notes Section in fetch_openml's API doc for details.\n",
      "  warn(\n"
     ]
    },
    {
     "name": "stdout",
     "output_type": "stream",
     "text": [
      "__init__ ran in: 0.0 sec\n"
     ]
    },
    {
     "name": "stderr",
     "output_type": "stream",
     "text": [
      "C:\\Users\\Phili\\anaconda3\\Lib\\site-packages\\sklearn\\base.py:457: UserWarning: X has feature names, but LogisticRegression was fitted without feature names\n",
      "  warnings.warn(\n",
      "."
     ]
    },
    {
     "name": "stdout",
     "output_type": "stream",
     "text": [
      "fit ran in: 18.071243047714233 sec\n",
      "Classification Report for the classifier:\n",
      "              precision    recall  f1-score   support\n",
      "\n",
      "           0       0.92      0.77      0.84      1343\n",
      "           1       0.74      0.94      0.83      1600\n",
      "           2       0.78      0.53      0.63      1380\n",
      "           3       0.65      0.66      0.66      1433\n",
      "           4       0.79      0.43      0.56      1295\n",
      "           5       0.51      0.02      0.04      1273\n",
      "           6       0.68      0.87      0.76      1396\n",
      "           7       0.97      0.53      0.69      1503\n",
      "           8       0.24      0.85      0.37      1357\n",
      "           9       0.54      0.08      0.14      1420\n",
      "\n",
      "    accuracy                           0.58     14000\n",
      "   macro avg       0.68      0.57      0.55     14000\n",
      "weighted avg       0.69      0.58      0.56     14000\n",
      "\n",
      "\n",
      "predict ran in: 0.10338068008422852 sec\n",
      "setUp\n"
     ]
    },
    {
     "name": "stderr",
     "output_type": "stream",
     "text": [
      "C:\\Users\\Phili\\anaconda3\\Lib\\site-packages\\sklearn\\datasets\\_openml.py:1002: FutureWarning: The default value of `parser` will change from `'liac-arff'` to `'auto'` in 1.4. You can set `parser='auto'` to silence this warning. Therefore, an `ImportError` will be raised from 1.4 if the dataset is dense and pandas is not installed. Note that the pandas parser may return different data types. See the Notes Section in fetch_openml's API doc for details.\n",
      "  warn(\n"
     ]
    },
    {
     "name": "stdout",
     "output_type": "stream",
     "text": [
      "__init__ ran in: 0.0 sec\n"
     ]
    },
    {
     "name": "stderr",
     "output_type": "stream",
     "text": [
      ".\n",
      "----------------------------------------------------------------------\n",
      "Ran 3 tests in 152.320s\n",
      "\n",
      "OK\n"
     ]
    },
    {
     "name": "stdout",
     "output_type": "stream",
     "text": [
      "fit ran in: 18.03905153274536 sec\n"
     ]
    }
   ],
   "source": [
    "class TestInput(unittest.TestCase):\n",
    "    @classmethod\n",
    "    def setUpClass(cls):\n",
    "        pass\n",
    "\n",
    "    @classmethod\n",
    "    def tearDownClass(cls):\n",
    "        pass\n",
    "\n",
    "    def setUp(self):\n",
    "        print('setUp')\n",
    "        # Verwende die Werte und Objekte aus Code 34\n",
    "        X, y = download()\n",
    "        X_train, X_test, y_train, y_test = train_test_split(X, y, test_size=1 - splitRatio, random_state=42)\n",
    "        self.X_train = X_train\n",
    "        self.y_train = y_train\n",
    "        self.X_test = X_test\n",
    "        self.y_test = y_test\n",
    "        # Setzen Sie die erwarteten Genauigkeiten basierend auf Ihren tatsächlichen Daten und Modellparametern\n",
    "        self.train_accuracy = train_accuracy  # Beispielwert, aktualisieren mit tatsächlichen Trainingsgenauigkeitswert\n",
    "        self.test_accuracy = test_accuracy  # Beispielwert, aktualisieren mit tatsächlichen Testgenauigkeitswert\n",
    "        # Ersetzen der ta_train_accuracy und ta_test_accuracy durch die tatsächlichen Genauigkeitswerte\n",
    "        self.train_confusion_matrix = ta.train_confusion_matrix\n",
    "        self.test_confusion_matrix = ta.test_confusion_matrix\n",
    "\n",
    "    def tearDown(self):\n",
    "        pass\n",
    "\n",
    "    def test_fit(self):\n",
    "        np.random.seed(31337)\n",
    "        self.ta = TheAlgorithm(self.X_train, self.y_train, self.X_test, self.y_test)\n",
    "        self.assertEqual(self.ta.fit(), self.train_accuracy)\n",
    "        self.assertTrue(np.array_equal(self.ta.train_confusion_matrix, self.train_confusion_matrix))\n",
    "\n",
    "    def test_predict(self):\n",
    "        np.random.seed(31337)\n",
    "        self.ta = TheAlgorithm(self.X_train, self.y_train, self.X_test, self.y_test)\n",
    "        self.ta.fit()\n",
    "        self.assertEqual(self.ta.predict(), self.test_accuracy)\n",
    "        self.assertTrue(np.array_equal(self.ta.test_confusion_matrix, self.test_confusion_matrix))\n",
    "        \n",
    "    def test_runtime_fit(self):\n",
    "        np.random.seed(31337)\n",
    "        self.ta = TheAlgorithm(self.X_train, self.y_train, self.X_test, self.y_test)\n",
    "\n",
    "        # Messen der Laufzeit der fit-Funktion\n",
    "        start_time = time.time()\n",
    "        self.ta.fit()\n",
    "        end_time = time.time()\n",
    "        elapsed_time = end_time - start_time\n",
    "\n",
    "        # Legen Sie den Grenzwert fest, z.B. 120% der repräsentativen Laufzeit\n",
    "        representative_runtime = elapsed_time  # Aktualisieren Sie diesen Wert entsprechend\n",
    "        max_allowed_runtime = 1.2 * representative_runtime\n",
    "\n",
    "        # Überprüfen, ob die Laufzeit innerhalb des zulässigen Bereichs liegt\n",
    "        self.assertLessEqual(elapsed_time, max_allowed_runtime)\n",
    "\n",
    "if __name__ == '__main__':\n",
    "    unittest.main(argv=['first-arg-is-ignored'], exit=False)"
   ]
  },
  {
   "cell_type": "markdown",
   "metadata": {},
   "source": [
    "\n",
    "# Gut gemacht!"
   ]
  }
 ],
 "metadata": {
  "kernelspec": {
   "display_name": "Python 3 (ipykernel)",
   "language": "python",
   "name": "python3"
  },
  "language_info": {
   "codemirror_mode": {
    "name": "ipython",
    "version": 3
   },
   "file_extension": ".py",
   "mimetype": "text/x-python",
   "name": "python",
   "nbconvert_exporter": "python",
   "pygments_lexer": "ipython3",
   "version": "3.11.5"
  }
 },
 "nbformat": 4,
 "nbformat_minor": 2
}
